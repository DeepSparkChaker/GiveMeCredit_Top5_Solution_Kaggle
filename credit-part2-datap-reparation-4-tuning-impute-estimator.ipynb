{
 "cells": [
  {
   "cell_type": "code",
   "execution_count": 1,
   "id": "c7f05627",
   "metadata": {
    "_cell_guid": "ddedf45c-cdd2-4013-973f-6ccf6c78347a",
    "_uuid": "20c9b28e-4c93-447d-8210-cad89f404354",
    "collapsed": false,
    "execution": {
     "iopub.execute_input": "2021-12-23T17:10:33.281335Z",
     "iopub.status.busy": "2021-12-23T17:10:33.279490Z",
     "iopub.status.idle": "2021-12-23T17:10:36.777491Z",
     "shell.execute_reply": "2021-12-23T17:10:36.776778Z",
     "shell.execute_reply.started": "2021-12-22T10:39:37.888576Z"
    },
    "jupyter": {
     "outputs_hidden": false
    },
    "papermill": {
     "duration": 3.52354,
     "end_time": "2021-12-23T17:10:36.777661",
     "exception": false,
     "start_time": "2021-12-23T17:10:33.254121",
     "status": "completed"
    },
    "tags": []
   },
   "outputs": [
    {
     "data": {
      "text/html": [
       "<style type='text/css'>\n",
       ".datatable table.frame { margin-bottom: 0; }\n",
       ".datatable table.frame thead { border-bottom: none; }\n",
       ".datatable table.frame tr.coltypes td {  color: #FFFFFF;  line-height: 6px;  padding: 0 0.5em;}\n",
       ".datatable .bool    { background: #DDDD99; }\n",
       ".datatable .object  { background: #565656; }\n",
       ".datatable .int     { background: #5D9E5D; }\n",
       ".datatable .float   { background: #4040CC; }\n",
       ".datatable .str     { background: #CC4040; }\n",
       ".datatable .time    { background: #40CC40; }\n",
       ".datatable .row_index {  background: var(--jp-border-color3);  border-right: 1px solid var(--jp-border-color0);  color: var(--jp-ui-font-color3);  font-size: 9px;}\n",
       ".datatable .frame tbody td { text-align: left; }\n",
       ".datatable .frame tr.coltypes .row_index {  background: var(--jp-border-color0);}\n",
       ".datatable th:nth-child(2) { padding-left: 12px; }\n",
       ".datatable .hellipsis {  color: var(--jp-cell-editor-border-color);}\n",
       ".datatable .vellipsis {  background: var(--jp-layout-color0);  color: var(--jp-cell-editor-border-color);}\n",
       ".datatable .na {  color: var(--jp-cell-editor-border-color);  font-size: 80%;}\n",
       ".datatable .sp {  opacity: 0.25;}\n",
       ".datatable .footer { font-size: 9px; }\n",
       ".datatable .frame_dimensions {  background: var(--jp-border-color3);  border-top: 1px solid var(--jp-border-color0);  color: var(--jp-ui-font-color3);  display: inline-block;  opacity: 0.6;  padding: 1px 10px 1px 5px;}\n",
       ".datatable .frame thead tr.colnames {  background-image: url('data:image/png;base64,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');  background-repeat: repeat-x;  background-size: 14px;  height: 28px;}\n",
       "</style>\n"
      ],
      "text/plain": [
       "<IPython.core.display.HTML object>"
      ]
     },
     "metadata": {},
     "output_type": "display_data"
    }
   ],
   "source": [
    "#Load the librarys\n",
    "import pandas as pd #To work with dataset\n",
    "import numpy as np #Math library\n",
    "import matplotlib.gridspec as gridspec\n",
    "import seaborn as sns #Graph library that use matplot in background\n",
    "import matplotlib.pyplot as plt #to plot some parameters in seaborn\n",
    "import warnings\n",
    "# Preparation  \n",
    "from sklearn.preprocessing import LabelEncoder, OrdinalEncoder\n",
    "from sklearn.preprocessing import OneHotEncoder\n",
    "from sklearn.preprocessing import PowerTransformer, StandardScaler,Normalizer,RobustScaler,MaxAbsScaler,MinMaxScaler,QuantileTransformer\n",
    "from sklearn.preprocessing import FunctionTransformer\n",
    "from sklearn.preprocessing import PolynomialFeatures\n",
    "from sklearn.neighbors import KNeighborsClassifier\n",
    "from sklearn.preprocessing import KBinsDiscretizer\n",
    "# Import StandardScaler from scikit-learn\n",
    "\n",
    "from sklearn.experimental import enable_iterative_imputer\n",
    "from sklearn.impute import SimpleImputer\n",
    "from sklearn.impute import KNNImputer,IterativeImputer\n",
    "from sklearn.feature_extraction.text import CountVectorizer\n",
    "from sklearn.compose import make_column_transformer,ColumnTransformer\n",
    "from sklearn.pipeline import make_pipeline, Pipeline,FeatureUnion\n",
    "from sklearn.manifold import TSNE\n",
    "# Import train_test_split()\n",
    "# Metrics\n",
    "from sklearn.metrics import roc_auc_score, average_precision_score\n",
    "from sklearn.metrics import make_scorer\n",
    "from sklearn.metrics import mean_squared_error,mean_absolute_error\n",
    "from sklearn.metrics import roc_curve,confusion_matrix\n",
    "from datetime import datetime, date\n",
    "from sklearn.linear_model import ElasticNet, Lasso,  BayesianRidge, LassoLarsIC\n",
    "from sklearn.linear_model import LinearRegression, RidgeCV\n",
    "from sklearn.linear_model import LogisticRegression\n",
    "\n",
    "#import tensorflow as tf \n",
    "#from tensorflow.keras import layers\n",
    "#from tensorflow.keras.callbacks import EarlyStopping\n",
    "#from tensorflow.keras.callbacks import LearningRateScheduler\n",
    "#import smogn\n",
    "from sklearn.experimental import enable_hist_gradient_boosting\n",
    "from sklearn.base import BaseEstimator, TransformerMixin, RegressorMixin, clone\n",
    "from sklearn.kernel_ridge import KernelRidge\n",
    "from sklearn.ensemble import GradientBoostingRegressor,RandomForestRegressor\n",
    "from sklearn.ensemble import RandomForestClassifier\n",
    "from sklearn.ensemble import HistGradientBoostingClassifier\n",
    "# For training random forest model\n",
    "import lightgbm as lgb\n",
    "from scipy import sparse\n",
    "from sklearn.neighbors import KNeighborsRegressor \n",
    "from sklearn.decomposition import PCA\n",
    "from sklearn.cluster import KMeans \n",
    "# Model selection\n",
    "from sklearn.model_selection import StratifiedKFold\n",
    "from sklearn.feature_selection import SelectKBest\n",
    "from sklearn.feature_selection import f_regression,f_classif,chi2\n",
    "from sklearn.feature_selection import mutual_info_regression\n",
    "from sklearn.feature_selection import SelectPercentile\n",
    "from sklearn.feature_selection import mutual_info_classif,VarianceThreshold\n",
    "\n",
    "from sklearn.model_selection import train_test_split\n",
    "from sklearn.model_selection import KFold\n",
    "from sklearn.model_selection import GridSearchCV\n",
    "from sklearn.model_selection import cross_val_score\n",
    "from lightgbm import LGBMClassifier\n",
    "import lightgbm as lgbm\n",
    "#from catboost import CatBoostRegressor, CatBoostClassifier\n",
    "from sklearn.naive_bayes import GaussianNB\n",
    "from sklearn import svm\n",
    "from xgboost import XGBClassifier,XGBRegressor\n",
    "from sklearn import set_config\n",
    "from itertools import combinations\n",
    "# Cluster :\n",
    "from sklearn.cluster import MiniBatchKMeans\n",
    "#from yellowbrick.cluster import KElbowVisualizer\n",
    "#import smong \n",
    "import category_encoders as ce\n",
    "import warnings\n",
    "import optuna \n",
    "from joblib import Parallel, delayed\n",
    "import joblib \n",
    "from sklearn import set_config\n",
    "from typing import List, Optional, Union\n",
    "set_config(display='diagram')\n",
    "warnings.filterwarnings('ignore')"
   ]
  },
  {
   "cell_type": "markdown",
   "id": "66ef7ccd",
   "metadata": {
    "_cell_guid": "38c6befb-892d-4ef3-9c63-13be5959b671",
    "_uuid": "2953f9f3-02f8-4fa9-a7fc-cb93565c2183",
    "papermill": {
     "duration": 0.018794,
     "end_time": "2021-12-23T17:10:36.818891",
     "exception": false,
     "start_time": "2021-12-23T17:10:36.800097",
     "status": "completed"
    },
    "tags": []
   },
   "source": [
    "\n",
    "##  Load the data"
   ]
  },
  {
   "cell_type": "code",
   "execution_count": 2,
   "id": "ecb9ac73",
   "metadata": {
    "_cell_guid": "98a5b4a6-90e9-449d-96cc-0d85c9ff1c77",
    "_uuid": "e086592f-9f6a-4592-80b5-c1e7ad227e02",
    "collapsed": false,
    "execution": {
     "iopub.execute_input": "2021-12-23T17:10:36.859670Z",
     "iopub.status.busy": "2021-12-23T17:10:36.859036Z",
     "iopub.status.idle": "2021-12-23T17:10:37.397102Z",
     "shell.execute_reply": "2021-12-23T17:10:37.396553Z",
     "shell.execute_reply.started": "2021-12-22T10:39:37.906621Z"
    },
    "jupyter": {
     "outputs_hidden": false
    },
    "papermill": {
     "duration": 0.559606,
     "end_time": "2021-12-23T17:10:37.397246",
     "exception": false,
     "start_time": "2021-12-23T17:10:36.837640",
     "status": "completed"
    },
    "tags": []
   },
   "outputs": [
    {
     "name": "stdout",
     "output_type": "stream",
     "text": [
      "CPU times: user 267 ms, sys: 69.4 ms, total: 337 ms\n",
      "Wall time: 515 ms\n"
     ]
    },
    {
     "data": {
      "text/html": [
       "<div>\n",
       "<style scoped>\n",
       "    .dataframe tbody tr th:only-of-type {\n",
       "        vertical-align: middle;\n",
       "    }\n",
       "\n",
       "    .dataframe tbody tr th {\n",
       "        vertical-align: top;\n",
       "    }\n",
       "\n",
       "    .dataframe thead th {\n",
       "        text-align: right;\n",
       "    }\n",
       "</style>\n",
       "<table border=\"1\" class=\"dataframe\">\n",
       "  <thead>\n",
       "    <tr style=\"text-align: right;\">\n",
       "      <th></th>\n",
       "      <th>Unnamed: 0</th>\n",
       "      <th>SeriousDlqin2yrs</th>\n",
       "      <th>RevolvingUtilizationOfUnsecuredLines</th>\n",
       "      <th>age</th>\n",
       "      <th>NumberOfTime30-59DaysPastDueNotWorse</th>\n",
       "      <th>DebtRatio</th>\n",
       "      <th>MonthlyIncome</th>\n",
       "      <th>NumberOfOpenCreditLinesAndLoans</th>\n",
       "      <th>NumberOfTimes90DaysLate</th>\n",
       "      <th>NumberRealEstateLoansOrLines</th>\n",
       "      <th>NumberOfTime60-89DaysPastDueNotWorse</th>\n",
       "      <th>NumberOfDependents</th>\n",
       "    </tr>\n",
       "  </thead>\n",
       "  <tbody>\n",
       "    <tr>\n",
       "      <th>0</th>\n",
       "      <td>1</td>\n",
       "      <td>1</td>\n",
       "      <td>0.766127</td>\n",
       "      <td>45</td>\n",
       "      <td>2</td>\n",
       "      <td>0.802982</td>\n",
       "      <td>9120.0</td>\n",
       "      <td>13</td>\n",
       "      <td>0</td>\n",
       "      <td>6</td>\n",
       "      <td>0</td>\n",
       "      <td>2.0</td>\n",
       "    </tr>\n",
       "    <tr>\n",
       "      <th>1</th>\n",
       "      <td>2</td>\n",
       "      <td>0</td>\n",
       "      <td>0.957151</td>\n",
       "      <td>40</td>\n",
       "      <td>0</td>\n",
       "      <td>0.121876</td>\n",
       "      <td>2600.0</td>\n",
       "      <td>4</td>\n",
       "      <td>0</td>\n",
       "      <td>0</td>\n",
       "      <td>0</td>\n",
       "      <td>1.0</td>\n",
       "    </tr>\n",
       "    <tr>\n",
       "      <th>2</th>\n",
       "      <td>3</td>\n",
       "      <td>0</td>\n",
       "      <td>0.658180</td>\n",
       "      <td>38</td>\n",
       "      <td>1</td>\n",
       "      <td>0.085113</td>\n",
       "      <td>3042.0</td>\n",
       "      <td>2</td>\n",
       "      <td>1</td>\n",
       "      <td>0</td>\n",
       "      <td>0</td>\n",
       "      <td>0.0</td>\n",
       "    </tr>\n",
       "  </tbody>\n",
       "</table>\n",
       "</div>"
      ],
      "text/plain": [
       "   Unnamed: 0  SeriousDlqin2yrs  RevolvingUtilizationOfUnsecuredLines  age  \\\n",
       "0           1                 1                              0.766127   45   \n",
       "1           2                 0                              0.957151   40   \n",
       "2           3                 0                              0.658180   38   \n",
       "\n",
       "   NumberOfTime30-59DaysPastDueNotWorse  DebtRatio  MonthlyIncome  \\\n",
       "0                                     2   0.802982         9120.0   \n",
       "1                                     0   0.121876         2600.0   \n",
       "2                                     1   0.085113         3042.0   \n",
       "\n",
       "   NumberOfOpenCreditLinesAndLoans  NumberOfTimes90DaysLate  \\\n",
       "0                               13                        0   \n",
       "1                                4                        0   \n",
       "2                                2                        1   \n",
       "\n",
       "   NumberRealEstateLoansOrLines  NumberOfTime60-89DaysPastDueNotWorse  \\\n",
       "0                             6                                     0   \n",
       "1                             0                                     0   \n",
       "2                             0                                     0   \n",
       "\n",
       "   NumberOfDependents  \n",
       "0                 2.0  \n",
       "1                 1.0  \n",
       "2                 0.0  "
      ]
     },
     "execution_count": 2,
     "metadata": {},
     "output_type": "execute_result"
    }
   ],
   "source": [
    "%%time \n",
    "train = pd.read_csv('../input/GiveMeSomeCredit/cs-training.csv')\n",
    "test = pd.read_csv('../input/GiveMeSomeCredit/cs-test.csv')\n",
    "train.head(3)"
   ]
  },
  {
   "cell_type": "markdown",
   "id": "82904d00",
   "metadata": {
    "papermill": {
     "duration": 0.019626,
     "end_time": "2021-12-23T17:10:37.436942",
     "exception": false,
     "start_time": "2021-12-23T17:10:37.417316",
     "status": "completed"
    },
    "tags": []
   },
   "source": [
    "##  Convert Dtypes :"
   ]
  },
  {
   "cell_type": "code",
   "execution_count": 3,
   "id": "66f569f8",
   "metadata": {
    "execution": {
     "iopub.execute_input": "2021-12-23T17:10:37.493964Z",
     "iopub.status.busy": "2021-12-23T17:10:37.493222Z",
     "iopub.status.idle": "2021-12-23T17:10:37.577436Z",
     "shell.execute_reply": "2021-12-23T17:10:37.577933Z",
     "shell.execute_reply.started": "2021-12-22T10:39:38.156349Z"
    },
    "papermill": {
     "duration": 0.119765,
     "end_time": "2021-12-23T17:10:37.578122",
     "exception": false,
     "start_time": "2021-12-23T17:10:37.458357",
     "status": "completed"
    },
    "tags": []
   },
   "outputs": [],
   "source": [
    "# Convert Dtypes :\n",
    "train[train.select_dtypes(['int64','int16','float16','float32','float64','int8']).columns] = train[train.select_dtypes(['int64','int16','float16','float32','float64','int8']).columns].apply(pd.to_numeric)\n",
    "train[train.select_dtypes(['object','category']).columns] = train.select_dtypes(['object','category']).apply(lambda x: x.astype('category'))\n",
    "# Convert Dtypes :\n",
    "test[test.select_dtypes(['int64','int16','float16','float32','float64','int8']).columns] = test[test.select_dtypes(['int64','int16','float16','float32','float64','int8']).columns].apply(pd.to_numeric)\n",
    "test[test.select_dtypes(['object','category']).columns] = test.select_dtypes(['object','category']).apply(lambda x: x.astype('category'))"
   ]
  },
  {
   "cell_type": "markdown",
   "id": "4fb08493",
   "metadata": {
    "papermill": {
     "duration": 0.02009,
     "end_time": "2021-12-23T17:10:37.618276",
     "exception": false,
     "start_time": "2021-12-23T17:10:37.598186",
     "status": "completed"
    },
    "tags": []
   },
   "source": [
    "## Reduce memory"
   ]
  },
  {
   "cell_type": "code",
   "execution_count": 4,
   "id": "ad7ea8bb",
   "metadata": {
    "execution": {
     "iopub.execute_input": "2021-12-23T17:10:37.679238Z",
     "iopub.status.busy": "2021-12-23T17:10:37.678417Z",
     "iopub.status.idle": "2021-12-23T17:10:37.731217Z",
     "shell.execute_reply": "2021-12-23T17:10:37.731694Z",
     "shell.execute_reply.started": "2021-12-22T10:39:38.226808Z"
    },
    "papermill": {
     "duration": 0.092919,
     "end_time": "2021-12-23T17:10:37.731889",
     "exception": false,
     "start_time": "2021-12-23T17:10:37.638970",
     "status": "completed"
    },
    "tags": []
   },
   "outputs": [
    {
     "name": "stdout",
     "output_type": "stream",
     "text": [
      "Memory usage of dataframe is 13.73 MB\n",
      "Memory usage after optimization is: 3.29 MB\n",
      "Decreased by 76.0%\n",
      "Memory usage of dataframe is 9.29 MB\n",
      "Memory usage after optimization is: 2.90 MB\n",
      "Decreased by 68.7%\n"
     ]
    }
   ],
   "source": [
    "# Author : https://www.kaggle.com/gemartin/load-data-reduce-memory-usage\n",
    "def reduce_mem_usage(df):\n",
    "    \"\"\" iterate through all the columns of a dataframe and modify the data type\n",
    "        to reduce memory usage.        \n",
    "    \"\"\"\n",
    "    start_mem = df.memory_usage().sum() / 1024**2\n",
    "    print('Memory usage of dataframe is {:.2f} MB'.format(start_mem))\n",
    "    \n",
    "    for col in df.columns:\n",
    "        col_type = df[col].dtype\n",
    "        name =df[col].dtype.name \n",
    "        \n",
    "        if col_type != object and col_type.name != 'category':\n",
    "        #if name != \"category\":    \n",
    "            c_min = df[col].min()\n",
    "            c_max = df[col].max()\n",
    "            if str(col_type)[:3] == 'int':\n",
    "                if c_min > np.iinfo(np.int8).min and c_max < np.iinfo(np.int8).max:\n",
    "                    df[col] = df[col].astype(np.int8)\n",
    "                elif c_min > np.iinfo(np.int16).min and c_max < np.iinfo(np.int16).max:\n",
    "                    df[col] = df[col].astype(np.int16)\n",
    "                elif c_min > np.iinfo(np.int32).min and c_max < np.iinfo(np.int32).max:\n",
    "                    df[col] = df[col].astype(np.int32)\n",
    "                elif c_min > np.iinfo(np.int64).min and c_max < np.iinfo(np.int64).max:\n",
    "                    df[col] = df[col].astype(np.int64)  \n",
    "            else:\n",
    "                if c_min > np.finfo(np.float16).min and c_max < np.finfo(np.float16).max:\n",
    "                    df[col] = df[col].astype(np.float16)\n",
    "                elif c_min > np.finfo(np.float32).min and c_max < np.finfo(np.float32).max:\n",
    "                    df[col] = df[col].astype(np.float32)\n",
    "                else:\n",
    "                    df[col] = df[col].astype(np.float64)\n",
    "        else:\n",
    "            df[col] = df[col].astype('category')\n",
    "\n",
    "    end_mem = df.memory_usage().sum() / 1024**2\n",
    "    print('Memory usage after optimization is: {:.2f} MB'.format(end_mem))\n",
    "    print('Decreased by {:.1f}%'.format(100 * (start_mem - end_mem) / start_mem))\n",
    "    \n",
    "    return df\n",
    "\n",
    "train= reduce_mem_usage(train)\n",
    "test= reduce_mem_usage(test)"
   ]
  },
  {
   "cell_type": "markdown",
   "id": "67c75eaa",
   "metadata": {
    "papermill": {
     "duration": 0.019855,
     "end_time": "2021-12-23T17:10:37.773958",
     "exception": false,
     "start_time": "2021-12-23T17:10:37.754103",
     "status": "completed"
    },
    "tags": []
   },
   "source": [
    "# let's predict monthly income: \n"
   ]
  },
  {
   "cell_type": "code",
   "execution_count": 5,
   "id": "797ba742",
   "metadata": {
    "execution": {
     "iopub.execute_input": "2021-12-23T17:10:37.821969Z",
     "iopub.status.busy": "2021-12-23T17:10:37.821240Z",
     "iopub.status.idle": "2021-12-23T17:10:37.832134Z",
     "shell.execute_reply": "2021-12-23T17:10:37.832746Z",
     "shell.execute_reply.started": "2021-12-22T10:39:38.290619Z"
    },
    "papermill": {
     "duration": 0.038927,
     "end_time": "2021-12-23T17:10:37.832943",
     "exception": false,
     "start_time": "2021-12-23T17:10:37.794016",
     "status": "completed"
    },
    "tags": []
   },
   "outputs": [
    {
     "name": "stdout",
     "output_type": "stream",
     "text": [
      "CPU times: user 7.71 ms, sys: 103 µs, total: 7.81 ms\n",
      "Wall time: 7.15 ms\n"
     ]
    }
   ],
   "source": [
    "%%time \n",
    "train=train.drop(['Unnamed: 0','SeriousDlqin2yrs'], axis=1)\n",
    "test=test.drop(['Unnamed: 0','SeriousDlqin2yrs'], axis=1)"
   ]
  },
  {
   "cell_type": "code",
   "execution_count": 6,
   "id": "7512cc69",
   "metadata": {
    "execution": {
     "iopub.execute_input": "2021-12-23T17:10:37.879869Z",
     "iopub.status.busy": "2021-12-23T17:10:37.878917Z",
     "iopub.status.idle": "2021-12-23T17:10:37.906240Z",
     "shell.execute_reply": "2021-12-23T17:10:37.906911Z",
     "shell.execute_reply.started": "2021-12-22T10:39:38.304596Z"
    },
    "papermill": {
     "duration": 0.051563,
     "end_time": "2021-12-23T17:10:37.907097",
     "exception": false,
     "start_time": "2021-12-23T17:10:37.855534",
     "status": "completed"
    },
    "tags": []
   },
   "outputs": [],
   "source": [
    "train_final= pd.concat( [train, test], axis=0) \n",
    "testdf_income= train_final[train_final['MonthlyIncome'].isnull()==True]\n",
    "traindf_income = train_final[train_final['MonthlyIncome'].isnull()==False]\n",
    "y_income = traindf_income['MonthlyIncome']\n",
    "X=traindf_income.drop([\"MonthlyIncome\"],axis=1)\n",
    "X_test=testdf_income.drop([\"MonthlyIncome\"],axis=1)"
   ]
  },
  {
   "cell_type": "code",
   "execution_count": 7,
   "id": "9e5aba46",
   "metadata": {
    "execution": {
     "iopub.execute_input": "2021-12-23T17:10:37.951875Z",
     "iopub.status.busy": "2021-12-23T17:10:37.950882Z",
     "iopub.status.idle": "2021-12-23T17:10:37.959859Z",
     "shell.execute_reply": "2021-12-23T17:10:37.960404Z",
     "shell.execute_reply.started": "2021-12-22T10:39:38.33254Z"
    },
    "papermill": {
     "duration": 0.033018,
     "end_time": "2021-12-23T17:10:37.960572",
     "exception": false,
     "start_time": "2021-12-23T17:10:37.927554",
     "status": "completed"
    },
    "tags": []
   },
   "outputs": [
    {
     "data": {
      "text/plain": [
       "Index([], dtype='object')"
      ]
     },
     "execution_count": 7,
     "metadata": {},
     "output_type": "execute_result"
    }
   ],
   "source": [
    "# select non-numeric columns\n",
    "cat_columns = X.select_dtypes(exclude=['int64','int16','float16','float32','float64','int8']).columns\n",
    "cat_columns"
   ]
  },
  {
   "cell_type": "markdown",
   "id": "2adfdc7d",
   "metadata": {
    "papermill": {
     "duration": 0.020396,
     "end_time": "2021-12-23T17:10:38.001790",
     "exception": false,
     "start_time": "2021-12-23T17:10:37.981394",
     "status": "completed"
    },
    "tags": []
   },
   "source": [
    "**Num Features**\n",
    "\n"
   ]
  },
  {
   "cell_type": "code",
   "execution_count": 8,
   "id": "fb072fe0",
   "metadata": {
    "execution": {
     "iopub.execute_input": "2021-12-23T17:10:38.048136Z",
     "iopub.status.busy": "2021-12-23T17:10:38.047163Z",
     "iopub.status.idle": "2021-12-23T17:10:38.057421Z",
     "shell.execute_reply": "2021-12-23T17:10:38.058054Z",
     "shell.execute_reply.started": "2021-12-22T10:39:38.343003Z"
    },
    "papermill": {
     "duration": 0.035356,
     "end_time": "2021-12-23T17:10:38.058228",
     "exception": false,
     "start_time": "2021-12-23T17:10:38.022872",
     "status": "completed"
    },
    "tags": []
   },
   "outputs": [
    {
     "data": {
      "text/plain": [
       "Index(['RevolvingUtilizationOfUnsecuredLines', 'age',\n",
       "       'NumberOfTime30-59DaysPastDueNotWorse', 'DebtRatio',\n",
       "       'NumberOfOpenCreditLinesAndLoans', 'NumberOfTimes90DaysLate',\n",
       "       'NumberRealEstateLoansOrLines', 'NumberOfTime60-89DaysPastDueNotWorse',\n",
       "       'NumberOfDependents'],\n",
       "      dtype='object')"
      ]
     },
     "execution_count": 8,
     "metadata": {},
     "output_type": "execute_result"
    }
   ],
   "source": [
    "# select the float columns\n",
    "num_columns = X.select_dtypes(include=['int64','int16','float16','float32','float64','int8']).columns\n",
    "num_columns"
   ]
  },
  {
   "cell_type": "markdown",
   "id": "2e2284fb",
   "metadata": {
    "papermill": {
     "duration": 0.020791,
     "end_time": "2021-12-23T17:10:38.100957",
     "exception": false,
     "start_time": "2021-12-23T17:10:38.080166",
     "status": "completed"
    },
    "tags": []
   },
   "source": [
    "##  Define preprocess"
   ]
  },
  {
   "cell_type": "code",
   "execution_count": 9,
   "id": "a2b59da7",
   "metadata": {
    "execution": {
     "iopub.execute_input": "2021-12-23T17:10:38.150899Z",
     "iopub.status.busy": "2021-12-23T17:10:38.149987Z",
     "iopub.status.idle": "2021-12-23T17:10:38.152500Z",
     "shell.execute_reply": "2021-12-23T17:10:38.151983Z",
     "shell.execute_reply.started": "2021-12-22T10:39:38.35903Z"
    },
    "papermill": {
     "duration": 0.030621,
     "end_time": "2021-12-23T17:10:38.152644",
     "exception": false,
     "start_time": "2021-12-23T17:10:38.122023",
     "status": "completed"
    },
    "tags": []
   },
   "outputs": [],
   "source": [
    "#Define vnum pipeline\n",
    "numeric_transformer1 = Pipeline(\n",
    "                            steps=[\n",
    "                            ('imputer', SimpleImputer(strategy='median'\n",
    "                                                      ,add_indicator=True)),\n",
    "                            ('scaler', PowerTransformer()),#(Numerical Input, Numerical Output)\n",
    "                            # Create an SelectKBest object to select features with two best ANOVA F-Values\n",
    "                            #The F-value scores examine if, when we group the numerical feature by the target vector, the means for each group are significantly different\n",
    "                           # ('reducedim',  SelectPercentile(f_classif,percentile=90))\n",
    "                            ]\n",
    "                            )\n",
    "numeric_transformer2 = Pipeline(\n",
    "                            steps=[\n",
    "                            ('imputer', SimpleImputer(strategy='median'\n",
    "                                                      ,add_indicator=True)),\n",
    "                            ('scaler', PowerTransformer()),#(Numerical Input, Numerical Output)\n",
    "                            # Create an SelectKBest object to select features with two best ANOVA F-Values\n",
    "                            #The F-value scores examine if, when we group the numerical feature by the target vector, the means for each group are significantly different\n",
    "                           # ('reducedim',  SelectPercentile(f_classif,percentile=90))\n",
    "                            ]\n",
    "                            )"
   ]
  },
  {
   "cell_type": "code",
   "execution_count": 10,
   "id": "02aa5e9b",
   "metadata": {
    "execution": {
     "iopub.execute_input": "2021-12-23T17:10:38.205534Z",
     "iopub.status.busy": "2021-12-23T17:10:38.204534Z",
     "iopub.status.idle": "2021-12-23T17:10:40.582777Z",
     "shell.execute_reply": "2021-12-23T17:10:40.582165Z",
     "shell.execute_reply.started": "2021-12-22T10:39:38.369348Z"
    },
    "papermill": {
     "duration": 2.407888,
     "end_time": "2021-12-23T17:10:40.582949",
     "exception": false,
     "start_time": "2021-12-23T17:10:38.175061",
     "status": "completed"
    },
    "tags": []
   },
   "outputs": [],
   "source": [
    "numeric_transformer1.fit(X)\n",
    "X_pre = numeric_transformer1.transform(X)\n",
    "#X_test_pre = numeric_transformer1.transform(X_test)"
   ]
  },
  {
   "cell_type": "markdown",
   "id": "a4c28ee2",
   "metadata": {
    "papermill": {
     "duration": 0.02115,
     "end_time": "2021-12-23T17:10:40.625678",
     "exception": false,
     "start_time": "2021-12-23T17:10:40.604528",
     "status": "completed"
    },
    "tags": []
   },
   "source": [
    "## CV Design"
   ]
  },
  {
   "cell_type": "code",
   "execution_count": 11,
   "id": "9334d8e1",
   "metadata": {
    "execution": {
     "iopub.execute_input": "2021-12-23T17:10:40.674044Z",
     "iopub.status.busy": "2021-12-23T17:10:40.673166Z",
     "iopub.status.idle": "2021-12-23T17:10:40.675851Z",
     "shell.execute_reply": "2021-12-23T17:10:40.676323Z",
     "shell.execute_reply.started": "2021-12-22T10:39:40.357305Z"
    },
    "papermill": {
     "duration": 0.029562,
     "end_time": "2021-12-23T17:10:40.676497",
     "exception": false,
     "start_time": "2021-12-23T17:10:40.646935",
     "status": "completed"
    },
    "tags": []
   },
   "outputs": [],
   "source": [
    "cross_validation_design = StratifiedKFold( n_splits=5,\n",
    "                                           shuffle=True\n",
    "                                        ,random_state=1)\n",
    "cross_validation_design_regression=KFold( n_splits=7,\n",
    "                                           shuffle=True\n",
    "                                        ,random_state=1)"
   ]
  },
  {
   "cell_type": "markdown",
   "id": "d3ad00bd",
   "metadata": {
    "papermill": {
     "duration": 0.020872,
     "end_time": "2021-12-23T17:10:40.718640",
     "exception": false,
     "start_time": "2021-12-23T17:10:40.697768",
     "status": "completed"
    },
    "tags": []
   },
   "source": [
    "# Optuna"
   ]
  },
  {
   "cell_type": "code",
   "execution_count": 12,
   "id": "877314f2",
   "metadata": {
    "execution": {
     "iopub.execute_input": "2021-12-23T17:10:40.766891Z",
     "iopub.status.busy": "2021-12-23T17:10:40.765827Z",
     "iopub.status.idle": "2021-12-23T17:10:40.783296Z",
     "shell.execute_reply": "2021-12-23T17:10:40.782649Z",
     "shell.execute_reply.started": "2021-12-22T10:40:21.490663Z"
    },
    "papermill": {
     "duration": 0.043555,
     "end_time": "2021-12-23T17:10:40.783445",
     "exception": false,
     "start_time": "2021-12-23T17:10:40.739890",
     "status": "completed"
    },
    "tags": []
   },
   "outputs": [],
   "source": [
    " def objective_xgbr_income(trial,data=X_pre,target=y_income):\n",
    "    # Optuna+cv :\n",
    "    #https://www.kaggle.com/hamidrezabakhtaki/xgboost-catboost-lighgbm-optuna-final-submission\n",
    "    # https://www.kaggle.com/prashant111/lightgbm-classifier-in-python\n",
    "    # https://www.kaggle.com/tunguz/tps-09-21-histgradientboosting-with-optuna\n",
    "    X_train,X_test, y_train,  y_test = train_test_split(data, target, \n",
    "                                                        test_size=0.25,\n",
    "                                                       random_state=42,shuffle=False)\n",
    "    param = {   \"verbosity\": 0,\n",
    "                #\"objective\": \"binary:logistic\",\n",
    "                #\"eval_metric\": \"auc\",\n",
    "                'random_state': 48,\n",
    "                # regression\n",
    "                'objective':'reg:squarederror', \n",
    "                'eval_metric': 'mae',\n",
    "                #early_stopping_rounds=100 ,\n",
    "               # 'gpu_id':0, \n",
    "               # 'predictor':\"gpu_predictor\",\n",
    "                # use exact for small dataset.\n",
    "                #\"tree_method\": \"exact\",\n",
    "                # big data :\n",
    "                #'tree_method': 'gpu_hist',\n",
    "                # defines booster, gblinear for linear functions.\n",
    "                \"booster\": trial.suggest_categorical(\"booster\", [\"gbtree\", \"gblinear\", \"dart\"]),\n",
    "                # L2 regularization weight.\n",
    "                \"lambda\": trial.suggest_float(\"lambda\", 1e-8, 1.0, log=True),\n",
    "                # L1 regularization weight.\n",
    "                \"alpha\": trial.suggest_float(\"alpha\", 1e-8, 1.0, log=True),\n",
    "                # sampling ratio for training data.\n",
    "                \"subsample\": trial.suggest_float(\"subsample\", 0.2, 1.0),\n",
    "                # sampling according to each tree.\n",
    "                \"colsample_bytree\": trial.suggest_float(\"colsample_bytree\", 0.2, 1.0),\n",
    "                \"learning_rate\" : trial.suggest_float(\"learning_rate\" , 0.005 , 0.2),\n",
    "                \"n_estimators\" : trial.suggest_int(\"n_estimators\" , 1000 ,10000),\n",
    "             }\n",
    "    if param[\"booster\"] in [\"gbtree\", \"dart\"]:\n",
    "        # maximum depth of the tree, signifies complexity of the tree.\n",
    "        param[\"max_depth\"] = trial.suggest_int(\"max_depth\", 3, 9, step=2)\n",
    "        # minimum child weight, larger the term more conservative the tree.\n",
    "        param[\"min_child_weight\"] = trial.suggest_int(\"min_child_weight\", 2, 10)\n",
    "        param[\"eta\"] = trial.suggest_float(\"eta\", 1e-8, 1.0, log=True)\n",
    "        # defines how selective algorithm is.\n",
    "        param[\"gamma\"] = trial.suggest_float(\"gamma\", 1e-8, 1.0, log=True)\n",
    "        param[\"grow_policy\"] = trial.suggest_categorical(\"grow_policy\", [\"depthwise\", \"lossguide\"])\n",
    "\n",
    "    if param[\"booster\"] == \"dart\":\n",
    "        param[\"sample_type\"] = trial.suggest_categorical(\"sample_type\", [\"uniform\", \"weighted\"])\n",
    "        param[\"normalize_type\"] = trial.suggest_categorical(\"normalize_type\", [\"tree\", \"forest\"])\n",
    "        param[\"rate_drop\"] = trial.suggest_float(\"rate_drop\", 1e-8, 1.0, log=True)\n",
    "        param[\"skip_drop\"] = trial.suggest_float(\"skip_drop\", 1e-8, 1.0, log=True)\n",
    "             \n",
    "    pipe_xgbr = Pipeline(\n",
    "                    steps=[\n",
    "                        ('preprocessor', numeric_transformer1),\n",
    "                        ('classifier', XGBRegressor(\n",
    "                      #objective=\"mae\",\n",
    "                       **param))\n",
    "                    ]\n",
    "                )\n",
    "    \n",
    "    #mae =cross_val_score(pipe_xgbr, data, target,cv=cross_validation_design_regression,scoring='neg_mean_absolute_error').mean()\n",
    "    model  = XGBRegressor(\n",
    "                      #objective=\"mae\",\n",
    "                       **param)\n",
    "    \n",
    "    model.fit( X_train, y_train,\n",
    "              eval_set=[(X_test, y_test)],\n",
    "              early_stopping_rounds=50,\n",
    "              verbose=False)\n",
    "             \n",
    "    #pipeline_model_lgbm.fit(X_train,y_train)\n",
    "    #preds = model.predict_proba(X_test)[:,1]\n",
    "    y_pred= model.predict(X_test)\n",
    "    mae = mean_absolute_error(y_test, y_pred)\n",
    "    #oof[test_idx] = preds\n",
    "    #average_precesion = average_precision_score(y_true= y_test, y_score= preds)\n",
    "    return mae                "
   ]
  },
  {
   "cell_type": "code",
   "execution_count": 13,
   "id": "8b49a143",
   "metadata": {
    "execution": {
     "iopub.execute_input": "2021-12-23T17:10:40.830422Z",
     "iopub.status.busy": "2021-12-23T17:10:40.829413Z",
     "iopub.status.idle": "2021-12-23T17:10:58.709697Z",
     "shell.execute_reply": "2021-12-23T17:10:58.710635Z",
     "shell.execute_reply.started": "2021-12-22T10:40:21.508729Z"
    },
    "papermill": {
     "duration": 17.905968,
     "end_time": "2021-12-23T17:10:58.710859",
     "exception": false,
     "start_time": "2021-12-23T17:10:40.804891",
     "status": "completed"
    },
    "tags": []
   },
   "outputs": [
    {
     "name": "stderr",
     "output_type": "stream",
     "text": [
      "\u001b[32m[I 2021-12-23 17:10:40,830]\u001b[0m A new study created in memory with name: no-name-55bb99fc-66f3-4401-a7ad-d2caae10268f\u001b[0m\n",
      "\u001b[32m[I 2021-12-23 17:10:44,421]\u001b[0m Trial 0 finished with value: 2766.580810546875 and parameters: {'booster': 'gbtree', 'lambda': 0.00238488501352787, 'alpha': 1.6813977864281414e-05, 'subsample': 0.8326222301309343, 'colsample_bytree': 0.4201503484953481, 'learning_rate': 0.17654040301896085, 'n_estimators': 3255, 'max_depth': 3, 'min_child_weight': 9, 'eta': 4.736422393228843e-08, 'gamma': 0.00012834758878292415, 'grow_policy': 'depthwise'}. Best is trial 0 with value: 2766.580810546875.\u001b[0m\n",
      "\u001b[32m[I 2021-12-23 17:10:58,702]\u001b[0m Trial 1 finished with value: 3071.292724609375 and parameters: {'booster': 'dart', 'lambda': 0.0005153181960410947, 'alpha': 0.1728839851175947, 'subsample': 0.21889639174409511, 'colsample_bytree': 0.2869690790730113, 'learning_rate': 0.1247548080263241, 'n_estimators': 9089, 'max_depth': 9, 'min_child_weight': 3, 'eta': 2.364682934545983e-08, 'gamma': 0.0001893391449220508, 'grow_policy': 'lossguide', 'sample_type': 'weighted', 'normalize_type': 'forest', 'rate_drop': 1.0785596194799205e-07, 'skip_drop': 6.351042573661456e-07}. Best is trial 0 with value: 2766.580810546875.\u001b[0m\n"
     ]
    },
    {
     "name": "stdout",
     "output_type": "stream",
     "text": [
      "CPU times: user 1min 10s, sys: 96.8 ms, total: 1min 10s\n",
      "Wall time: 17.9 s\n"
     ]
    }
   ],
   "source": [
    "%%time \n",
    "study_xgbr_income = optuna.create_study(direction=\"minimize\")\n",
    "study_xgbr_income.optimize(objective_xgbr_income ,n_trials=2)"
   ]
  },
  {
   "cell_type": "code",
   "execution_count": 14,
   "id": "338c6ee4",
   "metadata": {
    "execution": {
     "iopub.execute_input": "2021-12-23T17:10:58.764877Z",
     "iopub.status.busy": "2021-12-23T17:10:58.764170Z",
     "iopub.status.idle": "2021-12-23T17:10:58.766829Z",
     "shell.execute_reply": "2021-12-23T17:10:58.767338Z",
     "shell.execute_reply.started": "2021-12-22T10:40:39.533863Z"
    },
    "papermill": {
     "duration": 0.033416,
     "end_time": "2021-12-23T17:10:58.767506",
     "exception": false,
     "start_time": "2021-12-23T17:10:58.734090",
     "status": "completed"
    },
    "tags": []
   },
   "outputs": [
    {
     "name": "stdout",
     "output_type": "stream",
     "text": [
      "Numbers of finished trials :  2\n",
      "Best Trials :  {'booster': 'gbtree', 'lambda': 0.00238488501352787, 'alpha': 1.6813977864281414e-05, 'subsample': 0.8326222301309343, 'colsample_bytree': 0.4201503484953481, 'learning_rate': 0.17654040301896085, 'n_estimators': 3255, 'max_depth': 3, 'min_child_weight': 9, 'eta': 4.736422393228843e-08, 'gamma': 0.00012834758878292415, 'grow_policy': 'depthwise'}\n",
      "Best Values :  2766.580810546875\n"
     ]
    }
   ],
   "source": [
    "print(\"Numbers of finished trials : \" , len(study_xgbr_income.trials))\n",
    "print(\"Best Trials : \", study_xgbr_income.best_trial.params)\n",
    "print(\"Best Values : \" , study_xgbr_income.best_value)"
   ]
  },
  {
   "cell_type": "code",
   "execution_count": 15,
   "id": "1e0c25c8",
   "metadata": {
    "execution": {
     "iopub.execute_input": "2021-12-23T17:10:58.817246Z",
     "iopub.status.busy": "2021-12-23T17:10:58.815839Z",
     "iopub.status.idle": "2021-12-23T17:10:58.819295Z",
     "shell.execute_reply": "2021-12-23T17:10:58.819815Z",
     "shell.execute_reply.started": "2021-12-22T10:40:39.545298Z"
    },
    "papermill": {
     "duration": 0.029415,
     "end_time": "2021-12-23T17:10:58.819994",
     "exception": false,
     "start_time": "2021-12-23T17:10:58.790579",
     "status": "completed"
    },
    "tags": []
   },
   "outputs": [],
   "source": [
    "#testdf_NumberOfDependents= train_final[train_final['NumberOfDependents'].isnull()==True]\n",
    "#traindf_NumberOfDependents = train_final[train_final['NumberOfDependents'].isnull()==False]\n",
    "#y_NumberOfDependents = traindf_NumberOfDependents['NumberOfDependents']\n",
    "#traindf_NumberOfDependents.drop(\"NumberOfDependents\",axis=1,inplace=True)"
   ]
  },
  {
   "cell_type": "code",
   "execution_count": 16,
   "id": "f3c3880f",
   "metadata": {
    "execution": {
     "iopub.execute_input": "2021-12-23T17:10:58.871405Z",
     "iopub.status.busy": "2021-12-23T17:10:58.870634Z",
     "iopub.status.idle": "2021-12-23T17:10:58.873946Z",
     "shell.execute_reply": "2021-12-23T17:10:58.874481Z",
     "shell.execute_reply.started": "2021-12-22T10:40:39.554221Z"
    },
    "papermill": {
     "duration": 0.02952,
     "end_time": "2021-12-23T17:10:58.874667",
     "exception": false,
     "start_time": "2021-12-23T17:10:58.845147",
     "status": "completed"
    },
    "tags": []
   },
   "outputs": [],
   "source": [
    "# Save the predictions to a CSV file\n",
    "#sub = pd.read_csv('../input/GiveMeSomeCredit/sampleEntry.csv')\n",
    "#sub['Probability']=predictions\n",
    "#sub.to_csv('pipe_lgbm_catboost_qauntile_new.csv', index=False)\n",
    "#sub"
   ]
  }
 ],
 "metadata": {
  "kernelspec": {
   "display_name": "Python 3",
   "language": "python",
   "name": "python3"
  },
  "language_info": {
   "codemirror_mode": {
    "name": "ipython",
    "version": 3
   },
   "file_extension": ".py",
   "mimetype": "text/x-python",
   "name": "python",
   "nbconvert_exporter": "python",
   "pygments_lexer": "ipython3",
   "version": "3.7.12"
  },
  "papermill": {
   "default_parameters": {},
   "duration": 36.75414,
   "end_time": "2021-12-23T17:10:59.807879",
   "environment_variables": {},
   "exception": null,
   "input_path": "__notebook__.ipynb",
   "output_path": "__notebook__.ipynb",
   "parameters": {},
   "start_time": "2021-12-23T17:10:23.053739",
   "version": "2.3.3"
  }
 },
 "nbformat": 4,
 "nbformat_minor": 5
}
