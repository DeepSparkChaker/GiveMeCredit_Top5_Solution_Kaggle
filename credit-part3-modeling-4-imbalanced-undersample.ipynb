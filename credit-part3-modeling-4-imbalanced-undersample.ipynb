{
 "cells": [
  {
   "attachments": {
    "5c8cb5d2-3b60-4e40-b35d-568b7f4877da.png": {
     "image/png": "[encoded data removed]"
    }
   },
   "cell_type": "markdown",
   "id": "696cffc3",
   "metadata": {
    "papermill": {
     "duration": 0.056674,
     "end_time": "2022-01-03T14:47:47.455680",
     "exception": false,
     "start_time": "2022-01-03T14:47:47.399006",
     "status": "completed"
    },
    "tags": []
   },
   "source": [
    "In this notebook, we will use the imbalanced-learn pipeline, to set up various under-sampling solutions, in a way that we train the model on re-sampled data, but we evaluate performance on non resampled data.\n",
    "\n",
    "![image.png](attachment:5c8cb5d2-3b60-4e40-b35d-568b7f4877da.png)"
   ]
  },
  {
   "cell_type": "code",
   "execution_count": 1,
   "id": "dc9b6a13",
   "metadata": {
    "_cell_guid": "ddedf45c-cdd2-4013-973f-6ccf6c78347a",
    "_uuid": "20c9b28e-4c93-447d-8210-cad89f404354",
    "collapsed": false,
    "execution": {
     "iopub.execute_input": "2022-01-03T14:47:47.566820Z",
     "iopub.status.busy": "2022-01-03T14:47:47.565973Z",
     "iopub.status.idle": "2022-01-03T14:47:51.221904Z",
     "shell.execute_reply": "2022-01-03T14:47:51.220920Z",
     "shell.execute_reply.started": "2022-01-03T13:06:45.183250Z"
    },
    "jupyter": {
     "outputs_hidden": false
    },
    "papermill": {
     "duration": 3.710295,
     "end_time": "2022-01-03T14:47:51.222061",
     "exception": false,
     "start_time": "2022-01-03T14:47:47.511766",
     "status": "completed"
    },
    "tags": []
   },
   "outputs": [
    {
     "data": {
      "text/html": [
       "<style type='text/css'>\n",
       ".datatable table.frame { margin-bottom: 0; }\n",
       ".datatable table.frame thead { border-bottom: none; }\n",
       ".datatable table.frame tr.coltypes td {  color: #FFFFFF;  line-height: 6px;  padding: 0 0.5em;}\n",
       ".datatable .bool    { background: #DDDD99; }\n",
       ".datatable .object  { background: #565656; }\n",
       ".datatable .int     { background: #5D9E5D; }\n",
       ".datatable .float   { background: #4040CC; }\n",
       ".datatable .str     { background: #CC4040; }\n",
       ".datatable .time    { background: #40CC40; }\n",
       ".datatable .row_index {  background: var(--jp-border-color3);  border-right: 1px solid var(--jp-border-color0);  color: var(--jp-ui-font-color3);  font-size: 9px;}\n",
       ".datatable .frame tbody td { text-align: left; }\n",
       ".datatable .frame tr.coltypes .row_index {  background: var(--jp-border-color0);}\n",
       ".datatable th:nth-child(2) { padding-left: 12px; }\n",
       ".datatable .hellipsis {  color: var(--jp-cell-editor-border-color);}\n",
       ".datatable .vellipsis {  background: var(--jp-layout-color0);  color: var(--jp-cell-editor-border-color);}\n",
       ".datatable .na {  color: var(--jp-cell-editor-border-color);  font-size: 80%;}\n",
       ".datatable .sp {  opacity: 0.25;}\n",
       ".datatable .footer { font-size: 9px; }\n",
       ".datatable .frame_dimensions {  background: var(--jp-border-color3);  border-top: 1px solid var(--jp-border-color0);  color: var(--jp-ui-font-color3);  display: inline-block;  opacity: 0.6;  padding: 1px 10px 1px 5px;}\n",
       "</style>\n"
      ],
      "text/plain": [
       "<IPython.core.display.HTML object>"
      ]
     },
     "metadata": {},
     "output_type": "display_data"
    }
   ],
   "source": [
    "#Load the librarys\n",
    "import pandas as pd #To work with dataset\n",
    "import numpy as np #Math library\n",
    "import matplotlib.gridspec as gridspec\n",
    "import seaborn as sns #Graph library that use matplot in background\n",
    "import matplotlib.pyplot as plt #to plot some parameters in seaborn\n",
    "import warnings\n",
    "# Preparation  \n",
    "from sklearn.preprocessing import LabelEncoder, OrdinalEncoder\n",
    "from sklearn.preprocessing import OneHotEncoder\n",
    "from sklearn.preprocessing import PowerTransformer, StandardScaler,Normalizer,RobustScaler,MaxAbsScaler,MinMaxScaler,QuantileTransformer\n",
    "from sklearn.preprocessing import FunctionTransformer\n",
    "from sklearn.preprocessing import PolynomialFeatures\n",
    "from sklearn.neighbors import KNeighborsClassifier\n",
    "from sklearn.preprocessing import KBinsDiscretizer\n",
    "# Import StandardScaler from scikit-learn\n",
    "from sklearn.experimental import enable_iterative_imputer\n",
    "from sklearn.impute import SimpleImputer\n",
    "from sklearn.impute import KNNImputer,IterativeImputer\n",
    "from sklearn.feature_extraction.text import CountVectorizer\n",
    "from sklearn.compose import make_column_transformer,ColumnTransformer\n",
    "from sklearn.pipeline import make_pipeline, Pipeline,FeatureUnion\n",
    "from sklearn.manifold import TSNE\n",
    "# Import train_test_split()\n",
    "# Metrics\n",
    "from sklearn.metrics import roc_auc_score, average_precision_score,recall_score\n",
    "from sklearn.metrics import make_scorer,mean_absolute_error\n",
    "from sklearn.metrics import mean_squared_error,classification_report,f1_score\n",
    "from sklearn.metrics import roc_curve,confusion_matrix\n",
    "from yellowbrick.classifier import (\n",
    "    ClassificationReport,\n",
    "    DiscriminationThreshold,\n",
    ")\n",
    "from datetime import datetime, date\n",
    "from sklearn.linear_model import ElasticNet, Lasso,  BayesianRidge, LassoLarsIC\n",
    "from sklearn.linear_model import LinearRegression, RidgeCV\n",
    "from sklearn.linear_model import LogisticRegression\n",
    "\n",
    "#import tensorflow as tf \n",
    "#from tensorflow.keras import layers\n",
    "#from tensorflow.keras.callbacks import EarlyStopping\n",
    "#from tensorflow.keras.callbacks import LearningRateScheduler\n",
    "#import smogn\n",
    "from sklearn.experimental import enable_hist_gradient_boosting\n",
    "from sklearn.base import BaseEstimator, TransformerMixin, RegressorMixin, clone,ClassifierMixin\n",
    "from sklearn.kernel_ridge import KernelRidge\n",
    "from sklearn.ensemble import GradientBoostingRegressor,RandomForestRegressor\n",
    "from sklearn.ensemble import RandomForestClassifier\n",
    "from sklearn.ensemble import HistGradientBoostingClassifier\n",
    "# For training random forest model\n",
    "import lightgbm as lgb\n",
    "from scipy import sparse\n",
    "from sklearn.neighbors import KNeighborsRegressor \n",
    "from sklearn.decomposition import PCA\n",
    "from sklearn.cluster import KMeans\n",
    "from yellowbrick.cluster import KElbowVisualizer\n",
    "# Model selection\n",
    "from sklearn.model_selection import StratifiedKFold\n",
    "from sklearn.feature_selection import SelectKBest\n",
    "from sklearn.feature_selection import f_regression,f_classif,chi2\n",
    "from sklearn.feature_selection import mutual_info_regression\n",
    "from sklearn.feature_selection import SelectPercentile\n",
    "from sklearn.feature_selection import mutual_info_classif,VarianceThreshold\n",
    "\n",
    "from sklearn.model_selection import train_test_split,cross_validate\n",
    "from sklearn.model_selection import KFold\n",
    "from sklearn.model_selection import GridSearchCV\n",
    "from sklearn.model_selection import cross_val_score\n",
    "# Imbalanced data \n",
    "from imblearn.datasets import fetch_datasets\n",
    "# to correctly set up the cross-validation\n",
    "from imblearn.pipeline import make_pipeline\n",
    "from imblearn.under_sampling import (\n",
    "    RandomUnderSampler,\n",
    "    CondensedNearestNeighbour,\n",
    "    TomekLinks,\n",
    "    OneSidedSelection,\n",
    "    EditedNearestNeighbours,\n",
    "    RepeatedEditedNearestNeighbours,\n",
    "    AllKNN,\n",
    "    NeighbourhoodCleaningRule,\n",
    "    NearMiss,\n",
    "    InstanceHardnessThreshold\n",
    ")\n",
    "\n",
    "from lightgbm import LGBMClassifier\n",
    "import lightgbm as lgbm\n",
    "from catboost import CatBoostRegressor, CatBoostClassifier\n",
    "from sklearn.naive_bayes import GaussianNB\n",
    "from sklearn import svm\n",
    "from xgboost import XGBClassifier,XGBRegressor\n",
    "from sklearn import set_config\n",
    "from itertools import combinations\n",
    "# Cluster :\n",
    "from sklearn.cluster import MiniBatchKMeans\n",
    "#from yellowbrick.cluster import KElbowVisualizer\n",
    "#import smong \n",
    "import category_encoders as ce\n",
    "import warnings\n",
    "#import optuna \n",
    "from joblib import Parallel, delayed\n",
    "import joblib \n",
    "from sklearn import set_config\n",
    "from typing import List, Optional, Union\n",
    "set_config(display='diagram')\n",
    "warnings.filterwarnings('ignore')"
   ]
  },
  {
   "cell_type": "markdown",
   "id": "2f4d5b93",
   "metadata": {
    "_cell_guid": "38c6befb-892d-4ef3-9c63-13be5959b671",
    "_uuid": "2953f9f3-02f8-4fa9-a7fc-cb93565c2183",
    "papermill": {
     "duration": 0.034803,
     "end_time": "2022-01-03T14:47:51.290762",
     "exception": false,
     "start_time": "2022-01-03T14:47:51.255959",
     "status": "completed"
    },
    "tags": []
   },
   "source": [
    "\n",
    "# Load the data"
   ]
  },
  {
   "cell_type": "code",
   "execution_count": 2,
   "id": "f0c4d36d",
   "metadata": {
    "_cell_guid": "98a5b4a6-90e9-449d-96cc-0d85c9ff1c77",
    "_uuid": "e086592f-9f6a-4592-80b5-c1e7ad227e02",
    "collapsed": false,
    "execution": {
     "iopub.execute_input": "2022-01-03T14:47:51.361935Z",
     "iopub.status.busy": "2022-01-03T14:47:51.361431Z",
     "iopub.status.idle": "2022-01-03T14:47:51.778362Z",
     "shell.execute_reply": "2022-01-03T14:47:51.777876Z",
     "shell.execute_reply.started": "2022-01-03T13:06:48.966556Z"
    },
    "jupyter": {
     "outputs_hidden": false
    },
    "papermill": {
     "duration": 0.454453,
     "end_time": "2022-01-03T14:47:51.778538",
     "exception": false,
     "start_time": "2022-01-03T14:47:51.324085",
     "status": "completed"
    },
    "tags": []
   },
   "outputs": [
    {
     "name": "stdout",
     "output_type": "stream",
     "text": [
      "CPU times: user 208 ms, sys: 52.3 ms, total: 261 ms\n",
      "Wall time: 397 ms\n"
     ]
    },
    {
     "data": {
      "text/html": [
       "<div>\n",
       "<style scoped>\n",
       "    .dataframe tbody tr th:only-of-type {\n",
       "        vertical-align: middle;\n",
       "    }\n",
       "\n",
       "    .dataframe tbody tr th {\n",
       "        vertical-align: top;\n",
       "    }\n",
       "\n",
       "    .dataframe thead th {\n",
       "        text-align: right;\n",
       "    }\n",
       "</style>\n",
       "<table border=\"1\" class=\"dataframe\">\n",
       "  <thead>\n",
       "    <tr style=\"text-align: right;\">\n",
       "      <th></th>\n",
       "      <th>Unnamed: 0</th>\n",
       "      <th>SeriousDlqin2yrs</th>\n",
       "      <th>RevolvingUtilizationOfUnsecuredLines</th>\n",
       "      <th>age</th>\n",
       "      <th>NumberOfTime30-59DaysPastDueNotWorse</th>\n",
       "      <th>DebtRatio</th>\n",
       "      <th>MonthlyIncome</th>\n",
       "      <th>NumberOfOpenCreditLinesAndLoans</th>\n",
       "      <th>NumberOfTimes90DaysLate</th>\n",
       "      <th>NumberRealEstateLoansOrLines</th>\n",
       "      <th>NumberOfTime60-89DaysPastDueNotWorse</th>\n",
       "      <th>NumberOfDependents</th>\n",
       "    </tr>\n",
       "  </thead>\n",
       "  <tbody>\n",
       "    <tr>\n",
       "      <th>0</th>\n",
       "      <td>1</td>\n",
       "      <td>1</td>\n",
       "      <td>0.766127</td>\n",
       "      <td>45</td>\n",
       "      <td>2</td>\n",
       "      <td>0.802982</td>\n",
       "      <td>9120.0</td>\n",
       "      <td>13</td>\n",
       "      <td>0</td>\n",
       "      <td>6</td>\n",
       "      <td>0</td>\n",
       "      <td>2.0</td>\n",
       "    </tr>\n",
       "    <tr>\n",
       "      <th>1</th>\n",
       "      <td>2</td>\n",
       "      <td>0</td>\n",
       "      <td>0.957151</td>\n",
       "      <td>40</td>\n",
       "      <td>0</td>\n",
       "      <td>0.121876</td>\n",
       "      <td>2600.0</td>\n",
       "      <td>4</td>\n",
       "      <td>0</td>\n",
       "      <td>0</td>\n",
       "      <td>0</td>\n",
       "      <td>1.0</td>\n",
       "    </tr>\n",
       "    <tr>\n",
       "      <th>2</th>\n",
       "      <td>3</td>\n",
       "      <td>0</td>\n",
       "      <td>0.658180</td>\n",
       "      <td>38</td>\n",
       "      <td>1</td>\n",
       "      <td>0.085113</td>\n",
       "      <td>3042.0</td>\n",
       "      <td>2</td>\n",
       "      <td>1</td>\n",
       "      <td>0</td>\n",
       "      <td>0</td>\n",
       "      <td>0.0</td>\n",
       "    </tr>\n",
       "  </tbody>\n",
       "</table>\n",
       "</div>"
      ],
      "text/plain": [
       "   Unnamed: 0  SeriousDlqin2yrs  RevolvingUtilizationOfUnsecuredLines  age  \\\n",
       "0           1                 1                              0.766127   45   \n",
       "1           2                 0                              0.957151   40   \n",
       "2           3                 0                              0.658180   38   \n",
       "\n",
       "   NumberOfTime30-59DaysPastDueNotWorse  DebtRatio  MonthlyIncome  \\\n",
       "0                                     2   0.802982         9120.0   \n",
       "1                                     0   0.121876         2600.0   \n",
       "2                                     1   0.085113         3042.0   \n",
       "\n",
       "   NumberOfOpenCreditLinesAndLoans  NumberOfTimes90DaysLate  \\\n",
       "0                               13                        0   \n",
       "1                                4                        0   \n",
       "2                                2                        1   \n",
       "\n",
       "   NumberRealEstateLoansOrLines  NumberOfTime60-89DaysPastDueNotWorse  \\\n",
       "0                             6                                     0   \n",
       "1                             0                                     0   \n",
       "2                             0                                     0   \n",
       "\n",
       "   NumberOfDependents  \n",
       "0                 2.0  \n",
       "1                 1.0  \n",
       "2                 0.0  "
      ]
     },
     "execution_count": 2,
     "metadata": {},
     "output_type": "execute_result"
    }
   ],
   "source": [
    "%%time \n",
    "train = pd.read_csv('../input/GiveMeSomeCredit/cs-training.csv')\n",
    "test = pd.read_csv('../input/GiveMeSomeCredit/cs-test.csv')\n",
    "train.head(3)"
   ]
  },
  {
   "cell_type": "markdown",
   "id": "25d6bbdd",
   "metadata": {
    "papermill": {
     "duration": 0.033821,
     "end_time": "2022-01-03T14:47:51.847085",
     "exception": false,
     "start_time": "2022-01-03T14:47:51.813264",
     "status": "completed"
    },
    "tags": []
   },
   "source": [
    "# 1-Preprocessing"
   ]
  },
  {
   "cell_type": "markdown",
   "id": "f4b2442f",
   "metadata": {
    "papermill": {
     "duration": 0.033517,
     "end_time": "2022-01-03T14:47:51.915911",
     "exception": false,
     "start_time": "2022-01-03T14:47:51.882394",
     "status": "completed"
    },
    "tags": []
   },
   "source": [
    "## Convert Dtypes :"
   ]
  },
  {
   "cell_type": "code",
   "execution_count": 3,
   "id": "6f06a453",
   "metadata": {
    "execution": {
     "iopub.execute_input": "2022-01-03T14:47:52.008852Z",
     "iopub.status.busy": "2022-01-03T14:47:52.007349Z",
     "iopub.status.idle": "2022-01-03T14:47:52.062531Z",
     "shell.execute_reply": "2022-01-03T14:47:52.061606Z",
     "shell.execute_reply.started": "2022-01-03T13:06:49.419756Z"
    },
    "papermill": {
     "duration": 0.112897,
     "end_time": "2022-01-03T14:47:52.062676",
     "exception": false,
     "start_time": "2022-01-03T14:47:51.949779",
     "status": "completed"
    },
    "tags": []
   },
   "outputs": [],
   "source": [
    "# Convert Dtypes :\n",
    "train[train.select_dtypes(['int64','int16','float16','float32','float64','int8']).columns] = train[train.select_dtypes(['int64','int16','float16','float32','float64','int8']).columns].apply(pd.to_numeric)\n",
    "train[train.select_dtypes(['object','category']).columns] = train.select_dtypes(['object','category']).apply(lambda x: x.astype('category'))\n",
    "# Convert Dtypes :\n",
    "test[test.select_dtypes(['int64','int16','float16','float32','float64','int8']).columns] = test[test.select_dtypes(['int64','int16','float16','float32','float64','int8']).columns].apply(pd.to_numeric)\n",
    "test[test.select_dtypes(['object','category']).columns] = test.select_dtypes(['object','category']).apply(lambda x: x.astype('category'))"
   ]
  },
  {
   "cell_type": "markdown",
   "id": "21fd0f0d",
   "metadata": {
    "papermill": {
     "duration": 0.033688,
     "end_time": "2022-01-03T14:47:52.131443",
     "exception": false,
     "start_time": "2022-01-03T14:47:52.097755",
     "status": "completed"
    },
    "tags": []
   },
   "source": [
    "# Imbalanced target\n",
    "\n"
   ]
  },
  {
   "cell_type": "code",
   "execution_count": 4,
   "id": "5b6c2b47",
   "metadata": {
    "execution": {
     "iopub.execute_input": "2022-01-03T14:47:52.206493Z",
     "iopub.status.busy": "2022-01-03T14:47:52.205755Z",
     "iopub.status.idle": "2022-01-03T14:47:52.208597Z",
     "shell.execute_reply": "2022-01-03T14:47:52.208999Z",
     "shell.execute_reply.started": "2022-01-03T13:06:49.528382Z"
    },
    "papermill": {
     "duration": 0.043779,
     "end_time": "2022-01-03T14:47:52.209117",
     "exception": false,
     "start_time": "2022-01-03T14:47:52.165338",
     "status": "completed"
    },
    "tags": []
   },
   "outputs": [
    {
     "data": {
      "text/plain": [
       "0    0.93316\n",
       "1    0.06684\n",
       "Name: SeriousDlqin2yrs, dtype: float64"
      ]
     },
     "execution_count": 4,
     "metadata": {},
     "output_type": "execute_result"
    }
   ],
   "source": [
    "train.SeriousDlqin2yrs.value_counts() / len(train)"
   ]
  },
  {
   "cell_type": "code",
   "execution_count": 5,
   "id": "5358711b",
   "metadata": {
    "execution": {
     "iopub.execute_input": "2022-01-03T14:47:52.282030Z",
     "iopub.status.busy": "2022-01-03T14:47:52.281196Z",
     "iopub.status.idle": "2022-01-03T14:47:52.475514Z",
     "shell.execute_reply": "2022-01-03T14:47:52.474794Z"
    },
    "papermill": {
     "duration": 0.232188,
     "end_time": "2022-01-03T14:47:52.475645",
     "exception": false,
     "start_time": "2022-01-03T14:47:52.243457",
     "status": "completed"
    },
    "tags": []
   },
   "outputs": [
    {
     "data": {
      "image/png": "[encoded data removed]",
      "text/plain": [
       "<Figure size 576x396 with 1 Axes>"
      ]
     },
     "metadata": {},
     "output_type": "display_data"
    }
   ],
   "source": [
    "# visualize the target variable\n",
    "g = sns.countplot(train['SeriousDlqin2yrs'])\n",
    "g.set_xticklabels(['Pay','Not Pay'])\n",
    "plt.show()"
   ]
  },
  {
   "cell_type": "markdown",
   "id": "3e75dd6e",
   "metadata": {
    "papermill": {
     "duration": 0.036188,
     "end_time": "2022-01-03T14:47:52.549128",
     "exception": false,
     "start_time": "2022-01-03T14:47:52.512940",
     "status": "completed"
    },
    "tags": []
   },
   "source": [
    "## Reduce Memory"
   ]
  },
  {
   "cell_type": "code",
   "execution_count": 6,
   "id": "eecf8daa",
   "metadata": {
    "execution": {
     "iopub.execute_input": "2022-01-03T14:47:52.635759Z",
     "iopub.status.busy": "2022-01-03T14:47:52.634334Z",
     "iopub.status.idle": "2022-01-03T14:47:52.675171Z",
     "shell.execute_reply": "2022-01-03T14:47:52.675740Z",
     "shell.execute_reply.started": "2022-01-03T13:06:49.549523Z"
    },
    "papermill": {
     "duration": 0.091961,
     "end_time": "2022-01-03T14:47:52.675931",
     "exception": false,
     "start_time": "2022-01-03T14:47:52.583970",
     "status": "completed"
    },
    "tags": []
   },
   "outputs": [
    {
     "name": "stdout",
     "output_type": "stream",
     "text": [
      "Memory usage of dataframe is 13.73 MB\n",
      "Memory usage after optimization is: 3.29 MB\n",
      "Decreased by 76.0%\n",
      "Memory usage of dataframe is 9.29 MB\n",
      "Memory usage after optimization is: 2.90 MB\n",
      "Decreased by 68.7%\n"
     ]
    }
   ],
   "source": [
    "# Author : https://www.kaggle.com/gemartin/load-data-reduce-memory-usage\n",
    "def reduce_mem_usage(df):\n",
    "    \"\"\" iterate through all the columns of a dataframe and modify the data type\n",
    "        to reduce memory usage.        \n",
    "    \"\"\"\n",
    "    start_mem = df.memory_usage().sum() / 1024**2\n",
    "    print('Memory usage of dataframe is {:.2f} MB'.format(start_mem))\n",
    "    \n",
    "    for col in df.columns:\n",
    "        col_type = df[col].dtype\n",
    "        name =df[col].dtype.name \n",
    "        \n",
    "        if col_type != object and col_type.name != 'category':\n",
    "        #if name != \"category\":    \n",
    "            c_min = df[col].min()\n",
    "            c_max = df[col].max()\n",
    "            if str(col_type)[:3] == 'int':\n",
    "                if c_min > np.iinfo(np.int8).min and c_max < np.iinfo(np.int8).max:\n",
    "                    df[col] = df[col].astype(np.int8)\n",
    "                elif c_min > np.iinfo(np.int16).min and c_max < np.iinfo(np.int16).max:\n",
    "                    df[col] = df[col].astype(np.int16)\n",
    "                elif c_min > np.iinfo(np.int32).min and c_max < np.iinfo(np.int32).max:\n",
    "                    df[col] = df[col].astype(np.int32)\n",
    "                elif c_min > np.iinfo(np.int64).min and c_max < np.iinfo(np.int64).max:\n",
    "                    df[col] = df[col].astype(np.int64)  \n",
    "            else:\n",
    "                if c_min > np.finfo(np.float16).min and c_max < np.finfo(np.float16).max:\n",
    "                    df[col] = df[col].astype(np.float16)\n",
    "                elif c_min > np.finfo(np.float32).min and c_max < np.finfo(np.float32).max:\n",
    "                    df[col] = df[col].astype(np.float32)\n",
    "                else:\n",
    "                    df[col] = df[col].astype(np.float64)\n",
    "        else:\n",
    "            df[col] = df[col].astype('category')\n",
    "\n",
    "    end_mem = df.memory_usage().sum() / 1024**2\n",
    "    print('Memory usage after optimization is: {:.2f} MB'.format(end_mem))\n",
    "    print('Decreased by {:.1f}%'.format(100 * (start_mem - end_mem) / start_mem))\n",
    "    \n",
    "    return df\n",
    "train= reduce_mem_usage(train)\n",
    "test= reduce_mem_usage(test)"
   ]
  },
  {
   "cell_type": "markdown",
   "id": "2b05b58c",
   "metadata": {
    "papermill": {
     "duration": 0.035333,
     "end_time": "2022-01-03T14:47:52.747440",
     "exception": false,
     "start_time": "2022-01-03T14:47:52.712107",
     "status": "completed"
    },
    "tags": []
   },
   "source": [
    "## X and Y"
   ]
  },
  {
   "cell_type": "code",
   "execution_count": 7,
   "id": "8836ce96",
   "metadata": {
    "execution": {
     "iopub.execute_input": "2022-01-03T14:47:52.823556Z",
     "iopub.status.busy": "2022-01-03T14:47:52.822992Z",
     "iopub.status.idle": "2022-01-03T14:47:52.826426Z",
     "shell.execute_reply": "2022-01-03T14:47:52.826838Z",
     "shell.execute_reply.started": "2022-01-03T13:06:49.636011Z"
    },
    "papermill": {
     "duration": 0.044186,
     "end_time": "2022-01-03T14:47:52.826986",
     "exception": false,
     "start_time": "2022-01-03T14:47:52.782800",
     "status": "completed"
    },
    "tags": []
   },
   "outputs": [],
   "source": [
    "# Cardinality : \n",
    "# - RevolvingUtilizationOfUnsecuredLines :125728, high Outlier\n",
    "# - DebtRatio :114194 , high Outlier \n",
    "# deal with outlier + bin \n",
    "PERCENTAGE = [\"RevolvingUtilizationOfUnsecuredLines\", \"DebtRatio\"]\n",
    "# MonthlyIncome:13594 , high outlier +bin \n",
    "REAL= [\"MonthlyIncome\"]\n",
    "# Can be considred as cat \n",
    "NUMERIC_DISCRET_low = [\"NumberOfDependents\",\n",
    "                       \"NumberOfTime60-89DaysPastDueNotWorse\",\n",
    "                       \"NumberRealEstateLoansOrLines\",\n",
    "                       \"NumberOfTimes90DaysLate\",\n",
    "                       \"NumberOfOpenCreditLinesAndLoans\",\n",
    "                       \"NumberOfTime30-59DaysPastDueNotWorse\",\n",
    "                       \"age\"]\n",
    "Late_Pay_Cols = ['NumberOfTime30-59DaysPastDueNotWorse',\n",
    "                 'NumberOfTimes90DaysLate',\n",
    "                 'NumberOfTime60-89DaysPastDueNotWorse']\n",
    "TARGET = [\"SeriousDlqin2yrs\"]\n",
    "\n",
    "#also change the type for TARGET to categorical\n",
    "#df[TARGET] = df[TARGET].astype('category')"
   ]
  },
  {
   "cell_type": "code",
   "execution_count": 8,
   "id": "4d51ee47",
   "metadata": {
    "execution": {
     "iopub.execute_input": "2022-01-03T14:47:52.902316Z",
     "iopub.status.busy": "2022-01-03T14:47:52.901599Z",
     "iopub.status.idle": "2022-01-03T14:47:52.904126Z",
     "shell.execute_reply": "2022-01-03T14:47:52.903706Z",
     "shell.execute_reply.started": "2022-01-03T13:06:49.650525Z"
    },
    "papermill": {
     "duration": 0.041281,
     "end_time": "2022-01-03T14:47:52.904231",
     "exception": false,
     "start_time": "2022-01-03T14:47:52.862950",
     "status": "completed"
    },
    "tags": []
   },
   "outputs": [],
   "source": [
    "y = train['SeriousDlqin2yrs']"
   ]
  },
  {
   "cell_type": "markdown",
   "id": "a5dcd062",
   "metadata": {
    "papermill": {
     "duration": 0.034849,
     "end_time": "2022-01-03T14:47:52.974030",
     "exception": false,
     "start_time": "2022-01-03T14:47:52.939181",
     "status": "completed"
    },
    "tags": []
   },
   "source": [
    "## Imput before Descritaziation : \n",
    "\n",
    "### IterativeImputer\n"
   ]
  },
  {
   "cell_type": "code",
   "execution_count": 9,
   "id": "1b9d12ea",
   "metadata": {
    "execution": {
     "iopub.execute_input": "2022-01-03T14:47:53.054796Z",
     "iopub.status.busy": "2022-01-03T14:47:53.054000Z",
     "iopub.status.idle": "2022-01-03T14:47:53.056739Z",
     "shell.execute_reply": "2022-01-03T14:47:53.057324Z",
     "shell.execute_reply.started": "2022-01-03T13:06:49.662762Z"
    },
    "papermill": {
     "duration": 0.04802,
     "end_time": "2022-01-03T14:47:53.057486",
     "exception": false,
     "start_time": "2022-01-03T14:47:53.009466",
     "status": "completed"
    },
    "tags": []
   },
   "outputs": [
    {
     "name": "stdout",
     "output_type": "stream",
     "text": [
      "CPU times: user 347 µs, sys: 49 µs, total: 396 µs\n",
      "Wall time: 371 µs\n"
     ]
    }
   ],
   "source": [
    "%%time \n",
    "param =  {   \"verbosity\": 0,\n",
    "            #\"objective\": \"binary:logistic\",\n",
    "            #\"eval_metric\": \"auc\",\n",
    "            'random_state': 42,\n",
    "            # regression\n",
    "            'objective':'reg:squarederror', \n",
    "             'eval_metric': 'mae',\n",
    "            #early_stopping_rounds=100 ,\n",
    "            'gpu_id':0, \n",
    "            'predictor':\"gpu_predictor\",\n",
    "            # use exact for small dataset.\n",
    "            #\"tree_method\": \"exact\",\n",
    "            # big data :\n",
    "             'tree_method': 'gpu_hist',\n",
    "            # defines booster, gblinear for linear functions.\n",
    "             'booster': 'gbtree', \n",
    "            'lambda': 8.544792472633987e-07,\n",
    "            'alpha': 0.31141671752487043,\n",
    "            'subsample': 0.8779467596981366, \n",
    "            'colsample_bytree': 0.9759532762677546,\n",
    "            'learning_rate': 0.008686087328805853, \n",
    "            'n_estimators': 6988,\n",
    "            'max_depth': 9,\n",
    "            'min_child_weight': 2, \n",
    "            'eta': 3.7603213457541647e-06,\n",
    "            'gamma': 2.1478058456847449e-07,\n",
    "            'grow_policy': 'lossguide'}\n",
    "                \n",
    "\n",
    "#model_xgb = XGBRegressor(\n",
    "       #objective=\"mae\",\n",
    " #   **xgb_params2)\n",
    "\n",
    "numeric_transformer1 = Pipeline(\n",
    "                            steps=[\n",
    "                            ('imputer', SimpleImputer(strategy='median'\n",
    "                                                      ,add_indicator=True)),\n",
    "                            ('scaler', PowerTransformer()),#(Numerical Input, Numerical Output)\n",
    "                            # Create an SelectKBest object to select features with two best ANOVA F-Values\n",
    "                            #The F-value scores examine if, when we group the numerical feature by the target vector, the means for each group are significantly different\n",
    "                           # ('reducedim',  SelectPercentile(f_classif,percentile=90))\n",
    "                            ]\n",
    "                            )\n",
    "numeric_transformer2 = Pipeline(\n",
    "                            steps=[\n",
    "                            #('imputer', SimpleImputer(strategy='median'\n",
    "                             #                         ,add_indicator=True)),\n",
    "                            ('scaler', PowerTransformer()),#(Numerical Input, Numerical Output)\n",
    "                            # Create an SelectKBest object to select features with two best ANOVA F-Values\n",
    "                            #The F-value scores examine if, when we group the numerical feature by the target vector, the means for each group are significantly different\n",
    "                           # ('reducedim',  SelectPercentile(f_classif,percentile=90))\n",
    "                            ]\n",
    "                            )\n",
    "\n",
    "pipe_xgbr1 = Pipeline(\n",
    "                    steps=[\n",
    "                        ('preprocessor', numeric_transformer1),\n",
    "                        ('classifier', XGBRegressor(\n",
    "                      #objective=\"mae\",\n",
    "                       **param))\n",
    "                    ]\n",
    "                )\n",
    "pipe_xgbr2 = Pipeline(\n",
    "                    steps=[\n",
    "                        ('preprocessor', numeric_transformer2),\n",
    "                        ('classifier', XGBRegressor(\n",
    "                      #objective=\"mae\",\n",
    "                       **param))\n",
    "                    ]\n",
    "                )"
   ]
  },
  {
   "cell_type": "code",
   "execution_count": 10,
   "id": "c2b62caa",
   "metadata": {
    "execution": {
     "iopub.execute_input": "2022-01-03T14:47:53.136895Z",
     "iopub.status.busy": "2022-01-03T14:47:53.135907Z",
     "iopub.status.idle": "2022-01-03T14:50:06.521730Z",
     "shell.execute_reply": "2022-01-03T14:50:06.522394Z",
     "shell.execute_reply.started": "2022-01-03T13:06:49.685049Z"
    },
    "papermill": {
     "duration": 133.428577,
     "end_time": "2022-01-03T14:50:06.522612",
     "exception": false,
     "start_time": "2022-01-03T14:47:53.094035",
     "status": "completed"
    },
    "tags": []
   },
   "outputs": [
    {
     "name": "stdout",
     "output_type": "stream",
     "text": [
      "CPU times: user 2min 9s, sys: 2.46 s, total: 2min 12s\n",
      "Wall time: 2min 13s\n"
     ]
    }
   ],
   "source": [
    "%%time \n",
    "train=train.drop(['Unnamed: 0','SeriousDlqin2yrs'], axis=1)\n",
    "test=test.drop(['Unnamed: 0','SeriousDlqin2yrs'], axis=1)\n",
    "train_final= pd.concat( [train, test], axis=0) \n",
    "#testdf_income= train_final[train_final['MonthlyIncome'].isnull()==True]\n",
    "traindf_income = train_final[train_final['MonthlyIncome'].isnull()==False]\n",
    "y_income = traindf_income['MonthlyIncome']\n",
    "X_income=traindf_income.drop([\"MonthlyIncome\"],axis=1)\n",
    "pipe_xgbr1.fit(X_income, y_income)\n",
    "train_income_missing=train[train['MonthlyIncome'].isnull()==True].drop([\"MonthlyIncome\"],axis=1)\n",
    "test_income_missing=test[test['MonthlyIncome'].isnull()==True].drop([\"MonthlyIncome\"],axis=1)\n",
    "train_predicted = pipe_xgbr1.predict(train_income_missing)\n",
    "test_predicted = pipe_xgbr1.predict(test_income_missing)\n",
    "train.loc[(train.MonthlyIncome.isnull()), 'MonthlyIncome'] = train_predicted\n",
    "test.loc[(test.MonthlyIncome.isnull()), 'MonthlyIncome'] = test_predicted"
   ]
  },
  {
   "cell_type": "code",
   "execution_count": 11,
   "id": "16525509",
   "metadata": {
    "execution": {
     "iopub.execute_input": "2022-01-03T14:50:06.604433Z",
     "iopub.status.busy": "2022-01-03T14:50:06.603561Z",
     "iopub.status.idle": "2022-01-03T14:52:42.519134Z",
     "shell.execute_reply": "2022-01-03T14:52:42.519731Z",
     "shell.execute_reply.started": "2022-01-03T13:09:03.373112Z"
    },
    "papermill": {
     "duration": 155.960051,
     "end_time": "2022-01-03T14:52:42.519925",
     "exception": false,
     "start_time": "2022-01-03T14:50:06.559874",
     "status": "completed"
    },
    "tags": []
   },
   "outputs": [
    {
     "name": "stdout",
     "output_type": "stream",
     "text": [
      "CPU times: user 2min 34s, sys: 962 ms, total: 2min 35s\n",
      "Wall time: 2min 35s\n"
     ]
    }
   ],
   "source": [
    "%%time \n",
    "traindf_NumberOfDependents = train_final[train_final['NumberOfDependents'].isnull()==False]\n",
    "y_NumberOfDependents = traindf_NumberOfDependents['NumberOfDependents']\n",
    "X_NumberOfDependents=traindf_NumberOfDependents.drop([\"NumberOfDependents\"],axis=1)\n",
    "pipe_xgbr2.fit(X_NumberOfDependents, y_NumberOfDependents)\n",
    "train_NumberOfDependents_missing=train[train['NumberOfDependents'].isnull()==True].drop([\"NumberOfDependents\"],axis=1)\n",
    "test_NumberOfDependents_missing=test[test['NumberOfDependents'].isnull()==True].drop([\"NumberOfDependents\"],axis=1)\n",
    "train_predicted = pipe_xgbr2.predict(train_NumberOfDependents_missing)\n",
    "test_predicted = pipe_xgbr2.predict(test_NumberOfDependents_missing)\n",
    "train.loc[(train.NumberOfDependents.isnull()), 'NumberOfDependents'] = train_predicted\n",
    "test.loc[(test.NumberOfDependents.isnull()), 'NumberOfDependents'] = test_predicted"
   ]
  },
  {
   "cell_type": "code",
   "execution_count": 12,
   "id": "ae2dd0f4",
   "metadata": {
    "execution": {
     "iopub.execute_input": "2022-01-03T14:52:42.596233Z",
     "iopub.status.busy": "2022-01-03T14:52:42.595457Z",
     "iopub.status.idle": "2022-01-03T14:52:43.168607Z",
     "shell.execute_reply": "2022-01-03T14:52:43.167724Z",
     "shell.execute_reply.started": "2022-01-03T13:11:39.378652Z"
    },
    "papermill": {
     "duration": 0.612044,
     "end_time": "2022-01-03T14:52:43.168747",
     "exception": false,
     "start_time": "2022-01-03T14:52:42.556703",
     "status": "completed"
    },
    "tags": []
   },
   "outputs": [],
   "source": [
    "# Add bin data \n",
    "# initializing append_str\n",
    "append_str = 'cat_'\n",
    "# Append suffix / prefix to strings in list\n",
    "num_features1=[\"RevolvingUtilizationOfUnsecuredLines\", \"DebtRatio\",\"MonthlyIncome\"]\n",
    "num_features2=[\"NumberOfDependents\",\n",
    "                       \"NumberOfTime60-89DaysPastDueNotWorse\",\n",
    "                       \"NumberRealEstateLoansOrLines\",\n",
    "                       \"NumberOfTimes90DaysLate\",\n",
    "                       \"NumberOfOpenCreditLinesAndLoans\",\n",
    "                       \"NumberOfTime30-59DaysPastDueNotWorse\",\n",
    "                       \"age\"]\n",
    "cat_features1 = [append_str + sub for sub in num_features1]\n",
    "cat_features2 = [append_str + sub for sub in num_features2]\n",
    "\n",
    "# create the discretizer object with strategy quantile and 1000 bins\n",
    "discretizer1 = KBinsDiscretizer(n_bins=40, encode='ordinal',strategy='quantile')\n",
    "discretizer2 = KBinsDiscretizer(n_bins=4, encode='ordinal',strategy='quantile')\n",
    "\n",
    "pipeline1 = Pipeline([\n",
    "        ('imputer', SimpleImputer( strategy='median')),\n",
    "        ('bin', discretizer1)\n",
    "    ])\n",
    "# fit the discretizer to the train set\n",
    "pipeline1.fit(train.loc[:,num_features1])\n",
    "# apply the discretisation\n",
    "train_cat1 = pipeline1.transform(train.loc[:,num_features1])\n",
    "test_cat1 = pipeline1.transform(test.loc[:,num_features1])\n",
    "train_df1=pd.DataFrame(train_cat1,columns=cat_features1).astype('category')\n",
    "test_df1=pd.DataFrame(test_cat1,columns=cat_features1).astype('category')\n",
    "train_final1= pd.concat( [train.loc[:,num_features1], train_df1], axis=1) \n",
    "test_final1= pd.concat( [test.loc[:,num_features1], test_df1], axis=1) \n",
    "\n",
    "pipeline2 = Pipeline([\n",
    "        ('imputer', SimpleImputer( strategy='median')),\n",
    "        ('bin', discretizer2)\n",
    "    ])\n",
    "# fit the discretizer to the train set\n",
    "pipeline2.fit(train.loc[:,num_features2])\n",
    "# apply the discretisation\n",
    "train_cat2 = pipeline2.transform(train.loc[:,num_features2])\n",
    "test_cat2 = pipeline2.transform(test.loc[:,num_features2])\n",
    "train_df2=pd.DataFrame(train_cat2,columns=cat_features2).astype('category')\n",
    "test_df2=pd.DataFrame(test_cat2,columns=cat_features2).astype('category')\n",
    "train_final2= pd.concat( [train.loc[:,num_features2], train_df2], axis=1) \n",
    "test_final2= pd.concat( [test.loc[:,num_features2], test_df2], axis=1) "
   ]
  },
  {
   "cell_type": "code",
   "execution_count": 13,
   "id": "0a84223b",
   "metadata": {
    "execution": {
     "iopub.execute_input": "2022-01-03T14:52:43.247287Z",
     "iopub.status.busy": "2022-01-03T14:52:43.245221Z",
     "iopub.status.idle": "2022-01-03T14:52:43.249776Z",
     "shell.execute_reply": "2022-01-03T14:52:43.249336Z",
     "shell.execute_reply.started": "2022-01-03T13:11:40.133209Z"
    },
    "papermill": {
     "duration": 0.045129,
     "end_time": "2022-01-03T14:52:43.249884",
     "exception": false,
     "start_time": "2022-01-03T14:52:43.204755",
     "status": "completed"
    },
    "tags": []
   },
   "outputs": [],
   "source": [
    "train_final= pd.concat( [train_final1, train_final2], axis=1) \n",
    "test_final= pd.concat( [test_final1, test_final2], axis=1) "
   ]
  },
  {
   "cell_type": "markdown",
   "id": "029e887d",
   "metadata": {
    "papermill": {
     "duration": 0.035988,
     "end_time": "2022-01-03T14:52:43.321463",
     "exception": false,
     "start_time": "2022-01-03T14:52:43.285475",
     "status": "completed"
    },
    "tags": []
   },
   "source": [
    "## Final X and y"
   ]
  },
  {
   "cell_type": "code",
   "execution_count": 14,
   "id": "7bdbbda5",
   "metadata": {
    "execution": {
     "iopub.execute_input": "2022-01-03T14:52:43.397433Z",
     "iopub.status.busy": "2022-01-03T14:52:43.396705Z",
     "iopub.status.idle": "2022-01-03T14:52:43.398739Z",
     "shell.execute_reply": "2022-01-03T14:52:43.399103Z",
     "shell.execute_reply.started": "2022-01-03T13:11:40.143419Z"
    },
    "papermill": {
     "duration": 0.041715,
     "end_time": "2022-01-03T14:52:43.399230",
     "exception": false,
     "start_time": "2022-01-03T14:52:43.357515",
     "status": "completed"
    },
    "tags": []
   },
   "outputs": [],
   "source": [
    "# Pour le train test\n",
    "target= \"SeriousDlqin2yrs\"\n",
    "X = train_final# axis=1\n",
    "X_test_final =test_final# axis=1"
   ]
  },
  {
   "cell_type": "code",
   "execution_count": 15,
   "id": "8ac5d080",
   "metadata": {
    "execution": {
     "iopub.execute_input": "2022-01-03T14:52:43.474750Z",
     "iopub.status.busy": "2022-01-03T14:52:43.473882Z",
     "iopub.status.idle": "2022-01-03T14:52:43.495260Z",
     "shell.execute_reply": "2022-01-03T14:52:43.495848Z",
     "shell.execute_reply.started": "2022-01-03T13:11:40.150897Z"
    },
    "papermill": {
     "duration": 0.06119,
     "end_time": "2022-01-03T14:52:43.496008",
     "exception": false,
     "start_time": "2022-01-03T14:52:43.434818",
     "status": "completed"
    },
    "tags": []
   },
   "outputs": [
    {
     "name": "stdout",
     "output_type": "stream",
     "text": [
      "<class 'pandas.core.frame.DataFrame'>\n",
      "RangeIndex: 101503 entries, 0 to 101502\n",
      "Data columns (total 20 columns):\n",
      " #   Column                                    Non-Null Count   Dtype   \n",
      "---  ------                                    --------------   -----   \n",
      " 0   RevolvingUtilizationOfUnsecuredLines      101503 non-null  float16 \n",
      " 1   DebtRatio                                 101503 non-null  float32 \n",
      " 2   MonthlyIncome                             101503 non-null  float32 \n",
      " 3   cat_RevolvingUtilizationOfUnsecuredLines  101503 non-null  category\n",
      " 4   cat_DebtRatio                             101503 non-null  category\n",
      " 5   cat_MonthlyIncome                         101503 non-null  category\n",
      " 6   NumberOfDependents                        101503 non-null  float16 \n",
      " 7   NumberOfTime60-89DaysPastDueNotWorse      101503 non-null  int8    \n",
      " 8   NumberRealEstateLoansOrLines              101503 non-null  int8    \n",
      " 9   NumberOfTimes90DaysLate                   101503 non-null  int8    \n",
      " 10  NumberOfOpenCreditLinesAndLoans           101503 non-null  int8    \n",
      " 11  NumberOfTime30-59DaysPastDueNotWorse      101503 non-null  int8    \n",
      " 12  age                                       101503 non-null  int8    \n",
      " 13  cat_NumberOfDependents                    101503 non-null  category\n",
      " 14  cat_NumberOfTime60-89DaysPastDueNotWorse  101503 non-null  category\n",
      " 15  cat_NumberRealEstateLoansOrLines          101503 non-null  category\n",
      " 16  cat_NumberOfTimes90DaysLate               101503 non-null  category\n",
      " 17  cat_NumberOfOpenCreditLinesAndLoans       101503 non-null  category\n",
      " 18  cat_NumberOfTime30-59DaysPastDueNotWorse  101503 non-null  category\n",
      " 19  cat_age                                   101503 non-null  category\n",
      "dtypes: category(10), float16(2), float32(2), int8(6)\n",
      "memory usage: 2.7 MB\n"
     ]
    }
   ],
   "source": [
    "X_test_final.info()"
   ]
  },
  {
   "cell_type": "code",
   "execution_count": 16,
   "id": "ba19384f",
   "metadata": {
    "execution": {
     "iopub.execute_input": "2022-01-03T14:52:43.572375Z",
     "iopub.status.busy": "2022-01-03T14:52:43.571481Z",
     "iopub.status.idle": "2022-01-03T14:52:43.591168Z",
     "shell.execute_reply": "2022-01-03T14:52:43.590663Z",
     "shell.execute_reply.started": "2022-01-03T13:11:40.191444Z"
    },
    "papermill": {
     "duration": 0.058578,
     "end_time": "2022-01-03T14:52:43.591290",
     "exception": false,
     "start_time": "2022-01-03T14:52:43.532712",
     "status": "completed"
    },
    "tags": []
   },
   "outputs": [
    {
     "name": "stdout",
     "output_type": "stream",
     "text": [
      "<class 'pandas.core.frame.DataFrame'>\n",
      "RangeIndex: 150000 entries, 0 to 149999\n",
      "Data columns (total 20 columns):\n",
      " #   Column                                    Non-Null Count   Dtype   \n",
      "---  ------                                    --------------   -----   \n",
      " 0   RevolvingUtilizationOfUnsecuredLines      150000 non-null  float16 \n",
      " 1   DebtRatio                                 150000 non-null  float32 \n",
      " 2   MonthlyIncome                             150000 non-null  float32 \n",
      " 3   cat_RevolvingUtilizationOfUnsecuredLines  150000 non-null  category\n",
      " 4   cat_DebtRatio                             150000 non-null  category\n",
      " 5   cat_MonthlyIncome                         150000 non-null  category\n",
      " 6   NumberOfDependents                        150000 non-null  float16 \n",
      " 7   NumberOfTime60-89DaysPastDueNotWorse      150000 non-null  int8    \n",
      " 8   NumberRealEstateLoansOrLines              150000 non-null  int8    \n",
      " 9   NumberOfTimes90DaysLate                   150000 non-null  int8    \n",
      " 10  NumberOfOpenCreditLinesAndLoans           150000 non-null  int8    \n",
      " 11  NumberOfTime30-59DaysPastDueNotWorse      150000 non-null  int8    \n",
      " 12  age                                       150000 non-null  int8    \n",
      " 13  cat_NumberOfDependents                    150000 non-null  category\n",
      " 14  cat_NumberOfTime60-89DaysPastDueNotWorse  150000 non-null  category\n",
      " 15  cat_NumberRealEstateLoansOrLines          150000 non-null  category\n",
      " 16  cat_NumberOfTimes90DaysLate               150000 non-null  category\n",
      " 17  cat_NumberOfOpenCreditLinesAndLoans       150000 non-null  category\n",
      " 18  cat_NumberOfTime30-59DaysPastDueNotWorse  150000 non-null  category\n",
      " 19  cat_age                                   150000 non-null  category\n",
      "dtypes: category(10), float16(2), float32(2), int8(6)\n",
      "memory usage: 4.0 MB\n"
     ]
    }
   ],
   "source": [
    "X.info()"
   ]
  },
  {
   "cell_type": "code",
   "execution_count": 17,
   "id": "997dd871",
   "metadata": {
    "execution": {
     "iopub.execute_input": "2022-01-03T14:52:43.667412Z",
     "iopub.status.busy": "2022-01-03T14:52:43.666866Z",
     "iopub.status.idle": "2022-01-03T14:52:43.669786Z",
     "shell.execute_reply": "2022-01-03T14:52:43.670185Z",
     "shell.execute_reply.started": "2022-01-03T13:11:40.229449Z"
    },
    "papermill": {
     "duration": 0.042595,
     "end_time": "2022-01-03T14:52:43.670324",
     "exception": false,
     "start_time": "2022-01-03T14:52:43.627729",
     "status": "completed"
    },
    "tags": []
   },
   "outputs": [],
   "source": [
    "del train\n",
    "del test \n",
    "del train_final\n",
    "del test_final"
   ]
  },
  {
   "cell_type": "code",
   "execution_count": 18,
   "id": "97527566",
   "metadata": {
    "execution": {
     "iopub.execute_input": "2022-01-03T14:52:43.750411Z",
     "iopub.status.busy": "2022-01-03T14:52:43.749654Z",
     "iopub.status.idle": "2022-01-03T14:52:43.754914Z",
     "shell.execute_reply": "2022-01-03T14:52:43.754497Z",
     "shell.execute_reply.started": "2022-01-03T13:11:40.237933Z"
    },
    "papermill": {
     "duration": 0.0484,
     "end_time": "2022-01-03T14:52:43.755021",
     "exception": false,
     "start_time": "2022-01-03T14:52:43.706621",
     "status": "completed"
    },
    "tags": []
   },
   "outputs": [
    {
     "data": {
      "text/plain": [
       "Index(['cat_RevolvingUtilizationOfUnsecuredLines', 'cat_DebtRatio',\n",
       "       'cat_MonthlyIncome', 'cat_NumberOfDependents',\n",
       "       'cat_NumberOfTime60-89DaysPastDueNotWorse',\n",
       "       'cat_NumberRealEstateLoansOrLines', 'cat_NumberOfTimes90DaysLate',\n",
       "       'cat_NumberOfOpenCreditLinesAndLoans',\n",
       "       'cat_NumberOfTime30-59DaysPastDueNotWorse', 'cat_age'],\n",
       "      dtype='object')"
      ]
     },
     "execution_count": 18,
     "metadata": {},
     "output_type": "execute_result"
    }
   ],
   "source": [
    "# select non-numeric columns\n",
    "cat_columns = X.select_dtypes(exclude=['int64','int16','float16','float32','float64','int8']).columns\n",
    "cat_columns"
   ]
  },
  {
   "cell_type": "markdown",
   "id": "90c4105d",
   "metadata": {
    "papermill": {
     "duration": 0.037969,
     "end_time": "2022-01-03T14:52:43.830113",
     "exception": false,
     "start_time": "2022-01-03T14:52:43.792144",
     "status": "completed"
    },
    "tags": []
   },
   "source": [
    "### Num Features\n",
    "\n"
   ]
  },
  {
   "cell_type": "code",
   "execution_count": 19,
   "id": "df443812",
   "metadata": {
    "execution": {
     "iopub.execute_input": "2022-01-03T14:52:43.917921Z",
     "iopub.status.busy": "2022-01-03T14:52:43.917014Z",
     "iopub.status.idle": "2022-01-03T14:52:43.924163Z",
     "shell.execute_reply": "2022-01-03T14:52:43.923679Z",
     "shell.execute_reply.started": "2022-01-03T13:11:40.257365Z"
    },
    "papermill": {
     "duration": 0.057156,
     "end_time": "2022-01-03T14:52:43.924286",
     "exception": false,
     "start_time": "2022-01-03T14:52:43.867130",
     "status": "completed"
    },
    "tags": []
   },
   "outputs": [
    {
     "data": {
      "text/plain": [
       "Index(['RevolvingUtilizationOfUnsecuredLines', 'DebtRatio', 'MonthlyIncome',\n",
       "       'NumberOfDependents', 'NumberOfTime60-89DaysPastDueNotWorse',\n",
       "       'NumberRealEstateLoansOrLines', 'NumberOfTimes90DaysLate',\n",
       "       'NumberOfOpenCreditLinesAndLoans',\n",
       "       'NumberOfTime30-59DaysPastDueNotWorse', 'age'],\n",
       "      dtype='object')"
      ]
     },
     "execution_count": 19,
     "metadata": {},
     "output_type": "execute_result"
    }
   ],
   "source": [
    "# select the float columns\n",
    "num_columns = X.select_dtypes(include=['int64','int16','float16','float32','float64','int8']).columns\n",
    "num_columns"
   ]
  },
  {
   "cell_type": "markdown",
   "id": "541f9149",
   "metadata": {
    "papermill": {
     "duration": 0.036867,
     "end_time": "2022-01-03T14:52:44.002258",
     "exception": false,
     "start_time": "2022-01-03T14:52:43.965391",
     "status": "completed"
    },
    "tags": []
   },
   "source": [
    "# FE"
   ]
  },
  {
   "cell_type": "code",
   "execution_count": 20,
   "id": "8c0b003e",
   "metadata": {
    "execution": {
     "iopub.execute_input": "2022-01-03T14:52:44.084217Z",
     "iopub.status.busy": "2022-01-03T14:52:44.083539Z",
     "iopub.status.idle": "2022-01-03T14:52:44.085955Z",
     "shell.execute_reply": "2022-01-03T14:52:44.085566Z",
     "shell.execute_reply.started": "2022-01-03T13:11:40.277144Z"
    },
    "papermill": {
     "duration": 0.046673,
     "end_time": "2022-01-03T14:52:44.086068",
     "exception": false,
     "start_time": "2022-01-03T14:52:44.039395",
     "status": "completed"
    },
    "tags": []
   },
   "outputs": [],
   "source": [
    "class MiniKmeansTransformerEncoder(BaseEstimator, TransformerMixin):\n",
    "    def __init__(self, num_clusters = 11, encoder=ce.woe.WOEEncoder()):\n",
    "        self.num_clusters = num_clusters\n",
    "        self.encoder= encoder\n",
    "        if self.num_clusters > 0:\n",
    "            self.kmeans = MiniBatchKMeans(n_clusters=self.num_clusters, random_state=0)\n",
    "    \n",
    "    def fit(self, X, y=None):\n",
    "        if self.num_clusters > 0:\n",
    "            self.kmeans.fit(X)\n",
    "            preds=self.kmeans.predict(X)\n",
    "            preds=pd.DataFrame(preds, columns=['kmeans']).astype('category')\n",
    "            self.encoder.fit(preds,y)\n",
    "        return self\n",
    "    \n",
    "    def transform(self, X, y=None):\n",
    "        pred_classes = self.kmeans.predict(X)\n",
    "        pred_classes=pd.DataFrame(pred_classes, columns=['kmeans']).astype('category')\n",
    "        pred_encoded = self.encoder.transform(pred_classes)\n",
    "        return np.hstack((X, pred_encoded))\n",
    "        #return pred_encoded"
   ]
  },
  {
   "cell_type": "markdown",
   "id": "9ac4dab8",
   "metadata": {
    "papermill": {
     "duration": 0.036827,
     "end_time": "2022-01-03T14:52:44.159557",
     "exception": false,
     "start_time": "2022-01-03T14:52:44.122730",
     "status": "completed"
    },
    "tags": []
   },
   "source": [
    "# Complete Pipe \n",
    "\n",
    "1. Features Engineer\n",
    "\n",
    "1. Kmeans\n",
    "\n",
    "1. Sparse\n",
    "\n",
    "1. Poly\n",
    "\n",
    "1. Scaler/Transformer\n",
    "\n",
    "1. imput\n",
    "\n",
    "1. Add bin data \n",
    "\n",
    "## Pipe : \n"
   ]
  },
  {
   "cell_type": "code",
   "execution_count": 21,
   "id": "0b83b286",
   "metadata": {
    "execution": {
     "iopub.execute_input": "2022-01-03T14:52:44.243037Z",
     "iopub.status.busy": "2022-01-03T14:52:44.242199Z",
     "iopub.status.idle": "2022-01-03T14:52:44.244156Z",
     "shell.execute_reply": "2022-01-03T14:52:44.244558Z",
     "shell.execute_reply.started": "2022-01-03T13:11:40.290581Z"
    },
    "papermill": {
     "duration": 0.0483,
     "end_time": "2022-01-03T14:52:44.244685",
     "exception": false,
     "start_time": "2022-01-03T14:52:44.196385",
     "status": "completed"
    },
    "tags": []
   },
   "outputs": [],
   "source": [
    "# Cat pipeline\n",
    "categorical_transformer = Pipeline(\n",
    "                    steps=[\n",
    "                        ('imputer', SimpleImputer(strategy='most_frequent',\n",
    "                                                  fill_value='missing',\n",
    "                                                  add_indicator=True)),\n",
    "                        ('encoder',  ce.woe.WOEEncoder()),#(Numerical Input, Categorical Output)\n",
    "                        #('sparse_features', SparseInteractions(degree=2)),\n",
    "                        #('reducedim',  SelectPercentile( mutual_info_classif, percentile=90))\n",
    "\n",
    "                    ]\n",
    "                    ) \n",
    "#Define vnum pipeline\n",
    "numeric_transformer = Pipeline(\n",
    "                            steps=[\n",
    "                            ('imputer', SimpleImputer(strategy='median'\n",
    "                                                      ,add_indicator=True)),\n",
    "                            #('general_features',FeaturesEngineer()),\n",
    "                            ('scaler', PowerTransformer()),#(Numerical Input, Numerical Output)\n",
    "                            # Create an SelectKBest object to select features with two best ANOVA F-Values\n",
    "                            #The F-value scores examine if, when we group the numerical feature by the target vector, the means for each group are significantly different\n",
    "                            ('kmeans',MiniKmeansTransformerEncoder()),\n",
    "                            ('polynominal_features', PolynomialFeatures(degree=2)),\n",
    "                            #('reducedim',  SelectPercentile(f_classif,percentile=90))\n",
    "                            ]\n",
    "                            )\n",
    "# Features union cat + num \n",
    "# WOE+PowerTransformer\n",
    "preprocessor_woe_powertransformer = ColumnTransformer(\n",
    "            transformers=[\n",
    "                ('numerical', numeric_transformer, num_columns),\n",
    "               # ('categorical', categorical_transformer, cat_columns)\n",
    "            ])\n",
    "#Define vnum pipeline\n",
    "numeric_transformer_final = Pipeline(\n",
    "                            steps=[\n",
    "                            ('imputer', SimpleImputer(strategy='median'\n",
    "                                                      ,add_indicator=True)),\n",
    "                            #('general_features',FeaturesEngineer()),\n",
    "                            ('scaler', PowerTransformer()),#(Numerical Input, Numerical Output)\n",
    "                            # Create an SelectKBest object to select features with two best ANOVA F-Values\n",
    "                            #The F-value scores examine if, when we group the numerical feature by the target vector, the means for each group are significantly different\n",
    "                            ('kmeans',MiniKmeansTransformerEncoder()),\n",
    "                            ('polynominal_features', PolynomialFeatures(degree=2)),\n",
    "                            ('reducedim',  SelectPercentile(f_classif,percentile=95))\n",
    "                            ]\n",
    "                            )\n",
    "# Features union cat + num \n",
    "# WOE+PowerTransformer\n",
    "preprocessor_woe_powertransformer_final = ColumnTransformer(\n",
    "            transformers=[\n",
    "                ('numerical', numeric_transformer_final, num_columns),\n",
    "               # ('categorical', categorical_transformer, cat_columns)\n",
    "            ])"
   ]
  },
  {
   "cell_type": "markdown",
   "id": "aeb4fe4d",
   "metadata": {
    "papermill": {
     "duration": 0.036914,
     "end_time": "2022-01-03T14:52:44.318577",
     "exception": false,
     "start_time": "2022-01-03T14:52:44.281663",
     "status": "completed"
    },
    "tags": []
   },
   "source": [
    "\n"
   ]
  },
  {
   "cell_type": "code",
   "execution_count": 22,
   "id": "7bea5083",
   "metadata": {
    "execution": {
     "iopub.execute_input": "2022-01-03T14:52:44.400553Z",
     "iopub.status.busy": "2022-01-03T14:52:44.399855Z",
     "iopub.status.idle": "2022-01-03T14:52:44.736558Z",
     "shell.execute_reply": "2022-01-03T14:52:44.736099Z",
     "shell.execute_reply.started": "2022-01-03T13:11:40.308314Z"
    },
    "papermill": {
     "duration": 0.380882,
     "end_time": "2022-01-03T14:52:44.736684",
     "exception": false,
     "start_time": "2022-01-03T14:52:44.355802",
     "status": "completed"
    },
    "tags": []
   },
   "outputs": [
    {
     "data": {
      "text/html": [
       "<style>div.sk-top-container {color: black;background-color: white;}div.sk-toggleable {background-color: white;}label.sk-toggleable__label {cursor: pointer;display: block;width: 100%;margin-bottom: 0;padding: 0.2em 0.3em;box-sizing: border-box;text-align: center;}div.sk-toggleable__content {max-height: 0;max-width: 0;overflow: hidden;text-align: left;background-color: #f0f8ff;}div.sk-toggleable__content pre {margin: 0.2em;color: black;border-radius: 0.25em;background-color: #f0f8ff;}input.sk-toggleable__control:checked~div.sk-toggleable__content {max-height: 200px;max-width: 100%;overflow: auto;}div.sk-estimator input.sk-toggleable__control:checked~label.sk-toggleable__label {background-color: #d4ebff;}div.sk-label input.sk-toggleable__control:checked~label.sk-toggleable__label {background-color: #d4ebff;}input.sk-hidden--visually {border: 0;clip: rect(1px 1px 1px 1px);clip: rect(1px, 1px, 1px, 1px);height: 1px;margin: -1px;overflow: hidden;padding: 0;position: absolute;width: 1px;}div.sk-estimator {font-family: monospace;background-color: #f0f8ff;margin: 0.25em 0.25em;border: 1px dotted black;border-radius: 0.25em;box-sizing: border-box;}div.sk-estimator:hover {background-color: #d4ebff;}div.sk-parallel-item::after {content: \"\";width: 100%;border-bottom: 1px solid gray;flex-grow: 1;}div.sk-label:hover label.sk-toggleable__label {background-color: #d4ebff;}div.sk-serial::before {content: \"\";position: absolute;border-left: 1px solid gray;box-sizing: border-box;top: 2em;bottom: 0;left: 50%;}div.sk-serial {display: flex;flex-direction: column;align-items: center;background-color: white;}div.sk-item {z-index: 1;}div.sk-parallel {display: flex;align-items: stretch;justify-content: center;background-color: white;}div.sk-parallel-item {display: flex;flex-direction: column;position: relative;background-color: white;}div.sk-parallel-item:first-child::after {align-self: flex-end;width: 50%;}div.sk-parallel-item:last-child::after {align-self: flex-start;width: 50%;}div.sk-parallel-item:only-child::after {width: 0;}div.sk-dashed-wrapped {border: 1px dashed gray;margin: 0.2em;box-sizing: border-box;padding-bottom: 0.1em;background-color: white;position: relative;}div.sk-label label {font-family: monospace;font-weight: bold;background-color: white;display: inline-block;line-height: 1.2em;}div.sk-label-container {position: relative;z-index: 2;text-align: center;}div.sk-container {display: inline-block;position: relative;}</style><div class=\"sk-top-container\"><div class=\"sk-container\"><div class=\"sk-item sk-dashed-wrapped\"><div class=\"sk-label-container\"><div class=\"sk-label sk-toggleable\"><input class=\"sk-toggleable__control sk-hidden--visually\" id=\"6345fcea-97d0-4362-96ff-406c0ee65f8a\" type=\"checkbox\" ><label class=\"sk-toggleable__label\" for=\"6345fcea-97d0-4362-96ff-406c0ee65f8a\">Pipeline</label><div class=\"sk-toggleable__content\"><pre>Pipeline(steps=[('preprocessor',\n",
       "                 ColumnTransformer(transformers=[('numerical',\n",
       "                                                  Pipeline(steps=[('imputer',\n",
       "                                                                   SimpleImputer(add_indicator=True,\n",
       "                                                                                 strategy='median')),\n",
       "                                                                  ('scaler',\n",
       "                                                                   PowerTransformer()),\n",
       "                                                                  ('kmeans',\n",
       "                                                                   MiniKmeansTransformerEncoder()),\n",
       "                                                                  ('polynominal_features',\n",
       "                                                                   PolynomialFeatures())]),\n",
       "                                                  Index(['RevolvingUtilizationOfUnsecuredLines', 'DebtRatio', 'MonthlyIncome'...\n",
       "       'NumberOfOpenCreditLinesAndLoans',\n",
       "       'NumberOfTime30-59DaysPastDueNotWorse', 'age'],\n",
       "      dtype='object'))])),\n",
       "                ('reducedim', SelectPercentile(percentile=95)),\n",
       "                ('classifier',\n",
       "                 LGBMClassifier(device_type='gpu',\n",
       "                                learning_rate=0.0018069834369607075,\n",
       "                                max_depth=8, metric='auc', min_samples_leaf=47,\n",
       "                                n_estimators=5000, random_state=42,\n",
       "                                subsample=0.8573598985000007, verbose=-1))])</pre></div></div></div><div class=\"sk-serial\"><div class=\"sk-item sk-dashed-wrapped\"><div class=\"sk-label-container\"><div class=\"sk-label sk-toggleable\"><input class=\"sk-toggleable__control sk-hidden--visually\" id=\"7e98f05e-cb80-4d76-85f6-9e8175b2d127\" type=\"checkbox\" ><label class=\"sk-toggleable__label\" for=\"7e98f05e-cb80-4d76-85f6-9e8175b2d127\">preprocessor: ColumnTransformer</label><div class=\"sk-toggleable__content\"><pre>ColumnTransformer(transformers=[('numerical',\n",
       "                                 Pipeline(steps=[('imputer',\n",
       "                                                  SimpleImputer(add_indicator=True,\n",
       "                                                                strategy='median')),\n",
       "                                                 ('scaler', PowerTransformer()),\n",
       "                                                 ('kmeans',\n",
       "                                                  MiniKmeansTransformerEncoder()),\n",
       "                                                 ('polynominal_features',\n",
       "                                                  PolynomialFeatures())]),\n",
       "                                 Index(['RevolvingUtilizationOfUnsecuredLines', 'DebtRatio', 'MonthlyIncome',\n",
       "       'NumberOfDependents', 'NumberOfTime60-89DaysPastDueNotWorse',\n",
       "       'NumberRealEstateLoansOrLines', 'NumberOfTimes90DaysLate',\n",
       "       'NumberOfOpenCreditLinesAndLoans',\n",
       "       'NumberOfTime30-59DaysPastDueNotWorse', 'age'],\n",
       "      dtype='object'))])</pre></div></div></div><div class=\"sk-parallel\"><div class=\"sk-parallel-item\"><div class=\"sk-item\"><div class=\"sk-label-container\"><div class=\"sk-label sk-toggleable\"><input class=\"sk-toggleable__control sk-hidden--visually\" id=\"706f33e2-0808-4e5e-b270-19e5978ce9f6\" type=\"checkbox\" ><label class=\"sk-toggleable__label\" for=\"706f33e2-0808-4e5e-b270-19e5978ce9f6\">numerical</label><div class=\"sk-toggleable__content\"><pre>Index(['RevolvingUtilizationOfUnsecuredLines', 'DebtRatio', 'MonthlyIncome',\n",
       "       'NumberOfDependents', 'NumberOfTime60-89DaysPastDueNotWorse',\n",
       "       'NumberRealEstateLoansOrLines', 'NumberOfTimes90DaysLate',\n",
       "       'NumberOfOpenCreditLinesAndLoans',\n",
       "       'NumberOfTime30-59DaysPastDueNotWorse', 'age'],\n",
       "      dtype='object')</pre></div></div></div><div class=\"sk-serial\"><div class=\"sk-item\"><div class=\"sk-serial\"><div class=\"sk-item\"><div class=\"sk-estimator sk-toggleable\"><input class=\"sk-toggleable__control sk-hidden--visually\" id=\"a70b2690-11fc-418e-8b1a-2fc8828e4cbf\" type=\"checkbox\" ><label class=\"sk-toggleable__label\" for=\"a70b2690-11fc-418e-8b1a-2fc8828e4cbf\">SimpleImputer</label><div class=\"sk-toggleable__content\"><pre>SimpleImputer(add_indicator=True, strategy='median')</pre></div></div></div><div class=\"sk-item\"><div class=\"sk-estimator sk-toggleable\"><input class=\"sk-toggleable__control sk-hidden--visually\" id=\"2c08955f-1fea-4ba3-83ad-265f1dc2a8df\" type=\"checkbox\" ><label class=\"sk-toggleable__label\" for=\"2c08955f-1fea-4ba3-83ad-265f1dc2a8df\">PowerTransformer</label><div class=\"sk-toggleable__content\"><pre>PowerTransformer()</pre></div></div></div><div class=\"sk-item sk-dashed-wrapped\"><div class=\"sk-label-container\"><div class=\"sk-label sk-toggleable\"><input class=\"sk-toggleable__control sk-hidden--visually\" id=\"24101d18-b746-48f9-9a1c-1dc0c3a90f47\" type=\"checkbox\" ><label class=\"sk-toggleable__label\" for=\"24101d18-b746-48f9-9a1c-1dc0c3a90f47\">kmeans: MiniKmeansTransformerEncoder</label><div class=\"sk-toggleable__content\"><pre>MiniKmeansTransformerEncoder()</pre></div></div></div><div class=\"sk-parallel\"><div class=\"sk-parallel-item\"><div class=\"sk-item\"><div class=\"sk-serial\"><div class=\"sk-item\"><div class=\"sk-estimator sk-toggleable\"><input class=\"sk-toggleable__control sk-hidden--visually\" id=\"18a98bae-d71d-40cd-a97c-96dadf03979a\" type=\"checkbox\" ><label class=\"sk-toggleable__label\" for=\"18a98bae-d71d-40cd-a97c-96dadf03979a\">WOEEncoder</label><div class=\"sk-toggleable__content\"><pre>WOEEncoder()</pre></div></div></div></div></div></div></div></div><div class=\"sk-item\"><div class=\"sk-estimator sk-toggleable\"><input class=\"sk-toggleable__control sk-hidden--visually\" id=\"5d85ba7f-2aba-4e35-aabe-d80cbc1c46a3\" type=\"checkbox\" ><label class=\"sk-toggleable__label\" for=\"5d85ba7f-2aba-4e35-aabe-d80cbc1c46a3\">PolynomialFeatures</label><div class=\"sk-toggleable__content\"><pre>PolynomialFeatures()</pre></div></div></div></div></div></div></div></div></div></div><div class=\"sk-item\"><div class=\"sk-estimator sk-toggleable\"><input class=\"sk-toggleable__control sk-hidden--visually\" id=\"73b553e2-7dc1-41ef-9030-53fb2e8f168c\" type=\"checkbox\" ><label class=\"sk-toggleable__label\" for=\"73b553e2-7dc1-41ef-9030-53fb2e8f168c\">SelectPercentile</label><div class=\"sk-toggleable__content\"><pre>SelectPercentile(percentile=95)</pre></div></div></div><div class=\"sk-item\"><div class=\"sk-estimator sk-toggleable\"><input class=\"sk-toggleable__control sk-hidden--visually\" id=\"aac39051-de9f-4cda-8df1-79afcec24930\" type=\"checkbox\" ><label class=\"sk-toggleable__label\" for=\"aac39051-de9f-4cda-8df1-79afcec24930\">LGBMClassifier</label><div class=\"sk-toggleable__content\"><pre>LGBMClassifier(device_type='gpu', learning_rate=0.0018069834369607075,\n",
       "               max_depth=8, metric='auc', min_samples_leaf=47,\n",
       "               n_estimators=5000, random_state=42, subsample=0.8573598985000007,\n",
       "               verbose=-1)</pre></div></div></div></div></div></div></div>"
      ],
      "text/plain": [
       "Pipeline(steps=[('preprocessor',\n",
       "                 ColumnTransformer(transformers=[('numerical',\n",
       "                                                  Pipeline(steps=[('imputer',\n",
       "                                                                   SimpleImputer(add_indicator=True,\n",
       "                                                                                 strategy='median')),\n",
       "                                                                  ('scaler',\n",
       "                                                                   PowerTransformer()),\n",
       "                                                                  ('kmeans',\n",
       "                                                                   MiniKmeansTransformerEncoder()),\n",
       "                                                                  ('polynominal_features',\n",
       "                                                                   PolynomialFeatures())]),\n",
       "                                                  Index(['RevolvingUtilizationOfUnsecuredLines', 'DebtRatio', 'MonthlyIncome'...\n",
       "       'NumberOfOpenCreditLinesAndLoans',\n",
       "       'NumberOfTime30-59DaysPastDueNotWorse', 'age'],\n",
       "      dtype='object'))])),\n",
       "                ('reducedim', SelectPercentile(percentile=95)),\n",
       "                ('classifier',\n",
       "                 LGBMClassifier(device_type='gpu',\n",
       "                                learning_rate=0.0018069834369607075,\n",
       "                                max_depth=8, metric='auc', min_samples_leaf=47,\n",
       "                                n_estimators=5000, random_state=42,\n",
       "                                subsample=0.8573598985000007, verbose=-1))])"
      ]
     },
     "execution_count": 22,
     "metadata": {},
     "output_type": "execute_result"
    }
   ],
   "source": [
    "lgbm_param2={'learning_rate': 0.0018069834369607075,\n",
    "                                 'max_depth': 8,\n",
    "                                 #'max_features': 4,\n",
    "                                 'min_samples_leaf': 47,\n",
    "                                 #'min_samples_split': 389,\n",
    "                                 'subsample': 0.8573598985000007,\n",
    "                                 #'n_iter_no_change': 300,\n",
    "                                 'n_estimators': 5000,\n",
    "                                 'verbose': -1,\n",
    "                                 'random_state': 42,\n",
    "                                 'metric': 'auc',\n",
    "                                \"device_type\" : \"gpu\",\n",
    "                                'boosting_type': 'gbdt',\n",
    "                                #'tree_method': \"gpu_hist\"\n",
    "                               }\n",
    "\n",
    "model_lgbm2 = lgbm.LGBMClassifier(**lgbm_param2,\n",
    "                              # use it  only on gpu\n",
    "                            # rsm=np.nan\n",
    "                              #cat_features=cat_features\n",
    "                             )\n",
    "pipe1_model_lgbm_woe_powertransformer2 = Pipeline(\n",
    "    steps=[\n",
    "        ('preprocessor', preprocessor_woe_powertransformer),\n",
    "         ('reducedim',  SelectPercentile( f_classif, percentile=95)),\n",
    "        # ('dim_red', SelectKBest(f_regression, k=20)),\n",
    "        #('Sparseinteractions', SparseInteractions(degree=2)),\n",
    "         #('PolynomialFeatures', PolynomialFeatures(degree=2)),\n",
    "        #('PCAreducer', PCA(n_components=0.8)),\n",
    "        ('classifier',model_lgbm2)\n",
    "    ]\n",
    ")\n",
    "pipe1_model_lgbm_woe_powertransformer2"
   ]
  },
  {
   "cell_type": "markdown",
   "id": "fe2a84de",
   "metadata": {
    "papermill": {
     "duration": 0.03785,
     "end_time": "2022-01-03T14:52:44.812235",
     "exception": false,
     "start_time": "2022-01-03T14:52:44.774385",
     "status": "completed"
    },
    "tags": []
   },
   "source": [
    "#  Train_Test"
   ]
  },
  {
   "cell_type": "code",
   "execution_count": 23,
   "id": "11582359",
   "metadata": {
    "execution": {
     "iopub.execute_input": "2022-01-03T14:52:44.902000Z",
     "iopub.status.busy": "2022-01-03T14:52:44.901172Z",
     "iopub.status.idle": "2022-01-03T14:52:45.004803Z",
     "shell.execute_reply": "2022-01-03T14:52:45.005265Z",
     "shell.execute_reply.started": "2022-01-03T13:11:40.661010Z"
    },
    "papermill": {
     "duration": 0.150833,
     "end_time": "2022-01-03T14:52:45.005425",
     "exception": false,
     "start_time": "2022-01-03T14:52:44.854592",
     "status": "completed"
    },
    "tags": []
   },
   "outputs": [],
   "source": [
    "###############################################################################\n",
    "#                                  Get data                                 #\n",
    "###############################################################################\n",
    "X_train,X_test, y_train,  y_test = train_test_split(X, y,stratify=y, \n",
    "                                                       test_size=0.25,\n",
    "                                                        random_state=42,\n",
    "                                                        shuffle=True)"
   ]
  },
  {
   "cell_type": "code",
   "execution_count": 24,
   "id": "aa881d8a",
   "metadata": {
    "execution": {
     "iopub.execute_input": "2022-01-03T14:52:45.088828Z",
     "iopub.status.busy": "2022-01-03T14:52:45.085071Z",
     "iopub.status.idle": "2022-01-03T14:52:48.671889Z",
     "shell.execute_reply": "2022-01-03T14:52:48.671267Z",
     "shell.execute_reply.started": "2022-01-03T13:11:40.768632Z"
    },
    "papermill": {
     "duration": 3.628102,
     "end_time": "2022-01-03T14:52:48.672017",
     "exception": false,
     "start_time": "2022-01-03T14:52:45.043915",
     "status": "completed"
    },
    "tags": []
   },
   "outputs": [],
   "source": [
    "preprocessor_woe_powertransformer_final.fit(X_train,y_train)\n",
    "X_train_pre = preprocessor_woe_powertransformer_final.transform(X_train)\n",
    "X_test_pre = preprocessor_woe_powertransformer_final.transform(X_test)\n",
    "#del x_final\n",
    "#del x_test_final"
   ]
  },
  {
   "cell_type": "markdown",
   "id": "a8f9f8f0",
   "metadata": {
    "papermill": {
     "duration": 0.037275,
     "end_time": "2022-01-03T14:52:48.747694",
     "exception": false,
     "start_time": "2022-01-03T14:52:48.710419",
     "status": "completed"
    },
    "tags": []
   },
   "source": [
    "# 1-Simple train : \n",
    "\n",
    "## Full classification report\n",
    "\n",
    "\n",
    "        Precision, Recall, F-measure, Support\n",
    "\n",
    "        Precision = tp / (tp + fp)\n",
    "\n",
    "        Recall = tp / (tp + fn)\n",
    "\n",
    "        F1 = 2 (precision recall) / (precision + recall)\n",
    "\n",
    "        Support = Number of cases on each class"
   ]
  },
  {
   "cell_type": "code",
   "execution_count": 25,
   "id": "9f855a45",
   "metadata": {
    "execution": {
     "iopub.execute_input": "2022-01-03T14:52:48.827553Z",
     "iopub.status.busy": "2022-01-03T14:52:48.826819Z",
     "iopub.status.idle": "2022-01-03T14:55:13.075490Z",
     "shell.execute_reply": "2022-01-03T14:55:13.075039Z",
     "shell.execute_reply.started": "2022-01-03T13:11:44.644941Z"
    },
    "papermill": {
     "duration": 144.290435,
     "end_time": "2022-01-03T14:55:13.075608",
     "exception": false,
     "start_time": "2022-01-03T14:52:48.785173",
     "status": "completed"
    },
    "tags": []
   },
   "outputs": [
    {
     "name": "stdout",
     "output_type": "stream",
     "text": [
      "[LightGBM] [Warning] min_data_in_leaf is set with min_child_samples=20, will be overridden by min_samples_leaf=47. Current value: min_data_in_leaf=47\n"
     ]
    },
    {
     "data": {
      "image/png": "[encoded data removed]",
      "text/plain": [
       "<Figure size 576x396 with 2 Axes>"
      ]
     },
     "metadata": {},
     "output_type": "display_data"
    },
    {
     "data": {
      "text/plain": [
       "<AxesSubplot:title={'center':'LGBMClassifier Classification Report'}>"
      ]
     },
     "execution_count": 25,
     "metadata": {},
     "output_type": "execute_result"
    }
   ],
   "source": [
    "#https://www.scikit-yb.org/en/latest/api/classifier/classification_report.html\n",
    "visualizer = ClassificationReport(model_lgbm2)\n",
    "visualizer.fit(X_train_pre,y_train)        # Fit the visualizer and the model\n",
    "visualizer.score(X_train_pre,y_train)        # Evaluate the model on the test data\n",
    "visualizer.show() "
   ]
  },
  {
   "cell_type": "code",
   "execution_count": 26,
   "id": "8232f927",
   "metadata": {
    "execution": {
     "iopub.execute_input": "2022-01-03T14:55:13.158229Z",
     "iopub.status.busy": "2022-01-03T14:55:13.157447Z",
     "iopub.status.idle": "2022-01-03T14:57:14.160832Z",
     "shell.execute_reply": "2022-01-03T14:57:14.160386Z",
     "shell.execute_reply.started": "2022-01-03T13:14:07.407741Z"
    },
    "papermill": {
     "duration": 121.045531,
     "end_time": "2022-01-03T14:57:14.160949",
     "exception": false,
     "start_time": "2022-01-03T14:55:13.115418",
     "status": "completed"
    },
    "tags": []
   },
   "outputs": [
    {
     "name": "stdout",
     "output_type": "stream",
     "text": [
      "[LightGBM] [Warning] min_data_in_leaf is set with min_child_samples=20, will be overridden by min_samples_leaf=47. Current value: min_data_in_leaf=47\n"
     ]
    },
    {
     "data": {
      "image/png": "[encoded data removed]",
      "text/plain": [
       "<Figure size 576x396 with 1 Axes>"
      ]
     },
     "metadata": {},
     "output_type": "display_data"
    },
    {
     "data": {
      "text/plain": [
       "<AxesSubplot:title={'center':'Threshold Plot for LGBMClassifier'}, xlabel='discrimination threshold', ylabel='score'>"
      ]
     },
     "execution_count": 26,
     "metadata": {},
     "output_type": "execute_result"
    }
   ],
   "source": [
    "visualizer = DiscriminationThreshold(model_lgbm2,\n",
    "                                     n_trials=1,\n",
    "                                     cv=0.5,\n",
    "                                     argmax='fscore',\n",
    "                                     random_state=0,\n",
    "                                     is_fitted='auto',\n",
    "                                     exclude = \"queue_rate\")\n",
    "\n",
    "visualizer.fit(X_train_pre,y_train)        # Fit the visualizer and the model\n",
    "visualizer.score(X_train_pre,y_train)        # Evaluate the model on the test data\n",
    "visualizer.show()"
   ]
  },
  {
   "cell_type": "markdown",
   "id": "ee3023c6",
   "metadata": {
    "papermill": {
     "duration": 0.040676,
     "end_time": "2022-01-03T14:57:14.242758",
     "exception": false,
     "start_time": "2022-01-03T14:57:14.202082",
     "status": "completed"
    },
    "tags": []
   },
   "source": [
    "# Undersample"
   ]
  },
  {
   "cell_type": "code",
   "execution_count": 27,
   "id": "3348ba1b",
   "metadata": {
    "execution": {
     "iopub.execute_input": "2022-01-03T14:57:14.333406Z",
     "iopub.status.busy": "2022-01-03T14:57:14.332780Z",
     "iopub.status.idle": "2022-01-03T14:57:14.335035Z",
     "shell.execute_reply": "2022-01-03T14:57:14.335433Z",
     "shell.execute_reply.started": "2022-01-03T14:13:37.277211Z"
    },
    "papermill": {
     "duration": 0.051835,
     "end_time": "2022-01-03T14:57:14.335572",
     "exception": false,
     "start_time": "2022-01-03T14:57:14.283737",
     "status": "completed"
    },
    "tags": []
   },
   "outputs": [],
   "source": [
    "undersampler_dict = {\n",
    "    'random': RandomUnderSampler(\n",
    "        sampling_strategy='auto',\n",
    "        random_state=42,\n",
    "        replacement=False),\n",
    "\n",
    "#    'cnn': CondensedNearestNeighbour(\n",
    " #       sampling_strategy='auto',\n",
    "  #      random_state=0,\n",
    "   #     n_neighbors=1,\n",
    "    #    n_jobs=4),\n",
    "\n",
    "    'tomek': TomekLinks(\n",
    "        sampling_strategy='auto',\n",
    "        n_jobs=-1),\n",
    "\n",
    "    'oss': OneSidedSelection(\n",
    "        sampling_strategy='auto',\n",
    "        random_state=42,\n",
    "        n_neighbors=1,\n",
    "        n_jobs=-1),\n",
    "\n",
    "    'enn': EditedNearestNeighbours(\n",
    "        sampling_strategy='auto',\n",
    "        n_neighbors=3,\n",
    "        kind_sel='all',\n",
    "        n_jobs=4),\n",
    "\n",
    "    'renn': RepeatedEditedNearestNeighbours(\n",
    "        sampling_strategy='auto',\n",
    "        n_neighbors=3,\n",
    "        kind_sel='all',\n",
    "        n_jobs=4,\n",
    "        max_iter=100),\n",
    "\n",
    "    'allknn': AllKNN(\n",
    "        sampling_strategy='auto',\n",
    "        n_neighbors=5,\n",
    "        kind_sel='all',\n",
    "        n_jobs=4),\n",
    "\n",
    "    'ncr': NeighbourhoodCleaningRule(\n",
    "        sampling_strategy='auto',\n",
    "        n_neighbors=3,\n",
    "        kind_sel='all',\n",
    "        n_jobs=4,\n",
    "        threshold_cleaning=0.5),\n",
    "\n",
    "   # 'nm1': NearMiss(\n",
    "    #    sampling_strategy='auto',\n",
    "     #   version=1,\n",
    "     #   n_neighbors=3,\n",
    "     #   n_jobs=4),\n",
    "\n",
    "    #'nm2': NearMiss(\n",
    "     #   sampling_strategy='auto',\n",
    "     #   version=2,\n",
    "     #   n_neighbors=3,\n",
    "     #   n_jobs=4),\n",
    "\n",
    "    # we set up the instance hardness threshold\n",
    "    # with the same classifier that we intend to use in our data\n",
    "    'iht': InstanceHardnessThreshold(\n",
    "        estimator=model_lgbm2,\n",
    "        sampling_strategy='auto',\n",
    "        random_state=42,\n",
    "        n_jobs=4,\n",
    "        cv=3)\n",
    "}"
   ]
  },
  {
   "cell_type": "code",
   "execution_count": 28,
   "id": "38309812",
   "metadata": {
    "execution": {
     "iopub.execute_input": "2022-01-03T14:57:14.421024Z",
     "iopub.status.busy": "2022-01-03T14:57:14.420218Z",
     "iopub.status.idle": "2022-01-03T14:57:14.427516Z",
     "shell.execute_reply": "2022-01-03T14:57:14.427056Z",
     "shell.execute_reply.started": "2022-01-03T14:13:37.333046Z"
    },
    "papermill": {
     "duration": 0.05123,
     "end_time": "2022-01-03T14:57:14.427626",
     "exception": false,
     "start_time": "2022-01-03T14:57:14.376396",
     "status": "completed"
    },
    "tags": []
   },
   "outputs": [],
   "source": [
    "# function to train random forests and evaluate the performance\n",
    "\n",
    "# ***with cross-validation***\n",
    "\n",
    "def run_model(X_train, y_train, undersampler=None):\n",
    "    \n",
    "    # set up the classifier\n",
    "    rf = model_lgbm2\n",
    "    \n",
    "    # set up a scaler \n",
    "    # (as many undersampling techniques use KNN\n",
    "    # we put the variables in the same scale)\n",
    "    scaler = MinMaxScaler()\n",
    "    \n",
    "    # without undersampling:\n",
    "    if not undersampler:\n",
    "\n",
    "        model = model_lgbm2\n",
    "    \n",
    "    # set up a pipeline with undersampling:\n",
    "    else:\n",
    "        \n",
    "        # important to scale before the under-sampler\n",
    "        # as the many of methods require the variables in \n",
    "        # a similar scale\n",
    "        model = make_pipeline(\n",
    "            scaler,\n",
    "            undersampler,\n",
    "            model_lgbm2,\n",
    "        )\n",
    "        \n",
    "        \n",
    "    # When we make a pipeline and then run the training of the model\n",
    "    # with cross-validation, the procedure works as follows:\n",
    "    \n",
    "    # 1) take 2 of the 3 fold as train set\n",
    "    # 2) resample the 2 fold (aka, the train set)\n",
    "    # 3) train the model on the resampled data from point 2\n",
    "    # 4) evaluate performance on the 3rd fold, that was not resampled\n",
    "    \n",
    "    # this way, we make sure that we are not evaluating the performance\n",
    "    # of our classifier on the under-sampled data\n",
    "    \n",
    "    cv_results = cross_validate(\n",
    "        model, # the lgbm model  or the pipeline\n",
    "        X_train, # the data that will be used in the cross-validation\n",
    "        y_train, # the target\n",
    "        scoring=\"roc_auc\", # the metric that we want to evaluate\n",
    "        cv=4, # the cross-validation fold\n",
    "    )\n",
    "\n",
    "    print(\n",
    "        'model_lgbm2 roc_auc: {0} +/- {1}'.format(\n",
    "        cv_results['test_score'].mean(), cv_results['test_score'].std()\n",
    "        )\n",
    "    )\n",
    "    return cv_results['test_score'].mean(), cv_results['test_score'].std()"
   ]
  },
  {
   "cell_type": "code",
   "execution_count": 29,
   "id": "4bc95569",
   "metadata": {
    "execution": {
     "iopub.execute_input": "2022-01-03T14:57:14.520485Z",
     "iopub.status.busy": "2022-01-03T14:57:14.519897Z",
     "iopub.status.idle": "2022-01-03T16:52:34.079848Z",
     "shell.execute_reply": "2022-01-03T16:52:34.080267Z"
    },
    "papermill": {
     "duration": 6919.611856,
     "end_time": "2022-01-03T16:52:34.080474",
     "exception": false,
     "start_time": "2022-01-03T14:57:14.468618",
     "status": "completed"
    },
    "tags": []
   },
   "outputs": [
    {
     "name": "stdout",
     "output_type": "stream",
     "text": [
      "[LightGBM] [Warning] min_data_in_leaf is set with min_child_samples=20, will be overridden by min_samples_leaf=47. Current value: min_data_in_leaf=47\n",
      "[LightGBM] [Warning] min_data_in_leaf is set with min_child_samples=20, will be overridden by min_samples_leaf=47. Current value: min_data_in_leaf=47\n",
      "[LightGBM] [Warning] min_data_in_leaf is set with min_child_samples=20, will be overridden by min_samples_leaf=47. Current value: min_data_in_leaf=47\n",
      "[LightGBM] [Warning] min_data_in_leaf is set with min_child_samples=20, will be overridden by min_samples_leaf=47. Current value: min_data_in_leaf=47\n",
      "model_lgbm2 roc_auc: 0.8625688276997037 +/- 0.0035080236891726173\n",
      "\n",
      "random\n",
      "[LightGBM] [Warning] min_data_in_leaf is set with min_child_samples=20, will be overridden by min_samples_leaf=47. Current value: min_data_in_leaf=47\n",
      "[LightGBM] [Warning] min_data_in_leaf is set with min_child_samples=20, will be overridden by min_samples_leaf=47. Current value: min_data_in_leaf=47\n",
      "[LightGBM] [Warning] min_data_in_leaf is set with min_child_samples=20, will be overridden by min_samples_leaf=47. Current value: min_data_in_leaf=47\n",
      "[LightGBM] [Warning] min_data_in_leaf is set with min_child_samples=20, will be overridden by min_samples_leaf=47. Current value: min_data_in_leaf=47\n",
      "model_lgbm2 roc_auc: 0.858181429188133 +/- 0.004612587761779285\n",
      "\n",
      "tomek\n",
      "[LightGBM] [Warning] min_data_in_leaf is set with min_child_samples=20, will be overridden by min_samples_leaf=47. Current value: min_data_in_leaf=47\n",
      "[LightGBM] [Warning] min_data_in_leaf is set with min_child_samples=20, will be overridden by min_samples_leaf=47. Current value: min_data_in_leaf=47\n",
      "[LightGBM] [Warning] min_data_in_leaf is set with min_child_samples=20, will be overridden by min_samples_leaf=47. Current value: min_data_in_leaf=47\n",
      "[LightGBM] [Warning] min_data_in_leaf is set with min_child_samples=20, will be overridden by min_samples_leaf=47. Current value: min_data_in_leaf=47\n",
      "model_lgbm2 roc_auc: 0.8627041498279308 +/- 0.003584230592089494\n",
      "\n",
      "oss\n",
      "[LightGBM] [Warning] min_data_in_leaf is set with min_child_samples=20, will be overridden by min_samples_leaf=47. Current value: min_data_in_leaf=47\n",
      "[LightGBM] [Warning] min_data_in_leaf is set with min_child_samples=20, will be overridden by min_samples_leaf=47. Current value: min_data_in_leaf=47\n",
      "[LightGBM] [Warning] min_data_in_leaf is set with min_child_samples=20, will be overridden by min_samples_leaf=47. Current value: min_data_in_leaf=47\n",
      "[LightGBM] [Warning] min_data_in_leaf is set with min_child_samples=20, will be overridden by min_samples_leaf=47. Current value: min_data_in_leaf=47\n",
      "model_lgbm2 roc_auc: 0.8627229021333344 +/- 0.003784828443950451\n",
      "\n",
      "enn\n",
      "[LightGBM] [Warning] min_data_in_leaf is set with min_child_samples=20, will be overridden by min_samples_leaf=47. Current value: min_data_in_leaf=47\n",
      "[LightGBM] [Warning] min_data_in_leaf is set with min_child_samples=20, will be overridden by min_samples_leaf=47. Current value: min_data_in_leaf=47\n",
      "[LightGBM] [Warning] min_data_in_leaf is set with min_child_samples=20, will be overridden by min_samples_leaf=47. Current value: min_data_in_leaf=47\n",
      "[LightGBM] [Warning] min_data_in_leaf is set with min_child_samples=20, will be overridden by min_samples_leaf=47. Current value: min_data_in_leaf=47\n",
      "model_lgbm2 roc_auc: 0.8630909788287942 +/- 0.0038026055124852757\n",
      "\n",
      "renn\n",
      "[LightGBM] [Warning] min_data_in_leaf is set with min_child_samples=20, will be overridden by min_samples_leaf=47. Current value: min_data_in_leaf=47\n",
      "[LightGBM] [Warning] min_data_in_leaf is set with min_child_samples=20, will be overridden by min_samples_leaf=47. Current value: min_data_in_leaf=47\n",
      "[LightGBM] [Warning] min_data_in_leaf is set with min_child_samples=20, will be overridden by min_samples_leaf=47. Current value: min_data_in_leaf=47\n",
      "[LightGBM] [Warning] min_data_in_leaf is set with min_child_samples=20, will be overridden by min_samples_leaf=47. Current value: min_data_in_leaf=47\n",
      "model_lgbm2 roc_auc: 0.8621382365638033 +/- 0.003615991141402151\n",
      "\n",
      "allknn\n",
      "[LightGBM] [Warning] min_data_in_leaf is set with min_child_samples=20, will be overridden by min_samples_leaf=47. Current value: min_data_in_leaf=47\n",
      "[LightGBM] [Warning] min_data_in_leaf is set with min_child_samples=20, will be overridden by min_samples_leaf=47. Current value: min_data_in_leaf=47\n",
      "[LightGBM] [Warning] min_data_in_leaf is set with min_child_samples=20, will be overridden by min_samples_leaf=47. Current value: min_data_in_leaf=47\n",
      "[LightGBM] [Warning] min_data_in_leaf is set with min_child_samples=20, will be overridden by min_samples_leaf=47. Current value: min_data_in_leaf=47\n",
      "model_lgbm2 roc_auc: 0.8621110226669315 +/- 0.0040351051926343535\n",
      "\n",
      "ncr\n",
      "[LightGBM] [Warning] min_data_in_leaf is set with min_child_samples=20, will be overridden by min_samples_leaf=47. Current value: min_data_in_leaf=47\n",
      "[LightGBM] [Warning] min_data_in_leaf is set with min_child_samples=20, will be overridden by min_samples_leaf=47. Current value: min_data_in_leaf=47\n",
      "[LightGBM] [Warning] min_data_in_leaf is set with min_child_samples=20, will be overridden by min_samples_leaf=47. Current value: min_data_in_leaf=47\n",
      "[LightGBM] [Warning] min_data_in_leaf is set with min_child_samples=20, will be overridden by min_samples_leaf=47. Current value: min_data_in_leaf=47\n",
      "model_lgbm2 roc_auc: 0.8621691036387884 +/- 0.003973914786246707\n",
      "\n",
      "iht\n",
      "[LightGBM] [Warning] min_data_in_leaf is set with min_child_samples=20, will be overridden by min_samples_leaf=47. Current value: min_data_in_leaf=47\n",
      "[LightGBM] [Warning] min_data_in_leaf is set with min_child_samples=20, will be overridden by min_samples_leaf=47. Current value: min_data_in_leaf=47\n",
      "[LightGBM] [Warning] min_data_in_leaf is set with min_child_samples=20, will be overridden by min_samples_leaf=47. Current value: min_data_in_leaf=47\n",
      "[LightGBM] [Warning] min_data_in_leaf is set with min_child_samples=20, will be overridden by min_samples_leaf=47. Current value: min_data_in_leaf=47\n",
      "[LightGBM] [Warning] min_data_in_leaf is set with min_child_samples=20, will be overridden by min_samples_leaf=47. Current value: min_data_in_leaf=47\n",
      "[LightGBM] [Warning] min_data_in_leaf is set with min_child_samples=20, will be overridden by min_samples_leaf=47. Current value: min_data_in_leaf=47\n",
      "[LightGBM] [Warning] min_data_in_leaf is set with min_child_samples=20, will be overridden by min_samples_leaf=47. Current value: min_data_in_leaf=47\n",
      "[LightGBM] [Warning] min_data_in_leaf is set with min_child_samples=20, will be overridden by min_samples_leaf=47. Current value: min_data_in_leaf=47\n",
      "[LightGBM] [Warning] min_data_in_leaf is set with min_child_samples=20, will be overridden by min_samples_leaf=47. Current value: min_data_in_leaf=47\n",
      "model_lgbm2 roc_auc: 0.7991996119828295 +/- 0.010744213905743065\n",
      "\n",
      "\n"
     ]
    }
   ],
   "source": [
    "# now we train several models, with the different under-samplers and\n",
    "# with cross-validation\n",
    "# to save the results\n",
    "pr_mean_dict = {}\n",
    "pr_std_dict = {} \n",
    "# initiate a dictionary per dataset\n",
    "#pr_mean_dict[dataset] = {}\n",
    "#pr_std_dict[dataset] = {}\n",
    "\n",
    "# load dataset\n",
    "#data = fetch_datasets()[dataset]\n",
    "\n",
    "# separate dataset into train and test\n",
    "#X_train, X_test, y_train, y_test = train_test_split(\n",
    " #   data.data,  \n",
    "  #  data.target, \n",
    "   # test_size=0.3,\n",
    "   # random_state=0,\n",
    "#)\n",
    "\n",
    "\n",
    "# train model on data without re-sampling\n",
    "# with cross-validation\n",
    "aps_mean, aps_std = run_model(X_train_pre, y_train)\n",
    " # store results\n",
    "pr_mean_dict['full_data'] = aps_mean\n",
    "pr_std_dict['full_data'] = aps_std\n",
    "    \n",
    "print()\n",
    "for undersampler in undersampler_dict.keys():\n",
    "\n",
    "    print(undersampler)\n",
    "\n",
    "    # resample, train and evaluate performance\n",
    "    # with cross-validation\n",
    "    aps_mean, aps_std = run_model(X_train_pre, y_train, undersampler_dict[undersampler])\n",
    "     # store results\n",
    "    pr_mean_dict[undersampler] = aps_mean\n",
    "    pr_std_dict[undersampler] = aps_std\n",
    "    print()\n",
    "print()"
   ]
  },
  {
   "cell_type": "code",
   "execution_count": 30,
   "id": "128701f3",
   "metadata": {
    "execution": {
     "iopub.execute_input": "2022-01-03T16:52:34.192940Z",
     "iopub.status.busy": "2022-01-03T16:52:34.192258Z",
     "iopub.status.idle": "2022-01-03T16:52:34.409327Z",
     "shell.execute_reply": "2022-01-03T16:52:34.408887Z"
    },
    "papermill": {
     "duration": 0.276105,
     "end_time": "2022-01-03T16:52:34.409447",
     "exception": false,
     "start_time": "2022-01-03T16:52:34.133342",
     "status": "completed"
    },
    "tags": []
   },
   "outputs": [
    {
     "data": {
      "image/png": "[encoded data removed]",
      "text/plain": [
       "<Figure size 576x396 with 1 Axes>"
      ]
     },
     "metadata": {},
     "output_type": "display_data"
    }
   ],
   "source": [
    "pr_mean_s = pd.Series(pr_mean_dict)\n",
    "pr_std_s = pd.Series(pr_std_dict)\n",
    "pr_mean_s.plot.bar(yerr=[pr_std_s, pr_std_s])\n",
    "plt.title(\"train with different undersampling method\")\n",
    "plt.ylabel(\"roc_auc\")\n",
    "plt.axhline(pr_mean_dict['full_data'], color='r')\n",
    "plt.show()"
   ]
  },
  {
   "cell_type": "markdown",
   "id": "94297b36",
   "metadata": {
    "papermill": {
     "duration": 0.053777,
     "end_time": "2022-01-03T16:52:34.516603",
     "exception": false,
     "start_time": "2022-01-03T16:52:34.462826",
     "status": "completed"
    },
    "tags": []
   },
   "source": [
    "Different under-sampling techniques work best for different datasets.\n",
    "ENN, RENN and AllKNN tend to produce similar results, so we may as well just choose one of the 3"
   ]
  },
  {
   "cell_type": "code",
   "execution_count": 31,
   "id": "02b8a497",
   "metadata": {
    "execution": {
     "iopub.execute_input": "2022-01-03T16:52:34.628870Z",
     "iopub.status.busy": "2022-01-03T16:52:34.628243Z",
     "iopub.status.idle": "2022-01-03T16:52:34.631503Z",
     "shell.execute_reply": "2022-01-03T16:52:34.632085Z"
    },
    "papermill": {
     "duration": 0.062687,
     "end_time": "2022-01-03T16:52:34.632252",
     "exception": false,
     "start_time": "2022-01-03T16:52:34.569565",
     "status": "completed"
    },
    "tags": []
   },
   "outputs": [
    {
     "name": "stdout",
     "output_type": "stream",
     "text": [
      "CPU times: user 4 µs, sys: 0 ns, total: 4 µs\n",
      "Wall time: 7.63 µs\n"
     ]
    }
   ],
   "source": [
    "%%time \n",
    "#pipe_woe_powertransformer.fit(X,y)\n",
    "#x_pre = pipe_woe_powertransformer_red.transform(X)\n",
    "#x_test_final_pre = pipe_woe_powertransformer_red.transform(X_test_final)\n",
    "#del x_final\n",
    "#del x_test_final\n",
    "def plot_roc(y,y_pred):\n",
    "    from sklearn.metrics import auc\n",
    "    fpr, tpr, thresholds = roc_curve(y_true=y, y_score=y_pred)\n",
    "    auc = auc(fpr, tpr)\n",
    "    plt.figure(1)\n",
    "    plt.plot([0, 1], [0, 1], 'k--')\n",
    "    plt.plot(fpr, tpr, label='Model(area = {:.3f})'.format(auc))\n",
    "    plt.xlabel('False positive rate')\n",
    "    plt.ylabel('True positive rate')\n",
    "    plt.title('ROC curve')\n",
    "    plt.legend(loc='best')\n",
    "    plt.show()"
   ]
  },
  {
   "cell_type": "markdown",
   "id": "d6f5086d",
   "metadata": {
    "execution": {
     "iopub.status.busy": "2021-12-31T12:33:50.384931Z",
     "iopub.status.idle": "2021-12-31T12:33:50.385528Z",
     "shell.execute_reply": "2021-12-31T12:33:50.385321Z",
     "shell.execute_reply.started": "2021-12-31T12:33:50.385297Z"
    },
    "papermill": {
     "duration": 0.053795,
     "end_time": "2022-01-03T16:52:34.740042",
     "exception": false,
     "start_time": "2022-01-03T16:52:34.686247",
     "status": "completed"
    },
    "tags": []
   },
   "source": [
    "    %%time \n",
    "    # evaluate each strategy on the dataset\n",
    "    results = list()\n",
    "    # Setting a 10-fold stratified cross-validation (note: shuffle=True)\n",
    "    SEED = 42\n",
    "    FOLDS = 10\n",
    "    skf = StratifiedKFold(n_splits=FOLDS, shuffle=True, random_state=SEED)\n",
    "    # CV interations\n",
    "    # Create arrays for the features and the response variable\n",
    "    roc_auc = list()\n",
    "    average_precision = list()\n",
    "    #X1=X.iloc[0:2000,:].copy()\n",
    "    #y1=y[0:2000].copy()\n",
    "    oof = np.empty((X.shape[0],))\n",
    "    #oof_bin = np.empty((X.shape[0],))\n",
    "    predictions=[]\n",
    "    mean_auc = 0\n",
    "    mean_ap=0\n",
    "    F1 = list()\n",
    "    Recall=list()\n",
    "    best_iteration = list()\n",
    "    for fold, (train_idx, test_idx) in enumerate(skf.split(X, y)):    \n",
    "        X_train, y_train = X.iloc[list(train_idx), :], y.iloc[list(train_idx)]\n",
    "        X_test, y_test = X.iloc[list(test_idx), :],y.iloc[list(test_idx)]\n",
    "        pipe1_model_lgbm_woe_powertransformer2.fit(X_train,y_train,\n",
    "                                                      #classifier__verbose=False\n",
    "                                                      #,verbose=False\n",
    "                                                     )\n",
    "        preds = pipe1_model_lgbm_woe_powertransformer2.predict_proba(X_test)[:,1]\n",
    "        oof[test_idx] = preds\n",
    "        auc_score= roc_auc_score(y_true=y_test, y_score=preds)\n",
    "        roc_auc.append(auc_score)\n",
    "        ap=average_precision_score(y_true=y_test, y_score=preds)\n",
    "        plot_roc(y_test,preds)\n",
    "        mean_auc += auc_score / FOLDS\n",
    "        mean_ap+=ap/FOLDS\n",
    "        predictions.append(pipe1_model_lgbm_woe_powertransformer2.predict_proba(X_test_final)[:,1]) \n",
    "        y_predicted = pipe1_model_lgbm_woe_powertransformer2.predict(X_test)\n",
    "        recall = recall_score(y_test, y_predicted)\n",
    "        f1= f1_score(y_test, y_predicted)\n",
    "        print(f\"Fold {fold} | AUC: {auc_score}\")\n",
    "        print(f\"Fold {fold} | Avergae_precesion: {ap}\")\n",
    "        print(f\"Fold {fold} | recall: {recall}\")\n",
    "        print(f\"Fold {fold} | F1: {f1}\")\n",
    "        print('Classification report:\\n',classification_report(y_test,y_predicted))\n",
    "        print('Confusion_matrix:\\n',confusion_matrix(y_test,y_predicted))\n",
    "        roc_auc.append(auc_score)\n",
    "        F1.append(f1)\n",
    "        Recall.append(recall)\n",
    "        #Mean of the predictions\n",
    "    print('-' * 80)  \n",
    "    print(f\"\\nOverall mean AUC score : {mean_auc}\")\n",
    "    print(f\"\\nOverall mean F1 score : {np.mean(F1)}\")\n",
    "    print(f\"\\nOverall mean average precision score : {mean_ap}\")\n",
    "    print(f\"\\nOverall mean recall score : {np.mean(Recall)}\")"
   ]
  },
  {
   "cell_type": "markdown",
   "id": "5b814743",
   "metadata": {
    "papermill": {
     "duration": 0.053134,
     "end_time": "2022-01-03T16:52:34.846777",
     "exception": false,
     "start_time": "2022-01-03T16:52:34.793643",
     "status": "completed"
    },
    "tags": []
   },
   "source": [
    "# Prepare data + undersample in all data"
   ]
  },
  {
   "cell_type": "code",
   "execution_count": 32,
   "id": "eb67e745",
   "metadata": {
    "execution": {
     "iopub.execute_input": "2022-01-03T16:52:34.958697Z",
     "iopub.status.busy": "2022-01-03T16:52:34.957987Z",
     "iopub.status.idle": "2022-01-03T16:52:34.960818Z",
     "shell.execute_reply": "2022-01-03T16:52:34.961409Z"
    },
    "papermill": {
     "duration": 0.061661,
     "end_time": "2022-01-03T16:52:34.961572",
     "exception": false,
     "start_time": "2022-01-03T16:52:34.899911",
     "status": "completed"
    },
    "tags": []
   },
   "outputs": [
    {
     "name": "stdout",
     "output_type": "stream",
     "text": [
      "CPU times: user 3 µs, sys: 0 ns, total: 3 µs\n",
      "Wall time: 6.2 µs\n"
     ]
    }
   ],
   "source": [
    "%%time \n",
    "#pipe_woe_powertransformer.fit(X,y)\n",
    "#x_pre = pipe_woe_powertransformer_red.transform(X)\n",
    "#x_test_final_pre = pipe_woe_powertransformer_red.transform(X_test_final)\n",
    "#model = make_pipeline(\n",
    " #           scaler,\n",
    "  #          undersampler,\n",
    "   #         model_lgbm2,\n",
    "    #    )\n",
    "#del x_final\n",
    "#del x_test_final"
   ]
  },
  {
   "cell_type": "code",
   "execution_count": 33,
   "id": "b078ca83",
   "metadata": {
    "execution": {
     "iopub.execute_input": "2022-01-03T16:52:35.075214Z",
     "iopub.status.busy": "2022-01-03T16:52:35.074386Z",
     "iopub.status.idle": "2022-01-03T16:52:35.076831Z",
     "shell.execute_reply": "2022-01-03T16:52:35.076306Z"
    },
    "papermill": {
     "duration": 0.060543,
     "end_time": "2022-01-03T16:52:35.076936",
     "exception": false,
     "start_time": "2022-01-03T16:52:35.016393",
     "status": "completed"
    },
    "tags": []
   },
   "outputs": [],
   "source": [
    "#predictions.shape"
   ]
  },
  {
   "cell_type": "code",
   "execution_count": 34,
   "id": "e8490f9d",
   "metadata": {
    "execution": {
     "iopub.execute_input": "2022-01-03T16:52:35.188977Z",
     "iopub.status.busy": "2022-01-03T16:52:35.188184Z",
     "iopub.status.idle": "2022-01-03T16:52:35.190406Z",
     "shell.execute_reply": "2022-01-03T16:52:35.190773Z"
    },
    "papermill": {
     "duration": 0.06003,
     "end_time": "2022-01-03T16:52:35.190897",
     "exception": false,
     "start_time": "2022-01-03T16:52:35.130867",
     "status": "completed"
    },
    "tags": []
   },
   "outputs": [],
   "source": [
    "#predictions"
   ]
  },
  {
   "cell_type": "code",
   "execution_count": 35,
   "id": "a123df15",
   "metadata": {
    "execution": {
     "iopub.execute_input": "2022-01-03T16:52:35.304885Z",
     "iopub.status.busy": "2022-01-03T16:52:35.304017Z",
     "iopub.status.idle": "2022-01-03T16:52:35.306599Z",
     "shell.execute_reply": "2022-01-03T16:52:35.306140Z"
    },
    "papermill": {
     "duration": 0.06194,
     "end_time": "2022-01-03T16:52:35.306714",
     "exception": false,
     "start_time": "2022-01-03T16:52:35.244774",
     "status": "completed"
    },
    "tags": []
   },
   "outputs": [],
   "source": [
    "#predictions = np.mean(np.column_stack(predictions), axis=1)"
   ]
  },
  {
   "cell_type": "markdown",
   "id": "63064a2f",
   "metadata": {
    "execution": {
     "iopub.status.busy": "2021-12-31T12:33:50.392054Z",
     "iopub.status.idle": "2021-12-31T12:33:50.392674Z",
     "shell.execute_reply": "2021-12-31T12:33:50.392439Z",
     "shell.execute_reply.started": "2021-12-31T12:33:50.392415Z"
    },
    "papermill": {
     "duration": 0.055924,
     "end_time": "2022-01-03T16:52:35.422339",
     "exception": false,
     "start_time": "2022-01-03T16:52:35.366415",
     "status": "completed"
    },
    "tags": []
   },
   "source": [
    "    # Save the predictions to a CSV file\n",
    "    sub = pd.read_csv('../input/GiveMeSomeCredit/sampleEntry.csv')\n",
    "    sub['Probability']=predictions\n",
    "    sub.to_csv('pipe1_model_lgbm_woe_powertransformer2_simple.csv', index=False)\n",
    "    sub"
   ]
  },
  {
   "cell_type": "markdown",
   "id": "a41cc89b",
   "metadata": {
    "papermill": {
     "duration": 0.054826,
     "end_time": "2022-01-03T16:52:35.531880",
     "exception": false,
     "start_time": "2022-01-03T16:52:35.477054",
     "status": "completed"
    },
    "tags": []
   },
   "source": [
    "# Conclusion: \n",
    "\n",
    "**Advantage and disadvantages of Under-sampling**\n",
    "\n",
    "**Advantages;**\n",
    "\n",
    "It can help improve run time and storage problems by reducing the number of training data samples when the training data set is huge.\n",
    "\n",
    "**Disadvantages;**\n",
    "\n",
    "It can discard potentially useful information which could be important for building rule classifiers.\n",
    "The sample chosen by random under-sampling may be a biased sample. And it will not be an accurate representation of the population. Thereby, resulting in inaccurate results with the actual test data set.\n",
    "\n",
    "credit: \n",
    "\n",
    "**Imbalanced:**\n",
    "\n",
    "https://www.analyticsvidhya.com/blog/2020/07/10-techniques-to-deal-with-class-imbalance-in-machine-learning/\n",
    "\n",
    "https://github.com/DeepSparkChaker/machine-learning-imbalanced-data/tree/master/Section-04-Undersampling\n",
    "\n",
    "https://github.com/DeepSparkChaker/machine-learning-imbalanced-data/blob/master/Section-04-Undersampling/04-12-Under-sampling-method-comparison-Precision-cross-val.ipynb\n",
    "\n",
    "**stacking:**\n",
    "\n",
    "https://towardsdatascience.com/stacking-classifiers-for-higher-predictive-performance-566f963e4840\n",
    "\n",
    "https://www.dataquest.io/blog/introduction-to-ensembles/\n",
    "\n",
    "https://scikit-learn.org/stable/modules/ensemble.html\n",
    "\n",
    "https://machinelearningmastery.com/stacking-ensemble-machine-learning-with-python/\n",
    "\n",
    "\n",
    "https://mlfromscratch.com/model-stacking-explained/#/\n",
    "\n",
    "http://rasbt.github.io/mlxtend/user_guide/classifier/StackingClassifier/\n",
    "\n",
    "http://rasbt.github.io/mlxtend/user_guide/classifier/StackingCVClassifier/\n",
    "\n",
    "\n",
    "https://www.kaggle.com/bannourchaker/7ensembling-stacking-averaging-scratchvssklearn/edit/run/73916270\n",
    "\n",
    "https://www.kaggle.com/bannourchaker/averagingmodels\n",
    "\n",
    "https://mlfromscratch.com/model-stacking-explained/#/\n",
    "\n",
    "https://neptune.ai/blog/ensemble-learning-guide\n",
    "\n",
    "https://www.analyticsvidhya.com/blog/2021/08/ensemble-stacking-for-machine-learning-and-deep-learning/\n",
    "\n",
    "https://www.kaggle.com/prashant111/adaboost-classifier-tutorial\n",
    "\n",
    "https://www.kaggle.com/bannourchaker/stacking/edit/run/75840835\n",
    "\n",
    "https://www.kaggle.com/bannourchaker/8-ensembling-blending-scratchvsoop\n",
    "\n",
    "**Bagging:**\n",
    "\n",
    "https://vitalflux.com/bagging-classifier-python-code-example/\n",
    "\n",
    "https://www.analyticsvidhya.com/blog/2018/06/comprehensive-guide-for-ensemble-models/\n",
    "\n",
    "**complete guide Stacking :**\n",
    "\n",
    "https://neptune.ai/blog/ensemble-learning-guide\n",
    "\n",
    "https://www.analyticsvidhya.com/blog/2021/08/ensemble-stacking-for-machine-learning-and-deep-learning/\n",
    "\n",
    "https://www.kaggle.com/prashant111/adaboost-classifier-tutorial"
   ]
  }
 ],
 "metadata": {
  "kernelspec": {
   "display_name": "Python 3",
   "language": "python",
   "name": "python3"
  },
  "language_info": {
   "codemirror_mode": {
    "name": "ipython",
    "version": 3
   },
   "file_extension": ".py",
   "mimetype": "text/x-python",
   "name": "python",
   "nbconvert_exporter": "python",
   "pygments_lexer": "ipython3",
   "version": "3.7.12"
  },
  "papermill": {
   "default_parameters": {},
   "duration": 7497.72948,
   "end_time": "2022-01-03T16:52:36.908506",
   "environment_variables": {},
   "exception": null,
   "input_path": "__notebook__.ipynb",
   "output_path": "__notebook__.ipynb",
   "parameters": {},
   "start_time": "2022-01-03T14:47:39.179026",
   "version": "2.3.3"
  }
 },
 "nbformat": 4,
 "nbformat_minor": 5
}
