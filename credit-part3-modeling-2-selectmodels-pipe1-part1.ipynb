{
 "cells": [
  {
   "cell_type": "markdown",
   "id": "8ed0f1c7",
   "metadata": {
    "papermill": {
     "duration": 0.047714,
     "end_time": "2021-12-27T14:36:20.439567",
     "exception": false,
     "start_time": "2021-12-27T14:36:20.391853",
     "status": "completed"
    },
    "tags": []
   },
   "source": [
    "Feature engineering and feature selection is an iterative process that starts with engineering new features, training a model, and then testing the model predictions against the target labels. The goal is to determine which features improve the model’s prediction accuracy. You repeat this process, along with hyperparameter tuning, until you are satisfied with the model’s accuracy. \n",
    "\n",
    "# Load Lib "
   ]
  },
  {
   "cell_type": "code",
   "execution_count": 1,
   "id": "0d6d7ec7",
   "metadata": {
    "_cell_guid": "ddedf45c-cdd2-4013-973f-6ccf6c78347a",
    "_uuid": "20c9b28e-4c93-447d-8210-cad89f404354",
    "collapsed": false,
    "execution": {
     "iopub.execute_input": "2021-12-27T14:36:20.538821Z",
     "iopub.status.busy": "2021-12-27T14:36:20.536877Z",
     "iopub.status.idle": "2021-12-27T14:36:23.817534Z",
     "shell.execute_reply": "2021-12-27T14:36:23.818137Z",
     "shell.execute_reply.started": "2021-12-27T14:25:46.814332Z"
    },
    "jupyter": {
     "outputs_hidden": false
    },
    "papermill": {
     "duration": 3.332125,
     "end_time": "2021-12-27T14:36:23.818498",
     "exception": false,
     "start_time": "2021-12-27T14:36:20.486373",
     "status": "completed"
    },
    "tags": []
   },
   "outputs": [
    {
     "data": {
      "text/html": [
       "<style type='text/css'>\n",
       ".datatable table.frame { margin-bottom: 0; }\n",
       ".datatable table.frame thead { border-bottom: none; }\n",
       ".datatable table.frame tr.coltypes td {  color: #FFFFFF;  line-height: 6px;  padding: 0 0.5em;}\n",
       ".datatable .bool    { background: #DDDD99; }\n",
       ".datatable .object  { background: #565656; }\n",
       ".datatable .int     { background: #5D9E5D; }\n",
       ".datatable .float   { background: #4040CC; }\n",
       ".datatable .str     { background: #CC4040; }\n",
       ".datatable .time    { background: #40CC40; }\n",
       ".datatable .row_index {  background: var(--jp-border-color3);  border-right: 1px solid var(--jp-border-color0);  color: var(--jp-ui-font-color3);  font-size: 9px;}\n",
       ".datatable .frame tbody td { text-align: left; }\n",
       ".datatable .frame tr.coltypes .row_index {  background: var(--jp-border-color0);}\n",
       ".datatable th:nth-child(2) { padding-left: 12px; }\n",
       ".datatable .hellipsis {  color: var(--jp-cell-editor-border-color);}\n",
       ".datatable .vellipsis {  background: var(--jp-layout-color0);  color: var(--jp-cell-editor-border-color);}\n",
       ".datatable .na {  color: var(--jp-cell-editor-border-color);  font-size: 80%;}\n",
       ".datatable .sp {  opacity: 0.25;}\n",
       ".datatable .footer { font-size: 9px; }\n",
       ".datatable .frame_dimensions {  background: var(--jp-border-color3);  border-top: 1px solid var(--jp-border-color0);  color: var(--jp-ui-font-color3);  display: inline-block;  opacity: 0.6;  padding: 1px 10px 1px 5px;}\n",
       ".datatable .frame thead tr.colnames {  background-image: url('data:image/png;base64,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');  background-repeat: repeat-x;  background-size: 14px;  height: 28px;}\n",
       "</style>\n"
      ],
      "text/plain": [
       "<IPython.core.display.HTML object>"
      ]
     },
     "metadata": {},
     "output_type": "display_data"
    }
   ],
   "source": [
    "#Load the librarys\n",
    "import pandas as pd #To work with dataset\n",
    "import numpy as np #Math library\n",
    "import matplotlib.gridspec as gridspec\n",
    "import seaborn as sns #Graph library that use matplot in background\n",
    "import matplotlib.pyplot as plt #to plot some parameters in seaborn\n",
    "import warnings\n",
    "# Preparation  \n",
    "from sklearn.preprocessing import LabelEncoder, OrdinalEncoder\n",
    "from sklearn.preprocessing import OneHotEncoder\n",
    "from sklearn.preprocessing import PowerTransformer, StandardScaler,Normalizer,RobustScaler,MaxAbsScaler,MinMaxScaler,QuantileTransformer\n",
    "from sklearn.preprocessing import FunctionTransformer\n",
    "from sklearn.preprocessing import PolynomialFeatures\n",
    "from sklearn.neighbors import KNeighborsClassifier\n",
    "from sklearn.preprocessing import KBinsDiscretizer\n",
    "# Import StandardScaler from scikit-learn\n",
    "from sklearn.experimental import enable_iterative_imputer\n",
    "from sklearn.impute import SimpleImputer\n",
    "from sklearn.impute import KNNImputer,IterativeImputer\n",
    "from sklearn.feature_extraction.text import CountVectorizer\n",
    "from sklearn.compose import make_column_transformer,ColumnTransformer\n",
    "from sklearn.pipeline import make_pipeline, Pipeline,FeatureUnion\n",
    "from sklearn.manifold import TSNE\n",
    "# Import train_test_split()\n",
    "# Metrics\n",
    "from sklearn.metrics import roc_auc_score, average_precision_score,recall_score\n",
    "from sklearn.metrics import make_scorer,mean_absolute_error\n",
    "from sklearn.metrics import mean_squared_error,classification_report,f1_score\n",
    "from sklearn.metrics import roc_curve,confusion_matrix\n",
    "from datetime import datetime, date\n",
    "from sklearn.linear_model import ElasticNet, Lasso,  BayesianRidge, LassoLarsIC\n",
    "from sklearn.linear_model import LinearRegression, RidgeCV\n",
    "from sklearn.linear_model import LogisticRegression\n",
    "\n",
    "#import tensorflow as tf \n",
    "#from tensorflow.keras import layers\n",
    "#from tensorflow.keras.callbacks import EarlyStopping\n",
    "#from tensorflow.keras.callbacks import LearningRateScheduler\n",
    "#import smogn\n",
    "from sklearn.experimental import enable_hist_gradient_boosting\n",
    "from sklearn.base import BaseEstimator, TransformerMixin, RegressorMixin, clone\n",
    "from sklearn.kernel_ridge import KernelRidge\n",
    "from sklearn.ensemble import GradientBoostingRegressor,RandomForestRegressor\n",
    "from sklearn.ensemble import RandomForestClassifier\n",
    "from sklearn.ensemble import HistGradientBoostingClassifier\n",
    "# For training random forest model\n",
    "import lightgbm as lgb\n",
    "from scipy import sparse\n",
    "from sklearn.neighbors import KNeighborsRegressor \n",
    "from sklearn.decomposition import PCA\n",
    "from sklearn.cluster import KMeans\n",
    "from yellowbrick.cluster import KElbowVisualizer\n",
    "# Model selection\n",
    "from sklearn.model_selection import StratifiedKFold\n",
    "from sklearn.feature_selection import SelectKBest\n",
    "from sklearn.feature_selection import f_regression,f_classif,chi2\n",
    "from sklearn.feature_selection import mutual_info_regression\n",
    "from sklearn.feature_selection import SelectPercentile\n",
    "from sklearn.feature_selection import mutual_info_classif,VarianceThreshold\n",
    "\n",
    "from sklearn.model_selection import train_test_split\n",
    "from sklearn.model_selection import KFold\n",
    "from sklearn.model_selection import GridSearchCV\n",
    "from sklearn.model_selection import cross_val_score\n",
    "from lightgbm import LGBMClassifier\n",
    "import lightgbm as lgbm\n",
    "from catboost import CatBoostRegressor, CatBoostClassifier\n",
    "from sklearn.naive_bayes import GaussianNB\n",
    "from sklearn import svm\n",
    "from xgboost import XGBClassifier,XGBRegressor\n",
    "from sklearn import set_config\n",
    "from itertools import combinations\n",
    "# Cluster :\n",
    "from sklearn.cluster import MiniBatchKMeans\n",
    "#from yellowbrick.cluster import KElbowVisualizer\n",
    "#import smong \n",
    "import category_encoders as ce\n",
    "import warnings\n",
    "#import optuna \n",
    "from joblib import Parallel, delayed\n",
    "import joblib \n",
    "from sklearn import set_config\n",
    "from typing import List, Optional, Union\n",
    "set_config(display='diagram')\n",
    "warnings.filterwarnings('ignore')"
   ]
  },
  {
   "cell_type": "markdown",
   "id": "5437cdc8",
   "metadata": {
    "_cell_guid": "38c6befb-892d-4ef3-9c63-13be5959b671",
    "_uuid": "2953f9f3-02f8-4fa9-a7fc-cb93565c2183",
    "papermill": {
     "duration": 0.048282,
     "end_time": "2021-12-27T14:36:23.914910",
     "exception": false,
     "start_time": "2021-12-27T14:36:23.866628",
     "status": "completed"
    },
    "tags": []
   },
   "source": [
    "\n",
    "# Load the data"
   ]
  },
  {
   "cell_type": "code",
   "execution_count": 2,
   "id": "25b8bf18",
   "metadata": {
    "_cell_guid": "98a5b4a6-90e9-449d-96cc-0d85c9ff1c77",
    "_uuid": "e086592f-9f6a-4592-80b5-c1e7ad227e02",
    "collapsed": false,
    "execution": {
     "iopub.execute_input": "2021-12-27T14:36:24.012977Z",
     "iopub.status.busy": "2021-12-27T14:36:24.012206Z",
     "iopub.status.idle": "2021-12-27T14:36:24.547975Z",
     "shell.execute_reply": "2021-12-27T14:36:24.547444Z",
     "shell.execute_reply.started": "2021-12-27T14:05:24.762591Z"
    },
    "jupyter": {
     "outputs_hidden": false
    },
    "papermill": {
     "duration": 0.58725,
     "end_time": "2021-12-27T14:36:24.548127",
     "exception": false,
     "start_time": "2021-12-27T14:36:23.960877",
     "status": "completed"
    },
    "tags": []
   },
   "outputs": [
    {
     "name": "stdout",
     "output_type": "stream",
     "text": [
      "CPU times: user 272 ms, sys: 69.4 ms, total: 341 ms\n",
      "Wall time: 516 ms\n"
     ]
    },
    {
     "data": {
      "text/html": [
       "<div>\n",
       "<style scoped>\n",
       "    .dataframe tbody tr th:only-of-type {\n",
       "        vertical-align: middle;\n",
       "    }\n",
       "\n",
       "    .dataframe tbody tr th {\n",
       "        vertical-align: top;\n",
       "    }\n",
       "\n",
       "    .dataframe thead th {\n",
       "        text-align: right;\n",
       "    }\n",
       "</style>\n",
       "<table border=\"1\" class=\"dataframe\">\n",
       "  <thead>\n",
       "    <tr style=\"text-align: right;\">\n",
       "      <th></th>\n",
       "      <th>Unnamed: 0</th>\n",
       "      <th>SeriousDlqin2yrs</th>\n",
       "      <th>RevolvingUtilizationOfUnsecuredLines</th>\n",
       "      <th>age</th>\n",
       "      <th>NumberOfTime30-59DaysPastDueNotWorse</th>\n",
       "      <th>DebtRatio</th>\n",
       "      <th>MonthlyIncome</th>\n",
       "      <th>NumberOfOpenCreditLinesAndLoans</th>\n",
       "      <th>NumberOfTimes90DaysLate</th>\n",
       "      <th>NumberRealEstateLoansOrLines</th>\n",
       "      <th>NumberOfTime60-89DaysPastDueNotWorse</th>\n",
       "      <th>NumberOfDependents</th>\n",
       "    </tr>\n",
       "  </thead>\n",
       "  <tbody>\n",
       "    <tr>\n",
       "      <th>0</th>\n",
       "      <td>1</td>\n",
       "      <td>1</td>\n",
       "      <td>0.766127</td>\n",
       "      <td>45</td>\n",
       "      <td>2</td>\n",
       "      <td>0.802982</td>\n",
       "      <td>9120.0</td>\n",
       "      <td>13</td>\n",
       "      <td>0</td>\n",
       "      <td>6</td>\n",
       "      <td>0</td>\n",
       "      <td>2.0</td>\n",
       "    </tr>\n",
       "    <tr>\n",
       "      <th>1</th>\n",
       "      <td>2</td>\n",
       "      <td>0</td>\n",
       "      <td>0.957151</td>\n",
       "      <td>40</td>\n",
       "      <td>0</td>\n",
       "      <td>0.121876</td>\n",
       "      <td>2600.0</td>\n",
       "      <td>4</td>\n",
       "      <td>0</td>\n",
       "      <td>0</td>\n",
       "      <td>0</td>\n",
       "      <td>1.0</td>\n",
       "    </tr>\n",
       "    <tr>\n",
       "      <th>2</th>\n",
       "      <td>3</td>\n",
       "      <td>0</td>\n",
       "      <td>0.658180</td>\n",
       "      <td>38</td>\n",
       "      <td>1</td>\n",
       "      <td>0.085113</td>\n",
       "      <td>3042.0</td>\n",
       "      <td>2</td>\n",
       "      <td>1</td>\n",
       "      <td>0</td>\n",
       "      <td>0</td>\n",
       "      <td>0.0</td>\n",
       "    </tr>\n",
       "  </tbody>\n",
       "</table>\n",
       "</div>"
      ],
      "text/plain": [
       "   Unnamed: 0  SeriousDlqin2yrs  RevolvingUtilizationOfUnsecuredLines  age  \\\n",
       "0           1                 1                              0.766127   45   \n",
       "1           2                 0                              0.957151   40   \n",
       "2           3                 0                              0.658180   38   \n",
       "\n",
       "   NumberOfTime30-59DaysPastDueNotWorse  DebtRatio  MonthlyIncome  \\\n",
       "0                                     2   0.802982         9120.0   \n",
       "1                                     0   0.121876         2600.0   \n",
       "2                                     1   0.085113         3042.0   \n",
       "\n",
       "   NumberOfOpenCreditLinesAndLoans  NumberOfTimes90DaysLate  \\\n",
       "0                               13                        0   \n",
       "1                                4                        0   \n",
       "2                                2                        1   \n",
       "\n",
       "   NumberRealEstateLoansOrLines  NumberOfTime60-89DaysPastDueNotWorse  \\\n",
       "0                             6                                     0   \n",
       "1                             0                                     0   \n",
       "2                             0                                     0   \n",
       "\n",
       "   NumberOfDependents  \n",
       "0                 2.0  \n",
       "1                 1.0  \n",
       "2                 0.0  "
      ]
     },
     "execution_count": 2,
     "metadata": {},
     "output_type": "execute_result"
    }
   ],
   "source": [
    "%%time \n",
    "train = pd.read_csv('../input/GiveMeSomeCredit/cs-training.csv')\n",
    "test = pd.read_csv('../input/GiveMeSomeCredit/cs-test.csv')\n",
    "train.head(3)"
   ]
  },
  {
   "cell_type": "markdown",
   "id": "cb11043a",
   "metadata": {
    "papermill": {
     "duration": 0.046799,
     "end_time": "2021-12-27T14:36:24.641442",
     "exception": false,
     "start_time": "2021-12-27T14:36:24.594643",
     "status": "completed"
    },
    "tags": []
   },
   "source": [
    "# 1-Preprocessing"
   ]
  },
  {
   "cell_type": "markdown",
   "id": "2bee04e4",
   "metadata": {
    "papermill": {
     "duration": 0.046869,
     "end_time": "2021-12-27T14:36:24.734739",
     "exception": false,
     "start_time": "2021-12-27T14:36:24.687870",
     "status": "completed"
    },
    "tags": []
   },
   "source": [
    "## Convert Dtypes :"
   ]
  },
  {
   "cell_type": "code",
   "execution_count": 3,
   "id": "519deeaa",
   "metadata": {
    "execution": {
     "iopub.execute_input": "2021-12-27T14:36:24.861461Z",
     "iopub.status.busy": "2021-12-27T14:36:24.840592Z",
     "iopub.status.idle": "2021-12-27T14:36:24.930146Z",
     "shell.execute_reply": "2021-12-27T14:36:24.929533Z",
     "shell.execute_reply.started": "2021-12-27T14:05:25.293251Z"
    },
    "papermill": {
     "duration": 0.148389,
     "end_time": "2021-12-27T14:36:24.930322",
     "exception": false,
     "start_time": "2021-12-27T14:36:24.781933",
     "status": "completed"
    },
    "tags": []
   },
   "outputs": [],
   "source": [
    "# Convert Dtypes :\n",
    "train[train.select_dtypes(['int64','int16','float16','float32','float64','int8']).columns] = train[train.select_dtypes(['int64','int16','float16','float32','float64','int8']).columns].apply(pd.to_numeric)\n",
    "train[train.select_dtypes(['object','category']).columns] = train.select_dtypes(['object','category']).apply(lambda x: x.astype('category'))\n",
    "# Convert Dtypes :\n",
    "test[test.select_dtypes(['int64','int16','float16','float32','float64','int8']).columns] = test[test.select_dtypes(['int64','int16','float16','float32','float64','int8']).columns].apply(pd.to_numeric)\n",
    "test[test.select_dtypes(['object','category']).columns] = test.select_dtypes(['object','category']).apply(lambda x: x.astype('category'))"
   ]
  },
  {
   "cell_type": "markdown",
   "id": "03834104",
   "metadata": {
    "papermill": {
     "duration": 0.046051,
     "end_time": "2021-12-27T14:36:25.023494",
     "exception": false,
     "start_time": "2021-12-27T14:36:24.977443",
     "status": "completed"
    },
    "tags": []
   },
   "source": [
    "## Reduce Memory"
   ]
  },
  {
   "cell_type": "code",
   "execution_count": 4,
   "id": "8764b75d",
   "metadata": {
    "execution": {
     "iopub.execute_input": "2021-12-27T14:36:25.128413Z",
     "iopub.status.busy": "2021-12-27T14:36:25.127636Z",
     "iopub.status.idle": "2021-12-27T14:36:25.199152Z",
     "shell.execute_reply": "2021-12-27T14:36:25.199763Z",
     "shell.execute_reply.started": "2021-12-27T14:05:25.398214Z"
    },
    "papermill": {
     "duration": 0.129076,
     "end_time": "2021-12-27T14:36:25.199962",
     "exception": false,
     "start_time": "2021-12-27T14:36:25.070886",
     "status": "completed"
    },
    "tags": []
   },
   "outputs": [
    {
     "name": "stdout",
     "output_type": "stream",
     "text": [
      "Memory usage of dataframe is 13.73 MB\n",
      "Memory usage after optimization is: 3.29 MB\n",
      "Decreased by 76.0%\n",
      "Memory usage of dataframe is 9.29 MB\n",
      "Memory usage after optimization is: 2.90 MB\n",
      "Decreased by 68.7%\n"
     ]
    }
   ],
   "source": [
    "# Author : https://www.kaggle.com/gemartin/load-data-reduce-memory-usage\n",
    "def reduce_mem_usage(df):\n",
    "    \"\"\" iterate through all the columns of a dataframe and modify the data type\n",
    "        to reduce memory usage.        \n",
    "    \"\"\"\n",
    "    start_mem = df.memory_usage().sum() / 1024**2\n",
    "    print('Memory usage of dataframe is {:.2f} MB'.format(start_mem))\n",
    "    \n",
    "    for col in df.columns:\n",
    "        col_type = df[col].dtype\n",
    "        name =df[col].dtype.name \n",
    "        \n",
    "        if col_type != object and col_type.name != 'category':\n",
    "        #if name != \"category\":    \n",
    "            c_min = df[col].min()\n",
    "            c_max = df[col].max()\n",
    "            if str(col_type)[:3] == 'int':\n",
    "                if c_min > np.iinfo(np.int8).min and c_max < np.iinfo(np.int8).max:\n",
    "                    df[col] = df[col].astype(np.int8)\n",
    "                elif c_min > np.iinfo(np.int16).min and c_max < np.iinfo(np.int16).max:\n",
    "                    df[col] = df[col].astype(np.int16)\n",
    "                elif c_min > np.iinfo(np.int32).min and c_max < np.iinfo(np.int32).max:\n",
    "                    df[col] = df[col].astype(np.int32)\n",
    "                elif c_min > np.iinfo(np.int64).min and c_max < np.iinfo(np.int64).max:\n",
    "                    df[col] = df[col].astype(np.int64)  \n",
    "            else:\n",
    "                if c_min > np.finfo(np.float16).min and c_max < np.finfo(np.float16).max:\n",
    "                    df[col] = df[col].astype(np.float16)\n",
    "                elif c_min > np.finfo(np.float32).min and c_max < np.finfo(np.float32).max:\n",
    "                    df[col] = df[col].astype(np.float32)\n",
    "                else:\n",
    "                    df[col] = df[col].astype(np.float64)\n",
    "        else:\n",
    "            df[col] = df[col].astype('category')\n",
    "\n",
    "    end_mem = df.memory_usage().sum() / 1024**2\n",
    "    print('Memory usage after optimization is: {:.2f} MB'.format(end_mem))\n",
    "    print('Decreased by {:.1f}%'.format(100 * (start_mem - end_mem) / start_mem))\n",
    "    \n",
    "    return df\n",
    "train= reduce_mem_usage(train)\n",
    "test= reduce_mem_usage(test)"
   ]
  },
  {
   "cell_type": "markdown",
   "id": "1d0a3367",
   "metadata": {
    "papermill": {
     "duration": 0.046347,
     "end_time": "2021-12-27T14:36:25.294823",
     "exception": false,
     "start_time": "2021-12-27T14:36:25.248476",
     "status": "completed"
    },
    "tags": []
   },
   "source": [
    "## X and Y"
   ]
  },
  {
   "cell_type": "code",
   "execution_count": 5,
   "id": "7e780643",
   "metadata": {
    "execution": {
     "iopub.execute_input": "2021-12-27T14:36:25.396472Z",
     "iopub.status.busy": "2021-12-27T14:36:25.395464Z",
     "iopub.status.idle": "2021-12-27T14:36:25.398444Z",
     "shell.execute_reply": "2021-12-27T14:36:25.397884Z",
     "shell.execute_reply.started": "2021-12-27T14:05:25.480075Z"
    },
    "papermill": {
     "duration": 0.056867,
     "end_time": "2021-12-27T14:36:25.398605",
     "exception": false,
     "start_time": "2021-12-27T14:36:25.341738",
     "status": "completed"
    },
    "tags": []
   },
   "outputs": [],
   "source": [
    "# Cardinality : \n",
    "# - RevolvingUtilizationOfUnsecuredLines :125728, high Outlier\n",
    "# - DebtRatio :114194 , high Outlier \n",
    "# deal with outlier + bin \n",
    "PERCENTAGE = [\"RevolvingUtilizationOfUnsecuredLines\", \"DebtRatio\"]\n",
    "# MonthlyIncome:13594 , high outlier +bin \n",
    "REAL= [\"MonthlyIncome\"]\n",
    "# Can be considred as cat \n",
    "NUMERIC_DISCRET_low = [\"NumberOfDependents\",\n",
    "                       \"NumberOfTime60-89DaysPastDueNotWorse\",\n",
    "                       \"NumberRealEstateLoansOrLines\",\n",
    "                       \"NumberOfTimes90DaysLate\",\n",
    "                       \"NumberOfOpenCreditLinesAndLoans\",\n",
    "                       \"NumberOfTime30-59DaysPastDueNotWorse\",\n",
    "                       \"age\"]\n",
    "Late_Pay_Cols = ['NumberOfTime30-59DaysPastDueNotWorse',\n",
    "                 'NumberOfTimes90DaysLate',\n",
    "                 'NumberOfTime60-89DaysPastDueNotWorse']\n",
    "TARGET = [\"SeriousDlqin2yrs\"]\n",
    "\n",
    "#also change the type for TARGET to categorical\n",
    "#df[TARGET] = df[TARGET].astype('category')"
   ]
  },
  {
   "cell_type": "code",
   "execution_count": 6,
   "id": "6616557f",
   "metadata": {
    "execution": {
     "iopub.execute_input": "2021-12-27T14:36:25.498772Z",
     "iopub.status.busy": "2021-12-27T14:36:25.498060Z",
     "iopub.status.idle": "2021-12-27T14:36:25.501193Z",
     "shell.execute_reply": "2021-12-27T14:36:25.501668Z",
     "shell.execute_reply.started": "2021-12-27T14:05:25.488987Z"
    },
    "papermill": {
     "duration": 0.053931,
     "end_time": "2021-12-27T14:36:25.501867",
     "exception": false,
     "start_time": "2021-12-27T14:36:25.447936",
     "status": "completed"
    },
    "tags": []
   },
   "outputs": [],
   "source": [
    "y = train['SeriousDlqin2yrs']"
   ]
  },
  {
   "cell_type": "markdown",
   "id": "a8993a6b",
   "metadata": {
    "papermill": {
     "duration": 0.049333,
     "end_time": "2021-12-27T14:36:25.599214",
     "exception": false,
     "start_time": "2021-12-27T14:36:25.549881",
     "status": "completed"
    },
    "tags": []
   },
   "source": [
    "## Imput before Descritaziation : \n",
    "\n",
    "### IterativeImputer\n"
   ]
  },
  {
   "cell_type": "code",
   "execution_count": 7,
   "id": "d5cc4f04",
   "metadata": {
    "execution": {
     "iopub.execute_input": "2021-12-27T14:36:25.702246Z",
     "iopub.status.busy": "2021-12-27T14:36:25.701106Z",
     "iopub.status.idle": "2021-12-27T14:36:25.714313Z",
     "shell.execute_reply": "2021-12-27T14:36:25.713288Z",
     "shell.execute_reply.started": "2021-12-27T14:05:25.510234Z"
    },
    "papermill": {
     "duration": 0.065773,
     "end_time": "2021-12-27T14:36:25.714519",
     "exception": false,
     "start_time": "2021-12-27T14:36:25.648746",
     "status": "completed"
    },
    "tags": []
   },
   "outputs": [
    {
     "name": "stdout",
     "output_type": "stream",
     "text": [
      "CPU times: user 324 µs, sys: 39 µs, total: 363 µs\n",
      "Wall time: 369 µs\n"
     ]
    }
   ],
   "source": [
    "%%time \n",
    "param =  {   \"verbosity\": 0,\n",
    "            #\"objective\": \"binary:logistic\",\n",
    "            #\"eval_metric\": \"auc\",\n",
    "            'random_state': 42,\n",
    "            # regression\n",
    "            'objective':'reg:squarederror', \n",
    "             'eval_metric': 'mae',\n",
    "            #early_stopping_rounds=100 ,\n",
    "            #'gpu_id':0, \n",
    "            #'predictor':\"gpu_predictor\",\n",
    "            # use exact for small dataset.\n",
    "            #\"tree_method\": \"exact\",\n",
    "            # big data :\n",
    "            # 'tree_method': 'gpu_hist',\n",
    "            # defines booster, gblinear for linear functions.\n",
    "             'booster': 'gbtree', \n",
    "            'lambda': 8.544792472633987e-07,\n",
    "            'alpha': 0.31141671752487043,\n",
    "            'subsample': 0.8779467596981366, \n",
    "            'colsample_bytree': 0.9759532762677546,\n",
    "            'learning_rate': 0.008686087328805853, \n",
    "            'n_estimators': 6988,\n",
    "            'max_depth': 9,\n",
    "            'min_child_weight': 2, \n",
    "            'eta': 3.7603213457541647e-06,\n",
    "            'gamma': 2.1478058456847449e-07,\n",
    "            'grow_policy': 'lossguide'}\n",
    "                \n",
    "\n",
    "#model_xgb = XGBRegressor(\n",
    "       #objective=\"mae\",\n",
    " #   **xgb_params2)\n",
    "\n",
    "numeric_transformer1 = Pipeline(\n",
    "                            steps=[\n",
    "                            ('imputer', SimpleImputer(strategy='median'\n",
    "                                                      ,add_indicator=True)),\n",
    "                            ('scaler', PowerTransformer()),#(Numerical Input, Numerical Output)\n",
    "                            # Create an SelectKBest object to select features with two best ANOVA F-Values\n",
    "                            #The F-value scores examine if, when we group the numerical feature by the target vector, the means for each group are significantly different\n",
    "                           # ('reducedim',  SelectPercentile(f_classif,percentile=90))\n",
    "                            ]\n",
    "                            )\n",
    "numeric_transformer2 = Pipeline(\n",
    "                            steps=[\n",
    "                            #('imputer', SimpleImputer(strategy='median'\n",
    "                             #                         ,add_indicator=True)),\n",
    "                            ('scaler', PowerTransformer()),#(Numerical Input, Numerical Output)\n",
    "                            # Create an SelectKBest object to select features with two best ANOVA F-Values\n",
    "                            #The F-value scores examine if, when we group the numerical feature by the target vector, the means for each group are significantly different\n",
    "                           # ('reducedim',  SelectPercentile(f_classif,percentile=90))\n",
    "                            ]\n",
    "                            )\n",
    "\n",
    "pipe_xgbr1 = Pipeline(\n",
    "                    steps=[\n",
    "                        ('preprocessor', numeric_transformer1),\n",
    "                        ('classifier', XGBRegressor(\n",
    "                      #objective=\"mae\",\n",
    "                       **param))\n",
    "                    ]\n",
    "                )\n",
    "pipe_xgbr2 = Pipeline(\n",
    "                    steps=[\n",
    "                        ('preprocessor', numeric_transformer2),\n",
    "                        ('classifier', XGBRegressor(\n",
    "                      #objective=\"mae\",\n",
    "                       **param))\n",
    "                    ]\n",
    "                )\n",
    "\n",
    "#imputer=IterativeImputer(estimator=XGBRegressor(\n",
    "#                      #objective=\"mae\",\n",
    " #                     **param),max_iter=2,\n",
    "  #                       add_indicator=True,\n",
    "   #                      random_state=42)\n",
    "#train=train.drop(['Unnamed: 0','SeriousDlqin2yrs'], axis=1)\n",
    "#test=test.drop(['Unnamed: 0','SeriousDlqin2yrs'], axis=1)\n",
    "#imputer.fit(train)\n",
    "#train = imputer.transform(train)\n",
    "#test = imputer.transform(test)\n",
    "#features=['RevolvingUtilizationOfUnsecuredLines', 'age',\n",
    "#      'NumberOfTime30-59DaysPastDueNotWorse', 'DebtRatio', 'MonthlyIncome',\n",
    " #      'NumberOfOpenCreditLinesAndLoans', 'NumberOfTimes90DaysLate',\n",
    " #     'NumberRealEstateLoansOrLines', 'NumberOfTime60-89DaysPastDueNotWorse',\n",
    " #     'NumberOfDependents']\n",
    "#train=pd.DataFrame(train,columns=features)\n",
    "#test=pd.DataFrame(test,columns=features)\n",
    "#train= reduce_mem_usage(train)\n",
    "#test= reduce_mem_usage(test)"
   ]
  },
  {
   "cell_type": "markdown",
   "id": "5c2f352e",
   "metadata": {
    "papermill": {
     "duration": 0.046862,
     "end_time": "2021-12-27T14:36:25.810214",
     "exception": false,
     "start_time": "2021-12-27T14:36:25.763352",
     "status": "completed"
    },
    "tags": []
   },
   "source": [
    "### Rgression Imputer "
   ]
  },
  {
   "cell_type": "code",
   "execution_count": 8,
   "id": "0fa5f914",
   "metadata": {
    "execution": {
     "iopub.execute_input": "2021-12-27T14:36:25.914520Z",
     "iopub.status.busy": "2021-12-27T14:36:25.913751Z",
     "iopub.status.idle": "2021-12-27T14:56:17.784192Z",
     "shell.execute_reply": "2021-12-27T14:56:17.784807Z",
     "shell.execute_reply.started": "2021-12-27T14:05:25.534127Z"
    },
    "papermill": {
     "duration": 1191.927732,
     "end_time": "2021-12-27T14:56:17.785006",
     "exception": false,
     "start_time": "2021-12-27T14:36:25.857274",
     "status": "completed"
    },
    "tags": []
   },
   "outputs": [
    {
     "name": "stdout",
     "output_type": "stream",
     "text": [
      "CPU times: user 1h 17min 15s, sys: 7.77 s, total: 1h 17min 22s\n",
      "Wall time: 19min 51s\n"
     ]
    }
   ],
   "source": [
    "%%time \n",
    "train=train.drop(['Unnamed: 0','SeriousDlqin2yrs'], axis=1)\n",
    "test=test.drop(['Unnamed: 0','SeriousDlqin2yrs'], axis=1)\n",
    "train_final= pd.concat( [train, test], axis=0) \n",
    "#testdf_income= train_final[train_final['MonthlyIncome'].isnull()==True]\n",
    "traindf_income = train_final[train_final['MonthlyIncome'].isnull()==False]\n",
    "y_income = traindf_income['MonthlyIncome']\n",
    "X_income=traindf_income.drop([\"MonthlyIncome\"],axis=1)\n",
    "pipe_xgbr1.fit(X_income, y_income)\n",
    "train_income_missing=train[train['MonthlyIncome'].isnull()==True].drop([\"MonthlyIncome\"],axis=1)\n",
    "test_income_missing=test[test['MonthlyIncome'].isnull()==True].drop([\"MonthlyIncome\"],axis=1)\n",
    "train_predicted = pipe_xgbr1.predict(train_income_missing)\n",
    "test_predicted = pipe_xgbr1.predict(test_income_missing)\n",
    "train.loc[(train.MonthlyIncome.isnull()), 'MonthlyIncome'] = train_predicted\n",
    "test.loc[(test.MonthlyIncome.isnull()), 'MonthlyIncome'] = test_predicted"
   ]
  },
  {
   "cell_type": "code",
   "execution_count": 9,
   "id": "3a23a816",
   "metadata": {
    "execution": {
     "iopub.execute_input": "2021-12-27T14:56:17.890803Z",
     "iopub.status.busy": "2021-12-27T14:56:17.889570Z",
     "iopub.status.idle": "2021-12-27T15:19:37.217127Z",
     "shell.execute_reply": "2021-12-27T15:19:37.217721Z",
     "shell.execute_reply.started": "2021-12-27T14:24:19.308661Z"
    },
    "papermill": {
     "duration": 1399.385357,
     "end_time": "2021-12-27T15:19:37.217906",
     "exception": false,
     "start_time": "2021-12-27T14:56:17.832549",
     "status": "completed"
    },
    "tags": []
   },
   "outputs": [
    {
     "name": "stdout",
     "output_type": "stream",
     "text": [
      "CPU times: user 1h 31min, sys: 6.46 s, total: 1h 31min 7s\n",
      "Wall time: 23min 19s\n"
     ]
    }
   ],
   "source": [
    "%%time \n",
    "traindf_NumberOfDependents = train_final[train_final['NumberOfDependents'].isnull()==False]\n",
    "y_NumberOfDependents = traindf_NumberOfDependents['NumberOfDependents']\n",
    "X_NumberOfDependents=traindf_NumberOfDependents.drop([\"NumberOfDependents\"],axis=1)\n",
    "pipe_xgbr2.fit(X_NumberOfDependents, y_NumberOfDependents)\n",
    "train_NumberOfDependents_missing=train[train['NumberOfDependents'].isnull()==True].drop([\"NumberOfDependents\"],axis=1)\n",
    "test_NumberOfDependents_missing=test[test['NumberOfDependents'].isnull()==True].drop([\"NumberOfDependents\"],axis=1)\n",
    "train_predicted = pipe_xgbr2.predict(train_NumberOfDependents_missing)\n",
    "test_predicted = pipe_xgbr2.predict(test_NumberOfDependents_missing)\n",
    "train.loc[(train.NumberOfDependents.isnull()), 'NumberOfDependents'] = train_predicted\n",
    "test.loc[(test.NumberOfDependents.isnull()), 'NumberOfDependents'] = test_predicted"
   ]
  },
  {
   "cell_type": "markdown",
   "id": "d0d0d1b5",
   "metadata": {
    "papermill": {
     "duration": 0.047541,
     "end_time": "2021-12-27T15:19:37.313923",
     "exception": false,
     "start_time": "2021-12-27T15:19:37.266382",
     "status": "completed"
    },
    "tags": []
   },
   "source": [
    "## Features Engineer\n",
    "### Add Bin \n",
    "It's always good to bin data when we have lot of outlier and skweness "
   ]
  },
  {
   "cell_type": "code",
   "execution_count": 10,
   "id": "ad6e685d",
   "metadata": {
    "execution": {
     "iopub.execute_input": "2021-12-27T15:19:37.427289Z",
     "iopub.status.busy": "2021-12-27T15:19:37.426560Z",
     "iopub.status.idle": "2021-12-27T15:19:38.117621Z",
     "shell.execute_reply": "2021-12-27T15:19:38.118318Z",
     "shell.execute_reply.started": "2021-12-27T14:24:34.084335Z"
    },
    "papermill": {
     "duration": 0.756891,
     "end_time": "2021-12-27T15:19:38.118500",
     "exception": false,
     "start_time": "2021-12-27T15:19:37.361609",
     "status": "completed"
    },
    "tags": []
   },
   "outputs": [],
   "source": [
    "# Add bin data \n",
    "# initializing append_str\n",
    "append_str = 'cat_'\n",
    "# Append suffix / prefix to strings in list\n",
    "num_features1=[\"RevolvingUtilizationOfUnsecuredLines\", \"DebtRatio\",\"MonthlyIncome\"]\n",
    "num_features2=[\"NumberOfDependents\",\n",
    "                       \"NumberOfTime60-89DaysPastDueNotWorse\",\n",
    "                       \"NumberRealEstateLoansOrLines\",\n",
    "                       \"NumberOfTimes90DaysLate\",\n",
    "                       \"NumberOfOpenCreditLinesAndLoans\",\n",
    "                       \"NumberOfTime30-59DaysPastDueNotWorse\",\n",
    "                       \"age\"]\n",
    "cat_features1 = [append_str + sub for sub in num_features1]\n",
    "cat_features2 = [append_str + sub for sub in num_features2]\n",
    "\n",
    "# create the discretizer object with strategy quantile and 1000 bins\n",
    "discretizer1 = KBinsDiscretizer(n_bins=40, encode='ordinal',strategy='quantile')\n",
    "discretizer2 = KBinsDiscretizer(n_bins=4, encode='ordinal',strategy='quantile')\n",
    "\n",
    "pipeline1 = Pipeline([\n",
    "        ('imputer', SimpleImputer( strategy='median')),\n",
    "        ('bin', discretizer1)\n",
    "    ])\n",
    "# fit the discretizer to the train set\n",
    "pipeline1.fit(train.loc[:,num_features1])\n",
    "# apply the discretisation\n",
    "train_cat1 = pipeline1.transform(train.loc[:,num_features1])\n",
    "test_cat1 = pipeline1.transform(test.loc[:,num_features1])\n",
    "train_df1=pd.DataFrame(train_cat1,columns=cat_features1).astype('category')\n",
    "test_df1=pd.DataFrame(test_cat1,columns=cat_features1).astype('category')\n",
    "train_final1= pd.concat( [train.loc[:,num_features1], train_df1], axis=1) \n",
    "test_final1= pd.concat( [test.loc[:,num_features1], test_df1], axis=1) \n",
    "\n",
    "pipeline2 = Pipeline([\n",
    "        ('imputer', SimpleImputer( strategy='median')),\n",
    "        ('bin', discretizer2)\n",
    "    ])\n",
    "# fit the discretizer to the train set\n",
    "pipeline2.fit(train.loc[:,num_features2])\n",
    "# apply the discretisation\n",
    "train_cat2 = pipeline2.transform(train.loc[:,num_features2])\n",
    "test_cat2 = pipeline2.transform(test.loc[:,num_features2])\n",
    "train_df2=pd.DataFrame(train_cat2,columns=cat_features2).astype('category')\n",
    "test_df2=pd.DataFrame(test_cat2,columns=cat_features2).astype('category')\n",
    "train_final2= pd.concat( [train.loc[:,num_features2], train_df2], axis=1) \n",
    "test_final2= pd.concat( [test.loc[:,num_features2], test_df2], axis=1) "
   ]
  },
  {
   "cell_type": "code",
   "execution_count": 11,
   "id": "bb4aa907",
   "metadata": {
    "execution": {
     "iopub.execute_input": "2021-12-27T15:19:38.220596Z",
     "iopub.status.busy": "2021-12-27T15:19:38.219881Z",
     "iopub.status.idle": "2021-12-27T15:19:38.226354Z",
     "shell.execute_reply": "2021-12-27T15:19:38.225791Z",
     "shell.execute_reply.started": "2021-12-27T14:24:34.870413Z"
    },
    "papermill": {
     "duration": 0.059849,
     "end_time": "2021-12-27T15:19:38.226522",
     "exception": false,
     "start_time": "2021-12-27T15:19:38.166673",
     "status": "completed"
    },
    "tags": []
   },
   "outputs": [],
   "source": [
    "train_final= pd.concat( [train_final1, train_final2], axis=1) \n",
    "test_final= pd.concat( [test_final1, test_final2], axis=1) "
   ]
  },
  {
   "cell_type": "markdown",
   "id": "1687ef2a",
   "metadata": {
    "papermill": {
     "duration": 0.048446,
     "end_time": "2021-12-27T15:19:38.322344",
     "exception": false,
     "start_time": "2021-12-27T15:19:38.273898",
     "status": "completed"
    },
    "tags": []
   },
   "source": [
    "## Final X and y"
   ]
  },
  {
   "cell_type": "code",
   "execution_count": 12,
   "id": "ec31c86b",
   "metadata": {
    "execution": {
     "iopub.execute_input": "2021-12-27T15:19:38.423414Z",
     "iopub.status.busy": "2021-12-27T15:19:38.422757Z",
     "iopub.status.idle": "2021-12-27T15:19:38.425140Z",
     "shell.execute_reply": "2021-12-27T15:19:38.425819Z",
     "shell.execute_reply.started": "2021-12-27T14:24:34.884807Z"
    },
    "papermill": {
     "duration": 0.055887,
     "end_time": "2021-12-27T15:19:38.425992",
     "exception": false,
     "start_time": "2021-12-27T15:19:38.370105",
     "status": "completed"
    },
    "tags": []
   },
   "outputs": [],
   "source": [
    "# Pour le train test\n",
    "target= \"SeriousDlqin2yrs\"\n",
    "X = train_final# axis=1\n",
    "X_test_final =test_final# axis=1"
   ]
  },
  {
   "cell_type": "code",
   "execution_count": 13,
   "id": "17e17680",
   "metadata": {
    "execution": {
     "iopub.execute_input": "2021-12-27T15:19:38.529504Z",
     "iopub.status.busy": "2021-12-27T15:19:38.528809Z",
     "iopub.status.idle": "2021-12-27T15:19:38.560334Z",
     "shell.execute_reply": "2021-12-27T15:19:38.559778Z",
     "shell.execute_reply.started": "2021-12-27T14:24:34.893004Z"
    },
    "papermill": {
     "duration": 0.085158,
     "end_time": "2021-12-27T15:19:38.560481",
     "exception": false,
     "start_time": "2021-12-27T15:19:38.475323",
     "status": "completed"
    },
    "tags": []
   },
   "outputs": [
    {
     "name": "stdout",
     "output_type": "stream",
     "text": [
      "<class 'pandas.core.frame.DataFrame'>\n",
      "RangeIndex: 101503 entries, 0 to 101502\n",
      "Data columns (total 20 columns):\n",
      " #   Column                                    Non-Null Count   Dtype   \n",
      "---  ------                                    --------------   -----   \n",
      " 0   RevolvingUtilizationOfUnsecuredLines      101503 non-null  float16 \n",
      " 1   DebtRatio                                 101503 non-null  float32 \n",
      " 2   MonthlyIncome                             101503 non-null  float32 \n",
      " 3   cat_RevolvingUtilizationOfUnsecuredLines  101503 non-null  category\n",
      " 4   cat_DebtRatio                             101503 non-null  category\n",
      " 5   cat_MonthlyIncome                         101503 non-null  category\n",
      " 6   NumberOfDependents                        101503 non-null  float16 \n",
      " 7   NumberOfTime60-89DaysPastDueNotWorse      101503 non-null  int8    \n",
      " 8   NumberRealEstateLoansOrLines              101503 non-null  int8    \n",
      " 9   NumberOfTimes90DaysLate                   101503 non-null  int8    \n",
      " 10  NumberOfOpenCreditLinesAndLoans           101503 non-null  int8    \n",
      " 11  NumberOfTime30-59DaysPastDueNotWorse      101503 non-null  int8    \n",
      " 12  age                                       101503 non-null  int8    \n",
      " 13  cat_NumberOfDependents                    101503 non-null  category\n",
      " 14  cat_NumberOfTime60-89DaysPastDueNotWorse  101503 non-null  category\n",
      " 15  cat_NumberRealEstateLoansOrLines          101503 non-null  category\n",
      " 16  cat_NumberOfTimes90DaysLate               101503 non-null  category\n",
      " 17  cat_NumberOfOpenCreditLinesAndLoans       101503 non-null  category\n",
      " 18  cat_NumberOfTime30-59DaysPastDueNotWorse  101503 non-null  category\n",
      " 19  cat_age                                   101503 non-null  category\n",
      "dtypes: category(10), float16(2), float32(2), int8(6)\n",
      "memory usage: 2.7 MB\n"
     ]
    }
   ],
   "source": [
    "X_test_final.info()"
   ]
  },
  {
   "cell_type": "code",
   "execution_count": 14,
   "id": "46e0f88e",
   "metadata": {
    "execution": {
     "iopub.execute_input": "2021-12-27T15:19:38.662478Z",
     "iopub.status.busy": "2021-12-27T15:19:38.661053Z",
     "iopub.status.idle": "2021-12-27T15:19:38.690325Z",
     "shell.execute_reply": "2021-12-27T15:19:38.689719Z",
     "shell.execute_reply.started": "2021-12-27T14:24:34.939956Z"
    },
    "papermill": {
     "duration": 0.081055,
     "end_time": "2021-12-27T15:19:38.690481",
     "exception": false,
     "start_time": "2021-12-27T15:19:38.609426",
     "status": "completed"
    },
    "tags": []
   },
   "outputs": [
    {
     "name": "stdout",
     "output_type": "stream",
     "text": [
      "<class 'pandas.core.frame.DataFrame'>\n",
      "RangeIndex: 150000 entries, 0 to 149999\n",
      "Data columns (total 20 columns):\n",
      " #   Column                                    Non-Null Count   Dtype   \n",
      "---  ------                                    --------------   -----   \n",
      " 0   RevolvingUtilizationOfUnsecuredLines      150000 non-null  float16 \n",
      " 1   DebtRatio                                 150000 non-null  float32 \n",
      " 2   MonthlyIncome                             150000 non-null  float32 \n",
      " 3   cat_RevolvingUtilizationOfUnsecuredLines  150000 non-null  category\n",
      " 4   cat_DebtRatio                             150000 non-null  category\n",
      " 5   cat_MonthlyIncome                         150000 non-null  category\n",
      " 6   NumberOfDependents                        150000 non-null  float16 \n",
      " 7   NumberOfTime60-89DaysPastDueNotWorse      150000 non-null  int8    \n",
      " 8   NumberRealEstateLoansOrLines              150000 non-null  int8    \n",
      " 9   NumberOfTimes90DaysLate                   150000 non-null  int8    \n",
      " 10  NumberOfOpenCreditLinesAndLoans           150000 non-null  int8    \n",
      " 11  NumberOfTime30-59DaysPastDueNotWorse      150000 non-null  int8    \n",
      " 12  age                                       150000 non-null  int8    \n",
      " 13  cat_NumberOfDependents                    150000 non-null  category\n",
      " 14  cat_NumberOfTime60-89DaysPastDueNotWorse  150000 non-null  category\n",
      " 15  cat_NumberRealEstateLoansOrLines          150000 non-null  category\n",
      " 16  cat_NumberOfTimes90DaysLate               150000 non-null  category\n",
      " 17  cat_NumberOfOpenCreditLinesAndLoans       150000 non-null  category\n",
      " 18  cat_NumberOfTime30-59DaysPastDueNotWorse  150000 non-null  category\n",
      " 19  cat_age                                   150000 non-null  category\n",
      "dtypes: category(10), float16(2), float32(2), int8(6)\n",
      "memory usage: 4.0 MB\n"
     ]
    }
   ],
   "source": [
    "X.info()"
   ]
  },
  {
   "cell_type": "code",
   "execution_count": 15,
   "id": "3ed907e2",
   "metadata": {
    "execution": {
     "iopub.execute_input": "2021-12-27T15:19:38.792391Z",
     "iopub.status.busy": "2021-12-27T15:19:38.791702Z",
     "iopub.status.idle": "2021-12-27T15:19:38.795342Z",
     "shell.execute_reply": "2021-12-27T15:19:38.795881Z",
     "shell.execute_reply.started": "2021-12-27T14:24:34.972344Z"
    },
    "papermill": {
     "duration": 0.056087,
     "end_time": "2021-12-27T15:19:38.796047",
     "exception": false,
     "start_time": "2021-12-27T15:19:38.739960",
     "status": "completed"
    },
    "tags": []
   },
   "outputs": [],
   "source": [
    "del train\n",
    "del test \n",
    "del train_final\n",
    "del test_final"
   ]
  },
  {
   "cell_type": "markdown",
   "id": "d515eae5",
   "metadata": {
    "papermill": {
     "duration": 0.049288,
     "end_time": "2021-12-27T15:19:38.894311",
     "exception": false,
     "start_time": "2021-12-27T15:19:38.845023",
     "status": "completed"
    },
    "tags": []
   },
   "source": [
    "## Extract final cat  and num Features \n",
    "**What should we do for each colmun**\n",
    "\n",
    "Separate features by dtype:\n",
    "\n",
    "Next we’ll separate the features in the dataframe by their datatype. There are a few different ways to achieve this. I’ve used the select_dtypes() function to obtain specific data types by passing in np.number to obtain the numeric data and exclude=['np.number'] to return the categorical data. Appending .columns to the end returns an Index list containing the column names. For the categorical features, we don’t want to include the target  column, so I’ve dropped that.\n",
    "### Cat Features "
   ]
  },
  {
   "cell_type": "code",
   "execution_count": 16,
   "id": "65350a49",
   "metadata": {
    "execution": {
     "iopub.execute_input": "2021-12-27T15:19:38.998735Z",
     "iopub.status.busy": "2021-12-27T15:19:38.998086Z",
     "iopub.status.idle": "2021-12-27T15:19:39.010664Z",
     "shell.execute_reply": "2021-12-27T15:19:39.011290Z",
     "shell.execute_reply.started": "2021-12-27T14:24:34.978886Z"
    },
    "papermill": {
     "duration": 0.066028,
     "end_time": "2021-12-27T15:19:39.011472",
     "exception": false,
     "start_time": "2021-12-27T15:19:38.945444",
     "status": "completed"
    },
    "tags": []
   },
   "outputs": [
    {
     "data": {
      "text/plain": [
       "Index(['cat_RevolvingUtilizationOfUnsecuredLines', 'cat_DebtRatio',\n",
       "       'cat_MonthlyIncome', 'cat_NumberOfDependents',\n",
       "       'cat_NumberOfTime60-89DaysPastDueNotWorse',\n",
       "       'cat_NumberRealEstateLoansOrLines', 'cat_NumberOfTimes90DaysLate',\n",
       "       'cat_NumberOfOpenCreditLinesAndLoans',\n",
       "       'cat_NumberOfTime30-59DaysPastDueNotWorse', 'cat_age'],\n",
       "      dtype='object')"
      ]
     },
     "execution_count": 16,
     "metadata": {},
     "output_type": "execute_result"
    }
   ],
   "source": [
    "# select non-numeric columns\n",
    "cat_columns = X.select_dtypes(exclude=['int64','int16','float16','float32','float64','int8']).columns\n",
    "cat_columns"
   ]
  },
  {
   "cell_type": "markdown",
   "id": "efdf6d87",
   "metadata": {
    "papermill": {
     "duration": 0.050232,
     "end_time": "2021-12-27T15:19:39.112349",
     "exception": false,
     "start_time": "2021-12-27T15:19:39.062117",
     "status": "completed"
    },
    "tags": []
   },
   "source": [
    "### Num Features\n",
    "\n"
   ]
  },
  {
   "cell_type": "code",
   "execution_count": 17,
   "id": "16994a49",
   "metadata": {
    "execution": {
     "iopub.execute_input": "2021-12-27T15:19:39.221977Z",
     "iopub.status.busy": "2021-12-27T15:19:39.221311Z",
     "iopub.status.idle": "2021-12-27T15:19:39.228596Z",
     "shell.execute_reply": "2021-12-27T15:19:39.227944Z",
     "shell.execute_reply.started": "2021-12-27T14:24:35.001033Z"
    },
    "papermill": {
     "duration": 0.066707,
     "end_time": "2021-12-27T15:19:39.228744",
     "exception": false,
     "start_time": "2021-12-27T15:19:39.162037",
     "status": "completed"
    },
    "tags": []
   },
   "outputs": [
    {
     "data": {
      "text/plain": [
       "Index(['RevolvingUtilizationOfUnsecuredLines', 'DebtRatio', 'MonthlyIncome',\n",
       "       'NumberOfDependents', 'NumberOfTime60-89DaysPastDueNotWorse',\n",
       "       'NumberRealEstateLoansOrLines', 'NumberOfTimes90DaysLate',\n",
       "       'NumberOfOpenCreditLinesAndLoans',\n",
       "       'NumberOfTime30-59DaysPastDueNotWorse', 'age'],\n",
       "      dtype='object')"
      ]
     },
     "execution_count": 17,
     "metadata": {},
     "output_type": "execute_result"
    }
   ],
   "source": [
    "# select the float columns\n",
    "num_columns = X.select_dtypes(include=['int64','int16','float16','float32','float64','int8']).columns\n",
    "num_columns"
   ]
  },
  {
   "cell_type": "markdown",
   "id": "87835e09",
   "metadata": {
    "papermill": {
     "duration": 0.048916,
     "end_time": "2021-12-27T15:19:39.327282",
     "exception": false,
     "start_time": "2021-12-27T15:19:39.278366",
     "status": "completed"
    },
    "tags": []
   },
   "source": [
    "## Extracted features "
   ]
  },
  {
   "cell_type": "code",
   "execution_count": 18,
   "id": "f7c21fb0",
   "metadata": {
    "execution": {
     "iopub.execute_input": "2021-12-27T15:19:39.439984Z",
     "iopub.status.busy": "2021-12-27T15:19:39.433403Z",
     "iopub.status.idle": "2021-12-27T15:19:39.443135Z",
     "shell.execute_reply": "2021-12-27T15:19:39.443621Z",
     "shell.execute_reply.started": "2021-12-27T14:24:35.029716Z"
    },
    "papermill": {
     "duration": 0.067438,
     "end_time": "2021-12-27T15:19:39.443797",
     "exception": false,
     "start_time": "2021-12-27T15:19:39.376359",
     "status": "completed"
    },
    "tags": []
   },
   "outputs": [],
   "source": [
    "class FeaturesEngineer(BaseEstimator, TransformerMixin):\n",
    "    def fit(self, X, y=None):\n",
    "        return self\n",
    "    def transform(self, X, y=None):\n",
    "        X=X.copy()\n",
    "        # Calculate some metrics across rows\n",
    "        X[\"num_missing\"]  = X.isnull().sum(axis=1)\n",
    "        X[\"std_row\"] = X.std(axis=1)\n",
    "        X[\"sem_row\"] = X.sem(axis=1)\n",
    "        X[\"abs_sum_row\"] = X.abs().sum(axis=1)\n",
    "        X[\"mean_row\"] = X.mean(axis=1)\n",
    "        X[\"max_row\"]= X.max(axis=1)\n",
    "        X[\"min_row\"]= X.min(axis=1)\n",
    "        X['Weighted_Sum_PastDue'] = 2 * X['NumberOfTime30-59DaysPastDueNotWorse'] + 3 * X['NumberOfTime60-89DaysPastDueNotWorse'] + 6 * X['NumberOfTimes90DaysLate']\n",
    "        X['90days_out_of_TotalPastDue'] = X['NumberOfTimes90DaysLate'] / (X['Weighted_Sum_PastDue'])\n",
    "        X.loc[X['Weighted_Sum_PastDue']==0, '90days_out_of_TotalPastDue'] = 0\n",
    "        X['RemainingLines'] = X['NumberOfOpenCreditLinesAndLoans'] - X['NumberRealEstateLoansOrLines']\n",
    "        X['Loans_vs_Other_Lines'] = X['RemainingLines'] / (1 + X['NumberRealEstateLoansOrLines'])\n",
    "        X['Debt_per_Real_Estate_Loan'] = X['DebtRatio'] / X['NumberRealEstateLoansOrLines']\n",
    "        X.loc[X['NumberRealEstateLoansOrLines']==0, 'Debt_per_Real_Estate_Loan'] = 0\n",
    "        X['Disposable_Income_per_person'] = (X['MonthlyIncome'] - X['DebtRatio']) / (X['NumberOfDependents'] + 1)\n",
    "        X.loc[X['NumberOfDependents']==0, 'Disposable_Income_per_person'] = 0\n",
    "        X['RemainingLines_per_person'] = X['RemainingLines'] / (X['NumberOfDependents'] + 1)\n",
    "        X['NumberRE_X_DebtRatio_X_age'] = X['NumberRealEstateLoansOrLines'] * X['DebtRatio'] / X['age']\n",
    "        X['RevolvingUtilization_per_age'] = X['RevolvingUtilizationOfUnsecuredLines'] / X['age']\n",
    "        X[X==np.inf]=np.nan\n",
    "        X=reduce_mem_usage(X)\n",
    "        return X  \n"
   ]
  },
  {
   "cell_type": "markdown",
   "id": "91e72981",
   "metadata": {
    "papermill": {
     "duration": 0.049149,
     "end_time": "2021-12-27T15:19:39.542059",
     "exception": false,
     "start_time": "2021-12-27T15:19:39.492910",
     "status": "completed"
    },
    "tags": []
   },
   "source": [
    "## Kmeans + encoder "
   ]
  },
  {
   "cell_type": "code",
   "execution_count": 19,
   "id": "1cbf1c4e",
   "metadata": {
    "execution": {
     "iopub.execute_input": "2021-12-27T15:19:39.649369Z",
     "iopub.status.busy": "2021-12-27T15:19:39.648689Z",
     "iopub.status.idle": "2021-12-27T15:19:39.652126Z",
     "shell.execute_reply": "2021-12-27T15:19:39.652752Z",
     "shell.execute_reply.started": "2021-12-27T14:24:35.047071Z"
    },
    "papermill": {
     "duration": 0.061701,
     "end_time": "2021-12-27T15:19:39.652924",
     "exception": false,
     "start_time": "2021-12-27T15:19:39.591223",
     "status": "completed"
    },
    "tags": []
   },
   "outputs": [],
   "source": [
    "class MiniKmeansTransformerEncoder(BaseEstimator, TransformerMixin):\n",
    "    def __init__(self, num_clusters = 11, encoder=ce.woe.WOEEncoder()):\n",
    "        self.num_clusters = num_clusters\n",
    "        self.encoder= encoder\n",
    "        if self.num_clusters > 0:\n",
    "            self.kmeans = MiniBatchKMeans(n_clusters=self.num_clusters, random_state=0)\n",
    "    \n",
    "    def fit(self, X, y=None):\n",
    "        if self.num_clusters > 0:\n",
    "            self.kmeans.fit(X)\n",
    "            preds=self.kmeans.predict(X)\n",
    "            preds=pd.DataFrame(preds, columns=['kmeans']).astype('category')\n",
    "            self.encoder.fit(preds,y)\n",
    "        return self\n",
    "    \n",
    "    def transform(self, X, y=None):\n",
    "        pred_classes = self.kmeans.predict(X)\n",
    "        pred_classes=pd.DataFrame(pred_classes, columns=['kmeans']).astype('category')\n",
    "        pred_encoded = self.encoder.transform(pred_classes)\n",
    "        return np.hstack((X, pred_encoded))\n",
    "        #return pred_encoded"
   ]
  },
  {
   "cell_type": "code",
   "execution_count": 20,
   "id": "3cd8de19",
   "metadata": {
    "execution": {
     "iopub.execute_input": "2021-12-27T15:19:39.754039Z",
     "iopub.status.busy": "2021-12-27T15:19:39.753426Z",
     "iopub.status.idle": "2021-12-27T15:19:39.765062Z",
     "shell.execute_reply": "2021-12-27T15:19:39.765593Z",
     "shell.execute_reply.started": "2021-12-27T14:24:35.079690Z"
    },
    "papermill": {
     "duration": 0.063821,
     "end_time": "2021-12-27T15:19:39.765769",
     "exception": false,
     "start_time": "2021-12-27T15:19:39.701948",
     "status": "completed"
    },
    "tags": []
   },
   "outputs": [],
   "source": [
    "class SparseInteractions(BaseEstimator, TransformerMixin):\n",
    "    def __init__(self, degree=2, feature_name_separator=\"_\"):\n",
    "        self.degree = degree\n",
    "        self.feature_name_separator = feature_name_separator\n",
    "    \n",
    "    def fit(self, X, y=None):\n",
    "        return self\n",
    "        \n",
    "    def transform(self, X):\n",
    "        if not sparse.isspmatrix_csc(X):\n",
    "            X = sparse.csc_matrix(X)\n",
    "            \n",
    "        if hasattr(X, \"columns\"):\n",
    "            self.orig_col_names = X.columns\n",
    "        else:\n",
    "            self.orig_col_names = np.array([str(i) for i in range(X.shape[1])])\n",
    "            \n",
    "        spi = self._create_sparse_interactions(X)\n",
    "        return spi\n",
    "    \n",
    "    \n",
    "    def get_feature_names(self):\n",
    "        return self.feature_names\n",
    "    \n",
    "    def _create_sparse_interactions(self, X):\n",
    "        out_mat = []\n",
    "        self.feature_names = self.orig_col_names.tolist()\n",
    "        \n",
    "        for sub_degree in range(2, self.degree + 1):\n",
    "            for col_ixs in combinations(range(X.shape[1]), sub_degree):\n",
    "                # add name for new column\n",
    "                name = self.feature_name_separator.join(self.orig_col_names[list(col_ixs)])\n",
    "                self.feature_names.append(name)\n",
    "                \n",
    "                # get column multiplications value\n",
    "                out = X[:, col_ixs[0]]    \n",
    "                for j in col_ixs[1:]:\n",
    "                    out = out.multiply(X[:, j])\n",
    "\n",
    "                out_mat.append(out)\n",
    "\n",
    "        return sparse.hstack([X] + out_mat)"
   ]
  },
  {
   "cell_type": "markdown",
   "id": "6ed66ae6",
   "metadata": {
    "papermill": {
     "duration": 0.048743,
     "end_time": "2021-12-27T15:19:39.863766",
     "exception": false,
     "start_time": "2021-12-27T15:19:39.815023",
     "status": "completed"
    },
    "tags": []
   },
   "source": [
    "# Complete Pipe \n",
    "\n",
    "1. Features Engineer\n",
    "\n",
    "1. Kmeans\n",
    "\n",
    "1. Sparse\n",
    "\n",
    "1. Poly\n",
    "\n",
    "1. Scaler/Transformer\n",
    "\n",
    "1. imput"
   ]
  },
  {
   "cell_type": "code",
   "execution_count": 21,
   "id": "c1acdda8",
   "metadata": {
    "execution": {
     "iopub.execute_input": "2021-12-27T15:19:39.970847Z",
     "iopub.status.busy": "2021-12-27T15:19:39.970127Z",
     "iopub.status.idle": "2021-12-27T15:19:39.978327Z",
     "shell.execute_reply": "2021-12-27T15:19:39.978853Z",
     "shell.execute_reply.started": "2021-12-27T14:24:35.104181Z"
    },
    "papermill": {
     "duration": 0.063848,
     "end_time": "2021-12-27T15:19:39.979043",
     "exception": false,
     "start_time": "2021-12-27T15:19:39.915195",
     "status": "completed"
    },
    "tags": []
   },
   "outputs": [],
   "source": [
    "# Cat pipeline\n",
    "categorical_transformer = Pipeline(\n",
    "                    steps=[\n",
    "                        ('imputer', SimpleImputer(strategy='most_frequent',\n",
    "                                                  fill_value='missing',\n",
    "                                                  add_indicator=True)),\n",
    "                        ('encoder',  ce.woe.WOEEncoder()),#(Numerical Input, Categorical Output)\n",
    "                        #('sparse_features', SparseInteractions(degree=2)),\n",
    "                        #('reducedim',  SelectPercentile( mutual_info_classif, percentile=90))\n",
    "\n",
    "                    ]\n",
    "                    ) \n",
    "#Define vnum pipeline\n",
    "numeric_transformer = Pipeline(\n",
    "                            steps=[\n",
    "                            ('imputer', SimpleImputer(strategy='median'\n",
    "                                                      ,add_indicator=True)),\n",
    "                            #('general_features',FeaturesEngineer()),\n",
    "                            ('scaler', PowerTransformer()),#(Numerical Input, Numerical Output)\n",
    "                            # Create an SelectKBest object to select features with two best ANOVA F-Values\n",
    "                            #The F-value scores examine if, when we group the numerical feature by the target vector, the means for each group are significantly different\n",
    "                            ('kmeans',MiniKmeansTransformerEncoder()),\n",
    "                            ('polynominal_features', PolynomialFeatures(degree=2)),\n",
    "                            #('reducedim',  SelectPercentile(f_classif,percentile=90))\n",
    "                            ]\n",
    "                            )\n",
    "# Features union cat + num \n",
    "# WOE+PowerTransformer\n",
    "preprocessor_woe_powertransformer = ColumnTransformer(\n",
    "            transformers=[\n",
    "                ('numerical', numeric_transformer, num_columns),\n",
    "               # ('categorical', categorical_transformer, cat_columns)\n",
    "            ])"
   ]
  },
  {
   "cell_type": "code",
   "execution_count": 22,
   "id": "1c948cee",
   "metadata": {
    "execution": {
     "iopub.execute_input": "2021-12-27T15:19:40.082981Z",
     "iopub.status.busy": "2021-12-27T15:19:40.082316Z",
     "iopub.status.idle": "2021-12-27T15:19:40.160874Z",
     "shell.execute_reply": "2021-12-27T15:19:40.161407Z",
     "shell.execute_reply.started": "2021-12-27T14:24:35.130409Z"
    },
    "papermill": {
     "duration": 0.133323,
     "end_time": "2021-12-27T15:19:40.161599",
     "exception": false,
     "start_time": "2021-12-27T15:19:40.028276",
     "status": "completed"
    },
    "tags": []
   },
   "outputs": [
    {
     "data": {
      "text/html": [
       "<style>div.sk-top-container {color: black;background-color: white;}div.sk-toggleable {background-color: white;}label.sk-toggleable__label {cursor: pointer;display: block;width: 100%;margin-bottom: 0;padding: 0.2em 0.3em;box-sizing: border-box;text-align: center;}div.sk-toggleable__content {max-height: 0;max-width: 0;overflow: hidden;text-align: left;background-color: #f0f8ff;}div.sk-toggleable__content pre {margin: 0.2em;color: black;border-radius: 0.25em;background-color: #f0f8ff;}input.sk-toggleable__control:checked~div.sk-toggleable__content {max-height: 200px;max-width: 100%;overflow: auto;}div.sk-estimator input.sk-toggleable__control:checked~label.sk-toggleable__label {background-color: #d4ebff;}div.sk-label input.sk-toggleable__control:checked~label.sk-toggleable__label {background-color: #d4ebff;}input.sk-hidden--visually {border: 0;clip: rect(1px 1px 1px 1px);clip: rect(1px, 1px, 1px, 1px);height: 1px;margin: -1px;overflow: hidden;padding: 0;position: absolute;width: 1px;}div.sk-estimator {font-family: monospace;background-color: #f0f8ff;margin: 0.25em 0.25em;border: 1px dotted black;border-radius: 0.25em;box-sizing: border-box;}div.sk-estimator:hover {background-color: #d4ebff;}div.sk-parallel-item::after {content: \"\";width: 100%;border-bottom: 1px solid gray;flex-grow: 1;}div.sk-label:hover label.sk-toggleable__label {background-color: #d4ebff;}div.sk-serial::before {content: \"\";position: absolute;border-left: 1px solid gray;box-sizing: border-box;top: 2em;bottom: 0;left: 50%;}div.sk-serial {display: flex;flex-direction: column;align-items: center;background-color: white;}div.sk-item {z-index: 1;}div.sk-parallel {display: flex;align-items: stretch;justify-content: center;background-color: white;}div.sk-parallel-item {display: flex;flex-direction: column;position: relative;background-color: white;}div.sk-parallel-item:first-child::after {align-self: flex-end;width: 50%;}div.sk-parallel-item:last-child::after {align-self: flex-start;width: 50%;}div.sk-parallel-item:only-child::after {width: 0;}div.sk-dashed-wrapped {border: 1px dashed gray;margin: 0.2em;box-sizing: border-box;padding-bottom: 0.1em;background-color: white;position: relative;}div.sk-label label {font-family: monospace;font-weight: bold;background-color: white;display: inline-block;line-height: 1.2em;}div.sk-label-container {position: relative;z-index: 2;text-align: center;}div.sk-container {display: inline-block;position: relative;}</style><div class=\"sk-top-container\"><div class=\"sk-container\"><div class=\"sk-item sk-dashed-wrapped\"><div class=\"sk-label-container\"><div class=\"sk-label sk-toggleable\"><input class=\"sk-toggleable__control sk-hidden--visually\" id=\"9cdf3e10-49d1-4e54-a4b5-1ff3b1a94952\" type=\"checkbox\" ><label class=\"sk-toggleable__label\" for=\"9cdf3e10-49d1-4e54-a4b5-1ff3b1a94952\">ColumnTransformer</label><div class=\"sk-toggleable__content\"><pre>ColumnTransformer(transformers=[('numerical',\n",
       "                                 Pipeline(steps=[('imputer',\n",
       "                                                  SimpleImputer(add_indicator=True,\n",
       "                                                                strategy='median')),\n",
       "                                                 ('scaler', PowerTransformer()),\n",
       "                                                 ('kmeans',\n",
       "                                                  MiniKmeansTransformerEncoder()),\n",
       "                                                 ('polynominal_features',\n",
       "                                                  PolynomialFeatures())]),\n",
       "                                 Index(['RevolvingUtilizationOfUnsecuredLines', 'DebtRatio', 'MonthlyIncome',\n",
       "       'NumberOfDependents', 'NumberOfTime60-89DaysPastDueNotWorse',\n",
       "       'NumberRealEstateLoansOrLines', 'NumberOfTimes90DaysLate',\n",
       "       'NumberOfOpenCreditLinesAndLoans',\n",
       "       'NumberOfTime30-59DaysPastDueNotWorse', 'age'],\n",
       "      dtype='object'))])</pre></div></div></div><div class=\"sk-parallel\"><div class=\"sk-parallel-item\"><div class=\"sk-item\"><div class=\"sk-label-container\"><div class=\"sk-label sk-toggleable\"><input class=\"sk-toggleable__control sk-hidden--visually\" id=\"1a91446e-5335-499f-9799-70b4e341ac65\" type=\"checkbox\" ><label class=\"sk-toggleable__label\" for=\"1a91446e-5335-499f-9799-70b4e341ac65\">numerical</label><div class=\"sk-toggleable__content\"><pre>Index(['RevolvingUtilizationOfUnsecuredLines', 'DebtRatio', 'MonthlyIncome',\n",
       "       'NumberOfDependents', 'NumberOfTime60-89DaysPastDueNotWorse',\n",
       "       'NumberRealEstateLoansOrLines', 'NumberOfTimes90DaysLate',\n",
       "       'NumberOfOpenCreditLinesAndLoans',\n",
       "       'NumberOfTime30-59DaysPastDueNotWorse', 'age'],\n",
       "      dtype='object')</pre></div></div></div><div class=\"sk-serial\"><div class=\"sk-item\"><div class=\"sk-serial\"><div class=\"sk-item\"><div class=\"sk-estimator sk-toggleable\"><input class=\"sk-toggleable__control sk-hidden--visually\" id=\"a584e763-87f2-4042-bca1-36bab15e79b2\" type=\"checkbox\" ><label class=\"sk-toggleable__label\" for=\"a584e763-87f2-4042-bca1-36bab15e79b2\">SimpleImputer</label><div class=\"sk-toggleable__content\"><pre>SimpleImputer(add_indicator=True, strategy='median')</pre></div></div></div><div class=\"sk-item\"><div class=\"sk-estimator sk-toggleable\"><input class=\"sk-toggleable__control sk-hidden--visually\" id=\"538be318-a8b4-4015-9780-74f0ea63069e\" type=\"checkbox\" ><label class=\"sk-toggleable__label\" for=\"538be318-a8b4-4015-9780-74f0ea63069e\">PowerTransformer</label><div class=\"sk-toggleable__content\"><pre>PowerTransformer()</pre></div></div></div><div class=\"sk-item sk-dashed-wrapped\"><div class=\"sk-label-container\"><div class=\"sk-label sk-toggleable\"><input class=\"sk-toggleable__control sk-hidden--visually\" id=\"3277423f-85a6-468b-97fb-c3ae29fb7192\" type=\"checkbox\" ><label class=\"sk-toggleable__label\" for=\"3277423f-85a6-468b-97fb-c3ae29fb7192\">kmeans: MiniKmeansTransformerEncoder</label><div class=\"sk-toggleable__content\"><pre>MiniKmeansTransformerEncoder()</pre></div></div></div><div class=\"sk-parallel\"><div class=\"sk-parallel-item\"><div class=\"sk-item\"><div class=\"sk-serial\"><div class=\"sk-item\"><div class=\"sk-estimator sk-toggleable\"><input class=\"sk-toggleable__control sk-hidden--visually\" id=\"07c4e6ab-9c4f-42d0-aa5f-0f6667564778\" type=\"checkbox\" ><label class=\"sk-toggleable__label\" for=\"07c4e6ab-9c4f-42d0-aa5f-0f6667564778\">WOEEncoder</label><div class=\"sk-toggleable__content\"><pre>WOEEncoder()</pre></div></div></div></div></div></div></div></div><div class=\"sk-item\"><div class=\"sk-estimator sk-toggleable\"><input class=\"sk-toggleable__control sk-hidden--visually\" id=\"ab639ec7-31d3-4421-981e-4b8d6a14f00a\" type=\"checkbox\" ><label class=\"sk-toggleable__label\" for=\"ab639ec7-31d3-4421-981e-4b8d6a14f00a\">PolynomialFeatures</label><div class=\"sk-toggleable__content\"><pre>PolynomialFeatures()</pre></div></div></div></div></div></div></div></div></div></div></div></div>"
      ],
      "text/plain": [
       "ColumnTransformer(transformers=[('numerical',\n",
       "                                 Pipeline(steps=[('imputer',\n",
       "                                                  SimpleImputer(add_indicator=True,\n",
       "                                                                strategy='median')),\n",
       "                                                 ('scaler', PowerTransformer()),\n",
       "                                                 ('kmeans',\n",
       "                                                  MiniKmeansTransformerEncoder()),\n",
       "                                                 ('polynominal_features',\n",
       "                                                  PolynomialFeatures())]),\n",
       "                                 Index(['RevolvingUtilizationOfUnsecuredLines', 'DebtRatio', 'MonthlyIncome',\n",
       "       'NumberOfDependents', 'NumberOfTime60-89DaysPastDueNotWorse',\n",
       "       'NumberRealEstateLoansOrLines', 'NumberOfTimes90DaysLate',\n",
       "       'NumberOfOpenCreditLinesAndLoans',\n",
       "       'NumberOfTime30-59DaysPastDueNotWorse', 'age'],\n",
       "      dtype='object'))])"
      ]
     },
     "execution_count": 22,
     "metadata": {},
     "output_type": "execute_result"
    }
   ],
   "source": [
    "preprocessor_woe_powertransformer"
   ]
  },
  {
   "cell_type": "markdown",
   "id": "4cc51df8",
   "metadata": {
    "papermill": {
     "duration": 0.049657,
     "end_time": "2021-12-27T15:19:40.260947",
     "exception": false,
     "start_time": "2021-12-27T15:19:40.211290",
     "status": "completed"
    },
    "tags": []
   },
   "source": [
    "# Modeling\n",
    "Modeling is the part of the Cross-Industry Standard Process for Data Mining (CRISP-DM) process model that i like best. Our data is already in good shape, and now we can search for useful patterns in our data.\n",
    "\n",
    "Tasks\n",
    "\n",
    "    Select modeling technique Select technique\n",
    "\n",
    "    Generate test design\n",
    "\n",
    "    Build model\n",
    "\n",
    "    Assess model\n",
    "\n",
    "Define CrossValidation Strategie :\n",
    "\n",
    "                skf = StratifiedKFold(n_splits=FOLDS, \n",
    "                shuffle=True, \n",
    "                random_state=SEED)\n",
    "\n",
    "We will use StratifiedCV in order to keep track of our imblanced data .\n",
    "\n",
    "\n",
    "\n",
    "## Chose Best model\n",
    "\n",
    "We can combine CV and hyper param tuning like this :\n",
    "\n",
    "    RF_MODEL = {}\n",
    "    # Définir la pipe\n",
    "    RF_MODEL['pipeline']=Pipeline([\n",
    "                                   ('data_cleaning', data_cleaning),\n",
    "                                   ('rf', RandomForest(random_state=7))])\n",
    "    # Définir la grille d'hyperparams\n",
    "    RF_MODEL['hyperparams'] = {}\n",
    "    RF_MODEL['hyperparams']['rf__n_estimators'] = [10, 30, 50, 100, 150]\n",
    "    RF_MODEL['hyperparams']['rf__max_features'] = [None, 'sqrt', 'log2', .1, .25, .50, .75, .85]\n",
    "    RF_MODEL['hyperparams']['rf__max_depth'] = [None, 4, 7, 10, 20]\n",
    "    # Recherche d'HP\n",
    "    RF_MODEL['gridsearch'] = GridSearchCV(\n",
    "        estimator=RF_MODEL['pipeline'],\n",
    "        param_grid=RF_MODEL['hyperparams'],\n",
    "        scoring='accuracy',\n",
    "        cv=cross_validation_design\n",
    "    )\n",
    "    RF_MODEL['gridsearch'].fit(X, Y)\n",
    "\n",
    "\n",
    "But this is so computing expensive.\n",
    "\n",
    "For this reason i used optuna to tune param and CV separatly .\n",
    "\n",
    "## List of models tuned for pipe1:\n",
    "**1-HGBC:**"
   ]
  },
  {
   "cell_type": "code",
   "execution_count": 23,
   "id": "90c6b04f",
   "metadata": {
    "execution": {
     "iopub.execute_input": "2021-12-27T15:19:40.390821Z",
     "iopub.status.busy": "2021-12-27T15:19:40.385636Z",
     "iopub.status.idle": "2021-12-27T15:19:40.773063Z",
     "shell.execute_reply": "2021-12-27T15:19:40.772478Z",
     "shell.execute_reply.started": "2021-12-27T14:24:35.225616Z"
    },
    "papermill": {
     "duration": 0.461791,
     "end_time": "2021-12-27T15:19:40.773228",
     "exception": false,
     "start_time": "2021-12-27T15:19:40.311437",
     "status": "completed"
    },
    "tags": []
   },
   "outputs": [
    {
     "data": {
      "text/html": [
       "<style>div.sk-top-container {color: black;background-color: white;}div.sk-toggleable {background-color: white;}label.sk-toggleable__label {cursor: pointer;display: block;width: 100%;margin-bottom: 0;padding: 0.2em 0.3em;box-sizing: border-box;text-align: center;}div.sk-toggleable__content {max-height: 0;max-width: 0;overflow: hidden;text-align: left;background-color: #f0f8ff;}div.sk-toggleable__content pre {margin: 0.2em;color: black;border-radius: 0.25em;background-color: #f0f8ff;}input.sk-toggleable__control:checked~div.sk-toggleable__content {max-height: 200px;max-width: 100%;overflow: auto;}div.sk-estimator input.sk-toggleable__control:checked~label.sk-toggleable__label {background-color: #d4ebff;}div.sk-label input.sk-toggleable__control:checked~label.sk-toggleable__label {background-color: #d4ebff;}input.sk-hidden--visually {border: 0;clip: rect(1px 1px 1px 1px);clip: rect(1px, 1px, 1px, 1px);height: 1px;margin: -1px;overflow: hidden;padding: 0;position: absolute;width: 1px;}div.sk-estimator {font-family: monospace;background-color: #f0f8ff;margin: 0.25em 0.25em;border: 1px dotted black;border-radius: 0.25em;box-sizing: border-box;}div.sk-estimator:hover {background-color: #d4ebff;}div.sk-parallel-item::after {content: \"\";width: 100%;border-bottom: 1px solid gray;flex-grow: 1;}div.sk-label:hover label.sk-toggleable__label {background-color: #d4ebff;}div.sk-serial::before {content: \"\";position: absolute;border-left: 1px solid gray;box-sizing: border-box;top: 2em;bottom: 0;left: 50%;}div.sk-serial {display: flex;flex-direction: column;align-items: center;background-color: white;}div.sk-item {z-index: 1;}div.sk-parallel {display: flex;align-items: stretch;justify-content: center;background-color: white;}div.sk-parallel-item {display: flex;flex-direction: column;position: relative;background-color: white;}div.sk-parallel-item:first-child::after {align-self: flex-end;width: 50%;}div.sk-parallel-item:last-child::after {align-self: flex-start;width: 50%;}div.sk-parallel-item:only-child::after {width: 0;}div.sk-dashed-wrapped {border: 1px dashed gray;margin: 0.2em;box-sizing: border-box;padding-bottom: 0.1em;background-color: white;position: relative;}div.sk-label label {font-family: monospace;font-weight: bold;background-color: white;display: inline-block;line-height: 1.2em;}div.sk-label-container {position: relative;z-index: 2;text-align: center;}div.sk-container {display: inline-block;position: relative;}</style><div class=\"sk-top-container\"><div class=\"sk-container\"><div class=\"sk-item sk-dashed-wrapped\"><div class=\"sk-label-container\"><div class=\"sk-label sk-toggleable\"><input class=\"sk-toggleable__control sk-hidden--visually\" id=\"914f8c6d-12f3-4438-8ba4-61d36af95ebb\" type=\"checkbox\" ><label class=\"sk-toggleable__label\" for=\"914f8c6d-12f3-4438-8ba4-61d36af95ebb\">Pipeline</label><div class=\"sk-toggleable__content\"><pre>Pipeline(steps=[('preprocessor',\n",
       "                 ColumnTransformer(transformers=[('numerical',\n",
       "                                                  Pipeline(steps=[('imputer',\n",
       "                                                                   SimpleImputer(add_indicator=True,\n",
       "                                                                                 strategy='median')),\n",
       "                                                                  ('scaler',\n",
       "                                                                   PowerTransformer()),\n",
       "                                                                  ('kmeans',\n",
       "                                                                   MiniKmeansTransformerEncoder()),\n",
       "                                                                  ('polynominal_features',\n",
       "                                                                   PolynomialFeatures())]),\n",
       "                                                  Index(['RevolvingUtilizationOfUnsecuredLines', 'DebtRatio', 'MonthlyIncome'...\n",
       "       'NumberRealEstateLoansOrLines', 'NumberOfTimes90DaysLate',\n",
       "       'NumberOfOpenCreditLinesAndLoans',\n",
       "       'NumberOfTime30-59DaysPastDueNotWorse', 'age'],\n",
       "      dtype='object'))])),\n",
       "                ('classifier',\n",
       "                 HistGradientBoostingClassifier(early_stopping='False',\n",
       "                                                l2_regularization=2.940296779699346e-10,\n",
       "                                                learning_rate=0.015318591316397998,\n",
       "                                                max_bins=137, max_depth=19,\n",
       "                                                max_iter=1537,\n",
       "                                                max_leaf_nodes=23,\n",
       "                                                min_samples_leaf=140))])</pre></div></div></div><div class=\"sk-serial\"><div class=\"sk-item sk-dashed-wrapped\"><div class=\"sk-label-container\"><div class=\"sk-label sk-toggleable\"><input class=\"sk-toggleable__control sk-hidden--visually\" id=\"c7ecd4a6-250d-40bc-aea1-54fb547370a0\" type=\"checkbox\" ><label class=\"sk-toggleable__label\" for=\"c7ecd4a6-250d-40bc-aea1-54fb547370a0\">preprocessor: ColumnTransformer</label><div class=\"sk-toggleable__content\"><pre>ColumnTransformer(transformers=[('numerical',\n",
       "                                 Pipeline(steps=[('imputer',\n",
       "                                                  SimpleImputer(add_indicator=True,\n",
       "                                                                strategy='median')),\n",
       "                                                 ('scaler', PowerTransformer()),\n",
       "                                                 ('kmeans',\n",
       "                                                  MiniKmeansTransformerEncoder()),\n",
       "                                                 ('polynominal_features',\n",
       "                                                  PolynomialFeatures())]),\n",
       "                                 Index(['RevolvingUtilizationOfUnsecuredLines', 'DebtRatio', 'MonthlyIncome',\n",
       "       'NumberOfDependents', 'NumberOfTime60-89DaysPastDueNotWorse',\n",
       "       'NumberRealEstateLoansOrLines', 'NumberOfTimes90DaysLate',\n",
       "       'NumberOfOpenCreditLinesAndLoans',\n",
       "       'NumberOfTime30-59DaysPastDueNotWorse', 'age'],\n",
       "      dtype='object'))])</pre></div></div></div><div class=\"sk-parallel\"><div class=\"sk-parallel-item\"><div class=\"sk-item\"><div class=\"sk-label-container\"><div class=\"sk-label sk-toggleable\"><input class=\"sk-toggleable__control sk-hidden--visually\" id=\"fc12f3dc-4a5b-4e5e-b18d-6fdfdb581db5\" type=\"checkbox\" ><label class=\"sk-toggleable__label\" for=\"fc12f3dc-4a5b-4e5e-b18d-6fdfdb581db5\">numerical</label><div class=\"sk-toggleable__content\"><pre>Index(['RevolvingUtilizationOfUnsecuredLines', 'DebtRatio', 'MonthlyIncome',\n",
       "       'NumberOfDependents', 'NumberOfTime60-89DaysPastDueNotWorse',\n",
       "       'NumberRealEstateLoansOrLines', 'NumberOfTimes90DaysLate',\n",
       "       'NumberOfOpenCreditLinesAndLoans',\n",
       "       'NumberOfTime30-59DaysPastDueNotWorse', 'age'],\n",
       "      dtype='object')</pre></div></div></div><div class=\"sk-serial\"><div class=\"sk-item\"><div class=\"sk-serial\"><div class=\"sk-item\"><div class=\"sk-estimator sk-toggleable\"><input class=\"sk-toggleable__control sk-hidden--visually\" id=\"67f9db57-b9d4-4dfd-bc3b-e3c5c299d441\" type=\"checkbox\" ><label class=\"sk-toggleable__label\" for=\"67f9db57-b9d4-4dfd-bc3b-e3c5c299d441\">SimpleImputer</label><div class=\"sk-toggleable__content\"><pre>SimpleImputer(add_indicator=True, strategy='median')</pre></div></div></div><div class=\"sk-item\"><div class=\"sk-estimator sk-toggleable\"><input class=\"sk-toggleable__control sk-hidden--visually\" id=\"32e43e09-7935-4e68-a23e-81ed234f0aac\" type=\"checkbox\" ><label class=\"sk-toggleable__label\" for=\"32e43e09-7935-4e68-a23e-81ed234f0aac\">PowerTransformer</label><div class=\"sk-toggleable__content\"><pre>PowerTransformer()</pre></div></div></div><div class=\"sk-item sk-dashed-wrapped\"><div class=\"sk-label-container\"><div class=\"sk-label sk-toggleable\"><input class=\"sk-toggleable__control sk-hidden--visually\" id=\"bed2ef62-0260-4e64-979f-0592fedb3491\" type=\"checkbox\" ><label class=\"sk-toggleable__label\" for=\"bed2ef62-0260-4e64-979f-0592fedb3491\">kmeans: MiniKmeansTransformerEncoder</label><div class=\"sk-toggleable__content\"><pre>MiniKmeansTransformerEncoder()</pre></div></div></div><div class=\"sk-parallel\"><div class=\"sk-parallel-item\"><div class=\"sk-item\"><div class=\"sk-serial\"><div class=\"sk-item\"><div class=\"sk-estimator sk-toggleable\"><input class=\"sk-toggleable__control sk-hidden--visually\" id=\"3222041a-1a28-47ef-9524-03f6faf0886f\" type=\"checkbox\" ><label class=\"sk-toggleable__label\" for=\"3222041a-1a28-47ef-9524-03f6faf0886f\">WOEEncoder</label><div class=\"sk-toggleable__content\"><pre>WOEEncoder()</pre></div></div></div></div></div></div></div></div><div class=\"sk-item\"><div class=\"sk-estimator sk-toggleable\"><input class=\"sk-toggleable__control sk-hidden--visually\" id=\"6a3f7f51-0208-4cde-8150-db857547b8f0\" type=\"checkbox\" ><label class=\"sk-toggleable__label\" for=\"6a3f7f51-0208-4cde-8150-db857547b8f0\">PolynomialFeatures</label><div class=\"sk-toggleable__content\"><pre>PolynomialFeatures()</pre></div></div></div></div></div></div></div></div></div></div><div class=\"sk-item\"><div class=\"sk-estimator sk-toggleable\"><input class=\"sk-toggleable__control sk-hidden--visually\" id=\"20f7d736-afee-4baf-824e-657961643d41\" type=\"checkbox\" ><label class=\"sk-toggleable__label\" for=\"20f7d736-afee-4baf-824e-657961643d41\">HistGradientBoostingClassifier</label><div class=\"sk-toggleable__content\"><pre>HistGradientBoostingClassifier(early_stopping='False',\n",
       "                               l2_regularization=2.940296779699346e-10,\n",
       "                               learning_rate=0.015318591316397998, max_bins=137,\n",
       "                               max_depth=19, max_iter=1537, max_leaf_nodes=23,\n",
       "                               min_samples_leaf=140)</pre></div></div></div></div></div></div></div>"
      ],
      "text/plain": [
       "Pipeline(steps=[('preprocessor',\n",
       "                 ColumnTransformer(transformers=[('numerical',\n",
       "                                                  Pipeline(steps=[('imputer',\n",
       "                                                                   SimpleImputer(add_indicator=True,\n",
       "                                                                                 strategy='median')),\n",
       "                                                                  ('scaler',\n",
       "                                                                   PowerTransformer()),\n",
       "                                                                  ('kmeans',\n",
       "                                                                   MiniKmeansTransformerEncoder()),\n",
       "                                                                  ('polynominal_features',\n",
       "                                                                   PolynomialFeatures())]),\n",
       "                                                  Index(['RevolvingUtilizationOfUnsecuredLines', 'DebtRatio', 'MonthlyIncome'...\n",
       "       'NumberRealEstateLoansOrLines', 'NumberOfTimes90DaysLate',\n",
       "       'NumberOfOpenCreditLinesAndLoans',\n",
       "       'NumberOfTime30-59DaysPastDueNotWorse', 'age'],\n",
       "      dtype='object'))])),\n",
       "                ('classifier',\n",
       "                 HistGradientBoostingClassifier(early_stopping='False',\n",
       "                                                l2_regularization=2.940296779699346e-10,\n",
       "                                                learning_rate=0.015318591316397998,\n",
       "                                                max_bins=137, max_depth=19,\n",
       "                                                max_iter=1537,\n",
       "                                                max_leaf_nodes=23,\n",
       "                                                min_samples_leaf=140))])"
      ]
     },
     "execution_count": 23,
     "metadata": {},
     "output_type": "execute_result"
    }
   ],
   "source": [
    "params_hgbc = {'l2_regularization': 2.940296779699346e-10, \n",
    "         'early_stopping': 'False',\n",
    "         'learning_rate': 0.015318591316397998, \n",
    "         'max_iter': 1537, \n",
    "         'max_depth': 19, \n",
    "         'max_bins': 137, \n",
    "         'min_samples_leaf': 140,\n",
    "         'max_leaf_nodes': 23}\n",
    "model_hgbc = HistGradientBoostingClassifier(**params_hgbc)\n",
    "pipe1_model_hgbc_woe_powertransformer = Pipeline(\n",
    "    steps=[\n",
    "        ('preprocessor', preprocessor_woe_powertransformer),\n",
    "        # ('dim_red', SelectKBest(f_regression, k=20)),\n",
    "        #('Sparseinteractions', SparseInteractions(degree=2)),\n",
    "         #('PolynomialFeatures', PolynomialFeatures(degree=2)),\n",
    "        #('PCAreducer', PCA(n_components=0.8)),\n",
    "        ('classifier',model_hgbc)\n",
    "    ]\n",
    ")\n",
    "pipe1_model_hgbc_woe_powertransformer"
   ]
  },
  {
   "cell_type": "markdown",
   "id": "0f3b79b0",
   "metadata": {
    "papermill": {
     "duration": 0.050724,
     "end_time": "2021-12-27T15:19:40.875643",
     "exception": false,
     "start_time": "2021-12-27T15:19:40.824919",
     "status": "completed"
    },
    "tags": []
   },
   "source": [
    "**2-CatBoost**"
   ]
  },
  {
   "cell_type": "code",
   "execution_count": 24,
   "id": "cabd6084",
   "metadata": {
    "execution": {
     "iopub.execute_input": "2021-12-27T15:19:40.990929Z",
     "iopub.status.busy": "2021-12-27T15:19:40.989888Z",
     "iopub.status.idle": "2021-12-27T15:19:41.374740Z",
     "shell.execute_reply": "2021-12-27T15:19:41.374192Z",
     "shell.execute_reply.started": "2021-12-27T14:24:35.642459Z"
    },
    "papermill": {
     "duration": 0.4484,
     "end_time": "2021-12-27T15:19:41.374896",
     "exception": false,
     "start_time": "2021-12-27T15:19:40.926496",
     "status": "completed"
    },
    "tags": []
   },
   "outputs": [
    {
     "data": {
      "text/html": [
       "<style>div.sk-top-container {color: black;background-color: white;}div.sk-toggleable {background-color: white;}label.sk-toggleable__label {cursor: pointer;display: block;width: 100%;margin-bottom: 0;padding: 0.2em 0.3em;box-sizing: border-box;text-align: center;}div.sk-toggleable__content {max-height: 0;max-width: 0;overflow: hidden;text-align: left;background-color: #f0f8ff;}div.sk-toggleable__content pre {margin: 0.2em;color: black;border-radius: 0.25em;background-color: #f0f8ff;}input.sk-toggleable__control:checked~div.sk-toggleable__content {max-height: 200px;max-width: 100%;overflow: auto;}div.sk-estimator input.sk-toggleable__control:checked~label.sk-toggleable__label {background-color: #d4ebff;}div.sk-label input.sk-toggleable__control:checked~label.sk-toggleable__label {background-color: #d4ebff;}input.sk-hidden--visually {border: 0;clip: rect(1px 1px 1px 1px);clip: rect(1px, 1px, 1px, 1px);height: 1px;margin: -1px;overflow: hidden;padding: 0;position: absolute;width: 1px;}div.sk-estimator {font-family: monospace;background-color: #f0f8ff;margin: 0.25em 0.25em;border: 1px dotted black;border-radius: 0.25em;box-sizing: border-box;}div.sk-estimator:hover {background-color: #d4ebff;}div.sk-parallel-item::after {content: \"\";width: 100%;border-bottom: 1px solid gray;flex-grow: 1;}div.sk-label:hover label.sk-toggleable__label {background-color: #d4ebff;}div.sk-serial::before {content: \"\";position: absolute;border-left: 1px solid gray;box-sizing: border-box;top: 2em;bottom: 0;left: 50%;}div.sk-serial {display: flex;flex-direction: column;align-items: center;background-color: white;}div.sk-item {z-index: 1;}div.sk-parallel {display: flex;align-items: stretch;justify-content: center;background-color: white;}div.sk-parallel-item {display: flex;flex-direction: column;position: relative;background-color: white;}div.sk-parallel-item:first-child::after {align-self: flex-end;width: 50%;}div.sk-parallel-item:last-child::after {align-self: flex-start;width: 50%;}div.sk-parallel-item:only-child::after {width: 0;}div.sk-dashed-wrapped {border: 1px dashed gray;margin: 0.2em;box-sizing: border-box;padding-bottom: 0.1em;background-color: white;position: relative;}div.sk-label label {font-family: monospace;font-weight: bold;background-color: white;display: inline-block;line-height: 1.2em;}div.sk-label-container {position: relative;z-index: 2;text-align: center;}div.sk-container {display: inline-block;position: relative;}</style><div class=\"sk-top-container\"><div class=\"sk-container\"><div class=\"sk-item sk-dashed-wrapped\"><div class=\"sk-label-container\"><div class=\"sk-label sk-toggleable\"><input class=\"sk-toggleable__control sk-hidden--visually\" id=\"33913901-828b-4c19-aa3a-de8d90280814\" type=\"checkbox\" ><label class=\"sk-toggleable__label\" for=\"33913901-828b-4c19-aa3a-de8d90280814\">Pipeline</label><div class=\"sk-toggleable__content\"><pre>Pipeline(steps=[('preprocessor',\n",
       "                 ColumnTransformer(transformers=[('numerical',\n",
       "                                                  Pipeline(steps=[('imputer',\n",
       "                                                                   SimpleImputer(add_indicator=True,\n",
       "                                                                                 strategy='median')),\n",
       "                                                                  ('scaler',\n",
       "                                                                   PowerTransformer()),\n",
       "                                                                  ('kmeans',\n",
       "                                                                   MiniKmeansTransformerEncoder()),\n",
       "                                                                  ('polynominal_features',\n",
       "                                                                   PolynomialFeatures())]),\n",
       "                                                  Index(['RevolvingUtilizationOfUnsecuredLines', 'DebtRatio', 'MonthlyIncome',\n",
       "       'NumberOfDependents', 'NumberOfTime60-89DaysPastDueNotWorse',\n",
       "       'NumberRealEstateLoansOrLines', 'NumberOfTimes90DaysLate',\n",
       "       'NumberOfOpenCreditLinesAndLoans',\n",
       "       'NumberOfTime30-59DaysPastDueNotWorse', 'age'],\n",
       "      dtype='object'))])),\n",
       "                ('classifier',\n",
       "                 <catboost.core.CatBoostClassifier object at 0x7ff415a905d0>)])</pre></div></div></div><div class=\"sk-serial\"><div class=\"sk-item sk-dashed-wrapped\"><div class=\"sk-label-container\"><div class=\"sk-label sk-toggleable\"><input class=\"sk-toggleable__control sk-hidden--visually\" id=\"8c43ae66-938f-4eb4-a79e-71a572d08ff2\" type=\"checkbox\" ><label class=\"sk-toggleable__label\" for=\"8c43ae66-938f-4eb4-a79e-71a572d08ff2\">preprocessor: ColumnTransformer</label><div class=\"sk-toggleable__content\"><pre>ColumnTransformer(transformers=[('numerical',\n",
       "                                 Pipeline(steps=[('imputer',\n",
       "                                                  SimpleImputer(add_indicator=True,\n",
       "                                                                strategy='median')),\n",
       "                                                 ('scaler', PowerTransformer()),\n",
       "                                                 ('kmeans',\n",
       "                                                  MiniKmeansTransformerEncoder()),\n",
       "                                                 ('polynominal_features',\n",
       "                                                  PolynomialFeatures())]),\n",
       "                                 Index(['RevolvingUtilizationOfUnsecuredLines', 'DebtRatio', 'MonthlyIncome',\n",
       "       'NumberOfDependents', 'NumberOfTime60-89DaysPastDueNotWorse',\n",
       "       'NumberRealEstateLoansOrLines', 'NumberOfTimes90DaysLate',\n",
       "       'NumberOfOpenCreditLinesAndLoans',\n",
       "       'NumberOfTime30-59DaysPastDueNotWorse', 'age'],\n",
       "      dtype='object'))])</pre></div></div></div><div class=\"sk-parallel\"><div class=\"sk-parallel-item\"><div class=\"sk-item\"><div class=\"sk-label-container\"><div class=\"sk-label sk-toggleable\"><input class=\"sk-toggleable__control sk-hidden--visually\" id=\"2c32bdc6-9989-475f-a0ba-8ea566e479d7\" type=\"checkbox\" ><label class=\"sk-toggleable__label\" for=\"2c32bdc6-9989-475f-a0ba-8ea566e479d7\">numerical</label><div class=\"sk-toggleable__content\"><pre>Index(['RevolvingUtilizationOfUnsecuredLines', 'DebtRatio', 'MonthlyIncome',\n",
       "       'NumberOfDependents', 'NumberOfTime60-89DaysPastDueNotWorse',\n",
       "       'NumberRealEstateLoansOrLines', 'NumberOfTimes90DaysLate',\n",
       "       'NumberOfOpenCreditLinesAndLoans',\n",
       "       'NumberOfTime30-59DaysPastDueNotWorse', 'age'],\n",
       "      dtype='object')</pre></div></div></div><div class=\"sk-serial\"><div class=\"sk-item\"><div class=\"sk-serial\"><div class=\"sk-item\"><div class=\"sk-estimator sk-toggleable\"><input class=\"sk-toggleable__control sk-hidden--visually\" id=\"10652b4a-8358-4559-8de6-aa322b23b834\" type=\"checkbox\" ><label class=\"sk-toggleable__label\" for=\"10652b4a-8358-4559-8de6-aa322b23b834\">SimpleImputer</label><div class=\"sk-toggleable__content\"><pre>SimpleImputer(add_indicator=True, strategy='median')</pre></div></div></div><div class=\"sk-item\"><div class=\"sk-estimator sk-toggleable\"><input class=\"sk-toggleable__control sk-hidden--visually\" id=\"c2dd0ef1-26a6-40bd-adc0-64b8e9090e62\" type=\"checkbox\" ><label class=\"sk-toggleable__label\" for=\"c2dd0ef1-26a6-40bd-adc0-64b8e9090e62\">PowerTransformer</label><div class=\"sk-toggleable__content\"><pre>PowerTransformer()</pre></div></div></div><div class=\"sk-item sk-dashed-wrapped\"><div class=\"sk-label-container\"><div class=\"sk-label sk-toggleable\"><input class=\"sk-toggleable__control sk-hidden--visually\" id=\"38e11fbf-1010-44df-a040-d9c9ef4974d6\" type=\"checkbox\" ><label class=\"sk-toggleable__label\" for=\"38e11fbf-1010-44df-a040-d9c9ef4974d6\">kmeans: MiniKmeansTransformerEncoder</label><div class=\"sk-toggleable__content\"><pre>MiniKmeansTransformerEncoder()</pre></div></div></div><div class=\"sk-parallel\"><div class=\"sk-parallel-item\"><div class=\"sk-item\"><div class=\"sk-serial\"><div class=\"sk-item\"><div class=\"sk-estimator sk-toggleable\"><input class=\"sk-toggleable__control sk-hidden--visually\" id=\"b0cdf74c-e99d-4d1b-a8cb-d3018f6bb7e6\" type=\"checkbox\" ><label class=\"sk-toggleable__label\" for=\"b0cdf74c-e99d-4d1b-a8cb-d3018f6bb7e6\">WOEEncoder</label><div class=\"sk-toggleable__content\"><pre>WOEEncoder()</pre></div></div></div></div></div></div></div></div><div class=\"sk-item\"><div class=\"sk-estimator sk-toggleable\"><input class=\"sk-toggleable__control sk-hidden--visually\" id=\"a941696c-4906-4ac7-95af-44f5de21441f\" type=\"checkbox\" ><label class=\"sk-toggleable__label\" for=\"a941696c-4906-4ac7-95af-44f5de21441f\">PolynomialFeatures</label><div class=\"sk-toggleable__content\"><pre>PolynomialFeatures()</pre></div></div></div></div></div></div></div></div></div></div><div class=\"sk-item\"><div class=\"sk-estimator sk-toggleable\"><input class=\"sk-toggleable__control sk-hidden--visually\" id=\"5bea1ee2-f903-4322-a770-85ed9674b190\" type=\"checkbox\" ><label class=\"sk-toggleable__label\" for=\"5bea1ee2-f903-4322-a770-85ed9674b190\">CatBoostClassifier</label><div class=\"sk-toggleable__content\"><pre><catboost.core.CatBoostClassifier object at 0x7ff415a905d0></pre></div></div></div></div></div></div></div>"
      ],
      "text/plain": [
       "Pipeline(steps=[('preprocessor',\n",
       "                 ColumnTransformer(transformers=[('numerical',\n",
       "                                                  Pipeline(steps=[('imputer',\n",
       "                                                                   SimpleImputer(add_indicator=True,\n",
       "                                                                                 strategy='median')),\n",
       "                                                                  ('scaler',\n",
       "                                                                   PowerTransformer()),\n",
       "                                                                  ('kmeans',\n",
       "                                                                   MiniKmeansTransformerEncoder()),\n",
       "                                                                  ('polynominal_features',\n",
       "                                                                   PolynomialFeatures())]),\n",
       "                                                  Index(['RevolvingUtilizationOfUnsecuredLines', 'DebtRatio', 'MonthlyIncome',\n",
       "       'NumberOfDependents', 'NumberOfTime60-89DaysPastDueNotWorse',\n",
       "       'NumberRealEstateLoansOrLines', 'NumberOfTimes90DaysLate',\n",
       "       'NumberOfOpenCreditLinesAndLoans',\n",
       "       'NumberOfTime30-59DaysPastDueNotWorse', 'age'],\n",
       "      dtype='object'))])),\n",
       "                ('classifier',\n",
       "                 <catboost.core.CatBoostClassifier object at 0x7ff415a905d0>)])"
      ]
     },
     "execution_count": 24,
     "metadata": {},
     "output_type": "execute_result"
    }
   ],
   "source": [
    "params_catboost = { \"random_state\": 42,\n",
    "                    \"loss_function\":\"Logloss\",\n",
    "                    \"eval_metric\":\"AUC\",\n",
    "                    #\"task_type\" : \"GPU\",\n",
    "                   'learning_rate': 0.03174251209279996,\n",
    "                   'iterations': 1957,\n",
    "                   'objective': 'CrossEntropy',\n",
    "                   'colsample_bylevel': 0.05457006237382004,\n",
    "                   'depth': 4,\n",
    "                   'boosting_type': 'Ordered',\n",
    "                   'bootstrap_type': 'MVS'}\n",
    "model_catboost = CatBoostClassifier(\n",
    "                              # use it  only on gpu\n",
    "                            # rsm=np.nan\n",
    "                              #cat_features=cat_features\n",
    "                             **params_catboost)\n",
    "pipe1_model_catboost_woe_powertransformer = Pipeline(\n",
    "    steps=[\n",
    "        ('preprocessor', preprocessor_woe_powertransformer),\n",
    "        # ('dim_red', SelectKBest(f_regression, k=20)),\n",
    "        #('Sparseinteractions', SparseInteractions(degree=2)),\n",
    "         #('PolynomialFeatures', PolynomialFeatures(degree=2)),\n",
    "        #('PCAreducer', PCA(n_components=0.8)),\n",
    "        ('classifier',model_catboost)\n",
    "    ]\n",
    ")\n",
    "pipe1_model_catboost_woe_powertransformer"
   ]
  },
  {
   "cell_type": "markdown",
   "id": "e951e1de",
   "metadata": {
    "papermill": {
     "duration": 0.051577,
     "end_time": "2021-12-27T15:19:41.477623",
     "exception": false,
     "start_time": "2021-12-27T15:19:41.426046",
     "status": "completed"
    },
    "tags": []
   },
   "source": [
    "**-3 XGBR**"
   ]
  },
  {
   "cell_type": "code",
   "execution_count": 25,
   "id": "46129f11",
   "metadata": {
    "execution": {
     "iopub.execute_input": "2021-12-27T15:19:41.600393Z",
     "iopub.status.busy": "2021-12-27T15:19:41.589603Z",
     "iopub.status.idle": "2021-12-27T15:19:41.994371Z",
     "shell.execute_reply": "2021-12-27T15:19:41.994856Z",
     "shell.execute_reply.started": "2021-12-27T14:24:36.058013Z"
    },
    "papermill": {
     "duration": 0.465989,
     "end_time": "2021-12-27T15:19:41.995037",
     "exception": false,
     "start_time": "2021-12-27T15:19:41.529048",
     "status": "completed"
    },
    "tags": []
   },
   "outputs": [
    {
     "data": {
      "text/html": [
       "<style>div.sk-top-container {color: black;background-color: white;}div.sk-toggleable {background-color: white;}label.sk-toggleable__label {cursor: pointer;display: block;width: 100%;margin-bottom: 0;padding: 0.2em 0.3em;box-sizing: border-box;text-align: center;}div.sk-toggleable__content {max-height: 0;max-width: 0;overflow: hidden;text-align: left;background-color: #f0f8ff;}div.sk-toggleable__content pre {margin: 0.2em;color: black;border-radius: 0.25em;background-color: #f0f8ff;}input.sk-toggleable__control:checked~div.sk-toggleable__content {max-height: 200px;max-width: 100%;overflow: auto;}div.sk-estimator input.sk-toggleable__control:checked~label.sk-toggleable__label {background-color: #d4ebff;}div.sk-label input.sk-toggleable__control:checked~label.sk-toggleable__label {background-color: #d4ebff;}input.sk-hidden--visually {border: 0;clip: rect(1px 1px 1px 1px);clip: rect(1px, 1px, 1px, 1px);height: 1px;margin: -1px;overflow: hidden;padding: 0;position: absolute;width: 1px;}div.sk-estimator {font-family: monospace;background-color: #f0f8ff;margin: 0.25em 0.25em;border: 1px dotted black;border-radius: 0.25em;box-sizing: border-box;}div.sk-estimator:hover {background-color: #d4ebff;}div.sk-parallel-item::after {content: \"\";width: 100%;border-bottom: 1px solid gray;flex-grow: 1;}div.sk-label:hover label.sk-toggleable__label {background-color: #d4ebff;}div.sk-serial::before {content: \"\";position: absolute;border-left: 1px solid gray;box-sizing: border-box;top: 2em;bottom: 0;left: 50%;}div.sk-serial {display: flex;flex-direction: column;align-items: center;background-color: white;}div.sk-item {z-index: 1;}div.sk-parallel {display: flex;align-items: stretch;justify-content: center;background-color: white;}div.sk-parallel-item {display: flex;flex-direction: column;position: relative;background-color: white;}div.sk-parallel-item:first-child::after {align-self: flex-end;width: 50%;}div.sk-parallel-item:last-child::after {align-self: flex-start;width: 50%;}div.sk-parallel-item:only-child::after {width: 0;}div.sk-dashed-wrapped {border: 1px dashed gray;margin: 0.2em;box-sizing: border-box;padding-bottom: 0.1em;background-color: white;position: relative;}div.sk-label label {font-family: monospace;font-weight: bold;background-color: white;display: inline-block;line-height: 1.2em;}div.sk-label-container {position: relative;z-index: 2;text-align: center;}div.sk-container {display: inline-block;position: relative;}</style><div class=\"sk-top-container\"><div class=\"sk-container\"><div class=\"sk-item sk-dashed-wrapped\"><div class=\"sk-label-container\"><div class=\"sk-label sk-toggleable\"><input class=\"sk-toggleable__control sk-hidden--visually\" id=\"ecf4fcc8-93bd-4b7e-b4da-99acc8626e96\" type=\"checkbox\" ><label class=\"sk-toggleable__label\" for=\"ecf4fcc8-93bd-4b7e-b4da-99acc8626e96\">Pipeline</label><div class=\"sk-toggleable__content\"><pre>Pipeline(steps=[('preprocessor',\n",
       "                 ColumnTransformer(transformers=[('numerical',\n",
       "                                                  Pipeline(steps=[('imputer',\n",
       "                                                                   SimpleImputer(add_indicator=True,\n",
       "                                                                                 strategy='median')),\n",
       "                                                                  ('scaler',\n",
       "                                                                   PowerTransformer()),\n",
       "                                                                  ('kmeans',\n",
       "                                                                   MiniKmeansTransformerEncoder()),\n",
       "                                                                  ('polynominal_features',\n",
       "                                                                   PolynomialFeatures())]),\n",
       "                                                  Index(['RevolvingUtilizationOfUnsecuredLines', 'DebtRatio', 'MonthlyIncome'...\n",
       "                               interaction_constraints=None,\n",
       "                               lambda=0.05718879852112006,\n",
       "                               learning_rate=0.04028462871213848,\n",
       "                               max_delta_step=None, max_depth=3,\n",
       "                               min_child_weight=9, missing=nan,\n",
       "                               monotone_constraints=None, n_estimators=6258,\n",
       "                               n_jobs=None, num_parallel_tree=None,\n",
       "                               predictor=None, random_state=42, reg_alpha=None,\n",
       "                               reg_lambda=None, scale_pos_weight=None,\n",
       "                               subsample=0.4600950043573827, ...))])</pre></div></div></div><div class=\"sk-serial\"><div class=\"sk-item sk-dashed-wrapped\"><div class=\"sk-label-container\"><div class=\"sk-label sk-toggleable\"><input class=\"sk-toggleable__control sk-hidden--visually\" id=\"56b5e75c-2228-47e8-91f2-1a19a475e147\" type=\"checkbox\" ><label class=\"sk-toggleable__label\" for=\"56b5e75c-2228-47e8-91f2-1a19a475e147\">preprocessor: ColumnTransformer</label><div class=\"sk-toggleable__content\"><pre>ColumnTransformer(transformers=[('numerical',\n",
       "                                 Pipeline(steps=[('imputer',\n",
       "                                                  SimpleImputer(add_indicator=True,\n",
       "                                                                strategy='median')),\n",
       "                                                 ('scaler', PowerTransformer()),\n",
       "                                                 ('kmeans',\n",
       "                                                  MiniKmeansTransformerEncoder()),\n",
       "                                                 ('polynominal_features',\n",
       "                                                  PolynomialFeatures())]),\n",
       "                                 Index(['RevolvingUtilizationOfUnsecuredLines', 'DebtRatio', 'MonthlyIncome',\n",
       "       'NumberOfDependents', 'NumberOfTime60-89DaysPastDueNotWorse',\n",
       "       'NumberRealEstateLoansOrLines', 'NumberOfTimes90DaysLate',\n",
       "       'NumberOfOpenCreditLinesAndLoans',\n",
       "       'NumberOfTime30-59DaysPastDueNotWorse', 'age'],\n",
       "      dtype='object'))])</pre></div></div></div><div class=\"sk-parallel\"><div class=\"sk-parallel-item\"><div class=\"sk-item\"><div class=\"sk-label-container\"><div class=\"sk-label sk-toggleable\"><input class=\"sk-toggleable__control sk-hidden--visually\" id=\"f6c4985b-03b3-4fd6-9c05-0c7007ede8b6\" type=\"checkbox\" ><label class=\"sk-toggleable__label\" for=\"f6c4985b-03b3-4fd6-9c05-0c7007ede8b6\">numerical</label><div class=\"sk-toggleable__content\"><pre>Index(['RevolvingUtilizationOfUnsecuredLines', 'DebtRatio', 'MonthlyIncome',\n",
       "       'NumberOfDependents', 'NumberOfTime60-89DaysPastDueNotWorse',\n",
       "       'NumberRealEstateLoansOrLines', 'NumberOfTimes90DaysLate',\n",
       "       'NumberOfOpenCreditLinesAndLoans',\n",
       "       'NumberOfTime30-59DaysPastDueNotWorse', 'age'],\n",
       "      dtype='object')</pre></div></div></div><div class=\"sk-serial\"><div class=\"sk-item\"><div class=\"sk-serial\"><div class=\"sk-item\"><div class=\"sk-estimator sk-toggleable\"><input class=\"sk-toggleable__control sk-hidden--visually\" id=\"64d00c50-e974-4d3f-b856-09ff60ca1cd1\" type=\"checkbox\" ><label class=\"sk-toggleable__label\" for=\"64d00c50-e974-4d3f-b856-09ff60ca1cd1\">SimpleImputer</label><div class=\"sk-toggleable__content\"><pre>SimpleImputer(add_indicator=True, strategy='median')</pre></div></div></div><div class=\"sk-item\"><div class=\"sk-estimator sk-toggleable\"><input class=\"sk-toggleable__control sk-hidden--visually\" id=\"ec0f5d5b-2b64-41fb-a825-3b20a5ea1f13\" type=\"checkbox\" ><label class=\"sk-toggleable__label\" for=\"ec0f5d5b-2b64-41fb-a825-3b20a5ea1f13\">PowerTransformer</label><div class=\"sk-toggleable__content\"><pre>PowerTransformer()</pre></div></div></div><div class=\"sk-item sk-dashed-wrapped\"><div class=\"sk-label-container\"><div class=\"sk-label sk-toggleable\"><input class=\"sk-toggleable__control sk-hidden--visually\" id=\"93ed4939-ba7a-489d-89d7-2a3edac9fae1\" type=\"checkbox\" ><label class=\"sk-toggleable__label\" for=\"93ed4939-ba7a-489d-89d7-2a3edac9fae1\">kmeans: MiniKmeansTransformerEncoder</label><div class=\"sk-toggleable__content\"><pre>MiniKmeansTransformerEncoder()</pre></div></div></div><div class=\"sk-parallel\"><div class=\"sk-parallel-item\"><div class=\"sk-item\"><div class=\"sk-serial\"><div class=\"sk-item\"><div class=\"sk-estimator sk-toggleable\"><input class=\"sk-toggleable__control sk-hidden--visually\" id=\"47e2bdd6-9cfe-4770-9fbe-0b19e51771a6\" type=\"checkbox\" ><label class=\"sk-toggleable__label\" for=\"47e2bdd6-9cfe-4770-9fbe-0b19e51771a6\">WOEEncoder</label><div class=\"sk-toggleable__content\"><pre>WOEEncoder()</pre></div></div></div></div></div></div></div></div><div class=\"sk-item\"><div class=\"sk-estimator sk-toggleable\"><input class=\"sk-toggleable__control sk-hidden--visually\" id=\"df665835-0181-473f-8df6-67d89bd38bc8\" type=\"checkbox\" ><label class=\"sk-toggleable__label\" for=\"df665835-0181-473f-8df6-67d89bd38bc8\">PolynomialFeatures</label><div class=\"sk-toggleable__content\"><pre>PolynomialFeatures()</pre></div></div></div></div></div></div></div></div></div></div><div class=\"sk-item\"><div class=\"sk-estimator sk-toggleable\"><input class=\"sk-toggleable__control sk-hidden--visually\" id=\"f937f641-5b0c-455b-9234-65cbcc5da79a\" type=\"checkbox\" ><label class=\"sk-toggleable__label\" for=\"f937f641-5b0c-455b-9234-65cbcc5da79a\">XGBClassifier</label><div class=\"sk-toggleable__content\"><pre>XGBClassifier(alpha=0.3744455966091751, base_score=None, booster='gbtree',\n",
       "              colsample_bylevel=None, colsample_bynode=None,\n",
       "              colsample_bytree=0.4826795171274075, enable_categorical=False,\n",
       "              eta=1.0243140309668855e-07, eval_metric='auc',\n",
       "              gamma=0.0002882867942209271, gpu_id=None, grow_policy='lossguide',\n",
       "              importance_type=None, interaction_constraints=None,\n",
       "              lambda=0.05718879852112006, learning_rate=0.04028462871213848,\n",
       "              max_delta_step=None, max_depth=3, min_child_weight=9, missing=nan,\n",
       "              monotone_constraints=None, n_estimators=6258, n_jobs=None,\n",
       "              num_parallel_tree=None, predictor=None, random_state=42,\n",
       "              reg_alpha=None, reg_lambda=None, scale_pos_weight=None,\n",
       "              subsample=0.4600950043573827, ...)</pre></div></div></div></div></div></div></div>"
      ],
      "text/plain": [
       "Pipeline(steps=[('preprocessor',\n",
       "                 ColumnTransformer(transformers=[('numerical',\n",
       "                                                  Pipeline(steps=[('imputer',\n",
       "                                                                   SimpleImputer(add_indicator=True,\n",
       "                                                                                 strategy='median')),\n",
       "                                                                  ('scaler',\n",
       "                                                                   PowerTransformer()),\n",
       "                                                                  ('kmeans',\n",
       "                                                                   MiniKmeansTransformerEncoder()),\n",
       "                                                                  ('polynominal_features',\n",
       "                                                                   PolynomialFeatures())]),\n",
       "                                                  Index(['RevolvingUtilizationOfUnsecuredLines', 'DebtRatio', 'MonthlyIncome'...\n",
       "                               interaction_constraints=None,\n",
       "                               lambda=0.05718879852112006,\n",
       "                               learning_rate=0.04028462871213848,\n",
       "                               max_delta_step=None, max_depth=3,\n",
       "                               min_child_weight=9, missing=nan,\n",
       "                               monotone_constraints=None, n_estimators=6258,\n",
       "                               n_jobs=None, num_parallel_tree=None,\n",
       "                               predictor=None, random_state=42, reg_alpha=None,\n",
       "                               reg_lambda=None, scale_pos_weight=None,\n",
       "                               subsample=0.4600950043573827, ...))])"
      ]
     },
     "execution_count": 25,
     "metadata": {},
     "output_type": "execute_result"
    }
   ],
   "source": [
    "params_xgbr = { \"verbosity\": 0,\n",
    "                \"objective\": \"binary:logistic\",\n",
    "                \"eval_metric\": \"auc\",\n",
    "                'random_state': 42,\n",
    "                # regression\n",
    "                #'objective':'reg:squarederror', \n",
    "                # 'eval_metric': 'mae',\n",
    "                #early_stopping_rounds=100 ,\n",
    "               # 'gpu_id':0, \n",
    "               # 'predictor':\"gpu_predictor\",\n",
    "                # use exact for small dataset.\n",
    "                #\"tree_method\": \"exact\",\n",
    "                # big data :\n",
    "                # 'tree_method': 'gpu_hist',\n",
    "                # defines booster, gblinear for linear functions.\n",
    "               'booster': 'gbtree',\n",
    "               'lambda': 0.05718879852112006,\n",
    "               'alpha': 0.3744455966091751, \n",
    "               'subsample': 0.4600950043573827, \n",
    "               'colsample_bytree': 0.4826795171274075, \n",
    "               'learning_rate': 0.04028462871213848, \n",
    "               'n_estimators': 6258, \n",
    "               'max_depth': 3,\n",
    "               'min_child_weight': 9,\n",
    "               'eta': 1.0243140309668855e-07,\n",
    "               'gamma': 0.0002882867942209271, \n",
    "               'grow_policy': 'lossguide'\n",
    "              }\n",
    "model_xgbr = XGBClassifier(\n",
    "                              # use it  only on gpu\n",
    "                            # rsm=np.nan\n",
    "                              #cat_features=cat_features\n",
    "                             **params_xgbr)\n",
    "pipe1_model_xgbr_woe_powertransformer = Pipeline(\n",
    "    steps=[\n",
    "        ('preprocessor', preprocessor_woe_powertransformer),\n",
    "        # ('dim_red', SelectKBest(f_regression, k=20)),\n",
    "        #('Sparseinteractions', SparseInteractions(degree=2)),\n",
    "         #('PolynomialFeatures', PolynomialFeatures(degree=2)),\n",
    "        #('PCAreducer', PCA(n_components=0.8)),\n",
    "        ('classifier',model_xgbr)\n",
    "    ]\n",
    ")\n",
    "pipe1_model_xgbr_woe_powertransformer"
   ]
  },
  {
   "cell_type": "markdown",
   "id": "745eedaa",
   "metadata": {
    "papermill": {
     "duration": 0.051645,
     "end_time": "2021-12-27T15:19:42.099227",
     "exception": false,
     "start_time": "2021-12-27T15:19:42.047582",
     "status": "completed"
    },
    "tags": []
   },
   "source": [
    "**4-LR:**"
   ]
  },
  {
   "cell_type": "code",
   "execution_count": 26,
   "id": "265e6631",
   "metadata": {
    "execution": {
     "iopub.execute_input": "2021-12-27T15:19:42.205711Z",
     "iopub.status.busy": "2021-12-27T15:19:42.205067Z",
     "iopub.status.idle": "2021-12-27T15:19:42.602057Z",
     "shell.execute_reply": "2021-12-27T15:19:42.601552Z",
     "shell.execute_reply.started": "2021-12-27T14:24:36.479834Z"
    },
    "papermill": {
     "duration": 0.451389,
     "end_time": "2021-12-27T15:19:42.602221",
     "exception": false,
     "start_time": "2021-12-27T15:19:42.150832",
     "status": "completed"
    },
    "tags": []
   },
   "outputs": [
    {
     "data": {
      "text/html": [
       "<style>div.sk-top-container {color: black;background-color: white;}div.sk-toggleable {background-color: white;}label.sk-toggleable__label {cursor: pointer;display: block;width: 100%;margin-bottom: 0;padding: 0.2em 0.3em;box-sizing: border-box;text-align: center;}div.sk-toggleable__content {max-height: 0;max-width: 0;overflow: hidden;text-align: left;background-color: #f0f8ff;}div.sk-toggleable__content pre {margin: 0.2em;color: black;border-radius: 0.25em;background-color: #f0f8ff;}input.sk-toggleable__control:checked~div.sk-toggleable__content {max-height: 200px;max-width: 100%;overflow: auto;}div.sk-estimator input.sk-toggleable__control:checked~label.sk-toggleable__label {background-color: #d4ebff;}div.sk-label input.sk-toggleable__control:checked~label.sk-toggleable__label {background-color: #d4ebff;}input.sk-hidden--visually {border: 0;clip: rect(1px 1px 1px 1px);clip: rect(1px, 1px, 1px, 1px);height: 1px;margin: -1px;overflow: hidden;padding: 0;position: absolute;width: 1px;}div.sk-estimator {font-family: monospace;background-color: #f0f8ff;margin: 0.25em 0.25em;border: 1px dotted black;border-radius: 0.25em;box-sizing: border-box;}div.sk-estimator:hover {background-color: #d4ebff;}div.sk-parallel-item::after {content: \"\";width: 100%;border-bottom: 1px solid gray;flex-grow: 1;}div.sk-label:hover label.sk-toggleable__label {background-color: #d4ebff;}div.sk-serial::before {content: \"\";position: absolute;border-left: 1px solid gray;box-sizing: border-box;top: 2em;bottom: 0;left: 50%;}div.sk-serial {display: flex;flex-direction: column;align-items: center;background-color: white;}div.sk-item {z-index: 1;}div.sk-parallel {display: flex;align-items: stretch;justify-content: center;background-color: white;}div.sk-parallel-item {display: flex;flex-direction: column;position: relative;background-color: white;}div.sk-parallel-item:first-child::after {align-self: flex-end;width: 50%;}div.sk-parallel-item:last-child::after {align-self: flex-start;width: 50%;}div.sk-parallel-item:only-child::after {width: 0;}div.sk-dashed-wrapped {border: 1px dashed gray;margin: 0.2em;box-sizing: border-box;padding-bottom: 0.1em;background-color: white;position: relative;}div.sk-label label {font-family: monospace;font-weight: bold;background-color: white;display: inline-block;line-height: 1.2em;}div.sk-label-container {position: relative;z-index: 2;text-align: center;}div.sk-container {display: inline-block;position: relative;}</style><div class=\"sk-top-container\"><div class=\"sk-container\"><div class=\"sk-item sk-dashed-wrapped\"><div class=\"sk-label-container\"><div class=\"sk-label sk-toggleable\"><input class=\"sk-toggleable__control sk-hidden--visually\" id=\"747b337a-bc3c-4047-943c-ee54ea0bec4c\" type=\"checkbox\" ><label class=\"sk-toggleable__label\" for=\"747b337a-bc3c-4047-943c-ee54ea0bec4c\">Pipeline</label><div class=\"sk-toggleable__content\"><pre>Pipeline(steps=[('preprocessor',\n",
       "                 ColumnTransformer(transformers=[('numerical',\n",
       "                                                  Pipeline(steps=[('imputer',\n",
       "                                                                   SimpleImputer(add_indicator=True,\n",
       "                                                                                 strategy='median')),\n",
       "                                                                  ('scaler',\n",
       "                                                                   PowerTransformer()),\n",
       "                                                                  ('kmeans',\n",
       "                                                                   MiniKmeansTransformerEncoder()),\n",
       "                                                                  ('polynominal_features',\n",
       "                                                                   PolynomialFeatures())]),\n",
       "                                                  Index(['RevolvingUtilizationOfUnsecuredLines', 'DebtRatio', 'MonthlyIncome',\n",
       "       'NumberOfDependents', 'NumberOfTime60-89DaysPastDueNotWorse',\n",
       "       'NumberRealEstateLoansOrLines', 'NumberOfTimes90DaysLate',\n",
       "       'NumberOfOpenCreditLinesAndLoans',\n",
       "       'NumberOfTime30-59DaysPastDueNotWorse', 'age'],\n",
       "      dtype='object'))])),\n",
       "                ('classifier',\n",
       "                 LogisticRegression(C=6805.270095210636, random_state=42,\n",
       "                                    solver='liblinear'))])</pre></div></div></div><div class=\"sk-serial\"><div class=\"sk-item sk-dashed-wrapped\"><div class=\"sk-label-container\"><div class=\"sk-label sk-toggleable\"><input class=\"sk-toggleable__control sk-hidden--visually\" id=\"c2dde96b-a3ec-487d-ad85-d71b52fbdc2c\" type=\"checkbox\" ><label class=\"sk-toggleable__label\" for=\"c2dde96b-a3ec-487d-ad85-d71b52fbdc2c\">preprocessor: ColumnTransformer</label><div class=\"sk-toggleable__content\"><pre>ColumnTransformer(transformers=[('numerical',\n",
       "                                 Pipeline(steps=[('imputer',\n",
       "                                                  SimpleImputer(add_indicator=True,\n",
       "                                                                strategy='median')),\n",
       "                                                 ('scaler', PowerTransformer()),\n",
       "                                                 ('kmeans',\n",
       "                                                  MiniKmeansTransformerEncoder()),\n",
       "                                                 ('polynominal_features',\n",
       "                                                  PolynomialFeatures())]),\n",
       "                                 Index(['RevolvingUtilizationOfUnsecuredLines', 'DebtRatio', 'MonthlyIncome',\n",
       "       'NumberOfDependents', 'NumberOfTime60-89DaysPastDueNotWorse',\n",
       "       'NumberRealEstateLoansOrLines', 'NumberOfTimes90DaysLate',\n",
       "       'NumberOfOpenCreditLinesAndLoans',\n",
       "       'NumberOfTime30-59DaysPastDueNotWorse', 'age'],\n",
       "      dtype='object'))])</pre></div></div></div><div class=\"sk-parallel\"><div class=\"sk-parallel-item\"><div class=\"sk-item\"><div class=\"sk-label-container\"><div class=\"sk-label sk-toggleable\"><input class=\"sk-toggleable__control sk-hidden--visually\" id=\"505b9732-d00a-4c37-8079-1f5eb015e0ed\" type=\"checkbox\" ><label class=\"sk-toggleable__label\" for=\"505b9732-d00a-4c37-8079-1f5eb015e0ed\">numerical</label><div class=\"sk-toggleable__content\"><pre>Index(['RevolvingUtilizationOfUnsecuredLines', 'DebtRatio', 'MonthlyIncome',\n",
       "       'NumberOfDependents', 'NumberOfTime60-89DaysPastDueNotWorse',\n",
       "       'NumberRealEstateLoansOrLines', 'NumberOfTimes90DaysLate',\n",
       "       'NumberOfOpenCreditLinesAndLoans',\n",
       "       'NumberOfTime30-59DaysPastDueNotWorse', 'age'],\n",
       "      dtype='object')</pre></div></div></div><div class=\"sk-serial\"><div class=\"sk-item\"><div class=\"sk-serial\"><div class=\"sk-item\"><div class=\"sk-estimator sk-toggleable\"><input class=\"sk-toggleable__control sk-hidden--visually\" id=\"15fbf6d0-95eb-477c-b8c6-9d31e4b5e27f\" type=\"checkbox\" ><label class=\"sk-toggleable__label\" for=\"15fbf6d0-95eb-477c-b8c6-9d31e4b5e27f\">SimpleImputer</label><div class=\"sk-toggleable__content\"><pre>SimpleImputer(add_indicator=True, strategy='median')</pre></div></div></div><div class=\"sk-item\"><div class=\"sk-estimator sk-toggleable\"><input class=\"sk-toggleable__control sk-hidden--visually\" id=\"d71a8975-b455-479f-b301-b1f6f53f2834\" type=\"checkbox\" ><label class=\"sk-toggleable__label\" for=\"d71a8975-b455-479f-b301-b1f6f53f2834\">PowerTransformer</label><div class=\"sk-toggleable__content\"><pre>PowerTransformer()</pre></div></div></div><div class=\"sk-item sk-dashed-wrapped\"><div class=\"sk-label-container\"><div class=\"sk-label sk-toggleable\"><input class=\"sk-toggleable__control sk-hidden--visually\" id=\"fc13c3e2-ae4f-44e9-bdac-682a38b5cdd4\" type=\"checkbox\" ><label class=\"sk-toggleable__label\" for=\"fc13c3e2-ae4f-44e9-bdac-682a38b5cdd4\">kmeans: MiniKmeansTransformerEncoder</label><div class=\"sk-toggleable__content\"><pre>MiniKmeansTransformerEncoder()</pre></div></div></div><div class=\"sk-parallel\"><div class=\"sk-parallel-item\"><div class=\"sk-item\"><div class=\"sk-serial\"><div class=\"sk-item\"><div class=\"sk-estimator sk-toggleable\"><input class=\"sk-toggleable__control sk-hidden--visually\" id=\"7cd067be-b4cf-427d-896a-25c013524e04\" type=\"checkbox\" ><label class=\"sk-toggleable__label\" for=\"7cd067be-b4cf-427d-896a-25c013524e04\">WOEEncoder</label><div class=\"sk-toggleable__content\"><pre>WOEEncoder()</pre></div></div></div></div></div></div></div></div><div class=\"sk-item\"><div class=\"sk-estimator sk-toggleable\"><input class=\"sk-toggleable__control sk-hidden--visually\" id=\"a5278c7c-e91e-4e42-89a7-16ef5f641327\" type=\"checkbox\" ><label class=\"sk-toggleable__label\" for=\"a5278c7c-e91e-4e42-89a7-16ef5f641327\">PolynomialFeatures</label><div class=\"sk-toggleable__content\"><pre>PolynomialFeatures()</pre></div></div></div></div></div></div></div></div></div></div><div class=\"sk-item\"><div class=\"sk-estimator sk-toggleable\"><input class=\"sk-toggleable__control sk-hidden--visually\" id=\"08655829-4200-4f6d-982f-c96d36eda10d\" type=\"checkbox\" ><label class=\"sk-toggleable__label\" for=\"08655829-4200-4f6d-982f-c96d36eda10d\">LogisticRegression</label><div class=\"sk-toggleable__content\"><pre>LogisticRegression(C=6805.270095210636, random_state=42, solver='liblinear')</pre></div></div></div></div></div></div></div>"
      ],
      "text/plain": [
       "Pipeline(steps=[('preprocessor',\n",
       "                 ColumnTransformer(transformers=[('numerical',\n",
       "                                                  Pipeline(steps=[('imputer',\n",
       "                                                                   SimpleImputer(add_indicator=True,\n",
       "                                                                                 strategy='median')),\n",
       "                                                                  ('scaler',\n",
       "                                                                   PowerTransformer()),\n",
       "                                                                  ('kmeans',\n",
       "                                                                   MiniKmeansTransformerEncoder()),\n",
       "                                                                  ('polynominal_features',\n",
       "                                                                   PolynomialFeatures())]),\n",
       "                                                  Index(['RevolvingUtilizationOfUnsecuredLines', 'DebtRatio', 'MonthlyIncome',\n",
       "       'NumberOfDependents', 'NumberOfTime60-89DaysPastDueNotWorse',\n",
       "       'NumberRealEstateLoansOrLines', 'NumberOfTimes90DaysLate',\n",
       "       'NumberOfOpenCreditLinesAndLoans',\n",
       "       'NumberOfTime30-59DaysPastDueNotWorse', 'age'],\n",
       "      dtype='object'))])),\n",
       "                ('classifier',\n",
       "                 LogisticRegression(C=6805.270095210636, random_state=42,\n",
       "                                    solver='liblinear'))])"
      ]
     },
     "execution_count": 26,
     "metadata": {},
     "output_type": "execute_result"
    }
   ],
   "source": [
    "params_lr = {\n",
    "             \"random_state\": 42,\n",
    "             'solver':'liblinear',\n",
    "             'C': 6805.270095210636,\n",
    "             'penalty': 'l2'\n",
    "             }\n",
    "model_lr = LogisticRegression(**params_lr,\n",
    "                              # use it  only on gpu\n",
    "                            # rsm=np.nan\n",
    "                              #cat_features=cat_features\n",
    "                             )\n",
    "pipe1_model_lr_woe_powertransformer = Pipeline(\n",
    "    steps=[\n",
    "        ('preprocessor', preprocessor_woe_powertransformer),\n",
    "        # ('dim_red', SelectKBest(f_regression, k=20)),\n",
    "        #('Sparseinteractions', SparseInteractions(degree=2)),\n",
    "         #('PolynomialFeatures', PolynomialFeatures(degree=2)),\n",
    "        #('PCAreducer', PCA(n_components=0.8)),\n",
    "        ('classifier',model_lr)\n",
    "    ]\n",
    ")\n",
    "pipe1_model_lr_woe_powertransformer"
   ]
  },
  {
   "cell_type": "markdown",
   "id": "f57ce49f",
   "metadata": {
    "papermill": {
     "duration": 0.054486,
     "end_time": "2021-12-27T15:19:42.709270",
     "exception": false,
     "start_time": "2021-12-27T15:19:42.654784",
     "status": "completed"
    },
    "tags": []
   },
   "source": [
    "**5-SVM:**"
   ]
  },
  {
   "cell_type": "code",
   "execution_count": 27,
   "id": "6e29a403",
   "metadata": {
    "execution": {
     "iopub.execute_input": "2021-12-27T15:19:42.853392Z",
     "iopub.status.busy": "2021-12-27T15:19:42.852685Z",
     "iopub.status.idle": "2021-12-27T15:19:43.220092Z",
     "shell.execute_reply": "2021-12-27T15:19:43.220630Z",
     "shell.execute_reply.started": "2021-12-27T14:24:36.901117Z"
    },
    "papermill": {
     "duration": 0.457288,
     "end_time": "2021-12-27T15:19:43.220806",
     "exception": false,
     "start_time": "2021-12-27T15:19:42.763518",
     "status": "completed"
    },
    "tags": []
   },
   "outputs": [
    {
     "data": {
      "text/html": [
       "<style>div.sk-top-container {color: black;background-color: white;}div.sk-toggleable {background-color: white;}label.sk-toggleable__label {cursor: pointer;display: block;width: 100%;margin-bottom: 0;padding: 0.2em 0.3em;box-sizing: border-box;text-align: center;}div.sk-toggleable__content {max-height: 0;max-width: 0;overflow: hidden;text-align: left;background-color: #f0f8ff;}div.sk-toggleable__content pre {margin: 0.2em;color: black;border-radius: 0.25em;background-color: #f0f8ff;}input.sk-toggleable__control:checked~div.sk-toggleable__content {max-height: 200px;max-width: 100%;overflow: auto;}div.sk-estimator input.sk-toggleable__control:checked~label.sk-toggleable__label {background-color: #d4ebff;}div.sk-label input.sk-toggleable__control:checked~label.sk-toggleable__label {background-color: #d4ebff;}input.sk-hidden--visually {border: 0;clip: rect(1px 1px 1px 1px);clip: rect(1px, 1px, 1px, 1px);height: 1px;margin: -1px;overflow: hidden;padding: 0;position: absolute;width: 1px;}div.sk-estimator {font-family: monospace;background-color: #f0f8ff;margin: 0.25em 0.25em;border: 1px dotted black;border-radius: 0.25em;box-sizing: border-box;}div.sk-estimator:hover {background-color: #d4ebff;}div.sk-parallel-item::after {content: \"\";width: 100%;border-bottom: 1px solid gray;flex-grow: 1;}div.sk-label:hover label.sk-toggleable__label {background-color: #d4ebff;}div.sk-serial::before {content: \"\";position: absolute;border-left: 1px solid gray;box-sizing: border-box;top: 2em;bottom: 0;left: 50%;}div.sk-serial {display: flex;flex-direction: column;align-items: center;background-color: white;}div.sk-item {z-index: 1;}div.sk-parallel {display: flex;align-items: stretch;justify-content: center;background-color: white;}div.sk-parallel-item {display: flex;flex-direction: column;position: relative;background-color: white;}div.sk-parallel-item:first-child::after {align-self: flex-end;width: 50%;}div.sk-parallel-item:last-child::after {align-self: flex-start;width: 50%;}div.sk-parallel-item:only-child::after {width: 0;}div.sk-dashed-wrapped {border: 1px dashed gray;margin: 0.2em;box-sizing: border-box;padding-bottom: 0.1em;background-color: white;position: relative;}div.sk-label label {font-family: monospace;font-weight: bold;background-color: white;display: inline-block;line-height: 1.2em;}div.sk-label-container {position: relative;z-index: 2;text-align: center;}div.sk-container {display: inline-block;position: relative;}</style><div class=\"sk-top-container\"><div class=\"sk-container\"><div class=\"sk-item sk-dashed-wrapped\"><div class=\"sk-label-container\"><div class=\"sk-label sk-toggleable\"><input class=\"sk-toggleable__control sk-hidden--visually\" id=\"f2f8dc09-a975-4aa7-b1e6-930df472d822\" type=\"checkbox\" ><label class=\"sk-toggleable__label\" for=\"f2f8dc09-a975-4aa7-b1e6-930df472d822\">Pipeline</label><div class=\"sk-toggleable__content\"><pre>Pipeline(steps=[('preprocessor',\n",
       "                 ColumnTransformer(transformers=[('numerical',\n",
       "                                                  Pipeline(steps=[('imputer',\n",
       "                                                                   SimpleImputer(add_indicator=True,\n",
       "                                                                                 strategy='median')),\n",
       "                                                                  ('scaler',\n",
       "                                                                   PowerTransformer()),\n",
       "                                                                  ('kmeans',\n",
       "                                                                   MiniKmeansTransformerEncoder()),\n",
       "                                                                  ('polynominal_features',\n",
       "                                                                   PolynomialFeatures())]),\n",
       "                                                  Index(['RevolvingUtilizationOfUnsecuredLines', 'DebtRatio', 'MonthlyIncome',\n",
       "       'NumberOfDependents', 'NumberOfTime60-89DaysPastDueNotWorse',\n",
       "       'NumberRealEstateLoansOrLines', 'NumberOfTimes90DaysLate',\n",
       "       'NumberOfOpenCreditLinesAndLoans',\n",
       "       'NumberOfTime30-59DaysPastDueNotWorse', 'age'],\n",
       "      dtype='object'))])),\n",
       "                ('classifier', SVC())])</pre></div></div></div><div class=\"sk-serial\"><div class=\"sk-item sk-dashed-wrapped\"><div class=\"sk-label-container\"><div class=\"sk-label sk-toggleable\"><input class=\"sk-toggleable__control sk-hidden--visually\" id=\"38631cff-7aa6-468f-bbb4-87251817731d\" type=\"checkbox\" ><label class=\"sk-toggleable__label\" for=\"38631cff-7aa6-468f-bbb4-87251817731d\">preprocessor: ColumnTransformer</label><div class=\"sk-toggleable__content\"><pre>ColumnTransformer(transformers=[('numerical',\n",
       "                                 Pipeline(steps=[('imputer',\n",
       "                                                  SimpleImputer(add_indicator=True,\n",
       "                                                                strategy='median')),\n",
       "                                                 ('scaler', PowerTransformer()),\n",
       "                                                 ('kmeans',\n",
       "                                                  MiniKmeansTransformerEncoder()),\n",
       "                                                 ('polynominal_features',\n",
       "                                                  PolynomialFeatures())]),\n",
       "                                 Index(['RevolvingUtilizationOfUnsecuredLines', 'DebtRatio', 'MonthlyIncome',\n",
       "       'NumberOfDependents', 'NumberOfTime60-89DaysPastDueNotWorse',\n",
       "       'NumberRealEstateLoansOrLines', 'NumberOfTimes90DaysLate',\n",
       "       'NumberOfOpenCreditLinesAndLoans',\n",
       "       'NumberOfTime30-59DaysPastDueNotWorse', 'age'],\n",
       "      dtype='object'))])</pre></div></div></div><div class=\"sk-parallel\"><div class=\"sk-parallel-item\"><div class=\"sk-item\"><div class=\"sk-label-container\"><div class=\"sk-label sk-toggleable\"><input class=\"sk-toggleable__control sk-hidden--visually\" id=\"cd40535f-687e-451a-a1aa-e2cd84624335\" type=\"checkbox\" ><label class=\"sk-toggleable__label\" for=\"cd40535f-687e-451a-a1aa-e2cd84624335\">numerical</label><div class=\"sk-toggleable__content\"><pre>Index(['RevolvingUtilizationOfUnsecuredLines', 'DebtRatio', 'MonthlyIncome',\n",
       "       'NumberOfDependents', 'NumberOfTime60-89DaysPastDueNotWorse',\n",
       "       'NumberRealEstateLoansOrLines', 'NumberOfTimes90DaysLate',\n",
       "       'NumberOfOpenCreditLinesAndLoans',\n",
       "       'NumberOfTime30-59DaysPastDueNotWorse', 'age'],\n",
       "      dtype='object')</pre></div></div></div><div class=\"sk-serial\"><div class=\"sk-item\"><div class=\"sk-serial\"><div class=\"sk-item\"><div class=\"sk-estimator sk-toggleable\"><input class=\"sk-toggleable__control sk-hidden--visually\" id=\"bbb5fdfc-9cb1-40dc-b65b-9047babe6af8\" type=\"checkbox\" ><label class=\"sk-toggleable__label\" for=\"bbb5fdfc-9cb1-40dc-b65b-9047babe6af8\">SimpleImputer</label><div class=\"sk-toggleable__content\"><pre>SimpleImputer(add_indicator=True, strategy='median')</pre></div></div></div><div class=\"sk-item\"><div class=\"sk-estimator sk-toggleable\"><input class=\"sk-toggleable__control sk-hidden--visually\" id=\"629ade60-8eb3-4186-b8c3-d5ed2d4600f4\" type=\"checkbox\" ><label class=\"sk-toggleable__label\" for=\"629ade60-8eb3-4186-b8c3-d5ed2d4600f4\">PowerTransformer</label><div class=\"sk-toggleable__content\"><pre>PowerTransformer()</pre></div></div></div><div class=\"sk-item sk-dashed-wrapped\"><div class=\"sk-label-container\"><div class=\"sk-label sk-toggleable\"><input class=\"sk-toggleable__control sk-hidden--visually\" id=\"6ad3e338-dfcd-4f1a-a14a-0df505288b13\" type=\"checkbox\" ><label class=\"sk-toggleable__label\" for=\"6ad3e338-dfcd-4f1a-a14a-0df505288b13\">kmeans: MiniKmeansTransformerEncoder</label><div class=\"sk-toggleable__content\"><pre>MiniKmeansTransformerEncoder()</pre></div></div></div><div class=\"sk-parallel\"><div class=\"sk-parallel-item\"><div class=\"sk-item\"><div class=\"sk-serial\"><div class=\"sk-item\"><div class=\"sk-estimator sk-toggleable\"><input class=\"sk-toggleable__control sk-hidden--visually\" id=\"3d38ad7a-af82-4096-8cd1-3a5b2ac59c17\" type=\"checkbox\" ><label class=\"sk-toggleable__label\" for=\"3d38ad7a-af82-4096-8cd1-3a5b2ac59c17\">WOEEncoder</label><div class=\"sk-toggleable__content\"><pre>WOEEncoder()</pre></div></div></div></div></div></div></div></div><div class=\"sk-item\"><div class=\"sk-estimator sk-toggleable\"><input class=\"sk-toggleable__control sk-hidden--visually\" id=\"fcf4fe54-277b-4b7b-9869-ddb46e275e64\" type=\"checkbox\" ><label class=\"sk-toggleable__label\" for=\"fcf4fe54-277b-4b7b-9869-ddb46e275e64\">PolynomialFeatures</label><div class=\"sk-toggleable__content\"><pre>PolynomialFeatures()</pre></div></div></div></div></div></div></div></div></div></div><div class=\"sk-item\"><div class=\"sk-estimator sk-toggleable\"><input class=\"sk-toggleable__control sk-hidden--visually\" id=\"e605d7ee-361a-42cf-a078-232262ec7539\" type=\"checkbox\" ><label class=\"sk-toggleable__label\" for=\"e605d7ee-361a-42cf-a078-232262ec7539\">SVC</label><div class=\"sk-toggleable__content\"><pre>SVC()</pre></div></div></div></div></div></div></div>"
      ],
      "text/plain": [
       "Pipeline(steps=[('preprocessor',\n",
       "                 ColumnTransformer(transformers=[('numerical',\n",
       "                                                  Pipeline(steps=[('imputer',\n",
       "                                                                   SimpleImputer(add_indicator=True,\n",
       "                                                                                 strategy='median')),\n",
       "                                                                  ('scaler',\n",
       "                                                                   PowerTransformer()),\n",
       "                                                                  ('kmeans',\n",
       "                                                                   MiniKmeansTransformerEncoder()),\n",
       "                                                                  ('polynominal_features',\n",
       "                                                                   PolynomialFeatures())]),\n",
       "                                                  Index(['RevolvingUtilizationOfUnsecuredLines', 'DebtRatio', 'MonthlyIncome',\n",
       "       'NumberOfDependents', 'NumberOfTime60-89DaysPastDueNotWorse',\n",
       "       'NumberRealEstateLoansOrLines', 'NumberOfTimes90DaysLate',\n",
       "       'NumberOfOpenCreditLinesAndLoans',\n",
       "       'NumberOfTime30-59DaysPastDueNotWorse', 'age'],\n",
       "      dtype='object'))])),\n",
       "                ('classifier', SVC())])"
      ]
     },
     "execution_count": 27,
     "metadata": {},
     "output_type": "execute_result"
    }
   ],
   "source": [
    "params_svm = {\"random_state\": 42,\n",
    "             'C': 244.5231198228094, \n",
    "             'penalty': 'l2'\n",
    "            }\n",
    "model_svm = svm.SVC(\n",
    "     #**params_svm,\n",
    "                              # use it  only on gpu\n",
    "                            # rsm=np.nan\n",
    "                              #cat_features=cat_features\n",
    "                             )\n",
    "pipe1_model_svm_woe_powertransformer = Pipeline(\n",
    "    steps=[\n",
    "        ('preprocessor', preprocessor_woe_powertransformer),\n",
    "        # ('dim_red', SelectKBest(f_regression, k=20)),\n",
    "        #('Sparseinteractions', SparseInteractions(degree=2)),\n",
    "         #('PolynomialFeatures', PolynomialFeatures(degree=2)),\n",
    "        #('PCAreducer', PCA(n_components=0.8)),\n",
    "        ('classifier',model_svm)\n",
    "    ]\n",
    ")\n",
    "pipe1_model_svm_woe_powertransformer"
   ]
  },
  {
   "cell_type": "markdown",
   "id": "788700a4",
   "metadata": {
    "papermill": {
     "duration": 0.053324,
     "end_time": "2021-12-27T15:19:43.327203",
     "exception": false,
     "start_time": "2021-12-27T15:19:43.273879",
     "status": "completed"
    },
    "tags": []
   },
   "source": [
    "**6-RF:**"
   ]
  },
  {
   "cell_type": "code",
   "execution_count": 28,
   "id": "5626a49d",
   "metadata": {
    "execution": {
     "iopub.execute_input": "2021-12-27T15:19:43.483362Z",
     "iopub.status.busy": "2021-12-27T15:19:43.447217Z",
     "iopub.status.idle": "2021-12-27T15:19:43.838316Z",
     "shell.execute_reply": "2021-12-27T15:19:43.837696Z",
     "shell.execute_reply.started": "2021-12-27T14:24:37.326127Z"
    },
    "papermill": {
     "duration": 0.458069,
     "end_time": "2021-12-27T15:19:43.838469",
     "exception": false,
     "start_time": "2021-12-27T15:19:43.380400",
     "status": "completed"
    },
    "tags": []
   },
   "outputs": [
    {
     "data": {
      "text/html": [
       "<style>div.sk-top-container {color: black;background-color: white;}div.sk-toggleable {background-color: white;}label.sk-toggleable__label {cursor: pointer;display: block;width: 100%;margin-bottom: 0;padding: 0.2em 0.3em;box-sizing: border-box;text-align: center;}div.sk-toggleable__content {max-height: 0;max-width: 0;overflow: hidden;text-align: left;background-color: #f0f8ff;}div.sk-toggleable__content pre {margin: 0.2em;color: black;border-radius: 0.25em;background-color: #f0f8ff;}input.sk-toggleable__control:checked~div.sk-toggleable__content {max-height: 200px;max-width: 100%;overflow: auto;}div.sk-estimator input.sk-toggleable__control:checked~label.sk-toggleable__label {background-color: #d4ebff;}div.sk-label input.sk-toggleable__control:checked~label.sk-toggleable__label {background-color: #d4ebff;}input.sk-hidden--visually {border: 0;clip: rect(1px 1px 1px 1px);clip: rect(1px, 1px, 1px, 1px);height: 1px;margin: -1px;overflow: hidden;padding: 0;position: absolute;width: 1px;}div.sk-estimator {font-family: monospace;background-color: #f0f8ff;margin: 0.25em 0.25em;border: 1px dotted black;border-radius: 0.25em;box-sizing: border-box;}div.sk-estimator:hover {background-color: #d4ebff;}div.sk-parallel-item::after {content: \"\";width: 100%;border-bottom: 1px solid gray;flex-grow: 1;}div.sk-label:hover label.sk-toggleable__label {background-color: #d4ebff;}div.sk-serial::before {content: \"\";position: absolute;border-left: 1px solid gray;box-sizing: border-box;top: 2em;bottom: 0;left: 50%;}div.sk-serial {display: flex;flex-direction: column;align-items: center;background-color: white;}div.sk-item {z-index: 1;}div.sk-parallel {display: flex;align-items: stretch;justify-content: center;background-color: white;}div.sk-parallel-item {display: flex;flex-direction: column;position: relative;background-color: white;}div.sk-parallel-item:first-child::after {align-self: flex-end;width: 50%;}div.sk-parallel-item:last-child::after {align-self: flex-start;width: 50%;}div.sk-parallel-item:only-child::after {width: 0;}div.sk-dashed-wrapped {border: 1px dashed gray;margin: 0.2em;box-sizing: border-box;padding-bottom: 0.1em;background-color: white;position: relative;}div.sk-label label {font-family: monospace;font-weight: bold;background-color: white;display: inline-block;line-height: 1.2em;}div.sk-label-container {position: relative;z-index: 2;text-align: center;}div.sk-container {display: inline-block;position: relative;}</style><div class=\"sk-top-container\"><div class=\"sk-container\"><div class=\"sk-item sk-dashed-wrapped\"><div class=\"sk-label-container\"><div class=\"sk-label sk-toggleable\"><input class=\"sk-toggleable__control sk-hidden--visually\" id=\"e2eefb70-27f1-4644-beb4-2727483a5841\" type=\"checkbox\" ><label class=\"sk-toggleable__label\" for=\"e2eefb70-27f1-4644-beb4-2727483a5841\">Pipeline</label><div class=\"sk-toggleable__content\"><pre>Pipeline(steps=[('preprocessor',\n",
       "                 ColumnTransformer(transformers=[('numerical',\n",
       "                                                  Pipeline(steps=[('imputer',\n",
       "                                                                   SimpleImputer(add_indicator=True,\n",
       "                                                                                 strategy='median')),\n",
       "                                                                  ('scaler',\n",
       "                                                                   PowerTransformer()),\n",
       "                                                                  ('kmeans',\n",
       "                                                                   MiniKmeansTransformerEncoder()),\n",
       "                                                                  ('polynominal_features',\n",
       "                                                                   PolynomialFeatures())]),\n",
       "                                                  Index(['RevolvingUtilizationOfUnsecuredLines', 'DebtRatio', 'MonthlyIncome',\n",
       "       'NumberOfDependents', 'NumberOfTime60-89DaysPastDueNotWorse',\n",
       "       'NumberRealEstateLoansOrLines', 'NumberOfTimes90DaysLate',\n",
       "       'NumberOfOpenCreditLinesAndLoans',\n",
       "       'NumberOfTime30-59DaysPastDueNotWorse', 'age'],\n",
       "      dtype='object'))])),\n",
       "                ('classifier',\n",
       "                 RandomForestClassifier(max_depth=12, min_samples_leaf=4,\n",
       "                                        min_samples_split=3, n_estimators=2975,\n",
       "                                        random_state=42))])</pre></div></div></div><div class=\"sk-serial\"><div class=\"sk-item sk-dashed-wrapped\"><div class=\"sk-label-container\"><div class=\"sk-label sk-toggleable\"><input class=\"sk-toggleable__control sk-hidden--visually\" id=\"00159f8f-56c1-406b-87b7-48359fc04298\" type=\"checkbox\" ><label class=\"sk-toggleable__label\" for=\"00159f8f-56c1-406b-87b7-48359fc04298\">preprocessor: ColumnTransformer</label><div class=\"sk-toggleable__content\"><pre>ColumnTransformer(transformers=[('numerical',\n",
       "                                 Pipeline(steps=[('imputer',\n",
       "                                                  SimpleImputer(add_indicator=True,\n",
       "                                                                strategy='median')),\n",
       "                                                 ('scaler', PowerTransformer()),\n",
       "                                                 ('kmeans',\n",
       "                                                  MiniKmeansTransformerEncoder()),\n",
       "                                                 ('polynominal_features',\n",
       "                                                  PolynomialFeatures())]),\n",
       "                                 Index(['RevolvingUtilizationOfUnsecuredLines', 'DebtRatio', 'MonthlyIncome',\n",
       "       'NumberOfDependents', 'NumberOfTime60-89DaysPastDueNotWorse',\n",
       "       'NumberRealEstateLoansOrLines', 'NumberOfTimes90DaysLate',\n",
       "       'NumberOfOpenCreditLinesAndLoans',\n",
       "       'NumberOfTime30-59DaysPastDueNotWorse', 'age'],\n",
       "      dtype='object'))])</pre></div></div></div><div class=\"sk-parallel\"><div class=\"sk-parallel-item\"><div class=\"sk-item\"><div class=\"sk-label-container\"><div class=\"sk-label sk-toggleable\"><input class=\"sk-toggleable__control sk-hidden--visually\" id=\"8d4243ff-b9dd-4a79-80b0-0a9f9bf2a7ff\" type=\"checkbox\" ><label class=\"sk-toggleable__label\" for=\"8d4243ff-b9dd-4a79-80b0-0a9f9bf2a7ff\">numerical</label><div class=\"sk-toggleable__content\"><pre>Index(['RevolvingUtilizationOfUnsecuredLines', 'DebtRatio', 'MonthlyIncome',\n",
       "       'NumberOfDependents', 'NumberOfTime60-89DaysPastDueNotWorse',\n",
       "       'NumberRealEstateLoansOrLines', 'NumberOfTimes90DaysLate',\n",
       "       'NumberOfOpenCreditLinesAndLoans',\n",
       "       'NumberOfTime30-59DaysPastDueNotWorse', 'age'],\n",
       "      dtype='object')</pre></div></div></div><div class=\"sk-serial\"><div class=\"sk-item\"><div class=\"sk-serial\"><div class=\"sk-item\"><div class=\"sk-estimator sk-toggleable\"><input class=\"sk-toggleable__control sk-hidden--visually\" id=\"a7a0db96-80f5-44b8-b351-bd56dfb59613\" type=\"checkbox\" ><label class=\"sk-toggleable__label\" for=\"a7a0db96-80f5-44b8-b351-bd56dfb59613\">SimpleImputer</label><div class=\"sk-toggleable__content\"><pre>SimpleImputer(add_indicator=True, strategy='median')</pre></div></div></div><div class=\"sk-item\"><div class=\"sk-estimator sk-toggleable\"><input class=\"sk-toggleable__control sk-hidden--visually\" id=\"75d0e855-1e57-464c-aa85-5d72d7a7b7e1\" type=\"checkbox\" ><label class=\"sk-toggleable__label\" for=\"75d0e855-1e57-464c-aa85-5d72d7a7b7e1\">PowerTransformer</label><div class=\"sk-toggleable__content\"><pre>PowerTransformer()</pre></div></div></div><div class=\"sk-item sk-dashed-wrapped\"><div class=\"sk-label-container\"><div class=\"sk-label sk-toggleable\"><input class=\"sk-toggleable__control sk-hidden--visually\" id=\"9882edb8-203c-4eed-95da-114f02fc2e17\" type=\"checkbox\" ><label class=\"sk-toggleable__label\" for=\"9882edb8-203c-4eed-95da-114f02fc2e17\">kmeans: MiniKmeansTransformerEncoder</label><div class=\"sk-toggleable__content\"><pre>MiniKmeansTransformerEncoder()</pre></div></div></div><div class=\"sk-parallel\"><div class=\"sk-parallel-item\"><div class=\"sk-item\"><div class=\"sk-serial\"><div class=\"sk-item\"><div class=\"sk-estimator sk-toggleable\"><input class=\"sk-toggleable__control sk-hidden--visually\" id=\"42ad0632-baad-42a4-bfd3-7b0e31fe8ee5\" type=\"checkbox\" ><label class=\"sk-toggleable__label\" for=\"42ad0632-baad-42a4-bfd3-7b0e31fe8ee5\">WOEEncoder</label><div class=\"sk-toggleable__content\"><pre>WOEEncoder()</pre></div></div></div></div></div></div></div></div><div class=\"sk-item\"><div class=\"sk-estimator sk-toggleable\"><input class=\"sk-toggleable__control sk-hidden--visually\" id=\"f419224b-adc5-4143-8921-38b5e289cd10\" type=\"checkbox\" ><label class=\"sk-toggleable__label\" for=\"f419224b-adc5-4143-8921-38b5e289cd10\">PolynomialFeatures</label><div class=\"sk-toggleable__content\"><pre>PolynomialFeatures()</pre></div></div></div></div></div></div></div></div></div></div><div class=\"sk-item\"><div class=\"sk-estimator sk-toggleable\"><input class=\"sk-toggleable__control sk-hidden--visually\" id=\"dccb6444-2f68-4a15-9cbf-b7c1b514481e\" type=\"checkbox\" ><label class=\"sk-toggleable__label\" for=\"dccb6444-2f68-4a15-9cbf-b7c1b514481e\">RandomForestClassifier</label><div class=\"sk-toggleable__content\"><pre>RandomForestClassifier(max_depth=12, min_samples_leaf=4, min_samples_split=3,\n",
       "                       n_estimators=2975, random_state=42)</pre></div></div></div></div></div></div></div>"
      ],
      "text/plain": [
       "Pipeline(steps=[('preprocessor',\n",
       "                 ColumnTransformer(transformers=[('numerical',\n",
       "                                                  Pipeline(steps=[('imputer',\n",
       "                                                                   SimpleImputer(add_indicator=True,\n",
       "                                                                                 strategy='median')),\n",
       "                                                                  ('scaler',\n",
       "                                                                   PowerTransformer()),\n",
       "                                                                  ('kmeans',\n",
       "                                                                   MiniKmeansTransformerEncoder()),\n",
       "                                                                  ('polynominal_features',\n",
       "                                                                   PolynomialFeatures())]),\n",
       "                                                  Index(['RevolvingUtilizationOfUnsecuredLines', 'DebtRatio', 'MonthlyIncome',\n",
       "       'NumberOfDependents', 'NumberOfTime60-89DaysPastDueNotWorse',\n",
       "       'NumberRealEstateLoansOrLines', 'NumberOfTimes90DaysLate',\n",
       "       'NumberOfOpenCreditLinesAndLoans',\n",
       "       'NumberOfTime30-59DaysPastDueNotWorse', 'age'],\n",
       "      dtype='object'))])),\n",
       "                ('classifier',\n",
       "                 RandomForestClassifier(max_depth=12, min_samples_leaf=4,\n",
       "                                        min_samples_split=3, n_estimators=2975,\n",
       "                                        random_state=42))])"
      ]
     },
     "execution_count": 28,
     "metadata": {},
     "output_type": "execute_result"
    }
   ],
   "source": [
    "params_rf =  {\"random_state\": 42,\n",
    "              'n_estimators': 2975,\n",
    "              'max_features': 'auto', \n",
    "              'max_depth': 12,\n",
    "              'min_samples_split': 3, \n",
    "              'min_samples_leaf': 4, \n",
    "              'bootstrap': True\n",
    "             }\n",
    "model_rf = RandomForestClassifier(**params_rf,\n",
    "                              # use it  only on gpu\n",
    "                            # rsm=np.nan\n",
    "                              #cat_features=cat_features\n",
    "                             )\n",
    "pipe1_model_rf_woe_powertransformer = Pipeline(\n",
    "    steps=[\n",
    "        ('preprocessor', preprocessor_woe_powertransformer),\n",
    "        # ('dim_red', SelectKBest(f_regression, k=20)),\n",
    "        #('Sparseinteractions', SparseInteractions(degree=2)),\n",
    "         #('PolynomialFeatures', PolynomialFeatures(degree=2)),\n",
    "        #('PCAreducer', PCA(n_components=0.8)),\n",
    "        ('classifier',model_rf)\n",
    "    ]\n",
    ")\n",
    "pipe1_model_rf_woe_powertransformer"
   ]
  },
  {
   "cell_type": "markdown",
   "id": "69326aeb",
   "metadata": {
    "papermill": {
     "duration": 0.054798,
     "end_time": "2021-12-27T15:19:43.947481",
     "exception": false,
     "start_time": "2021-12-27T15:19:43.892683",
     "status": "completed"
    },
    "tags": []
   },
   "source": [
    "**7-lgbm:**"
   ]
  },
  {
   "cell_type": "code",
   "execution_count": 29,
   "id": "1f26c5a7",
   "metadata": {
    "execution": {
     "iopub.execute_input": "2021-12-27T15:19:44.061799Z",
     "iopub.status.busy": "2021-12-27T15:19:44.060746Z",
     "iopub.status.idle": "2021-12-27T15:19:44.463997Z",
     "shell.execute_reply": "2021-12-27T15:19:44.463393Z",
     "shell.execute_reply.started": "2021-12-27T14:24:37.733208Z"
    },
    "papermill": {
     "duration": 0.460407,
     "end_time": "2021-12-27T15:19:44.464132",
     "exception": false,
     "start_time": "2021-12-27T15:19:44.003725",
     "status": "completed"
    },
    "tags": []
   },
   "outputs": [
    {
     "data": {
      "text/html": [
       "<style>div.sk-top-container {color: black;background-color: white;}div.sk-toggleable {background-color: white;}label.sk-toggleable__label {cursor: pointer;display: block;width: 100%;margin-bottom: 0;padding: 0.2em 0.3em;box-sizing: border-box;text-align: center;}div.sk-toggleable__content {max-height: 0;max-width: 0;overflow: hidden;text-align: left;background-color: #f0f8ff;}div.sk-toggleable__content pre {margin: 0.2em;color: black;border-radius: 0.25em;background-color: #f0f8ff;}input.sk-toggleable__control:checked~div.sk-toggleable__content {max-height: 200px;max-width: 100%;overflow: auto;}div.sk-estimator input.sk-toggleable__control:checked~label.sk-toggleable__label {background-color: #d4ebff;}div.sk-label input.sk-toggleable__control:checked~label.sk-toggleable__label {background-color: #d4ebff;}input.sk-hidden--visually {border: 0;clip: rect(1px 1px 1px 1px);clip: rect(1px, 1px, 1px, 1px);height: 1px;margin: -1px;overflow: hidden;padding: 0;position: absolute;width: 1px;}div.sk-estimator {font-family: monospace;background-color: #f0f8ff;margin: 0.25em 0.25em;border: 1px dotted black;border-radius: 0.25em;box-sizing: border-box;}div.sk-estimator:hover {background-color: #d4ebff;}div.sk-parallel-item::after {content: \"\";width: 100%;border-bottom: 1px solid gray;flex-grow: 1;}div.sk-label:hover label.sk-toggleable__label {background-color: #d4ebff;}div.sk-serial::before {content: \"\";position: absolute;border-left: 1px solid gray;box-sizing: border-box;top: 2em;bottom: 0;left: 50%;}div.sk-serial {display: flex;flex-direction: column;align-items: center;background-color: white;}div.sk-item {z-index: 1;}div.sk-parallel {display: flex;align-items: stretch;justify-content: center;background-color: white;}div.sk-parallel-item {display: flex;flex-direction: column;position: relative;background-color: white;}div.sk-parallel-item:first-child::after {align-self: flex-end;width: 50%;}div.sk-parallel-item:last-child::after {align-self: flex-start;width: 50%;}div.sk-parallel-item:only-child::after {width: 0;}div.sk-dashed-wrapped {border: 1px dashed gray;margin: 0.2em;box-sizing: border-box;padding-bottom: 0.1em;background-color: white;position: relative;}div.sk-label label {font-family: monospace;font-weight: bold;background-color: white;display: inline-block;line-height: 1.2em;}div.sk-label-container {position: relative;z-index: 2;text-align: center;}div.sk-container {display: inline-block;position: relative;}</style><div class=\"sk-top-container\"><div class=\"sk-container\"><div class=\"sk-item sk-dashed-wrapped\"><div class=\"sk-label-container\"><div class=\"sk-label sk-toggleable\"><input class=\"sk-toggleable__control sk-hidden--visually\" id=\"f59c2be8-8e21-46f5-9842-769da31e0653\" type=\"checkbox\" ><label class=\"sk-toggleable__label\" for=\"f59c2be8-8e21-46f5-9842-769da31e0653\">Pipeline</label><div class=\"sk-toggleable__content\"><pre>Pipeline(steps=[('preprocessor',\n",
       "                 ColumnTransformer(transformers=[('numerical',\n",
       "                                                  Pipeline(steps=[('imputer',\n",
       "                                                                   SimpleImputer(add_indicator=True,\n",
       "                                                                                 strategy='median')),\n",
       "                                                                  ('scaler',\n",
       "                                                                   PowerTransformer()),\n",
       "                                                                  ('kmeans',\n",
       "                                                                   MiniKmeansTransformerEncoder()),\n",
       "                                                                  ('polynominal_features',\n",
       "                                                                   PolynomialFeatures())]),\n",
       "                                                  Index(['RevolvingUtilizationOfUnsecuredLines', 'DebtRatio', 'MonthlyIncome'...\n",
       "       'NumberOfTime30-59DaysPastDueNotWorse', 'age'],\n",
       "      dtype='object'))])),\n",
       "                ('classifier',\n",
       "                 LGBMClassifier(bagging_fraction=0.8225459856082522,\n",
       "                                bagging_freq=3,\n",
       "                                feature_fraction=0.7099515479738928,\n",
       "                                lambda_l1=2.5825901359648176e-05,\n",
       "                                lambda_l2=4.490094872871969,\n",
       "                                learning_rate=0.005282912028625591,\n",
       "                                metric='auc', min_child_samples=35,\n",
       "                                n_estimators=1491, num_leaves=76,\n",
       "                                objective='binary', random_state=42,\n",
       "                                verbosity=-1))])</pre></div></div></div><div class=\"sk-serial\"><div class=\"sk-item sk-dashed-wrapped\"><div class=\"sk-label-container\"><div class=\"sk-label sk-toggleable\"><input class=\"sk-toggleable__control sk-hidden--visually\" id=\"ea1d0203-c859-478e-b306-dacea4f088ed\" type=\"checkbox\" ><label class=\"sk-toggleable__label\" for=\"ea1d0203-c859-478e-b306-dacea4f088ed\">preprocessor: ColumnTransformer</label><div class=\"sk-toggleable__content\"><pre>ColumnTransformer(transformers=[('numerical',\n",
       "                                 Pipeline(steps=[('imputer',\n",
       "                                                  SimpleImputer(add_indicator=True,\n",
       "                                                                strategy='median')),\n",
       "                                                 ('scaler', PowerTransformer()),\n",
       "                                                 ('kmeans',\n",
       "                                                  MiniKmeansTransformerEncoder()),\n",
       "                                                 ('polynominal_features',\n",
       "                                                  PolynomialFeatures())]),\n",
       "                                 Index(['RevolvingUtilizationOfUnsecuredLines', 'DebtRatio', 'MonthlyIncome',\n",
       "       'NumberOfDependents', 'NumberOfTime60-89DaysPastDueNotWorse',\n",
       "       'NumberRealEstateLoansOrLines', 'NumberOfTimes90DaysLate',\n",
       "       'NumberOfOpenCreditLinesAndLoans',\n",
       "       'NumberOfTime30-59DaysPastDueNotWorse', 'age'],\n",
       "      dtype='object'))])</pre></div></div></div><div class=\"sk-parallel\"><div class=\"sk-parallel-item\"><div class=\"sk-item\"><div class=\"sk-label-container\"><div class=\"sk-label sk-toggleable\"><input class=\"sk-toggleable__control sk-hidden--visually\" id=\"3fe206d3-4a54-4fd7-9cfd-ac2d172138ff\" type=\"checkbox\" ><label class=\"sk-toggleable__label\" for=\"3fe206d3-4a54-4fd7-9cfd-ac2d172138ff\">numerical</label><div class=\"sk-toggleable__content\"><pre>Index(['RevolvingUtilizationOfUnsecuredLines', 'DebtRatio', 'MonthlyIncome',\n",
       "       'NumberOfDependents', 'NumberOfTime60-89DaysPastDueNotWorse',\n",
       "       'NumberRealEstateLoansOrLines', 'NumberOfTimes90DaysLate',\n",
       "       'NumberOfOpenCreditLinesAndLoans',\n",
       "       'NumberOfTime30-59DaysPastDueNotWorse', 'age'],\n",
       "      dtype='object')</pre></div></div></div><div class=\"sk-serial\"><div class=\"sk-item\"><div class=\"sk-serial\"><div class=\"sk-item\"><div class=\"sk-estimator sk-toggleable\"><input class=\"sk-toggleable__control sk-hidden--visually\" id=\"824866ee-a3ac-4e6b-8d42-dc566ae61478\" type=\"checkbox\" ><label class=\"sk-toggleable__label\" for=\"824866ee-a3ac-4e6b-8d42-dc566ae61478\">SimpleImputer</label><div class=\"sk-toggleable__content\"><pre>SimpleImputer(add_indicator=True, strategy='median')</pre></div></div></div><div class=\"sk-item\"><div class=\"sk-estimator sk-toggleable\"><input class=\"sk-toggleable__control sk-hidden--visually\" id=\"22d19b4d-2c99-440c-9fec-f1f4795e05d0\" type=\"checkbox\" ><label class=\"sk-toggleable__label\" for=\"22d19b4d-2c99-440c-9fec-f1f4795e05d0\">PowerTransformer</label><div class=\"sk-toggleable__content\"><pre>PowerTransformer()</pre></div></div></div><div class=\"sk-item sk-dashed-wrapped\"><div class=\"sk-label-container\"><div class=\"sk-label sk-toggleable\"><input class=\"sk-toggleable__control sk-hidden--visually\" id=\"4183bf0c-0d65-481c-ad56-9ec69c3a1097\" type=\"checkbox\" ><label class=\"sk-toggleable__label\" for=\"4183bf0c-0d65-481c-ad56-9ec69c3a1097\">kmeans: MiniKmeansTransformerEncoder</label><div class=\"sk-toggleable__content\"><pre>MiniKmeansTransformerEncoder()</pre></div></div></div><div class=\"sk-parallel\"><div class=\"sk-parallel-item\"><div class=\"sk-item\"><div class=\"sk-serial\"><div class=\"sk-item\"><div class=\"sk-estimator sk-toggleable\"><input class=\"sk-toggleable__control sk-hidden--visually\" id=\"e129b026-2ae0-48d9-89e9-b10667795109\" type=\"checkbox\" ><label class=\"sk-toggleable__label\" for=\"e129b026-2ae0-48d9-89e9-b10667795109\">WOEEncoder</label><div class=\"sk-toggleable__content\"><pre>WOEEncoder()</pre></div></div></div></div></div></div></div></div><div class=\"sk-item\"><div class=\"sk-estimator sk-toggleable\"><input class=\"sk-toggleable__control sk-hidden--visually\" id=\"d076d36b-712e-42f1-aa6f-7f16c1809d26\" type=\"checkbox\" ><label class=\"sk-toggleable__label\" for=\"d076d36b-712e-42f1-aa6f-7f16c1809d26\">PolynomialFeatures</label><div class=\"sk-toggleable__content\"><pre>PolynomialFeatures()</pre></div></div></div></div></div></div></div></div></div></div><div class=\"sk-item\"><div class=\"sk-estimator sk-toggleable\"><input class=\"sk-toggleable__control sk-hidden--visually\" id=\"9242b7e5-02bc-4482-8cee-c393aac18205\" type=\"checkbox\" ><label class=\"sk-toggleable__label\" for=\"9242b7e5-02bc-4482-8cee-c393aac18205\">LGBMClassifier</label><div class=\"sk-toggleable__content\"><pre>LGBMClassifier(bagging_fraction=0.8225459856082522, bagging_freq=3,\n",
       "               feature_fraction=0.7099515479738928,\n",
       "               lambda_l1=2.5825901359648176e-05, lambda_l2=4.490094872871969,\n",
       "               learning_rate=0.005282912028625591, metric='auc',\n",
       "               min_child_samples=35, n_estimators=1491, num_leaves=76,\n",
       "               objective='binary', random_state=42, verbosity=-1)</pre></div></div></div></div></div></div></div>"
      ],
      "text/plain": [
       "Pipeline(steps=[('preprocessor',\n",
       "                 ColumnTransformer(transformers=[('numerical',\n",
       "                                                  Pipeline(steps=[('imputer',\n",
       "                                                                   SimpleImputer(add_indicator=True,\n",
       "                                                                                 strategy='median')),\n",
       "                                                                  ('scaler',\n",
       "                                                                   PowerTransformer()),\n",
       "                                                                  ('kmeans',\n",
       "                                                                   MiniKmeansTransformerEncoder()),\n",
       "                                                                  ('polynominal_features',\n",
       "                                                                   PolynomialFeatures())]),\n",
       "                                                  Index(['RevolvingUtilizationOfUnsecuredLines', 'DebtRatio', 'MonthlyIncome'...\n",
       "       'NumberOfTime30-59DaysPastDueNotWorse', 'age'],\n",
       "      dtype='object'))])),\n",
       "                ('classifier',\n",
       "                 LGBMClassifier(bagging_fraction=0.8225459856082522,\n",
       "                                bagging_freq=3,\n",
       "                                feature_fraction=0.7099515479738928,\n",
       "                                lambda_l1=2.5825901359648176e-05,\n",
       "                                lambda_l2=4.490094872871969,\n",
       "                                learning_rate=0.005282912028625591,\n",
       "                                metric='auc', min_child_samples=35,\n",
       "                                n_estimators=1491, num_leaves=76,\n",
       "                                objective='binary', random_state=42,\n",
       "                                verbosity=-1))])"
      ]
     },
     "execution_count": 29,
     "metadata": {},
     "output_type": "execute_result"
    }
   ],
   "source": [
    "params_lgbm =  {\n",
    "               \"objective\": \"binary\",\n",
    "                'random_state': 42,\n",
    "                'metric': 'auc',\n",
    "                \"verbosity\": -1,\n",
    "                \"boosting_type\": \"gbdt\",\n",
    "                #\"device\": \"gpu\",\n",
    "                #\"early_stopping_rounds\":100,\n",
    "                'learning_rate': 0.005282912028625591, \n",
    "                'n_estimators': 1491,\n",
    "                'lambda_l1': 2.5825901359648176e-05, \n",
    "                'lambda_l2': 4.490094872871969,\n",
    "                'num_leaves': 76,\n",
    "                'feature_fraction': 0.7099515479738928,\n",
    "                'bagging_fraction': 0.8225459856082522,\n",
    "                'bagging_freq': 3,\n",
    "                'min_child_samples': 35\n",
    "               }\n",
    "model_lgbm = lgbm.LGBMClassifier(**params_lgbm,\n",
    "                              # use it  only on gpu\n",
    "                            # rsm=np.nan\n",
    "                              #cat_features=cat_features\n",
    "                             )\n",
    "pipe1_model_lgbm_woe_powertransformer = Pipeline(\n",
    "    steps=[\n",
    "        ('preprocessor', preprocessor_woe_powertransformer),\n",
    "        # ('dim_red', SelectKBest(f_regression, k=20)),\n",
    "        #('Sparseinteractions', SparseInteractions(degree=2)),\n",
    "         #('PolynomialFeatures', PolynomialFeatures(degree=2)),\n",
    "        #('PCAreducer', PCA(n_components=0.8)),\n",
    "        ('classifier',model_lgbm)\n",
    "    ]\n",
    ")\n",
    "pipe1_model_lgbm_woe_powertransformer"
   ]
  },
  {
   "cell_type": "code",
   "execution_count": 30,
   "id": "20658fe3",
   "metadata": {
    "execution": {
     "iopub.execute_input": "2021-12-27T15:19:44.599321Z",
     "iopub.status.busy": "2021-12-27T15:19:44.594367Z",
     "iopub.status.idle": "2021-12-27T15:19:44.993020Z",
     "shell.execute_reply": "2021-12-27T15:19:44.992462Z",
     "shell.execute_reply.started": "2021-12-27T14:24:38.158141Z"
    },
    "papermill": {
     "duration": 0.473403,
     "end_time": "2021-12-27T15:19:44.993186",
     "exception": false,
     "start_time": "2021-12-27T15:19:44.519783",
     "status": "completed"
    },
    "tags": []
   },
   "outputs": [
    {
     "data": {
      "text/html": [
       "<style>div.sk-top-container {color: black;background-color: white;}div.sk-toggleable {background-color: white;}label.sk-toggleable__label {cursor: pointer;display: block;width: 100%;margin-bottom: 0;padding: 0.2em 0.3em;box-sizing: border-box;text-align: center;}div.sk-toggleable__content {max-height: 0;max-width: 0;overflow: hidden;text-align: left;background-color: #f0f8ff;}div.sk-toggleable__content pre {margin: 0.2em;color: black;border-radius: 0.25em;background-color: #f0f8ff;}input.sk-toggleable__control:checked~div.sk-toggleable__content {max-height: 200px;max-width: 100%;overflow: auto;}div.sk-estimator input.sk-toggleable__control:checked~label.sk-toggleable__label {background-color: #d4ebff;}div.sk-label input.sk-toggleable__control:checked~label.sk-toggleable__label {background-color: #d4ebff;}input.sk-hidden--visually {border: 0;clip: rect(1px 1px 1px 1px);clip: rect(1px, 1px, 1px, 1px);height: 1px;margin: -1px;overflow: hidden;padding: 0;position: absolute;width: 1px;}div.sk-estimator {font-family: monospace;background-color: #f0f8ff;margin: 0.25em 0.25em;border: 1px dotted black;border-radius: 0.25em;box-sizing: border-box;}div.sk-estimator:hover {background-color: #d4ebff;}div.sk-parallel-item::after {content: \"\";width: 100%;border-bottom: 1px solid gray;flex-grow: 1;}div.sk-label:hover label.sk-toggleable__label {background-color: #d4ebff;}div.sk-serial::before {content: \"\";position: absolute;border-left: 1px solid gray;box-sizing: border-box;top: 2em;bottom: 0;left: 50%;}div.sk-serial {display: flex;flex-direction: column;align-items: center;background-color: white;}div.sk-item {z-index: 1;}div.sk-parallel {display: flex;align-items: stretch;justify-content: center;background-color: white;}div.sk-parallel-item {display: flex;flex-direction: column;position: relative;background-color: white;}div.sk-parallel-item:first-child::after {align-self: flex-end;width: 50%;}div.sk-parallel-item:last-child::after {align-self: flex-start;width: 50%;}div.sk-parallel-item:only-child::after {width: 0;}div.sk-dashed-wrapped {border: 1px dashed gray;margin: 0.2em;box-sizing: border-box;padding-bottom: 0.1em;background-color: white;position: relative;}div.sk-label label {font-family: monospace;font-weight: bold;background-color: white;display: inline-block;line-height: 1.2em;}div.sk-label-container {position: relative;z-index: 2;text-align: center;}div.sk-container {display: inline-block;position: relative;}</style><div class=\"sk-top-container\"><div class=\"sk-container\"><div class=\"sk-item sk-dashed-wrapped\"><div class=\"sk-label-container\"><div class=\"sk-label sk-toggleable\"><input class=\"sk-toggleable__control sk-hidden--visually\" id=\"132a2029-75a9-4736-810e-ee66abd95a5a\" type=\"checkbox\" ><label class=\"sk-toggleable__label\" for=\"132a2029-75a9-4736-810e-ee66abd95a5a\">Pipeline</label><div class=\"sk-toggleable__content\"><pre>Pipeline(steps=[('preprocessor',\n",
       "                 ColumnTransformer(transformers=[('numerical',\n",
       "                                                  Pipeline(steps=[('imputer',\n",
       "                                                                   SimpleImputer(add_indicator=True,\n",
       "                                                                                 strategy='median')),\n",
       "                                                                  ('scaler',\n",
       "                                                                   PowerTransformer()),\n",
       "                                                                  ('kmeans',\n",
       "                                                                   MiniKmeansTransformerEncoder()),\n",
       "                                                                  ('polynominal_features',\n",
       "                                                                   PolynomialFeatures())]),\n",
       "                                                  Index(['RevolvingUtilizationOfUnsecuredLines', 'DebtRatio', 'MonthlyIncome'...\n",
       "       'NumberOfTime30-59DaysPastDueNotWorse', 'age'],\n",
       "      dtype='object'))])),\n",
       "                ('classifier',\n",
       "                 LGBMClassifier(bagging_fraction=0.8225459856082522,\n",
       "                                bagging_freq=3,\n",
       "                                feature_fraction=0.7099515479738928,\n",
       "                                lambda_l1=2.5825901359648176e-05,\n",
       "                                lambda_l2=4.490094872871969,\n",
       "                                learning_rate=0.005282912028625591,\n",
       "                                metric='auc', min_child_samples=35,\n",
       "                                n_estimators=1491, num_leaves=76,\n",
       "                                objective='binary', random_state=42,\n",
       "                                verbosity=-1))])</pre></div></div></div><div class=\"sk-serial\"><div class=\"sk-item sk-dashed-wrapped\"><div class=\"sk-label-container\"><div class=\"sk-label sk-toggleable\"><input class=\"sk-toggleable__control sk-hidden--visually\" id=\"f15869b8-b93b-4043-b202-a298b6d00f6e\" type=\"checkbox\" ><label class=\"sk-toggleable__label\" for=\"f15869b8-b93b-4043-b202-a298b6d00f6e\">preprocessor: ColumnTransformer</label><div class=\"sk-toggleable__content\"><pre>ColumnTransformer(transformers=[('numerical',\n",
       "                                 Pipeline(steps=[('imputer',\n",
       "                                                  SimpleImputer(add_indicator=True,\n",
       "                                                                strategy='median')),\n",
       "                                                 ('scaler', PowerTransformer()),\n",
       "                                                 ('kmeans',\n",
       "                                                  MiniKmeansTransformerEncoder()),\n",
       "                                                 ('polynominal_features',\n",
       "                                                  PolynomialFeatures())]),\n",
       "                                 Index(['RevolvingUtilizationOfUnsecuredLines', 'DebtRatio', 'MonthlyIncome',\n",
       "       'NumberOfDependents', 'NumberOfTime60-89DaysPastDueNotWorse',\n",
       "       'NumberRealEstateLoansOrLines', 'NumberOfTimes90DaysLate',\n",
       "       'NumberOfOpenCreditLinesAndLoans',\n",
       "       'NumberOfTime30-59DaysPastDueNotWorse', 'age'],\n",
       "      dtype='object'))])</pre></div></div></div><div class=\"sk-parallel\"><div class=\"sk-parallel-item\"><div class=\"sk-item\"><div class=\"sk-label-container\"><div class=\"sk-label sk-toggleable\"><input class=\"sk-toggleable__control sk-hidden--visually\" id=\"bc904c22-6e00-4383-af3e-396b824de9f2\" type=\"checkbox\" ><label class=\"sk-toggleable__label\" for=\"bc904c22-6e00-4383-af3e-396b824de9f2\">numerical</label><div class=\"sk-toggleable__content\"><pre>Index(['RevolvingUtilizationOfUnsecuredLines', 'DebtRatio', 'MonthlyIncome',\n",
       "       'NumberOfDependents', 'NumberOfTime60-89DaysPastDueNotWorse',\n",
       "       'NumberRealEstateLoansOrLines', 'NumberOfTimes90DaysLate',\n",
       "       'NumberOfOpenCreditLinesAndLoans',\n",
       "       'NumberOfTime30-59DaysPastDueNotWorse', 'age'],\n",
       "      dtype='object')</pre></div></div></div><div class=\"sk-serial\"><div class=\"sk-item\"><div class=\"sk-serial\"><div class=\"sk-item\"><div class=\"sk-estimator sk-toggleable\"><input class=\"sk-toggleable__control sk-hidden--visually\" id=\"18e027a4-0286-4ff7-bf88-0c4f3ca0801e\" type=\"checkbox\" ><label class=\"sk-toggleable__label\" for=\"18e027a4-0286-4ff7-bf88-0c4f3ca0801e\">SimpleImputer</label><div class=\"sk-toggleable__content\"><pre>SimpleImputer(add_indicator=True, strategy='median')</pre></div></div></div><div class=\"sk-item\"><div class=\"sk-estimator sk-toggleable\"><input class=\"sk-toggleable__control sk-hidden--visually\" id=\"99530243-d3ec-449b-8a76-b6fae731627d\" type=\"checkbox\" ><label class=\"sk-toggleable__label\" for=\"99530243-d3ec-449b-8a76-b6fae731627d\">PowerTransformer</label><div class=\"sk-toggleable__content\"><pre>PowerTransformer()</pre></div></div></div><div class=\"sk-item sk-dashed-wrapped\"><div class=\"sk-label-container\"><div class=\"sk-label sk-toggleable\"><input class=\"sk-toggleable__control sk-hidden--visually\" id=\"d8b28b2c-7aa4-43eb-8a6d-d59b747eeb33\" type=\"checkbox\" ><label class=\"sk-toggleable__label\" for=\"d8b28b2c-7aa4-43eb-8a6d-d59b747eeb33\">kmeans: MiniKmeansTransformerEncoder</label><div class=\"sk-toggleable__content\"><pre>MiniKmeansTransformerEncoder()</pre></div></div></div><div class=\"sk-parallel\"><div class=\"sk-parallel-item\"><div class=\"sk-item\"><div class=\"sk-serial\"><div class=\"sk-item\"><div class=\"sk-estimator sk-toggleable\"><input class=\"sk-toggleable__control sk-hidden--visually\" id=\"38f30dbf-98c5-4f83-b875-1d8abf13ec2e\" type=\"checkbox\" ><label class=\"sk-toggleable__label\" for=\"38f30dbf-98c5-4f83-b875-1d8abf13ec2e\">WOEEncoder</label><div class=\"sk-toggleable__content\"><pre>WOEEncoder()</pre></div></div></div></div></div></div></div></div><div class=\"sk-item\"><div class=\"sk-estimator sk-toggleable\"><input class=\"sk-toggleable__control sk-hidden--visually\" id=\"725c2fbb-124a-402b-8217-b94ffc9d7366\" type=\"checkbox\" ><label class=\"sk-toggleable__label\" for=\"725c2fbb-124a-402b-8217-b94ffc9d7366\">PolynomialFeatures</label><div class=\"sk-toggleable__content\"><pre>PolynomialFeatures()</pre></div></div></div></div></div></div></div></div></div></div><div class=\"sk-item\"><div class=\"sk-estimator sk-toggleable\"><input class=\"sk-toggleable__control sk-hidden--visually\" id=\"cc391630-00e5-487b-860a-f5213b90b4dd\" type=\"checkbox\" ><label class=\"sk-toggleable__label\" for=\"cc391630-00e5-487b-860a-f5213b90b4dd\">LGBMClassifier</label><div class=\"sk-toggleable__content\"><pre>LGBMClassifier(bagging_fraction=0.8225459856082522, bagging_freq=3,\n",
       "               feature_fraction=0.7099515479738928,\n",
       "               lambda_l1=2.5825901359648176e-05, lambda_l2=4.490094872871969,\n",
       "               learning_rate=0.005282912028625591, metric='auc',\n",
       "               min_child_samples=35, n_estimators=1491, num_leaves=76,\n",
       "               objective='binary', random_state=42, verbosity=-1)</pre></div></div></div></div></div></div></div>"
      ],
      "text/plain": [
       "Pipeline(steps=[('preprocessor',\n",
       "                 ColumnTransformer(transformers=[('numerical',\n",
       "                                                  Pipeline(steps=[('imputer',\n",
       "                                                                   SimpleImputer(add_indicator=True,\n",
       "                                                                                 strategy='median')),\n",
       "                                                                  ('scaler',\n",
       "                                                                   PowerTransformer()),\n",
       "                                                                  ('kmeans',\n",
       "                                                                   MiniKmeansTransformerEncoder()),\n",
       "                                                                  ('polynominal_features',\n",
       "                                                                   PolynomialFeatures())]),\n",
       "                                                  Index(['RevolvingUtilizationOfUnsecuredLines', 'DebtRatio', 'MonthlyIncome'...\n",
       "       'NumberOfTime30-59DaysPastDueNotWorse', 'age'],\n",
       "      dtype='object'))])),\n",
       "                ('classifier',\n",
       "                 LGBMClassifier(bagging_fraction=0.8225459856082522,\n",
       "                                bagging_freq=3,\n",
       "                                feature_fraction=0.7099515479738928,\n",
       "                                lambda_l1=2.5825901359648176e-05,\n",
       "                                lambda_l2=4.490094872871969,\n",
       "                                learning_rate=0.005282912028625591,\n",
       "                                metric='auc', min_child_samples=35,\n",
       "                                n_estimators=1491, num_leaves=76,\n",
       "                                objective='binary', random_state=42,\n",
       "                                verbosity=-1))])"
      ]
     },
     "execution_count": 30,
     "metadata": {},
     "output_type": "execute_result"
    }
   ],
   "source": [
    "lgbm_param2={'learning_rate': 0.0018069834369607075,\n",
    "                             'max_depth': 8,\n",
    "                             #'max_features': 4,\n",
    "                             'min_samples_leaf': 47,\n",
    "                             #'min_samples_split': 389,\n",
    "                             'subsample': 0.8573598985000007,\n",
    "                             #'n_iter_no_change': 300,\n",
    "                             'n_estimators': 5000,\n",
    "                            # 'verbose': 0,\n",
    "                             'random_state': 42,\n",
    "                             'metric': 'auc',\n",
    "                            #\"device_type\" : \"gpu\",\n",
    "                            'boosting_type': 'gbdt',\n",
    "                           # 'tree_method': \"gpu_hist\"\n",
    "                           }\n",
    "model_lgbm2 = lgbm.LGBMClassifier(**lgbm_param2,\n",
    "                              # use it  only on gpu\n",
    "                            # rsm=np.nan\n",
    "                              #cat_features=cat_features\n",
    "                             )\n",
    "pipe1_model_lgbm_woe_powertransformer2 = Pipeline(\n",
    "    steps=[\n",
    "        ('preprocessor', preprocessor_woe_powertransformer),\n",
    "        # ('reducedim',  SelectPercentile( f_classif, percentile=95)),\n",
    "        # ('dim_red', SelectKBest(f_regression, k=20)),\n",
    "        #('Sparseinteractions', SparseInteractions(degree=2)),\n",
    "         #('PolynomialFeatures', PolynomialFeatures(degree=2)),\n",
    "        #('PCAreducer', PCA(n_components=0.8)),\n",
    "        ('classifier',model_lgbm)\n",
    "    ]\n",
    ")\n",
    "pipe1_model_lgbm_woe_powertransformer2"
   ]
  },
  {
   "cell_type": "markdown",
   "id": "1e5085d3",
   "metadata": {
    "papermill": {
     "duration": 0.054866,
     "end_time": "2021-12-27T15:19:45.103658",
     "exception": false,
     "start_time": "2021-12-27T15:19:45.048792",
     "status": "completed"
    },
    "tags": []
   },
   "source": [
    "# Test models pipe1  with CV "
   ]
  },
  {
   "cell_type": "code",
   "execution_count": 31,
   "id": "e9590880",
   "metadata": {
    "execution": {
     "iopub.execute_input": "2021-12-27T15:19:45.217695Z",
     "iopub.status.busy": "2021-12-27T15:19:45.216963Z",
     "iopub.status.idle": "2021-12-27T15:19:45.223256Z",
     "shell.execute_reply": "2021-12-27T15:19:45.223807Z",
     "shell.execute_reply.started": "2021-12-27T14:24:38.585282Z"
    },
    "papermill": {
     "duration": 0.065101,
     "end_time": "2021-12-27T15:19:45.223990",
     "exception": false,
     "start_time": "2021-12-27T15:19:45.158889",
     "status": "completed"
    },
    "tags": []
   },
   "outputs": [],
   "source": [
    "def plot_roc(y,y_pred):\n",
    "    from sklearn.metrics import auc\n",
    "    fpr, tpr, thresholds = roc_curve(y_true=y, y_score=y_pred)\n",
    "    auc = auc(fpr, tpr)\n",
    "    plt.figure(1)\n",
    "    plt.plot([0, 1], [0, 1], 'k--')\n",
    "    plt.plot(fpr, tpr, label='Model(area = {:.3f})'.format(auc))\n",
    "    plt.xlabel('False positive rate')\n",
    "    plt.ylabel('True positive rate')\n",
    "    plt.title('ROC curve')\n",
    "    plt.legend(loc='best')\n",
    "    plt.show()"
   ]
  },
  {
   "cell_type": "code",
   "execution_count": 32,
   "id": "27776c31",
   "metadata": {
    "execution": {
     "iopub.execute_input": "2021-12-27T15:19:45.339146Z",
     "iopub.status.busy": "2021-12-27T15:19:45.338496Z",
     "iopub.status.idle": "2021-12-27T15:31:37.913733Z",
     "shell.execute_reply": "2021-12-27T15:31:37.912875Z"
    },
    "papermill": {
     "duration": 712.633425,
     "end_time": "2021-12-27T15:31:37.913917",
     "exception": false,
     "start_time": "2021-12-27T15:19:45.280492",
     "status": "completed"
    },
    "tags": []
   },
   "outputs": [
    {
     "name": "stdout",
     "output_type": "stream",
     "text": [
      "[LightGBM] [Warning] lambda_l1 is set=2.5825901359648176e-05, reg_alpha=0.0 will be ignored. Current value: lambda_l1=2.5825901359648176e-05\n",
      "[LightGBM] [Warning] bagging_fraction is set=0.8225459856082522, subsample=1.0 will be ignored. Current value: bagging_fraction=0.8225459856082522\n",
      "[LightGBM] [Warning] bagging_freq is set=3, subsample_freq=0 will be ignored. Current value: bagging_freq=3\n",
      "[LightGBM] [Warning] feature_fraction is set=0.7099515479738928, colsample_bytree=1.0 will be ignored. Current value: feature_fraction=0.7099515479738928\n",
      "[LightGBM] [Warning] lambda_l2 is set=4.490094872871969, reg_lambda=0.0 will be ignored. Current value: lambda_l2=4.490094872871969\n"
     ]
    },
    {
     "data": {
      "image/png": "[encoded data removed]",
      "text/plain": [
       "<Figure size 576x396 with 1 Axes>"
      ]
     },
     "metadata": {},
     "output_type": "display_data"
    },
    {
     "name": "stdout",
     "output_type": "stream",
     "text": [
      "Fold 0 | AUC: 0.8661355719937422\n",
      "Fold 0 | Avergae_precesion: 0.4002936145762436\n",
      "Fold 0 | recall: 0.18843469591226322\n",
      "Fold 0 | F1: 0.2876712328767123\n",
      "Classification report:\n",
      "               precision    recall  f1-score   support\n",
      "\n",
      "           0       0.94      0.99      0.97     13997\n",
      "           1       0.61      0.19      0.29      1003\n",
      "\n",
      "    accuracy                           0.94     15000\n",
      "   macro avg       0.78      0.59      0.63     15000\n",
      "weighted avg       0.92      0.94      0.92     15000\n",
      "\n",
      "Confusion_matrix:\n",
      " [[13875   122]\n",
      " [  814   189]]\n",
      "[LightGBM] [Warning] lambda_l1 is set=2.5825901359648176e-05, reg_alpha=0.0 will be ignored. Current value: lambda_l1=2.5825901359648176e-05\n",
      "[LightGBM] [Warning] bagging_fraction is set=0.8225459856082522, subsample=1.0 will be ignored. Current value: bagging_fraction=0.8225459856082522\n",
      "[LightGBM] [Warning] bagging_freq is set=3, subsample_freq=0 will be ignored. Current value: bagging_freq=3\n",
      "[LightGBM] [Warning] feature_fraction is set=0.7099515479738928, colsample_bytree=1.0 will be ignored. Current value: feature_fraction=0.7099515479738928\n",
      "[LightGBM] [Warning] lambda_l2 is set=4.490094872871969, reg_lambda=0.0 will be ignored. Current value: lambda_l2=4.490094872871969\n"
     ]
    },
    {
     "data": {
      "image/png": "[encoded data removed]",
      "text/plain": [
       "<Figure size 576x396 with 1 Axes>"
      ]
     },
     "metadata": {},
     "output_type": "display_data"
    },
    {
     "name": "stdout",
     "output_type": "stream",
     "text": [
      "Fold 1 | AUC: 0.8608987640208616\n",
      "Fold 1 | Avergae_precesion: 0.3831851052656008\n",
      "Fold 1 | recall: 0.19242273180458624\n",
      "Fold 1 | F1: 0.28805970149253735\n",
      "Classification report:\n",
      "               precision    recall  f1-score   support\n",
      "\n",
      "           0       0.94      0.99      0.97     13997\n",
      "           1       0.57      0.19      0.29      1003\n",
      "\n",
      "    accuracy                           0.94     15000\n",
      "   macro avg       0.76      0.59      0.63     15000\n",
      "weighted avg       0.92      0.94      0.92     15000\n",
      "\n",
      "Confusion_matrix:\n",
      " [[13853   144]\n",
      " [  810   193]]\n",
      "[LightGBM] [Warning] lambda_l1 is set=2.5825901359648176e-05, reg_alpha=0.0 will be ignored. Current value: lambda_l1=2.5825901359648176e-05\n",
      "[LightGBM] [Warning] bagging_fraction is set=0.8225459856082522, subsample=1.0 will be ignored. Current value: bagging_fraction=0.8225459856082522\n",
      "[LightGBM] [Warning] bagging_freq is set=3, subsample_freq=0 will be ignored. Current value: bagging_freq=3\n",
      "[LightGBM] [Warning] feature_fraction is set=0.7099515479738928, colsample_bytree=1.0 will be ignored. Current value: feature_fraction=0.7099515479738928\n",
      "[LightGBM] [Warning] lambda_l2 is set=4.490094872871969, reg_lambda=0.0 will be ignored. Current value: lambda_l2=4.490094872871969\n"
     ]
    },
    {
     "data": {
      "image/png": "[encoded data removed]",
      "text/plain": [
       "<Figure size 576x396 with 1 Axes>"
      ]
     },
     "metadata": {},
     "output_type": "display_data"
    },
    {
     "name": "stdout",
     "output_type": "stream",
     "text": [
      "Fold 2 | AUC: 0.864747901042176\n",
      "Fold 2 | Avergae_precesion: 0.39894283748611464\n",
      "Fold 2 | recall: 0.2053838484546361\n",
      "Fold 2 | F1: 0.3029411764705882\n",
      "Classification report:\n",
      "               precision    recall  f1-score   support\n",
      "\n",
      "           0       0.95      0.99      0.97     13997\n",
      "           1       0.58      0.21      0.30      1003\n",
      "\n",
      "    accuracy                           0.94     15000\n",
      "   macro avg       0.76      0.60      0.63     15000\n",
      "weighted avg       0.92      0.94      0.92     15000\n",
      "\n",
      "Confusion_matrix:\n",
      " [[13846   151]\n",
      " [  797   206]]\n",
      "[LightGBM] [Warning] lambda_l1 is set=2.5825901359648176e-05, reg_alpha=0.0 will be ignored. Current value: lambda_l1=2.5825901359648176e-05\n",
      "[LightGBM] [Warning] bagging_fraction is set=0.8225459856082522, subsample=1.0 will be ignored. Current value: bagging_fraction=0.8225459856082522\n",
      "[LightGBM] [Warning] bagging_freq is set=3, subsample_freq=0 will be ignored. Current value: bagging_freq=3\n",
      "[LightGBM] [Warning] feature_fraction is set=0.7099515479738928, colsample_bytree=1.0 will be ignored. Current value: feature_fraction=0.7099515479738928\n",
      "[LightGBM] [Warning] lambda_l2 is set=4.490094872871969, reg_lambda=0.0 will be ignored. Current value: lambda_l2=4.490094872871969\n"
     ]
    },
    {
     "data": {
      "image/png": "[encoded data removed]",
      "text/plain": [
       "<Figure size 576x396 with 1 Axes>"
      ]
     },
     "metadata": {},
     "output_type": "display_data"
    },
    {
     "name": "stdout",
     "output_type": "stream",
     "text": [
      "Fold 3 | AUC: 0.8634007956839634\n",
      "Fold 3 | Avergae_precesion: 0.3936949195524541\n",
      "Fold 3 | recall: 0.19940179461615154\n",
      "Fold 3 | F1: 0.29739776951672864\n",
      "Classification report:\n",
      "               precision    recall  f1-score   support\n",
      "\n",
      "           0       0.95      0.99      0.97     13997\n",
      "           1       0.58      0.20      0.30      1003\n",
      "\n",
      "    accuracy                           0.94     15000\n",
      "   macro avg       0.77      0.59      0.63     15000\n",
      "weighted avg       0.92      0.94      0.92     15000\n",
      "\n",
      "Confusion_matrix:\n",
      " [[13855   142]\n",
      " [  803   200]]\n",
      "[LightGBM] [Warning] lambda_l1 is set=2.5825901359648176e-05, reg_alpha=0.0 will be ignored. Current value: lambda_l1=2.5825901359648176e-05\n",
      "[LightGBM] [Warning] bagging_fraction is set=0.8225459856082522, subsample=1.0 will be ignored. Current value: bagging_fraction=0.8225459856082522\n",
      "[LightGBM] [Warning] bagging_freq is set=3, subsample_freq=0 will be ignored. Current value: bagging_freq=3\n",
      "[LightGBM] [Warning] feature_fraction is set=0.7099515479738928, colsample_bytree=1.0 will be ignored. Current value: feature_fraction=0.7099515479738928\n",
      "[LightGBM] [Warning] lambda_l2 is set=4.490094872871969, reg_lambda=0.0 will be ignored. Current value: lambda_l2=4.490094872871969\n"
     ]
    },
    {
     "data": {
      "image/png": "[encoded data removed]",
      "text/plain": [
       "<Figure size 576x396 with 1 Axes>"
      ]
     },
     "metadata": {},
     "output_type": "display_data"
    },
    {
     "name": "stdout",
     "output_type": "stream",
     "text": [
      "Fold 4 | AUC: 0.8644803248324612\n",
      "Fold 4 | Avergae_precesion: 0.39853717751007056\n",
      "Fold 4 | recall: 0.2073778664007976\n",
      "Fold 4 | F1: 0.3083765752409192\n",
      "Classification report:\n",
      "               precision    recall  f1-score   support\n",
      "\n",
      "           0       0.95      0.99      0.97     13997\n",
      "           1       0.60      0.21      0.31      1003\n",
      "\n",
      "    accuracy                           0.94     15000\n",
      "   macro avg       0.77      0.60      0.64     15000\n",
      "weighted avg       0.92      0.94      0.92     15000\n",
      "\n",
      "Confusion_matrix:\n",
      " [[13859   138]\n",
      " [  795   208]]\n",
      "[LightGBM] [Warning] lambda_l1 is set=2.5825901359648176e-05, reg_alpha=0.0 will be ignored. Current value: lambda_l1=2.5825901359648176e-05\n",
      "[LightGBM] [Warning] bagging_fraction is set=0.8225459856082522, subsample=1.0 will be ignored. Current value: bagging_fraction=0.8225459856082522\n",
      "[LightGBM] [Warning] bagging_freq is set=3, subsample_freq=0 will be ignored. Current value: bagging_freq=3\n",
      "[LightGBM] [Warning] feature_fraction is set=0.7099515479738928, colsample_bytree=1.0 will be ignored. Current value: feature_fraction=0.7099515479738928\n",
      "[LightGBM] [Warning] lambda_l2 is set=4.490094872871969, reg_lambda=0.0 will be ignored. Current value: lambda_l2=4.490094872871969\n"
     ]
    },
    {
     "data": {
      "image/png": "[encoded data removed]",
      "text/plain": [
       "<Figure size 576x396 with 1 Axes>"
      ]
     },
     "metadata": {},
     "output_type": "display_data"
    },
    {
     "name": "stdout",
     "output_type": "stream",
     "text": [
      "Fold 5 | AUC: 0.8739007668001211\n",
      "Fold 5 | Avergae_precesion: 0.43916282497530695\n",
      "Fold 5 | recall: 0.20837487537387836\n",
      "Fold 5 | F1: 0.31859756097560976\n",
      "Classification report:\n",
      "               precision    recall  f1-score   support\n",
      "\n",
      "           0       0.95      0.99      0.97     13997\n",
      "           1       0.68      0.21      0.32      1003\n",
      "\n",
      "    accuracy                           0.94     15000\n",
      "   macro avg       0.81      0.60      0.64     15000\n",
      "weighted avg       0.93      0.94      0.93     15000\n",
      "\n",
      "Confusion_matrix:\n",
      " [[13897   100]\n",
      " [  794   209]]\n",
      "[LightGBM] [Warning] lambda_l1 is set=2.5825901359648176e-05, reg_alpha=0.0 will be ignored. Current value: lambda_l1=2.5825901359648176e-05\n",
      "[LightGBM] [Warning] bagging_fraction is set=0.8225459856082522, subsample=1.0 will be ignored. Current value: bagging_fraction=0.8225459856082522\n",
      "[LightGBM] [Warning] bagging_freq is set=3, subsample_freq=0 will be ignored. Current value: bagging_freq=3\n",
      "[LightGBM] [Warning] feature_fraction is set=0.7099515479738928, colsample_bytree=1.0 will be ignored. Current value: feature_fraction=0.7099515479738928\n",
      "[LightGBM] [Warning] lambda_l2 is set=4.490094872871969, reg_lambda=0.0 will be ignored. Current value: lambda_l2=4.490094872871969\n"
     ]
    },
    {
     "data": {
      "image/png": "[encoded data removed]",
      "text/plain": [
       "<Figure size 576x396 with 1 Axes>"
      ]
     },
     "metadata": {},
     "output_type": "display_data"
    },
    {
     "name": "stdout",
     "output_type": "stream",
     "text": [
      "Fold 6 | AUC: 0.8580936783384224\n",
      "Fold 6 | Avergae_precesion: 0.3630849846395366\n",
      "Fold 6 | recall: 0.17265469061876249\n",
      "Fold 6 | F1: 0.2629179331306991\n",
      "Classification report:\n",
      "               precision    recall  f1-score   support\n",
      "\n",
      "           0       0.94      0.99      0.97     13998\n",
      "           1       0.55      0.17      0.26      1002\n",
      "\n",
      "    accuracy                           0.94     15000\n",
      "   macro avg       0.75      0.58      0.61     15000\n",
      "weighted avg       0.92      0.94      0.92     15000\n",
      "\n",
      "Confusion_matrix:\n",
      " [[13857   141]\n",
      " [  829   173]]\n",
      "[LightGBM] [Warning] lambda_l1 is set=2.5825901359648176e-05, reg_alpha=0.0 will be ignored. Current value: lambda_l1=2.5825901359648176e-05\n",
      "[LightGBM] [Warning] bagging_fraction is set=0.8225459856082522, subsample=1.0 will be ignored. Current value: bagging_fraction=0.8225459856082522\n",
      "[LightGBM] [Warning] bagging_freq is set=3, subsample_freq=0 will be ignored. Current value: bagging_freq=3\n",
      "[LightGBM] [Warning] feature_fraction is set=0.7099515479738928, colsample_bytree=1.0 will be ignored. Current value: feature_fraction=0.7099515479738928\n",
      "[LightGBM] [Warning] lambda_l2 is set=4.490094872871969, reg_lambda=0.0 will be ignored. Current value: lambda_l2=4.490094872871969\n"
     ]
    },
    {
     "data": {
      "image/png": "[encoded data removed]",
      "text/plain": [
       "<Figure size 576x396 with 1 Axes>"
      ]
     },
     "metadata": {},
     "output_type": "display_data"
    },
    {
     "name": "stdout",
     "output_type": "stream",
     "text": [
      "Fold 7 | AUC: 0.8579977136739522\n",
      "Fold 7 | Avergae_precesion: 0.40655367087025357\n",
      "Fold 7 | recall: 0.20758483033932135\n",
      "Fold 7 | F1: 0.31067961165048547\n",
      "Classification report:\n",
      "               precision    recall  f1-score   support\n",
      "\n",
      "           0       0.95      0.99      0.97     13998\n",
      "           1       0.62      0.21      0.31      1002\n",
      "\n",
      "    accuracy                           0.94     15000\n",
      "   macro avg       0.78      0.60      0.64     15000\n",
      "weighted avg       0.92      0.94      0.92     15000\n",
      "\n",
      "Confusion_matrix:\n",
      " [[13869   129]\n",
      " [  794   208]]\n",
      "[LightGBM] [Warning] lambda_l1 is set=2.5825901359648176e-05, reg_alpha=0.0 will be ignored. Current value: lambda_l1=2.5825901359648176e-05\n",
      "[LightGBM] [Warning] bagging_fraction is set=0.8225459856082522, subsample=1.0 will be ignored. Current value: bagging_fraction=0.8225459856082522\n",
      "[LightGBM] [Warning] bagging_freq is set=3, subsample_freq=0 will be ignored. Current value: bagging_freq=3\n",
      "[LightGBM] [Warning] feature_fraction is set=0.7099515479738928, colsample_bytree=1.0 will be ignored. Current value: feature_fraction=0.7099515479738928\n",
      "[LightGBM] [Warning] lambda_l2 is set=4.490094872871969, reg_lambda=0.0 will be ignored. Current value: lambda_l2=4.490094872871969\n"
     ]
    },
    {
     "data": {
      "image/png": "[encoded data removed]",
      "text/plain": [
       "<Figure size 576x396 with 1 Axes>"
      ]
     },
     "metadata": {},
     "output_type": "display_data"
    },
    {
     "name": "stdout",
     "output_type": "stream",
     "text": [
      "Fold 8 | AUC: 0.8742110007731358\n",
      "Fold 8 | Avergae_precesion: 0.444278890676069\n",
      "Fold 8 | recall: 0.2025948103792415\n",
      "Fold 8 | F1: 0.3096872616323417\n",
      "Classification report:\n",
      "               precision    recall  f1-score   support\n",
      "\n",
      "           0       0.95      0.99      0.97     13998\n",
      "           1       0.66      0.20      0.31      1002\n",
      "\n",
      "    accuracy                           0.94     15000\n",
      "   macro avg       0.80      0.60      0.64     15000\n",
      "weighted avg       0.93      0.94      0.92     15000\n",
      "\n",
      "Confusion_matrix:\n",
      " [[13892   106]\n",
      " [  799   203]]\n",
      "[LightGBM] [Warning] lambda_l1 is set=2.5825901359648176e-05, reg_alpha=0.0 will be ignored. Current value: lambda_l1=2.5825901359648176e-05\n",
      "[LightGBM] [Warning] bagging_fraction is set=0.8225459856082522, subsample=1.0 will be ignored. Current value: bagging_fraction=0.8225459856082522\n",
      "[LightGBM] [Warning] bagging_freq is set=3, subsample_freq=0 will be ignored. Current value: bagging_freq=3\n",
      "[LightGBM] [Warning] feature_fraction is set=0.7099515479738928, colsample_bytree=1.0 will be ignored. Current value: feature_fraction=0.7099515479738928\n",
      "[LightGBM] [Warning] lambda_l2 is set=4.490094872871969, reg_lambda=0.0 will be ignored. Current value: lambda_l2=4.490094872871969\n"
     ]
    },
    {
     "data": {
      "image/png": "[encoded data removed]",
      "text/plain": [
       "<Figure size 576x396 with 1 Axes>"
      ]
     },
     "metadata": {},
     "output_type": "display_data"
    },
    {
     "name": "stdout",
     "output_type": "stream",
     "text": [
      "Fold 9 | AUC: 0.8641739952014816\n",
      "Fold 9 | Avergae_precesion: 0.3773115678714637\n",
      "Fold 9 | recall: 0.17065868263473055\n",
      "Fold 9 | F1: 0.2585034013605442\n",
      "Classification report:\n",
      "               precision    recall  f1-score   support\n",
      "\n",
      "           0       0.94      0.99      0.97     13998\n",
      "           1       0.53      0.17      0.26      1002\n",
      "\n",
      "    accuracy                           0.93     15000\n",
      "   macro avg       0.74      0.58      0.61     15000\n",
      "weighted avg       0.92      0.93      0.92     15000\n",
      "\n",
      "Confusion_matrix:\n",
      " [[13848   150]\n",
      " [  831   171]]\n",
      "--------------------------------------------------------------------------------\n",
      "\n",
      "Overall mean AUC score : 0.8648040512360318\n",
      "\n",
      "Overall mean F1 score : 0.2944832224347166\n",
      "\n",
      "Overall mean average precision score : 0.40050455934231144\n",
      "\n",
      "Overall mean recall score : 0.1954888826534369\n",
      "CPU times: user 44min 26s, sys: 15.1 s, total: 44min 41s\n",
      "Wall time: 11min 52s\n"
     ]
    }
   ],
   "source": [
    "%%time \n",
    "# evaluate each strategy on the dataset\n",
    "results = list()\n",
    "# Setting a 10-fold stratified cross-validation (note: shuffle=True)\n",
    "SEED = 42\n",
    "FOLDS = 10\n",
    "skf = StratifiedKFold(n_splits=FOLDS, shuffle=True, random_state=SEED)\n",
    "# CV interations\n",
    "# Create arrays for the features and the response variable\n",
    "roc_auc = list()\n",
    "average_precision = list()\n",
    "#X1=X.iloc[0:2000,:].copy()\n",
    "#y1=y[0:2000].copy()\n",
    "oof = np.empty((X.shape[0],))\n",
    "#oof_bin = np.empty((X.shape[0],))\n",
    "predictions=[]\n",
    "mean_auc = 0\n",
    "mean_ap=0\n",
    "F1 = list()\n",
    "Recall=list()\n",
    "best_iteration = list()\n",
    "for fold, (train_idx, test_idx) in enumerate(skf.split(X, y)):    \n",
    "    X_train, y_train = X.iloc[list(train_idx), :], y.iloc[list(train_idx)]\n",
    "    X_test, y_test = X.iloc[list(test_idx), :],y.iloc[list(test_idx)]\n",
    "    pipe1_model_lgbm_woe_powertransformer2.fit(X_train,y_train,\n",
    "                                                  #classifier__verbose=False\n",
    "                                                  #,verbose=False\n",
    "                                                 )\n",
    "    preds = pipe1_model_lgbm_woe_powertransformer2.predict_proba(X_test)[:,1]\n",
    "    oof[test_idx] = preds\n",
    "    auc_score= roc_auc_score(y_true=y_test, y_score=preds)\n",
    "    roc_auc.append(auc_score)\n",
    "    ap=average_precision_score(y_true=y_test, y_score=preds)\n",
    "    plot_roc(y_test,preds)\n",
    "    mean_auc += auc_score / FOLDS\n",
    "    mean_ap+=ap/FOLDS\n",
    "    predictions.append(pipe1_model_lgbm_woe_powertransformer2.predict_proba(X_test_final)[:,1]) \n",
    "    y_predicted = pipe1_model_lgbm_woe_powertransformer2.predict(X_test)\n",
    "    recall = recall_score(y_test, y_predicted)\n",
    "    f1= f1_score(y_test, y_predicted)\n",
    "    print(f\"Fold {fold} | AUC: {auc_score}\")\n",
    "    print(f\"Fold {fold} | Avergae_precesion: {ap}\")\n",
    "    print(f\"Fold {fold} | recall: {recall}\")\n",
    "    print(f\"Fold {fold} | F1: {f1}\")\n",
    "    print('Classification report:\\n',classification_report(y_test,y_predicted))\n",
    "    print('Confusion_matrix:\\n',confusion_matrix(y_test,y_predicted))\n",
    "    roc_auc.append(auc_score)\n",
    "    F1.append(f1)\n",
    "    Recall.append(recall)\n",
    "    #Mean of the predictions\n",
    "print('-' * 80)  \n",
    "print(f\"\\nOverall mean AUC score : {mean_auc}\")\n",
    "print(f\"\\nOverall mean F1 score : {np.mean(F1)}\")\n",
    "print(f\"\\nOverall mean average precision score : {mean_ap}\")\n",
    "print(f\"\\nOverall mean recall score : {np.mean(Recall)}\")"
   ]
  },
  {
   "cell_type": "markdown",
   "id": "cb4bbace",
   "metadata": {
    "papermill": {
     "duration": 0.079953,
     "end_time": "2021-12-27T15:31:38.071328",
     "exception": false,
     "start_time": "2021-12-27T15:31:37.991375",
     "status": "completed"
    },
    "tags": []
   },
   "source": [
    "**m1_hgbc:**  \n",
    "\n",
    "        CV : 'auc' :0.8654007907881465\n",
    "             'average_precision_score' :0.402\n",
    "             'f1_score' : 0.2805834930186596\n",
    "\n",
    "\n",
    "\n",
    "---------------------------------------------\n",
    "\n",
    "**m2_catboost:**\n",
    "\n",
    "       CV : 'auc' : 0.8662925048383615\n",
    "             'average_precision_score' : 0.4007558117925276\n",
    "             'f1_score' : 0.28917295975957824\n",
    "      \n",
    "      \n",
    "-----------------------------------------------\n",
    "\n",
    "**m3_xgbr:**  \n",
    "\n",
    "      CV : 'auc' :0.855\n",
    "             'average_precision_score' :0.372\n",
    "             'f1_score' : 0.294\n",
    "      \n",
    "----------------------------------------------\n",
    "\n",
    "**m4_LR**\n",
    "\n",
    "            CV : 'auc' :0.862\n",
    "                 'average_precision_score' :0.381\n",
    "                 'f1_score' : 0.259\n",
    "      \n",
    "\n",
    "\n",
    "-----------------------------------------------\n",
    "**m5_svm**   \n",
    "\n",
    "           CV : 'auc' :\n",
    "                 'average_precision_score' :!\n",
    "                 'f1_score' : !\n",
    "      \n",
    "-----------------------------------------------\n",
    "**m6_RF**    \n",
    "\n",
    "        CV : 'auc' :0.863\n",
    "             'average_precision_score' :0.396\n",
    "             'f1_score' : 0.276\n",
    "      \n",
    "---------------------------------------------------\n",
    "**m7_Lgbm**\n",
    "\n",
    "          CV : 'auc' :0.8649\n",
    "             'average_precision_score' :0.400\n",
    "             'f1_score' :0.291\n",
    "  ---------------------------------------------------\n",
    "**m8_Lgbm2**\n",
    "\n",
    "          CV : 'auc' :0.8648\n",
    "             'average_precision_score' :0.400\n",
    "             'f1_score' :0.294     \n",
    "             \n",
    "             \n",
    "             \n",
    "**Final Results :**             "
   ]
  },
  {
   "cell_type": "code",
   "execution_count": 33,
   "id": "02df7f7e",
   "metadata": {
    "execution": {
     "iopub.execute_input": "2021-12-27T15:31:38.236513Z",
     "iopub.status.busy": "2021-12-27T15:31:38.235393Z",
     "iopub.status.idle": "2021-12-27T15:31:38.324791Z",
     "shell.execute_reply": "2021-12-27T15:31:38.325331Z",
     "shell.execute_reply.started": "2021-12-27T14:27:12.005749Z"
    },
    "papermill": {
     "duration": 0.176115,
     "end_time": "2021-12-27T15:31:38.325542",
     "exception": false,
     "start_time": "2021-12-27T15:31:38.149427",
     "status": "completed"
    },
    "tags": []
   },
   "outputs": [
    {
     "name": "stdout",
     "output_type": "stream",
     "text": [
      "\n",
      "Modified Stlying DataFrame:\n"
     ]
    },
    {
     "data": {
      "text/html": [
       "<style type=\"text/css\">\n",
       "#T_35a96_row0_col0, #T_35a96_row2_col1, #T_35a96_row2_col3, #T_35a96_row3_col2 {\n",
       "  background-color: yellow;\n",
       "}\n",
       "</style>\n",
       "<table id=\"T_35a96_\">\n",
       "  <thead>\n",
       "    <tr>\n",
       "      <th class=\"blank level0\" >&nbsp;</th>\n",
       "      <th class=\"col_heading level0 col0\" >model</th>\n",
       "      <th class=\"col_heading level0 col1\" >auc</th>\n",
       "      <th class=\"col_heading level0 col2\" >f1_score</th>\n",
       "      <th class=\"col_heading level0 col3\" >average_precision_score</th>\n",
       "    </tr>\n",
       "  </thead>\n",
       "  <tbody>\n",
       "    <tr>\n",
       "      <th id=\"T_35a96_level0_row0\" class=\"row_heading level0 row0\" >0</th>\n",
       "      <td id=\"T_35a96_row0_col0\" class=\"data row0 col0\" >m1_hgbc</td>\n",
       "      <td id=\"T_35a96_row0_col1\" class=\"data row0 col1\" >0.865434</td>\n",
       "      <td id=\"T_35a96_row0_col2\" class=\"data row0 col2\" >0.279313</td>\n",
       "      <td id=\"T_35a96_row0_col3\" class=\"data row0 col3\" >0.403261</td>\n",
       "    </tr>\n",
       "    <tr>\n",
       "      <th id=\"T_35a96_level0_row1\" class=\"row_heading level0 row1\" >1</th>\n",
       "      <td id=\"T_35a96_row1_col0\" class=\"data row1 col0\" >m2_catboost</td>\n",
       "      <td id=\"T_35a96_row1_col1\" class=\"data row1 col1\" >0.866293</td>\n",
       "      <td id=\"T_35a96_row1_col2\" class=\"data row1 col2\" >0.289173</td>\n",
       "      <td id=\"T_35a96_row1_col3\" class=\"data row1 col3\" >0.400756</td>\n",
       "    </tr>\n",
       "    <tr>\n",
       "      <th id=\"T_35a96_level0_row2\" class=\"row_heading level0 row2\" >2</th>\n",
       "      <td id=\"T_35a96_row2_col0\" class=\"data row2 col0\" >m3_xgbr</td>\n",
       "      <td id=\"T_35a96_row2_col1\" class=\"data row2 col1\" >0.855243</td>\n",
       "      <td id=\"T_35a96_row2_col2\" class=\"data row2 col2\" >0.294449</td>\n",
       "      <td id=\"T_35a96_row2_col3\" class=\"data row2 col3\" >0.372796</td>\n",
       "    </tr>\n",
       "    <tr>\n",
       "      <th id=\"T_35a96_level0_row3\" class=\"row_heading level0 row3\" >3</th>\n",
       "      <td id=\"T_35a96_row3_col0\" class=\"data row3 col0\" >m4_LR</td>\n",
       "      <td id=\"T_35a96_row3_col1\" class=\"data row3 col1\" >0.862013</td>\n",
       "      <td id=\"T_35a96_row3_col2\" class=\"data row3 col2\" >0.259481</td>\n",
       "      <td id=\"T_35a96_row3_col3\" class=\"data row3 col3\" >0.381870</td>\n",
       "    </tr>\n",
       "    <tr>\n",
       "      <th id=\"T_35a96_level0_row4\" class=\"row_heading level0 row4\" >4</th>\n",
       "      <td id=\"T_35a96_row4_col0\" class=\"data row4 col0\" >m5_RF</td>\n",
       "      <td id=\"T_35a96_row4_col1\" class=\"data row4 col1\" >0.863872</td>\n",
       "      <td id=\"T_35a96_row4_col2\" class=\"data row4 col2\" >0.276701</td>\n",
       "      <td id=\"T_35a96_row4_col3\" class=\"data row4 col3\" >0.396000</td>\n",
       "    </tr>\n",
       "    <tr>\n",
       "      <th id=\"T_35a96_level0_row5\" class=\"row_heading level0 row5\" >5</th>\n",
       "      <td id=\"T_35a96_row5_col0\" class=\"data row5 col0\" >m6_lgbm1</td>\n",
       "      <td id=\"T_35a96_row5_col1\" class=\"data row5 col1\" >0.864935</td>\n",
       "      <td id=\"T_35a96_row5_col2\" class=\"data row5 col2\" >0.292513</td>\n",
       "      <td id=\"T_35a96_row5_col3\" class=\"data row5 col3\" >0.400006</td>\n",
       "    </tr>\n",
       "    <tr>\n",
       "      <th id=\"T_35a96_level0_row6\" class=\"row_heading level0 row6\" >6</th>\n",
       "      <td id=\"T_35a96_row6_col0\" class=\"data row6 col0\" >m7_lgbm2</td>\n",
       "      <td id=\"T_35a96_row6_col1\" class=\"data row6 col1\" >0.864804</td>\n",
       "      <td id=\"T_35a96_row6_col2\" class=\"data row6 col2\" >0.294483</td>\n",
       "      <td id=\"T_35a96_row6_col3\" class=\"data row6 col3\" >0.400505</td>\n",
       "    </tr>\n",
       "  </tbody>\n",
       "</table>\n"
      ],
      "text/plain": [
       "<pandas.io.formats.style.Styler at 0x7ff415a85110>"
      ]
     },
     "execution_count": 33,
     "metadata": {},
     "output_type": "execute_result"
    }
   ],
   "source": [
    "data_results={'model':['m1_hgbc','m2_catboost',\n",
    "               'm3_xgbr','m4_LR',\n",
    "               'm5_RF','m6_lgbm1',\n",
    "              'm7_lgbm2'],\n",
    "'auc' :[ 0.865434044881213,0.8662925048383615, \n",
    "        0.8552429800216585,0.8620132487013733,\n",
    "        0.8638723261807801,0.8649350128689158,\n",
    "       0.8648040512360318],\n",
    "\n",
    "'f1_score' : [0.27931324050967715,0.28917295975957824,\n",
    "              0.2944488401724624,0.25948063132387106,\n",
    "              0.2767006882442805,0.2925125077182382,\n",
    "             0.2944832224347166],\n",
    "\n",
    "'average_precision_score' :[0.4032613815557755,0.4007558117925276,\n",
    "                            0.3727962618723695,0.3818703865043032,\n",
    "                            0.3960003199342976,0.40000554322071746,\n",
    "                           0.40050455934231144]    \n",
    "     }\n",
    "\n",
    "df_results= pd.DataFrame.from_dict(data=data_results\n",
    "                         #,columns=['model','auc','f1_score', 'average_precision_score']\n",
    "                       )\n",
    "# Highlight the Min values in each column\n",
    "print(\"\\nModified Stlying DataFrame:\")\n",
    "df_results.style.highlight_min(axis=0)"
   ]
  },
  {
   "cell_type": "code",
   "execution_count": 34,
   "id": "633a915c",
   "metadata": {
    "execution": {
     "iopub.execute_input": "2021-12-27T15:31:38.496310Z",
     "iopub.status.busy": "2021-12-27T15:31:38.495225Z",
     "iopub.status.idle": "2021-12-27T15:31:38.500650Z",
     "shell.execute_reply": "2021-12-27T15:31:38.500050Z",
     "shell.execute_reply.started": "2021-12-27T14:28:00.361263Z"
    },
    "papermill": {
     "duration": 0.098208,
     "end_time": "2021-12-27T15:31:38.500822",
     "exception": false,
     "start_time": "2021-12-27T15:31:38.402614",
     "status": "completed"
    },
    "tags": []
   },
   "outputs": [
    {
     "data": {
      "text/html": [
       "<style type=\"text/css\">\n",
       "#T_4d64e_row0_col3, #T_4d64e_row1_col1, #T_4d64e_row6_col0, #T_4d64e_row6_col2 {\n",
       "  background-color: yellow;\n",
       "}\n",
       "</style>\n",
       "<table id=\"T_4d64e_\">\n",
       "  <thead>\n",
       "    <tr>\n",
       "      <th class=\"blank level0\" >&nbsp;</th>\n",
       "      <th class=\"col_heading level0 col0\" >model</th>\n",
       "      <th class=\"col_heading level0 col1\" >auc</th>\n",
       "      <th class=\"col_heading level0 col2\" >f1_score</th>\n",
       "      <th class=\"col_heading level0 col3\" >average_precision_score</th>\n",
       "    </tr>\n",
       "  </thead>\n",
       "  <tbody>\n",
       "    <tr>\n",
       "      <th id=\"T_4d64e_level0_row0\" class=\"row_heading level0 row0\" >0</th>\n",
       "      <td id=\"T_4d64e_row0_col0\" class=\"data row0 col0\" >m1_hgbc</td>\n",
       "      <td id=\"T_4d64e_row0_col1\" class=\"data row0 col1\" >0.865434</td>\n",
       "      <td id=\"T_4d64e_row0_col2\" class=\"data row0 col2\" >0.279313</td>\n",
       "      <td id=\"T_4d64e_row0_col3\" class=\"data row0 col3\" >0.403261</td>\n",
       "    </tr>\n",
       "    <tr>\n",
       "      <th id=\"T_4d64e_level0_row1\" class=\"row_heading level0 row1\" >1</th>\n",
       "      <td id=\"T_4d64e_row1_col0\" class=\"data row1 col0\" >m2_catboost</td>\n",
       "      <td id=\"T_4d64e_row1_col1\" class=\"data row1 col1\" >0.866293</td>\n",
       "      <td id=\"T_4d64e_row1_col2\" class=\"data row1 col2\" >0.289173</td>\n",
       "      <td id=\"T_4d64e_row1_col3\" class=\"data row1 col3\" >0.400756</td>\n",
       "    </tr>\n",
       "    <tr>\n",
       "      <th id=\"T_4d64e_level0_row2\" class=\"row_heading level0 row2\" >2</th>\n",
       "      <td id=\"T_4d64e_row2_col0\" class=\"data row2 col0\" >m3_xgbr</td>\n",
       "      <td id=\"T_4d64e_row2_col1\" class=\"data row2 col1\" >0.855243</td>\n",
       "      <td id=\"T_4d64e_row2_col2\" class=\"data row2 col2\" >0.294449</td>\n",
       "      <td id=\"T_4d64e_row2_col3\" class=\"data row2 col3\" >0.372796</td>\n",
       "    </tr>\n",
       "    <tr>\n",
       "      <th id=\"T_4d64e_level0_row3\" class=\"row_heading level0 row3\" >3</th>\n",
       "      <td id=\"T_4d64e_row3_col0\" class=\"data row3 col0\" >m4_LR</td>\n",
       "      <td id=\"T_4d64e_row3_col1\" class=\"data row3 col1\" >0.862013</td>\n",
       "      <td id=\"T_4d64e_row3_col2\" class=\"data row3 col2\" >0.259481</td>\n",
       "      <td id=\"T_4d64e_row3_col3\" class=\"data row3 col3\" >0.381870</td>\n",
       "    </tr>\n",
       "    <tr>\n",
       "      <th id=\"T_4d64e_level0_row4\" class=\"row_heading level0 row4\" >4</th>\n",
       "      <td id=\"T_4d64e_row4_col0\" class=\"data row4 col0\" >m5_RF</td>\n",
       "      <td id=\"T_4d64e_row4_col1\" class=\"data row4 col1\" >0.863872</td>\n",
       "      <td id=\"T_4d64e_row4_col2\" class=\"data row4 col2\" >0.276701</td>\n",
       "      <td id=\"T_4d64e_row4_col3\" class=\"data row4 col3\" >0.396000</td>\n",
       "    </tr>\n",
       "    <tr>\n",
       "      <th id=\"T_4d64e_level0_row5\" class=\"row_heading level0 row5\" >5</th>\n",
       "      <td id=\"T_4d64e_row5_col0\" class=\"data row5 col0\" >m6_lgbm1</td>\n",
       "      <td id=\"T_4d64e_row5_col1\" class=\"data row5 col1\" >0.864935</td>\n",
       "      <td id=\"T_4d64e_row5_col2\" class=\"data row5 col2\" >0.292513</td>\n",
       "      <td id=\"T_4d64e_row5_col3\" class=\"data row5 col3\" >0.400006</td>\n",
       "    </tr>\n",
       "    <tr>\n",
       "      <th id=\"T_4d64e_level0_row6\" class=\"row_heading level0 row6\" >6</th>\n",
       "      <td id=\"T_4d64e_row6_col0\" class=\"data row6 col0\" >m7_lgbm2</td>\n",
       "      <td id=\"T_4d64e_row6_col1\" class=\"data row6 col1\" >0.864804</td>\n",
       "      <td id=\"T_4d64e_row6_col2\" class=\"data row6 col2\" >0.294483</td>\n",
       "      <td id=\"T_4d64e_row6_col3\" class=\"data row6 col3\" >0.400505</td>\n",
       "    </tr>\n",
       "  </tbody>\n",
       "</table>\n"
      ],
      "text/plain": [
       "<pandas.io.formats.style.Styler at 0x7ff416362710>"
      ]
     },
     "execution_count": 34,
     "metadata": {},
     "output_type": "execute_result"
    }
   ],
   "source": [
    "df_results.style.highlight_max(axis=0)"
   ]
  },
  {
   "cell_type": "code",
   "execution_count": 35,
   "id": "ac4bc8e9",
   "metadata": {
    "execution": {
     "iopub.execute_input": "2021-12-27T15:31:38.685048Z",
     "iopub.status.busy": "2021-12-27T15:31:38.663238Z",
     "iopub.status.idle": "2021-12-27T15:31:38.689458Z",
     "shell.execute_reply": "2021-12-27T15:31:38.690043Z",
     "shell.execute_reply.started": "2021-12-27T14:34:54.053677Z"
    },
    "papermill": {
     "duration": 0.111802,
     "end_time": "2021-12-27T15:31:38.690296",
     "exception": false,
     "start_time": "2021-12-27T15:31:38.578494",
     "status": "completed"
    },
    "tags": []
   },
   "outputs": [
    {
     "data": {
      "text/html": [
       "<style type=\"text/css\">\n",
       "#T_46492_row0_col1, #T_46492_row1_col3, #T_46492_row3_col2 {\n",
       "  background-color: #0000ff;\n",
       "  color: #f1f1f1;\n",
       "  background-color: red;\n",
       "}\n",
       "#T_46492_row0_col2 {\n",
       "  background-color: #2424fd;\n",
       "  color: #f1f1f1;\n",
       "}\n",
       "#T_46492_row0_col3 {\n",
       "  background-color: #1414fe;\n",
       "  color: #f1f1f1;\n",
       "}\n",
       "#T_46492_row1_col1 {\n",
       "  background-color: #1212fe;\n",
       "  color: #f1f1f1;\n",
       "}\n",
       "#T_46492_row1_col2 {\n",
       "  background-color: #6868fa;\n",
       "  color: #f1f1f1;\n",
       "}\n",
       "#T_46492_row2_col1 {\n",
       "  background-color: #1d1dfe;\n",
       "  color: #f1f1f1;\n",
       "}\n",
       "#T_46492_row2_col2 {\n",
       "  background-color: #0d0dfe;\n",
       "  color: #f1f1f1;\n",
       "}\n",
       "#T_46492_row2_col3 {\n",
       "  background-color: #1919fe;\n",
       "  color: #f1f1f1;\n",
       "}\n",
       "#T_46492_row3_col0 {\n",
       "  background-color: red;\n",
       "}\n",
       "#T_46492_row3_col1 {\n",
       "  background-color: #2020fd;\n",
       "  color: #f1f1f1;\n",
       "}\n",
       "#T_46492_row3_col3 {\n",
       "  background-color: #1616fe;\n",
       "  color: #f1f1f1;\n",
       "}\n",
       "#T_46492_row4_col1 {\n",
       "  background-color: #3535fc;\n",
       "  color: #f1f1f1;\n",
       "}\n",
       "#T_46492_row4_col2 {\n",
       "  background-color: #7b7bf9;\n",
       "  color: #f1f1f1;\n",
       "}\n",
       "#T_46492_row4_col3 {\n",
       "  background-color: #3a3afc;\n",
       "  color: #f1f1f1;\n",
       "}\n",
       "#T_46492_row5_col1 {\n",
       "  background-color: #5d5dfa;\n",
       "  color: #f1f1f1;\n",
       "}\n",
       "#T_46492_row5_col2, #T_46492_row6_col1, #T_46492_row6_col3 {\n",
       "  background-color: #f0f0f3;\n",
       "  color: #000000;\n",
       "}\n",
       "#T_46492_row5_col3 {\n",
       "  background-color: #a9a9f6;\n",
       "  color: #000000;\n",
       "}\n",
       "#T_46492_row6_col2 {\n",
       "  background-color: #0000ff;\n",
       "  color: #f1f1f1;\n",
       "}\n",
       "</style>\n",
       "<table id=\"T_46492_\">\n",
       "  <thead>\n",
       "    <tr>\n",
       "      <th class=\"blank level0\" >&nbsp;</th>\n",
       "      <th class=\"col_heading level0 col0\" >model</th>\n",
       "      <th class=\"col_heading level0 col1\" >auc</th>\n",
       "      <th class=\"col_heading level0 col2\" >f1_score</th>\n",
       "      <th class=\"col_heading level0 col3\" >average_precision_score</th>\n",
       "    </tr>\n",
       "  </thead>\n",
       "  <tbody>\n",
       "    <tr>\n",
       "      <th id=\"T_46492_level0_row0\" class=\"row_heading level0 row0\" >1</th>\n",
       "      <td id=\"T_46492_row0_col0\" class=\"data row0 col0\" >m2_catboost</td>\n",
       "      <td id=\"T_46492_row0_col1\" class=\"data row0 col1\" >0.866293</td>\n",
       "      <td id=\"T_46492_row0_col2\" class=\"data row0 col2\" >0.289173</td>\n",
       "      <td id=\"T_46492_row0_col3\" class=\"data row0 col3\" >0.400756</td>\n",
       "    </tr>\n",
       "    <tr>\n",
       "      <th id=\"T_46492_level0_row1\" class=\"row_heading level0 row1\" >0</th>\n",
       "      <td id=\"T_46492_row1_col0\" class=\"data row1 col0\" >m1_hgbc</td>\n",
       "      <td id=\"T_46492_row1_col1\" class=\"data row1 col1\" >0.865434</td>\n",
       "      <td id=\"T_46492_row1_col2\" class=\"data row1 col2\" >0.279313</td>\n",
       "      <td id=\"T_46492_row1_col3\" class=\"data row1 col3\" >0.403261</td>\n",
       "    </tr>\n",
       "    <tr>\n",
       "      <th id=\"T_46492_level0_row2\" class=\"row_heading level0 row2\" >5</th>\n",
       "      <td id=\"T_46492_row2_col0\" class=\"data row2 col0\" >m6_lgbm1</td>\n",
       "      <td id=\"T_46492_row2_col1\" class=\"data row2 col1\" >0.864935</td>\n",
       "      <td id=\"T_46492_row2_col2\" class=\"data row2 col2\" >0.292513</td>\n",
       "      <td id=\"T_46492_row2_col3\" class=\"data row2 col3\" >0.400006</td>\n",
       "    </tr>\n",
       "    <tr>\n",
       "      <th id=\"T_46492_level0_row3\" class=\"row_heading level0 row3\" >6</th>\n",
       "      <td id=\"T_46492_row3_col0\" class=\"data row3 col0\" >m7_lgbm2</td>\n",
       "      <td id=\"T_46492_row3_col1\" class=\"data row3 col1\" >0.864804</td>\n",
       "      <td id=\"T_46492_row3_col2\" class=\"data row3 col2\" >0.294483</td>\n",
       "      <td id=\"T_46492_row3_col3\" class=\"data row3 col3\" >0.400505</td>\n",
       "    </tr>\n",
       "    <tr>\n",
       "      <th id=\"T_46492_level0_row4\" class=\"row_heading level0 row4\" >4</th>\n",
       "      <td id=\"T_46492_row4_col0\" class=\"data row4 col0\" >m5_RF</td>\n",
       "      <td id=\"T_46492_row4_col1\" class=\"data row4 col1\" >0.863872</td>\n",
       "      <td id=\"T_46492_row4_col2\" class=\"data row4 col2\" >0.276701</td>\n",
       "      <td id=\"T_46492_row4_col3\" class=\"data row4 col3\" >0.396000</td>\n",
       "    </tr>\n",
       "    <tr>\n",
       "      <th id=\"T_46492_level0_row5\" class=\"row_heading level0 row5\" >3</th>\n",
       "      <td id=\"T_46492_row5_col0\" class=\"data row5 col0\" >m4_LR</td>\n",
       "      <td id=\"T_46492_row5_col1\" class=\"data row5 col1\" >0.862013</td>\n",
       "      <td id=\"T_46492_row5_col2\" class=\"data row5 col2\" >0.259481</td>\n",
       "      <td id=\"T_46492_row5_col3\" class=\"data row5 col3\" >0.381870</td>\n",
       "    </tr>\n",
       "    <tr>\n",
       "      <th id=\"T_46492_level0_row6\" class=\"row_heading level0 row6\" >2</th>\n",
       "      <td id=\"T_46492_row6_col0\" class=\"data row6 col0\" >m3_xgbr</td>\n",
       "      <td id=\"T_46492_row6_col1\" class=\"data row6 col1\" >0.855243</td>\n",
       "      <td id=\"T_46492_row6_col2\" class=\"data row6 col2\" >0.294449</td>\n",
       "      <td id=\"T_46492_row6_col3\" class=\"data row6 col3\" >0.372796</td>\n",
       "    </tr>\n",
       "  </tbody>\n",
       "</table>\n"
      ],
      "text/plain": [
       "<pandas.io.formats.style.Styler at 0x7ff415ac7790>"
      ]
     },
     "execution_count": 35,
     "metadata": {},
     "output_type": "execute_result"
    }
   ],
   "source": [
    "cm = sns.light_palette(\"blue\", as_cmap=True)\n",
    "\n",
    "df_results.sort_values(by='auc',ascending=False).style.background_gradient(cmap=cm).highlight_max(axis=0, color='red')"
   ]
  },
  {
   "cell_type": "code",
   "execution_count": 36,
   "id": "10d62be3",
   "metadata": {
    "execution": {
     "iopub.execute_input": "2021-12-27T15:31:38.851774Z",
     "iopub.status.busy": "2021-12-27T15:31:38.851007Z",
     "iopub.status.idle": "2021-12-27T15:31:38.875568Z",
     "shell.execute_reply": "2021-12-27T15:31:38.876088Z",
     "shell.execute_reply.started": "2021-12-27T14:34:36.546441Z"
    },
    "papermill": {
     "duration": 0.107957,
     "end_time": "2021-12-27T15:31:38.876285",
     "exception": false,
     "start_time": "2021-12-27T15:31:38.768328",
     "status": "completed"
    },
    "tags": []
   },
   "outputs": [
    {
     "data": {
      "text/html": [
       "<style type=\"text/css\">\n",
       "#T_04a50_row0_col0 {\n",
       "  background-color: red;\n",
       "}\n",
       "#T_04a50_row0_col1 {\n",
       "  background-color: #2020fd;\n",
       "  color: #f1f1f1;\n",
       "}\n",
       "#T_04a50_row0_col2, #T_04a50_row3_col1, #T_04a50_row4_col3 {\n",
       "  background-color: #0000ff;\n",
       "  color: #f1f1f1;\n",
       "  background-color: red;\n",
       "}\n",
       "#T_04a50_row0_col3 {\n",
       "  background-color: #1616fe;\n",
       "  color: #f1f1f1;\n",
       "}\n",
       "#T_04a50_row1_col1, #T_04a50_row1_col3, #T_04a50_row6_col2 {\n",
       "  background-color: #f0f0f3;\n",
       "  color: #000000;\n",
       "}\n",
       "#T_04a50_row1_col2 {\n",
       "  background-color: #0000ff;\n",
       "  color: #f1f1f1;\n",
       "}\n",
       "#T_04a50_row2_col1 {\n",
       "  background-color: #1d1dfe;\n",
       "  color: #f1f1f1;\n",
       "}\n",
       "#T_04a50_row2_col2 {\n",
       "  background-color: #0d0dfe;\n",
       "  color: #f1f1f1;\n",
       "}\n",
       "#T_04a50_row2_col3 {\n",
       "  background-color: #1919fe;\n",
       "  color: #f1f1f1;\n",
       "}\n",
       "#T_04a50_row3_col2 {\n",
       "  background-color: #2424fd;\n",
       "  color: #f1f1f1;\n",
       "}\n",
       "#T_04a50_row3_col3 {\n",
       "  background-color: #1414fe;\n",
       "  color: #f1f1f1;\n",
       "}\n",
       "#T_04a50_row4_col1 {\n",
       "  background-color: #1212fe;\n",
       "  color: #f1f1f1;\n",
       "}\n",
       "#T_04a50_row4_col2 {\n",
       "  background-color: #6868fa;\n",
       "  color: #f1f1f1;\n",
       "}\n",
       "#T_04a50_row5_col1 {\n",
       "  background-color: #3535fc;\n",
       "  color: #f1f1f1;\n",
       "}\n",
       "#T_04a50_row5_col2 {\n",
       "  background-color: #7b7bf9;\n",
       "  color: #f1f1f1;\n",
       "}\n",
       "#T_04a50_row5_col3 {\n",
       "  background-color: #3a3afc;\n",
       "  color: #f1f1f1;\n",
       "}\n",
       "#T_04a50_row6_col1 {\n",
       "  background-color: #5d5dfa;\n",
       "  color: #f1f1f1;\n",
       "}\n",
       "#T_04a50_row6_col3 {\n",
       "  background-color: #a9a9f6;\n",
       "  color: #000000;\n",
       "}\n",
       "</style>\n",
       "<table id=\"T_04a50_\">\n",
       "  <thead>\n",
       "    <tr>\n",
       "      <th class=\"blank level0\" >&nbsp;</th>\n",
       "      <th class=\"col_heading level0 col0\" >model</th>\n",
       "      <th class=\"col_heading level0 col1\" >auc</th>\n",
       "      <th class=\"col_heading level0 col2\" >f1_score</th>\n",
       "      <th class=\"col_heading level0 col3\" >average_precision_score</th>\n",
       "    </tr>\n",
       "  </thead>\n",
       "  <tbody>\n",
       "    <tr>\n",
       "      <th id=\"T_04a50_level0_row0\" class=\"row_heading level0 row0\" >6</th>\n",
       "      <td id=\"T_04a50_row0_col0\" class=\"data row0 col0\" >m7_lgbm2</td>\n",
       "      <td id=\"T_04a50_row0_col1\" class=\"data row0 col1\" >0.864804</td>\n",
       "      <td id=\"T_04a50_row0_col2\" class=\"data row0 col2\" >0.294483</td>\n",
       "      <td id=\"T_04a50_row0_col3\" class=\"data row0 col3\" >0.400505</td>\n",
       "    </tr>\n",
       "    <tr>\n",
       "      <th id=\"T_04a50_level0_row1\" class=\"row_heading level0 row1\" >2</th>\n",
       "      <td id=\"T_04a50_row1_col0\" class=\"data row1 col0\" >m3_xgbr</td>\n",
       "      <td id=\"T_04a50_row1_col1\" class=\"data row1 col1\" >0.855243</td>\n",
       "      <td id=\"T_04a50_row1_col2\" class=\"data row1 col2\" >0.294449</td>\n",
       "      <td id=\"T_04a50_row1_col3\" class=\"data row1 col3\" >0.372796</td>\n",
       "    </tr>\n",
       "    <tr>\n",
       "      <th id=\"T_04a50_level0_row2\" class=\"row_heading level0 row2\" >5</th>\n",
       "      <td id=\"T_04a50_row2_col0\" class=\"data row2 col0\" >m6_lgbm1</td>\n",
       "      <td id=\"T_04a50_row2_col1\" class=\"data row2 col1\" >0.864935</td>\n",
       "      <td id=\"T_04a50_row2_col2\" class=\"data row2 col2\" >0.292513</td>\n",
       "      <td id=\"T_04a50_row2_col3\" class=\"data row2 col3\" >0.400006</td>\n",
       "    </tr>\n",
       "    <tr>\n",
       "      <th id=\"T_04a50_level0_row3\" class=\"row_heading level0 row3\" >1</th>\n",
       "      <td id=\"T_04a50_row3_col0\" class=\"data row3 col0\" >m2_catboost</td>\n",
       "      <td id=\"T_04a50_row3_col1\" class=\"data row3 col1\" >0.866293</td>\n",
       "      <td id=\"T_04a50_row3_col2\" class=\"data row3 col2\" >0.289173</td>\n",
       "      <td id=\"T_04a50_row3_col3\" class=\"data row3 col3\" >0.400756</td>\n",
       "    </tr>\n",
       "    <tr>\n",
       "      <th id=\"T_04a50_level0_row4\" class=\"row_heading level0 row4\" >0</th>\n",
       "      <td id=\"T_04a50_row4_col0\" class=\"data row4 col0\" >m1_hgbc</td>\n",
       "      <td id=\"T_04a50_row4_col1\" class=\"data row4 col1\" >0.865434</td>\n",
       "      <td id=\"T_04a50_row4_col2\" class=\"data row4 col2\" >0.279313</td>\n",
       "      <td id=\"T_04a50_row4_col3\" class=\"data row4 col3\" >0.403261</td>\n",
       "    </tr>\n",
       "    <tr>\n",
       "      <th id=\"T_04a50_level0_row5\" class=\"row_heading level0 row5\" >4</th>\n",
       "      <td id=\"T_04a50_row5_col0\" class=\"data row5 col0\" >m5_RF</td>\n",
       "      <td id=\"T_04a50_row5_col1\" class=\"data row5 col1\" >0.863872</td>\n",
       "      <td id=\"T_04a50_row5_col2\" class=\"data row5 col2\" >0.276701</td>\n",
       "      <td id=\"T_04a50_row5_col3\" class=\"data row5 col3\" >0.396000</td>\n",
       "    </tr>\n",
       "    <tr>\n",
       "      <th id=\"T_04a50_level0_row6\" class=\"row_heading level0 row6\" >3</th>\n",
       "      <td id=\"T_04a50_row6_col0\" class=\"data row6 col0\" >m4_LR</td>\n",
       "      <td id=\"T_04a50_row6_col1\" class=\"data row6 col1\" >0.862013</td>\n",
       "      <td id=\"T_04a50_row6_col2\" class=\"data row6 col2\" >0.259481</td>\n",
       "      <td id=\"T_04a50_row6_col3\" class=\"data row6 col3\" >0.381870</td>\n",
       "    </tr>\n",
       "  </tbody>\n",
       "</table>\n"
      ],
      "text/plain": [
       "<pandas.io.formats.style.Styler at 0x7ff4144bfa10>"
      ]
     },
     "execution_count": 36,
     "metadata": {},
     "output_type": "execute_result"
    }
   ],
   "source": [
    "df_results.sort_values(by='f1_score',ascending=False).style.background_gradient(cmap=cm).highlight_max(axis=0, color='red')"
   ]
  },
  {
   "cell_type": "code",
   "execution_count": 37,
   "id": "b040a42b",
   "metadata": {
    "execution": {
     "iopub.execute_input": "2021-12-27T15:31:39.037579Z",
     "iopub.status.busy": "2021-12-27T15:31:39.036889Z",
     "iopub.status.idle": "2021-12-27T15:31:39.054430Z",
     "shell.execute_reply": "2021-12-27T15:31:39.054955Z",
     "shell.execute_reply.started": "2021-12-27T14:31:10.538648Z"
    },
    "papermill": {
     "duration": 0.099635,
     "end_time": "2021-12-27T15:31:39.055134",
     "exception": false,
     "start_time": "2021-12-27T15:31:38.955499",
     "status": "completed"
    },
    "tags": []
   },
   "outputs": [
    {
     "data": {
      "text/html": [
       "<style type=\"text/css\">\n",
       "#T_95174_row0_col1 {\n",
       "  background-color: #1212fe;\n",
       "  color: #f1f1f1;\n",
       "}\n",
       "#T_95174_row0_col2 {\n",
       "  background-color: #6868fa;\n",
       "  color: #f1f1f1;\n",
       "}\n",
       "#T_95174_row0_col3, #T_95174_row1_col1, #T_95174_row2_col2, #T_95174_row6_col2 {\n",
       "  background-color: #0000ff;\n",
       "  color: #f1f1f1;\n",
       "}\n",
       "#T_95174_row1_col2 {\n",
       "  background-color: #2424fd;\n",
       "  color: #f1f1f1;\n",
       "}\n",
       "#T_95174_row1_col3 {\n",
       "  background-color: #1414fe;\n",
       "  color: #f1f1f1;\n",
       "}\n",
       "#T_95174_row2_col1 {\n",
       "  background-color: #2020fd;\n",
       "  color: #f1f1f1;\n",
       "}\n",
       "#T_95174_row2_col3 {\n",
       "  background-color: #1616fe;\n",
       "  color: #f1f1f1;\n",
       "}\n",
       "#T_95174_row3_col1 {\n",
       "  background-color: #1d1dfe;\n",
       "  color: #f1f1f1;\n",
       "}\n",
       "#T_95174_row3_col2 {\n",
       "  background-color: #0d0dfe;\n",
       "  color: #f1f1f1;\n",
       "}\n",
       "#T_95174_row3_col3 {\n",
       "  background-color: #1919fe;\n",
       "  color: #f1f1f1;\n",
       "}\n",
       "#T_95174_row4_col1 {\n",
       "  background-color: #3535fc;\n",
       "  color: #f1f1f1;\n",
       "}\n",
       "#T_95174_row4_col2 {\n",
       "  background-color: #7b7bf9;\n",
       "  color: #f1f1f1;\n",
       "}\n",
       "#T_95174_row4_col3 {\n",
       "  background-color: #3a3afc;\n",
       "  color: #f1f1f1;\n",
       "}\n",
       "#T_95174_row5_col1 {\n",
       "  background-color: #5d5dfa;\n",
       "  color: #f1f1f1;\n",
       "}\n",
       "#T_95174_row5_col2, #T_95174_row6_col1, #T_95174_row6_col3 {\n",
       "  background-color: #f0f0f3;\n",
       "  color: #000000;\n",
       "}\n",
       "#T_95174_row5_col3 {\n",
       "  background-color: #a9a9f6;\n",
       "  color: #000000;\n",
       "}\n",
       "</style>\n",
       "<table id=\"T_95174_\">\n",
       "  <thead>\n",
       "    <tr>\n",
       "      <th class=\"blank level0\" >&nbsp;</th>\n",
       "      <th class=\"col_heading level0 col0\" >model</th>\n",
       "      <th class=\"col_heading level0 col1\" >auc</th>\n",
       "      <th class=\"col_heading level0 col2\" >f1_score</th>\n",
       "      <th class=\"col_heading level0 col3\" >average_precision_score</th>\n",
       "    </tr>\n",
       "  </thead>\n",
       "  <tbody>\n",
       "    <tr>\n",
       "      <th id=\"T_95174_level0_row0\" class=\"row_heading level0 row0\" >0</th>\n",
       "      <td id=\"T_95174_row0_col0\" class=\"data row0 col0\" >m1_hgbc</td>\n",
       "      <td id=\"T_95174_row0_col1\" class=\"data row0 col1\" >0.865434</td>\n",
       "      <td id=\"T_95174_row0_col2\" class=\"data row0 col2\" >0.279313</td>\n",
       "      <td id=\"T_95174_row0_col3\" class=\"data row0 col3\" >0.403261</td>\n",
       "    </tr>\n",
       "    <tr>\n",
       "      <th id=\"T_95174_level0_row1\" class=\"row_heading level0 row1\" >1</th>\n",
       "      <td id=\"T_95174_row1_col0\" class=\"data row1 col0\" >m2_catboost</td>\n",
       "      <td id=\"T_95174_row1_col1\" class=\"data row1 col1\" >0.866293</td>\n",
       "      <td id=\"T_95174_row1_col2\" class=\"data row1 col2\" >0.289173</td>\n",
       "      <td id=\"T_95174_row1_col3\" class=\"data row1 col3\" >0.400756</td>\n",
       "    </tr>\n",
       "    <tr>\n",
       "      <th id=\"T_95174_level0_row2\" class=\"row_heading level0 row2\" >6</th>\n",
       "      <td id=\"T_95174_row2_col0\" class=\"data row2 col0\" >m7_lgbm2</td>\n",
       "      <td id=\"T_95174_row2_col1\" class=\"data row2 col1\" >0.864804</td>\n",
       "      <td id=\"T_95174_row2_col2\" class=\"data row2 col2\" >0.294483</td>\n",
       "      <td id=\"T_95174_row2_col3\" class=\"data row2 col3\" >0.400505</td>\n",
       "    </tr>\n",
       "    <tr>\n",
       "      <th id=\"T_95174_level0_row3\" class=\"row_heading level0 row3\" >5</th>\n",
       "      <td id=\"T_95174_row3_col0\" class=\"data row3 col0\" >m6_lgbm1</td>\n",
       "      <td id=\"T_95174_row3_col1\" class=\"data row3 col1\" >0.864935</td>\n",
       "      <td id=\"T_95174_row3_col2\" class=\"data row3 col2\" >0.292513</td>\n",
       "      <td id=\"T_95174_row3_col3\" class=\"data row3 col3\" >0.400006</td>\n",
       "    </tr>\n",
       "    <tr>\n",
       "      <th id=\"T_95174_level0_row4\" class=\"row_heading level0 row4\" >4</th>\n",
       "      <td id=\"T_95174_row4_col0\" class=\"data row4 col0\" >m5_RF</td>\n",
       "      <td id=\"T_95174_row4_col1\" class=\"data row4 col1\" >0.863872</td>\n",
       "      <td id=\"T_95174_row4_col2\" class=\"data row4 col2\" >0.276701</td>\n",
       "      <td id=\"T_95174_row4_col3\" class=\"data row4 col3\" >0.396000</td>\n",
       "    </tr>\n",
       "    <tr>\n",
       "      <th id=\"T_95174_level0_row5\" class=\"row_heading level0 row5\" >3</th>\n",
       "      <td id=\"T_95174_row5_col0\" class=\"data row5 col0\" >m4_LR</td>\n",
       "      <td id=\"T_95174_row5_col1\" class=\"data row5 col1\" >0.862013</td>\n",
       "      <td id=\"T_95174_row5_col2\" class=\"data row5 col2\" >0.259481</td>\n",
       "      <td id=\"T_95174_row5_col3\" class=\"data row5 col3\" >0.381870</td>\n",
       "    </tr>\n",
       "    <tr>\n",
       "      <th id=\"T_95174_level0_row6\" class=\"row_heading level0 row6\" >2</th>\n",
       "      <td id=\"T_95174_row6_col0\" class=\"data row6 col0\" >m3_xgbr</td>\n",
       "      <td id=\"T_95174_row6_col1\" class=\"data row6 col1\" >0.855243</td>\n",
       "      <td id=\"T_95174_row6_col2\" class=\"data row6 col2\" >0.294449</td>\n",
       "      <td id=\"T_95174_row6_col3\" class=\"data row6 col3\" >0.372796</td>\n",
       "    </tr>\n",
       "  </tbody>\n",
       "</table>\n"
      ],
      "text/plain": [
       "<pandas.io.formats.style.Styler at 0x7ff414465e50>"
      ]
     },
     "execution_count": 37,
     "metadata": {},
     "output_type": "execute_result"
    }
   ],
   "source": [
    "df_results.sort_values(by='average_precision_score',ascending=False).style.background_gradient(cmap=cm)"
   ]
  },
  {
   "cell_type": "code",
   "execution_count": 38,
   "id": "50711c79",
   "metadata": {
    "execution": {
     "iopub.execute_input": "2021-12-27T15:31:39.217787Z",
     "iopub.status.busy": "2021-12-27T15:31:39.217136Z",
     "iopub.status.idle": "2021-12-27T15:31:39.220809Z",
     "shell.execute_reply": "2021-12-27T15:31:39.221320Z"
    },
    "papermill": {
     "duration": 0.086429,
     "end_time": "2021-12-27T15:31:39.221498",
     "exception": false,
     "start_time": "2021-12-27T15:31:39.135069",
     "status": "completed"
    },
    "tags": []
   },
   "outputs": [],
   "source": [
    "#pipe_lgbm_woe_powertransformer.fit(X,y)\n",
    "#predictions =pipe_lgbm_woe_powertransformer.predict_proba(X_test_final)[:,1]"
   ]
  },
  {
   "cell_type": "code",
   "execution_count": 39,
   "id": "8b3dde0f",
   "metadata": {
    "execution": {
     "iopub.execute_input": "2021-12-27T15:31:39.383608Z",
     "iopub.status.busy": "2021-12-27T15:31:39.382941Z",
     "iopub.status.idle": "2021-12-27T15:31:39.399042Z",
     "shell.execute_reply": "2021-12-27T15:31:39.399615Z"
    },
    "papermill": {
     "duration": 0.100281,
     "end_time": "2021-12-27T15:31:39.399828",
     "exception": false,
     "start_time": "2021-12-27T15:31:39.299547",
     "status": "completed"
    },
    "tags": []
   },
   "outputs": [],
   "source": [
    "predictions = np.mean(np.column_stack(predictions), axis=1)"
   ]
  },
  {
   "cell_type": "code",
   "execution_count": 40,
   "id": "12d75d84",
   "metadata": {
    "execution": {
     "iopub.execute_input": "2021-12-27T15:31:39.563982Z",
     "iopub.status.busy": "2021-12-27T15:31:39.563350Z",
     "iopub.status.idle": "2021-12-27T15:31:40.054983Z",
     "shell.execute_reply": "2021-12-27T15:31:40.055539Z"
    },
    "papermill": {
     "duration": 0.575245,
     "end_time": "2021-12-27T15:31:40.055723",
     "exception": false,
     "start_time": "2021-12-27T15:31:39.480478",
     "status": "completed"
    },
    "tags": []
   },
   "outputs": [
    {
     "data": {
      "text/html": [
       "<div>\n",
       "<style scoped>\n",
       "    .dataframe tbody tr th:only-of-type {\n",
       "        vertical-align: middle;\n",
       "    }\n",
       "\n",
       "    .dataframe tbody tr th {\n",
       "        vertical-align: top;\n",
       "    }\n",
       "\n",
       "    .dataframe thead th {\n",
       "        text-align: right;\n",
       "    }\n",
       "</style>\n",
       "<table border=\"1\" class=\"dataframe\">\n",
       "  <thead>\n",
       "    <tr style=\"text-align: right;\">\n",
       "      <th></th>\n",
       "      <th>Id</th>\n",
       "      <th>Probability</th>\n",
       "    </tr>\n",
       "  </thead>\n",
       "  <tbody>\n",
       "    <tr>\n",
       "      <th>0</th>\n",
       "      <td>1</td>\n",
       "      <td>0.049593</td>\n",
       "    </tr>\n",
       "    <tr>\n",
       "      <th>1</th>\n",
       "      <td>2</td>\n",
       "      <td>0.034282</td>\n",
       "    </tr>\n",
       "    <tr>\n",
       "      <th>2</th>\n",
       "      <td>3</td>\n",
       "      <td>0.014106</td>\n",
       "    </tr>\n",
       "    <tr>\n",
       "      <th>3</th>\n",
       "      <td>4</td>\n",
       "      <td>0.057494</td>\n",
       "    </tr>\n",
       "    <tr>\n",
       "      <th>4</th>\n",
       "      <td>5</td>\n",
       "      <td>0.117421</td>\n",
       "    </tr>\n",
       "    <tr>\n",
       "      <th>...</th>\n",
       "      <td>...</td>\n",
       "      <td>...</td>\n",
       "    </tr>\n",
       "    <tr>\n",
       "      <th>101498</th>\n",
       "      <td>101499</td>\n",
       "      <td>0.031084</td>\n",
       "    </tr>\n",
       "    <tr>\n",
       "      <th>101499</th>\n",
       "      <td>101500</td>\n",
       "      <td>0.381699</td>\n",
       "    </tr>\n",
       "    <tr>\n",
       "      <th>101500</th>\n",
       "      <td>101501</td>\n",
       "      <td>0.006950</td>\n",
       "    </tr>\n",
       "    <tr>\n",
       "      <th>101501</th>\n",
       "      <td>101502</td>\n",
       "      <td>0.065035</td>\n",
       "    </tr>\n",
       "    <tr>\n",
       "      <th>101502</th>\n",
       "      <td>101503</td>\n",
       "      <td>0.030633</td>\n",
       "    </tr>\n",
       "  </tbody>\n",
       "</table>\n",
       "<p>101503 rows × 2 columns</p>\n",
       "</div>"
      ],
      "text/plain": [
       "            Id  Probability\n",
       "0            1     0.049593\n",
       "1            2     0.034282\n",
       "2            3     0.014106\n",
       "3            4     0.057494\n",
       "4            5     0.117421\n",
       "...        ...          ...\n",
       "101498  101499     0.031084\n",
       "101499  101500     0.381699\n",
       "101500  101501     0.006950\n",
       "101501  101502     0.065035\n",
       "101502  101503     0.030633\n",
       "\n",
       "[101503 rows x 2 columns]"
      ]
     },
     "execution_count": 40,
     "metadata": {},
     "output_type": "execute_result"
    }
   ],
   "source": [
    "# Save the predictions to a CSV file\n",
    "sub = pd.read_csv('../input/GiveMeSomeCredit/sampleEntry.csv')\n",
    "sub['Probability']=predictions\n",
    "sub.to_csv('pipe_lgbm_woe_powertransformer_estimator_XGB_CV_onlynum_fe_V3.csv', index=False)\n",
    "sub"
   ]
  },
  {
   "cell_type": "markdown",
   "id": "d1fa2bb2",
   "metadata": {
    "papermill": {
     "duration": 0.078933,
     "end_time": "2021-12-27T15:31:40.215811",
     "exception": false,
     "start_time": "2021-12-27T15:31:40.136878",
     "status": "completed"
    },
    "tags": []
   },
   "source": [
    "# Conclusion: \n",
    "\n",
    "1. A model that meets the requirements and constraints of project stakeholders.\n",
    "1. A model that is sufficiently skillful given the time and resources available.\n",
    "1. A model that is skillful as compared to naive models.\n",
    "1. A model that is skillful relative to other tested models.\n",
    "1. A model that is skillful relative to the state-of-the-art."
   ]
  }
 ],
 "metadata": {
  "kernelspec": {
   "display_name": "Python 3",
   "language": "python",
   "name": "python3"
  },
  "language_info": {
   "codemirror_mode": {
    "name": "ipython",
    "version": 3
   },
   "file_extension": ".py",
   "mimetype": "text/x-python",
   "name": "python",
   "nbconvert_exporter": "python",
   "pygments_lexer": "ipython3",
   "version": "3.7.12"
  },
  "papermill": {
   "default_parameters": {},
   "duration": 3333.703774,
   "end_time": "2021-12-27T15:31:41.816603",
   "environment_variables": {},
   "exception": null,
   "input_path": "__notebook__.ipynb",
   "output_path": "__notebook__.ipynb",
   "parameters": {},
   "start_time": "2021-12-27T14:36:08.112829",
   "version": "2.3.3"
  }
 },
 "nbformat": 4,
 "nbformat_minor": 5
}
