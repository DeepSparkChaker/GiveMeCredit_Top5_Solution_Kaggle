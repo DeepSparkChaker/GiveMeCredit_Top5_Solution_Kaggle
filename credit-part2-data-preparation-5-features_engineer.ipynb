{
 "cells": [
  {
   "cell_type": "markdown",
   "id": "04bab3e9",
   "metadata": {
    "papermill": {
     "duration": 0.040642,
     "end_time": "2021-12-27T11:25:42.332444",
     "exception": false,
     "start_time": "2021-12-27T11:25:42.291802",
     "status": "completed"
    },
    "tags": []
   },
   "source": [
    "# Feature Engineering\n",
    "\n",
    "Feature engineering is the act of taking raw data and extracting features from it that are suitable for tasks like machine learning. Most machine learning algorithms work with tabular data. When we talk about features, we are referring to the information stored in the columns of these tables. \n",
    "\n",
    "Most machine learning algorithms require their input data to be represented as a vector or a matrix, and many assume that the data is distributed normally. In the real world, more often than not you will receive data that is not in this format. You will also need to work with many different types of data, some data types you will often encounter are: continuous variables, categorical data, ordinal data, boolean values, and dates and times. Dealing with these is manageable, but requires a well thought out approach. Feature engineering is often overlooked in machine learning discussions, but any real-world practitioner will confirm that data manipulation and feature engineering is the most important aspect of the project.\n",
    "\n",
    "## Load Lib "
   ]
  },
  {
   "cell_type": "code",
   "execution_count": 1,
   "id": "1989f9ee",
   "metadata": {
    "_cell_guid": "ddedf45c-cdd2-4013-973f-6ccf6c78347a",
    "_uuid": "20c9b28e-4c93-447d-8210-cad89f404354",
    "collapsed": false,
    "execution": {
     "iopub.execute_input": "2021-12-27T11:25:42.421841Z",
     "iopub.status.busy": "2021-12-27T11:25:42.421173Z",
     "iopub.status.idle": "2021-12-27T11:25:45.414178Z",
     "shell.execute_reply": "2021-12-27T11:25:45.414701Z",
     "shell.execute_reply.started": "2021-12-24T09:12:31.499696Z"
    },
    "jupyter": {
     "outputs_hidden": false
    },
    "papermill": {
     "duration": 3.04144,
     "end_time": "2021-12-27T11:25:45.415007",
     "exception": false,
     "start_time": "2021-12-27T11:25:42.373567",
     "status": "completed"
    },
    "tags": []
   },
   "outputs": [
    {
     "data": {
      "text/html": [
       "<style type='text/css'>\n",
       ".datatable table.frame { margin-bottom: 0; }\n",
       ".datatable table.frame thead { border-bottom: none; }\n",
       ".datatable table.frame tr.coltypes td {  color: #FFFFFF;  line-height: 6px;  padding: 0 0.5em;}\n",
       ".datatable .bool    { background: #DDDD99; }\n",
       ".datatable .object  { background: #565656; }\n",
       ".datatable .int     { background: #5D9E5D; }\n",
       ".datatable .float   { background: #4040CC; }\n",
       ".datatable .str     { background: #CC4040; }\n",
       ".datatable .time    { background: #40CC40; }\n",
       ".datatable .row_index {  background: var(--jp-border-color3);  border-right: 1px solid var(--jp-border-color0);  color: var(--jp-ui-font-color3);  font-size: 9px;}\n",
       ".datatable .frame tbody td { text-align: left; }\n",
       ".datatable .frame tr.coltypes .row_index {  background: var(--jp-border-color0);}\n",
       ".datatable th:nth-child(2) { padding-left: 12px; }\n",
       ".datatable .hellipsis {  color: var(--jp-cell-editor-border-color);}\n",
       ".datatable .vellipsis {  background: var(--jp-layout-color0);  color: var(--jp-cell-editor-border-color);}\n",
       ".datatable .na {  color: var(--jp-cell-editor-border-color);  font-size: 80%;}\n",
       ".datatable .sp {  opacity: 0.25;}\n",
       ".datatable .footer { font-size: 9px; }\n",
       ".datatable .frame_dimensions {  background: var(--jp-border-color3);  border-top: 1px solid var(--jp-border-color0);  color: var(--jp-ui-font-color3);  display: inline-block;  opacity: 0.6;  padding: 1px 10px 1px 5px;}\n",
       ".datatable .frame thead tr.colnames {  background-image: url('data:image/png;base64,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');  background-repeat: repeat-x;  background-size: 14px;  height: 28px;}\n",
       "</style>\n"
      ],
      "text/plain": [
       "<IPython.core.display.HTML object>"
      ]
     },
     "metadata": {},
     "output_type": "display_data"
    }
   ],
   "source": [
    "#Load the librarys\n",
    "import pandas as pd #To work with dataset\n",
    "import numpy as np #Math library\n",
    "import matplotlib.gridspec as gridspec\n",
    "import seaborn as sns #Graph library that use matplot in background\n",
    "import matplotlib.pyplot as plt #to plot some parameters in seaborn\n",
    "import warnings\n",
    "# Preparation  \n",
    "from sklearn.preprocessing import LabelEncoder, OrdinalEncoder\n",
    "from sklearn.preprocessing import OneHotEncoder\n",
    "from sklearn.preprocessing import PowerTransformer, StandardScaler,Normalizer,RobustScaler,MaxAbsScaler,MinMaxScaler,QuantileTransformer\n",
    "from sklearn.preprocessing import FunctionTransformer\n",
    "from sklearn.preprocessing import PolynomialFeatures\n",
    "from sklearn.neighbors import KNeighborsClassifier\n",
    "from sklearn.preprocessing import KBinsDiscretizer\n",
    "# Import StandardScaler from scikit-learn\n",
    "\n",
    "from sklearn.experimental import enable_iterative_imputer\n",
    "from sklearn.impute import SimpleImputer\n",
    "from sklearn.impute import KNNImputer,IterativeImputer\n",
    "from sklearn.feature_extraction.text import CountVectorizer\n",
    "from sklearn.compose import make_column_transformer,ColumnTransformer\n",
    "from sklearn.pipeline import make_pipeline, Pipeline,FeatureUnion\n",
    "from sklearn.manifold import TSNE\n",
    "# Import train_test_split()\n",
    "# Metrics\n",
    "from sklearn.metrics import roc_auc_score, average_precision_score\n",
    "from sklearn.metrics import make_scorer,mean_absolute_error\n",
    "from sklearn.metrics import mean_squared_error\n",
    "from sklearn.metrics import roc_curve,confusion_matrix\n",
    "from datetime import datetime, date\n",
    "from sklearn.linear_model import ElasticNet, Lasso,  BayesianRidge, LassoLarsIC\n",
    "from sklearn.linear_model import LinearRegression, RidgeCV\n",
    "from sklearn.linear_model import LogisticRegression\n",
    "\n",
    "#import tensorflow as tf \n",
    "#from tensorflow.keras import layers\n",
    "#from tensorflow.keras.callbacks import EarlyStopping\n",
    "#from tensorflow.keras.callbacks import LearningRateScheduler\n",
    "#import smogn\n",
    "from sklearn.experimental import enable_hist_gradient_boosting\n",
    "from sklearn.base import BaseEstimator, TransformerMixin, RegressorMixin, clone\n",
    "from sklearn.kernel_ridge import KernelRidge\n",
    "from sklearn.ensemble import GradientBoostingRegressor,RandomForestRegressor\n",
    "from sklearn.ensemble import RandomForestClassifier\n",
    "from sklearn.ensemble import HistGradientBoostingClassifier\n",
    "# For training random forest model\n",
    "import lightgbm as lgb\n",
    "from scipy import sparse\n",
    "from sklearn.neighbors import KNeighborsRegressor \n",
    "from sklearn.decomposition import PCA\n",
    "from sklearn.cluster import KMeans\n",
    "from yellowbrick.cluster import KElbowVisualizer\n",
    "# Model selection\n",
    "from sklearn.model_selection import StratifiedKFold\n",
    "from sklearn.feature_selection import SelectKBest\n",
    "from sklearn.feature_selection import f_regression,f_classif,chi2\n",
    "from sklearn.feature_selection import mutual_info_regression\n",
    "from sklearn.feature_selection import SelectPercentile\n",
    "from sklearn.feature_selection import mutual_info_classif,VarianceThreshold\n",
    "\n",
    "from sklearn.model_selection import train_test_split\n",
    "from sklearn.model_selection import KFold\n",
    "from sklearn.model_selection import GridSearchCV\n",
    "from sklearn.model_selection import cross_val_score\n",
    "from lightgbm import LGBMClassifier\n",
    "import lightgbm as lgbm\n",
    "#from catboost import CatBoostRegressor, CatBoostClassifier\n",
    "from sklearn.naive_bayes import GaussianNB\n",
    "from sklearn import svm\n",
    "from xgboost import XGBClassifier,XGBRegressor\n",
    "from sklearn import set_config\n",
    "from itertools import combinations\n",
    "# Cluster :\n",
    "from sklearn.cluster import MiniBatchKMeans\n",
    "#from yellowbrick.cluster import KElbowVisualizer\n",
    "#import smong \n",
    "import category_encoders as ce\n",
    "import warnings\n",
    "#import optuna \n",
    "from joblib import Parallel, delayed\n",
    "import joblib \n",
    "from sklearn import set_config\n",
    "from typing import List, Optional, Union\n",
    "set_config(display='diagram')\n",
    "warnings.filterwarnings('ignore')"
   ]
  },
  {
   "cell_type": "markdown",
   "id": "5babfabb",
   "metadata": {
    "_cell_guid": "38c6befb-892d-4ef3-9c63-13be5959b671",
    "_uuid": "2953f9f3-02f8-4fa9-a7fc-cb93565c2183",
    "papermill": {
     "duration": 0.04075,
     "end_time": "2021-12-27T11:25:45.496836",
     "exception": false,
     "start_time": "2021-12-27T11:25:45.456086",
     "status": "completed"
    },
    "tags": []
   },
   "source": [
    "\n",
    "# Load the data"
   ]
  },
  {
   "cell_type": "code",
   "execution_count": 2,
   "id": "a6e739ce",
   "metadata": {
    "_cell_guid": "98a5b4a6-90e9-449d-96cc-0d85c9ff1c77",
    "_uuid": "e086592f-9f6a-4592-80b5-c1e7ad227e02",
    "collapsed": false,
    "execution": {
     "iopub.execute_input": "2021-12-27T11:25:45.584380Z",
     "iopub.status.busy": "2021-12-27T11:25:45.583708Z",
     "iopub.status.idle": "2021-12-27T11:25:46.072013Z",
     "shell.execute_reply": "2021-12-27T11:25:46.072469Z",
     "shell.execute_reply.started": "2021-12-24T09:12:34.955396Z"
    },
    "jupyter": {
     "outputs_hidden": false
    },
    "papermill": {
     "duration": 0.533077,
     "end_time": "2021-12-27T11:25:46.072647",
     "exception": false,
     "start_time": "2021-12-27T11:25:45.539570",
     "status": "completed"
    },
    "tags": []
   },
   "outputs": [
    {
     "name": "stdout",
     "output_type": "stream",
     "text": [
      "CPU times: user 250 ms, sys: 76.6 ms, total: 327 ms\n",
      "Wall time: 467 ms\n"
     ]
    },
    {
     "data": {
      "text/html": [
       "<div>\n",
       "<style scoped>\n",
       "    .dataframe tbody tr th:only-of-type {\n",
       "        vertical-align: middle;\n",
       "    }\n",
       "\n",
       "    .dataframe tbody tr th {\n",
       "        vertical-align: top;\n",
       "    }\n",
       "\n",
       "    .dataframe thead th {\n",
       "        text-align: right;\n",
       "    }\n",
       "</style>\n",
       "<table border=\"1\" class=\"dataframe\">\n",
       "  <thead>\n",
       "    <tr style=\"text-align: right;\">\n",
       "      <th></th>\n",
       "      <th>Unnamed: 0</th>\n",
       "      <th>SeriousDlqin2yrs</th>\n",
       "      <th>RevolvingUtilizationOfUnsecuredLines</th>\n",
       "      <th>age</th>\n",
       "      <th>NumberOfTime30-59DaysPastDueNotWorse</th>\n",
       "      <th>DebtRatio</th>\n",
       "      <th>MonthlyIncome</th>\n",
       "      <th>NumberOfOpenCreditLinesAndLoans</th>\n",
       "      <th>NumberOfTimes90DaysLate</th>\n",
       "      <th>NumberRealEstateLoansOrLines</th>\n",
       "      <th>NumberOfTime60-89DaysPastDueNotWorse</th>\n",
       "      <th>NumberOfDependents</th>\n",
       "    </tr>\n",
       "  </thead>\n",
       "  <tbody>\n",
       "    <tr>\n",
       "      <th>0</th>\n",
       "      <td>1</td>\n",
       "      <td>1</td>\n",
       "      <td>0.766127</td>\n",
       "      <td>45</td>\n",
       "      <td>2</td>\n",
       "      <td>0.802982</td>\n",
       "      <td>9120.0</td>\n",
       "      <td>13</td>\n",
       "      <td>0</td>\n",
       "      <td>6</td>\n",
       "      <td>0</td>\n",
       "      <td>2.0</td>\n",
       "    </tr>\n",
       "    <tr>\n",
       "      <th>1</th>\n",
       "      <td>2</td>\n",
       "      <td>0</td>\n",
       "      <td>0.957151</td>\n",
       "      <td>40</td>\n",
       "      <td>0</td>\n",
       "      <td>0.121876</td>\n",
       "      <td>2600.0</td>\n",
       "      <td>4</td>\n",
       "      <td>0</td>\n",
       "      <td>0</td>\n",
       "      <td>0</td>\n",
       "      <td>1.0</td>\n",
       "    </tr>\n",
       "    <tr>\n",
       "      <th>2</th>\n",
       "      <td>3</td>\n",
       "      <td>0</td>\n",
       "      <td>0.658180</td>\n",
       "      <td>38</td>\n",
       "      <td>1</td>\n",
       "      <td>0.085113</td>\n",
       "      <td>3042.0</td>\n",
       "      <td>2</td>\n",
       "      <td>1</td>\n",
       "      <td>0</td>\n",
       "      <td>0</td>\n",
       "      <td>0.0</td>\n",
       "    </tr>\n",
       "  </tbody>\n",
       "</table>\n",
       "</div>"
      ],
      "text/plain": [
       "   Unnamed: 0  SeriousDlqin2yrs  RevolvingUtilizationOfUnsecuredLines  age  \\\n",
       "0           1                 1                              0.766127   45   \n",
       "1           2                 0                              0.957151   40   \n",
       "2           3                 0                              0.658180   38   \n",
       "\n",
       "   NumberOfTime30-59DaysPastDueNotWorse  DebtRatio  MonthlyIncome  \\\n",
       "0                                     2   0.802982         9120.0   \n",
       "1                                     0   0.121876         2600.0   \n",
       "2                                     1   0.085113         3042.0   \n",
       "\n",
       "   NumberOfOpenCreditLinesAndLoans  NumberOfTimes90DaysLate  \\\n",
       "0                               13                        0   \n",
       "1                                4                        0   \n",
       "2                                2                        1   \n",
       "\n",
       "   NumberRealEstateLoansOrLines  NumberOfTime60-89DaysPastDueNotWorse  \\\n",
       "0                             6                                     0   \n",
       "1                             0                                     0   \n",
       "2                             0                                     0   \n",
       "\n",
       "   NumberOfDependents  \n",
       "0                 2.0  \n",
       "1                 1.0  \n",
       "2                 0.0  "
      ]
     },
     "execution_count": 2,
     "metadata": {},
     "output_type": "execute_result"
    }
   ],
   "source": [
    "%%time \n",
    "train = pd.read_csv('../input/GiveMeSomeCredit/cs-training.csv')\n",
    "test = pd.read_csv('../input/GiveMeSomeCredit/cs-test.csv')\n",
    "train.head(3)"
   ]
  },
  {
   "cell_type": "markdown",
   "id": "0719fe97",
   "metadata": {
    "papermill": {
     "duration": 0.040899,
     "end_time": "2021-12-27T11:25:46.155201",
     "exception": false,
     "start_time": "2021-12-27T11:25:46.114302",
     "status": "completed"
    },
    "tags": []
   },
   "source": [
    "# Convert Dtypes :"
   ]
  },
  {
   "cell_type": "code",
   "execution_count": 3,
   "id": "031f29d9",
   "metadata": {
    "execution": {
     "iopub.execute_input": "2021-12-27T11:25:46.245684Z",
     "iopub.status.busy": "2021-12-27T11:25:46.244907Z",
     "iopub.status.idle": "2021-12-27T11:25:46.331409Z",
     "shell.execute_reply": "2021-12-27T11:25:46.331967Z",
     "shell.execute_reply.started": "2021-12-24T09:12:35.50217Z"
    },
    "papermill": {
     "duration": 0.136129,
     "end_time": "2021-12-27T11:25:46.332161",
     "exception": false,
     "start_time": "2021-12-27T11:25:46.196032",
     "status": "completed"
    },
    "tags": []
   },
   "outputs": [],
   "source": [
    "# Convert Dtypes :\n",
    "train[train.select_dtypes(['int64','int16','float16','float32','float64','int8']).columns] = train[train.select_dtypes(['int64','int16','float16','float32','float64','int8']).columns].apply(pd.to_numeric)\n",
    "train[train.select_dtypes(['object','category']).columns] = train.select_dtypes(['object','category']).apply(lambda x: x.astype('category'))\n",
    "# Convert Dtypes :\n",
    "test[test.select_dtypes(['int64','int16','float16','float32','float64','int8']).columns] = test[test.select_dtypes(['int64','int16','float16','float32','float64','int8']).columns].apply(pd.to_numeric)\n",
    "test[test.select_dtypes(['object','category']).columns] = test.select_dtypes(['object','category']).apply(lambda x: x.astype('category'))"
   ]
  },
  {
   "cell_type": "markdown",
   "id": "79ded568",
   "metadata": {
    "papermill": {
     "duration": 0.040314,
     "end_time": "2021-12-27T11:25:46.413886",
     "exception": false,
     "start_time": "2021-12-27T11:25:46.373572",
     "status": "completed"
    },
    "tags": []
   },
   "source": [
    "# Reduce Memory"
   ]
  },
  {
   "cell_type": "code",
   "execution_count": 4,
   "id": "5fe10d3c",
   "metadata": {
    "execution": {
     "iopub.execute_input": "2021-12-27T11:25:46.498407Z",
     "iopub.status.busy": "2021-12-27T11:25:46.497759Z",
     "iopub.status.idle": "2021-12-27T11:25:46.563707Z",
     "shell.execute_reply": "2021-12-27T11:25:46.564236Z",
     "shell.execute_reply.started": "2021-12-24T09:12:35.627199Z"
    },
    "papermill": {
     "duration": 0.109763,
     "end_time": "2021-12-27T11:25:46.564406",
     "exception": false,
     "start_time": "2021-12-27T11:25:46.454643",
     "status": "completed"
    },
    "tags": []
   },
   "outputs": [
    {
     "name": "stdout",
     "output_type": "stream",
     "text": [
      "Memory usage of dataframe is 13.73 MB\n",
      "Memory usage after optimization is: 3.29 MB\n",
      "Decreased by 76.0%\n",
      "Memory usage of dataframe is 9.29 MB\n",
      "Memory usage after optimization is: 2.90 MB\n",
      "Decreased by 68.7%\n"
     ]
    }
   ],
   "source": [
    "# Author : https://www.kaggle.com/gemartin/load-data-reduce-memory-usage\n",
    "def reduce_mem_usage(df):\n",
    "    \"\"\" iterate through all the columns of a dataframe and modify the data type\n",
    "        to reduce memory usage.        \n",
    "    \"\"\"\n",
    "    start_mem = df.memory_usage().sum() / 1024**2\n",
    "    print('Memory usage of dataframe is {:.2f} MB'.format(start_mem))\n",
    "    \n",
    "    for col in df.columns:\n",
    "        col_type = df[col].dtype\n",
    "        name =df[col].dtype.name \n",
    "        \n",
    "        if col_type != object and col_type.name != 'category':\n",
    "        #if name != \"category\":    \n",
    "            c_min = df[col].min()\n",
    "            c_max = df[col].max()\n",
    "            if str(col_type)[:3] == 'int':\n",
    "                if c_min > np.iinfo(np.int8).min and c_max < np.iinfo(np.int8).max:\n",
    "                    df[col] = df[col].astype(np.int8)\n",
    "                elif c_min > np.iinfo(np.int16).min and c_max < np.iinfo(np.int16).max:\n",
    "                    df[col] = df[col].astype(np.int16)\n",
    "                elif c_min > np.iinfo(np.int32).min and c_max < np.iinfo(np.int32).max:\n",
    "                    df[col] = df[col].astype(np.int32)\n",
    "                elif c_min > np.iinfo(np.int64).min and c_max < np.iinfo(np.int64).max:\n",
    "                    df[col] = df[col].astype(np.int64)  \n",
    "            else:\n",
    "                if c_min > np.finfo(np.float16).min and c_max < np.finfo(np.float16).max:\n",
    "                    df[col] = df[col].astype(np.float16)\n",
    "                elif c_min > np.finfo(np.float32).min and c_max < np.finfo(np.float32).max:\n",
    "                    df[col] = df[col].astype(np.float32)\n",
    "                else:\n",
    "                    df[col] = df[col].astype(np.float64)\n",
    "        else:\n",
    "            df[col] = df[col].astype('category')\n",
    "\n",
    "    end_mem = df.memory_usage().sum() / 1024**2\n",
    "    print('Memory usage after optimization is: {:.2f} MB'.format(end_mem))\n",
    "    print('Decreased by {:.1f}%'.format(100 * (start_mem - end_mem) / start_mem))\n",
    "    \n",
    "    return df\n",
    "train= reduce_mem_usage(train)\n",
    "test= reduce_mem_usage(test)"
   ]
  },
  {
   "cell_type": "markdown",
   "id": "4cc209a1",
   "metadata": {
    "papermill": {
     "duration": 0.041163,
     "end_time": "2021-12-27T11:25:46.646753",
     "exception": false,
     "start_time": "2021-12-27T11:25:46.605590",
     "status": "completed"
    },
    "tags": []
   },
   "source": [
    "# X and Y"
   ]
  },
  {
   "cell_type": "code",
   "execution_count": 5,
   "id": "377ff4aa",
   "metadata": {
    "execution": {
     "iopub.execute_input": "2021-12-27T11:25:46.733069Z",
     "iopub.status.busy": "2021-12-27T11:25:46.732082Z",
     "iopub.status.idle": "2021-12-27T11:25:46.737210Z",
     "shell.execute_reply": "2021-12-27T11:25:46.737658Z",
     "shell.execute_reply.started": "2021-12-24T09:12:35.702668Z"
    },
    "papermill": {
     "duration": 0.050011,
     "end_time": "2021-12-27T11:25:46.737828",
     "exception": false,
     "start_time": "2021-12-27T11:25:46.687817",
     "status": "completed"
    },
    "tags": []
   },
   "outputs": [],
   "source": [
    "# Cardinality : \n",
    "# - RevolvingUtilizationOfUnsecuredLines :125728, high Outlier\n",
    "# - DebtRatio :114194 , high Outlier \n",
    "# deal with outlier + bin \n",
    "PERCENTAGE = [\"RevolvingUtilizationOfUnsecuredLines\", \"DebtRatio\"]\n",
    "# MonthlyIncome:13594 , high outlier +bin \n",
    "REAL= [\"MonthlyIncome\"]\n",
    "# Can be considred as cat \n",
    "NUMERIC_DISCRET_low = [\"NumberOfDependents\",\n",
    "                       \"NumberOfTime60-89DaysPastDueNotWorse\",\n",
    "                       \"NumberRealEstateLoansOrLines\",\n",
    "                       \"NumberOfTimes90DaysLate\",\n",
    "                       \"NumberOfOpenCreditLinesAndLoans\",\n",
    "                       \"NumberOfTime30-59DaysPastDueNotWorse\",\n",
    "                       \"age\"]\n",
    "Late_Pay_Cols = ['NumberOfTime30-59DaysPastDueNotWorse',\n",
    "                 'NumberOfTimes90DaysLate',\n",
    "                 'NumberOfTime60-89DaysPastDueNotWorse']\n",
    "TARGET = [\"SeriousDlqin2yrs\"]\n",
    "\n",
    "#also change the type for TARGET to categorical\n",
    "#df[TARGET] = df[TARGET].astype('category')"
   ]
  },
  {
   "cell_type": "code",
   "execution_count": 6,
   "id": "b01834f9",
   "metadata": {
    "execution": {
     "iopub.execute_input": "2021-12-27T11:25:46.825205Z",
     "iopub.status.busy": "2021-12-27T11:25:46.824202Z",
     "iopub.status.idle": "2021-12-27T11:25:46.828899Z",
     "shell.execute_reply": "2021-12-27T11:25:46.828303Z",
     "shell.execute_reply.started": "2021-12-24T09:12:35.710621Z"
    },
    "papermill": {
     "duration": 0.049844,
     "end_time": "2021-12-27T11:25:46.829046",
     "exception": false,
     "start_time": "2021-12-27T11:25:46.779202",
     "status": "completed"
    },
    "tags": []
   },
   "outputs": [],
   "source": [
    "y = train['SeriousDlqin2yrs']"
   ]
  },
  {
   "cell_type": "code",
   "execution_count": 7,
   "id": "ae29f7bf",
   "metadata": {
    "execution": {
     "iopub.execute_input": "2021-12-27T11:25:46.921002Z",
     "iopub.status.busy": "2021-12-27T11:25:46.920213Z",
     "iopub.status.idle": "2021-12-27T11:25:46.987210Z",
     "shell.execute_reply": "2021-12-27T11:25:46.986094Z",
     "shell.execute_reply.started": "2021-12-24T09:12:35.730643Z"
    },
    "papermill": {
     "duration": 0.115775,
     "end_time": "2021-12-27T11:25:46.987366",
     "exception": false,
     "start_time": "2021-12-27T11:25:46.871591",
     "status": "completed"
    },
    "tags": []
   },
   "outputs": [
    {
     "data": {
      "text/plain": [
       "DebtRatio                               30457\n",
       "NumberOfTime30-59DaysPastDueNotWorse    23982\n",
       "SeriousDlqin2yrs                        10026\n",
       "NumberOfTimes90DaysLate                  8338\n",
       "NumberOfTime60-89DaysPastDueNotWorse     7604\n",
       "MonthlyIncome                            1557\n",
       "NumberOfDependents                        991\n",
       "NumberOfOpenCreditLinesAndLoans           442\n",
       "RevolvingUtilizationOfUnsecuredLines      339\n",
       "NumberRealEstateLoansOrLines              209\n",
       "dtype: int64"
      ]
     },
     "execution_count": 7,
     "metadata": {},
     "output_type": "execute_result"
    }
   ],
   "source": [
    "def get_outlier_counts(df, outlier_threshold=1.5):\n",
    "    Q1 = df.quantile(0.25)\n",
    "    Q3 = df.quantile(0.75)\n",
    "    IQR = Q3 - Q1\n",
    "\n",
    "    outlier_counts = ((df < (Q1 - outlier_threshold * IQR)) | (df > (Q3 + outlier_threshold * IQR))).sum()\n",
    "    return outlier_counts[outlier_counts>0].sort_values(ascending=False)\n",
    "\n",
    "get_outlier_counts(train, outlier_threshold=3)"
   ]
  },
  {
   "cell_type": "markdown",
   "id": "43a16c79",
   "metadata": {
    "papermill": {
     "duration": 0.04102,
     "end_time": "2021-12-27T11:25:47.070598",
     "exception": false,
     "start_time": "2021-12-27T11:25:47.029578",
     "status": "completed"
    },
    "tags": []
   },
   "source": [
    "# Relationship between missing data and target\n",
    "Let's evaluate the target  observations where the information is missing. We will do this for each variable that shows missing data.\n",
    "if there a relation we should mention this as new feature."
   ]
  },
  {
   "cell_type": "code",
   "execution_count": 8,
   "id": "9fcd0ea6",
   "metadata": {
    "execution": {
     "iopub.execute_input": "2021-12-27T11:25:47.157232Z",
     "iopub.status.busy": "2021-12-27T11:25:47.156491Z",
     "iopub.status.idle": "2021-12-27T11:25:47.173440Z",
     "shell.execute_reply": "2021-12-27T11:25:47.173941Z",
     "shell.execute_reply.started": "2021-12-24T09:12:35.816487Z"
    },
    "papermill": {
     "duration": 0.062005,
     "end_time": "2021-12-27T11:25:47.174109",
     "exception": false,
     "start_time": "2021-12-27T11:25:47.112104",
     "status": "completed"
    },
    "tags": []
   },
   "outputs": [
    {
     "data": {
      "text/plain": [
       "MonthlyIncome         0.198207\n",
       "NumberOfDependents    0.026160\n",
       "dtype: float64"
      ]
     },
     "execution_count": 8,
     "metadata": {},
     "output_type": "execute_result"
    }
   ],
   "source": [
    "# make a list of the variables that contain missing values\n",
    "vars_with_na = [var for var in train.columns if train[var].isnull().sum() > 0]\n",
    "\n",
    "# determine percentage of missing values (expressed as decimals)\n",
    "# and display the result ordered by % of missin data\n",
    "\n",
    "train[vars_with_na].isnull().mean().sort_values(ascending=False)"
   ]
  },
  {
   "cell_type": "code",
   "execution_count": 9,
   "id": "8985ced3",
   "metadata": {
    "execution": {
     "iopub.execute_input": "2021-12-27T11:25:47.266150Z",
     "iopub.status.busy": "2021-12-27T11:25:47.260289Z",
     "iopub.status.idle": "2021-12-27T11:25:47.267740Z",
     "shell.execute_reply": "2021-12-27T11:25:47.268345Z",
     "shell.execute_reply.started": "2021-12-24T09:12:35.839288Z"
    },
    "papermill": {
     "duration": 0.052537,
     "end_time": "2021-12-27T11:25:47.268523",
     "exception": false,
     "start_time": "2021-12-27T11:25:47.215986",
     "status": "completed"
    },
    "tags": []
   },
   "outputs": [],
   "source": [
    "def analyse_na_value(df, var):\n",
    "\n",
    "    # copy of the dataframe, so that we do not override the original data\n",
    "    # see the link for more details about pandas.copy()\n",
    "    # https://pandas.pydata.org/pandas-docs/stable/reference/api/pandas.DataFrame.copy.html\n",
    "    df = df.copy()\n",
    "\n",
    "    # let's make an interim variable that indicates 1 if the\n",
    "    # observation was missing or 0 otherwise\n",
    "    df[var] = np.where(df[var].isnull(), 1, 0)\n",
    "\n",
    "    # let's compare the median SalePrice in the observations where data is missing\n",
    "    # vs the observations where data is available\n",
    "\n",
    "    # determine the median price in the groups 1 and 0,\n",
    "    # and the standard deviation of the sale price,\n",
    "    # and we capture the results in a temporary dataset\n",
    "    tmp = df.groupby(var)['SeriousDlqin2yrs'].agg(['mean', 'std','count'])\n",
    "\n",
    "    # plot into a bar graph\n",
    "    tmp.plot(kind=\"barh\", y=\"mean\", legend=False,\n",
    "             xerr=\"std\", title=\"SeriousDlqin2yrs\", color='green')\n",
    "\n",
    "    plt.show()"
   ]
  },
  {
   "cell_type": "code",
   "execution_count": 10,
   "id": "99b5d8c7",
   "metadata": {
    "execution": {
     "iopub.execute_input": "2021-12-27T11:25:47.356526Z",
     "iopub.status.busy": "2021-12-27T11:25:47.355755Z",
     "iopub.status.idle": "2021-12-27T11:25:47.617221Z",
     "shell.execute_reply": "2021-12-27T11:25:47.617728Z",
     "shell.execute_reply.started": "2021-12-24T09:12:35.852562Z"
    },
    "papermill": {
     "duration": 0.307296,
     "end_time": "2021-12-27T11:25:47.617896",
     "exception": false,
     "start_time": "2021-12-27T11:25:47.310600",
     "status": "completed"
    },
    "tags": []
   },
   "outputs": [
    {
     "data": {
      "text/plain": [
       "<matplotlib.lines.Line2D at 0x7fe11f58a250>"
      ]
     },
     "execution_count": 10,
     "metadata": {},
     "output_type": "execute_result"
    },
    {
     "data": {
      "image/png": "[encoded data removed]",
      "text/plain": [
       "<Figure size 720x288 with 1 Axes>"
      ]
     },
     "metadata": {},
     "output_type": "display_data"
    }
   ],
   "source": [
    "# plot\n",
    "train[vars_with_na].isnull().mean().sort_values(\n",
    "    ascending=False).plot.bar(figsize=(10, 4))\n",
    "plt.ylabel('Percentage of missing data')\n",
    "plt.axhline(y=0.90, color='r', linestyle='-')\n",
    "plt.axhline(y=0.80, color='g', linestyle='-')\n"
   ]
  },
  {
   "cell_type": "code",
   "execution_count": 11,
   "id": "a42d77e6",
   "metadata": {
    "execution": {
     "iopub.execute_input": "2021-12-27T11:25:47.707316Z",
     "iopub.status.busy": "2021-12-27T11:25:47.706669Z",
     "iopub.status.idle": "2021-12-27T11:25:48.098699Z",
     "shell.execute_reply": "2021-12-27T11:25:48.099213Z",
     "shell.execute_reply.started": "2021-12-24T09:12:36.135097Z"
    },
    "papermill": {
     "duration": 0.438395,
     "end_time": "2021-12-27T11:25:48.099385",
     "exception": false,
     "start_time": "2021-12-27T11:25:47.660990",
     "status": "completed"
    },
    "tags": []
   },
   "outputs": [
    {
     "data": {
      "image/png": "[encoded data removed]",
      "text/plain": [
       "<Figure size 576x396 with 1 Axes>"
      ]
     },
     "metadata": {},
     "output_type": "display_data"
    },
    {
     "data": {
      "image/png": "[encoded data removed]",
      "text/plain": [
       "<Figure size 576x396 with 1 Axes>"
      ]
     },
     "metadata": {},
     "output_type": "display_data"
    }
   ],
   "source": [
    "# let's run the function on each variable with missing data\n",
    "\n",
    "for var in vars_with_na:\n",
    "    analyse_na_value(train, var)"
   ]
  },
  {
   "cell_type": "markdown",
   "id": "45de9a9f",
   "metadata": {
    "papermill": {
     "duration": 0.045778,
     "end_time": "2021-12-27T11:25:48.189607",
     "exception": false,
     "start_time": "2021-12-27T11:25:48.143829",
     "status": "completed"
    },
    "tags": []
   },
   "source": [
    "In some variables, the average SeriousDlqin2yrs  in our data  where the information is missing, differs from the average SeriousDlqin2yrsin data where information exists. This suggests that data being missing could be a good predictor of credit fault .\n",
    "For this we should keep add indicator when we have missing value ."
   ]
  },
  {
   "cell_type": "markdown",
   "id": "05881c9e",
   "metadata": {
    "papermill": {
     "duration": 0.043913,
     "end_time": "2021-12-27T11:25:48.278002",
     "exception": false,
     "start_time": "2021-12-27T11:25:48.234089",
     "status": "completed"
    },
    "tags": []
   },
   "source": [
    "# Imput before Descritaziation : \n",
    "\n",
    "## IterativeImputer\n"
   ]
  },
  {
   "cell_type": "code",
   "execution_count": 12,
   "id": "b58cf537",
   "metadata": {
    "execution": {
     "iopub.execute_input": "2021-12-27T11:25:48.377420Z",
     "iopub.status.busy": "2021-12-27T11:25:48.376271Z",
     "iopub.status.idle": "2021-12-27T11:25:48.382676Z",
     "shell.execute_reply": "2021-12-27T11:25:48.381829Z",
     "shell.execute_reply.started": "2021-12-24T09:12:36.5353Z"
    },
    "papermill": {
     "duration": 0.060473,
     "end_time": "2021-12-27T11:25:48.382865",
     "exception": false,
     "start_time": "2021-12-27T11:25:48.322392",
     "status": "completed"
    },
    "tags": []
   },
   "outputs": [
    {
     "name": "stdout",
     "output_type": "stream",
     "text": [
      "CPU times: user 542 µs, sys: 0 ns, total: 542 µs\n",
      "Wall time: 551 µs\n"
     ]
    }
   ],
   "source": [
    "%%time \n",
    "param =  {   \"verbosity\": 0,\n",
    "            #\"objective\": \"binary:logistic\",\n",
    "            #\"eval_metric\": \"auc\",\n",
    "            'random_state': 42,\n",
    "            # regression\n",
    "            'objective':'reg:squarederror', \n",
    "             'eval_metric': 'mae',\n",
    "            #early_stopping_rounds=100 ,\n",
    "            #'gpu_id':0, \n",
    "            #'predictor':\"gpu_predictor\",\n",
    "            # use exact for small dataset.\n",
    "            #\"tree_method\": \"exact\",\n",
    "            # big data :\n",
    "            # 'tree_method': 'gpu_hist',\n",
    "            # defines booster, gblinear for linear functions.\n",
    "             'booster': 'gbtree', \n",
    "            'lambda': 8.544792472633987e-07,\n",
    "            'alpha': 0.31141671752487043,\n",
    "            'subsample': 0.8779467596981366, \n",
    "            'colsample_bytree': 0.9759532762677546,\n",
    "            'learning_rate': 0.008686087328805853, \n",
    "            'n_estimators': 6988,\n",
    "            'max_depth': 9,\n",
    "            'min_child_weight': 2, \n",
    "            'eta': 3.7603213457541647e-06,\n",
    "            'gamma': 2.1478058456847449e-07,\n",
    "            'grow_policy': 'lossguide'}\n",
    "                \n",
    "\n",
    "#model_xgb = XGBRegressor(\n",
    "       #objective=\"mae\",\n",
    " #   **xgb_params2)\n",
    "\n",
    "numeric_transformer1 = Pipeline(\n",
    "                            steps=[\n",
    "                            ('imputer', SimpleImputer(strategy='median'\n",
    "                                                      ,add_indicator=True)),\n",
    "                            ('scaler', PowerTransformer()),#(Numerical Input, Numerical Output)\n",
    "                            # Create an SelectKBest object to select features with two best ANOVA F-Values\n",
    "                            #The F-value scores examine if, when we group the numerical feature by the target vector, the means for each group are significantly different\n",
    "                           # ('reducedim',  SelectPercentile(f_classif,percentile=90))\n",
    "                            ]\n",
    "                            )\n",
    "numeric_transformer2 = Pipeline(\n",
    "                            steps=[\n",
    "                            #('imputer', SimpleImputer(strategy='median'\n",
    "                             #                         ,add_indicator=True)),\n",
    "                            ('scaler', PowerTransformer()),#(Numerical Input, Numerical Output)\n",
    "                            # Create an SelectKBest object to select features with two best ANOVA F-Values\n",
    "                            #The F-value scores examine if, when we group the numerical feature by the target vector, the means for each group are significantly different\n",
    "                           # ('reducedim',  SelectPercentile(f_classif,percentile=90))\n",
    "                            ]\n",
    "                            )\n",
    "\n",
    "pipe_xgbr1 = Pipeline(\n",
    "                    steps=[\n",
    "                        ('preprocessor', numeric_transformer1),\n",
    "                        ('classifier', XGBRegressor(\n",
    "                      #objective=\"mae\",\n",
    "                       **param))\n",
    "                    ]\n",
    "                )\n",
    "pipe_xgbr2 = Pipeline(\n",
    "                    steps=[\n",
    "                        ('preprocessor', numeric_transformer2),\n",
    "                        ('classifier', XGBRegressor(\n",
    "                      #objective=\"mae\",\n",
    "                       **param))\n",
    "                    ]\n",
    "                )\n",
    "\n",
    "#imputer=IterativeImputer(estimator=XGBRegressor(\n",
    "#                      #objective=\"mae\",\n",
    " #                     **param),max_iter=2,\n",
    "  #                       add_indicator=True,\n",
    "   #                      random_state=42)\n",
    "#train=train.drop(['Unnamed: 0','SeriousDlqin2yrs'], axis=1)\n",
    "#test=test.drop(['Unnamed: 0','SeriousDlqin2yrs'], axis=1)\n",
    "#imputer.fit(train)\n",
    "#train = imputer.transform(train)\n",
    "#test = imputer.transform(test)\n",
    "#features=['RevolvingUtilizationOfUnsecuredLines', 'age',\n",
    "#      'NumberOfTime30-59DaysPastDueNotWorse', 'DebtRatio', 'MonthlyIncome',\n",
    " #      'NumberOfOpenCreditLinesAndLoans', 'NumberOfTimes90DaysLate',\n",
    " #     'NumberRealEstateLoansOrLines', 'NumberOfTime60-89DaysPastDueNotWorse',\n",
    " #     'NumberOfDependents']\n",
    "#train=pd.DataFrame(train,columns=features)\n",
    "#test=pd.DataFrame(test,columns=features)\n",
    "#train= reduce_mem_usage(train)\n",
    "#test= reduce_mem_usage(test)"
   ]
  },
  {
   "cell_type": "markdown",
   "id": "5ddadcac",
   "metadata": {
    "papermill": {
     "duration": 0.044289,
     "end_time": "2021-12-27T11:25:48.472909",
     "exception": false,
     "start_time": "2021-12-27T11:25:48.428620",
     "status": "completed"
    },
    "tags": []
   },
   "source": [
    "## Rgression Imputer "
   ]
  },
  {
   "cell_type": "code",
   "execution_count": 13,
   "id": "9998482f",
   "metadata": {
    "execution": {
     "iopub.execute_input": "2021-12-27T11:25:48.565334Z",
     "iopub.status.busy": "2021-12-27T11:25:48.564661Z",
     "iopub.status.idle": "2021-12-27T11:44:50.104749Z",
     "shell.execute_reply": "2021-12-27T11:44:50.105346Z",
     "shell.execute_reply.started": "2021-12-24T09:12:36.551024Z"
    },
    "papermill": {
     "duration": 1141.58787,
     "end_time": "2021-12-27T11:44:50.105555",
     "exception": false,
     "start_time": "2021-12-27T11:25:48.517685",
     "status": "completed"
    },
    "tags": []
   },
   "outputs": [
    {
     "name": "stdout",
     "output_type": "stream",
     "text": [
      "CPU times: user 1h 14min 12s, sys: 6.37 s, total: 1h 14min 18s\n",
      "Wall time: 19min 1s\n"
     ]
    }
   ],
   "source": [
    "%%time \n",
    "train=train.drop(['Unnamed: 0','SeriousDlqin2yrs'], axis=1)\n",
    "test=test.drop(['Unnamed: 0','SeriousDlqin2yrs'], axis=1)\n",
    "train_final= pd.concat( [train, test], axis=0) \n",
    "#testdf_income= train_final[train_final['MonthlyIncome'].isnull()==True]\n",
    "traindf_income = train_final[train_final['MonthlyIncome'].isnull()==False]\n",
    "y_income = traindf_income['MonthlyIncome']\n",
    "X_income=traindf_income.drop([\"MonthlyIncome\"],axis=1)\n",
    "pipe_xgbr1.fit(X_income, y_income)\n",
    "train_income_missing=train[train['MonthlyIncome'].isnull()==True].drop([\"MonthlyIncome\"],axis=1)\n",
    "test_income_missing=test[test['MonthlyIncome'].isnull()==True].drop([\"MonthlyIncome\"],axis=1)\n",
    "train_predicted = pipe_xgbr1.predict(train_income_missing)\n",
    "test_predicted = pipe_xgbr1.predict(test_income_missing)\n",
    "train.loc[(train.MonthlyIncome.isnull()), 'MonthlyIncome'] = train_predicted\n",
    "test.loc[(test.MonthlyIncome.isnull()), 'MonthlyIncome'] = test_predicted"
   ]
  },
  {
   "cell_type": "code",
   "execution_count": 14,
   "id": "67733d5e",
   "metadata": {
    "execution": {
     "iopub.execute_input": "2021-12-27T11:44:50.202861Z",
     "iopub.status.busy": "2021-12-27T11:44:50.202207Z",
     "iopub.status.idle": "2021-12-27T11:44:50.218590Z",
     "shell.execute_reply": "2021-12-27T11:44:50.217803Z",
     "shell.execute_reply.started": "2021-12-24T09:35:44.868984Z"
    },
    "papermill": {
     "duration": 0.068183,
     "end_time": "2021-12-27T11:44:50.218787",
     "exception": false,
     "start_time": "2021-12-27T11:44:50.150604",
     "status": "completed"
    },
    "tags": []
   },
   "outputs": [
    {
     "name": "stdout",
     "output_type": "stream",
     "text": [
      "<class 'pandas.core.frame.DataFrame'>\n",
      "RangeIndex: 150000 entries, 0 to 149999\n",
      "Data columns (total 10 columns):\n",
      " #   Column                                Non-Null Count   Dtype  \n",
      "---  ------                                --------------   -----  \n",
      " 0   RevolvingUtilizationOfUnsecuredLines  150000 non-null  float16\n",
      " 1   age                                   150000 non-null  int8   \n",
      " 2   NumberOfTime30-59DaysPastDueNotWorse  150000 non-null  int8   \n",
      " 3   DebtRatio                             150000 non-null  float32\n",
      " 4   MonthlyIncome                         150000 non-null  float32\n",
      " 5   NumberOfOpenCreditLinesAndLoans       150000 non-null  int8   \n",
      " 6   NumberOfTimes90DaysLate               150000 non-null  int8   \n",
      " 7   NumberRealEstateLoansOrLines          150000 non-null  int8   \n",
      " 8   NumberOfTime60-89DaysPastDueNotWorse  150000 non-null  int8   \n",
      " 9   NumberOfDependents                    146076 non-null  float16\n",
      "dtypes: float16(2), float32(2), int8(6)\n",
      "memory usage: 2.6 MB\n"
     ]
    }
   ],
   "source": [
    "train.info()"
   ]
  },
  {
   "cell_type": "code",
   "execution_count": 15,
   "id": "82edd49a",
   "metadata": {
    "execution": {
     "iopub.execute_input": "2021-12-27T11:44:50.316722Z",
     "iopub.status.busy": "2021-12-27T11:44:50.315631Z",
     "iopub.status.idle": "2021-12-27T11:44:50.327505Z",
     "shell.execute_reply": "2021-12-27T11:44:50.328048Z",
     "shell.execute_reply.started": "2021-12-24T09:35:44.894592Z"
    },
    "papermill": {
     "duration": 0.063012,
     "end_time": "2021-12-27T11:44:50.328234",
     "exception": false,
     "start_time": "2021-12-27T11:44:50.265222",
     "status": "completed"
    },
    "tags": []
   },
   "outputs": [
    {
     "name": "stdout",
     "output_type": "stream",
     "text": [
      "<class 'pandas.core.frame.DataFrame'>\n",
      "RangeIndex: 101503 entries, 0 to 101502\n",
      "Data columns (total 10 columns):\n",
      " #   Column                                Non-Null Count   Dtype  \n",
      "---  ------                                --------------   -----  \n",
      " 0   RevolvingUtilizationOfUnsecuredLines  101503 non-null  float16\n",
      " 1   age                                   101503 non-null  int8   \n",
      " 2   NumberOfTime30-59DaysPastDueNotWorse  101503 non-null  int8   \n",
      " 3   DebtRatio                             101503 non-null  float32\n",
      " 4   MonthlyIncome                         101503 non-null  float32\n",
      " 5   NumberOfOpenCreditLinesAndLoans       101503 non-null  int8   \n",
      " 6   NumberOfTimes90DaysLate               101503 non-null  int8   \n",
      " 7   NumberRealEstateLoansOrLines          101503 non-null  int8   \n",
      " 8   NumberOfTime60-89DaysPastDueNotWorse  101503 non-null  int8   \n",
      " 9   NumberOfDependents                    98877 non-null   float16\n",
      "dtypes: float16(2), float32(2), int8(6)\n",
      "memory usage: 1.7 MB\n"
     ]
    }
   ],
   "source": [
    "test.info()"
   ]
  },
  {
   "cell_type": "code",
   "execution_count": 16,
   "id": "84f1817c",
   "metadata": {
    "execution": {
     "iopub.execute_input": "2021-12-27T11:44:50.426774Z",
     "iopub.status.busy": "2021-12-27T11:44:50.422351Z",
     "iopub.status.idle": "2021-12-27T12:07:51.728928Z",
     "shell.execute_reply": "2021-12-27T12:07:51.729567Z",
     "shell.execute_reply.started": "2021-12-24T09:35:44.91383Z"
    },
    "papermill": {
     "duration": 1381.355886,
     "end_time": "2021-12-27T12:07:51.729760",
     "exception": false,
     "start_time": "2021-12-27T11:44:50.373874",
     "status": "completed"
    },
    "tags": []
   },
   "outputs": [
    {
     "name": "stdout",
     "output_type": "stream",
     "text": [
      "CPU times: user 1h 29min 57s, sys: 5.67 s, total: 1h 30min 3s\n",
      "Wall time: 23min 1s\n"
     ]
    }
   ],
   "source": [
    "%%time \n",
    "traindf_NumberOfDependents = train_final[train_final['NumberOfDependents'].isnull()==False]\n",
    "y_NumberOfDependents = traindf_NumberOfDependents['NumberOfDependents']\n",
    "X_NumberOfDependents=traindf_NumberOfDependents.drop([\"NumberOfDependents\"],axis=1)\n",
    "pipe_xgbr2.fit(X_NumberOfDependents, y_NumberOfDependents)\n",
    "train_NumberOfDependents_missing=train[train['NumberOfDependents'].isnull()==True].drop([\"NumberOfDependents\"],axis=1)\n",
    "test_NumberOfDependents_missing=test[test['NumberOfDependents'].isnull()==True].drop([\"NumberOfDependents\"],axis=1)\n",
    "train_predicted = pipe_xgbr2.predict(train_NumberOfDependents_missing)\n",
    "test_predicted = pipe_xgbr2.predict(test_NumberOfDependents_missing)\n",
    "train.loc[(train.NumberOfDependents.isnull()), 'NumberOfDependents'] = train_predicted\n",
    "test.loc[(test.NumberOfDependents.isnull()), 'NumberOfDependents'] = test_predicted"
   ]
  },
  {
   "cell_type": "code",
   "execution_count": 17,
   "id": "2cd55ce2",
   "metadata": {
    "execution": {
     "iopub.execute_input": "2021-12-27T12:07:51.829498Z",
     "iopub.status.busy": "2021-12-27T12:07:51.828473Z",
     "iopub.status.idle": "2021-12-27T12:07:51.842531Z",
     "shell.execute_reply": "2021-12-27T12:07:51.841604Z",
     "shell.execute_reply.started": "2021-12-24T10:04:15.621634Z"
    },
    "papermill": {
     "duration": 0.066841,
     "end_time": "2021-12-27T12:07:51.842731",
     "exception": false,
     "start_time": "2021-12-27T12:07:51.775890",
     "status": "completed"
    },
    "tags": []
   },
   "outputs": [
    {
     "name": "stdout",
     "output_type": "stream",
     "text": [
      "<class 'pandas.core.frame.DataFrame'>\n",
      "RangeIndex: 150000 entries, 0 to 149999\n",
      "Data columns (total 10 columns):\n",
      " #   Column                                Non-Null Count   Dtype  \n",
      "---  ------                                --------------   -----  \n",
      " 0   RevolvingUtilizationOfUnsecuredLines  150000 non-null  float16\n",
      " 1   age                                   150000 non-null  int8   \n",
      " 2   NumberOfTime30-59DaysPastDueNotWorse  150000 non-null  int8   \n",
      " 3   DebtRatio                             150000 non-null  float32\n",
      " 4   MonthlyIncome                         150000 non-null  float32\n",
      " 5   NumberOfOpenCreditLinesAndLoans       150000 non-null  int8   \n",
      " 6   NumberOfTimes90DaysLate               150000 non-null  int8   \n",
      " 7   NumberRealEstateLoansOrLines          150000 non-null  int8   \n",
      " 8   NumberOfTime60-89DaysPastDueNotWorse  150000 non-null  int8   \n",
      " 9   NumberOfDependents                    150000 non-null  float16\n",
      "dtypes: float16(2), float32(2), int8(6)\n",
      "memory usage: 2.6 MB\n"
     ]
    }
   ],
   "source": [
    "train.info()"
   ]
  },
  {
   "cell_type": "code",
   "execution_count": 18,
   "id": "1aa88164",
   "metadata": {
    "execution": {
     "iopub.execute_input": "2021-12-27T12:07:51.943840Z",
     "iopub.status.busy": "2021-12-27T12:07:51.942777Z",
     "iopub.status.idle": "2021-12-27T12:07:51.954023Z",
     "shell.execute_reply": "2021-12-27T12:07:51.954682Z",
     "shell.execute_reply.started": "2021-12-24T10:04:15.651288Z"
    },
    "papermill": {
     "duration": 0.063181,
     "end_time": "2021-12-27T12:07:51.954854",
     "exception": false,
     "start_time": "2021-12-27T12:07:51.891673",
     "status": "completed"
    },
    "tags": []
   },
   "outputs": [
    {
     "name": "stdout",
     "output_type": "stream",
     "text": [
      "<class 'pandas.core.frame.DataFrame'>\n",
      "RangeIndex: 101503 entries, 0 to 101502\n",
      "Data columns (total 10 columns):\n",
      " #   Column                                Non-Null Count   Dtype  \n",
      "---  ------                                --------------   -----  \n",
      " 0   RevolvingUtilizationOfUnsecuredLines  101503 non-null  float16\n",
      " 1   age                                   101503 non-null  int8   \n",
      " 2   NumberOfTime30-59DaysPastDueNotWorse  101503 non-null  int8   \n",
      " 3   DebtRatio                             101503 non-null  float32\n",
      " 4   MonthlyIncome                         101503 non-null  float32\n",
      " 5   NumberOfOpenCreditLinesAndLoans       101503 non-null  int8   \n",
      " 6   NumberOfTimes90DaysLate               101503 non-null  int8   \n",
      " 7   NumberRealEstateLoansOrLines          101503 non-null  int8   \n",
      " 8   NumberOfTime60-89DaysPastDueNotWorse  101503 non-null  int8   \n",
      " 9   NumberOfDependents                    101503 non-null  float16\n",
      "dtypes: float16(2), float32(2), int8(6)\n",
      "memory usage: 1.7 MB\n"
     ]
    }
   ],
   "source": [
    "test.info()"
   ]
  },
  {
   "cell_type": "markdown",
   "id": "7ccaa101",
   "metadata": {
    "papermill": {
     "duration": 0.047,
     "end_time": "2021-12-27T12:07:52.049784",
     "exception": false,
     "start_time": "2021-12-27T12:07:52.002784",
     "status": "completed"
    },
    "tags": []
   },
   "source": [
    "# Features Engineer1\n",
    "## Add Bin \n",
    "It's always good to bin data when we have lot of outlier and skweness "
   ]
  },
  {
   "cell_type": "code",
   "execution_count": 19,
   "id": "cf48b07b",
   "metadata": {
    "execution": {
     "iopub.execute_input": "2021-12-27T12:07:52.147498Z",
     "iopub.status.busy": "2021-12-27T12:07:52.146765Z",
     "iopub.status.idle": "2021-12-27T12:07:52.849381Z",
     "shell.execute_reply": "2021-12-27T12:07:52.848230Z",
     "shell.execute_reply.started": "2021-12-24T10:04:15.673506Z"
    },
    "papermill": {
     "duration": 0.752517,
     "end_time": "2021-12-27T12:07:52.849602",
     "exception": false,
     "start_time": "2021-12-27T12:07:52.097085",
     "status": "completed"
    },
    "tags": []
   },
   "outputs": [],
   "source": [
    "# Add bin data \n",
    "# initializing append_str\n",
    "append_str = 'cat_'\n",
    "# Append suffix / prefix to strings in list\n",
    "num_features1=[\"RevolvingUtilizationOfUnsecuredLines\", \"DebtRatio\",\"MonthlyIncome\"]\n",
    "num_features2=[\"NumberOfDependents\",\n",
    "                       \"NumberOfTime60-89DaysPastDueNotWorse\",\n",
    "                       \"NumberRealEstateLoansOrLines\",\n",
    "                       \"NumberOfTimes90DaysLate\",\n",
    "                       \"NumberOfOpenCreditLinesAndLoans\",\n",
    "                       \"NumberOfTime30-59DaysPastDueNotWorse\",\n",
    "                       \"age\"]\n",
    "cat_features1 = [append_str + sub for sub in num_features1]\n",
    "cat_features2 = [append_str + sub for sub in num_features2]\n",
    "\n",
    "# create the discretizer object with strategy quantile and 1000 bins\n",
    "discretizer1 = KBinsDiscretizer(n_bins=40, encode='ordinal',strategy='quantile')\n",
    "discretizer2 = KBinsDiscretizer(n_bins=4, encode='ordinal',strategy='quantile')\n",
    "\n",
    "pipeline1 = Pipeline([\n",
    "        ('imputer', SimpleImputer( strategy='median')),\n",
    "        ('bin', discretizer1)\n",
    "    ])\n",
    "# fit the discretizer to the train set\n",
    "pipeline1.fit(train.loc[:,num_features1])\n",
    "# apply the discretisation\n",
    "train_cat1 = pipeline1.transform(train.loc[:,num_features1])\n",
    "test_cat1 = pipeline1.transform(test.loc[:,num_features1])\n",
    "train_df1=pd.DataFrame(train_cat1,columns=cat_features1).astype('category')\n",
    "test_df1=pd.DataFrame(test_cat1,columns=cat_features1).astype('category')\n",
    "train_final1= pd.concat( [train.loc[:,num_features1], train_df1], axis=1) \n",
    "test_final1= pd.concat( [test.loc[:,num_features1], test_df1], axis=1) \n",
    "\n",
    "pipeline2 = Pipeline([\n",
    "        ('imputer', SimpleImputer( strategy='median')),\n",
    "        ('bin', discretizer2)\n",
    "    ])\n",
    "# fit the discretizer to the train set\n",
    "pipeline2.fit(train.loc[:,num_features2])\n",
    "# apply the discretisation\n",
    "train_cat2 = pipeline2.transform(train.loc[:,num_features2])\n",
    "test_cat2 = pipeline2.transform(test.loc[:,num_features2])\n",
    "train_df2=pd.DataFrame(train_cat2,columns=cat_features2).astype('category')\n",
    "test_df2=pd.DataFrame(test_cat2,columns=cat_features2).astype('category')\n",
    "train_final2= pd.concat( [train.loc[:,num_features2], train_df2], axis=1) \n",
    "test_final2= pd.concat( [test.loc[:,num_features2], test_df2], axis=1) "
   ]
  },
  {
   "cell_type": "code",
   "execution_count": 20,
   "id": "d8621512",
   "metadata": {
    "execution": {
     "iopub.execute_input": "2021-12-27T12:07:52.958797Z",
     "iopub.status.busy": "2021-12-27T12:07:52.958062Z",
     "iopub.status.idle": "2021-12-27T12:07:52.962830Z",
     "shell.execute_reply": "2021-12-27T12:07:52.963294Z",
     "shell.execute_reply.started": "2021-12-24T10:04:16.382214Z"
    },
    "papermill": {
     "duration": 0.056981,
     "end_time": "2021-12-27T12:07:52.963465",
     "exception": false,
     "start_time": "2021-12-27T12:07:52.906484",
     "status": "completed"
    },
    "tags": []
   },
   "outputs": [],
   "source": [
    "train_final= pd.concat( [train_final1, train_final2], axis=1) \n",
    "test_final= pd.concat( [test_final1, test_final2], axis=1) "
   ]
  },
  {
   "cell_type": "markdown",
   "id": "f6e2dab3",
   "metadata": {
    "papermill": {
     "duration": 0.046665,
     "end_time": "2021-12-27T12:07:53.058051",
     "exception": false,
     "start_time": "2021-12-27T12:07:53.011386",
     "status": "completed"
    },
    "tags": []
   },
   "source": [
    "# Final X and y"
   ]
  },
  {
   "cell_type": "code",
   "execution_count": 21,
   "id": "26632328",
   "metadata": {
    "execution": {
     "iopub.execute_input": "2021-12-27T12:07:53.156771Z",
     "iopub.status.busy": "2021-12-27T12:07:53.155712Z",
     "iopub.status.idle": "2021-12-27T12:07:53.159690Z",
     "shell.execute_reply": "2021-12-27T12:07:53.160162Z",
     "shell.execute_reply.started": "2021-12-24T10:04:16.39677Z"
    },
    "papermill": {
     "duration": 0.055224,
     "end_time": "2021-12-27T12:07:53.160338",
     "exception": false,
     "start_time": "2021-12-27T12:07:53.105114",
     "status": "completed"
    },
    "tags": []
   },
   "outputs": [],
   "source": [
    "# Pour le train test\n",
    "target= \"SeriousDlqin2yrs\"\n",
    "X = train_final# axis=1\n",
    "X_test_final =test_final# axis=1"
   ]
  },
  {
   "cell_type": "code",
   "execution_count": 22,
   "id": "cd1490a4",
   "metadata": {
    "execution": {
     "iopub.execute_input": "2021-12-27T12:07:53.264041Z",
     "iopub.status.busy": "2021-12-27T12:07:53.263376Z",
     "iopub.status.idle": "2021-12-27T12:07:53.286736Z",
     "shell.execute_reply": "2021-12-27T12:07:53.287488Z",
     "shell.execute_reply.started": "2021-12-24T10:04:16.406265Z"
    },
    "papermill": {
     "duration": 0.07934,
     "end_time": "2021-12-27T12:07:53.287723",
     "exception": false,
     "start_time": "2021-12-27T12:07:53.208383",
     "status": "completed"
    },
    "tags": []
   },
   "outputs": [
    {
     "name": "stdout",
     "output_type": "stream",
     "text": [
      "<class 'pandas.core.frame.DataFrame'>\n",
      "RangeIndex: 101503 entries, 0 to 101502\n",
      "Data columns (total 20 columns):\n",
      " #   Column                                    Non-Null Count   Dtype   \n",
      "---  ------                                    --------------   -----   \n",
      " 0   RevolvingUtilizationOfUnsecuredLines      101503 non-null  float16 \n",
      " 1   DebtRatio                                 101503 non-null  float32 \n",
      " 2   MonthlyIncome                             101503 non-null  float32 \n",
      " 3   cat_RevolvingUtilizationOfUnsecuredLines  101503 non-null  category\n",
      " 4   cat_DebtRatio                             101503 non-null  category\n",
      " 5   cat_MonthlyIncome                         101503 non-null  category\n",
      " 6   NumberOfDependents                        101503 non-null  float16 \n",
      " 7   NumberOfTime60-89DaysPastDueNotWorse      101503 non-null  int8    \n",
      " 8   NumberRealEstateLoansOrLines              101503 non-null  int8    \n",
      " 9   NumberOfTimes90DaysLate                   101503 non-null  int8    \n",
      " 10  NumberOfOpenCreditLinesAndLoans           101503 non-null  int8    \n",
      " 11  NumberOfTime30-59DaysPastDueNotWorse      101503 non-null  int8    \n",
      " 12  age                                       101503 non-null  int8    \n",
      " 13  cat_NumberOfDependents                    101503 non-null  category\n",
      " 14  cat_NumberOfTime60-89DaysPastDueNotWorse  101503 non-null  category\n",
      " 15  cat_NumberRealEstateLoansOrLines          101503 non-null  category\n",
      " 16  cat_NumberOfTimes90DaysLate               101503 non-null  category\n",
      " 17  cat_NumberOfOpenCreditLinesAndLoans       101503 non-null  category\n",
      " 18  cat_NumberOfTime30-59DaysPastDueNotWorse  101503 non-null  category\n",
      " 19  cat_age                                   101503 non-null  category\n",
      "dtypes: category(10), float16(2), float32(2), int8(6)\n",
      "memory usage: 2.7 MB\n"
     ]
    }
   ],
   "source": [
    "X_test_final.info()"
   ]
  },
  {
   "cell_type": "code",
   "execution_count": 23,
   "id": "ec7bfe4c",
   "metadata": {
    "execution": {
     "iopub.execute_input": "2021-12-27T12:07:53.389398Z",
     "iopub.status.busy": "2021-12-27T12:07:53.388725Z",
     "iopub.status.idle": "2021-12-27T12:07:53.412790Z",
     "shell.execute_reply": "2021-12-27T12:07:53.413536Z",
     "shell.execute_reply.started": "2021-12-24T10:04:16.435334Z"
    },
    "papermill": {
     "duration": 0.074972,
     "end_time": "2021-12-27T12:07:53.413765",
     "exception": false,
     "start_time": "2021-12-27T12:07:53.338793",
     "status": "completed"
    },
    "tags": []
   },
   "outputs": [
    {
     "name": "stdout",
     "output_type": "stream",
     "text": [
      "<class 'pandas.core.frame.DataFrame'>\n",
      "RangeIndex: 150000 entries, 0 to 149999\n",
      "Data columns (total 20 columns):\n",
      " #   Column                                    Non-Null Count   Dtype   \n",
      "---  ------                                    --------------   -----   \n",
      " 0   RevolvingUtilizationOfUnsecuredLines      150000 non-null  float16 \n",
      " 1   DebtRatio                                 150000 non-null  float32 \n",
      " 2   MonthlyIncome                             150000 non-null  float32 \n",
      " 3   cat_RevolvingUtilizationOfUnsecuredLines  150000 non-null  category\n",
      " 4   cat_DebtRatio                             150000 non-null  category\n",
      " 5   cat_MonthlyIncome                         150000 non-null  category\n",
      " 6   NumberOfDependents                        150000 non-null  float16 \n",
      " 7   NumberOfTime60-89DaysPastDueNotWorse      150000 non-null  int8    \n",
      " 8   NumberRealEstateLoansOrLines              150000 non-null  int8    \n",
      " 9   NumberOfTimes90DaysLate                   150000 non-null  int8    \n",
      " 10  NumberOfOpenCreditLinesAndLoans           150000 non-null  int8    \n",
      " 11  NumberOfTime30-59DaysPastDueNotWorse      150000 non-null  int8    \n",
      " 12  age                                       150000 non-null  int8    \n",
      " 13  cat_NumberOfDependents                    150000 non-null  category\n",
      " 14  cat_NumberOfTime60-89DaysPastDueNotWorse  150000 non-null  category\n",
      " 15  cat_NumberRealEstateLoansOrLines          150000 non-null  category\n",
      " 16  cat_NumberOfTimes90DaysLate               150000 non-null  category\n",
      " 17  cat_NumberOfOpenCreditLinesAndLoans       150000 non-null  category\n",
      " 18  cat_NumberOfTime30-59DaysPastDueNotWorse  150000 non-null  category\n",
      " 19  cat_age                                   150000 non-null  category\n",
      "dtypes: category(10), float16(2), float32(2), int8(6)\n",
      "memory usage: 4.0 MB\n"
     ]
    }
   ],
   "source": [
    "X.info()"
   ]
  },
  {
   "cell_type": "markdown",
   "id": "e408c95a",
   "metadata": {
    "papermill": {
     "duration": 0.046977,
     "end_time": "2021-12-27T12:07:53.509540",
     "exception": false,
     "start_time": "2021-12-27T12:07:53.462563",
     "status": "completed"
    },
    "tags": []
   },
   "source": [
    "# Features Engineer2\n",
    "## Create some combination  between features "
   ]
  },
  {
   "cell_type": "code",
   "execution_count": 24,
   "id": "0f0a0b31",
   "metadata": {
    "execution": {
     "iopub.execute_input": "2021-12-27T12:07:53.609508Z",
     "iopub.status.busy": "2021-12-27T12:07:53.608700Z",
     "iopub.status.idle": "2021-12-27T12:07:53.611531Z",
     "shell.execute_reply": "2021-12-27T12:07:53.610875Z",
     "shell.execute_reply.started": "2021-12-24T10:04:16.462317Z"
    },
    "papermill": {
     "duration": 0.054959,
     "end_time": "2021-12-27T12:07:53.611689",
     "exception": false,
     "start_time": "2021-12-27T12:07:53.556730",
     "status": "completed"
    },
    "tags": []
   },
   "outputs": [],
   "source": [
    "del train\n",
    "del test \n",
    "del train_final\n",
    "del test_final"
   ]
  },
  {
   "cell_type": "markdown",
   "id": "aec9df18",
   "metadata": {
    "papermill": {
     "duration": 0.048194,
     "end_time": "2021-12-27T12:07:53.707627",
     "exception": false,
     "start_time": "2021-12-27T12:07:53.659433",
     "status": "completed"
    },
    "tags": []
   },
   "source": [
    "# Extract final cat  and num Features \n",
    "## Cat Features "
   ]
  },
  {
   "cell_type": "code",
   "execution_count": 25,
   "id": "305ceff8",
   "metadata": {
    "execution": {
     "iopub.execute_input": "2021-12-27T12:07:53.815377Z",
     "iopub.status.busy": "2021-12-27T12:07:53.814276Z",
     "iopub.status.idle": "2021-12-27T12:07:53.819644Z",
     "shell.execute_reply": "2021-12-27T12:07:53.820088Z",
     "shell.execute_reply.started": "2021-12-24T10:04:16.469303Z"
    },
    "papermill": {
     "duration": 0.063659,
     "end_time": "2021-12-27T12:07:53.820277",
     "exception": false,
     "start_time": "2021-12-27T12:07:53.756618",
     "status": "completed"
    },
    "tags": []
   },
   "outputs": [
    {
     "data": {
      "text/plain": [
       "Index(['cat_RevolvingUtilizationOfUnsecuredLines', 'cat_DebtRatio',\n",
       "       'cat_MonthlyIncome', 'cat_NumberOfDependents',\n",
       "       'cat_NumberOfTime60-89DaysPastDueNotWorse',\n",
       "       'cat_NumberRealEstateLoansOrLines', 'cat_NumberOfTimes90DaysLate',\n",
       "       'cat_NumberOfOpenCreditLinesAndLoans',\n",
       "       'cat_NumberOfTime30-59DaysPastDueNotWorse', 'cat_age'],\n",
       "      dtype='object')"
      ]
     },
     "execution_count": 25,
     "metadata": {},
     "output_type": "execute_result"
    }
   ],
   "source": [
    "# select non-numeric columns\n",
    "cat_columns = X.select_dtypes(exclude=['int64','int16','float16','float32','float64','int8']).columns\n",
    "cat_columns"
   ]
  },
  {
   "cell_type": "markdown",
   "id": "86ac6ccb",
   "metadata": {
    "papermill": {
     "duration": 0.047393,
     "end_time": "2021-12-27T12:07:53.919058",
     "exception": false,
     "start_time": "2021-12-27T12:07:53.871665",
     "status": "completed"
    },
    "tags": []
   },
   "source": [
    "**Num Features**\n",
    "\n"
   ]
  },
  {
   "cell_type": "code",
   "execution_count": 26,
   "id": "ed036db8",
   "metadata": {
    "execution": {
     "iopub.execute_input": "2021-12-27T12:07:54.019396Z",
     "iopub.status.busy": "2021-12-27T12:07:54.018380Z",
     "iopub.status.idle": "2021-12-27T12:07:54.031446Z",
     "shell.execute_reply": "2021-12-27T12:07:54.030911Z",
     "shell.execute_reply.started": "2021-12-24T10:04:16.491535Z"
    },
    "papermill": {
     "duration": 0.064648,
     "end_time": "2021-12-27T12:07:54.031633",
     "exception": false,
     "start_time": "2021-12-27T12:07:53.966985",
     "status": "completed"
    },
    "tags": []
   },
   "outputs": [
    {
     "data": {
      "text/plain": [
       "Index(['RevolvingUtilizationOfUnsecuredLines', 'DebtRatio', 'MonthlyIncome',\n",
       "       'NumberOfDependents', 'NumberOfTime60-89DaysPastDueNotWorse',\n",
       "       'NumberRealEstateLoansOrLines', 'NumberOfTimes90DaysLate',\n",
       "       'NumberOfOpenCreditLinesAndLoans',\n",
       "       'NumberOfTime30-59DaysPastDueNotWorse', 'age'],\n",
       "      dtype='object')"
      ]
     },
     "execution_count": 26,
     "metadata": {},
     "output_type": "execute_result"
    }
   ],
   "source": [
    "# select the float columns\n",
    "num_columns = X.select_dtypes(include=['int64','int16','float16','float32','float64','int8']).columns\n",
    "num_columns"
   ]
  },
  {
   "cell_type": "code",
   "execution_count": 27,
   "id": "734c2288",
   "metadata": {
    "execution": {
     "iopub.execute_input": "2021-12-27T12:07:54.144886Z",
     "iopub.status.busy": "2021-12-27T12:07:54.144206Z",
     "iopub.status.idle": "2021-12-27T12:07:54.146797Z",
     "shell.execute_reply": "2021-12-27T12:07:54.147523Z",
     "shell.execute_reply.started": "2021-12-24T10:04:16.507269Z"
    },
    "papermill": {
     "duration": 0.066649,
     "end_time": "2021-12-27T12:07:54.147724",
     "exception": false,
     "start_time": "2021-12-27T12:07:54.081075",
     "status": "completed"
    },
    "tags": []
   },
   "outputs": [],
   "source": [
    "class FeaturesEngineer(BaseEstimator, TransformerMixin):\n",
    "    def fit(self, X, y=None):\n",
    "        return self\n",
    "    def transform(self, X, y=None):\n",
    "        X=X.copy()\n",
    "        # Calculate some metrics across rows\n",
    "        X[\"num_missing\"]  = X.isnull().sum(axis=1)\n",
    "        X[\"std_row\"] = X.std(axis=1)\n",
    "        X[\"sem_row\"] = X.sem(axis=1)\n",
    "        X[\"abs_sum_row\"] = X.abs().sum(axis=1)\n",
    "        X[\"mean_row\"] = X.mean(axis=1)\n",
    "        X[\"max_row\"]= X.max(axis=1)\n",
    "        X[\"min_row\"]= X.min(axis=1)\n",
    "        X['Weighted_Sum_PastDue'] = 2 * X['NumberOfTime30-59DaysPastDueNotWorse'] + 3 * X['NumberOfTime60-89DaysPastDueNotWorse'] + 6 * X['NumberOfTimes90DaysLate']\n",
    "        X['90days_out_of_TotalPastDue'] = X['NumberOfTimes90DaysLate'] / (X['Weighted_Sum_PastDue'])\n",
    "        X.loc[X['Weighted_Sum_PastDue']==0, '90days_out_of_TotalPastDue'] = 0\n",
    "        X['RemainingLines'] = X['NumberOfOpenCreditLinesAndLoans'] - X['NumberRealEstateLoansOrLines']\n",
    "        X['Loans_vs_Other_Lines'] = X['RemainingLines'] / (1 + X['NumberRealEstateLoansOrLines'])\n",
    "        X['Debt_per_Real_Estate_Loan'] = X['DebtRatio'] / X['NumberRealEstateLoansOrLines']\n",
    "        X.loc[X['NumberRealEstateLoansOrLines']==0, 'Debt_per_Real_Estate_Loan'] = 0\n",
    "        X['Disposable_Income_per_person'] = (X['MonthlyIncome'] - X['DebtRatio']) / (X['NumberOfDependents'] + 1)\n",
    "        X.loc[X['NumberOfDependents']==0, 'Disposable_Income_per_person'] = 0\n",
    "        X['RemainingLines_per_person'] = X['RemainingLines'] / (X['NumberOfDependents'] + 1)\n",
    "        X['NumberRE_X_DebtRatio_X_age'] = X['NumberRealEstateLoansOrLines'] * X['DebtRatio'] / X['age']\n",
    "        X['RevolvingUtilization_per_age'] = X['RevolvingUtilizationOfUnsecuredLines'] / X['age']\n",
    "        X[X==np.inf]=np.nan\n",
    "        X=reduce_mem_usage(X)\n",
    "        return X  \n"
   ]
  },
  {
   "cell_type": "markdown",
   "id": "7a53a1eb",
   "metadata": {
    "papermill": {
     "duration": 0.049184,
     "end_time": "2021-12-27T12:07:54.244992",
     "exception": false,
     "start_time": "2021-12-27T12:07:54.195808",
     "status": "completed"
    },
    "tags": []
   },
   "source": [
    "# Features Engineer3\n",
    "# Poly features + Sparse Features + Kmeans \n"
   ]
  },
  {
   "cell_type": "code",
   "execution_count": 28,
   "id": "26e7170a",
   "metadata": {
    "execution": {
     "iopub.execute_input": "2021-12-27T12:07:54.351964Z",
     "iopub.status.busy": "2021-12-27T12:07:54.349876Z",
     "iopub.status.idle": "2021-12-27T12:07:54.355085Z",
     "shell.execute_reply": "2021-12-27T12:07:54.354563Z",
     "shell.execute_reply.started": "2021-12-24T10:04:16.527586Z"
    },
    "papermill": {
     "duration": 0.061499,
     "end_time": "2021-12-27T12:07:54.355234",
     "exception": false,
     "start_time": "2021-12-27T12:07:54.293735",
     "status": "completed"
    },
    "tags": []
   },
   "outputs": [],
   "source": [
    "class MiniKmeansTransformerEncoder(BaseEstimator, TransformerMixin):\n",
    "    def __init__(self, num_clusters = 11, encoder=ce.woe.WOEEncoder()):\n",
    "        self.num_clusters = num_clusters\n",
    "        self.encoder= encoder\n",
    "        if self.num_clusters > 0:\n",
    "            self.kmeans = MiniBatchKMeans(n_clusters=self.num_clusters, random_state=0)\n",
    "    \n",
    "    def fit(self, X, y=None):\n",
    "        if self.num_clusters > 0:\n",
    "            self.kmeans.fit(X)\n",
    "            preds=self.kmeans.predict(X)\n",
    "            preds=pd.DataFrame(preds, columns=['kmeans']).astype('category')\n",
    "            self.encoder.fit(preds,y)\n",
    "        return self\n",
    "    \n",
    "    def transform(self, X, y=None):\n",
    "        pred_classes = self.kmeans.predict(X)\n",
    "        pred_classes=pd.DataFrame(pred_classes, columns=['kmeans']).astype('category')\n",
    "        pred_encoded = self.encoder.transform(pred_classes)\n",
    "        return np.hstack((X, pred_encoded))\n",
    "        #return pred_encoded"
   ]
  },
  {
   "cell_type": "code",
   "execution_count": 29,
   "id": "75e463ca",
   "metadata": {
    "execution": {
     "iopub.execute_input": "2021-12-27T12:07:54.460708Z",
     "iopub.status.busy": "2021-12-27T12:07:54.459995Z",
     "iopub.status.idle": "2021-12-27T12:07:54.467169Z",
     "shell.execute_reply": "2021-12-27T12:07:54.466637Z",
     "shell.execute_reply.started": "2021-12-24T10:04:16.54215Z"
    },
    "papermill": {
     "duration": 0.06395,
     "end_time": "2021-12-27T12:07:54.467321",
     "exception": false,
     "start_time": "2021-12-27T12:07:54.403371",
     "status": "completed"
    },
    "tags": []
   },
   "outputs": [],
   "source": [
    "class SparseInteractions(BaseEstimator, TransformerMixin):\n",
    "    def __init__(self, degree=2, feature_name_separator=\"_\"):\n",
    "        self.degree = degree\n",
    "        self.feature_name_separator = feature_name_separator\n",
    "    \n",
    "    def fit(self, X, y=None):\n",
    "        return self\n",
    "        \n",
    "    def transform(self, X):\n",
    "        if not sparse.isspmatrix_csc(X):\n",
    "            X = sparse.csc_matrix(X)\n",
    "            \n",
    "        if hasattr(X, \"columns\"):\n",
    "            self.orig_col_names = X.columns\n",
    "        else:\n",
    "            self.orig_col_names = np.array([str(i) for i in range(X.shape[1])])\n",
    "            \n",
    "        spi = self._create_sparse_interactions(X)\n",
    "        return spi\n",
    "    \n",
    "    \n",
    "    def get_feature_names(self):\n",
    "        return self.feature_names\n",
    "    \n",
    "    def _create_sparse_interactions(self, X):\n",
    "        out_mat = []\n",
    "        self.feature_names = self.orig_col_names.tolist()\n",
    "        \n",
    "        for sub_degree in range(2, self.degree + 1):\n",
    "            for col_ixs in combinations(range(X.shape[1]), sub_degree):\n",
    "                # add name for new column\n",
    "                name = self.feature_name_separator.join(self.orig_col_names[list(col_ixs)])\n",
    "                self.feature_names.append(name)\n",
    "                \n",
    "                # get column multiplications value\n",
    "                out = X[:, col_ixs[0]]    \n",
    "                for j in col_ixs[1:]:\n",
    "                    out = out.multiply(X[:, j])\n",
    "\n",
    "                out_mat.append(out)\n",
    "\n",
    "        return sparse.hstack([X] + out_mat)\n",
    "    "
   ]
  },
  {
   "cell_type": "markdown",
   "id": "85f8e3c8",
   "metadata": {
    "papermill": {
     "duration": 0.048175,
     "end_time": "2021-12-27T12:07:54.563736",
     "exception": false,
     "start_time": "2021-12-27T12:07:54.515561",
     "status": "completed"
    },
    "tags": []
   },
   "source": [
    "# Complete Pipe \n",
    "\n",
    "1. Features Engineer\n",
    "\n",
    "1. Kmeans\n",
    "\n",
    "1. Sparse\n",
    "\n",
    "1. Poly\n",
    "\n",
    "1. Scaler/Transformer\n",
    "\n",
    "1. imput"
   ]
  },
  {
   "cell_type": "code",
   "execution_count": 30,
   "id": "7d5be31b",
   "metadata": {
    "execution": {
     "iopub.execute_input": "2021-12-27T12:07:54.669888Z",
     "iopub.status.busy": "2021-12-27T12:07:54.669186Z",
     "iopub.status.idle": "2021-12-27T12:07:54.672302Z",
     "shell.execute_reply": "2021-12-27T12:07:54.671765Z",
     "shell.execute_reply.started": "2021-12-24T10:04:16.560265Z"
    },
    "papermill": {
     "duration": 0.059692,
     "end_time": "2021-12-27T12:07:54.672462",
     "exception": false,
     "start_time": "2021-12-27T12:07:54.612770",
     "status": "completed"
    },
    "tags": []
   },
   "outputs": [],
   "source": [
    "# Cat pipeline\n",
    "categorical_transformer = Pipeline(\n",
    "                    steps=[\n",
    "                        ('imputer', SimpleImputer(strategy='most_frequent',\n",
    "                                                  fill_value='missing',\n",
    "                                                  add_indicator=True)),\n",
    "                        ('encoder',  ce.woe.WOEEncoder()),#(Numerical Input, Categorical Output)\n",
    "                        #('sparse_features', SparseInteractions(degree=2)),\n",
    "                        #('reducedim',  SelectPercentile( mutual_info_classif, percentile=90))\n",
    "\n",
    "                    ]\n",
    "                    ) \n",
    "#Define vnum pipeline\n",
    "numeric_transformer = Pipeline(\n",
    "                            steps=[\n",
    "                            ('imputer', SimpleImputer(strategy='median'\n",
    "                                                      ,add_indicator=True)),\n",
    "                            #('general_features',FeaturesEngineer()),\n",
    "                            ('scaler', PowerTransformer()),#(Numerical Input, Numerical Output)\n",
    "                            # Create an SelectKBest object to select features with two best ANOVA F-Values\n",
    "                            #The F-value scores examine if, when we group the numerical feature by the target vector, the means for each group are significantly different\n",
    "                            ('polynominal_features', PolynomialFeatures(degree=2)),\n",
    "                            ('kmeans',MiniKmeansTransformerEncoder()),\n",
    "                            #('reducedim',  SelectPercentile(f_classif,percentile=90))\n",
    "                            ]\n",
    "                            )\n",
    "# Features union cat + num \n",
    "# WOE+PowerTransformer\n",
    "preprocessor_woe_powertransformer = ColumnTransformer(\n",
    "            transformers=[\n",
    "                ('numerical', numeric_transformer, num_columns),\n",
    "               # ('categorical', categorical_transformer, cat_columns)\n",
    "            ])"
   ]
  },
  {
   "cell_type": "markdown",
   "id": "761fa677",
   "metadata": {
    "papermill": {
     "duration": 0.047999,
     "end_time": "2021-12-27T12:07:54.768688",
     "exception": false,
     "start_time": "2021-12-27T12:07:54.720689",
     "status": "completed"
    },
    "tags": []
   },
   "source": [
    "# Pipe V15 num+ poly +kmeans "
   ]
  },
  {
   "cell_type": "code",
   "execution_count": 31,
   "id": "38658c7e",
   "metadata": {
    "execution": {
     "iopub.execute_input": "2021-12-27T12:07:54.872389Z",
     "iopub.status.busy": "2021-12-27T12:07:54.871345Z",
     "iopub.status.idle": "2021-12-27T12:07:54.947287Z",
     "shell.execute_reply": "2021-12-27T12:07:54.946776Z",
     "shell.execute_reply.started": "2021-12-24T10:04:16.583058Z"
    },
    "papermill": {
     "duration": 0.129659,
     "end_time": "2021-12-27T12:07:54.947434",
     "exception": false,
     "start_time": "2021-12-27T12:07:54.817775",
     "status": "completed"
    },
    "tags": []
   },
   "outputs": [
    {
     "data": {
      "text/html": [
       "<style>div.sk-top-container {color: black;background-color: white;}div.sk-toggleable {background-color: white;}label.sk-toggleable__label {cursor: pointer;display: block;width: 100%;margin-bottom: 0;padding: 0.2em 0.3em;box-sizing: border-box;text-align: center;}div.sk-toggleable__content {max-height: 0;max-width: 0;overflow: hidden;text-align: left;background-color: #f0f8ff;}div.sk-toggleable__content pre {margin: 0.2em;color: black;border-radius: 0.25em;background-color: #f0f8ff;}input.sk-toggleable__control:checked~div.sk-toggleable__content {max-height: 200px;max-width: 100%;overflow: auto;}div.sk-estimator input.sk-toggleable__control:checked~label.sk-toggleable__label {background-color: #d4ebff;}div.sk-label input.sk-toggleable__control:checked~label.sk-toggleable__label {background-color: #d4ebff;}input.sk-hidden--visually {border: 0;clip: rect(1px 1px 1px 1px);clip: rect(1px, 1px, 1px, 1px);height: 1px;margin: -1px;overflow: hidden;padding: 0;position: absolute;width: 1px;}div.sk-estimator {font-family: monospace;background-color: #f0f8ff;margin: 0.25em 0.25em;border: 1px dotted black;border-radius: 0.25em;box-sizing: border-box;}div.sk-estimator:hover {background-color: #d4ebff;}div.sk-parallel-item::after {content: \"\";width: 100%;border-bottom: 1px solid gray;flex-grow: 1;}div.sk-label:hover label.sk-toggleable__label {background-color: #d4ebff;}div.sk-serial::before {content: \"\";position: absolute;border-left: 1px solid gray;box-sizing: border-box;top: 2em;bottom: 0;left: 50%;}div.sk-serial {display: flex;flex-direction: column;align-items: center;background-color: white;}div.sk-item {z-index: 1;}div.sk-parallel {display: flex;align-items: stretch;justify-content: center;background-color: white;}div.sk-parallel-item {display: flex;flex-direction: column;position: relative;background-color: white;}div.sk-parallel-item:first-child::after {align-self: flex-end;width: 50%;}div.sk-parallel-item:last-child::after {align-self: flex-start;width: 50%;}div.sk-parallel-item:only-child::after {width: 0;}div.sk-dashed-wrapped {border: 1px dashed gray;margin: 0.2em;box-sizing: border-box;padding-bottom: 0.1em;background-color: white;position: relative;}div.sk-label label {font-family: monospace;font-weight: bold;background-color: white;display: inline-block;line-height: 1.2em;}div.sk-label-container {position: relative;z-index: 2;text-align: center;}div.sk-container {display: inline-block;position: relative;}</style><div class=\"sk-top-container\"><div class=\"sk-container\"><div class=\"sk-item sk-dashed-wrapped\"><div class=\"sk-label-container\"><div class=\"sk-label sk-toggleable\"><input class=\"sk-toggleable__control sk-hidden--visually\" id=\"991bffc4-f650-4cea-b4b7-08da8e99c86f\" type=\"checkbox\" ><label class=\"sk-toggleable__label\" for=\"991bffc4-f650-4cea-b4b7-08da8e99c86f\">ColumnTransformer</label><div class=\"sk-toggleable__content\"><pre>ColumnTransformer(transformers=[('numerical',\n",
       "                                 Pipeline(steps=[('imputer',\n",
       "                                                  SimpleImputer(add_indicator=True,\n",
       "                                                                strategy='median')),\n",
       "                                                 ('scaler', PowerTransformer()),\n",
       "                                                 ('polynominal_features',\n",
       "                                                  PolynomialFeatures()),\n",
       "                                                 ('kmeans',\n",
       "                                                  MiniKmeansTransformerEncoder())]),\n",
       "                                 Index(['RevolvingUtilizationOfUnsecuredLines', 'DebtRatio', 'MonthlyIncome',\n",
       "       'NumberOfDependents', 'NumberOfTime60-89DaysPastDueNotWorse',\n",
       "       'NumberRealEstateLoansOrLines', 'NumberOfTimes90DaysLate',\n",
       "       'NumberOfOpenCreditLinesAndLoans',\n",
       "       'NumberOfTime30-59DaysPastDueNotWorse', 'age'],\n",
       "      dtype='object'))])</pre></div></div></div><div class=\"sk-parallel\"><div class=\"sk-parallel-item\"><div class=\"sk-item\"><div class=\"sk-label-container\"><div class=\"sk-label sk-toggleable\"><input class=\"sk-toggleable__control sk-hidden--visually\" id=\"17a684fe-3698-42ab-832c-d49c4eaec8e3\" type=\"checkbox\" ><label class=\"sk-toggleable__label\" for=\"17a684fe-3698-42ab-832c-d49c4eaec8e3\">numerical</label><div class=\"sk-toggleable__content\"><pre>Index(['RevolvingUtilizationOfUnsecuredLines', 'DebtRatio', 'MonthlyIncome',\n",
       "       'NumberOfDependents', 'NumberOfTime60-89DaysPastDueNotWorse',\n",
       "       'NumberRealEstateLoansOrLines', 'NumberOfTimes90DaysLate',\n",
       "       'NumberOfOpenCreditLinesAndLoans',\n",
       "       'NumberOfTime30-59DaysPastDueNotWorse', 'age'],\n",
       "      dtype='object')</pre></div></div></div><div class=\"sk-serial\"><div class=\"sk-item\"><div class=\"sk-serial\"><div class=\"sk-item\"><div class=\"sk-estimator sk-toggleable\"><input class=\"sk-toggleable__control sk-hidden--visually\" id=\"782762ea-801d-42ae-9407-b0c28950cdeb\" type=\"checkbox\" ><label class=\"sk-toggleable__label\" for=\"782762ea-801d-42ae-9407-b0c28950cdeb\">SimpleImputer</label><div class=\"sk-toggleable__content\"><pre>SimpleImputer(add_indicator=True, strategy='median')</pre></div></div></div><div class=\"sk-item\"><div class=\"sk-estimator sk-toggleable\"><input class=\"sk-toggleable__control sk-hidden--visually\" id=\"56dbca80-eec3-413d-bd71-9de2b312ff97\" type=\"checkbox\" ><label class=\"sk-toggleable__label\" for=\"56dbca80-eec3-413d-bd71-9de2b312ff97\">PowerTransformer</label><div class=\"sk-toggleable__content\"><pre>PowerTransformer()</pre></div></div></div><div class=\"sk-item\"><div class=\"sk-estimator sk-toggleable\"><input class=\"sk-toggleable__control sk-hidden--visually\" id=\"01dfe863-216c-4f70-a527-bb0b18471ab4\" type=\"checkbox\" ><label class=\"sk-toggleable__label\" for=\"01dfe863-216c-4f70-a527-bb0b18471ab4\">PolynomialFeatures</label><div class=\"sk-toggleable__content\"><pre>PolynomialFeatures()</pre></div></div></div><div class=\"sk-item sk-dashed-wrapped\"><div class=\"sk-label-container\"><div class=\"sk-label sk-toggleable\"><input class=\"sk-toggleable__control sk-hidden--visually\" id=\"a992bbc8-2c5e-4aed-920f-25545ca009c8\" type=\"checkbox\" ><label class=\"sk-toggleable__label\" for=\"a992bbc8-2c5e-4aed-920f-25545ca009c8\">kmeans: MiniKmeansTransformerEncoder</label><div class=\"sk-toggleable__content\"><pre>MiniKmeansTransformerEncoder()</pre></div></div></div><div class=\"sk-parallel\"><div class=\"sk-parallel-item\"><div class=\"sk-item\"><div class=\"sk-serial\"><div class=\"sk-item\"><div class=\"sk-estimator sk-toggleable\"><input class=\"sk-toggleable__control sk-hidden--visually\" id=\"95f86f42-222e-42c0-b0f6-1473dc56deaa\" type=\"checkbox\" ><label class=\"sk-toggleable__label\" for=\"95f86f42-222e-42c0-b0f6-1473dc56deaa\">WOEEncoder</label><div class=\"sk-toggleable__content\"><pre>WOEEncoder()</pre></div></div></div></div></div></div></div></div></div></div></div></div></div></div></div></div></div>"
      ],
      "text/plain": [
       "ColumnTransformer(transformers=[('numerical',\n",
       "                                 Pipeline(steps=[('imputer',\n",
       "                                                  SimpleImputer(add_indicator=True,\n",
       "                                                                strategy='median')),\n",
       "                                                 ('scaler', PowerTransformer()),\n",
       "                                                 ('polynominal_features',\n",
       "                                                  PolynomialFeatures()),\n",
       "                                                 ('kmeans',\n",
       "                                                  MiniKmeansTransformerEncoder())]),\n",
       "                                 Index(['RevolvingUtilizationOfUnsecuredLines', 'DebtRatio', 'MonthlyIncome',\n",
       "       'NumberOfDependents', 'NumberOfTime60-89DaysPastDueNotWorse',\n",
       "       'NumberRealEstateLoansOrLines', 'NumberOfTimes90DaysLate',\n",
       "       'NumberOfOpenCreditLinesAndLoans',\n",
       "       'NumberOfTime30-59DaysPastDueNotWorse', 'age'],\n",
       "      dtype='object'))])"
      ]
     },
     "execution_count": 31,
     "metadata": {},
     "output_type": "execute_result"
    }
   ],
   "source": [
    "preprocessor_woe_powertransformer"
   ]
  },
  {
   "cell_type": "code",
   "execution_count": 32,
   "id": "02a76fb4",
   "metadata": {
    "execution": {
     "iopub.execute_input": "2021-12-27T12:07:55.059451Z",
     "iopub.status.busy": "2021-12-27T12:07:55.054043Z",
     "iopub.status.idle": "2021-12-27T12:07:55.459088Z",
     "shell.execute_reply": "2021-12-27T12:07:55.458429Z",
     "shell.execute_reply.started": "2021-12-24T10:04:16.676988Z"
    },
    "papermill": {
     "duration": 0.462883,
     "end_time": "2021-12-27T12:07:55.459247",
     "exception": false,
     "start_time": "2021-12-27T12:07:54.996364",
     "status": "completed"
    },
    "tags": []
   },
   "outputs": [
    {
     "data": {
      "text/html": [
       "<style>div.sk-top-container {color: black;background-color: white;}div.sk-toggleable {background-color: white;}label.sk-toggleable__label {cursor: pointer;display: block;width: 100%;margin-bottom: 0;padding: 0.2em 0.3em;box-sizing: border-box;text-align: center;}div.sk-toggleable__content {max-height: 0;max-width: 0;overflow: hidden;text-align: left;background-color: #f0f8ff;}div.sk-toggleable__content pre {margin: 0.2em;color: black;border-radius: 0.25em;background-color: #f0f8ff;}input.sk-toggleable__control:checked~div.sk-toggleable__content {max-height: 200px;max-width: 100%;overflow: auto;}div.sk-estimator input.sk-toggleable__control:checked~label.sk-toggleable__label {background-color: #d4ebff;}div.sk-label input.sk-toggleable__control:checked~label.sk-toggleable__label {background-color: #d4ebff;}input.sk-hidden--visually {border: 0;clip: rect(1px 1px 1px 1px);clip: rect(1px, 1px, 1px, 1px);height: 1px;margin: -1px;overflow: hidden;padding: 0;position: absolute;width: 1px;}div.sk-estimator {font-family: monospace;background-color: #f0f8ff;margin: 0.25em 0.25em;border: 1px dotted black;border-radius: 0.25em;box-sizing: border-box;}div.sk-estimator:hover {background-color: #d4ebff;}div.sk-parallel-item::after {content: \"\";width: 100%;border-bottom: 1px solid gray;flex-grow: 1;}div.sk-label:hover label.sk-toggleable__label {background-color: #d4ebff;}div.sk-serial::before {content: \"\";position: absolute;border-left: 1px solid gray;box-sizing: border-box;top: 2em;bottom: 0;left: 50%;}div.sk-serial {display: flex;flex-direction: column;align-items: center;background-color: white;}div.sk-item {z-index: 1;}div.sk-parallel {display: flex;align-items: stretch;justify-content: center;background-color: white;}div.sk-parallel-item {display: flex;flex-direction: column;position: relative;background-color: white;}div.sk-parallel-item:first-child::after {align-self: flex-end;width: 50%;}div.sk-parallel-item:last-child::after {align-self: flex-start;width: 50%;}div.sk-parallel-item:only-child::after {width: 0;}div.sk-dashed-wrapped {border: 1px dashed gray;margin: 0.2em;box-sizing: border-box;padding-bottom: 0.1em;background-color: white;position: relative;}div.sk-label label {font-family: monospace;font-weight: bold;background-color: white;display: inline-block;line-height: 1.2em;}div.sk-label-container {position: relative;z-index: 2;text-align: center;}div.sk-container {display: inline-block;position: relative;}</style><div class=\"sk-top-container\"><div class=\"sk-container\"><div class=\"sk-item sk-dashed-wrapped\"><div class=\"sk-label-container\"><div class=\"sk-label sk-toggleable\"><input class=\"sk-toggleable__control sk-hidden--visually\" id=\"4416f51c-8f2e-4186-b724-115d2cf34f6d\" type=\"checkbox\" ><label class=\"sk-toggleable__label\" for=\"4416f51c-8f2e-4186-b724-115d2cf34f6d\">Pipeline</label><div class=\"sk-toggleable__content\"><pre>Pipeline(steps=[('preprocessor',\n",
       "                 ColumnTransformer(transformers=[('numerical',\n",
       "                                                  Pipeline(steps=[('imputer',\n",
       "                                                                   SimpleImputer(add_indicator=True,\n",
       "                                                                                 strategy='median')),\n",
       "                                                                  ('scaler',\n",
       "                                                                   PowerTransformer()),\n",
       "                                                                  ('polynominal_features',\n",
       "                                                                   PolynomialFeatures()),\n",
       "                                                                  ('kmeans',\n",
       "                                                                   MiniKmeansTransformerEncoder())]),\n",
       "                                                  Index(['RevolvingUtilizationOfUnsecuredLines', 'DebtRatio', 'MonthlyIncome',\n",
       "       'NumberOfDependents', 'NumberOfTime60-89DaysPastDueNotWorse',\n",
       "       'NumberRealEstateLoansOrLines', 'NumberOfTimes90DaysLate',\n",
       "       'NumberOfOpenCreditLinesAndLoans',\n",
       "       'NumberOfTime30-59DaysPastDueNotWorse', 'age'],\n",
       "      dtype='object'))])),\n",
       "                ('classifier',\n",
       "                 LGBMClassifier(learning_rate=0.0018069834369607075,\n",
       "                                max_depth=8, metric='auc', min_samples_leaf=47,\n",
       "                                n_estimators=5000, random_state=42,\n",
       "                                subsample=0.8573598985000007, verbose=-1))])</pre></div></div></div><div class=\"sk-serial\"><div class=\"sk-item sk-dashed-wrapped\"><div class=\"sk-label-container\"><div class=\"sk-label sk-toggleable\"><input class=\"sk-toggleable__control sk-hidden--visually\" id=\"cabcdc8a-d7bc-400b-8f93-05954a70e51e\" type=\"checkbox\" ><label class=\"sk-toggleable__label\" for=\"cabcdc8a-d7bc-400b-8f93-05954a70e51e\">preprocessor: ColumnTransformer</label><div class=\"sk-toggleable__content\"><pre>ColumnTransformer(transformers=[('numerical',\n",
       "                                 Pipeline(steps=[('imputer',\n",
       "                                                  SimpleImputer(add_indicator=True,\n",
       "                                                                strategy='median')),\n",
       "                                                 ('scaler', PowerTransformer()),\n",
       "                                                 ('polynominal_features',\n",
       "                                                  PolynomialFeatures()),\n",
       "                                                 ('kmeans',\n",
       "                                                  MiniKmeansTransformerEncoder())]),\n",
       "                                 Index(['RevolvingUtilizationOfUnsecuredLines', 'DebtRatio', 'MonthlyIncome',\n",
       "       'NumberOfDependents', 'NumberOfTime60-89DaysPastDueNotWorse',\n",
       "       'NumberRealEstateLoansOrLines', 'NumberOfTimes90DaysLate',\n",
       "       'NumberOfOpenCreditLinesAndLoans',\n",
       "       'NumberOfTime30-59DaysPastDueNotWorse', 'age'],\n",
       "      dtype='object'))])</pre></div></div></div><div class=\"sk-parallel\"><div class=\"sk-parallel-item\"><div class=\"sk-item\"><div class=\"sk-label-container\"><div class=\"sk-label sk-toggleable\"><input class=\"sk-toggleable__control sk-hidden--visually\" id=\"d103fdcb-4cb1-4475-a977-476c9a24df56\" type=\"checkbox\" ><label class=\"sk-toggleable__label\" for=\"d103fdcb-4cb1-4475-a977-476c9a24df56\">numerical</label><div class=\"sk-toggleable__content\"><pre>Index(['RevolvingUtilizationOfUnsecuredLines', 'DebtRatio', 'MonthlyIncome',\n",
       "       'NumberOfDependents', 'NumberOfTime60-89DaysPastDueNotWorse',\n",
       "       'NumberRealEstateLoansOrLines', 'NumberOfTimes90DaysLate',\n",
       "       'NumberOfOpenCreditLinesAndLoans',\n",
       "       'NumberOfTime30-59DaysPastDueNotWorse', 'age'],\n",
       "      dtype='object')</pre></div></div></div><div class=\"sk-serial\"><div class=\"sk-item\"><div class=\"sk-serial\"><div class=\"sk-item\"><div class=\"sk-estimator sk-toggleable\"><input class=\"sk-toggleable__control sk-hidden--visually\" id=\"7b218000-57a1-4efa-9799-eeb21cf385fc\" type=\"checkbox\" ><label class=\"sk-toggleable__label\" for=\"7b218000-57a1-4efa-9799-eeb21cf385fc\">SimpleImputer</label><div class=\"sk-toggleable__content\"><pre>SimpleImputer(add_indicator=True, strategy='median')</pre></div></div></div><div class=\"sk-item\"><div class=\"sk-estimator sk-toggleable\"><input class=\"sk-toggleable__control sk-hidden--visually\" id=\"a23e1608-d1c9-48f0-9084-e19c80cf48dd\" type=\"checkbox\" ><label class=\"sk-toggleable__label\" for=\"a23e1608-d1c9-48f0-9084-e19c80cf48dd\">PowerTransformer</label><div class=\"sk-toggleable__content\"><pre>PowerTransformer()</pre></div></div></div><div class=\"sk-item\"><div class=\"sk-estimator sk-toggleable\"><input class=\"sk-toggleable__control sk-hidden--visually\" id=\"2d8ee8d4-adeb-4098-9ea9-c62ed905a49e\" type=\"checkbox\" ><label class=\"sk-toggleable__label\" for=\"2d8ee8d4-adeb-4098-9ea9-c62ed905a49e\">PolynomialFeatures</label><div class=\"sk-toggleable__content\"><pre>PolynomialFeatures()</pre></div></div></div><div class=\"sk-item sk-dashed-wrapped\"><div class=\"sk-label-container\"><div class=\"sk-label sk-toggleable\"><input class=\"sk-toggleable__control sk-hidden--visually\" id=\"fc6f989f-b2ea-4e14-a820-98f4f118a621\" type=\"checkbox\" ><label class=\"sk-toggleable__label\" for=\"fc6f989f-b2ea-4e14-a820-98f4f118a621\">kmeans: MiniKmeansTransformerEncoder</label><div class=\"sk-toggleable__content\"><pre>MiniKmeansTransformerEncoder()</pre></div></div></div><div class=\"sk-parallel\"><div class=\"sk-parallel-item\"><div class=\"sk-item\"><div class=\"sk-serial\"><div class=\"sk-item\"><div class=\"sk-estimator sk-toggleable\"><input class=\"sk-toggleable__control sk-hidden--visually\" id=\"8d53a20f-2114-4a8b-aeee-9f79c5c70c6b\" type=\"checkbox\" ><label class=\"sk-toggleable__label\" for=\"8d53a20f-2114-4a8b-aeee-9f79c5c70c6b\">WOEEncoder</label><div class=\"sk-toggleable__content\"><pre>WOEEncoder()</pre></div></div></div></div></div></div></div></div></div></div></div></div></div></div></div><div class=\"sk-item\"><div class=\"sk-estimator sk-toggleable\"><input class=\"sk-toggleable__control sk-hidden--visually\" id=\"0662ede8-6c8e-41a4-a8bf-4fcd0ab1b8d6\" type=\"checkbox\" ><label class=\"sk-toggleable__label\" for=\"0662ede8-6c8e-41a4-a8bf-4fcd0ab1b8d6\">LGBMClassifier</label><div class=\"sk-toggleable__content\"><pre>LGBMClassifier(learning_rate=0.0018069834369607075, max_depth=8, metric='auc',\n",
       "               min_samples_leaf=47, n_estimators=5000, random_state=42,\n",
       "               subsample=0.8573598985000007, verbose=-1)</pre></div></div></div></div></div></div></div>"
      ],
      "text/plain": [
       "Pipeline(steps=[('preprocessor',\n",
       "                 ColumnTransformer(transformers=[('numerical',\n",
       "                                                  Pipeline(steps=[('imputer',\n",
       "                                                                   SimpleImputer(add_indicator=True,\n",
       "                                                                                 strategy='median')),\n",
       "                                                                  ('scaler',\n",
       "                                                                   PowerTransformer()),\n",
       "                                                                  ('polynominal_features',\n",
       "                                                                   PolynomialFeatures()),\n",
       "                                                                  ('kmeans',\n",
       "                                                                   MiniKmeansTransformerEncoder())]),\n",
       "                                                  Index(['RevolvingUtilizationOfUnsecuredLines', 'DebtRatio', 'MonthlyIncome',\n",
       "       'NumberOfDependents', 'NumberOfTime60-89DaysPastDueNotWorse',\n",
       "       'NumberRealEstateLoansOrLines', 'NumberOfTimes90DaysLate',\n",
       "       'NumberOfOpenCreditLinesAndLoans',\n",
       "       'NumberOfTime30-59DaysPastDueNotWorse', 'age'],\n",
       "      dtype='object'))])),\n",
       "                ('classifier',\n",
       "                 LGBMClassifier(learning_rate=0.0018069834369607075,\n",
       "                                max_depth=8, metric='auc', min_samples_leaf=47,\n",
       "                                n_estimators=5000, random_state=42,\n",
       "                                subsample=0.8573598985000007, verbose=-1))])"
      ]
     },
     "execution_count": 32,
     "metadata": {},
     "output_type": "execute_result"
    }
   ],
   "source": [
    "lgbm_param={'learning_rate': 0.0018069834369607075,\n",
    "                             'max_depth': 8,\n",
    "                             #'max_features': 4,\n",
    "                             'min_samples_leaf': 47,\n",
    "                             #'min_samples_split': 389,\n",
    "                             'subsample': 0.8573598985000007,\n",
    "                             #'n_iter_no_change': 300,\n",
    "                             'n_estimators': 5000,\n",
    "                            # 'verbose': 0,\n",
    "                             'random_state': 42,\n",
    "                             'metric': 'auc',\n",
    "                            #\"device_type\" : \"gpu\",\n",
    "                            'boosting_type': 'gbdt',\n",
    "                           # 'tree_method': \"gpu_hist\"\n",
    "                           }\n",
    "\n",
    "pipe_lgbm_woe_powertransformer = Pipeline(\n",
    "    steps=[\n",
    "        ('preprocessor', preprocessor_woe_powertransformer),\n",
    "        #('reducedim',  SelectPercentile( mutual_info_classif, percentile=90)),\n",
    "        # ('dim_red', SelectKBest(f_regression, k=20)),\n",
    "        #('Sparseinteractions', SparseInteractions(degree=2)),\n",
    "         #('PolynomialFeatures', PolynomialFeatures(degree=2)),\n",
    "        #('PCAreducer', PCA(n_components=0.8)),\n",
    "        ('classifier',\n",
    "         lgbm.LGBMClassifier( \n",
    "            #n_jobs=-1,\n",
    "                                           verbose=-1,\n",
    "                                           **lgbm_param))\n",
    "    ]\n",
    ")\n",
    "pipe_lgbm_woe_powertransformer"
   ]
  },
  {
   "cell_type": "markdown",
   "id": "3340618b",
   "metadata": {
    "papermill": {
     "duration": 0.049827,
     "end_time": "2021-12-27T12:07:55.558932",
     "exception": false,
     "start_time": "2021-12-27T12:07:55.509105",
     "status": "completed"
    },
    "tags": []
   },
   "source": [
    "# Test Pipes with CV "
   ]
  },
  {
   "cell_type": "code",
   "execution_count": 33,
   "id": "57892d5b",
   "metadata": {
    "execution": {
     "iopub.execute_input": "2021-12-27T12:07:55.667432Z",
     "iopub.status.busy": "2021-12-27T12:07:55.662816Z",
     "iopub.status.idle": "2021-12-27T12:07:55.670365Z",
     "shell.execute_reply": "2021-12-27T12:07:55.669776Z",
     "shell.execute_reply.started": "2021-12-24T10:04:17.08847Z"
    },
    "papermill": {
     "duration": 0.061263,
     "end_time": "2021-12-27T12:07:55.670504",
     "exception": false,
     "start_time": "2021-12-27T12:07:55.609241",
     "status": "completed"
    },
    "tags": []
   },
   "outputs": [],
   "source": [
    "def plot_roc(y,y_pred):\n",
    "    from sklearn.metrics import auc\n",
    "    fpr, tpr, thresholds = roc_curve(y_true=y, y_score=y_pred)\n",
    "    auc = auc(fpr, tpr)\n",
    "    plt.figure(1)\n",
    "    plt.plot([0, 1], [0, 1], 'k--')\n",
    "    plt.plot(fpr, tpr, label='Model(area = {:.3f})'.format(auc))\n",
    "    plt.xlabel('False positive rate')\n",
    "    plt.ylabel('True positive rate')\n",
    "    plt.title('ROC curve')\n",
    "    plt.legend(loc='best')\n",
    "    plt.show()"
   ]
  },
  {
   "cell_type": "code",
   "execution_count": 34,
   "id": "c41270b9",
   "metadata": {
    "execution": {
     "iopub.execute_input": "2021-12-27T12:07:55.778403Z",
     "iopub.status.busy": "2021-12-27T12:07:55.777690Z",
     "iopub.status.idle": "2021-12-27T12:29:43.718230Z",
     "shell.execute_reply": "2021-12-27T12:29:43.719365Z",
     "shell.execute_reply.started": "2021-12-24T10:04:17.099244Z"
    },
    "papermill": {
     "duration": 1307.99956,
     "end_time": "2021-12-27T12:29:43.719603",
     "exception": false,
     "start_time": "2021-12-27T12:07:55.720043",
     "status": "completed"
    },
    "tags": []
   },
   "outputs": [
    {
     "name": "stdout",
     "output_type": "stream",
     "text": [
      "[LightGBM] [Warning] min_data_in_leaf is set with min_samples_leaf=47, min_child_samples=20 will be ignored. Current value: min_data_in_leaf=47\n",
      "Fold 0 | AUC: 0.8657539562494199\n",
      "Fold 0 | AP: 0.4047756473151977\n"
     ]
    },
    {
     "data": {
      "image/png": "[encoded data removed]",
      "text/plain": [
       "<Figure size 576x396 with 1 Axes>"
      ]
     },
     "metadata": {},
     "output_type": "display_data"
    },
    {
     "name": "stdout",
     "output_type": "stream",
     "text": [
      "[LightGBM] [Warning] min_data_in_leaf is set with min_samples_leaf=47, min_child_samples=20 will be ignored. Current value: min_data_in_leaf=47\n",
      "Fold 1 | AUC: 0.8611598938983577\n",
      "Fold 1 | AP: 0.379292219452668\n"
     ]
    },
    {
     "data": {
      "image/png": "[encoded data removed]",
      "text/plain": [
       "<Figure size 576x396 with 1 Axes>"
      ]
     },
     "metadata": {},
     "output_type": "display_data"
    },
    {
     "name": "stdout",
     "output_type": "stream",
     "text": [
      "[LightGBM] [Warning] min_data_in_leaf is set with min_samples_leaf=47, min_child_samples=20 will be ignored. Current value: min_data_in_leaf=47\n",
      "Fold 2 | AUC: 0.8668629390815906\n",
      "Fold 2 | AP: 0.40098136396712847\n"
     ]
    },
    {
     "data": {
      "image/png": "[encoded data removed]",
      "text/plain": [
       "<Figure size 576x396 with 1 Axes>"
      ]
     },
     "metadata": {},
     "output_type": "display_data"
    },
    {
     "name": "stdout",
     "output_type": "stream",
     "text": [
      "[LightGBM] [Warning] min_data_in_leaf is set with min_samples_leaf=47, min_child_samples=20 will be ignored. Current value: min_data_in_leaf=47\n",
      "Fold 3 | AUC: 0.8643201637496598\n",
      "Fold 3 | AP: 0.39404684599344414\n"
     ]
    },
    {
     "data": {
      "image/png": "[encoded data removed]",
      "text/plain": [
       "<Figure size 576x396 with 1 Axes>"
      ]
     },
     "metadata": {},
     "output_type": "display_data"
    },
    {
     "name": "stdout",
     "output_type": "stream",
     "text": [
      "[LightGBM] [Warning] min_data_in_leaf is set with min_samples_leaf=47, min_child_samples=20 will be ignored. Current value: min_data_in_leaf=47\n",
      "Fold 4 | AUC: 0.8654409351783188\n",
      "Fold 4 | AP: 0.3979264775774182\n"
     ]
    },
    {
     "data": {
      "image/png": "[encoded data removed]",
      "text/plain": [
       "<Figure size 576x396 with 1 Axes>"
      ]
     },
     "metadata": {},
     "output_type": "display_data"
    },
    {
     "name": "stdout",
     "output_type": "stream",
     "text": [
      "[LightGBM] [Warning] min_data_in_leaf is set with min_samples_leaf=47, min_child_samples=20 will be ignored. Current value: min_data_in_leaf=47\n",
      "Fold 5 | AUC: 0.8737750098992159\n",
      "Fold 5 | AP: 0.4402509617428701\n"
     ]
    },
    {
     "data": {
      "image/png": "[encoded data removed]",
      "text/plain": [
       "<Figure size 576x396 with 1 Axes>"
      ]
     },
     "metadata": {},
     "output_type": "display_data"
    },
    {
     "name": "stdout",
     "output_type": "stream",
     "text": [
      "[LightGBM] [Warning] min_data_in_leaf is set with min_samples_leaf=47, min_child_samples=20 will be ignored. Current value: min_data_in_leaf=47\n",
      "Fold 6 | AUC: 0.8586249418579615\n",
      "Fold 6 | AP: 0.3626198678839718\n"
     ]
    },
    {
     "data": {
      "image/png": "[encoded data removed]",
      "text/plain": [
       "<Figure size 576x396 with 1 Axes>"
      ]
     },
     "metadata": {},
     "output_type": "display_data"
    },
    {
     "name": "stdout",
     "output_type": "stream",
     "text": [
      "[LightGBM] [Warning] min_data_in_leaf is set with min_samples_leaf=47, min_child_samples=20 will be ignored. Current value: min_data_in_leaf=47\n",
      "Fold 7 | AUC: 0.8586598056922303\n",
      "Fold 7 | AP: 0.40537275313966387\n"
     ]
    },
    {
     "data": {
      "image/png": "[encoded data removed]",
      "text/plain": [
       "<Figure size 576x396 with 1 Axes>"
      ]
     },
     "metadata": {},
     "output_type": "display_data"
    },
    {
     "name": "stdout",
     "output_type": "stream",
     "text": [
      "[LightGBM] [Warning] min_data_in_leaf is set with min_samples_leaf=47, min_child_samples=20 will be ignored. Current value: min_data_in_leaf=47\n",
      "Fold 8 | AUC: 0.8750652716570005\n",
      "Fold 8 | AP: 0.44248855688486455\n"
     ]
    },
    {
     "data": {
      "image/png": "[encoded data removed]",
      "text/plain": [
       "<Figure size 576x396 with 1 Axes>"
      ]
     },
     "metadata": {},
     "output_type": "display_data"
    },
    {
     "name": "stdout",
     "output_type": "stream",
     "text": [
      "[LightGBM] [Warning] min_data_in_leaf is set with min_samples_leaf=47, min_child_samples=20 will be ignored. Current value: min_data_in_leaf=47\n",
      "Fold 9 | AUC: 0.8640952842136842\n",
      "Fold 9 | AP: 0.37326552455008405\n"
     ]
    },
    {
     "data": {
      "image/png": "[encoded data removed]",
      "text/plain": [
       "<Figure size 576x396 with 1 Axes>"
      ]
     },
     "metadata": {},
     "output_type": "display_data"
    },
    {
     "name": "stdout",
     "output_type": "stream",
     "text": [
      "\n",
      "Overall mean auc : 0.865375820147744\n",
      "\n",
      "Overall mean mean average : 0.4001020218507312\n",
      "CPU times: user 1h 23min 29s, sys: 23 s, total: 1h 23min 52s\n",
      "Wall time: 21min 47s\n"
     ]
    }
   ],
   "source": [
    "%%time \n",
    "# evaluate each strategy on the dataset\n",
    "results = list()\n",
    "# Setting a 10-fold stratified cross-validation (note: shuffle=True)\n",
    "SEED = 42\n",
    "FOLDS = 10\n",
    "skf = StratifiedKFold(n_splits=FOLDS, shuffle=True, random_state=SEED)\n",
    "# CV interations\n",
    "# Create arrays for the features and the response variable\n",
    "roc_auc = list()\n",
    "average_precision = list()\n",
    "#X1=X.iloc[0:2000,:].copy()\n",
    "#y1=y[0:2000].copy()\n",
    "oof = np.empty((X.shape[0],))\n",
    "#oof_bin = np.empty((X.shape[0],))\n",
    "predictions=[]\n",
    "mean_auc = 0\n",
    "mean_ap=0\n",
    "best_iteration = list()\n",
    "for fold, (train_idx, test_idx) in enumerate(skf.split(X, y)):    \n",
    "    X_train, y_train = X.iloc[list(train_idx), :], y.iloc[list(train_idx)]\n",
    "    X_test, y_test = X.iloc[list(test_idx), :],y.iloc[list(test_idx)]\n",
    "    pipe_lgbm_woe_powertransformer.fit(X_train,y_train)\n",
    "    preds = pipe_lgbm_woe_powertransformer.predict_proba(X_test)[:,1]\n",
    "    oof[test_idx] = preds\n",
    "    auc_score= roc_auc_score(y_true=y_test, y_score=preds)\n",
    "    roc_auc.append(auc_score)\n",
    "    print(f\"Fold {fold} | AUC: {auc_score}\")\n",
    "    ap=average_precision_score(y_true=y_test, y_score=preds)\n",
    "    average_precision.append(ap)\n",
    "    print(f\"Fold {fold} | AP: {ap}\")\n",
    "    plot_roc(y_test,preds)\n",
    "    mean_auc += auc_score / FOLDS\n",
    "    mean_ap+=ap/FOLDS\n",
    "    predictions.append(pipe_lgbm_woe_powertransformer.predict_proba(X_test_final)[:,1]) \n",
    "    #Mean of the predictions\n",
    "print(f\"\\nOverall mean auc : {mean_auc}\")\n",
    "print(f\"\\nOverall mean mean average : {mean_ap}\")"
   ]
  },
  {
   "cell_type": "code",
   "execution_count": 35,
   "id": "0eab60b5",
   "metadata": {
    "execution": {
     "iopub.execute_input": "2021-12-27T12:29:43.864362Z",
     "iopub.status.busy": "2021-12-27T12:29:43.862830Z",
     "iopub.status.idle": "2021-12-27T12:29:43.865045Z",
     "shell.execute_reply": "2021-12-27T12:29:43.865529Z",
     "shell.execute_reply.started": "2021-12-24T10:27:42.450955Z"
    },
    "papermill": {
     "duration": 0.075435,
     "end_time": "2021-12-27T12:29:43.865703",
     "exception": false,
     "start_time": "2021-12-27T12:29:43.790268",
     "status": "completed"
    },
    "tags": []
   },
   "outputs": [],
   "source": [
    "#pipe_lgbm_woe_powertransformer.fit(X,y)\n",
    "#predictions =pipe_lgbm_woe_powertransformer.predict_proba(X_test_final)[:,1]"
   ]
  },
  {
   "cell_type": "code",
   "execution_count": 36,
   "id": "bc77d6bb",
   "metadata": {
    "execution": {
     "iopub.execute_input": "2021-12-27T12:29:44.087242Z",
     "iopub.status.busy": "2021-12-27T12:29:44.086559Z",
     "iopub.status.idle": "2021-12-27T12:29:44.099339Z",
     "shell.execute_reply": "2021-12-27T12:29:44.099867Z",
     "shell.execute_reply.started": "2021-12-24T10:27:42.456908Z"
    },
    "papermill": {
     "duration": 0.16591,
     "end_time": "2021-12-27T12:29:44.100065",
     "exception": false,
     "start_time": "2021-12-27T12:29:43.934155",
     "status": "completed"
    },
    "tags": []
   },
   "outputs": [],
   "source": [
    "predictions = np.mean(np.column_stack(predictions), axis=1)"
   ]
  },
  {
   "cell_type": "code",
   "execution_count": 37,
   "id": "c2861228",
   "metadata": {
    "execution": {
     "iopub.execute_input": "2021-12-27T12:29:44.242280Z",
     "iopub.status.busy": "2021-12-27T12:29:44.241584Z",
     "iopub.status.idle": "2021-12-27T12:29:44.694315Z",
     "shell.execute_reply": "2021-12-27T12:29:44.693736Z",
     "shell.execute_reply.started": "2021-12-24T10:27:42.485821Z"
    },
    "papermill": {
     "duration": 0.524545,
     "end_time": "2021-12-27T12:29:44.694454",
     "exception": false,
     "start_time": "2021-12-27T12:29:44.169909",
     "status": "completed"
    },
    "tags": []
   },
   "outputs": [
    {
     "data": {
      "text/html": [
       "<div>\n",
       "<style scoped>\n",
       "    .dataframe tbody tr th:only-of-type {\n",
       "        vertical-align: middle;\n",
       "    }\n",
       "\n",
       "    .dataframe tbody tr th {\n",
       "        vertical-align: top;\n",
       "    }\n",
       "\n",
       "    .dataframe thead th {\n",
       "        text-align: right;\n",
       "    }\n",
       "</style>\n",
       "<table border=\"1\" class=\"dataframe\">\n",
       "  <thead>\n",
       "    <tr style=\"text-align: right;\">\n",
       "      <th></th>\n",
       "      <th>Id</th>\n",
       "      <th>Probability</th>\n",
       "    </tr>\n",
       "  </thead>\n",
       "  <tbody>\n",
       "    <tr>\n",
       "      <th>0</th>\n",
       "      <td>1</td>\n",
       "      <td>0.060599</td>\n",
       "    </tr>\n",
       "    <tr>\n",
       "      <th>1</th>\n",
       "      <td>2</td>\n",
       "      <td>0.041063</td>\n",
       "    </tr>\n",
       "    <tr>\n",
       "      <th>2</th>\n",
       "      <td>3</td>\n",
       "      <td>0.015531</td>\n",
       "    </tr>\n",
       "    <tr>\n",
       "      <th>3</th>\n",
       "      <td>4</td>\n",
       "      <td>0.068244</td>\n",
       "    </tr>\n",
       "    <tr>\n",
       "      <th>4</th>\n",
       "      <td>5</td>\n",
       "      <td>0.108679</td>\n",
       "    </tr>\n",
       "    <tr>\n",
       "      <th>...</th>\n",
       "      <td>...</td>\n",
       "      <td>...</td>\n",
       "    </tr>\n",
       "    <tr>\n",
       "      <th>101498</th>\n",
       "      <td>101499</td>\n",
       "      <td>0.032904</td>\n",
       "    </tr>\n",
       "    <tr>\n",
       "      <th>101499</th>\n",
       "      <td>101500</td>\n",
       "      <td>0.394093</td>\n",
       "    </tr>\n",
       "    <tr>\n",
       "      <th>101500</th>\n",
       "      <td>101501</td>\n",
       "      <td>0.009195</td>\n",
       "    </tr>\n",
       "    <tr>\n",
       "      <th>101501</th>\n",
       "      <td>101502</td>\n",
       "      <td>0.067507</td>\n",
       "    </tr>\n",
       "    <tr>\n",
       "      <th>101502</th>\n",
       "      <td>101503</td>\n",
       "      <td>0.031662</td>\n",
       "    </tr>\n",
       "  </tbody>\n",
       "</table>\n",
       "<p>101503 rows × 2 columns</p>\n",
       "</div>"
      ],
      "text/plain": [
       "            Id  Probability\n",
       "0            1     0.060599\n",
       "1            2     0.041063\n",
       "2            3     0.015531\n",
       "3            4     0.068244\n",
       "4            5     0.108679\n",
       "...        ...          ...\n",
       "101498  101499     0.032904\n",
       "101499  101500     0.394093\n",
       "101500  101501     0.009195\n",
       "101501  101502     0.067507\n",
       "101502  101503     0.031662\n",
       "\n",
       "[101503 rows x 2 columns]"
      ]
     },
     "execution_count": 37,
     "metadata": {},
     "output_type": "execute_result"
    }
   ],
   "source": [
    "# Save the predictions to a CSV file\n",
    "sub = pd.read_csv('../input/GiveMeSomeCredit/sampleEntry.csv')\n",
    "sub['Probability']=predictions\n",
    "sub.to_csv('pipe_lgbm_woe_powertransformer_estimator_XGB_CV_onlynum_fe_V3.csv', index=False)\n",
    "sub"
   ]
  }
 ],
 "metadata": {
  "kernelspec": {
   "display_name": "Python 3",
   "language": "python",
   "name": "python3"
  },
  "language_info": {
   "codemirror_mode": {
    "name": "ipython",
    "version": 3
   },
   "file_extension": ".py",
   "mimetype": "text/x-python",
   "name": "python",
   "nbconvert_exporter": "python",
   "pygments_lexer": "ipython3",
   "version": "3.7.12"
  },
  "papermill": {
   "default_parameters": {},
   "duration": 3853.243612,
   "end_time": "2021-12-27T12:29:45.782840",
   "environment_variables": {},
   "exception": null,
   "input_path": "__notebook__.ipynb",
   "output_path": "__notebook__.ipynb",
   "parameters": {},
   "start_time": "2021-12-27T11:25:32.539228",
   "version": "2.3.3"
  }
 },
 "nbformat": 4,
 "nbformat_minor": 5
}
