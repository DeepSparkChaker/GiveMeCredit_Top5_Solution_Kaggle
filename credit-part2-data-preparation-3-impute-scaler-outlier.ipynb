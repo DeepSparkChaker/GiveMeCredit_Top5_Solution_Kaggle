{
 "cells": [
  {
   "cell_type": "markdown",
   "id": "7cda2f1d",
   "metadata": {
    "papermill": {
     "duration": 0.04141,
     "end_time": "2021-12-23T09:05:13.052182",
     "exception": false,
     "start_time": "2021-12-23T09:05:13.010772",
     "status": "completed"
    },
    "tags": []
   },
   "source": [
    "# Load Lib "
   ]
  },
  {
   "cell_type": "code",
   "execution_count": 1,
   "id": "b2cda463",
   "metadata": {
    "_cell_guid": "ddedf45c-cdd2-4013-973f-6ccf6c78347a",
    "_uuid": "20c9b28e-4c93-447d-8210-cad89f404354",
    "collapsed": false,
    "execution": {
     "iopub.execute_input": "2021-12-23T09:05:13.140574Z",
     "iopub.status.busy": "2021-12-23T09:05:13.138944Z",
     "iopub.status.idle": "2021-12-23T09:05:16.801020Z",
     "shell.execute_reply": "2021-12-23T09:05:16.800359Z"
    },
    "jupyter": {
     "outputs_hidden": false
    },
    "papermill": {
     "duration": 3.708695,
     "end_time": "2021-12-23T09:05:16.801190",
     "exception": false,
     "start_time": "2021-12-23T09:05:13.092495",
     "status": "completed"
    },
    "tags": []
   },
   "outputs": [
    {
     "data": {
      "text/html": [
       "<style type='text/css'>\n",
       ".datatable table.frame { margin-bottom: 0; }\n",
       ".datatable table.frame thead { border-bottom: none; }\n",
       ".datatable table.frame tr.coltypes td {  color: #FFFFFF;  line-height: 6px;  padding: 0 0.5em;}\n",
       ".datatable .bool    { background: #DDDD99; }\n",
       ".datatable .object  { background: #565656; }\n",
       ".datatable .int     { background: #5D9E5D; }\n",
       ".datatable .float   { background: #4040CC; }\n",
       ".datatable .str     { background: #CC4040; }\n",
       ".datatable .time    { background: #40CC40; }\n",
       ".datatable .row_index {  background: var(--jp-border-color3);  border-right: 1px solid var(--jp-border-color0);  color: var(--jp-ui-font-color3);  font-size: 9px;}\n",
       ".datatable .frame tbody td { text-align: left; }\n",
       ".datatable .frame tr.coltypes .row_index {  background: var(--jp-border-color0);}\n",
       ".datatable th:nth-child(2) { padding-left: 12px; }\n",
       ".datatable .hellipsis {  color: var(--jp-cell-editor-border-color);}\n",
       ".datatable .vellipsis {  background: var(--jp-layout-color0);  color: var(--jp-cell-editor-border-color);}\n",
       ".datatable .na {  color: var(--jp-cell-editor-border-color);  font-size: 80%;}\n",
       ".datatable .sp {  opacity: 0.25;}\n",
       ".datatable .footer { font-size: 9px; }\n",
       ".datatable .frame_dimensions {  background: var(--jp-border-color3);  border-top: 1px solid var(--jp-border-color0);  color: var(--jp-ui-font-color3);  display: inline-block;  opacity: 0.6;  padding: 1px 10px 1px 5px;}\n",
       ".datatable .frame thead tr.colnames {  background-image: url('data:image/png;base64,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');  background-repeat: repeat-x;  background-size: 14px;  height: 28px;}\n",
       "</style>\n"
      ],
      "text/plain": [
       "<IPython.core.display.HTML object>"
      ]
     },
     "metadata": {},
     "output_type": "display_data"
    }
   ],
   "source": [
    "#Load the librarys\n",
    "import pandas as pd #To work with dataset\n",
    "import numpy as np #Math library\n",
    "import matplotlib.gridspec as gridspec\n",
    "import seaborn as sns #Graph library that use matplot in background\n",
    "import matplotlib.pyplot as plt #to plot some parameters in seaborn\n",
    "import warnings\n",
    "# Preparation  \n",
    "from sklearn.preprocessing import LabelEncoder, OrdinalEncoder\n",
    "from sklearn.preprocessing import OneHotEncoder\n",
    "from sklearn.preprocessing import PowerTransformer, StandardScaler,Normalizer,RobustScaler,MaxAbsScaler,MinMaxScaler,QuantileTransformer\n",
    "from sklearn.preprocessing import FunctionTransformer\n",
    "from sklearn.preprocessing import PolynomialFeatures\n",
    "from sklearn.neighbors import KNeighborsClassifier\n",
    "from sklearn.preprocessing import KBinsDiscretizer\n",
    "# Import StandardScaler from scikit-learn\n",
    "\n",
    "from sklearn.experimental import enable_iterative_imputer\n",
    "from sklearn.impute import SimpleImputer\n",
    "from sklearn.impute import KNNImputer,IterativeImputer\n",
    "from sklearn.feature_extraction.text import CountVectorizer\n",
    "from sklearn.compose import make_column_transformer,ColumnTransformer\n",
    "from sklearn.pipeline import make_pipeline, Pipeline,FeatureUnion\n",
    "from sklearn.manifold import TSNE\n",
    "# Import train_test_split()\n",
    "# Metrics\n",
    "from sklearn.metrics import roc_auc_score, average_precision_score\n",
    "from sklearn.metrics import make_scorer,mean_absolute_error\n",
    "from sklearn.metrics import mean_squared_error\n",
    "from sklearn.metrics import roc_curve,confusion_matrix\n",
    "from datetime import datetime, date\n",
    "from sklearn.linear_model import ElasticNet, Lasso,  BayesianRidge, LassoLarsIC\n",
    "from sklearn.linear_model import LinearRegression, RidgeCV\n",
    "from sklearn.linear_model import LogisticRegression\n",
    "\n",
    "#import tensorflow as tf \n",
    "#from tensorflow.keras import layers\n",
    "#from tensorflow.keras.callbacks import EarlyStopping\n",
    "#from tensorflow.keras.callbacks import LearningRateScheduler\n",
    "#import smogn\n",
    "from sklearn.experimental import enable_hist_gradient_boosting\n",
    "from sklearn.base import BaseEstimator, TransformerMixin, RegressorMixin, clone\n",
    "from sklearn.kernel_ridge import KernelRidge\n",
    "from sklearn.ensemble import GradientBoostingRegressor,RandomForestRegressor\n",
    "from sklearn.ensemble import RandomForestClassifier\n",
    "from sklearn.ensemble import HistGradientBoostingClassifier\n",
    "# For training random forest model\n",
    "import lightgbm as lgb\n",
    "from scipy import sparse\n",
    "from sklearn.neighbors import KNeighborsRegressor \n",
    "from sklearn.decomposition import PCA\n",
    "from sklearn.cluster import KMeans \n",
    "# Model selection\n",
    "from sklearn.model_selection import StratifiedKFold\n",
    "from sklearn.feature_selection import SelectKBest\n",
    "from sklearn.feature_selection import f_regression,f_classif,chi2\n",
    "from sklearn.feature_selection import mutual_info_regression\n",
    "from sklearn.feature_selection import SelectPercentile\n",
    "from sklearn.feature_selection import mutual_info_classif,VarianceThreshold\n",
    "\n",
    "from sklearn.model_selection import train_test_split\n",
    "from sklearn.model_selection import KFold\n",
    "from sklearn.model_selection import GridSearchCV\n",
    "from sklearn.model_selection import cross_val_score\n",
    "from lightgbm import LGBMClassifier\n",
    "import lightgbm as lgbm\n",
    "#from catboost import CatBoostRegressor, CatBoostClassifier\n",
    "from sklearn.naive_bayes import GaussianNB\n",
    "from sklearn import svm\n",
    "from xgboost import XGBClassifier,XGBRegressor\n",
    "from sklearn import set_config\n",
    "from itertools import combinations\n",
    "# Cluster :\n",
    "from sklearn.cluster import MiniBatchKMeans\n",
    "#from yellowbrick.cluster import KElbowVisualizer\n",
    "#import smong \n",
    "import category_encoders as ce\n",
    "import warnings\n",
    "#import optuna \n",
    "from joblib import Parallel, delayed\n",
    "import joblib \n",
    "from sklearn import set_config\n",
    "from typing import List, Optional, Union\n",
    "set_config(display='diagram')\n",
    "warnings.filterwarnings('ignore')"
   ]
  },
  {
   "cell_type": "markdown",
   "id": "73cdc857",
   "metadata": {
    "_cell_guid": "38c6befb-892d-4ef3-9c63-13be5959b671",
    "_uuid": "2953f9f3-02f8-4fa9-a7fc-cb93565c2183",
    "papermill": {
     "duration": 0.040454,
     "end_time": "2021-12-23T09:05:16.883863",
     "exception": false,
     "start_time": "2021-12-23T09:05:16.843409",
     "status": "completed"
    },
    "tags": []
   },
   "source": [
    "\n",
    "# Load the data"
   ]
  },
  {
   "cell_type": "code",
   "execution_count": 2,
   "id": "6d2472cc",
   "metadata": {
    "_cell_guid": "98a5b4a6-90e9-449d-96cc-0d85c9ff1c77",
    "_uuid": "e086592f-9f6a-4592-80b5-c1e7ad227e02",
    "collapsed": false,
    "execution": {
     "iopub.execute_input": "2021-12-23T09:05:16.970520Z",
     "iopub.status.busy": "2021-12-23T09:05:16.969981Z",
     "iopub.status.idle": "2021-12-23T09:05:17.390392Z",
     "shell.execute_reply": "2021-12-23T09:05:17.390935Z"
    },
    "jupyter": {
     "outputs_hidden": false
    },
    "papermill": {
     "duration": 0.466595,
     "end_time": "2021-12-23T09:05:17.391091",
     "exception": false,
     "start_time": "2021-12-23T09:05:16.924496",
     "status": "completed"
    },
    "tags": []
   },
   "outputs": [
    {
     "name": "stdout",
     "output_type": "stream",
     "text": [
      "CPU times: user 220 ms, sys: 48.3 ms, total: 269 ms\n",
      "Wall time: 401 ms\n"
     ]
    },
    {
     "data": {
      "text/html": [
       "<div>\n",
       "<style scoped>\n",
       "    .dataframe tbody tr th:only-of-type {\n",
       "        vertical-align: middle;\n",
       "    }\n",
       "\n",
       "    .dataframe tbody tr th {\n",
       "        vertical-align: top;\n",
       "    }\n",
       "\n",
       "    .dataframe thead th {\n",
       "        text-align: right;\n",
       "    }\n",
       "</style>\n",
       "<table border=\"1\" class=\"dataframe\">\n",
       "  <thead>\n",
       "    <tr style=\"text-align: right;\">\n",
       "      <th></th>\n",
       "      <th>Unnamed: 0</th>\n",
       "      <th>SeriousDlqin2yrs</th>\n",
       "      <th>RevolvingUtilizationOfUnsecuredLines</th>\n",
       "      <th>age</th>\n",
       "      <th>NumberOfTime30-59DaysPastDueNotWorse</th>\n",
       "      <th>DebtRatio</th>\n",
       "      <th>MonthlyIncome</th>\n",
       "      <th>NumberOfOpenCreditLinesAndLoans</th>\n",
       "      <th>NumberOfTimes90DaysLate</th>\n",
       "      <th>NumberRealEstateLoansOrLines</th>\n",
       "      <th>NumberOfTime60-89DaysPastDueNotWorse</th>\n",
       "      <th>NumberOfDependents</th>\n",
       "    </tr>\n",
       "  </thead>\n",
       "  <tbody>\n",
       "    <tr>\n",
       "      <th>0</th>\n",
       "      <td>1</td>\n",
       "      <td>1</td>\n",
       "      <td>0.766127</td>\n",
       "      <td>45</td>\n",
       "      <td>2</td>\n",
       "      <td>0.802982</td>\n",
       "      <td>9120.0</td>\n",
       "      <td>13</td>\n",
       "      <td>0</td>\n",
       "      <td>6</td>\n",
       "      <td>0</td>\n",
       "      <td>2.0</td>\n",
       "    </tr>\n",
       "    <tr>\n",
       "      <th>1</th>\n",
       "      <td>2</td>\n",
       "      <td>0</td>\n",
       "      <td>0.957151</td>\n",
       "      <td>40</td>\n",
       "      <td>0</td>\n",
       "      <td>0.121876</td>\n",
       "      <td>2600.0</td>\n",
       "      <td>4</td>\n",
       "      <td>0</td>\n",
       "      <td>0</td>\n",
       "      <td>0</td>\n",
       "      <td>1.0</td>\n",
       "    </tr>\n",
       "    <tr>\n",
       "      <th>2</th>\n",
       "      <td>3</td>\n",
       "      <td>0</td>\n",
       "      <td>0.658180</td>\n",
       "      <td>38</td>\n",
       "      <td>1</td>\n",
       "      <td>0.085113</td>\n",
       "      <td>3042.0</td>\n",
       "      <td>2</td>\n",
       "      <td>1</td>\n",
       "      <td>0</td>\n",
       "      <td>0</td>\n",
       "      <td>0.0</td>\n",
       "    </tr>\n",
       "  </tbody>\n",
       "</table>\n",
       "</div>"
      ],
      "text/plain": [
       "   Unnamed: 0  SeriousDlqin2yrs  RevolvingUtilizationOfUnsecuredLines  age  \\\n",
       "0           1                 1                              0.766127   45   \n",
       "1           2                 0                              0.957151   40   \n",
       "2           3                 0                              0.658180   38   \n",
       "\n",
       "   NumberOfTime30-59DaysPastDueNotWorse  DebtRatio  MonthlyIncome  \\\n",
       "0                                     2   0.802982         9120.0   \n",
       "1                                     0   0.121876         2600.0   \n",
       "2                                     1   0.085113         3042.0   \n",
       "\n",
       "   NumberOfOpenCreditLinesAndLoans  NumberOfTimes90DaysLate  \\\n",
       "0                               13                        0   \n",
       "1                                4                        0   \n",
       "2                                2                        1   \n",
       "\n",
       "   NumberRealEstateLoansOrLines  NumberOfTime60-89DaysPastDueNotWorse  \\\n",
       "0                             6                                     0   \n",
       "1                             0                                     0   \n",
       "2                             0                                     0   \n",
       "\n",
       "   NumberOfDependents  \n",
       "0                 2.0  \n",
       "1                 1.0  \n",
       "2                 0.0  "
      ]
     },
     "execution_count": 2,
     "metadata": {},
     "output_type": "execute_result"
    }
   ],
   "source": [
    "%%time \n",
    "train = pd.read_csv('../input/GiveMeSomeCredit/cs-training.csv')\n",
    "test = pd.read_csv('../input/GiveMeSomeCredit/cs-test.csv')\n",
    "train.head(3)"
   ]
  },
  {
   "cell_type": "markdown",
   "id": "53b8ac2f",
   "metadata": {
    "papermill": {
     "duration": 0.041888,
     "end_time": "2021-12-23T09:05:17.477875",
     "exception": false,
     "start_time": "2021-12-23T09:05:17.435987",
     "status": "completed"
    },
    "tags": []
   },
   "source": [
    "# Convert Dtypes :"
   ]
  },
  {
   "cell_type": "code",
   "execution_count": 3,
   "id": "7762757a",
   "metadata": {
    "execution": {
     "iopub.execute_input": "2021-12-23T09:05:17.589910Z",
     "iopub.status.busy": "2021-12-23T09:05:17.588335Z",
     "iopub.status.idle": "2021-12-23T09:05:17.643782Z",
     "shell.execute_reply": "2021-12-23T09:05:17.643102Z"
    },
    "papermill": {
     "duration": 0.123543,
     "end_time": "2021-12-23T09:05:17.643920",
     "exception": false,
     "start_time": "2021-12-23T09:05:17.520377",
     "status": "completed"
    },
    "tags": []
   },
   "outputs": [],
   "source": [
    "# Convert Dtypes :\n",
    "train[train.select_dtypes(['int64','int16','float16','float32','float64','int8']).columns] = train[train.select_dtypes(['int64','int16','float16','float32','float64','int8']).columns].apply(pd.to_numeric)\n",
    "train[train.select_dtypes(['object','category']).columns] = train.select_dtypes(['object','category']).apply(lambda x: x.astype('category'))\n",
    "# Convert Dtypes :\n",
    "test[test.select_dtypes(['int64','int16','float16','float32','float64','int8']).columns] = test[test.select_dtypes(['int64','int16','float16','float32','float64','int8']).columns].apply(pd.to_numeric)\n",
    "test[test.select_dtypes(['object','category']).columns] = test.select_dtypes(['object','category']).apply(lambda x: x.astype('category'))"
   ]
  },
  {
   "cell_type": "markdown",
   "id": "bae21e98",
   "metadata": {
    "papermill": {
     "duration": 0.044503,
     "end_time": "2021-12-23T09:05:17.732228",
     "exception": false,
     "start_time": "2021-12-23T09:05:17.687725",
     "status": "completed"
    },
    "tags": []
   },
   "source": [
    "# Reduce Memory"
   ]
  },
  {
   "cell_type": "code",
   "execution_count": 4,
   "id": "62705c75",
   "metadata": {
    "execution": {
     "iopub.execute_input": "2021-12-23T09:05:17.838026Z",
     "iopub.status.busy": "2021-12-23T09:05:17.836299Z",
     "iopub.status.idle": "2021-12-23T09:05:17.879973Z",
     "shell.execute_reply": "2021-12-23T09:05:17.880660Z"
    },
    "papermill": {
     "duration": 0.105626,
     "end_time": "2021-12-23T09:05:17.880862",
     "exception": false,
     "start_time": "2021-12-23T09:05:17.775236",
     "status": "completed"
    },
    "tags": []
   },
   "outputs": [
    {
     "name": "stdout",
     "output_type": "stream",
     "text": [
      "Memory usage of dataframe is 13.73 MB\n",
      "Memory usage after optimization is: 3.29 MB\n",
      "Decreased by 76.0%\n",
      "Memory usage of dataframe is 9.29 MB\n",
      "Memory usage after optimization is: 2.90 MB\n",
      "Decreased by 68.7%\n"
     ]
    }
   ],
   "source": [
    "# Author : https://www.kaggle.com/gemartin/load-data-reduce-memory-usage\n",
    "def reduce_mem_usage(df):\n",
    "    \"\"\" iterate through all the columns of a dataframe and modify the data type\n",
    "        to reduce memory usage.        \n",
    "    \"\"\"\n",
    "    start_mem = df.memory_usage().sum() / 1024**2\n",
    "    print('Memory usage of dataframe is {:.2f} MB'.format(start_mem))\n",
    "    \n",
    "    for col in df.columns:\n",
    "        col_type = df[col].dtype\n",
    "        name =df[col].dtype.name \n",
    "        \n",
    "        if col_type != object and col_type.name != 'category':\n",
    "        #if name != \"category\":    \n",
    "            c_min = df[col].min()\n",
    "            c_max = df[col].max()\n",
    "            if str(col_type)[:3] == 'int':\n",
    "                if c_min > np.iinfo(np.int8).min and c_max < np.iinfo(np.int8).max:\n",
    "                    df[col] = df[col].astype(np.int8)\n",
    "                elif c_min > np.iinfo(np.int16).min and c_max < np.iinfo(np.int16).max:\n",
    "                    df[col] = df[col].astype(np.int16)\n",
    "                elif c_min > np.iinfo(np.int32).min and c_max < np.iinfo(np.int32).max:\n",
    "                    df[col] = df[col].astype(np.int32)\n",
    "                elif c_min > np.iinfo(np.int64).min and c_max < np.iinfo(np.int64).max:\n",
    "                    df[col] = df[col].astype(np.int64)  \n",
    "            else:\n",
    "                if c_min > np.finfo(np.float16).min and c_max < np.finfo(np.float16).max:\n",
    "                    df[col] = df[col].astype(np.float16)\n",
    "                elif c_min > np.finfo(np.float32).min and c_max < np.finfo(np.float32).max:\n",
    "                    df[col] = df[col].astype(np.float32)\n",
    "                else:\n",
    "                    df[col] = df[col].astype(np.float64)\n",
    "        else:\n",
    "            df[col] = df[col].astype('category')\n",
    "\n",
    "    end_mem = df.memory_usage().sum() / 1024**2\n",
    "    print('Memory usage after optimization is: {:.2f} MB'.format(end_mem))\n",
    "    print('Decreased by {:.1f}%'.format(100 * (start_mem - end_mem) / start_mem))\n",
    "    \n",
    "    return df\n",
    "train= reduce_mem_usage(train)\n",
    "test= reduce_mem_usage(test)"
   ]
  },
  {
   "cell_type": "markdown",
   "id": "61f15a9f",
   "metadata": {
    "papermill": {
     "duration": 0.042529,
     "end_time": "2021-12-23T09:05:17.969022",
     "exception": false,
     "start_time": "2021-12-23T09:05:17.926493",
     "status": "completed"
    },
    "tags": []
   },
   "source": [
    "# X and Y"
   ]
  },
  {
   "cell_type": "code",
   "execution_count": 5,
   "id": "7c7a6132",
   "metadata": {
    "execution": {
     "iopub.execute_input": "2021-12-23T09:05:18.063038Z",
     "iopub.status.busy": "2021-12-23T09:05:18.062102Z",
     "iopub.status.idle": "2021-12-23T09:05:18.065456Z",
     "shell.execute_reply": "2021-12-23T09:05:18.064881Z"
    },
    "papermill": {
     "duration": 0.053188,
     "end_time": "2021-12-23T09:05:18.065634",
     "exception": false,
     "start_time": "2021-12-23T09:05:18.012446",
     "status": "completed"
    },
    "tags": []
   },
   "outputs": [],
   "source": [
    "# Cardinality : \n",
    "# - RevolvingUtilizationOfUnsecuredLines :125728, high Outlier\n",
    "# - DebtRatio :114194 , high Outlier \n",
    "# deal with outlier + bin \n",
    "PERCENTAGE = [\"RevolvingUtilizationOfUnsecuredLines\", \"DebtRatio\"]\n",
    "# MonthlyIncome:13594 , high outlier +bin \n",
    "REAL= [\"MonthlyIncome\"]\n",
    "# Can be considred as cat \n",
    "NUMERIC_DISCRET_low = [\"NumberOfDependents\",\n",
    "                       \"NumberOfTime60-89DaysPastDueNotWorse\",\n",
    "                       \"NumberRealEstateLoansOrLines\",\n",
    "                       \"NumberOfTimes90DaysLate\",\n",
    "                       \"NumberOfOpenCreditLinesAndLoans\",\n",
    "                       \"NumberOfTime30-59DaysPastDueNotWorse\",\n",
    "                       \"age\"]\n",
    "Late_Pay_Cols = ['NumberOfTime30-59DaysPastDueNotWorse',\n",
    "                 'NumberOfTimes90DaysLate',\n",
    "                 'NumberOfTime60-89DaysPastDueNotWorse']\n",
    "TARGET = [\"SeriousDlqin2yrs\"]\n",
    "\n",
    "#also change the type for TARGET to categorical\n",
    "#df[TARGET] = df[TARGET].astype('category')"
   ]
  },
  {
   "cell_type": "code",
   "execution_count": 6,
   "id": "9a536875",
   "metadata": {
    "execution": {
     "iopub.execute_input": "2021-12-23T09:05:18.159043Z",
     "iopub.status.busy": "2021-12-23T09:05:18.158102Z",
     "iopub.status.idle": "2021-12-23T09:05:18.159925Z",
     "shell.execute_reply": "2021-12-23T09:05:18.160353Z"
    },
    "papermill": {
     "duration": 0.050469,
     "end_time": "2021-12-23T09:05:18.160488",
     "exception": false,
     "start_time": "2021-12-23T09:05:18.110019",
     "status": "completed"
    },
    "tags": []
   },
   "outputs": [],
   "source": [
    "y = train['SeriousDlqin2yrs']"
   ]
  },
  {
   "cell_type": "code",
   "execution_count": 7,
   "id": "fa2f55b1",
   "metadata": {
    "execution": {
     "iopub.execute_input": "2021-12-23T09:05:18.252219Z",
     "iopub.status.busy": "2021-12-23T09:05:18.251444Z",
     "iopub.status.idle": "2021-12-23T09:05:18.308503Z",
     "shell.execute_reply": "2021-12-23T09:05:18.308948Z"
    },
    "papermill": {
     "duration": 0.105701,
     "end_time": "2021-12-23T09:05:18.309112",
     "exception": false,
     "start_time": "2021-12-23T09:05:18.203411",
     "status": "completed"
    },
    "tags": []
   },
   "outputs": [
    {
     "data": {
      "text/plain": [
       "DebtRatio                               30457\n",
       "NumberOfTime30-59DaysPastDueNotWorse    23982\n",
       "SeriousDlqin2yrs                        10026\n",
       "NumberOfTimes90DaysLate                  8338\n",
       "NumberOfTime60-89DaysPastDueNotWorse     7604\n",
       "MonthlyIncome                            1557\n",
       "NumberOfDependents                        991\n",
       "NumberOfOpenCreditLinesAndLoans           442\n",
       "RevolvingUtilizationOfUnsecuredLines      339\n",
       "NumberRealEstateLoansOrLines              209\n",
       "dtype: int64"
      ]
     },
     "execution_count": 7,
     "metadata": {},
     "output_type": "execute_result"
    }
   ],
   "source": [
    "def get_outlier_counts(df, outlier_threshold=1.5):\n",
    "    Q1 = df.quantile(0.25)\n",
    "    Q3 = df.quantile(0.75)\n",
    "    IQR = Q3 - Q1\n",
    "\n",
    "    outlier_counts = ((df < (Q1 - outlier_threshold * IQR)) | (df > (Q3 + outlier_threshold * IQR))).sum()\n",
    "    return outlier_counts[outlier_counts>0].sort_values(ascending=False)\n",
    "\n",
    "get_outlier_counts(train, outlier_threshold=3)"
   ]
  },
  {
   "cell_type": "markdown",
   "id": "10d5144c",
   "metadata": {
    "papermill": {
     "duration": 0.043339,
     "end_time": "2021-12-23T09:05:18.395036",
     "exception": false,
     "start_time": "2021-12-23T09:05:18.351697",
     "status": "completed"
    },
    "tags": []
   },
   "source": [
    "# Imput before Descritaziation : \n",
    "\n",
    "## IterativeImputer\n"
   ]
  },
  {
   "cell_type": "code",
   "execution_count": 8,
   "id": "548b8e41",
   "metadata": {
    "execution": {
     "iopub.execute_input": "2021-12-23T09:05:18.490995Z",
     "iopub.status.busy": "2021-12-23T09:05:18.490371Z",
     "iopub.status.idle": "2021-12-23T09:05:18.495311Z",
     "shell.execute_reply": "2021-12-23T09:05:18.494904Z"
    },
    "papermill": {
     "duration": 0.057677,
     "end_time": "2021-12-23T09:05:18.495430",
     "exception": false,
     "start_time": "2021-12-23T09:05:18.437753",
     "status": "completed"
    },
    "tags": []
   },
   "outputs": [
    {
     "name": "stdout",
     "output_type": "stream",
     "text": [
      "CPU times: user 338 µs, sys: 0 ns, total: 338 µs\n",
      "Wall time: 343 µs\n"
     ]
    }
   ],
   "source": [
    "%%time \n",
    "param =  {   \"verbosity\": 0,\n",
    "            #\"objective\": \"binary:logistic\",\n",
    "            #\"eval_metric\": \"auc\",\n",
    "            'random_state': 42,\n",
    "            # regression\n",
    "            'objective':'reg:squarederror', \n",
    "             'eval_metric': 'mae',\n",
    "            #early_stopping_rounds=100 ,\n",
    "            'gpu_id':0, \n",
    "            'predictor':\"gpu_predictor\",\n",
    "            # use exact for small dataset.\n",
    "            \"tree_method\": \"exact\",\n",
    "            # big data :\n",
    "            # 'tree_method': 'gpu_hist',\n",
    "            # defines booster, gblinear for linear functions.\n",
    "             'booster': 'gbtree', \n",
    "            'lambda': 8.544792472633987e-07,\n",
    "            'alpha': 0.31141671752487043,\n",
    "            'subsample': 0.8779467596981366, \n",
    "            'colsample_bytree': 0.9759532762677546,\n",
    "            'learning_rate': 0.008686087328805853, \n",
    "            'n_estimators': 6988,\n",
    "            'max_depth': 9,\n",
    "            'min_child_weight': 2, \n",
    "            'eta': 3.7603213457541647e-06,\n",
    "            'gamma': 2.1478058456847449e-07,\n",
    "            'grow_policy': 'lossguide'}\n",
    "                \n",
    "\n",
    "#model_xgb = XGBRegressor(\n",
    "       #objective=\"mae\",\n",
    " #   **xgb_params2)\n",
    "\n",
    "numeric_transformer1 = Pipeline(\n",
    "                            steps=[\n",
    "                            ('imputer', SimpleImputer(strategy='median'\n",
    "                                                      ,add_indicator=True)),\n",
    "                            ('scaler', PowerTransformer()),#(Numerical Input, Numerical Output)\n",
    "                            # Create an SelectKBest object to select features with two best ANOVA F-Values\n",
    "                            #The F-value scores examine if, when we group the numerical feature by the target vector, the means for each group are significantly different\n",
    "                           # ('reducedim',  SelectPercentile(f_classif,percentile=90))\n",
    "                            ]\n",
    "                            )\n",
    "numeric_transformer2 = Pipeline(\n",
    "                            steps=[\n",
    "                            #('imputer', SimpleImputer(strategy='median'\n",
    "                             #                         ,add_indicator=True)),\n",
    "                            ('scaler', PowerTransformer()),#(Numerical Input, Numerical Output)\n",
    "                            # Create an SelectKBest object to select features with two best ANOVA F-Values\n",
    "                            #The F-value scores examine if, when we group the numerical feature by the target vector, the means for each group are significantly different\n",
    "                           # ('reducedim',  SelectPercentile(f_classif,percentile=90))\n",
    "                            ]\n",
    "                            )\n",
    "\n",
    "pipe_xgbr1 = Pipeline(\n",
    "                    steps=[\n",
    "                        ('preprocessor', numeric_transformer1),\n",
    "                        ('classifier', XGBRegressor(\n",
    "                      #objective=\"mae\",\n",
    "                       **param))\n",
    "                    ]\n",
    "                )\n",
    "pipe_xgbr2 = Pipeline(\n",
    "                    steps=[\n",
    "                        ('preprocessor', numeric_transformer2),\n",
    "                        ('classifier', XGBRegressor(\n",
    "                      #objective=\"mae\",\n",
    "                       **param))\n",
    "                    ]\n",
    "                )\n",
    "\n",
    "#imputer=IterativeImputer(estimator=XGBRegressor(\n",
    " #                     #objective=\"mae\",\n",
    "                        #add_indicator=True,\n",
    "  #                     **param),max_iter=2,random_state=42)\n",
    "#train=train.drop(['Unnamed: 0','SeriousDlqin2yrs'], axis=1)\n",
    "#test=test.drop(['Unnamed: 0','SeriousDlqin2yrs'], axis=1)\n",
    "#imputer.fit(train)\n",
    "#train = imputer.transform(train)\n",
    "#test = imputer.transform(test)\n",
    "#features=['RevolvingUtilizationOfUnsecuredLines', 'age',\n",
    "#      'NumberOfTime30-59DaysPastDueNotWorse', 'DebtRatio', 'MonthlyIncome',\n",
    " #      'NumberOfOpenCreditLinesAndLoans', 'NumberOfTimes90DaysLate',\n",
    " #     'NumberRealEstateLoansOrLines', 'NumberOfTime60-89DaysPastDueNotWorse',\n",
    " #     'NumberOfDependents']\n",
    "#train=pd.DataFrame(train,columns=features)\n",
    "#test=pd.DataFrame(test,columns=features)\n",
    "#train= reduce_mem_usage(train)\n",
    "#test= reduce_mem_usage(test)"
   ]
  },
  {
   "cell_type": "markdown",
   "id": "8e1cf22d",
   "metadata": {
    "papermill": {
     "duration": 0.042852,
     "end_time": "2021-12-23T09:05:18.582170",
     "exception": false,
     "start_time": "2021-12-23T09:05:18.539318",
     "status": "completed"
    },
    "tags": []
   },
   "source": [
    "## Rgression Imputer "
   ]
  },
  {
   "cell_type": "code",
   "execution_count": 9,
   "id": "c105aaa5",
   "metadata": {
    "execution": {
     "iopub.execute_input": "2021-12-23T09:05:18.677469Z",
     "iopub.status.busy": "2021-12-23T09:05:18.676699Z",
     "iopub.status.idle": "2021-12-23T09:29:20.418249Z",
     "shell.execute_reply": "2021-12-23T09:29:20.418819Z"
    },
    "papermill": {
     "duration": 1441.793333,
     "end_time": "2021-12-23T09:29:20.419024",
     "exception": false,
     "start_time": "2021-12-23T09:05:18.625691",
     "status": "completed"
    },
    "tags": []
   },
   "outputs": [
    {
     "name": "stdout",
     "output_type": "stream",
     "text": [
      "CPU times: user 45min 35s, sys: 6.39 s, total: 45min 41s\n",
      "Wall time: 24min 1s\n"
     ]
    }
   ],
   "source": [
    "%%time \n",
    "train=train.drop(['Unnamed: 0','SeriousDlqin2yrs'], axis=1)\n",
    "test=test.drop(['Unnamed: 0','SeriousDlqin2yrs'], axis=1)\n",
    "train_final= pd.concat( [train, test], axis=0) \n",
    "#testdf_income= train_final[train_final['MonthlyIncome'].isnull()==True]\n",
    "traindf_income = train_final[train_final['MonthlyIncome'].isnull()==False]\n",
    "y_income = traindf_income['MonthlyIncome']\n",
    "X_income=traindf_income.drop([\"MonthlyIncome\"],axis=1)\n",
    "pipe_xgbr1.fit(X_income, y_income)\n",
    "train_income_missing=train[train['MonthlyIncome'].isnull()==True].drop([\"MonthlyIncome\"],axis=1)\n",
    "test_income_missing=test[test['MonthlyIncome'].isnull()==True].drop([\"MonthlyIncome\"],axis=1)\n",
    "train_predicted = pipe_xgbr1.predict(train_income_missing)\n",
    "test_predicted = pipe_xgbr1.predict(test_income_missing)\n",
    "train.loc[(train.MonthlyIncome.isnull()), 'MonthlyIncome'] = train_predicted\n",
    "test.loc[(test.MonthlyIncome.isnull()), 'MonthlyIncome'] = test_predicted"
   ]
  },
  {
   "cell_type": "code",
   "execution_count": 10,
   "id": "e1b0a0fa",
   "metadata": {
    "execution": {
     "iopub.execute_input": "2021-12-23T09:29:20.511696Z",
     "iopub.status.busy": "2021-12-23T09:29:20.510757Z",
     "iopub.status.idle": "2021-12-23T09:29:20.523993Z",
     "shell.execute_reply": "2021-12-23T09:29:20.524437Z"
    },
    "papermill": {
     "duration": 0.061827,
     "end_time": "2021-12-23T09:29:20.524599",
     "exception": false,
     "start_time": "2021-12-23T09:29:20.462772",
     "status": "completed"
    },
    "tags": []
   },
   "outputs": [
    {
     "name": "stdout",
     "output_type": "stream",
     "text": [
      "<class 'pandas.core.frame.DataFrame'>\n",
      "RangeIndex: 150000 entries, 0 to 149999\n",
      "Data columns (total 10 columns):\n",
      " #   Column                                Non-Null Count   Dtype  \n",
      "---  ------                                --------------   -----  \n",
      " 0   RevolvingUtilizationOfUnsecuredLines  150000 non-null  float16\n",
      " 1   age                                   150000 non-null  int8   \n",
      " 2   NumberOfTime30-59DaysPastDueNotWorse  150000 non-null  int8   \n",
      " 3   DebtRatio                             150000 non-null  float32\n",
      " 4   MonthlyIncome                         150000 non-null  float32\n",
      " 5   NumberOfOpenCreditLinesAndLoans       150000 non-null  int8   \n",
      " 6   NumberOfTimes90DaysLate               150000 non-null  int8   \n",
      " 7   NumberRealEstateLoansOrLines          150000 non-null  int8   \n",
      " 8   NumberOfTime60-89DaysPastDueNotWorse  150000 non-null  int8   \n",
      " 9   NumberOfDependents                    146076 non-null  float16\n",
      "dtypes: float16(2), float32(2), int8(6)\n",
      "memory usage: 2.6 MB\n"
     ]
    }
   ],
   "source": [
    "train.info()"
   ]
  },
  {
   "cell_type": "code",
   "execution_count": 11,
   "id": "e8822be5",
   "metadata": {
    "execution": {
     "iopub.execute_input": "2021-12-23T09:29:20.618211Z",
     "iopub.status.busy": "2021-12-23T09:29:20.617347Z",
     "iopub.status.idle": "2021-12-23T09:29:20.628917Z",
     "shell.execute_reply": "2021-12-23T09:29:20.629422Z"
    },
    "papermill": {
     "duration": 0.060464,
     "end_time": "2021-12-23T09:29:20.629595",
     "exception": false,
     "start_time": "2021-12-23T09:29:20.569131",
     "status": "completed"
    },
    "tags": []
   },
   "outputs": [
    {
     "name": "stdout",
     "output_type": "stream",
     "text": [
      "<class 'pandas.core.frame.DataFrame'>\n",
      "RangeIndex: 101503 entries, 0 to 101502\n",
      "Data columns (total 10 columns):\n",
      " #   Column                                Non-Null Count   Dtype  \n",
      "---  ------                                --------------   -----  \n",
      " 0   RevolvingUtilizationOfUnsecuredLines  101503 non-null  float16\n",
      " 1   age                                   101503 non-null  int8   \n",
      " 2   NumberOfTime30-59DaysPastDueNotWorse  101503 non-null  int8   \n",
      " 3   DebtRatio                             101503 non-null  float32\n",
      " 4   MonthlyIncome                         101503 non-null  float32\n",
      " 5   NumberOfOpenCreditLinesAndLoans       101503 non-null  int8   \n",
      " 6   NumberOfTimes90DaysLate               101503 non-null  int8   \n",
      " 7   NumberRealEstateLoansOrLines          101503 non-null  int8   \n",
      " 8   NumberOfTime60-89DaysPastDueNotWorse  101503 non-null  int8   \n",
      " 9   NumberOfDependents                    98877 non-null   float16\n",
      "dtypes: float16(2), float32(2), int8(6)\n",
      "memory usage: 1.7 MB\n"
     ]
    }
   ],
   "source": [
    "test.info()"
   ]
  },
  {
   "cell_type": "code",
   "execution_count": 12,
   "id": "8e5bf9a1",
   "metadata": {
    "execution": {
     "iopub.execute_input": "2021-12-23T09:29:20.731250Z",
     "iopub.status.busy": "2021-12-23T09:29:20.730422Z",
     "iopub.status.idle": "2021-12-23T10:01:12.047106Z",
     "shell.execute_reply": "2021-12-23T10:01:12.046166Z"
    },
    "papermill": {
     "duration": 1911.370073,
     "end_time": "2021-12-23T10:01:12.047270",
     "exception": false,
     "start_time": "2021-12-23T09:29:20.677197",
     "status": "completed"
    },
    "tags": []
   },
   "outputs": [],
   "source": [
    "traindf_NumberOfDependents = train_final[train_final['NumberOfDependents'].isnull()==False]\n",
    "y_NumberOfDependents = traindf_NumberOfDependents['NumberOfDependents']\n",
    "X_NumberOfDependents=traindf_NumberOfDependents.drop([\"NumberOfDependents\"],axis=1)\n",
    "pipe_xgbr2.fit(X_NumberOfDependents, y_NumberOfDependents)\n",
    "train_NumberOfDependents_missing=train[train['NumberOfDependents'].isnull()==True].drop([\"NumberOfDependents\"],axis=1)\n",
    "test_NumberOfDependents_missing=test[test['NumberOfDependents'].isnull()==True].drop([\"NumberOfDependents\"],axis=1)\n",
    "train_predicted = pipe_xgbr2.predict(train_NumberOfDependents_missing)\n",
    "test_predicted = pipe_xgbr2.predict(test_NumberOfDependents_missing)\n",
    "train.loc[(train.NumberOfDependents.isnull()), 'NumberOfDependents'] = train_predicted\n",
    "test.loc[(test.NumberOfDependents.isnull()), 'NumberOfDependents'] = test_predicted"
   ]
  },
  {
   "cell_type": "code",
   "execution_count": 13,
   "id": "c7ce542e",
   "metadata": {
    "execution": {
     "iopub.execute_input": "2021-12-23T10:01:12.142139Z",
     "iopub.status.busy": "2021-12-23T10:01:12.141169Z",
     "iopub.status.idle": "2021-12-23T10:01:12.153610Z",
     "shell.execute_reply": "2021-12-23T10:01:12.154349Z"
    },
    "papermill": {
     "duration": 0.062126,
     "end_time": "2021-12-23T10:01:12.154543",
     "exception": false,
     "start_time": "2021-12-23T10:01:12.092417",
     "status": "completed"
    },
    "tags": []
   },
   "outputs": [
    {
     "name": "stdout",
     "output_type": "stream",
     "text": [
      "<class 'pandas.core.frame.DataFrame'>\n",
      "RangeIndex: 150000 entries, 0 to 149999\n",
      "Data columns (total 10 columns):\n",
      " #   Column                                Non-Null Count   Dtype  \n",
      "---  ------                                --------------   -----  \n",
      " 0   RevolvingUtilizationOfUnsecuredLines  150000 non-null  float16\n",
      " 1   age                                   150000 non-null  int8   \n",
      " 2   NumberOfTime30-59DaysPastDueNotWorse  150000 non-null  int8   \n",
      " 3   DebtRatio                             150000 non-null  float32\n",
      " 4   MonthlyIncome                         150000 non-null  float32\n",
      " 5   NumberOfOpenCreditLinesAndLoans       150000 non-null  int8   \n",
      " 6   NumberOfTimes90DaysLate               150000 non-null  int8   \n",
      " 7   NumberRealEstateLoansOrLines          150000 non-null  int8   \n",
      " 8   NumberOfTime60-89DaysPastDueNotWorse  150000 non-null  int8   \n",
      " 9   NumberOfDependents                    150000 non-null  float16\n",
      "dtypes: float16(2), float32(2), int8(6)\n",
      "memory usage: 2.6 MB\n"
     ]
    }
   ],
   "source": [
    "train.info()"
   ]
  },
  {
   "cell_type": "code",
   "execution_count": 14,
   "id": "0e3936c2",
   "metadata": {
    "execution": {
     "iopub.execute_input": "2021-12-23T10:01:12.251435Z",
     "iopub.status.busy": "2021-12-23T10:01:12.250629Z",
     "iopub.status.idle": "2021-12-23T10:01:12.261956Z",
     "shell.execute_reply": "2021-12-23T10:01:12.262346Z"
    },
    "papermill": {
     "duration": 0.06095,
     "end_time": "2021-12-23T10:01:12.262498",
     "exception": false,
     "start_time": "2021-12-23T10:01:12.201548",
     "status": "completed"
    },
    "tags": []
   },
   "outputs": [
    {
     "name": "stdout",
     "output_type": "stream",
     "text": [
      "<class 'pandas.core.frame.DataFrame'>\n",
      "RangeIndex: 101503 entries, 0 to 101502\n",
      "Data columns (total 10 columns):\n",
      " #   Column                                Non-Null Count   Dtype  \n",
      "---  ------                                --------------   -----  \n",
      " 0   RevolvingUtilizationOfUnsecuredLines  101503 non-null  float16\n",
      " 1   age                                   101503 non-null  int8   \n",
      " 2   NumberOfTime30-59DaysPastDueNotWorse  101503 non-null  int8   \n",
      " 3   DebtRatio                             101503 non-null  float32\n",
      " 4   MonthlyIncome                         101503 non-null  float32\n",
      " 5   NumberOfOpenCreditLinesAndLoans       101503 non-null  int8   \n",
      " 6   NumberOfTimes90DaysLate               101503 non-null  int8   \n",
      " 7   NumberRealEstateLoansOrLines          101503 non-null  int8   \n",
      " 8   NumberOfTime60-89DaysPastDueNotWorse  101503 non-null  int8   \n",
      " 9   NumberOfDependents                    101503 non-null  float16\n",
      "dtypes: float16(2), float32(2), int8(6)\n",
      "memory usage: 1.7 MB\n"
     ]
    }
   ],
   "source": [
    "test.info()"
   ]
  },
  {
   "cell_type": "markdown",
   "id": "6ff719d1",
   "metadata": {
    "papermill": {
     "duration": 0.045363,
     "end_time": "2021-12-23T10:01:12.359343",
     "exception": false,
     "start_time": "2021-12-23T10:01:12.313980",
     "status": "completed"
    },
    "tags": []
   },
   "source": [
    "# Add Bin "
   ]
  },
  {
   "cell_type": "code",
   "execution_count": 15,
   "id": "d4b85bbb",
   "metadata": {
    "execution": {
     "iopub.execute_input": "2021-12-23T10:01:12.475331Z",
     "iopub.status.busy": "2021-12-23T10:01:12.474239Z",
     "iopub.status.idle": "2021-12-23T10:01:13.052725Z",
     "shell.execute_reply": "2021-12-23T10:01:13.052172Z"
    },
    "papermill": {
     "duration": 0.646534,
     "end_time": "2021-12-23T10:01:13.052862",
     "exception": false,
     "start_time": "2021-12-23T10:01:12.406328",
     "status": "completed"
    },
    "tags": []
   },
   "outputs": [],
   "source": [
    "# Add bin data \n",
    "# initializing append_str\n",
    "append_str = 'cat_'\n",
    "# Append suffix / prefix to strings in list\n",
    "num_features1=[\"RevolvingUtilizationOfUnsecuredLines\", \"DebtRatio\",\"MonthlyIncome\"]\n",
    "num_features2=[\"NumberOfDependents\",\n",
    "                       \"NumberOfTime60-89DaysPastDueNotWorse\",\n",
    "                       \"NumberRealEstateLoansOrLines\",\n",
    "                       \"NumberOfTimes90DaysLate\",\n",
    "                       \"NumberOfOpenCreditLinesAndLoans\",\n",
    "                       \"NumberOfTime30-59DaysPastDueNotWorse\",\n",
    "                       \"age\"]\n",
    "cat_features1 = [append_str + sub for sub in num_features1]\n",
    "cat_features2 = [append_str + sub for sub in num_features2]\n",
    "\n",
    "# create the discretizer object with strategy quantile and 1000 bins\n",
    "discretizer1 = KBinsDiscretizer(n_bins=40, encode='ordinal',strategy='quantile')\n",
    "discretizer2 = KBinsDiscretizer(n_bins=4, encode='ordinal',strategy='quantile')\n",
    "\n",
    "pipeline1 = Pipeline([\n",
    "        ('imputer', SimpleImputer( strategy='median')),\n",
    "        ('bin', discretizer1)\n",
    "    ])\n",
    "# fit the discretizer to the train set\n",
    "pipeline1.fit(train.loc[:,num_features1])\n",
    "# apply the discretisation\n",
    "train_cat1 = pipeline1.transform(train.loc[:,num_features1])\n",
    "test_cat1 = pipeline1.transform(test.loc[:,num_features1])\n",
    "train_df1=pd.DataFrame(train_cat1,columns=cat_features1).astype('category')\n",
    "test_df1=pd.DataFrame(test_cat1,columns=cat_features1).astype('category')\n",
    "train_final1= pd.concat( [train.loc[:,num_features1], train_df1], axis=1) \n",
    "test_final1= pd.concat( [test.loc[:,num_features1], test_df1], axis=1) \n",
    "\n",
    "pipeline2 = Pipeline([\n",
    "        ('imputer', SimpleImputer( strategy='median')),\n",
    "        ('bin', discretizer2)\n",
    "    ])\n",
    "# fit the discretizer to the train set\n",
    "pipeline2.fit(train.loc[:,num_features2])\n",
    "# apply the discretisation\n",
    "train_cat2 = pipeline2.transform(train.loc[:,num_features2])\n",
    "test_cat2 = pipeline2.transform(test.loc[:,num_features2])\n",
    "train_df2=pd.DataFrame(train_cat2,columns=cat_features2).astype('category')\n",
    "test_df2=pd.DataFrame(test_cat2,columns=cat_features2).astype('category')\n",
    "train_final2= pd.concat( [train.loc[:,num_features2], train_df2], axis=1) \n",
    "test_final2= pd.concat( [test.loc[:,num_features2], test_df2], axis=1) "
   ]
  },
  {
   "cell_type": "code",
   "execution_count": 16,
   "id": "39e63db2",
   "metadata": {
    "execution": {
     "iopub.execute_input": "2021-12-23T10:01:13.149215Z",
     "iopub.status.busy": "2021-12-23T10:01:13.148696Z",
     "iopub.status.idle": "2021-12-23T10:01:13.155133Z",
     "shell.execute_reply": "2021-12-23T10:01:13.154619Z"
    },
    "papermill": {
     "duration": 0.056585,
     "end_time": "2021-12-23T10:01:13.155257",
     "exception": false,
     "start_time": "2021-12-23T10:01:13.098672",
     "status": "completed"
    },
    "tags": []
   },
   "outputs": [],
   "source": [
    "train_final= pd.concat( [train_final1, train_final2], axis=1) \n",
    "test_final= pd.concat( [test_final1, test_final2], axis=1) "
   ]
  },
  {
   "cell_type": "markdown",
   "id": "bfd3e4a4",
   "metadata": {
    "papermill": {
     "duration": 0.045055,
     "end_time": "2021-12-23T10:01:13.245663",
     "exception": false,
     "start_time": "2021-12-23T10:01:13.200608",
     "status": "completed"
    },
    "tags": []
   },
   "source": [
    "# Final X and y"
   ]
  },
  {
   "cell_type": "code",
   "execution_count": 17,
   "id": "522d8a48",
   "metadata": {
    "execution": {
     "iopub.execute_input": "2021-12-23T10:01:13.341505Z",
     "iopub.status.busy": "2021-12-23T10:01:13.340647Z",
     "iopub.status.idle": "2021-12-23T10:01:13.342412Z",
     "shell.execute_reply": "2021-12-23T10:01:13.342880Z"
    },
    "papermill": {
     "duration": 0.051873,
     "end_time": "2021-12-23T10:01:13.343015",
     "exception": false,
     "start_time": "2021-12-23T10:01:13.291142",
     "status": "completed"
    },
    "tags": []
   },
   "outputs": [],
   "source": [
    "# Pour le train test\n",
    "target= \"SeriousDlqin2yrs\"\n",
    "X = train_final# axis=1\n",
    "X_test_final =test_final# axis=1"
   ]
  },
  {
   "cell_type": "code",
   "execution_count": 18,
   "id": "b6d55a9a",
   "metadata": {
    "execution": {
     "iopub.execute_input": "2021-12-23T10:01:13.441007Z",
     "iopub.status.busy": "2021-12-23T10:01:13.438264Z",
     "iopub.status.idle": "2021-12-23T10:01:13.458607Z",
     "shell.execute_reply": "2021-12-23T10:01:13.459093Z"
    },
    "papermill": {
     "duration": 0.070478,
     "end_time": "2021-12-23T10:01:13.459246",
     "exception": false,
     "start_time": "2021-12-23T10:01:13.388768",
     "status": "completed"
    },
    "tags": []
   },
   "outputs": [
    {
     "name": "stdout",
     "output_type": "stream",
     "text": [
      "<class 'pandas.core.frame.DataFrame'>\n",
      "RangeIndex: 101503 entries, 0 to 101502\n",
      "Data columns (total 20 columns):\n",
      " #   Column                                    Non-Null Count   Dtype   \n",
      "---  ------                                    --------------   -----   \n",
      " 0   RevolvingUtilizationOfUnsecuredLines      101503 non-null  float16 \n",
      " 1   DebtRatio                                 101503 non-null  float32 \n",
      " 2   MonthlyIncome                             101503 non-null  float32 \n",
      " 3   cat_RevolvingUtilizationOfUnsecuredLines  101503 non-null  category\n",
      " 4   cat_DebtRatio                             101503 non-null  category\n",
      " 5   cat_MonthlyIncome                         101503 non-null  category\n",
      " 6   NumberOfDependents                        101503 non-null  float16 \n",
      " 7   NumberOfTime60-89DaysPastDueNotWorse      101503 non-null  int8    \n",
      " 8   NumberRealEstateLoansOrLines              101503 non-null  int8    \n",
      " 9   NumberOfTimes90DaysLate                   101503 non-null  int8    \n",
      " 10  NumberOfOpenCreditLinesAndLoans           101503 non-null  int8    \n",
      " 11  NumberOfTime30-59DaysPastDueNotWorse      101503 non-null  int8    \n",
      " 12  age                                       101503 non-null  int8    \n",
      " 13  cat_NumberOfDependents                    101503 non-null  category\n",
      " 14  cat_NumberOfTime60-89DaysPastDueNotWorse  101503 non-null  category\n",
      " 15  cat_NumberRealEstateLoansOrLines          101503 non-null  category\n",
      " 16  cat_NumberOfTimes90DaysLate               101503 non-null  category\n",
      " 17  cat_NumberOfOpenCreditLinesAndLoans       101503 non-null  category\n",
      " 18  cat_NumberOfTime30-59DaysPastDueNotWorse  101503 non-null  category\n",
      " 19  cat_age                                   101503 non-null  category\n",
      "dtypes: category(10), float16(2), float32(2), int8(6)\n",
      "memory usage: 2.7 MB\n"
     ]
    }
   ],
   "source": [
    "X_test_final.info()"
   ]
  },
  {
   "cell_type": "code",
   "execution_count": 19,
   "id": "df15bf91",
   "metadata": {
    "execution": {
     "iopub.execute_input": "2021-12-23T10:01:13.558505Z",
     "iopub.status.busy": "2021-12-23T10:01:13.557545Z",
     "iopub.status.idle": "2021-12-23T10:01:13.579005Z",
     "shell.execute_reply": "2021-12-23T10:01:13.578464Z"
    },
    "papermill": {
     "duration": 0.071868,
     "end_time": "2021-12-23T10:01:13.579139",
     "exception": false,
     "start_time": "2021-12-23T10:01:13.507271",
     "status": "completed"
    },
    "tags": []
   },
   "outputs": [
    {
     "name": "stdout",
     "output_type": "stream",
     "text": [
      "<class 'pandas.core.frame.DataFrame'>\n",
      "RangeIndex: 150000 entries, 0 to 149999\n",
      "Data columns (total 20 columns):\n",
      " #   Column                                    Non-Null Count   Dtype   \n",
      "---  ------                                    --------------   -----   \n",
      " 0   RevolvingUtilizationOfUnsecuredLines      150000 non-null  float16 \n",
      " 1   DebtRatio                                 150000 non-null  float32 \n",
      " 2   MonthlyIncome                             150000 non-null  float32 \n",
      " 3   cat_RevolvingUtilizationOfUnsecuredLines  150000 non-null  category\n",
      " 4   cat_DebtRatio                             150000 non-null  category\n",
      " 5   cat_MonthlyIncome                         150000 non-null  category\n",
      " 6   NumberOfDependents                        150000 non-null  float16 \n",
      " 7   NumberOfTime60-89DaysPastDueNotWorse      150000 non-null  int8    \n",
      " 8   NumberRealEstateLoansOrLines              150000 non-null  int8    \n",
      " 9   NumberOfTimes90DaysLate                   150000 non-null  int8    \n",
      " 10  NumberOfOpenCreditLinesAndLoans           150000 non-null  int8    \n",
      " 11  NumberOfTime30-59DaysPastDueNotWorse      150000 non-null  int8    \n",
      " 12  age                                       150000 non-null  int8    \n",
      " 13  cat_NumberOfDependents                    150000 non-null  category\n",
      " 14  cat_NumberOfTime60-89DaysPastDueNotWorse  150000 non-null  category\n",
      " 15  cat_NumberRealEstateLoansOrLines          150000 non-null  category\n",
      " 16  cat_NumberOfTimes90DaysLate               150000 non-null  category\n",
      " 17  cat_NumberOfOpenCreditLinesAndLoans       150000 non-null  category\n",
      " 18  cat_NumberOfTime30-59DaysPastDueNotWorse  150000 non-null  category\n",
      " 19  cat_age                                   150000 non-null  category\n",
      "dtypes: category(10), float16(2), float32(2), int8(6)\n",
      "memory usage: 4.0 MB\n"
     ]
    }
   ],
   "source": [
    "X.info()"
   ]
  },
  {
   "cell_type": "markdown",
   "id": "d2bc5b46",
   "metadata": {
    "papermill": {
     "duration": 0.04595,
     "end_time": "2021-12-23T10:01:13.696724",
     "exception": false,
     "start_time": "2021-12-23T10:01:13.650774",
     "status": "completed"
    },
    "tags": []
   },
   "source": [
    "# Features Engineer"
   ]
  },
  {
   "cell_type": "code",
   "execution_count": 20,
   "id": "54533c55",
   "metadata": {
    "execution": {
     "iopub.execute_input": "2021-12-23T10:01:13.799397Z",
     "iopub.status.busy": "2021-12-23T10:01:13.798522Z",
     "iopub.status.idle": "2021-12-23T10:01:13.800184Z",
     "shell.execute_reply": "2021-12-23T10:01:13.800704Z"
    },
    "papermill": {
     "duration": 0.057948,
     "end_time": "2021-12-23T10:01:13.800848",
     "exception": false,
     "start_time": "2021-12-23T10:01:13.742900",
     "status": "completed"
    },
    "tags": []
   },
   "outputs": [],
   "source": [
    "def feature_eng(df):\n",
    "    \n",
    "    df['Weighted_Sum_PastDue'] = 2 * df['NumberOfTime30-59DaysPastDueNotWorse'] + 3 * df['NumberOfTime60-89DaysPastDueNotWorse'] + 6 * df['NumberOfTimes90DaysLate']\n",
    "    \n",
    "    df['90days_out_of_TotalPastDue'] = df['NumberOfTimes90DaysLate'] / (df['Weighted_Sum_PastDue'])\n",
    "    df.loc[df['Weighted_Sum_PastDue']==0, '90days_out_of_TotalPastDue'] = 0\n",
    "   \n",
    "    df['RemainingLines'] = df['NumberOfOpenCreditLinesAndLoans'] - df['NumberRealEstateLoansOrLines']\n",
    "\n",
    "    df['Loans_vs_Other_Lines'] = df['RemainingLines'] / (1 + df['NumberRealEstateLoansOrLines'])\n",
    "\n",
    "    df['Debt_per_Real_Estate_Loan'] = df['DebtRatio'] / df['NumberRealEstateLoansOrLines']\n",
    "    df.loc[df['NumberRealEstateLoansOrLines']==0, 'Debt_per_Real_Estate_Loan'] = 0\n",
    "\n",
    "    df['Disposable_Income_per_person'] = (df['MonthlyIncome'] - df['DebtRatio']) / (df['NumberOfDependents'] + 1)\n",
    "    df.loc[df['NumberOfDependents']==0, 'Disposable_Income_per_person'] = 0\n",
    "\n",
    "    df['RemainingLines_per_person'] = df['RemainingLines'] / (df['NumberOfDependents'] + 1)\n",
    "\n",
    "    df['NumberRE_X_DebtRatio_X_age'] = df['NumberRealEstateLoansOrLines'] * df['DebtRatio'] / df['age']\n",
    "\n",
    "    df['RevolvingUtilization_per_age'] = df['RevolvingUtilizationOfUnsecuredLines'] / df['age']\n",
    "\n",
    "    #df.drop(['MonthlyIncome', 'NumberRealEstateLoansOrLines'], axis=1, inplace=True)\n",
    "    df[df==np.inf]=np.nan\n",
    "    #df.fillna(df.median(), inplace=True)\n",
    "    #credit:https://www.kaggle.com/jamesngoa/credit-scoring-feature-eng-and-prediction-0-8674\n",
    "    return df"
   ]
  },
  {
   "cell_type": "code",
   "execution_count": 21,
   "id": "9a95cd01",
   "metadata": {
    "execution": {
     "iopub.execute_input": "2021-12-23T10:01:13.907797Z",
     "iopub.status.busy": "2021-12-23T10:01:13.906820Z",
     "iopub.status.idle": "2021-12-23T10:01:14.059662Z",
     "shell.execute_reply": "2021-12-23T10:01:14.060095Z"
    },
    "papermill": {
     "duration": 0.20981,
     "end_time": "2021-12-23T10:01:14.060255",
     "exception": false,
     "start_time": "2021-12-23T10:01:13.850445",
     "status": "completed"
    },
    "tags": []
   },
   "outputs": [
    {
     "name": "stdout",
     "output_type": "stream",
     "text": [
      "Memory usage of dataframe is 8.87 MB\n",
      "Memory usage after optimization is: 6.87 MB\n",
      "Decreased by 22.6%\n",
      "Memory usage of dataframe is 6.01 MB\n",
      "Memory usage after optimization is: 4.65 MB\n",
      "Decreased by 22.6%\n"
     ]
    }
   ],
   "source": [
    "X_new=X.copy()\n",
    "X_new=feature_eng(X_new)\n",
    "X_test_final_new=X_test_final.copy()\n",
    "X_test_final_new=feature_eng(X_test_final_new)\n",
    "X_new= reduce_mem_usage(X_new)\n",
    "X_test_final_new= reduce_mem_usage(X_test_final_new)"
   ]
  },
  {
   "cell_type": "code",
   "execution_count": 22,
   "id": "40f79570",
   "metadata": {
    "execution": {
     "iopub.execute_input": "2021-12-23T10:01:14.160783Z",
     "iopub.status.busy": "2021-12-23T10:01:14.159900Z",
     "iopub.status.idle": "2021-12-23T10:01:14.162490Z",
     "shell.execute_reply": "2021-12-23T10:01:14.161918Z"
    },
    "papermill": {
     "duration": 0.0547,
     "end_time": "2021-12-23T10:01:14.162624",
     "exception": false,
     "start_time": "2021-12-23T10:01:14.107924",
     "status": "completed"
    },
    "tags": []
   },
   "outputs": [],
   "source": [
    "del train\n",
    "del test \n",
    "del train_final\n",
    "del test_final"
   ]
  },
  {
   "cell_type": "markdown",
   "id": "bdf67cc1",
   "metadata": {
    "papermill": {
     "duration": 0.048422,
     "end_time": "2021-12-23T10:01:14.261631",
     "exception": false,
     "start_time": "2021-12-23T10:01:14.213209",
     "status": "completed"
    },
    "tags": []
   },
   "source": [
    "\n",
    "## Drop NAN "
   ]
  },
  {
   "cell_type": "code",
   "execution_count": 23,
   "id": "80772c71",
   "metadata": {
    "execution": {
     "iopub.execute_input": "2021-12-23T10:01:14.368321Z",
     "iopub.status.busy": "2021-12-23T10:01:14.367435Z",
     "iopub.status.idle": "2021-12-23T10:01:14.475438Z",
     "shell.execute_reply": "2021-12-23T10:01:14.474789Z"
    },
    "papermill": {
     "duration": 0.166231,
     "end_time": "2021-12-23T10:01:14.475576",
     "exception": false,
     "start_time": "2021-12-23T10:01:14.309345",
     "status": "completed"
    },
    "tags": []
   },
   "outputs": [],
   "source": [
    "X_new=X.copy()\n",
    "X_new=feature_eng(X_new)\n",
    "X_test_final_new=X_test_final.copy()\n",
    "X_test_final_new=feature_eng(X_test_final)\n",
    "X_without_missing=X.drop(['MonthlyIncome', 'NumberOfDependents'], axis=1)\n",
    "X_new_without_missing=X_new.drop(['MonthlyIncome', 'NumberOfDependents'], axis=1)\n",
    "X_test_final_without_missing=X_test_final.drop(['MonthlyIncome', 'NumberOfDependents'], axis=1)\n",
    "X_test_final_new_without_missing=X_test_final_new.drop(['MonthlyIncome', 'NumberOfDependents'], axis=1)"
   ]
  },
  {
   "cell_type": "markdown",
   "id": "4b2ae09f",
   "metadata": {
    "papermill": {
     "duration": 0.047381,
     "end_time": "2021-12-23T10:01:14.571298",
     "exception": false,
     "start_time": "2021-12-23T10:01:14.523917",
     "status": "completed"
    },
    "tags": []
   },
   "source": [
    "# Extract final cat  and num Features \n",
    "## Cat Features "
   ]
  },
  {
   "cell_type": "code",
   "execution_count": 24,
   "id": "0a844a53",
   "metadata": {
    "execution": {
     "iopub.execute_input": "2021-12-23T10:01:14.679946Z",
     "iopub.status.busy": "2021-12-23T10:01:14.679116Z",
     "iopub.status.idle": "2021-12-23T10:01:14.686748Z",
     "shell.execute_reply": "2021-12-23T10:01:14.685794Z"
    },
    "papermill": {
     "duration": 0.068425,
     "end_time": "2021-12-23T10:01:14.686874",
     "exception": false,
     "start_time": "2021-12-23T10:01:14.618449",
     "status": "completed"
    },
    "tags": []
   },
   "outputs": [
    {
     "data": {
      "text/plain": [
       "Index(['cat_RevolvingUtilizationOfUnsecuredLines', 'cat_DebtRatio',\n",
       "       'cat_MonthlyIncome', 'cat_NumberOfDependents',\n",
       "       'cat_NumberOfTime60-89DaysPastDueNotWorse',\n",
       "       'cat_NumberRealEstateLoansOrLines', 'cat_NumberOfTimes90DaysLate',\n",
       "       'cat_NumberOfOpenCreditLinesAndLoans',\n",
       "       'cat_NumberOfTime30-59DaysPastDueNotWorse', 'cat_age'],\n",
       "      dtype='object')"
      ]
     },
     "execution_count": 24,
     "metadata": {},
     "output_type": "execute_result"
    }
   ],
   "source": [
    "# select non-numeric columns\n",
    "cat_columns = X.select_dtypes(exclude=['int64','int16','float16','float32','float64','int8']).columns\n",
    "cat_columns_new = X_new.select_dtypes(exclude=['int64','int16','float16','float32','float64','int8']).columns\n",
    "cat_columns_without_missing = X_without_missing.select_dtypes(exclude=['int64','int16','float16','float32','float64','int8']).columns\n",
    "cat_columns_new_without_missing  = X_new_without_missing.select_dtypes(exclude=['int64','int16','float16','float32','float64','int8']).columns\n",
    "cat_columns_new_without_missing"
   ]
  },
  {
   "cell_type": "markdown",
   "id": "7b2ed9d1",
   "metadata": {
    "papermill": {
     "duration": 0.0474,
     "end_time": "2021-12-23T10:01:14.782088",
     "exception": false,
     "start_time": "2021-12-23T10:01:14.734688",
     "status": "completed"
    },
    "tags": []
   },
   "source": [
    "**Num Features**\n",
    "\n"
   ]
  },
  {
   "cell_type": "code",
   "execution_count": 25,
   "id": "86987d6d",
   "metadata": {
    "execution": {
     "iopub.execute_input": "2021-12-23T10:01:14.900152Z",
     "iopub.status.busy": "2021-12-23T10:01:14.899284Z",
     "iopub.status.idle": "2021-12-23T10:01:14.921160Z",
     "shell.execute_reply": "2021-12-23T10:01:14.920674Z"
    },
    "papermill": {
     "duration": 0.086207,
     "end_time": "2021-12-23T10:01:14.921284",
     "exception": false,
     "start_time": "2021-12-23T10:01:14.835077",
     "status": "completed"
    },
    "tags": []
   },
   "outputs": [
    {
     "data": {
      "text/plain": [
       "Index(['RevolvingUtilizationOfUnsecuredLines', 'DebtRatio',\n",
       "       'NumberOfTime60-89DaysPastDueNotWorse', 'NumberRealEstateLoansOrLines',\n",
       "       'NumberOfTimes90DaysLate', 'NumberOfOpenCreditLinesAndLoans',\n",
       "       'NumberOfTime30-59DaysPastDueNotWorse', 'age', 'Weighted_Sum_PastDue',\n",
       "       '90days_out_of_TotalPastDue', 'RemainingLines', 'Loans_vs_Other_Lines',\n",
       "       'Debt_per_Real_Estate_Loan', 'Disposable_Income_per_person',\n",
       "       'RemainingLines_per_person', 'NumberRE_X_DebtRatio_X_age',\n",
       "       'RevolvingUtilization_per_age'],\n",
       "      dtype='object')"
      ]
     },
     "execution_count": 25,
     "metadata": {},
     "output_type": "execute_result"
    }
   ],
   "source": [
    "# select the float columns\n",
    "num_columns = X.select_dtypes(include=['int64','int16','float16','float32','float64','int8']).columns\n",
    "num_columns_new = X_new.select_dtypes(include=['int64','int16','float16','float32','float64','int8']).columns\n",
    "num_columns_without_missing = X_without_missing.select_dtypes(include=['int64','int16','float16','float32','float64','int8']).columns\n",
    "num_columns_new_without_missing = X_new_without_missing.select_dtypes(include=['int64','int16','float16','float32','float64','int8']).columns\n",
    "num_columns_new_without_missing"
   ]
  },
  {
   "cell_type": "markdown",
   "id": "3a82649f",
   "metadata": {
    "papermill": {
     "duration": 0.053315,
     "end_time": "2021-12-23T10:01:15.028734",
     "exception": false,
     "start_time": "2021-12-23T10:01:14.975419",
     "status": "completed"
    },
    "tags": []
   },
   "source": [
    "# Outlier handle:\n"
   ]
  },
  {
   "cell_type": "code",
   "execution_count": 26,
   "id": "12651f67",
   "metadata": {
    "execution": {
     "iopub.execute_input": "2021-12-23T10:01:15.133307Z",
     "iopub.status.busy": "2021-12-23T10:01:15.132416Z",
     "iopub.status.idle": "2021-12-23T10:01:15.134280Z",
     "shell.execute_reply": "2021-12-23T10:01:15.134713Z"
    },
    "papermill": {
     "duration": 0.057968,
     "end_time": "2021-12-23T10:01:15.134859",
     "exception": false,
     "start_time": "2021-12-23T10:01:15.076891",
     "status": "completed"
    },
    "tags": []
   },
   "outputs": [],
   "source": [
    "# Outlier Handle \n",
    "class OutlierReplace(BaseEstimator,TransformerMixin):\n",
    "    def __init__(self,factor=1.5):\n",
    "        self.factor = factor\n",
    "\n",
    "    def outlier_removal(self,X,y=None):\n",
    "        X = pd.Series(X).copy()\n",
    "        #qmin=X.quantile(0.01)\n",
    "        qmax=X.quantile(0.995)\n",
    "        #q1 = X.quantile(0.25)\n",
    "        #q3 = X.quantile(0.75)\n",
    "        #iqr = q3 - q1\n",
    "        #lower_bound = q1 - (self.factor * iqr)\n",
    "        #upper_bound = q3 + (self.factor * iqr)\n",
    "        upper_bound = X.quantile(0.995)\n",
    "        #X.loc[((X < lower_bound) | (X > upper_bound))] = np.nan \n",
    "        #X.loc[X < lower_bound] = qmin\n",
    "        X.loc[X > upper_bound] = qmax\n",
    "        return pd.Series(X)\n",
    "\n",
    "    def fit(self,X,y=None):\n",
    "        return self\n",
    "\n",
    "    def transform(self,X,y=None):\n",
    "        return X.apply(self.outlier_removal) "
   ]
  },
  {
   "cell_type": "markdown",
   "id": "50a202ae",
   "metadata": {
    "papermill": {
     "duration": 0.048173,
     "end_time": "2021-12-23T10:01:15.231213",
     "exception": false,
     "start_time": "2021-12-23T10:01:15.183040",
     "status": "completed"
    },
    "tags": []
   },
   "source": [
    "# Baseline  Pipe0:OWE+Powertransformer"
   ]
  },
  {
   "cell_type": "code",
   "execution_count": 27,
   "id": "3369954c",
   "metadata": {
    "execution": {
     "iopub.execute_input": "2021-12-23T10:01:15.342102Z",
     "iopub.status.busy": "2021-12-23T10:01:15.337651Z",
     "iopub.status.idle": "2021-12-23T10:01:15.789367Z",
     "shell.execute_reply": "2021-12-23T10:01:15.789858Z"
    },
    "papermill": {
     "duration": 0.509546,
     "end_time": "2021-12-23T10:01:15.790019",
     "exception": false,
     "start_time": "2021-12-23T10:01:15.280473",
     "status": "completed"
    },
    "tags": []
   },
   "outputs": [
    {
     "data": {
      "text/html": [
       "<style>div.sk-top-container {color: black;background-color: white;}div.sk-toggleable {background-color: white;}label.sk-toggleable__label {cursor: pointer;display: block;width: 100%;margin-bottom: 0;padding: 0.2em 0.3em;box-sizing: border-box;text-align: center;}div.sk-toggleable__content {max-height: 0;max-width: 0;overflow: hidden;text-align: left;background-color: #f0f8ff;}div.sk-toggleable__content pre {margin: 0.2em;color: black;border-radius: 0.25em;background-color: #f0f8ff;}input.sk-toggleable__control:checked~div.sk-toggleable__content {max-height: 200px;max-width: 100%;overflow: auto;}div.sk-estimator input.sk-toggleable__control:checked~label.sk-toggleable__label {background-color: #d4ebff;}div.sk-label input.sk-toggleable__control:checked~label.sk-toggleable__label {background-color: #d4ebff;}input.sk-hidden--visually {border: 0;clip: rect(1px 1px 1px 1px);clip: rect(1px, 1px, 1px, 1px);height: 1px;margin: -1px;overflow: hidden;padding: 0;position: absolute;width: 1px;}div.sk-estimator {font-family: monospace;background-color: #f0f8ff;margin: 0.25em 0.25em;border: 1px dotted black;border-radius: 0.25em;box-sizing: border-box;}div.sk-estimator:hover {background-color: #d4ebff;}div.sk-parallel-item::after {content: \"\";width: 100%;border-bottom: 1px solid gray;flex-grow: 1;}div.sk-label:hover label.sk-toggleable__label {background-color: #d4ebff;}div.sk-serial::before {content: \"\";position: absolute;border-left: 1px solid gray;box-sizing: border-box;top: 2em;bottom: 0;left: 50%;}div.sk-serial {display: flex;flex-direction: column;align-items: center;background-color: white;}div.sk-item {z-index: 1;}div.sk-parallel {display: flex;align-items: stretch;justify-content: center;background-color: white;}div.sk-parallel-item {display: flex;flex-direction: column;position: relative;background-color: white;}div.sk-parallel-item:first-child::after {align-self: flex-end;width: 50%;}div.sk-parallel-item:last-child::after {align-self: flex-start;width: 50%;}div.sk-parallel-item:only-child::after {width: 0;}div.sk-dashed-wrapped {border: 1px dashed gray;margin: 0.2em;box-sizing: border-box;padding-bottom: 0.1em;background-color: white;position: relative;}div.sk-label label {font-family: monospace;font-weight: bold;background-color: white;display: inline-block;line-height: 1.2em;}div.sk-label-container {position: relative;z-index: 2;text-align: center;}div.sk-container {display: inline-block;position: relative;}</style><div class=\"sk-top-container\"><div class=\"sk-container\"><div class=\"sk-item sk-dashed-wrapped\"><div class=\"sk-label-container\"><div class=\"sk-label sk-toggleable\"><input class=\"sk-toggleable__control sk-hidden--visually\" id=\"29f909a6-3683-45ce-be6f-97da0a1922b7\" type=\"checkbox\" ><label class=\"sk-toggleable__label\" for=\"29f909a6-3683-45ce-be6f-97da0a1922b7\">Pipeline</label><div class=\"sk-toggleable__content\"><pre>Pipeline(steps=[('preprocessor',\n",
       "                 ColumnTransformer(transformers=[('numerical',\n",
       "                                                  Pipeline(steps=[('imputer',\n",
       "                                                                   SimpleImputer(add_indicator=True,\n",
       "                                                                                 strategy='median')),\n",
       "                                                                  ('scaler',\n",
       "                                                                   PowerTransformer()),\n",
       "                                                                  ('reducedim',\n",
       "                                                                   SelectPercentile(percentile=90))]),\n",
       "                                                  Index(['RevolvingUtilizationOfUnsecuredLines', 'DebtRatio', 'MonthlyIncome',\n",
       "       'NumberOfDependents', 'NumberOfTime60-89Da...\n",
       "       'cat_NumberRealEstateLoansOrLines', 'cat_NumberOfTimes90DaysLate',\n",
       "       'cat_NumberOfOpenCreditLinesAndLoans',\n",
       "       'cat_NumberOfTime30-59DaysPastDueNotWorse', 'cat_age'],\n",
       "      dtype='object'))])),\n",
       "                ('classifier',\n",
       "                 LGBMClassifier(device_type='gpu',\n",
       "                                learning_rate=0.0018069834369607075,\n",
       "                                max_depth=8, metric='auc', min_samples_leaf=47,\n",
       "                                n_estimators=5000, random_state=42,\n",
       "                                subsample=0.8573598985000007, verbose=-1))])</pre></div></div></div><div class=\"sk-serial\"><div class=\"sk-item sk-dashed-wrapped\"><div class=\"sk-label-container\"><div class=\"sk-label sk-toggleable\"><input class=\"sk-toggleable__control sk-hidden--visually\" id=\"75f0465a-8ff3-469e-bcc4-a75dcb84ee11\" type=\"checkbox\" ><label class=\"sk-toggleable__label\" for=\"75f0465a-8ff3-469e-bcc4-a75dcb84ee11\">preprocessor: ColumnTransformer</label><div class=\"sk-toggleable__content\"><pre>ColumnTransformer(transformers=[('numerical',\n",
       "                                 Pipeline(steps=[('imputer',\n",
       "                                                  SimpleImputer(add_indicator=True,\n",
       "                                                                strategy='median')),\n",
       "                                                 ('scaler', PowerTransformer()),\n",
       "                                                 ('reducedim',\n",
       "                                                  SelectPercentile(percentile=90))]),\n",
       "                                 Index(['RevolvingUtilizationOfUnsecuredLines', 'DebtRatio', 'MonthlyIncome',\n",
       "       'NumberOfDependents', 'NumberOfTime60-89DaysPastDueNotWorse',\n",
       "       'NumberRealEs...\n",
       "                                                                   score_func=<function mutual_info_classif at 0x7fab4fedf950>))]),\n",
       "                                 Index(['cat_RevolvingUtilizationOfUnsecuredLines', 'cat_DebtRatio',\n",
       "       'cat_MonthlyIncome', 'cat_NumberOfDependents',\n",
       "       'cat_NumberOfTime60-89DaysPastDueNotWorse',\n",
       "       'cat_NumberRealEstateLoansOrLines', 'cat_NumberOfTimes90DaysLate',\n",
       "       'cat_NumberOfOpenCreditLinesAndLoans',\n",
       "       'cat_NumberOfTime30-59DaysPastDueNotWorse', 'cat_age'],\n",
       "      dtype='object'))])</pre></div></div></div><div class=\"sk-parallel\"><div class=\"sk-parallel-item\"><div class=\"sk-item\"><div class=\"sk-label-container\"><div class=\"sk-label sk-toggleable\"><input class=\"sk-toggleable__control sk-hidden--visually\" id=\"71ea1b87-fa93-4229-9bec-19fca60d56f8\" type=\"checkbox\" ><label class=\"sk-toggleable__label\" for=\"71ea1b87-fa93-4229-9bec-19fca60d56f8\">numerical</label><div class=\"sk-toggleable__content\"><pre>Index(['RevolvingUtilizationOfUnsecuredLines', 'DebtRatio', 'MonthlyIncome',\n",
       "       'NumberOfDependents', 'NumberOfTime60-89DaysPastDueNotWorse',\n",
       "       'NumberRealEstateLoansOrLines', 'NumberOfTimes90DaysLate',\n",
       "       'NumberOfOpenCreditLinesAndLoans',\n",
       "       'NumberOfTime30-59DaysPastDueNotWorse', 'age'],\n",
       "      dtype='object')</pre></div></div></div><div class=\"sk-serial\"><div class=\"sk-item\"><div class=\"sk-serial\"><div class=\"sk-item\"><div class=\"sk-estimator sk-toggleable\"><input class=\"sk-toggleable__control sk-hidden--visually\" id=\"9cfd2432-4cae-48e7-9c7a-e4c2dadbd1d0\" type=\"checkbox\" ><label class=\"sk-toggleable__label\" for=\"9cfd2432-4cae-48e7-9c7a-e4c2dadbd1d0\">SimpleImputer</label><div class=\"sk-toggleable__content\"><pre>SimpleImputer(add_indicator=True, strategy='median')</pre></div></div></div><div class=\"sk-item\"><div class=\"sk-estimator sk-toggleable\"><input class=\"sk-toggleable__control sk-hidden--visually\" id=\"c270e598-8296-4f06-891e-88bf87f77b77\" type=\"checkbox\" ><label class=\"sk-toggleable__label\" for=\"c270e598-8296-4f06-891e-88bf87f77b77\">PowerTransformer</label><div class=\"sk-toggleable__content\"><pre>PowerTransformer()</pre></div></div></div><div class=\"sk-item\"><div class=\"sk-estimator sk-toggleable\"><input class=\"sk-toggleable__control sk-hidden--visually\" id=\"670a8a4a-413f-4674-a515-a4a000a689d2\" type=\"checkbox\" ><label class=\"sk-toggleable__label\" for=\"670a8a4a-413f-4674-a515-a4a000a689d2\">SelectPercentile</label><div class=\"sk-toggleable__content\"><pre>SelectPercentile(percentile=90)</pre></div></div></div></div></div></div></div></div><div class=\"sk-parallel-item\"><div class=\"sk-item\"><div class=\"sk-label-container\"><div class=\"sk-label sk-toggleable\"><input class=\"sk-toggleable__control sk-hidden--visually\" id=\"e6cd963f-6b94-450b-8d7b-bbbc1b4e7762\" type=\"checkbox\" ><label class=\"sk-toggleable__label\" for=\"e6cd963f-6b94-450b-8d7b-bbbc1b4e7762\">categorical</label><div class=\"sk-toggleable__content\"><pre>Index(['cat_RevolvingUtilizationOfUnsecuredLines', 'cat_DebtRatio',\n",
       "       'cat_MonthlyIncome', 'cat_NumberOfDependents',\n",
       "       'cat_NumberOfTime60-89DaysPastDueNotWorse',\n",
       "       'cat_NumberRealEstateLoansOrLines', 'cat_NumberOfTimes90DaysLate',\n",
       "       'cat_NumberOfOpenCreditLinesAndLoans',\n",
       "       'cat_NumberOfTime30-59DaysPastDueNotWorse', 'cat_age'],\n",
       "      dtype='object')</pre></div></div></div><div class=\"sk-serial\"><div class=\"sk-item\"><div class=\"sk-serial\"><div class=\"sk-item\"><div class=\"sk-estimator sk-toggleable\"><input class=\"sk-toggleable__control sk-hidden--visually\" id=\"d0e8426d-2e4c-427d-b84f-f66dba04a2b7\" type=\"checkbox\" ><label class=\"sk-toggleable__label\" for=\"d0e8426d-2e4c-427d-b84f-f66dba04a2b7\">SimpleImputer</label><div class=\"sk-toggleable__content\"><pre>SimpleImputer(add_indicator=True, fill_value='missing',\n",
       "              strategy='most_frequent')</pre></div></div></div><div class=\"sk-item\"><div class=\"sk-estimator sk-toggleable\"><input class=\"sk-toggleable__control sk-hidden--visually\" id=\"535990cd-f6a4-4f8d-b672-386b06538ba0\" type=\"checkbox\" ><label class=\"sk-toggleable__label\" for=\"535990cd-f6a4-4f8d-b672-386b06538ba0\">WOEEncoder</label><div class=\"sk-toggleable__content\"><pre>WOEEncoder()</pre></div></div></div><div class=\"sk-item\"><div class=\"sk-estimator sk-toggleable\"><input class=\"sk-toggleable__control sk-hidden--visually\" id=\"4441fc4a-8722-4fe2-82c0-5269f59d1bf6\" type=\"checkbox\" ><label class=\"sk-toggleable__label\" for=\"4441fc4a-8722-4fe2-82c0-5269f59d1bf6\">SelectPercentile</label><div class=\"sk-toggleable__content\"><pre>SelectPercentile(percentile=90,\n",
       "                 score_func=<function mutual_info_classif at 0x7fab4fedf950>)</pre></div></div></div></div></div></div></div></div></div></div><div class=\"sk-item\"><div class=\"sk-estimator sk-toggleable\"><input class=\"sk-toggleable__control sk-hidden--visually\" id=\"fffa6ab5-cd8d-4d7d-a645-69412fbabe13\" type=\"checkbox\" ><label class=\"sk-toggleable__label\" for=\"fffa6ab5-cd8d-4d7d-a645-69412fbabe13\">LGBMClassifier</label><div class=\"sk-toggleable__content\"><pre>LGBMClassifier(device_type='gpu', learning_rate=0.0018069834369607075,\n",
       "               max_depth=8, metric='auc', min_samples_leaf=47,\n",
       "               n_estimators=5000, random_state=42, subsample=0.8573598985000007,\n",
       "               verbose=-1)</pre></div></div></div></div></div></div></div>"
      ],
      "text/plain": [
       "Pipeline(steps=[('preprocessor',\n",
       "                 ColumnTransformer(transformers=[('numerical',\n",
       "                                                  Pipeline(steps=[('imputer',\n",
       "                                                                   SimpleImputer(add_indicator=True,\n",
       "                                                                                 strategy='median')),\n",
       "                                                                  ('scaler',\n",
       "                                                                   PowerTransformer()),\n",
       "                                                                  ('reducedim',\n",
       "                                                                   SelectPercentile(percentile=90))]),\n",
       "                                                  Index(['RevolvingUtilizationOfUnsecuredLines', 'DebtRatio', 'MonthlyIncome',\n",
       "       'NumberOfDependents', 'NumberOfTime60-89Da...\n",
       "       'cat_NumberRealEstateLoansOrLines', 'cat_NumberOfTimes90DaysLate',\n",
       "       'cat_NumberOfOpenCreditLinesAndLoans',\n",
       "       'cat_NumberOfTime30-59DaysPastDueNotWorse', 'cat_age'],\n",
       "      dtype='object'))])),\n",
       "                ('classifier',\n",
       "                 LGBMClassifier(device_type='gpu',\n",
       "                                learning_rate=0.0018069834369607075,\n",
       "                                max_depth=8, metric='auc', min_samples_leaf=47,\n",
       "                                n_estimators=5000, random_state=42,\n",
       "                                subsample=0.8573598985000007, verbose=-1))])"
      ]
     },
     "execution_count": 27,
     "metadata": {},
     "output_type": "execute_result"
    }
   ],
   "source": [
    "# Cat pipeline\n",
    "categorical_transformer = Pipeline(\n",
    "                    steps=[\n",
    "                        ('imputer', SimpleImputer(strategy='most_frequent',\n",
    "                                                  fill_value='missing',\n",
    "                                                  add_indicator=True)),\n",
    "                        ('encoder',  ce.woe.WOEEncoder()),#(Numerical Input, Categorical Output)\n",
    "                         ('reducedim',  SelectPercentile( mutual_info_classif, percentile=90))\n",
    "\n",
    "                    ]\n",
    "                    ) \n",
    "#Define vnum pipeline\n",
    "numeric_transformer = Pipeline(\n",
    "                            steps=[\n",
    "                            ('imputer', SimpleImputer(strategy='median'\n",
    "                                                      ,add_indicator=True)),\n",
    "                            ('scaler', PowerTransformer()),#(Numerical Input, Numerical Output)\n",
    "                            # Create an SelectKBest object to select features with two best ANOVA F-Values\n",
    "                            #The F-value scores examine if, when we group the numerical feature by the target vector, the means for each group are significantly different\n",
    "                            ('reducedim',  SelectPercentile(f_classif,percentile=90))\n",
    "                            ]\n",
    "                            )\n",
    "# Features union cat + num \n",
    "# WOE+PowerTransformer\n",
    "preprocessor_woe_powertransformer = ColumnTransformer(\n",
    "            transformers=[\n",
    "                ('numerical', numeric_transformer, num_columns),\n",
    "                ('categorical', categorical_transformer, cat_columns)\n",
    "            ]\n",
    "            )\n",
    "lgbm_param={'learning_rate': 0.0018069834369607075,\n",
    "                             'max_depth': 8,\n",
    "                             #'max_features': 4,\n",
    "                             'min_samples_leaf': 47,\n",
    "                             #'min_samples_split': 389,\n",
    "                             'subsample': 0.8573598985000007,\n",
    "                             #'n_iter_no_change': 300,\n",
    "                             'n_estimators': 5000,\n",
    "                            # 'verbose': 0,\n",
    "                             'random_state': 42,\n",
    "                             'metric': 'auc',\n",
    "                             \"device_type\" : \"gpu\",\n",
    "                            'boosting_type': 'gbdt',\n",
    "                           # 'tree_method': \"gpu_hist\"\n",
    "                           }\n",
    "pipe_lgbm_woe_powertransformer = Pipeline(\n",
    "    steps=[\n",
    "        ('preprocessor', preprocessor_woe_powertransformer),\n",
    "        ('classifier', lgbm.LGBMClassifier( \n",
    "            #n_jobs=-1,\n",
    "                                           verbose=-1,\n",
    "                                           **lgbm_param))\n",
    "    ]\n",
    ")\n",
    "pipe_lgbm_woe_powertransformer"
   ]
  },
  {
   "cell_type": "markdown",
   "id": "31e641ea",
   "metadata": {
    "execution": {
     "iopub.execute_input": "2021-12-19T13:04:51.69428Z",
     "iopub.status.busy": "2021-12-19T13:04:51.693953Z",
     "iopub.status.idle": "2021-12-19T13:04:51.697766Z",
     "shell.execute_reply": "2021-12-19T13:04:51.697057Z",
     "shell.execute_reply.started": "2021-12-19T13:04:51.694242Z"
    },
    "papermill": {
     "duration": 0.049253,
     "end_time": "2021-12-23T10:01:15.888669",
     "exception": false,
     "start_time": "2021-12-23T10:01:15.839416",
     "status": "completed"
    },
    "tags": []
   },
   "source": [
    "## Add outlier Handle:outlier+woe+powertransormer "
   ]
  },
  {
   "cell_type": "code",
   "execution_count": 28,
   "id": "1f4c48d7",
   "metadata": {
    "execution": {
     "iopub.execute_input": "2021-12-23T10:01:16.026344Z",
     "iopub.status.busy": "2021-12-23T10:01:16.016496Z",
     "iopub.status.idle": "2021-12-23T10:01:16.475117Z",
     "shell.execute_reply": "2021-12-23T10:01:16.475537Z"
    },
    "papermill": {
     "duration": 0.538007,
     "end_time": "2021-12-23T10:01:16.475704",
     "exception": false,
     "start_time": "2021-12-23T10:01:15.937697",
     "status": "completed"
    },
    "tags": []
   },
   "outputs": [
    {
     "data": {
      "text/html": [
       "<style>div.sk-top-container {color: black;background-color: white;}div.sk-toggleable {background-color: white;}label.sk-toggleable__label {cursor: pointer;display: block;width: 100%;margin-bottom: 0;padding: 0.2em 0.3em;box-sizing: border-box;text-align: center;}div.sk-toggleable__content {max-height: 0;max-width: 0;overflow: hidden;text-align: left;background-color: #f0f8ff;}div.sk-toggleable__content pre {margin: 0.2em;color: black;border-radius: 0.25em;background-color: #f0f8ff;}input.sk-toggleable__control:checked~div.sk-toggleable__content {max-height: 200px;max-width: 100%;overflow: auto;}div.sk-estimator input.sk-toggleable__control:checked~label.sk-toggleable__label {background-color: #d4ebff;}div.sk-label input.sk-toggleable__control:checked~label.sk-toggleable__label {background-color: #d4ebff;}input.sk-hidden--visually {border: 0;clip: rect(1px 1px 1px 1px);clip: rect(1px, 1px, 1px, 1px);height: 1px;margin: -1px;overflow: hidden;padding: 0;position: absolute;width: 1px;}div.sk-estimator {font-family: monospace;background-color: #f0f8ff;margin: 0.25em 0.25em;border: 1px dotted black;border-radius: 0.25em;box-sizing: border-box;}div.sk-estimator:hover {background-color: #d4ebff;}div.sk-parallel-item::after {content: \"\";width: 100%;border-bottom: 1px solid gray;flex-grow: 1;}div.sk-label:hover label.sk-toggleable__label {background-color: #d4ebff;}div.sk-serial::before {content: \"\";position: absolute;border-left: 1px solid gray;box-sizing: border-box;top: 2em;bottom: 0;left: 50%;}div.sk-serial {display: flex;flex-direction: column;align-items: center;background-color: white;}div.sk-item {z-index: 1;}div.sk-parallel {display: flex;align-items: stretch;justify-content: center;background-color: white;}div.sk-parallel-item {display: flex;flex-direction: column;position: relative;background-color: white;}div.sk-parallel-item:first-child::after {align-self: flex-end;width: 50%;}div.sk-parallel-item:last-child::after {align-self: flex-start;width: 50%;}div.sk-parallel-item:only-child::after {width: 0;}div.sk-dashed-wrapped {border: 1px dashed gray;margin: 0.2em;box-sizing: border-box;padding-bottom: 0.1em;background-color: white;position: relative;}div.sk-label label {font-family: monospace;font-weight: bold;background-color: white;display: inline-block;line-height: 1.2em;}div.sk-label-container {position: relative;z-index: 2;text-align: center;}div.sk-container {display: inline-block;position: relative;}</style><div class=\"sk-top-container\"><div class=\"sk-container\"><div class=\"sk-item sk-dashed-wrapped\"><div class=\"sk-label-container\"><div class=\"sk-label sk-toggleable\"><input class=\"sk-toggleable__control sk-hidden--visually\" id=\"bb9d13b7-4cfc-4132-a0e0-4e4f0ad76aeb\" type=\"checkbox\" ><label class=\"sk-toggleable__label\" for=\"bb9d13b7-4cfc-4132-a0e0-4e4f0ad76aeb\">Pipeline</label><div class=\"sk-toggleable__content\"><pre>Pipeline(steps=[('preprocessor',\n",
       "                 ColumnTransformer(transformers=[('numerical',\n",
       "                                                  Pipeline(steps=[('outlierhandle',\n",
       "                                                                   OutlierReplace()),\n",
       "                                                                  ('imputer',\n",
       "                                                                   SimpleImputer(add_indicator=True,\n",
       "                                                                                 strategy='median')),\n",
       "                                                                  ('scaler',\n",
       "                                                                   PowerTransformer()),\n",
       "                                                                  ('reducedim',\n",
       "                                                                   SelectPercentile(percentile=90))]),\n",
       "                                                  Index(['RevolvingUtilizationOfUnsecuredLines', 'DebtRatio', 'MonthlyIncome',\n",
       "       'Numbe...\n",
       "       'cat_NumberRealEstateLoansOrLines', 'cat_NumberOfTimes90DaysLate',\n",
       "       'cat_NumberOfOpenCreditLinesAndLoans',\n",
       "       'cat_NumberOfTime30-59DaysPastDueNotWorse', 'cat_age'],\n",
       "      dtype='object'))])),\n",
       "                ('classifier',\n",
       "                 LGBMClassifier(device_type='gpu',\n",
       "                                learning_rate=0.0018069834369607075,\n",
       "                                max_depth=8, metric='auc', min_samples_leaf=47,\n",
       "                                n_estimators=5000, random_state=42,\n",
       "                                subsample=0.8573598985000007, verbose=-1))])</pre></div></div></div><div class=\"sk-serial\"><div class=\"sk-item sk-dashed-wrapped\"><div class=\"sk-label-container\"><div class=\"sk-label sk-toggleable\"><input class=\"sk-toggleable__control sk-hidden--visually\" id=\"bcecb8f5-30e4-465b-9157-ee0c160286f8\" type=\"checkbox\" ><label class=\"sk-toggleable__label\" for=\"bcecb8f5-30e4-465b-9157-ee0c160286f8\">preprocessor: ColumnTransformer</label><div class=\"sk-toggleable__content\"><pre>ColumnTransformer(transformers=[('numerical',\n",
       "                                 Pipeline(steps=[('outlierhandle',\n",
       "                                                  OutlierReplace()),\n",
       "                                                 ('imputer',\n",
       "                                                  SimpleImputer(add_indicator=True,\n",
       "                                                                strategy='median')),\n",
       "                                                 ('scaler', PowerTransformer()),\n",
       "                                                 ('reducedim',\n",
       "                                                  SelectPercentile(percentile=90))]),\n",
       "                                 Index(['RevolvingUtilizationOfUnsecuredLines', 'DebtRatio', 'MonthlyIncome',\n",
       "       'NumberOfDependents', 'NumberOfTime60-8...\n",
       "                                                                   score_func=<function mutual_info_classif at 0x7fab4fedf950>))]),\n",
       "                                 Index(['cat_RevolvingUtilizationOfUnsecuredLines', 'cat_DebtRatio',\n",
       "       'cat_MonthlyIncome', 'cat_NumberOfDependents',\n",
       "       'cat_NumberOfTime60-89DaysPastDueNotWorse',\n",
       "       'cat_NumberRealEstateLoansOrLines', 'cat_NumberOfTimes90DaysLate',\n",
       "       'cat_NumberOfOpenCreditLinesAndLoans',\n",
       "       'cat_NumberOfTime30-59DaysPastDueNotWorse', 'cat_age'],\n",
       "      dtype='object'))])</pre></div></div></div><div class=\"sk-parallel\"><div class=\"sk-parallel-item\"><div class=\"sk-item\"><div class=\"sk-label-container\"><div class=\"sk-label sk-toggleable\"><input class=\"sk-toggleable__control sk-hidden--visually\" id=\"6fd9a607-d556-483c-9463-e8a5569c6daf\" type=\"checkbox\" ><label class=\"sk-toggleable__label\" for=\"6fd9a607-d556-483c-9463-e8a5569c6daf\">numerical</label><div class=\"sk-toggleable__content\"><pre>Index(['RevolvingUtilizationOfUnsecuredLines', 'DebtRatio', 'MonthlyIncome',\n",
       "       'NumberOfDependents', 'NumberOfTime60-89DaysPastDueNotWorse',\n",
       "       'NumberRealEstateLoansOrLines', 'NumberOfTimes90DaysLate',\n",
       "       'NumberOfOpenCreditLinesAndLoans',\n",
       "       'NumberOfTime30-59DaysPastDueNotWorse', 'age'],\n",
       "      dtype='object')</pre></div></div></div><div class=\"sk-serial\"><div class=\"sk-item\"><div class=\"sk-serial\"><div class=\"sk-item\"><div class=\"sk-estimator sk-toggleable\"><input class=\"sk-toggleable__control sk-hidden--visually\" id=\"8ff2a3cb-10e8-4e7d-b68d-20133c265248\" type=\"checkbox\" ><label class=\"sk-toggleable__label\" for=\"8ff2a3cb-10e8-4e7d-b68d-20133c265248\">OutlierReplace</label><div class=\"sk-toggleable__content\"><pre>OutlierReplace()</pre></div></div></div><div class=\"sk-item\"><div class=\"sk-estimator sk-toggleable\"><input class=\"sk-toggleable__control sk-hidden--visually\" id=\"59629f7b-8c40-4fa2-9920-bfe0996c3080\" type=\"checkbox\" ><label class=\"sk-toggleable__label\" for=\"59629f7b-8c40-4fa2-9920-bfe0996c3080\">SimpleImputer</label><div class=\"sk-toggleable__content\"><pre>SimpleImputer(add_indicator=True, strategy='median')</pre></div></div></div><div class=\"sk-item\"><div class=\"sk-estimator sk-toggleable\"><input class=\"sk-toggleable__control sk-hidden--visually\" id=\"f3e525e3-360d-44f8-9d30-dfe1a60069c3\" type=\"checkbox\" ><label class=\"sk-toggleable__label\" for=\"f3e525e3-360d-44f8-9d30-dfe1a60069c3\">PowerTransformer</label><div class=\"sk-toggleable__content\"><pre>PowerTransformer()</pre></div></div></div><div class=\"sk-item\"><div class=\"sk-estimator sk-toggleable\"><input class=\"sk-toggleable__control sk-hidden--visually\" id=\"0aac3352-4429-410c-a7ae-55a3ceb21fe7\" type=\"checkbox\" ><label class=\"sk-toggleable__label\" for=\"0aac3352-4429-410c-a7ae-55a3ceb21fe7\">SelectPercentile</label><div class=\"sk-toggleable__content\"><pre>SelectPercentile(percentile=90)</pre></div></div></div></div></div></div></div></div><div class=\"sk-parallel-item\"><div class=\"sk-item\"><div class=\"sk-label-container\"><div class=\"sk-label sk-toggleable\"><input class=\"sk-toggleable__control sk-hidden--visually\" id=\"4692b056-66a6-495b-8e47-f75f68e2999a\" type=\"checkbox\" ><label class=\"sk-toggleable__label\" for=\"4692b056-66a6-495b-8e47-f75f68e2999a\">categorical</label><div class=\"sk-toggleable__content\"><pre>Index(['cat_RevolvingUtilizationOfUnsecuredLines', 'cat_DebtRatio',\n",
       "       'cat_MonthlyIncome', 'cat_NumberOfDependents',\n",
       "       'cat_NumberOfTime60-89DaysPastDueNotWorse',\n",
       "       'cat_NumberRealEstateLoansOrLines', 'cat_NumberOfTimes90DaysLate',\n",
       "       'cat_NumberOfOpenCreditLinesAndLoans',\n",
       "       'cat_NumberOfTime30-59DaysPastDueNotWorse', 'cat_age'],\n",
       "      dtype='object')</pre></div></div></div><div class=\"sk-serial\"><div class=\"sk-item\"><div class=\"sk-serial\"><div class=\"sk-item\"><div class=\"sk-estimator sk-toggleable\"><input class=\"sk-toggleable__control sk-hidden--visually\" id=\"1089415f-5db8-4811-8f87-c2689892ac0a\" type=\"checkbox\" ><label class=\"sk-toggleable__label\" for=\"1089415f-5db8-4811-8f87-c2689892ac0a\">SimpleImputer</label><div class=\"sk-toggleable__content\"><pre>SimpleImputer(add_indicator=True, fill_value='missing',\n",
       "              strategy='most_frequent')</pre></div></div></div><div class=\"sk-item\"><div class=\"sk-estimator sk-toggleable\"><input class=\"sk-toggleable__control sk-hidden--visually\" id=\"66fd85d8-8999-4ecc-a55a-44d718726f04\" type=\"checkbox\" ><label class=\"sk-toggleable__label\" for=\"66fd85d8-8999-4ecc-a55a-44d718726f04\">WOEEncoder</label><div class=\"sk-toggleable__content\"><pre>WOEEncoder()</pre></div></div></div><div class=\"sk-item\"><div class=\"sk-estimator sk-toggleable\"><input class=\"sk-toggleable__control sk-hidden--visually\" id=\"b291e69d-b61d-4c4f-9d06-40468be881c2\" type=\"checkbox\" ><label class=\"sk-toggleable__label\" for=\"b291e69d-b61d-4c4f-9d06-40468be881c2\">SelectPercentile</label><div class=\"sk-toggleable__content\"><pre>SelectPercentile(percentile=90,\n",
       "                 score_func=<function mutual_info_classif at 0x7fab4fedf950>)</pre></div></div></div></div></div></div></div></div></div></div><div class=\"sk-item\"><div class=\"sk-estimator sk-toggleable\"><input class=\"sk-toggleable__control sk-hidden--visually\" id=\"2382de8c-ac28-4aed-8128-c1e0804b3a1a\" type=\"checkbox\" ><label class=\"sk-toggleable__label\" for=\"2382de8c-ac28-4aed-8128-c1e0804b3a1a\">LGBMClassifier</label><div class=\"sk-toggleable__content\"><pre>LGBMClassifier(device_type='gpu', learning_rate=0.0018069834369607075,\n",
       "               max_depth=8, metric='auc', min_samples_leaf=47,\n",
       "               n_estimators=5000, random_state=42, subsample=0.8573598985000007,\n",
       "               verbose=-1)</pre></div></div></div></div></div></div></div>"
      ],
      "text/plain": [
       "Pipeline(steps=[('preprocessor',\n",
       "                 ColumnTransformer(transformers=[('numerical',\n",
       "                                                  Pipeline(steps=[('outlierhandle',\n",
       "                                                                   OutlierReplace()),\n",
       "                                                                  ('imputer',\n",
       "                                                                   SimpleImputer(add_indicator=True,\n",
       "                                                                                 strategy='median')),\n",
       "                                                                  ('scaler',\n",
       "                                                                   PowerTransformer()),\n",
       "                                                                  ('reducedim',\n",
       "                                                                   SelectPercentile(percentile=90))]),\n",
       "                                                  Index(['RevolvingUtilizationOfUnsecuredLines', 'DebtRatio', 'MonthlyIncome',\n",
       "       'Numbe...\n",
       "       'cat_NumberRealEstateLoansOrLines', 'cat_NumberOfTimes90DaysLate',\n",
       "       'cat_NumberOfOpenCreditLinesAndLoans',\n",
       "       'cat_NumberOfTime30-59DaysPastDueNotWorse', 'cat_age'],\n",
       "      dtype='object'))])),\n",
       "                ('classifier',\n",
       "                 LGBMClassifier(device_type='gpu',\n",
       "                                learning_rate=0.0018069834369607075,\n",
       "                                max_depth=8, metric='auc', min_samples_leaf=47,\n",
       "                                n_estimators=5000, random_state=42,\n",
       "                                subsample=0.8573598985000007, verbose=-1))])"
      ]
     },
     "execution_count": 28,
     "metadata": {},
     "output_type": "execute_result"
    }
   ],
   "source": [
    "#Define vnum pipeline\n",
    "numeric_transformer_outlier = Pipeline(\n",
    "                            steps=[('outlierhandle', OutlierReplace()),\n",
    "                            ('imputer', SimpleImputer(strategy='median'\n",
    "                                                      ,add_indicator=True)),\n",
    "                            ('scaler', PowerTransformer()),#(Numerical Input, Numerical Output)\n",
    "                            # Create an SelectKBest object to select features with two best ANOVA F-Values\n",
    "                            #The F-value scores examine if, when we group the numerical feature by the target vector, the means for each group are significantly different\n",
    "                            ('reducedim',  SelectPercentile(f_classif,percentile=90))\n",
    "                            ]\n",
    "                            )\n",
    "# Features union cat + num \n",
    "# WOE+PowerTransformer\n",
    "preprocessor_woe_powertransformer_outlier = ColumnTransformer(\n",
    "            transformers=[\n",
    "                ('numerical', numeric_transformer_outlier, num_columns),\n",
    "                ('categorical', categorical_transformer, cat_columns)\n",
    "            ]\n",
    "            )\n",
    "pipe_lgbm_woe_powertransformer_outlier = Pipeline(\n",
    "    steps=[\n",
    "        ('preprocessor', preprocessor_woe_powertransformer_outlier),\n",
    "        ('classifier', lgbm.LGBMClassifier( \n",
    "            #n_jobs=-1,\n",
    "                                           verbose=-1,\n",
    "                                           **lgbm_param))\n",
    "    ]\n",
    ")\n",
    "pipe_lgbm_woe_powertransformer_outlier"
   ]
  },
  {
   "cell_type": "markdown",
   "id": "b550e08c",
   "metadata": {
    "papermill": {
     "duration": 0.050086,
     "end_time": "2021-12-23T10:01:16.577142",
     "exception": false,
     "start_time": "2021-12-23T10:01:16.527056",
     "status": "completed"
    },
    "tags": []
   },
   "source": [
    "### Delete missing:woe+powertransormer for not null data \n"
   ]
  },
  {
   "cell_type": "code",
   "execution_count": 29,
   "id": "665f5eca",
   "metadata": {
    "execution": {
     "iopub.execute_input": "2021-12-23T10:01:16.679926Z",
     "iopub.status.busy": "2021-12-23T10:01:16.679075Z",
     "iopub.status.idle": "2021-12-23T10:01:17.122319Z",
     "shell.execute_reply": "2021-12-23T10:01:17.122792Z"
    },
    "papermill": {
     "duration": 0.4963,
     "end_time": "2021-12-23T10:01:17.122955",
     "exception": false,
     "start_time": "2021-12-23T10:01:16.626655",
     "status": "completed"
    },
    "tags": []
   },
   "outputs": [
    {
     "data": {
      "text/html": [
       "<style>div.sk-top-container {color: black;background-color: white;}div.sk-toggleable {background-color: white;}label.sk-toggleable__label {cursor: pointer;display: block;width: 100%;margin-bottom: 0;padding: 0.2em 0.3em;box-sizing: border-box;text-align: center;}div.sk-toggleable__content {max-height: 0;max-width: 0;overflow: hidden;text-align: left;background-color: #f0f8ff;}div.sk-toggleable__content pre {margin: 0.2em;color: black;border-radius: 0.25em;background-color: #f0f8ff;}input.sk-toggleable__control:checked~div.sk-toggleable__content {max-height: 200px;max-width: 100%;overflow: auto;}div.sk-estimator input.sk-toggleable__control:checked~label.sk-toggleable__label {background-color: #d4ebff;}div.sk-label input.sk-toggleable__control:checked~label.sk-toggleable__label {background-color: #d4ebff;}input.sk-hidden--visually {border: 0;clip: rect(1px 1px 1px 1px);clip: rect(1px, 1px, 1px, 1px);height: 1px;margin: -1px;overflow: hidden;padding: 0;position: absolute;width: 1px;}div.sk-estimator {font-family: monospace;background-color: #f0f8ff;margin: 0.25em 0.25em;border: 1px dotted black;border-radius: 0.25em;box-sizing: border-box;}div.sk-estimator:hover {background-color: #d4ebff;}div.sk-parallel-item::after {content: \"\";width: 100%;border-bottom: 1px solid gray;flex-grow: 1;}div.sk-label:hover label.sk-toggleable__label {background-color: #d4ebff;}div.sk-serial::before {content: \"\";position: absolute;border-left: 1px solid gray;box-sizing: border-box;top: 2em;bottom: 0;left: 50%;}div.sk-serial {display: flex;flex-direction: column;align-items: center;background-color: white;}div.sk-item {z-index: 1;}div.sk-parallel {display: flex;align-items: stretch;justify-content: center;background-color: white;}div.sk-parallel-item {display: flex;flex-direction: column;position: relative;background-color: white;}div.sk-parallel-item:first-child::after {align-self: flex-end;width: 50%;}div.sk-parallel-item:last-child::after {align-self: flex-start;width: 50%;}div.sk-parallel-item:only-child::after {width: 0;}div.sk-dashed-wrapped {border: 1px dashed gray;margin: 0.2em;box-sizing: border-box;padding-bottom: 0.1em;background-color: white;position: relative;}div.sk-label label {font-family: monospace;font-weight: bold;background-color: white;display: inline-block;line-height: 1.2em;}div.sk-label-container {position: relative;z-index: 2;text-align: center;}div.sk-container {display: inline-block;position: relative;}</style><div class=\"sk-top-container\"><div class=\"sk-container\"><div class=\"sk-item sk-dashed-wrapped\"><div class=\"sk-label-container\"><div class=\"sk-label sk-toggleable\"><input class=\"sk-toggleable__control sk-hidden--visually\" id=\"162a5770-f5a4-4986-9a80-d9032f07225a\" type=\"checkbox\" ><label class=\"sk-toggleable__label\" for=\"162a5770-f5a4-4986-9a80-d9032f07225a\">Pipeline</label><div class=\"sk-toggleable__content\"><pre>Pipeline(steps=[('preprocessor',\n",
       "                 ColumnTransformer(transformers=[('numerical',\n",
       "                                                  Pipeline(steps=[('imputer',\n",
       "                                                                   SimpleImputer(add_indicator=True,\n",
       "                                                                                 strategy='median')),\n",
       "                                                                  ('scaler',\n",
       "                                                                   PowerTransformer()),\n",
       "                                                                  ('reducedim',\n",
       "                                                                   SelectPercentile(percentile=90))]),\n",
       "                                                  Index(['RevolvingUtilizationOfUnsecuredLines', 'DebtRatio',\n",
       "       'NumberOfTime60-89DaysPastDueNotWorse', 'NumberRealEstateL...\n",
       "       'cat_NumberRealEstateLoansOrLines', 'cat_NumberOfTimes90DaysLate',\n",
       "       'cat_NumberOfOpenCreditLinesAndLoans',\n",
       "       'cat_NumberOfTime30-59DaysPastDueNotWorse', 'cat_age'],\n",
       "      dtype='object'))])),\n",
       "                ('classifier',\n",
       "                 LGBMClassifier(device_type='gpu',\n",
       "                                learning_rate=0.0018069834369607075,\n",
       "                                max_depth=8, metric='auc', min_samples_leaf=47,\n",
       "                                n_estimators=5000, random_state=42,\n",
       "                                subsample=0.8573598985000007, verbose=-1))])</pre></div></div></div><div class=\"sk-serial\"><div class=\"sk-item sk-dashed-wrapped\"><div class=\"sk-label-container\"><div class=\"sk-label sk-toggleable\"><input class=\"sk-toggleable__control sk-hidden--visually\" id=\"99be7d6e-b22f-47fd-b750-e2187a919368\" type=\"checkbox\" ><label class=\"sk-toggleable__label\" for=\"99be7d6e-b22f-47fd-b750-e2187a919368\">preprocessor: ColumnTransformer</label><div class=\"sk-toggleable__content\"><pre>ColumnTransformer(transformers=[('numerical',\n",
       "                                 Pipeline(steps=[('imputer',\n",
       "                                                  SimpleImputer(add_indicator=True,\n",
       "                                                                strategy='median')),\n",
       "                                                 ('scaler', PowerTransformer()),\n",
       "                                                 ('reducedim',\n",
       "                                                  SelectPercentile(percentile=90))]),\n",
       "                                 Index(['RevolvingUtilizationOfUnsecuredLines', 'DebtRatio',\n",
       "       'NumberOfTime60-89DaysPastDueNotWorse', 'NumberRealEstateLoansOrLines',\n",
       "       'NumberOfTimes90Day...\n",
       "                                                                   score_func=<function mutual_info_classif at 0x7fab4fedf950>))]),\n",
       "                                 Index(['cat_RevolvingUtilizationOfUnsecuredLines', 'cat_DebtRatio',\n",
       "       'cat_MonthlyIncome', 'cat_NumberOfDependents',\n",
       "       'cat_NumberOfTime60-89DaysPastDueNotWorse',\n",
       "       'cat_NumberRealEstateLoansOrLines', 'cat_NumberOfTimes90DaysLate',\n",
       "       'cat_NumberOfOpenCreditLinesAndLoans',\n",
       "       'cat_NumberOfTime30-59DaysPastDueNotWorse', 'cat_age'],\n",
       "      dtype='object'))])</pre></div></div></div><div class=\"sk-parallel\"><div class=\"sk-parallel-item\"><div class=\"sk-item\"><div class=\"sk-label-container\"><div class=\"sk-label sk-toggleable\"><input class=\"sk-toggleable__control sk-hidden--visually\" id=\"01254121-78dc-4ae0-910c-e0fc9e7de4a9\" type=\"checkbox\" ><label class=\"sk-toggleable__label\" for=\"01254121-78dc-4ae0-910c-e0fc9e7de4a9\">numerical</label><div class=\"sk-toggleable__content\"><pre>Index(['RevolvingUtilizationOfUnsecuredLines', 'DebtRatio',\n",
       "       'NumberOfTime60-89DaysPastDueNotWorse', 'NumberRealEstateLoansOrLines',\n",
       "       'NumberOfTimes90DaysLate', 'NumberOfOpenCreditLinesAndLoans',\n",
       "       'NumberOfTime30-59DaysPastDueNotWorse', 'age'],\n",
       "      dtype='object')</pre></div></div></div><div class=\"sk-serial\"><div class=\"sk-item\"><div class=\"sk-serial\"><div class=\"sk-item\"><div class=\"sk-estimator sk-toggleable\"><input class=\"sk-toggleable__control sk-hidden--visually\" id=\"939fe4f5-8d73-475b-8599-6d6f64a3262e\" type=\"checkbox\" ><label class=\"sk-toggleable__label\" for=\"939fe4f5-8d73-475b-8599-6d6f64a3262e\">SimpleImputer</label><div class=\"sk-toggleable__content\"><pre>SimpleImputer(add_indicator=True, strategy='median')</pre></div></div></div><div class=\"sk-item\"><div class=\"sk-estimator sk-toggleable\"><input class=\"sk-toggleable__control sk-hidden--visually\" id=\"bf7037e1-d4d4-4432-a999-f797e56e1f5e\" type=\"checkbox\" ><label class=\"sk-toggleable__label\" for=\"bf7037e1-d4d4-4432-a999-f797e56e1f5e\">PowerTransformer</label><div class=\"sk-toggleable__content\"><pre>PowerTransformer()</pre></div></div></div><div class=\"sk-item\"><div class=\"sk-estimator sk-toggleable\"><input class=\"sk-toggleable__control sk-hidden--visually\" id=\"cad2a20a-d7b0-49ac-b1a4-a2864bab9932\" type=\"checkbox\" ><label class=\"sk-toggleable__label\" for=\"cad2a20a-d7b0-49ac-b1a4-a2864bab9932\">SelectPercentile</label><div class=\"sk-toggleable__content\"><pre>SelectPercentile(percentile=90)</pre></div></div></div></div></div></div></div></div><div class=\"sk-parallel-item\"><div class=\"sk-item\"><div class=\"sk-label-container\"><div class=\"sk-label sk-toggleable\"><input class=\"sk-toggleable__control sk-hidden--visually\" id=\"99d7a634-50a5-42fe-a6ff-a7a774ca6316\" type=\"checkbox\" ><label class=\"sk-toggleable__label\" for=\"99d7a634-50a5-42fe-a6ff-a7a774ca6316\">categorical</label><div class=\"sk-toggleable__content\"><pre>Index(['cat_RevolvingUtilizationOfUnsecuredLines', 'cat_DebtRatio',\n",
       "       'cat_MonthlyIncome', 'cat_NumberOfDependents',\n",
       "       'cat_NumberOfTime60-89DaysPastDueNotWorse',\n",
       "       'cat_NumberRealEstateLoansOrLines', 'cat_NumberOfTimes90DaysLate',\n",
       "       'cat_NumberOfOpenCreditLinesAndLoans',\n",
       "       'cat_NumberOfTime30-59DaysPastDueNotWorse', 'cat_age'],\n",
       "      dtype='object')</pre></div></div></div><div class=\"sk-serial\"><div class=\"sk-item\"><div class=\"sk-serial\"><div class=\"sk-item\"><div class=\"sk-estimator sk-toggleable\"><input class=\"sk-toggleable__control sk-hidden--visually\" id=\"df22957d-9493-4a85-89b7-9fef9113cd87\" type=\"checkbox\" ><label class=\"sk-toggleable__label\" for=\"df22957d-9493-4a85-89b7-9fef9113cd87\">SimpleImputer</label><div class=\"sk-toggleable__content\"><pre>SimpleImputer(add_indicator=True, fill_value='missing',\n",
       "              strategy='most_frequent')</pre></div></div></div><div class=\"sk-item\"><div class=\"sk-estimator sk-toggleable\"><input class=\"sk-toggleable__control sk-hidden--visually\" id=\"cc17c481-c17a-4094-a96e-5cf06f4f01bd\" type=\"checkbox\" ><label class=\"sk-toggleable__label\" for=\"cc17c481-c17a-4094-a96e-5cf06f4f01bd\">WOEEncoder</label><div class=\"sk-toggleable__content\"><pre>WOEEncoder()</pre></div></div></div><div class=\"sk-item\"><div class=\"sk-estimator sk-toggleable\"><input class=\"sk-toggleable__control sk-hidden--visually\" id=\"39f3ca64-6ad2-4ed6-bd92-59461fcf183e\" type=\"checkbox\" ><label class=\"sk-toggleable__label\" for=\"39f3ca64-6ad2-4ed6-bd92-59461fcf183e\">SelectPercentile</label><div class=\"sk-toggleable__content\"><pre>SelectPercentile(percentile=90,\n",
       "                 score_func=<function mutual_info_classif at 0x7fab4fedf950>)</pre></div></div></div></div></div></div></div></div></div></div><div class=\"sk-item\"><div class=\"sk-estimator sk-toggleable\"><input class=\"sk-toggleable__control sk-hidden--visually\" id=\"d39a2513-0da9-4ce4-9a1d-0eb3fd159263\" type=\"checkbox\" ><label class=\"sk-toggleable__label\" for=\"d39a2513-0da9-4ce4-9a1d-0eb3fd159263\">LGBMClassifier</label><div class=\"sk-toggleable__content\"><pre>LGBMClassifier(device_type='gpu', learning_rate=0.0018069834369607075,\n",
       "               max_depth=8, metric='auc', min_samples_leaf=47,\n",
       "               n_estimators=5000, random_state=42, subsample=0.8573598985000007,\n",
       "               verbose=-1)</pre></div></div></div></div></div></div></div>"
      ],
      "text/plain": [
       "Pipeline(steps=[('preprocessor',\n",
       "                 ColumnTransformer(transformers=[('numerical',\n",
       "                                                  Pipeline(steps=[('imputer',\n",
       "                                                                   SimpleImputer(add_indicator=True,\n",
       "                                                                                 strategy='median')),\n",
       "                                                                  ('scaler',\n",
       "                                                                   PowerTransformer()),\n",
       "                                                                  ('reducedim',\n",
       "                                                                   SelectPercentile(percentile=90))]),\n",
       "                                                  Index(['RevolvingUtilizationOfUnsecuredLines', 'DebtRatio',\n",
       "       'NumberOfTime60-89DaysPastDueNotWorse', 'NumberRealEstateL...\n",
       "       'cat_NumberRealEstateLoansOrLines', 'cat_NumberOfTimes90DaysLate',\n",
       "       'cat_NumberOfOpenCreditLinesAndLoans',\n",
       "       'cat_NumberOfTime30-59DaysPastDueNotWorse', 'cat_age'],\n",
       "      dtype='object'))])),\n",
       "                ('classifier',\n",
       "                 LGBMClassifier(device_type='gpu',\n",
       "                                learning_rate=0.0018069834369607075,\n",
       "                                max_depth=8, metric='auc', min_samples_leaf=47,\n",
       "                                n_estimators=5000, random_state=42,\n",
       "                                subsample=0.8573598985000007, verbose=-1))])"
      ]
     },
     "execution_count": 29,
     "metadata": {},
     "output_type": "execute_result"
    }
   ],
   "source": [
    "# Features union cat + num \n",
    "# WOE+PowerTransformer\n",
    "preprocessor_woe_powertransformer_without_missing = ColumnTransformer(\n",
    "            transformers=[\n",
    "                ('numerical', numeric_transformer, num_columns_without_missing),\n",
    "                ('categorical', categorical_transformer, cat_columns_without_missing)\n",
    "            ]\n",
    "            )\n",
    "pipe_lgbm_woe_powertransformer_without_missing = Pipeline(\n",
    "    steps=[\n",
    "        ('preprocessor', preprocessor_woe_powertransformer_without_missing),\n",
    "        ('classifier', lgbm.LGBMClassifier( \n",
    "            #n_jobs=-1,\n",
    "                                           verbose=-1,\n",
    "                                           **lgbm_param))\n",
    "    ]\n",
    ")\n",
    "pipe_lgbm_woe_powertransformer_without_missing"
   ]
  },
  {
   "cell_type": "markdown",
   "id": "c342d43e",
   "metadata": {
    "papermill": {
     "duration": 0.053756,
     "end_time": "2021-12-23T10:01:17.229129",
     "exception": false,
     "start_time": "2021-12-23T10:01:17.175373",
     "status": "completed"
    },
    "tags": []
   },
   "source": [
    "# Pipe2: CatBoostEncoder + Power transformer\n"
   ]
  },
  {
   "cell_type": "code",
   "execution_count": 30,
   "id": "56b76b6c",
   "metadata": {
    "execution": {
     "iopub.execute_input": "2021-12-23T10:01:17.463193Z",
     "iopub.status.busy": "2021-12-23T10:01:17.452789Z",
     "iopub.status.idle": "2021-12-23T10:01:17.886058Z",
     "shell.execute_reply": "2021-12-23T10:01:17.886509Z"
    },
    "papermill": {
     "duration": 0.605462,
     "end_time": "2021-12-23T10:01:17.886680",
     "exception": false,
     "start_time": "2021-12-23T10:01:17.281218",
     "status": "completed"
    },
    "tags": []
   },
   "outputs": [
    {
     "data": {
      "text/html": [
       "<style>div.sk-top-container {color: black;background-color: white;}div.sk-toggleable {background-color: white;}label.sk-toggleable__label {cursor: pointer;display: block;width: 100%;margin-bottom: 0;padding: 0.2em 0.3em;box-sizing: border-box;text-align: center;}div.sk-toggleable__content {max-height: 0;max-width: 0;overflow: hidden;text-align: left;background-color: #f0f8ff;}div.sk-toggleable__content pre {margin: 0.2em;color: black;border-radius: 0.25em;background-color: #f0f8ff;}input.sk-toggleable__control:checked~div.sk-toggleable__content {max-height: 200px;max-width: 100%;overflow: auto;}div.sk-estimator input.sk-toggleable__control:checked~label.sk-toggleable__label {background-color: #d4ebff;}div.sk-label input.sk-toggleable__control:checked~label.sk-toggleable__label {background-color: #d4ebff;}input.sk-hidden--visually {border: 0;clip: rect(1px 1px 1px 1px);clip: rect(1px, 1px, 1px, 1px);height: 1px;margin: -1px;overflow: hidden;padding: 0;position: absolute;width: 1px;}div.sk-estimator {font-family: monospace;background-color: #f0f8ff;margin: 0.25em 0.25em;border: 1px dotted black;border-radius: 0.25em;box-sizing: border-box;}div.sk-estimator:hover {background-color: #d4ebff;}div.sk-parallel-item::after {content: \"\";width: 100%;border-bottom: 1px solid gray;flex-grow: 1;}div.sk-label:hover label.sk-toggleable__label {background-color: #d4ebff;}div.sk-serial::before {content: \"\";position: absolute;border-left: 1px solid gray;box-sizing: border-box;top: 2em;bottom: 0;left: 50%;}div.sk-serial {display: flex;flex-direction: column;align-items: center;background-color: white;}div.sk-item {z-index: 1;}div.sk-parallel {display: flex;align-items: stretch;justify-content: center;background-color: white;}div.sk-parallel-item {display: flex;flex-direction: column;position: relative;background-color: white;}div.sk-parallel-item:first-child::after {align-self: flex-end;width: 50%;}div.sk-parallel-item:last-child::after {align-self: flex-start;width: 50%;}div.sk-parallel-item:only-child::after {width: 0;}div.sk-dashed-wrapped {border: 1px dashed gray;margin: 0.2em;box-sizing: border-box;padding-bottom: 0.1em;background-color: white;position: relative;}div.sk-label label {font-family: monospace;font-weight: bold;background-color: white;display: inline-block;line-height: 1.2em;}div.sk-label-container {position: relative;z-index: 2;text-align: center;}div.sk-container {display: inline-block;position: relative;}</style><div class=\"sk-top-container\"><div class=\"sk-container\"><div class=\"sk-item sk-dashed-wrapped\"><div class=\"sk-label-container\"><div class=\"sk-label sk-toggleable\"><input class=\"sk-toggleable__control sk-hidden--visually\" id=\"4e321dde-acce-4a76-b674-18a48d99ee00\" type=\"checkbox\" ><label class=\"sk-toggleable__label\" for=\"4e321dde-acce-4a76-b674-18a48d99ee00\">Pipeline</label><div class=\"sk-toggleable__content\"><pre>Pipeline(steps=[('preprocessor',\n",
       "                 ColumnTransformer(transformers=[('numerical',\n",
       "                                                  Pipeline(steps=[('imputer',\n",
       "                                                                   SimpleImputer(add_indicator=True,\n",
       "                                                                                 strategy='median')),\n",
       "                                                                  ('scaler',\n",
       "                                                                   PowerTransformer()),\n",
       "                                                                  ('reducedim',\n",
       "                                                                   SelectPercentile(percentile=90))]),\n",
       "                                                  Index(['RevolvingUtilizationOfUnsecuredLines', 'DebtRatio', 'MonthlyIncome',\n",
       "       'NumberOfDependents', 'NumberOfTime60-89Da...\n",
       "       'cat_NumberRealEstateLoansOrLines', 'cat_NumberOfTimes90DaysLate',\n",
       "       'cat_NumberOfOpenCreditLinesAndLoans',\n",
       "       'cat_NumberOfTime30-59DaysPastDueNotWorse', 'cat_age'],\n",
       "      dtype='object'))])),\n",
       "                ('classifier',\n",
       "                 LGBMClassifier(device_type='gpu',\n",
       "                                learning_rate=0.0018069834369607075,\n",
       "                                max_depth=8, metric='auc', min_samples_leaf=47,\n",
       "                                n_estimators=5000, random_state=42,\n",
       "                                subsample=0.8573598985000007, verbose=-1))])</pre></div></div></div><div class=\"sk-serial\"><div class=\"sk-item sk-dashed-wrapped\"><div class=\"sk-label-container\"><div class=\"sk-label sk-toggleable\"><input class=\"sk-toggleable__control sk-hidden--visually\" id=\"6a525e45-eece-4bc8-a5f2-9af0c92bbbba\" type=\"checkbox\" ><label class=\"sk-toggleable__label\" for=\"6a525e45-eece-4bc8-a5f2-9af0c92bbbba\">preprocessor: ColumnTransformer</label><div class=\"sk-toggleable__content\"><pre>ColumnTransformer(transformers=[('numerical',\n",
       "                                 Pipeline(steps=[('imputer',\n",
       "                                                  SimpleImputer(add_indicator=True,\n",
       "                                                                strategy='median')),\n",
       "                                                 ('scaler', PowerTransformer()),\n",
       "                                                 ('reducedim',\n",
       "                                                  SelectPercentile(percentile=90))]),\n",
       "                                 Index(['RevolvingUtilizationOfUnsecuredLines', 'DebtRatio', 'MonthlyIncome',\n",
       "       'NumberOfDependents', 'NumberOfTime60-89DaysPastDueNotWorse',\n",
       "       'NumberRealEs...\n",
       "                                                                   score_func=<function mutual_info_classif at 0x7fab4fedf950>))]),\n",
       "                                 Index(['cat_RevolvingUtilizationOfUnsecuredLines', 'cat_DebtRatio',\n",
       "       'cat_MonthlyIncome', 'cat_NumberOfDependents',\n",
       "       'cat_NumberOfTime60-89DaysPastDueNotWorse',\n",
       "       'cat_NumberRealEstateLoansOrLines', 'cat_NumberOfTimes90DaysLate',\n",
       "       'cat_NumberOfOpenCreditLinesAndLoans',\n",
       "       'cat_NumberOfTime30-59DaysPastDueNotWorse', 'cat_age'],\n",
       "      dtype='object'))])</pre></div></div></div><div class=\"sk-parallel\"><div class=\"sk-parallel-item\"><div class=\"sk-item\"><div class=\"sk-label-container\"><div class=\"sk-label sk-toggleable\"><input class=\"sk-toggleable__control sk-hidden--visually\" id=\"e9ec031b-4e01-4239-be39-a01ba374743a\" type=\"checkbox\" ><label class=\"sk-toggleable__label\" for=\"e9ec031b-4e01-4239-be39-a01ba374743a\">numerical</label><div class=\"sk-toggleable__content\"><pre>Index(['RevolvingUtilizationOfUnsecuredLines', 'DebtRatio', 'MonthlyIncome',\n",
       "       'NumberOfDependents', 'NumberOfTime60-89DaysPastDueNotWorse',\n",
       "       'NumberRealEstateLoansOrLines', 'NumberOfTimes90DaysLate',\n",
       "       'NumberOfOpenCreditLinesAndLoans',\n",
       "       'NumberOfTime30-59DaysPastDueNotWorse', 'age'],\n",
       "      dtype='object')</pre></div></div></div><div class=\"sk-serial\"><div class=\"sk-item\"><div class=\"sk-serial\"><div class=\"sk-item\"><div class=\"sk-estimator sk-toggleable\"><input class=\"sk-toggleable__control sk-hidden--visually\" id=\"f8db3663-2c42-45a5-ab06-1e15edbc171c\" type=\"checkbox\" ><label class=\"sk-toggleable__label\" for=\"f8db3663-2c42-45a5-ab06-1e15edbc171c\">SimpleImputer</label><div class=\"sk-toggleable__content\"><pre>SimpleImputer(add_indicator=True, strategy='median')</pre></div></div></div><div class=\"sk-item\"><div class=\"sk-estimator sk-toggleable\"><input class=\"sk-toggleable__control sk-hidden--visually\" id=\"53b04c1b-de3a-4602-bade-af498cb5f6fb\" type=\"checkbox\" ><label class=\"sk-toggleable__label\" for=\"53b04c1b-de3a-4602-bade-af498cb5f6fb\">PowerTransformer</label><div class=\"sk-toggleable__content\"><pre>PowerTransformer()</pre></div></div></div><div class=\"sk-item\"><div class=\"sk-estimator sk-toggleable\"><input class=\"sk-toggleable__control sk-hidden--visually\" id=\"4a80f90d-a850-4b0b-8d2c-964b37233015\" type=\"checkbox\" ><label class=\"sk-toggleable__label\" for=\"4a80f90d-a850-4b0b-8d2c-964b37233015\">SelectPercentile</label><div class=\"sk-toggleable__content\"><pre>SelectPercentile(percentile=90)</pre></div></div></div></div></div></div></div></div><div class=\"sk-parallel-item\"><div class=\"sk-item\"><div class=\"sk-label-container\"><div class=\"sk-label sk-toggleable\"><input class=\"sk-toggleable__control sk-hidden--visually\" id=\"f00c5865-6436-4627-800d-ffb88b69fc06\" type=\"checkbox\" ><label class=\"sk-toggleable__label\" for=\"f00c5865-6436-4627-800d-ffb88b69fc06\">categorical</label><div class=\"sk-toggleable__content\"><pre>Index(['cat_RevolvingUtilizationOfUnsecuredLines', 'cat_DebtRatio',\n",
       "       'cat_MonthlyIncome', 'cat_NumberOfDependents',\n",
       "       'cat_NumberOfTime60-89DaysPastDueNotWorse',\n",
       "       'cat_NumberRealEstateLoansOrLines', 'cat_NumberOfTimes90DaysLate',\n",
       "       'cat_NumberOfOpenCreditLinesAndLoans',\n",
       "       'cat_NumberOfTime30-59DaysPastDueNotWorse', 'cat_age'],\n",
       "      dtype='object')</pre></div></div></div><div class=\"sk-serial\"><div class=\"sk-item\"><div class=\"sk-serial\"><div class=\"sk-item\"><div class=\"sk-estimator sk-toggleable\"><input class=\"sk-toggleable__control sk-hidden--visually\" id=\"15593abe-607d-4450-a671-3d9ef737a031\" type=\"checkbox\" ><label class=\"sk-toggleable__label\" for=\"15593abe-607d-4450-a671-3d9ef737a031\">SimpleImputer</label><div class=\"sk-toggleable__content\"><pre>SimpleImputer(add_indicator=True, fill_value='missing',\n",
       "              strategy='most_frequent')</pre></div></div></div><div class=\"sk-item\"><div class=\"sk-estimator sk-toggleable\"><input class=\"sk-toggleable__control sk-hidden--visually\" id=\"3668fbb1-79b3-4b12-af8f-8c4564ad82b1\" type=\"checkbox\" ><label class=\"sk-toggleable__label\" for=\"3668fbb1-79b3-4b12-af8f-8c4564ad82b1\">CatBoostEncoder</label><div class=\"sk-toggleable__content\"><pre>CatBoostEncoder()</pre></div></div></div><div class=\"sk-item\"><div class=\"sk-estimator sk-toggleable\"><input class=\"sk-toggleable__control sk-hidden--visually\" id=\"a33d97c0-b3dc-4e14-a5ba-471eaf96d110\" type=\"checkbox\" ><label class=\"sk-toggleable__label\" for=\"a33d97c0-b3dc-4e14-a5ba-471eaf96d110\">SelectPercentile</label><div class=\"sk-toggleable__content\"><pre>SelectPercentile(percentile=90,\n",
       "                 score_func=<function mutual_info_classif at 0x7fab4fedf950>)</pre></div></div></div></div></div></div></div></div></div></div><div class=\"sk-item\"><div class=\"sk-estimator sk-toggleable\"><input class=\"sk-toggleable__control sk-hidden--visually\" id=\"f137f600-91bb-4f63-9432-d02952996ac6\" type=\"checkbox\" ><label class=\"sk-toggleable__label\" for=\"f137f600-91bb-4f63-9432-d02952996ac6\">LGBMClassifier</label><div class=\"sk-toggleable__content\"><pre>LGBMClassifier(device_type='gpu', learning_rate=0.0018069834369607075,\n",
       "               max_depth=8, metric='auc', min_samples_leaf=47,\n",
       "               n_estimators=5000, random_state=42, subsample=0.8573598985000007,\n",
       "               verbose=-1)</pre></div></div></div></div></div></div></div>"
      ],
      "text/plain": [
       "Pipeline(steps=[('preprocessor',\n",
       "                 ColumnTransformer(transformers=[('numerical',\n",
       "                                                  Pipeline(steps=[('imputer',\n",
       "                                                                   SimpleImputer(add_indicator=True,\n",
       "                                                                                 strategy='median')),\n",
       "                                                                  ('scaler',\n",
       "                                                                   PowerTransformer()),\n",
       "                                                                  ('reducedim',\n",
       "                                                                   SelectPercentile(percentile=90))]),\n",
       "                                                  Index(['RevolvingUtilizationOfUnsecuredLines', 'DebtRatio', 'MonthlyIncome',\n",
       "       'NumberOfDependents', 'NumberOfTime60-89Da...\n",
       "       'cat_NumberRealEstateLoansOrLines', 'cat_NumberOfTimes90DaysLate',\n",
       "       'cat_NumberOfOpenCreditLinesAndLoans',\n",
       "       'cat_NumberOfTime30-59DaysPastDueNotWorse', 'cat_age'],\n",
       "      dtype='object'))])),\n",
       "                ('classifier',\n",
       "                 LGBMClassifier(device_type='gpu',\n",
       "                                learning_rate=0.0018069834369607075,\n",
       "                                max_depth=8, metric='auc', min_samples_leaf=47,\n",
       "                                n_estimators=5000, random_state=42,\n",
       "                                subsample=0.8573598985000007, verbose=-1))])"
      ]
     },
     "execution_count": 30,
     "metadata": {},
     "output_type": "execute_result"
    }
   ],
   "source": [
    "#Define cat pipeline\n",
    "# Cat pipeline\n",
    "categorical_transformer_catboost = Pipeline(\n",
    "                    steps=[\n",
    "                        ('imputer', SimpleImputer(strategy='most_frequent',\n",
    "                                                  fill_value='missing',\n",
    "                                                  add_indicator=True)),\n",
    "                        ('encoder',  ce.cat_boost.CatBoostEncoder()),#(Numerical Input, Categorical Output)\n",
    "                         ('reducedim',  SelectPercentile( mutual_info_classif,\n",
    "                                                         percentile=90))\n",
    "                    ]\n",
    "                    ) \n",
    "#Define vnum pipeline\n",
    "numeric_transformer = Pipeline(\n",
    "                            steps=[\n",
    "                            ('imputer', SimpleImputer(strategy='median'\n",
    "                                                      ,add_indicator=True)),\n",
    "                            ('scaler', PowerTransformer()),#(Numerical Input, Numerical Output)\n",
    "                            # Create an SelectKBest object to select features with two best ANOVA F-Values\n",
    "                            #The F-value scores examine if, when we group the numerical feature by the target vector, the means for each group are significantly different\n",
    "                            ('reducedim',  SelectPercentile(f_classif,percentile=90))\n",
    "                            ]\n",
    "                            )\n",
    "# Features union cat + num \n",
    "# Catboost+PowerTransformer\n",
    "preprocessor_catboost_powertransformer = ColumnTransformer(\n",
    "            transformers=[\n",
    "                ('numerical', numeric_transformer, num_columns),\n",
    "                ('categorical', categorical_transformer_catboost, cat_columns)\n",
    "            ]\n",
    "            )\n",
    "pipe_lgbm_catboost_powertransformer = Pipeline(\n",
    "    steps=[\n",
    "        ('preprocessor', preprocessor_catboost_powertransformer),\n",
    "        ('classifier', lgbm.LGBMClassifier( \n",
    "            #n_jobs=-1,\n",
    "                                           verbose=-1,\n",
    "                                           **lgbm_param))\n",
    "    ]\n",
    ")\n",
    "pipe_lgbm_catboost_powertransformer"
   ]
  },
  {
   "cell_type": "markdown",
   "id": "0c77c0d6",
   "metadata": {
    "papermill": {
     "duration": 0.055873,
     "end_time": "2021-12-23T10:01:17.994742",
     "exception": false,
     "start_time": "2021-12-23T10:01:17.938869",
     "status": "completed"
    },
    "tags": []
   },
   "source": [
    "## Handle Outlier:CatBoostEncoder + Power transformer"
   ]
  },
  {
   "cell_type": "code",
   "execution_count": 31,
   "id": "fab281ee",
   "metadata": {
    "execution": {
     "iopub.execute_input": "2021-12-23T10:01:18.114105Z",
     "iopub.status.busy": "2021-12-23T10:01:18.113234Z",
     "iopub.status.idle": "2021-12-23T10:01:18.562446Z",
     "shell.execute_reply": "2021-12-23T10:01:18.562867Z"
    },
    "papermill": {
     "duration": 0.515148,
     "end_time": "2021-12-23T10:01:18.563024",
     "exception": false,
     "start_time": "2021-12-23T10:01:18.047876",
     "status": "completed"
    },
    "tags": []
   },
   "outputs": [
    {
     "data": {
      "text/html": [
       "<style>div.sk-top-container {color: black;background-color: white;}div.sk-toggleable {background-color: white;}label.sk-toggleable__label {cursor: pointer;display: block;width: 100%;margin-bottom: 0;padding: 0.2em 0.3em;box-sizing: border-box;text-align: center;}div.sk-toggleable__content {max-height: 0;max-width: 0;overflow: hidden;text-align: left;background-color: #f0f8ff;}div.sk-toggleable__content pre {margin: 0.2em;color: black;border-radius: 0.25em;background-color: #f0f8ff;}input.sk-toggleable__control:checked~div.sk-toggleable__content {max-height: 200px;max-width: 100%;overflow: auto;}div.sk-estimator input.sk-toggleable__control:checked~label.sk-toggleable__label {background-color: #d4ebff;}div.sk-label input.sk-toggleable__control:checked~label.sk-toggleable__label {background-color: #d4ebff;}input.sk-hidden--visually {border: 0;clip: rect(1px 1px 1px 1px);clip: rect(1px, 1px, 1px, 1px);height: 1px;margin: -1px;overflow: hidden;padding: 0;position: absolute;width: 1px;}div.sk-estimator {font-family: monospace;background-color: #f0f8ff;margin: 0.25em 0.25em;border: 1px dotted black;border-radius: 0.25em;box-sizing: border-box;}div.sk-estimator:hover {background-color: #d4ebff;}div.sk-parallel-item::after {content: \"\";width: 100%;border-bottom: 1px solid gray;flex-grow: 1;}div.sk-label:hover label.sk-toggleable__label {background-color: #d4ebff;}div.sk-serial::before {content: \"\";position: absolute;border-left: 1px solid gray;box-sizing: border-box;top: 2em;bottom: 0;left: 50%;}div.sk-serial {display: flex;flex-direction: column;align-items: center;background-color: white;}div.sk-item {z-index: 1;}div.sk-parallel {display: flex;align-items: stretch;justify-content: center;background-color: white;}div.sk-parallel-item {display: flex;flex-direction: column;position: relative;background-color: white;}div.sk-parallel-item:first-child::after {align-self: flex-end;width: 50%;}div.sk-parallel-item:last-child::after {align-self: flex-start;width: 50%;}div.sk-parallel-item:only-child::after {width: 0;}div.sk-dashed-wrapped {border: 1px dashed gray;margin: 0.2em;box-sizing: border-box;padding-bottom: 0.1em;background-color: white;position: relative;}div.sk-label label {font-family: monospace;font-weight: bold;background-color: white;display: inline-block;line-height: 1.2em;}div.sk-label-container {position: relative;z-index: 2;text-align: center;}div.sk-container {display: inline-block;position: relative;}</style><div class=\"sk-top-container\"><div class=\"sk-container\"><div class=\"sk-item sk-dashed-wrapped\"><div class=\"sk-label-container\"><div class=\"sk-label sk-toggleable\"><input class=\"sk-toggleable__control sk-hidden--visually\" id=\"5c69cdac-c311-4a9b-b03e-345693d7353e\" type=\"checkbox\" ><label class=\"sk-toggleable__label\" for=\"5c69cdac-c311-4a9b-b03e-345693d7353e\">Pipeline</label><div class=\"sk-toggleable__content\"><pre>Pipeline(steps=[('preprocessor',\n",
       "                 ColumnTransformer(transformers=[('numerical',\n",
       "                                                  Pipeline(steps=[('outlierhandle',\n",
       "                                                                   OutlierReplace()),\n",
       "                                                                  ('imputer',\n",
       "                                                                   SimpleImputer(add_indicator=True,\n",
       "                                                                                 strategy='median')),\n",
       "                                                                  ('scaler',\n",
       "                                                                   PowerTransformer()),\n",
       "                                                                  ('reducedim',\n",
       "                                                                   SelectPercentile(percentile=90))]),\n",
       "                                                  Index(['RevolvingUtilizationOfUnsecuredLines', 'DebtRatio', 'MonthlyIncome',\n",
       "       'Numbe...\n",
       "       'cat_NumberRealEstateLoansOrLines', 'cat_NumberOfTimes90DaysLate',\n",
       "       'cat_NumberOfOpenCreditLinesAndLoans',\n",
       "       'cat_NumberOfTime30-59DaysPastDueNotWorse', 'cat_age'],\n",
       "      dtype='object'))])),\n",
       "                ('classifier',\n",
       "                 LGBMClassifier(device_type='gpu',\n",
       "                                learning_rate=0.0018069834369607075,\n",
       "                                max_depth=8, metric='auc', min_samples_leaf=47,\n",
       "                                n_estimators=5000, random_state=42,\n",
       "                                subsample=0.8573598985000007, verbose=-1))])</pre></div></div></div><div class=\"sk-serial\"><div class=\"sk-item sk-dashed-wrapped\"><div class=\"sk-label-container\"><div class=\"sk-label sk-toggleable\"><input class=\"sk-toggleable__control sk-hidden--visually\" id=\"f3b72e3f-9337-42fb-b690-cc77c328758f\" type=\"checkbox\" ><label class=\"sk-toggleable__label\" for=\"f3b72e3f-9337-42fb-b690-cc77c328758f\">preprocessor: ColumnTransformer</label><div class=\"sk-toggleable__content\"><pre>ColumnTransformer(transformers=[('numerical',\n",
       "                                 Pipeline(steps=[('outlierhandle',\n",
       "                                                  OutlierReplace()),\n",
       "                                                 ('imputer',\n",
       "                                                  SimpleImputer(add_indicator=True,\n",
       "                                                                strategy='median')),\n",
       "                                                 ('scaler', PowerTransformer()),\n",
       "                                                 ('reducedim',\n",
       "                                                  SelectPercentile(percentile=90))]),\n",
       "                                 Index(['RevolvingUtilizationOfUnsecuredLines', 'DebtRatio', 'MonthlyIncome',\n",
       "       'NumberOfDependents', 'NumberOfTime60-8...\n",
       "                                                                   score_func=<function mutual_info_classif at 0x7fab4fedf950>))]),\n",
       "                                 Index(['cat_RevolvingUtilizationOfUnsecuredLines', 'cat_DebtRatio',\n",
       "       'cat_MonthlyIncome', 'cat_NumberOfDependents',\n",
       "       'cat_NumberOfTime60-89DaysPastDueNotWorse',\n",
       "       'cat_NumberRealEstateLoansOrLines', 'cat_NumberOfTimes90DaysLate',\n",
       "       'cat_NumberOfOpenCreditLinesAndLoans',\n",
       "       'cat_NumberOfTime30-59DaysPastDueNotWorse', 'cat_age'],\n",
       "      dtype='object'))])</pre></div></div></div><div class=\"sk-parallel\"><div class=\"sk-parallel-item\"><div class=\"sk-item\"><div class=\"sk-label-container\"><div class=\"sk-label sk-toggleable\"><input class=\"sk-toggleable__control sk-hidden--visually\" id=\"feaf6dbc-feb7-4fd0-9ab5-1c718cc0913a\" type=\"checkbox\" ><label class=\"sk-toggleable__label\" for=\"feaf6dbc-feb7-4fd0-9ab5-1c718cc0913a\">numerical</label><div class=\"sk-toggleable__content\"><pre>Index(['RevolvingUtilizationOfUnsecuredLines', 'DebtRatio', 'MonthlyIncome',\n",
       "       'NumberOfDependents', 'NumberOfTime60-89DaysPastDueNotWorse',\n",
       "       'NumberRealEstateLoansOrLines', 'NumberOfTimes90DaysLate',\n",
       "       'NumberOfOpenCreditLinesAndLoans',\n",
       "       'NumberOfTime30-59DaysPastDueNotWorse', 'age'],\n",
       "      dtype='object')</pre></div></div></div><div class=\"sk-serial\"><div class=\"sk-item\"><div class=\"sk-serial\"><div class=\"sk-item\"><div class=\"sk-estimator sk-toggleable\"><input class=\"sk-toggleable__control sk-hidden--visually\" id=\"0784b5f6-ff2b-496c-b85f-70f7e2d374ff\" type=\"checkbox\" ><label class=\"sk-toggleable__label\" for=\"0784b5f6-ff2b-496c-b85f-70f7e2d374ff\">OutlierReplace</label><div class=\"sk-toggleable__content\"><pre>OutlierReplace()</pre></div></div></div><div class=\"sk-item\"><div class=\"sk-estimator sk-toggleable\"><input class=\"sk-toggleable__control sk-hidden--visually\" id=\"52877e28-ce12-474b-a858-0751ff8e4c09\" type=\"checkbox\" ><label class=\"sk-toggleable__label\" for=\"52877e28-ce12-474b-a858-0751ff8e4c09\">SimpleImputer</label><div class=\"sk-toggleable__content\"><pre>SimpleImputer(add_indicator=True, strategy='median')</pre></div></div></div><div class=\"sk-item\"><div class=\"sk-estimator sk-toggleable\"><input class=\"sk-toggleable__control sk-hidden--visually\" id=\"99ea07ad-7418-4e71-96c0-6c2759682069\" type=\"checkbox\" ><label class=\"sk-toggleable__label\" for=\"99ea07ad-7418-4e71-96c0-6c2759682069\">PowerTransformer</label><div class=\"sk-toggleable__content\"><pre>PowerTransformer()</pre></div></div></div><div class=\"sk-item\"><div class=\"sk-estimator sk-toggleable\"><input class=\"sk-toggleable__control sk-hidden--visually\" id=\"3a0e1cc7-e37d-4e4c-964b-22242cd4e50e\" type=\"checkbox\" ><label class=\"sk-toggleable__label\" for=\"3a0e1cc7-e37d-4e4c-964b-22242cd4e50e\">SelectPercentile</label><div class=\"sk-toggleable__content\"><pre>SelectPercentile(percentile=90)</pre></div></div></div></div></div></div></div></div><div class=\"sk-parallel-item\"><div class=\"sk-item\"><div class=\"sk-label-container\"><div class=\"sk-label sk-toggleable\"><input class=\"sk-toggleable__control sk-hidden--visually\" id=\"ec52c143-c075-4fdb-9dbe-dafdfe257eeb\" type=\"checkbox\" ><label class=\"sk-toggleable__label\" for=\"ec52c143-c075-4fdb-9dbe-dafdfe257eeb\">categorical</label><div class=\"sk-toggleable__content\"><pre>Index(['cat_RevolvingUtilizationOfUnsecuredLines', 'cat_DebtRatio',\n",
       "       'cat_MonthlyIncome', 'cat_NumberOfDependents',\n",
       "       'cat_NumberOfTime60-89DaysPastDueNotWorse',\n",
       "       'cat_NumberRealEstateLoansOrLines', 'cat_NumberOfTimes90DaysLate',\n",
       "       'cat_NumberOfOpenCreditLinesAndLoans',\n",
       "       'cat_NumberOfTime30-59DaysPastDueNotWorse', 'cat_age'],\n",
       "      dtype='object')</pre></div></div></div><div class=\"sk-serial\"><div class=\"sk-item\"><div class=\"sk-serial\"><div class=\"sk-item\"><div class=\"sk-estimator sk-toggleable\"><input class=\"sk-toggleable__control sk-hidden--visually\" id=\"00767168-bcb8-47dc-b0fb-7e0a61734cf2\" type=\"checkbox\" ><label class=\"sk-toggleable__label\" for=\"00767168-bcb8-47dc-b0fb-7e0a61734cf2\">SimpleImputer</label><div class=\"sk-toggleable__content\"><pre>SimpleImputer(add_indicator=True, fill_value='missing',\n",
       "              strategy='most_frequent')</pre></div></div></div><div class=\"sk-item\"><div class=\"sk-estimator sk-toggleable\"><input class=\"sk-toggleable__control sk-hidden--visually\" id=\"3b7dadcc-7a30-4bef-ab09-69430eb421a6\" type=\"checkbox\" ><label class=\"sk-toggleable__label\" for=\"3b7dadcc-7a30-4bef-ab09-69430eb421a6\">CatBoostEncoder</label><div class=\"sk-toggleable__content\"><pre>CatBoostEncoder()</pre></div></div></div><div class=\"sk-item\"><div class=\"sk-estimator sk-toggleable\"><input class=\"sk-toggleable__control sk-hidden--visually\" id=\"e7f43683-f60d-4b61-ae76-38b9b8f6bc8a\" type=\"checkbox\" ><label class=\"sk-toggleable__label\" for=\"e7f43683-f60d-4b61-ae76-38b9b8f6bc8a\">SelectPercentile</label><div class=\"sk-toggleable__content\"><pre>SelectPercentile(percentile=90,\n",
       "                 score_func=<function mutual_info_classif at 0x7fab4fedf950>)</pre></div></div></div></div></div></div></div></div></div></div><div class=\"sk-item\"><div class=\"sk-estimator sk-toggleable\"><input class=\"sk-toggleable__control sk-hidden--visually\" id=\"529ee74a-89fd-4da6-abe6-0ee0e0400790\" type=\"checkbox\" ><label class=\"sk-toggleable__label\" for=\"529ee74a-89fd-4da6-abe6-0ee0e0400790\">LGBMClassifier</label><div class=\"sk-toggleable__content\"><pre>LGBMClassifier(device_type='gpu', learning_rate=0.0018069834369607075,\n",
       "               max_depth=8, metric='auc', min_samples_leaf=47,\n",
       "               n_estimators=5000, random_state=42, subsample=0.8573598985000007,\n",
       "               verbose=-1)</pre></div></div></div></div></div></div></div>"
      ],
      "text/plain": [
       "Pipeline(steps=[('preprocessor',\n",
       "                 ColumnTransformer(transformers=[('numerical',\n",
       "                                                  Pipeline(steps=[('outlierhandle',\n",
       "                                                                   OutlierReplace()),\n",
       "                                                                  ('imputer',\n",
       "                                                                   SimpleImputer(add_indicator=True,\n",
       "                                                                                 strategy='median')),\n",
       "                                                                  ('scaler',\n",
       "                                                                   PowerTransformer()),\n",
       "                                                                  ('reducedim',\n",
       "                                                                   SelectPercentile(percentile=90))]),\n",
       "                                                  Index(['RevolvingUtilizationOfUnsecuredLines', 'DebtRatio', 'MonthlyIncome',\n",
       "       'Numbe...\n",
       "       'cat_NumberRealEstateLoansOrLines', 'cat_NumberOfTimes90DaysLate',\n",
       "       'cat_NumberOfOpenCreditLinesAndLoans',\n",
       "       'cat_NumberOfTime30-59DaysPastDueNotWorse', 'cat_age'],\n",
       "      dtype='object'))])),\n",
       "                ('classifier',\n",
       "                 LGBMClassifier(device_type='gpu',\n",
       "                                learning_rate=0.0018069834369607075,\n",
       "                                max_depth=8, metric='auc', min_samples_leaf=47,\n",
       "                                n_estimators=5000, random_state=42,\n",
       "                                subsample=0.8573598985000007, verbose=-1))])"
      ]
     },
     "execution_count": 31,
     "metadata": {},
     "output_type": "execute_result"
    }
   ],
   "source": [
    "#Define vnum pipeline\n",
    "numeric_transformer_outlier = Pipeline(\n",
    "                            steps=[('outlierhandle', OutlierReplace()),\n",
    "                            ('imputer', SimpleImputer(strategy='median'\n",
    "                                                      ,add_indicator=True)),\n",
    "                            ('scaler', PowerTransformer()),#(Numerical Input, Numerical Output)\n",
    "                            # Create an SelectKBest object to select features with two best ANOVA F-Values\n",
    "                            #The F-value scores examine if, when we group the numerical feature by the target vector, the means for each group are significantly different\n",
    "                            ('reducedim',  SelectPercentile(f_classif,percentile=90))\n",
    "                            ]\n",
    "                            )\n",
    "# Features union cat + num \n",
    "# WOE+PowerTransformer\n",
    "preprocessor_catboost_powertransformer_outlier = ColumnTransformer(\n",
    "            transformers=[\n",
    "                ('numerical', numeric_transformer_outlier, num_columns),\n",
    "                ('categorical', categorical_transformer_catboost, cat_columns)\n",
    "            ]\n",
    "            )\n",
    "pipe_lgbm_catboost_powertransformer_outlier = Pipeline(\n",
    "    steps=[\n",
    "        ('preprocessor', preprocessor_catboost_powertransformer_outlier),\n",
    "        ('classifier', lgbm.LGBMClassifier( \n",
    "            #n_jobs=-1,\n",
    "                                           verbose=-1,\n",
    "                                           **lgbm_param))\n",
    "    ]\n",
    ")\n",
    "pipe_lgbm_catboost_powertransformer_outlier"
   ]
  },
  {
   "cell_type": "markdown",
   "id": "28b8936c",
   "metadata": {
    "papermill": {
     "duration": 0.051453,
     "end_time": "2021-12-23T10:01:18.666249",
     "exception": false,
     "start_time": "2021-12-23T10:01:18.614796",
     "status": "completed"
    },
    "tags": []
   },
   "source": [
    "## Drop misssing :CatBoostEncoder + Power transformer"
   ]
  },
  {
   "cell_type": "code",
   "execution_count": 32,
   "id": "688340bb",
   "metadata": {
    "execution": {
     "iopub.execute_input": "2021-12-23T10:01:18.817741Z",
     "iopub.status.busy": "2021-12-23T10:01:18.802219Z",
     "iopub.status.idle": "2021-12-23T10:01:19.206295Z",
     "shell.execute_reply": "2021-12-23T10:01:19.206805Z"
    },
    "papermill": {
     "duration": 0.489377,
     "end_time": "2021-12-23T10:01:19.206963",
     "exception": false,
     "start_time": "2021-12-23T10:01:18.717586",
     "status": "completed"
    },
    "tags": []
   },
   "outputs": [
    {
     "data": {
      "text/html": [
       "<style>div.sk-top-container {color: black;background-color: white;}div.sk-toggleable {background-color: white;}label.sk-toggleable__label {cursor: pointer;display: block;width: 100%;margin-bottom: 0;padding: 0.2em 0.3em;box-sizing: border-box;text-align: center;}div.sk-toggleable__content {max-height: 0;max-width: 0;overflow: hidden;text-align: left;background-color: #f0f8ff;}div.sk-toggleable__content pre {margin: 0.2em;color: black;border-radius: 0.25em;background-color: #f0f8ff;}input.sk-toggleable__control:checked~div.sk-toggleable__content {max-height: 200px;max-width: 100%;overflow: auto;}div.sk-estimator input.sk-toggleable__control:checked~label.sk-toggleable__label {background-color: #d4ebff;}div.sk-label input.sk-toggleable__control:checked~label.sk-toggleable__label {background-color: #d4ebff;}input.sk-hidden--visually {border: 0;clip: rect(1px 1px 1px 1px);clip: rect(1px, 1px, 1px, 1px);height: 1px;margin: -1px;overflow: hidden;padding: 0;position: absolute;width: 1px;}div.sk-estimator {font-family: monospace;background-color: #f0f8ff;margin: 0.25em 0.25em;border: 1px dotted black;border-radius: 0.25em;box-sizing: border-box;}div.sk-estimator:hover {background-color: #d4ebff;}div.sk-parallel-item::after {content: \"\";width: 100%;border-bottom: 1px solid gray;flex-grow: 1;}div.sk-label:hover label.sk-toggleable__label {background-color: #d4ebff;}div.sk-serial::before {content: \"\";position: absolute;border-left: 1px solid gray;box-sizing: border-box;top: 2em;bottom: 0;left: 50%;}div.sk-serial {display: flex;flex-direction: column;align-items: center;background-color: white;}div.sk-item {z-index: 1;}div.sk-parallel {display: flex;align-items: stretch;justify-content: center;background-color: white;}div.sk-parallel-item {display: flex;flex-direction: column;position: relative;background-color: white;}div.sk-parallel-item:first-child::after {align-self: flex-end;width: 50%;}div.sk-parallel-item:last-child::after {align-self: flex-start;width: 50%;}div.sk-parallel-item:only-child::after {width: 0;}div.sk-dashed-wrapped {border: 1px dashed gray;margin: 0.2em;box-sizing: border-box;padding-bottom: 0.1em;background-color: white;position: relative;}div.sk-label label {font-family: monospace;font-weight: bold;background-color: white;display: inline-block;line-height: 1.2em;}div.sk-label-container {position: relative;z-index: 2;text-align: center;}div.sk-container {display: inline-block;position: relative;}</style><div class=\"sk-top-container\"><div class=\"sk-container\"><div class=\"sk-item sk-dashed-wrapped\"><div class=\"sk-label-container\"><div class=\"sk-label sk-toggleable\"><input class=\"sk-toggleable__control sk-hidden--visually\" id=\"2b0a7faf-0bbe-430c-9653-a2e0f504d36a\" type=\"checkbox\" ><label class=\"sk-toggleable__label\" for=\"2b0a7faf-0bbe-430c-9653-a2e0f504d36a\">Pipeline</label><div class=\"sk-toggleable__content\"><pre>Pipeline(steps=[('preprocessor',\n",
       "                 ColumnTransformer(transformers=[('numerical',\n",
       "                                                  Pipeline(steps=[('imputer',\n",
       "                                                                   SimpleImputer(add_indicator=True,\n",
       "                                                                                 strategy='median')),\n",
       "                                                                  ('scaler',\n",
       "                                                                   PowerTransformer()),\n",
       "                                                                  ('reducedim',\n",
       "                                                                   SelectPercentile(percentile=90))]),\n",
       "                                                  Index(['RevolvingUtilizationOfUnsecuredLines', 'DebtRatio',\n",
       "       'NumberOfTime60-89DaysPastDueNotWorse', 'NumberRealEstateL...\n",
       "       'cat_NumberRealEstateLoansOrLines', 'cat_NumberOfTimes90DaysLate',\n",
       "       'cat_NumberOfOpenCreditLinesAndLoans',\n",
       "       'cat_NumberOfTime30-59DaysPastDueNotWorse', 'cat_age'],\n",
       "      dtype='object'))])),\n",
       "                ('classifier',\n",
       "                 LGBMClassifier(device_type='gpu',\n",
       "                                learning_rate=0.0018069834369607075,\n",
       "                                max_depth=8, metric='auc', min_samples_leaf=47,\n",
       "                                n_estimators=5000, random_state=42,\n",
       "                                subsample=0.8573598985000007, verbose=-1))])</pre></div></div></div><div class=\"sk-serial\"><div class=\"sk-item sk-dashed-wrapped\"><div class=\"sk-label-container\"><div class=\"sk-label sk-toggleable\"><input class=\"sk-toggleable__control sk-hidden--visually\" id=\"83fea9cd-3377-4bc1-9886-8894e91986c9\" type=\"checkbox\" ><label class=\"sk-toggleable__label\" for=\"83fea9cd-3377-4bc1-9886-8894e91986c9\">preprocessor: ColumnTransformer</label><div class=\"sk-toggleable__content\"><pre>ColumnTransformer(transformers=[('numerical',\n",
       "                                 Pipeline(steps=[('imputer',\n",
       "                                                  SimpleImputer(add_indicator=True,\n",
       "                                                                strategy='median')),\n",
       "                                                 ('scaler', PowerTransformer()),\n",
       "                                                 ('reducedim',\n",
       "                                                  SelectPercentile(percentile=90))]),\n",
       "                                 Index(['RevolvingUtilizationOfUnsecuredLines', 'DebtRatio',\n",
       "       'NumberOfTime60-89DaysPastDueNotWorse', 'NumberRealEstateLoansOrLines',\n",
       "       'NumberOfTimes90Day...\n",
       "                                                                   score_func=<function mutual_info_classif at 0x7fab4fedf950>))]),\n",
       "                                 Index(['cat_RevolvingUtilizationOfUnsecuredLines', 'cat_DebtRatio',\n",
       "       'cat_MonthlyIncome', 'cat_NumberOfDependents',\n",
       "       'cat_NumberOfTime60-89DaysPastDueNotWorse',\n",
       "       'cat_NumberRealEstateLoansOrLines', 'cat_NumberOfTimes90DaysLate',\n",
       "       'cat_NumberOfOpenCreditLinesAndLoans',\n",
       "       'cat_NumberOfTime30-59DaysPastDueNotWorse', 'cat_age'],\n",
       "      dtype='object'))])</pre></div></div></div><div class=\"sk-parallel\"><div class=\"sk-parallel-item\"><div class=\"sk-item\"><div class=\"sk-label-container\"><div class=\"sk-label sk-toggleable\"><input class=\"sk-toggleable__control sk-hidden--visually\" id=\"6af57d8f-fea5-4fd6-ac79-0343fd3c06d6\" type=\"checkbox\" ><label class=\"sk-toggleable__label\" for=\"6af57d8f-fea5-4fd6-ac79-0343fd3c06d6\">numerical</label><div class=\"sk-toggleable__content\"><pre>Index(['RevolvingUtilizationOfUnsecuredLines', 'DebtRatio',\n",
       "       'NumberOfTime60-89DaysPastDueNotWorse', 'NumberRealEstateLoansOrLines',\n",
       "       'NumberOfTimes90DaysLate', 'NumberOfOpenCreditLinesAndLoans',\n",
       "       'NumberOfTime30-59DaysPastDueNotWorse', 'age'],\n",
       "      dtype='object')</pre></div></div></div><div class=\"sk-serial\"><div class=\"sk-item\"><div class=\"sk-serial\"><div class=\"sk-item\"><div class=\"sk-estimator sk-toggleable\"><input class=\"sk-toggleable__control sk-hidden--visually\" id=\"91fe66ba-99cc-4a7b-a0f1-5cb001a4058c\" type=\"checkbox\" ><label class=\"sk-toggleable__label\" for=\"91fe66ba-99cc-4a7b-a0f1-5cb001a4058c\">SimpleImputer</label><div class=\"sk-toggleable__content\"><pre>SimpleImputer(add_indicator=True, strategy='median')</pre></div></div></div><div class=\"sk-item\"><div class=\"sk-estimator sk-toggleable\"><input class=\"sk-toggleable__control sk-hidden--visually\" id=\"ace5ec03-5a0c-4cb3-802c-73f70cab1eaa\" type=\"checkbox\" ><label class=\"sk-toggleable__label\" for=\"ace5ec03-5a0c-4cb3-802c-73f70cab1eaa\">PowerTransformer</label><div class=\"sk-toggleable__content\"><pre>PowerTransformer()</pre></div></div></div><div class=\"sk-item\"><div class=\"sk-estimator sk-toggleable\"><input class=\"sk-toggleable__control sk-hidden--visually\" id=\"30d4e064-9047-466b-a828-ac5401678024\" type=\"checkbox\" ><label class=\"sk-toggleable__label\" for=\"30d4e064-9047-466b-a828-ac5401678024\">SelectPercentile</label><div class=\"sk-toggleable__content\"><pre>SelectPercentile(percentile=90)</pre></div></div></div></div></div></div></div></div><div class=\"sk-parallel-item\"><div class=\"sk-item\"><div class=\"sk-label-container\"><div class=\"sk-label sk-toggleable\"><input class=\"sk-toggleable__control sk-hidden--visually\" id=\"84319d5e-9360-4a90-accd-e327aa9686bd\" type=\"checkbox\" ><label class=\"sk-toggleable__label\" for=\"84319d5e-9360-4a90-accd-e327aa9686bd\">categorical</label><div class=\"sk-toggleable__content\"><pre>Index(['cat_RevolvingUtilizationOfUnsecuredLines', 'cat_DebtRatio',\n",
       "       'cat_MonthlyIncome', 'cat_NumberOfDependents',\n",
       "       'cat_NumberOfTime60-89DaysPastDueNotWorse',\n",
       "       'cat_NumberRealEstateLoansOrLines', 'cat_NumberOfTimes90DaysLate',\n",
       "       'cat_NumberOfOpenCreditLinesAndLoans',\n",
       "       'cat_NumberOfTime30-59DaysPastDueNotWorse', 'cat_age'],\n",
       "      dtype='object')</pre></div></div></div><div class=\"sk-serial\"><div class=\"sk-item\"><div class=\"sk-serial\"><div class=\"sk-item\"><div class=\"sk-estimator sk-toggleable\"><input class=\"sk-toggleable__control sk-hidden--visually\" id=\"f7f2d1fb-497d-483f-a6a6-5280c869eb88\" type=\"checkbox\" ><label class=\"sk-toggleable__label\" for=\"f7f2d1fb-497d-483f-a6a6-5280c869eb88\">SimpleImputer</label><div class=\"sk-toggleable__content\"><pre>SimpleImputer(add_indicator=True, fill_value='missing',\n",
       "              strategy='most_frequent')</pre></div></div></div><div class=\"sk-item\"><div class=\"sk-estimator sk-toggleable\"><input class=\"sk-toggleable__control sk-hidden--visually\" id=\"dcf40a62-28b9-49e5-9b78-5e9e29b8b890\" type=\"checkbox\" ><label class=\"sk-toggleable__label\" for=\"dcf40a62-28b9-49e5-9b78-5e9e29b8b890\">CatBoostEncoder</label><div class=\"sk-toggleable__content\"><pre>CatBoostEncoder()</pre></div></div></div><div class=\"sk-item\"><div class=\"sk-estimator sk-toggleable\"><input class=\"sk-toggleable__control sk-hidden--visually\" id=\"b8045869-d263-4cbc-bca4-5d1eb75431d8\" type=\"checkbox\" ><label class=\"sk-toggleable__label\" for=\"b8045869-d263-4cbc-bca4-5d1eb75431d8\">SelectPercentile</label><div class=\"sk-toggleable__content\"><pre>SelectPercentile(percentile=90,\n",
       "                 score_func=<function mutual_info_classif at 0x7fab4fedf950>)</pre></div></div></div></div></div></div></div></div></div></div><div class=\"sk-item\"><div class=\"sk-estimator sk-toggleable\"><input class=\"sk-toggleable__control sk-hidden--visually\" id=\"06861596-ee99-4b9e-b538-4d19b956dbb3\" type=\"checkbox\" ><label class=\"sk-toggleable__label\" for=\"06861596-ee99-4b9e-b538-4d19b956dbb3\">LGBMClassifier</label><div class=\"sk-toggleable__content\"><pre>LGBMClassifier(device_type='gpu', learning_rate=0.0018069834369607075,\n",
       "               max_depth=8, metric='auc', min_samples_leaf=47,\n",
       "               n_estimators=5000, random_state=42, subsample=0.8573598985000007,\n",
       "               verbose=-1)</pre></div></div></div></div></div></div></div>"
      ],
      "text/plain": [
       "Pipeline(steps=[('preprocessor',\n",
       "                 ColumnTransformer(transformers=[('numerical',\n",
       "                                                  Pipeline(steps=[('imputer',\n",
       "                                                                   SimpleImputer(add_indicator=True,\n",
       "                                                                                 strategy='median')),\n",
       "                                                                  ('scaler',\n",
       "                                                                   PowerTransformer()),\n",
       "                                                                  ('reducedim',\n",
       "                                                                   SelectPercentile(percentile=90))]),\n",
       "                                                  Index(['RevolvingUtilizationOfUnsecuredLines', 'DebtRatio',\n",
       "       'NumberOfTime60-89DaysPastDueNotWorse', 'NumberRealEstateL...\n",
       "       'cat_NumberRealEstateLoansOrLines', 'cat_NumberOfTimes90DaysLate',\n",
       "       'cat_NumberOfOpenCreditLinesAndLoans',\n",
       "       'cat_NumberOfTime30-59DaysPastDueNotWorse', 'cat_age'],\n",
       "      dtype='object'))])),\n",
       "                ('classifier',\n",
       "                 LGBMClassifier(device_type='gpu',\n",
       "                                learning_rate=0.0018069834369607075,\n",
       "                                max_depth=8, metric='auc', min_samples_leaf=47,\n",
       "                                n_estimators=5000, random_state=42,\n",
       "                                subsample=0.8573598985000007, verbose=-1))])"
      ]
     },
     "execution_count": 32,
     "metadata": {},
     "output_type": "execute_result"
    }
   ],
   "source": [
    "# Features union cat + num \n",
    "# WOE+PowerTransformer\n",
    "\n",
    "pipe_lgbm_catboost_powertransformer_without_missing = ColumnTransformer(\n",
    "            transformers=[\n",
    "                ('numerical', numeric_transformer, num_columns_without_missing),\n",
    "                ('categorical', categorical_transformer_catboost, cat_columns_without_missing)\n",
    "            ]\n",
    "            )\n",
    "pipe_lgbm_catboost_powertransformer_without_missing = Pipeline(\n",
    "    steps=[\n",
    "        ('preprocessor', pipe_lgbm_catboost_powertransformer_without_missing),\n",
    "        ('classifier', lgbm.LGBMClassifier( \n",
    "            #n_jobs=-1,\n",
    "                                           verbose=-1,\n",
    "                                           **lgbm_param))\n",
    "    ]\n",
    ")\n",
    "pipe_lgbm_catboost_powertransformer_without_missing"
   ]
  },
  {
   "cell_type": "markdown",
   "id": "653d2366",
   "metadata": {
    "papermill": {
     "duration": 0.052113,
     "end_time": "2021-12-23T10:01:19.311636",
     "exception": false,
     "start_time": "2021-12-23T10:01:19.259523",
     "status": "completed"
    },
    "tags": []
   },
   "source": [
    "## Messing +Outlier handle :CatBoostEncoder + Power transformer"
   ]
  },
  {
   "cell_type": "code",
   "execution_count": 33,
   "id": "0d29c72a",
   "metadata": {
    "execution": {
     "iopub.execute_input": "2021-12-23T10:01:19.428675Z",
     "iopub.status.busy": "2021-12-23T10:01:19.427825Z",
     "iopub.status.idle": "2021-12-23T10:01:19.878798Z",
     "shell.execute_reply": "2021-12-23T10:01:19.878329Z"
    },
    "papermill": {
     "duration": 0.5143,
     "end_time": "2021-12-23T10:01:19.878931",
     "exception": false,
     "start_time": "2021-12-23T10:01:19.364631",
     "status": "completed"
    },
    "tags": []
   },
   "outputs": [
    {
     "data": {
      "text/html": [
       "<style>div.sk-top-container {color: black;background-color: white;}div.sk-toggleable {background-color: white;}label.sk-toggleable__label {cursor: pointer;display: block;width: 100%;margin-bottom: 0;padding: 0.2em 0.3em;box-sizing: border-box;text-align: center;}div.sk-toggleable__content {max-height: 0;max-width: 0;overflow: hidden;text-align: left;background-color: #f0f8ff;}div.sk-toggleable__content pre {margin: 0.2em;color: black;border-radius: 0.25em;background-color: #f0f8ff;}input.sk-toggleable__control:checked~div.sk-toggleable__content {max-height: 200px;max-width: 100%;overflow: auto;}div.sk-estimator input.sk-toggleable__control:checked~label.sk-toggleable__label {background-color: #d4ebff;}div.sk-label input.sk-toggleable__control:checked~label.sk-toggleable__label {background-color: #d4ebff;}input.sk-hidden--visually {border: 0;clip: rect(1px 1px 1px 1px);clip: rect(1px, 1px, 1px, 1px);height: 1px;margin: -1px;overflow: hidden;padding: 0;position: absolute;width: 1px;}div.sk-estimator {font-family: monospace;background-color: #f0f8ff;margin: 0.25em 0.25em;border: 1px dotted black;border-radius: 0.25em;box-sizing: border-box;}div.sk-estimator:hover {background-color: #d4ebff;}div.sk-parallel-item::after {content: \"\";width: 100%;border-bottom: 1px solid gray;flex-grow: 1;}div.sk-label:hover label.sk-toggleable__label {background-color: #d4ebff;}div.sk-serial::before {content: \"\";position: absolute;border-left: 1px solid gray;box-sizing: border-box;top: 2em;bottom: 0;left: 50%;}div.sk-serial {display: flex;flex-direction: column;align-items: center;background-color: white;}div.sk-item {z-index: 1;}div.sk-parallel {display: flex;align-items: stretch;justify-content: center;background-color: white;}div.sk-parallel-item {display: flex;flex-direction: column;position: relative;background-color: white;}div.sk-parallel-item:first-child::after {align-self: flex-end;width: 50%;}div.sk-parallel-item:last-child::after {align-self: flex-start;width: 50%;}div.sk-parallel-item:only-child::after {width: 0;}div.sk-dashed-wrapped {border: 1px dashed gray;margin: 0.2em;box-sizing: border-box;padding-bottom: 0.1em;background-color: white;position: relative;}div.sk-label label {font-family: monospace;font-weight: bold;background-color: white;display: inline-block;line-height: 1.2em;}div.sk-label-container {position: relative;z-index: 2;text-align: center;}div.sk-container {display: inline-block;position: relative;}</style><div class=\"sk-top-container\"><div class=\"sk-container\"><div class=\"sk-item sk-dashed-wrapped\"><div class=\"sk-label-container\"><div class=\"sk-label sk-toggleable\"><input class=\"sk-toggleable__control sk-hidden--visually\" id=\"bd9778e9-9636-4eff-a202-01ab8ca7d286\" type=\"checkbox\" ><label class=\"sk-toggleable__label\" for=\"bd9778e9-9636-4eff-a202-01ab8ca7d286\">Pipeline</label><div class=\"sk-toggleable__content\"><pre>Pipeline(steps=[('preprocessor',\n",
       "                 ColumnTransformer(transformers=[('numerical',\n",
       "                                                  Pipeline(steps=[('outlierhandle',\n",
       "                                                                   OutlierReplace()),\n",
       "                                                                  ('imputer',\n",
       "                                                                   SimpleImputer(add_indicator=True,\n",
       "                                                                                 strategy='median')),\n",
       "                                                                  ('scaler',\n",
       "                                                                   PowerTransformer()),\n",
       "                                                                  ('reducedim',\n",
       "                                                                   SelectPercentile(percentile=90))]),\n",
       "                                                  Index(['RevolvingUtilizationOfUnsecuredLines', 'DebtRatio',\n",
       "       'NumberOfTime60-89Days...\n",
       "       'cat_NumberRealEstateLoansOrLines', 'cat_NumberOfTimes90DaysLate',\n",
       "       'cat_NumberOfOpenCreditLinesAndLoans',\n",
       "       'cat_NumberOfTime30-59DaysPastDueNotWorse', 'cat_age'],\n",
       "      dtype='object'))])),\n",
       "                ('classifier',\n",
       "                 LGBMClassifier(device_type='gpu',\n",
       "                                learning_rate=0.0018069834369607075,\n",
       "                                max_depth=8, metric='auc', min_samples_leaf=47,\n",
       "                                n_estimators=5000, random_state=42,\n",
       "                                subsample=0.8573598985000007, verbose=-1))])</pre></div></div></div><div class=\"sk-serial\"><div class=\"sk-item sk-dashed-wrapped\"><div class=\"sk-label-container\"><div class=\"sk-label sk-toggleable\"><input class=\"sk-toggleable__control sk-hidden--visually\" id=\"23ea8bac-9b96-4548-9249-4f222aa2a69f\" type=\"checkbox\" ><label class=\"sk-toggleable__label\" for=\"23ea8bac-9b96-4548-9249-4f222aa2a69f\">preprocessor: ColumnTransformer</label><div class=\"sk-toggleable__content\"><pre>ColumnTransformer(transformers=[('numerical',\n",
       "                                 Pipeline(steps=[('outlierhandle',\n",
       "                                                  OutlierReplace()),\n",
       "                                                 ('imputer',\n",
       "                                                  SimpleImputer(add_indicator=True,\n",
       "                                                                strategy='median')),\n",
       "                                                 ('scaler', PowerTransformer()),\n",
       "                                                 ('reducedim',\n",
       "                                                  SelectPercentile(percentile=90))]),\n",
       "                                 Index(['RevolvingUtilizationOfUnsecuredLines', 'DebtRatio',\n",
       "       'NumberOfTime60-89DaysPastDueNotWorse', 'NumberRealEsta...\n",
       "                                                                   score_func=<function mutual_info_classif at 0x7fab4fedf950>))]),\n",
       "                                 Index(['cat_RevolvingUtilizationOfUnsecuredLines', 'cat_DebtRatio',\n",
       "       'cat_MonthlyIncome', 'cat_NumberOfDependents',\n",
       "       'cat_NumberOfTime60-89DaysPastDueNotWorse',\n",
       "       'cat_NumberRealEstateLoansOrLines', 'cat_NumberOfTimes90DaysLate',\n",
       "       'cat_NumberOfOpenCreditLinesAndLoans',\n",
       "       'cat_NumberOfTime30-59DaysPastDueNotWorse', 'cat_age'],\n",
       "      dtype='object'))])</pre></div></div></div><div class=\"sk-parallel\"><div class=\"sk-parallel-item\"><div class=\"sk-item\"><div class=\"sk-label-container\"><div class=\"sk-label sk-toggleable\"><input class=\"sk-toggleable__control sk-hidden--visually\" id=\"6310be62-7173-4bda-b6c8-0d78ee439ee8\" type=\"checkbox\" ><label class=\"sk-toggleable__label\" for=\"6310be62-7173-4bda-b6c8-0d78ee439ee8\">numerical</label><div class=\"sk-toggleable__content\"><pre>Index(['RevolvingUtilizationOfUnsecuredLines', 'DebtRatio',\n",
       "       'NumberOfTime60-89DaysPastDueNotWorse', 'NumberRealEstateLoansOrLines',\n",
       "       'NumberOfTimes90DaysLate', 'NumberOfOpenCreditLinesAndLoans',\n",
       "       'NumberOfTime30-59DaysPastDueNotWorse', 'age'],\n",
       "      dtype='object')</pre></div></div></div><div class=\"sk-serial\"><div class=\"sk-item\"><div class=\"sk-serial\"><div class=\"sk-item\"><div class=\"sk-estimator sk-toggleable\"><input class=\"sk-toggleable__control sk-hidden--visually\" id=\"b97d0be7-e9c9-4cd4-aa24-d99faa7e3e76\" type=\"checkbox\" ><label class=\"sk-toggleable__label\" for=\"b97d0be7-e9c9-4cd4-aa24-d99faa7e3e76\">OutlierReplace</label><div class=\"sk-toggleable__content\"><pre>OutlierReplace()</pre></div></div></div><div class=\"sk-item\"><div class=\"sk-estimator sk-toggleable\"><input class=\"sk-toggleable__control sk-hidden--visually\" id=\"81fd005e-f20f-4a64-8909-051f1f027d27\" type=\"checkbox\" ><label class=\"sk-toggleable__label\" for=\"81fd005e-f20f-4a64-8909-051f1f027d27\">SimpleImputer</label><div class=\"sk-toggleable__content\"><pre>SimpleImputer(add_indicator=True, strategy='median')</pre></div></div></div><div class=\"sk-item\"><div class=\"sk-estimator sk-toggleable\"><input class=\"sk-toggleable__control sk-hidden--visually\" id=\"451caf76-0ae7-4a08-b59e-e9c647434cf4\" type=\"checkbox\" ><label class=\"sk-toggleable__label\" for=\"451caf76-0ae7-4a08-b59e-e9c647434cf4\">PowerTransformer</label><div class=\"sk-toggleable__content\"><pre>PowerTransformer()</pre></div></div></div><div class=\"sk-item\"><div class=\"sk-estimator sk-toggleable\"><input class=\"sk-toggleable__control sk-hidden--visually\" id=\"55b47e4b-94bf-4085-89b1-413a9fbfc63a\" type=\"checkbox\" ><label class=\"sk-toggleable__label\" for=\"55b47e4b-94bf-4085-89b1-413a9fbfc63a\">SelectPercentile</label><div class=\"sk-toggleable__content\"><pre>SelectPercentile(percentile=90)</pre></div></div></div></div></div></div></div></div><div class=\"sk-parallel-item\"><div class=\"sk-item\"><div class=\"sk-label-container\"><div class=\"sk-label sk-toggleable\"><input class=\"sk-toggleable__control sk-hidden--visually\" id=\"746a8b09-16aa-4dce-b29c-363b2237f100\" type=\"checkbox\" ><label class=\"sk-toggleable__label\" for=\"746a8b09-16aa-4dce-b29c-363b2237f100\">categorical</label><div class=\"sk-toggleable__content\"><pre>Index(['cat_RevolvingUtilizationOfUnsecuredLines', 'cat_DebtRatio',\n",
       "       'cat_MonthlyIncome', 'cat_NumberOfDependents',\n",
       "       'cat_NumberOfTime60-89DaysPastDueNotWorse',\n",
       "       'cat_NumberRealEstateLoansOrLines', 'cat_NumberOfTimes90DaysLate',\n",
       "       'cat_NumberOfOpenCreditLinesAndLoans',\n",
       "       'cat_NumberOfTime30-59DaysPastDueNotWorse', 'cat_age'],\n",
       "      dtype='object')</pre></div></div></div><div class=\"sk-serial\"><div class=\"sk-item\"><div class=\"sk-serial\"><div class=\"sk-item\"><div class=\"sk-estimator sk-toggleable\"><input class=\"sk-toggleable__control sk-hidden--visually\" id=\"3f8c8946-0c22-46c3-ad35-b25ce36d20cf\" type=\"checkbox\" ><label class=\"sk-toggleable__label\" for=\"3f8c8946-0c22-46c3-ad35-b25ce36d20cf\">SimpleImputer</label><div class=\"sk-toggleable__content\"><pre>SimpleImputer(add_indicator=True, fill_value='missing',\n",
       "              strategy='most_frequent')</pre></div></div></div><div class=\"sk-item\"><div class=\"sk-estimator sk-toggleable\"><input class=\"sk-toggleable__control sk-hidden--visually\" id=\"fbb8d3ce-798e-40b5-be09-a98878f0716f\" type=\"checkbox\" ><label class=\"sk-toggleable__label\" for=\"fbb8d3ce-798e-40b5-be09-a98878f0716f\">CatBoostEncoder</label><div class=\"sk-toggleable__content\"><pre>CatBoostEncoder()</pre></div></div></div><div class=\"sk-item\"><div class=\"sk-estimator sk-toggleable\"><input class=\"sk-toggleable__control sk-hidden--visually\" id=\"6d4ba71d-5820-42ec-a020-e06f6a4ece54\" type=\"checkbox\" ><label class=\"sk-toggleable__label\" for=\"6d4ba71d-5820-42ec-a020-e06f6a4ece54\">SelectPercentile</label><div class=\"sk-toggleable__content\"><pre>SelectPercentile(percentile=90,\n",
       "                 score_func=<function mutual_info_classif at 0x7fab4fedf950>)</pre></div></div></div></div></div></div></div></div></div></div><div class=\"sk-item\"><div class=\"sk-estimator sk-toggleable\"><input class=\"sk-toggleable__control sk-hidden--visually\" id=\"993797de-b19c-4851-b8c6-3e0e4af88bb3\" type=\"checkbox\" ><label class=\"sk-toggleable__label\" for=\"993797de-b19c-4851-b8c6-3e0e4af88bb3\">LGBMClassifier</label><div class=\"sk-toggleable__content\"><pre>LGBMClassifier(device_type='gpu', learning_rate=0.0018069834369607075,\n",
       "               max_depth=8, metric='auc', min_samples_leaf=47,\n",
       "               n_estimators=5000, random_state=42, subsample=0.8573598985000007,\n",
       "               verbose=-1)</pre></div></div></div></div></div></div></div>"
      ],
      "text/plain": [
       "Pipeline(steps=[('preprocessor',\n",
       "                 ColumnTransformer(transformers=[('numerical',\n",
       "                                                  Pipeline(steps=[('outlierhandle',\n",
       "                                                                   OutlierReplace()),\n",
       "                                                                  ('imputer',\n",
       "                                                                   SimpleImputer(add_indicator=True,\n",
       "                                                                                 strategy='median')),\n",
       "                                                                  ('scaler',\n",
       "                                                                   PowerTransformer()),\n",
       "                                                                  ('reducedim',\n",
       "                                                                   SelectPercentile(percentile=90))]),\n",
       "                                                  Index(['RevolvingUtilizationOfUnsecuredLines', 'DebtRatio',\n",
       "       'NumberOfTime60-89Days...\n",
       "       'cat_NumberRealEstateLoansOrLines', 'cat_NumberOfTimes90DaysLate',\n",
       "       'cat_NumberOfOpenCreditLinesAndLoans',\n",
       "       'cat_NumberOfTime30-59DaysPastDueNotWorse', 'cat_age'],\n",
       "      dtype='object'))])),\n",
       "                ('classifier',\n",
       "                 LGBMClassifier(device_type='gpu',\n",
       "                                learning_rate=0.0018069834369607075,\n",
       "                                max_depth=8, metric='auc', min_samples_leaf=47,\n",
       "                                n_estimators=5000, random_state=42,\n",
       "                                subsample=0.8573598985000007, verbose=-1))])"
      ]
     },
     "execution_count": 33,
     "metadata": {},
     "output_type": "execute_result"
    }
   ],
   "source": [
    "# Features union cat + num \n",
    "# WOE+PowerTransformer\n",
    "preprocessor_catboost_powertransformer_outlier_without_missing = ColumnTransformer(\n",
    "            transformers=[\n",
    "                ('numerical', numeric_transformer_outlier, num_columns_without_missing),\n",
    "                ('categorical', categorical_transformer_catboost, cat_columns_without_missing)\n",
    "            ]\n",
    "            )\n",
    "pipe_lgbm_catboost_powertransformer_outlier_without_missing = Pipeline(\n",
    "    steps=[\n",
    "        ('preprocessor', preprocessor_catboost_powertransformer_outlier_without_missing),\n",
    "        ('classifier', lgbm.LGBMClassifier( \n",
    "            #n_jobs=-1,\n",
    "                                           verbose=-1,\n",
    "                                           **lgbm_param))\n",
    "    ]\n",
    ")\n",
    "pipe_lgbm_catboost_powertransformer_outlier_without_missing"
   ]
  },
  {
   "cell_type": "markdown",
   "id": "98ce8c2c",
   "metadata": {
    "papermill": {
     "duration": 0.053713,
     "end_time": "2021-12-23T10:01:19.986358",
     "exception": false,
     "start_time": "2021-12-23T10:01:19.932645",
     "status": "completed"
    },
    "tags": []
   },
   "source": [
    "# Pipe 3: catboost +qauntile transformer  \n"
   ]
  },
  {
   "cell_type": "code",
   "execution_count": 34,
   "id": "b4236865",
   "metadata": {
    "execution": {
     "iopub.execute_input": "2021-12-23T10:01:20.147543Z",
     "iopub.status.busy": "2021-12-23T10:01:20.106520Z",
     "iopub.status.idle": "2021-12-23T10:01:20.663068Z",
     "shell.execute_reply": "2021-12-23T10:01:20.664046Z"
    },
    "papermill": {
     "duration": 0.623897,
     "end_time": "2021-12-23T10:01:20.664265",
     "exception": false,
     "start_time": "2021-12-23T10:01:20.040368",
     "status": "completed"
    },
    "tags": []
   },
   "outputs": [
    {
     "data": {
      "text/html": [
       "<style>div.sk-top-container {color: black;background-color: white;}div.sk-toggleable {background-color: white;}label.sk-toggleable__label {cursor: pointer;display: block;width: 100%;margin-bottom: 0;padding: 0.2em 0.3em;box-sizing: border-box;text-align: center;}div.sk-toggleable__content {max-height: 0;max-width: 0;overflow: hidden;text-align: left;background-color: #f0f8ff;}div.sk-toggleable__content pre {margin: 0.2em;color: black;border-radius: 0.25em;background-color: #f0f8ff;}input.sk-toggleable__control:checked~div.sk-toggleable__content {max-height: 200px;max-width: 100%;overflow: auto;}div.sk-estimator input.sk-toggleable__control:checked~label.sk-toggleable__label {background-color: #d4ebff;}div.sk-label input.sk-toggleable__control:checked~label.sk-toggleable__label {background-color: #d4ebff;}input.sk-hidden--visually {border: 0;clip: rect(1px 1px 1px 1px);clip: rect(1px, 1px, 1px, 1px);height: 1px;margin: -1px;overflow: hidden;padding: 0;position: absolute;width: 1px;}div.sk-estimator {font-family: monospace;background-color: #f0f8ff;margin: 0.25em 0.25em;border: 1px dotted black;border-radius: 0.25em;box-sizing: border-box;}div.sk-estimator:hover {background-color: #d4ebff;}div.sk-parallel-item::after {content: \"\";width: 100%;border-bottom: 1px solid gray;flex-grow: 1;}div.sk-label:hover label.sk-toggleable__label {background-color: #d4ebff;}div.sk-serial::before {content: \"\";position: absolute;border-left: 1px solid gray;box-sizing: border-box;top: 2em;bottom: 0;left: 50%;}div.sk-serial {display: flex;flex-direction: column;align-items: center;background-color: white;}div.sk-item {z-index: 1;}div.sk-parallel {display: flex;align-items: stretch;justify-content: center;background-color: white;}div.sk-parallel-item {display: flex;flex-direction: column;position: relative;background-color: white;}div.sk-parallel-item:first-child::after {align-self: flex-end;width: 50%;}div.sk-parallel-item:last-child::after {align-self: flex-start;width: 50%;}div.sk-parallel-item:only-child::after {width: 0;}div.sk-dashed-wrapped {border: 1px dashed gray;margin: 0.2em;box-sizing: border-box;padding-bottom: 0.1em;background-color: white;position: relative;}div.sk-label label {font-family: monospace;font-weight: bold;background-color: white;display: inline-block;line-height: 1.2em;}div.sk-label-container {position: relative;z-index: 2;text-align: center;}div.sk-container {display: inline-block;position: relative;}</style><div class=\"sk-top-container\"><div class=\"sk-container\"><div class=\"sk-item sk-dashed-wrapped\"><div class=\"sk-label-container\"><div class=\"sk-label sk-toggleable\"><input class=\"sk-toggleable__control sk-hidden--visually\" id=\"fefea3c2-1ffd-4d18-92c3-b49e511ffb8a\" type=\"checkbox\" ><label class=\"sk-toggleable__label\" for=\"fefea3c2-1ffd-4d18-92c3-b49e511ffb8a\">Pipeline</label><div class=\"sk-toggleable__content\"><pre>Pipeline(steps=[('preprocessor',\n",
       "                 ColumnTransformer(transformers=[('numerical',\n",
       "                                                  Pipeline(steps=[('imputer',\n",
       "                                                                   SimpleImputer(add_indicator=True,\n",
       "                                                                                 strategy='median')),\n",
       "                                                                  ('scaler',\n",
       "                                                                   QuantileTransformer()),\n",
       "                                                                  ('reducedim',\n",
       "                                                                   SelectPercentile(percentile=90))]),\n",
       "                                                  Index(['RevolvingUtilizationOfUnsecuredLines', 'DebtRatio', 'MonthlyIncome',\n",
       "       'NumberOfDependents', 'NumberOfTime60-8...\n",
       "       'cat_NumberRealEstateLoansOrLines', 'cat_NumberOfTimes90DaysLate',\n",
       "       'cat_NumberOfOpenCreditLinesAndLoans',\n",
       "       'cat_NumberOfTime30-59DaysPastDueNotWorse', 'cat_age'],\n",
       "      dtype='object'))])),\n",
       "                ('classifier',\n",
       "                 LGBMClassifier(device_type='gpu',\n",
       "                                learning_rate=0.0018069834369607075,\n",
       "                                max_depth=8, metric='auc', min_samples_leaf=47,\n",
       "                                n_estimators=5000, random_state=42,\n",
       "                                subsample=0.8573598985000007, verbose=-1))])</pre></div></div></div><div class=\"sk-serial\"><div class=\"sk-item sk-dashed-wrapped\"><div class=\"sk-label-container\"><div class=\"sk-label sk-toggleable\"><input class=\"sk-toggleable__control sk-hidden--visually\" id=\"0a5cbad3-0d35-433b-aa86-9ef22e998bf3\" type=\"checkbox\" ><label class=\"sk-toggleable__label\" for=\"0a5cbad3-0d35-433b-aa86-9ef22e998bf3\">preprocessor: ColumnTransformer</label><div class=\"sk-toggleable__content\"><pre>ColumnTransformer(transformers=[('numerical',\n",
       "                                 Pipeline(steps=[('imputer',\n",
       "                                                  SimpleImputer(add_indicator=True,\n",
       "                                                                strategy='median')),\n",
       "                                                 ('scaler',\n",
       "                                                  QuantileTransformer()),\n",
       "                                                 ('reducedim',\n",
       "                                                  SelectPercentile(percentile=90))]),\n",
       "                                 Index(['RevolvingUtilizationOfUnsecuredLines', 'DebtRatio', 'MonthlyIncome',\n",
       "       'NumberOfDependents', 'NumberOfTime60-89DaysPastDueNotWorse',\n",
       "       'NumberRea...\n",
       "                                                                   score_func=<function mutual_info_classif at 0x7fab4fedf950>))]),\n",
       "                                 Index(['cat_RevolvingUtilizationOfUnsecuredLines', 'cat_DebtRatio',\n",
       "       'cat_MonthlyIncome', 'cat_NumberOfDependents',\n",
       "       'cat_NumberOfTime60-89DaysPastDueNotWorse',\n",
       "       'cat_NumberRealEstateLoansOrLines', 'cat_NumberOfTimes90DaysLate',\n",
       "       'cat_NumberOfOpenCreditLinesAndLoans',\n",
       "       'cat_NumberOfTime30-59DaysPastDueNotWorse', 'cat_age'],\n",
       "      dtype='object'))])</pre></div></div></div><div class=\"sk-parallel\"><div class=\"sk-parallel-item\"><div class=\"sk-item\"><div class=\"sk-label-container\"><div class=\"sk-label sk-toggleable\"><input class=\"sk-toggleable__control sk-hidden--visually\" id=\"a64990aa-ba77-4e36-baa3-11a9347e229d\" type=\"checkbox\" ><label class=\"sk-toggleable__label\" for=\"a64990aa-ba77-4e36-baa3-11a9347e229d\">numerical</label><div class=\"sk-toggleable__content\"><pre>Index(['RevolvingUtilizationOfUnsecuredLines', 'DebtRatio', 'MonthlyIncome',\n",
       "       'NumberOfDependents', 'NumberOfTime60-89DaysPastDueNotWorse',\n",
       "       'NumberRealEstateLoansOrLines', 'NumberOfTimes90DaysLate',\n",
       "       'NumberOfOpenCreditLinesAndLoans',\n",
       "       'NumberOfTime30-59DaysPastDueNotWorse', 'age'],\n",
       "      dtype='object')</pre></div></div></div><div class=\"sk-serial\"><div class=\"sk-item\"><div class=\"sk-serial\"><div class=\"sk-item\"><div class=\"sk-estimator sk-toggleable\"><input class=\"sk-toggleable__control sk-hidden--visually\" id=\"50d22bc9-2ec3-44e3-8d59-d82d71b1f485\" type=\"checkbox\" ><label class=\"sk-toggleable__label\" for=\"50d22bc9-2ec3-44e3-8d59-d82d71b1f485\">SimpleImputer</label><div class=\"sk-toggleable__content\"><pre>SimpleImputer(add_indicator=True, strategy='median')</pre></div></div></div><div class=\"sk-item\"><div class=\"sk-estimator sk-toggleable\"><input class=\"sk-toggleable__control sk-hidden--visually\" id=\"b82525ad-3497-4378-b3ee-92bcc97ca37b\" type=\"checkbox\" ><label class=\"sk-toggleable__label\" for=\"b82525ad-3497-4378-b3ee-92bcc97ca37b\">QuantileTransformer</label><div class=\"sk-toggleable__content\"><pre>QuantileTransformer()</pre></div></div></div><div class=\"sk-item\"><div class=\"sk-estimator sk-toggleable\"><input class=\"sk-toggleable__control sk-hidden--visually\" id=\"84fca0d1-c11c-4464-a4c2-3d8b5798fc5e\" type=\"checkbox\" ><label class=\"sk-toggleable__label\" for=\"84fca0d1-c11c-4464-a4c2-3d8b5798fc5e\">SelectPercentile</label><div class=\"sk-toggleable__content\"><pre>SelectPercentile(percentile=90)</pre></div></div></div></div></div></div></div></div><div class=\"sk-parallel-item\"><div class=\"sk-item\"><div class=\"sk-label-container\"><div class=\"sk-label sk-toggleable\"><input class=\"sk-toggleable__control sk-hidden--visually\" id=\"0d5171aa-653a-469c-b71b-979a69976157\" type=\"checkbox\" ><label class=\"sk-toggleable__label\" for=\"0d5171aa-653a-469c-b71b-979a69976157\">categorical</label><div class=\"sk-toggleable__content\"><pre>Index(['cat_RevolvingUtilizationOfUnsecuredLines', 'cat_DebtRatio',\n",
       "       'cat_MonthlyIncome', 'cat_NumberOfDependents',\n",
       "       'cat_NumberOfTime60-89DaysPastDueNotWorse',\n",
       "       'cat_NumberRealEstateLoansOrLines', 'cat_NumberOfTimes90DaysLate',\n",
       "       'cat_NumberOfOpenCreditLinesAndLoans',\n",
       "       'cat_NumberOfTime30-59DaysPastDueNotWorse', 'cat_age'],\n",
       "      dtype='object')</pre></div></div></div><div class=\"sk-serial\"><div class=\"sk-item\"><div class=\"sk-serial\"><div class=\"sk-item\"><div class=\"sk-estimator sk-toggleable\"><input class=\"sk-toggleable__control sk-hidden--visually\" id=\"0caffb76-d5ce-43b7-acf6-7d9c621a0f8f\" type=\"checkbox\" ><label class=\"sk-toggleable__label\" for=\"0caffb76-d5ce-43b7-acf6-7d9c621a0f8f\">SimpleImputer</label><div class=\"sk-toggleable__content\"><pre>SimpleImputer(add_indicator=True, fill_value='missing',\n",
       "              strategy='most_frequent')</pre></div></div></div><div class=\"sk-item\"><div class=\"sk-estimator sk-toggleable\"><input class=\"sk-toggleable__control sk-hidden--visually\" id=\"432572b2-121d-490b-a1f7-c625f821e0b2\" type=\"checkbox\" ><label class=\"sk-toggleable__label\" for=\"432572b2-121d-490b-a1f7-c625f821e0b2\">CatBoostEncoder</label><div class=\"sk-toggleable__content\"><pre>CatBoostEncoder()</pre></div></div></div><div class=\"sk-item\"><div class=\"sk-estimator sk-toggleable\"><input class=\"sk-toggleable__control sk-hidden--visually\" id=\"fc91371a-d551-4ceb-af83-93941adc8477\" type=\"checkbox\" ><label class=\"sk-toggleable__label\" for=\"fc91371a-d551-4ceb-af83-93941adc8477\">SelectPercentile</label><div class=\"sk-toggleable__content\"><pre>SelectPercentile(percentile=90,\n",
       "                 score_func=<function mutual_info_classif at 0x7fab4fedf950>)</pre></div></div></div></div></div></div></div></div></div></div><div class=\"sk-item\"><div class=\"sk-estimator sk-toggleable\"><input class=\"sk-toggleable__control sk-hidden--visually\" id=\"fdc1b355-c2dc-4bd2-bf95-b7c66789ec0c\" type=\"checkbox\" ><label class=\"sk-toggleable__label\" for=\"fdc1b355-c2dc-4bd2-bf95-b7c66789ec0c\">LGBMClassifier</label><div class=\"sk-toggleable__content\"><pre>LGBMClassifier(device_type='gpu', learning_rate=0.0018069834369607075,\n",
       "               max_depth=8, metric='auc', min_samples_leaf=47,\n",
       "               n_estimators=5000, random_state=42, subsample=0.8573598985000007,\n",
       "               verbose=-1)</pre></div></div></div></div></div></div></div>"
      ],
      "text/plain": [
       "Pipeline(steps=[('preprocessor',\n",
       "                 ColumnTransformer(transformers=[('numerical',\n",
       "                                                  Pipeline(steps=[('imputer',\n",
       "                                                                   SimpleImputer(add_indicator=True,\n",
       "                                                                                 strategy='median')),\n",
       "                                                                  ('scaler',\n",
       "                                                                   QuantileTransformer()),\n",
       "                                                                  ('reducedim',\n",
       "                                                                   SelectPercentile(percentile=90))]),\n",
       "                                                  Index(['RevolvingUtilizationOfUnsecuredLines', 'DebtRatio', 'MonthlyIncome',\n",
       "       'NumberOfDependents', 'NumberOfTime60-8...\n",
       "       'cat_NumberRealEstateLoansOrLines', 'cat_NumberOfTimes90DaysLate',\n",
       "       'cat_NumberOfOpenCreditLinesAndLoans',\n",
       "       'cat_NumberOfTime30-59DaysPastDueNotWorse', 'cat_age'],\n",
       "      dtype='object'))])),\n",
       "                ('classifier',\n",
       "                 LGBMClassifier(device_type='gpu',\n",
       "                                learning_rate=0.0018069834369607075,\n",
       "                                max_depth=8, metric='auc', min_samples_leaf=47,\n",
       "                                n_estimators=5000, random_state=42,\n",
       "                                subsample=0.8573598985000007, verbose=-1))])"
      ]
     },
     "execution_count": 34,
     "metadata": {},
     "output_type": "execute_result"
    }
   ],
   "source": [
    "# complete pipe :\n",
    "# select the float/cat columns\n",
    "#cat_feautres = X.select_dtypes(include=['object','category']).columns\n",
    "#num_features = X.select_dtypes(exclude=['object','category']).columns\n",
    "categorical_transformer_catboost = Pipeline(\n",
    "                    steps=[\n",
    "                        ('imputer', SimpleImputer(strategy='most_frequent',\n",
    "                                                  fill_value='missing',\n",
    "                                                  add_indicator=True)),\n",
    "                        ('encoder',  ce.cat_boost.CatBoostEncoder()),#(Numerical Input, Categorical Output)\n",
    "                         ('reducedim',  SelectPercentile( mutual_info_classif,\n",
    "                                                        percentile=90))\n",
    "\n",
    "                    ]\n",
    "                    ) \n",
    "numeric_transformer_quantile = Pipeline(\n",
    "                            steps=[\n",
    "                            ('imputer', SimpleImputer(strategy='median'\n",
    "                                                      ,add_indicator=True)),\n",
    "                            ('scaler', QuantileTransformer()),#(Numerical Input, Numerical Output)\n",
    "                            # Create an SelectKBest object to select features with two best ANOVA F-Values\n",
    "                            #The F-value scores examine if, when we group the numerical feature by the target vector, the means for each group are significantly different\n",
    "                            ('reducedim',  SelectPercentile(f_classif,\n",
    "                                                            percentile=90))\n",
    "                                # i used 90 before\n",
    "\n",
    "                            ]\n",
    "                            )\n",
    "# Features union cat + num \n",
    "# Catboost+QuantileTransformer\n",
    "preprocessor_catboost_qauntile = ColumnTransformer(\n",
    "            transformers=[\n",
    "                ('numerical', numeric_transformer_quantile, num_columns),\n",
    "                ('categorical', categorical_transformer_catboost, cat_columns)\n",
    "            ]\n",
    "            )\n",
    "pipe_lgbm_catboost_qauntile = Pipeline(\n",
    "    steps=[\n",
    "        ('preprocessor', preprocessor_catboost_qauntile),\n",
    "        ('classifier', lgbm.LGBMClassifier( \n",
    "            #n_jobs=-1,\n",
    "                                           verbose=-1,\n",
    "                                           **lgbm_param))\n",
    "    ]\n",
    ")\n",
    "pipe_lgbm_catboost_qauntile"
   ]
  },
  {
   "cell_type": "markdown",
   "id": "fca0885d",
   "metadata": {
    "papermill": {
     "duration": 0.087664,
     "end_time": "2021-12-23T10:01:20.840312",
     "exception": false,
     "start_time": "2021-12-23T10:01:20.752648",
     "status": "completed"
    },
    "tags": []
   },
   "source": [
    "## Add Outlier Handle:catboost +qauntile transformer  "
   ]
  },
  {
   "cell_type": "code",
   "execution_count": 35,
   "id": "84566022",
   "metadata": {
    "execution": {
     "iopub.execute_input": "2021-12-23T10:01:21.047638Z",
     "iopub.status.busy": "2021-12-23T10:01:21.031976Z",
     "iopub.status.idle": "2021-12-23T10:01:21.509306Z",
     "shell.execute_reply": "2021-12-23T10:01:21.509742Z"
    },
    "papermill": {
     "duration": 0.580535,
     "end_time": "2021-12-23T10:01:21.509893",
     "exception": false,
     "start_time": "2021-12-23T10:01:20.929358",
     "status": "completed"
    },
    "tags": []
   },
   "outputs": [
    {
     "data": {
      "text/html": [
       "<style>div.sk-top-container {color: black;background-color: white;}div.sk-toggleable {background-color: white;}label.sk-toggleable__label {cursor: pointer;display: block;width: 100%;margin-bottom: 0;padding: 0.2em 0.3em;box-sizing: border-box;text-align: center;}div.sk-toggleable__content {max-height: 0;max-width: 0;overflow: hidden;text-align: left;background-color: #f0f8ff;}div.sk-toggleable__content pre {margin: 0.2em;color: black;border-radius: 0.25em;background-color: #f0f8ff;}input.sk-toggleable__control:checked~div.sk-toggleable__content {max-height: 200px;max-width: 100%;overflow: auto;}div.sk-estimator input.sk-toggleable__control:checked~label.sk-toggleable__label {background-color: #d4ebff;}div.sk-label input.sk-toggleable__control:checked~label.sk-toggleable__label {background-color: #d4ebff;}input.sk-hidden--visually {border: 0;clip: rect(1px 1px 1px 1px);clip: rect(1px, 1px, 1px, 1px);height: 1px;margin: -1px;overflow: hidden;padding: 0;position: absolute;width: 1px;}div.sk-estimator {font-family: monospace;background-color: #f0f8ff;margin: 0.25em 0.25em;border: 1px dotted black;border-radius: 0.25em;box-sizing: border-box;}div.sk-estimator:hover {background-color: #d4ebff;}div.sk-parallel-item::after {content: \"\";width: 100%;border-bottom: 1px solid gray;flex-grow: 1;}div.sk-label:hover label.sk-toggleable__label {background-color: #d4ebff;}div.sk-serial::before {content: \"\";position: absolute;border-left: 1px solid gray;box-sizing: border-box;top: 2em;bottom: 0;left: 50%;}div.sk-serial {display: flex;flex-direction: column;align-items: center;background-color: white;}div.sk-item {z-index: 1;}div.sk-parallel {display: flex;align-items: stretch;justify-content: center;background-color: white;}div.sk-parallel-item {display: flex;flex-direction: column;position: relative;background-color: white;}div.sk-parallel-item:first-child::after {align-self: flex-end;width: 50%;}div.sk-parallel-item:last-child::after {align-self: flex-start;width: 50%;}div.sk-parallel-item:only-child::after {width: 0;}div.sk-dashed-wrapped {border: 1px dashed gray;margin: 0.2em;box-sizing: border-box;padding-bottom: 0.1em;background-color: white;position: relative;}div.sk-label label {font-family: monospace;font-weight: bold;background-color: white;display: inline-block;line-height: 1.2em;}div.sk-label-container {position: relative;z-index: 2;text-align: center;}div.sk-container {display: inline-block;position: relative;}</style><div class=\"sk-top-container\"><div class=\"sk-container\"><div class=\"sk-item sk-dashed-wrapped\"><div class=\"sk-label-container\"><div class=\"sk-label sk-toggleable\"><input class=\"sk-toggleable__control sk-hidden--visually\" id=\"80e215e6-de51-4348-b907-cb63ad0832b0\" type=\"checkbox\" ><label class=\"sk-toggleable__label\" for=\"80e215e6-de51-4348-b907-cb63ad0832b0\">Pipeline</label><div class=\"sk-toggleable__content\"><pre>Pipeline(steps=[('preprocessor',\n",
       "                 ColumnTransformer(transformers=[('numerical',\n",
       "                                                  Pipeline(steps=[('outlierhandle',\n",
       "                                                                   OutlierReplace()),\n",
       "                                                                  ('imputer',\n",
       "                                                                   SimpleImputer(add_indicator=True,\n",
       "                                                                                 strategy='median')),\n",
       "                                                                  ('scaler',\n",
       "                                                                   QuantileTransformer()),\n",
       "                                                                  ('reducedim',\n",
       "                                                                   SelectPercentile(percentile=90))]),\n",
       "                                                  Index(['RevolvingUtilizationOfUnsecuredLines', 'DebtRatio', 'MonthlyIncome',\n",
       "       'Nu...\n",
       "       'cat_NumberRealEstateLoansOrLines', 'cat_NumberOfTimes90DaysLate',\n",
       "       'cat_NumberOfOpenCreditLinesAndLoans',\n",
       "       'cat_NumberOfTime30-59DaysPastDueNotWorse', 'cat_age'],\n",
       "      dtype='object'))])),\n",
       "                ('classifier',\n",
       "                 LGBMClassifier(device_type='gpu',\n",
       "                                learning_rate=0.0018069834369607075,\n",
       "                                max_depth=8, metric='auc', min_samples_leaf=47,\n",
       "                                n_estimators=5000, random_state=42,\n",
       "                                subsample=0.8573598985000007, verbose=-1))])</pre></div></div></div><div class=\"sk-serial\"><div class=\"sk-item sk-dashed-wrapped\"><div class=\"sk-label-container\"><div class=\"sk-label sk-toggleable\"><input class=\"sk-toggleable__control sk-hidden--visually\" id=\"ee7fe5bd-8837-4d6f-83c3-cdd585263bd6\" type=\"checkbox\" ><label class=\"sk-toggleable__label\" for=\"ee7fe5bd-8837-4d6f-83c3-cdd585263bd6\">preprocessor: ColumnTransformer</label><div class=\"sk-toggleable__content\"><pre>ColumnTransformer(transformers=[('numerical',\n",
       "                                 Pipeline(steps=[('outlierhandle',\n",
       "                                                  OutlierReplace()),\n",
       "                                                 ('imputer',\n",
       "                                                  SimpleImputer(add_indicator=True,\n",
       "                                                                strategy='median')),\n",
       "                                                 ('scaler',\n",
       "                                                  QuantileTransformer()),\n",
       "                                                 ('reducedim',\n",
       "                                                  SelectPercentile(percentile=90))]),\n",
       "                                 Index(['RevolvingUtilizationOfUnsecuredLines', 'DebtRatio', 'MonthlyIncome',\n",
       "       'NumberOfDependents', 'NumberOfTime6...\n",
       "                                                                   score_func=<function mutual_info_classif at 0x7fab4fedf950>))]),\n",
       "                                 Index(['cat_RevolvingUtilizationOfUnsecuredLines', 'cat_DebtRatio',\n",
       "       'cat_MonthlyIncome', 'cat_NumberOfDependents',\n",
       "       'cat_NumberOfTime60-89DaysPastDueNotWorse',\n",
       "       'cat_NumberRealEstateLoansOrLines', 'cat_NumberOfTimes90DaysLate',\n",
       "       'cat_NumberOfOpenCreditLinesAndLoans',\n",
       "       'cat_NumberOfTime30-59DaysPastDueNotWorse', 'cat_age'],\n",
       "      dtype='object'))])</pre></div></div></div><div class=\"sk-parallel\"><div class=\"sk-parallel-item\"><div class=\"sk-item\"><div class=\"sk-label-container\"><div class=\"sk-label sk-toggleable\"><input class=\"sk-toggleable__control sk-hidden--visually\" id=\"d82c49a6-2e7a-41b7-9097-9428c49c3e24\" type=\"checkbox\" ><label class=\"sk-toggleable__label\" for=\"d82c49a6-2e7a-41b7-9097-9428c49c3e24\">numerical</label><div class=\"sk-toggleable__content\"><pre>Index(['RevolvingUtilizationOfUnsecuredLines', 'DebtRatio', 'MonthlyIncome',\n",
       "       'NumberOfDependents', 'NumberOfTime60-89DaysPastDueNotWorse',\n",
       "       'NumberRealEstateLoansOrLines', 'NumberOfTimes90DaysLate',\n",
       "       'NumberOfOpenCreditLinesAndLoans',\n",
       "       'NumberOfTime30-59DaysPastDueNotWorse', 'age'],\n",
       "      dtype='object')</pre></div></div></div><div class=\"sk-serial\"><div class=\"sk-item\"><div class=\"sk-serial\"><div class=\"sk-item\"><div class=\"sk-estimator sk-toggleable\"><input class=\"sk-toggleable__control sk-hidden--visually\" id=\"beee8ea9-9f63-496e-8bd0-614af752d0e3\" type=\"checkbox\" ><label class=\"sk-toggleable__label\" for=\"beee8ea9-9f63-496e-8bd0-614af752d0e3\">OutlierReplace</label><div class=\"sk-toggleable__content\"><pre>OutlierReplace()</pre></div></div></div><div class=\"sk-item\"><div class=\"sk-estimator sk-toggleable\"><input class=\"sk-toggleable__control sk-hidden--visually\" id=\"ff2d2781-8609-4102-b7cb-ef9fe83a06aa\" type=\"checkbox\" ><label class=\"sk-toggleable__label\" for=\"ff2d2781-8609-4102-b7cb-ef9fe83a06aa\">SimpleImputer</label><div class=\"sk-toggleable__content\"><pre>SimpleImputer(add_indicator=True, strategy='median')</pre></div></div></div><div class=\"sk-item\"><div class=\"sk-estimator sk-toggleable\"><input class=\"sk-toggleable__control sk-hidden--visually\" id=\"7cf06d79-df91-47ed-8dd3-0ab038c28b75\" type=\"checkbox\" ><label class=\"sk-toggleable__label\" for=\"7cf06d79-df91-47ed-8dd3-0ab038c28b75\">QuantileTransformer</label><div class=\"sk-toggleable__content\"><pre>QuantileTransformer()</pre></div></div></div><div class=\"sk-item\"><div class=\"sk-estimator sk-toggleable\"><input class=\"sk-toggleable__control sk-hidden--visually\" id=\"089ff22f-f82c-49cb-8577-ef97c7d506e2\" type=\"checkbox\" ><label class=\"sk-toggleable__label\" for=\"089ff22f-f82c-49cb-8577-ef97c7d506e2\">SelectPercentile</label><div class=\"sk-toggleable__content\"><pre>SelectPercentile(percentile=90)</pre></div></div></div></div></div></div></div></div><div class=\"sk-parallel-item\"><div class=\"sk-item\"><div class=\"sk-label-container\"><div class=\"sk-label sk-toggleable\"><input class=\"sk-toggleable__control sk-hidden--visually\" id=\"9ec9f4e3-9ce5-48c0-a1b6-5da46d941fde\" type=\"checkbox\" ><label class=\"sk-toggleable__label\" for=\"9ec9f4e3-9ce5-48c0-a1b6-5da46d941fde\">categorical</label><div class=\"sk-toggleable__content\"><pre>Index(['cat_RevolvingUtilizationOfUnsecuredLines', 'cat_DebtRatio',\n",
       "       'cat_MonthlyIncome', 'cat_NumberOfDependents',\n",
       "       'cat_NumberOfTime60-89DaysPastDueNotWorse',\n",
       "       'cat_NumberRealEstateLoansOrLines', 'cat_NumberOfTimes90DaysLate',\n",
       "       'cat_NumberOfOpenCreditLinesAndLoans',\n",
       "       'cat_NumberOfTime30-59DaysPastDueNotWorse', 'cat_age'],\n",
       "      dtype='object')</pre></div></div></div><div class=\"sk-serial\"><div class=\"sk-item\"><div class=\"sk-serial\"><div class=\"sk-item\"><div class=\"sk-estimator sk-toggleable\"><input class=\"sk-toggleable__control sk-hidden--visually\" id=\"fab4da5d-cf4e-43af-bb73-324b3039111e\" type=\"checkbox\" ><label class=\"sk-toggleable__label\" for=\"fab4da5d-cf4e-43af-bb73-324b3039111e\">SimpleImputer</label><div class=\"sk-toggleable__content\"><pre>SimpleImputer(add_indicator=True, fill_value='missing',\n",
       "              strategy='most_frequent')</pre></div></div></div><div class=\"sk-item\"><div class=\"sk-estimator sk-toggleable\"><input class=\"sk-toggleable__control sk-hidden--visually\" id=\"92249ca6-da71-4d7a-875a-9fb6ae2e7054\" type=\"checkbox\" ><label class=\"sk-toggleable__label\" for=\"92249ca6-da71-4d7a-875a-9fb6ae2e7054\">CatBoostEncoder</label><div class=\"sk-toggleable__content\"><pre>CatBoostEncoder()</pre></div></div></div><div class=\"sk-item\"><div class=\"sk-estimator sk-toggleable\"><input class=\"sk-toggleable__control sk-hidden--visually\" id=\"eb09a224-8664-4383-9487-d58ed4f223dd\" type=\"checkbox\" ><label class=\"sk-toggleable__label\" for=\"eb09a224-8664-4383-9487-d58ed4f223dd\">SelectPercentile</label><div class=\"sk-toggleable__content\"><pre>SelectPercentile(percentile=90,\n",
       "                 score_func=<function mutual_info_classif at 0x7fab4fedf950>)</pre></div></div></div></div></div></div></div></div></div></div><div class=\"sk-item\"><div class=\"sk-estimator sk-toggleable\"><input class=\"sk-toggleable__control sk-hidden--visually\" id=\"cce09113-9cf2-4cfd-9294-dd9dd6c974e3\" type=\"checkbox\" ><label class=\"sk-toggleable__label\" for=\"cce09113-9cf2-4cfd-9294-dd9dd6c974e3\">LGBMClassifier</label><div class=\"sk-toggleable__content\"><pre>LGBMClassifier(device_type='gpu', learning_rate=0.0018069834369607075,\n",
       "               max_depth=8, metric='auc', min_samples_leaf=47,\n",
       "               n_estimators=5000, random_state=42, subsample=0.8573598985000007,\n",
       "               verbose=-1)</pre></div></div></div></div></div></div></div>"
      ],
      "text/plain": [
       "Pipeline(steps=[('preprocessor',\n",
       "                 ColumnTransformer(transformers=[('numerical',\n",
       "                                                  Pipeline(steps=[('outlierhandle',\n",
       "                                                                   OutlierReplace()),\n",
       "                                                                  ('imputer',\n",
       "                                                                   SimpleImputer(add_indicator=True,\n",
       "                                                                                 strategy='median')),\n",
       "                                                                  ('scaler',\n",
       "                                                                   QuantileTransformer()),\n",
       "                                                                  ('reducedim',\n",
       "                                                                   SelectPercentile(percentile=90))]),\n",
       "                                                  Index(['RevolvingUtilizationOfUnsecuredLines', 'DebtRatio', 'MonthlyIncome',\n",
       "       'Nu...\n",
       "       'cat_NumberRealEstateLoansOrLines', 'cat_NumberOfTimes90DaysLate',\n",
       "       'cat_NumberOfOpenCreditLinesAndLoans',\n",
       "       'cat_NumberOfTime30-59DaysPastDueNotWorse', 'cat_age'],\n",
       "      dtype='object'))])),\n",
       "                ('classifier',\n",
       "                 LGBMClassifier(device_type='gpu',\n",
       "                                learning_rate=0.0018069834369607075,\n",
       "                                max_depth=8, metric='auc', min_samples_leaf=47,\n",
       "                                n_estimators=5000, random_state=42,\n",
       "                                subsample=0.8573598985000007, verbose=-1))])"
      ]
     },
     "execution_count": 35,
     "metadata": {},
     "output_type": "execute_result"
    }
   ],
   "source": [
    "# complete pipe :\n",
    "# select the float/cat columns\n",
    "#cat_feautres = X.select_dtypes(include=['object','category']).columns\n",
    "#num_features = X.select_dtypes(exclude=['object','category']).columns\n",
    "categorical_transformer_catboost = Pipeline(\n",
    "                    steps=[\n",
    "                        ('imputer', SimpleImputer(strategy='most_frequent',\n",
    "                                                  fill_value='missing',\n",
    "                                                  add_indicator=True)),\n",
    "                        ('encoder',  ce.cat_boost.CatBoostEncoder()),#(Numerical Input, Categorical Output)\n",
    "                         ('reducedim',  SelectPercentile( mutual_info_classif,\n",
    "                                                        percentile=90))\n",
    "\n",
    "                    ]\n",
    "                    ) \n",
    "numeric_transformer_quantile_outlier = Pipeline(\n",
    "                            steps=[('outlierhandle', OutlierReplace()),\n",
    "                            ('imputer', SimpleImputer(strategy='median'\n",
    "                                                      ,add_indicator=True)),\n",
    "                            ('scaler', QuantileTransformer()),#(Numerical Input, Numerical Output)\n",
    "                            # Create an SelectKBest object to select features with two best ANOVA F-Values\n",
    "                            #The F-value scores examine if, when we group the numerical feature by the target vector, the means for each group are significantly different\n",
    "                            ('reducedim',  SelectPercentile(f_classif,\n",
    "                                                            percentile=90))\n",
    "                                # i used 90 before\n",
    "\n",
    "                            ]\n",
    "                            )\n",
    "# Features union cat + num \n",
    "# Catboost+QuantileTransformer\n",
    "preprocessor_catboost_qauntile_outlier = ColumnTransformer(\n",
    "            transformers=[\n",
    "                ('numerical', numeric_transformer_quantile_outlier, num_columns),\n",
    "                ('categorical', categorical_transformer_catboost, cat_columns)\n",
    "            ]\n",
    "            )\n",
    "pipe_lgbm_catboost_qauntile_outlier = Pipeline(\n",
    "    steps=[\n",
    "        ('preprocessor', preprocessor_catboost_qauntile_outlier),\n",
    "        ('classifier', lgbm.LGBMClassifier( \n",
    "            #n_jobs=-1,\n",
    "                                           verbose=-1,\n",
    "                                           **lgbm_param))\n",
    "    ]\n",
    ")\n",
    "\n",
    "pipe_lgbm_catboost_qauntile_outlier"
   ]
  },
  {
   "cell_type": "markdown",
   "id": "c44b0191",
   "metadata": {
    "papermill": {
     "duration": 0.054758,
     "end_time": "2021-12-23T10:01:21.620535",
     "exception": false,
     "start_time": "2021-12-23T10:01:21.565777",
     "status": "completed"
    },
    "tags": []
   },
   "source": [
    "## Drop Missing:catboost +qauntile transformer  "
   ]
  },
  {
   "cell_type": "code",
   "execution_count": 36,
   "id": "d215e06c",
   "metadata": {
    "execution": {
     "iopub.execute_input": "2021-12-23T10:01:21.789186Z",
     "iopub.status.busy": "2021-12-23T10:01:21.763367Z",
     "iopub.status.idle": "2021-12-23T10:01:22.181070Z",
     "shell.execute_reply": "2021-12-23T10:01:22.181494Z"
    },
    "papermill": {
     "duration": 0.506787,
     "end_time": "2021-12-23T10:01:22.181676",
     "exception": false,
     "start_time": "2021-12-23T10:01:21.674889",
     "status": "completed"
    },
    "tags": []
   },
   "outputs": [
    {
     "data": {
      "text/html": [
       "<style>div.sk-top-container {color: black;background-color: white;}div.sk-toggleable {background-color: white;}label.sk-toggleable__label {cursor: pointer;display: block;width: 100%;margin-bottom: 0;padding: 0.2em 0.3em;box-sizing: border-box;text-align: center;}div.sk-toggleable__content {max-height: 0;max-width: 0;overflow: hidden;text-align: left;background-color: #f0f8ff;}div.sk-toggleable__content pre {margin: 0.2em;color: black;border-radius: 0.25em;background-color: #f0f8ff;}input.sk-toggleable__control:checked~div.sk-toggleable__content {max-height: 200px;max-width: 100%;overflow: auto;}div.sk-estimator input.sk-toggleable__control:checked~label.sk-toggleable__label {background-color: #d4ebff;}div.sk-label input.sk-toggleable__control:checked~label.sk-toggleable__label {background-color: #d4ebff;}input.sk-hidden--visually {border: 0;clip: rect(1px 1px 1px 1px);clip: rect(1px, 1px, 1px, 1px);height: 1px;margin: -1px;overflow: hidden;padding: 0;position: absolute;width: 1px;}div.sk-estimator {font-family: monospace;background-color: #f0f8ff;margin: 0.25em 0.25em;border: 1px dotted black;border-radius: 0.25em;box-sizing: border-box;}div.sk-estimator:hover {background-color: #d4ebff;}div.sk-parallel-item::after {content: \"\";width: 100%;border-bottom: 1px solid gray;flex-grow: 1;}div.sk-label:hover label.sk-toggleable__label {background-color: #d4ebff;}div.sk-serial::before {content: \"\";position: absolute;border-left: 1px solid gray;box-sizing: border-box;top: 2em;bottom: 0;left: 50%;}div.sk-serial {display: flex;flex-direction: column;align-items: center;background-color: white;}div.sk-item {z-index: 1;}div.sk-parallel {display: flex;align-items: stretch;justify-content: center;background-color: white;}div.sk-parallel-item {display: flex;flex-direction: column;position: relative;background-color: white;}div.sk-parallel-item:first-child::after {align-self: flex-end;width: 50%;}div.sk-parallel-item:last-child::after {align-self: flex-start;width: 50%;}div.sk-parallel-item:only-child::after {width: 0;}div.sk-dashed-wrapped {border: 1px dashed gray;margin: 0.2em;box-sizing: border-box;padding-bottom: 0.1em;background-color: white;position: relative;}div.sk-label label {font-family: monospace;font-weight: bold;background-color: white;display: inline-block;line-height: 1.2em;}div.sk-label-container {position: relative;z-index: 2;text-align: center;}div.sk-container {display: inline-block;position: relative;}</style><div class=\"sk-top-container\"><div class=\"sk-container\"><div class=\"sk-item sk-dashed-wrapped\"><div class=\"sk-label-container\"><div class=\"sk-label sk-toggleable\"><input class=\"sk-toggleable__control sk-hidden--visually\" id=\"ca3b94ae-13c0-42c5-a96f-663fff07a1db\" type=\"checkbox\" ><label class=\"sk-toggleable__label\" for=\"ca3b94ae-13c0-42c5-a96f-663fff07a1db\">Pipeline</label><div class=\"sk-toggleable__content\"><pre>Pipeline(steps=[('preprocessor',\n",
       "                 ColumnTransformer(transformers=[('numerical',\n",
       "                                                  Pipeline(steps=[('imputer',\n",
       "                                                                   SimpleImputer(add_indicator=True,\n",
       "                                                                                 strategy='median')),\n",
       "                                                                  ('scaler',\n",
       "                                                                   QuantileTransformer()),\n",
       "                                                                  ('reducedim',\n",
       "                                                                   SelectPercentile(percentile=90))]),\n",
       "                                                  Index(['RevolvingUtilizationOfUnsecuredLines', 'DebtRatio',\n",
       "       'NumberOfTime60-89DaysPastDueNotWorse', 'NumberRealEsta...\n",
       "       'cat_NumberRealEstateLoansOrLines', 'cat_NumberOfTimes90DaysLate',\n",
       "       'cat_NumberOfOpenCreditLinesAndLoans',\n",
       "       'cat_NumberOfTime30-59DaysPastDueNotWorse', 'cat_age'],\n",
       "      dtype='object'))])),\n",
       "                ('classifier',\n",
       "                 LGBMClassifier(device_type='gpu',\n",
       "                                learning_rate=0.0018069834369607075,\n",
       "                                max_depth=8, metric='auc', min_samples_leaf=47,\n",
       "                                n_estimators=5000, random_state=42,\n",
       "                                subsample=0.8573598985000007, verbose=-1))])</pre></div></div></div><div class=\"sk-serial\"><div class=\"sk-item sk-dashed-wrapped\"><div class=\"sk-label-container\"><div class=\"sk-label sk-toggleable\"><input class=\"sk-toggleable__control sk-hidden--visually\" id=\"e0d9630b-86f2-4e55-98b3-e9718a9c2db0\" type=\"checkbox\" ><label class=\"sk-toggleable__label\" for=\"e0d9630b-86f2-4e55-98b3-e9718a9c2db0\">preprocessor: ColumnTransformer</label><div class=\"sk-toggleable__content\"><pre>ColumnTransformer(transformers=[('numerical',\n",
       "                                 Pipeline(steps=[('imputer',\n",
       "                                                  SimpleImputer(add_indicator=True,\n",
       "                                                                strategy='median')),\n",
       "                                                 ('scaler',\n",
       "                                                  QuantileTransformer()),\n",
       "                                                 ('reducedim',\n",
       "                                                  SelectPercentile(percentile=90))]),\n",
       "                                 Index(['RevolvingUtilizationOfUnsecuredLines', 'DebtRatio',\n",
       "       'NumberOfTime60-89DaysPastDueNotWorse', 'NumberRealEstateLoansOrLines',\n",
       "       'NumberOfTimes90...\n",
       "                                                                   score_func=<function mutual_info_classif at 0x7fab4fedf950>))]),\n",
       "                                 Index(['cat_RevolvingUtilizationOfUnsecuredLines', 'cat_DebtRatio',\n",
       "       'cat_MonthlyIncome', 'cat_NumberOfDependents',\n",
       "       'cat_NumberOfTime60-89DaysPastDueNotWorse',\n",
       "       'cat_NumberRealEstateLoansOrLines', 'cat_NumberOfTimes90DaysLate',\n",
       "       'cat_NumberOfOpenCreditLinesAndLoans',\n",
       "       'cat_NumberOfTime30-59DaysPastDueNotWorse', 'cat_age'],\n",
       "      dtype='object'))])</pre></div></div></div><div class=\"sk-parallel\"><div class=\"sk-parallel-item\"><div class=\"sk-item\"><div class=\"sk-label-container\"><div class=\"sk-label sk-toggleable\"><input class=\"sk-toggleable__control sk-hidden--visually\" id=\"ff9beb3d-800a-4af7-aaf5-6e6d13e02219\" type=\"checkbox\" ><label class=\"sk-toggleable__label\" for=\"ff9beb3d-800a-4af7-aaf5-6e6d13e02219\">numerical</label><div class=\"sk-toggleable__content\"><pre>Index(['RevolvingUtilizationOfUnsecuredLines', 'DebtRatio',\n",
       "       'NumberOfTime60-89DaysPastDueNotWorse', 'NumberRealEstateLoansOrLines',\n",
       "       'NumberOfTimes90DaysLate', 'NumberOfOpenCreditLinesAndLoans',\n",
       "       'NumberOfTime30-59DaysPastDueNotWorse', 'age'],\n",
       "      dtype='object')</pre></div></div></div><div class=\"sk-serial\"><div class=\"sk-item\"><div class=\"sk-serial\"><div class=\"sk-item\"><div class=\"sk-estimator sk-toggleable\"><input class=\"sk-toggleable__control sk-hidden--visually\" id=\"f29b3dba-c5b3-4d0b-8ad2-b00dc5d00e45\" type=\"checkbox\" ><label class=\"sk-toggleable__label\" for=\"f29b3dba-c5b3-4d0b-8ad2-b00dc5d00e45\">SimpleImputer</label><div class=\"sk-toggleable__content\"><pre>SimpleImputer(add_indicator=True, strategy='median')</pre></div></div></div><div class=\"sk-item\"><div class=\"sk-estimator sk-toggleable\"><input class=\"sk-toggleable__control sk-hidden--visually\" id=\"d40af509-4840-4c47-9c5d-31f3f379c963\" type=\"checkbox\" ><label class=\"sk-toggleable__label\" for=\"d40af509-4840-4c47-9c5d-31f3f379c963\">QuantileTransformer</label><div class=\"sk-toggleable__content\"><pre>QuantileTransformer()</pre></div></div></div><div class=\"sk-item\"><div class=\"sk-estimator sk-toggleable\"><input class=\"sk-toggleable__control sk-hidden--visually\" id=\"84fd2933-93bc-4e6d-8ca3-5871c5347300\" type=\"checkbox\" ><label class=\"sk-toggleable__label\" for=\"84fd2933-93bc-4e6d-8ca3-5871c5347300\">SelectPercentile</label><div class=\"sk-toggleable__content\"><pre>SelectPercentile(percentile=90)</pre></div></div></div></div></div></div></div></div><div class=\"sk-parallel-item\"><div class=\"sk-item\"><div class=\"sk-label-container\"><div class=\"sk-label sk-toggleable\"><input class=\"sk-toggleable__control sk-hidden--visually\" id=\"f890bcf5-af81-4987-95ed-7f0f36f97fb3\" type=\"checkbox\" ><label class=\"sk-toggleable__label\" for=\"f890bcf5-af81-4987-95ed-7f0f36f97fb3\">categorical</label><div class=\"sk-toggleable__content\"><pre>Index(['cat_RevolvingUtilizationOfUnsecuredLines', 'cat_DebtRatio',\n",
       "       'cat_MonthlyIncome', 'cat_NumberOfDependents',\n",
       "       'cat_NumberOfTime60-89DaysPastDueNotWorse',\n",
       "       'cat_NumberRealEstateLoansOrLines', 'cat_NumberOfTimes90DaysLate',\n",
       "       'cat_NumberOfOpenCreditLinesAndLoans',\n",
       "       'cat_NumberOfTime30-59DaysPastDueNotWorse', 'cat_age'],\n",
       "      dtype='object')</pre></div></div></div><div class=\"sk-serial\"><div class=\"sk-item\"><div class=\"sk-serial\"><div class=\"sk-item\"><div class=\"sk-estimator sk-toggleable\"><input class=\"sk-toggleable__control sk-hidden--visually\" id=\"b81affe4-a29b-4132-8579-b56463445705\" type=\"checkbox\" ><label class=\"sk-toggleable__label\" for=\"b81affe4-a29b-4132-8579-b56463445705\">SimpleImputer</label><div class=\"sk-toggleable__content\"><pre>SimpleImputer(add_indicator=True, fill_value='missing',\n",
       "              strategy='most_frequent')</pre></div></div></div><div class=\"sk-item\"><div class=\"sk-estimator sk-toggleable\"><input class=\"sk-toggleable__control sk-hidden--visually\" id=\"90c96088-c8ed-41a0-bba1-ae62caabdac2\" type=\"checkbox\" ><label class=\"sk-toggleable__label\" for=\"90c96088-c8ed-41a0-bba1-ae62caabdac2\">CatBoostEncoder</label><div class=\"sk-toggleable__content\"><pre>CatBoostEncoder()</pre></div></div></div><div class=\"sk-item\"><div class=\"sk-estimator sk-toggleable\"><input class=\"sk-toggleable__control sk-hidden--visually\" id=\"71451fa1-efff-4728-a51c-43f29b4f2d0e\" type=\"checkbox\" ><label class=\"sk-toggleable__label\" for=\"71451fa1-efff-4728-a51c-43f29b4f2d0e\">SelectPercentile</label><div class=\"sk-toggleable__content\"><pre>SelectPercentile(percentile=90,\n",
       "                 score_func=<function mutual_info_classif at 0x7fab4fedf950>)</pre></div></div></div></div></div></div></div></div></div></div><div class=\"sk-item\"><div class=\"sk-estimator sk-toggleable\"><input class=\"sk-toggleable__control sk-hidden--visually\" id=\"d3fbd96a-50a6-4610-b174-d53176ed21d8\" type=\"checkbox\" ><label class=\"sk-toggleable__label\" for=\"d3fbd96a-50a6-4610-b174-d53176ed21d8\">LGBMClassifier</label><div class=\"sk-toggleable__content\"><pre>LGBMClassifier(device_type='gpu', learning_rate=0.0018069834369607075,\n",
       "               max_depth=8, metric='auc', min_samples_leaf=47,\n",
       "               n_estimators=5000, random_state=42, subsample=0.8573598985000007,\n",
       "               verbose=-1)</pre></div></div></div></div></div></div></div>"
      ],
      "text/plain": [
       "Pipeline(steps=[('preprocessor',\n",
       "                 ColumnTransformer(transformers=[('numerical',\n",
       "                                                  Pipeline(steps=[('imputer',\n",
       "                                                                   SimpleImputer(add_indicator=True,\n",
       "                                                                                 strategy='median')),\n",
       "                                                                  ('scaler',\n",
       "                                                                   QuantileTransformer()),\n",
       "                                                                  ('reducedim',\n",
       "                                                                   SelectPercentile(percentile=90))]),\n",
       "                                                  Index(['RevolvingUtilizationOfUnsecuredLines', 'DebtRatio',\n",
       "       'NumberOfTime60-89DaysPastDueNotWorse', 'NumberRealEsta...\n",
       "       'cat_NumberRealEstateLoansOrLines', 'cat_NumberOfTimes90DaysLate',\n",
       "       'cat_NumberOfOpenCreditLinesAndLoans',\n",
       "       'cat_NumberOfTime30-59DaysPastDueNotWorse', 'cat_age'],\n",
       "      dtype='object'))])),\n",
       "                ('classifier',\n",
       "                 LGBMClassifier(device_type='gpu',\n",
       "                                learning_rate=0.0018069834369607075,\n",
       "                                max_depth=8, metric='auc', min_samples_leaf=47,\n",
       "                                n_estimators=5000, random_state=42,\n",
       "                                subsample=0.8573598985000007, verbose=-1))])"
      ]
     },
     "execution_count": 36,
     "metadata": {},
     "output_type": "execute_result"
    }
   ],
   "source": [
    "# Features union cat + num \n",
    "# Catboost+QuantileTransformer\n",
    "preprocessor_catboost_qauntile_without_missing = ColumnTransformer(\n",
    "            transformers=[\n",
    "                ('numerical', numeric_transformer_quantile, num_columns_without_missing ),\n",
    "                ('categorical', categorical_transformer_catboost, cat_columns_without_missing )\n",
    "            ]\n",
    "            )\n",
    "pipe_lgbm_catboost_qauntile_without_missing  = Pipeline(\n",
    "    steps=[\n",
    "        ('preprocessor', preprocessor_catboost_qauntile_without_missing ),\n",
    "        ('classifier', lgbm.LGBMClassifier( \n",
    "            #n_jobs=-1,\n",
    "                                           verbose=-1,\n",
    "                                           **lgbm_param))\n",
    "    ]\n",
    ")\n",
    "pipe_lgbm_catboost_qauntile_without_missing "
   ]
  },
  {
   "cell_type": "markdown",
   "id": "ad08ff8a",
   "metadata": {
    "papermill": {
     "duration": 0.057796,
     "end_time": "2021-12-23T10:01:22.295452",
     "exception": false,
     "start_time": "2021-12-23T10:01:22.237656",
     "status": "completed"
    },
    "tags": []
   },
   "source": [
    "## Drop Null+handle outlier : catboost +qauntile transformer  "
   ]
  },
  {
   "cell_type": "code",
   "execution_count": 37,
   "id": "13d133c7",
   "metadata": {
    "execution": {
     "iopub.execute_input": "2021-12-23T10:01:22.415513Z",
     "iopub.status.busy": "2021-12-23T10:01:22.414688Z",
     "iopub.status.idle": "2021-12-23T10:01:22.896088Z",
     "shell.execute_reply": "2021-12-23T10:01:22.896484Z"
    },
    "papermill": {
     "duration": 0.545561,
     "end_time": "2021-12-23T10:01:22.896651",
     "exception": false,
     "start_time": "2021-12-23T10:01:22.351090",
     "status": "completed"
    },
    "tags": []
   },
   "outputs": [
    {
     "data": {
      "text/html": [
       "<style>div.sk-top-container {color: black;background-color: white;}div.sk-toggleable {background-color: white;}label.sk-toggleable__label {cursor: pointer;display: block;width: 100%;margin-bottom: 0;padding: 0.2em 0.3em;box-sizing: border-box;text-align: center;}div.sk-toggleable__content {max-height: 0;max-width: 0;overflow: hidden;text-align: left;background-color: #f0f8ff;}div.sk-toggleable__content pre {margin: 0.2em;color: black;border-radius: 0.25em;background-color: #f0f8ff;}input.sk-toggleable__control:checked~div.sk-toggleable__content {max-height: 200px;max-width: 100%;overflow: auto;}div.sk-estimator input.sk-toggleable__control:checked~label.sk-toggleable__label {background-color: #d4ebff;}div.sk-label input.sk-toggleable__control:checked~label.sk-toggleable__label {background-color: #d4ebff;}input.sk-hidden--visually {border: 0;clip: rect(1px 1px 1px 1px);clip: rect(1px, 1px, 1px, 1px);height: 1px;margin: -1px;overflow: hidden;padding: 0;position: absolute;width: 1px;}div.sk-estimator {font-family: monospace;background-color: #f0f8ff;margin: 0.25em 0.25em;border: 1px dotted black;border-radius: 0.25em;box-sizing: border-box;}div.sk-estimator:hover {background-color: #d4ebff;}div.sk-parallel-item::after {content: \"\";width: 100%;border-bottom: 1px solid gray;flex-grow: 1;}div.sk-label:hover label.sk-toggleable__label {background-color: #d4ebff;}div.sk-serial::before {content: \"\";position: absolute;border-left: 1px solid gray;box-sizing: border-box;top: 2em;bottom: 0;left: 50%;}div.sk-serial {display: flex;flex-direction: column;align-items: center;background-color: white;}div.sk-item {z-index: 1;}div.sk-parallel {display: flex;align-items: stretch;justify-content: center;background-color: white;}div.sk-parallel-item {display: flex;flex-direction: column;position: relative;background-color: white;}div.sk-parallel-item:first-child::after {align-self: flex-end;width: 50%;}div.sk-parallel-item:last-child::after {align-self: flex-start;width: 50%;}div.sk-parallel-item:only-child::after {width: 0;}div.sk-dashed-wrapped {border: 1px dashed gray;margin: 0.2em;box-sizing: border-box;padding-bottom: 0.1em;background-color: white;position: relative;}div.sk-label label {font-family: monospace;font-weight: bold;background-color: white;display: inline-block;line-height: 1.2em;}div.sk-label-container {position: relative;z-index: 2;text-align: center;}div.sk-container {display: inline-block;position: relative;}</style><div class=\"sk-top-container\"><div class=\"sk-container\"><div class=\"sk-item sk-dashed-wrapped\"><div class=\"sk-label-container\"><div class=\"sk-label sk-toggleable\"><input class=\"sk-toggleable__control sk-hidden--visually\" id=\"76d9a375-c330-4987-a9dc-a1603b35177e\" type=\"checkbox\" ><label class=\"sk-toggleable__label\" for=\"76d9a375-c330-4987-a9dc-a1603b35177e\">Pipeline</label><div class=\"sk-toggleable__content\"><pre>Pipeline(steps=[('preprocessor',\n",
       "                 ColumnTransformer(transformers=[('numerical',\n",
       "                                                  Pipeline(steps=[('outlierhandle',\n",
       "                                                                   OutlierReplace()),\n",
       "                                                                  ('imputer',\n",
       "                                                                   SimpleImputer(add_indicator=True,\n",
       "                                                                                 strategy='median')),\n",
       "                                                                  ('scaler',\n",
       "                                                                   QuantileTransformer()),\n",
       "                                                                  ('reducedim',\n",
       "                                                                   SelectPercentile(percentile=90))]),\n",
       "                                                  Index(['RevolvingUtilizationOfUnsecuredLines', 'DebtRatio',\n",
       "       'NumberOfTime60-89D...\n",
       "       'cat_NumberRealEstateLoansOrLines', 'cat_NumberOfTimes90DaysLate',\n",
       "       'cat_NumberOfOpenCreditLinesAndLoans',\n",
       "       'cat_NumberOfTime30-59DaysPastDueNotWorse', 'cat_age'],\n",
       "      dtype='object'))])),\n",
       "                ('classifier',\n",
       "                 LGBMClassifier(device_type='gpu',\n",
       "                                learning_rate=0.0018069834369607075,\n",
       "                                max_depth=8, metric='auc', min_samples_leaf=47,\n",
       "                                n_estimators=5000, random_state=42,\n",
       "                                subsample=0.8573598985000007, verbose=-1))])</pre></div></div></div><div class=\"sk-serial\"><div class=\"sk-item sk-dashed-wrapped\"><div class=\"sk-label-container\"><div class=\"sk-label sk-toggleable\"><input class=\"sk-toggleable__control sk-hidden--visually\" id=\"5567e650-6857-4e30-95bd-9cdc9844c4b0\" type=\"checkbox\" ><label class=\"sk-toggleable__label\" for=\"5567e650-6857-4e30-95bd-9cdc9844c4b0\">preprocessor: ColumnTransformer</label><div class=\"sk-toggleable__content\"><pre>ColumnTransformer(transformers=[('numerical',\n",
       "                                 Pipeline(steps=[('outlierhandle',\n",
       "                                                  OutlierReplace()),\n",
       "                                                 ('imputer',\n",
       "                                                  SimpleImputer(add_indicator=True,\n",
       "                                                                strategy='median')),\n",
       "                                                 ('scaler',\n",
       "                                                  QuantileTransformer()),\n",
       "                                                 ('reducedim',\n",
       "                                                  SelectPercentile(percentile=90))]),\n",
       "                                 Index(['RevolvingUtilizationOfUnsecuredLines', 'DebtRatio',\n",
       "       'NumberOfTime60-89DaysPastDueNotWorse', 'NumberRealE...\n",
       "                                                                   score_func=<function mutual_info_classif at 0x7fab4fedf950>))]),\n",
       "                                 Index(['cat_RevolvingUtilizationOfUnsecuredLines', 'cat_DebtRatio',\n",
       "       'cat_MonthlyIncome', 'cat_NumberOfDependents',\n",
       "       'cat_NumberOfTime60-89DaysPastDueNotWorse',\n",
       "       'cat_NumberRealEstateLoansOrLines', 'cat_NumberOfTimes90DaysLate',\n",
       "       'cat_NumberOfOpenCreditLinesAndLoans',\n",
       "       'cat_NumberOfTime30-59DaysPastDueNotWorse', 'cat_age'],\n",
       "      dtype='object'))])</pre></div></div></div><div class=\"sk-parallel\"><div class=\"sk-parallel-item\"><div class=\"sk-item\"><div class=\"sk-label-container\"><div class=\"sk-label sk-toggleable\"><input class=\"sk-toggleable__control sk-hidden--visually\" id=\"ac1a42c4-7004-46f1-a16d-cf5e3af2f8ab\" type=\"checkbox\" ><label class=\"sk-toggleable__label\" for=\"ac1a42c4-7004-46f1-a16d-cf5e3af2f8ab\">numerical</label><div class=\"sk-toggleable__content\"><pre>Index(['RevolvingUtilizationOfUnsecuredLines', 'DebtRatio',\n",
       "       'NumberOfTime60-89DaysPastDueNotWorse', 'NumberRealEstateLoansOrLines',\n",
       "       'NumberOfTimes90DaysLate', 'NumberOfOpenCreditLinesAndLoans',\n",
       "       'NumberOfTime30-59DaysPastDueNotWorse', 'age'],\n",
       "      dtype='object')</pre></div></div></div><div class=\"sk-serial\"><div class=\"sk-item\"><div class=\"sk-serial\"><div class=\"sk-item\"><div class=\"sk-estimator sk-toggleable\"><input class=\"sk-toggleable__control sk-hidden--visually\" id=\"c9c16885-6714-4966-bcd1-9994876d8f10\" type=\"checkbox\" ><label class=\"sk-toggleable__label\" for=\"c9c16885-6714-4966-bcd1-9994876d8f10\">OutlierReplace</label><div class=\"sk-toggleable__content\"><pre>OutlierReplace()</pre></div></div></div><div class=\"sk-item\"><div class=\"sk-estimator sk-toggleable\"><input class=\"sk-toggleable__control sk-hidden--visually\" id=\"de58b3f9-490a-49fd-aefc-c1501f1b0265\" type=\"checkbox\" ><label class=\"sk-toggleable__label\" for=\"de58b3f9-490a-49fd-aefc-c1501f1b0265\">SimpleImputer</label><div class=\"sk-toggleable__content\"><pre>SimpleImputer(add_indicator=True, strategy='median')</pre></div></div></div><div class=\"sk-item\"><div class=\"sk-estimator sk-toggleable\"><input class=\"sk-toggleable__control sk-hidden--visually\" id=\"29caab90-d181-4913-9ffd-0508a2a81fda\" type=\"checkbox\" ><label class=\"sk-toggleable__label\" for=\"29caab90-d181-4913-9ffd-0508a2a81fda\">QuantileTransformer</label><div class=\"sk-toggleable__content\"><pre>QuantileTransformer()</pre></div></div></div><div class=\"sk-item\"><div class=\"sk-estimator sk-toggleable\"><input class=\"sk-toggleable__control sk-hidden--visually\" id=\"a59db223-bad0-4693-8f9d-9ba05d5765bc\" type=\"checkbox\" ><label class=\"sk-toggleable__label\" for=\"a59db223-bad0-4693-8f9d-9ba05d5765bc\">SelectPercentile</label><div class=\"sk-toggleable__content\"><pre>SelectPercentile(percentile=90)</pre></div></div></div></div></div></div></div></div><div class=\"sk-parallel-item\"><div class=\"sk-item\"><div class=\"sk-label-container\"><div class=\"sk-label sk-toggleable\"><input class=\"sk-toggleable__control sk-hidden--visually\" id=\"ac51c41e-9576-45cf-862f-2d018431a901\" type=\"checkbox\" ><label class=\"sk-toggleable__label\" for=\"ac51c41e-9576-45cf-862f-2d018431a901\">categorical</label><div class=\"sk-toggleable__content\"><pre>Index(['cat_RevolvingUtilizationOfUnsecuredLines', 'cat_DebtRatio',\n",
       "       'cat_MonthlyIncome', 'cat_NumberOfDependents',\n",
       "       'cat_NumberOfTime60-89DaysPastDueNotWorse',\n",
       "       'cat_NumberRealEstateLoansOrLines', 'cat_NumberOfTimes90DaysLate',\n",
       "       'cat_NumberOfOpenCreditLinesAndLoans',\n",
       "       'cat_NumberOfTime30-59DaysPastDueNotWorse', 'cat_age'],\n",
       "      dtype='object')</pre></div></div></div><div class=\"sk-serial\"><div class=\"sk-item\"><div class=\"sk-serial\"><div class=\"sk-item\"><div class=\"sk-estimator sk-toggleable\"><input class=\"sk-toggleable__control sk-hidden--visually\" id=\"120c0745-3851-4115-b30d-e4e3c874fc59\" type=\"checkbox\" ><label class=\"sk-toggleable__label\" for=\"120c0745-3851-4115-b30d-e4e3c874fc59\">SimpleImputer</label><div class=\"sk-toggleable__content\"><pre>SimpleImputer(add_indicator=True, fill_value='missing',\n",
       "              strategy='most_frequent')</pre></div></div></div><div class=\"sk-item\"><div class=\"sk-estimator sk-toggleable\"><input class=\"sk-toggleable__control sk-hidden--visually\" id=\"677eed4c-89c5-4593-a416-0d325dca2e73\" type=\"checkbox\" ><label class=\"sk-toggleable__label\" for=\"677eed4c-89c5-4593-a416-0d325dca2e73\">CatBoostEncoder</label><div class=\"sk-toggleable__content\"><pre>CatBoostEncoder()</pre></div></div></div><div class=\"sk-item\"><div class=\"sk-estimator sk-toggleable\"><input class=\"sk-toggleable__control sk-hidden--visually\" id=\"b831fef5-015f-41b6-897c-55776199af82\" type=\"checkbox\" ><label class=\"sk-toggleable__label\" for=\"b831fef5-015f-41b6-897c-55776199af82\">SelectPercentile</label><div class=\"sk-toggleable__content\"><pre>SelectPercentile(percentile=90,\n",
       "                 score_func=<function mutual_info_classif at 0x7fab4fedf950>)</pre></div></div></div></div></div></div></div></div></div></div><div class=\"sk-item\"><div class=\"sk-estimator sk-toggleable\"><input class=\"sk-toggleable__control sk-hidden--visually\" id=\"4469cd31-98e8-42a1-8601-edfd0fe7cfec\" type=\"checkbox\" ><label class=\"sk-toggleable__label\" for=\"4469cd31-98e8-42a1-8601-edfd0fe7cfec\">LGBMClassifier</label><div class=\"sk-toggleable__content\"><pre>LGBMClassifier(device_type='gpu', learning_rate=0.0018069834369607075,\n",
       "               max_depth=8, metric='auc', min_samples_leaf=47,\n",
       "               n_estimators=5000, random_state=42, subsample=0.8573598985000007,\n",
       "               verbose=-1)</pre></div></div></div></div></div></div></div>"
      ],
      "text/plain": [
       "Pipeline(steps=[('preprocessor',\n",
       "                 ColumnTransformer(transformers=[('numerical',\n",
       "                                                  Pipeline(steps=[('outlierhandle',\n",
       "                                                                   OutlierReplace()),\n",
       "                                                                  ('imputer',\n",
       "                                                                   SimpleImputer(add_indicator=True,\n",
       "                                                                                 strategy='median')),\n",
       "                                                                  ('scaler',\n",
       "                                                                   QuantileTransformer()),\n",
       "                                                                  ('reducedim',\n",
       "                                                                   SelectPercentile(percentile=90))]),\n",
       "                                                  Index(['RevolvingUtilizationOfUnsecuredLines', 'DebtRatio',\n",
       "       'NumberOfTime60-89D...\n",
       "       'cat_NumberRealEstateLoansOrLines', 'cat_NumberOfTimes90DaysLate',\n",
       "       'cat_NumberOfOpenCreditLinesAndLoans',\n",
       "       'cat_NumberOfTime30-59DaysPastDueNotWorse', 'cat_age'],\n",
       "      dtype='object'))])),\n",
       "                ('classifier',\n",
       "                 LGBMClassifier(device_type='gpu',\n",
       "                                learning_rate=0.0018069834369607075,\n",
       "                                max_depth=8, metric='auc', min_samples_leaf=47,\n",
       "                                n_estimators=5000, random_state=42,\n",
       "                                subsample=0.8573598985000007, verbose=-1))])"
      ]
     },
     "execution_count": 37,
     "metadata": {},
     "output_type": "execute_result"
    }
   ],
   "source": [
    "# Features union cat + num \n",
    "# Catboost+QuantileTransformer\n",
    "preprocessor_catboost_qauntile_outlier_without_missing = ColumnTransformer(\n",
    "            transformers=[\n",
    "                ('numerical', numeric_transformer_quantile_outlier, num_columns_without_missing),\n",
    "                ('categorical', categorical_transformer_catboost, cat_columns_without_missing)\n",
    "            ]\n",
    "            )\n",
    "pipe_lgbm_catboost_qauntile_outlier_without_missing = Pipeline(\n",
    "    steps=[\n",
    "        ('preprocessor', preprocessor_catboost_qauntile_outlier_without_missing),\n",
    "        ('classifier', lgbm.LGBMClassifier( \n",
    "            #n_jobs=-1,\n",
    "                                           verbose=-1,\n",
    "                                           **lgbm_param))\n",
    "    ]\n",
    ")\n",
    "pipe_lgbm_catboost_qauntile_outlier_without_missing"
   ]
  },
  {
   "cell_type": "markdown",
   "id": "317a803f",
   "metadata": {
    "papermill": {
     "duration": 0.056545,
     "end_time": "2021-12-23T10:01:23.008966",
     "exception": false,
     "start_time": "2021-12-23T10:01:22.952421",
     "status": "completed"
    },
    "tags": []
   },
   "source": [
    "# Pipe 4 Catoost + RobustScaler : \n"
   ]
  },
  {
   "cell_type": "code",
   "execution_count": 38,
   "id": "3ca8fcb3",
   "metadata": {
    "execution": {
     "iopub.execute_input": "2021-12-23T10:01:23.128889Z",
     "iopub.status.busy": "2021-12-23T10:01:23.128066Z",
     "iopub.status.idle": "2021-12-23T10:01:23.573783Z",
     "shell.execute_reply": "2021-12-23T10:01:23.574213Z"
    },
    "papermill": {
     "duration": 0.509643,
     "end_time": "2021-12-23T10:01:23.574357",
     "exception": false,
     "start_time": "2021-12-23T10:01:23.064714",
     "status": "completed"
    },
    "tags": []
   },
   "outputs": [
    {
     "data": {
      "text/html": [
       "<style>div.sk-top-container {color: black;background-color: white;}div.sk-toggleable {background-color: white;}label.sk-toggleable__label {cursor: pointer;display: block;width: 100%;margin-bottom: 0;padding: 0.2em 0.3em;box-sizing: border-box;text-align: center;}div.sk-toggleable__content {max-height: 0;max-width: 0;overflow: hidden;text-align: left;background-color: #f0f8ff;}div.sk-toggleable__content pre {margin: 0.2em;color: black;border-radius: 0.25em;background-color: #f0f8ff;}input.sk-toggleable__control:checked~div.sk-toggleable__content {max-height: 200px;max-width: 100%;overflow: auto;}div.sk-estimator input.sk-toggleable__control:checked~label.sk-toggleable__label {background-color: #d4ebff;}div.sk-label input.sk-toggleable__control:checked~label.sk-toggleable__label {background-color: #d4ebff;}input.sk-hidden--visually {border: 0;clip: rect(1px 1px 1px 1px);clip: rect(1px, 1px, 1px, 1px);height: 1px;margin: -1px;overflow: hidden;padding: 0;position: absolute;width: 1px;}div.sk-estimator {font-family: monospace;background-color: #f0f8ff;margin: 0.25em 0.25em;border: 1px dotted black;border-radius: 0.25em;box-sizing: border-box;}div.sk-estimator:hover {background-color: #d4ebff;}div.sk-parallel-item::after {content: \"\";width: 100%;border-bottom: 1px solid gray;flex-grow: 1;}div.sk-label:hover label.sk-toggleable__label {background-color: #d4ebff;}div.sk-serial::before {content: \"\";position: absolute;border-left: 1px solid gray;box-sizing: border-box;top: 2em;bottom: 0;left: 50%;}div.sk-serial {display: flex;flex-direction: column;align-items: center;background-color: white;}div.sk-item {z-index: 1;}div.sk-parallel {display: flex;align-items: stretch;justify-content: center;background-color: white;}div.sk-parallel-item {display: flex;flex-direction: column;position: relative;background-color: white;}div.sk-parallel-item:first-child::after {align-self: flex-end;width: 50%;}div.sk-parallel-item:last-child::after {align-self: flex-start;width: 50%;}div.sk-parallel-item:only-child::after {width: 0;}div.sk-dashed-wrapped {border: 1px dashed gray;margin: 0.2em;box-sizing: border-box;padding-bottom: 0.1em;background-color: white;position: relative;}div.sk-label label {font-family: monospace;font-weight: bold;background-color: white;display: inline-block;line-height: 1.2em;}div.sk-label-container {position: relative;z-index: 2;text-align: center;}div.sk-container {display: inline-block;position: relative;}</style><div class=\"sk-top-container\"><div class=\"sk-container\"><div class=\"sk-item sk-dashed-wrapped\"><div class=\"sk-label-container\"><div class=\"sk-label sk-toggleable\"><input class=\"sk-toggleable__control sk-hidden--visually\" id=\"1667fd92-ab77-4fbd-9f28-4bc9433f45a6\" type=\"checkbox\" ><label class=\"sk-toggleable__label\" for=\"1667fd92-ab77-4fbd-9f28-4bc9433f45a6\">Pipeline</label><div class=\"sk-toggleable__content\"><pre>Pipeline(steps=[('preprocessor',\n",
       "                 ColumnTransformer(transformers=[('numerical',\n",
       "                                                  Pipeline(steps=[('imputer',\n",
       "                                                                   SimpleImputer(add_indicator=True,\n",
       "                                                                                 strategy='median')),\n",
       "                                                                  ('scaler',\n",
       "                                                                   RobustScaler()),\n",
       "                                                                  ('reducedim',\n",
       "                                                                   SelectPercentile(percentile=90))]),\n",
       "                                                  Index(['RevolvingUtilizationOfUnsecuredLines', 'DebtRatio', 'MonthlyIncome',\n",
       "       'NumberOfDependents', 'NumberOfTime60-89DaysPa...\n",
       "       'cat_NumberRealEstateLoansOrLines', 'cat_NumberOfTimes90DaysLate',\n",
       "       'cat_NumberOfOpenCreditLinesAndLoans',\n",
       "       'cat_NumberOfTime30-59DaysPastDueNotWorse', 'cat_age'],\n",
       "      dtype='object'))])),\n",
       "                ('classifier',\n",
       "                 LGBMClassifier(device_type='gpu',\n",
       "                                learning_rate=0.0018069834369607075,\n",
       "                                max_depth=8, metric='auc', min_samples_leaf=47,\n",
       "                                n_estimators=5000, random_state=42,\n",
       "                                subsample=0.8573598985000007, verbose=-1))])</pre></div></div></div><div class=\"sk-serial\"><div class=\"sk-item sk-dashed-wrapped\"><div class=\"sk-label-container\"><div class=\"sk-label sk-toggleable\"><input class=\"sk-toggleable__control sk-hidden--visually\" id=\"3b22d052-280f-47d4-a191-87f108742d03\" type=\"checkbox\" ><label class=\"sk-toggleable__label\" for=\"3b22d052-280f-47d4-a191-87f108742d03\">preprocessor: ColumnTransformer</label><div class=\"sk-toggleable__content\"><pre>ColumnTransformer(transformers=[('numerical',\n",
       "                                 Pipeline(steps=[('imputer',\n",
       "                                                  SimpleImputer(add_indicator=True,\n",
       "                                                                strategy='median')),\n",
       "                                                 ('scaler', RobustScaler()),\n",
       "                                                 ('reducedim',\n",
       "                                                  SelectPercentile(percentile=90))]),\n",
       "                                 Index(['RevolvingUtilizationOfUnsecuredLines', 'DebtRatio', 'MonthlyIncome',\n",
       "       'NumberOfDependents', 'NumberOfTime60-89DaysPastDueNotWorse',\n",
       "       'NumberRealEstate...\n",
       "                                                                   score_func=<function mutual_info_classif at 0x7fab4fedf950>))]),\n",
       "                                 Index(['cat_RevolvingUtilizationOfUnsecuredLines', 'cat_DebtRatio',\n",
       "       'cat_MonthlyIncome', 'cat_NumberOfDependents',\n",
       "       'cat_NumberOfTime60-89DaysPastDueNotWorse',\n",
       "       'cat_NumberRealEstateLoansOrLines', 'cat_NumberOfTimes90DaysLate',\n",
       "       'cat_NumberOfOpenCreditLinesAndLoans',\n",
       "       'cat_NumberOfTime30-59DaysPastDueNotWorse', 'cat_age'],\n",
       "      dtype='object'))])</pre></div></div></div><div class=\"sk-parallel\"><div class=\"sk-parallel-item\"><div class=\"sk-item\"><div class=\"sk-label-container\"><div class=\"sk-label sk-toggleable\"><input class=\"sk-toggleable__control sk-hidden--visually\" id=\"ff615ff5-e5f4-443f-9f9d-2bbb8dd4d17c\" type=\"checkbox\" ><label class=\"sk-toggleable__label\" for=\"ff615ff5-e5f4-443f-9f9d-2bbb8dd4d17c\">numerical</label><div class=\"sk-toggleable__content\"><pre>Index(['RevolvingUtilizationOfUnsecuredLines', 'DebtRatio', 'MonthlyIncome',\n",
       "       'NumberOfDependents', 'NumberOfTime60-89DaysPastDueNotWorse',\n",
       "       'NumberRealEstateLoansOrLines', 'NumberOfTimes90DaysLate',\n",
       "       'NumberOfOpenCreditLinesAndLoans',\n",
       "       'NumberOfTime30-59DaysPastDueNotWorse', 'age'],\n",
       "      dtype='object')</pre></div></div></div><div class=\"sk-serial\"><div class=\"sk-item\"><div class=\"sk-serial\"><div class=\"sk-item\"><div class=\"sk-estimator sk-toggleable\"><input class=\"sk-toggleable__control sk-hidden--visually\" id=\"114d3787-0e60-4d36-bebb-8c72936f9851\" type=\"checkbox\" ><label class=\"sk-toggleable__label\" for=\"114d3787-0e60-4d36-bebb-8c72936f9851\">SimpleImputer</label><div class=\"sk-toggleable__content\"><pre>SimpleImputer(add_indicator=True, strategy='median')</pre></div></div></div><div class=\"sk-item\"><div class=\"sk-estimator sk-toggleable\"><input class=\"sk-toggleable__control sk-hidden--visually\" id=\"5f18515a-32dd-4408-a8f3-a90ce7552a9c\" type=\"checkbox\" ><label class=\"sk-toggleable__label\" for=\"5f18515a-32dd-4408-a8f3-a90ce7552a9c\">RobustScaler</label><div class=\"sk-toggleable__content\"><pre>RobustScaler()</pre></div></div></div><div class=\"sk-item\"><div class=\"sk-estimator sk-toggleable\"><input class=\"sk-toggleable__control sk-hidden--visually\" id=\"c7068b68-8727-437e-82c7-b3bb8a51f130\" type=\"checkbox\" ><label class=\"sk-toggleable__label\" for=\"c7068b68-8727-437e-82c7-b3bb8a51f130\">SelectPercentile</label><div class=\"sk-toggleable__content\"><pre>SelectPercentile(percentile=90)</pre></div></div></div></div></div></div></div></div><div class=\"sk-parallel-item\"><div class=\"sk-item\"><div class=\"sk-label-container\"><div class=\"sk-label sk-toggleable\"><input class=\"sk-toggleable__control sk-hidden--visually\" id=\"6cb6dcf9-8dc0-473b-a417-94507ec2e916\" type=\"checkbox\" ><label class=\"sk-toggleable__label\" for=\"6cb6dcf9-8dc0-473b-a417-94507ec2e916\">categorical</label><div class=\"sk-toggleable__content\"><pre>Index(['cat_RevolvingUtilizationOfUnsecuredLines', 'cat_DebtRatio',\n",
       "       'cat_MonthlyIncome', 'cat_NumberOfDependents',\n",
       "       'cat_NumberOfTime60-89DaysPastDueNotWorse',\n",
       "       'cat_NumberRealEstateLoansOrLines', 'cat_NumberOfTimes90DaysLate',\n",
       "       'cat_NumberOfOpenCreditLinesAndLoans',\n",
       "       'cat_NumberOfTime30-59DaysPastDueNotWorse', 'cat_age'],\n",
       "      dtype='object')</pre></div></div></div><div class=\"sk-serial\"><div class=\"sk-item\"><div class=\"sk-serial\"><div class=\"sk-item\"><div class=\"sk-estimator sk-toggleable\"><input class=\"sk-toggleable__control sk-hidden--visually\" id=\"f5325516-8ee2-46f2-97be-78847f4158d6\" type=\"checkbox\" ><label class=\"sk-toggleable__label\" for=\"f5325516-8ee2-46f2-97be-78847f4158d6\">SimpleImputer</label><div class=\"sk-toggleable__content\"><pre>SimpleImputer(add_indicator=True, fill_value='missing',\n",
       "              strategy='most_frequent')</pre></div></div></div><div class=\"sk-item\"><div class=\"sk-estimator sk-toggleable\"><input class=\"sk-toggleable__control sk-hidden--visually\" id=\"8e980dd1-aca6-4977-9884-7c2eaf1471ce\" type=\"checkbox\" ><label class=\"sk-toggleable__label\" for=\"8e980dd1-aca6-4977-9884-7c2eaf1471ce\">CatBoostEncoder</label><div class=\"sk-toggleable__content\"><pre>CatBoostEncoder()</pre></div></div></div><div class=\"sk-item\"><div class=\"sk-estimator sk-toggleable\"><input class=\"sk-toggleable__control sk-hidden--visually\" id=\"7e075e52-9fb5-407f-9337-2a68de1a782a\" type=\"checkbox\" ><label class=\"sk-toggleable__label\" for=\"7e075e52-9fb5-407f-9337-2a68de1a782a\">SelectPercentile</label><div class=\"sk-toggleable__content\"><pre>SelectPercentile(percentile=90,\n",
       "                 score_func=<function mutual_info_classif at 0x7fab4fedf950>)</pre></div></div></div></div></div></div></div></div></div></div><div class=\"sk-item\"><div class=\"sk-estimator sk-toggleable\"><input class=\"sk-toggleable__control sk-hidden--visually\" id=\"5660b03c-44d6-4e80-aa9f-47886d3f3a2b\" type=\"checkbox\" ><label class=\"sk-toggleable__label\" for=\"5660b03c-44d6-4e80-aa9f-47886d3f3a2b\">LGBMClassifier</label><div class=\"sk-toggleable__content\"><pre>LGBMClassifier(device_type='gpu', learning_rate=0.0018069834369607075,\n",
       "               max_depth=8, metric='auc', min_samples_leaf=47,\n",
       "               n_estimators=5000, random_state=42, subsample=0.8573598985000007,\n",
       "               verbose=-1)</pre></div></div></div></div></div></div></div>"
      ],
      "text/plain": [
       "Pipeline(steps=[('preprocessor',\n",
       "                 ColumnTransformer(transformers=[('numerical',\n",
       "                                                  Pipeline(steps=[('imputer',\n",
       "                                                                   SimpleImputer(add_indicator=True,\n",
       "                                                                                 strategy='median')),\n",
       "                                                                  ('scaler',\n",
       "                                                                   RobustScaler()),\n",
       "                                                                  ('reducedim',\n",
       "                                                                   SelectPercentile(percentile=90))]),\n",
       "                                                  Index(['RevolvingUtilizationOfUnsecuredLines', 'DebtRatio', 'MonthlyIncome',\n",
       "       'NumberOfDependents', 'NumberOfTime60-89DaysPa...\n",
       "       'cat_NumberRealEstateLoansOrLines', 'cat_NumberOfTimes90DaysLate',\n",
       "       'cat_NumberOfOpenCreditLinesAndLoans',\n",
       "       'cat_NumberOfTime30-59DaysPastDueNotWorse', 'cat_age'],\n",
       "      dtype='object'))])),\n",
       "                ('classifier',\n",
       "                 LGBMClassifier(device_type='gpu',\n",
       "                                learning_rate=0.0018069834369607075,\n",
       "                                max_depth=8, metric='auc', min_samples_leaf=47,\n",
       "                                n_estimators=5000, random_state=42,\n",
       "                                subsample=0.8573598985000007, verbose=-1))])"
      ]
     },
     "execution_count": 38,
     "metadata": {},
     "output_type": "execute_result"
    }
   ],
   "source": [
    "categorical_transformer_catboost = Pipeline(\n",
    "                    steps=[\n",
    "                        ('imputer', SimpleImputer(strategy='most_frequent',\n",
    "                                                  fill_value='missing',\n",
    "                                                  add_indicator=True)),\n",
    "                        ('encoder',  ce.cat_boost.CatBoostEncoder()),#(Numerical Input, Categorical Output)\n",
    "                         ('reducedim',  SelectPercentile( mutual_info_classif,\n",
    "                                                        percentile=90))\n",
    "                    ]\n",
    "                    ) \n",
    "\n",
    "\n",
    "numeric_transformer_robustscaler = Pipeline(\n",
    "                            steps=[\n",
    "                            ('imputer', SimpleImputer(strategy='median'\n",
    "                                                      ,add_indicator=True)),\n",
    "                            ('scaler', RobustScaler()),#(Numerical Input, Numerical Output)\n",
    "                            # Create an SelectKBest object to select features with two best ANOVA F-Values\n",
    "                            #The F-value scores examine if, when we group the numerical feature by the target vector, the means for each group are significantly different\n",
    "                            ('reducedim',  SelectPercentile(f_classif,\n",
    "                                                           percentile=90))\n",
    "                            ]\n",
    "                            )\n",
    "# Features union cat + num \n",
    "# Catboost+QuantileTransformer\n",
    "preprocessor_catboost_robust = ColumnTransformer(\n",
    "            transformers=[\n",
    "                ('numerical', numeric_transformer_robustscaler, num_columns),\n",
    "                ('categorical', categorical_transformer_catboost, cat_columns)\n",
    "            ]\n",
    "            )\n",
    "pipe_lgbm_catboost_robust = Pipeline(\n",
    "    steps=[\n",
    "        ('preprocessor', preprocessor_catboost_robust),\n",
    "        ('classifier', lgbm.LGBMClassifier( \n",
    "            #n_jobs=-1,\n",
    "                                           verbose=-1,\n",
    "                                           **lgbm_param))\n",
    "    ]\n",
    ")\n",
    "pipe_lgbm_catboost_robust"
   ]
  },
  {
   "cell_type": "markdown",
   "id": "684bbdbc",
   "metadata": {
    "papermill": {
     "duration": 0.055754,
     "end_time": "2021-12-23T10:01:23.687237",
     "exception": false,
     "start_time": "2021-12-23T10:01:23.631483",
     "status": "completed"
    },
    "tags": []
   },
   "source": [
    "# Pipe6 :cat+power+fe \n"
   ]
  },
  {
   "cell_type": "code",
   "execution_count": 39,
   "id": "975b33ed",
   "metadata": {
    "execution": {
     "iopub.execute_input": "2021-12-23T10:01:23.825465Z",
     "iopub.status.busy": "2021-12-23T10:01:23.824565Z",
     "iopub.status.idle": "2021-12-23T10:01:24.258451Z",
     "shell.execute_reply": "2021-12-23T10:01:24.258917Z"
    },
    "papermill": {
     "duration": 0.515365,
     "end_time": "2021-12-23T10:01:24.259071",
     "exception": false,
     "start_time": "2021-12-23T10:01:23.743706",
     "status": "completed"
    },
    "tags": []
   },
   "outputs": [
    {
     "data": {
      "text/html": [
       "<style>div.sk-top-container {color: black;background-color: white;}div.sk-toggleable {background-color: white;}label.sk-toggleable__label {cursor: pointer;display: block;width: 100%;margin-bottom: 0;padding: 0.2em 0.3em;box-sizing: border-box;text-align: center;}div.sk-toggleable__content {max-height: 0;max-width: 0;overflow: hidden;text-align: left;background-color: #f0f8ff;}div.sk-toggleable__content pre {margin: 0.2em;color: black;border-radius: 0.25em;background-color: #f0f8ff;}input.sk-toggleable__control:checked~div.sk-toggleable__content {max-height: 200px;max-width: 100%;overflow: auto;}div.sk-estimator input.sk-toggleable__control:checked~label.sk-toggleable__label {background-color: #d4ebff;}div.sk-label input.sk-toggleable__control:checked~label.sk-toggleable__label {background-color: #d4ebff;}input.sk-hidden--visually {border: 0;clip: rect(1px 1px 1px 1px);clip: rect(1px, 1px, 1px, 1px);height: 1px;margin: -1px;overflow: hidden;padding: 0;position: absolute;width: 1px;}div.sk-estimator {font-family: monospace;background-color: #f0f8ff;margin: 0.25em 0.25em;border: 1px dotted black;border-radius: 0.25em;box-sizing: border-box;}div.sk-estimator:hover {background-color: #d4ebff;}div.sk-parallel-item::after {content: \"\";width: 100%;border-bottom: 1px solid gray;flex-grow: 1;}div.sk-label:hover label.sk-toggleable__label {background-color: #d4ebff;}div.sk-serial::before {content: \"\";position: absolute;border-left: 1px solid gray;box-sizing: border-box;top: 2em;bottom: 0;left: 50%;}div.sk-serial {display: flex;flex-direction: column;align-items: center;background-color: white;}div.sk-item {z-index: 1;}div.sk-parallel {display: flex;align-items: stretch;justify-content: center;background-color: white;}div.sk-parallel-item {display: flex;flex-direction: column;position: relative;background-color: white;}div.sk-parallel-item:first-child::after {align-self: flex-end;width: 50%;}div.sk-parallel-item:last-child::after {align-self: flex-start;width: 50%;}div.sk-parallel-item:only-child::after {width: 0;}div.sk-dashed-wrapped {border: 1px dashed gray;margin: 0.2em;box-sizing: border-box;padding-bottom: 0.1em;background-color: white;position: relative;}div.sk-label label {font-family: monospace;font-weight: bold;background-color: white;display: inline-block;line-height: 1.2em;}div.sk-label-container {position: relative;z-index: 2;text-align: center;}div.sk-container {display: inline-block;position: relative;}</style><div class=\"sk-top-container\"><div class=\"sk-container\"><div class=\"sk-item sk-dashed-wrapped\"><div class=\"sk-label-container\"><div class=\"sk-label sk-toggleable\"><input class=\"sk-toggleable__control sk-hidden--visually\" id=\"d804a631-fbe4-44cf-ad9c-285b7d205fb8\" type=\"checkbox\" ><label class=\"sk-toggleable__label\" for=\"d804a631-fbe4-44cf-ad9c-285b7d205fb8\">Pipeline</label><div class=\"sk-toggleable__content\"><pre>Pipeline(steps=[('preprocessor',\n",
       "                 ColumnTransformer(transformers=[('numerical',\n",
       "                                                  Pipeline(steps=[('imputer',\n",
       "                                                                   SimpleImputer(add_indicator=True,\n",
       "                                                                                 strategy='median')),\n",
       "                                                                  ('scaler',\n",
       "                                                                   PowerTransformer()),\n",
       "                                                                  ('reducedim',\n",
       "                                                                   SelectPercentile(percentile=90))]),\n",
       "                                                  Index(['RevolvingUtilizationOfUnsecuredLines', 'DebtRatio', 'MonthlyIncome',\n",
       "       'NumberOfDependents', 'NumberOfTime60-89Da...\n",
       "       'cat_NumberRealEstateLoansOrLines', 'cat_NumberOfTimes90DaysLate',\n",
       "       'cat_NumberOfOpenCreditLinesAndLoans',\n",
       "       'cat_NumberOfTime30-59DaysPastDueNotWorse', 'cat_age'],\n",
       "      dtype='object'))])),\n",
       "                ('classifier',\n",
       "                 LGBMClassifier(device_type='gpu',\n",
       "                                learning_rate=0.0018069834369607075,\n",
       "                                max_depth=8, metric='auc', min_samples_leaf=47,\n",
       "                                n_estimators=5000, random_state=42,\n",
       "                                subsample=0.8573598985000007, verbose=-1))])</pre></div></div></div><div class=\"sk-serial\"><div class=\"sk-item sk-dashed-wrapped\"><div class=\"sk-label-container\"><div class=\"sk-label sk-toggleable\"><input class=\"sk-toggleable__control sk-hidden--visually\" id=\"b25dde58-ef06-4137-91d8-0cd30ac5042f\" type=\"checkbox\" ><label class=\"sk-toggleable__label\" for=\"b25dde58-ef06-4137-91d8-0cd30ac5042f\">preprocessor: ColumnTransformer</label><div class=\"sk-toggleable__content\"><pre>ColumnTransformer(transformers=[('numerical',\n",
       "                                 Pipeline(steps=[('imputer',\n",
       "                                                  SimpleImputer(add_indicator=True,\n",
       "                                                                strategy='median')),\n",
       "                                                 ('scaler', PowerTransformer()),\n",
       "                                                 ('reducedim',\n",
       "                                                  SelectPercentile(percentile=90))]),\n",
       "                                 Index(['RevolvingUtilizationOfUnsecuredLines', 'DebtRatio', 'MonthlyIncome',\n",
       "       'NumberOfDependents', 'NumberOfTime60-89DaysPastDueNotWorse',\n",
       "       'NumberRealEs...\n",
       "                                                                   score_func=<function mutual_info_classif at 0x7fab4fedf950>))]),\n",
       "                                 Index(['cat_RevolvingUtilizationOfUnsecuredLines', 'cat_DebtRatio',\n",
       "       'cat_MonthlyIncome', 'cat_NumberOfDependents',\n",
       "       'cat_NumberOfTime60-89DaysPastDueNotWorse',\n",
       "       'cat_NumberRealEstateLoansOrLines', 'cat_NumberOfTimes90DaysLate',\n",
       "       'cat_NumberOfOpenCreditLinesAndLoans',\n",
       "       'cat_NumberOfTime30-59DaysPastDueNotWorse', 'cat_age'],\n",
       "      dtype='object'))])</pre></div></div></div><div class=\"sk-parallel\"><div class=\"sk-parallel-item\"><div class=\"sk-item\"><div class=\"sk-label-container\"><div class=\"sk-label sk-toggleable\"><input class=\"sk-toggleable__control sk-hidden--visually\" id=\"3e0abf94-f958-4b4f-8fb7-e5b1dd0deae4\" type=\"checkbox\" ><label class=\"sk-toggleable__label\" for=\"3e0abf94-f958-4b4f-8fb7-e5b1dd0deae4\">numerical</label><div class=\"sk-toggleable__content\"><pre>Index(['RevolvingUtilizationOfUnsecuredLines', 'DebtRatio', 'MonthlyIncome',\n",
       "       'NumberOfDependents', 'NumberOfTime60-89DaysPastDueNotWorse',\n",
       "       'NumberRealEstateLoansOrLines', 'NumberOfTimes90DaysLate',\n",
       "       'NumberOfOpenCreditLinesAndLoans',\n",
       "       'NumberOfTime30-59DaysPastDueNotWorse', 'age', 'Weighted_Sum_PastDue',\n",
       "       '90days_out_of_TotalPastDue', 'RemainingLines', 'Loans_vs_Other_Lines',\n",
       "       'Debt_per_Real_Estate_Loan', 'Disposable_Income_per_person',\n",
       "       'RemainingLines_per_person', 'NumberRE_X_DebtRatio_X_age',\n",
       "       'RevolvingUtilization_per_age'],\n",
       "      dtype='object')</pre></div></div></div><div class=\"sk-serial\"><div class=\"sk-item\"><div class=\"sk-serial\"><div class=\"sk-item\"><div class=\"sk-estimator sk-toggleable\"><input class=\"sk-toggleable__control sk-hidden--visually\" id=\"f2b943ad-fd90-4cdc-b46d-5cafa4cd02c7\" type=\"checkbox\" ><label class=\"sk-toggleable__label\" for=\"f2b943ad-fd90-4cdc-b46d-5cafa4cd02c7\">SimpleImputer</label><div class=\"sk-toggleable__content\"><pre>SimpleImputer(add_indicator=True, strategy='median')</pre></div></div></div><div class=\"sk-item\"><div class=\"sk-estimator sk-toggleable\"><input class=\"sk-toggleable__control sk-hidden--visually\" id=\"5c97d998-a5ed-40d8-bb56-4fcfa5a7a1ae\" type=\"checkbox\" ><label class=\"sk-toggleable__label\" for=\"5c97d998-a5ed-40d8-bb56-4fcfa5a7a1ae\">PowerTransformer</label><div class=\"sk-toggleable__content\"><pre>PowerTransformer()</pre></div></div></div><div class=\"sk-item\"><div class=\"sk-estimator sk-toggleable\"><input class=\"sk-toggleable__control sk-hidden--visually\" id=\"1949be6d-b3b5-4666-a7d1-00708656ced0\" type=\"checkbox\" ><label class=\"sk-toggleable__label\" for=\"1949be6d-b3b5-4666-a7d1-00708656ced0\">SelectPercentile</label><div class=\"sk-toggleable__content\"><pre>SelectPercentile(percentile=90)</pre></div></div></div></div></div></div></div></div><div class=\"sk-parallel-item\"><div class=\"sk-item\"><div class=\"sk-label-container\"><div class=\"sk-label sk-toggleable\"><input class=\"sk-toggleable__control sk-hidden--visually\" id=\"f5ef56e3-929c-417b-a11e-e9a48391a991\" type=\"checkbox\" ><label class=\"sk-toggleable__label\" for=\"f5ef56e3-929c-417b-a11e-e9a48391a991\">categorical</label><div class=\"sk-toggleable__content\"><pre>Index(['cat_RevolvingUtilizationOfUnsecuredLines', 'cat_DebtRatio',\n",
       "       'cat_MonthlyIncome', 'cat_NumberOfDependents',\n",
       "       'cat_NumberOfTime60-89DaysPastDueNotWorse',\n",
       "       'cat_NumberRealEstateLoansOrLines', 'cat_NumberOfTimes90DaysLate',\n",
       "       'cat_NumberOfOpenCreditLinesAndLoans',\n",
       "       'cat_NumberOfTime30-59DaysPastDueNotWorse', 'cat_age'],\n",
       "      dtype='object')</pre></div></div></div><div class=\"sk-serial\"><div class=\"sk-item\"><div class=\"sk-serial\"><div class=\"sk-item\"><div class=\"sk-estimator sk-toggleable\"><input class=\"sk-toggleable__control sk-hidden--visually\" id=\"190a84fb-2bad-443f-b258-bb8a4cef4f6a\" type=\"checkbox\" ><label class=\"sk-toggleable__label\" for=\"190a84fb-2bad-443f-b258-bb8a4cef4f6a\">SimpleImputer</label><div class=\"sk-toggleable__content\"><pre>SimpleImputer(add_indicator=True, fill_value='missing',\n",
       "              strategy='most_frequent')</pre></div></div></div><div class=\"sk-item\"><div class=\"sk-estimator sk-toggleable\"><input class=\"sk-toggleable__control sk-hidden--visually\" id=\"c62237a1-c218-4113-93ae-308af6609ae9\" type=\"checkbox\" ><label class=\"sk-toggleable__label\" for=\"c62237a1-c218-4113-93ae-308af6609ae9\">CatBoostEncoder</label><div class=\"sk-toggleable__content\"><pre>CatBoostEncoder()</pre></div></div></div><div class=\"sk-item\"><div class=\"sk-estimator sk-toggleable\"><input class=\"sk-toggleable__control sk-hidden--visually\" id=\"548918da-8787-4170-840f-d92141ca898a\" type=\"checkbox\" ><label class=\"sk-toggleable__label\" for=\"548918da-8787-4170-840f-d92141ca898a\">SelectPercentile</label><div class=\"sk-toggleable__content\"><pre>SelectPercentile(percentile=90,\n",
       "                 score_func=<function mutual_info_classif at 0x7fab4fedf950>)</pre></div></div></div></div></div></div></div></div></div></div><div class=\"sk-item\"><div class=\"sk-estimator sk-toggleable\"><input class=\"sk-toggleable__control sk-hidden--visually\" id=\"c3b2521e-ab26-40d9-97ff-dd89a36873db\" type=\"checkbox\" ><label class=\"sk-toggleable__label\" for=\"c3b2521e-ab26-40d9-97ff-dd89a36873db\">LGBMClassifier</label><div class=\"sk-toggleable__content\"><pre>LGBMClassifier(device_type='gpu', learning_rate=0.0018069834369607075,\n",
       "               max_depth=8, metric='auc', min_samples_leaf=47,\n",
       "               n_estimators=5000, random_state=42, subsample=0.8573598985000007,\n",
       "               verbose=-1)</pre></div></div></div></div></div></div></div>"
      ],
      "text/plain": [
       "Pipeline(steps=[('preprocessor',\n",
       "                 ColumnTransformer(transformers=[('numerical',\n",
       "                                                  Pipeline(steps=[('imputer',\n",
       "                                                                   SimpleImputer(add_indicator=True,\n",
       "                                                                                 strategy='median')),\n",
       "                                                                  ('scaler',\n",
       "                                                                   PowerTransformer()),\n",
       "                                                                  ('reducedim',\n",
       "                                                                   SelectPercentile(percentile=90))]),\n",
       "                                                  Index(['RevolvingUtilizationOfUnsecuredLines', 'DebtRatio', 'MonthlyIncome',\n",
       "       'NumberOfDependents', 'NumberOfTime60-89Da...\n",
       "       'cat_NumberRealEstateLoansOrLines', 'cat_NumberOfTimes90DaysLate',\n",
       "       'cat_NumberOfOpenCreditLinesAndLoans',\n",
       "       'cat_NumberOfTime30-59DaysPastDueNotWorse', 'cat_age'],\n",
       "      dtype='object'))])),\n",
       "                ('classifier',\n",
       "                 LGBMClassifier(device_type='gpu',\n",
       "                                learning_rate=0.0018069834369607075,\n",
       "                                max_depth=8, metric='auc', min_samples_leaf=47,\n",
       "                                n_estimators=5000, random_state=42,\n",
       "                                subsample=0.8573598985000007, verbose=-1))])"
      ]
     },
     "execution_count": 39,
     "metadata": {},
     "output_type": "execute_result"
    }
   ],
   "source": [
    "preprocessor_catboost_powertransformer_new_fe = ColumnTransformer(\n",
    "            transformers=[\n",
    "                ('numerical', numeric_transformer, num_columns_new),\n",
    "                ('categorical', categorical_transformer_catboost, cat_columns_new)\n",
    "            ]\n",
    "            )\n",
    "\n",
    "pipe_lgbm_catboost_powertransformer_new_fe = Pipeline(\n",
    "    steps=[\n",
    "        ('preprocessor', preprocessor_catboost_powertransformer_new_fe),\n",
    "        ('classifier', lgbm.LGBMClassifier( n_jobs=-1,\n",
    "                                           verbose=-1,\n",
    "                                           **lgbm_param))\n",
    "    ]\n",
    ")\n",
    "pipe_lgbm_catboost_powertransformer_new_fe"
   ]
  },
  {
   "cell_type": "markdown",
   "id": "a0624b9d",
   "metadata": {
    "papermill": {
     "duration": 0.056991,
     "end_time": "2021-12-23T10:01:24.373577",
     "exception": false,
     "start_time": "2021-12-23T10:01:24.316586",
     "status": "completed"
    },
    "tags": []
   },
   "source": [
    "## Handle Outlier :cat+power+fe "
   ]
  },
  {
   "cell_type": "code",
   "execution_count": 40,
   "id": "0a767c92",
   "metadata": {
    "execution": {
     "iopub.execute_input": "2021-12-23T10:01:24.538222Z",
     "iopub.status.busy": "2021-12-23T10:01:24.517629Z",
     "iopub.status.idle": "2021-12-23T10:01:24.962575Z",
     "shell.execute_reply": "2021-12-23T10:01:24.962950Z"
    },
    "papermill": {
     "duration": 0.530862,
     "end_time": "2021-12-23T10:01:24.963103",
     "exception": false,
     "start_time": "2021-12-23T10:01:24.432241",
     "status": "completed"
    },
    "tags": []
   },
   "outputs": [
    {
     "data": {
      "text/html": [
       "<style>div.sk-top-container {color: black;background-color: white;}div.sk-toggleable {background-color: white;}label.sk-toggleable__label {cursor: pointer;display: block;width: 100%;margin-bottom: 0;padding: 0.2em 0.3em;box-sizing: border-box;text-align: center;}div.sk-toggleable__content {max-height: 0;max-width: 0;overflow: hidden;text-align: left;background-color: #f0f8ff;}div.sk-toggleable__content pre {margin: 0.2em;color: black;border-radius: 0.25em;background-color: #f0f8ff;}input.sk-toggleable__control:checked~div.sk-toggleable__content {max-height: 200px;max-width: 100%;overflow: auto;}div.sk-estimator input.sk-toggleable__control:checked~label.sk-toggleable__label {background-color: #d4ebff;}div.sk-label input.sk-toggleable__control:checked~label.sk-toggleable__label {background-color: #d4ebff;}input.sk-hidden--visually {border: 0;clip: rect(1px 1px 1px 1px);clip: rect(1px, 1px, 1px, 1px);height: 1px;margin: -1px;overflow: hidden;padding: 0;position: absolute;width: 1px;}div.sk-estimator {font-family: monospace;background-color: #f0f8ff;margin: 0.25em 0.25em;border: 1px dotted black;border-radius: 0.25em;box-sizing: border-box;}div.sk-estimator:hover {background-color: #d4ebff;}div.sk-parallel-item::after {content: \"\";width: 100%;border-bottom: 1px solid gray;flex-grow: 1;}div.sk-label:hover label.sk-toggleable__label {background-color: #d4ebff;}div.sk-serial::before {content: \"\";position: absolute;border-left: 1px solid gray;box-sizing: border-box;top: 2em;bottom: 0;left: 50%;}div.sk-serial {display: flex;flex-direction: column;align-items: center;background-color: white;}div.sk-item {z-index: 1;}div.sk-parallel {display: flex;align-items: stretch;justify-content: center;background-color: white;}div.sk-parallel-item {display: flex;flex-direction: column;position: relative;background-color: white;}div.sk-parallel-item:first-child::after {align-self: flex-end;width: 50%;}div.sk-parallel-item:last-child::after {align-self: flex-start;width: 50%;}div.sk-parallel-item:only-child::after {width: 0;}div.sk-dashed-wrapped {border: 1px dashed gray;margin: 0.2em;box-sizing: border-box;padding-bottom: 0.1em;background-color: white;position: relative;}div.sk-label label {font-family: monospace;font-weight: bold;background-color: white;display: inline-block;line-height: 1.2em;}div.sk-label-container {position: relative;z-index: 2;text-align: center;}div.sk-container {display: inline-block;position: relative;}</style><div class=\"sk-top-container\"><div class=\"sk-container\"><div class=\"sk-item sk-dashed-wrapped\"><div class=\"sk-label-container\"><div class=\"sk-label sk-toggleable\"><input class=\"sk-toggleable__control sk-hidden--visually\" id=\"72f4dba0-e6e3-4d2c-b435-9b7b1ffb8c2d\" type=\"checkbox\" ><label class=\"sk-toggleable__label\" for=\"72f4dba0-e6e3-4d2c-b435-9b7b1ffb8c2d\">Pipeline</label><div class=\"sk-toggleable__content\"><pre>Pipeline(steps=[('preprocessor',\n",
       "                 ColumnTransformer(transformers=[('numerical',\n",
       "                                                  Pipeline(steps=[('outlierhandle',\n",
       "                                                                   OutlierReplace()),\n",
       "                                                                  ('imputer',\n",
       "                                                                   SimpleImputer(add_indicator=True,\n",
       "                                                                                 strategy='median')),\n",
       "                                                                  ('scaler',\n",
       "                                                                   PowerTransformer()),\n",
       "                                                                  ('reducedim',\n",
       "                                                                   SelectPercentile(percentile=90))]),\n",
       "                                                  Index(['RevolvingUtilizationOfUnsecuredLines', 'DebtRatio', 'MonthlyIncome',\n",
       "       'Numbe...\n",
       "       'cat_NumberRealEstateLoansOrLines', 'cat_NumberOfTimes90DaysLate',\n",
       "       'cat_NumberOfOpenCreditLinesAndLoans',\n",
       "       'cat_NumberOfTime30-59DaysPastDueNotWorse', 'cat_age'],\n",
       "      dtype='object'))])),\n",
       "                ('classifier',\n",
       "                 LGBMClassifier(device_type='gpu',\n",
       "                                learning_rate=0.0018069834369607075,\n",
       "                                max_depth=8, metric='auc', min_samples_leaf=47,\n",
       "                                n_estimators=5000, random_state=42,\n",
       "                                subsample=0.8573598985000007, verbose=-1))])</pre></div></div></div><div class=\"sk-serial\"><div class=\"sk-item sk-dashed-wrapped\"><div class=\"sk-label-container\"><div class=\"sk-label sk-toggleable\"><input class=\"sk-toggleable__control sk-hidden--visually\" id=\"96094f75-4708-4ecb-bd72-1d58c6ab063d\" type=\"checkbox\" ><label class=\"sk-toggleable__label\" for=\"96094f75-4708-4ecb-bd72-1d58c6ab063d\">preprocessor: ColumnTransformer</label><div class=\"sk-toggleable__content\"><pre>ColumnTransformer(transformers=[('numerical',\n",
       "                                 Pipeline(steps=[('outlierhandle',\n",
       "                                                  OutlierReplace()),\n",
       "                                                 ('imputer',\n",
       "                                                  SimpleImputer(add_indicator=True,\n",
       "                                                                strategy='median')),\n",
       "                                                 ('scaler', PowerTransformer()),\n",
       "                                                 ('reducedim',\n",
       "                                                  SelectPercentile(percentile=90))]),\n",
       "                                 Index(['RevolvingUtilizationOfUnsecuredLines', 'DebtRatio', 'MonthlyIncome',\n",
       "       'NumberOfDependents', 'NumberOfTime60-8...\n",
       "                                                                   score_func=<function mutual_info_classif at 0x7fab4fedf950>))]),\n",
       "                                 Index(['cat_RevolvingUtilizationOfUnsecuredLines', 'cat_DebtRatio',\n",
       "       'cat_MonthlyIncome', 'cat_NumberOfDependents',\n",
       "       'cat_NumberOfTime60-89DaysPastDueNotWorse',\n",
       "       'cat_NumberRealEstateLoansOrLines', 'cat_NumberOfTimes90DaysLate',\n",
       "       'cat_NumberOfOpenCreditLinesAndLoans',\n",
       "       'cat_NumberOfTime30-59DaysPastDueNotWorse', 'cat_age'],\n",
       "      dtype='object'))])</pre></div></div></div><div class=\"sk-parallel\"><div class=\"sk-parallel-item\"><div class=\"sk-item\"><div class=\"sk-label-container\"><div class=\"sk-label sk-toggleable\"><input class=\"sk-toggleable__control sk-hidden--visually\" id=\"a6433d6f-fbea-4920-9a8e-7459d49e2888\" type=\"checkbox\" ><label class=\"sk-toggleable__label\" for=\"a6433d6f-fbea-4920-9a8e-7459d49e2888\">numerical</label><div class=\"sk-toggleable__content\"><pre>Index(['RevolvingUtilizationOfUnsecuredLines', 'DebtRatio', 'MonthlyIncome',\n",
       "       'NumberOfDependents', 'NumberOfTime60-89DaysPastDueNotWorse',\n",
       "       'NumberRealEstateLoansOrLines', 'NumberOfTimes90DaysLate',\n",
       "       'NumberOfOpenCreditLinesAndLoans',\n",
       "       'NumberOfTime30-59DaysPastDueNotWorse', 'age', 'Weighted_Sum_PastDue',\n",
       "       '90days_out_of_TotalPastDue', 'RemainingLines', 'Loans_vs_Other_Lines',\n",
       "       'Debt_per_Real_Estate_Loan', 'Disposable_Income_per_person',\n",
       "       'RemainingLines_per_person', 'NumberRE_X_DebtRatio_X_age',\n",
       "       'RevolvingUtilization_per_age'],\n",
       "      dtype='object')</pre></div></div></div><div class=\"sk-serial\"><div class=\"sk-item\"><div class=\"sk-serial\"><div class=\"sk-item\"><div class=\"sk-estimator sk-toggleable\"><input class=\"sk-toggleable__control sk-hidden--visually\" id=\"79cc91a2-1733-4c5a-8983-e3096594ee89\" type=\"checkbox\" ><label class=\"sk-toggleable__label\" for=\"79cc91a2-1733-4c5a-8983-e3096594ee89\">OutlierReplace</label><div class=\"sk-toggleable__content\"><pre>OutlierReplace()</pre></div></div></div><div class=\"sk-item\"><div class=\"sk-estimator sk-toggleable\"><input class=\"sk-toggleable__control sk-hidden--visually\" id=\"25c0786e-89f7-4013-a4d2-e9761d6fb0d1\" type=\"checkbox\" ><label class=\"sk-toggleable__label\" for=\"25c0786e-89f7-4013-a4d2-e9761d6fb0d1\">SimpleImputer</label><div class=\"sk-toggleable__content\"><pre>SimpleImputer(add_indicator=True, strategy='median')</pre></div></div></div><div class=\"sk-item\"><div class=\"sk-estimator sk-toggleable\"><input class=\"sk-toggleable__control sk-hidden--visually\" id=\"c5ffd315-e8b5-4eb0-801a-ef291a0429e1\" type=\"checkbox\" ><label class=\"sk-toggleable__label\" for=\"c5ffd315-e8b5-4eb0-801a-ef291a0429e1\">PowerTransformer</label><div class=\"sk-toggleable__content\"><pre>PowerTransformer()</pre></div></div></div><div class=\"sk-item\"><div class=\"sk-estimator sk-toggleable\"><input class=\"sk-toggleable__control sk-hidden--visually\" id=\"3aea587e-d212-4c49-8a8b-94577512a4dc\" type=\"checkbox\" ><label class=\"sk-toggleable__label\" for=\"3aea587e-d212-4c49-8a8b-94577512a4dc\">SelectPercentile</label><div class=\"sk-toggleable__content\"><pre>SelectPercentile(percentile=90)</pre></div></div></div></div></div></div></div></div><div class=\"sk-parallel-item\"><div class=\"sk-item\"><div class=\"sk-label-container\"><div class=\"sk-label sk-toggleable\"><input class=\"sk-toggleable__control sk-hidden--visually\" id=\"8038ee85-ea03-4658-8758-21f61d55ccd2\" type=\"checkbox\" ><label class=\"sk-toggleable__label\" for=\"8038ee85-ea03-4658-8758-21f61d55ccd2\">categorical</label><div class=\"sk-toggleable__content\"><pre>Index(['cat_RevolvingUtilizationOfUnsecuredLines', 'cat_DebtRatio',\n",
       "       'cat_MonthlyIncome', 'cat_NumberOfDependents',\n",
       "       'cat_NumberOfTime60-89DaysPastDueNotWorse',\n",
       "       'cat_NumberRealEstateLoansOrLines', 'cat_NumberOfTimes90DaysLate',\n",
       "       'cat_NumberOfOpenCreditLinesAndLoans',\n",
       "       'cat_NumberOfTime30-59DaysPastDueNotWorse', 'cat_age'],\n",
       "      dtype='object')</pre></div></div></div><div class=\"sk-serial\"><div class=\"sk-item\"><div class=\"sk-serial\"><div class=\"sk-item\"><div class=\"sk-estimator sk-toggleable\"><input class=\"sk-toggleable__control sk-hidden--visually\" id=\"e20f2b54-ed63-48c5-a1b3-692a923a3b26\" type=\"checkbox\" ><label class=\"sk-toggleable__label\" for=\"e20f2b54-ed63-48c5-a1b3-692a923a3b26\">SimpleImputer</label><div class=\"sk-toggleable__content\"><pre>SimpleImputer(add_indicator=True, fill_value='missing',\n",
       "              strategy='most_frequent')</pre></div></div></div><div class=\"sk-item\"><div class=\"sk-estimator sk-toggleable\"><input class=\"sk-toggleable__control sk-hidden--visually\" id=\"46c73904-b087-4543-8837-0a522d1dfa37\" type=\"checkbox\" ><label class=\"sk-toggleable__label\" for=\"46c73904-b087-4543-8837-0a522d1dfa37\">CatBoostEncoder</label><div class=\"sk-toggleable__content\"><pre>CatBoostEncoder()</pre></div></div></div><div class=\"sk-item\"><div class=\"sk-estimator sk-toggleable\"><input class=\"sk-toggleable__control sk-hidden--visually\" id=\"5f8414f3-c103-48e9-87b5-5554b87257f7\" type=\"checkbox\" ><label class=\"sk-toggleable__label\" for=\"5f8414f3-c103-48e9-87b5-5554b87257f7\">SelectPercentile</label><div class=\"sk-toggleable__content\"><pre>SelectPercentile(percentile=90,\n",
       "                 score_func=<function mutual_info_classif at 0x7fab4fedf950>)</pre></div></div></div></div></div></div></div></div></div></div><div class=\"sk-item\"><div class=\"sk-estimator sk-toggleable\"><input class=\"sk-toggleable__control sk-hidden--visually\" id=\"a9f61878-e29c-481b-9481-471f3c151ee4\" type=\"checkbox\" ><label class=\"sk-toggleable__label\" for=\"a9f61878-e29c-481b-9481-471f3c151ee4\">LGBMClassifier</label><div class=\"sk-toggleable__content\"><pre>LGBMClassifier(device_type='gpu', learning_rate=0.0018069834369607075,\n",
       "               max_depth=8, metric='auc', min_samples_leaf=47,\n",
       "               n_estimators=5000, random_state=42, subsample=0.8573598985000007,\n",
       "               verbose=-1)</pre></div></div></div></div></div></div></div>"
      ],
      "text/plain": [
       "Pipeline(steps=[('preprocessor',\n",
       "                 ColumnTransformer(transformers=[('numerical',\n",
       "                                                  Pipeline(steps=[('outlierhandle',\n",
       "                                                                   OutlierReplace()),\n",
       "                                                                  ('imputer',\n",
       "                                                                   SimpleImputer(add_indicator=True,\n",
       "                                                                                 strategy='median')),\n",
       "                                                                  ('scaler',\n",
       "                                                                   PowerTransformer()),\n",
       "                                                                  ('reducedim',\n",
       "                                                                   SelectPercentile(percentile=90))]),\n",
       "                                                  Index(['RevolvingUtilizationOfUnsecuredLines', 'DebtRatio', 'MonthlyIncome',\n",
       "       'Numbe...\n",
       "       'cat_NumberRealEstateLoansOrLines', 'cat_NumberOfTimes90DaysLate',\n",
       "       'cat_NumberOfOpenCreditLinesAndLoans',\n",
       "       'cat_NumberOfTime30-59DaysPastDueNotWorse', 'cat_age'],\n",
       "      dtype='object'))])),\n",
       "                ('classifier',\n",
       "                 LGBMClassifier(device_type='gpu',\n",
       "                                learning_rate=0.0018069834369607075,\n",
       "                                max_depth=8, metric='auc', min_samples_leaf=47,\n",
       "                                n_estimators=5000, random_state=42,\n",
       "                                subsample=0.8573598985000007, verbose=-1))])"
      ]
     },
     "execution_count": 40,
     "metadata": {},
     "output_type": "execute_result"
    }
   ],
   "source": [
    "preprocessor_catboost_powertransformer_new_fe_outlier = ColumnTransformer(\n",
    "            transformers=[\n",
    "                ('numerical', numeric_transformer_outlier, num_columns_new),\n",
    "                ('categorical', categorical_transformer_catboost, cat_columns_new)\n",
    "            ]\n",
    "            )\n",
    "\n",
    "pipe_lgbm_catboost_powertransformer_new_fe_outlier= Pipeline(\n",
    "    steps=[\n",
    "        ('preprocessor', preprocessor_catboost_powertransformer_new_fe_outlier),\n",
    "        ('classifier', lgbm.LGBMClassifier( n_jobs=-1,\n",
    "                                           verbose=-1,\n",
    "                                           **lgbm_param))\n",
    "    ]\n",
    ")\n",
    "pipe_lgbm_catboost_powertransformer_new_fe_outlier"
   ]
  },
  {
   "cell_type": "markdown",
   "id": "7a89c1e3",
   "metadata": {
    "papermill": {
     "duration": 0.059782,
     "end_time": "2021-12-23T10:01:25.084088",
     "exception": false,
     "start_time": "2021-12-23T10:01:25.024306",
     "status": "completed"
    },
    "tags": []
   },
   "source": [
    "## Drop missing:cat+power+fe "
   ]
  },
  {
   "cell_type": "code",
   "execution_count": 41,
   "id": "317ac3e5",
   "metadata": {
    "execution": {
     "iopub.execute_input": "2021-12-23T10:01:25.256922Z",
     "iopub.status.busy": "2021-12-23T10:01:25.236389Z",
     "iopub.status.idle": "2021-12-23T10:01:25.665023Z",
     "shell.execute_reply": "2021-12-23T10:01:25.665421Z"
    },
    "papermill": {
     "duration": 0.522169,
     "end_time": "2021-12-23T10:01:25.665586",
     "exception": false,
     "start_time": "2021-12-23T10:01:25.143417",
     "status": "completed"
    },
    "tags": []
   },
   "outputs": [
    {
     "data": {
      "text/html": [
       "<style>div.sk-top-container {color: black;background-color: white;}div.sk-toggleable {background-color: white;}label.sk-toggleable__label {cursor: pointer;display: block;width: 100%;margin-bottom: 0;padding: 0.2em 0.3em;box-sizing: border-box;text-align: center;}div.sk-toggleable__content {max-height: 0;max-width: 0;overflow: hidden;text-align: left;background-color: #f0f8ff;}div.sk-toggleable__content pre {margin: 0.2em;color: black;border-radius: 0.25em;background-color: #f0f8ff;}input.sk-toggleable__control:checked~div.sk-toggleable__content {max-height: 200px;max-width: 100%;overflow: auto;}div.sk-estimator input.sk-toggleable__control:checked~label.sk-toggleable__label {background-color: #d4ebff;}div.sk-label input.sk-toggleable__control:checked~label.sk-toggleable__label {background-color: #d4ebff;}input.sk-hidden--visually {border: 0;clip: rect(1px 1px 1px 1px);clip: rect(1px, 1px, 1px, 1px);height: 1px;margin: -1px;overflow: hidden;padding: 0;position: absolute;width: 1px;}div.sk-estimator {font-family: monospace;background-color: #f0f8ff;margin: 0.25em 0.25em;border: 1px dotted black;border-radius: 0.25em;box-sizing: border-box;}div.sk-estimator:hover {background-color: #d4ebff;}div.sk-parallel-item::after {content: \"\";width: 100%;border-bottom: 1px solid gray;flex-grow: 1;}div.sk-label:hover label.sk-toggleable__label {background-color: #d4ebff;}div.sk-serial::before {content: \"\";position: absolute;border-left: 1px solid gray;box-sizing: border-box;top: 2em;bottom: 0;left: 50%;}div.sk-serial {display: flex;flex-direction: column;align-items: center;background-color: white;}div.sk-item {z-index: 1;}div.sk-parallel {display: flex;align-items: stretch;justify-content: center;background-color: white;}div.sk-parallel-item {display: flex;flex-direction: column;position: relative;background-color: white;}div.sk-parallel-item:first-child::after {align-self: flex-end;width: 50%;}div.sk-parallel-item:last-child::after {align-self: flex-start;width: 50%;}div.sk-parallel-item:only-child::after {width: 0;}div.sk-dashed-wrapped {border: 1px dashed gray;margin: 0.2em;box-sizing: border-box;padding-bottom: 0.1em;background-color: white;position: relative;}div.sk-label label {font-family: monospace;font-weight: bold;background-color: white;display: inline-block;line-height: 1.2em;}div.sk-label-container {position: relative;z-index: 2;text-align: center;}div.sk-container {display: inline-block;position: relative;}</style><div class=\"sk-top-container\"><div class=\"sk-container\"><div class=\"sk-item sk-dashed-wrapped\"><div class=\"sk-label-container\"><div class=\"sk-label sk-toggleable\"><input class=\"sk-toggleable__control sk-hidden--visually\" id=\"c3d6faba-1ba9-4eed-9dbd-9d1360e49e92\" type=\"checkbox\" ><label class=\"sk-toggleable__label\" for=\"c3d6faba-1ba9-4eed-9dbd-9d1360e49e92\">Pipeline</label><div class=\"sk-toggleable__content\"><pre>Pipeline(steps=[('preprocessor',\n",
       "                 ColumnTransformer(transformers=[('numerical',\n",
       "                                                  Pipeline(steps=[('imputer',\n",
       "                                                                   SimpleImputer(add_indicator=True,\n",
       "                                                                                 strategy='median')),\n",
       "                                                                  ('scaler',\n",
       "                                                                   PowerTransformer()),\n",
       "                                                                  ('reducedim',\n",
       "                                                                   SelectPercentile(percentile=90))]),\n",
       "                                                  Index(['RevolvingUtilizationOfUnsecuredLines', 'DebtRatio',\n",
       "       'NumberOfTime60-89DaysPastDueNotWorse', 'NumberRealEstateL...\n",
       "       'cat_NumberRealEstateLoansOrLines', 'cat_NumberOfTimes90DaysLate',\n",
       "       'cat_NumberOfOpenCreditLinesAndLoans',\n",
       "       'cat_NumberOfTime30-59DaysPastDueNotWorse', 'cat_age'],\n",
       "      dtype='object'))])),\n",
       "                ('classifier',\n",
       "                 LGBMClassifier(device_type='gpu',\n",
       "                                learning_rate=0.0018069834369607075,\n",
       "                                max_depth=8, metric='auc', min_samples_leaf=47,\n",
       "                                n_estimators=5000, random_state=42,\n",
       "                                subsample=0.8573598985000007, verbose=-1))])</pre></div></div></div><div class=\"sk-serial\"><div class=\"sk-item sk-dashed-wrapped\"><div class=\"sk-label-container\"><div class=\"sk-label sk-toggleable\"><input class=\"sk-toggleable__control sk-hidden--visually\" id=\"d1c20049-7e55-4aad-aaac-63147fe5406e\" type=\"checkbox\" ><label class=\"sk-toggleable__label\" for=\"d1c20049-7e55-4aad-aaac-63147fe5406e\">preprocessor: ColumnTransformer</label><div class=\"sk-toggleable__content\"><pre>ColumnTransformer(transformers=[('numerical',\n",
       "                                 Pipeline(steps=[('imputer',\n",
       "                                                  SimpleImputer(add_indicator=True,\n",
       "                                                                strategy='median')),\n",
       "                                                 ('scaler', PowerTransformer()),\n",
       "                                                 ('reducedim',\n",
       "                                                  SelectPercentile(percentile=90))]),\n",
       "                                 Index(['RevolvingUtilizationOfUnsecuredLines', 'DebtRatio',\n",
       "       'NumberOfTime60-89DaysPastDueNotWorse', 'NumberRealEstateLoansOrLines',\n",
       "       'NumberOfTimes90Day...\n",
       "                                                                   score_func=<function mutual_info_classif at 0x7fab4fedf950>))]),\n",
       "                                 Index(['cat_RevolvingUtilizationOfUnsecuredLines', 'cat_DebtRatio',\n",
       "       'cat_MonthlyIncome', 'cat_NumberOfDependents',\n",
       "       'cat_NumberOfTime60-89DaysPastDueNotWorse',\n",
       "       'cat_NumberRealEstateLoansOrLines', 'cat_NumberOfTimes90DaysLate',\n",
       "       'cat_NumberOfOpenCreditLinesAndLoans',\n",
       "       'cat_NumberOfTime30-59DaysPastDueNotWorse', 'cat_age'],\n",
       "      dtype='object'))])</pre></div></div></div><div class=\"sk-parallel\"><div class=\"sk-parallel-item\"><div class=\"sk-item\"><div class=\"sk-label-container\"><div class=\"sk-label sk-toggleable\"><input class=\"sk-toggleable__control sk-hidden--visually\" id=\"f37809df-4e51-4a4c-a91e-99b64c006437\" type=\"checkbox\" ><label class=\"sk-toggleable__label\" for=\"f37809df-4e51-4a4c-a91e-99b64c006437\">numerical</label><div class=\"sk-toggleable__content\"><pre>Index(['RevolvingUtilizationOfUnsecuredLines', 'DebtRatio',\n",
       "       'NumberOfTime60-89DaysPastDueNotWorse', 'NumberRealEstateLoansOrLines',\n",
       "       'NumberOfTimes90DaysLate', 'NumberOfOpenCreditLinesAndLoans',\n",
       "       'NumberOfTime30-59DaysPastDueNotWorse', 'age', 'Weighted_Sum_PastDue',\n",
       "       '90days_out_of_TotalPastDue', 'RemainingLines', 'Loans_vs_Other_Lines',\n",
       "       'Debt_per_Real_Estate_Loan', 'Disposable_Income_per_person',\n",
       "       'RemainingLines_per_person', 'NumberRE_X_DebtRatio_X_age',\n",
       "       'RevolvingUtilization_per_age'],\n",
       "      dtype='object')</pre></div></div></div><div class=\"sk-serial\"><div class=\"sk-item\"><div class=\"sk-serial\"><div class=\"sk-item\"><div class=\"sk-estimator sk-toggleable\"><input class=\"sk-toggleable__control sk-hidden--visually\" id=\"5dcce3d8-293d-4b89-9d63-e19274e50e0c\" type=\"checkbox\" ><label class=\"sk-toggleable__label\" for=\"5dcce3d8-293d-4b89-9d63-e19274e50e0c\">SimpleImputer</label><div class=\"sk-toggleable__content\"><pre>SimpleImputer(add_indicator=True, strategy='median')</pre></div></div></div><div class=\"sk-item\"><div class=\"sk-estimator sk-toggleable\"><input class=\"sk-toggleable__control sk-hidden--visually\" id=\"6e57bc1b-8246-4008-a170-fd79cd080408\" type=\"checkbox\" ><label class=\"sk-toggleable__label\" for=\"6e57bc1b-8246-4008-a170-fd79cd080408\">PowerTransformer</label><div class=\"sk-toggleable__content\"><pre>PowerTransformer()</pre></div></div></div><div class=\"sk-item\"><div class=\"sk-estimator sk-toggleable\"><input class=\"sk-toggleable__control sk-hidden--visually\" id=\"b413c5a0-e962-450a-aa59-f3d1b9855187\" type=\"checkbox\" ><label class=\"sk-toggleable__label\" for=\"b413c5a0-e962-450a-aa59-f3d1b9855187\">SelectPercentile</label><div class=\"sk-toggleable__content\"><pre>SelectPercentile(percentile=90)</pre></div></div></div></div></div></div></div></div><div class=\"sk-parallel-item\"><div class=\"sk-item\"><div class=\"sk-label-container\"><div class=\"sk-label sk-toggleable\"><input class=\"sk-toggleable__control sk-hidden--visually\" id=\"cfd41ee3-4392-4322-b699-d9dcece5a143\" type=\"checkbox\" ><label class=\"sk-toggleable__label\" for=\"cfd41ee3-4392-4322-b699-d9dcece5a143\">categorical</label><div class=\"sk-toggleable__content\"><pre>Index(['cat_RevolvingUtilizationOfUnsecuredLines', 'cat_DebtRatio',\n",
       "       'cat_MonthlyIncome', 'cat_NumberOfDependents',\n",
       "       'cat_NumberOfTime60-89DaysPastDueNotWorse',\n",
       "       'cat_NumberRealEstateLoansOrLines', 'cat_NumberOfTimes90DaysLate',\n",
       "       'cat_NumberOfOpenCreditLinesAndLoans',\n",
       "       'cat_NumberOfTime30-59DaysPastDueNotWorse', 'cat_age'],\n",
       "      dtype='object')</pre></div></div></div><div class=\"sk-serial\"><div class=\"sk-item\"><div class=\"sk-serial\"><div class=\"sk-item\"><div class=\"sk-estimator sk-toggleable\"><input class=\"sk-toggleable__control sk-hidden--visually\" id=\"7a3761d6-3840-423d-a7a4-54202b5342a3\" type=\"checkbox\" ><label class=\"sk-toggleable__label\" for=\"7a3761d6-3840-423d-a7a4-54202b5342a3\">SimpleImputer</label><div class=\"sk-toggleable__content\"><pre>SimpleImputer(add_indicator=True, fill_value='missing',\n",
       "              strategy='most_frequent')</pre></div></div></div><div class=\"sk-item\"><div class=\"sk-estimator sk-toggleable\"><input class=\"sk-toggleable__control sk-hidden--visually\" id=\"b6aad11c-5a8d-4ddc-92e3-87230e767549\" type=\"checkbox\" ><label class=\"sk-toggleable__label\" for=\"b6aad11c-5a8d-4ddc-92e3-87230e767549\">CatBoostEncoder</label><div class=\"sk-toggleable__content\"><pre>CatBoostEncoder()</pre></div></div></div><div class=\"sk-item\"><div class=\"sk-estimator sk-toggleable\"><input class=\"sk-toggleable__control sk-hidden--visually\" id=\"6c133125-c9e7-4790-95a9-1dc6f7263c2b\" type=\"checkbox\" ><label class=\"sk-toggleable__label\" for=\"6c133125-c9e7-4790-95a9-1dc6f7263c2b\">SelectPercentile</label><div class=\"sk-toggleable__content\"><pre>SelectPercentile(percentile=90,\n",
       "                 score_func=<function mutual_info_classif at 0x7fab4fedf950>)</pre></div></div></div></div></div></div></div></div></div></div><div class=\"sk-item\"><div class=\"sk-estimator sk-toggleable\"><input class=\"sk-toggleable__control sk-hidden--visually\" id=\"dc9b5389-b6e1-4776-b69c-fed82b3e2a88\" type=\"checkbox\" ><label class=\"sk-toggleable__label\" for=\"dc9b5389-b6e1-4776-b69c-fed82b3e2a88\">LGBMClassifier</label><div class=\"sk-toggleable__content\"><pre>LGBMClassifier(device_type='gpu', learning_rate=0.0018069834369607075,\n",
       "               max_depth=8, metric='auc', min_samples_leaf=47,\n",
       "               n_estimators=5000, random_state=42, subsample=0.8573598985000007,\n",
       "               verbose=-1)</pre></div></div></div></div></div></div></div>"
      ],
      "text/plain": [
       "Pipeline(steps=[('preprocessor',\n",
       "                 ColumnTransformer(transformers=[('numerical',\n",
       "                                                  Pipeline(steps=[('imputer',\n",
       "                                                                   SimpleImputer(add_indicator=True,\n",
       "                                                                                 strategy='median')),\n",
       "                                                                  ('scaler',\n",
       "                                                                   PowerTransformer()),\n",
       "                                                                  ('reducedim',\n",
       "                                                                   SelectPercentile(percentile=90))]),\n",
       "                                                  Index(['RevolvingUtilizationOfUnsecuredLines', 'DebtRatio',\n",
       "       'NumberOfTime60-89DaysPastDueNotWorse', 'NumberRealEstateL...\n",
       "       'cat_NumberRealEstateLoansOrLines', 'cat_NumberOfTimes90DaysLate',\n",
       "       'cat_NumberOfOpenCreditLinesAndLoans',\n",
       "       'cat_NumberOfTime30-59DaysPastDueNotWorse', 'cat_age'],\n",
       "      dtype='object'))])),\n",
       "                ('classifier',\n",
       "                 LGBMClassifier(device_type='gpu',\n",
       "                                learning_rate=0.0018069834369607075,\n",
       "                                max_depth=8, metric='auc', min_samples_leaf=47,\n",
       "                                n_estimators=5000, random_state=42,\n",
       "                                subsample=0.8573598985000007, verbose=-1))])"
      ]
     },
     "execution_count": 41,
     "metadata": {},
     "output_type": "execute_result"
    }
   ],
   "source": [
    "preprocessor_catboost_powertransformer_new_fe_without_missing= ColumnTransformer(\n",
    "            transformers=[\n",
    "                ('numerical', numeric_transformer, num_columns_new_without_missing),\n",
    "                ('categorical', categorical_transformer_catboost, cat_columns_new_without_missing)\n",
    "            ]\n",
    "            )\n",
    "pipe_lgbm_catboost_powertransformer_new_fe_without_missing = Pipeline(\n",
    "    steps=[\n",
    "        ('preprocessor', preprocessor_catboost_powertransformer_new_fe_without_missing),\n",
    "        ('classifier', lgbm.LGBMClassifier( n_jobs=-1,\n",
    "                                           verbose=-1,\n",
    "                                           **lgbm_param))\n",
    "    ]\n",
    ")\n",
    "pipe_lgbm_catboost_powertransformer_new_fe_without_missing"
   ]
  },
  {
   "cell_type": "markdown",
   "id": "da559c92",
   "metadata": {
    "papermill": {
     "duration": 0.059343,
     "end_time": "2021-12-23T10:01:25.783965",
     "exception": false,
     "start_time": "2021-12-23T10:01:25.724622",
     "status": "completed"
    },
    "tags": []
   },
   "source": [
    "# Pipe 7: cat +qauntile +new feature"
   ]
  },
  {
   "cell_type": "code",
   "execution_count": 42,
   "id": "e94d90cd",
   "metadata": {
    "execution": {
     "iopub.execute_input": "2021-12-23T10:01:25.920455Z",
     "iopub.status.busy": "2021-12-23T10:01:25.910550Z",
     "iopub.status.idle": "2021-12-23T10:01:26.366708Z",
     "shell.execute_reply": "2021-12-23T10:01:26.366260Z"
    },
    "papermill": {
     "duration": 0.523818,
     "end_time": "2021-12-23T10:01:26.366835",
     "exception": false,
     "start_time": "2021-12-23T10:01:25.843017",
     "status": "completed"
    },
    "tags": []
   },
   "outputs": [
    {
     "data": {
      "text/html": [
       "<style>div.sk-top-container {color: black;background-color: white;}div.sk-toggleable {background-color: white;}label.sk-toggleable__label {cursor: pointer;display: block;width: 100%;margin-bottom: 0;padding: 0.2em 0.3em;box-sizing: border-box;text-align: center;}div.sk-toggleable__content {max-height: 0;max-width: 0;overflow: hidden;text-align: left;background-color: #f0f8ff;}div.sk-toggleable__content pre {margin: 0.2em;color: black;border-radius: 0.25em;background-color: #f0f8ff;}input.sk-toggleable__control:checked~div.sk-toggleable__content {max-height: 200px;max-width: 100%;overflow: auto;}div.sk-estimator input.sk-toggleable__control:checked~label.sk-toggleable__label {background-color: #d4ebff;}div.sk-label input.sk-toggleable__control:checked~label.sk-toggleable__label {background-color: #d4ebff;}input.sk-hidden--visually {border: 0;clip: rect(1px 1px 1px 1px);clip: rect(1px, 1px, 1px, 1px);height: 1px;margin: -1px;overflow: hidden;padding: 0;position: absolute;width: 1px;}div.sk-estimator {font-family: monospace;background-color: #f0f8ff;margin: 0.25em 0.25em;border: 1px dotted black;border-radius: 0.25em;box-sizing: border-box;}div.sk-estimator:hover {background-color: #d4ebff;}div.sk-parallel-item::after {content: \"\";width: 100%;border-bottom: 1px solid gray;flex-grow: 1;}div.sk-label:hover label.sk-toggleable__label {background-color: #d4ebff;}div.sk-serial::before {content: \"\";position: absolute;border-left: 1px solid gray;box-sizing: border-box;top: 2em;bottom: 0;left: 50%;}div.sk-serial {display: flex;flex-direction: column;align-items: center;background-color: white;}div.sk-item {z-index: 1;}div.sk-parallel {display: flex;align-items: stretch;justify-content: center;background-color: white;}div.sk-parallel-item {display: flex;flex-direction: column;position: relative;background-color: white;}div.sk-parallel-item:first-child::after {align-self: flex-end;width: 50%;}div.sk-parallel-item:last-child::after {align-self: flex-start;width: 50%;}div.sk-parallel-item:only-child::after {width: 0;}div.sk-dashed-wrapped {border: 1px dashed gray;margin: 0.2em;box-sizing: border-box;padding-bottom: 0.1em;background-color: white;position: relative;}div.sk-label label {font-family: monospace;font-weight: bold;background-color: white;display: inline-block;line-height: 1.2em;}div.sk-label-container {position: relative;z-index: 2;text-align: center;}div.sk-container {display: inline-block;position: relative;}</style><div class=\"sk-top-container\"><div class=\"sk-container\"><div class=\"sk-item sk-dashed-wrapped\"><div class=\"sk-label-container\"><div class=\"sk-label sk-toggleable\"><input class=\"sk-toggleable__control sk-hidden--visually\" id=\"90b269d2-32a3-4027-a6a7-bf18b015d875\" type=\"checkbox\" ><label class=\"sk-toggleable__label\" for=\"90b269d2-32a3-4027-a6a7-bf18b015d875\">Pipeline</label><div class=\"sk-toggleable__content\"><pre>Pipeline(steps=[('preprocessor',\n",
       "                 ColumnTransformer(transformers=[('numerical',\n",
       "                                                  Pipeline(steps=[('imputer',\n",
       "                                                                   SimpleImputer(add_indicator=True,\n",
       "                                                                                 strategy='median')),\n",
       "                                                                  ('scaler',\n",
       "                                                                   QuantileTransformer()),\n",
       "                                                                  ('reducedim',\n",
       "                                                                   SelectPercentile(percentile=90))]),\n",
       "                                                  Index(['RevolvingUtilizationOfUnsecuredLines', 'DebtRatio', 'MonthlyIncome',\n",
       "       'NumberOfDependents', 'NumberOfTime60-8...\n",
       "       'cat_NumberRealEstateLoansOrLines', 'cat_NumberOfTimes90DaysLate',\n",
       "       'cat_NumberOfOpenCreditLinesAndLoans',\n",
       "       'cat_NumberOfTime30-59DaysPastDueNotWorse', 'cat_age'],\n",
       "      dtype='object'))])),\n",
       "                ('classifier',\n",
       "                 LGBMClassifier(device_type='gpu',\n",
       "                                learning_rate=0.0018069834369607075,\n",
       "                                max_depth=8, metric='auc', min_samples_leaf=47,\n",
       "                                n_estimators=5000, random_state=42,\n",
       "                                subsample=0.8573598985000007, verbose=-1))])</pre></div></div></div><div class=\"sk-serial\"><div class=\"sk-item sk-dashed-wrapped\"><div class=\"sk-label-container\"><div class=\"sk-label sk-toggleable\"><input class=\"sk-toggleable__control sk-hidden--visually\" id=\"b3b0d76c-a1fe-4c1f-b616-a51509a20a3a\" type=\"checkbox\" ><label class=\"sk-toggleable__label\" for=\"b3b0d76c-a1fe-4c1f-b616-a51509a20a3a\">preprocessor: ColumnTransformer</label><div class=\"sk-toggleable__content\"><pre>ColumnTransformer(transformers=[('numerical',\n",
       "                                 Pipeline(steps=[('imputer',\n",
       "                                                  SimpleImputer(add_indicator=True,\n",
       "                                                                strategy='median')),\n",
       "                                                 ('scaler',\n",
       "                                                  QuantileTransformer()),\n",
       "                                                 ('reducedim',\n",
       "                                                  SelectPercentile(percentile=90))]),\n",
       "                                 Index(['RevolvingUtilizationOfUnsecuredLines', 'DebtRatio', 'MonthlyIncome',\n",
       "       'NumberOfDependents', 'NumberOfTime60-89DaysPastDueNotWorse',\n",
       "       'NumberRea...\n",
       "                                                                   score_func=<function mutual_info_classif at 0x7fab4fedf950>))]),\n",
       "                                 Index(['cat_RevolvingUtilizationOfUnsecuredLines', 'cat_DebtRatio',\n",
       "       'cat_MonthlyIncome', 'cat_NumberOfDependents',\n",
       "       'cat_NumberOfTime60-89DaysPastDueNotWorse',\n",
       "       'cat_NumberRealEstateLoansOrLines', 'cat_NumberOfTimes90DaysLate',\n",
       "       'cat_NumberOfOpenCreditLinesAndLoans',\n",
       "       'cat_NumberOfTime30-59DaysPastDueNotWorse', 'cat_age'],\n",
       "      dtype='object'))])</pre></div></div></div><div class=\"sk-parallel\"><div class=\"sk-parallel-item\"><div class=\"sk-item\"><div class=\"sk-label-container\"><div class=\"sk-label sk-toggleable\"><input class=\"sk-toggleable__control sk-hidden--visually\" id=\"64767200-23b5-4124-a9e3-9ca2c168f08b\" type=\"checkbox\" ><label class=\"sk-toggleable__label\" for=\"64767200-23b5-4124-a9e3-9ca2c168f08b\">numerical</label><div class=\"sk-toggleable__content\"><pre>Index(['RevolvingUtilizationOfUnsecuredLines', 'DebtRatio', 'MonthlyIncome',\n",
       "       'NumberOfDependents', 'NumberOfTime60-89DaysPastDueNotWorse',\n",
       "       'NumberRealEstateLoansOrLines', 'NumberOfTimes90DaysLate',\n",
       "       'NumberOfOpenCreditLinesAndLoans',\n",
       "       'NumberOfTime30-59DaysPastDueNotWorse', 'age', 'Weighted_Sum_PastDue',\n",
       "       '90days_out_of_TotalPastDue', 'RemainingLines', 'Loans_vs_Other_Lines',\n",
       "       'Debt_per_Real_Estate_Loan', 'Disposable_Income_per_person',\n",
       "       'RemainingLines_per_person', 'NumberRE_X_DebtRatio_X_age',\n",
       "       'RevolvingUtilization_per_age'],\n",
       "      dtype='object')</pre></div></div></div><div class=\"sk-serial\"><div class=\"sk-item\"><div class=\"sk-serial\"><div class=\"sk-item\"><div class=\"sk-estimator sk-toggleable\"><input class=\"sk-toggleable__control sk-hidden--visually\" id=\"b6b92ddf-f823-45be-b739-5736972c1def\" type=\"checkbox\" ><label class=\"sk-toggleable__label\" for=\"b6b92ddf-f823-45be-b739-5736972c1def\">SimpleImputer</label><div class=\"sk-toggleable__content\"><pre>SimpleImputer(add_indicator=True, strategy='median')</pre></div></div></div><div class=\"sk-item\"><div class=\"sk-estimator sk-toggleable\"><input class=\"sk-toggleable__control sk-hidden--visually\" id=\"9f61a05e-9b23-4792-b273-0f98544a2dc0\" type=\"checkbox\" ><label class=\"sk-toggleable__label\" for=\"9f61a05e-9b23-4792-b273-0f98544a2dc0\">QuantileTransformer</label><div class=\"sk-toggleable__content\"><pre>QuantileTransformer()</pre></div></div></div><div class=\"sk-item\"><div class=\"sk-estimator sk-toggleable\"><input class=\"sk-toggleable__control sk-hidden--visually\" id=\"e54097a2-8bb3-4823-ae31-205737965dcb\" type=\"checkbox\" ><label class=\"sk-toggleable__label\" for=\"e54097a2-8bb3-4823-ae31-205737965dcb\">SelectPercentile</label><div class=\"sk-toggleable__content\"><pre>SelectPercentile(percentile=90)</pre></div></div></div></div></div></div></div></div><div class=\"sk-parallel-item\"><div class=\"sk-item\"><div class=\"sk-label-container\"><div class=\"sk-label sk-toggleable\"><input class=\"sk-toggleable__control sk-hidden--visually\" id=\"f0c8508f-e4fa-4828-9e34-c2b4dbcab2c0\" type=\"checkbox\" ><label class=\"sk-toggleable__label\" for=\"f0c8508f-e4fa-4828-9e34-c2b4dbcab2c0\">categorical</label><div class=\"sk-toggleable__content\"><pre>Index(['cat_RevolvingUtilizationOfUnsecuredLines', 'cat_DebtRatio',\n",
       "       'cat_MonthlyIncome', 'cat_NumberOfDependents',\n",
       "       'cat_NumberOfTime60-89DaysPastDueNotWorse',\n",
       "       'cat_NumberRealEstateLoansOrLines', 'cat_NumberOfTimes90DaysLate',\n",
       "       'cat_NumberOfOpenCreditLinesAndLoans',\n",
       "       'cat_NumberOfTime30-59DaysPastDueNotWorse', 'cat_age'],\n",
       "      dtype='object')</pre></div></div></div><div class=\"sk-serial\"><div class=\"sk-item\"><div class=\"sk-serial\"><div class=\"sk-item\"><div class=\"sk-estimator sk-toggleable\"><input class=\"sk-toggleable__control sk-hidden--visually\" id=\"3e2836ef-8f1a-4472-ac15-1de835d801a2\" type=\"checkbox\" ><label class=\"sk-toggleable__label\" for=\"3e2836ef-8f1a-4472-ac15-1de835d801a2\">SimpleImputer</label><div class=\"sk-toggleable__content\"><pre>SimpleImputer(add_indicator=True, fill_value='missing',\n",
       "              strategy='most_frequent')</pre></div></div></div><div class=\"sk-item\"><div class=\"sk-estimator sk-toggleable\"><input class=\"sk-toggleable__control sk-hidden--visually\" id=\"085fe090-6e7c-48a0-80d8-4495122e91cc\" type=\"checkbox\" ><label class=\"sk-toggleable__label\" for=\"085fe090-6e7c-48a0-80d8-4495122e91cc\">CatBoostEncoder</label><div class=\"sk-toggleable__content\"><pre>CatBoostEncoder()</pre></div></div></div><div class=\"sk-item\"><div class=\"sk-estimator sk-toggleable\"><input class=\"sk-toggleable__control sk-hidden--visually\" id=\"aadfb54c-5872-41cd-8506-0917570cf785\" type=\"checkbox\" ><label class=\"sk-toggleable__label\" for=\"aadfb54c-5872-41cd-8506-0917570cf785\">SelectPercentile</label><div class=\"sk-toggleable__content\"><pre>SelectPercentile(percentile=90,\n",
       "                 score_func=<function mutual_info_classif at 0x7fab4fedf950>)</pre></div></div></div></div></div></div></div></div></div></div><div class=\"sk-item\"><div class=\"sk-estimator sk-toggleable\"><input class=\"sk-toggleable__control sk-hidden--visually\" id=\"a48502b8-b767-48b4-98cc-79592fae1ce9\" type=\"checkbox\" ><label class=\"sk-toggleable__label\" for=\"a48502b8-b767-48b4-98cc-79592fae1ce9\">LGBMClassifier</label><div class=\"sk-toggleable__content\"><pre>LGBMClassifier(device_type='gpu', learning_rate=0.0018069834369607075,\n",
       "               max_depth=8, metric='auc', min_samples_leaf=47,\n",
       "               n_estimators=5000, random_state=42, subsample=0.8573598985000007,\n",
       "               verbose=-1)</pre></div></div></div></div></div></div></div>"
      ],
      "text/plain": [
       "Pipeline(steps=[('preprocessor',\n",
       "                 ColumnTransformer(transformers=[('numerical',\n",
       "                                                  Pipeline(steps=[('imputer',\n",
       "                                                                   SimpleImputer(add_indicator=True,\n",
       "                                                                                 strategy='median')),\n",
       "                                                                  ('scaler',\n",
       "                                                                   QuantileTransformer()),\n",
       "                                                                  ('reducedim',\n",
       "                                                                   SelectPercentile(percentile=90))]),\n",
       "                                                  Index(['RevolvingUtilizationOfUnsecuredLines', 'DebtRatio', 'MonthlyIncome',\n",
       "       'NumberOfDependents', 'NumberOfTime60-8...\n",
       "       'cat_NumberRealEstateLoansOrLines', 'cat_NumberOfTimes90DaysLate',\n",
       "       'cat_NumberOfOpenCreditLinesAndLoans',\n",
       "       'cat_NumberOfTime30-59DaysPastDueNotWorse', 'cat_age'],\n",
       "      dtype='object'))])),\n",
       "                ('classifier',\n",
       "                 LGBMClassifier(device_type='gpu',\n",
       "                                learning_rate=0.0018069834369607075,\n",
       "                                max_depth=8, metric='auc', min_samples_leaf=47,\n",
       "                                n_estimators=5000, random_state=42,\n",
       "                                subsample=0.8573598985000007, verbose=-1))])"
      ]
     },
     "execution_count": 42,
     "metadata": {},
     "output_type": "execute_result"
    }
   ],
   "source": [
    "preprocessor_catboost_qauntile_new = ColumnTransformer(\n",
    "            transformers=[\n",
    "                ('numerical', numeric_transformer_quantile, num_columns_new),\n",
    "                ('categorical', categorical_transformer_catboost, cat_columns_new)\n",
    "            ]\n",
    "            )\n",
    "\n",
    "pipe_lgbm_catboost_qauntile_new = Pipeline(\n",
    "    steps=[\n",
    "        ('preprocessor', preprocessor_catboost_qauntile_new),\n",
    "        ('classifier', lgbm.LGBMClassifier( \n",
    "            #n_jobs=-1,\n",
    "                                           verbose=-1,\n",
    "                                           **lgbm_param))\n",
    "    ]\n",
    ")\n",
    "pipe_lgbm_catboost_qauntile_new"
   ]
  },
  {
   "cell_type": "markdown",
   "id": "f66249e8",
   "metadata": {
    "papermill": {
     "duration": 0.060003,
     "end_time": "2021-12-23T10:01:26.486896",
     "exception": false,
     "start_time": "2021-12-23T10:01:26.426893",
     "status": "completed"
    },
    "tags": []
   },
   "source": [
    "## drop missing:cat +qauntile +new feature"
   ]
  },
  {
   "cell_type": "code",
   "execution_count": 43,
   "id": "b237913b",
   "metadata": {
    "execution": {
     "iopub.execute_input": "2021-12-23T10:01:26.610892Z",
     "iopub.status.busy": "2021-12-23T10:01:26.610089Z",
     "iopub.status.idle": "2021-12-23T10:01:27.063676Z",
     "shell.execute_reply": "2021-12-23T10:01:27.063230Z"
    },
    "papermill": {
     "duration": 0.516595,
     "end_time": "2021-12-23T10:01:27.063805",
     "exception": false,
     "start_time": "2021-12-23T10:01:26.547210",
     "status": "completed"
    },
    "tags": []
   },
   "outputs": [
    {
     "data": {
      "text/html": [
       "<style>div.sk-top-container {color: black;background-color: white;}div.sk-toggleable {background-color: white;}label.sk-toggleable__label {cursor: pointer;display: block;width: 100%;margin-bottom: 0;padding: 0.2em 0.3em;box-sizing: border-box;text-align: center;}div.sk-toggleable__content {max-height: 0;max-width: 0;overflow: hidden;text-align: left;background-color: #f0f8ff;}div.sk-toggleable__content pre {margin: 0.2em;color: black;border-radius: 0.25em;background-color: #f0f8ff;}input.sk-toggleable__control:checked~div.sk-toggleable__content {max-height: 200px;max-width: 100%;overflow: auto;}div.sk-estimator input.sk-toggleable__control:checked~label.sk-toggleable__label {background-color: #d4ebff;}div.sk-label input.sk-toggleable__control:checked~label.sk-toggleable__label {background-color: #d4ebff;}input.sk-hidden--visually {border: 0;clip: rect(1px 1px 1px 1px);clip: rect(1px, 1px, 1px, 1px);height: 1px;margin: -1px;overflow: hidden;padding: 0;position: absolute;width: 1px;}div.sk-estimator {font-family: monospace;background-color: #f0f8ff;margin: 0.25em 0.25em;border: 1px dotted black;border-radius: 0.25em;box-sizing: border-box;}div.sk-estimator:hover {background-color: #d4ebff;}div.sk-parallel-item::after {content: \"\";width: 100%;border-bottom: 1px solid gray;flex-grow: 1;}div.sk-label:hover label.sk-toggleable__label {background-color: #d4ebff;}div.sk-serial::before {content: \"\";position: absolute;border-left: 1px solid gray;box-sizing: border-box;top: 2em;bottom: 0;left: 50%;}div.sk-serial {display: flex;flex-direction: column;align-items: center;background-color: white;}div.sk-item {z-index: 1;}div.sk-parallel {display: flex;align-items: stretch;justify-content: center;background-color: white;}div.sk-parallel-item {display: flex;flex-direction: column;position: relative;background-color: white;}div.sk-parallel-item:first-child::after {align-self: flex-end;width: 50%;}div.sk-parallel-item:last-child::after {align-self: flex-start;width: 50%;}div.sk-parallel-item:only-child::after {width: 0;}div.sk-dashed-wrapped {border: 1px dashed gray;margin: 0.2em;box-sizing: border-box;padding-bottom: 0.1em;background-color: white;position: relative;}div.sk-label label {font-family: monospace;font-weight: bold;background-color: white;display: inline-block;line-height: 1.2em;}div.sk-label-container {position: relative;z-index: 2;text-align: center;}div.sk-container {display: inline-block;position: relative;}</style><div class=\"sk-top-container\"><div class=\"sk-container\"><div class=\"sk-item sk-dashed-wrapped\"><div class=\"sk-label-container\"><div class=\"sk-label sk-toggleable\"><input class=\"sk-toggleable__control sk-hidden--visually\" id=\"ed615ea9-2d2c-4668-8529-f8b73c4f45c1\" type=\"checkbox\" ><label class=\"sk-toggleable__label\" for=\"ed615ea9-2d2c-4668-8529-f8b73c4f45c1\">Pipeline</label><div class=\"sk-toggleable__content\"><pre>Pipeline(steps=[('preprocessor',\n",
       "                 ColumnTransformer(transformers=[('numerical',\n",
       "                                                  Pipeline(steps=[('imputer',\n",
       "                                                                   SimpleImputer(add_indicator=True,\n",
       "                                                                                 strategy='median')),\n",
       "                                                                  ('scaler',\n",
       "                                                                   QuantileTransformer()),\n",
       "                                                                  ('reducedim',\n",
       "                                                                   SelectPercentile(percentile=90))]),\n",
       "                                                  Index(['RevolvingUtilizationOfUnsecuredLines', 'DebtRatio',\n",
       "       'NumberOfTime60-89DaysPastDueNotWorse', 'NumberRealEsta...\n",
       "       'cat_NumberRealEstateLoansOrLines', 'cat_NumberOfTimes90DaysLate',\n",
       "       'cat_NumberOfOpenCreditLinesAndLoans',\n",
       "       'cat_NumberOfTime30-59DaysPastDueNotWorse', 'cat_age'],\n",
       "      dtype='object'))])),\n",
       "                ('classifier',\n",
       "                 LGBMClassifier(device_type='gpu',\n",
       "                                learning_rate=0.0018069834369607075,\n",
       "                                max_depth=8, metric='auc', min_samples_leaf=47,\n",
       "                                n_estimators=5000, random_state=42,\n",
       "                                subsample=0.8573598985000007, verbose=-1))])</pre></div></div></div><div class=\"sk-serial\"><div class=\"sk-item sk-dashed-wrapped\"><div class=\"sk-label-container\"><div class=\"sk-label sk-toggleable\"><input class=\"sk-toggleable__control sk-hidden--visually\" id=\"942e58f6-40f9-45db-b107-61c25cb7704e\" type=\"checkbox\" ><label class=\"sk-toggleable__label\" for=\"942e58f6-40f9-45db-b107-61c25cb7704e\">preprocessor: ColumnTransformer</label><div class=\"sk-toggleable__content\"><pre>ColumnTransformer(transformers=[('numerical',\n",
       "                                 Pipeline(steps=[('imputer',\n",
       "                                                  SimpleImputer(add_indicator=True,\n",
       "                                                                strategy='median')),\n",
       "                                                 ('scaler',\n",
       "                                                  QuantileTransformer()),\n",
       "                                                 ('reducedim',\n",
       "                                                  SelectPercentile(percentile=90))]),\n",
       "                                 Index(['RevolvingUtilizationOfUnsecuredLines', 'DebtRatio',\n",
       "       'NumberOfTime60-89DaysPastDueNotWorse', 'NumberRealEstateLoansOrLines',\n",
       "       'NumberOfTimes90...\n",
       "                                                                   score_func=<function mutual_info_classif at 0x7fab4fedf950>))]),\n",
       "                                 Index(['cat_RevolvingUtilizationOfUnsecuredLines', 'cat_DebtRatio',\n",
       "       'cat_MonthlyIncome', 'cat_NumberOfDependents',\n",
       "       'cat_NumberOfTime60-89DaysPastDueNotWorse',\n",
       "       'cat_NumberRealEstateLoansOrLines', 'cat_NumberOfTimes90DaysLate',\n",
       "       'cat_NumberOfOpenCreditLinesAndLoans',\n",
       "       'cat_NumberOfTime30-59DaysPastDueNotWorse', 'cat_age'],\n",
       "      dtype='object'))])</pre></div></div></div><div class=\"sk-parallel\"><div class=\"sk-parallel-item\"><div class=\"sk-item\"><div class=\"sk-label-container\"><div class=\"sk-label sk-toggleable\"><input class=\"sk-toggleable__control sk-hidden--visually\" id=\"54d56166-510c-4923-8555-a484c60f44f1\" type=\"checkbox\" ><label class=\"sk-toggleable__label\" for=\"54d56166-510c-4923-8555-a484c60f44f1\">numerical</label><div class=\"sk-toggleable__content\"><pre>Index(['RevolvingUtilizationOfUnsecuredLines', 'DebtRatio',\n",
       "       'NumberOfTime60-89DaysPastDueNotWorse', 'NumberRealEstateLoansOrLines',\n",
       "       'NumberOfTimes90DaysLate', 'NumberOfOpenCreditLinesAndLoans',\n",
       "       'NumberOfTime30-59DaysPastDueNotWorse', 'age', 'Weighted_Sum_PastDue',\n",
       "       '90days_out_of_TotalPastDue', 'RemainingLines', 'Loans_vs_Other_Lines',\n",
       "       'Debt_per_Real_Estate_Loan', 'Disposable_Income_per_person',\n",
       "       'RemainingLines_per_person', 'NumberRE_X_DebtRatio_X_age',\n",
       "       'RevolvingUtilization_per_age'],\n",
       "      dtype='object')</pre></div></div></div><div class=\"sk-serial\"><div class=\"sk-item\"><div class=\"sk-serial\"><div class=\"sk-item\"><div class=\"sk-estimator sk-toggleable\"><input class=\"sk-toggleable__control sk-hidden--visually\" id=\"3022f426-7f01-42f3-96a4-01b913db053e\" type=\"checkbox\" ><label class=\"sk-toggleable__label\" for=\"3022f426-7f01-42f3-96a4-01b913db053e\">SimpleImputer</label><div class=\"sk-toggleable__content\"><pre>SimpleImputer(add_indicator=True, strategy='median')</pre></div></div></div><div class=\"sk-item\"><div class=\"sk-estimator sk-toggleable\"><input class=\"sk-toggleable__control sk-hidden--visually\" id=\"0c4acf7c-e5fc-4aca-a90b-fad78192a5ca\" type=\"checkbox\" ><label class=\"sk-toggleable__label\" for=\"0c4acf7c-e5fc-4aca-a90b-fad78192a5ca\">QuantileTransformer</label><div class=\"sk-toggleable__content\"><pre>QuantileTransformer()</pre></div></div></div><div class=\"sk-item\"><div class=\"sk-estimator sk-toggleable\"><input class=\"sk-toggleable__control sk-hidden--visually\" id=\"9b0ced64-cdcf-4b4e-84dc-c06b29518359\" type=\"checkbox\" ><label class=\"sk-toggleable__label\" for=\"9b0ced64-cdcf-4b4e-84dc-c06b29518359\">SelectPercentile</label><div class=\"sk-toggleable__content\"><pre>SelectPercentile(percentile=90)</pre></div></div></div></div></div></div></div></div><div class=\"sk-parallel-item\"><div class=\"sk-item\"><div class=\"sk-label-container\"><div class=\"sk-label sk-toggleable\"><input class=\"sk-toggleable__control sk-hidden--visually\" id=\"0413ca91-fd97-4341-8907-f0327dda0342\" type=\"checkbox\" ><label class=\"sk-toggleable__label\" for=\"0413ca91-fd97-4341-8907-f0327dda0342\">categorical</label><div class=\"sk-toggleable__content\"><pre>Index(['cat_RevolvingUtilizationOfUnsecuredLines', 'cat_DebtRatio',\n",
       "       'cat_MonthlyIncome', 'cat_NumberOfDependents',\n",
       "       'cat_NumberOfTime60-89DaysPastDueNotWorse',\n",
       "       'cat_NumberRealEstateLoansOrLines', 'cat_NumberOfTimes90DaysLate',\n",
       "       'cat_NumberOfOpenCreditLinesAndLoans',\n",
       "       'cat_NumberOfTime30-59DaysPastDueNotWorse', 'cat_age'],\n",
       "      dtype='object')</pre></div></div></div><div class=\"sk-serial\"><div class=\"sk-item\"><div class=\"sk-serial\"><div class=\"sk-item\"><div class=\"sk-estimator sk-toggleable\"><input class=\"sk-toggleable__control sk-hidden--visually\" id=\"f123cfae-e779-44ca-9a03-a88d724901ad\" type=\"checkbox\" ><label class=\"sk-toggleable__label\" for=\"f123cfae-e779-44ca-9a03-a88d724901ad\">SimpleImputer</label><div class=\"sk-toggleable__content\"><pre>SimpleImputer(add_indicator=True, fill_value='missing',\n",
       "              strategy='most_frequent')</pre></div></div></div><div class=\"sk-item\"><div class=\"sk-estimator sk-toggleable\"><input class=\"sk-toggleable__control sk-hidden--visually\" id=\"cf94ee4e-e4af-4326-aaf8-207ccd41fca0\" type=\"checkbox\" ><label class=\"sk-toggleable__label\" for=\"cf94ee4e-e4af-4326-aaf8-207ccd41fca0\">CatBoostEncoder</label><div class=\"sk-toggleable__content\"><pre>CatBoostEncoder()</pre></div></div></div><div class=\"sk-item\"><div class=\"sk-estimator sk-toggleable\"><input class=\"sk-toggleable__control sk-hidden--visually\" id=\"c688f713-dd2c-46d8-a7a7-7309e122402e\" type=\"checkbox\" ><label class=\"sk-toggleable__label\" for=\"c688f713-dd2c-46d8-a7a7-7309e122402e\">SelectPercentile</label><div class=\"sk-toggleable__content\"><pre>SelectPercentile(percentile=90,\n",
       "                 score_func=<function mutual_info_classif at 0x7fab4fedf950>)</pre></div></div></div></div></div></div></div></div></div></div><div class=\"sk-item\"><div class=\"sk-estimator sk-toggleable\"><input class=\"sk-toggleable__control sk-hidden--visually\" id=\"c5dee0bc-9639-4cc8-967b-c1694bf171af\" type=\"checkbox\" ><label class=\"sk-toggleable__label\" for=\"c5dee0bc-9639-4cc8-967b-c1694bf171af\">LGBMClassifier</label><div class=\"sk-toggleable__content\"><pre>LGBMClassifier(device_type='gpu', learning_rate=0.0018069834369607075,\n",
       "               max_depth=8, metric='auc', min_samples_leaf=47,\n",
       "               n_estimators=5000, random_state=42, subsample=0.8573598985000007,\n",
       "               verbose=-1)</pre></div></div></div></div></div></div></div>"
      ],
      "text/plain": [
       "Pipeline(steps=[('preprocessor',\n",
       "                 ColumnTransformer(transformers=[('numerical',\n",
       "                                                  Pipeline(steps=[('imputer',\n",
       "                                                                   SimpleImputer(add_indicator=True,\n",
       "                                                                                 strategy='median')),\n",
       "                                                                  ('scaler',\n",
       "                                                                   QuantileTransformer()),\n",
       "                                                                  ('reducedim',\n",
       "                                                                   SelectPercentile(percentile=90))]),\n",
       "                                                  Index(['RevolvingUtilizationOfUnsecuredLines', 'DebtRatio',\n",
       "       'NumberOfTime60-89DaysPastDueNotWorse', 'NumberRealEsta...\n",
       "       'cat_NumberRealEstateLoansOrLines', 'cat_NumberOfTimes90DaysLate',\n",
       "       'cat_NumberOfOpenCreditLinesAndLoans',\n",
       "       'cat_NumberOfTime30-59DaysPastDueNotWorse', 'cat_age'],\n",
       "      dtype='object'))])),\n",
       "                ('classifier',\n",
       "                 LGBMClassifier(device_type='gpu',\n",
       "                                learning_rate=0.0018069834369607075,\n",
       "                                max_depth=8, metric='auc', min_samples_leaf=47,\n",
       "                                n_estimators=5000, random_state=42,\n",
       "                                subsample=0.8573598985000007, verbose=-1))])"
      ]
     },
     "execution_count": 43,
     "metadata": {},
     "output_type": "execute_result"
    }
   ],
   "source": [
    "preprocessor_catboost_qauntile_new_without_missing = ColumnTransformer(\n",
    "            transformers=[\n",
    "                ('numerical', numeric_transformer_quantile, num_columns_new_without_missing),\n",
    "                ('categorical', categorical_transformer_catboost, cat_columns_new_without_missing)\n",
    "            ]\n",
    "            )\n",
    "\n",
    "pipe_lgbm_catboost_qauntile_new_without_missing = Pipeline(\n",
    "    steps=[\n",
    "        ('preprocessor', preprocessor_catboost_qauntile_new_without_missing),\n",
    "        ('classifier', lgbm.LGBMClassifier( \n",
    "            #n_jobs=-1,\n",
    "                                           verbose=-1,\n",
    "                                           **lgbm_param))\n",
    "    ]\n",
    ")\n",
    "pipe_lgbm_catboost_qauntile_new_without_missing"
   ]
  },
  {
   "cell_type": "code",
   "execution_count": 44,
   "id": "3c00c539",
   "metadata": {
    "execution": {
     "iopub.execute_input": "2021-12-23T10:01:27.189622Z",
     "iopub.status.busy": "2021-12-23T10:01:27.188838Z",
     "iopub.status.idle": "2021-12-23T10:01:27.195421Z",
     "shell.execute_reply": "2021-12-23T10:01:27.194907Z"
    },
    "papermill": {
     "duration": 0.070856,
     "end_time": "2021-12-23T10:01:27.195532",
     "exception": false,
     "start_time": "2021-12-23T10:01:27.124676",
     "status": "completed"
    },
    "tags": []
   },
   "outputs": [],
   "source": [
    "def plot_roc(y,y_pred):\n",
    "    from sklearn.metrics import auc\n",
    "    fpr, tpr, thresholds = roc_curve(y_true=y, y_score=y_pred)\n",
    "    auc = auc(fpr, tpr)\n",
    "    plt.figure(1)\n",
    "    plt.plot([0, 1], [0, 1], 'k--')\n",
    "    plt.plot(fpr, tpr, label='Model(area = {:.3f})'.format(auc))\n",
    "    plt.xlabel('False positive rate')\n",
    "    plt.ylabel('True positive rate')\n",
    "    plt.title('ROC curve')\n",
    "    plt.legend(loc='best')\n",
    "    plt.show()"
   ]
  },
  {
   "cell_type": "markdown",
   "id": "f569bf12",
   "metadata": {
    "papermill": {
     "duration": 0.064611,
     "end_time": "2021-12-23T10:01:27.322374",
     "exception": false,
     "start_time": "2021-12-23T10:01:27.257763",
     "status": "completed"
    },
    "tags": []
   },
   "source": [
    "# Test Pipes with CV "
   ]
  },
  {
   "cell_type": "code",
   "execution_count": 45,
   "id": "070246c4",
   "metadata": {
    "execution": {
     "iopub.execute_input": "2021-12-23T10:01:27.452744Z",
     "iopub.status.busy": "2021-12-23T10:01:27.451839Z",
     "iopub.status.idle": "2021-12-23T10:01:27.453639Z",
     "shell.execute_reply": "2021-12-23T10:01:27.454071Z"
    },
    "papermill": {
     "duration": 0.069352,
     "end_time": "2021-12-23T10:01:27.454275",
     "exception": false,
     "start_time": "2021-12-23T10:01:27.384923",
     "status": "completed"
    },
    "tags": []
   },
   "outputs": [],
   "source": [
    "def plot_roc(y,y_pred):\n",
    "    from sklearn.metrics import auc\n",
    "    fpr, tpr, thresholds = roc_curve(y_true=y, y_score=y_pred)\n",
    "    auc = auc(fpr, tpr)\n",
    "    plt.figure(1)\n",
    "    plt.plot([0, 1], [0, 1], 'k--')\n",
    "    plt.plot(fpr, tpr, label='Model(area = {:.3f})'.format(auc))\n",
    "    plt.xlabel('False positive rate')\n",
    "    plt.ylabel('True positive rate')\n",
    "    plt.title('ROC curve')\n",
    "    plt.legend(loc='best')\n",
    "    plt.show()"
   ]
  },
  {
   "cell_type": "code",
   "execution_count": 46,
   "id": "14690b0e",
   "metadata": {
    "execution": {
     "iopub.execute_input": "2021-12-23T10:01:27.584769Z",
     "iopub.status.busy": "2021-12-23T10:01:27.584175Z",
     "iopub.status.idle": "2021-12-23T10:19:18.107934Z",
     "shell.execute_reply": "2021-12-23T10:19:18.108662Z"
    },
    "papermill": {
     "duration": 1070.593722,
     "end_time": "2021-12-23T10:19:18.108875",
     "exception": false,
     "start_time": "2021-12-23T10:01:27.515153",
     "status": "completed"
    },
    "tags": []
   },
   "outputs": [
    {
     "name": "stdout",
     "output_type": "stream",
     "text": [
      "[LightGBM] [Warning] min_data_in_leaf is set with min_child_samples=20, will be overridden by min_samples_leaf=47. Current value: min_data_in_leaf=47\n",
      "Fold 0 | AUC: 0.8669130495204391\n",
      "Fold 0 | AP: 0.407665684789223\n"
     ]
    },
    {
     "data": {
      "image/png": "[encoded data removed]",
      "text/plain": [
       "<Figure size 432x288 with 1 Axes>"
      ]
     },
     "metadata": {
      "needs_background": "light"
     },
     "output_type": "display_data"
    },
    {
     "name": "stdout",
     "output_type": "stream",
     "text": [
      "[LightGBM] [Warning] min_data_in_leaf is set with min_child_samples=20, will be overridden by min_samples_leaf=47. Current value: min_data_in_leaf=47\n",
      "Fold 1 | AUC: 0.8626155540665279\n",
      "Fold 1 | AP: 0.3849630973055488\n"
     ]
    },
    {
     "data": {
      "image/png": "[encoded data removed]",
      "text/plain": [
       "<Figure size 432x288 with 1 Axes>"
      ]
     },
     "metadata": {
      "needs_background": "light"
     },
     "output_type": "display_data"
    },
    {
     "name": "stdout",
     "output_type": "stream",
     "text": [
      "[LightGBM] [Warning] min_data_in_leaf is set with min_child_samples=20, will be overridden by min_samples_leaf=47. Current value: min_data_in_leaf=47\n",
      "Fold 2 | AUC: 0.8669757677029638\n",
      "Fold 2 | AP: 0.40533600002146797\n"
     ]
    },
    {
     "data": {
      "image/png": "[encoded data removed]",
      "text/plain": [
       "<Figure size 432x288 with 1 Axes>"
      ]
     },
     "metadata": {
      "needs_background": "light"
     },
     "output_type": "display_data"
    },
    {
     "name": "stdout",
     "output_type": "stream",
     "text": [
      "[LightGBM] [Warning] min_data_in_leaf is set with min_child_samples=20, will be overridden by min_samples_leaf=47. Current value: min_data_in_leaf=47\n",
      "Fold 3 | AUC: 0.8645943643670688\n",
      "Fold 3 | AP: 0.3961029196417055\n"
     ]
    },
    {
     "data": {
      "image/png": "[encoded data removed]",
      "text/plain": [
       "<Figure size 432x288 with 1 Axes>"
      ]
     },
     "metadata": {
      "needs_background": "light"
     },
     "output_type": "display_data"
    },
    {
     "name": "stdout",
     "output_type": "stream",
     "text": [
      "[LightGBM] [Warning] min_data_in_leaf is set with min_child_samples=20, will be overridden by min_samples_leaf=47. Current value: min_data_in_leaf=47\n",
      "Fold 4 | AUC: 0.8664786878202287\n",
      "Fold 4 | AP: 0.40800623246057943\n"
     ]
    },
    {
     "data": {
      "image/png": "[encoded data removed]",
      "text/plain": [
       "<Figure size 432x288 with 1 Axes>"
      ]
     },
     "metadata": {
      "needs_background": "light"
     },
     "output_type": "display_data"
    },
    {
     "name": "stdout",
     "output_type": "stream",
     "text": [
      "[LightGBM] [Warning] min_data_in_leaf is set with min_child_samples=20, will be overridden by min_samples_leaf=47. Current value: min_data_in_leaf=47\n",
      "Fold 5 | AUC: 0.8733771892866091\n",
      "Fold 5 | AP: 0.43988118488798555\n"
     ]
    },
    {
     "data": {
      "image/png": "[encoded data removed]",
      "text/plain": [
       "<Figure size 432x288 with 1 Axes>"
      ]
     },
     "metadata": {
      "needs_background": "light"
     },
     "output_type": "display_data"
    },
    {
     "name": "stdout",
     "output_type": "stream",
     "text": [
      "[LightGBM] [Warning] min_data_in_leaf is set with min_child_samples=20, will be overridden by min_samples_leaf=47. Current value: min_data_in_leaf=47\n",
      "Fold 6 | AUC: 0.8598904134865003\n",
      "Fold 6 | AP: 0.37859680901603604\n"
     ]
    },
    {
     "data": {
      "image/png": "[encoded data removed]",
      "text/plain": [
       "<Figure size 432x288 with 1 Axes>"
      ]
     },
     "metadata": {
      "needs_background": "light"
     },
     "output_type": "display_data"
    },
    {
     "name": "stdout",
     "output_type": "stream",
     "text": [
      "[LightGBM] [Warning] min_data_in_leaf is set with min_child_samples=20, will be overridden by min_samples_leaf=47. Current value: min_data_in_leaf=47\n",
      "Fold 7 | AUC: 0.8591809808016486\n",
      "Fold 7 | AP: 0.3984755991549263\n"
     ]
    },
    {
     "data": {
      "image/png": "[encoded data removed]",
      "text/plain": [
       "<Figure size 432x288 with 1 Axes>"
      ]
     },
     "metadata": {
      "needs_background": "light"
     },
     "output_type": "display_data"
    },
    {
     "name": "stdout",
     "output_type": "stream",
     "text": [
      "[LightGBM] [Warning] min_data_in_leaf is set with min_child_samples=20, will be overridden by min_samples_leaf=47. Current value: min_data_in_leaf=47\n",
      "Fold 8 | AUC: 0.874316126997327\n",
      "Fold 8 | AP: 0.4434923753324774\n"
     ]
    },
    {
     "data": {
      "image/png": "[encoded data removed]",
      "text/plain": [
       "<Figure size 432x288 with 1 Axes>"
      ]
     },
     "metadata": {
      "needs_background": "light"
     },
     "output_type": "display_data"
    },
    {
     "name": "stdout",
     "output_type": "stream",
     "text": [
      "[LightGBM] [Warning] min_data_in_leaf is set with min_child_samples=20, will be overridden by min_samples_leaf=47. Current value: min_data_in_leaf=47\n",
      "Fold 9 | AUC: 0.8643415768833814\n",
      "Fold 9 | AP: 0.38182803234569784\n"
     ]
    },
    {
     "data": {
      "image/png": "[encoded data removed]",
      "text/plain": [
       "<Figure size 432x288 with 1 Axes>"
      ]
     },
     "metadata": {
      "needs_background": "light"
     },
     "output_type": "display_data"
    },
    {
     "name": "stdout",
     "output_type": "stream",
     "text": [
      "\n",
      "Overall mean auc : 0.8658683710932694\n",
      "\n",
      "Overall mean mean average : 0.40443479349556477\n",
      "CPU times: user 31min 3s, sys: 28.3 s, total: 31min 31s\n",
      "Wall time: 17min 50s\n"
     ]
    }
   ],
   "source": [
    "%%time \n",
    "# evaluate each strategy on the dataset\n",
    "results = list()\n",
    "# Setting a 10-fold stratified cross-validation (note: shuffle=True)\n",
    "SEED = 42\n",
    "FOLDS = 10\n",
    "skf = StratifiedKFold(n_splits=FOLDS, shuffle=True, random_state=SEED)\n",
    "# CV interations\n",
    "# Create arrays for the features and the response variable\n",
    "roc_auc = list()\n",
    "average_precision = list()\n",
    "#X1=X.iloc[0:2000,:].copy()\n",
    "#y1=y[0:2000].copy()\n",
    "oof = np.empty((X.shape[0],))\n",
    "#oof_bin = np.empty((X.shape[0],))\n",
    "predictions=[]\n",
    "mean_auc = 0\n",
    "mean_ap=0\n",
    "best_iteration = list()\n",
    "for fold, (train_idx, test_idx) in enumerate(skf.split(X, y)):    \n",
    "    X_train, y_train = X_new.iloc[list(train_idx), :], y.iloc[list(train_idx)]\n",
    "    X_test, y_test = X_new.iloc[list(test_idx), :],y.iloc[list(test_idx)]\n",
    "    pipe_lgbm_catboost_qauntile.fit(X_train,y_train)\n",
    "    preds = pipe_lgbm_catboost_qauntile.predict_proba(X_test)[:,1]\n",
    "    oof[test_idx] = preds\n",
    "    auc_score= roc_auc_score(y_true=y_test, y_score=preds)\n",
    "    roc_auc.append(auc_score)\n",
    "    print(f\"Fold {fold} | AUC: {auc_score}\")\n",
    "    ap=average_precision_score(y_true=y_test, y_score=preds)\n",
    "    average_precision.append(ap)\n",
    "    print(f\"Fold {fold} | AP: {ap}\")\n",
    "    plot_roc(y_test,preds)\n",
    "    mean_auc += auc_score / FOLDS\n",
    "    mean_ap+=ap/FOLDS\n",
    "    predictions.append(pipe_lgbm_catboost_qauntile.predict_proba(X_test_final)[:,1]) \n",
    "    #Mean of the predictions\n",
    "print(f\"\\nOverall mean auc : {mean_auc}\")\n",
    "print(f\"\\nOverall mean mean average : {mean_ap}\")"
   ]
  },
  {
   "cell_type": "code",
   "execution_count": 47,
   "id": "1025fdc5",
   "metadata": {
    "execution": {
     "iopub.execute_input": "2021-12-23T10:19:18.264661Z",
     "iopub.status.busy": "2021-12-23T10:19:18.263820Z",
     "iopub.status.idle": "2021-12-23T10:19:18.266116Z",
     "shell.execute_reply": "2021-12-23T10:19:18.265614Z"
    },
    "papermill": {
     "duration": 0.08064,
     "end_time": "2021-12-23T10:19:18.266227",
     "exception": false,
     "start_time": "2021-12-23T10:19:18.185587",
     "status": "completed"
    },
    "tags": []
   },
   "outputs": [],
   "source": [
    "#pipe_lgbm_woe_powertransformer.fit(X,y)\n",
    "#predictions =pipe_lgbm_woe_powertransformer.predict_proba(X_test_final)[:,1]"
   ]
  },
  {
   "cell_type": "code",
   "execution_count": 48,
   "id": "6998891f",
   "metadata": {
    "execution": {
     "iopub.execute_input": "2021-12-23T10:19:18.429873Z",
     "iopub.status.busy": "2021-12-23T10:19:18.428976Z",
     "iopub.status.idle": "2021-12-23T10:19:18.436588Z",
     "shell.execute_reply": "2021-12-23T10:19:18.437281Z"
    },
    "papermill": {
     "duration": 0.096709,
     "end_time": "2021-12-23T10:19:18.437507",
     "exception": false,
     "start_time": "2021-12-23T10:19:18.340798",
     "status": "completed"
    },
    "tags": []
   },
   "outputs": [],
   "source": [
    "predictions = np.mean(np.column_stack(predictions), axis=1)"
   ]
  },
  {
   "cell_type": "code",
   "execution_count": 49,
   "id": "8a896c31",
   "metadata": {
    "execution": {
     "iopub.execute_input": "2021-12-23T10:19:18.716395Z",
     "iopub.status.busy": "2021-12-23T10:19:18.715583Z",
     "iopub.status.idle": "2021-12-23T10:19:19.230152Z",
     "shell.execute_reply": "2021-12-23T10:19:19.230666Z"
    },
    "papermill": {
     "duration": 0.6526,
     "end_time": "2021-12-23T10:19:19.230892",
     "exception": false,
     "start_time": "2021-12-23T10:19:18.578292",
     "status": "completed"
    },
    "tags": []
   },
   "outputs": [
    {
     "data": {
      "text/html": [
       "<div>\n",
       "<style scoped>\n",
       "    .dataframe tbody tr th:only-of-type {\n",
       "        vertical-align: middle;\n",
       "    }\n",
       "\n",
       "    .dataframe tbody tr th {\n",
       "        vertical-align: top;\n",
       "    }\n",
       "\n",
       "    .dataframe thead th {\n",
       "        text-align: right;\n",
       "    }\n",
       "</style>\n",
       "<table border=\"1\" class=\"dataframe\">\n",
       "  <thead>\n",
       "    <tr style=\"text-align: right;\">\n",
       "      <th></th>\n",
       "      <th>Id</th>\n",
       "      <th>Probability</th>\n",
       "    </tr>\n",
       "  </thead>\n",
       "  <tbody>\n",
       "    <tr>\n",
       "      <th>0</th>\n",
       "      <td>1</td>\n",
       "      <td>0.066887</td>\n",
       "    </tr>\n",
       "    <tr>\n",
       "      <th>1</th>\n",
       "      <td>2</td>\n",
       "      <td>0.047580</td>\n",
       "    </tr>\n",
       "    <tr>\n",
       "      <th>2</th>\n",
       "      <td>3</td>\n",
       "      <td>0.012182</td>\n",
       "    </tr>\n",
       "    <tr>\n",
       "      <th>3</th>\n",
       "      <td>4</td>\n",
       "      <td>0.075306</td>\n",
       "    </tr>\n",
       "    <tr>\n",
       "      <th>4</th>\n",
       "      <td>5</td>\n",
       "      <td>0.109521</td>\n",
       "    </tr>\n",
       "    <tr>\n",
       "      <th>...</th>\n",
       "      <td>...</td>\n",
       "      <td>...</td>\n",
       "    </tr>\n",
       "    <tr>\n",
       "      <th>101498</th>\n",
       "      <td>101499</td>\n",
       "      <td>0.034113</td>\n",
       "    </tr>\n",
       "    <tr>\n",
       "      <th>101499</th>\n",
       "      <td>101500</td>\n",
       "      <td>0.419753</td>\n",
       "    </tr>\n",
       "    <tr>\n",
       "      <th>101500</th>\n",
       "      <td>101501</td>\n",
       "      <td>0.005690</td>\n",
       "    </tr>\n",
       "    <tr>\n",
       "      <th>101501</th>\n",
       "      <td>101502</td>\n",
       "      <td>0.062747</td>\n",
       "    </tr>\n",
       "    <tr>\n",
       "      <th>101502</th>\n",
       "      <td>101503</td>\n",
       "      <td>0.035845</td>\n",
       "    </tr>\n",
       "  </tbody>\n",
       "</table>\n",
       "<p>101503 rows × 2 columns</p>\n",
       "</div>"
      ],
      "text/plain": [
       "            Id  Probability\n",
       "0            1     0.066887\n",
       "1            2     0.047580\n",
       "2            3     0.012182\n",
       "3            4     0.075306\n",
       "4            5     0.109521\n",
       "...        ...          ...\n",
       "101498  101499     0.034113\n",
       "101499  101500     0.419753\n",
       "101500  101501     0.005690\n",
       "101501  101502     0.062747\n",
       "101502  101503     0.035845\n",
       "\n",
       "[101503 rows x 2 columns]"
      ]
     },
     "execution_count": 49,
     "metadata": {},
     "output_type": "execute_result"
    }
   ],
   "source": [
    "# Save the predictions to a CSV file\n",
    "sub = pd.read_csv('../input/GiveMeSomeCredit/sampleEntry.csv')\n",
    "sub['Probability']=predictions\n",
    "sub.to_csv('pipe_lgbm_catboost_qauntile_estimator_XGB_CV.csv', index=False)\n",
    "sub"
   ]
  }
 ],
 "metadata": {
  "kernelspec": {
   "display_name": "Python 3",
   "language": "python",
   "name": "python3"
  },
  "language_info": {
   "codemirror_mode": {
    "name": "ipython",
    "version": 3
   },
   "file_extension": ".py",
   "mimetype": "text/x-python",
   "name": "python",
   "nbconvert_exporter": "python",
   "pygments_lexer": "ipython3",
   "version": "3.7.12"
  },
  "papermill": {
   "default_parameters": {},
   "duration": 4456.802832,
   "end_time": "2021-12-23T10:19:20.739972",
   "environment_variables": {},
   "exception": null,
   "input_path": "__notebook__.ipynb",
   "output_path": "__notebook__.ipynb",
   "parameters": {},
   "start_time": "2021-12-23T09:05:03.937140",
   "version": "2.3.3"
  }
 },
 "nbformat": 4,
 "nbformat_minor": 5
}
