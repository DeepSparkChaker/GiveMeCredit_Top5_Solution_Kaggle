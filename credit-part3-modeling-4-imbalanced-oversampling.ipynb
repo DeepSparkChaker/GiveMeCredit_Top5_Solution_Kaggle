{
 "cells": [
  {
   "attachments": {
    "56346cd1-a4d3-4c53-914a-3de024840c16.png": {
     "image/png": "[encoded data removed]"
    }
   },
   "cell_type": "markdown",
   "id": "9fd09ed8",
   "metadata": {
    "papermill": {
     "duration": 0.124779,
     "end_time": "2022-01-03T17:12:26.928216",
     "exception": false,
     "start_time": "2022-01-03T17:12:26.803437",
     "status": "completed"
    },
    "tags": []
   },
   "source": [
    "# Over-sampling with cross-validation\n",
    "When we train a classifier, we want it to predict an outcome in a real life dataset. The real datasets, most likely, also have a class imbalance. Thus, it is important to evaluate the performance of the classifier, on a data set with the same distribution of classes, as the one we expect in real life.\n",
    "\n",
    "This means, that the over-sampling methods should be performed on the dataset that we are going to use to train the classifier. But, the performance of the model should be determined on a portion of the data, that was not re-sampled.\n",
    "\n",
    "In this notebook, we will use the imbalanced-learn pipeline, to set up various over-sampling solutions, in a way that we train the model on re-sampled data, but we evaluate performance on non-resampled data.\n",
    "\n",
    "![image.png](attachment:56346cd1-a4d3-4c53-914a-3de024840c16.png)"
   ]
  },
  {
   "cell_type": "code",
   "execution_count": 1,
   "id": "d3b2a9d1",
   "metadata": {
    "_cell_guid": "ddedf45c-cdd2-4013-973f-6ccf6c78347a",
    "_uuid": "20c9b28e-4c93-447d-8210-cad89f404354",
    "collapsed": false,
    "execution": {
     "iopub.execute_input": "2022-01-03T17:12:27.107821Z",
     "iopub.status.busy": "2022-01-03T17:12:27.106753Z",
     "iopub.status.idle": "2022-01-03T17:12:31.779974Z",
     "shell.execute_reply": "2022-01-03T17:12:31.779136Z",
     "shell.execute_reply.started": "2022-01-03T16:07:06.746402Z"
    },
    "jupyter": {
     "outputs_hidden": false
    },
    "papermill": {
     "duration": 4.767691,
     "end_time": "2022-01-03T17:12:31.780220",
     "exception": false,
     "start_time": "2022-01-03T17:12:27.012529",
     "status": "completed"
    },
    "tags": []
   },
   "outputs": [
    {
     "data": {
      "text/html": [
       "<style type='text/css'>\n",
       ".datatable table.frame { margin-bottom: 0; }\n",
       ".datatable table.frame thead { border-bottom: none; }\n",
       ".datatable table.frame tr.coltypes td {  color: #FFFFFF;  line-height: 6px;  padding: 0 0.5em;}\n",
       ".datatable .bool    { background: #DDDD99; }\n",
       ".datatable .object  { background: #565656; }\n",
       ".datatable .int     { background: #5D9E5D; }\n",
       ".datatable .float   { background: #4040CC; }\n",
       ".datatable .str     { background: #CC4040; }\n",
       ".datatable .time    { background: #40CC40; }\n",
       ".datatable .row_index {  background: var(--jp-border-color3);  border-right: 1px solid var(--jp-border-color0);  color: var(--jp-ui-font-color3);  font-size: 9px;}\n",
       ".datatable .frame tbody td { text-align: left; }\n",
       ".datatable .frame tr.coltypes .row_index {  background: var(--jp-border-color0);}\n",
       ".datatable th:nth-child(2) { padding-left: 12px; }\n",
       ".datatable .hellipsis {  color: var(--jp-cell-editor-border-color);}\n",
       ".datatable .vellipsis {  background: var(--jp-layout-color0);  color: var(--jp-cell-editor-border-color);}\n",
       ".datatable .na {  color: var(--jp-cell-editor-border-color);  font-size: 80%;}\n",
       ".datatable .sp {  opacity: 0.25;}\n",
       ".datatable .footer { font-size: 9px; }\n",
       ".datatable .frame_dimensions {  background: var(--jp-border-color3);  border-top: 1px solid var(--jp-border-color0);  color: var(--jp-ui-font-color3);  display: inline-block;  opacity: 0.6;  padding: 1px 10px 1px 5px;}\n",
       "</style>\n"
      ],
      "text/plain": [
       "<IPython.core.display.HTML object>"
      ]
     },
     "metadata": {},
     "output_type": "display_data"
    }
   ],
   "source": [
    "#Load the librarys\n",
    "import pandas as pd #To work with dataset\n",
    "import numpy as np #Math library\n",
    "import matplotlib.gridspec as gridspec\n",
    "import seaborn as sns #Graph library that use matplot in background\n",
    "import matplotlib.pyplot as plt #to plot some parameters in seaborn\n",
    "import warnings\n",
    "# Preparation  \n",
    "from sklearn.preprocessing import LabelEncoder, OrdinalEncoder\n",
    "from sklearn.preprocessing import OneHotEncoder\n",
    "from sklearn.preprocessing import PowerTransformer, StandardScaler,Normalizer,RobustScaler,MaxAbsScaler,MinMaxScaler,QuantileTransformer\n",
    "from sklearn.preprocessing import FunctionTransformer\n",
    "from sklearn.preprocessing import PolynomialFeatures\n",
    "from sklearn.neighbors import KNeighborsClassifier\n",
    "from sklearn.preprocessing import KBinsDiscretizer\n",
    "# Import StandardScaler from scikit-learn\n",
    "from sklearn.experimental import enable_iterative_imputer\n",
    "from sklearn.impute import SimpleImputer\n",
    "from sklearn.impute import KNNImputer,IterativeImputer\n",
    "from sklearn.feature_extraction.text import CountVectorizer\n",
    "from sklearn.compose import make_column_transformer,ColumnTransformer\n",
    "from sklearn.pipeline import make_pipeline, Pipeline,FeatureUnion\n",
    "from sklearn.manifold import TSNE\n",
    "# Import train_test_split()\n",
    "# Metrics\n",
    "from sklearn.metrics import roc_auc_score, average_precision_score,recall_score\n",
    "from sklearn.metrics import make_scorer,mean_absolute_error\n",
    "from sklearn.metrics import mean_squared_error,classification_report,f1_score\n",
    "from sklearn.metrics import roc_curve,confusion_matrix\n",
    "from yellowbrick.classifier import (\n",
    "    ClassificationReport,\n",
    "    DiscriminationThreshold,\n",
    ")\n",
    "from datetime import datetime, date\n",
    "from sklearn.linear_model import ElasticNet, Lasso,  BayesianRidge, LassoLarsIC\n",
    "from sklearn.linear_model import LinearRegression, RidgeCV\n",
    "from sklearn.linear_model import LogisticRegression\n",
    "\n",
    "#import tensorflow as tf \n",
    "#from tensorflow.keras import layers\n",
    "#from tensorflow.keras.callbacks import EarlyStopping\n",
    "#from tensorflow.keras.callbacks import LearningRateScheduler\n",
    "#import smogn\n",
    "from sklearn.experimental import enable_hist_gradient_boosting\n",
    "from sklearn.base import BaseEstimator, TransformerMixin, RegressorMixin, clone,ClassifierMixin\n",
    "from sklearn.kernel_ridge import KernelRidge\n",
    "from sklearn.ensemble import GradientBoostingRegressor,RandomForestRegressor\n",
    "from sklearn.ensemble import RandomForestClassifier\n",
    "from sklearn.ensemble import HistGradientBoostingClassifier\n",
    "# For training random forest model\n",
    "import lightgbm as lgb\n",
    "from scipy import sparse\n",
    "from sklearn.neighbors import KNeighborsRegressor \n",
    "from sklearn.decomposition import PCA\n",
    "from sklearn.cluster import KMeans\n",
    "from yellowbrick.cluster import KElbowVisualizer\n",
    "# Model selection\n",
    "from sklearn.model_selection import StratifiedKFold\n",
    "from sklearn.feature_selection import SelectKBest\n",
    "from sklearn.feature_selection import f_regression,f_classif,chi2\n",
    "from sklearn.feature_selection import mutual_info_regression\n",
    "from sklearn.feature_selection import SelectPercentile\n",
    "from sklearn.feature_selection import mutual_info_classif,VarianceThreshold\n",
    "\n",
    "from sklearn.model_selection import train_test_split,cross_validate\n",
    "from sklearn.model_selection import KFold\n",
    "from sklearn.model_selection import GridSearchCV\n",
    "from sklearn.model_selection import cross_val_score\n",
    "# Imbalanced data \n",
    "from imblearn.datasets import fetch_datasets\n",
    "# to correctly set up the cross-validation\n",
    "from imblearn.pipeline import make_pipeline\n",
    "from imblearn.under_sampling import (\n",
    "    RandomUnderSampler,\n",
    "    CondensedNearestNeighbour,\n",
    "    TomekLinks,\n",
    "    OneSidedSelection,\n",
    "    EditedNearestNeighbours,\n",
    "    RepeatedEditedNearestNeighbours,\n",
    "    AllKNN,\n",
    "    NeighbourhoodCleaningRule,\n",
    "    NearMiss,\n",
    "    InstanceHardnessThreshold\n",
    ")\n",
    "from imblearn.over_sampling import (\n",
    "    RandomOverSampler,\n",
    "    SMOTE,\n",
    "    ADASYN,\n",
    "    BorderlineSMOTE,\n",
    "    SVMSMOTE,\n",
    ")\n",
    "\n",
    "\n",
    "from lightgbm import LGBMClassifier\n",
    "import lightgbm as lgbm\n",
    "from catboost import CatBoostRegressor, CatBoostClassifier\n",
    "from sklearn.naive_bayes import GaussianNB\n",
    "from sklearn import svm\n",
    "from xgboost import XGBClassifier,XGBRegressor\n",
    "from sklearn import set_config\n",
    "from itertools import combinations\n",
    "# Cluster :\n",
    "from sklearn.cluster import MiniBatchKMeans\n",
    "#from yellowbrick.cluster import KElbowVisualizer\n",
    "#import smong \n",
    "import category_encoders as ce\n",
    "import warnings\n",
    "#import optuna \n",
    "from joblib import Parallel, delayed\n",
    "import joblib \n",
    "from sklearn import set_config\n",
    "from typing import List, Optional, Union\n",
    "set_config(display='diagram')\n",
    "warnings.filterwarnings('ignore')"
   ]
  },
  {
   "cell_type": "markdown",
   "id": "02494bdc",
   "metadata": {
    "_cell_guid": "38c6befb-892d-4ef3-9c63-13be5959b671",
    "_uuid": "2953f9f3-02f8-4fa9-a7fc-cb93565c2183",
    "papermill": {
     "duration": 0.046847,
     "end_time": "2022-01-03T17:12:31.873619",
     "exception": false,
     "start_time": "2022-01-03T17:12:31.826772",
     "status": "completed"
    },
    "tags": []
   },
   "source": [
    "\n",
    "# Load the data"
   ]
  },
  {
   "cell_type": "code",
   "execution_count": 2,
   "id": "dd535edb",
   "metadata": {
    "_cell_guid": "98a5b4a6-90e9-449d-96cc-0d85c9ff1c77",
    "_uuid": "e086592f-9f6a-4592-80b5-c1e7ad227e02",
    "collapsed": false,
    "execution": {
     "iopub.execute_input": "2022-01-03T17:12:31.971459Z",
     "iopub.status.busy": "2022-01-03T17:12:31.970692Z",
     "iopub.status.idle": "2022-01-03T17:12:32.409538Z",
     "shell.execute_reply": "2022-01-03T17:12:32.410065Z",
     "shell.execute_reply.started": "2022-01-03T16:07:11.342737Z"
    },
    "jupyter": {
     "outputs_hidden": false
    },
    "papermill": {
     "duration": 0.490709,
     "end_time": "2022-01-03T17:12:32.410286",
     "exception": false,
     "start_time": "2022-01-03T17:12:31.919577",
     "status": "completed"
    },
    "tags": []
   },
   "outputs": [
    {
     "name": "stdout",
     "output_type": "stream",
     "text": [
      "CPU times: user 223 ms, sys: 69.6 ms, total: 292 ms\n",
      "Wall time: 417 ms\n"
     ]
    },
    {
     "data": {
      "text/html": [
       "<div>\n",
       "<style scoped>\n",
       "    .dataframe tbody tr th:only-of-type {\n",
       "        vertical-align: middle;\n",
       "    }\n",
       "\n",
       "    .dataframe tbody tr th {\n",
       "        vertical-align: top;\n",
       "    }\n",
       "\n",
       "    .dataframe thead th {\n",
       "        text-align: right;\n",
       "    }\n",
       "</style>\n",
       "<table border=\"1\" class=\"dataframe\">\n",
       "  <thead>\n",
       "    <tr style=\"text-align: right;\">\n",
       "      <th></th>\n",
       "      <th>Unnamed: 0</th>\n",
       "      <th>SeriousDlqin2yrs</th>\n",
       "      <th>RevolvingUtilizationOfUnsecuredLines</th>\n",
       "      <th>age</th>\n",
       "      <th>NumberOfTime30-59DaysPastDueNotWorse</th>\n",
       "      <th>DebtRatio</th>\n",
       "      <th>MonthlyIncome</th>\n",
       "      <th>NumberOfOpenCreditLinesAndLoans</th>\n",
       "      <th>NumberOfTimes90DaysLate</th>\n",
       "      <th>NumberRealEstateLoansOrLines</th>\n",
       "      <th>NumberOfTime60-89DaysPastDueNotWorse</th>\n",
       "      <th>NumberOfDependents</th>\n",
       "    </tr>\n",
       "  </thead>\n",
       "  <tbody>\n",
       "    <tr>\n",
       "      <th>0</th>\n",
       "      <td>1</td>\n",
       "      <td>1</td>\n",
       "      <td>0.766127</td>\n",
       "      <td>45</td>\n",
       "      <td>2</td>\n",
       "      <td>0.802982</td>\n",
       "      <td>9120.0</td>\n",
       "      <td>13</td>\n",
       "      <td>0</td>\n",
       "      <td>6</td>\n",
       "      <td>0</td>\n",
       "      <td>2.0</td>\n",
       "    </tr>\n",
       "    <tr>\n",
       "      <th>1</th>\n",
       "      <td>2</td>\n",
       "      <td>0</td>\n",
       "      <td>0.957151</td>\n",
       "      <td>40</td>\n",
       "      <td>0</td>\n",
       "      <td>0.121876</td>\n",
       "      <td>2600.0</td>\n",
       "      <td>4</td>\n",
       "      <td>0</td>\n",
       "      <td>0</td>\n",
       "      <td>0</td>\n",
       "      <td>1.0</td>\n",
       "    </tr>\n",
       "    <tr>\n",
       "      <th>2</th>\n",
       "      <td>3</td>\n",
       "      <td>0</td>\n",
       "      <td>0.658180</td>\n",
       "      <td>38</td>\n",
       "      <td>1</td>\n",
       "      <td>0.085113</td>\n",
       "      <td>3042.0</td>\n",
       "      <td>2</td>\n",
       "      <td>1</td>\n",
       "      <td>0</td>\n",
       "      <td>0</td>\n",
       "      <td>0.0</td>\n",
       "    </tr>\n",
       "  </tbody>\n",
       "</table>\n",
       "</div>"
      ],
      "text/plain": [
       "   Unnamed: 0  SeriousDlqin2yrs  RevolvingUtilizationOfUnsecuredLines  age  \\\n",
       "0           1                 1                              0.766127   45   \n",
       "1           2                 0                              0.957151   40   \n",
       "2           3                 0                              0.658180   38   \n",
       "\n",
       "   NumberOfTime30-59DaysPastDueNotWorse  DebtRatio  MonthlyIncome  \\\n",
       "0                                     2   0.802982         9120.0   \n",
       "1                                     0   0.121876         2600.0   \n",
       "2                                     1   0.085113         3042.0   \n",
       "\n",
       "   NumberOfOpenCreditLinesAndLoans  NumberOfTimes90DaysLate  \\\n",
       "0                               13                        0   \n",
       "1                                4                        0   \n",
       "2                                2                        1   \n",
       "\n",
       "   NumberRealEstateLoansOrLines  NumberOfTime60-89DaysPastDueNotWorse  \\\n",
       "0                             6                                     0   \n",
       "1                             0                                     0   \n",
       "2                             0                                     0   \n",
       "\n",
       "   NumberOfDependents  \n",
       "0                 2.0  \n",
       "1                 1.0  \n",
       "2                 0.0  "
      ]
     },
     "execution_count": 2,
     "metadata": {},
     "output_type": "execute_result"
    }
   ],
   "source": [
    "%%time \n",
    "train = pd.read_csv('../input/GiveMeSomeCredit/cs-training.csv')\n",
    "test = pd.read_csv('../input/GiveMeSomeCredit/cs-test.csv')\n",
    "train.head(3)"
   ]
  },
  {
   "cell_type": "markdown",
   "id": "f8b62bc0",
   "metadata": {
    "papermill": {
     "duration": 0.046288,
     "end_time": "2022-01-03T17:12:32.503580",
     "exception": false,
     "start_time": "2022-01-03T17:12:32.457292",
     "status": "completed"
    },
    "tags": []
   },
   "source": [
    "# 1-Preprocessing"
   ]
  },
  {
   "cell_type": "markdown",
   "id": "46f73439",
   "metadata": {
    "papermill": {
     "duration": 0.045406,
     "end_time": "2022-01-03T17:12:32.595531",
     "exception": false,
     "start_time": "2022-01-03T17:12:32.550125",
     "status": "completed"
    },
    "tags": []
   },
   "source": [
    "## Convert Dtypes :"
   ]
  },
  {
   "cell_type": "code",
   "execution_count": 3,
   "id": "dadd0dee",
   "metadata": {
    "execution": {
     "iopub.execute_input": "2022-01-03T17:12:32.710178Z",
     "iopub.status.busy": "2022-01-03T17:12:32.708772Z",
     "iopub.status.idle": "2022-01-03T17:12:32.776550Z",
     "shell.execute_reply": "2022-01-03T17:12:32.775910Z",
     "shell.execute_reply.started": "2022-01-03T16:07:11.785482Z"
    },
    "papermill": {
     "duration": 0.13526,
     "end_time": "2022-01-03T17:12:32.776704",
     "exception": false,
     "start_time": "2022-01-03T17:12:32.641444",
     "status": "completed"
    },
    "tags": []
   },
   "outputs": [],
   "source": [
    "# Convert Dtypes :\n",
    "train[train.select_dtypes(['int64','int16','float16','float32','float64','int8']).columns] = train[train.select_dtypes(['int64','int16','float16','float32','float64','int8']).columns].apply(pd.to_numeric)\n",
    "train[train.select_dtypes(['object','category']).columns] = train.select_dtypes(['object','category']).apply(lambda x: x.astype('category'))\n",
    "# Convert Dtypes :\n",
    "test[test.select_dtypes(['int64','int16','float16','float32','float64','int8']).columns] = test[test.select_dtypes(['int64','int16','float16','float32','float64','int8']).columns].apply(pd.to_numeric)\n",
    "test[test.select_dtypes(['object','category']).columns] = test.select_dtypes(['object','category']).apply(lambda x: x.astype('category'))"
   ]
  },
  {
   "cell_type": "markdown",
   "id": "4ad229b6",
   "metadata": {
    "papermill": {
     "duration": 0.044734,
     "end_time": "2022-01-03T17:12:32.866812",
     "exception": false,
     "start_time": "2022-01-03T17:12:32.822078",
     "status": "completed"
    },
    "tags": []
   },
   "source": [
    "# Imbalanced target\n",
    "\n"
   ]
  },
  {
   "cell_type": "code",
   "execution_count": 4,
   "id": "6a2a53ee",
   "metadata": {
    "execution": {
     "iopub.execute_input": "2022-01-03T17:12:32.966982Z",
     "iopub.status.busy": "2022-01-03T17:12:32.965911Z",
     "iopub.status.idle": "2022-01-03T17:12:32.969764Z",
     "shell.execute_reply": "2022-01-03T17:12:32.970398Z",
     "shell.execute_reply.started": "2022-01-03T16:07:11.876329Z"
    },
    "papermill": {
     "duration": 0.057947,
     "end_time": "2022-01-03T17:12:32.970584",
     "exception": false,
     "start_time": "2022-01-03T17:12:32.912637",
     "status": "completed"
    },
    "tags": []
   },
   "outputs": [
    {
     "data": {
      "text/plain": [
       "0    0.93316\n",
       "1    0.06684\n",
       "Name: SeriousDlqin2yrs, dtype: float64"
      ]
     },
     "execution_count": 4,
     "metadata": {},
     "output_type": "execute_result"
    }
   ],
   "source": [
    "train.SeriousDlqin2yrs.value_counts() / len(train)"
   ]
  },
  {
   "cell_type": "code",
   "execution_count": 5,
   "id": "2b971c3d",
   "metadata": {
    "execution": {
     "iopub.execute_input": "2022-01-03T17:12:33.068371Z",
     "iopub.status.busy": "2022-01-03T17:12:33.067283Z",
     "iopub.status.idle": "2022-01-03T17:12:33.306379Z",
     "shell.execute_reply": "2022-01-03T17:12:33.305740Z",
     "shell.execute_reply.started": "2022-01-03T16:07:11.889986Z"
    },
    "papermill": {
     "duration": 0.290505,
     "end_time": "2022-01-03T17:12:33.306545",
     "exception": false,
     "start_time": "2022-01-03T17:12:33.016040",
     "status": "completed"
    },
    "tags": []
   },
   "outputs": [
    {
     "data": {
      "image/png": "[encoded data removed]",
      "text/plain": [
       "<Figure size 576x396 with 1 Axes>"
      ]
     },
     "metadata": {},
     "output_type": "display_data"
    }
   ],
   "source": [
    "# visualize the target variable\n",
    "g = sns.countplot(train['SeriousDlqin2yrs'])\n",
    "g.set_xticklabels(['Pay','Not Pay'])\n",
    "plt.show()"
   ]
  },
  {
   "cell_type": "markdown",
   "id": "ffef335d",
   "metadata": {
    "papermill": {
     "duration": 0.047313,
     "end_time": "2022-01-03T17:12:33.400383",
     "exception": false,
     "start_time": "2022-01-03T17:12:33.353070",
     "status": "completed"
    },
    "tags": []
   },
   "source": [
    "## Reduce Memory"
   ]
  },
  {
   "cell_type": "code",
   "execution_count": 6,
   "id": "322ce9e2",
   "metadata": {
    "execution": {
     "iopub.execute_input": "2022-01-03T17:12:33.517544Z",
     "iopub.status.busy": "2022-01-03T17:12:33.515529Z",
     "iopub.status.idle": "2022-01-03T17:12:33.565077Z",
     "shell.execute_reply": "2022-01-03T17:12:33.564067Z",
     "shell.execute_reply.started": "2022-01-03T16:07:12.268050Z"
    },
    "papermill": {
     "duration": 0.11634,
     "end_time": "2022-01-03T17:12:33.565360",
     "exception": false,
     "start_time": "2022-01-03T17:12:33.449020",
     "status": "completed"
    },
    "tags": []
   },
   "outputs": [
    {
     "name": "stdout",
     "output_type": "stream",
     "text": [
      "Memory usage of dataframe is 13.73 MB\n",
      "Memory usage after optimization is: 3.29 MB\n",
      "Decreased by 76.0%\n",
      "Memory usage of dataframe is 9.29 MB\n",
      "Memory usage after optimization is: 2.90 MB\n",
      "Decreased by 68.7%\n"
     ]
    }
   ],
   "source": [
    "# Author : https://www.kaggle.com/gemartin/load-data-reduce-memory-usage\n",
    "def reduce_mem_usage(df):\n",
    "    \"\"\" iterate through all the columns of a dataframe and modify the data type\n",
    "        to reduce memory usage.        \n",
    "    \"\"\"\n",
    "    start_mem = df.memory_usage().sum() / 1024**2\n",
    "    print('Memory usage of dataframe is {:.2f} MB'.format(start_mem))\n",
    "    \n",
    "    for col in df.columns:\n",
    "        col_type = df[col].dtype\n",
    "        name =df[col].dtype.name \n",
    "        \n",
    "        if col_type != object and col_type.name != 'category':\n",
    "        #if name != \"category\":    \n",
    "            c_min = df[col].min()\n",
    "            c_max = df[col].max()\n",
    "            if str(col_type)[:3] == 'int':\n",
    "                if c_min > np.iinfo(np.int8).min and c_max < np.iinfo(np.int8).max:\n",
    "                    df[col] = df[col].astype(np.int8)\n",
    "                elif c_min > np.iinfo(np.int16).min and c_max < np.iinfo(np.int16).max:\n",
    "                    df[col] = df[col].astype(np.int16)\n",
    "                elif c_min > np.iinfo(np.int32).min and c_max < np.iinfo(np.int32).max:\n",
    "                    df[col] = df[col].astype(np.int32)\n",
    "                elif c_min > np.iinfo(np.int64).min and c_max < np.iinfo(np.int64).max:\n",
    "                    df[col] = df[col].astype(np.int64)  \n",
    "            else:\n",
    "                if c_min > np.finfo(np.float16).min and c_max < np.finfo(np.float16).max:\n",
    "                    df[col] = df[col].astype(np.float16)\n",
    "                elif c_min > np.finfo(np.float32).min and c_max < np.finfo(np.float32).max:\n",
    "                    df[col] = df[col].astype(np.float32)\n",
    "                else:\n",
    "                    df[col] = df[col].astype(np.float64)\n",
    "        else:\n",
    "            df[col] = df[col].astype('category')\n",
    "\n",
    "    end_mem = df.memory_usage().sum() / 1024**2\n",
    "    print('Memory usage after optimization is: {:.2f} MB'.format(end_mem))\n",
    "    print('Decreased by {:.1f}%'.format(100 * (start_mem - end_mem) / start_mem))\n",
    "    \n",
    "    return df\n",
    "train= reduce_mem_usage(train)\n",
    "test= reduce_mem_usage(test)"
   ]
  },
  {
   "cell_type": "markdown",
   "id": "2de31f93",
   "metadata": {
    "papermill": {
     "duration": 0.046929,
     "end_time": "2022-01-03T17:12:33.661313",
     "exception": false,
     "start_time": "2022-01-03T17:12:33.614384",
     "status": "completed"
    },
    "tags": []
   },
   "source": [
    "## X and Y"
   ]
  },
  {
   "cell_type": "code",
   "execution_count": 7,
   "id": "7ee1dc3f",
   "metadata": {
    "execution": {
     "iopub.execute_input": "2022-01-03T17:12:33.763373Z",
     "iopub.status.busy": "2022-01-03T17:12:33.762243Z",
     "iopub.status.idle": "2022-01-03T17:12:33.764486Z",
     "shell.execute_reply": "2022-01-03T17:12:33.765116Z",
     "shell.execute_reply.started": "2022-01-03T16:07:12.334823Z"
    },
    "papermill": {
     "duration": 0.056552,
     "end_time": "2022-01-03T17:12:33.765308",
     "exception": false,
     "start_time": "2022-01-03T17:12:33.708756",
     "status": "completed"
    },
    "tags": []
   },
   "outputs": [],
   "source": [
    "# Cardinality : \n",
    "# - RevolvingUtilizationOfUnsecuredLines :125728, high Outlier\n",
    "# - DebtRatio :114194 , high Outlier \n",
    "# deal with outlier + bin \n",
    "PERCENTAGE = [\"RevolvingUtilizationOfUnsecuredLines\", \"DebtRatio\"]\n",
    "# MonthlyIncome:13594 , high outlier +bin \n",
    "REAL= [\"MonthlyIncome\"]\n",
    "# Can be considred as cat \n",
    "NUMERIC_DISCRET_low = [\"NumberOfDependents\",\n",
    "                       \"NumberOfTime60-89DaysPastDueNotWorse\",\n",
    "                       \"NumberRealEstateLoansOrLines\",\n",
    "                       \"NumberOfTimes90DaysLate\",\n",
    "                       \"NumberOfOpenCreditLinesAndLoans\",\n",
    "                       \"NumberOfTime30-59DaysPastDueNotWorse\",\n",
    "                       \"age\"]\n",
    "Late_Pay_Cols = ['NumberOfTime30-59DaysPastDueNotWorse',\n",
    "                 'NumberOfTimes90DaysLate',\n",
    "                 'NumberOfTime60-89DaysPastDueNotWorse']\n",
    "TARGET = [\"SeriousDlqin2yrs\"]\n",
    "\n",
    "#also change the type for TARGET to categorical\n",
    "#df[TARGET] = df[TARGET].astype('category')"
   ]
  },
  {
   "cell_type": "code",
   "execution_count": 8,
   "id": "26085fa9",
   "metadata": {
    "execution": {
     "iopub.execute_input": "2022-01-03T17:12:33.869623Z",
     "iopub.status.busy": "2022-01-03T17:12:33.868566Z",
     "iopub.status.idle": "2022-01-03T17:12:33.871799Z",
     "shell.execute_reply": "2022-01-03T17:12:33.871192Z",
     "shell.execute_reply.started": "2022-01-03T16:07:12.346478Z"
    },
    "papermill": {
     "duration": 0.055458,
     "end_time": "2022-01-03T17:12:33.871946",
     "exception": false,
     "start_time": "2022-01-03T17:12:33.816488",
     "status": "completed"
    },
    "tags": []
   },
   "outputs": [],
   "source": [
    "y = train['SeriousDlqin2yrs']"
   ]
  },
  {
   "cell_type": "markdown",
   "id": "de6f41c6",
   "metadata": {
    "papermill": {
     "duration": 0.046483,
     "end_time": "2022-01-03T17:12:33.965617",
     "exception": false,
     "start_time": "2022-01-03T17:12:33.919134",
     "status": "completed"
    },
    "tags": []
   },
   "source": [
    "## Imput before Descritaziation : \n",
    "\n",
    "### IterativeImputer\n"
   ]
  },
  {
   "cell_type": "code",
   "execution_count": 9,
   "id": "e1165472",
   "metadata": {
    "execution": {
     "iopub.execute_input": "2022-01-03T17:12:34.072542Z",
     "iopub.status.busy": "2022-01-03T17:12:34.070271Z",
     "iopub.status.idle": "2022-01-03T17:12:34.075533Z",
     "shell.execute_reply": "2022-01-03T17:12:34.074954Z",
     "shell.execute_reply.started": "2022-01-03T16:07:12.359189Z"
    },
    "papermill": {
     "duration": 0.063913,
     "end_time": "2022-01-03T17:12:34.075700",
     "exception": false,
     "start_time": "2022-01-03T17:12:34.011787",
     "status": "completed"
    },
    "tags": []
   },
   "outputs": [
    {
     "name": "stdout",
     "output_type": "stream",
     "text": [
      "CPU times: user 358 µs, sys: 0 ns, total: 358 µs\n",
      "Wall time: 363 µs\n"
     ]
    }
   ],
   "source": [
    "%%time \n",
    "param =  {   \"verbosity\": 0,\n",
    "            #\"objective\": \"binary:logistic\",\n",
    "            #\"eval_metric\": \"auc\",\n",
    "            'random_state': 42,\n",
    "            # regression\n",
    "            'objective':'reg:squarederror', \n",
    "             'eval_metric': 'mae',\n",
    "            #early_stopping_rounds=100 ,\n",
    "            'gpu_id':0, \n",
    "            'predictor':\"gpu_predictor\",\n",
    "            # use exact for small dataset.\n",
    "            #\"tree_method\": \"exact\",\n",
    "            # big data :\n",
    "             'tree_method': 'gpu_hist',\n",
    "            # defines booster, gblinear for linear functions.\n",
    "             'booster': 'gbtree', \n",
    "            'lambda': 8.544792472633987e-07,\n",
    "            'alpha': 0.31141671752487043,\n",
    "            'subsample': 0.8779467596981366, \n",
    "            'colsample_bytree': 0.9759532762677546,\n",
    "            'learning_rate': 0.008686087328805853, \n",
    "            'n_estimators': 6988,\n",
    "            'max_depth': 9,\n",
    "            'min_child_weight': 2, \n",
    "            'eta': 3.7603213457541647e-06,\n",
    "            'gamma': 2.1478058456847449e-07,\n",
    "            'grow_policy': 'lossguide'}\n",
    "                \n",
    "\n",
    "#model_xgb = XGBRegressor(\n",
    "       #objective=\"mae\",\n",
    " #   **xgb_params2)\n",
    "\n",
    "numeric_transformer1 = Pipeline(\n",
    "                            steps=[\n",
    "                            ('imputer', SimpleImputer(strategy='median'\n",
    "                                                      ,add_indicator=True)),\n",
    "                            ('scaler', PowerTransformer()),#(Numerical Input, Numerical Output)\n",
    "                            # Create an SelectKBest object to select features with two best ANOVA F-Values\n",
    "                            #The F-value scores examine if, when we group the numerical feature by the target vector, the means for each group are significantly different\n",
    "                           # ('reducedim',  SelectPercentile(f_classif,percentile=90))\n",
    "                            ]\n",
    "                            )\n",
    "numeric_transformer2 = Pipeline(\n",
    "                            steps=[\n",
    "                            #('imputer', SimpleImputer(strategy='median'\n",
    "                             #                         ,add_indicator=True)),\n",
    "                            ('scaler', PowerTransformer()),#(Numerical Input, Numerical Output)\n",
    "                            # Create an SelectKBest object to select features with two best ANOVA F-Values\n",
    "                            #The F-value scores examine if, when we group the numerical feature by the target vector, the means for each group are significantly different\n",
    "                           # ('reducedim',  SelectPercentile(f_classif,percentile=90))\n",
    "                            ]\n",
    "                            )\n",
    "\n",
    "pipe_xgbr1 = Pipeline(\n",
    "                    steps=[\n",
    "                        ('preprocessor', numeric_transformer1),\n",
    "                        ('classifier', XGBRegressor(\n",
    "                      #objective=\"mae\",\n",
    "                       **param))\n",
    "                    ]\n",
    "                )\n",
    "pipe_xgbr2 = Pipeline(\n",
    "                    steps=[\n",
    "                        ('preprocessor', numeric_transformer2),\n",
    "                        ('classifier', XGBRegressor(\n",
    "                      #objective=\"mae\",\n",
    "                       **param))\n",
    "                    ]\n",
    "                )"
   ]
  },
  {
   "cell_type": "code",
   "execution_count": 10,
   "id": "9a6939c6",
   "metadata": {
    "execution": {
     "iopub.execute_input": "2022-01-03T17:12:34.181413Z",
     "iopub.status.busy": "2022-01-03T17:12:34.180134Z",
     "iopub.status.idle": "2022-01-03T17:15:10.849615Z",
     "shell.execute_reply": "2022-01-03T17:15:10.850472Z",
     "shell.execute_reply.started": "2022-01-03T16:07:12.380586Z"
    },
    "papermill": {
     "duration": 156.727247,
     "end_time": "2022-01-03T17:15:10.850760",
     "exception": false,
     "start_time": "2022-01-03T17:12:34.123513",
     "status": "completed"
    },
    "tags": []
   },
   "outputs": [
    {
     "name": "stdout",
     "output_type": "stream",
     "text": [
      "CPU times: user 2min 30s, sys: 3.25 s, total: 2min 33s\n",
      "Wall time: 2min 36s\n"
     ]
    }
   ],
   "source": [
    "%%time \n",
    "train=train.drop(['Unnamed: 0','SeriousDlqin2yrs'], axis=1)\n",
    "test=test.drop(['Unnamed: 0','SeriousDlqin2yrs'], axis=1)\n",
    "train_final= pd.concat( [train, test], axis=0) \n",
    "#testdf_income= train_final[train_final['MonthlyIncome'].isnull()==True]\n",
    "traindf_income = train_final[train_final['MonthlyIncome'].isnull()==False]\n",
    "y_income = traindf_income['MonthlyIncome']\n",
    "X_income=traindf_income.drop([\"MonthlyIncome\"],axis=1)\n",
    "pipe_xgbr1.fit(X_income, y_income)\n",
    "train_income_missing=train[train['MonthlyIncome'].isnull()==True].drop([\"MonthlyIncome\"],axis=1)\n",
    "test_income_missing=test[test['MonthlyIncome'].isnull()==True].drop([\"MonthlyIncome\"],axis=1)\n",
    "train_predicted = pipe_xgbr1.predict(train_income_missing)\n",
    "test_predicted = pipe_xgbr1.predict(test_income_missing)\n",
    "train.loc[(train.MonthlyIncome.isnull()), 'MonthlyIncome'] = train_predicted\n",
    "test.loc[(test.MonthlyIncome.isnull()), 'MonthlyIncome'] = test_predicted"
   ]
  },
  {
   "cell_type": "code",
   "execution_count": 11,
   "id": "308e0f82",
   "metadata": {
    "execution": {
     "iopub.execute_input": "2022-01-03T17:15:10.957597Z",
     "iopub.status.busy": "2022-01-03T17:15:10.956559Z",
     "iopub.status.idle": "2022-01-03T17:18:12.947263Z",
     "shell.execute_reply": "2022-01-03T17:18:12.947834Z",
     "shell.execute_reply.started": "2022-01-03T16:09:53.825220Z"
    },
    "papermill": {
     "duration": 182.04768,
     "end_time": "2022-01-03T17:18:12.948029",
     "exception": false,
     "start_time": "2022-01-03T17:15:10.900349",
     "status": "completed"
    },
    "tags": []
   },
   "outputs": [
    {
     "name": "stdout",
     "output_type": "stream",
     "text": [
      "CPU times: user 2min 57s, sys: 1.34 s, total: 2min 59s\n",
      "Wall time: 3min 1s\n"
     ]
    }
   ],
   "source": [
    "%%time \n",
    "traindf_NumberOfDependents = train_final[train_final['NumberOfDependents'].isnull()==False]\n",
    "y_NumberOfDependents = traindf_NumberOfDependents['NumberOfDependents']\n",
    "X_NumberOfDependents=traindf_NumberOfDependents.drop([\"NumberOfDependents\"],axis=1)\n",
    "pipe_xgbr2.fit(X_NumberOfDependents, y_NumberOfDependents)\n",
    "train_NumberOfDependents_missing=train[train['NumberOfDependents'].isnull()==True].drop([\"NumberOfDependents\"],axis=1)\n",
    "test_NumberOfDependents_missing=test[test['NumberOfDependents'].isnull()==True].drop([\"NumberOfDependents\"],axis=1)\n",
    "train_predicted = pipe_xgbr2.predict(train_NumberOfDependents_missing)\n",
    "test_predicted = pipe_xgbr2.predict(test_NumberOfDependents_missing)\n",
    "train.loc[(train.NumberOfDependents.isnull()), 'NumberOfDependents'] = train_predicted\n",
    "test.loc[(test.NumberOfDependents.isnull()), 'NumberOfDependents'] = test_predicted"
   ]
  },
  {
   "cell_type": "code",
   "execution_count": 12,
   "id": "9f4c8743",
   "metadata": {
    "execution": {
     "iopub.execute_input": "2022-01-03T17:18:13.063422Z",
     "iopub.status.busy": "2022-01-03T17:18:13.062243Z",
     "iopub.status.idle": "2022-01-03T17:18:13.651269Z",
     "shell.execute_reply": "2022-01-03T17:18:13.651886Z",
     "shell.execute_reply.started": "2022-01-03T16:12:57.663439Z"
    },
    "papermill": {
     "duration": 0.654766,
     "end_time": "2022-01-03T17:18:13.652104",
     "exception": false,
     "start_time": "2022-01-03T17:18:12.997338",
     "status": "completed"
    },
    "tags": []
   },
   "outputs": [],
   "source": [
    "# Add bin data \n",
    "# initializing append_str\n",
    "append_str = 'cat_'\n",
    "# Append suffix / prefix to strings in list\n",
    "num_features1=[\"RevolvingUtilizationOfUnsecuredLines\", \"DebtRatio\",\"MonthlyIncome\"]\n",
    "num_features2=[\"NumberOfDependents\",\n",
    "                       \"NumberOfTime60-89DaysPastDueNotWorse\",\n",
    "                       \"NumberRealEstateLoansOrLines\",\n",
    "                       \"NumberOfTimes90DaysLate\",\n",
    "                       \"NumberOfOpenCreditLinesAndLoans\",\n",
    "                       \"NumberOfTime30-59DaysPastDueNotWorse\",\n",
    "                       \"age\"]\n",
    "cat_features1 = [append_str + sub for sub in num_features1]\n",
    "cat_features2 = [append_str + sub for sub in num_features2]\n",
    "\n",
    "# create the discretizer object with strategy quantile and 1000 bins\n",
    "discretizer1 = KBinsDiscretizer(n_bins=40, encode='ordinal',strategy='quantile')\n",
    "discretizer2 = KBinsDiscretizer(n_bins=4, encode='ordinal',strategy='quantile')\n",
    "\n",
    "pipeline1 = Pipeline([\n",
    "        ('imputer', SimpleImputer( strategy='median')),\n",
    "        ('bin', discretizer1)\n",
    "    ])\n",
    "# fit the discretizer to the train set\n",
    "pipeline1.fit(train.loc[:,num_features1])\n",
    "# apply the discretisation\n",
    "train_cat1 = pipeline1.transform(train.loc[:,num_features1])\n",
    "test_cat1 = pipeline1.transform(test.loc[:,num_features1])\n",
    "train_df1=pd.DataFrame(train_cat1,columns=cat_features1).astype('category')\n",
    "test_df1=pd.DataFrame(test_cat1,columns=cat_features1).astype('category')\n",
    "train_final1= pd.concat( [train.loc[:,num_features1], train_df1], axis=1) \n",
    "test_final1= pd.concat( [test.loc[:,num_features1], test_df1], axis=1) \n",
    "\n",
    "pipeline2 = Pipeline([\n",
    "        ('imputer', SimpleImputer( strategy='median')),\n",
    "        ('bin', discretizer2)\n",
    "    ])\n",
    "# fit the discretizer to the train set\n",
    "pipeline2.fit(train.loc[:,num_features2])\n",
    "# apply the discretisation\n",
    "train_cat2 = pipeline2.transform(train.loc[:,num_features2])\n",
    "test_cat2 = pipeline2.transform(test.loc[:,num_features2])\n",
    "train_df2=pd.DataFrame(train_cat2,columns=cat_features2).astype('category')\n",
    "test_df2=pd.DataFrame(test_cat2,columns=cat_features2).astype('category')\n",
    "train_final2= pd.concat( [train.loc[:,num_features2], train_df2], axis=1) \n",
    "test_final2= pd.concat( [test.loc[:,num_features2], test_df2], axis=1) "
   ]
  },
  {
   "cell_type": "code",
   "execution_count": 13,
   "id": "aa7bd0f3",
   "metadata": {
    "execution": {
     "iopub.execute_input": "2022-01-03T17:18:13.759291Z",
     "iopub.status.busy": "2022-01-03T17:18:13.757912Z",
     "iopub.status.idle": "2022-01-03T17:18:13.764130Z",
     "shell.execute_reply": "2022-01-03T17:18:13.763597Z",
     "shell.execute_reply.started": "2022-01-03T16:12:58.245748Z"
    },
    "papermill": {
     "duration": 0.062468,
     "end_time": "2022-01-03T17:18:13.764322",
     "exception": false,
     "start_time": "2022-01-03T17:18:13.701854",
     "status": "completed"
    },
    "tags": []
   },
   "outputs": [],
   "source": [
    "train_final= pd.concat( [train_final1, train_final2], axis=1) \n",
    "test_final= pd.concat( [test_final1, test_final2], axis=1) "
   ]
  },
  {
   "cell_type": "markdown",
   "id": "40b16dab",
   "metadata": {
    "papermill": {
     "duration": 0.049496,
     "end_time": "2022-01-03T17:18:13.862833",
     "exception": false,
     "start_time": "2022-01-03T17:18:13.813337",
     "status": "completed"
    },
    "tags": []
   },
   "source": [
    "## Final X and y"
   ]
  },
  {
   "cell_type": "code",
   "execution_count": 14,
   "id": "d67747b2",
   "metadata": {
    "execution": {
     "iopub.execute_input": "2022-01-03T17:18:13.967661Z",
     "iopub.status.busy": "2022-01-03T17:18:13.966619Z",
     "iopub.status.idle": "2022-01-03T17:18:13.970033Z",
     "shell.execute_reply": "2022-01-03T17:18:13.969442Z",
     "shell.execute_reply.started": "2022-01-03T16:12:58.258340Z"
    },
    "papermill": {
     "duration": 0.058379,
     "end_time": "2022-01-03T17:18:13.970195",
     "exception": false,
     "start_time": "2022-01-03T17:18:13.911816",
     "status": "completed"
    },
    "tags": []
   },
   "outputs": [],
   "source": [
    "# Pour le train test\n",
    "target= \"SeriousDlqin2yrs\"\n",
    "X = train_final# axis=1\n",
    "X_test_final =test_final# axis=1"
   ]
  },
  {
   "cell_type": "code",
   "execution_count": 15,
   "id": "cf665c2b",
   "metadata": {
    "execution": {
     "iopub.execute_input": "2022-01-03T17:18:14.075425Z",
     "iopub.status.busy": "2022-01-03T17:18:14.074231Z",
     "iopub.status.idle": "2022-01-03T17:18:14.101717Z",
     "shell.execute_reply": "2022-01-03T17:18:14.102368Z",
     "shell.execute_reply.started": "2022-01-03T16:12:58.267779Z"
    },
    "papermill": {
     "duration": 0.082651,
     "end_time": "2022-01-03T17:18:14.102542",
     "exception": false,
     "start_time": "2022-01-03T17:18:14.019891",
     "status": "completed"
    },
    "tags": []
   },
   "outputs": [
    {
     "name": "stdout",
     "output_type": "stream",
     "text": [
      "<class 'pandas.core.frame.DataFrame'>\n",
      "RangeIndex: 101503 entries, 0 to 101502\n",
      "Data columns (total 20 columns):\n",
      " #   Column                                    Non-Null Count   Dtype   \n",
      "---  ------                                    --------------   -----   \n",
      " 0   RevolvingUtilizationOfUnsecuredLines      101503 non-null  float16 \n",
      " 1   DebtRatio                                 101503 non-null  float32 \n",
      " 2   MonthlyIncome                             101503 non-null  float32 \n",
      " 3   cat_RevolvingUtilizationOfUnsecuredLines  101503 non-null  category\n",
      " 4   cat_DebtRatio                             101503 non-null  category\n",
      " 5   cat_MonthlyIncome                         101503 non-null  category\n",
      " 6   NumberOfDependents                        101503 non-null  float16 \n",
      " 7   NumberOfTime60-89DaysPastDueNotWorse      101503 non-null  int8    \n",
      " 8   NumberRealEstateLoansOrLines              101503 non-null  int8    \n",
      " 9   NumberOfTimes90DaysLate                   101503 non-null  int8    \n",
      " 10  NumberOfOpenCreditLinesAndLoans           101503 non-null  int8    \n",
      " 11  NumberOfTime30-59DaysPastDueNotWorse      101503 non-null  int8    \n",
      " 12  age                                       101503 non-null  int8    \n",
      " 13  cat_NumberOfDependents                    101503 non-null  category\n",
      " 14  cat_NumberOfTime60-89DaysPastDueNotWorse  101503 non-null  category\n",
      " 15  cat_NumberRealEstateLoansOrLines          101503 non-null  category\n",
      " 16  cat_NumberOfTimes90DaysLate               101503 non-null  category\n",
      " 17  cat_NumberOfOpenCreditLinesAndLoans       101503 non-null  category\n",
      " 18  cat_NumberOfTime30-59DaysPastDueNotWorse  101503 non-null  category\n",
      " 19  cat_age                                   101503 non-null  category\n",
      "dtypes: category(10), float16(2), float32(2), int8(6)\n",
      "memory usage: 2.7 MB\n"
     ]
    }
   ],
   "source": [
    "X_test_final.info()"
   ]
  },
  {
   "cell_type": "code",
   "execution_count": 16,
   "id": "88024dd4",
   "metadata": {
    "execution": {
     "iopub.execute_input": "2022-01-03T17:18:14.208683Z",
     "iopub.status.busy": "2022-01-03T17:18:14.207375Z",
     "iopub.status.idle": "2022-01-03T17:18:14.234203Z",
     "shell.execute_reply": "2022-01-03T17:18:14.234793Z",
     "shell.execute_reply.started": "2022-01-03T16:12:58.307405Z"
    },
    "papermill": {
     "duration": 0.082119,
     "end_time": "2022-01-03T17:18:14.234965",
     "exception": false,
     "start_time": "2022-01-03T17:18:14.152846",
     "status": "completed"
    },
    "tags": []
   },
   "outputs": [
    {
     "name": "stdout",
     "output_type": "stream",
     "text": [
      "<class 'pandas.core.frame.DataFrame'>\n",
      "RangeIndex: 150000 entries, 0 to 149999\n",
      "Data columns (total 20 columns):\n",
      " #   Column                                    Non-Null Count   Dtype   \n",
      "---  ------                                    --------------   -----   \n",
      " 0   RevolvingUtilizationOfUnsecuredLines      150000 non-null  float16 \n",
      " 1   DebtRatio                                 150000 non-null  float32 \n",
      " 2   MonthlyIncome                             150000 non-null  float32 \n",
      " 3   cat_RevolvingUtilizationOfUnsecuredLines  150000 non-null  category\n",
      " 4   cat_DebtRatio                             150000 non-null  category\n",
      " 5   cat_MonthlyIncome                         150000 non-null  category\n",
      " 6   NumberOfDependents                        150000 non-null  float16 \n",
      " 7   NumberOfTime60-89DaysPastDueNotWorse      150000 non-null  int8    \n",
      " 8   NumberRealEstateLoansOrLines              150000 non-null  int8    \n",
      " 9   NumberOfTimes90DaysLate                   150000 non-null  int8    \n",
      " 10  NumberOfOpenCreditLinesAndLoans           150000 non-null  int8    \n",
      " 11  NumberOfTime30-59DaysPastDueNotWorse      150000 non-null  int8    \n",
      " 12  age                                       150000 non-null  int8    \n",
      " 13  cat_NumberOfDependents                    150000 non-null  category\n",
      " 14  cat_NumberOfTime60-89DaysPastDueNotWorse  150000 non-null  category\n",
      " 15  cat_NumberRealEstateLoansOrLines          150000 non-null  category\n",
      " 16  cat_NumberOfTimes90DaysLate               150000 non-null  category\n",
      " 17  cat_NumberOfOpenCreditLinesAndLoans       150000 non-null  category\n",
      " 18  cat_NumberOfTime30-59DaysPastDueNotWorse  150000 non-null  category\n",
      " 19  cat_age                                   150000 non-null  category\n",
      "dtypes: category(10), float16(2), float32(2), int8(6)\n",
      "memory usage: 4.0 MB\n"
     ]
    }
   ],
   "source": [
    "X.info()"
   ]
  },
  {
   "cell_type": "code",
   "execution_count": 17,
   "id": "4ed5c3b9",
   "metadata": {
    "execution": {
     "iopub.execute_input": "2022-01-03T17:18:14.340983Z",
     "iopub.status.busy": "2022-01-03T17:18:14.339943Z",
     "iopub.status.idle": "2022-01-03T17:18:14.343282Z",
     "shell.execute_reply": "2022-01-03T17:18:14.342707Z",
     "shell.execute_reply.started": "2022-01-03T16:12:58.342858Z"
    },
    "papermill": {
     "duration": 0.057889,
     "end_time": "2022-01-03T17:18:14.343422",
     "exception": false,
     "start_time": "2022-01-03T17:18:14.285533",
     "status": "completed"
    },
    "tags": []
   },
   "outputs": [],
   "source": [
    "del train\n",
    "del test \n",
    "del train_final\n",
    "del test_final"
   ]
  },
  {
   "cell_type": "code",
   "execution_count": 18,
   "id": "47a1bb9d",
   "metadata": {
    "execution": {
     "iopub.execute_input": "2022-01-03T17:18:14.454235Z",
     "iopub.status.busy": "2022-01-03T17:18:14.453107Z",
     "iopub.status.idle": "2022-01-03T17:18:14.460540Z",
     "shell.execute_reply": "2022-01-03T17:18:14.459881Z",
     "shell.execute_reply.started": "2022-01-03T16:12:58.351220Z"
    },
    "papermill": {
     "duration": 0.067612,
     "end_time": "2022-01-03T17:18:14.460676",
     "exception": false,
     "start_time": "2022-01-03T17:18:14.393064",
     "status": "completed"
    },
    "tags": []
   },
   "outputs": [
    {
     "data": {
      "text/plain": [
       "Index(['cat_RevolvingUtilizationOfUnsecuredLines', 'cat_DebtRatio',\n",
       "       'cat_MonthlyIncome', 'cat_NumberOfDependents',\n",
       "       'cat_NumberOfTime60-89DaysPastDueNotWorse',\n",
       "       'cat_NumberRealEstateLoansOrLines', 'cat_NumberOfTimes90DaysLate',\n",
       "       'cat_NumberOfOpenCreditLinesAndLoans',\n",
       "       'cat_NumberOfTime30-59DaysPastDueNotWorse', 'cat_age'],\n",
       "      dtype='object')"
      ]
     },
     "execution_count": 18,
     "metadata": {},
     "output_type": "execute_result"
    }
   ],
   "source": [
    "# select non-numeric columns\n",
    "cat_columns = X.select_dtypes(exclude=['int64','int16','float16','float32','float64','int8']).columns\n",
    "cat_columns"
   ]
  },
  {
   "cell_type": "markdown",
   "id": "c1bc5c90",
   "metadata": {
    "papermill": {
     "duration": 0.050297,
     "end_time": "2022-01-03T17:18:14.561885",
     "exception": false,
     "start_time": "2022-01-03T17:18:14.511588",
     "status": "completed"
    },
    "tags": []
   },
   "source": [
    "### Num Features\n",
    "\n"
   ]
  },
  {
   "cell_type": "code",
   "execution_count": 19,
   "id": "e81c0e4d",
   "metadata": {
    "execution": {
     "iopub.execute_input": "2022-01-03T17:18:14.674801Z",
     "iopub.status.busy": "2022-01-03T17:18:14.673671Z",
     "iopub.status.idle": "2022-01-03T17:18:14.682115Z",
     "shell.execute_reply": "2022-01-03T17:18:14.681578Z",
     "shell.execute_reply.started": "2022-01-03T16:12:58.374249Z"
    },
    "papermill": {
     "duration": 0.069957,
     "end_time": "2022-01-03T17:18:14.682346",
     "exception": false,
     "start_time": "2022-01-03T17:18:14.612389",
     "status": "completed"
    },
    "tags": []
   },
   "outputs": [
    {
     "data": {
      "text/plain": [
       "Index(['RevolvingUtilizationOfUnsecuredLines', 'DebtRatio', 'MonthlyIncome',\n",
       "       'NumberOfDependents', 'NumberOfTime60-89DaysPastDueNotWorse',\n",
       "       'NumberRealEstateLoansOrLines', 'NumberOfTimes90DaysLate',\n",
       "       'NumberOfOpenCreditLinesAndLoans',\n",
       "       'NumberOfTime30-59DaysPastDueNotWorse', 'age'],\n",
       "      dtype='object')"
      ]
     },
     "execution_count": 19,
     "metadata": {},
     "output_type": "execute_result"
    }
   ],
   "source": [
    "# select the float columns\n",
    "num_columns = X.select_dtypes(include=['int64','int16','float16','float32','float64','int8']).columns\n",
    "num_columns"
   ]
  },
  {
   "cell_type": "markdown",
   "id": "e07e4579",
   "metadata": {
    "papermill": {
     "duration": 0.086426,
     "end_time": "2022-01-03T17:18:14.818969",
     "exception": false,
     "start_time": "2022-01-03T17:18:14.732543",
     "status": "completed"
    },
    "tags": []
   },
   "source": [
    "# FE"
   ]
  },
  {
   "cell_type": "code",
   "execution_count": 20,
   "id": "4dcbf5ba",
   "metadata": {
    "execution": {
     "iopub.execute_input": "2022-01-03T17:18:14.941075Z",
     "iopub.status.busy": "2022-01-03T17:18:14.939954Z",
     "iopub.status.idle": "2022-01-03T17:18:14.943341Z",
     "shell.execute_reply": "2022-01-03T17:18:14.942763Z",
     "shell.execute_reply.started": "2022-01-03T16:12:58.393809Z"
    },
    "papermill": {
     "duration": 0.06362,
     "end_time": "2022-01-03T17:18:14.943509",
     "exception": false,
     "start_time": "2022-01-03T17:18:14.879889",
     "status": "completed"
    },
    "tags": []
   },
   "outputs": [],
   "source": [
    "class MiniKmeansTransformerEncoder(BaseEstimator, TransformerMixin):\n",
    "    def __init__(self, num_clusters = 11, encoder=ce.woe.WOEEncoder()):\n",
    "        self.num_clusters = num_clusters\n",
    "        self.encoder= encoder\n",
    "        if self.num_clusters > 0:\n",
    "            self.kmeans = MiniBatchKMeans(n_clusters=self.num_clusters, random_state=0)\n",
    "    \n",
    "    def fit(self, X, y=None):\n",
    "        if self.num_clusters > 0:\n",
    "            self.kmeans.fit(X)\n",
    "            preds=self.kmeans.predict(X)\n",
    "            preds=pd.DataFrame(preds, columns=['kmeans']).astype('category')\n",
    "            self.encoder.fit(preds,y)\n",
    "        return self\n",
    "    \n",
    "    def transform(self, X, y=None):\n",
    "        pred_classes = self.kmeans.predict(X)\n",
    "        pred_classes=pd.DataFrame(pred_classes, columns=['kmeans']).astype('category')\n",
    "        pred_encoded = self.encoder.transform(pred_classes)\n",
    "        return np.hstack((X, pred_encoded))\n",
    "        #return pred_encoded"
   ]
  },
  {
   "cell_type": "markdown",
   "id": "97e0ecca",
   "metadata": {
    "papermill": {
     "duration": 0.050445,
     "end_time": "2022-01-03T17:18:15.044963",
     "exception": false,
     "start_time": "2022-01-03T17:18:14.994518",
     "status": "completed"
    },
    "tags": []
   },
   "source": [
    "# Complete Pipe \n",
    "\n",
    "1. Features Engineer\n",
    "\n",
    "1. Kmeans\n",
    "\n",
    "1. Sparse\n",
    "\n",
    "1. Poly\n",
    "\n",
    "1. Scaler/Transformer\n",
    "\n",
    "1. imput\n",
    "\n",
    "1. Add bin data \n",
    "\n",
    "## Pipe : \n"
   ]
  },
  {
   "cell_type": "code",
   "execution_count": 21,
   "id": "6314ee72",
   "metadata": {
    "execution": {
     "iopub.execute_input": "2022-01-03T17:18:15.160967Z",
     "iopub.status.busy": "2022-01-03T17:18:15.159900Z",
     "iopub.status.idle": "2022-01-03T17:18:15.162663Z",
     "shell.execute_reply": "2022-01-03T17:18:15.163192Z",
     "shell.execute_reply.started": "2022-01-03T16:12:58.408439Z"
    },
    "papermill": {
     "duration": 0.066611,
     "end_time": "2022-01-03T17:18:15.163364",
     "exception": false,
     "start_time": "2022-01-03T17:18:15.096753",
     "status": "completed"
    },
    "tags": []
   },
   "outputs": [],
   "source": [
    "# Cat pipeline\n",
    "categorical_transformer = Pipeline(\n",
    "                    steps=[\n",
    "                        ('imputer', SimpleImputer(strategy='most_frequent',\n",
    "                                                  fill_value='missing',\n",
    "                                                  add_indicator=True)),\n",
    "                        ('encoder',  ce.woe.WOEEncoder()),#(Numerical Input, Categorical Output)\n",
    "                        #('sparse_features', SparseInteractions(degree=2)),\n",
    "                        #('reducedim',  SelectPercentile( mutual_info_classif, percentile=90))\n",
    "\n",
    "                    ]\n",
    "                    ) \n",
    "#Define vnum pipeline\n",
    "numeric_transformer = Pipeline(\n",
    "                            steps=[\n",
    "                            ('imputer', SimpleImputer(strategy='median'\n",
    "                                                      ,add_indicator=True)),\n",
    "                            #('general_features',FeaturesEngineer()),\n",
    "                            ('scaler', PowerTransformer()),#(Numerical Input, Numerical Output)\n",
    "                            # Create an SelectKBest object to select features with two best ANOVA F-Values\n",
    "                            #The F-value scores examine if, when we group the numerical feature by the target vector, the means for each group are significantly different\n",
    "                            ('kmeans',MiniKmeansTransformerEncoder()),\n",
    "                            ('polynominal_features', PolynomialFeatures(degree=2)),\n",
    "                            #('reducedim',  SelectPercentile(f_classif,percentile=90))\n",
    "                            ]\n",
    "                            )\n",
    "# Features union cat + num \n",
    "# WOE+PowerTransformer\n",
    "preprocessor_woe_powertransformer = ColumnTransformer(\n",
    "            transformers=[\n",
    "                ('numerical', numeric_transformer, num_columns),\n",
    "               # ('categorical', categorical_transformer, cat_columns)\n",
    "            ])\n",
    "#Define vnum pipeline\n",
    "numeric_transformer_final = Pipeline(\n",
    "                            steps=[\n",
    "                            ('imputer', SimpleImputer(strategy='median'\n",
    "                                                      ,add_indicator=True)),\n",
    "                            #('general_features',FeaturesEngineer()),\n",
    "                            ('scaler', PowerTransformer()),#(Numerical Input, Numerical Output)\n",
    "                            # Create an SelectKBest object to select features with two best ANOVA F-Values\n",
    "                            #The F-value scores examine if, when we group the numerical feature by the target vector, the means for each group are significantly different\n",
    "                            ('kmeans',MiniKmeansTransformerEncoder()),\n",
    "                            ('polynominal_features', PolynomialFeatures(degree=2)),\n",
    "                            ('reducedim',  SelectPercentile(f_classif,percentile=95))\n",
    "                            ]\n",
    "                            )\n",
    "# Features union cat + num \n",
    "# WOE+PowerTransformer\n",
    "preprocessor_woe_powertransformer_final = ColumnTransformer(\n",
    "            transformers=[\n",
    "                ('numerical', numeric_transformer_final, num_columns),\n",
    "               # ('categorical', categorical_transformer, cat_columns)\n",
    "            ])"
   ]
  },
  {
   "cell_type": "markdown",
   "id": "25a3b5db",
   "metadata": {
    "papermill": {
     "duration": 0.051215,
     "end_time": "2022-01-03T17:18:15.265430",
     "exception": false,
     "start_time": "2022-01-03T17:18:15.214215",
     "status": "completed"
    },
    "tags": []
   },
   "source": [
    "\n"
   ]
  },
  {
   "cell_type": "code",
   "execution_count": 22,
   "id": "01288a76",
   "metadata": {
    "execution": {
     "iopub.execute_input": "2022-01-03T17:18:15.378977Z",
     "iopub.status.busy": "2022-01-03T17:18:15.377809Z",
     "iopub.status.idle": "2022-01-03T17:18:15.843002Z",
     "shell.execute_reply": "2022-01-03T17:18:15.843591Z",
     "shell.execute_reply.started": "2022-01-03T16:12:58.425703Z"
    },
    "papermill": {
     "duration": 0.527033,
     "end_time": "2022-01-03T17:18:15.843778",
     "exception": false,
     "start_time": "2022-01-03T17:18:15.316745",
     "status": "completed"
    },
    "tags": []
   },
   "outputs": [
    {
     "data": {
      "text/html": [
       "<style>div.sk-top-container {color: black;background-color: white;}div.sk-toggleable {background-color: white;}label.sk-toggleable__label {cursor: pointer;display: block;width: 100%;margin-bottom: 0;padding: 0.2em 0.3em;box-sizing: border-box;text-align: center;}div.sk-toggleable__content {max-height: 0;max-width: 0;overflow: hidden;text-align: left;background-color: #f0f8ff;}div.sk-toggleable__content pre {margin: 0.2em;color: black;border-radius: 0.25em;background-color: #f0f8ff;}input.sk-toggleable__control:checked~div.sk-toggleable__content {max-height: 200px;max-width: 100%;overflow: auto;}div.sk-estimator input.sk-toggleable__control:checked~label.sk-toggleable__label {background-color: #d4ebff;}div.sk-label input.sk-toggleable__control:checked~label.sk-toggleable__label {background-color: #d4ebff;}input.sk-hidden--visually {border: 0;clip: rect(1px 1px 1px 1px);clip: rect(1px, 1px, 1px, 1px);height: 1px;margin: -1px;overflow: hidden;padding: 0;position: absolute;width: 1px;}div.sk-estimator {font-family: monospace;background-color: #f0f8ff;margin: 0.25em 0.25em;border: 1px dotted black;border-radius: 0.25em;box-sizing: border-box;}div.sk-estimator:hover {background-color: #d4ebff;}div.sk-parallel-item::after {content: \"\";width: 100%;border-bottom: 1px solid gray;flex-grow: 1;}div.sk-label:hover label.sk-toggleable__label {background-color: #d4ebff;}div.sk-serial::before {content: \"\";position: absolute;border-left: 1px solid gray;box-sizing: border-box;top: 2em;bottom: 0;left: 50%;}div.sk-serial {display: flex;flex-direction: column;align-items: center;background-color: white;}div.sk-item {z-index: 1;}div.sk-parallel {display: flex;align-items: stretch;justify-content: center;background-color: white;}div.sk-parallel-item {display: flex;flex-direction: column;position: relative;background-color: white;}div.sk-parallel-item:first-child::after {align-self: flex-end;width: 50%;}div.sk-parallel-item:last-child::after {align-self: flex-start;width: 50%;}div.sk-parallel-item:only-child::after {width: 0;}div.sk-dashed-wrapped {border: 1px dashed gray;margin: 0.2em;box-sizing: border-box;padding-bottom: 0.1em;background-color: white;position: relative;}div.sk-label label {font-family: monospace;font-weight: bold;background-color: white;display: inline-block;line-height: 1.2em;}div.sk-label-container {position: relative;z-index: 2;text-align: center;}div.sk-container {display: inline-block;position: relative;}</style><div class=\"sk-top-container\"><div class=\"sk-container\"><div class=\"sk-item sk-dashed-wrapped\"><div class=\"sk-label-container\"><div class=\"sk-label sk-toggleable\"><input class=\"sk-toggleable__control sk-hidden--visually\" id=\"de7f2caa-db1b-44b9-9347-41d5763b7b80\" type=\"checkbox\" ><label class=\"sk-toggleable__label\" for=\"de7f2caa-db1b-44b9-9347-41d5763b7b80\">Pipeline</label><div class=\"sk-toggleable__content\"><pre>Pipeline(steps=[('preprocessor',\n",
       "                 ColumnTransformer(transformers=[('numerical',\n",
       "                                                  Pipeline(steps=[('imputer',\n",
       "                                                                   SimpleImputer(add_indicator=True,\n",
       "                                                                                 strategy='median')),\n",
       "                                                                  ('scaler',\n",
       "                                                                   PowerTransformer()),\n",
       "                                                                  ('kmeans',\n",
       "                                                                   MiniKmeansTransformerEncoder()),\n",
       "                                                                  ('polynominal_features',\n",
       "                                                                   PolynomialFeatures())]),\n",
       "                                                  Index(['RevolvingUtilizationOfUnsecuredLines', 'DebtRatio', 'MonthlyIncome'...\n",
       "       'NumberOfOpenCreditLinesAndLoans',\n",
       "       'NumberOfTime30-59DaysPastDueNotWorse', 'age'],\n",
       "      dtype='object'))])),\n",
       "                ('reducedim', SelectPercentile(percentile=95)),\n",
       "                ('classifier',\n",
       "                 LGBMClassifier(device_type='gpu',\n",
       "                                learning_rate=0.0018069834369607075,\n",
       "                                max_depth=8, metric='auc', min_samples_leaf=47,\n",
       "                                n_estimators=5000, random_state=42,\n",
       "                                subsample=0.8573598985000007, verbose=-1))])</pre></div></div></div><div class=\"sk-serial\"><div class=\"sk-item sk-dashed-wrapped\"><div class=\"sk-label-container\"><div class=\"sk-label sk-toggleable\"><input class=\"sk-toggleable__control sk-hidden--visually\" id=\"d333f00c-b8a8-4471-9fd2-557eb9a43f61\" type=\"checkbox\" ><label class=\"sk-toggleable__label\" for=\"d333f00c-b8a8-4471-9fd2-557eb9a43f61\">preprocessor: ColumnTransformer</label><div class=\"sk-toggleable__content\"><pre>ColumnTransformer(transformers=[('numerical',\n",
       "                                 Pipeline(steps=[('imputer',\n",
       "                                                  SimpleImputer(add_indicator=True,\n",
       "                                                                strategy='median')),\n",
       "                                                 ('scaler', PowerTransformer()),\n",
       "                                                 ('kmeans',\n",
       "                                                  MiniKmeansTransformerEncoder()),\n",
       "                                                 ('polynominal_features',\n",
       "                                                  PolynomialFeatures())]),\n",
       "                                 Index(['RevolvingUtilizationOfUnsecuredLines', 'DebtRatio', 'MonthlyIncome',\n",
       "       'NumberOfDependents', 'NumberOfTime60-89DaysPastDueNotWorse',\n",
       "       'NumberRealEstateLoansOrLines', 'NumberOfTimes90DaysLate',\n",
       "       'NumberOfOpenCreditLinesAndLoans',\n",
       "       'NumberOfTime30-59DaysPastDueNotWorse', 'age'],\n",
       "      dtype='object'))])</pre></div></div></div><div class=\"sk-parallel\"><div class=\"sk-parallel-item\"><div class=\"sk-item\"><div class=\"sk-label-container\"><div class=\"sk-label sk-toggleable\"><input class=\"sk-toggleable__control sk-hidden--visually\" id=\"e9bbc8b7-ea5e-4430-b3ab-51ad82fdb9d4\" type=\"checkbox\" ><label class=\"sk-toggleable__label\" for=\"e9bbc8b7-ea5e-4430-b3ab-51ad82fdb9d4\">numerical</label><div class=\"sk-toggleable__content\"><pre>Index(['RevolvingUtilizationOfUnsecuredLines', 'DebtRatio', 'MonthlyIncome',\n",
       "       'NumberOfDependents', 'NumberOfTime60-89DaysPastDueNotWorse',\n",
       "       'NumberRealEstateLoansOrLines', 'NumberOfTimes90DaysLate',\n",
       "       'NumberOfOpenCreditLinesAndLoans',\n",
       "       'NumberOfTime30-59DaysPastDueNotWorse', 'age'],\n",
       "      dtype='object')</pre></div></div></div><div class=\"sk-serial\"><div class=\"sk-item\"><div class=\"sk-serial\"><div class=\"sk-item\"><div class=\"sk-estimator sk-toggleable\"><input class=\"sk-toggleable__control sk-hidden--visually\" id=\"c7df0655-b26f-48e6-91a9-dc3ca5ac8022\" type=\"checkbox\" ><label class=\"sk-toggleable__label\" for=\"c7df0655-b26f-48e6-91a9-dc3ca5ac8022\">SimpleImputer</label><div class=\"sk-toggleable__content\"><pre>SimpleImputer(add_indicator=True, strategy='median')</pre></div></div></div><div class=\"sk-item\"><div class=\"sk-estimator sk-toggleable\"><input class=\"sk-toggleable__control sk-hidden--visually\" id=\"b039336b-ca33-45a4-a8fd-a980b66ae6b1\" type=\"checkbox\" ><label class=\"sk-toggleable__label\" for=\"b039336b-ca33-45a4-a8fd-a980b66ae6b1\">PowerTransformer</label><div class=\"sk-toggleable__content\"><pre>PowerTransformer()</pre></div></div></div><div class=\"sk-item sk-dashed-wrapped\"><div class=\"sk-label-container\"><div class=\"sk-label sk-toggleable\"><input class=\"sk-toggleable__control sk-hidden--visually\" id=\"03e6873d-0511-4ded-bf3f-dc68eb615d84\" type=\"checkbox\" ><label class=\"sk-toggleable__label\" for=\"03e6873d-0511-4ded-bf3f-dc68eb615d84\">kmeans: MiniKmeansTransformerEncoder</label><div class=\"sk-toggleable__content\"><pre>MiniKmeansTransformerEncoder()</pre></div></div></div><div class=\"sk-parallel\"><div class=\"sk-parallel-item\"><div class=\"sk-item\"><div class=\"sk-serial\"><div class=\"sk-item\"><div class=\"sk-estimator sk-toggleable\"><input class=\"sk-toggleable__control sk-hidden--visually\" id=\"5ee29e15-05cb-4c92-aee1-ca458e125a21\" type=\"checkbox\" ><label class=\"sk-toggleable__label\" for=\"5ee29e15-05cb-4c92-aee1-ca458e125a21\">WOEEncoder</label><div class=\"sk-toggleable__content\"><pre>WOEEncoder()</pre></div></div></div></div></div></div></div></div><div class=\"sk-item\"><div class=\"sk-estimator sk-toggleable\"><input class=\"sk-toggleable__control sk-hidden--visually\" id=\"973e5aa2-f771-4e4b-a2c2-067d9417b93e\" type=\"checkbox\" ><label class=\"sk-toggleable__label\" for=\"973e5aa2-f771-4e4b-a2c2-067d9417b93e\">PolynomialFeatures</label><div class=\"sk-toggleable__content\"><pre>PolynomialFeatures()</pre></div></div></div></div></div></div></div></div></div></div><div class=\"sk-item\"><div class=\"sk-estimator sk-toggleable\"><input class=\"sk-toggleable__control sk-hidden--visually\" id=\"e7ddc9b3-4801-4553-87e3-1c3aa1227e12\" type=\"checkbox\" ><label class=\"sk-toggleable__label\" for=\"e7ddc9b3-4801-4553-87e3-1c3aa1227e12\">SelectPercentile</label><div class=\"sk-toggleable__content\"><pre>SelectPercentile(percentile=95)</pre></div></div></div><div class=\"sk-item\"><div class=\"sk-estimator sk-toggleable\"><input class=\"sk-toggleable__control sk-hidden--visually\" id=\"1a375b7a-df45-4037-b12e-1e612551406c\" type=\"checkbox\" ><label class=\"sk-toggleable__label\" for=\"1a375b7a-df45-4037-b12e-1e612551406c\">LGBMClassifier</label><div class=\"sk-toggleable__content\"><pre>LGBMClassifier(device_type='gpu', learning_rate=0.0018069834369607075,\n",
       "               max_depth=8, metric='auc', min_samples_leaf=47,\n",
       "               n_estimators=5000, random_state=42, subsample=0.8573598985000007,\n",
       "               verbose=-1)</pre></div></div></div></div></div></div></div>"
      ],
      "text/plain": [
       "Pipeline(steps=[('preprocessor',\n",
       "                 ColumnTransformer(transformers=[('numerical',\n",
       "                                                  Pipeline(steps=[('imputer',\n",
       "                                                                   SimpleImputer(add_indicator=True,\n",
       "                                                                                 strategy='median')),\n",
       "                                                                  ('scaler',\n",
       "                                                                   PowerTransformer()),\n",
       "                                                                  ('kmeans',\n",
       "                                                                   MiniKmeansTransformerEncoder()),\n",
       "                                                                  ('polynominal_features',\n",
       "                                                                   PolynomialFeatures())]),\n",
       "                                                  Index(['RevolvingUtilizationOfUnsecuredLines', 'DebtRatio', 'MonthlyIncome'...\n",
       "       'NumberOfOpenCreditLinesAndLoans',\n",
       "       'NumberOfTime30-59DaysPastDueNotWorse', 'age'],\n",
       "      dtype='object'))])),\n",
       "                ('reducedim', SelectPercentile(percentile=95)),\n",
       "                ('classifier',\n",
       "                 LGBMClassifier(device_type='gpu',\n",
       "                                learning_rate=0.0018069834369607075,\n",
       "                                max_depth=8, metric='auc', min_samples_leaf=47,\n",
       "                                n_estimators=5000, random_state=42,\n",
       "                                subsample=0.8573598985000007, verbose=-1))])"
      ]
     },
     "execution_count": 22,
     "metadata": {},
     "output_type": "execute_result"
    }
   ],
   "source": [
    "lgbm_param2={'learning_rate': 0.0018069834369607075,\n",
    "                                 'max_depth': 8,\n",
    "                                 #'max_features': 4,\n",
    "                                 'min_samples_leaf': 47,\n",
    "                                 #'min_samples_split': 389,\n",
    "                                 'subsample': 0.8573598985000007,\n",
    "                                 #'n_iter_no_change': 300,\n",
    "                                 'n_estimators': 5000,\n",
    "                                 'verbose': -1,\n",
    "                                 'random_state': 42,\n",
    "                                 'metric': 'auc',\n",
    "                                \"device_type\" : \"gpu\",\n",
    "                                'boosting_type': 'gbdt',\n",
    "                                #'tree_method': \"gpu_hist\"\n",
    "                               }\n",
    "\n",
    "model_lgbm2 = lgbm.LGBMClassifier(**lgbm_param2,\n",
    "                              # use it  only on gpu\n",
    "                            # rsm=np.nan\n",
    "                              #cat_features=cat_features\n",
    "                             )\n",
    "pipe1_model_lgbm_woe_powertransformer2 = Pipeline(\n",
    "    steps=[\n",
    "        ('preprocessor', preprocessor_woe_powertransformer),\n",
    "         ('reducedim',  SelectPercentile( f_classif, percentile=95)),\n",
    "        # ('dim_red', SelectKBest(f_regression, k=20)),\n",
    "        #('Sparseinteractions', SparseInteractions(degree=2)),\n",
    "         #('PolynomialFeatures', PolynomialFeatures(degree=2)),\n",
    "        #('PCAreducer', PCA(n_components=0.8)),\n",
    "        ('classifier',model_lgbm2)\n",
    "    ]\n",
    ")\n",
    "pipe1_model_lgbm_woe_powertransformer2"
   ]
  },
  {
   "cell_type": "markdown",
   "id": "87ff48ad",
   "metadata": {
    "papermill": {
     "duration": 0.050416,
     "end_time": "2022-01-03T17:18:15.945289",
     "exception": false,
     "start_time": "2022-01-03T17:18:15.894873",
     "status": "completed"
    },
    "tags": []
   },
   "source": [
    "#  Train_Test"
   ]
  },
  {
   "cell_type": "code",
   "execution_count": 23,
   "id": "1f1cbc02",
   "metadata": {
    "execution": {
     "iopub.execute_input": "2022-01-03T17:18:16.054650Z",
     "iopub.status.busy": "2022-01-03T17:18:16.053808Z",
     "iopub.status.idle": "2022-01-03T17:18:16.166223Z",
     "shell.execute_reply": "2022-01-03T17:18:16.165534Z",
     "shell.execute_reply.started": "2022-01-03T16:12:58.950708Z"
    },
    "papermill": {
     "duration": 0.169832,
     "end_time": "2022-01-03T17:18:16.166492",
     "exception": false,
     "start_time": "2022-01-03T17:18:15.996660",
     "status": "completed"
    },
    "tags": []
   },
   "outputs": [],
   "source": [
    "###############################################################################\n",
    "#                                  Get data                                 #\n",
    "###############################################################################\n",
    "X_train,X_test, y_train,  y_test = train_test_split(X, y,stratify=y, \n",
    "                                                       test_size=0.25,\n",
    "                                                        random_state=42,\n",
    "                                                        shuffle=True)"
   ]
  },
  {
   "cell_type": "code",
   "execution_count": 24,
   "id": "341c69d6",
   "metadata": {
    "execution": {
     "iopub.execute_input": "2022-01-03T17:18:16.281017Z",
     "iopub.status.busy": "2022-01-03T17:18:16.280006Z",
     "iopub.status.idle": "2022-01-03T17:18:20.867515Z",
     "shell.execute_reply": "2022-01-03T17:18:20.866910Z",
     "shell.execute_reply.started": "2022-01-03T16:12:59.064146Z"
    },
    "papermill": {
     "duration": 4.648502,
     "end_time": "2022-01-03T17:18:20.867739",
     "exception": false,
     "start_time": "2022-01-03T17:18:16.219237",
     "status": "completed"
    },
    "tags": []
   },
   "outputs": [],
   "source": [
    "preprocessor_woe_powertransformer_final.fit(X_train,y_train)\n",
    "X_train_pre = preprocessor_woe_powertransformer_final.transform(X_train)\n",
    "X_test_pre = preprocessor_woe_powertransformer_final.transform(X_test)\n",
    "#del x_final\n",
    "#del x_test_final"
   ]
  },
  {
   "cell_type": "markdown",
   "id": "8a3cb266",
   "metadata": {
    "papermill": {
     "duration": 0.051113,
     "end_time": "2022-01-03T17:18:20.970684",
     "exception": false,
     "start_time": "2022-01-03T17:18:20.919571",
     "status": "completed"
    },
    "tags": []
   },
   "source": [
    "# 1-Simple train : \n",
    "\n",
    "## Full classification report\n",
    "\n",
    "\n",
    "        Precision, Recall, F-measure, Support\n",
    "\n",
    "        Precision = tp / (tp + fp)\n",
    "\n",
    "        Recall = tp / (tp + fn)\n",
    "\n",
    "        F1 = 2 (precision recall) / (precision + recall)\n",
    "\n",
    "        Support = Number of cases on each class"
   ]
  },
  {
   "cell_type": "code",
   "execution_count": 25,
   "id": "9488edc1",
   "metadata": {
    "execution": {
     "iopub.execute_input": "2022-01-03T17:18:21.078284Z",
     "iopub.status.busy": "2022-01-03T17:18:21.077303Z",
     "iopub.status.idle": "2022-01-03T17:21:19.715090Z",
     "shell.execute_reply": "2022-01-03T17:21:19.714504Z",
     "shell.execute_reply.started": "2022-01-03T16:13:03.549024Z"
    },
    "papermill": {
     "duration": 178.693828,
     "end_time": "2022-01-03T17:21:19.715295",
     "exception": false,
     "start_time": "2022-01-03T17:18:21.021467",
     "status": "completed"
    },
    "tags": []
   },
   "outputs": [
    {
     "name": "stdout",
     "output_type": "stream",
     "text": [
      "[LightGBM] [Warning] min_data_in_leaf is set with min_child_samples=20, will be overridden by min_samples_leaf=47. Current value: min_data_in_leaf=47\n"
     ]
    },
    {
     "data": {
      "image/png": "[encoded data removed]",
      "text/plain": [
       "<Figure size 576x396 with 2 Axes>"
      ]
     },
     "metadata": {},
     "output_type": "display_data"
    },
    {
     "data": {
      "text/plain": [
       "<AxesSubplot:title={'center':'LGBMClassifier Classification Report'}>"
      ]
     },
     "execution_count": 25,
     "metadata": {},
     "output_type": "execute_result"
    }
   ],
   "source": [
    "#https://www.scikit-yb.org/en/latest/api/classifier/classification_report.html\n",
    "visualizer = ClassificationReport(model_lgbm2)\n",
    "visualizer.fit(X_train_pre,y_train)        # Fit the visualizer and the model\n",
    "visualizer.score(X_train_pre,y_train)        # Evaluate the model on the test data\n",
    "visualizer.show() "
   ]
  },
  {
   "cell_type": "code",
   "execution_count": 26,
   "id": "7a05f7b2",
   "metadata": {
    "execution": {
     "iopub.execute_input": "2022-01-03T17:21:19.829429Z",
     "iopub.status.busy": "2022-01-03T17:21:19.828375Z",
     "iopub.status.idle": "2022-01-03T17:23:53.816864Z",
     "shell.execute_reply": "2022-01-03T17:23:53.816278Z",
     "shell.execute_reply.started": "2022-01-03T16:16:03.804981Z"
    },
    "papermill": {
     "duration": 154.048302,
     "end_time": "2022-01-03T17:23:53.817018",
     "exception": false,
     "start_time": "2022-01-03T17:21:19.768716",
     "status": "completed"
    },
    "tags": []
   },
   "outputs": [
    {
     "name": "stdout",
     "output_type": "stream",
     "text": [
      "[LightGBM] [Warning] min_data_in_leaf is set with min_child_samples=20, will be overridden by min_samples_leaf=47. Current value: min_data_in_leaf=47\n"
     ]
    },
    {
     "data": {
      "image/png": "[encoded data removed]",
      "text/plain": [
       "<Figure size 576x396 with 1 Axes>"
      ]
     },
     "metadata": {},
     "output_type": "display_data"
    },
    {
     "data": {
      "text/plain": [
       "<AxesSubplot:title={'center':'Threshold Plot for LGBMClassifier'}, xlabel='discrimination threshold', ylabel='score'>"
      ]
     },
     "execution_count": 26,
     "metadata": {},
     "output_type": "execute_result"
    }
   ],
   "source": [
    "visualizer = DiscriminationThreshold(model_lgbm2,\n",
    "                                     n_trials=1,\n",
    "                                     cv=0.5,\n",
    "                                     argmax='fscore',\n",
    "                                     random_state=0,\n",
    "                                     is_fitted='auto',\n",
    "                                     exclude = \"queue_rate\")\n",
    "\n",
    "visualizer.fit(X_train_pre,y_train)        # Fit the visualizer and the model\n",
    "visualizer.score(X_train_pre,y_train)        # Evaluate the model on the test data\n",
    "visualizer.show()"
   ]
  },
  {
   "cell_type": "markdown",
   "id": "d5a164e6",
   "metadata": {
    "papermill": {
     "duration": 0.055287,
     "end_time": "2022-01-03T17:23:53.929542",
     "exception": false,
     "start_time": "2022-01-03T17:23:53.874255",
     "status": "completed"
    },
    "tags": []
   },
   "source": [
    "# Oversample"
   ]
  },
  {
   "cell_type": "code",
   "execution_count": 27,
   "id": "d6090475",
   "metadata": {
    "execution": {
     "iopub.execute_input": "2022-01-03T17:23:54.049961Z",
     "iopub.status.busy": "2022-01-03T17:23:54.048869Z",
     "iopub.status.idle": "2022-01-03T17:23:54.052211Z",
     "shell.execute_reply": "2022-01-03T17:23:54.051648Z",
     "shell.execute_reply.started": "2022-01-03T16:21:08.112901Z"
    },
    "papermill": {
     "duration": 0.068702,
     "end_time": "2022-01-03T17:23:54.052352",
     "exception": false,
     "start_time": "2022-01-03T17:23:53.983650",
     "status": "completed"
    },
    "tags": []
   },
   "outputs": [],
   "source": [
    "oversampler_dict = {\n",
    "\n",
    "    'random': RandomOverSampler(\n",
    "        sampling_strategy='auto',\n",
    "        random_state=42),\n",
    "\n",
    "    'smote': SMOTE(\n",
    "        sampling_strategy='auto',  # samples only the minority class\n",
    "        random_state=42,  # for reproducibility\n",
    "        k_neighbors=5,\n",
    "        n_jobs=4),\n",
    "\n",
    "    'adasyn': ADASYN(\n",
    "        sampling_strategy='auto',  # samples only the minority class\n",
    "        random_state=42,  # for reproducibility\n",
    "        n_neighbors=5,\n",
    "        n_jobs=4),\n",
    "\n",
    "    'border1': BorderlineSMOTE(\n",
    "        sampling_strategy='auto',  # samples only the minority class\n",
    "        random_state=42,  # for reproducibility\n",
    "        k_neighbors=5,\n",
    "        m_neighbors=10,\n",
    "        kind='borderline-1',\n",
    "        n_jobs=4),\n",
    "\n",
    "    'border2': BorderlineSMOTE(\n",
    "        sampling_strategy='auto',  # samples only the minority class\n",
    "        random_state=42,  # for reproducibility\n",
    "        k_neighbors=5,\n",
    "        m_neighbors=10,\n",
    "        kind='borderline-2',\n",
    "        n_jobs=4),\n",
    "\n",
    "    'svm': SVMSMOTE(\n",
    "        sampling_strategy='auto',  # samples only the minority class\n",
    "        random_state=42,  # for reproducibility\n",
    "        k_neighbors=5,\n",
    "        m_neighbors=10,\n",
    "        n_jobs=4,\n",
    "        svm_estimator=svm.SVC(kernel='linear')),\n",
    "}"
   ]
  },
  {
   "cell_type": "code",
   "execution_count": 28,
   "id": "cdde49d9",
   "metadata": {
    "execution": {
     "iopub.execute_input": "2022-01-03T17:23:54.172900Z",
     "iopub.status.busy": "2022-01-03T17:23:54.172029Z",
     "iopub.status.idle": "2022-01-03T17:23:54.176315Z",
     "shell.execute_reply": "2022-01-03T17:23:54.175689Z",
     "shell.execute_reply.started": "2022-01-03T16:22:04.681652Z"
    },
    "papermill": {
     "duration": 0.069034,
     "end_time": "2022-01-03T17:23:54.176456",
     "exception": false,
     "start_time": "2022-01-03T17:23:54.107422",
     "status": "completed"
    },
    "tags": []
   },
   "outputs": [],
   "source": [
    "# function to train random forests and evaluate the performance\n",
    "\n",
    "# ***with cross-validation***\n",
    "\n",
    "def run_model(X_train, y_train, oversampler=None):\n",
    "    \n",
    "    # set up the classifier\n",
    "    rf = model_lgbm2\n",
    "    \n",
    "    # set up a scaler \n",
    "    # (as the oversampling techniques use KNN\n",
    "    # we put the variables in the same scale)\n",
    "    scaler = MinMaxScaler()\n",
    "    \n",
    "    # without sampling:\n",
    "    if not oversampler:\n",
    "\n",
    "        model = rf\n",
    "    \n",
    "    # set up a pipeline with sampling:\n",
    "    else:\n",
    "        \n",
    "        # important to scale before the re-sampler\n",
    "        # as the many of methods require the variables in \n",
    "        # a similar scale\n",
    "        model = make_pipeline(\n",
    "            scaler,\n",
    "            oversampler,\n",
    "            rf,\n",
    "        )\n",
    "        \n",
    "        \n",
    "        \n",
    "    # When we make a pipeline and then run the training of the model\n",
    "    # with cross-validation, the procedure works as follows:\n",
    "    \n",
    "    # 1) take 2 of the 3 fold as train set\n",
    "    # 2) resample the 2 fold (aka, the train set)\n",
    "    # 3) train the model on the resampled data from point 2\n",
    "    # 4) evaluate performance on the 3rd fold, that was not resampled\n",
    "    \n",
    "    # this way, we make sure that we are not evaluating the performance\n",
    "    # of our classifier on the under-sampled data\n",
    "    \n",
    "    cv_results = cross_validate(\n",
    "        model, # the lgbm model  or the pipeline\n",
    "        X_train, # the data that will be used in the cross-validation\n",
    "        y_train, # the target\n",
    "        scoring=\"roc_auc\", # the metric that we want to evaluate\n",
    "        cv=5, # the cross-validation fold\n",
    "    )\n",
    "\n",
    "    print(\n",
    "        'model_lgbm2 roc_auc: {0} +/- {1}'.format(\n",
    "        cv_results['test_score'].mean(), cv_results['test_score'].std()\n",
    "        )\n",
    "    )\n",
    "    return cv_results['test_score'].mean(), cv_results['test_score'].std()"
   ]
  },
  {
   "cell_type": "code",
   "execution_count": 29,
   "id": "ff255583",
   "metadata": {
    "execution": {
     "iopub.execute_input": "2022-01-03T17:23:54.295768Z",
     "iopub.status.busy": "2022-01-03T17:23:54.294748Z",
     "iopub.status.idle": "2022-01-03T18:36:07.920943Z",
     "shell.execute_reply": "2022-01-03T18:36:07.921629Z",
     "shell.execute_reply.started": "2022-01-03T16:22:08.148856Z"
    },
    "papermill": {
     "duration": 4333.690677,
     "end_time": "2022-01-03T18:36:07.921842",
     "exception": false,
     "start_time": "2022-01-03T17:23:54.231165",
     "status": "completed"
    },
    "tags": []
   },
   "outputs": [
    {
     "name": "stdout",
     "output_type": "stream",
     "text": [
      "[LightGBM] [Warning] min_data_in_leaf is set with min_child_samples=20, will be overridden by min_samples_leaf=47. Current value: min_data_in_leaf=47\n",
      "[LightGBM] [Warning] min_data_in_leaf is set with min_child_samples=20, will be overridden by min_samples_leaf=47. Current value: min_data_in_leaf=47\n",
      "[LightGBM] [Warning] min_data_in_leaf is set with min_child_samples=20, will be overridden by min_samples_leaf=47. Current value: min_data_in_leaf=47\n",
      "[LightGBM] [Warning] min_data_in_leaf is set with min_child_samples=20, will be overridden by min_samples_leaf=47. Current value: min_data_in_leaf=47\n",
      "[LightGBM] [Warning] min_data_in_leaf is set with min_child_samples=20, will be overridden by min_samples_leaf=47. Current value: min_data_in_leaf=47\n",
      "model_lgbm2 roc_auc: 0.8627374534105787 +/- 0.002681755319299279\n",
      "\n",
      "random\n",
      "[LightGBM] [Warning] min_data_in_leaf is set with min_child_samples=20, will be overridden by min_samples_leaf=47. Current value: min_data_in_leaf=47\n",
      "[LightGBM] [Warning] min_data_in_leaf is set with min_child_samples=20, will be overridden by min_samples_leaf=47. Current value: min_data_in_leaf=47\n",
      "[LightGBM] [Warning] min_data_in_leaf is set with min_child_samples=20, will be overridden by min_samples_leaf=47. Current value: min_data_in_leaf=47\n",
      "[LightGBM] [Warning] min_data_in_leaf is set with min_child_samples=20, will be overridden by min_samples_leaf=47. Current value: min_data_in_leaf=47\n",
      "[LightGBM] [Warning] min_data_in_leaf is set with min_child_samples=20, will be overridden by min_samples_leaf=47. Current value: min_data_in_leaf=47\n",
      "model_lgbm2 roc_auc: 0.8627941543070008 +/- 0.0031255721275641867\n",
      "\n",
      "smote\n",
      "[LightGBM] [Warning] min_data_in_leaf is set with min_child_samples=20, will be overridden by min_samples_leaf=47. Current value: min_data_in_leaf=47\n",
      "[LightGBM] [Warning] min_data_in_leaf is set with min_child_samples=20, will be overridden by min_samples_leaf=47. Current value: min_data_in_leaf=47\n",
      "[LightGBM] [Warning] min_data_in_leaf is set with min_child_samples=20, will be overridden by min_samples_leaf=47. Current value: min_data_in_leaf=47\n",
      "[LightGBM] [Warning] min_data_in_leaf is set with min_child_samples=20, will be overridden by min_samples_leaf=47. Current value: min_data_in_leaf=47\n",
      "[LightGBM] [Warning] min_data_in_leaf is set with min_child_samples=20, will be overridden by min_samples_leaf=47. Current value: min_data_in_leaf=47\n",
      "model_lgbm2 roc_auc: 0.8572738779017686 +/- 0.003559254566375173\n",
      "\n",
      "adasyn\n",
      "[LightGBM] [Warning] min_data_in_leaf is set with min_child_samples=20, will be overridden by min_samples_leaf=47. Current value: min_data_in_leaf=47\n",
      "[LightGBM] [Warning] min_data_in_leaf is set with min_child_samples=20, will be overridden by min_samples_leaf=47. Current value: min_data_in_leaf=47\n",
      "[LightGBM] [Warning] min_data_in_leaf is set with min_child_samples=20, will be overridden by min_samples_leaf=47. Current value: min_data_in_leaf=47\n",
      "[LightGBM] [Warning] min_data_in_leaf is set with min_child_samples=20, will be overridden by min_samples_leaf=47. Current value: min_data_in_leaf=47\n",
      "[LightGBM] [Warning] min_data_in_leaf is set with min_child_samples=20, will be overridden by min_samples_leaf=47. Current value: min_data_in_leaf=47\n",
      "model_lgbm2 roc_auc: 0.8562332256549373 +/- 0.003528177645756943\n",
      "\n",
      "border1\n",
      "[LightGBM] [Warning] min_data_in_leaf is set with min_child_samples=20, will be overridden by min_samples_leaf=47. Current value: min_data_in_leaf=47\n",
      "[LightGBM] [Warning] min_data_in_leaf is set with min_child_samples=20, will be overridden by min_samples_leaf=47. Current value: min_data_in_leaf=47\n",
      "[LightGBM] [Warning] min_data_in_leaf is set with min_child_samples=20, will be overridden by min_samples_leaf=47. Current value: min_data_in_leaf=47\n",
      "[LightGBM] [Warning] min_data_in_leaf is set with min_child_samples=20, will be overridden by min_samples_leaf=47. Current value: min_data_in_leaf=47\n",
      "[LightGBM] [Warning] min_data_in_leaf is set with min_child_samples=20, will be overridden by min_samples_leaf=47. Current value: min_data_in_leaf=47\n",
      "model_lgbm2 roc_auc: 0.8575183488597625 +/- 0.0033858176289283228\n",
      "\n",
      "border2\n",
      "[LightGBM] [Warning] min_data_in_leaf is set with min_child_samples=20, will be overridden by min_samples_leaf=47. Current value: min_data_in_leaf=47\n",
      "[LightGBM] [Warning] min_data_in_leaf is set with min_child_samples=20, will be overridden by min_samples_leaf=47. Current value: min_data_in_leaf=47\n",
      "[LightGBM] [Warning] min_data_in_leaf is set with min_child_samples=20, will be overridden by min_samples_leaf=47. Current value: min_data_in_leaf=47\n",
      "[LightGBM] [Warning] min_data_in_leaf is set with min_child_samples=20, will be overridden by min_samples_leaf=47. Current value: min_data_in_leaf=47\n",
      "[LightGBM] [Warning] min_data_in_leaf is set with min_child_samples=20, will be overridden by min_samples_leaf=47. Current value: min_data_in_leaf=47\n",
      "model_lgbm2 roc_auc: 0.8580089216588368 +/- 0.0031155380536501227\n",
      "\n",
      "svm\n",
      "[LightGBM] [Warning] min_data_in_leaf is set with min_child_samples=20, will be overridden by min_samples_leaf=47. Current value: min_data_in_leaf=47\n",
      "[LightGBM] [Warning] min_data_in_leaf is set with min_child_samples=20, will be overridden by min_samples_leaf=47. Current value: min_data_in_leaf=47\n",
      "[LightGBM] [Warning] min_data_in_leaf is set with min_child_samples=20, will be overridden by min_samples_leaf=47. Current value: min_data_in_leaf=47\n",
      "[LightGBM] [Warning] min_data_in_leaf is set with min_child_samples=20, will be overridden by min_samples_leaf=47. Current value: min_data_in_leaf=47\n",
      "[LightGBM] [Warning] min_data_in_leaf is set with min_child_samples=20, will be overridden by min_samples_leaf=47. Current value: min_data_in_leaf=47\n",
      "model_lgbm2 roc_auc: 0.8581355858562725 +/- 0.0032732419156711657\n",
      "\n",
      "\n"
     ]
    }
   ],
   "source": [
    "# now we train several models, with the different under-samplers and\n",
    "# with cross-validation\n",
    "# to save the results\n",
    "pr_mean_dict = {}\n",
    "pr_std_dict = {} \n",
    "# initiate a dictionary per dataset\n",
    "#pr_mean_dict[dataset] = {}\n",
    "#pr_std_dict[dataset] = {}\n",
    "\n",
    "# load dataset\n",
    "#data = fetch_datasets()[dataset]\n",
    "\n",
    "# separate dataset into train and test\n",
    "#X_train, X_test, y_train, y_test = train_test_split(\n",
    " #   data.data,  \n",
    "  #  data.target, \n",
    "   # test_size=0.3,\n",
    "   # random_state=0,\n",
    "#)\n",
    "\n",
    "\n",
    "# train model on data without re-sampling\n",
    "# with cross-validation\n",
    "aps_mean, aps_std = run_model(X_train_pre, y_train)\n",
    " # store results\n",
    "pr_mean_dict['full_data'] = aps_mean\n",
    "pr_std_dict['full_data'] = aps_std\n",
    "    \n",
    "print()\n",
    "for oversampler in oversampler_dict.keys():\n",
    "    print(oversampler)\n",
    "    # resample, train and evaluate performance\n",
    "    # with cross-validation\n",
    "    aps_mean, aps_std = run_model(X_train, y_train, oversampler_dict[oversampler])\n",
    "     # store results\n",
    "    pr_mean_dict[oversampler] = aps_mean\n",
    "    pr_std_dict[oversampler] = aps_std\n",
    "    print()\n",
    "print()"
   ]
  },
  {
   "cell_type": "code",
   "execution_count": 30,
   "id": "7b64c783",
   "metadata": {
    "execution": {
     "iopub.execute_input": "2022-01-03T18:36:08.069708Z",
     "iopub.status.busy": "2022-01-03T18:36:08.068897Z",
     "iopub.status.idle": "2022-01-03T18:36:08.333587Z",
     "shell.execute_reply": "2022-01-03T18:36:08.332954Z",
     "shell.execute_reply.started": "2022-01-03T17:11:29.263843Z"
    },
    "papermill": {
     "duration": 0.341174,
     "end_time": "2022-01-03T18:36:08.333744",
     "exception": false,
     "start_time": "2022-01-03T18:36:07.992570",
     "status": "completed"
    },
    "tags": []
   },
   "outputs": [
    {
     "data": {
      "image/png": "[encoded data removed]",
      "text/plain": [
       "<Figure size 576x396 with 1 Axes>"
      ]
     },
     "metadata": {},
     "output_type": "display_data"
    }
   ],
   "source": [
    "pr_mean_s = pd.Series(pr_mean_dict)\n",
    "pr_std_s = pd.Series(pr_std_dict)\n",
    "pr_mean_s.plot.bar(yerr=[pr_std_s, pr_std_s])\n",
    "plt.title(\"train with different overersampling method\")\n",
    "plt.ylabel(\"roc_auc\")\n",
    "plt.axhline(pr_mean_dict['full_data'], color='r')\n",
    "plt.show()"
   ]
  },
  {
   "cell_type": "markdown",
   "id": "0209a265",
   "metadata": {
    "papermill": {
     "duration": 0.068895,
     "end_time": "2022-01-03T18:36:08.472972",
     "exception": false,
     "start_time": "2022-01-03T18:36:08.404077",
     "status": "completed"
    },
    "tags": []
   },
   "source": [
    "Different under-sampling techniques work best for different datasets.\n",
    "ENN, RENN and AllKNN tend to produce similar results, so we may as well just choose one of the 3"
   ]
  },
  {
   "cell_type": "code",
   "execution_count": 31,
   "id": "c02eb477",
   "metadata": {
    "execution": {
     "iopub.execute_input": "2022-01-03T18:36:08.620391Z",
     "iopub.status.busy": "2022-01-03T18:36:08.619387Z",
     "iopub.status.idle": "2022-01-03T18:36:08.623319Z",
     "shell.execute_reply": "2022-01-03T18:36:08.623856Z",
     "shell.execute_reply.started": "2022-01-03T17:11:29.344873Z"
    },
    "papermill": {
     "duration": 0.081964,
     "end_time": "2022-01-03T18:36:08.624034",
     "exception": false,
     "start_time": "2022-01-03T18:36:08.542070",
     "status": "completed"
    },
    "tags": []
   },
   "outputs": [
    {
     "name": "stdout",
     "output_type": "stream",
     "text": [
      "CPU times: user 0 ns, sys: 4 µs, total: 4 µs\n",
      "Wall time: 9.06 µs\n"
     ]
    }
   ],
   "source": [
    "%%time \n",
    "#pipe_woe_powertransformer.fit(X,y)\n",
    "#x_pre = pipe_woe_powertransformer_red.transform(X)\n",
    "#x_test_final_pre = pipe_woe_powertransformer_red.transform(X_test_final)\n",
    "#del x_final\n",
    "#del x_test_final\n",
    "def plot_roc(y,y_pred):\n",
    "    from sklearn.metrics import auc\n",
    "    fpr, tpr, thresholds = roc_curve(y_true=y, y_score=y_pred)\n",
    "    auc = auc(fpr, tpr)\n",
    "    plt.figure(1)\n",
    "    plt.plot([0, 1], [0, 1], 'k--')\n",
    "    plt.plot(fpr, tpr, label='Model(area = {:.3f})'.format(auc))\n",
    "    plt.xlabel('False positive rate')\n",
    "    plt.ylabel('True positive rate')\n",
    "    plt.title('ROC curve')\n",
    "    plt.legend(loc='best')\n",
    "    plt.show()"
   ]
  },
  {
   "cell_type": "markdown",
   "id": "da7a87c8",
   "metadata": {
    "execution": {
     "iopub.status.busy": "2021-12-31T12:33:50.384931Z",
     "iopub.status.idle": "2021-12-31T12:33:50.385528Z",
     "shell.execute_reply": "2021-12-31T12:33:50.385321Z",
     "shell.execute_reply.started": "2021-12-31T12:33:50.385297Z"
    },
    "papermill": {
     "duration": 0.069207,
     "end_time": "2022-01-03T18:36:08.762635",
     "exception": false,
     "start_time": "2022-01-03T18:36:08.693428",
     "status": "completed"
    },
    "tags": []
   },
   "source": [
    "    %%time \n",
    "    # evaluate each strategy on the dataset\n",
    "    results = list()\n",
    "    # Setting a 10-fold stratified cross-validation (note: shuffle=True)\n",
    "    SEED = 42\n",
    "    FOLDS = 10\n",
    "    skf = StratifiedKFold(n_splits=FOLDS, shuffle=True, random_state=SEED)\n",
    "    # CV interations\n",
    "    # Create arrays for the features and the response variable\n",
    "    roc_auc = list()\n",
    "    average_precision = list()\n",
    "    #X1=X.iloc[0:2000,:].copy()\n",
    "    #y1=y[0:2000].copy()\n",
    "    oof = np.empty((X.shape[0],))\n",
    "    #oof_bin = np.empty((X.shape[0],))\n",
    "    predictions=[]\n",
    "    mean_auc = 0\n",
    "    mean_ap=0\n",
    "    F1 = list()\n",
    "    Recall=list()\n",
    "    best_iteration = list()\n",
    "    for fold, (train_idx, test_idx) in enumerate(skf.split(X, y)):    \n",
    "        X_train, y_train = X.iloc[list(train_idx), :], y.iloc[list(train_idx)]\n",
    "        X_test, y_test = X.iloc[list(test_idx), :],y.iloc[list(test_idx)]\n",
    "        pipe1_model_lgbm_woe_powertransformer2.fit(X_train,y_train,\n",
    "                                                      #classifier__verbose=False\n",
    "                                                      #,verbose=False\n",
    "                                                     )\n",
    "        preds = pipe1_model_lgbm_woe_powertransformer2.predict_proba(X_test)[:,1]\n",
    "        oof[test_idx] = preds\n",
    "        auc_score= roc_auc_score(y_true=y_test, y_score=preds)\n",
    "        roc_auc.append(auc_score)\n",
    "        ap=average_precision_score(y_true=y_test, y_score=preds)\n",
    "        plot_roc(y_test,preds)\n",
    "        mean_auc += auc_score / FOLDS\n",
    "        mean_ap+=ap/FOLDS\n",
    "        predictions.append(pipe1_model_lgbm_woe_powertransformer2.predict_proba(X_test_final)[:,1]) \n",
    "        y_predicted = pipe1_model_lgbm_woe_powertransformer2.predict(X_test)\n",
    "        recall = recall_score(y_test, y_predicted)\n",
    "        f1= f1_score(y_test, y_predicted)\n",
    "        print(f\"Fold {fold} | AUC: {auc_score}\")\n",
    "        print(f\"Fold {fold} | Avergae_precesion: {ap}\")\n",
    "        print(f\"Fold {fold} | recall: {recall}\")\n",
    "        print(f\"Fold {fold} | F1: {f1}\")\n",
    "        print('Classification report:\\n',classification_report(y_test,y_predicted))\n",
    "        print('Confusion_matrix:\\n',confusion_matrix(y_test,y_predicted))\n",
    "        roc_auc.append(auc_score)\n",
    "        F1.append(f1)\n",
    "        Recall.append(recall)\n",
    "        #Mean of the predictions\n",
    "    print('-' * 80)  \n",
    "    print(f\"\\nOverall mean AUC score : {mean_auc}\")\n",
    "    print(f\"\\nOverall mean F1 score : {np.mean(F1)}\")\n",
    "    print(f\"\\nOverall mean average precision score : {mean_ap}\")\n",
    "    print(f\"\\nOverall mean recall score : {np.mean(Recall)}\")"
   ]
  },
  {
   "cell_type": "markdown",
   "id": "6f4227f6",
   "metadata": {
    "papermill": {
     "duration": 0.069045,
     "end_time": "2022-01-03T18:36:08.900921",
     "exception": false,
     "start_time": "2022-01-03T18:36:08.831876",
     "status": "completed"
    },
    "tags": []
   },
   "source": [
    "# Prepare data + undersample in all data"
   ]
  },
  {
   "cell_type": "code",
   "execution_count": 32,
   "id": "ef4298fc",
   "metadata": {
    "execution": {
     "iopub.execute_input": "2022-01-03T18:36:09.050508Z",
     "iopub.status.busy": "2022-01-03T18:36:09.049526Z",
     "iopub.status.idle": "2022-01-03T18:36:09.054003Z",
     "shell.execute_reply": "2022-01-03T18:36:09.054557Z",
     "shell.execute_reply.started": "2022-01-03T17:11:29.347099Z"
    },
    "papermill": {
     "duration": 0.082606,
     "end_time": "2022-01-03T18:36:09.054733",
     "exception": false,
     "start_time": "2022-01-03T18:36:08.972127",
     "status": "completed"
    },
    "tags": []
   },
   "outputs": [
    {
     "name": "stdout",
     "output_type": "stream",
     "text": [
      "CPU times: user 4 µs, sys: 0 ns, total: 4 µs\n",
      "Wall time: 8.34 µs\n"
     ]
    }
   ],
   "source": [
    "%%time \n",
    "#pipe_woe_powertransformer.fit(X,y)\n",
    "#x_pre = pipe_woe_powertransformer_red.transform(X)\n",
    "#x_test_final_pre = pipe_woe_powertransformer_red.transform(X_test_final)\n",
    "#model = make_pipeline(\n",
    " #           scaler,\n",
    "  #          undersampler,\n",
    "   #         model_lgbm2,\n",
    "    #    )\n",
    "#rus = RandomUnderSampler(random_state=42, replacement=True)# fit predictor and target variable\n",
    "#x_rus, y_rus = rus.fit_resample(x, y)\n",
    "\n",
    "#print('original dataset shape:', Counter(y))\n",
    "#print('Resample dataset shape', Counter(y_rus))\n",
    "#del x_final\n",
    "#del x_test_final"
   ]
  },
  {
   "cell_type": "code",
   "execution_count": 33,
   "id": "9a9d91e7",
   "metadata": {
    "execution": {
     "iopub.execute_input": "2022-01-03T18:36:09.199828Z",
     "iopub.status.busy": "2022-01-03T18:36:09.198645Z",
     "iopub.status.idle": "2022-01-03T18:36:09.201113Z",
     "shell.execute_reply": "2022-01-03T18:36:09.201715Z",
     "shell.execute_reply.started": "2022-01-03T17:11:29.366234Z"
    },
    "papermill": {
     "duration": 0.077196,
     "end_time": "2022-01-03T18:36:09.201888",
     "exception": false,
     "start_time": "2022-01-03T18:36:09.124692",
     "status": "completed"
    },
    "tags": []
   },
   "outputs": [],
   "source": [
    "#predictions.shape"
   ]
  },
  {
   "cell_type": "code",
   "execution_count": 34,
   "id": "0bcdf259",
   "metadata": {
    "execution": {
     "iopub.execute_input": "2022-01-03T18:36:09.347750Z",
     "iopub.status.busy": "2022-01-03T18:36:09.346623Z",
     "iopub.status.idle": "2022-01-03T18:36:09.349032Z",
     "shell.execute_reply": "2022-01-03T18:36:09.349581Z",
     "shell.execute_reply.started": "2022-01-03T17:11:29.410652Z"
    },
    "papermill": {
     "duration": 0.077829,
     "end_time": "2022-01-03T18:36:09.349741",
     "exception": false,
     "start_time": "2022-01-03T18:36:09.271912",
     "status": "completed"
    },
    "tags": []
   },
   "outputs": [],
   "source": [
    "#predictions"
   ]
  },
  {
   "cell_type": "code",
   "execution_count": 35,
   "id": "300ed90e",
   "metadata": {
    "execution": {
     "iopub.execute_input": "2022-01-03T18:36:09.495134Z",
     "iopub.status.busy": "2022-01-03T18:36:09.494051Z",
     "iopub.status.idle": "2022-01-03T18:36:09.496578Z",
     "shell.execute_reply": "2022-01-03T18:36:09.497121Z",
     "shell.execute_reply.started": "2022-01-03T17:11:29.419718Z"
    },
    "papermill": {
     "duration": 0.077722,
     "end_time": "2022-01-03T18:36:09.497329",
     "exception": false,
     "start_time": "2022-01-03T18:36:09.419607",
     "status": "completed"
    },
    "tags": []
   },
   "outputs": [],
   "source": [
    "#predictions = np.mean(np.column_stack(predictions), axis=1)"
   ]
  },
  {
   "cell_type": "markdown",
   "id": "dc51c62b",
   "metadata": {
    "execution": {
     "iopub.status.busy": "2021-12-31T12:33:50.392054Z",
     "iopub.status.idle": "2021-12-31T12:33:50.392674Z",
     "shell.execute_reply": "2021-12-31T12:33:50.392439Z",
     "shell.execute_reply.started": "2021-12-31T12:33:50.392415Z"
    },
    "papermill": {
     "duration": 0.069179,
     "end_time": "2022-01-03T18:36:09.635902",
     "exception": false,
     "start_time": "2022-01-03T18:36:09.566723",
     "status": "completed"
    },
    "tags": []
   },
   "source": [
    "    # Save the predictions to a CSV file\n",
    "    sub = pd.read_csv('../input/GiveMeSomeCredit/sampleEntry.csv')\n",
    "    sub['Probability']=predictions\n",
    "    sub.to_csv('pipe1_model_lgbm_woe_powertransformer2_simple.csv', index=False)\n",
    "    sub"
   ]
  },
  {
   "cell_type": "markdown",
   "id": "abbdc8d9",
   "metadata": {
    "papermill": {
     "duration": 0.068861,
     "end_time": "2022-01-03T18:36:09.775083",
     "exception": false,
     "start_time": "2022-01-03T18:36:09.706222",
     "status": "completed"
    },
    "tags": []
   },
   "source": [
    "# Conclusion: \n",
    "\n",
    "## Advantages and Disadvantage of over-sampling\n",
    "\n",
    "**Advantages**\n",
    "\n",
    "Unlike under-sampling, this method leads to no information loss.\n",
    "Outperforms under sampling\n",
    "\n",
    "**Disadvantages**\n",
    "\n",
    "It increases the likelihood of overfitting since it replicates the minority class events.\n",
    "\n",
    "credit: \n",
    "\n",
    "**Imbalanced:**\n",
    "\n",
    "https://elitedatascience.com/imbalanced-classes\n",
    "\n",
    "https://towardsdatascience.com/methods-for-dealing-with-imbalanced-data-5b761be45a18\n",
    "\n",
    "https://www.analyticsvidhya.com/blog/2020/07/10-techniques-to-deal-with-class-imbalance-in-machine-learning/\n",
    "\n",
    "https://github.com/DeepSparkChaker/machine-learning-imbalanced-data/tree/master/Section-04-Undersampling\n",
    "\n",
    "https://github.com/DeepSparkChaker/machine-learning-imbalanced-data/blob/master/Section-04-Undersampling/04-12-Under-sampling-method-comparison-Precision-cross-val.ipynb\n",
    "\n",
    "https://github.com/DeepSparkChaker/machine-learning-imbalanced-data/blob/master/Section-05-Oversampling/05-11-Over-sampling-with-cross-validation.ipynb\n",
    "\n",
    "**stacking:**\n",
    "\n",
    "https://towardsdatascience.com/stacking-classifiers-for-higher-predictive-performance-566f963e4840\n",
    "\n",
    "https://www.dataquest.io/blog/introduction-to-ensembles/\n",
    "\n",
    "https://scikit-learn.org/stable/modules/ensemble.html\n",
    "\n",
    "https://machinelearningmastery.com/stacking-ensemble-machine-learning-with-python/\n",
    "\n",
    "\n",
    "https://mlfromscratch.com/model-stacking-explained/#/\n",
    "\n",
    "http://rasbt.github.io/mlxtend/user_guide/classifier/StackingClassifier/\n",
    "\n",
    "http://rasbt.github.io/mlxtend/user_guide/classifier/StackingCVClassifier/\n",
    "\n",
    "\n",
    "https://www.kaggle.com/bannourchaker/7ensembling-stacking-averaging-scratchvssklearn/edit/run/73916270\n",
    "\n",
    "https://www.kaggle.com/bannourchaker/averagingmodels\n",
    "\n",
    "https://mlfromscratch.com/model-stacking-explained/#/\n",
    "\n",
    "https://neptune.ai/blog/ensemble-learning-guide\n",
    "\n",
    "https://www.analyticsvidhya.com/blog/2021/08/ensemble-stacking-for-machine-learning-and-deep-learning/\n",
    "\n",
    "https://www.kaggle.com/prashant111/adaboost-classifier-tutorial\n",
    "\n",
    "https://www.kaggle.com/bannourchaker/stacking/edit/run/75840835\n",
    "\n",
    "https://www.kaggle.com/bannourchaker/8-ensembling-blending-scratchvsoop\n",
    "\n",
    "**Bagging:**\n",
    "\n",
    "https://vitalflux.com/bagging-classifier-python-code-example/\n",
    "\n",
    "https://www.analyticsvidhya.com/blog/2018/06/comprehensive-guide-for-ensemble-models/\n",
    "\n",
    "**complete guide Stacking :**\n",
    "\n",
    "https://neptune.ai/blog/ensemble-learning-guide\n",
    "\n",
    "https://www.analyticsvidhya.com/blog/2021/08/ensemble-stacking-for-machine-learning-and-deep-learning/\n",
    "\n",
    "https://www.kaggle.com/prashant111/adaboost-classifier-tutorial"
   ]
  }
 ],
 "metadata": {
  "kernelspec": {
   "display_name": "Python 3",
   "language": "python",
   "name": "python3"
  },
  "language_info": {
   "codemirror_mode": {
    "name": "ipython",
    "version": 3
   },
   "file_extension": ".py",
   "mimetype": "text/x-python",
   "name": "python",
   "nbconvert_exporter": "python",
   "pygments_lexer": "ipython3",
   "version": "3.7.12"
  },
  "papermill": {
   "default_parameters": {},
   "duration": 5034.981248,
   "end_time": "2022-01-03T18:36:11.670405",
   "environment_variables": {},
   "exception": null,
   "input_path": "__notebook__.ipynb",
   "output_path": "__notebook__.ipynb",
   "parameters": {},
   "start_time": "2022-01-03T17:12:16.689157",
   "version": "2.3.3"
  }
 },
 "nbformat": 4,
 "nbformat_minor": 5
}
