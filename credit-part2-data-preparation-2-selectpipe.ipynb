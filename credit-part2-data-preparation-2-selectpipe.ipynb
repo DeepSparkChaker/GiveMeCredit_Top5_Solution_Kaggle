{
 "cells": [
  {
   "cell_type": "markdown",
   "id": "675b20cc",
   "metadata": {
    "papermill": {
     "duration": 0.043664,
     "end_time": "2021-12-23T17:57:49.995838",
     "exception": false,
     "start_time": "2021-12-23T17:57:49.952174",
     "status": "completed"
    },
    "tags": []
   },
   "source": [
    "# Load Lib "
   ]
  },
  {
   "cell_type": "code",
   "execution_count": 1,
   "id": "ae6193b5",
   "metadata": {
    "_cell_guid": "ddedf45c-cdd2-4013-973f-6ccf6c78347a",
    "_uuid": "20c9b28e-4c93-447d-8210-cad89f404354",
    "collapsed": false,
    "execution": {
     "iopub.execute_input": "2021-12-23T17:57:50.100595Z",
     "iopub.status.busy": "2021-12-23T17:57:50.099680Z",
     "iopub.status.idle": "2021-12-23T17:57:53.672966Z",
     "shell.execute_reply": "2021-12-23T17:57:53.672180Z",
     "shell.execute_reply.started": "2021-12-23T17:57:26.995519Z"
    },
    "jupyter": {
     "outputs_hidden": false
    },
    "papermill": {
     "duration": 3.635507,
     "end_time": "2021-12-23T17:57:53.673193",
     "exception": false,
     "start_time": "2021-12-23T17:57:50.037686",
     "status": "completed"
    },
    "tags": []
   },
   "outputs": [
    {
     "data": {
      "text/html": [
       "<style type='text/css'>\n",
       ".datatable table.frame { margin-bottom: 0; }\n",
       ".datatable table.frame thead { border-bottom: none; }\n",
       ".datatable table.frame tr.coltypes td {  color: #FFFFFF;  line-height: 6px;  padding: 0 0.5em;}\n",
       ".datatable .bool    { background: #DDDD99; }\n",
       ".datatable .object  { background: #565656; }\n",
       ".datatable .int     { background: #5D9E5D; }\n",
       ".datatable .float   { background: #4040CC; }\n",
       ".datatable .str     { background: #CC4040; }\n",
       ".datatable .time    { background: #40CC40; }\n",
       ".datatable .row_index {  background: var(--jp-border-color3);  border-right: 1px solid var(--jp-border-color0);  color: var(--jp-ui-font-color3);  font-size: 9px;}\n",
       ".datatable .frame tbody td { text-align: left; }\n",
       ".datatable .frame tr.coltypes .row_index {  background: var(--jp-border-color0);}\n",
       ".datatable th:nth-child(2) { padding-left: 12px; }\n",
       ".datatable .hellipsis {  color: var(--jp-cell-editor-border-color);}\n",
       ".datatable .vellipsis {  background: var(--jp-layout-color0);  color: var(--jp-cell-editor-border-color);}\n",
       ".datatable .na {  color: var(--jp-cell-editor-border-color);  font-size: 80%;}\n",
       ".datatable .sp {  opacity: 0.25;}\n",
       ".datatable .footer { font-size: 9px; }\n",
       ".datatable .frame_dimensions {  background: var(--jp-border-color3);  border-top: 1px solid var(--jp-border-color0);  color: var(--jp-ui-font-color3);  display: inline-block;  opacity: 0.6;  padding: 1px 10px 1px 5px;}\n",
       ".datatable .frame thead tr.colnames {  background-image: url('data:image/png;base64,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');  background-repeat: repeat-x;  background-size: 14px;  height: 28px;}\n",
       "</style>\n"
      ],
      "text/plain": [
       "<IPython.core.display.HTML object>"
      ]
     },
     "metadata": {},
     "output_type": "display_data"
    }
   ],
   "source": [
    "#Load the librarys\n",
    "import pandas as pd #To work with dataset\n",
    "import numpy as np #Math library\n",
    "import matplotlib.gridspec as gridspec\n",
    "import seaborn as sns #Graph library that use matplot in background\n",
    "import matplotlib.pyplot as plt #to plot some parameters in seaborn\n",
    "import warnings\n",
    "# Preparation  \n",
    "from sklearn.preprocessing import LabelEncoder, OrdinalEncoder\n",
    "from sklearn.preprocessing import OneHotEncoder\n",
    "from sklearn.preprocessing import PowerTransformer, StandardScaler,Normalizer,RobustScaler,MaxAbsScaler,MinMaxScaler,QuantileTransformer\n",
    "from sklearn.preprocessing import FunctionTransformer\n",
    "from sklearn.preprocessing import PolynomialFeatures\n",
    "from sklearn.neighbors import KNeighborsClassifier\n",
    "from sklearn.preprocessing import KBinsDiscretizer\n",
    "# Import StandardScaler from scikit-learn\n",
    "\n",
    "from sklearn.experimental import enable_iterative_imputer\n",
    "from sklearn.impute import SimpleImputer\n",
    "from sklearn.impute import KNNImputer,IterativeImputer\n",
    "from sklearn.feature_extraction.text import CountVectorizer\n",
    "from sklearn.compose import make_column_transformer,ColumnTransformer\n",
    "from sklearn.pipeline import make_pipeline, Pipeline,FeatureUnion\n",
    "from sklearn.manifold import TSNE\n",
    "# Import train_test_split()\n",
    "# Metrics\n",
    "from sklearn.metrics import roc_auc_score, average_precision_score\n",
    "from sklearn.metrics import make_scorer,mean_absolute_error\n",
    "from sklearn.metrics import mean_squared_error\n",
    "from sklearn.metrics import roc_curve,confusion_matrix\n",
    "from datetime import datetime, date\n",
    "from sklearn.linear_model import ElasticNet, Lasso,  BayesianRidge, LassoLarsIC\n",
    "from sklearn.linear_model import LinearRegression, RidgeCV\n",
    "from sklearn.linear_model import LogisticRegression\n",
    "\n",
    "#import tensorflow as tf \n",
    "#from tensorflow.keras import layers\n",
    "#from tensorflow.keras.callbacks import EarlyStopping\n",
    "#from tensorflow.keras.callbacks import LearningRateScheduler\n",
    "#import smogn\n",
    "from sklearn.experimental import enable_hist_gradient_boosting\n",
    "from sklearn.base import BaseEstimator, TransformerMixin, RegressorMixin, clone\n",
    "from sklearn.kernel_ridge import KernelRidge\n",
    "from sklearn.ensemble import GradientBoostingRegressor,RandomForestRegressor\n",
    "from sklearn.ensemble import RandomForestClassifier\n",
    "from sklearn.ensemble import HistGradientBoostingClassifier\n",
    "# For training random forest model\n",
    "import lightgbm as lgb\n",
    "from scipy import sparse\n",
    "from sklearn.neighbors import KNeighborsRegressor \n",
    "from sklearn.decomposition import PCA\n",
    "from sklearn.cluster import KMeans \n",
    "# Model selection\n",
    "from sklearn.model_selection import StratifiedKFold\n",
    "from sklearn.feature_selection import SelectKBest\n",
    "from sklearn.feature_selection import f_regression,f_classif,chi2\n",
    "from sklearn.feature_selection import mutual_info_regression\n",
    "from sklearn.feature_selection import SelectPercentile\n",
    "from sklearn.feature_selection import mutual_info_classif,VarianceThreshold\n",
    "\n",
    "from sklearn.model_selection import train_test_split\n",
    "from sklearn.model_selection import KFold\n",
    "from sklearn.model_selection import GridSearchCV\n",
    "from sklearn.model_selection import cross_val_score\n",
    "from lightgbm import LGBMClassifier\n",
    "import lightgbm as lgbm\n",
    "#from catboost import CatBoostRegressor, CatBoostClassifier\n",
    "from sklearn.naive_bayes import GaussianNB\n",
    "from sklearn import svm\n",
    "from xgboost import XGBClassifier,XGBRegressor\n",
    "from sklearn import set_config\n",
    "from itertools import combinations\n",
    "# Cluster :\n",
    "from sklearn.cluster import MiniBatchKMeans\n",
    "#from yellowbrick.cluster import KElbowVisualizer\n",
    "#import smong \n",
    "import category_encoders as ce\n",
    "import warnings\n",
    "#import optuna \n",
    "from joblib import Parallel, delayed\n",
    "import joblib \n",
    "from sklearn import set_config\n",
    "from typing import List, Optional, Union\n",
    "set_config(display='diagram')\n",
    "warnings.filterwarnings('ignore')"
   ]
  },
  {
   "cell_type": "markdown",
   "id": "4ef49e8e",
   "metadata": {
    "_cell_guid": "38c6befb-892d-4ef3-9c63-13be5959b671",
    "_uuid": "2953f9f3-02f8-4fa9-a7fc-cb93565c2183",
    "papermill": {
     "duration": 0.041567,
     "end_time": "2021-12-23T17:57:53.758346",
     "exception": false,
     "start_time": "2021-12-23T17:57:53.716779",
     "status": "completed"
    },
    "tags": []
   },
   "source": [
    "\n",
    "# Load the data"
   ]
  },
  {
   "cell_type": "code",
   "execution_count": 2,
   "id": "69efc833",
   "metadata": {
    "_cell_guid": "98a5b4a6-90e9-449d-96cc-0d85c9ff1c77",
    "_uuid": "e086592f-9f6a-4592-80b5-c1e7ad227e02",
    "collapsed": false,
    "execution": {
     "iopub.execute_input": "2021-12-23T17:57:53.845727Z",
     "iopub.status.busy": "2021-12-23T17:57:53.845186Z",
     "iopub.status.idle": "2021-12-23T17:57:54.256244Z",
     "shell.execute_reply": "2021-12-23T17:57:54.256793Z",
     "shell.execute_reply.started": "2021-12-23T17:57:30.606223Z"
    },
    "jupyter": {
     "outputs_hidden": false
    },
    "papermill": {
     "duration": 0.457621,
     "end_time": "2021-12-23T17:57:54.256976",
     "exception": false,
     "start_time": "2021-12-23T17:57:53.799355",
     "status": "completed"
    },
    "tags": []
   },
   "outputs": [
    {
     "name": "stdout",
     "output_type": "stream",
     "text": [
      "CPU times: user 206 ms, sys: 55.1 ms, total: 261 ms\n",
      "Wall time: 393 ms\n"
     ]
    },
    {
     "data": {
      "text/html": [
       "<div>\n",
       "<style scoped>\n",
       "    .dataframe tbody tr th:only-of-type {\n",
       "        vertical-align: middle;\n",
       "    }\n",
       "\n",
       "    .dataframe tbody tr th {\n",
       "        vertical-align: top;\n",
       "    }\n",
       "\n",
       "    .dataframe thead th {\n",
       "        text-align: right;\n",
       "    }\n",
       "</style>\n",
       "<table border=\"1\" class=\"dataframe\">\n",
       "  <thead>\n",
       "    <tr style=\"text-align: right;\">\n",
       "      <th></th>\n",
       "      <th>Unnamed: 0</th>\n",
       "      <th>SeriousDlqin2yrs</th>\n",
       "      <th>RevolvingUtilizationOfUnsecuredLines</th>\n",
       "      <th>age</th>\n",
       "      <th>NumberOfTime30-59DaysPastDueNotWorse</th>\n",
       "      <th>DebtRatio</th>\n",
       "      <th>MonthlyIncome</th>\n",
       "      <th>NumberOfOpenCreditLinesAndLoans</th>\n",
       "      <th>NumberOfTimes90DaysLate</th>\n",
       "      <th>NumberRealEstateLoansOrLines</th>\n",
       "      <th>NumberOfTime60-89DaysPastDueNotWorse</th>\n",
       "      <th>NumberOfDependents</th>\n",
       "    </tr>\n",
       "  </thead>\n",
       "  <tbody>\n",
       "    <tr>\n",
       "      <th>0</th>\n",
       "      <td>1</td>\n",
       "      <td>1</td>\n",
       "      <td>0.766127</td>\n",
       "      <td>45</td>\n",
       "      <td>2</td>\n",
       "      <td>0.802982</td>\n",
       "      <td>9120.0</td>\n",
       "      <td>13</td>\n",
       "      <td>0</td>\n",
       "      <td>6</td>\n",
       "      <td>0</td>\n",
       "      <td>2.0</td>\n",
       "    </tr>\n",
       "    <tr>\n",
       "      <th>1</th>\n",
       "      <td>2</td>\n",
       "      <td>0</td>\n",
       "      <td>0.957151</td>\n",
       "      <td>40</td>\n",
       "      <td>0</td>\n",
       "      <td>0.121876</td>\n",
       "      <td>2600.0</td>\n",
       "      <td>4</td>\n",
       "      <td>0</td>\n",
       "      <td>0</td>\n",
       "      <td>0</td>\n",
       "      <td>1.0</td>\n",
       "    </tr>\n",
       "    <tr>\n",
       "      <th>2</th>\n",
       "      <td>3</td>\n",
       "      <td>0</td>\n",
       "      <td>0.658180</td>\n",
       "      <td>38</td>\n",
       "      <td>1</td>\n",
       "      <td>0.085113</td>\n",
       "      <td>3042.0</td>\n",
       "      <td>2</td>\n",
       "      <td>1</td>\n",
       "      <td>0</td>\n",
       "      <td>0</td>\n",
       "      <td>0.0</td>\n",
       "    </tr>\n",
       "  </tbody>\n",
       "</table>\n",
       "</div>"
      ],
      "text/plain": [
       "   Unnamed: 0  SeriousDlqin2yrs  RevolvingUtilizationOfUnsecuredLines  age  \\\n",
       "0           1                 1                              0.766127   45   \n",
       "1           2                 0                              0.957151   40   \n",
       "2           3                 0                              0.658180   38   \n",
       "\n",
       "   NumberOfTime30-59DaysPastDueNotWorse  DebtRatio  MonthlyIncome  \\\n",
       "0                                     2   0.802982         9120.0   \n",
       "1                                     0   0.121876         2600.0   \n",
       "2                                     1   0.085113         3042.0   \n",
       "\n",
       "   NumberOfOpenCreditLinesAndLoans  NumberOfTimes90DaysLate  \\\n",
       "0                               13                        0   \n",
       "1                                4                        0   \n",
       "2                                2                        1   \n",
       "\n",
       "   NumberRealEstateLoansOrLines  NumberOfTime60-89DaysPastDueNotWorse  \\\n",
       "0                             6                                     0   \n",
       "1                             0                                     0   \n",
       "2                             0                                     0   \n",
       "\n",
       "   NumberOfDependents  \n",
       "0                 2.0  \n",
       "1                 1.0  \n",
       "2                 0.0  "
      ]
     },
     "execution_count": 2,
     "metadata": {},
     "output_type": "execute_result"
    }
   ],
   "source": [
    "%%time \n",
    "train = pd.read_csv('../input/GiveMeSomeCredit/cs-training.csv')\n",
    "test = pd.read_csv('../input/GiveMeSomeCredit/cs-test.csv')\n",
    "train.head(3)"
   ]
  },
  {
   "cell_type": "markdown",
   "id": "35919cb4",
   "metadata": {
    "papermill": {
     "duration": 0.041347,
     "end_time": "2021-12-23T17:57:54.341482",
     "exception": false,
     "start_time": "2021-12-23T17:57:54.300135",
     "status": "completed"
    },
    "tags": []
   },
   "source": [
    "# Convert Dtypes :"
   ]
  },
  {
   "cell_type": "code",
   "execution_count": 3,
   "id": "d3cf34b6",
   "metadata": {
    "execution": {
     "iopub.execute_input": "2021-12-23T17:57:54.437447Z",
     "iopub.status.busy": "2021-12-23T17:57:54.436910Z",
     "iopub.status.idle": "2021-12-23T17:57:54.502665Z",
     "shell.execute_reply": "2021-12-23T17:57:54.502122Z",
     "shell.execute_reply.started": "2021-12-23T17:57:31.127457Z"
    },
    "papermill": {
     "duration": 0.119828,
     "end_time": "2021-12-23T17:57:54.502807",
     "exception": false,
     "start_time": "2021-12-23T17:57:54.382979",
     "status": "completed"
    },
    "tags": []
   },
   "outputs": [],
   "source": [
    "# Convert Dtypes :\n",
    "train[train.select_dtypes(['int64','int16','float16','float32','float64','int8']).columns] = train[train.select_dtypes(['int64','int16','float16','float32','float64','int8']).columns].apply(pd.to_numeric)\n",
    "train[train.select_dtypes(['object','category']).columns] = train.select_dtypes(['object','category']).apply(lambda x: x.astype('category'))\n",
    "# Convert Dtypes :\n",
    "test[test.select_dtypes(['int64','int16','float16','float32','float64','int8']).columns] = test[test.select_dtypes(['int64','int16','float16','float32','float64','int8']).columns].apply(pd.to_numeric)\n",
    "test[test.select_dtypes(['object','category']).columns] = test.select_dtypes(['object','category']).apply(lambda x: x.astype('category'))"
   ]
  },
  {
   "cell_type": "markdown",
   "id": "8cc73ab1",
   "metadata": {
    "papermill": {
     "duration": 0.042322,
     "end_time": "2021-12-23T17:57:54.587354",
     "exception": false,
     "start_time": "2021-12-23T17:57:54.545032",
     "status": "completed"
    },
    "tags": []
   },
   "source": [
    "# Reduce Memory"
   ]
  },
  {
   "cell_type": "code",
   "execution_count": 4,
   "id": "e4732b38",
   "metadata": {
    "execution": {
     "iopub.execute_input": "2021-12-23T17:57:54.689439Z",
     "iopub.status.busy": "2021-12-23T17:57:54.687786Z",
     "iopub.status.idle": "2021-12-23T17:57:54.727841Z",
     "shell.execute_reply": "2021-12-23T17:57:54.728271Z"
    },
    "papermill": {
     "duration": 0.098765,
     "end_time": "2021-12-23T17:57:54.728432",
     "exception": false,
     "start_time": "2021-12-23T17:57:54.629667",
     "status": "completed"
    },
    "tags": []
   },
   "outputs": [
    {
     "name": "stdout",
     "output_type": "stream",
     "text": [
      "Memory usage of dataframe is 13.73 MB\n",
      "Memory usage after optimization is: 3.29 MB\n",
      "Decreased by 76.0%\n",
      "Memory usage of dataframe is 9.29 MB\n",
      "Memory usage after optimization is: 2.90 MB\n",
      "Decreased by 68.7%\n"
     ]
    }
   ],
   "source": [
    "# Author : https://www.kaggle.com/gemartin/load-data-reduce-memory-usage\n",
    "def reduce_mem_usage(df):\n",
    "    \"\"\" iterate through all the columns of a dataframe and modify the data type\n",
    "        to reduce memory usage.        \n",
    "    \"\"\"\n",
    "    start_mem = df.memory_usage().sum() / 1024**2\n",
    "    print('Memory usage of dataframe is {:.2f} MB'.format(start_mem))\n",
    "    \n",
    "    for col in df.columns:\n",
    "        col_type = df[col].dtype\n",
    "        name =df[col].dtype.name \n",
    "        \n",
    "        if col_type != object and col_type.name != 'category':\n",
    "        #if name != \"category\":    \n",
    "            c_min = df[col].min()\n",
    "            c_max = df[col].max()\n",
    "            if str(col_type)[:3] == 'int':\n",
    "                if c_min > np.iinfo(np.int8).min and c_max < np.iinfo(np.int8).max:\n",
    "                    df[col] = df[col].astype(np.int8)\n",
    "                elif c_min > np.iinfo(np.int16).min and c_max < np.iinfo(np.int16).max:\n",
    "                    df[col] = df[col].astype(np.int16)\n",
    "                elif c_min > np.iinfo(np.int32).min and c_max < np.iinfo(np.int32).max:\n",
    "                    df[col] = df[col].astype(np.int32)\n",
    "                elif c_min > np.iinfo(np.int64).min and c_max < np.iinfo(np.int64).max:\n",
    "                    df[col] = df[col].astype(np.int64)  \n",
    "            else:\n",
    "                if c_min > np.finfo(np.float16).min and c_max < np.finfo(np.float16).max:\n",
    "                    df[col] = df[col].astype(np.float16)\n",
    "                elif c_min > np.finfo(np.float32).min and c_max < np.finfo(np.float32).max:\n",
    "                    df[col] = df[col].astype(np.float32)\n",
    "                else:\n",
    "                    df[col] = df[col].astype(np.float64)\n",
    "        else:\n",
    "            df[col] = df[col].astype('category')\n",
    "\n",
    "    end_mem = df.memory_usage().sum() / 1024**2\n",
    "    print('Memory usage after optimization is: {:.2f} MB'.format(end_mem))\n",
    "    print('Decreased by {:.1f}%'.format(100 * (start_mem - end_mem) / start_mem))\n",
    "    \n",
    "    return df\n",
    "train= reduce_mem_usage(train)\n",
    "test= reduce_mem_usage(test)"
   ]
  },
  {
   "cell_type": "markdown",
   "id": "60d2f900",
   "metadata": {
    "papermill": {
     "duration": 0.041761,
     "end_time": "2021-12-23T17:57:54.812379",
     "exception": false,
     "start_time": "2021-12-23T17:57:54.770618",
     "status": "completed"
    },
    "tags": []
   },
   "source": [
    "# X and Y"
   ]
  },
  {
   "cell_type": "code",
   "execution_count": 5,
   "id": "48fe242e",
   "metadata": {
    "execution": {
     "iopub.execute_input": "2021-12-23T17:57:54.904532Z",
     "iopub.status.busy": "2021-12-23T17:57:54.902867Z",
     "iopub.status.idle": "2021-12-23T17:57:54.905140Z",
     "shell.execute_reply": "2021-12-23T17:57:54.905572Z"
    },
    "papermill": {
     "duration": 0.050464,
     "end_time": "2021-12-23T17:57:54.905707",
     "exception": false,
     "start_time": "2021-12-23T17:57:54.855243",
     "status": "completed"
    },
    "tags": []
   },
   "outputs": [],
   "source": [
    "# Cardinality : \n",
    "# - RevolvingUtilizationOfUnsecuredLines :125728, high Outlier\n",
    "# - DebtRatio :114194 , high Outlier \n",
    "# deal with outlier + bin \n",
    "PERCENTAGE = [\"RevolvingUtilizationOfUnsecuredLines\", \"DebtRatio\"]\n",
    "# MonthlyIncome:13594 , high outlier +bin \n",
    "REAL= [\"MonthlyIncome\"]\n",
    "# Can be considred as cat \n",
    "NUMERIC_DISCRET_low = [\"NumberOfDependents\",\n",
    "                       \"NumberOfTime60-89DaysPastDueNotWorse\",\n",
    "                       \"NumberRealEstateLoansOrLines\",\n",
    "                       \"NumberOfTimes90DaysLate\",\n",
    "                       \"NumberOfOpenCreditLinesAndLoans\",\n",
    "                       \"NumberOfTime30-59DaysPastDueNotWorse\",\n",
    "                       \"age\"]\n",
    "Late_Pay_Cols = ['NumberOfTime30-59DaysPastDueNotWorse',\n",
    "                 'NumberOfTimes90DaysLate',\n",
    "                 'NumberOfTime60-89DaysPastDueNotWorse']\n",
    "TARGET = [\"SeriousDlqin2yrs\"]\n",
    "\n",
    "#also change the type for TARGET to categorical\n",
    "#df[TARGET] = df[TARGET].astype('category')"
   ]
  },
  {
   "cell_type": "code",
   "execution_count": 6,
   "id": "f339a7fc",
   "metadata": {
    "execution": {
     "iopub.execute_input": "2021-12-23T17:57:54.995405Z",
     "iopub.status.busy": "2021-12-23T17:57:54.994401Z",
     "iopub.status.idle": "2021-12-23T17:57:54.996216Z",
     "shell.execute_reply": "2021-12-23T17:57:54.996694Z"
    },
    "papermill": {
     "duration": 0.048199,
     "end_time": "2021-12-23T17:57:54.996844",
     "exception": false,
     "start_time": "2021-12-23T17:57:54.948645",
     "status": "completed"
    },
    "tags": []
   },
   "outputs": [],
   "source": [
    "y = train['SeriousDlqin2yrs']"
   ]
  },
  {
   "cell_type": "code",
   "execution_count": 7,
   "id": "48a5e6cb",
   "metadata": {
    "execution": {
     "iopub.execute_input": "2021-12-23T17:57:55.087492Z",
     "iopub.status.busy": "2021-12-23T17:57:55.086700Z",
     "iopub.status.idle": "2021-12-23T17:57:55.145557Z",
     "shell.execute_reply": "2021-12-23T17:57:55.145965Z"
    },
    "papermill": {
     "duration": 0.106813,
     "end_time": "2021-12-23T17:57:55.146097",
     "exception": false,
     "start_time": "2021-12-23T17:57:55.039284",
     "status": "completed"
    },
    "tags": []
   },
   "outputs": [
    {
     "data": {
      "text/plain": [
       "DebtRatio                               30457\n",
       "NumberOfTime30-59DaysPastDueNotWorse    23982\n",
       "SeriousDlqin2yrs                        10026\n",
       "NumberOfTimes90DaysLate                  8338\n",
       "NumberOfTime60-89DaysPastDueNotWorse     7604\n",
       "MonthlyIncome                            1557\n",
       "NumberOfDependents                        991\n",
       "NumberOfOpenCreditLinesAndLoans           442\n",
       "RevolvingUtilizationOfUnsecuredLines      339\n",
       "NumberRealEstateLoansOrLines              209\n",
       "dtype: int64"
      ]
     },
     "execution_count": 7,
     "metadata": {},
     "output_type": "execute_result"
    }
   ],
   "source": [
    "def get_outlier_counts(df, outlier_threshold=1.5):\n",
    "    Q1 = df.quantile(0.25)\n",
    "    Q3 = df.quantile(0.75)\n",
    "    IQR = Q3 - Q1\n",
    "\n",
    "    outlier_counts = ((df < (Q1 - outlier_threshold * IQR)) | (df > (Q3 + outlier_threshold * IQR))).sum()\n",
    "    return outlier_counts[outlier_counts>0].sort_values(ascending=False)\n",
    "\n",
    "get_outlier_counts(train, outlier_threshold=3)"
   ]
  },
  {
   "cell_type": "markdown",
   "id": "c3ea427e",
   "metadata": {
    "papermill": {
     "duration": 0.042774,
     "end_time": "2021-12-23T17:57:55.232303",
     "exception": false,
     "start_time": "2021-12-23T17:57:55.189529",
     "status": "completed"
    },
    "tags": []
   },
   "source": [
    "# Imput before Descritaziation : \n",
    "\n",
    "## IterativeImputer\n",
    "\n",
    "One approach to imputing missing values is to use an iterative imputation model.\n",
    "\n",
    "Iterative imputation refers to a process where each feature is modeled as a function of the other features, e.g. a regression problem where missing values are predicted. Each feature is imputed sequentially, one after the other, allowing prior imputed values to be used as part of a model in predicting subsequent features.\n",
    "\n",
    "It is iterative because this process is repeated multiple times, allowing ever improved estimates of missing values to be calculated as missing values across all features are estimated.\n",
    "\n",
    "This approach may be generally referred to as fully conditional specification (FCS) or multivariate imputation by chained equations (MICE).\n"
   ]
  },
  {
   "cell_type": "code",
   "execution_count": 8,
   "id": "39660300",
   "metadata": {
    "execution": {
     "iopub.execute_input": "2021-12-23T17:57:55.326813Z",
     "iopub.status.busy": "2021-12-23T17:57:55.325969Z",
     "iopub.status.idle": "2021-12-23T17:57:55.331281Z",
     "shell.execute_reply": "2021-12-23T17:57:55.330865Z"
    },
    "papermill": {
     "duration": 0.056398,
     "end_time": "2021-12-23T17:57:55.331384",
     "exception": false,
     "start_time": "2021-12-23T17:57:55.274986",
     "status": "completed"
    },
    "tags": []
   },
   "outputs": [
    {
     "name": "stdout",
     "output_type": "stream",
     "text": [
      "CPU times: user 453 µs, sys: 0 ns, total: 453 µs\n",
      "Wall time: 459 µs\n"
     ]
    }
   ],
   "source": [
    "%%time \n",
    "param =  {   \"verbosity\": 0,\n",
    "            #\"objective\": \"binary:logistic\",\n",
    "            #\"eval_metric\": \"auc\",\n",
    "            'random_state': 42,\n",
    "            # regression\n",
    "            'objective':'reg:squarederror', \n",
    "             'eval_metric': 'mae',\n",
    "            #early_stopping_rounds=100 ,\n",
    "            'gpu_id':0, \n",
    "            'predictor':\"gpu_predictor\",\n",
    "            # use exact for small dataset.\n",
    "            #\"tree_method\": \"exact\",\n",
    "            # big data :\n",
    "             'tree_method': 'gpu_hist',\n",
    "            # defines booster, gblinear for linear functions.\n",
    "             'booster': 'gbtree', \n",
    "            'lambda': 8.544792472633987e-07,\n",
    "            'alpha': 0.31141671752487043,\n",
    "            'subsample': 0.8779467596981366, \n",
    "            'colsample_bytree': 0.9759532762677546,\n",
    "            'learning_rate': 0.008686087328805853, \n",
    "            'n_estimators': 6988,\n",
    "            'max_depth': 9,\n",
    "            'min_child_weight': 2, \n",
    "            'eta': 3.7603213457541647e-06,\n",
    "            'gamma': 2.1478058456847449e-07,\n",
    "            'grow_policy': 'lossguide'}\n",
    "                \n",
    "\n",
    "#model_xgb = XGBRegressor(\n",
    "       #objective=\"mae\",\n",
    " #   **xgb_params2)\n",
    "\n",
    "numeric_transformer1 = Pipeline(\n",
    "                            steps=[\n",
    "                            ('imputer', SimpleImputer(strategy='median'\n",
    "                                                      ,add_indicator=True)),\n",
    "                            ('scaler', PowerTransformer()),#(Numerical Input, Numerical Output)\n",
    "                            # Create an SelectKBest object to select features with two best ANOVA F-Values\n",
    "                            #The F-value scores examine if, when we group the numerical feature by the target vector, the means for each group are significantly different\n",
    "                           # ('reducedim',  SelectPercentile(f_classif,percentile=90))\n",
    "                            ]\n",
    "                            )\n",
    "numeric_transformer2 = Pipeline(\n",
    "                            steps=[\n",
    "                            #('imputer', SimpleImputer(strategy='median'\n",
    "                             #                         ,add_indicator=True)),\n",
    "                            ('scaler', PowerTransformer()),#(Numerical Input, Numerical Output)\n",
    "                            # Create an SelectKBest object to select features with two best ANOVA F-Values\n",
    "                            #The F-value scores examine if, when we group the numerical feature by the target vector, the means for each group are significantly different\n",
    "                           # ('reducedim',  SelectPercentile(f_classif,percentile=90))\n",
    "                            ]\n",
    "                            )\n",
    "\n",
    "pipe_xgbr1 = Pipeline(\n",
    "                    steps=[\n",
    "                        ('preprocessor', numeric_transformer1),\n",
    "                        ('classifier', XGBRegressor(\n",
    "                      #objective=\"mae\",\n",
    "                       **param))\n",
    "                    ]\n",
    "                )\n",
    "pipe_xgbr2 = Pipeline(\n",
    "                    steps=[\n",
    "                        ('preprocessor', numeric_transformer2),\n",
    "                        ('classifier', XGBRegressor(\n",
    "                      #objective=\"mae\",\n",
    "                       **param))\n",
    "                    ]\n",
    "                )\n",
    "\n",
    "#imputer=IterativeImputer(estimator=XGBRegressor(\n",
    "                      #objective=\"mae\",\n",
    " #                      **param),max_iter=2,random_state=42)\n",
    "#train=train.drop(['Unnamed: 0','SeriousDlqin2yrs'], axis=1)\n",
    "#test=test.drop(['Unnamed: 0','SeriousDlqin2yrs'], axis=1)\n",
    "#imputer.fit(train)\n",
    "#train = imputer.transform(train)\n",
    "#test = imputer.transform(test)\n",
    "#features=['RevolvingUtilizationOfUnsecuredLines', 'age',\n",
    " #     'NumberOfTime30-59DaysPastDueNotWorse', 'DebtRatio', 'MonthlyIncome',\n",
    " #      'NumberOfOpenCreditLinesAndLoans', 'NumberOfTimes90DaysLate',\n",
    " #     'NumberRealEstateLoansOrLines', 'NumberOfTime60-89DaysPastDueNotWorse',\n",
    "  #    'NumberOfDependents']\n",
    "#train=pd.DataFrame(train,columns=features)\n",
    "#test=pd.DataFrame(test,columns=features)\n",
    "#train= reduce_mem_usage(train)\n",
    "#test= reduce_mem_usage(test)"
   ]
  },
  {
   "cell_type": "markdown",
   "id": "f583983e",
   "metadata": {
    "papermill": {
     "duration": 0.042788,
     "end_time": "2021-12-23T17:57:55.417165",
     "exception": false,
     "start_time": "2021-12-23T17:57:55.374377",
     "status": "completed"
    },
    "tags": []
   },
   "source": [
    "## Rgression Imputer "
   ]
  },
  {
   "cell_type": "code",
   "execution_count": 9,
   "id": "e7bae7cb",
   "metadata": {
    "execution": {
     "iopub.execute_input": "2021-12-23T17:57:55.510260Z",
     "iopub.status.busy": "2021-12-23T17:57:55.509372Z",
     "iopub.status.idle": "2021-12-23T18:00:09.143200Z",
     "shell.execute_reply": "2021-12-23T18:00:09.143818Z"
    },
    "papermill": {
     "duration": 133.684157,
     "end_time": "2021-12-23T18:00:09.144032",
     "exception": false,
     "start_time": "2021-12-23T17:57:55.459875",
     "status": "completed"
    },
    "tags": []
   },
   "outputs": [
    {
     "name": "stdout",
     "output_type": "stream",
     "text": [
      "CPU times: user 2min 9s, sys: 2.44 s, total: 2min 12s\n",
      "Wall time: 2min 13s\n"
     ]
    }
   ],
   "source": [
    "%%time \n",
    "train=train.drop(['Unnamed: 0','SeriousDlqin2yrs'], axis=1)\n",
    "test=test.drop(['Unnamed: 0','SeriousDlqin2yrs'], axis=1)\n",
    "train_final= pd.concat( [train, test], axis=0) \n",
    "#testdf_income= train_final[train_final['MonthlyIncome'].isnull()==True]\n",
    "traindf_income = train_final[train_final['MonthlyIncome'].isnull()==False]\n",
    "y_income = traindf_income['MonthlyIncome']\n",
    "X_income=traindf_income.drop([\"MonthlyIncome\"],axis=1)\n",
    "pipe_xgbr1.fit(X_income, y_income)\n",
    "train_income_missing=train[train['MonthlyIncome'].isnull()==True].drop([\"MonthlyIncome\"],axis=1)\n",
    "test_income_missing=test[test['MonthlyIncome'].isnull()==True].drop([\"MonthlyIncome\"],axis=1)\n",
    "train_predicted = pipe_xgbr1.predict(train_income_missing)\n",
    "test_predicted = pipe_xgbr1.predict(test_income_missing)\n",
    "train.loc[(train.MonthlyIncome.isnull()), 'MonthlyIncome'] = train_predicted\n",
    "test.loc[(test.MonthlyIncome.isnull()), 'MonthlyIncome'] = test_predicted"
   ]
  },
  {
   "cell_type": "code",
   "execution_count": 10,
   "id": "58d779f0",
   "metadata": {
    "execution": {
     "iopub.execute_input": "2021-12-23T18:00:09.236758Z",
     "iopub.status.busy": "2021-12-23T18:00:09.235773Z",
     "iopub.status.idle": "2021-12-23T18:00:09.249450Z",
     "shell.execute_reply": "2021-12-23T18:00:09.249928Z"
    },
    "papermill": {
     "duration": 0.061603,
     "end_time": "2021-12-23T18:00:09.250068",
     "exception": false,
     "start_time": "2021-12-23T18:00:09.188465",
     "status": "completed"
    },
    "tags": []
   },
   "outputs": [
    {
     "name": "stdout",
     "output_type": "stream",
     "text": [
      "<class 'pandas.core.frame.DataFrame'>\n",
      "RangeIndex: 150000 entries, 0 to 149999\n",
      "Data columns (total 10 columns):\n",
      " #   Column                                Non-Null Count   Dtype  \n",
      "---  ------                                --------------   -----  \n",
      " 0   RevolvingUtilizationOfUnsecuredLines  150000 non-null  float16\n",
      " 1   age                                   150000 non-null  int8   \n",
      " 2   NumberOfTime30-59DaysPastDueNotWorse  150000 non-null  int8   \n",
      " 3   DebtRatio                             150000 non-null  float32\n",
      " 4   MonthlyIncome                         150000 non-null  float32\n",
      " 5   NumberOfOpenCreditLinesAndLoans       150000 non-null  int8   \n",
      " 6   NumberOfTimes90DaysLate               150000 non-null  int8   \n",
      " 7   NumberRealEstateLoansOrLines          150000 non-null  int8   \n",
      " 8   NumberOfTime60-89DaysPastDueNotWorse  150000 non-null  int8   \n",
      " 9   NumberOfDependents                    146076 non-null  float16\n",
      "dtypes: float16(2), float32(2), int8(6)\n",
      "memory usage: 2.6 MB\n"
     ]
    }
   ],
   "source": [
    "train.info()"
   ]
  },
  {
   "cell_type": "code",
   "execution_count": 11,
   "id": "bd19464b",
   "metadata": {
    "execution": {
     "iopub.execute_input": "2021-12-23T18:00:09.346087Z",
     "iopub.status.busy": "2021-12-23T18:00:09.345274Z",
     "iopub.status.idle": "2021-12-23T18:00:09.352957Z",
     "shell.execute_reply": "2021-12-23T18:00:09.352535Z"
    },
    "papermill": {
     "duration": 0.058309,
     "end_time": "2021-12-23T18:00:09.353068",
     "exception": false,
     "start_time": "2021-12-23T18:00:09.294759",
     "status": "completed"
    },
    "tags": []
   },
   "outputs": [
    {
     "name": "stdout",
     "output_type": "stream",
     "text": [
      "<class 'pandas.core.frame.DataFrame'>\n",
      "RangeIndex: 101503 entries, 0 to 101502\n",
      "Data columns (total 10 columns):\n",
      " #   Column                                Non-Null Count   Dtype  \n",
      "---  ------                                --------------   -----  \n",
      " 0   RevolvingUtilizationOfUnsecuredLines  101503 non-null  float16\n",
      " 1   age                                   101503 non-null  int8   \n",
      " 2   NumberOfTime30-59DaysPastDueNotWorse  101503 non-null  int8   \n",
      " 3   DebtRatio                             101503 non-null  float32\n",
      " 4   MonthlyIncome                         101503 non-null  float32\n",
      " 5   NumberOfOpenCreditLinesAndLoans       101503 non-null  int8   \n",
      " 6   NumberOfTimes90DaysLate               101503 non-null  int8   \n",
      " 7   NumberRealEstateLoansOrLines          101503 non-null  int8   \n",
      " 8   NumberOfTime60-89DaysPastDueNotWorse  101503 non-null  int8   \n",
      " 9   NumberOfDependents                    98877 non-null   float16\n",
      "dtypes: float16(2), float32(2), int8(6)\n",
      "memory usage: 1.7 MB\n"
     ]
    }
   ],
   "source": [
    "test.info()"
   ]
  },
  {
   "cell_type": "code",
   "execution_count": 12,
   "id": "745a18db",
   "metadata": {
    "execution": {
     "iopub.execute_input": "2021-12-23T18:00:09.449402Z",
     "iopub.status.busy": "2021-12-23T18:00:09.448660Z",
     "iopub.status.idle": "2021-12-23T18:02:46.297390Z",
     "shell.execute_reply": "2021-12-23T18:02:46.296913Z"
    },
    "papermill": {
     "duration": 156.899042,
     "end_time": "2021-12-23T18:02:46.297567",
     "exception": false,
     "start_time": "2021-12-23T18:00:09.398525",
     "status": "completed"
    },
    "tags": []
   },
   "outputs": [],
   "source": [
    "traindf_NumberOfDependents = train_final[train_final['NumberOfDependents'].isnull()==False]\n",
    "y_NumberOfDependents = traindf_NumberOfDependents['NumberOfDependents']\n",
    "X_NumberOfDependents=traindf_NumberOfDependents.drop([\"NumberOfDependents\"],axis=1)\n",
    "pipe_xgbr2.fit(X_NumberOfDependents, y_NumberOfDependents)\n",
    "train_NumberOfDependents_missing=train[train['NumberOfDependents'].isnull()==True].drop([\"NumberOfDependents\"],axis=1)\n",
    "test_NumberOfDependents_missing=test[test['NumberOfDependents'].isnull()==True].drop([\"NumberOfDependents\"],axis=1)\n",
    "train_predicted = pipe_xgbr2.predict(train_NumberOfDependents_missing)\n",
    "test_predicted = pipe_xgbr2.predict(test_NumberOfDependents_missing)\n",
    "train.loc[(train.NumberOfDependents.isnull()), 'NumberOfDependents'] = train_predicted\n",
    "test.loc[(test.NumberOfDependents.isnull()), 'NumberOfDependents'] = test_predicted"
   ]
  },
  {
   "cell_type": "code",
   "execution_count": 13,
   "id": "3b5b0675",
   "metadata": {
    "execution": {
     "iopub.execute_input": "2021-12-23T18:02:46.393162Z",
     "iopub.status.busy": "2021-12-23T18:02:46.392233Z",
     "iopub.status.idle": "2021-12-23T18:02:46.404304Z",
     "shell.execute_reply": "2021-12-23T18:02:46.403801Z"
    },
    "papermill": {
     "duration": 0.062044,
     "end_time": "2021-12-23T18:02:46.404449",
     "exception": false,
     "start_time": "2021-12-23T18:02:46.342405",
     "status": "completed"
    },
    "tags": []
   },
   "outputs": [
    {
     "name": "stdout",
     "output_type": "stream",
     "text": [
      "<class 'pandas.core.frame.DataFrame'>\n",
      "RangeIndex: 150000 entries, 0 to 149999\n",
      "Data columns (total 10 columns):\n",
      " #   Column                                Non-Null Count   Dtype  \n",
      "---  ------                                --------------   -----  \n",
      " 0   RevolvingUtilizationOfUnsecuredLines  150000 non-null  float16\n",
      " 1   age                                   150000 non-null  int8   \n",
      " 2   NumberOfTime30-59DaysPastDueNotWorse  150000 non-null  int8   \n",
      " 3   DebtRatio                             150000 non-null  float32\n",
      " 4   MonthlyIncome                         150000 non-null  float32\n",
      " 5   NumberOfOpenCreditLinesAndLoans       150000 non-null  int8   \n",
      " 6   NumberOfTimes90DaysLate               150000 non-null  int8   \n",
      " 7   NumberRealEstateLoansOrLines          150000 non-null  int8   \n",
      " 8   NumberOfTime60-89DaysPastDueNotWorse  150000 non-null  int8   \n",
      " 9   NumberOfDependents                    150000 non-null  float16\n",
      "dtypes: float16(2), float32(2), int8(6)\n",
      "memory usage: 2.6 MB\n"
     ]
    }
   ],
   "source": [
    "train.info()"
   ]
  },
  {
   "cell_type": "code",
   "execution_count": 14,
   "id": "fe138ac5",
   "metadata": {
    "execution": {
     "iopub.execute_input": "2021-12-23T18:02:46.499997Z",
     "iopub.status.busy": "2021-12-23T18:02:46.499238Z",
     "iopub.status.idle": "2021-12-23T18:02:46.508312Z",
     "shell.execute_reply": "2021-12-23T18:02:46.508897Z"
    },
    "papermill": {
     "duration": 0.058782,
     "end_time": "2021-12-23T18:02:46.509078",
     "exception": false,
     "start_time": "2021-12-23T18:02:46.450296",
     "status": "completed"
    },
    "tags": []
   },
   "outputs": [
    {
     "name": "stdout",
     "output_type": "stream",
     "text": [
      "<class 'pandas.core.frame.DataFrame'>\n",
      "RangeIndex: 101503 entries, 0 to 101502\n",
      "Data columns (total 10 columns):\n",
      " #   Column                                Non-Null Count   Dtype  \n",
      "---  ------                                --------------   -----  \n",
      " 0   RevolvingUtilizationOfUnsecuredLines  101503 non-null  float16\n",
      " 1   age                                   101503 non-null  int8   \n",
      " 2   NumberOfTime30-59DaysPastDueNotWorse  101503 non-null  int8   \n",
      " 3   DebtRatio                             101503 non-null  float32\n",
      " 4   MonthlyIncome                         101503 non-null  float32\n",
      " 5   NumberOfOpenCreditLinesAndLoans       101503 non-null  int8   \n",
      " 6   NumberOfTimes90DaysLate               101503 non-null  int8   \n",
      " 7   NumberRealEstateLoansOrLines          101503 non-null  int8   \n",
      " 8   NumberOfTime60-89DaysPastDueNotWorse  101503 non-null  int8   \n",
      " 9   NumberOfDependents                    101503 non-null  float16\n",
      "dtypes: float16(2), float32(2), int8(6)\n",
      "memory usage: 1.7 MB\n"
     ]
    }
   ],
   "source": [
    "test.info()"
   ]
  },
  {
   "cell_type": "markdown",
   "id": "0de5cc40",
   "metadata": {
    "papermill": {
     "duration": 0.044911,
     "end_time": "2021-12-23T18:02:46.600704",
     "exception": false,
     "start_time": "2021-12-23T18:02:46.555793",
     "status": "completed"
    },
    "tags": []
   },
   "source": [
    "# Add Bin "
   ]
  },
  {
   "cell_type": "code",
   "execution_count": 15,
   "id": "b857a36d",
   "metadata": {
    "execution": {
     "iopub.execute_input": "2021-12-23T18:02:46.706007Z",
     "iopub.status.busy": "2021-12-23T18:02:46.705169Z",
     "iopub.status.idle": "2021-12-23T18:02:47.258905Z",
     "shell.execute_reply": "2021-12-23T18:02:47.259391Z"
    },
    "papermill": {
     "duration": 0.611768,
     "end_time": "2021-12-23T18:02:47.259561",
     "exception": false,
     "start_time": "2021-12-23T18:02:46.647793",
     "status": "completed"
    },
    "tags": []
   },
   "outputs": [],
   "source": [
    "# Add bin data \n",
    "# initializing append_str\n",
    "append_str = 'cat_'\n",
    "# Append suffix / prefix to strings in list\n",
    "num_features1=[\"RevolvingUtilizationOfUnsecuredLines\", \"DebtRatio\",\"MonthlyIncome\"]\n",
    "num_features2=[\"NumberOfDependents\",\n",
    "                       \"NumberOfTime60-89DaysPastDueNotWorse\",\n",
    "                       \"NumberRealEstateLoansOrLines\",\n",
    "                       \"NumberOfTimes90DaysLate\",\n",
    "                       \"NumberOfOpenCreditLinesAndLoans\",\n",
    "                       \"NumberOfTime30-59DaysPastDueNotWorse\",\n",
    "                       \"age\"]\n",
    "cat_features1 = [append_str + sub for sub in num_features1]\n",
    "cat_features2 = [append_str + sub for sub in num_features2]\n",
    "\n",
    "# create the discretizer object with strategy quantile and 1000 bins\n",
    "discretizer1 = KBinsDiscretizer(n_bins=40, encode='ordinal',strategy='quantile')\n",
    "discretizer2 = KBinsDiscretizer(n_bins=4, encode='ordinal',strategy='quantile')\n",
    "\n",
    "pipeline1 = Pipeline([\n",
    "        ('imputer', SimpleImputer( strategy='median')),\n",
    "        ('bin', discretizer1)\n",
    "    ])\n",
    "# fit the discretizer to the train set\n",
    "pipeline1.fit(train.loc[:,num_features1])\n",
    "# apply the discretisation\n",
    "train_cat1 = pipeline1.transform(train.loc[:,num_features1])\n",
    "test_cat1 = pipeline1.transform(test.loc[:,num_features1])\n",
    "train_df1=pd.DataFrame(train_cat1,columns=cat_features1).astype('category')\n",
    "test_df1=pd.DataFrame(test_cat1,columns=cat_features1).astype('category')\n",
    "train_final1= pd.concat( [train.loc[:,num_features1], train_df1], axis=1) \n",
    "test_final1= pd.concat( [test.loc[:,num_features1], test_df1], axis=1) \n",
    "\n",
    "pipeline2 = Pipeline([\n",
    "        ('imputer', SimpleImputer( strategy='median')),\n",
    "        ('bin', discretizer2)\n",
    "    ])\n",
    "# fit the discretizer to the train set\n",
    "pipeline2.fit(train.loc[:,num_features2])\n",
    "# apply the discretisation\n",
    "train_cat2 = pipeline2.transform(train.loc[:,num_features2])\n",
    "test_cat2 = pipeline2.transform(test.loc[:,num_features2])\n",
    "train_df2=pd.DataFrame(train_cat2,columns=cat_features2).astype('category')\n",
    "test_df2=pd.DataFrame(test_cat2,columns=cat_features2).astype('category')\n",
    "train_final2= pd.concat( [train.loc[:,num_features2], train_df2], axis=1) \n",
    "test_final2= pd.concat( [test.loc[:,num_features2], test_df2], axis=1) "
   ]
  },
  {
   "cell_type": "code",
   "execution_count": 16,
   "id": "860bd00f",
   "metadata": {
    "execution": {
     "iopub.execute_input": "2021-12-23T18:02:47.356019Z",
     "iopub.status.busy": "2021-12-23T18:02:47.355121Z",
     "iopub.status.idle": "2021-12-23T18:02:47.360928Z",
     "shell.execute_reply": "2021-12-23T18:02:47.360524Z"
    },
    "papermill": {
     "duration": 0.055584,
     "end_time": "2021-12-23T18:02:47.361053",
     "exception": false,
     "start_time": "2021-12-23T18:02:47.305469",
     "status": "completed"
    },
    "tags": []
   },
   "outputs": [],
   "source": [
    "train_final= pd.concat( [train_final1, train_final2], axis=1) \n",
    "test_final= pd.concat( [test_final1, test_final2], axis=1) "
   ]
  },
  {
   "cell_type": "markdown",
   "id": "a2ae40a2",
   "metadata": {
    "papermill": {
     "duration": 0.045758,
     "end_time": "2021-12-23T18:02:47.452140",
     "exception": false,
     "start_time": "2021-12-23T18:02:47.406382",
     "status": "completed"
    },
    "tags": []
   },
   "source": [
    "# Final X and y"
   ]
  },
  {
   "cell_type": "code",
   "execution_count": 17,
   "id": "08f3f4e0",
   "metadata": {
    "execution": {
     "iopub.execute_input": "2021-12-23T18:02:47.546622Z",
     "iopub.status.busy": "2021-12-23T18:02:47.545841Z",
     "iopub.status.idle": "2021-12-23T18:02:47.547827Z",
     "shell.execute_reply": "2021-12-23T18:02:47.548195Z"
    },
    "papermill": {
     "duration": 0.05106,
     "end_time": "2021-12-23T18:02:47.548322",
     "exception": false,
     "start_time": "2021-12-23T18:02:47.497262",
     "status": "completed"
    },
    "tags": []
   },
   "outputs": [],
   "source": [
    "# Pour le train test\n",
    "target= \"SeriousDlqin2yrs\"\n",
    "X = train_final# axis=1\n",
    "X_test_final =test_final# axis=1"
   ]
  },
  {
   "cell_type": "code",
   "execution_count": 18,
   "id": "880d5d34",
   "metadata": {
    "execution": {
     "iopub.execute_input": "2021-12-23T18:02:47.645154Z",
     "iopub.status.busy": "2021-12-23T18:02:47.644289Z",
     "iopub.status.idle": "2021-12-23T18:02:47.664055Z",
     "shell.execute_reply": "2021-12-23T18:02:47.664649Z"
    },
    "papermill": {
     "duration": 0.070999,
     "end_time": "2021-12-23T18:02:47.664839",
     "exception": false,
     "start_time": "2021-12-23T18:02:47.593840",
     "status": "completed"
    },
    "tags": []
   },
   "outputs": [
    {
     "name": "stdout",
     "output_type": "stream",
     "text": [
      "<class 'pandas.core.frame.DataFrame'>\n",
      "RangeIndex: 101503 entries, 0 to 101502\n",
      "Data columns (total 20 columns):\n",
      " #   Column                                    Non-Null Count   Dtype   \n",
      "---  ------                                    --------------   -----   \n",
      " 0   RevolvingUtilizationOfUnsecuredLines      101503 non-null  float16 \n",
      " 1   DebtRatio                                 101503 non-null  float32 \n",
      " 2   MonthlyIncome                             101503 non-null  float32 \n",
      " 3   cat_RevolvingUtilizationOfUnsecuredLines  101503 non-null  category\n",
      " 4   cat_DebtRatio                             101503 non-null  category\n",
      " 5   cat_MonthlyIncome                         101503 non-null  category\n",
      " 6   NumberOfDependents                        101503 non-null  float16 \n",
      " 7   NumberOfTime60-89DaysPastDueNotWorse      101503 non-null  int8    \n",
      " 8   NumberRealEstateLoansOrLines              101503 non-null  int8    \n",
      " 9   NumberOfTimes90DaysLate                   101503 non-null  int8    \n",
      " 10  NumberOfOpenCreditLinesAndLoans           101503 non-null  int8    \n",
      " 11  NumberOfTime30-59DaysPastDueNotWorse      101503 non-null  int8    \n",
      " 12  age                                       101503 non-null  int8    \n",
      " 13  cat_NumberOfDependents                    101503 non-null  category\n",
      " 14  cat_NumberOfTime60-89DaysPastDueNotWorse  101503 non-null  category\n",
      " 15  cat_NumberRealEstateLoansOrLines          101503 non-null  category\n",
      " 16  cat_NumberOfTimes90DaysLate               101503 non-null  category\n",
      " 17  cat_NumberOfOpenCreditLinesAndLoans       101503 non-null  category\n",
      " 18  cat_NumberOfTime30-59DaysPastDueNotWorse  101503 non-null  category\n",
      " 19  cat_age                                   101503 non-null  category\n",
      "dtypes: category(10), float16(2), float32(2), int8(6)\n",
      "memory usage: 2.7 MB\n"
     ]
    }
   ],
   "source": [
    "X_test_final.info()"
   ]
  },
  {
   "cell_type": "code",
   "execution_count": 19,
   "id": "f7d21c7d",
   "metadata": {
    "execution": {
     "iopub.execute_input": "2021-12-23T18:02:47.761557Z",
     "iopub.status.busy": "2021-12-23T18:02:47.760724Z",
     "iopub.status.idle": "2021-12-23T18:02:47.782369Z",
     "shell.execute_reply": "2021-12-23T18:02:47.782969Z"
    },
    "papermill": {
     "duration": 0.070949,
     "end_time": "2021-12-23T18:02:47.783130",
     "exception": false,
     "start_time": "2021-12-23T18:02:47.712181",
     "status": "completed"
    },
    "tags": []
   },
   "outputs": [
    {
     "name": "stdout",
     "output_type": "stream",
     "text": [
      "<class 'pandas.core.frame.DataFrame'>\n",
      "RangeIndex: 150000 entries, 0 to 149999\n",
      "Data columns (total 20 columns):\n",
      " #   Column                                    Non-Null Count   Dtype   \n",
      "---  ------                                    --------------   -----   \n",
      " 0   RevolvingUtilizationOfUnsecuredLines      150000 non-null  float16 \n",
      " 1   DebtRatio                                 150000 non-null  float32 \n",
      " 2   MonthlyIncome                             150000 non-null  float32 \n",
      " 3   cat_RevolvingUtilizationOfUnsecuredLines  150000 non-null  category\n",
      " 4   cat_DebtRatio                             150000 non-null  category\n",
      " 5   cat_MonthlyIncome                         150000 non-null  category\n",
      " 6   NumberOfDependents                        150000 non-null  float16 \n",
      " 7   NumberOfTime60-89DaysPastDueNotWorse      150000 non-null  int8    \n",
      " 8   NumberRealEstateLoansOrLines              150000 non-null  int8    \n",
      " 9   NumberOfTimes90DaysLate                   150000 non-null  int8    \n",
      " 10  NumberOfOpenCreditLinesAndLoans           150000 non-null  int8    \n",
      " 11  NumberOfTime30-59DaysPastDueNotWorse      150000 non-null  int8    \n",
      " 12  age                                       150000 non-null  int8    \n",
      " 13  cat_NumberOfDependents                    150000 non-null  category\n",
      " 14  cat_NumberOfTime60-89DaysPastDueNotWorse  150000 non-null  category\n",
      " 15  cat_NumberRealEstateLoansOrLines          150000 non-null  category\n",
      " 16  cat_NumberOfTimes90DaysLate               150000 non-null  category\n",
      " 17  cat_NumberOfOpenCreditLinesAndLoans       150000 non-null  category\n",
      " 18  cat_NumberOfTime30-59DaysPastDueNotWorse  150000 non-null  category\n",
      " 19  cat_age                                   150000 non-null  category\n",
      "dtypes: category(10), float16(2), float32(2), int8(6)\n",
      "memory usage: 4.0 MB\n"
     ]
    }
   ],
   "source": [
    "X.info()"
   ]
  },
  {
   "cell_type": "markdown",
   "id": "8e0b0d94",
   "metadata": {
    "papermill": {
     "duration": 0.045631,
     "end_time": "2021-12-23T18:02:47.876794",
     "exception": false,
     "start_time": "2021-12-23T18:02:47.831163",
     "status": "completed"
    },
    "tags": []
   },
   "source": [
    "# Features Engineer"
   ]
  },
  {
   "cell_type": "code",
   "execution_count": 20,
   "id": "6ce7d3a7",
   "metadata": {
    "execution": {
     "iopub.execute_input": "2021-12-23T18:02:47.978612Z",
     "iopub.status.busy": "2021-12-23T18:02:47.977799Z",
     "iopub.status.idle": "2021-12-23T18:02:47.979826Z",
     "shell.execute_reply": "2021-12-23T18:02:47.980199Z"
    },
    "papermill": {
     "duration": 0.0573,
     "end_time": "2021-12-23T18:02:47.980329",
     "exception": false,
     "start_time": "2021-12-23T18:02:47.923029",
     "status": "completed"
    },
    "tags": []
   },
   "outputs": [],
   "source": [
    "def feature_eng(df):\n",
    "    \n",
    "    df['Weighted_Sum_PastDue'] = 2 * df['NumberOfTime30-59DaysPastDueNotWorse'] + 3 * df['NumberOfTime60-89DaysPastDueNotWorse'] + 6 * df['NumberOfTimes90DaysLate']\n",
    "    \n",
    "    df['90days_out_of_TotalPastDue'] = df['NumberOfTimes90DaysLate'] / (df['Weighted_Sum_PastDue'])\n",
    "    df.loc[df['Weighted_Sum_PastDue']==0, '90days_out_of_TotalPastDue'] = 0\n",
    "   \n",
    "    df['RemainingLines'] = df['NumberOfOpenCreditLinesAndLoans'] - df['NumberRealEstateLoansOrLines']\n",
    "\n",
    "    df['Loans_vs_Other_Lines'] = df['RemainingLines'] / (1 + df['NumberRealEstateLoansOrLines'])\n",
    "\n",
    "    df['Debt_per_Real_Estate_Loan'] = df['DebtRatio'] / df['NumberRealEstateLoansOrLines']\n",
    "    df.loc[df['NumberRealEstateLoansOrLines']==0, 'Debt_per_Real_Estate_Loan'] = 0\n",
    "\n",
    "    df['Disposable_Income_per_person'] = (df['MonthlyIncome'] - df['DebtRatio']) / (df['NumberOfDependents'] + 1)\n",
    "    df.loc[df['NumberOfDependents']==0, 'Disposable_Income_per_person'] = 0\n",
    "\n",
    "    df['RemainingLines_per_person'] = df['RemainingLines'] / (df['NumberOfDependents'] + 1)\n",
    "\n",
    "    df['NumberRE_X_DebtRatio_X_age'] = df['NumberRealEstateLoansOrLines'] * df['DebtRatio'] / df['age']\n",
    "\n",
    "    df['RevolvingUtilization_per_age'] = df['RevolvingUtilizationOfUnsecuredLines'] / df['age']\n",
    "\n",
    "    #df.drop(['MonthlyIncome', 'NumberRealEstateLoansOrLines'], axis=1, inplace=True)\n",
    "    df[df==np.inf]=np.nan\n",
    "    #df.fillna(df.median(), inplace=True)\n",
    "    #credit:https://www.kaggle.com/jamesngoa/credit-scoring-feature-eng-and-prediction-0-8674\n",
    "    return df"
   ]
  },
  {
   "cell_type": "code",
   "execution_count": 21,
   "id": "ff142619",
   "metadata": {
    "execution": {
     "iopub.execute_input": "2021-12-23T18:02:48.078204Z",
     "iopub.status.busy": "2021-12-23T18:02:48.077443Z",
     "iopub.status.idle": "2021-12-23T18:02:48.226479Z",
     "shell.execute_reply": "2021-12-23T18:02:48.227068Z"
    },
    "papermill": {
     "duration": 0.200698,
     "end_time": "2021-12-23T18:02:48.227259",
     "exception": false,
     "start_time": "2021-12-23T18:02:48.026561",
     "status": "completed"
    },
    "tags": []
   },
   "outputs": [
    {
     "name": "stdout",
     "output_type": "stream",
     "text": [
      "Memory usage of dataframe is 8.87 MB\n",
      "Memory usage after optimization is: 6.87 MB\n",
      "Decreased by 22.6%\n",
      "Memory usage of dataframe is 6.01 MB\n",
      "Memory usage after optimization is: 4.65 MB\n",
      "Decreased by 22.6%\n"
     ]
    }
   ],
   "source": [
    "X_new=X.copy()\n",
    "X_new=feature_eng(X_new)\n",
    "X_test_final_new=X_test_final.copy()\n",
    "X_test_final_new=feature_eng(X_test_final_new)\n",
    "X_new= reduce_mem_usage(X_new)\n",
    "X_test_final_new= reduce_mem_usage(X_test_final_new)"
   ]
  },
  {
   "cell_type": "code",
   "execution_count": 22,
   "id": "de6f5255",
   "metadata": {
    "execution": {
     "iopub.execute_input": "2021-12-23T18:02:48.332801Z",
     "iopub.status.busy": "2021-12-23T18:02:48.331918Z",
     "iopub.status.idle": "2021-12-23T18:02:48.334069Z",
     "shell.execute_reply": "2021-12-23T18:02:48.334530Z"
    },
    "papermill": {
     "duration": 0.056842,
     "end_time": "2021-12-23T18:02:48.334691",
     "exception": false,
     "start_time": "2021-12-23T18:02:48.277849",
     "status": "completed"
    },
    "tags": []
   },
   "outputs": [],
   "source": [
    "del train\n",
    "del test \n",
    "del train_final\n",
    "del test_final"
   ]
  },
  {
   "cell_type": "markdown",
   "id": "c4843354",
   "metadata": {
    "papermill": {
     "duration": 0.047536,
     "end_time": "2021-12-23T18:02:48.432636",
     "exception": false,
     "start_time": "2021-12-23T18:02:48.385100",
     "status": "completed"
    },
    "tags": []
   },
   "source": [
    "\n",
    "## Drop NAN "
   ]
  },
  {
   "cell_type": "code",
   "execution_count": 23,
   "id": "1daaef9d",
   "metadata": {
    "execution": {
     "iopub.execute_input": "2021-12-23T18:02:48.534088Z",
     "iopub.status.busy": "2021-12-23T18:02:48.533312Z",
     "iopub.status.idle": "2021-12-23T18:02:48.634358Z",
     "shell.execute_reply": "2021-12-23T18:02:48.633456Z"
    },
    "papermill": {
     "duration": 0.154258,
     "end_time": "2021-12-23T18:02:48.634505",
     "exception": false,
     "start_time": "2021-12-23T18:02:48.480247",
     "status": "completed"
    },
    "tags": []
   },
   "outputs": [],
   "source": [
    "X_new=X.copy()\n",
    "X_new=feature_eng(X_new)\n",
    "X_test_final_new=X_test_final.copy()\n",
    "X_test_final_new=feature_eng(X_test_final)\n",
    "X_without_missing=X.drop(['MonthlyIncome', 'NumberOfDependents'], axis=1)\n",
    "X_new_without_missing=X_new.drop(['MonthlyIncome', 'NumberOfDependents'], axis=1)\n",
    "X_test_final_without_missing=X_test_final.drop(['MonthlyIncome', 'NumberOfDependents'], axis=1)\n",
    "X_test_final_new_without_missing=X_test_final_new.drop(['MonthlyIncome', 'NumberOfDependents'], axis=1)"
   ]
  },
  {
   "cell_type": "markdown",
   "id": "29571877",
   "metadata": {
    "papermill": {
     "duration": 0.046797,
     "end_time": "2021-12-23T18:02:48.729137",
     "exception": false,
     "start_time": "2021-12-23T18:02:48.682340",
     "status": "completed"
    },
    "tags": []
   },
   "source": [
    "# Extract final cat  and num Features \n",
    "## Cat Features "
   ]
  },
  {
   "cell_type": "code",
   "execution_count": 24,
   "id": "6678061c",
   "metadata": {
    "execution": {
     "iopub.execute_input": "2021-12-23T18:02:48.833230Z",
     "iopub.status.busy": "2021-12-23T18:02:48.832391Z",
     "iopub.status.idle": "2021-12-23T18:02:48.844806Z",
     "shell.execute_reply": "2021-12-23T18:02:48.844350Z"
    },
    "papermill": {
     "duration": 0.068865,
     "end_time": "2021-12-23T18:02:48.844925",
     "exception": false,
     "start_time": "2021-12-23T18:02:48.776060",
     "status": "completed"
    },
    "tags": []
   },
   "outputs": [
    {
     "data": {
      "text/plain": [
       "Index(['cat_RevolvingUtilizationOfUnsecuredLines', 'cat_DebtRatio',\n",
       "       'cat_MonthlyIncome', 'cat_NumberOfDependents',\n",
       "       'cat_NumberOfTime60-89DaysPastDueNotWorse',\n",
       "       'cat_NumberRealEstateLoansOrLines', 'cat_NumberOfTimes90DaysLate',\n",
       "       'cat_NumberOfOpenCreditLinesAndLoans',\n",
       "       'cat_NumberOfTime30-59DaysPastDueNotWorse', 'cat_age'],\n",
       "      dtype='object')"
      ]
     },
     "execution_count": 24,
     "metadata": {},
     "output_type": "execute_result"
    }
   ],
   "source": [
    "# select non-numeric columns\n",
    "cat_columns = X.select_dtypes(exclude=['int64','int16','float16','float32','float64','int8']).columns\n",
    "cat_columns_new = X_new.select_dtypes(exclude=['int64','int16','float16','float32','float64','int8']).columns\n",
    "cat_columns_without_missing = X_without_missing.select_dtypes(exclude=['int64','int16','float16','float32','float64','int8']).columns\n",
    "cat_columns_new_without_missing  = X_new_without_missing.select_dtypes(exclude=['int64','int16','float16','float32','float64','int8']).columns\n",
    "cat_columns_new_without_missing"
   ]
  },
  {
   "cell_type": "markdown",
   "id": "fc427eda",
   "metadata": {
    "papermill": {
     "duration": 0.047295,
     "end_time": "2021-12-23T18:02:48.939618",
     "exception": false,
     "start_time": "2021-12-23T18:02:48.892323",
     "status": "completed"
    },
    "tags": []
   },
   "source": [
    "**Num Features**\n",
    "\n"
   ]
  },
  {
   "cell_type": "code",
   "execution_count": 25,
   "id": "26b22637",
   "metadata": {
    "execution": {
     "iopub.execute_input": "2021-12-23T18:02:49.042883Z",
     "iopub.status.busy": "2021-12-23T18:02:49.042160Z",
     "iopub.status.idle": "2021-12-23T18:02:49.061104Z",
     "shell.execute_reply": "2021-12-23T18:02:49.060669Z"
    },
    "papermill": {
     "duration": 0.074452,
     "end_time": "2021-12-23T18:02:49.061211",
     "exception": false,
     "start_time": "2021-12-23T18:02:48.986759",
     "status": "completed"
    },
    "tags": []
   },
   "outputs": [
    {
     "data": {
      "text/plain": [
       "Index(['RevolvingUtilizationOfUnsecuredLines', 'DebtRatio',\n",
       "       'NumberOfTime60-89DaysPastDueNotWorse', 'NumberRealEstateLoansOrLines',\n",
       "       'NumberOfTimes90DaysLate', 'NumberOfOpenCreditLinesAndLoans',\n",
       "       'NumberOfTime30-59DaysPastDueNotWorse', 'age', 'Weighted_Sum_PastDue',\n",
       "       '90days_out_of_TotalPastDue', 'RemainingLines', 'Loans_vs_Other_Lines',\n",
       "       'Debt_per_Real_Estate_Loan', 'Disposable_Income_per_person',\n",
       "       'RemainingLines_per_person', 'NumberRE_X_DebtRatio_X_age',\n",
       "       'RevolvingUtilization_per_age'],\n",
       "      dtype='object')"
      ]
     },
     "execution_count": 25,
     "metadata": {},
     "output_type": "execute_result"
    }
   ],
   "source": [
    "# select the float columns\n",
    "num_columns = X.select_dtypes(include=['int64','int16','float16','float32','float64','int8']).columns\n",
    "num_columns_new = X_new.select_dtypes(include=['int64','int16','float16','float32','float64','int8']).columns\n",
    "num_columns_without_missing = X_without_missing.select_dtypes(include=['int64','int16','float16','float32','float64','int8']).columns\n",
    "num_columns_new_without_missing = X_new_without_missing.select_dtypes(include=['int64','int16','float16','float32','float64','int8']).columns\n",
    "num_columns_new_without_missing"
   ]
  },
  {
   "cell_type": "markdown",
   "id": "834c7af6",
   "metadata": {
    "papermill": {
     "duration": 0.047637,
     "end_time": "2021-12-23T18:02:49.156790",
     "exception": false,
     "start_time": "2021-12-23T18:02:49.109153",
     "status": "completed"
    },
    "tags": []
   },
   "source": [
    "# Outlier handle:\n"
   ]
  },
  {
   "cell_type": "code",
   "execution_count": 26,
   "id": "afa78ccb",
   "metadata": {
    "execution": {
     "iopub.execute_input": "2021-12-23T18:02:49.258868Z",
     "iopub.status.busy": "2021-12-23T18:02:49.258106Z",
     "iopub.status.idle": "2021-12-23T18:02:49.260028Z",
     "shell.execute_reply": "2021-12-23T18:02:49.260388Z"
    },
    "papermill": {
     "duration": 0.056313,
     "end_time": "2021-12-23T18:02:49.260527",
     "exception": false,
     "start_time": "2021-12-23T18:02:49.204214",
     "status": "completed"
    },
    "tags": []
   },
   "outputs": [],
   "source": [
    "# Outlier Handle \n",
    "class OutlierReplace(BaseEstimator,TransformerMixin):\n",
    "    def __init__(self,factor=1.5):\n",
    "        self.factor = factor\n",
    "\n",
    "    def outlier_removal(self,X,y=None):\n",
    "        X = pd.Series(X).copy()\n",
    "        #qmin=X.quantile(0.01)\n",
    "        qmax=X.quantile(0.995)\n",
    "        #q1 = X.quantile(0.25)\n",
    "        #q3 = X.quantile(0.75)\n",
    "        #iqr = q3 - q1\n",
    "        #lower_bound = q1 - (self.factor * iqr)\n",
    "        #upper_bound = q3 + (self.factor * iqr)\n",
    "        upper_bound = X.quantile(0.995)\n",
    "        #X.loc[((X < lower_bound) | (X > upper_bound))] = np.nan \n",
    "        #X.loc[X < lower_bound] = qmin\n",
    "        X.loc[X > upper_bound] = qmax\n",
    "        return pd.Series(X)\n",
    "\n",
    "    def fit(self,X,y=None):\n",
    "        return self\n",
    "\n",
    "    def transform(self,X,y=None):\n",
    "        return X.apply(self.outlier_removal) "
   ]
  },
  {
   "cell_type": "markdown",
   "id": "e55eedf3",
   "metadata": {
    "papermill": {
     "duration": 0.047932,
     "end_time": "2021-12-23T18:02:49.356114",
     "exception": false,
     "start_time": "2021-12-23T18:02:49.308182",
     "status": "completed"
    },
    "tags": []
   },
   "source": [
    "# Baseline  Pipe0:OWE+Powertransformer"
   ]
  },
  {
   "cell_type": "code",
   "execution_count": 27,
   "id": "1690f3e0",
   "metadata": {
    "execution": {
     "iopub.execute_input": "2021-12-23T18:02:49.464388Z",
     "iopub.status.busy": "2021-12-23T18:02:49.463768Z",
     "iopub.status.idle": "2021-12-23T18:02:50.103390Z",
     "shell.execute_reply": "2021-12-23T18:02:50.104135Z"
    },
    "papermill": {
     "duration": 0.700216,
     "end_time": "2021-12-23T18:02:50.104336",
     "exception": false,
     "start_time": "2021-12-23T18:02:49.404120",
     "status": "completed"
    },
    "tags": []
   },
   "outputs": [
    {
     "data": {
      "text/html": [
       "<style>div.sk-top-container {color: black;background-color: white;}div.sk-toggleable {background-color: white;}label.sk-toggleable__label {cursor: pointer;display: block;width: 100%;margin-bottom: 0;padding: 0.2em 0.3em;box-sizing: border-box;text-align: center;}div.sk-toggleable__content {max-height: 0;max-width: 0;overflow: hidden;text-align: left;background-color: #f0f8ff;}div.sk-toggleable__content pre {margin: 0.2em;color: black;border-radius: 0.25em;background-color: #f0f8ff;}input.sk-toggleable__control:checked~div.sk-toggleable__content {max-height: 200px;max-width: 100%;overflow: auto;}div.sk-estimator input.sk-toggleable__control:checked~label.sk-toggleable__label {background-color: #d4ebff;}div.sk-label input.sk-toggleable__control:checked~label.sk-toggleable__label {background-color: #d4ebff;}input.sk-hidden--visually {border: 0;clip: rect(1px 1px 1px 1px);clip: rect(1px, 1px, 1px, 1px);height: 1px;margin: -1px;overflow: hidden;padding: 0;position: absolute;width: 1px;}div.sk-estimator {font-family: monospace;background-color: #f0f8ff;margin: 0.25em 0.25em;border: 1px dotted black;border-radius: 0.25em;box-sizing: border-box;}div.sk-estimator:hover {background-color: #d4ebff;}div.sk-parallel-item::after {content: \"\";width: 100%;border-bottom: 1px solid gray;flex-grow: 1;}div.sk-label:hover label.sk-toggleable__label {background-color: #d4ebff;}div.sk-serial::before {content: \"\";position: absolute;border-left: 1px solid gray;box-sizing: border-box;top: 2em;bottom: 0;left: 50%;}div.sk-serial {display: flex;flex-direction: column;align-items: center;background-color: white;}div.sk-item {z-index: 1;}div.sk-parallel {display: flex;align-items: stretch;justify-content: center;background-color: white;}div.sk-parallel-item {display: flex;flex-direction: column;position: relative;background-color: white;}div.sk-parallel-item:first-child::after {align-self: flex-end;width: 50%;}div.sk-parallel-item:last-child::after {align-self: flex-start;width: 50%;}div.sk-parallel-item:only-child::after {width: 0;}div.sk-dashed-wrapped {border: 1px dashed gray;margin: 0.2em;box-sizing: border-box;padding-bottom: 0.1em;background-color: white;position: relative;}div.sk-label label {font-family: monospace;font-weight: bold;background-color: white;display: inline-block;line-height: 1.2em;}div.sk-label-container {position: relative;z-index: 2;text-align: center;}div.sk-container {display: inline-block;position: relative;}</style><div class=\"sk-top-container\"><div class=\"sk-container\"><div class=\"sk-item sk-dashed-wrapped\"><div class=\"sk-label-container\"><div class=\"sk-label sk-toggleable\"><input class=\"sk-toggleable__control sk-hidden--visually\" id=\"0a416259-61fd-49c0-9595-b38893503cfc\" type=\"checkbox\" ><label class=\"sk-toggleable__label\" for=\"0a416259-61fd-49c0-9595-b38893503cfc\">Pipeline</label><div class=\"sk-toggleable__content\"><pre>Pipeline(steps=[('preprocessor',\n",
       "                 ColumnTransformer(transformers=[('numerical',\n",
       "                                                  Pipeline(steps=[('imputer',\n",
       "                                                                   SimpleImputer(add_indicator=True,\n",
       "                                                                                 strategy='median')),\n",
       "                                                                  ('scaler',\n",
       "                                                                   PowerTransformer()),\n",
       "                                                                  ('reducedim',\n",
       "                                                                   SelectPercentile(percentile=90))]),\n",
       "                                                  Index(['RevolvingUtilizationOfUnsecuredLines', 'DebtRatio', 'MonthlyIncome',\n",
       "       'NumberOfDependents', 'NumberOfTime60-89Da...\n",
       "       'cat_NumberRealEstateLoansOrLines', 'cat_NumberOfTimes90DaysLate',\n",
       "       'cat_NumberOfOpenCreditLinesAndLoans',\n",
       "       'cat_NumberOfTime30-59DaysPastDueNotWorse', 'cat_age'],\n",
       "      dtype='object'))])),\n",
       "                ('classifier',\n",
       "                 LGBMClassifier(device_type='gpu',\n",
       "                                learning_rate=0.0018069834369607075,\n",
       "                                max_depth=8, metric='auc', min_samples_leaf=47,\n",
       "                                n_estimators=5000, random_state=42,\n",
       "                                subsample=0.8573598985000007, verbose=-1))])</pre></div></div></div><div class=\"sk-serial\"><div class=\"sk-item sk-dashed-wrapped\"><div class=\"sk-label-container\"><div class=\"sk-label sk-toggleable\"><input class=\"sk-toggleable__control sk-hidden--visually\" id=\"c5a30342-f3b7-4497-b425-dcb705af2557\" type=\"checkbox\" ><label class=\"sk-toggleable__label\" for=\"c5a30342-f3b7-4497-b425-dcb705af2557\">preprocessor: ColumnTransformer</label><div class=\"sk-toggleable__content\"><pre>ColumnTransformer(transformers=[('numerical',\n",
       "                                 Pipeline(steps=[('imputer',\n",
       "                                                  SimpleImputer(add_indicator=True,\n",
       "                                                                strategy='median')),\n",
       "                                                 ('scaler', PowerTransformer()),\n",
       "                                                 ('reducedim',\n",
       "                                                  SelectPercentile(percentile=90))]),\n",
       "                                 Index(['RevolvingUtilizationOfUnsecuredLines', 'DebtRatio', 'MonthlyIncome',\n",
       "       'NumberOfDependents', 'NumberOfTime60-89DaysPastDueNotWorse',\n",
       "       'NumberRealEs...\n",
       "                                                                   score_func=<function mutual_info_classif at 0x7f91bccf5950>))]),\n",
       "                                 Index(['cat_RevolvingUtilizationOfUnsecuredLines', 'cat_DebtRatio',\n",
       "       'cat_MonthlyIncome', 'cat_NumberOfDependents',\n",
       "       'cat_NumberOfTime60-89DaysPastDueNotWorse',\n",
       "       'cat_NumberRealEstateLoansOrLines', 'cat_NumberOfTimes90DaysLate',\n",
       "       'cat_NumberOfOpenCreditLinesAndLoans',\n",
       "       'cat_NumberOfTime30-59DaysPastDueNotWorse', 'cat_age'],\n",
       "      dtype='object'))])</pre></div></div></div><div class=\"sk-parallel\"><div class=\"sk-parallel-item\"><div class=\"sk-item\"><div class=\"sk-label-container\"><div class=\"sk-label sk-toggleable\"><input class=\"sk-toggleable__control sk-hidden--visually\" id=\"b69f3adf-4a8a-407f-ad94-9d8ec193025a\" type=\"checkbox\" ><label class=\"sk-toggleable__label\" for=\"b69f3adf-4a8a-407f-ad94-9d8ec193025a\">numerical</label><div class=\"sk-toggleable__content\"><pre>Index(['RevolvingUtilizationOfUnsecuredLines', 'DebtRatio', 'MonthlyIncome',\n",
       "       'NumberOfDependents', 'NumberOfTime60-89DaysPastDueNotWorse',\n",
       "       'NumberRealEstateLoansOrLines', 'NumberOfTimes90DaysLate',\n",
       "       'NumberOfOpenCreditLinesAndLoans',\n",
       "       'NumberOfTime30-59DaysPastDueNotWorse', 'age'],\n",
       "      dtype='object')</pre></div></div></div><div class=\"sk-serial\"><div class=\"sk-item\"><div class=\"sk-serial\"><div class=\"sk-item\"><div class=\"sk-estimator sk-toggleable\"><input class=\"sk-toggleable__control sk-hidden--visually\" id=\"646b9e65-dbbf-412c-861c-267f24832e56\" type=\"checkbox\" ><label class=\"sk-toggleable__label\" for=\"646b9e65-dbbf-412c-861c-267f24832e56\">SimpleImputer</label><div class=\"sk-toggleable__content\"><pre>SimpleImputer(add_indicator=True, strategy='median')</pre></div></div></div><div class=\"sk-item\"><div class=\"sk-estimator sk-toggleable\"><input class=\"sk-toggleable__control sk-hidden--visually\" id=\"99e7cec9-f579-4eec-857e-e855ef9bf47f\" type=\"checkbox\" ><label class=\"sk-toggleable__label\" for=\"99e7cec9-f579-4eec-857e-e855ef9bf47f\">PowerTransformer</label><div class=\"sk-toggleable__content\"><pre>PowerTransformer()</pre></div></div></div><div class=\"sk-item\"><div class=\"sk-estimator sk-toggleable\"><input class=\"sk-toggleable__control sk-hidden--visually\" id=\"e456c3d5-51c3-46cc-aeb0-c2bb2f81fda5\" type=\"checkbox\" ><label class=\"sk-toggleable__label\" for=\"e456c3d5-51c3-46cc-aeb0-c2bb2f81fda5\">SelectPercentile</label><div class=\"sk-toggleable__content\"><pre>SelectPercentile(percentile=90)</pre></div></div></div></div></div></div></div></div><div class=\"sk-parallel-item\"><div class=\"sk-item\"><div class=\"sk-label-container\"><div class=\"sk-label sk-toggleable\"><input class=\"sk-toggleable__control sk-hidden--visually\" id=\"2b4cd2f8-d15a-47db-8758-3ca252d0c4b1\" type=\"checkbox\" ><label class=\"sk-toggleable__label\" for=\"2b4cd2f8-d15a-47db-8758-3ca252d0c4b1\">categorical</label><div class=\"sk-toggleable__content\"><pre>Index(['cat_RevolvingUtilizationOfUnsecuredLines', 'cat_DebtRatio',\n",
       "       'cat_MonthlyIncome', 'cat_NumberOfDependents',\n",
       "       'cat_NumberOfTime60-89DaysPastDueNotWorse',\n",
       "       'cat_NumberRealEstateLoansOrLines', 'cat_NumberOfTimes90DaysLate',\n",
       "       'cat_NumberOfOpenCreditLinesAndLoans',\n",
       "       'cat_NumberOfTime30-59DaysPastDueNotWorse', 'cat_age'],\n",
       "      dtype='object')</pre></div></div></div><div class=\"sk-serial\"><div class=\"sk-item\"><div class=\"sk-serial\"><div class=\"sk-item\"><div class=\"sk-estimator sk-toggleable\"><input class=\"sk-toggleable__control sk-hidden--visually\" id=\"4204fb0a-ebd4-4997-a31d-82d4162f930b\" type=\"checkbox\" ><label class=\"sk-toggleable__label\" for=\"4204fb0a-ebd4-4997-a31d-82d4162f930b\">SimpleImputer</label><div class=\"sk-toggleable__content\"><pre>SimpleImputer(add_indicator=True, fill_value='missing',\n",
       "              strategy='most_frequent')</pre></div></div></div><div class=\"sk-item\"><div class=\"sk-estimator sk-toggleable\"><input class=\"sk-toggleable__control sk-hidden--visually\" id=\"c9133180-dde4-4281-9909-7b8e6e21e4d2\" type=\"checkbox\" ><label class=\"sk-toggleable__label\" for=\"c9133180-dde4-4281-9909-7b8e6e21e4d2\">WOEEncoder</label><div class=\"sk-toggleable__content\"><pre>WOEEncoder()</pre></div></div></div><div class=\"sk-item\"><div class=\"sk-estimator sk-toggleable\"><input class=\"sk-toggleable__control sk-hidden--visually\" id=\"73ce80f9-80f1-4f86-b5fe-e7c027143beb\" type=\"checkbox\" ><label class=\"sk-toggleable__label\" for=\"73ce80f9-80f1-4f86-b5fe-e7c027143beb\">SelectPercentile</label><div class=\"sk-toggleable__content\"><pre>SelectPercentile(percentile=90,\n",
       "                 score_func=<function mutual_info_classif at 0x7f91bccf5950>)</pre></div></div></div></div></div></div></div></div></div></div><div class=\"sk-item\"><div class=\"sk-estimator sk-toggleable\"><input class=\"sk-toggleable__control sk-hidden--visually\" id=\"64685d84-3590-4e26-8a2c-d52d11c74e6e\" type=\"checkbox\" ><label class=\"sk-toggleable__label\" for=\"64685d84-3590-4e26-8a2c-d52d11c74e6e\">LGBMClassifier</label><div class=\"sk-toggleable__content\"><pre>LGBMClassifier(device_type='gpu', learning_rate=0.0018069834369607075,\n",
       "               max_depth=8, metric='auc', min_samples_leaf=47,\n",
       "               n_estimators=5000, random_state=42, subsample=0.8573598985000007,\n",
       "               verbose=-1)</pre></div></div></div></div></div></div></div>"
      ],
      "text/plain": [
       "Pipeline(steps=[('preprocessor',\n",
       "                 ColumnTransformer(transformers=[('numerical',\n",
       "                                                  Pipeline(steps=[('imputer',\n",
       "                                                                   SimpleImputer(add_indicator=True,\n",
       "                                                                                 strategy='median')),\n",
       "                                                                  ('scaler',\n",
       "                                                                   PowerTransformer()),\n",
       "                                                                  ('reducedim',\n",
       "                                                                   SelectPercentile(percentile=90))]),\n",
       "                                                  Index(['RevolvingUtilizationOfUnsecuredLines', 'DebtRatio', 'MonthlyIncome',\n",
       "       'NumberOfDependents', 'NumberOfTime60-89Da...\n",
       "       'cat_NumberRealEstateLoansOrLines', 'cat_NumberOfTimes90DaysLate',\n",
       "       'cat_NumberOfOpenCreditLinesAndLoans',\n",
       "       'cat_NumberOfTime30-59DaysPastDueNotWorse', 'cat_age'],\n",
       "      dtype='object'))])),\n",
       "                ('classifier',\n",
       "                 LGBMClassifier(device_type='gpu',\n",
       "                                learning_rate=0.0018069834369607075,\n",
       "                                max_depth=8, metric='auc', min_samples_leaf=47,\n",
       "                                n_estimators=5000, random_state=42,\n",
       "                                subsample=0.8573598985000007, verbose=-1))])"
      ]
     },
     "execution_count": 27,
     "metadata": {},
     "output_type": "execute_result"
    }
   ],
   "source": [
    "# Cat pipeline\n",
    "#https://www.kaggle.com/subinium/11-categorical-encoders-and-benchmark\n",
    "categorical_transformer = Pipeline(\n",
    "                    steps=[\n",
    "                        ('imputer', SimpleImputer(strategy='most_frequent',\n",
    "                                                  fill_value='missing',\n",
    "                                                  add_indicator=True)),\n",
    "                        ('encoder',  ce.woe.WOEEncoder()),#(Numerical Input, Categorical Output)\n",
    "                         ('reducedim',  SelectPercentile( mutual_info_classif, percentile=90))\n",
    "\n",
    "                    ]\n",
    "                    ) \n",
    "#Define vnum pipeline\n",
    "numeric_transformer = Pipeline(\n",
    "                            steps=[\n",
    "                            ('imputer', SimpleImputer(strategy='median'\n",
    "                                                      ,add_indicator=True)),\n",
    "                            ('scaler', PowerTransformer()),#(Numerical Input, Numerical Output)\n",
    "                            # Create an SelectKBest object to select features with two best ANOVA F-Values\n",
    "                            #The F-value scores examine if, when we group the numerical feature by the target vector, the means for each group are significantly different\n",
    "                            ('reducedim',  SelectPercentile(f_classif,percentile=90))\n",
    "                            ]\n",
    "                            )\n",
    "# Features union cat + num \n",
    "# WOE+PowerTransformer\n",
    "preprocessor_woe_powertransformer = ColumnTransformer(\n",
    "            transformers=[\n",
    "                ('numerical', numeric_transformer, num_columns),\n",
    "                ('categorical', categorical_transformer, cat_columns)\n",
    "            ]\n",
    "            )\n",
    "lgbm_param={'learning_rate': 0.0018069834369607075,\n",
    "                             'max_depth': 8,\n",
    "                             #'max_features': 4,\n",
    "                             'min_samples_leaf': 47,\n",
    "                             #'min_samples_split': 389,\n",
    "                             'subsample': 0.8573598985000007,\n",
    "                             #'n_iter_no_change': 300,\n",
    "                             'n_estimators': 5000,\n",
    "                            # 'verbose': 0,\n",
    "                             'random_state': 42,\n",
    "                             'metric': 'auc',\n",
    "                             \"device_type\" : \"gpu\",\n",
    "                            'boosting_type': 'gbdt',\n",
    "                           # 'tree_method': \"gpu_hist\"\n",
    "                           }\n",
    "pipe_lgbm_woe_powertransformer = Pipeline(\n",
    "    steps=[\n",
    "        ('preprocessor', preprocessor_woe_powertransformer),\n",
    "        ('classifier', lgbm.LGBMClassifier( \n",
    "            #n_jobs=-1,\n",
    "                                           verbose=-1,\n",
    "                                           **lgbm_param))\n",
    "    ]\n",
    ")\n",
    "pipe_lgbm_woe_powertransformer"
   ]
  },
  {
   "cell_type": "markdown",
   "id": "e70240b3",
   "metadata": {
    "execution": {
     "iopub.execute_input": "2021-12-19T13:04:51.69428Z",
     "iopub.status.busy": "2021-12-19T13:04:51.693953Z",
     "iopub.status.idle": "2021-12-19T13:04:51.697766Z",
     "shell.execute_reply": "2021-12-19T13:04:51.697057Z",
     "shell.execute_reply.started": "2021-12-19T13:04:51.694242Z"
    },
    "papermill": {
     "duration": 0.069927,
     "end_time": "2021-12-23T18:02:50.257440",
     "exception": false,
     "start_time": "2021-12-23T18:02:50.187513",
     "status": "completed"
    },
    "tags": []
   },
   "source": [
    "## Add outlier Handle:outlier+woe+powertransormer "
   ]
  },
  {
   "cell_type": "code",
   "execution_count": 28,
   "id": "cc2987bb",
   "metadata": {
    "execution": {
     "iopub.execute_input": "2021-12-23T18:02:50.394580Z",
     "iopub.status.busy": "2021-12-23T18:02:50.389441Z",
     "iopub.status.idle": "2021-12-23T18:02:50.839404Z",
     "shell.execute_reply": "2021-12-23T18:02:50.839836Z"
    },
    "papermill": {
     "duration": 0.53375,
     "end_time": "2021-12-23T18:02:50.839981",
     "exception": false,
     "start_time": "2021-12-23T18:02:50.306231",
     "status": "completed"
    },
    "tags": []
   },
   "outputs": [
    {
     "data": {
      "text/html": [
       "<style>div.sk-top-container {color: black;background-color: white;}div.sk-toggleable {background-color: white;}label.sk-toggleable__label {cursor: pointer;display: block;width: 100%;margin-bottom: 0;padding: 0.2em 0.3em;box-sizing: border-box;text-align: center;}div.sk-toggleable__content {max-height: 0;max-width: 0;overflow: hidden;text-align: left;background-color: #f0f8ff;}div.sk-toggleable__content pre {margin: 0.2em;color: black;border-radius: 0.25em;background-color: #f0f8ff;}input.sk-toggleable__control:checked~div.sk-toggleable__content {max-height: 200px;max-width: 100%;overflow: auto;}div.sk-estimator input.sk-toggleable__control:checked~label.sk-toggleable__label {background-color: #d4ebff;}div.sk-label input.sk-toggleable__control:checked~label.sk-toggleable__label {background-color: #d4ebff;}input.sk-hidden--visually {border: 0;clip: rect(1px 1px 1px 1px);clip: rect(1px, 1px, 1px, 1px);height: 1px;margin: -1px;overflow: hidden;padding: 0;position: absolute;width: 1px;}div.sk-estimator {font-family: monospace;background-color: #f0f8ff;margin: 0.25em 0.25em;border: 1px dotted black;border-radius: 0.25em;box-sizing: border-box;}div.sk-estimator:hover {background-color: #d4ebff;}div.sk-parallel-item::after {content: \"\";width: 100%;border-bottom: 1px solid gray;flex-grow: 1;}div.sk-label:hover label.sk-toggleable__label {background-color: #d4ebff;}div.sk-serial::before {content: \"\";position: absolute;border-left: 1px solid gray;box-sizing: border-box;top: 2em;bottom: 0;left: 50%;}div.sk-serial {display: flex;flex-direction: column;align-items: center;background-color: white;}div.sk-item {z-index: 1;}div.sk-parallel {display: flex;align-items: stretch;justify-content: center;background-color: white;}div.sk-parallel-item {display: flex;flex-direction: column;position: relative;background-color: white;}div.sk-parallel-item:first-child::after {align-self: flex-end;width: 50%;}div.sk-parallel-item:last-child::after {align-self: flex-start;width: 50%;}div.sk-parallel-item:only-child::after {width: 0;}div.sk-dashed-wrapped {border: 1px dashed gray;margin: 0.2em;box-sizing: border-box;padding-bottom: 0.1em;background-color: white;position: relative;}div.sk-label label {font-family: monospace;font-weight: bold;background-color: white;display: inline-block;line-height: 1.2em;}div.sk-label-container {position: relative;z-index: 2;text-align: center;}div.sk-container {display: inline-block;position: relative;}</style><div class=\"sk-top-container\"><div class=\"sk-container\"><div class=\"sk-item sk-dashed-wrapped\"><div class=\"sk-label-container\"><div class=\"sk-label sk-toggleable\"><input class=\"sk-toggleable__control sk-hidden--visually\" id=\"399456c7-a98f-41fa-b9e9-cd2fc3d423a4\" type=\"checkbox\" ><label class=\"sk-toggleable__label\" for=\"399456c7-a98f-41fa-b9e9-cd2fc3d423a4\">Pipeline</label><div class=\"sk-toggleable__content\"><pre>Pipeline(steps=[('preprocessor',\n",
       "                 ColumnTransformer(transformers=[('numerical',\n",
       "                                                  Pipeline(steps=[('outlierhandle',\n",
       "                                                                   OutlierReplace()),\n",
       "                                                                  ('imputer',\n",
       "                                                                   SimpleImputer(add_indicator=True,\n",
       "                                                                                 strategy='median')),\n",
       "                                                                  ('scaler',\n",
       "                                                                   PowerTransformer()),\n",
       "                                                                  ('reducedim',\n",
       "                                                                   SelectPercentile(percentile=90))]),\n",
       "                                                  Index(['RevolvingUtilizationOfUnsecuredLines', 'DebtRatio', 'MonthlyIncome',\n",
       "       'Numbe...\n",
       "       'cat_NumberRealEstateLoansOrLines', 'cat_NumberOfTimes90DaysLate',\n",
       "       'cat_NumberOfOpenCreditLinesAndLoans',\n",
       "       'cat_NumberOfTime30-59DaysPastDueNotWorse', 'cat_age'],\n",
       "      dtype='object'))])),\n",
       "                ('classifier',\n",
       "                 LGBMClassifier(device_type='gpu',\n",
       "                                learning_rate=0.0018069834369607075,\n",
       "                                max_depth=8, metric='auc', min_samples_leaf=47,\n",
       "                                n_estimators=5000, random_state=42,\n",
       "                                subsample=0.8573598985000007, verbose=-1))])</pre></div></div></div><div class=\"sk-serial\"><div class=\"sk-item sk-dashed-wrapped\"><div class=\"sk-label-container\"><div class=\"sk-label sk-toggleable\"><input class=\"sk-toggleable__control sk-hidden--visually\" id=\"fb6abbbf-b3b3-4454-8439-4c171f7bf898\" type=\"checkbox\" ><label class=\"sk-toggleable__label\" for=\"fb6abbbf-b3b3-4454-8439-4c171f7bf898\">preprocessor: ColumnTransformer</label><div class=\"sk-toggleable__content\"><pre>ColumnTransformer(transformers=[('numerical',\n",
       "                                 Pipeline(steps=[('outlierhandle',\n",
       "                                                  OutlierReplace()),\n",
       "                                                 ('imputer',\n",
       "                                                  SimpleImputer(add_indicator=True,\n",
       "                                                                strategy='median')),\n",
       "                                                 ('scaler', PowerTransformer()),\n",
       "                                                 ('reducedim',\n",
       "                                                  SelectPercentile(percentile=90))]),\n",
       "                                 Index(['RevolvingUtilizationOfUnsecuredLines', 'DebtRatio', 'MonthlyIncome',\n",
       "       'NumberOfDependents', 'NumberOfTime60-8...\n",
       "                                                                   score_func=<function mutual_info_classif at 0x7f91bccf5950>))]),\n",
       "                                 Index(['cat_RevolvingUtilizationOfUnsecuredLines', 'cat_DebtRatio',\n",
       "       'cat_MonthlyIncome', 'cat_NumberOfDependents',\n",
       "       'cat_NumberOfTime60-89DaysPastDueNotWorse',\n",
       "       'cat_NumberRealEstateLoansOrLines', 'cat_NumberOfTimes90DaysLate',\n",
       "       'cat_NumberOfOpenCreditLinesAndLoans',\n",
       "       'cat_NumberOfTime30-59DaysPastDueNotWorse', 'cat_age'],\n",
       "      dtype='object'))])</pre></div></div></div><div class=\"sk-parallel\"><div class=\"sk-parallel-item\"><div class=\"sk-item\"><div class=\"sk-label-container\"><div class=\"sk-label sk-toggleable\"><input class=\"sk-toggleable__control sk-hidden--visually\" id=\"05245348-4898-4248-bc3e-a818e11b19df\" type=\"checkbox\" ><label class=\"sk-toggleable__label\" for=\"05245348-4898-4248-bc3e-a818e11b19df\">numerical</label><div class=\"sk-toggleable__content\"><pre>Index(['RevolvingUtilizationOfUnsecuredLines', 'DebtRatio', 'MonthlyIncome',\n",
       "       'NumberOfDependents', 'NumberOfTime60-89DaysPastDueNotWorse',\n",
       "       'NumberRealEstateLoansOrLines', 'NumberOfTimes90DaysLate',\n",
       "       'NumberOfOpenCreditLinesAndLoans',\n",
       "       'NumberOfTime30-59DaysPastDueNotWorse', 'age'],\n",
       "      dtype='object')</pre></div></div></div><div class=\"sk-serial\"><div class=\"sk-item\"><div class=\"sk-serial\"><div class=\"sk-item\"><div class=\"sk-estimator sk-toggleable\"><input class=\"sk-toggleable__control sk-hidden--visually\" id=\"f9a4a889-4dee-4189-bad2-243284ea1fe9\" type=\"checkbox\" ><label class=\"sk-toggleable__label\" for=\"f9a4a889-4dee-4189-bad2-243284ea1fe9\">OutlierReplace</label><div class=\"sk-toggleable__content\"><pre>OutlierReplace()</pre></div></div></div><div class=\"sk-item\"><div class=\"sk-estimator sk-toggleable\"><input class=\"sk-toggleable__control sk-hidden--visually\" id=\"249eab72-b000-4cff-8e6c-49a4a6a7b7ee\" type=\"checkbox\" ><label class=\"sk-toggleable__label\" for=\"249eab72-b000-4cff-8e6c-49a4a6a7b7ee\">SimpleImputer</label><div class=\"sk-toggleable__content\"><pre>SimpleImputer(add_indicator=True, strategy='median')</pre></div></div></div><div class=\"sk-item\"><div class=\"sk-estimator sk-toggleable\"><input class=\"sk-toggleable__control sk-hidden--visually\" id=\"bd831ea9-9a70-49b8-b0d7-a62afeaaf94a\" type=\"checkbox\" ><label class=\"sk-toggleable__label\" for=\"bd831ea9-9a70-49b8-b0d7-a62afeaaf94a\">PowerTransformer</label><div class=\"sk-toggleable__content\"><pre>PowerTransformer()</pre></div></div></div><div class=\"sk-item\"><div class=\"sk-estimator sk-toggleable\"><input class=\"sk-toggleable__control sk-hidden--visually\" id=\"f6bf5887-ef44-4adb-8c35-a3cc32671384\" type=\"checkbox\" ><label class=\"sk-toggleable__label\" for=\"f6bf5887-ef44-4adb-8c35-a3cc32671384\">SelectPercentile</label><div class=\"sk-toggleable__content\"><pre>SelectPercentile(percentile=90)</pre></div></div></div></div></div></div></div></div><div class=\"sk-parallel-item\"><div class=\"sk-item\"><div class=\"sk-label-container\"><div class=\"sk-label sk-toggleable\"><input class=\"sk-toggleable__control sk-hidden--visually\" id=\"934483aa-3991-46b2-808e-a6f4de74494e\" type=\"checkbox\" ><label class=\"sk-toggleable__label\" for=\"934483aa-3991-46b2-808e-a6f4de74494e\">categorical</label><div class=\"sk-toggleable__content\"><pre>Index(['cat_RevolvingUtilizationOfUnsecuredLines', 'cat_DebtRatio',\n",
       "       'cat_MonthlyIncome', 'cat_NumberOfDependents',\n",
       "       'cat_NumberOfTime60-89DaysPastDueNotWorse',\n",
       "       'cat_NumberRealEstateLoansOrLines', 'cat_NumberOfTimes90DaysLate',\n",
       "       'cat_NumberOfOpenCreditLinesAndLoans',\n",
       "       'cat_NumberOfTime30-59DaysPastDueNotWorse', 'cat_age'],\n",
       "      dtype='object')</pre></div></div></div><div class=\"sk-serial\"><div class=\"sk-item\"><div class=\"sk-serial\"><div class=\"sk-item\"><div class=\"sk-estimator sk-toggleable\"><input class=\"sk-toggleable__control sk-hidden--visually\" id=\"02e7b232-f868-44a9-a09a-e623dc3b16e5\" type=\"checkbox\" ><label class=\"sk-toggleable__label\" for=\"02e7b232-f868-44a9-a09a-e623dc3b16e5\">SimpleImputer</label><div class=\"sk-toggleable__content\"><pre>SimpleImputer(add_indicator=True, fill_value='missing',\n",
       "              strategy='most_frequent')</pre></div></div></div><div class=\"sk-item\"><div class=\"sk-estimator sk-toggleable\"><input class=\"sk-toggleable__control sk-hidden--visually\" id=\"2d66eb05-666d-406a-abb5-9d7f4ada6471\" type=\"checkbox\" ><label class=\"sk-toggleable__label\" for=\"2d66eb05-666d-406a-abb5-9d7f4ada6471\">WOEEncoder</label><div class=\"sk-toggleable__content\"><pre>WOEEncoder()</pre></div></div></div><div class=\"sk-item\"><div class=\"sk-estimator sk-toggleable\"><input class=\"sk-toggleable__control sk-hidden--visually\" id=\"7b70e74e-a1db-4939-8539-17ea2b25f7e4\" type=\"checkbox\" ><label class=\"sk-toggleable__label\" for=\"7b70e74e-a1db-4939-8539-17ea2b25f7e4\">SelectPercentile</label><div class=\"sk-toggleable__content\"><pre>SelectPercentile(percentile=90,\n",
       "                 score_func=<function mutual_info_classif at 0x7f91bccf5950>)</pre></div></div></div></div></div></div></div></div></div></div><div class=\"sk-item\"><div class=\"sk-estimator sk-toggleable\"><input class=\"sk-toggleable__control sk-hidden--visually\" id=\"df20093c-111f-4d68-869f-d809a6dcb7e1\" type=\"checkbox\" ><label class=\"sk-toggleable__label\" for=\"df20093c-111f-4d68-869f-d809a6dcb7e1\">LGBMClassifier</label><div class=\"sk-toggleable__content\"><pre>LGBMClassifier(device_type='gpu', learning_rate=0.0018069834369607075,\n",
       "               max_depth=8, metric='auc', min_samples_leaf=47,\n",
       "               n_estimators=5000, random_state=42, subsample=0.8573598985000007,\n",
       "               verbose=-1)</pre></div></div></div></div></div></div></div>"
      ],
      "text/plain": [
       "Pipeline(steps=[('preprocessor',\n",
       "                 ColumnTransformer(transformers=[('numerical',\n",
       "                                                  Pipeline(steps=[('outlierhandle',\n",
       "                                                                   OutlierReplace()),\n",
       "                                                                  ('imputer',\n",
       "                                                                   SimpleImputer(add_indicator=True,\n",
       "                                                                                 strategy='median')),\n",
       "                                                                  ('scaler',\n",
       "                                                                   PowerTransformer()),\n",
       "                                                                  ('reducedim',\n",
       "                                                                   SelectPercentile(percentile=90))]),\n",
       "                                                  Index(['RevolvingUtilizationOfUnsecuredLines', 'DebtRatio', 'MonthlyIncome',\n",
       "       'Numbe...\n",
       "       'cat_NumberRealEstateLoansOrLines', 'cat_NumberOfTimes90DaysLate',\n",
       "       'cat_NumberOfOpenCreditLinesAndLoans',\n",
       "       'cat_NumberOfTime30-59DaysPastDueNotWorse', 'cat_age'],\n",
       "      dtype='object'))])),\n",
       "                ('classifier',\n",
       "                 LGBMClassifier(device_type='gpu',\n",
       "                                learning_rate=0.0018069834369607075,\n",
       "                                max_depth=8, metric='auc', min_samples_leaf=47,\n",
       "                                n_estimators=5000, random_state=42,\n",
       "                                subsample=0.8573598985000007, verbose=-1))])"
      ]
     },
     "execution_count": 28,
     "metadata": {},
     "output_type": "execute_result"
    }
   ],
   "source": [
    "#Define vnum pipeline\n",
    "numeric_transformer_outlier = Pipeline(\n",
    "                            steps=[('outlierhandle', OutlierReplace()),\n",
    "                            ('imputer', SimpleImputer(strategy='median'\n",
    "                                                      ,add_indicator=True)),\n",
    "                            ('scaler', PowerTransformer()),#(Numerical Input, Numerical Output)\n",
    "                            # Create an SelectKBest object to select features with two best ANOVA F-Values\n",
    "                            #The F-value scores examine if, when we group the numerical feature by the target vector, the means for each group are significantly different\n",
    "                            ('reducedim',  SelectPercentile(f_classif,percentile=90))\n",
    "                            ]\n",
    "                            )\n",
    "# Features union cat + num \n",
    "# WOE+PowerTransformer\n",
    "preprocessor_woe_powertransformer_outlier = ColumnTransformer(\n",
    "            transformers=[\n",
    "                ('numerical', numeric_transformer_outlier, num_columns),\n",
    "                ('categorical', categorical_transformer, cat_columns)\n",
    "            ]\n",
    "            )\n",
    "pipe_lgbm_woe_powertransformer_outlier = Pipeline(\n",
    "    steps=[\n",
    "        ('preprocessor', preprocessor_woe_powertransformer_outlier),\n",
    "        ('classifier', lgbm.LGBMClassifier( \n",
    "            #n_jobs=-1,\n",
    "                                           verbose=-1,\n",
    "                                           **lgbm_param))\n",
    "    ]\n",
    ")\n",
    "pipe_lgbm_woe_powertransformer_outlier"
   ]
  },
  {
   "cell_type": "markdown",
   "id": "05e4b300",
   "metadata": {
    "papermill": {
     "duration": 0.049237,
     "end_time": "2021-12-23T18:02:50.939338",
     "exception": false,
     "start_time": "2021-12-23T18:02:50.890101",
     "status": "completed"
    },
    "tags": []
   },
   "source": [
    "### Delete missing:woe+powertransormer for not null data \n"
   ]
  },
  {
   "cell_type": "code",
   "execution_count": 29,
   "id": "8ea7e72c",
   "metadata": {
    "execution": {
     "iopub.execute_input": "2021-12-23T18:02:51.071692Z",
     "iopub.status.busy": "2021-12-23T18:02:51.061444Z",
     "iopub.status.idle": "2021-12-23T18:02:51.493719Z",
     "shell.execute_reply": "2021-12-23T18:02:51.493217Z"
    },
    "papermill": {
     "duration": 0.505172,
     "end_time": "2021-12-23T18:02:51.493851",
     "exception": false,
     "start_time": "2021-12-23T18:02:50.988679",
     "status": "completed"
    },
    "tags": []
   },
   "outputs": [
    {
     "data": {
      "text/html": [
       "<style>div.sk-top-container {color: black;background-color: white;}div.sk-toggleable {background-color: white;}label.sk-toggleable__label {cursor: pointer;display: block;width: 100%;margin-bottom: 0;padding: 0.2em 0.3em;box-sizing: border-box;text-align: center;}div.sk-toggleable__content {max-height: 0;max-width: 0;overflow: hidden;text-align: left;background-color: #f0f8ff;}div.sk-toggleable__content pre {margin: 0.2em;color: black;border-radius: 0.25em;background-color: #f0f8ff;}input.sk-toggleable__control:checked~div.sk-toggleable__content {max-height: 200px;max-width: 100%;overflow: auto;}div.sk-estimator input.sk-toggleable__control:checked~label.sk-toggleable__label {background-color: #d4ebff;}div.sk-label input.sk-toggleable__control:checked~label.sk-toggleable__label {background-color: #d4ebff;}input.sk-hidden--visually {border: 0;clip: rect(1px 1px 1px 1px);clip: rect(1px, 1px, 1px, 1px);height: 1px;margin: -1px;overflow: hidden;padding: 0;position: absolute;width: 1px;}div.sk-estimator {font-family: monospace;background-color: #f0f8ff;margin: 0.25em 0.25em;border: 1px dotted black;border-radius: 0.25em;box-sizing: border-box;}div.sk-estimator:hover {background-color: #d4ebff;}div.sk-parallel-item::after {content: \"\";width: 100%;border-bottom: 1px solid gray;flex-grow: 1;}div.sk-label:hover label.sk-toggleable__label {background-color: #d4ebff;}div.sk-serial::before {content: \"\";position: absolute;border-left: 1px solid gray;box-sizing: border-box;top: 2em;bottom: 0;left: 50%;}div.sk-serial {display: flex;flex-direction: column;align-items: center;background-color: white;}div.sk-item {z-index: 1;}div.sk-parallel {display: flex;align-items: stretch;justify-content: center;background-color: white;}div.sk-parallel-item {display: flex;flex-direction: column;position: relative;background-color: white;}div.sk-parallel-item:first-child::after {align-self: flex-end;width: 50%;}div.sk-parallel-item:last-child::after {align-self: flex-start;width: 50%;}div.sk-parallel-item:only-child::after {width: 0;}div.sk-dashed-wrapped {border: 1px dashed gray;margin: 0.2em;box-sizing: border-box;padding-bottom: 0.1em;background-color: white;position: relative;}div.sk-label label {font-family: monospace;font-weight: bold;background-color: white;display: inline-block;line-height: 1.2em;}div.sk-label-container {position: relative;z-index: 2;text-align: center;}div.sk-container {display: inline-block;position: relative;}</style><div class=\"sk-top-container\"><div class=\"sk-container\"><div class=\"sk-item sk-dashed-wrapped\"><div class=\"sk-label-container\"><div class=\"sk-label sk-toggleable\"><input class=\"sk-toggleable__control sk-hidden--visually\" id=\"08e38d43-bf89-4b36-a3eb-ed18b61a4137\" type=\"checkbox\" ><label class=\"sk-toggleable__label\" for=\"08e38d43-bf89-4b36-a3eb-ed18b61a4137\">Pipeline</label><div class=\"sk-toggleable__content\"><pre>Pipeline(steps=[('preprocessor',\n",
       "                 ColumnTransformer(transformers=[('numerical',\n",
       "                                                  Pipeline(steps=[('imputer',\n",
       "                                                                   SimpleImputer(add_indicator=True,\n",
       "                                                                                 strategy='median')),\n",
       "                                                                  ('scaler',\n",
       "                                                                   PowerTransformer()),\n",
       "                                                                  ('reducedim',\n",
       "                                                                   SelectPercentile(percentile=90))]),\n",
       "                                                  Index(['RevolvingUtilizationOfUnsecuredLines', 'DebtRatio',\n",
       "       'NumberOfTime60-89DaysPastDueNotWorse', 'NumberRealEstateL...\n",
       "       'cat_NumberRealEstateLoansOrLines', 'cat_NumberOfTimes90DaysLate',\n",
       "       'cat_NumberOfOpenCreditLinesAndLoans',\n",
       "       'cat_NumberOfTime30-59DaysPastDueNotWorse', 'cat_age'],\n",
       "      dtype='object'))])),\n",
       "                ('classifier',\n",
       "                 LGBMClassifier(device_type='gpu',\n",
       "                                learning_rate=0.0018069834369607075,\n",
       "                                max_depth=8, metric='auc', min_samples_leaf=47,\n",
       "                                n_estimators=5000, random_state=42,\n",
       "                                subsample=0.8573598985000007, verbose=-1))])</pre></div></div></div><div class=\"sk-serial\"><div class=\"sk-item sk-dashed-wrapped\"><div class=\"sk-label-container\"><div class=\"sk-label sk-toggleable\"><input class=\"sk-toggleable__control sk-hidden--visually\" id=\"0e22cb47-b7b7-446b-96b5-c8c4646fe7da\" type=\"checkbox\" ><label class=\"sk-toggleable__label\" for=\"0e22cb47-b7b7-446b-96b5-c8c4646fe7da\">preprocessor: ColumnTransformer</label><div class=\"sk-toggleable__content\"><pre>ColumnTransformer(transformers=[('numerical',\n",
       "                                 Pipeline(steps=[('imputer',\n",
       "                                                  SimpleImputer(add_indicator=True,\n",
       "                                                                strategy='median')),\n",
       "                                                 ('scaler', PowerTransformer()),\n",
       "                                                 ('reducedim',\n",
       "                                                  SelectPercentile(percentile=90))]),\n",
       "                                 Index(['RevolvingUtilizationOfUnsecuredLines', 'DebtRatio',\n",
       "       'NumberOfTime60-89DaysPastDueNotWorse', 'NumberRealEstateLoansOrLines',\n",
       "       'NumberOfTimes90Day...\n",
       "                                                                   score_func=<function mutual_info_classif at 0x7f91bccf5950>))]),\n",
       "                                 Index(['cat_RevolvingUtilizationOfUnsecuredLines', 'cat_DebtRatio',\n",
       "       'cat_MonthlyIncome', 'cat_NumberOfDependents',\n",
       "       'cat_NumberOfTime60-89DaysPastDueNotWorse',\n",
       "       'cat_NumberRealEstateLoansOrLines', 'cat_NumberOfTimes90DaysLate',\n",
       "       'cat_NumberOfOpenCreditLinesAndLoans',\n",
       "       'cat_NumberOfTime30-59DaysPastDueNotWorse', 'cat_age'],\n",
       "      dtype='object'))])</pre></div></div></div><div class=\"sk-parallel\"><div class=\"sk-parallel-item\"><div class=\"sk-item\"><div class=\"sk-label-container\"><div class=\"sk-label sk-toggleable\"><input class=\"sk-toggleable__control sk-hidden--visually\" id=\"ea3977c8-8af0-433b-973a-765ff778e96b\" type=\"checkbox\" ><label class=\"sk-toggleable__label\" for=\"ea3977c8-8af0-433b-973a-765ff778e96b\">numerical</label><div class=\"sk-toggleable__content\"><pre>Index(['RevolvingUtilizationOfUnsecuredLines', 'DebtRatio',\n",
       "       'NumberOfTime60-89DaysPastDueNotWorse', 'NumberRealEstateLoansOrLines',\n",
       "       'NumberOfTimes90DaysLate', 'NumberOfOpenCreditLinesAndLoans',\n",
       "       'NumberOfTime30-59DaysPastDueNotWorse', 'age'],\n",
       "      dtype='object')</pre></div></div></div><div class=\"sk-serial\"><div class=\"sk-item\"><div class=\"sk-serial\"><div class=\"sk-item\"><div class=\"sk-estimator sk-toggleable\"><input class=\"sk-toggleable__control sk-hidden--visually\" id=\"24744aa7-0c76-405b-96d7-82603d93fedf\" type=\"checkbox\" ><label class=\"sk-toggleable__label\" for=\"24744aa7-0c76-405b-96d7-82603d93fedf\">SimpleImputer</label><div class=\"sk-toggleable__content\"><pre>SimpleImputer(add_indicator=True, strategy='median')</pre></div></div></div><div class=\"sk-item\"><div class=\"sk-estimator sk-toggleable\"><input class=\"sk-toggleable__control sk-hidden--visually\" id=\"7ff6a817-5874-41be-8e09-8e20949db8ba\" type=\"checkbox\" ><label class=\"sk-toggleable__label\" for=\"7ff6a817-5874-41be-8e09-8e20949db8ba\">PowerTransformer</label><div class=\"sk-toggleable__content\"><pre>PowerTransformer()</pre></div></div></div><div class=\"sk-item\"><div class=\"sk-estimator sk-toggleable\"><input class=\"sk-toggleable__control sk-hidden--visually\" id=\"78900410-d4ed-41b3-8c2a-8dd83de5f93d\" type=\"checkbox\" ><label class=\"sk-toggleable__label\" for=\"78900410-d4ed-41b3-8c2a-8dd83de5f93d\">SelectPercentile</label><div class=\"sk-toggleable__content\"><pre>SelectPercentile(percentile=90)</pre></div></div></div></div></div></div></div></div><div class=\"sk-parallel-item\"><div class=\"sk-item\"><div class=\"sk-label-container\"><div class=\"sk-label sk-toggleable\"><input class=\"sk-toggleable__control sk-hidden--visually\" id=\"eac3a72c-b443-4d6e-8f74-848cf3518ea5\" type=\"checkbox\" ><label class=\"sk-toggleable__label\" for=\"eac3a72c-b443-4d6e-8f74-848cf3518ea5\">categorical</label><div class=\"sk-toggleable__content\"><pre>Index(['cat_RevolvingUtilizationOfUnsecuredLines', 'cat_DebtRatio',\n",
       "       'cat_MonthlyIncome', 'cat_NumberOfDependents',\n",
       "       'cat_NumberOfTime60-89DaysPastDueNotWorse',\n",
       "       'cat_NumberRealEstateLoansOrLines', 'cat_NumberOfTimes90DaysLate',\n",
       "       'cat_NumberOfOpenCreditLinesAndLoans',\n",
       "       'cat_NumberOfTime30-59DaysPastDueNotWorse', 'cat_age'],\n",
       "      dtype='object')</pre></div></div></div><div class=\"sk-serial\"><div class=\"sk-item\"><div class=\"sk-serial\"><div class=\"sk-item\"><div class=\"sk-estimator sk-toggleable\"><input class=\"sk-toggleable__control sk-hidden--visually\" id=\"4a0d8f87-aa61-4e1d-9482-e54065559150\" type=\"checkbox\" ><label class=\"sk-toggleable__label\" for=\"4a0d8f87-aa61-4e1d-9482-e54065559150\">SimpleImputer</label><div class=\"sk-toggleable__content\"><pre>SimpleImputer(add_indicator=True, fill_value='missing',\n",
       "              strategy='most_frequent')</pre></div></div></div><div class=\"sk-item\"><div class=\"sk-estimator sk-toggleable\"><input class=\"sk-toggleable__control sk-hidden--visually\" id=\"d02e21ae-1725-4243-9e64-79b2cc63584d\" type=\"checkbox\" ><label class=\"sk-toggleable__label\" for=\"d02e21ae-1725-4243-9e64-79b2cc63584d\">WOEEncoder</label><div class=\"sk-toggleable__content\"><pre>WOEEncoder()</pre></div></div></div><div class=\"sk-item\"><div class=\"sk-estimator sk-toggleable\"><input class=\"sk-toggleable__control sk-hidden--visually\" id=\"20a1cd90-3e89-4647-8672-15f9eba69fc7\" type=\"checkbox\" ><label class=\"sk-toggleable__label\" for=\"20a1cd90-3e89-4647-8672-15f9eba69fc7\">SelectPercentile</label><div class=\"sk-toggleable__content\"><pre>SelectPercentile(percentile=90,\n",
       "                 score_func=<function mutual_info_classif at 0x7f91bccf5950>)</pre></div></div></div></div></div></div></div></div></div></div><div class=\"sk-item\"><div class=\"sk-estimator sk-toggleable\"><input class=\"sk-toggleable__control sk-hidden--visually\" id=\"4d871837-8014-4373-bb6c-d10cc8dbd44f\" type=\"checkbox\" ><label class=\"sk-toggleable__label\" for=\"4d871837-8014-4373-bb6c-d10cc8dbd44f\">LGBMClassifier</label><div class=\"sk-toggleable__content\"><pre>LGBMClassifier(device_type='gpu', learning_rate=0.0018069834369607075,\n",
       "               max_depth=8, metric='auc', min_samples_leaf=47,\n",
       "               n_estimators=5000, random_state=42, subsample=0.8573598985000007,\n",
       "               verbose=-1)</pre></div></div></div></div></div></div></div>"
      ],
      "text/plain": [
       "Pipeline(steps=[('preprocessor',\n",
       "                 ColumnTransformer(transformers=[('numerical',\n",
       "                                                  Pipeline(steps=[('imputer',\n",
       "                                                                   SimpleImputer(add_indicator=True,\n",
       "                                                                                 strategy='median')),\n",
       "                                                                  ('scaler',\n",
       "                                                                   PowerTransformer()),\n",
       "                                                                  ('reducedim',\n",
       "                                                                   SelectPercentile(percentile=90))]),\n",
       "                                                  Index(['RevolvingUtilizationOfUnsecuredLines', 'DebtRatio',\n",
       "       'NumberOfTime60-89DaysPastDueNotWorse', 'NumberRealEstateL...\n",
       "       'cat_NumberRealEstateLoansOrLines', 'cat_NumberOfTimes90DaysLate',\n",
       "       'cat_NumberOfOpenCreditLinesAndLoans',\n",
       "       'cat_NumberOfTime30-59DaysPastDueNotWorse', 'cat_age'],\n",
       "      dtype='object'))])),\n",
       "                ('classifier',\n",
       "                 LGBMClassifier(device_type='gpu',\n",
       "                                learning_rate=0.0018069834369607075,\n",
       "                                max_depth=8, metric='auc', min_samples_leaf=47,\n",
       "                                n_estimators=5000, random_state=42,\n",
       "                                subsample=0.8573598985000007, verbose=-1))])"
      ]
     },
     "execution_count": 29,
     "metadata": {},
     "output_type": "execute_result"
    }
   ],
   "source": [
    "# Features union cat + num \n",
    "# WOE+PowerTransformer\n",
    "preprocessor_woe_powertransformer_without_missing = ColumnTransformer(\n",
    "            transformers=[\n",
    "                ('numerical', numeric_transformer, num_columns_without_missing),\n",
    "                ('categorical', categorical_transformer, cat_columns_without_missing)\n",
    "            ]\n",
    "            )\n",
    "pipe_lgbm_woe_powertransformer_without_missing = Pipeline(\n",
    "    steps=[\n",
    "        ('preprocessor', preprocessor_woe_powertransformer_without_missing),\n",
    "        ('classifier', lgbm.LGBMClassifier( \n",
    "            #n_jobs=-1,\n",
    "                                           verbose=-1,\n",
    "                                           **lgbm_param))\n",
    "    ]\n",
    ")\n",
    "pipe_lgbm_woe_powertransformer_without_missing"
   ]
  },
  {
   "cell_type": "markdown",
   "id": "ce115fd5",
   "metadata": {
    "papermill": {
     "duration": 0.052996,
     "end_time": "2021-12-23T18:02:51.598563",
     "exception": false,
     "start_time": "2021-12-23T18:02:51.545567",
     "status": "completed"
    },
    "tags": []
   },
   "source": [
    "# Pipe2: CatBoostEncoder + Power transformer\n"
   ]
  },
  {
   "cell_type": "code",
   "execution_count": 30,
   "id": "0fb0be1f",
   "metadata": {
    "execution": {
     "iopub.execute_input": "2021-12-23T18:02:51.773011Z",
     "iopub.status.busy": "2021-12-23T18:02:51.742274Z",
     "iopub.status.idle": "2021-12-23T18:02:52.144015Z",
     "shell.execute_reply": "2021-12-23T18:02:52.144395Z"
    },
    "papermill": {
     "duration": 0.495522,
     "end_time": "2021-12-23T18:02:52.144559",
     "exception": false,
     "start_time": "2021-12-23T18:02:51.649037",
     "status": "completed"
    },
    "tags": []
   },
   "outputs": [
    {
     "data": {
      "text/html": [
       "<style>div.sk-top-container {color: black;background-color: white;}div.sk-toggleable {background-color: white;}label.sk-toggleable__label {cursor: pointer;display: block;width: 100%;margin-bottom: 0;padding: 0.2em 0.3em;box-sizing: border-box;text-align: center;}div.sk-toggleable__content {max-height: 0;max-width: 0;overflow: hidden;text-align: left;background-color: #f0f8ff;}div.sk-toggleable__content pre {margin: 0.2em;color: black;border-radius: 0.25em;background-color: #f0f8ff;}input.sk-toggleable__control:checked~div.sk-toggleable__content {max-height: 200px;max-width: 100%;overflow: auto;}div.sk-estimator input.sk-toggleable__control:checked~label.sk-toggleable__label {background-color: #d4ebff;}div.sk-label input.sk-toggleable__control:checked~label.sk-toggleable__label {background-color: #d4ebff;}input.sk-hidden--visually {border: 0;clip: rect(1px 1px 1px 1px);clip: rect(1px, 1px, 1px, 1px);height: 1px;margin: -1px;overflow: hidden;padding: 0;position: absolute;width: 1px;}div.sk-estimator {font-family: monospace;background-color: #f0f8ff;margin: 0.25em 0.25em;border: 1px dotted black;border-radius: 0.25em;box-sizing: border-box;}div.sk-estimator:hover {background-color: #d4ebff;}div.sk-parallel-item::after {content: \"\";width: 100%;border-bottom: 1px solid gray;flex-grow: 1;}div.sk-label:hover label.sk-toggleable__label {background-color: #d4ebff;}div.sk-serial::before {content: \"\";position: absolute;border-left: 1px solid gray;box-sizing: border-box;top: 2em;bottom: 0;left: 50%;}div.sk-serial {display: flex;flex-direction: column;align-items: center;background-color: white;}div.sk-item {z-index: 1;}div.sk-parallel {display: flex;align-items: stretch;justify-content: center;background-color: white;}div.sk-parallel-item {display: flex;flex-direction: column;position: relative;background-color: white;}div.sk-parallel-item:first-child::after {align-self: flex-end;width: 50%;}div.sk-parallel-item:last-child::after {align-self: flex-start;width: 50%;}div.sk-parallel-item:only-child::after {width: 0;}div.sk-dashed-wrapped {border: 1px dashed gray;margin: 0.2em;box-sizing: border-box;padding-bottom: 0.1em;background-color: white;position: relative;}div.sk-label label {font-family: monospace;font-weight: bold;background-color: white;display: inline-block;line-height: 1.2em;}div.sk-label-container {position: relative;z-index: 2;text-align: center;}div.sk-container {display: inline-block;position: relative;}</style><div class=\"sk-top-container\"><div class=\"sk-container\"><div class=\"sk-item sk-dashed-wrapped\"><div class=\"sk-label-container\"><div class=\"sk-label sk-toggleable\"><input class=\"sk-toggleable__control sk-hidden--visually\" id=\"d9bac519-695e-4e1e-bb94-d22cfd9e75e4\" type=\"checkbox\" ><label class=\"sk-toggleable__label\" for=\"d9bac519-695e-4e1e-bb94-d22cfd9e75e4\">Pipeline</label><div class=\"sk-toggleable__content\"><pre>Pipeline(steps=[('preprocessor',\n",
       "                 ColumnTransformer(transformers=[('numerical',\n",
       "                                                  Pipeline(steps=[('imputer',\n",
       "                                                                   SimpleImputer(add_indicator=True,\n",
       "                                                                                 strategy='median')),\n",
       "                                                                  ('scaler',\n",
       "                                                                   PowerTransformer()),\n",
       "                                                                  ('reducedim',\n",
       "                                                                   SelectPercentile(percentile=90))]),\n",
       "                                                  Index(['RevolvingUtilizationOfUnsecuredLines', 'DebtRatio', 'MonthlyIncome',\n",
       "       'NumberOfDependents', 'NumberOfTime60-89Da...\n",
       "       'cat_NumberRealEstateLoansOrLines', 'cat_NumberOfTimes90DaysLate',\n",
       "       'cat_NumberOfOpenCreditLinesAndLoans',\n",
       "       'cat_NumberOfTime30-59DaysPastDueNotWorse', 'cat_age'],\n",
       "      dtype='object'))])),\n",
       "                ('classifier',\n",
       "                 LGBMClassifier(device_type='gpu',\n",
       "                                learning_rate=0.0018069834369607075,\n",
       "                                max_depth=8, metric='auc', min_samples_leaf=47,\n",
       "                                n_estimators=5000, random_state=42,\n",
       "                                subsample=0.8573598985000007, verbose=-1))])</pre></div></div></div><div class=\"sk-serial\"><div class=\"sk-item sk-dashed-wrapped\"><div class=\"sk-label-container\"><div class=\"sk-label sk-toggleable\"><input class=\"sk-toggleable__control sk-hidden--visually\" id=\"02d2c0c6-3296-4875-a4f4-a00bbf6edec6\" type=\"checkbox\" ><label class=\"sk-toggleable__label\" for=\"02d2c0c6-3296-4875-a4f4-a00bbf6edec6\">preprocessor: ColumnTransformer</label><div class=\"sk-toggleable__content\"><pre>ColumnTransformer(transformers=[('numerical',\n",
       "                                 Pipeline(steps=[('imputer',\n",
       "                                                  SimpleImputer(add_indicator=True,\n",
       "                                                                strategy='median')),\n",
       "                                                 ('scaler', PowerTransformer()),\n",
       "                                                 ('reducedim',\n",
       "                                                  SelectPercentile(percentile=90))]),\n",
       "                                 Index(['RevolvingUtilizationOfUnsecuredLines', 'DebtRatio', 'MonthlyIncome',\n",
       "       'NumberOfDependents', 'NumberOfTime60-89DaysPastDueNotWorse',\n",
       "       'NumberRealEs...\n",
       "                                                                   score_func=<function mutual_info_classif at 0x7f91bccf5950>))]),\n",
       "                                 Index(['cat_RevolvingUtilizationOfUnsecuredLines', 'cat_DebtRatio',\n",
       "       'cat_MonthlyIncome', 'cat_NumberOfDependents',\n",
       "       'cat_NumberOfTime60-89DaysPastDueNotWorse',\n",
       "       'cat_NumberRealEstateLoansOrLines', 'cat_NumberOfTimes90DaysLate',\n",
       "       'cat_NumberOfOpenCreditLinesAndLoans',\n",
       "       'cat_NumberOfTime30-59DaysPastDueNotWorse', 'cat_age'],\n",
       "      dtype='object'))])</pre></div></div></div><div class=\"sk-parallel\"><div class=\"sk-parallel-item\"><div class=\"sk-item\"><div class=\"sk-label-container\"><div class=\"sk-label sk-toggleable\"><input class=\"sk-toggleable__control sk-hidden--visually\" id=\"b9b597d8-076a-4fd8-879e-5ede894ded54\" type=\"checkbox\" ><label class=\"sk-toggleable__label\" for=\"b9b597d8-076a-4fd8-879e-5ede894ded54\">numerical</label><div class=\"sk-toggleable__content\"><pre>Index(['RevolvingUtilizationOfUnsecuredLines', 'DebtRatio', 'MonthlyIncome',\n",
       "       'NumberOfDependents', 'NumberOfTime60-89DaysPastDueNotWorse',\n",
       "       'NumberRealEstateLoansOrLines', 'NumberOfTimes90DaysLate',\n",
       "       'NumberOfOpenCreditLinesAndLoans',\n",
       "       'NumberOfTime30-59DaysPastDueNotWorse', 'age'],\n",
       "      dtype='object')</pre></div></div></div><div class=\"sk-serial\"><div class=\"sk-item\"><div class=\"sk-serial\"><div class=\"sk-item\"><div class=\"sk-estimator sk-toggleable\"><input class=\"sk-toggleable__control sk-hidden--visually\" id=\"7d77c7a4-d8c5-4368-8eae-dece2cf959bd\" type=\"checkbox\" ><label class=\"sk-toggleable__label\" for=\"7d77c7a4-d8c5-4368-8eae-dece2cf959bd\">SimpleImputer</label><div class=\"sk-toggleable__content\"><pre>SimpleImputer(add_indicator=True, strategy='median')</pre></div></div></div><div class=\"sk-item\"><div class=\"sk-estimator sk-toggleable\"><input class=\"sk-toggleable__control sk-hidden--visually\" id=\"562122b4-1928-48a6-b4b2-8c050c0d3c6f\" type=\"checkbox\" ><label class=\"sk-toggleable__label\" for=\"562122b4-1928-48a6-b4b2-8c050c0d3c6f\">PowerTransformer</label><div class=\"sk-toggleable__content\"><pre>PowerTransformer()</pre></div></div></div><div class=\"sk-item\"><div class=\"sk-estimator sk-toggleable\"><input class=\"sk-toggleable__control sk-hidden--visually\" id=\"ab384b88-329e-43dd-904f-8b34d0d38ea4\" type=\"checkbox\" ><label class=\"sk-toggleable__label\" for=\"ab384b88-329e-43dd-904f-8b34d0d38ea4\">SelectPercentile</label><div class=\"sk-toggleable__content\"><pre>SelectPercentile(percentile=90)</pre></div></div></div></div></div></div></div></div><div class=\"sk-parallel-item\"><div class=\"sk-item\"><div class=\"sk-label-container\"><div class=\"sk-label sk-toggleable\"><input class=\"sk-toggleable__control sk-hidden--visually\" id=\"cedbe14d-7249-4d22-a90e-2f94f6ae5f0c\" type=\"checkbox\" ><label class=\"sk-toggleable__label\" for=\"cedbe14d-7249-4d22-a90e-2f94f6ae5f0c\">categorical</label><div class=\"sk-toggleable__content\"><pre>Index(['cat_RevolvingUtilizationOfUnsecuredLines', 'cat_DebtRatio',\n",
       "       'cat_MonthlyIncome', 'cat_NumberOfDependents',\n",
       "       'cat_NumberOfTime60-89DaysPastDueNotWorse',\n",
       "       'cat_NumberRealEstateLoansOrLines', 'cat_NumberOfTimes90DaysLate',\n",
       "       'cat_NumberOfOpenCreditLinesAndLoans',\n",
       "       'cat_NumberOfTime30-59DaysPastDueNotWorse', 'cat_age'],\n",
       "      dtype='object')</pre></div></div></div><div class=\"sk-serial\"><div class=\"sk-item\"><div class=\"sk-serial\"><div class=\"sk-item\"><div class=\"sk-estimator sk-toggleable\"><input class=\"sk-toggleable__control sk-hidden--visually\" id=\"82a971dc-877a-4156-bfb0-d33d19de95e4\" type=\"checkbox\" ><label class=\"sk-toggleable__label\" for=\"82a971dc-877a-4156-bfb0-d33d19de95e4\">SimpleImputer</label><div class=\"sk-toggleable__content\"><pre>SimpleImputer(add_indicator=True, fill_value='missing',\n",
       "              strategy='most_frequent')</pre></div></div></div><div class=\"sk-item\"><div class=\"sk-estimator sk-toggleable\"><input class=\"sk-toggleable__control sk-hidden--visually\" id=\"1e75c746-b42d-4a30-877a-4d5e1e2af3db\" type=\"checkbox\" ><label class=\"sk-toggleable__label\" for=\"1e75c746-b42d-4a30-877a-4d5e1e2af3db\">CatBoostEncoder</label><div class=\"sk-toggleable__content\"><pre>CatBoostEncoder()</pre></div></div></div><div class=\"sk-item\"><div class=\"sk-estimator sk-toggleable\"><input class=\"sk-toggleable__control sk-hidden--visually\" id=\"3a8e0ffa-4ac0-4a94-aaeb-53a906807e37\" type=\"checkbox\" ><label class=\"sk-toggleable__label\" for=\"3a8e0ffa-4ac0-4a94-aaeb-53a906807e37\">SelectPercentile</label><div class=\"sk-toggleable__content\"><pre>SelectPercentile(percentile=90,\n",
       "                 score_func=<function mutual_info_classif at 0x7f91bccf5950>)</pre></div></div></div></div></div></div></div></div></div></div><div class=\"sk-item\"><div class=\"sk-estimator sk-toggleable\"><input class=\"sk-toggleable__control sk-hidden--visually\" id=\"b5aa56a2-d91d-477f-92a6-a01d314dc163\" type=\"checkbox\" ><label class=\"sk-toggleable__label\" for=\"b5aa56a2-d91d-477f-92a6-a01d314dc163\">LGBMClassifier</label><div class=\"sk-toggleable__content\"><pre>LGBMClassifier(device_type='gpu', learning_rate=0.0018069834369607075,\n",
       "               max_depth=8, metric='auc', min_samples_leaf=47,\n",
       "               n_estimators=5000, random_state=42, subsample=0.8573598985000007,\n",
       "               verbose=-1)</pre></div></div></div></div></div></div></div>"
      ],
      "text/plain": [
       "Pipeline(steps=[('preprocessor',\n",
       "                 ColumnTransformer(transformers=[('numerical',\n",
       "                                                  Pipeline(steps=[('imputer',\n",
       "                                                                   SimpleImputer(add_indicator=True,\n",
       "                                                                                 strategy='median')),\n",
       "                                                                  ('scaler',\n",
       "                                                                   PowerTransformer()),\n",
       "                                                                  ('reducedim',\n",
       "                                                                   SelectPercentile(percentile=90))]),\n",
       "                                                  Index(['RevolvingUtilizationOfUnsecuredLines', 'DebtRatio', 'MonthlyIncome',\n",
       "       'NumberOfDependents', 'NumberOfTime60-89Da...\n",
       "       'cat_NumberRealEstateLoansOrLines', 'cat_NumberOfTimes90DaysLate',\n",
       "       'cat_NumberOfOpenCreditLinesAndLoans',\n",
       "       'cat_NumberOfTime30-59DaysPastDueNotWorse', 'cat_age'],\n",
       "      dtype='object'))])),\n",
       "                ('classifier',\n",
       "                 LGBMClassifier(device_type='gpu',\n",
       "                                learning_rate=0.0018069834369607075,\n",
       "                                max_depth=8, metric='auc', min_samples_leaf=47,\n",
       "                                n_estimators=5000, random_state=42,\n",
       "                                subsample=0.8573598985000007, verbose=-1))])"
      ]
     },
     "execution_count": 30,
     "metadata": {},
     "output_type": "execute_result"
    }
   ],
   "source": [
    "#Define cat pipeline\n",
    "# Cat pipeline\n",
    "categorical_transformer_catboost = Pipeline(\n",
    "                    steps=[\n",
    "                        ('imputer', SimpleImputer(strategy='most_frequent',\n",
    "                                                  fill_value='missing',\n",
    "                                                  add_indicator=True)),\n",
    "                        ('encoder',  ce.cat_boost.CatBoostEncoder()),#(Numerical Input, Categorical Output)\n",
    "                         ('reducedim',  SelectPercentile( mutual_info_classif,\n",
    "                                                         percentile=90))\n",
    "                    ]\n",
    "                    ) \n",
    "#Define vnum pipeline\n",
    "numeric_transformer = Pipeline(\n",
    "                            steps=[\n",
    "                            ('imputer', SimpleImputer(strategy='median'\n",
    "                                                      ,add_indicator=True)),\n",
    "                            ('scaler', PowerTransformer()),#(Numerical Input, Numerical Output)\n",
    "                            # Create an SelectKBest object to select features with two best ANOVA F-Values\n",
    "                            #The F-value scores examine if, when we group the numerical feature by the target vector, the means for each group are significantly different\n",
    "                            ('reducedim',  SelectPercentile(f_classif,percentile=90))\n",
    "                            ]\n",
    "                            )\n",
    "# Features union cat + num \n",
    "# Catboost+PowerTransformer\n",
    "preprocessor_catboost_powertransformer = ColumnTransformer(\n",
    "            transformers=[\n",
    "                ('numerical', numeric_transformer, num_columns),\n",
    "                ('categorical', categorical_transformer_catboost, cat_columns)\n",
    "            ]\n",
    "            )\n",
    "pipe_lgbm_catboost_powertransformer = Pipeline(\n",
    "    steps=[\n",
    "        ('preprocessor', preprocessor_catboost_powertransformer),\n",
    "        ('classifier', lgbm.LGBMClassifier( \n",
    "            #n_jobs=-1,\n",
    "                                           verbose=-1,\n",
    "                                           **lgbm_param))\n",
    "    ]\n",
    ")\n",
    "pipe_lgbm_catboost_powertransformer"
   ]
  },
  {
   "cell_type": "markdown",
   "id": "9faca37f",
   "metadata": {
    "papermill": {
     "duration": 0.050123,
     "end_time": "2021-12-23T18:02:52.245673",
     "exception": false,
     "start_time": "2021-12-23T18:02:52.195550",
     "status": "completed"
    },
    "tags": []
   },
   "source": [
    "## Handle Outlier:CatBoostEncoder + Power transformer"
   ]
  },
  {
   "cell_type": "code",
   "execution_count": 31,
   "id": "d9c92663",
   "metadata": {
    "execution": {
     "iopub.execute_input": "2021-12-23T18:02:52.384532Z",
     "iopub.status.busy": "2021-12-23T18:02:52.374249Z",
     "iopub.status.idle": "2021-12-23T18:02:52.814058Z",
     "shell.execute_reply": "2021-12-23T18:02:52.814521Z"
    },
    "papermill": {
     "duration": 0.518714,
     "end_time": "2021-12-23T18:02:52.814708",
     "exception": false,
     "start_time": "2021-12-23T18:02:52.295994",
     "status": "completed"
    },
    "tags": []
   },
   "outputs": [
    {
     "data": {
      "text/html": [
       "<style>div.sk-top-container {color: black;background-color: white;}div.sk-toggleable {background-color: white;}label.sk-toggleable__label {cursor: pointer;display: block;width: 100%;margin-bottom: 0;padding: 0.2em 0.3em;box-sizing: border-box;text-align: center;}div.sk-toggleable__content {max-height: 0;max-width: 0;overflow: hidden;text-align: left;background-color: #f0f8ff;}div.sk-toggleable__content pre {margin: 0.2em;color: black;border-radius: 0.25em;background-color: #f0f8ff;}input.sk-toggleable__control:checked~div.sk-toggleable__content {max-height: 200px;max-width: 100%;overflow: auto;}div.sk-estimator input.sk-toggleable__control:checked~label.sk-toggleable__label {background-color: #d4ebff;}div.sk-label input.sk-toggleable__control:checked~label.sk-toggleable__label {background-color: #d4ebff;}input.sk-hidden--visually {border: 0;clip: rect(1px 1px 1px 1px);clip: rect(1px, 1px, 1px, 1px);height: 1px;margin: -1px;overflow: hidden;padding: 0;position: absolute;width: 1px;}div.sk-estimator {font-family: monospace;background-color: #f0f8ff;margin: 0.25em 0.25em;border: 1px dotted black;border-radius: 0.25em;box-sizing: border-box;}div.sk-estimator:hover {background-color: #d4ebff;}div.sk-parallel-item::after {content: \"\";width: 100%;border-bottom: 1px solid gray;flex-grow: 1;}div.sk-label:hover label.sk-toggleable__label {background-color: #d4ebff;}div.sk-serial::before {content: \"\";position: absolute;border-left: 1px solid gray;box-sizing: border-box;top: 2em;bottom: 0;left: 50%;}div.sk-serial {display: flex;flex-direction: column;align-items: center;background-color: white;}div.sk-item {z-index: 1;}div.sk-parallel {display: flex;align-items: stretch;justify-content: center;background-color: white;}div.sk-parallel-item {display: flex;flex-direction: column;position: relative;background-color: white;}div.sk-parallel-item:first-child::after {align-self: flex-end;width: 50%;}div.sk-parallel-item:last-child::after {align-self: flex-start;width: 50%;}div.sk-parallel-item:only-child::after {width: 0;}div.sk-dashed-wrapped {border: 1px dashed gray;margin: 0.2em;box-sizing: border-box;padding-bottom: 0.1em;background-color: white;position: relative;}div.sk-label label {font-family: monospace;font-weight: bold;background-color: white;display: inline-block;line-height: 1.2em;}div.sk-label-container {position: relative;z-index: 2;text-align: center;}div.sk-container {display: inline-block;position: relative;}</style><div class=\"sk-top-container\"><div class=\"sk-container\"><div class=\"sk-item sk-dashed-wrapped\"><div class=\"sk-label-container\"><div class=\"sk-label sk-toggleable\"><input class=\"sk-toggleable__control sk-hidden--visually\" id=\"73b909b7-ba73-40c2-8a98-c0e305c506cc\" type=\"checkbox\" ><label class=\"sk-toggleable__label\" for=\"73b909b7-ba73-40c2-8a98-c0e305c506cc\">Pipeline</label><div class=\"sk-toggleable__content\"><pre>Pipeline(steps=[('preprocessor',\n",
       "                 ColumnTransformer(transformers=[('numerical',\n",
       "                                                  Pipeline(steps=[('outlierhandle',\n",
       "                                                                   OutlierReplace()),\n",
       "                                                                  ('imputer',\n",
       "                                                                   SimpleImputer(add_indicator=True,\n",
       "                                                                                 strategy='median')),\n",
       "                                                                  ('scaler',\n",
       "                                                                   PowerTransformer()),\n",
       "                                                                  ('reducedim',\n",
       "                                                                   SelectPercentile(percentile=90))]),\n",
       "                                                  Index(['RevolvingUtilizationOfUnsecuredLines', 'DebtRatio', 'MonthlyIncome',\n",
       "       'Numbe...\n",
       "       'cat_NumberRealEstateLoansOrLines', 'cat_NumberOfTimes90DaysLate',\n",
       "       'cat_NumberOfOpenCreditLinesAndLoans',\n",
       "       'cat_NumberOfTime30-59DaysPastDueNotWorse', 'cat_age'],\n",
       "      dtype='object'))])),\n",
       "                ('classifier',\n",
       "                 LGBMClassifier(device_type='gpu',\n",
       "                                learning_rate=0.0018069834369607075,\n",
       "                                max_depth=8, metric='auc', min_samples_leaf=47,\n",
       "                                n_estimators=5000, random_state=42,\n",
       "                                subsample=0.8573598985000007, verbose=-1))])</pre></div></div></div><div class=\"sk-serial\"><div class=\"sk-item sk-dashed-wrapped\"><div class=\"sk-label-container\"><div class=\"sk-label sk-toggleable\"><input class=\"sk-toggleable__control sk-hidden--visually\" id=\"cd2ca46d-66d1-4312-9c5e-bd37ecad3c18\" type=\"checkbox\" ><label class=\"sk-toggleable__label\" for=\"cd2ca46d-66d1-4312-9c5e-bd37ecad3c18\">preprocessor: ColumnTransformer</label><div class=\"sk-toggleable__content\"><pre>ColumnTransformer(transformers=[('numerical',\n",
       "                                 Pipeline(steps=[('outlierhandle',\n",
       "                                                  OutlierReplace()),\n",
       "                                                 ('imputer',\n",
       "                                                  SimpleImputer(add_indicator=True,\n",
       "                                                                strategy='median')),\n",
       "                                                 ('scaler', PowerTransformer()),\n",
       "                                                 ('reducedim',\n",
       "                                                  SelectPercentile(percentile=90))]),\n",
       "                                 Index(['RevolvingUtilizationOfUnsecuredLines', 'DebtRatio', 'MonthlyIncome',\n",
       "       'NumberOfDependents', 'NumberOfTime60-8...\n",
       "                                                                   score_func=<function mutual_info_classif at 0x7f91bccf5950>))]),\n",
       "                                 Index(['cat_RevolvingUtilizationOfUnsecuredLines', 'cat_DebtRatio',\n",
       "       'cat_MonthlyIncome', 'cat_NumberOfDependents',\n",
       "       'cat_NumberOfTime60-89DaysPastDueNotWorse',\n",
       "       'cat_NumberRealEstateLoansOrLines', 'cat_NumberOfTimes90DaysLate',\n",
       "       'cat_NumberOfOpenCreditLinesAndLoans',\n",
       "       'cat_NumberOfTime30-59DaysPastDueNotWorse', 'cat_age'],\n",
       "      dtype='object'))])</pre></div></div></div><div class=\"sk-parallel\"><div class=\"sk-parallel-item\"><div class=\"sk-item\"><div class=\"sk-label-container\"><div class=\"sk-label sk-toggleable\"><input class=\"sk-toggleable__control sk-hidden--visually\" id=\"717dd4a9-13b9-4ff3-a2b4-60d0dc6aa047\" type=\"checkbox\" ><label class=\"sk-toggleable__label\" for=\"717dd4a9-13b9-4ff3-a2b4-60d0dc6aa047\">numerical</label><div class=\"sk-toggleable__content\"><pre>Index(['RevolvingUtilizationOfUnsecuredLines', 'DebtRatio', 'MonthlyIncome',\n",
       "       'NumberOfDependents', 'NumberOfTime60-89DaysPastDueNotWorse',\n",
       "       'NumberRealEstateLoansOrLines', 'NumberOfTimes90DaysLate',\n",
       "       'NumberOfOpenCreditLinesAndLoans',\n",
       "       'NumberOfTime30-59DaysPastDueNotWorse', 'age'],\n",
       "      dtype='object')</pre></div></div></div><div class=\"sk-serial\"><div class=\"sk-item\"><div class=\"sk-serial\"><div class=\"sk-item\"><div class=\"sk-estimator sk-toggleable\"><input class=\"sk-toggleable__control sk-hidden--visually\" id=\"553a7b0f-7d4f-4d25-b496-74e48d5d0790\" type=\"checkbox\" ><label class=\"sk-toggleable__label\" for=\"553a7b0f-7d4f-4d25-b496-74e48d5d0790\">OutlierReplace</label><div class=\"sk-toggleable__content\"><pre>OutlierReplace()</pre></div></div></div><div class=\"sk-item\"><div class=\"sk-estimator sk-toggleable\"><input class=\"sk-toggleable__control sk-hidden--visually\" id=\"0e3e1bdd-e0d1-4cae-ae0b-6f6f85ecc695\" type=\"checkbox\" ><label class=\"sk-toggleable__label\" for=\"0e3e1bdd-e0d1-4cae-ae0b-6f6f85ecc695\">SimpleImputer</label><div class=\"sk-toggleable__content\"><pre>SimpleImputer(add_indicator=True, strategy='median')</pre></div></div></div><div class=\"sk-item\"><div class=\"sk-estimator sk-toggleable\"><input class=\"sk-toggleable__control sk-hidden--visually\" id=\"72170dc6-570d-471c-98a7-a613a39c537b\" type=\"checkbox\" ><label class=\"sk-toggleable__label\" for=\"72170dc6-570d-471c-98a7-a613a39c537b\">PowerTransformer</label><div class=\"sk-toggleable__content\"><pre>PowerTransformer()</pre></div></div></div><div class=\"sk-item\"><div class=\"sk-estimator sk-toggleable\"><input class=\"sk-toggleable__control sk-hidden--visually\" id=\"094b5041-9121-4e0d-9998-484855d12b41\" type=\"checkbox\" ><label class=\"sk-toggleable__label\" for=\"094b5041-9121-4e0d-9998-484855d12b41\">SelectPercentile</label><div class=\"sk-toggleable__content\"><pre>SelectPercentile(percentile=90)</pre></div></div></div></div></div></div></div></div><div class=\"sk-parallel-item\"><div class=\"sk-item\"><div class=\"sk-label-container\"><div class=\"sk-label sk-toggleable\"><input class=\"sk-toggleable__control sk-hidden--visually\" id=\"b292d5b4-786b-43ff-88d6-25fda2eb3b65\" type=\"checkbox\" ><label class=\"sk-toggleable__label\" for=\"b292d5b4-786b-43ff-88d6-25fda2eb3b65\">categorical</label><div class=\"sk-toggleable__content\"><pre>Index(['cat_RevolvingUtilizationOfUnsecuredLines', 'cat_DebtRatio',\n",
       "       'cat_MonthlyIncome', 'cat_NumberOfDependents',\n",
       "       'cat_NumberOfTime60-89DaysPastDueNotWorse',\n",
       "       'cat_NumberRealEstateLoansOrLines', 'cat_NumberOfTimes90DaysLate',\n",
       "       'cat_NumberOfOpenCreditLinesAndLoans',\n",
       "       'cat_NumberOfTime30-59DaysPastDueNotWorse', 'cat_age'],\n",
       "      dtype='object')</pre></div></div></div><div class=\"sk-serial\"><div class=\"sk-item\"><div class=\"sk-serial\"><div class=\"sk-item\"><div class=\"sk-estimator sk-toggleable\"><input class=\"sk-toggleable__control sk-hidden--visually\" id=\"9184656d-b764-4939-9db7-f734d067ffe7\" type=\"checkbox\" ><label class=\"sk-toggleable__label\" for=\"9184656d-b764-4939-9db7-f734d067ffe7\">SimpleImputer</label><div class=\"sk-toggleable__content\"><pre>SimpleImputer(add_indicator=True, fill_value='missing',\n",
       "              strategy='most_frequent')</pre></div></div></div><div class=\"sk-item\"><div class=\"sk-estimator sk-toggleable\"><input class=\"sk-toggleable__control sk-hidden--visually\" id=\"756858a9-0ad2-4692-bf0a-8558c025b866\" type=\"checkbox\" ><label class=\"sk-toggleable__label\" for=\"756858a9-0ad2-4692-bf0a-8558c025b866\">CatBoostEncoder</label><div class=\"sk-toggleable__content\"><pre>CatBoostEncoder()</pre></div></div></div><div class=\"sk-item\"><div class=\"sk-estimator sk-toggleable\"><input class=\"sk-toggleable__control sk-hidden--visually\" id=\"cba18873-94b0-4d3a-aa38-81425a1f480f\" type=\"checkbox\" ><label class=\"sk-toggleable__label\" for=\"cba18873-94b0-4d3a-aa38-81425a1f480f\">SelectPercentile</label><div class=\"sk-toggleable__content\"><pre>SelectPercentile(percentile=90,\n",
       "                 score_func=<function mutual_info_classif at 0x7f91bccf5950>)</pre></div></div></div></div></div></div></div></div></div></div><div class=\"sk-item\"><div class=\"sk-estimator sk-toggleable\"><input class=\"sk-toggleable__control sk-hidden--visually\" id=\"aa7a0250-69ec-477f-906c-ab30dcab7b67\" type=\"checkbox\" ><label class=\"sk-toggleable__label\" for=\"aa7a0250-69ec-477f-906c-ab30dcab7b67\">LGBMClassifier</label><div class=\"sk-toggleable__content\"><pre>LGBMClassifier(device_type='gpu', learning_rate=0.0018069834369607075,\n",
       "               max_depth=8, metric='auc', min_samples_leaf=47,\n",
       "               n_estimators=5000, random_state=42, subsample=0.8573598985000007,\n",
       "               verbose=-1)</pre></div></div></div></div></div></div></div>"
      ],
      "text/plain": [
       "Pipeline(steps=[('preprocessor',\n",
       "                 ColumnTransformer(transformers=[('numerical',\n",
       "                                                  Pipeline(steps=[('outlierhandle',\n",
       "                                                                   OutlierReplace()),\n",
       "                                                                  ('imputer',\n",
       "                                                                   SimpleImputer(add_indicator=True,\n",
       "                                                                                 strategy='median')),\n",
       "                                                                  ('scaler',\n",
       "                                                                   PowerTransformer()),\n",
       "                                                                  ('reducedim',\n",
       "                                                                   SelectPercentile(percentile=90))]),\n",
       "                                                  Index(['RevolvingUtilizationOfUnsecuredLines', 'DebtRatio', 'MonthlyIncome',\n",
       "       'Numbe...\n",
       "       'cat_NumberRealEstateLoansOrLines', 'cat_NumberOfTimes90DaysLate',\n",
       "       'cat_NumberOfOpenCreditLinesAndLoans',\n",
       "       'cat_NumberOfTime30-59DaysPastDueNotWorse', 'cat_age'],\n",
       "      dtype='object'))])),\n",
       "                ('classifier',\n",
       "                 LGBMClassifier(device_type='gpu',\n",
       "                                learning_rate=0.0018069834369607075,\n",
       "                                max_depth=8, metric='auc', min_samples_leaf=47,\n",
       "                                n_estimators=5000, random_state=42,\n",
       "                                subsample=0.8573598985000007, verbose=-1))])"
      ]
     },
     "execution_count": 31,
     "metadata": {},
     "output_type": "execute_result"
    }
   ],
   "source": [
    "#Define vnum pipeline\n",
    "numeric_transformer_outlier = Pipeline(\n",
    "                            steps=[('outlierhandle', OutlierReplace()),\n",
    "                            ('imputer', SimpleImputer(strategy='median'\n",
    "                                                      ,add_indicator=True)),\n",
    "                            ('scaler', PowerTransformer()),#(Numerical Input, Numerical Output)\n",
    "                            # Create an SelectKBest object to select features with two best ANOVA F-Values\n",
    "                            #The F-value scores examine if, when we group the numerical feature by the target vector, the means for each group are significantly different\n",
    "                            ('reducedim',  SelectPercentile(f_classif,percentile=90))\n",
    "                            ]\n",
    "                            )\n",
    "# Features union cat + num \n",
    "# WOE+PowerTransformer\n",
    "preprocessor_catboost_powertransformer_outlier = ColumnTransformer(\n",
    "            transformers=[\n",
    "                ('numerical', numeric_transformer_outlier, num_columns),\n",
    "                ('categorical', categorical_transformer_catboost, cat_columns)\n",
    "            ]\n",
    "            )\n",
    "pipe_lgbm_catboost_powertransformer_outlier = Pipeline(\n",
    "    steps=[\n",
    "        ('preprocessor', preprocessor_catboost_powertransformer_outlier),\n",
    "        ('classifier', lgbm.LGBMClassifier( \n",
    "            #n_jobs=-1,\n",
    "                                           verbose=-1,\n",
    "                                           **lgbm_param))\n",
    "    ]\n",
    ")\n",
    "pipe_lgbm_catboost_powertransformer_outlier"
   ]
  },
  {
   "cell_type": "markdown",
   "id": "609a6b95",
   "metadata": {
    "papermill": {
     "duration": 0.051246,
     "end_time": "2021-12-23T18:02:52.916984",
     "exception": false,
     "start_time": "2021-12-23T18:02:52.865738",
     "status": "completed"
    },
    "tags": []
   },
   "source": [
    "## Drop misssing :CatBoostEncoder + Power transformer"
   ]
  },
  {
   "cell_type": "code",
   "execution_count": 32,
   "id": "17055e86",
   "metadata": {
    "execution": {
     "iopub.execute_input": "2021-12-23T18:02:53.047658Z",
     "iopub.status.busy": "2021-12-23T18:02:53.032303Z",
     "iopub.status.idle": "2021-12-23T18:02:53.458225Z",
     "shell.execute_reply": "2021-12-23T18:02:53.457754Z"
    },
    "papermill": {
     "duration": 0.489682,
     "end_time": "2021-12-23T18:02:53.458339",
     "exception": false,
     "start_time": "2021-12-23T18:02:52.968657",
     "status": "completed"
    },
    "tags": []
   },
   "outputs": [
    {
     "data": {
      "text/html": [
       "<style>div.sk-top-container {color: black;background-color: white;}div.sk-toggleable {background-color: white;}label.sk-toggleable__label {cursor: pointer;display: block;width: 100%;margin-bottom: 0;padding: 0.2em 0.3em;box-sizing: border-box;text-align: center;}div.sk-toggleable__content {max-height: 0;max-width: 0;overflow: hidden;text-align: left;background-color: #f0f8ff;}div.sk-toggleable__content pre {margin: 0.2em;color: black;border-radius: 0.25em;background-color: #f0f8ff;}input.sk-toggleable__control:checked~div.sk-toggleable__content {max-height: 200px;max-width: 100%;overflow: auto;}div.sk-estimator input.sk-toggleable__control:checked~label.sk-toggleable__label {background-color: #d4ebff;}div.sk-label input.sk-toggleable__control:checked~label.sk-toggleable__label {background-color: #d4ebff;}input.sk-hidden--visually {border: 0;clip: rect(1px 1px 1px 1px);clip: rect(1px, 1px, 1px, 1px);height: 1px;margin: -1px;overflow: hidden;padding: 0;position: absolute;width: 1px;}div.sk-estimator {font-family: monospace;background-color: #f0f8ff;margin: 0.25em 0.25em;border: 1px dotted black;border-radius: 0.25em;box-sizing: border-box;}div.sk-estimator:hover {background-color: #d4ebff;}div.sk-parallel-item::after {content: \"\";width: 100%;border-bottom: 1px solid gray;flex-grow: 1;}div.sk-label:hover label.sk-toggleable__label {background-color: #d4ebff;}div.sk-serial::before {content: \"\";position: absolute;border-left: 1px solid gray;box-sizing: border-box;top: 2em;bottom: 0;left: 50%;}div.sk-serial {display: flex;flex-direction: column;align-items: center;background-color: white;}div.sk-item {z-index: 1;}div.sk-parallel {display: flex;align-items: stretch;justify-content: center;background-color: white;}div.sk-parallel-item {display: flex;flex-direction: column;position: relative;background-color: white;}div.sk-parallel-item:first-child::after {align-self: flex-end;width: 50%;}div.sk-parallel-item:last-child::after {align-self: flex-start;width: 50%;}div.sk-parallel-item:only-child::after {width: 0;}div.sk-dashed-wrapped {border: 1px dashed gray;margin: 0.2em;box-sizing: border-box;padding-bottom: 0.1em;background-color: white;position: relative;}div.sk-label label {font-family: monospace;font-weight: bold;background-color: white;display: inline-block;line-height: 1.2em;}div.sk-label-container {position: relative;z-index: 2;text-align: center;}div.sk-container {display: inline-block;position: relative;}</style><div class=\"sk-top-container\"><div class=\"sk-container\"><div class=\"sk-item sk-dashed-wrapped\"><div class=\"sk-label-container\"><div class=\"sk-label sk-toggleable\"><input class=\"sk-toggleable__control sk-hidden--visually\" id=\"9de8c71e-ae05-48a9-aa1d-16c1903ffc42\" type=\"checkbox\" ><label class=\"sk-toggleable__label\" for=\"9de8c71e-ae05-48a9-aa1d-16c1903ffc42\">Pipeline</label><div class=\"sk-toggleable__content\"><pre>Pipeline(steps=[('preprocessor',\n",
       "                 ColumnTransformer(transformers=[('numerical',\n",
       "                                                  Pipeline(steps=[('imputer',\n",
       "                                                                   SimpleImputer(add_indicator=True,\n",
       "                                                                                 strategy='median')),\n",
       "                                                                  ('scaler',\n",
       "                                                                   PowerTransformer()),\n",
       "                                                                  ('reducedim',\n",
       "                                                                   SelectPercentile(percentile=90))]),\n",
       "                                                  Index(['RevolvingUtilizationOfUnsecuredLines', 'DebtRatio',\n",
       "       'NumberOfTime60-89DaysPastDueNotWorse', 'NumberRealEstateL...\n",
       "       'cat_NumberRealEstateLoansOrLines', 'cat_NumberOfTimes90DaysLate',\n",
       "       'cat_NumberOfOpenCreditLinesAndLoans',\n",
       "       'cat_NumberOfTime30-59DaysPastDueNotWorse', 'cat_age'],\n",
       "      dtype='object'))])),\n",
       "                ('classifier',\n",
       "                 LGBMClassifier(device_type='gpu',\n",
       "                                learning_rate=0.0018069834369607075,\n",
       "                                max_depth=8, metric='auc', min_samples_leaf=47,\n",
       "                                n_estimators=5000, random_state=42,\n",
       "                                subsample=0.8573598985000007, verbose=-1))])</pre></div></div></div><div class=\"sk-serial\"><div class=\"sk-item sk-dashed-wrapped\"><div class=\"sk-label-container\"><div class=\"sk-label sk-toggleable\"><input class=\"sk-toggleable__control sk-hidden--visually\" id=\"efbb4408-aa7e-460b-86b4-b0cdee755ffb\" type=\"checkbox\" ><label class=\"sk-toggleable__label\" for=\"efbb4408-aa7e-460b-86b4-b0cdee755ffb\">preprocessor: ColumnTransformer</label><div class=\"sk-toggleable__content\"><pre>ColumnTransformer(transformers=[('numerical',\n",
       "                                 Pipeline(steps=[('imputer',\n",
       "                                                  SimpleImputer(add_indicator=True,\n",
       "                                                                strategy='median')),\n",
       "                                                 ('scaler', PowerTransformer()),\n",
       "                                                 ('reducedim',\n",
       "                                                  SelectPercentile(percentile=90))]),\n",
       "                                 Index(['RevolvingUtilizationOfUnsecuredLines', 'DebtRatio',\n",
       "       'NumberOfTime60-89DaysPastDueNotWorse', 'NumberRealEstateLoansOrLines',\n",
       "       'NumberOfTimes90Day...\n",
       "                                                                   score_func=<function mutual_info_classif at 0x7f91bccf5950>))]),\n",
       "                                 Index(['cat_RevolvingUtilizationOfUnsecuredLines', 'cat_DebtRatio',\n",
       "       'cat_MonthlyIncome', 'cat_NumberOfDependents',\n",
       "       'cat_NumberOfTime60-89DaysPastDueNotWorse',\n",
       "       'cat_NumberRealEstateLoansOrLines', 'cat_NumberOfTimes90DaysLate',\n",
       "       'cat_NumberOfOpenCreditLinesAndLoans',\n",
       "       'cat_NumberOfTime30-59DaysPastDueNotWorse', 'cat_age'],\n",
       "      dtype='object'))])</pre></div></div></div><div class=\"sk-parallel\"><div class=\"sk-parallel-item\"><div class=\"sk-item\"><div class=\"sk-label-container\"><div class=\"sk-label sk-toggleable\"><input class=\"sk-toggleable__control sk-hidden--visually\" id=\"8219a282-75f8-4e25-919e-ac91cc527478\" type=\"checkbox\" ><label class=\"sk-toggleable__label\" for=\"8219a282-75f8-4e25-919e-ac91cc527478\">numerical</label><div class=\"sk-toggleable__content\"><pre>Index(['RevolvingUtilizationOfUnsecuredLines', 'DebtRatio',\n",
       "       'NumberOfTime60-89DaysPastDueNotWorse', 'NumberRealEstateLoansOrLines',\n",
       "       'NumberOfTimes90DaysLate', 'NumberOfOpenCreditLinesAndLoans',\n",
       "       'NumberOfTime30-59DaysPastDueNotWorse', 'age'],\n",
       "      dtype='object')</pre></div></div></div><div class=\"sk-serial\"><div class=\"sk-item\"><div class=\"sk-serial\"><div class=\"sk-item\"><div class=\"sk-estimator sk-toggleable\"><input class=\"sk-toggleable__control sk-hidden--visually\" id=\"9062f149-b468-45ec-aa88-8f16ac989ed8\" type=\"checkbox\" ><label class=\"sk-toggleable__label\" for=\"9062f149-b468-45ec-aa88-8f16ac989ed8\">SimpleImputer</label><div class=\"sk-toggleable__content\"><pre>SimpleImputer(add_indicator=True, strategy='median')</pre></div></div></div><div class=\"sk-item\"><div class=\"sk-estimator sk-toggleable\"><input class=\"sk-toggleable__control sk-hidden--visually\" id=\"f1bbf10b-1359-4ff1-beab-b6b309c1af22\" type=\"checkbox\" ><label class=\"sk-toggleable__label\" for=\"f1bbf10b-1359-4ff1-beab-b6b309c1af22\">PowerTransformer</label><div class=\"sk-toggleable__content\"><pre>PowerTransformer()</pre></div></div></div><div class=\"sk-item\"><div class=\"sk-estimator sk-toggleable\"><input class=\"sk-toggleable__control sk-hidden--visually\" id=\"005b74ae-e63d-44a2-af21-b00cb98f86ef\" type=\"checkbox\" ><label class=\"sk-toggleable__label\" for=\"005b74ae-e63d-44a2-af21-b00cb98f86ef\">SelectPercentile</label><div class=\"sk-toggleable__content\"><pre>SelectPercentile(percentile=90)</pre></div></div></div></div></div></div></div></div><div class=\"sk-parallel-item\"><div class=\"sk-item\"><div class=\"sk-label-container\"><div class=\"sk-label sk-toggleable\"><input class=\"sk-toggleable__control sk-hidden--visually\" id=\"5d0a8dc8-b38b-4f6a-9f42-77fc992accbc\" type=\"checkbox\" ><label class=\"sk-toggleable__label\" for=\"5d0a8dc8-b38b-4f6a-9f42-77fc992accbc\">categorical</label><div class=\"sk-toggleable__content\"><pre>Index(['cat_RevolvingUtilizationOfUnsecuredLines', 'cat_DebtRatio',\n",
       "       'cat_MonthlyIncome', 'cat_NumberOfDependents',\n",
       "       'cat_NumberOfTime60-89DaysPastDueNotWorse',\n",
       "       'cat_NumberRealEstateLoansOrLines', 'cat_NumberOfTimes90DaysLate',\n",
       "       'cat_NumberOfOpenCreditLinesAndLoans',\n",
       "       'cat_NumberOfTime30-59DaysPastDueNotWorse', 'cat_age'],\n",
       "      dtype='object')</pre></div></div></div><div class=\"sk-serial\"><div class=\"sk-item\"><div class=\"sk-serial\"><div class=\"sk-item\"><div class=\"sk-estimator sk-toggleable\"><input class=\"sk-toggleable__control sk-hidden--visually\" id=\"1daffcf0-57a1-4660-a108-781502fb59d6\" type=\"checkbox\" ><label class=\"sk-toggleable__label\" for=\"1daffcf0-57a1-4660-a108-781502fb59d6\">SimpleImputer</label><div class=\"sk-toggleable__content\"><pre>SimpleImputer(add_indicator=True, fill_value='missing',\n",
       "              strategy='most_frequent')</pre></div></div></div><div class=\"sk-item\"><div class=\"sk-estimator sk-toggleable\"><input class=\"sk-toggleable__control sk-hidden--visually\" id=\"1606e743-722d-44e2-a169-38c97b4227b7\" type=\"checkbox\" ><label class=\"sk-toggleable__label\" for=\"1606e743-722d-44e2-a169-38c97b4227b7\">CatBoostEncoder</label><div class=\"sk-toggleable__content\"><pre>CatBoostEncoder()</pre></div></div></div><div class=\"sk-item\"><div class=\"sk-estimator sk-toggleable\"><input class=\"sk-toggleable__control sk-hidden--visually\" id=\"797999fe-eed0-4f0e-9d2d-6db073ab466e\" type=\"checkbox\" ><label class=\"sk-toggleable__label\" for=\"797999fe-eed0-4f0e-9d2d-6db073ab466e\">SelectPercentile</label><div class=\"sk-toggleable__content\"><pre>SelectPercentile(percentile=90,\n",
       "                 score_func=<function mutual_info_classif at 0x7f91bccf5950>)</pre></div></div></div></div></div></div></div></div></div></div><div class=\"sk-item\"><div class=\"sk-estimator sk-toggleable\"><input class=\"sk-toggleable__control sk-hidden--visually\" id=\"6761ccd8-fcf5-440a-bba8-2cbc7b011ead\" type=\"checkbox\" ><label class=\"sk-toggleable__label\" for=\"6761ccd8-fcf5-440a-bba8-2cbc7b011ead\">LGBMClassifier</label><div class=\"sk-toggleable__content\"><pre>LGBMClassifier(device_type='gpu', learning_rate=0.0018069834369607075,\n",
       "               max_depth=8, metric='auc', min_samples_leaf=47,\n",
       "               n_estimators=5000, random_state=42, subsample=0.8573598985000007,\n",
       "               verbose=-1)</pre></div></div></div></div></div></div></div>"
      ],
      "text/plain": [
       "Pipeline(steps=[('preprocessor',\n",
       "                 ColumnTransformer(transformers=[('numerical',\n",
       "                                                  Pipeline(steps=[('imputer',\n",
       "                                                                   SimpleImputer(add_indicator=True,\n",
       "                                                                                 strategy='median')),\n",
       "                                                                  ('scaler',\n",
       "                                                                   PowerTransformer()),\n",
       "                                                                  ('reducedim',\n",
       "                                                                   SelectPercentile(percentile=90))]),\n",
       "                                                  Index(['RevolvingUtilizationOfUnsecuredLines', 'DebtRatio',\n",
       "       'NumberOfTime60-89DaysPastDueNotWorse', 'NumberRealEstateL...\n",
       "       'cat_NumberRealEstateLoansOrLines', 'cat_NumberOfTimes90DaysLate',\n",
       "       'cat_NumberOfOpenCreditLinesAndLoans',\n",
       "       'cat_NumberOfTime30-59DaysPastDueNotWorse', 'cat_age'],\n",
       "      dtype='object'))])),\n",
       "                ('classifier',\n",
       "                 LGBMClassifier(device_type='gpu',\n",
       "                                learning_rate=0.0018069834369607075,\n",
       "                                max_depth=8, metric='auc', min_samples_leaf=47,\n",
       "                                n_estimators=5000, random_state=42,\n",
       "                                subsample=0.8573598985000007, verbose=-1))])"
      ]
     },
     "execution_count": 32,
     "metadata": {},
     "output_type": "execute_result"
    }
   ],
   "source": [
    "# Features union cat + num \n",
    "# WOE+PowerTransformer\n",
    "\n",
    "pipe_lgbm_catboost_powertransformer_without_missing = ColumnTransformer(\n",
    "            transformers=[\n",
    "                ('numerical', numeric_transformer, num_columns_without_missing),\n",
    "                ('categorical', categorical_transformer_catboost, cat_columns_without_missing)\n",
    "            ]\n",
    "            )\n",
    "pipe_lgbm_catboost_powertransformer_without_missing = Pipeline(\n",
    "    steps=[\n",
    "        ('preprocessor', pipe_lgbm_catboost_powertransformer_without_missing),\n",
    "        ('classifier', lgbm.LGBMClassifier( \n",
    "            #n_jobs=-1,\n",
    "                                           verbose=-1,\n",
    "                                           **lgbm_param))\n",
    "    ]\n",
    ")\n",
    "pipe_lgbm_catboost_powertransformer_without_missing"
   ]
  },
  {
   "cell_type": "markdown",
   "id": "9b8ffa77",
   "metadata": {
    "papermill": {
     "duration": 0.0517,
     "end_time": "2021-12-23T18:02:53.562378",
     "exception": false,
     "start_time": "2021-12-23T18:02:53.510678",
     "status": "completed"
    },
    "tags": []
   },
   "source": [
    "## Messing +Outlier handle :CatBoostEncoder + Power transformer"
   ]
  },
  {
   "cell_type": "code",
   "execution_count": 33,
   "id": "ec0da0bd",
   "metadata": {
    "execution": {
     "iopub.execute_input": "2021-12-23T18:02:53.694029Z",
     "iopub.status.busy": "2021-12-23T18:02:53.678862Z",
     "iopub.status.idle": "2021-12-23T18:02:54.128386Z",
     "shell.execute_reply": "2021-12-23T18:02:54.127987Z"
    },
    "papermill": {
     "duration": 0.514737,
     "end_time": "2021-12-23T18:02:54.128519",
     "exception": false,
     "start_time": "2021-12-23T18:02:53.613782",
     "status": "completed"
    },
    "tags": []
   },
   "outputs": [
    {
     "data": {
      "text/html": [
       "<style>div.sk-top-container {color: black;background-color: white;}div.sk-toggleable {background-color: white;}label.sk-toggleable__label {cursor: pointer;display: block;width: 100%;margin-bottom: 0;padding: 0.2em 0.3em;box-sizing: border-box;text-align: center;}div.sk-toggleable__content {max-height: 0;max-width: 0;overflow: hidden;text-align: left;background-color: #f0f8ff;}div.sk-toggleable__content pre {margin: 0.2em;color: black;border-radius: 0.25em;background-color: #f0f8ff;}input.sk-toggleable__control:checked~div.sk-toggleable__content {max-height: 200px;max-width: 100%;overflow: auto;}div.sk-estimator input.sk-toggleable__control:checked~label.sk-toggleable__label {background-color: #d4ebff;}div.sk-label input.sk-toggleable__control:checked~label.sk-toggleable__label {background-color: #d4ebff;}input.sk-hidden--visually {border: 0;clip: rect(1px 1px 1px 1px);clip: rect(1px, 1px, 1px, 1px);height: 1px;margin: -1px;overflow: hidden;padding: 0;position: absolute;width: 1px;}div.sk-estimator {font-family: monospace;background-color: #f0f8ff;margin: 0.25em 0.25em;border: 1px dotted black;border-radius: 0.25em;box-sizing: border-box;}div.sk-estimator:hover {background-color: #d4ebff;}div.sk-parallel-item::after {content: \"\";width: 100%;border-bottom: 1px solid gray;flex-grow: 1;}div.sk-label:hover label.sk-toggleable__label {background-color: #d4ebff;}div.sk-serial::before {content: \"\";position: absolute;border-left: 1px solid gray;box-sizing: border-box;top: 2em;bottom: 0;left: 50%;}div.sk-serial {display: flex;flex-direction: column;align-items: center;background-color: white;}div.sk-item {z-index: 1;}div.sk-parallel {display: flex;align-items: stretch;justify-content: center;background-color: white;}div.sk-parallel-item {display: flex;flex-direction: column;position: relative;background-color: white;}div.sk-parallel-item:first-child::after {align-self: flex-end;width: 50%;}div.sk-parallel-item:last-child::after {align-self: flex-start;width: 50%;}div.sk-parallel-item:only-child::after {width: 0;}div.sk-dashed-wrapped {border: 1px dashed gray;margin: 0.2em;box-sizing: border-box;padding-bottom: 0.1em;background-color: white;position: relative;}div.sk-label label {font-family: monospace;font-weight: bold;background-color: white;display: inline-block;line-height: 1.2em;}div.sk-label-container {position: relative;z-index: 2;text-align: center;}div.sk-container {display: inline-block;position: relative;}</style><div class=\"sk-top-container\"><div class=\"sk-container\"><div class=\"sk-item sk-dashed-wrapped\"><div class=\"sk-label-container\"><div class=\"sk-label sk-toggleable\"><input class=\"sk-toggleable__control sk-hidden--visually\" id=\"78d48c6b-2365-46c8-8a73-eedb08f880b1\" type=\"checkbox\" ><label class=\"sk-toggleable__label\" for=\"78d48c6b-2365-46c8-8a73-eedb08f880b1\">Pipeline</label><div class=\"sk-toggleable__content\"><pre>Pipeline(steps=[('preprocessor',\n",
       "                 ColumnTransformer(transformers=[('numerical',\n",
       "                                                  Pipeline(steps=[('outlierhandle',\n",
       "                                                                   OutlierReplace()),\n",
       "                                                                  ('imputer',\n",
       "                                                                   SimpleImputer(add_indicator=True,\n",
       "                                                                                 strategy='median')),\n",
       "                                                                  ('scaler',\n",
       "                                                                   PowerTransformer()),\n",
       "                                                                  ('reducedim',\n",
       "                                                                   SelectPercentile(percentile=90))]),\n",
       "                                                  Index(['RevolvingUtilizationOfUnsecuredLines', 'DebtRatio',\n",
       "       'NumberOfTime60-89Days...\n",
       "       'cat_NumberRealEstateLoansOrLines', 'cat_NumberOfTimes90DaysLate',\n",
       "       'cat_NumberOfOpenCreditLinesAndLoans',\n",
       "       'cat_NumberOfTime30-59DaysPastDueNotWorse', 'cat_age'],\n",
       "      dtype='object'))])),\n",
       "                ('classifier',\n",
       "                 LGBMClassifier(device_type='gpu',\n",
       "                                learning_rate=0.0018069834369607075,\n",
       "                                max_depth=8, metric='auc', min_samples_leaf=47,\n",
       "                                n_estimators=5000, random_state=42,\n",
       "                                subsample=0.8573598985000007, verbose=-1))])</pre></div></div></div><div class=\"sk-serial\"><div class=\"sk-item sk-dashed-wrapped\"><div class=\"sk-label-container\"><div class=\"sk-label sk-toggleable\"><input class=\"sk-toggleable__control sk-hidden--visually\" id=\"700ae9bc-b685-42f0-accb-52dc2f51dc1d\" type=\"checkbox\" ><label class=\"sk-toggleable__label\" for=\"700ae9bc-b685-42f0-accb-52dc2f51dc1d\">preprocessor: ColumnTransformer</label><div class=\"sk-toggleable__content\"><pre>ColumnTransformer(transformers=[('numerical',\n",
       "                                 Pipeline(steps=[('outlierhandle',\n",
       "                                                  OutlierReplace()),\n",
       "                                                 ('imputer',\n",
       "                                                  SimpleImputer(add_indicator=True,\n",
       "                                                                strategy='median')),\n",
       "                                                 ('scaler', PowerTransformer()),\n",
       "                                                 ('reducedim',\n",
       "                                                  SelectPercentile(percentile=90))]),\n",
       "                                 Index(['RevolvingUtilizationOfUnsecuredLines', 'DebtRatio',\n",
       "       'NumberOfTime60-89DaysPastDueNotWorse', 'NumberRealEsta...\n",
       "                                                                   score_func=<function mutual_info_classif at 0x7f91bccf5950>))]),\n",
       "                                 Index(['cat_RevolvingUtilizationOfUnsecuredLines', 'cat_DebtRatio',\n",
       "       'cat_MonthlyIncome', 'cat_NumberOfDependents',\n",
       "       'cat_NumberOfTime60-89DaysPastDueNotWorse',\n",
       "       'cat_NumberRealEstateLoansOrLines', 'cat_NumberOfTimes90DaysLate',\n",
       "       'cat_NumberOfOpenCreditLinesAndLoans',\n",
       "       'cat_NumberOfTime30-59DaysPastDueNotWorse', 'cat_age'],\n",
       "      dtype='object'))])</pre></div></div></div><div class=\"sk-parallel\"><div class=\"sk-parallel-item\"><div class=\"sk-item\"><div class=\"sk-label-container\"><div class=\"sk-label sk-toggleable\"><input class=\"sk-toggleable__control sk-hidden--visually\" id=\"4a5e4095-038a-4a73-b7b4-b0db27971ec6\" type=\"checkbox\" ><label class=\"sk-toggleable__label\" for=\"4a5e4095-038a-4a73-b7b4-b0db27971ec6\">numerical</label><div class=\"sk-toggleable__content\"><pre>Index(['RevolvingUtilizationOfUnsecuredLines', 'DebtRatio',\n",
       "       'NumberOfTime60-89DaysPastDueNotWorse', 'NumberRealEstateLoansOrLines',\n",
       "       'NumberOfTimes90DaysLate', 'NumberOfOpenCreditLinesAndLoans',\n",
       "       'NumberOfTime30-59DaysPastDueNotWorse', 'age'],\n",
       "      dtype='object')</pre></div></div></div><div class=\"sk-serial\"><div class=\"sk-item\"><div class=\"sk-serial\"><div class=\"sk-item\"><div class=\"sk-estimator sk-toggleable\"><input class=\"sk-toggleable__control sk-hidden--visually\" id=\"9f55a2bf-b568-4472-a02e-9f3cb51a2c2b\" type=\"checkbox\" ><label class=\"sk-toggleable__label\" for=\"9f55a2bf-b568-4472-a02e-9f3cb51a2c2b\">OutlierReplace</label><div class=\"sk-toggleable__content\"><pre>OutlierReplace()</pre></div></div></div><div class=\"sk-item\"><div class=\"sk-estimator sk-toggleable\"><input class=\"sk-toggleable__control sk-hidden--visually\" id=\"7c325af6-1323-4cab-8e6e-e62c8f95e7ec\" type=\"checkbox\" ><label class=\"sk-toggleable__label\" for=\"7c325af6-1323-4cab-8e6e-e62c8f95e7ec\">SimpleImputer</label><div class=\"sk-toggleable__content\"><pre>SimpleImputer(add_indicator=True, strategy='median')</pre></div></div></div><div class=\"sk-item\"><div class=\"sk-estimator sk-toggleable\"><input class=\"sk-toggleable__control sk-hidden--visually\" id=\"ec0eae81-7293-4c1b-8de0-a8d5bc9f2bc0\" type=\"checkbox\" ><label class=\"sk-toggleable__label\" for=\"ec0eae81-7293-4c1b-8de0-a8d5bc9f2bc0\">PowerTransformer</label><div class=\"sk-toggleable__content\"><pre>PowerTransformer()</pre></div></div></div><div class=\"sk-item\"><div class=\"sk-estimator sk-toggleable\"><input class=\"sk-toggleable__control sk-hidden--visually\" id=\"0f56d8a7-4d97-4444-8525-31e7acf55a58\" type=\"checkbox\" ><label class=\"sk-toggleable__label\" for=\"0f56d8a7-4d97-4444-8525-31e7acf55a58\">SelectPercentile</label><div class=\"sk-toggleable__content\"><pre>SelectPercentile(percentile=90)</pre></div></div></div></div></div></div></div></div><div class=\"sk-parallel-item\"><div class=\"sk-item\"><div class=\"sk-label-container\"><div class=\"sk-label sk-toggleable\"><input class=\"sk-toggleable__control sk-hidden--visually\" id=\"ac44901b-d56d-4239-8821-76e10b4c4da9\" type=\"checkbox\" ><label class=\"sk-toggleable__label\" for=\"ac44901b-d56d-4239-8821-76e10b4c4da9\">categorical</label><div class=\"sk-toggleable__content\"><pre>Index(['cat_RevolvingUtilizationOfUnsecuredLines', 'cat_DebtRatio',\n",
       "       'cat_MonthlyIncome', 'cat_NumberOfDependents',\n",
       "       'cat_NumberOfTime60-89DaysPastDueNotWorse',\n",
       "       'cat_NumberRealEstateLoansOrLines', 'cat_NumberOfTimes90DaysLate',\n",
       "       'cat_NumberOfOpenCreditLinesAndLoans',\n",
       "       'cat_NumberOfTime30-59DaysPastDueNotWorse', 'cat_age'],\n",
       "      dtype='object')</pre></div></div></div><div class=\"sk-serial\"><div class=\"sk-item\"><div class=\"sk-serial\"><div class=\"sk-item\"><div class=\"sk-estimator sk-toggleable\"><input class=\"sk-toggleable__control sk-hidden--visually\" id=\"52bd04d0-026f-4a25-84a9-e55b563abe3f\" type=\"checkbox\" ><label class=\"sk-toggleable__label\" for=\"52bd04d0-026f-4a25-84a9-e55b563abe3f\">SimpleImputer</label><div class=\"sk-toggleable__content\"><pre>SimpleImputer(add_indicator=True, fill_value='missing',\n",
       "              strategy='most_frequent')</pre></div></div></div><div class=\"sk-item\"><div class=\"sk-estimator sk-toggleable\"><input class=\"sk-toggleable__control sk-hidden--visually\" id=\"b41f6df2-28c3-41d2-90e6-e51c1b968a23\" type=\"checkbox\" ><label class=\"sk-toggleable__label\" for=\"b41f6df2-28c3-41d2-90e6-e51c1b968a23\">CatBoostEncoder</label><div class=\"sk-toggleable__content\"><pre>CatBoostEncoder()</pre></div></div></div><div class=\"sk-item\"><div class=\"sk-estimator sk-toggleable\"><input class=\"sk-toggleable__control sk-hidden--visually\" id=\"71c1a67f-356f-42df-a4c0-8730c694d49d\" type=\"checkbox\" ><label class=\"sk-toggleable__label\" for=\"71c1a67f-356f-42df-a4c0-8730c694d49d\">SelectPercentile</label><div class=\"sk-toggleable__content\"><pre>SelectPercentile(percentile=90,\n",
       "                 score_func=<function mutual_info_classif at 0x7f91bccf5950>)</pre></div></div></div></div></div></div></div></div></div></div><div class=\"sk-item\"><div class=\"sk-estimator sk-toggleable\"><input class=\"sk-toggleable__control sk-hidden--visually\" id=\"c78220d5-0323-4a2d-b5fb-d93da21af54e\" type=\"checkbox\" ><label class=\"sk-toggleable__label\" for=\"c78220d5-0323-4a2d-b5fb-d93da21af54e\">LGBMClassifier</label><div class=\"sk-toggleable__content\"><pre>LGBMClassifier(device_type='gpu', learning_rate=0.0018069834369607075,\n",
       "               max_depth=8, metric='auc', min_samples_leaf=47,\n",
       "               n_estimators=5000, random_state=42, subsample=0.8573598985000007,\n",
       "               verbose=-1)</pre></div></div></div></div></div></div></div>"
      ],
      "text/plain": [
       "Pipeline(steps=[('preprocessor',\n",
       "                 ColumnTransformer(transformers=[('numerical',\n",
       "                                                  Pipeline(steps=[('outlierhandle',\n",
       "                                                                   OutlierReplace()),\n",
       "                                                                  ('imputer',\n",
       "                                                                   SimpleImputer(add_indicator=True,\n",
       "                                                                                 strategy='median')),\n",
       "                                                                  ('scaler',\n",
       "                                                                   PowerTransformer()),\n",
       "                                                                  ('reducedim',\n",
       "                                                                   SelectPercentile(percentile=90))]),\n",
       "                                                  Index(['RevolvingUtilizationOfUnsecuredLines', 'DebtRatio',\n",
       "       'NumberOfTime60-89Days...\n",
       "       'cat_NumberRealEstateLoansOrLines', 'cat_NumberOfTimes90DaysLate',\n",
       "       'cat_NumberOfOpenCreditLinesAndLoans',\n",
       "       'cat_NumberOfTime30-59DaysPastDueNotWorse', 'cat_age'],\n",
       "      dtype='object'))])),\n",
       "                ('classifier',\n",
       "                 LGBMClassifier(device_type='gpu',\n",
       "                                learning_rate=0.0018069834369607075,\n",
       "                                max_depth=8, metric='auc', min_samples_leaf=47,\n",
       "                                n_estimators=5000, random_state=42,\n",
       "                                subsample=0.8573598985000007, verbose=-1))])"
      ]
     },
     "execution_count": 33,
     "metadata": {},
     "output_type": "execute_result"
    }
   ],
   "source": [
    "# Features union cat + num \n",
    "# WOE+PowerTransformer\n",
    "preprocessor_catboost_powertransformer_outlier_without_missing = ColumnTransformer(\n",
    "            transformers=[\n",
    "                ('numerical', numeric_transformer_outlier, num_columns_without_missing),\n",
    "                ('categorical', categorical_transformer_catboost, cat_columns_without_missing)\n",
    "            ]\n",
    "            )\n",
    "pipe_lgbm_catboost_powertransformer_outlier_without_missing = Pipeline(\n",
    "    steps=[\n",
    "        ('preprocessor', preprocessor_catboost_powertransformer_outlier_without_missing),\n",
    "        ('classifier', lgbm.LGBMClassifier( \n",
    "            #n_jobs=-1,\n",
    "                                           verbose=-1,\n",
    "                                           **lgbm_param))\n",
    "    ]\n",
    ")\n",
    "pipe_lgbm_catboost_powertransformer_outlier_without_missing"
   ]
  },
  {
   "cell_type": "markdown",
   "id": "ee8f4a00",
   "metadata": {
    "papermill": {
     "duration": 0.053005,
     "end_time": "2021-12-23T18:02:54.236763",
     "exception": false,
     "start_time": "2021-12-23T18:02:54.183758",
     "status": "completed"
    },
    "tags": []
   },
   "source": [
    "# Pipe 3: catboost +qauntile transformer  \n"
   ]
  },
  {
   "cell_type": "code",
   "execution_count": 34,
   "id": "c29bdd2a",
   "metadata": {
    "execution": {
     "iopub.execute_input": "2021-12-23T18:02:54.374893Z",
     "iopub.status.busy": "2021-12-23T18:02:54.369724Z",
     "iopub.status.idle": "2021-12-23T18:02:54.796096Z",
     "shell.execute_reply": "2021-12-23T18:02:54.796530Z"
    },
    "papermill": {
     "duration": 0.507301,
     "end_time": "2021-12-23T18:02:54.796684",
     "exception": false,
     "start_time": "2021-12-23T18:02:54.289383",
     "status": "completed"
    },
    "tags": []
   },
   "outputs": [
    {
     "data": {
      "text/html": [
       "<style>div.sk-top-container {color: black;background-color: white;}div.sk-toggleable {background-color: white;}label.sk-toggleable__label {cursor: pointer;display: block;width: 100%;margin-bottom: 0;padding: 0.2em 0.3em;box-sizing: border-box;text-align: center;}div.sk-toggleable__content {max-height: 0;max-width: 0;overflow: hidden;text-align: left;background-color: #f0f8ff;}div.sk-toggleable__content pre {margin: 0.2em;color: black;border-radius: 0.25em;background-color: #f0f8ff;}input.sk-toggleable__control:checked~div.sk-toggleable__content {max-height: 200px;max-width: 100%;overflow: auto;}div.sk-estimator input.sk-toggleable__control:checked~label.sk-toggleable__label {background-color: #d4ebff;}div.sk-label input.sk-toggleable__control:checked~label.sk-toggleable__label {background-color: #d4ebff;}input.sk-hidden--visually {border: 0;clip: rect(1px 1px 1px 1px);clip: rect(1px, 1px, 1px, 1px);height: 1px;margin: -1px;overflow: hidden;padding: 0;position: absolute;width: 1px;}div.sk-estimator {font-family: monospace;background-color: #f0f8ff;margin: 0.25em 0.25em;border: 1px dotted black;border-radius: 0.25em;box-sizing: border-box;}div.sk-estimator:hover {background-color: #d4ebff;}div.sk-parallel-item::after {content: \"\";width: 100%;border-bottom: 1px solid gray;flex-grow: 1;}div.sk-label:hover label.sk-toggleable__label {background-color: #d4ebff;}div.sk-serial::before {content: \"\";position: absolute;border-left: 1px solid gray;box-sizing: border-box;top: 2em;bottom: 0;left: 50%;}div.sk-serial {display: flex;flex-direction: column;align-items: center;background-color: white;}div.sk-item {z-index: 1;}div.sk-parallel {display: flex;align-items: stretch;justify-content: center;background-color: white;}div.sk-parallel-item {display: flex;flex-direction: column;position: relative;background-color: white;}div.sk-parallel-item:first-child::after {align-self: flex-end;width: 50%;}div.sk-parallel-item:last-child::after {align-self: flex-start;width: 50%;}div.sk-parallel-item:only-child::after {width: 0;}div.sk-dashed-wrapped {border: 1px dashed gray;margin: 0.2em;box-sizing: border-box;padding-bottom: 0.1em;background-color: white;position: relative;}div.sk-label label {font-family: monospace;font-weight: bold;background-color: white;display: inline-block;line-height: 1.2em;}div.sk-label-container {position: relative;z-index: 2;text-align: center;}div.sk-container {display: inline-block;position: relative;}</style><div class=\"sk-top-container\"><div class=\"sk-container\"><div class=\"sk-item sk-dashed-wrapped\"><div class=\"sk-label-container\"><div class=\"sk-label sk-toggleable\"><input class=\"sk-toggleable__control sk-hidden--visually\" id=\"b6d01a79-517b-44c5-8559-c9cf8b37da3e\" type=\"checkbox\" ><label class=\"sk-toggleable__label\" for=\"b6d01a79-517b-44c5-8559-c9cf8b37da3e\">Pipeline</label><div class=\"sk-toggleable__content\"><pre>Pipeline(steps=[('preprocessor',\n",
       "                 ColumnTransformer(transformers=[('numerical',\n",
       "                                                  Pipeline(steps=[('imputer',\n",
       "                                                                   SimpleImputer(add_indicator=True,\n",
       "                                                                                 strategy='median')),\n",
       "                                                                  ('scaler',\n",
       "                                                                   QuantileTransformer()),\n",
       "                                                                  ('reducedim',\n",
       "                                                                   SelectPercentile(percentile=90))]),\n",
       "                                                  Index(['RevolvingUtilizationOfUnsecuredLines', 'DebtRatio', 'MonthlyIncome',\n",
       "       'NumberOfDependents', 'NumberOfTime60-8...\n",
       "       'cat_NumberRealEstateLoansOrLines', 'cat_NumberOfTimes90DaysLate',\n",
       "       'cat_NumberOfOpenCreditLinesAndLoans',\n",
       "       'cat_NumberOfTime30-59DaysPastDueNotWorse', 'cat_age'],\n",
       "      dtype='object'))])),\n",
       "                ('classifier',\n",
       "                 LGBMClassifier(device_type='gpu',\n",
       "                                learning_rate=0.0018069834369607075,\n",
       "                                max_depth=8, metric='auc', min_samples_leaf=47,\n",
       "                                n_estimators=5000, random_state=42,\n",
       "                                subsample=0.8573598985000007, verbose=-1))])</pre></div></div></div><div class=\"sk-serial\"><div class=\"sk-item sk-dashed-wrapped\"><div class=\"sk-label-container\"><div class=\"sk-label sk-toggleable\"><input class=\"sk-toggleable__control sk-hidden--visually\" id=\"b4a45b76-3d08-4c55-bf52-4a46e0328d30\" type=\"checkbox\" ><label class=\"sk-toggleable__label\" for=\"b4a45b76-3d08-4c55-bf52-4a46e0328d30\">preprocessor: ColumnTransformer</label><div class=\"sk-toggleable__content\"><pre>ColumnTransformer(transformers=[('numerical',\n",
       "                                 Pipeline(steps=[('imputer',\n",
       "                                                  SimpleImputer(add_indicator=True,\n",
       "                                                                strategy='median')),\n",
       "                                                 ('scaler',\n",
       "                                                  QuantileTransformer()),\n",
       "                                                 ('reducedim',\n",
       "                                                  SelectPercentile(percentile=90))]),\n",
       "                                 Index(['RevolvingUtilizationOfUnsecuredLines', 'DebtRatio', 'MonthlyIncome',\n",
       "       'NumberOfDependents', 'NumberOfTime60-89DaysPastDueNotWorse',\n",
       "       'NumberRea...\n",
       "                                                                   score_func=<function mutual_info_classif at 0x7f91bccf5950>))]),\n",
       "                                 Index(['cat_RevolvingUtilizationOfUnsecuredLines', 'cat_DebtRatio',\n",
       "       'cat_MonthlyIncome', 'cat_NumberOfDependents',\n",
       "       'cat_NumberOfTime60-89DaysPastDueNotWorse',\n",
       "       'cat_NumberRealEstateLoansOrLines', 'cat_NumberOfTimes90DaysLate',\n",
       "       'cat_NumberOfOpenCreditLinesAndLoans',\n",
       "       'cat_NumberOfTime30-59DaysPastDueNotWorse', 'cat_age'],\n",
       "      dtype='object'))])</pre></div></div></div><div class=\"sk-parallel\"><div class=\"sk-parallel-item\"><div class=\"sk-item\"><div class=\"sk-label-container\"><div class=\"sk-label sk-toggleable\"><input class=\"sk-toggleable__control sk-hidden--visually\" id=\"c307d18a-70f9-414c-8dcc-d451705cc134\" type=\"checkbox\" ><label class=\"sk-toggleable__label\" for=\"c307d18a-70f9-414c-8dcc-d451705cc134\">numerical</label><div class=\"sk-toggleable__content\"><pre>Index(['RevolvingUtilizationOfUnsecuredLines', 'DebtRatio', 'MonthlyIncome',\n",
       "       'NumberOfDependents', 'NumberOfTime60-89DaysPastDueNotWorse',\n",
       "       'NumberRealEstateLoansOrLines', 'NumberOfTimes90DaysLate',\n",
       "       'NumberOfOpenCreditLinesAndLoans',\n",
       "       'NumberOfTime30-59DaysPastDueNotWorse', 'age'],\n",
       "      dtype='object')</pre></div></div></div><div class=\"sk-serial\"><div class=\"sk-item\"><div class=\"sk-serial\"><div class=\"sk-item\"><div class=\"sk-estimator sk-toggleable\"><input class=\"sk-toggleable__control sk-hidden--visually\" id=\"1aced799-2329-4ab0-9510-8d965240d673\" type=\"checkbox\" ><label class=\"sk-toggleable__label\" for=\"1aced799-2329-4ab0-9510-8d965240d673\">SimpleImputer</label><div class=\"sk-toggleable__content\"><pre>SimpleImputer(add_indicator=True, strategy='median')</pre></div></div></div><div class=\"sk-item\"><div class=\"sk-estimator sk-toggleable\"><input class=\"sk-toggleable__control sk-hidden--visually\" id=\"f3090019-7769-4f7a-8937-2ddbff14c182\" type=\"checkbox\" ><label class=\"sk-toggleable__label\" for=\"f3090019-7769-4f7a-8937-2ddbff14c182\">QuantileTransformer</label><div class=\"sk-toggleable__content\"><pre>QuantileTransformer()</pre></div></div></div><div class=\"sk-item\"><div class=\"sk-estimator sk-toggleable\"><input class=\"sk-toggleable__control sk-hidden--visually\" id=\"173cc4b4-662e-4ce4-a4eb-a9eaf1fb1cb3\" type=\"checkbox\" ><label class=\"sk-toggleable__label\" for=\"173cc4b4-662e-4ce4-a4eb-a9eaf1fb1cb3\">SelectPercentile</label><div class=\"sk-toggleable__content\"><pre>SelectPercentile(percentile=90)</pre></div></div></div></div></div></div></div></div><div class=\"sk-parallel-item\"><div class=\"sk-item\"><div class=\"sk-label-container\"><div class=\"sk-label sk-toggleable\"><input class=\"sk-toggleable__control sk-hidden--visually\" id=\"71245f2e-25ec-47bc-aefa-d556ab55919b\" type=\"checkbox\" ><label class=\"sk-toggleable__label\" for=\"71245f2e-25ec-47bc-aefa-d556ab55919b\">categorical</label><div class=\"sk-toggleable__content\"><pre>Index(['cat_RevolvingUtilizationOfUnsecuredLines', 'cat_DebtRatio',\n",
       "       'cat_MonthlyIncome', 'cat_NumberOfDependents',\n",
       "       'cat_NumberOfTime60-89DaysPastDueNotWorse',\n",
       "       'cat_NumberRealEstateLoansOrLines', 'cat_NumberOfTimes90DaysLate',\n",
       "       'cat_NumberOfOpenCreditLinesAndLoans',\n",
       "       'cat_NumberOfTime30-59DaysPastDueNotWorse', 'cat_age'],\n",
       "      dtype='object')</pre></div></div></div><div class=\"sk-serial\"><div class=\"sk-item\"><div class=\"sk-serial\"><div class=\"sk-item\"><div class=\"sk-estimator sk-toggleable\"><input class=\"sk-toggleable__control sk-hidden--visually\" id=\"3474faf0-3216-43e3-a554-3ce1ef21876f\" type=\"checkbox\" ><label class=\"sk-toggleable__label\" for=\"3474faf0-3216-43e3-a554-3ce1ef21876f\">SimpleImputer</label><div class=\"sk-toggleable__content\"><pre>SimpleImputer(add_indicator=True, fill_value='missing',\n",
       "              strategy='most_frequent')</pre></div></div></div><div class=\"sk-item\"><div class=\"sk-estimator sk-toggleable\"><input class=\"sk-toggleable__control sk-hidden--visually\" id=\"e2791391-5483-4be4-81b4-87a6312f0455\" type=\"checkbox\" ><label class=\"sk-toggleable__label\" for=\"e2791391-5483-4be4-81b4-87a6312f0455\">CatBoostEncoder</label><div class=\"sk-toggleable__content\"><pre>CatBoostEncoder()</pre></div></div></div><div class=\"sk-item\"><div class=\"sk-estimator sk-toggleable\"><input class=\"sk-toggleable__control sk-hidden--visually\" id=\"561091fe-2398-4178-bd5e-da2a87ebdead\" type=\"checkbox\" ><label class=\"sk-toggleable__label\" for=\"561091fe-2398-4178-bd5e-da2a87ebdead\">SelectPercentile</label><div class=\"sk-toggleable__content\"><pre>SelectPercentile(percentile=90,\n",
       "                 score_func=<function mutual_info_classif at 0x7f91bccf5950>)</pre></div></div></div></div></div></div></div></div></div></div><div class=\"sk-item\"><div class=\"sk-estimator sk-toggleable\"><input class=\"sk-toggleable__control sk-hidden--visually\" id=\"32632132-a7bb-4cfb-90ce-d82905c22e17\" type=\"checkbox\" ><label class=\"sk-toggleable__label\" for=\"32632132-a7bb-4cfb-90ce-d82905c22e17\">LGBMClassifier</label><div class=\"sk-toggleable__content\"><pre>LGBMClassifier(device_type='gpu', learning_rate=0.0018069834369607075,\n",
       "               max_depth=8, metric='auc', min_samples_leaf=47,\n",
       "               n_estimators=5000, random_state=42, subsample=0.8573598985000007,\n",
       "               verbose=-1)</pre></div></div></div></div></div></div></div>"
      ],
      "text/plain": [
       "Pipeline(steps=[('preprocessor',\n",
       "                 ColumnTransformer(transformers=[('numerical',\n",
       "                                                  Pipeline(steps=[('imputer',\n",
       "                                                                   SimpleImputer(add_indicator=True,\n",
       "                                                                                 strategy='median')),\n",
       "                                                                  ('scaler',\n",
       "                                                                   QuantileTransformer()),\n",
       "                                                                  ('reducedim',\n",
       "                                                                   SelectPercentile(percentile=90))]),\n",
       "                                                  Index(['RevolvingUtilizationOfUnsecuredLines', 'DebtRatio', 'MonthlyIncome',\n",
       "       'NumberOfDependents', 'NumberOfTime60-8...\n",
       "       'cat_NumberRealEstateLoansOrLines', 'cat_NumberOfTimes90DaysLate',\n",
       "       'cat_NumberOfOpenCreditLinesAndLoans',\n",
       "       'cat_NumberOfTime30-59DaysPastDueNotWorse', 'cat_age'],\n",
       "      dtype='object'))])),\n",
       "                ('classifier',\n",
       "                 LGBMClassifier(device_type='gpu',\n",
       "                                learning_rate=0.0018069834369607075,\n",
       "                                max_depth=8, metric='auc', min_samples_leaf=47,\n",
       "                                n_estimators=5000, random_state=42,\n",
       "                                subsample=0.8573598985000007, verbose=-1))])"
      ]
     },
     "execution_count": 34,
     "metadata": {},
     "output_type": "execute_result"
    }
   ],
   "source": [
    "# complete pipe :\n",
    "# select the float/cat columns\n",
    "#cat_feautres = X.select_dtypes(include=['object','category']).columns\n",
    "#num_features = X.select_dtypes(exclude=['object','category']).columns\n",
    "categorical_transformer_catboost = Pipeline(\n",
    "                    steps=[\n",
    "                        ('imputer', SimpleImputer(strategy='most_frequent',\n",
    "                                                  fill_value='missing',\n",
    "                                                  add_indicator=True)),\n",
    "                        ('encoder',  ce.cat_boost.CatBoostEncoder()),#(Numerical Input, Categorical Output)\n",
    "                         ('reducedim',  SelectPercentile( mutual_info_classif,\n",
    "                                                        percentile=90))\n",
    "\n",
    "                    ]\n",
    "                    ) \n",
    "numeric_transformer_quantile = Pipeline(\n",
    "                            steps=[\n",
    "                            ('imputer', SimpleImputer(strategy='median'\n",
    "                                                      ,add_indicator=True)),\n",
    "                            ('scaler', QuantileTransformer()),#(Numerical Input, Numerical Output)\n",
    "                            # Create an SelectKBest object to select features with two best ANOVA F-Values\n",
    "                            #The F-value scores examine if, when we group the numerical feature by the target vector, the means for each group are significantly different\n",
    "                            ('reducedim',  SelectPercentile(f_classif,\n",
    "                                                            percentile=90))\n",
    "                                # i used 90 before\n",
    "\n",
    "                            ]\n",
    "                            )\n",
    "# Features union cat + num \n",
    "# Catboost+QuantileTransformer\n",
    "preprocessor_catboost_qauntile = ColumnTransformer(\n",
    "            transformers=[\n",
    "                ('numerical', numeric_transformer_quantile, num_columns),\n",
    "                ('categorical', categorical_transformer_catboost, cat_columns)\n",
    "            ]\n",
    "            )\n",
    "pipe_lgbm_catboost_qauntile = Pipeline(\n",
    "    steps=[\n",
    "        ('preprocessor', preprocessor_catboost_qauntile),\n",
    "        ('classifier', lgbm.LGBMClassifier( \n",
    "            #n_jobs=-1,\n",
    "                                           verbose=-1,\n",
    "                                           **lgbm_param))\n",
    "    ]\n",
    ")\n",
    "pipe_lgbm_catboost_qauntile"
   ]
  },
  {
   "cell_type": "markdown",
   "id": "cae25af8",
   "metadata": {
    "papermill": {
     "duration": 0.053523,
     "end_time": "2021-12-23T18:02:54.904278",
     "exception": false,
     "start_time": "2021-12-23T18:02:54.850755",
     "status": "completed"
    },
    "tags": []
   },
   "source": [
    "## Add Outlier Handle:catboost +qauntile transformer  "
   ]
  },
  {
   "cell_type": "code",
   "execution_count": 35,
   "id": "3e7559ca",
   "metadata": {
    "execution": {
     "iopub.execute_input": "2021-12-23T18:02:55.059069Z",
     "iopub.status.busy": "2021-12-23T18:02:55.043905Z",
     "iopub.status.idle": "2021-12-23T18:02:55.504810Z",
     "shell.execute_reply": "2021-12-23T18:02:55.505211Z"
    },
    "papermill": {
     "duration": 0.548373,
     "end_time": "2021-12-23T18:02:55.505363",
     "exception": false,
     "start_time": "2021-12-23T18:02:54.956990",
     "status": "completed"
    },
    "tags": []
   },
   "outputs": [
    {
     "data": {
      "text/html": [
       "<style>div.sk-top-container {color: black;background-color: white;}div.sk-toggleable {background-color: white;}label.sk-toggleable__label {cursor: pointer;display: block;width: 100%;margin-bottom: 0;padding: 0.2em 0.3em;box-sizing: border-box;text-align: center;}div.sk-toggleable__content {max-height: 0;max-width: 0;overflow: hidden;text-align: left;background-color: #f0f8ff;}div.sk-toggleable__content pre {margin: 0.2em;color: black;border-radius: 0.25em;background-color: #f0f8ff;}input.sk-toggleable__control:checked~div.sk-toggleable__content {max-height: 200px;max-width: 100%;overflow: auto;}div.sk-estimator input.sk-toggleable__control:checked~label.sk-toggleable__label {background-color: #d4ebff;}div.sk-label input.sk-toggleable__control:checked~label.sk-toggleable__label {background-color: #d4ebff;}input.sk-hidden--visually {border: 0;clip: rect(1px 1px 1px 1px);clip: rect(1px, 1px, 1px, 1px);height: 1px;margin: -1px;overflow: hidden;padding: 0;position: absolute;width: 1px;}div.sk-estimator {font-family: monospace;background-color: #f0f8ff;margin: 0.25em 0.25em;border: 1px dotted black;border-radius: 0.25em;box-sizing: border-box;}div.sk-estimator:hover {background-color: #d4ebff;}div.sk-parallel-item::after {content: \"\";width: 100%;border-bottom: 1px solid gray;flex-grow: 1;}div.sk-label:hover label.sk-toggleable__label {background-color: #d4ebff;}div.sk-serial::before {content: \"\";position: absolute;border-left: 1px solid gray;box-sizing: border-box;top: 2em;bottom: 0;left: 50%;}div.sk-serial {display: flex;flex-direction: column;align-items: center;background-color: white;}div.sk-item {z-index: 1;}div.sk-parallel {display: flex;align-items: stretch;justify-content: center;background-color: white;}div.sk-parallel-item {display: flex;flex-direction: column;position: relative;background-color: white;}div.sk-parallel-item:first-child::after {align-self: flex-end;width: 50%;}div.sk-parallel-item:last-child::after {align-self: flex-start;width: 50%;}div.sk-parallel-item:only-child::after {width: 0;}div.sk-dashed-wrapped {border: 1px dashed gray;margin: 0.2em;box-sizing: border-box;padding-bottom: 0.1em;background-color: white;position: relative;}div.sk-label label {font-family: monospace;font-weight: bold;background-color: white;display: inline-block;line-height: 1.2em;}div.sk-label-container {position: relative;z-index: 2;text-align: center;}div.sk-container {display: inline-block;position: relative;}</style><div class=\"sk-top-container\"><div class=\"sk-container\"><div class=\"sk-item sk-dashed-wrapped\"><div class=\"sk-label-container\"><div class=\"sk-label sk-toggleable\"><input class=\"sk-toggleable__control sk-hidden--visually\" id=\"e74e5048-11f7-4ec8-b6b7-c052b5e3e2a9\" type=\"checkbox\" ><label class=\"sk-toggleable__label\" for=\"e74e5048-11f7-4ec8-b6b7-c052b5e3e2a9\">Pipeline</label><div class=\"sk-toggleable__content\"><pre>Pipeline(steps=[('preprocessor',\n",
       "                 ColumnTransformer(transformers=[('numerical',\n",
       "                                                  Pipeline(steps=[('outlierhandle',\n",
       "                                                                   OutlierReplace()),\n",
       "                                                                  ('imputer',\n",
       "                                                                   SimpleImputer(add_indicator=True,\n",
       "                                                                                 strategy='median')),\n",
       "                                                                  ('scaler',\n",
       "                                                                   QuantileTransformer()),\n",
       "                                                                  ('reducedim',\n",
       "                                                                   SelectPercentile(percentile=90))]),\n",
       "                                                  Index(['RevolvingUtilizationOfUnsecuredLines', 'DebtRatio', 'MonthlyIncome',\n",
       "       'Nu...\n",
       "       'cat_NumberRealEstateLoansOrLines', 'cat_NumberOfTimes90DaysLate',\n",
       "       'cat_NumberOfOpenCreditLinesAndLoans',\n",
       "       'cat_NumberOfTime30-59DaysPastDueNotWorse', 'cat_age'],\n",
       "      dtype='object'))])),\n",
       "                ('classifier',\n",
       "                 LGBMClassifier(device_type='gpu',\n",
       "                                learning_rate=0.0018069834369607075,\n",
       "                                max_depth=8, metric='auc', min_samples_leaf=47,\n",
       "                                n_estimators=5000, random_state=42,\n",
       "                                subsample=0.8573598985000007, verbose=-1))])</pre></div></div></div><div class=\"sk-serial\"><div class=\"sk-item sk-dashed-wrapped\"><div class=\"sk-label-container\"><div class=\"sk-label sk-toggleable\"><input class=\"sk-toggleable__control sk-hidden--visually\" id=\"43b66556-2250-44ad-be0c-b2586946d4a2\" type=\"checkbox\" ><label class=\"sk-toggleable__label\" for=\"43b66556-2250-44ad-be0c-b2586946d4a2\">preprocessor: ColumnTransformer</label><div class=\"sk-toggleable__content\"><pre>ColumnTransformer(transformers=[('numerical',\n",
       "                                 Pipeline(steps=[('outlierhandle',\n",
       "                                                  OutlierReplace()),\n",
       "                                                 ('imputer',\n",
       "                                                  SimpleImputer(add_indicator=True,\n",
       "                                                                strategy='median')),\n",
       "                                                 ('scaler',\n",
       "                                                  QuantileTransformer()),\n",
       "                                                 ('reducedim',\n",
       "                                                  SelectPercentile(percentile=90))]),\n",
       "                                 Index(['RevolvingUtilizationOfUnsecuredLines', 'DebtRatio', 'MonthlyIncome',\n",
       "       'NumberOfDependents', 'NumberOfTime6...\n",
       "                                                                   score_func=<function mutual_info_classif at 0x7f91bccf5950>))]),\n",
       "                                 Index(['cat_RevolvingUtilizationOfUnsecuredLines', 'cat_DebtRatio',\n",
       "       'cat_MonthlyIncome', 'cat_NumberOfDependents',\n",
       "       'cat_NumberOfTime60-89DaysPastDueNotWorse',\n",
       "       'cat_NumberRealEstateLoansOrLines', 'cat_NumberOfTimes90DaysLate',\n",
       "       'cat_NumberOfOpenCreditLinesAndLoans',\n",
       "       'cat_NumberOfTime30-59DaysPastDueNotWorse', 'cat_age'],\n",
       "      dtype='object'))])</pre></div></div></div><div class=\"sk-parallel\"><div class=\"sk-parallel-item\"><div class=\"sk-item\"><div class=\"sk-label-container\"><div class=\"sk-label sk-toggleable\"><input class=\"sk-toggleable__control sk-hidden--visually\" id=\"6f2f4e44-11d2-4583-a8e6-70baf8cf0a75\" type=\"checkbox\" ><label class=\"sk-toggleable__label\" for=\"6f2f4e44-11d2-4583-a8e6-70baf8cf0a75\">numerical</label><div class=\"sk-toggleable__content\"><pre>Index(['RevolvingUtilizationOfUnsecuredLines', 'DebtRatio', 'MonthlyIncome',\n",
       "       'NumberOfDependents', 'NumberOfTime60-89DaysPastDueNotWorse',\n",
       "       'NumberRealEstateLoansOrLines', 'NumberOfTimes90DaysLate',\n",
       "       'NumberOfOpenCreditLinesAndLoans',\n",
       "       'NumberOfTime30-59DaysPastDueNotWorse', 'age'],\n",
       "      dtype='object')</pre></div></div></div><div class=\"sk-serial\"><div class=\"sk-item\"><div class=\"sk-serial\"><div class=\"sk-item\"><div class=\"sk-estimator sk-toggleable\"><input class=\"sk-toggleable__control sk-hidden--visually\" id=\"92863cbc-e195-4e8a-8ff3-a93f12c04bae\" type=\"checkbox\" ><label class=\"sk-toggleable__label\" for=\"92863cbc-e195-4e8a-8ff3-a93f12c04bae\">OutlierReplace</label><div class=\"sk-toggleable__content\"><pre>OutlierReplace()</pre></div></div></div><div class=\"sk-item\"><div class=\"sk-estimator sk-toggleable\"><input class=\"sk-toggleable__control sk-hidden--visually\" id=\"ba365a52-5c0d-4415-810a-80f5a26f191a\" type=\"checkbox\" ><label class=\"sk-toggleable__label\" for=\"ba365a52-5c0d-4415-810a-80f5a26f191a\">SimpleImputer</label><div class=\"sk-toggleable__content\"><pre>SimpleImputer(add_indicator=True, strategy='median')</pre></div></div></div><div class=\"sk-item\"><div class=\"sk-estimator sk-toggleable\"><input class=\"sk-toggleable__control sk-hidden--visually\" id=\"d71b377a-6c4f-45d6-978b-44d4edd2d3a3\" type=\"checkbox\" ><label class=\"sk-toggleable__label\" for=\"d71b377a-6c4f-45d6-978b-44d4edd2d3a3\">QuantileTransformer</label><div class=\"sk-toggleable__content\"><pre>QuantileTransformer()</pre></div></div></div><div class=\"sk-item\"><div class=\"sk-estimator sk-toggleable\"><input class=\"sk-toggleable__control sk-hidden--visually\" id=\"5f557549-4f98-4ba5-8dd3-76cb34d6b6c8\" type=\"checkbox\" ><label class=\"sk-toggleable__label\" for=\"5f557549-4f98-4ba5-8dd3-76cb34d6b6c8\">SelectPercentile</label><div class=\"sk-toggleable__content\"><pre>SelectPercentile(percentile=90)</pre></div></div></div></div></div></div></div></div><div class=\"sk-parallel-item\"><div class=\"sk-item\"><div class=\"sk-label-container\"><div class=\"sk-label sk-toggleable\"><input class=\"sk-toggleable__control sk-hidden--visually\" id=\"fcb90874-5129-4386-a094-bf0e181faff6\" type=\"checkbox\" ><label class=\"sk-toggleable__label\" for=\"fcb90874-5129-4386-a094-bf0e181faff6\">categorical</label><div class=\"sk-toggleable__content\"><pre>Index(['cat_RevolvingUtilizationOfUnsecuredLines', 'cat_DebtRatio',\n",
       "       'cat_MonthlyIncome', 'cat_NumberOfDependents',\n",
       "       'cat_NumberOfTime60-89DaysPastDueNotWorse',\n",
       "       'cat_NumberRealEstateLoansOrLines', 'cat_NumberOfTimes90DaysLate',\n",
       "       'cat_NumberOfOpenCreditLinesAndLoans',\n",
       "       'cat_NumberOfTime30-59DaysPastDueNotWorse', 'cat_age'],\n",
       "      dtype='object')</pre></div></div></div><div class=\"sk-serial\"><div class=\"sk-item\"><div class=\"sk-serial\"><div class=\"sk-item\"><div class=\"sk-estimator sk-toggleable\"><input class=\"sk-toggleable__control sk-hidden--visually\" id=\"0d50cf75-be23-4289-9c4d-65b494b85df3\" type=\"checkbox\" ><label class=\"sk-toggleable__label\" for=\"0d50cf75-be23-4289-9c4d-65b494b85df3\">SimpleImputer</label><div class=\"sk-toggleable__content\"><pre>SimpleImputer(add_indicator=True, fill_value='missing',\n",
       "              strategy='most_frequent')</pre></div></div></div><div class=\"sk-item\"><div class=\"sk-estimator sk-toggleable\"><input class=\"sk-toggleable__control sk-hidden--visually\" id=\"80bcf5a6-b3ee-4630-a749-3255f51240ce\" type=\"checkbox\" ><label class=\"sk-toggleable__label\" for=\"80bcf5a6-b3ee-4630-a749-3255f51240ce\">CatBoostEncoder</label><div class=\"sk-toggleable__content\"><pre>CatBoostEncoder()</pre></div></div></div><div class=\"sk-item\"><div class=\"sk-estimator sk-toggleable\"><input class=\"sk-toggleable__control sk-hidden--visually\" id=\"612e1216-5746-458c-be6b-46f603354de1\" type=\"checkbox\" ><label class=\"sk-toggleable__label\" for=\"612e1216-5746-458c-be6b-46f603354de1\">SelectPercentile</label><div class=\"sk-toggleable__content\"><pre>SelectPercentile(percentile=90,\n",
       "                 score_func=<function mutual_info_classif at 0x7f91bccf5950>)</pre></div></div></div></div></div></div></div></div></div></div><div class=\"sk-item\"><div class=\"sk-estimator sk-toggleable\"><input class=\"sk-toggleable__control sk-hidden--visually\" id=\"5ee8b9d1-7f15-4c39-8224-7f46b16c1c65\" type=\"checkbox\" ><label class=\"sk-toggleable__label\" for=\"5ee8b9d1-7f15-4c39-8224-7f46b16c1c65\">LGBMClassifier</label><div class=\"sk-toggleable__content\"><pre>LGBMClassifier(device_type='gpu', learning_rate=0.0018069834369607075,\n",
       "               max_depth=8, metric='auc', min_samples_leaf=47,\n",
       "               n_estimators=5000, random_state=42, subsample=0.8573598985000007,\n",
       "               verbose=-1)</pre></div></div></div></div></div></div></div>"
      ],
      "text/plain": [
       "Pipeline(steps=[('preprocessor',\n",
       "                 ColumnTransformer(transformers=[('numerical',\n",
       "                                                  Pipeline(steps=[('outlierhandle',\n",
       "                                                                   OutlierReplace()),\n",
       "                                                                  ('imputer',\n",
       "                                                                   SimpleImputer(add_indicator=True,\n",
       "                                                                                 strategy='median')),\n",
       "                                                                  ('scaler',\n",
       "                                                                   QuantileTransformer()),\n",
       "                                                                  ('reducedim',\n",
       "                                                                   SelectPercentile(percentile=90))]),\n",
       "                                                  Index(['RevolvingUtilizationOfUnsecuredLines', 'DebtRatio', 'MonthlyIncome',\n",
       "       'Nu...\n",
       "       'cat_NumberRealEstateLoansOrLines', 'cat_NumberOfTimes90DaysLate',\n",
       "       'cat_NumberOfOpenCreditLinesAndLoans',\n",
       "       'cat_NumberOfTime30-59DaysPastDueNotWorse', 'cat_age'],\n",
       "      dtype='object'))])),\n",
       "                ('classifier',\n",
       "                 LGBMClassifier(device_type='gpu',\n",
       "                                learning_rate=0.0018069834369607075,\n",
       "                                max_depth=8, metric='auc', min_samples_leaf=47,\n",
       "                                n_estimators=5000, random_state=42,\n",
       "                                subsample=0.8573598985000007, verbose=-1))])"
      ]
     },
     "execution_count": 35,
     "metadata": {},
     "output_type": "execute_result"
    }
   ],
   "source": [
    "# complete pipe :\n",
    "# select the float/cat columns\n",
    "#cat_feautres = X.select_dtypes(include=['object','category']).columns\n",
    "#num_features = X.select_dtypes(exclude=['object','category']).columns\n",
    "categorical_transformer_catboost = Pipeline(\n",
    "                    steps=[\n",
    "                        ('imputer', SimpleImputer(strategy='most_frequent',\n",
    "                                                  fill_value='missing',\n",
    "                                                  add_indicator=True)),\n",
    "                        ('encoder',  ce.cat_boost.CatBoostEncoder()),#(Numerical Input, Categorical Output)\n",
    "                         ('reducedim',  SelectPercentile( mutual_info_classif,\n",
    "                                                        percentile=90))\n",
    "\n",
    "                    ]\n",
    "                    ) \n",
    "numeric_transformer_quantile_outlier = Pipeline(\n",
    "                            steps=[('outlierhandle', OutlierReplace()),\n",
    "                            ('imputer', SimpleImputer(strategy='median'\n",
    "                                                      ,add_indicator=True)),\n",
    "                            ('scaler', QuantileTransformer()),#(Numerical Input, Numerical Output)\n",
    "                            # Create an SelectKBest object to select features with two best ANOVA F-Values\n",
    "                            #The F-value scores examine if, when we group the numerical feature by the target vector, the means for each group are significantly different\n",
    "                            ('reducedim',  SelectPercentile(f_classif,\n",
    "                                                            percentile=90))\n",
    "                                # i used 90 before\n",
    "\n",
    "                            ]\n",
    "                            )\n",
    "# Features union cat + num \n",
    "# Catboost+QuantileTransformer\n",
    "preprocessor_catboost_qauntile_outlier = ColumnTransformer(\n",
    "            transformers=[\n",
    "                ('numerical', numeric_transformer_quantile_outlier, num_columns),\n",
    "                ('categorical', categorical_transformer_catboost, cat_columns)\n",
    "            ]\n",
    "            )\n",
    "pipe_lgbm_catboost_qauntile_outlier = Pipeline(\n",
    "    steps=[\n",
    "        ('preprocessor', preprocessor_catboost_qauntile_outlier),\n",
    "        ('classifier', lgbm.LGBMClassifier( \n",
    "            #n_jobs=-1,\n",
    "                                           verbose=-1,\n",
    "                                           **lgbm_param))\n",
    "    ]\n",
    ")\n",
    "\n",
    "pipe_lgbm_catboost_qauntile_outlier"
   ]
  },
  {
   "cell_type": "markdown",
   "id": "520c87a8",
   "metadata": {
    "papermill": {
     "duration": 0.054601,
     "end_time": "2021-12-23T18:02:55.615326",
     "exception": false,
     "start_time": "2021-12-23T18:02:55.560725",
     "status": "completed"
    },
    "tags": []
   },
   "source": [
    "## Drop Missing:catboost +qauntile transformer  "
   ]
  },
  {
   "cell_type": "code",
   "execution_count": 36,
   "id": "e8c26ec1",
   "metadata": {
    "execution": {
     "iopub.execute_input": "2021-12-23T18:02:55.737371Z",
     "iopub.status.busy": "2021-12-23T18:02:55.736542Z",
     "iopub.status.idle": "2021-12-23T18:02:56.207558Z",
     "shell.execute_reply": "2021-12-23T18:02:56.206813Z"
    },
    "papermill": {
     "duration": 0.534849,
     "end_time": "2021-12-23T18:02:56.207685",
     "exception": false,
     "start_time": "2021-12-23T18:02:55.672836",
     "status": "completed"
    },
    "tags": []
   },
   "outputs": [
    {
     "data": {
      "text/html": [
       "<style>div.sk-top-container {color: black;background-color: white;}div.sk-toggleable {background-color: white;}label.sk-toggleable__label {cursor: pointer;display: block;width: 100%;margin-bottom: 0;padding: 0.2em 0.3em;box-sizing: border-box;text-align: center;}div.sk-toggleable__content {max-height: 0;max-width: 0;overflow: hidden;text-align: left;background-color: #f0f8ff;}div.sk-toggleable__content pre {margin: 0.2em;color: black;border-radius: 0.25em;background-color: #f0f8ff;}input.sk-toggleable__control:checked~div.sk-toggleable__content {max-height: 200px;max-width: 100%;overflow: auto;}div.sk-estimator input.sk-toggleable__control:checked~label.sk-toggleable__label {background-color: #d4ebff;}div.sk-label input.sk-toggleable__control:checked~label.sk-toggleable__label {background-color: #d4ebff;}input.sk-hidden--visually {border: 0;clip: rect(1px 1px 1px 1px);clip: rect(1px, 1px, 1px, 1px);height: 1px;margin: -1px;overflow: hidden;padding: 0;position: absolute;width: 1px;}div.sk-estimator {font-family: monospace;background-color: #f0f8ff;margin: 0.25em 0.25em;border: 1px dotted black;border-radius: 0.25em;box-sizing: border-box;}div.sk-estimator:hover {background-color: #d4ebff;}div.sk-parallel-item::after {content: \"\";width: 100%;border-bottom: 1px solid gray;flex-grow: 1;}div.sk-label:hover label.sk-toggleable__label {background-color: #d4ebff;}div.sk-serial::before {content: \"\";position: absolute;border-left: 1px solid gray;box-sizing: border-box;top: 2em;bottom: 0;left: 50%;}div.sk-serial {display: flex;flex-direction: column;align-items: center;background-color: white;}div.sk-item {z-index: 1;}div.sk-parallel {display: flex;align-items: stretch;justify-content: center;background-color: white;}div.sk-parallel-item {display: flex;flex-direction: column;position: relative;background-color: white;}div.sk-parallel-item:first-child::after {align-self: flex-end;width: 50%;}div.sk-parallel-item:last-child::after {align-self: flex-start;width: 50%;}div.sk-parallel-item:only-child::after {width: 0;}div.sk-dashed-wrapped {border: 1px dashed gray;margin: 0.2em;box-sizing: border-box;padding-bottom: 0.1em;background-color: white;position: relative;}div.sk-label label {font-family: monospace;font-weight: bold;background-color: white;display: inline-block;line-height: 1.2em;}div.sk-label-container {position: relative;z-index: 2;text-align: center;}div.sk-container {display: inline-block;position: relative;}</style><div class=\"sk-top-container\"><div class=\"sk-container\"><div class=\"sk-item sk-dashed-wrapped\"><div class=\"sk-label-container\"><div class=\"sk-label sk-toggleable\"><input class=\"sk-toggleable__control sk-hidden--visually\" id=\"32d9cd55-aa1a-4b78-a3ab-29ead18583d3\" type=\"checkbox\" ><label class=\"sk-toggleable__label\" for=\"32d9cd55-aa1a-4b78-a3ab-29ead18583d3\">Pipeline</label><div class=\"sk-toggleable__content\"><pre>Pipeline(steps=[('preprocessor',\n",
       "                 ColumnTransformer(transformers=[('numerical',\n",
       "                                                  Pipeline(steps=[('imputer',\n",
       "                                                                   SimpleImputer(add_indicator=True,\n",
       "                                                                                 strategy='median')),\n",
       "                                                                  ('scaler',\n",
       "                                                                   QuantileTransformer()),\n",
       "                                                                  ('reducedim',\n",
       "                                                                   SelectPercentile(percentile=90))]),\n",
       "                                                  Index(['RevolvingUtilizationOfUnsecuredLines', 'DebtRatio',\n",
       "       'NumberOfTime60-89DaysPastDueNotWorse', 'NumberRealEsta...\n",
       "       'cat_NumberRealEstateLoansOrLines', 'cat_NumberOfTimes90DaysLate',\n",
       "       'cat_NumberOfOpenCreditLinesAndLoans',\n",
       "       'cat_NumberOfTime30-59DaysPastDueNotWorse', 'cat_age'],\n",
       "      dtype='object'))])),\n",
       "                ('classifier',\n",
       "                 LGBMClassifier(device_type='gpu',\n",
       "                                learning_rate=0.0018069834369607075,\n",
       "                                max_depth=8, metric='auc', min_samples_leaf=47,\n",
       "                                n_estimators=5000, random_state=42,\n",
       "                                subsample=0.8573598985000007, verbose=-1))])</pre></div></div></div><div class=\"sk-serial\"><div class=\"sk-item sk-dashed-wrapped\"><div class=\"sk-label-container\"><div class=\"sk-label sk-toggleable\"><input class=\"sk-toggleable__control sk-hidden--visually\" id=\"49e91ef9-8323-49e2-a62b-6eec9462a799\" type=\"checkbox\" ><label class=\"sk-toggleable__label\" for=\"49e91ef9-8323-49e2-a62b-6eec9462a799\">preprocessor: ColumnTransformer</label><div class=\"sk-toggleable__content\"><pre>ColumnTransformer(transformers=[('numerical',\n",
       "                                 Pipeline(steps=[('imputer',\n",
       "                                                  SimpleImputer(add_indicator=True,\n",
       "                                                                strategy='median')),\n",
       "                                                 ('scaler',\n",
       "                                                  QuantileTransformer()),\n",
       "                                                 ('reducedim',\n",
       "                                                  SelectPercentile(percentile=90))]),\n",
       "                                 Index(['RevolvingUtilizationOfUnsecuredLines', 'DebtRatio',\n",
       "       'NumberOfTime60-89DaysPastDueNotWorse', 'NumberRealEstateLoansOrLines',\n",
       "       'NumberOfTimes90...\n",
       "                                                                   score_func=<function mutual_info_classif at 0x7f91bccf5950>))]),\n",
       "                                 Index(['cat_RevolvingUtilizationOfUnsecuredLines', 'cat_DebtRatio',\n",
       "       'cat_MonthlyIncome', 'cat_NumberOfDependents',\n",
       "       'cat_NumberOfTime60-89DaysPastDueNotWorse',\n",
       "       'cat_NumberRealEstateLoansOrLines', 'cat_NumberOfTimes90DaysLate',\n",
       "       'cat_NumberOfOpenCreditLinesAndLoans',\n",
       "       'cat_NumberOfTime30-59DaysPastDueNotWorse', 'cat_age'],\n",
       "      dtype='object'))])</pre></div></div></div><div class=\"sk-parallel\"><div class=\"sk-parallel-item\"><div class=\"sk-item\"><div class=\"sk-label-container\"><div class=\"sk-label sk-toggleable\"><input class=\"sk-toggleable__control sk-hidden--visually\" id=\"eaea82c3-9b5d-4bd0-8b50-1bc000f6bc51\" type=\"checkbox\" ><label class=\"sk-toggleable__label\" for=\"eaea82c3-9b5d-4bd0-8b50-1bc000f6bc51\">numerical</label><div class=\"sk-toggleable__content\"><pre>Index(['RevolvingUtilizationOfUnsecuredLines', 'DebtRatio',\n",
       "       'NumberOfTime60-89DaysPastDueNotWorse', 'NumberRealEstateLoansOrLines',\n",
       "       'NumberOfTimes90DaysLate', 'NumberOfOpenCreditLinesAndLoans',\n",
       "       'NumberOfTime30-59DaysPastDueNotWorse', 'age'],\n",
       "      dtype='object')</pre></div></div></div><div class=\"sk-serial\"><div class=\"sk-item\"><div class=\"sk-serial\"><div class=\"sk-item\"><div class=\"sk-estimator sk-toggleable\"><input class=\"sk-toggleable__control sk-hidden--visually\" id=\"f934a729-bbe2-462c-bf47-fd9c8a6b7cde\" type=\"checkbox\" ><label class=\"sk-toggleable__label\" for=\"f934a729-bbe2-462c-bf47-fd9c8a6b7cde\">SimpleImputer</label><div class=\"sk-toggleable__content\"><pre>SimpleImputer(add_indicator=True, strategy='median')</pre></div></div></div><div class=\"sk-item\"><div class=\"sk-estimator sk-toggleable\"><input class=\"sk-toggleable__control sk-hidden--visually\" id=\"2f55569c-598f-4649-8968-d10784cabe12\" type=\"checkbox\" ><label class=\"sk-toggleable__label\" for=\"2f55569c-598f-4649-8968-d10784cabe12\">QuantileTransformer</label><div class=\"sk-toggleable__content\"><pre>QuantileTransformer()</pre></div></div></div><div class=\"sk-item\"><div class=\"sk-estimator sk-toggleable\"><input class=\"sk-toggleable__control sk-hidden--visually\" id=\"94a63793-e36a-4a0a-ba16-88d03edbba38\" type=\"checkbox\" ><label class=\"sk-toggleable__label\" for=\"94a63793-e36a-4a0a-ba16-88d03edbba38\">SelectPercentile</label><div class=\"sk-toggleable__content\"><pre>SelectPercentile(percentile=90)</pre></div></div></div></div></div></div></div></div><div class=\"sk-parallel-item\"><div class=\"sk-item\"><div class=\"sk-label-container\"><div class=\"sk-label sk-toggleable\"><input class=\"sk-toggleable__control sk-hidden--visually\" id=\"5d807609-3e52-4151-8083-996c13aae336\" type=\"checkbox\" ><label class=\"sk-toggleable__label\" for=\"5d807609-3e52-4151-8083-996c13aae336\">categorical</label><div class=\"sk-toggleable__content\"><pre>Index(['cat_RevolvingUtilizationOfUnsecuredLines', 'cat_DebtRatio',\n",
       "       'cat_MonthlyIncome', 'cat_NumberOfDependents',\n",
       "       'cat_NumberOfTime60-89DaysPastDueNotWorse',\n",
       "       'cat_NumberRealEstateLoansOrLines', 'cat_NumberOfTimes90DaysLate',\n",
       "       'cat_NumberOfOpenCreditLinesAndLoans',\n",
       "       'cat_NumberOfTime30-59DaysPastDueNotWorse', 'cat_age'],\n",
       "      dtype='object')</pre></div></div></div><div class=\"sk-serial\"><div class=\"sk-item\"><div class=\"sk-serial\"><div class=\"sk-item\"><div class=\"sk-estimator sk-toggleable\"><input class=\"sk-toggleable__control sk-hidden--visually\" id=\"a89d97e5-5d08-476b-87dc-ce76083a58ab\" type=\"checkbox\" ><label class=\"sk-toggleable__label\" for=\"a89d97e5-5d08-476b-87dc-ce76083a58ab\">SimpleImputer</label><div class=\"sk-toggleable__content\"><pre>SimpleImputer(add_indicator=True, fill_value='missing',\n",
       "              strategy='most_frequent')</pre></div></div></div><div class=\"sk-item\"><div class=\"sk-estimator sk-toggleable\"><input class=\"sk-toggleable__control sk-hidden--visually\" id=\"cf9b64da-5026-40be-a95d-cc44135b519f\" type=\"checkbox\" ><label class=\"sk-toggleable__label\" for=\"cf9b64da-5026-40be-a95d-cc44135b519f\">CatBoostEncoder</label><div class=\"sk-toggleable__content\"><pre>CatBoostEncoder()</pre></div></div></div><div class=\"sk-item\"><div class=\"sk-estimator sk-toggleable\"><input class=\"sk-toggleable__control sk-hidden--visually\" id=\"5b4ef9ff-a353-42f1-b5c4-564ca6cefcb7\" type=\"checkbox\" ><label class=\"sk-toggleable__label\" for=\"5b4ef9ff-a353-42f1-b5c4-564ca6cefcb7\">SelectPercentile</label><div class=\"sk-toggleable__content\"><pre>SelectPercentile(percentile=90,\n",
       "                 score_func=<function mutual_info_classif at 0x7f91bccf5950>)</pre></div></div></div></div></div></div></div></div></div></div><div class=\"sk-item\"><div class=\"sk-estimator sk-toggleable\"><input class=\"sk-toggleable__control sk-hidden--visually\" id=\"95423c1b-8d8a-4096-922c-ca9e0d1ce083\" type=\"checkbox\" ><label class=\"sk-toggleable__label\" for=\"95423c1b-8d8a-4096-922c-ca9e0d1ce083\">LGBMClassifier</label><div class=\"sk-toggleable__content\"><pre>LGBMClassifier(device_type='gpu', learning_rate=0.0018069834369607075,\n",
       "               max_depth=8, metric='auc', min_samples_leaf=47,\n",
       "               n_estimators=5000, random_state=42, subsample=0.8573598985000007,\n",
       "               verbose=-1)</pre></div></div></div></div></div></div></div>"
      ],
      "text/plain": [
       "Pipeline(steps=[('preprocessor',\n",
       "                 ColumnTransformer(transformers=[('numerical',\n",
       "                                                  Pipeline(steps=[('imputer',\n",
       "                                                                   SimpleImputer(add_indicator=True,\n",
       "                                                                                 strategy='median')),\n",
       "                                                                  ('scaler',\n",
       "                                                                   QuantileTransformer()),\n",
       "                                                                  ('reducedim',\n",
       "                                                                   SelectPercentile(percentile=90))]),\n",
       "                                                  Index(['RevolvingUtilizationOfUnsecuredLines', 'DebtRatio',\n",
       "       'NumberOfTime60-89DaysPastDueNotWorse', 'NumberRealEsta...\n",
       "       'cat_NumberRealEstateLoansOrLines', 'cat_NumberOfTimes90DaysLate',\n",
       "       'cat_NumberOfOpenCreditLinesAndLoans',\n",
       "       'cat_NumberOfTime30-59DaysPastDueNotWorse', 'cat_age'],\n",
       "      dtype='object'))])),\n",
       "                ('classifier',\n",
       "                 LGBMClassifier(device_type='gpu',\n",
       "                                learning_rate=0.0018069834369607075,\n",
       "                                max_depth=8, metric='auc', min_samples_leaf=47,\n",
       "                                n_estimators=5000, random_state=42,\n",
       "                                subsample=0.8573598985000007, verbose=-1))])"
      ]
     },
     "execution_count": 36,
     "metadata": {},
     "output_type": "execute_result"
    }
   ],
   "source": [
    "# Features union cat + num \n",
    "# Catboost+QuantileTransformer\n",
    "preprocessor_catboost_qauntile_without_missing = ColumnTransformer(\n",
    "            transformers=[\n",
    "                ('numerical', numeric_transformer_quantile, num_columns_without_missing ),\n",
    "                ('categorical', categorical_transformer_catboost, cat_columns_without_missing )\n",
    "            ]\n",
    "            )\n",
    "pipe_lgbm_catboost_qauntile_without_missing  = Pipeline(\n",
    "    steps=[\n",
    "        ('preprocessor', preprocessor_catboost_qauntile_without_missing ),\n",
    "        ('classifier', lgbm.LGBMClassifier( \n",
    "            #n_jobs=-1,\n",
    "                                           verbose=-1,\n",
    "                                           **lgbm_param))\n",
    "    ]\n",
    ")\n",
    "pipe_lgbm_catboost_qauntile_without_missing "
   ]
  },
  {
   "cell_type": "markdown",
   "id": "5732f92f",
   "metadata": {
    "papermill": {
     "duration": 0.054272,
     "end_time": "2021-12-23T18:02:56.317099",
     "exception": false,
     "start_time": "2021-12-23T18:02:56.262827",
     "status": "completed"
    },
    "tags": []
   },
   "source": [
    "## Drop Null+handle outlier : catboost +qauntile transformer  "
   ]
  },
  {
   "cell_type": "code",
   "execution_count": 37,
   "id": "ebbdac5d",
   "metadata": {
    "execution": {
     "iopub.execute_input": "2021-12-23T18:02:56.454230Z",
     "iopub.status.busy": "2021-12-23T18:02:56.439058Z",
     "iopub.status.idle": "2021-12-23T18:02:56.909235Z",
     "shell.execute_reply": "2021-12-23T18:02:56.909756Z"
    },
    "papermill": {
     "duration": 0.538432,
     "end_time": "2021-12-23T18:02:56.909921",
     "exception": false,
     "start_time": "2021-12-23T18:02:56.371489",
     "status": "completed"
    },
    "tags": []
   },
   "outputs": [
    {
     "data": {
      "text/html": [
       "<style>div.sk-top-container {color: black;background-color: white;}div.sk-toggleable {background-color: white;}label.sk-toggleable__label {cursor: pointer;display: block;width: 100%;margin-bottom: 0;padding: 0.2em 0.3em;box-sizing: border-box;text-align: center;}div.sk-toggleable__content {max-height: 0;max-width: 0;overflow: hidden;text-align: left;background-color: #f0f8ff;}div.sk-toggleable__content pre {margin: 0.2em;color: black;border-radius: 0.25em;background-color: #f0f8ff;}input.sk-toggleable__control:checked~div.sk-toggleable__content {max-height: 200px;max-width: 100%;overflow: auto;}div.sk-estimator input.sk-toggleable__control:checked~label.sk-toggleable__label {background-color: #d4ebff;}div.sk-label input.sk-toggleable__control:checked~label.sk-toggleable__label {background-color: #d4ebff;}input.sk-hidden--visually {border: 0;clip: rect(1px 1px 1px 1px);clip: rect(1px, 1px, 1px, 1px);height: 1px;margin: -1px;overflow: hidden;padding: 0;position: absolute;width: 1px;}div.sk-estimator {font-family: monospace;background-color: #f0f8ff;margin: 0.25em 0.25em;border: 1px dotted black;border-radius: 0.25em;box-sizing: border-box;}div.sk-estimator:hover {background-color: #d4ebff;}div.sk-parallel-item::after {content: \"\";width: 100%;border-bottom: 1px solid gray;flex-grow: 1;}div.sk-label:hover label.sk-toggleable__label {background-color: #d4ebff;}div.sk-serial::before {content: \"\";position: absolute;border-left: 1px solid gray;box-sizing: border-box;top: 2em;bottom: 0;left: 50%;}div.sk-serial {display: flex;flex-direction: column;align-items: center;background-color: white;}div.sk-item {z-index: 1;}div.sk-parallel {display: flex;align-items: stretch;justify-content: center;background-color: white;}div.sk-parallel-item {display: flex;flex-direction: column;position: relative;background-color: white;}div.sk-parallel-item:first-child::after {align-self: flex-end;width: 50%;}div.sk-parallel-item:last-child::after {align-self: flex-start;width: 50%;}div.sk-parallel-item:only-child::after {width: 0;}div.sk-dashed-wrapped {border: 1px dashed gray;margin: 0.2em;box-sizing: border-box;padding-bottom: 0.1em;background-color: white;position: relative;}div.sk-label label {font-family: monospace;font-weight: bold;background-color: white;display: inline-block;line-height: 1.2em;}div.sk-label-container {position: relative;z-index: 2;text-align: center;}div.sk-container {display: inline-block;position: relative;}</style><div class=\"sk-top-container\"><div class=\"sk-container\"><div class=\"sk-item sk-dashed-wrapped\"><div class=\"sk-label-container\"><div class=\"sk-label sk-toggleable\"><input class=\"sk-toggleable__control sk-hidden--visually\" id=\"c3e872a5-f279-483d-ad32-d44256e6e53a\" type=\"checkbox\" ><label class=\"sk-toggleable__label\" for=\"c3e872a5-f279-483d-ad32-d44256e6e53a\">Pipeline</label><div class=\"sk-toggleable__content\"><pre>Pipeline(steps=[('preprocessor',\n",
       "                 ColumnTransformer(transformers=[('numerical',\n",
       "                                                  Pipeline(steps=[('outlierhandle',\n",
       "                                                                   OutlierReplace()),\n",
       "                                                                  ('imputer',\n",
       "                                                                   SimpleImputer(add_indicator=True,\n",
       "                                                                                 strategy='median')),\n",
       "                                                                  ('scaler',\n",
       "                                                                   QuantileTransformer()),\n",
       "                                                                  ('reducedim',\n",
       "                                                                   SelectPercentile(percentile=90))]),\n",
       "                                                  Index(['RevolvingUtilizationOfUnsecuredLines', 'DebtRatio',\n",
       "       'NumberOfTime60-89D...\n",
       "       'cat_NumberRealEstateLoansOrLines', 'cat_NumberOfTimes90DaysLate',\n",
       "       'cat_NumberOfOpenCreditLinesAndLoans',\n",
       "       'cat_NumberOfTime30-59DaysPastDueNotWorse', 'cat_age'],\n",
       "      dtype='object'))])),\n",
       "                ('classifier',\n",
       "                 LGBMClassifier(device_type='gpu',\n",
       "                                learning_rate=0.0018069834369607075,\n",
       "                                max_depth=8, metric='auc', min_samples_leaf=47,\n",
       "                                n_estimators=5000, random_state=42,\n",
       "                                subsample=0.8573598985000007, verbose=-1))])</pre></div></div></div><div class=\"sk-serial\"><div class=\"sk-item sk-dashed-wrapped\"><div class=\"sk-label-container\"><div class=\"sk-label sk-toggleable\"><input class=\"sk-toggleable__control sk-hidden--visually\" id=\"b5973853-b62b-4e7b-817e-2e9aeaea72f8\" type=\"checkbox\" ><label class=\"sk-toggleable__label\" for=\"b5973853-b62b-4e7b-817e-2e9aeaea72f8\">preprocessor: ColumnTransformer</label><div class=\"sk-toggleable__content\"><pre>ColumnTransformer(transformers=[('numerical',\n",
       "                                 Pipeline(steps=[('outlierhandle',\n",
       "                                                  OutlierReplace()),\n",
       "                                                 ('imputer',\n",
       "                                                  SimpleImputer(add_indicator=True,\n",
       "                                                                strategy='median')),\n",
       "                                                 ('scaler',\n",
       "                                                  QuantileTransformer()),\n",
       "                                                 ('reducedim',\n",
       "                                                  SelectPercentile(percentile=90))]),\n",
       "                                 Index(['RevolvingUtilizationOfUnsecuredLines', 'DebtRatio',\n",
       "       'NumberOfTime60-89DaysPastDueNotWorse', 'NumberRealE...\n",
       "                                                                   score_func=<function mutual_info_classif at 0x7f91bccf5950>))]),\n",
       "                                 Index(['cat_RevolvingUtilizationOfUnsecuredLines', 'cat_DebtRatio',\n",
       "       'cat_MonthlyIncome', 'cat_NumberOfDependents',\n",
       "       'cat_NumberOfTime60-89DaysPastDueNotWorse',\n",
       "       'cat_NumberRealEstateLoansOrLines', 'cat_NumberOfTimes90DaysLate',\n",
       "       'cat_NumberOfOpenCreditLinesAndLoans',\n",
       "       'cat_NumberOfTime30-59DaysPastDueNotWorse', 'cat_age'],\n",
       "      dtype='object'))])</pre></div></div></div><div class=\"sk-parallel\"><div class=\"sk-parallel-item\"><div class=\"sk-item\"><div class=\"sk-label-container\"><div class=\"sk-label sk-toggleable\"><input class=\"sk-toggleable__control sk-hidden--visually\" id=\"bac30337-1eb0-4e8b-82e4-3e48c2836d65\" type=\"checkbox\" ><label class=\"sk-toggleable__label\" for=\"bac30337-1eb0-4e8b-82e4-3e48c2836d65\">numerical</label><div class=\"sk-toggleable__content\"><pre>Index(['RevolvingUtilizationOfUnsecuredLines', 'DebtRatio',\n",
       "       'NumberOfTime60-89DaysPastDueNotWorse', 'NumberRealEstateLoansOrLines',\n",
       "       'NumberOfTimes90DaysLate', 'NumberOfOpenCreditLinesAndLoans',\n",
       "       'NumberOfTime30-59DaysPastDueNotWorse', 'age'],\n",
       "      dtype='object')</pre></div></div></div><div class=\"sk-serial\"><div class=\"sk-item\"><div class=\"sk-serial\"><div class=\"sk-item\"><div class=\"sk-estimator sk-toggleable\"><input class=\"sk-toggleable__control sk-hidden--visually\" id=\"e367afbf-9ca0-436e-b2ef-0e6f6061a53c\" type=\"checkbox\" ><label class=\"sk-toggleable__label\" for=\"e367afbf-9ca0-436e-b2ef-0e6f6061a53c\">OutlierReplace</label><div class=\"sk-toggleable__content\"><pre>OutlierReplace()</pre></div></div></div><div class=\"sk-item\"><div class=\"sk-estimator sk-toggleable\"><input class=\"sk-toggleable__control sk-hidden--visually\" id=\"c73f6401-5a4e-4600-af3a-fcd7ca795fe9\" type=\"checkbox\" ><label class=\"sk-toggleable__label\" for=\"c73f6401-5a4e-4600-af3a-fcd7ca795fe9\">SimpleImputer</label><div class=\"sk-toggleable__content\"><pre>SimpleImputer(add_indicator=True, strategy='median')</pre></div></div></div><div class=\"sk-item\"><div class=\"sk-estimator sk-toggleable\"><input class=\"sk-toggleable__control sk-hidden--visually\" id=\"249b3dfe-b14d-400c-b6f0-e4ee1f99c2c9\" type=\"checkbox\" ><label class=\"sk-toggleable__label\" for=\"249b3dfe-b14d-400c-b6f0-e4ee1f99c2c9\">QuantileTransformer</label><div class=\"sk-toggleable__content\"><pre>QuantileTransformer()</pre></div></div></div><div class=\"sk-item\"><div class=\"sk-estimator sk-toggleable\"><input class=\"sk-toggleable__control sk-hidden--visually\" id=\"5f92f8d3-3108-455f-8cdb-006d48af50af\" type=\"checkbox\" ><label class=\"sk-toggleable__label\" for=\"5f92f8d3-3108-455f-8cdb-006d48af50af\">SelectPercentile</label><div class=\"sk-toggleable__content\"><pre>SelectPercentile(percentile=90)</pre></div></div></div></div></div></div></div></div><div class=\"sk-parallel-item\"><div class=\"sk-item\"><div class=\"sk-label-container\"><div class=\"sk-label sk-toggleable\"><input class=\"sk-toggleable__control sk-hidden--visually\" id=\"ff643718-7bb7-4bd8-9222-3346f723d0fe\" type=\"checkbox\" ><label class=\"sk-toggleable__label\" for=\"ff643718-7bb7-4bd8-9222-3346f723d0fe\">categorical</label><div class=\"sk-toggleable__content\"><pre>Index(['cat_RevolvingUtilizationOfUnsecuredLines', 'cat_DebtRatio',\n",
       "       'cat_MonthlyIncome', 'cat_NumberOfDependents',\n",
       "       'cat_NumberOfTime60-89DaysPastDueNotWorse',\n",
       "       'cat_NumberRealEstateLoansOrLines', 'cat_NumberOfTimes90DaysLate',\n",
       "       'cat_NumberOfOpenCreditLinesAndLoans',\n",
       "       'cat_NumberOfTime30-59DaysPastDueNotWorse', 'cat_age'],\n",
       "      dtype='object')</pre></div></div></div><div class=\"sk-serial\"><div class=\"sk-item\"><div class=\"sk-serial\"><div class=\"sk-item\"><div class=\"sk-estimator sk-toggleable\"><input class=\"sk-toggleable__control sk-hidden--visually\" id=\"c5600ace-437d-4b43-9893-6995be2b048f\" type=\"checkbox\" ><label class=\"sk-toggleable__label\" for=\"c5600ace-437d-4b43-9893-6995be2b048f\">SimpleImputer</label><div class=\"sk-toggleable__content\"><pre>SimpleImputer(add_indicator=True, fill_value='missing',\n",
       "              strategy='most_frequent')</pre></div></div></div><div class=\"sk-item\"><div class=\"sk-estimator sk-toggleable\"><input class=\"sk-toggleable__control sk-hidden--visually\" id=\"b48c482a-3687-4773-895a-d587c8aeab10\" type=\"checkbox\" ><label class=\"sk-toggleable__label\" for=\"b48c482a-3687-4773-895a-d587c8aeab10\">CatBoostEncoder</label><div class=\"sk-toggleable__content\"><pre>CatBoostEncoder()</pre></div></div></div><div class=\"sk-item\"><div class=\"sk-estimator sk-toggleable\"><input class=\"sk-toggleable__control sk-hidden--visually\" id=\"4a702cc6-a3b7-4307-bf8d-b0349d4209ba\" type=\"checkbox\" ><label class=\"sk-toggleable__label\" for=\"4a702cc6-a3b7-4307-bf8d-b0349d4209ba\">SelectPercentile</label><div class=\"sk-toggleable__content\"><pre>SelectPercentile(percentile=90,\n",
       "                 score_func=<function mutual_info_classif at 0x7f91bccf5950>)</pre></div></div></div></div></div></div></div></div></div></div><div class=\"sk-item\"><div class=\"sk-estimator sk-toggleable\"><input class=\"sk-toggleable__control sk-hidden--visually\" id=\"d28f072a-12ec-4217-b507-99533e8ac4e9\" type=\"checkbox\" ><label class=\"sk-toggleable__label\" for=\"d28f072a-12ec-4217-b507-99533e8ac4e9\">LGBMClassifier</label><div class=\"sk-toggleable__content\"><pre>LGBMClassifier(device_type='gpu', learning_rate=0.0018069834369607075,\n",
       "               max_depth=8, metric='auc', min_samples_leaf=47,\n",
       "               n_estimators=5000, random_state=42, subsample=0.8573598985000007,\n",
       "               verbose=-1)</pre></div></div></div></div></div></div></div>"
      ],
      "text/plain": [
       "Pipeline(steps=[('preprocessor',\n",
       "                 ColumnTransformer(transformers=[('numerical',\n",
       "                                                  Pipeline(steps=[('outlierhandle',\n",
       "                                                                   OutlierReplace()),\n",
       "                                                                  ('imputer',\n",
       "                                                                   SimpleImputer(add_indicator=True,\n",
       "                                                                                 strategy='median')),\n",
       "                                                                  ('scaler',\n",
       "                                                                   QuantileTransformer()),\n",
       "                                                                  ('reducedim',\n",
       "                                                                   SelectPercentile(percentile=90))]),\n",
       "                                                  Index(['RevolvingUtilizationOfUnsecuredLines', 'DebtRatio',\n",
       "       'NumberOfTime60-89D...\n",
       "       'cat_NumberRealEstateLoansOrLines', 'cat_NumberOfTimes90DaysLate',\n",
       "       'cat_NumberOfOpenCreditLinesAndLoans',\n",
       "       'cat_NumberOfTime30-59DaysPastDueNotWorse', 'cat_age'],\n",
       "      dtype='object'))])),\n",
       "                ('classifier',\n",
       "                 LGBMClassifier(device_type='gpu',\n",
       "                                learning_rate=0.0018069834369607075,\n",
       "                                max_depth=8, metric='auc', min_samples_leaf=47,\n",
       "                                n_estimators=5000, random_state=42,\n",
       "                                subsample=0.8573598985000007, verbose=-1))])"
      ]
     },
     "execution_count": 37,
     "metadata": {},
     "output_type": "execute_result"
    }
   ],
   "source": [
    "# Features union cat + num \n",
    "# Catboost+QuantileTransformer\n",
    "preprocessor_catboost_qauntile_outlier_without_missing = ColumnTransformer(\n",
    "            transformers=[\n",
    "                ('numerical', numeric_transformer_quantile_outlier, num_columns_without_missing),\n",
    "                ('categorical', categorical_transformer_catboost, cat_columns_without_missing)\n",
    "            ]\n",
    "            )\n",
    "pipe_lgbm_catboost_qauntile_outlier_without_missing = Pipeline(\n",
    "    steps=[\n",
    "        ('preprocessor', preprocessor_catboost_qauntile_outlier_without_missing),\n",
    "        ('classifier', lgbm.LGBMClassifier( \n",
    "            #n_jobs=-1,\n",
    "                                           verbose=-1,\n",
    "                                           **lgbm_param))\n",
    "    ]\n",
    ")\n",
    "pipe_lgbm_catboost_qauntile_outlier_without_missing"
   ]
  },
  {
   "cell_type": "markdown",
   "id": "0659d4af",
   "metadata": {
    "papermill": {
     "duration": 0.058552,
     "end_time": "2021-12-23T18:02:57.025251",
     "exception": false,
     "start_time": "2021-12-23T18:02:56.966699",
     "status": "completed"
    },
    "tags": []
   },
   "source": [
    "# Pipe 4 Catoost + RobustScaler : \n"
   ]
  },
  {
   "cell_type": "code",
   "execution_count": 38,
   "id": "5d8232f5",
   "metadata": {
    "execution": {
     "iopub.execute_input": "2021-12-23T18:02:57.181053Z",
     "iopub.status.busy": "2021-12-23T18:02:57.175956Z",
     "iopub.status.idle": "2021-12-23T18:02:57.587364Z",
     "shell.execute_reply": "2021-12-23T18:02:57.587805Z"
    },
    "papermill": {
     "duration": 0.506212,
     "end_time": "2021-12-23T18:02:57.587964",
     "exception": false,
     "start_time": "2021-12-23T18:02:57.081752",
     "status": "completed"
    },
    "tags": []
   },
   "outputs": [
    {
     "data": {
      "text/html": [
       "<style>div.sk-top-container {color: black;background-color: white;}div.sk-toggleable {background-color: white;}label.sk-toggleable__label {cursor: pointer;display: block;width: 100%;margin-bottom: 0;padding: 0.2em 0.3em;box-sizing: border-box;text-align: center;}div.sk-toggleable__content {max-height: 0;max-width: 0;overflow: hidden;text-align: left;background-color: #f0f8ff;}div.sk-toggleable__content pre {margin: 0.2em;color: black;border-radius: 0.25em;background-color: #f0f8ff;}input.sk-toggleable__control:checked~div.sk-toggleable__content {max-height: 200px;max-width: 100%;overflow: auto;}div.sk-estimator input.sk-toggleable__control:checked~label.sk-toggleable__label {background-color: #d4ebff;}div.sk-label input.sk-toggleable__control:checked~label.sk-toggleable__label {background-color: #d4ebff;}input.sk-hidden--visually {border: 0;clip: rect(1px 1px 1px 1px);clip: rect(1px, 1px, 1px, 1px);height: 1px;margin: -1px;overflow: hidden;padding: 0;position: absolute;width: 1px;}div.sk-estimator {font-family: monospace;background-color: #f0f8ff;margin: 0.25em 0.25em;border: 1px dotted black;border-radius: 0.25em;box-sizing: border-box;}div.sk-estimator:hover {background-color: #d4ebff;}div.sk-parallel-item::after {content: \"\";width: 100%;border-bottom: 1px solid gray;flex-grow: 1;}div.sk-label:hover label.sk-toggleable__label {background-color: #d4ebff;}div.sk-serial::before {content: \"\";position: absolute;border-left: 1px solid gray;box-sizing: border-box;top: 2em;bottom: 0;left: 50%;}div.sk-serial {display: flex;flex-direction: column;align-items: center;background-color: white;}div.sk-item {z-index: 1;}div.sk-parallel {display: flex;align-items: stretch;justify-content: center;background-color: white;}div.sk-parallel-item {display: flex;flex-direction: column;position: relative;background-color: white;}div.sk-parallel-item:first-child::after {align-self: flex-end;width: 50%;}div.sk-parallel-item:last-child::after {align-self: flex-start;width: 50%;}div.sk-parallel-item:only-child::after {width: 0;}div.sk-dashed-wrapped {border: 1px dashed gray;margin: 0.2em;box-sizing: border-box;padding-bottom: 0.1em;background-color: white;position: relative;}div.sk-label label {font-family: monospace;font-weight: bold;background-color: white;display: inline-block;line-height: 1.2em;}div.sk-label-container {position: relative;z-index: 2;text-align: center;}div.sk-container {display: inline-block;position: relative;}</style><div class=\"sk-top-container\"><div class=\"sk-container\"><div class=\"sk-item sk-dashed-wrapped\"><div class=\"sk-label-container\"><div class=\"sk-label sk-toggleable\"><input class=\"sk-toggleable__control sk-hidden--visually\" id=\"6d53ba06-87bf-4b76-8916-bcd9f057f795\" type=\"checkbox\" ><label class=\"sk-toggleable__label\" for=\"6d53ba06-87bf-4b76-8916-bcd9f057f795\">Pipeline</label><div class=\"sk-toggleable__content\"><pre>Pipeline(steps=[('preprocessor',\n",
       "                 ColumnTransformer(transformers=[('numerical',\n",
       "                                                  Pipeline(steps=[('imputer',\n",
       "                                                                   SimpleImputer(add_indicator=True,\n",
       "                                                                                 strategy='median')),\n",
       "                                                                  ('scaler',\n",
       "                                                                   RobustScaler()),\n",
       "                                                                  ('reducedim',\n",
       "                                                                   SelectPercentile(percentile=90))]),\n",
       "                                                  Index(['RevolvingUtilizationOfUnsecuredLines', 'DebtRatio', 'MonthlyIncome',\n",
       "       'NumberOfDependents', 'NumberOfTime60-89DaysPa...\n",
       "       'cat_NumberRealEstateLoansOrLines', 'cat_NumberOfTimes90DaysLate',\n",
       "       'cat_NumberOfOpenCreditLinesAndLoans',\n",
       "       'cat_NumberOfTime30-59DaysPastDueNotWorse', 'cat_age'],\n",
       "      dtype='object'))])),\n",
       "                ('classifier',\n",
       "                 LGBMClassifier(device_type='gpu',\n",
       "                                learning_rate=0.0018069834369607075,\n",
       "                                max_depth=8, metric='auc', min_samples_leaf=47,\n",
       "                                n_estimators=5000, random_state=42,\n",
       "                                subsample=0.8573598985000007, verbose=-1))])</pre></div></div></div><div class=\"sk-serial\"><div class=\"sk-item sk-dashed-wrapped\"><div class=\"sk-label-container\"><div class=\"sk-label sk-toggleable\"><input class=\"sk-toggleable__control sk-hidden--visually\" id=\"a53c9e08-dd3d-411f-aa7b-bdd52483db81\" type=\"checkbox\" ><label class=\"sk-toggleable__label\" for=\"a53c9e08-dd3d-411f-aa7b-bdd52483db81\">preprocessor: ColumnTransformer</label><div class=\"sk-toggleable__content\"><pre>ColumnTransformer(transformers=[('numerical',\n",
       "                                 Pipeline(steps=[('imputer',\n",
       "                                                  SimpleImputer(add_indicator=True,\n",
       "                                                                strategy='median')),\n",
       "                                                 ('scaler', RobustScaler()),\n",
       "                                                 ('reducedim',\n",
       "                                                  SelectPercentile(percentile=90))]),\n",
       "                                 Index(['RevolvingUtilizationOfUnsecuredLines', 'DebtRatio', 'MonthlyIncome',\n",
       "       'NumberOfDependents', 'NumberOfTime60-89DaysPastDueNotWorse',\n",
       "       'NumberRealEstate...\n",
       "                                                                   score_func=<function mutual_info_classif at 0x7f91bccf5950>))]),\n",
       "                                 Index(['cat_RevolvingUtilizationOfUnsecuredLines', 'cat_DebtRatio',\n",
       "       'cat_MonthlyIncome', 'cat_NumberOfDependents',\n",
       "       'cat_NumberOfTime60-89DaysPastDueNotWorse',\n",
       "       'cat_NumberRealEstateLoansOrLines', 'cat_NumberOfTimes90DaysLate',\n",
       "       'cat_NumberOfOpenCreditLinesAndLoans',\n",
       "       'cat_NumberOfTime30-59DaysPastDueNotWorse', 'cat_age'],\n",
       "      dtype='object'))])</pre></div></div></div><div class=\"sk-parallel\"><div class=\"sk-parallel-item\"><div class=\"sk-item\"><div class=\"sk-label-container\"><div class=\"sk-label sk-toggleable\"><input class=\"sk-toggleable__control sk-hidden--visually\" id=\"b40d3034-6182-43b9-8c86-483c09f5f319\" type=\"checkbox\" ><label class=\"sk-toggleable__label\" for=\"b40d3034-6182-43b9-8c86-483c09f5f319\">numerical</label><div class=\"sk-toggleable__content\"><pre>Index(['RevolvingUtilizationOfUnsecuredLines', 'DebtRatio', 'MonthlyIncome',\n",
       "       'NumberOfDependents', 'NumberOfTime60-89DaysPastDueNotWorse',\n",
       "       'NumberRealEstateLoansOrLines', 'NumberOfTimes90DaysLate',\n",
       "       'NumberOfOpenCreditLinesAndLoans',\n",
       "       'NumberOfTime30-59DaysPastDueNotWorse', 'age'],\n",
       "      dtype='object')</pre></div></div></div><div class=\"sk-serial\"><div class=\"sk-item\"><div class=\"sk-serial\"><div class=\"sk-item\"><div class=\"sk-estimator sk-toggleable\"><input class=\"sk-toggleable__control sk-hidden--visually\" id=\"172c60c9-289c-463a-ba13-b49734c450e2\" type=\"checkbox\" ><label class=\"sk-toggleable__label\" for=\"172c60c9-289c-463a-ba13-b49734c450e2\">SimpleImputer</label><div class=\"sk-toggleable__content\"><pre>SimpleImputer(add_indicator=True, strategy='median')</pre></div></div></div><div class=\"sk-item\"><div class=\"sk-estimator sk-toggleable\"><input class=\"sk-toggleable__control sk-hidden--visually\" id=\"0750be10-2970-47da-b115-2f81bc741845\" type=\"checkbox\" ><label class=\"sk-toggleable__label\" for=\"0750be10-2970-47da-b115-2f81bc741845\">RobustScaler</label><div class=\"sk-toggleable__content\"><pre>RobustScaler()</pre></div></div></div><div class=\"sk-item\"><div class=\"sk-estimator sk-toggleable\"><input class=\"sk-toggleable__control sk-hidden--visually\" id=\"0c3bb119-0e41-4b93-8394-a4e2de69a43a\" type=\"checkbox\" ><label class=\"sk-toggleable__label\" for=\"0c3bb119-0e41-4b93-8394-a4e2de69a43a\">SelectPercentile</label><div class=\"sk-toggleable__content\"><pre>SelectPercentile(percentile=90)</pre></div></div></div></div></div></div></div></div><div class=\"sk-parallel-item\"><div class=\"sk-item\"><div class=\"sk-label-container\"><div class=\"sk-label sk-toggleable\"><input class=\"sk-toggleable__control sk-hidden--visually\" id=\"d44bf71e-cd0b-4d16-b3b8-b0231929b283\" type=\"checkbox\" ><label class=\"sk-toggleable__label\" for=\"d44bf71e-cd0b-4d16-b3b8-b0231929b283\">categorical</label><div class=\"sk-toggleable__content\"><pre>Index(['cat_RevolvingUtilizationOfUnsecuredLines', 'cat_DebtRatio',\n",
       "       'cat_MonthlyIncome', 'cat_NumberOfDependents',\n",
       "       'cat_NumberOfTime60-89DaysPastDueNotWorse',\n",
       "       'cat_NumberRealEstateLoansOrLines', 'cat_NumberOfTimes90DaysLate',\n",
       "       'cat_NumberOfOpenCreditLinesAndLoans',\n",
       "       'cat_NumberOfTime30-59DaysPastDueNotWorse', 'cat_age'],\n",
       "      dtype='object')</pre></div></div></div><div class=\"sk-serial\"><div class=\"sk-item\"><div class=\"sk-serial\"><div class=\"sk-item\"><div class=\"sk-estimator sk-toggleable\"><input class=\"sk-toggleable__control sk-hidden--visually\" id=\"ceba98f6-10c4-436f-8aeb-020a8c3ab708\" type=\"checkbox\" ><label class=\"sk-toggleable__label\" for=\"ceba98f6-10c4-436f-8aeb-020a8c3ab708\">SimpleImputer</label><div class=\"sk-toggleable__content\"><pre>SimpleImputer(add_indicator=True, fill_value='missing',\n",
       "              strategy='most_frequent')</pre></div></div></div><div class=\"sk-item\"><div class=\"sk-estimator sk-toggleable\"><input class=\"sk-toggleable__control sk-hidden--visually\" id=\"c75bb020-c842-49c4-a3bc-1685773a5729\" type=\"checkbox\" ><label class=\"sk-toggleable__label\" for=\"c75bb020-c842-49c4-a3bc-1685773a5729\">CatBoostEncoder</label><div class=\"sk-toggleable__content\"><pre>CatBoostEncoder()</pre></div></div></div><div class=\"sk-item\"><div class=\"sk-estimator sk-toggleable\"><input class=\"sk-toggleable__control sk-hidden--visually\" id=\"d98b878d-7176-4410-a5f5-96f3b38b56de\" type=\"checkbox\" ><label class=\"sk-toggleable__label\" for=\"d98b878d-7176-4410-a5f5-96f3b38b56de\">SelectPercentile</label><div class=\"sk-toggleable__content\"><pre>SelectPercentile(percentile=90,\n",
       "                 score_func=<function mutual_info_classif at 0x7f91bccf5950>)</pre></div></div></div></div></div></div></div></div></div></div><div class=\"sk-item\"><div class=\"sk-estimator sk-toggleable\"><input class=\"sk-toggleable__control sk-hidden--visually\" id=\"e571d9e1-9381-4eb6-9446-5417b28059ab\" type=\"checkbox\" ><label class=\"sk-toggleable__label\" for=\"e571d9e1-9381-4eb6-9446-5417b28059ab\">LGBMClassifier</label><div class=\"sk-toggleable__content\"><pre>LGBMClassifier(device_type='gpu', learning_rate=0.0018069834369607075,\n",
       "               max_depth=8, metric='auc', min_samples_leaf=47,\n",
       "               n_estimators=5000, random_state=42, subsample=0.8573598985000007,\n",
       "               verbose=-1)</pre></div></div></div></div></div></div></div>"
      ],
      "text/plain": [
       "Pipeline(steps=[('preprocessor',\n",
       "                 ColumnTransformer(transformers=[('numerical',\n",
       "                                                  Pipeline(steps=[('imputer',\n",
       "                                                                   SimpleImputer(add_indicator=True,\n",
       "                                                                                 strategy='median')),\n",
       "                                                                  ('scaler',\n",
       "                                                                   RobustScaler()),\n",
       "                                                                  ('reducedim',\n",
       "                                                                   SelectPercentile(percentile=90))]),\n",
       "                                                  Index(['RevolvingUtilizationOfUnsecuredLines', 'DebtRatio', 'MonthlyIncome',\n",
       "       'NumberOfDependents', 'NumberOfTime60-89DaysPa...\n",
       "       'cat_NumberRealEstateLoansOrLines', 'cat_NumberOfTimes90DaysLate',\n",
       "       'cat_NumberOfOpenCreditLinesAndLoans',\n",
       "       'cat_NumberOfTime30-59DaysPastDueNotWorse', 'cat_age'],\n",
       "      dtype='object'))])),\n",
       "                ('classifier',\n",
       "                 LGBMClassifier(device_type='gpu',\n",
       "                                learning_rate=0.0018069834369607075,\n",
       "                                max_depth=8, metric='auc', min_samples_leaf=47,\n",
       "                                n_estimators=5000, random_state=42,\n",
       "                                subsample=0.8573598985000007, verbose=-1))])"
      ]
     },
     "execution_count": 38,
     "metadata": {},
     "output_type": "execute_result"
    }
   ],
   "source": [
    "categorical_transformer_catboost = Pipeline(\n",
    "                    steps=[\n",
    "                        ('imputer', SimpleImputer(strategy='most_frequent',\n",
    "                                                  fill_value='missing',\n",
    "                                                  add_indicator=True)),\n",
    "                        ('encoder',  ce.cat_boost.CatBoostEncoder()),#(Numerical Input, Categorical Output)\n",
    "                         ('reducedim',  SelectPercentile( mutual_info_classif,\n",
    "                                                        percentile=90))\n",
    "                    ]\n",
    "                    ) \n",
    "\n",
    "\n",
    "numeric_transformer_robustscaler = Pipeline(\n",
    "                            steps=[\n",
    "                            ('imputer', SimpleImputer(strategy='median'\n",
    "                                                      ,add_indicator=True)),\n",
    "                            ('scaler', RobustScaler()),#(Numerical Input, Numerical Output)\n",
    "                            # Create an SelectKBest object to select features with two best ANOVA F-Values\n",
    "                            #The F-value scores examine if, when we group the numerical feature by the target vector, the means for each group are significantly different\n",
    "                            ('reducedim',  SelectPercentile(f_classif,\n",
    "                                                           percentile=90))\n",
    "                            ]\n",
    "                            )\n",
    "# Features union cat + num \n",
    "# Catboost+QuantileTransformer\n",
    "preprocessor_catboost_robust = ColumnTransformer(\n",
    "            transformers=[\n",
    "                ('numerical', numeric_transformer_robustscaler, num_columns),\n",
    "                ('categorical', categorical_transformer_catboost, cat_columns)\n",
    "            ]\n",
    "            )\n",
    "pipe_lgbm_catboost_robust = Pipeline(\n",
    "    steps=[\n",
    "        ('preprocessor', preprocessor_catboost_robust),\n",
    "        ('classifier', lgbm.LGBMClassifier( \n",
    "            #n_jobs=-1,\n",
    "                                           verbose=-1,\n",
    "                                           **lgbm_param))\n",
    "    ]\n",
    ")\n",
    "pipe_lgbm_catboost_robust"
   ]
  },
  {
   "cell_type": "markdown",
   "id": "fd7cd991",
   "metadata": {
    "papermill": {
     "duration": 0.057173,
     "end_time": "2021-12-23T18:02:57.701523",
     "exception": false,
     "start_time": "2021-12-23T18:02:57.644350",
     "status": "completed"
    },
    "tags": []
   },
   "source": [
    "# Pipe6 :cat+power+fe \n"
   ]
  },
  {
   "cell_type": "code",
   "execution_count": 39,
   "id": "f765f999",
   "metadata": {
    "execution": {
     "iopub.execute_input": "2021-12-23T18:02:57.831550Z",
     "iopub.status.busy": "2021-12-23T18:02:57.826123Z",
     "iopub.status.idle": "2021-12-23T18:02:58.261126Z",
     "shell.execute_reply": "2021-12-23T18:02:58.261630Z"
    },
    "papermill": {
     "duration": 0.504215,
     "end_time": "2021-12-23T18:02:58.261803",
     "exception": false,
     "start_time": "2021-12-23T18:02:57.757588",
     "status": "completed"
    },
    "tags": []
   },
   "outputs": [
    {
     "data": {
      "text/html": [
       "<style>div.sk-top-container {color: black;background-color: white;}div.sk-toggleable {background-color: white;}label.sk-toggleable__label {cursor: pointer;display: block;width: 100%;margin-bottom: 0;padding: 0.2em 0.3em;box-sizing: border-box;text-align: center;}div.sk-toggleable__content {max-height: 0;max-width: 0;overflow: hidden;text-align: left;background-color: #f0f8ff;}div.sk-toggleable__content pre {margin: 0.2em;color: black;border-radius: 0.25em;background-color: #f0f8ff;}input.sk-toggleable__control:checked~div.sk-toggleable__content {max-height: 200px;max-width: 100%;overflow: auto;}div.sk-estimator input.sk-toggleable__control:checked~label.sk-toggleable__label {background-color: #d4ebff;}div.sk-label input.sk-toggleable__control:checked~label.sk-toggleable__label {background-color: #d4ebff;}input.sk-hidden--visually {border: 0;clip: rect(1px 1px 1px 1px);clip: rect(1px, 1px, 1px, 1px);height: 1px;margin: -1px;overflow: hidden;padding: 0;position: absolute;width: 1px;}div.sk-estimator {font-family: monospace;background-color: #f0f8ff;margin: 0.25em 0.25em;border: 1px dotted black;border-radius: 0.25em;box-sizing: border-box;}div.sk-estimator:hover {background-color: #d4ebff;}div.sk-parallel-item::after {content: \"\";width: 100%;border-bottom: 1px solid gray;flex-grow: 1;}div.sk-label:hover label.sk-toggleable__label {background-color: #d4ebff;}div.sk-serial::before {content: \"\";position: absolute;border-left: 1px solid gray;box-sizing: border-box;top: 2em;bottom: 0;left: 50%;}div.sk-serial {display: flex;flex-direction: column;align-items: center;background-color: white;}div.sk-item {z-index: 1;}div.sk-parallel {display: flex;align-items: stretch;justify-content: center;background-color: white;}div.sk-parallel-item {display: flex;flex-direction: column;position: relative;background-color: white;}div.sk-parallel-item:first-child::after {align-self: flex-end;width: 50%;}div.sk-parallel-item:last-child::after {align-self: flex-start;width: 50%;}div.sk-parallel-item:only-child::after {width: 0;}div.sk-dashed-wrapped {border: 1px dashed gray;margin: 0.2em;box-sizing: border-box;padding-bottom: 0.1em;background-color: white;position: relative;}div.sk-label label {font-family: monospace;font-weight: bold;background-color: white;display: inline-block;line-height: 1.2em;}div.sk-label-container {position: relative;z-index: 2;text-align: center;}div.sk-container {display: inline-block;position: relative;}</style><div class=\"sk-top-container\"><div class=\"sk-container\"><div class=\"sk-item sk-dashed-wrapped\"><div class=\"sk-label-container\"><div class=\"sk-label sk-toggleable\"><input class=\"sk-toggleable__control sk-hidden--visually\" id=\"f79ca078-8ed1-4b20-8729-334e63c27f43\" type=\"checkbox\" ><label class=\"sk-toggleable__label\" for=\"f79ca078-8ed1-4b20-8729-334e63c27f43\">Pipeline</label><div class=\"sk-toggleable__content\"><pre>Pipeline(steps=[('preprocessor',\n",
       "                 ColumnTransformer(transformers=[('numerical',\n",
       "                                                  Pipeline(steps=[('imputer',\n",
       "                                                                   SimpleImputer(add_indicator=True,\n",
       "                                                                                 strategy='median')),\n",
       "                                                                  ('scaler',\n",
       "                                                                   PowerTransformer()),\n",
       "                                                                  ('reducedim',\n",
       "                                                                   SelectPercentile(percentile=90))]),\n",
       "                                                  Index(['RevolvingUtilizationOfUnsecuredLines', 'DebtRatio', 'MonthlyIncome',\n",
       "       'NumberOfDependents', 'NumberOfTime60-89Da...\n",
       "       'cat_NumberRealEstateLoansOrLines', 'cat_NumberOfTimes90DaysLate',\n",
       "       'cat_NumberOfOpenCreditLinesAndLoans',\n",
       "       'cat_NumberOfTime30-59DaysPastDueNotWorse', 'cat_age'],\n",
       "      dtype='object'))])),\n",
       "                ('classifier',\n",
       "                 LGBMClassifier(device_type='gpu',\n",
       "                                learning_rate=0.0018069834369607075,\n",
       "                                max_depth=8, metric='auc', min_samples_leaf=47,\n",
       "                                n_estimators=5000, random_state=42,\n",
       "                                subsample=0.8573598985000007, verbose=-1))])</pre></div></div></div><div class=\"sk-serial\"><div class=\"sk-item sk-dashed-wrapped\"><div class=\"sk-label-container\"><div class=\"sk-label sk-toggleable\"><input class=\"sk-toggleable__control sk-hidden--visually\" id=\"91769503-bdb2-4229-acd5-9c18267cea35\" type=\"checkbox\" ><label class=\"sk-toggleable__label\" for=\"91769503-bdb2-4229-acd5-9c18267cea35\">preprocessor: ColumnTransformer</label><div class=\"sk-toggleable__content\"><pre>ColumnTransformer(transformers=[('numerical',\n",
       "                                 Pipeline(steps=[('imputer',\n",
       "                                                  SimpleImputer(add_indicator=True,\n",
       "                                                                strategy='median')),\n",
       "                                                 ('scaler', PowerTransformer()),\n",
       "                                                 ('reducedim',\n",
       "                                                  SelectPercentile(percentile=90))]),\n",
       "                                 Index(['RevolvingUtilizationOfUnsecuredLines', 'DebtRatio', 'MonthlyIncome',\n",
       "       'NumberOfDependents', 'NumberOfTime60-89DaysPastDueNotWorse',\n",
       "       'NumberRealEs...\n",
       "                                                                   score_func=<function mutual_info_classif at 0x7f91bccf5950>))]),\n",
       "                                 Index(['cat_RevolvingUtilizationOfUnsecuredLines', 'cat_DebtRatio',\n",
       "       'cat_MonthlyIncome', 'cat_NumberOfDependents',\n",
       "       'cat_NumberOfTime60-89DaysPastDueNotWorse',\n",
       "       'cat_NumberRealEstateLoansOrLines', 'cat_NumberOfTimes90DaysLate',\n",
       "       'cat_NumberOfOpenCreditLinesAndLoans',\n",
       "       'cat_NumberOfTime30-59DaysPastDueNotWorse', 'cat_age'],\n",
       "      dtype='object'))])</pre></div></div></div><div class=\"sk-parallel\"><div class=\"sk-parallel-item\"><div class=\"sk-item\"><div class=\"sk-label-container\"><div class=\"sk-label sk-toggleable\"><input class=\"sk-toggleable__control sk-hidden--visually\" id=\"6d28df69-7dc5-46a0-81dc-33c20c681e65\" type=\"checkbox\" ><label class=\"sk-toggleable__label\" for=\"6d28df69-7dc5-46a0-81dc-33c20c681e65\">numerical</label><div class=\"sk-toggleable__content\"><pre>Index(['RevolvingUtilizationOfUnsecuredLines', 'DebtRatio', 'MonthlyIncome',\n",
       "       'NumberOfDependents', 'NumberOfTime60-89DaysPastDueNotWorse',\n",
       "       'NumberRealEstateLoansOrLines', 'NumberOfTimes90DaysLate',\n",
       "       'NumberOfOpenCreditLinesAndLoans',\n",
       "       'NumberOfTime30-59DaysPastDueNotWorse', 'age', 'Weighted_Sum_PastDue',\n",
       "       '90days_out_of_TotalPastDue', 'RemainingLines', 'Loans_vs_Other_Lines',\n",
       "       'Debt_per_Real_Estate_Loan', 'Disposable_Income_per_person',\n",
       "       'RemainingLines_per_person', 'NumberRE_X_DebtRatio_X_age',\n",
       "       'RevolvingUtilization_per_age'],\n",
       "      dtype='object')</pre></div></div></div><div class=\"sk-serial\"><div class=\"sk-item\"><div class=\"sk-serial\"><div class=\"sk-item\"><div class=\"sk-estimator sk-toggleable\"><input class=\"sk-toggleable__control sk-hidden--visually\" id=\"24aae299-0445-4ee1-9912-9f921f6674b1\" type=\"checkbox\" ><label class=\"sk-toggleable__label\" for=\"24aae299-0445-4ee1-9912-9f921f6674b1\">SimpleImputer</label><div class=\"sk-toggleable__content\"><pre>SimpleImputer(add_indicator=True, strategy='median')</pre></div></div></div><div class=\"sk-item\"><div class=\"sk-estimator sk-toggleable\"><input class=\"sk-toggleable__control sk-hidden--visually\" id=\"1ccfd68e-d932-463f-a3dc-fc1e1a7fb29b\" type=\"checkbox\" ><label class=\"sk-toggleable__label\" for=\"1ccfd68e-d932-463f-a3dc-fc1e1a7fb29b\">PowerTransformer</label><div class=\"sk-toggleable__content\"><pre>PowerTransformer()</pre></div></div></div><div class=\"sk-item\"><div class=\"sk-estimator sk-toggleable\"><input class=\"sk-toggleable__control sk-hidden--visually\" id=\"d40564bf-817f-4c1d-88bb-8c8309674d48\" type=\"checkbox\" ><label class=\"sk-toggleable__label\" for=\"d40564bf-817f-4c1d-88bb-8c8309674d48\">SelectPercentile</label><div class=\"sk-toggleable__content\"><pre>SelectPercentile(percentile=90)</pre></div></div></div></div></div></div></div></div><div class=\"sk-parallel-item\"><div class=\"sk-item\"><div class=\"sk-label-container\"><div class=\"sk-label sk-toggleable\"><input class=\"sk-toggleable__control sk-hidden--visually\" id=\"47074b78-c807-48d1-aa2d-3d72692ca578\" type=\"checkbox\" ><label class=\"sk-toggleable__label\" for=\"47074b78-c807-48d1-aa2d-3d72692ca578\">categorical</label><div class=\"sk-toggleable__content\"><pre>Index(['cat_RevolvingUtilizationOfUnsecuredLines', 'cat_DebtRatio',\n",
       "       'cat_MonthlyIncome', 'cat_NumberOfDependents',\n",
       "       'cat_NumberOfTime60-89DaysPastDueNotWorse',\n",
       "       'cat_NumberRealEstateLoansOrLines', 'cat_NumberOfTimes90DaysLate',\n",
       "       'cat_NumberOfOpenCreditLinesAndLoans',\n",
       "       'cat_NumberOfTime30-59DaysPastDueNotWorse', 'cat_age'],\n",
       "      dtype='object')</pre></div></div></div><div class=\"sk-serial\"><div class=\"sk-item\"><div class=\"sk-serial\"><div class=\"sk-item\"><div class=\"sk-estimator sk-toggleable\"><input class=\"sk-toggleable__control sk-hidden--visually\" id=\"c03e9167-5aca-4cbc-9694-509cf1b30126\" type=\"checkbox\" ><label class=\"sk-toggleable__label\" for=\"c03e9167-5aca-4cbc-9694-509cf1b30126\">SimpleImputer</label><div class=\"sk-toggleable__content\"><pre>SimpleImputer(add_indicator=True, fill_value='missing',\n",
       "              strategy='most_frequent')</pre></div></div></div><div class=\"sk-item\"><div class=\"sk-estimator sk-toggleable\"><input class=\"sk-toggleable__control sk-hidden--visually\" id=\"42e3de2c-fdbc-468a-a9df-846c2f718c0b\" type=\"checkbox\" ><label class=\"sk-toggleable__label\" for=\"42e3de2c-fdbc-468a-a9df-846c2f718c0b\">CatBoostEncoder</label><div class=\"sk-toggleable__content\"><pre>CatBoostEncoder()</pre></div></div></div><div class=\"sk-item\"><div class=\"sk-estimator sk-toggleable\"><input class=\"sk-toggleable__control sk-hidden--visually\" id=\"24260584-cacd-40a9-a8df-8baee84636f7\" type=\"checkbox\" ><label class=\"sk-toggleable__label\" for=\"24260584-cacd-40a9-a8df-8baee84636f7\">SelectPercentile</label><div class=\"sk-toggleable__content\"><pre>SelectPercentile(percentile=90,\n",
       "                 score_func=<function mutual_info_classif at 0x7f91bccf5950>)</pre></div></div></div></div></div></div></div></div></div></div><div class=\"sk-item\"><div class=\"sk-estimator sk-toggleable\"><input class=\"sk-toggleable__control sk-hidden--visually\" id=\"309df743-5e18-4898-9a84-30a69176d328\" type=\"checkbox\" ><label class=\"sk-toggleable__label\" for=\"309df743-5e18-4898-9a84-30a69176d328\">LGBMClassifier</label><div class=\"sk-toggleable__content\"><pre>LGBMClassifier(device_type='gpu', learning_rate=0.0018069834369607075,\n",
       "               max_depth=8, metric='auc', min_samples_leaf=47,\n",
       "               n_estimators=5000, random_state=42, subsample=0.8573598985000007,\n",
       "               verbose=-1)</pre></div></div></div></div></div></div></div>"
      ],
      "text/plain": [
       "Pipeline(steps=[('preprocessor',\n",
       "                 ColumnTransformer(transformers=[('numerical',\n",
       "                                                  Pipeline(steps=[('imputer',\n",
       "                                                                   SimpleImputer(add_indicator=True,\n",
       "                                                                                 strategy='median')),\n",
       "                                                                  ('scaler',\n",
       "                                                                   PowerTransformer()),\n",
       "                                                                  ('reducedim',\n",
       "                                                                   SelectPercentile(percentile=90))]),\n",
       "                                                  Index(['RevolvingUtilizationOfUnsecuredLines', 'DebtRatio', 'MonthlyIncome',\n",
       "       'NumberOfDependents', 'NumberOfTime60-89Da...\n",
       "       'cat_NumberRealEstateLoansOrLines', 'cat_NumberOfTimes90DaysLate',\n",
       "       'cat_NumberOfOpenCreditLinesAndLoans',\n",
       "       'cat_NumberOfTime30-59DaysPastDueNotWorse', 'cat_age'],\n",
       "      dtype='object'))])),\n",
       "                ('classifier',\n",
       "                 LGBMClassifier(device_type='gpu',\n",
       "                                learning_rate=0.0018069834369607075,\n",
       "                                max_depth=8, metric='auc', min_samples_leaf=47,\n",
       "                                n_estimators=5000, random_state=42,\n",
       "                                subsample=0.8573598985000007, verbose=-1))])"
      ]
     },
     "execution_count": 39,
     "metadata": {},
     "output_type": "execute_result"
    }
   ],
   "source": [
    "preprocessor_catboost_powertransformer_new_fe = ColumnTransformer(\n",
    "            transformers=[\n",
    "                ('numerical', numeric_transformer, num_columns_new),\n",
    "                ('categorical', categorical_transformer_catboost, cat_columns_new)\n",
    "            ]\n",
    "            )\n",
    "\n",
    "pipe_lgbm_catboost_powertransformer_new_fe = Pipeline(\n",
    "    steps=[\n",
    "        ('preprocessor', preprocessor_catboost_powertransformer_new_fe),\n",
    "        ('classifier', lgbm.LGBMClassifier( n_jobs=-1,\n",
    "                                           verbose=-1,\n",
    "                                           **lgbm_param))\n",
    "    ]\n",
    ")\n",
    "pipe_lgbm_catboost_powertransformer_new_fe"
   ]
  },
  {
   "cell_type": "markdown",
   "id": "39cf74c1",
   "metadata": {
    "papermill": {
     "duration": 0.057485,
     "end_time": "2021-12-23T18:02:58.376880",
     "exception": false,
     "start_time": "2021-12-23T18:02:58.319395",
     "status": "completed"
    },
    "tags": []
   },
   "source": [
    "## Handle Outlier :cat+power+fe "
   ]
  },
  {
   "cell_type": "code",
   "execution_count": 40,
   "id": "8df91c2d",
   "metadata": {
    "execution": {
     "iopub.execute_input": "2021-12-23T18:02:58.515320Z",
     "iopub.status.busy": "2021-12-23T18:02:58.505005Z",
     "iopub.status.idle": "2021-12-23T18:02:59.006121Z",
     "shell.execute_reply": "2021-12-23T18:02:59.006582Z"
    },
    "papermill": {
     "duration": 0.572556,
     "end_time": "2021-12-23T18:02:59.006739",
     "exception": false,
     "start_time": "2021-12-23T18:02:58.434183",
     "status": "completed"
    },
    "tags": []
   },
   "outputs": [
    {
     "data": {
      "text/html": [
       "<style>div.sk-top-container {color: black;background-color: white;}div.sk-toggleable {background-color: white;}label.sk-toggleable__label {cursor: pointer;display: block;width: 100%;margin-bottom: 0;padding: 0.2em 0.3em;box-sizing: border-box;text-align: center;}div.sk-toggleable__content {max-height: 0;max-width: 0;overflow: hidden;text-align: left;background-color: #f0f8ff;}div.sk-toggleable__content pre {margin: 0.2em;color: black;border-radius: 0.25em;background-color: #f0f8ff;}input.sk-toggleable__control:checked~div.sk-toggleable__content {max-height: 200px;max-width: 100%;overflow: auto;}div.sk-estimator input.sk-toggleable__control:checked~label.sk-toggleable__label {background-color: #d4ebff;}div.sk-label input.sk-toggleable__control:checked~label.sk-toggleable__label {background-color: #d4ebff;}input.sk-hidden--visually {border: 0;clip: rect(1px 1px 1px 1px);clip: rect(1px, 1px, 1px, 1px);height: 1px;margin: -1px;overflow: hidden;padding: 0;position: absolute;width: 1px;}div.sk-estimator {font-family: monospace;background-color: #f0f8ff;margin: 0.25em 0.25em;border: 1px dotted black;border-radius: 0.25em;box-sizing: border-box;}div.sk-estimator:hover {background-color: #d4ebff;}div.sk-parallel-item::after {content: \"\";width: 100%;border-bottom: 1px solid gray;flex-grow: 1;}div.sk-label:hover label.sk-toggleable__label {background-color: #d4ebff;}div.sk-serial::before {content: \"\";position: absolute;border-left: 1px solid gray;box-sizing: border-box;top: 2em;bottom: 0;left: 50%;}div.sk-serial {display: flex;flex-direction: column;align-items: center;background-color: white;}div.sk-item {z-index: 1;}div.sk-parallel {display: flex;align-items: stretch;justify-content: center;background-color: white;}div.sk-parallel-item {display: flex;flex-direction: column;position: relative;background-color: white;}div.sk-parallel-item:first-child::after {align-self: flex-end;width: 50%;}div.sk-parallel-item:last-child::after {align-self: flex-start;width: 50%;}div.sk-parallel-item:only-child::after {width: 0;}div.sk-dashed-wrapped {border: 1px dashed gray;margin: 0.2em;box-sizing: border-box;padding-bottom: 0.1em;background-color: white;position: relative;}div.sk-label label {font-family: monospace;font-weight: bold;background-color: white;display: inline-block;line-height: 1.2em;}div.sk-label-container {position: relative;z-index: 2;text-align: center;}div.sk-container {display: inline-block;position: relative;}</style><div class=\"sk-top-container\"><div class=\"sk-container\"><div class=\"sk-item sk-dashed-wrapped\"><div class=\"sk-label-container\"><div class=\"sk-label sk-toggleable\"><input class=\"sk-toggleable__control sk-hidden--visually\" id=\"e0f94a6d-422a-481a-b015-6cdac5acff4a\" type=\"checkbox\" ><label class=\"sk-toggleable__label\" for=\"e0f94a6d-422a-481a-b015-6cdac5acff4a\">Pipeline</label><div class=\"sk-toggleable__content\"><pre>Pipeline(steps=[('preprocessor',\n",
       "                 ColumnTransformer(transformers=[('numerical',\n",
       "                                                  Pipeline(steps=[('outlierhandle',\n",
       "                                                                   OutlierReplace()),\n",
       "                                                                  ('imputer',\n",
       "                                                                   SimpleImputer(add_indicator=True,\n",
       "                                                                                 strategy='median')),\n",
       "                                                                  ('scaler',\n",
       "                                                                   PowerTransformer()),\n",
       "                                                                  ('reducedim',\n",
       "                                                                   SelectPercentile(percentile=90))]),\n",
       "                                                  Index(['RevolvingUtilizationOfUnsecuredLines', 'DebtRatio', 'MonthlyIncome',\n",
       "       'Numbe...\n",
       "       'cat_NumberRealEstateLoansOrLines', 'cat_NumberOfTimes90DaysLate',\n",
       "       'cat_NumberOfOpenCreditLinesAndLoans',\n",
       "       'cat_NumberOfTime30-59DaysPastDueNotWorse', 'cat_age'],\n",
       "      dtype='object'))])),\n",
       "                ('classifier',\n",
       "                 LGBMClassifier(device_type='gpu',\n",
       "                                learning_rate=0.0018069834369607075,\n",
       "                                max_depth=8, metric='auc', min_samples_leaf=47,\n",
       "                                n_estimators=5000, random_state=42,\n",
       "                                subsample=0.8573598985000007, verbose=-1))])</pre></div></div></div><div class=\"sk-serial\"><div class=\"sk-item sk-dashed-wrapped\"><div class=\"sk-label-container\"><div class=\"sk-label sk-toggleable\"><input class=\"sk-toggleable__control sk-hidden--visually\" id=\"6269ddc7-5041-426c-8fe1-2e7f4f60cd0e\" type=\"checkbox\" ><label class=\"sk-toggleable__label\" for=\"6269ddc7-5041-426c-8fe1-2e7f4f60cd0e\">preprocessor: ColumnTransformer</label><div class=\"sk-toggleable__content\"><pre>ColumnTransformer(transformers=[('numerical',\n",
       "                                 Pipeline(steps=[('outlierhandle',\n",
       "                                                  OutlierReplace()),\n",
       "                                                 ('imputer',\n",
       "                                                  SimpleImputer(add_indicator=True,\n",
       "                                                                strategy='median')),\n",
       "                                                 ('scaler', PowerTransformer()),\n",
       "                                                 ('reducedim',\n",
       "                                                  SelectPercentile(percentile=90))]),\n",
       "                                 Index(['RevolvingUtilizationOfUnsecuredLines', 'DebtRatio', 'MonthlyIncome',\n",
       "       'NumberOfDependents', 'NumberOfTime60-8...\n",
       "                                                                   score_func=<function mutual_info_classif at 0x7f91bccf5950>))]),\n",
       "                                 Index(['cat_RevolvingUtilizationOfUnsecuredLines', 'cat_DebtRatio',\n",
       "       'cat_MonthlyIncome', 'cat_NumberOfDependents',\n",
       "       'cat_NumberOfTime60-89DaysPastDueNotWorse',\n",
       "       'cat_NumberRealEstateLoansOrLines', 'cat_NumberOfTimes90DaysLate',\n",
       "       'cat_NumberOfOpenCreditLinesAndLoans',\n",
       "       'cat_NumberOfTime30-59DaysPastDueNotWorse', 'cat_age'],\n",
       "      dtype='object'))])</pre></div></div></div><div class=\"sk-parallel\"><div class=\"sk-parallel-item\"><div class=\"sk-item\"><div class=\"sk-label-container\"><div class=\"sk-label sk-toggleable\"><input class=\"sk-toggleable__control sk-hidden--visually\" id=\"dd231b8c-ca8e-430c-91a6-98d750b49ff9\" type=\"checkbox\" ><label class=\"sk-toggleable__label\" for=\"dd231b8c-ca8e-430c-91a6-98d750b49ff9\">numerical</label><div class=\"sk-toggleable__content\"><pre>Index(['RevolvingUtilizationOfUnsecuredLines', 'DebtRatio', 'MonthlyIncome',\n",
       "       'NumberOfDependents', 'NumberOfTime60-89DaysPastDueNotWorse',\n",
       "       'NumberRealEstateLoansOrLines', 'NumberOfTimes90DaysLate',\n",
       "       'NumberOfOpenCreditLinesAndLoans',\n",
       "       'NumberOfTime30-59DaysPastDueNotWorse', 'age', 'Weighted_Sum_PastDue',\n",
       "       '90days_out_of_TotalPastDue', 'RemainingLines', 'Loans_vs_Other_Lines',\n",
       "       'Debt_per_Real_Estate_Loan', 'Disposable_Income_per_person',\n",
       "       'RemainingLines_per_person', 'NumberRE_X_DebtRatio_X_age',\n",
       "       'RevolvingUtilization_per_age'],\n",
       "      dtype='object')</pre></div></div></div><div class=\"sk-serial\"><div class=\"sk-item\"><div class=\"sk-serial\"><div class=\"sk-item\"><div class=\"sk-estimator sk-toggleable\"><input class=\"sk-toggleable__control sk-hidden--visually\" id=\"8c7fdd60-f9c2-4f56-a05e-ffea363ae079\" type=\"checkbox\" ><label class=\"sk-toggleable__label\" for=\"8c7fdd60-f9c2-4f56-a05e-ffea363ae079\">OutlierReplace</label><div class=\"sk-toggleable__content\"><pre>OutlierReplace()</pre></div></div></div><div class=\"sk-item\"><div class=\"sk-estimator sk-toggleable\"><input class=\"sk-toggleable__control sk-hidden--visually\" id=\"e5d19b6c-9609-4dc2-8dc0-4cbec18d62f6\" type=\"checkbox\" ><label class=\"sk-toggleable__label\" for=\"e5d19b6c-9609-4dc2-8dc0-4cbec18d62f6\">SimpleImputer</label><div class=\"sk-toggleable__content\"><pre>SimpleImputer(add_indicator=True, strategy='median')</pre></div></div></div><div class=\"sk-item\"><div class=\"sk-estimator sk-toggleable\"><input class=\"sk-toggleable__control sk-hidden--visually\" id=\"18f0e5a7-baa4-4e88-86dc-4a68170f5bc8\" type=\"checkbox\" ><label class=\"sk-toggleable__label\" for=\"18f0e5a7-baa4-4e88-86dc-4a68170f5bc8\">PowerTransformer</label><div class=\"sk-toggleable__content\"><pre>PowerTransformer()</pre></div></div></div><div class=\"sk-item\"><div class=\"sk-estimator sk-toggleable\"><input class=\"sk-toggleable__control sk-hidden--visually\" id=\"047e7663-2fbb-4f81-9bd5-e27453b648a8\" type=\"checkbox\" ><label class=\"sk-toggleable__label\" for=\"047e7663-2fbb-4f81-9bd5-e27453b648a8\">SelectPercentile</label><div class=\"sk-toggleable__content\"><pre>SelectPercentile(percentile=90)</pre></div></div></div></div></div></div></div></div><div class=\"sk-parallel-item\"><div class=\"sk-item\"><div class=\"sk-label-container\"><div class=\"sk-label sk-toggleable\"><input class=\"sk-toggleable__control sk-hidden--visually\" id=\"c148dad9-aecb-4cd6-85b3-6313cf4794ff\" type=\"checkbox\" ><label class=\"sk-toggleable__label\" for=\"c148dad9-aecb-4cd6-85b3-6313cf4794ff\">categorical</label><div class=\"sk-toggleable__content\"><pre>Index(['cat_RevolvingUtilizationOfUnsecuredLines', 'cat_DebtRatio',\n",
       "       'cat_MonthlyIncome', 'cat_NumberOfDependents',\n",
       "       'cat_NumberOfTime60-89DaysPastDueNotWorse',\n",
       "       'cat_NumberRealEstateLoansOrLines', 'cat_NumberOfTimes90DaysLate',\n",
       "       'cat_NumberOfOpenCreditLinesAndLoans',\n",
       "       'cat_NumberOfTime30-59DaysPastDueNotWorse', 'cat_age'],\n",
       "      dtype='object')</pre></div></div></div><div class=\"sk-serial\"><div class=\"sk-item\"><div class=\"sk-serial\"><div class=\"sk-item\"><div class=\"sk-estimator sk-toggleable\"><input class=\"sk-toggleable__control sk-hidden--visually\" id=\"468710dc-bf7a-4487-ae2e-e838f32c204a\" type=\"checkbox\" ><label class=\"sk-toggleable__label\" for=\"468710dc-bf7a-4487-ae2e-e838f32c204a\">SimpleImputer</label><div class=\"sk-toggleable__content\"><pre>SimpleImputer(add_indicator=True, fill_value='missing',\n",
       "              strategy='most_frequent')</pre></div></div></div><div class=\"sk-item\"><div class=\"sk-estimator sk-toggleable\"><input class=\"sk-toggleable__control sk-hidden--visually\" id=\"308d18a1-059c-4cf0-b102-922eeb7d5234\" type=\"checkbox\" ><label class=\"sk-toggleable__label\" for=\"308d18a1-059c-4cf0-b102-922eeb7d5234\">CatBoostEncoder</label><div class=\"sk-toggleable__content\"><pre>CatBoostEncoder()</pre></div></div></div><div class=\"sk-item\"><div class=\"sk-estimator sk-toggleable\"><input class=\"sk-toggleable__control sk-hidden--visually\" id=\"cb81f305-134b-459e-b37e-f1382a21df27\" type=\"checkbox\" ><label class=\"sk-toggleable__label\" for=\"cb81f305-134b-459e-b37e-f1382a21df27\">SelectPercentile</label><div class=\"sk-toggleable__content\"><pre>SelectPercentile(percentile=90,\n",
       "                 score_func=<function mutual_info_classif at 0x7f91bccf5950>)</pre></div></div></div></div></div></div></div></div></div></div><div class=\"sk-item\"><div class=\"sk-estimator sk-toggleable\"><input class=\"sk-toggleable__control sk-hidden--visually\" id=\"2a0ceafb-b711-4c75-958e-15b4180988c0\" type=\"checkbox\" ><label class=\"sk-toggleable__label\" for=\"2a0ceafb-b711-4c75-958e-15b4180988c0\">LGBMClassifier</label><div class=\"sk-toggleable__content\"><pre>LGBMClassifier(device_type='gpu', learning_rate=0.0018069834369607075,\n",
       "               max_depth=8, metric='auc', min_samples_leaf=47,\n",
       "               n_estimators=5000, random_state=42, subsample=0.8573598985000007,\n",
       "               verbose=-1)</pre></div></div></div></div></div></div></div>"
      ],
      "text/plain": [
       "Pipeline(steps=[('preprocessor',\n",
       "                 ColumnTransformer(transformers=[('numerical',\n",
       "                                                  Pipeline(steps=[('outlierhandle',\n",
       "                                                                   OutlierReplace()),\n",
       "                                                                  ('imputer',\n",
       "                                                                   SimpleImputer(add_indicator=True,\n",
       "                                                                                 strategy='median')),\n",
       "                                                                  ('scaler',\n",
       "                                                                   PowerTransformer()),\n",
       "                                                                  ('reducedim',\n",
       "                                                                   SelectPercentile(percentile=90))]),\n",
       "                                                  Index(['RevolvingUtilizationOfUnsecuredLines', 'DebtRatio', 'MonthlyIncome',\n",
       "       'Numbe...\n",
       "       'cat_NumberRealEstateLoansOrLines', 'cat_NumberOfTimes90DaysLate',\n",
       "       'cat_NumberOfOpenCreditLinesAndLoans',\n",
       "       'cat_NumberOfTime30-59DaysPastDueNotWorse', 'cat_age'],\n",
       "      dtype='object'))])),\n",
       "                ('classifier',\n",
       "                 LGBMClassifier(device_type='gpu',\n",
       "                                learning_rate=0.0018069834369607075,\n",
       "                                max_depth=8, metric='auc', min_samples_leaf=47,\n",
       "                                n_estimators=5000, random_state=42,\n",
       "                                subsample=0.8573598985000007, verbose=-1))])"
      ]
     },
     "execution_count": 40,
     "metadata": {},
     "output_type": "execute_result"
    }
   ],
   "source": [
    "preprocessor_catboost_powertransformer_new_fe_outlier = ColumnTransformer(\n",
    "            transformers=[\n",
    "                ('numerical', numeric_transformer_outlier, num_columns_new),\n",
    "                ('categorical', categorical_transformer_catboost, cat_columns_new)\n",
    "            ]\n",
    "            )\n",
    "\n",
    "pipe_lgbm_catboost_powertransformer_new_fe_outlier= Pipeline(\n",
    "    steps=[\n",
    "        ('preprocessor', preprocessor_catboost_powertransformer_new_fe_outlier),\n",
    "        ('classifier', lgbm.LGBMClassifier( n_jobs=-1,\n",
    "                                           verbose=-1,\n",
    "                                           **lgbm_param))\n",
    "    ]\n",
    ")\n",
    "pipe_lgbm_catboost_powertransformer_new_fe_outlier"
   ]
  },
  {
   "cell_type": "markdown",
   "id": "9b390350",
   "metadata": {
    "papermill": {
     "duration": 0.060867,
     "end_time": "2021-12-23T18:02:59.130604",
     "exception": false,
     "start_time": "2021-12-23T18:02:59.069737",
     "status": "completed"
    },
    "tags": []
   },
   "source": [
    "## Drop missing:cat+power+fe "
   ]
  },
  {
   "cell_type": "code",
   "execution_count": 41,
   "id": "1c156c8b",
   "metadata": {
    "execution": {
     "iopub.execute_input": "2021-12-23T18:02:59.284643Z",
     "iopub.status.busy": "2021-12-23T18:02:59.274468Z",
     "iopub.status.idle": "2021-12-23T18:02:59.700792Z",
     "shell.execute_reply": "2021-12-23T18:02:59.701196Z"
    },
    "papermill": {
     "duration": 0.509951,
     "end_time": "2021-12-23T18:02:59.701350",
     "exception": false,
     "start_time": "2021-12-23T18:02:59.191399",
     "status": "completed"
    },
    "tags": []
   },
   "outputs": [
    {
     "data": {
      "text/html": [
       "<style>div.sk-top-container {color: black;background-color: white;}div.sk-toggleable {background-color: white;}label.sk-toggleable__label {cursor: pointer;display: block;width: 100%;margin-bottom: 0;padding: 0.2em 0.3em;box-sizing: border-box;text-align: center;}div.sk-toggleable__content {max-height: 0;max-width: 0;overflow: hidden;text-align: left;background-color: #f0f8ff;}div.sk-toggleable__content pre {margin: 0.2em;color: black;border-radius: 0.25em;background-color: #f0f8ff;}input.sk-toggleable__control:checked~div.sk-toggleable__content {max-height: 200px;max-width: 100%;overflow: auto;}div.sk-estimator input.sk-toggleable__control:checked~label.sk-toggleable__label {background-color: #d4ebff;}div.sk-label input.sk-toggleable__control:checked~label.sk-toggleable__label {background-color: #d4ebff;}input.sk-hidden--visually {border: 0;clip: rect(1px 1px 1px 1px);clip: rect(1px, 1px, 1px, 1px);height: 1px;margin: -1px;overflow: hidden;padding: 0;position: absolute;width: 1px;}div.sk-estimator {font-family: monospace;background-color: #f0f8ff;margin: 0.25em 0.25em;border: 1px dotted black;border-radius: 0.25em;box-sizing: border-box;}div.sk-estimator:hover {background-color: #d4ebff;}div.sk-parallel-item::after {content: \"\";width: 100%;border-bottom: 1px solid gray;flex-grow: 1;}div.sk-label:hover label.sk-toggleable__label {background-color: #d4ebff;}div.sk-serial::before {content: \"\";position: absolute;border-left: 1px solid gray;box-sizing: border-box;top: 2em;bottom: 0;left: 50%;}div.sk-serial {display: flex;flex-direction: column;align-items: center;background-color: white;}div.sk-item {z-index: 1;}div.sk-parallel {display: flex;align-items: stretch;justify-content: center;background-color: white;}div.sk-parallel-item {display: flex;flex-direction: column;position: relative;background-color: white;}div.sk-parallel-item:first-child::after {align-self: flex-end;width: 50%;}div.sk-parallel-item:last-child::after {align-self: flex-start;width: 50%;}div.sk-parallel-item:only-child::after {width: 0;}div.sk-dashed-wrapped {border: 1px dashed gray;margin: 0.2em;box-sizing: border-box;padding-bottom: 0.1em;background-color: white;position: relative;}div.sk-label label {font-family: monospace;font-weight: bold;background-color: white;display: inline-block;line-height: 1.2em;}div.sk-label-container {position: relative;z-index: 2;text-align: center;}div.sk-container {display: inline-block;position: relative;}</style><div class=\"sk-top-container\"><div class=\"sk-container\"><div class=\"sk-item sk-dashed-wrapped\"><div class=\"sk-label-container\"><div class=\"sk-label sk-toggleable\"><input class=\"sk-toggleable__control sk-hidden--visually\" id=\"ee01a253-de21-4b4b-8d11-00d1cff1a9f2\" type=\"checkbox\" ><label class=\"sk-toggleable__label\" for=\"ee01a253-de21-4b4b-8d11-00d1cff1a9f2\">Pipeline</label><div class=\"sk-toggleable__content\"><pre>Pipeline(steps=[('preprocessor',\n",
       "                 ColumnTransformer(transformers=[('numerical',\n",
       "                                                  Pipeline(steps=[('imputer',\n",
       "                                                                   SimpleImputer(add_indicator=True,\n",
       "                                                                                 strategy='median')),\n",
       "                                                                  ('scaler',\n",
       "                                                                   PowerTransformer()),\n",
       "                                                                  ('reducedim',\n",
       "                                                                   SelectPercentile(percentile=90))]),\n",
       "                                                  Index(['RevolvingUtilizationOfUnsecuredLines', 'DebtRatio',\n",
       "       'NumberOfTime60-89DaysPastDueNotWorse', 'NumberRealEstateL...\n",
       "       'cat_NumberRealEstateLoansOrLines', 'cat_NumberOfTimes90DaysLate',\n",
       "       'cat_NumberOfOpenCreditLinesAndLoans',\n",
       "       'cat_NumberOfTime30-59DaysPastDueNotWorse', 'cat_age'],\n",
       "      dtype='object'))])),\n",
       "                ('classifier',\n",
       "                 LGBMClassifier(device_type='gpu',\n",
       "                                learning_rate=0.0018069834369607075,\n",
       "                                max_depth=8, metric='auc', min_samples_leaf=47,\n",
       "                                n_estimators=5000, random_state=42,\n",
       "                                subsample=0.8573598985000007, verbose=-1))])</pre></div></div></div><div class=\"sk-serial\"><div class=\"sk-item sk-dashed-wrapped\"><div class=\"sk-label-container\"><div class=\"sk-label sk-toggleable\"><input class=\"sk-toggleable__control sk-hidden--visually\" id=\"390e2e07-3d2a-4ca9-b03f-3f45156e2685\" type=\"checkbox\" ><label class=\"sk-toggleable__label\" for=\"390e2e07-3d2a-4ca9-b03f-3f45156e2685\">preprocessor: ColumnTransformer</label><div class=\"sk-toggleable__content\"><pre>ColumnTransformer(transformers=[('numerical',\n",
       "                                 Pipeline(steps=[('imputer',\n",
       "                                                  SimpleImputer(add_indicator=True,\n",
       "                                                                strategy='median')),\n",
       "                                                 ('scaler', PowerTransformer()),\n",
       "                                                 ('reducedim',\n",
       "                                                  SelectPercentile(percentile=90))]),\n",
       "                                 Index(['RevolvingUtilizationOfUnsecuredLines', 'DebtRatio',\n",
       "       'NumberOfTime60-89DaysPastDueNotWorse', 'NumberRealEstateLoansOrLines',\n",
       "       'NumberOfTimes90Day...\n",
       "                                                                   score_func=<function mutual_info_classif at 0x7f91bccf5950>))]),\n",
       "                                 Index(['cat_RevolvingUtilizationOfUnsecuredLines', 'cat_DebtRatio',\n",
       "       'cat_MonthlyIncome', 'cat_NumberOfDependents',\n",
       "       'cat_NumberOfTime60-89DaysPastDueNotWorse',\n",
       "       'cat_NumberRealEstateLoansOrLines', 'cat_NumberOfTimes90DaysLate',\n",
       "       'cat_NumberOfOpenCreditLinesAndLoans',\n",
       "       'cat_NumberOfTime30-59DaysPastDueNotWorse', 'cat_age'],\n",
       "      dtype='object'))])</pre></div></div></div><div class=\"sk-parallel\"><div class=\"sk-parallel-item\"><div class=\"sk-item\"><div class=\"sk-label-container\"><div class=\"sk-label sk-toggleable\"><input class=\"sk-toggleable__control sk-hidden--visually\" id=\"f794a2b4-0cff-49d6-a732-543a081da802\" type=\"checkbox\" ><label class=\"sk-toggleable__label\" for=\"f794a2b4-0cff-49d6-a732-543a081da802\">numerical</label><div class=\"sk-toggleable__content\"><pre>Index(['RevolvingUtilizationOfUnsecuredLines', 'DebtRatio',\n",
       "       'NumberOfTime60-89DaysPastDueNotWorse', 'NumberRealEstateLoansOrLines',\n",
       "       'NumberOfTimes90DaysLate', 'NumberOfOpenCreditLinesAndLoans',\n",
       "       'NumberOfTime30-59DaysPastDueNotWorse', 'age', 'Weighted_Sum_PastDue',\n",
       "       '90days_out_of_TotalPastDue', 'RemainingLines', 'Loans_vs_Other_Lines',\n",
       "       'Debt_per_Real_Estate_Loan', 'Disposable_Income_per_person',\n",
       "       'RemainingLines_per_person', 'NumberRE_X_DebtRatio_X_age',\n",
       "       'RevolvingUtilization_per_age'],\n",
       "      dtype='object')</pre></div></div></div><div class=\"sk-serial\"><div class=\"sk-item\"><div class=\"sk-serial\"><div class=\"sk-item\"><div class=\"sk-estimator sk-toggleable\"><input class=\"sk-toggleable__control sk-hidden--visually\" id=\"ae6b7352-eaf5-4c40-af71-10edd7bf7da6\" type=\"checkbox\" ><label class=\"sk-toggleable__label\" for=\"ae6b7352-eaf5-4c40-af71-10edd7bf7da6\">SimpleImputer</label><div class=\"sk-toggleable__content\"><pre>SimpleImputer(add_indicator=True, strategy='median')</pre></div></div></div><div class=\"sk-item\"><div class=\"sk-estimator sk-toggleable\"><input class=\"sk-toggleable__control sk-hidden--visually\" id=\"2a853185-b033-449c-8d76-f16eb644d583\" type=\"checkbox\" ><label class=\"sk-toggleable__label\" for=\"2a853185-b033-449c-8d76-f16eb644d583\">PowerTransformer</label><div class=\"sk-toggleable__content\"><pre>PowerTransformer()</pre></div></div></div><div class=\"sk-item\"><div class=\"sk-estimator sk-toggleable\"><input class=\"sk-toggleable__control sk-hidden--visually\" id=\"f43be4f8-842f-4c7b-aff2-c30d49fffa4d\" type=\"checkbox\" ><label class=\"sk-toggleable__label\" for=\"f43be4f8-842f-4c7b-aff2-c30d49fffa4d\">SelectPercentile</label><div class=\"sk-toggleable__content\"><pre>SelectPercentile(percentile=90)</pre></div></div></div></div></div></div></div></div><div class=\"sk-parallel-item\"><div class=\"sk-item\"><div class=\"sk-label-container\"><div class=\"sk-label sk-toggleable\"><input class=\"sk-toggleable__control sk-hidden--visually\" id=\"04880d64-1d41-4f4e-beb7-9db77ba6367a\" type=\"checkbox\" ><label class=\"sk-toggleable__label\" for=\"04880d64-1d41-4f4e-beb7-9db77ba6367a\">categorical</label><div class=\"sk-toggleable__content\"><pre>Index(['cat_RevolvingUtilizationOfUnsecuredLines', 'cat_DebtRatio',\n",
       "       'cat_MonthlyIncome', 'cat_NumberOfDependents',\n",
       "       'cat_NumberOfTime60-89DaysPastDueNotWorse',\n",
       "       'cat_NumberRealEstateLoansOrLines', 'cat_NumberOfTimes90DaysLate',\n",
       "       'cat_NumberOfOpenCreditLinesAndLoans',\n",
       "       'cat_NumberOfTime30-59DaysPastDueNotWorse', 'cat_age'],\n",
       "      dtype='object')</pre></div></div></div><div class=\"sk-serial\"><div class=\"sk-item\"><div class=\"sk-serial\"><div class=\"sk-item\"><div class=\"sk-estimator sk-toggleable\"><input class=\"sk-toggleable__control sk-hidden--visually\" id=\"be0c12e8-2dce-4526-b168-2ce4aecab8f3\" type=\"checkbox\" ><label class=\"sk-toggleable__label\" for=\"be0c12e8-2dce-4526-b168-2ce4aecab8f3\">SimpleImputer</label><div class=\"sk-toggleable__content\"><pre>SimpleImputer(add_indicator=True, fill_value='missing',\n",
       "              strategy='most_frequent')</pre></div></div></div><div class=\"sk-item\"><div class=\"sk-estimator sk-toggleable\"><input class=\"sk-toggleable__control sk-hidden--visually\" id=\"31b251dd-c86b-4330-b13b-7a7b1ed6fc01\" type=\"checkbox\" ><label class=\"sk-toggleable__label\" for=\"31b251dd-c86b-4330-b13b-7a7b1ed6fc01\">CatBoostEncoder</label><div class=\"sk-toggleable__content\"><pre>CatBoostEncoder()</pre></div></div></div><div class=\"sk-item\"><div class=\"sk-estimator sk-toggleable\"><input class=\"sk-toggleable__control sk-hidden--visually\" id=\"7b470433-9e60-47c5-ad52-a105620f69f3\" type=\"checkbox\" ><label class=\"sk-toggleable__label\" for=\"7b470433-9e60-47c5-ad52-a105620f69f3\">SelectPercentile</label><div class=\"sk-toggleable__content\"><pre>SelectPercentile(percentile=90,\n",
       "                 score_func=<function mutual_info_classif at 0x7f91bccf5950>)</pre></div></div></div></div></div></div></div></div></div></div><div class=\"sk-item\"><div class=\"sk-estimator sk-toggleable\"><input class=\"sk-toggleable__control sk-hidden--visually\" id=\"ada76eb1-b273-4865-b08a-e4cf701c1813\" type=\"checkbox\" ><label class=\"sk-toggleable__label\" for=\"ada76eb1-b273-4865-b08a-e4cf701c1813\">LGBMClassifier</label><div class=\"sk-toggleable__content\"><pre>LGBMClassifier(device_type='gpu', learning_rate=0.0018069834369607075,\n",
       "               max_depth=8, metric='auc', min_samples_leaf=47,\n",
       "               n_estimators=5000, random_state=42, subsample=0.8573598985000007,\n",
       "               verbose=-1)</pre></div></div></div></div></div></div></div>"
      ],
      "text/plain": [
       "Pipeline(steps=[('preprocessor',\n",
       "                 ColumnTransformer(transformers=[('numerical',\n",
       "                                                  Pipeline(steps=[('imputer',\n",
       "                                                                   SimpleImputer(add_indicator=True,\n",
       "                                                                                 strategy='median')),\n",
       "                                                                  ('scaler',\n",
       "                                                                   PowerTransformer()),\n",
       "                                                                  ('reducedim',\n",
       "                                                                   SelectPercentile(percentile=90))]),\n",
       "                                                  Index(['RevolvingUtilizationOfUnsecuredLines', 'DebtRatio',\n",
       "       'NumberOfTime60-89DaysPastDueNotWorse', 'NumberRealEstateL...\n",
       "       'cat_NumberRealEstateLoansOrLines', 'cat_NumberOfTimes90DaysLate',\n",
       "       'cat_NumberOfOpenCreditLinesAndLoans',\n",
       "       'cat_NumberOfTime30-59DaysPastDueNotWorse', 'cat_age'],\n",
       "      dtype='object'))])),\n",
       "                ('classifier',\n",
       "                 LGBMClassifier(device_type='gpu',\n",
       "                                learning_rate=0.0018069834369607075,\n",
       "                                max_depth=8, metric='auc', min_samples_leaf=47,\n",
       "                                n_estimators=5000, random_state=42,\n",
       "                                subsample=0.8573598985000007, verbose=-1))])"
      ]
     },
     "execution_count": 41,
     "metadata": {},
     "output_type": "execute_result"
    }
   ],
   "source": [
    "preprocessor_catboost_powertransformer_new_fe_without_missing= ColumnTransformer(\n",
    "            transformers=[\n",
    "                ('numerical', numeric_transformer, num_columns_new_without_missing),\n",
    "                ('categorical', categorical_transformer_catboost, cat_columns_new_without_missing)\n",
    "            ]\n",
    "            )\n",
    "pipe_lgbm_catboost_powertransformer_new_fe_without_missing = Pipeline(\n",
    "    steps=[\n",
    "        ('preprocessor', preprocessor_catboost_powertransformer_new_fe_without_missing),\n",
    "        ('classifier', lgbm.LGBMClassifier( n_jobs=-1,\n",
    "                                           verbose=-1,\n",
    "                                           **lgbm_param))\n",
    "    ]\n",
    ")\n",
    "pipe_lgbm_catboost_powertransformer_new_fe_without_missing"
   ]
  },
  {
   "cell_type": "markdown",
   "id": "345da6fa",
   "metadata": {
    "papermill": {
     "duration": 0.059128,
     "end_time": "2021-12-23T18:02:59.820585",
     "exception": false,
     "start_time": "2021-12-23T18:02:59.761457",
     "status": "completed"
    },
    "tags": []
   },
   "source": [
    "# Pipe 7: cat +qauntile +new feature"
   ]
  },
  {
   "cell_type": "code",
   "execution_count": 42,
   "id": "33353d61",
   "metadata": {
    "execution": {
     "iopub.execute_input": "2021-12-23T18:02:59.982393Z",
     "iopub.status.busy": "2021-12-23T18:02:59.972061Z",
     "iopub.status.idle": "2021-12-23T18:03:00.411494Z",
     "shell.execute_reply": "2021-12-23T18:03:00.411903Z"
    },
    "papermill": {
     "duration": 0.532378,
     "end_time": "2021-12-23T18:03:00.412050",
     "exception": false,
     "start_time": "2021-12-23T18:02:59.879672",
     "status": "completed"
    },
    "tags": []
   },
   "outputs": [
    {
     "data": {
      "text/html": [
       "<style>div.sk-top-container {color: black;background-color: white;}div.sk-toggleable {background-color: white;}label.sk-toggleable__label {cursor: pointer;display: block;width: 100%;margin-bottom: 0;padding: 0.2em 0.3em;box-sizing: border-box;text-align: center;}div.sk-toggleable__content {max-height: 0;max-width: 0;overflow: hidden;text-align: left;background-color: #f0f8ff;}div.sk-toggleable__content pre {margin: 0.2em;color: black;border-radius: 0.25em;background-color: #f0f8ff;}input.sk-toggleable__control:checked~div.sk-toggleable__content {max-height: 200px;max-width: 100%;overflow: auto;}div.sk-estimator input.sk-toggleable__control:checked~label.sk-toggleable__label {background-color: #d4ebff;}div.sk-label input.sk-toggleable__control:checked~label.sk-toggleable__label {background-color: #d4ebff;}input.sk-hidden--visually {border: 0;clip: rect(1px 1px 1px 1px);clip: rect(1px, 1px, 1px, 1px);height: 1px;margin: -1px;overflow: hidden;padding: 0;position: absolute;width: 1px;}div.sk-estimator {font-family: monospace;background-color: #f0f8ff;margin: 0.25em 0.25em;border: 1px dotted black;border-radius: 0.25em;box-sizing: border-box;}div.sk-estimator:hover {background-color: #d4ebff;}div.sk-parallel-item::after {content: \"\";width: 100%;border-bottom: 1px solid gray;flex-grow: 1;}div.sk-label:hover label.sk-toggleable__label {background-color: #d4ebff;}div.sk-serial::before {content: \"\";position: absolute;border-left: 1px solid gray;box-sizing: border-box;top: 2em;bottom: 0;left: 50%;}div.sk-serial {display: flex;flex-direction: column;align-items: center;background-color: white;}div.sk-item {z-index: 1;}div.sk-parallel {display: flex;align-items: stretch;justify-content: center;background-color: white;}div.sk-parallel-item {display: flex;flex-direction: column;position: relative;background-color: white;}div.sk-parallel-item:first-child::after {align-self: flex-end;width: 50%;}div.sk-parallel-item:last-child::after {align-self: flex-start;width: 50%;}div.sk-parallel-item:only-child::after {width: 0;}div.sk-dashed-wrapped {border: 1px dashed gray;margin: 0.2em;box-sizing: border-box;padding-bottom: 0.1em;background-color: white;position: relative;}div.sk-label label {font-family: monospace;font-weight: bold;background-color: white;display: inline-block;line-height: 1.2em;}div.sk-label-container {position: relative;z-index: 2;text-align: center;}div.sk-container {display: inline-block;position: relative;}</style><div class=\"sk-top-container\"><div class=\"sk-container\"><div class=\"sk-item sk-dashed-wrapped\"><div class=\"sk-label-container\"><div class=\"sk-label sk-toggleable\"><input class=\"sk-toggleable__control sk-hidden--visually\" id=\"16eab9f5-4bda-40f4-9a56-9a3f62dce064\" type=\"checkbox\" ><label class=\"sk-toggleable__label\" for=\"16eab9f5-4bda-40f4-9a56-9a3f62dce064\">Pipeline</label><div class=\"sk-toggleable__content\"><pre>Pipeline(steps=[('preprocessor',\n",
       "                 ColumnTransformer(transformers=[('numerical',\n",
       "                                                  Pipeline(steps=[('imputer',\n",
       "                                                                   SimpleImputer(add_indicator=True,\n",
       "                                                                                 strategy='median')),\n",
       "                                                                  ('scaler',\n",
       "                                                                   QuantileTransformer()),\n",
       "                                                                  ('reducedim',\n",
       "                                                                   SelectPercentile(percentile=90))]),\n",
       "                                                  Index(['RevolvingUtilizationOfUnsecuredLines', 'DebtRatio', 'MonthlyIncome',\n",
       "       'NumberOfDependents', 'NumberOfTime60-8...\n",
       "       'cat_NumberRealEstateLoansOrLines', 'cat_NumberOfTimes90DaysLate',\n",
       "       'cat_NumberOfOpenCreditLinesAndLoans',\n",
       "       'cat_NumberOfTime30-59DaysPastDueNotWorse', 'cat_age'],\n",
       "      dtype='object'))])),\n",
       "                ('classifier',\n",
       "                 LGBMClassifier(device_type='gpu',\n",
       "                                learning_rate=0.0018069834369607075,\n",
       "                                max_depth=8, metric='auc', min_samples_leaf=47,\n",
       "                                n_estimators=5000, random_state=42,\n",
       "                                subsample=0.8573598985000007, verbose=-1))])</pre></div></div></div><div class=\"sk-serial\"><div class=\"sk-item sk-dashed-wrapped\"><div class=\"sk-label-container\"><div class=\"sk-label sk-toggleable\"><input class=\"sk-toggleable__control sk-hidden--visually\" id=\"c81a33f9-27fb-4dd1-b74b-d132be8bceda\" type=\"checkbox\" ><label class=\"sk-toggleable__label\" for=\"c81a33f9-27fb-4dd1-b74b-d132be8bceda\">preprocessor: ColumnTransformer</label><div class=\"sk-toggleable__content\"><pre>ColumnTransformer(transformers=[('numerical',\n",
       "                                 Pipeline(steps=[('imputer',\n",
       "                                                  SimpleImputer(add_indicator=True,\n",
       "                                                                strategy='median')),\n",
       "                                                 ('scaler',\n",
       "                                                  QuantileTransformer()),\n",
       "                                                 ('reducedim',\n",
       "                                                  SelectPercentile(percentile=90))]),\n",
       "                                 Index(['RevolvingUtilizationOfUnsecuredLines', 'DebtRatio', 'MonthlyIncome',\n",
       "       'NumberOfDependents', 'NumberOfTime60-89DaysPastDueNotWorse',\n",
       "       'NumberRea...\n",
       "                                                                   score_func=<function mutual_info_classif at 0x7f91bccf5950>))]),\n",
       "                                 Index(['cat_RevolvingUtilizationOfUnsecuredLines', 'cat_DebtRatio',\n",
       "       'cat_MonthlyIncome', 'cat_NumberOfDependents',\n",
       "       'cat_NumberOfTime60-89DaysPastDueNotWorse',\n",
       "       'cat_NumberRealEstateLoansOrLines', 'cat_NumberOfTimes90DaysLate',\n",
       "       'cat_NumberOfOpenCreditLinesAndLoans',\n",
       "       'cat_NumberOfTime30-59DaysPastDueNotWorse', 'cat_age'],\n",
       "      dtype='object'))])</pre></div></div></div><div class=\"sk-parallel\"><div class=\"sk-parallel-item\"><div class=\"sk-item\"><div class=\"sk-label-container\"><div class=\"sk-label sk-toggleable\"><input class=\"sk-toggleable__control sk-hidden--visually\" id=\"e4117a28-7dda-4750-a29f-622d2103ff5b\" type=\"checkbox\" ><label class=\"sk-toggleable__label\" for=\"e4117a28-7dda-4750-a29f-622d2103ff5b\">numerical</label><div class=\"sk-toggleable__content\"><pre>Index(['RevolvingUtilizationOfUnsecuredLines', 'DebtRatio', 'MonthlyIncome',\n",
       "       'NumberOfDependents', 'NumberOfTime60-89DaysPastDueNotWorse',\n",
       "       'NumberRealEstateLoansOrLines', 'NumberOfTimes90DaysLate',\n",
       "       'NumberOfOpenCreditLinesAndLoans',\n",
       "       'NumberOfTime30-59DaysPastDueNotWorse', 'age', 'Weighted_Sum_PastDue',\n",
       "       '90days_out_of_TotalPastDue', 'RemainingLines', 'Loans_vs_Other_Lines',\n",
       "       'Debt_per_Real_Estate_Loan', 'Disposable_Income_per_person',\n",
       "       'RemainingLines_per_person', 'NumberRE_X_DebtRatio_X_age',\n",
       "       'RevolvingUtilization_per_age'],\n",
       "      dtype='object')</pre></div></div></div><div class=\"sk-serial\"><div class=\"sk-item\"><div class=\"sk-serial\"><div class=\"sk-item\"><div class=\"sk-estimator sk-toggleable\"><input class=\"sk-toggleable__control sk-hidden--visually\" id=\"378af177-53ae-4fc7-9786-e29398ce7e49\" type=\"checkbox\" ><label class=\"sk-toggleable__label\" for=\"378af177-53ae-4fc7-9786-e29398ce7e49\">SimpleImputer</label><div class=\"sk-toggleable__content\"><pre>SimpleImputer(add_indicator=True, strategy='median')</pre></div></div></div><div class=\"sk-item\"><div class=\"sk-estimator sk-toggleable\"><input class=\"sk-toggleable__control sk-hidden--visually\" id=\"27f235b9-45d5-4657-824d-c6c76de7b5d3\" type=\"checkbox\" ><label class=\"sk-toggleable__label\" for=\"27f235b9-45d5-4657-824d-c6c76de7b5d3\">QuantileTransformer</label><div class=\"sk-toggleable__content\"><pre>QuantileTransformer()</pre></div></div></div><div class=\"sk-item\"><div class=\"sk-estimator sk-toggleable\"><input class=\"sk-toggleable__control sk-hidden--visually\" id=\"c4fe65ba-7f41-4941-a761-b9627f7dfddb\" type=\"checkbox\" ><label class=\"sk-toggleable__label\" for=\"c4fe65ba-7f41-4941-a761-b9627f7dfddb\">SelectPercentile</label><div class=\"sk-toggleable__content\"><pre>SelectPercentile(percentile=90)</pre></div></div></div></div></div></div></div></div><div class=\"sk-parallel-item\"><div class=\"sk-item\"><div class=\"sk-label-container\"><div class=\"sk-label sk-toggleable\"><input class=\"sk-toggleable__control sk-hidden--visually\" id=\"9b209009-12ff-4b05-a582-16b477269853\" type=\"checkbox\" ><label class=\"sk-toggleable__label\" for=\"9b209009-12ff-4b05-a582-16b477269853\">categorical</label><div class=\"sk-toggleable__content\"><pre>Index(['cat_RevolvingUtilizationOfUnsecuredLines', 'cat_DebtRatio',\n",
       "       'cat_MonthlyIncome', 'cat_NumberOfDependents',\n",
       "       'cat_NumberOfTime60-89DaysPastDueNotWorse',\n",
       "       'cat_NumberRealEstateLoansOrLines', 'cat_NumberOfTimes90DaysLate',\n",
       "       'cat_NumberOfOpenCreditLinesAndLoans',\n",
       "       'cat_NumberOfTime30-59DaysPastDueNotWorse', 'cat_age'],\n",
       "      dtype='object')</pre></div></div></div><div class=\"sk-serial\"><div class=\"sk-item\"><div class=\"sk-serial\"><div class=\"sk-item\"><div class=\"sk-estimator sk-toggleable\"><input class=\"sk-toggleable__control sk-hidden--visually\" id=\"c4104c7c-9ce9-485d-a5b9-ea654e0ed285\" type=\"checkbox\" ><label class=\"sk-toggleable__label\" for=\"c4104c7c-9ce9-485d-a5b9-ea654e0ed285\">SimpleImputer</label><div class=\"sk-toggleable__content\"><pre>SimpleImputer(add_indicator=True, fill_value='missing',\n",
       "              strategy='most_frequent')</pre></div></div></div><div class=\"sk-item\"><div class=\"sk-estimator sk-toggleable\"><input class=\"sk-toggleable__control sk-hidden--visually\" id=\"6e5b868c-c269-4170-bff6-35903527c562\" type=\"checkbox\" ><label class=\"sk-toggleable__label\" for=\"6e5b868c-c269-4170-bff6-35903527c562\">CatBoostEncoder</label><div class=\"sk-toggleable__content\"><pre>CatBoostEncoder()</pre></div></div></div><div class=\"sk-item\"><div class=\"sk-estimator sk-toggleable\"><input class=\"sk-toggleable__control sk-hidden--visually\" id=\"514124ae-2301-4231-8161-6f337fecb3da\" type=\"checkbox\" ><label class=\"sk-toggleable__label\" for=\"514124ae-2301-4231-8161-6f337fecb3da\">SelectPercentile</label><div class=\"sk-toggleable__content\"><pre>SelectPercentile(percentile=90,\n",
       "                 score_func=<function mutual_info_classif at 0x7f91bccf5950>)</pre></div></div></div></div></div></div></div></div></div></div><div class=\"sk-item\"><div class=\"sk-estimator sk-toggleable\"><input class=\"sk-toggleable__control sk-hidden--visually\" id=\"c054b20e-c2e2-42a6-8bca-67a4461d1c96\" type=\"checkbox\" ><label class=\"sk-toggleable__label\" for=\"c054b20e-c2e2-42a6-8bca-67a4461d1c96\">LGBMClassifier</label><div class=\"sk-toggleable__content\"><pre>LGBMClassifier(device_type='gpu', learning_rate=0.0018069834369607075,\n",
       "               max_depth=8, metric='auc', min_samples_leaf=47,\n",
       "               n_estimators=5000, random_state=42, subsample=0.8573598985000007,\n",
       "               verbose=-1)</pre></div></div></div></div></div></div></div>"
      ],
      "text/plain": [
       "Pipeline(steps=[('preprocessor',\n",
       "                 ColumnTransformer(transformers=[('numerical',\n",
       "                                                  Pipeline(steps=[('imputer',\n",
       "                                                                   SimpleImputer(add_indicator=True,\n",
       "                                                                                 strategy='median')),\n",
       "                                                                  ('scaler',\n",
       "                                                                   QuantileTransformer()),\n",
       "                                                                  ('reducedim',\n",
       "                                                                   SelectPercentile(percentile=90))]),\n",
       "                                                  Index(['RevolvingUtilizationOfUnsecuredLines', 'DebtRatio', 'MonthlyIncome',\n",
       "       'NumberOfDependents', 'NumberOfTime60-8...\n",
       "       'cat_NumberRealEstateLoansOrLines', 'cat_NumberOfTimes90DaysLate',\n",
       "       'cat_NumberOfOpenCreditLinesAndLoans',\n",
       "       'cat_NumberOfTime30-59DaysPastDueNotWorse', 'cat_age'],\n",
       "      dtype='object'))])),\n",
       "                ('classifier',\n",
       "                 LGBMClassifier(device_type='gpu',\n",
       "                                learning_rate=0.0018069834369607075,\n",
       "                                max_depth=8, metric='auc', min_samples_leaf=47,\n",
       "                                n_estimators=5000, random_state=42,\n",
       "                                subsample=0.8573598985000007, verbose=-1))])"
      ]
     },
     "execution_count": 42,
     "metadata": {},
     "output_type": "execute_result"
    }
   ],
   "source": [
    "preprocessor_catboost_qauntile_new = ColumnTransformer(\n",
    "            transformers=[\n",
    "                ('numerical', numeric_transformer_quantile, num_columns_new),\n",
    "                ('categorical', categorical_transformer_catboost, cat_columns_new)\n",
    "            ]\n",
    "            )\n",
    "\n",
    "pipe_lgbm_catboost_qauntile_new = Pipeline(\n",
    "    steps=[\n",
    "        ('preprocessor', preprocessor_catboost_qauntile_new),\n",
    "        ('classifier', lgbm.LGBMClassifier( \n",
    "            #n_jobs=-1,\n",
    "                                           verbose=-1,\n",
    "                                           **lgbm_param))\n",
    "    ]\n",
    ")\n",
    "pipe_lgbm_catboost_qauntile_new"
   ]
  },
  {
   "cell_type": "markdown",
   "id": "7b145cb0",
   "metadata": {
    "papermill": {
     "duration": 0.060235,
     "end_time": "2021-12-23T18:03:00.532181",
     "exception": false,
     "start_time": "2021-12-23T18:03:00.471946",
     "status": "completed"
    },
    "tags": []
   },
   "source": [
    "## drop missing:cat +qauntile +new feature"
   ]
  },
  {
   "cell_type": "code",
   "execution_count": 43,
   "id": "a3fd7343",
   "metadata": {
    "execution": {
     "iopub.execute_input": "2021-12-23T18:03:00.686184Z",
     "iopub.status.busy": "2021-12-23T18:03:00.683801Z",
     "iopub.status.idle": "2021-12-23T18:03:01.365861Z",
     "shell.execute_reply": "2021-12-23T18:03:01.366272Z"
    },
    "papermill": {
     "duration": 0.774923,
     "end_time": "2021-12-23T18:03:01.366430",
     "exception": false,
     "start_time": "2021-12-23T18:03:00.591507",
     "status": "completed"
    },
    "tags": []
   },
   "outputs": [
    {
     "data": {
      "text/html": [
       "<style>div.sk-top-container {color: black;background-color: white;}div.sk-toggleable {background-color: white;}label.sk-toggleable__label {cursor: pointer;display: block;width: 100%;margin-bottom: 0;padding: 0.2em 0.3em;box-sizing: border-box;text-align: center;}div.sk-toggleable__content {max-height: 0;max-width: 0;overflow: hidden;text-align: left;background-color: #f0f8ff;}div.sk-toggleable__content pre {margin: 0.2em;color: black;border-radius: 0.25em;background-color: #f0f8ff;}input.sk-toggleable__control:checked~div.sk-toggleable__content {max-height: 200px;max-width: 100%;overflow: auto;}div.sk-estimator input.sk-toggleable__control:checked~label.sk-toggleable__label {background-color: #d4ebff;}div.sk-label input.sk-toggleable__control:checked~label.sk-toggleable__label {background-color: #d4ebff;}input.sk-hidden--visually {border: 0;clip: rect(1px 1px 1px 1px);clip: rect(1px, 1px, 1px, 1px);height: 1px;margin: -1px;overflow: hidden;padding: 0;position: absolute;width: 1px;}div.sk-estimator {font-family: monospace;background-color: #f0f8ff;margin: 0.25em 0.25em;border: 1px dotted black;border-radius: 0.25em;box-sizing: border-box;}div.sk-estimator:hover {background-color: #d4ebff;}div.sk-parallel-item::after {content: \"\";width: 100%;border-bottom: 1px solid gray;flex-grow: 1;}div.sk-label:hover label.sk-toggleable__label {background-color: #d4ebff;}div.sk-serial::before {content: \"\";position: absolute;border-left: 1px solid gray;box-sizing: border-box;top: 2em;bottom: 0;left: 50%;}div.sk-serial {display: flex;flex-direction: column;align-items: center;background-color: white;}div.sk-item {z-index: 1;}div.sk-parallel {display: flex;align-items: stretch;justify-content: center;background-color: white;}div.sk-parallel-item {display: flex;flex-direction: column;position: relative;background-color: white;}div.sk-parallel-item:first-child::after {align-self: flex-end;width: 50%;}div.sk-parallel-item:last-child::after {align-self: flex-start;width: 50%;}div.sk-parallel-item:only-child::after {width: 0;}div.sk-dashed-wrapped {border: 1px dashed gray;margin: 0.2em;box-sizing: border-box;padding-bottom: 0.1em;background-color: white;position: relative;}div.sk-label label {font-family: monospace;font-weight: bold;background-color: white;display: inline-block;line-height: 1.2em;}div.sk-label-container {position: relative;z-index: 2;text-align: center;}div.sk-container {display: inline-block;position: relative;}</style><div class=\"sk-top-container\"><div class=\"sk-container\"><div class=\"sk-item sk-dashed-wrapped\"><div class=\"sk-label-container\"><div class=\"sk-label sk-toggleable\"><input class=\"sk-toggleable__control sk-hidden--visually\" id=\"f1504377-8c64-4c8a-9b2c-d3abbfe64e38\" type=\"checkbox\" ><label class=\"sk-toggleable__label\" for=\"f1504377-8c64-4c8a-9b2c-d3abbfe64e38\">Pipeline</label><div class=\"sk-toggleable__content\"><pre>Pipeline(steps=[('preprocessor',\n",
       "                 ColumnTransformer(transformers=[('numerical',\n",
       "                                                  Pipeline(steps=[('imputer',\n",
       "                                                                   SimpleImputer(add_indicator=True,\n",
       "                                                                                 strategy='median')),\n",
       "                                                                  ('scaler',\n",
       "                                                                   QuantileTransformer()),\n",
       "                                                                  ('reducedim',\n",
       "                                                                   SelectPercentile(percentile=90))]),\n",
       "                                                  Index(['RevolvingUtilizationOfUnsecuredLines', 'DebtRatio',\n",
       "       'NumberOfTime60-89DaysPastDueNotWorse', 'NumberRealEsta...\n",
       "       'cat_NumberRealEstateLoansOrLines', 'cat_NumberOfTimes90DaysLate',\n",
       "       'cat_NumberOfOpenCreditLinesAndLoans',\n",
       "       'cat_NumberOfTime30-59DaysPastDueNotWorse', 'cat_age'],\n",
       "      dtype='object'))])),\n",
       "                ('classifier',\n",
       "                 LGBMClassifier(device_type='gpu',\n",
       "                                learning_rate=0.0018069834369607075,\n",
       "                                max_depth=8, metric='auc', min_samples_leaf=47,\n",
       "                                n_estimators=5000, random_state=42,\n",
       "                                subsample=0.8573598985000007, verbose=-1))])</pre></div></div></div><div class=\"sk-serial\"><div class=\"sk-item sk-dashed-wrapped\"><div class=\"sk-label-container\"><div class=\"sk-label sk-toggleable\"><input class=\"sk-toggleable__control sk-hidden--visually\" id=\"3fb6df68-7726-4b53-9323-27a278d75788\" type=\"checkbox\" ><label class=\"sk-toggleable__label\" for=\"3fb6df68-7726-4b53-9323-27a278d75788\">preprocessor: ColumnTransformer</label><div class=\"sk-toggleable__content\"><pre>ColumnTransformer(transformers=[('numerical',\n",
       "                                 Pipeline(steps=[('imputer',\n",
       "                                                  SimpleImputer(add_indicator=True,\n",
       "                                                                strategy='median')),\n",
       "                                                 ('scaler',\n",
       "                                                  QuantileTransformer()),\n",
       "                                                 ('reducedim',\n",
       "                                                  SelectPercentile(percentile=90))]),\n",
       "                                 Index(['RevolvingUtilizationOfUnsecuredLines', 'DebtRatio',\n",
       "       'NumberOfTime60-89DaysPastDueNotWorse', 'NumberRealEstateLoansOrLines',\n",
       "       'NumberOfTimes90...\n",
       "                                                                   score_func=<function mutual_info_classif at 0x7f91bccf5950>))]),\n",
       "                                 Index(['cat_RevolvingUtilizationOfUnsecuredLines', 'cat_DebtRatio',\n",
       "       'cat_MonthlyIncome', 'cat_NumberOfDependents',\n",
       "       'cat_NumberOfTime60-89DaysPastDueNotWorse',\n",
       "       'cat_NumberRealEstateLoansOrLines', 'cat_NumberOfTimes90DaysLate',\n",
       "       'cat_NumberOfOpenCreditLinesAndLoans',\n",
       "       'cat_NumberOfTime30-59DaysPastDueNotWorse', 'cat_age'],\n",
       "      dtype='object'))])</pre></div></div></div><div class=\"sk-parallel\"><div class=\"sk-parallel-item\"><div class=\"sk-item\"><div class=\"sk-label-container\"><div class=\"sk-label sk-toggleable\"><input class=\"sk-toggleable__control sk-hidden--visually\" id=\"c9eea985-2f97-4cf8-bad1-26470340a844\" type=\"checkbox\" ><label class=\"sk-toggleable__label\" for=\"c9eea985-2f97-4cf8-bad1-26470340a844\">numerical</label><div class=\"sk-toggleable__content\"><pre>Index(['RevolvingUtilizationOfUnsecuredLines', 'DebtRatio',\n",
       "       'NumberOfTime60-89DaysPastDueNotWorse', 'NumberRealEstateLoansOrLines',\n",
       "       'NumberOfTimes90DaysLate', 'NumberOfOpenCreditLinesAndLoans',\n",
       "       'NumberOfTime30-59DaysPastDueNotWorse', 'age', 'Weighted_Sum_PastDue',\n",
       "       '90days_out_of_TotalPastDue', 'RemainingLines', 'Loans_vs_Other_Lines',\n",
       "       'Debt_per_Real_Estate_Loan', 'Disposable_Income_per_person',\n",
       "       'RemainingLines_per_person', 'NumberRE_X_DebtRatio_X_age',\n",
       "       'RevolvingUtilization_per_age'],\n",
       "      dtype='object')</pre></div></div></div><div class=\"sk-serial\"><div class=\"sk-item\"><div class=\"sk-serial\"><div class=\"sk-item\"><div class=\"sk-estimator sk-toggleable\"><input class=\"sk-toggleable__control sk-hidden--visually\" id=\"fc22f6d5-adef-4d41-8126-cb0f5b266d8b\" type=\"checkbox\" ><label class=\"sk-toggleable__label\" for=\"fc22f6d5-adef-4d41-8126-cb0f5b266d8b\">SimpleImputer</label><div class=\"sk-toggleable__content\"><pre>SimpleImputer(add_indicator=True, strategy='median')</pre></div></div></div><div class=\"sk-item\"><div class=\"sk-estimator sk-toggleable\"><input class=\"sk-toggleable__control sk-hidden--visually\" id=\"41ee43e0-3ecf-4afc-b1b7-42672eb5d91f\" type=\"checkbox\" ><label class=\"sk-toggleable__label\" for=\"41ee43e0-3ecf-4afc-b1b7-42672eb5d91f\">QuantileTransformer</label><div class=\"sk-toggleable__content\"><pre>QuantileTransformer()</pre></div></div></div><div class=\"sk-item\"><div class=\"sk-estimator sk-toggleable\"><input class=\"sk-toggleable__control sk-hidden--visually\" id=\"d8a383e7-a14a-4625-8ad9-fb150cbe8a66\" type=\"checkbox\" ><label class=\"sk-toggleable__label\" for=\"d8a383e7-a14a-4625-8ad9-fb150cbe8a66\">SelectPercentile</label><div class=\"sk-toggleable__content\"><pre>SelectPercentile(percentile=90)</pre></div></div></div></div></div></div></div></div><div class=\"sk-parallel-item\"><div class=\"sk-item\"><div class=\"sk-label-container\"><div class=\"sk-label sk-toggleable\"><input class=\"sk-toggleable__control sk-hidden--visually\" id=\"328a362f-1959-49f4-a623-d5bf4c6e06ce\" type=\"checkbox\" ><label class=\"sk-toggleable__label\" for=\"328a362f-1959-49f4-a623-d5bf4c6e06ce\">categorical</label><div class=\"sk-toggleable__content\"><pre>Index(['cat_RevolvingUtilizationOfUnsecuredLines', 'cat_DebtRatio',\n",
       "       'cat_MonthlyIncome', 'cat_NumberOfDependents',\n",
       "       'cat_NumberOfTime60-89DaysPastDueNotWorse',\n",
       "       'cat_NumberRealEstateLoansOrLines', 'cat_NumberOfTimes90DaysLate',\n",
       "       'cat_NumberOfOpenCreditLinesAndLoans',\n",
       "       'cat_NumberOfTime30-59DaysPastDueNotWorse', 'cat_age'],\n",
       "      dtype='object')</pre></div></div></div><div class=\"sk-serial\"><div class=\"sk-item\"><div class=\"sk-serial\"><div class=\"sk-item\"><div class=\"sk-estimator sk-toggleable\"><input class=\"sk-toggleable__control sk-hidden--visually\" id=\"f73f84e9-0a6f-4003-a6e1-09b2dd705724\" type=\"checkbox\" ><label class=\"sk-toggleable__label\" for=\"f73f84e9-0a6f-4003-a6e1-09b2dd705724\">SimpleImputer</label><div class=\"sk-toggleable__content\"><pre>SimpleImputer(add_indicator=True, fill_value='missing',\n",
       "              strategy='most_frequent')</pre></div></div></div><div class=\"sk-item\"><div class=\"sk-estimator sk-toggleable\"><input class=\"sk-toggleable__control sk-hidden--visually\" id=\"925a0b13-4dff-4f34-8f35-bc2a96be39da\" type=\"checkbox\" ><label class=\"sk-toggleable__label\" for=\"925a0b13-4dff-4f34-8f35-bc2a96be39da\">CatBoostEncoder</label><div class=\"sk-toggleable__content\"><pre>CatBoostEncoder()</pre></div></div></div><div class=\"sk-item\"><div class=\"sk-estimator sk-toggleable\"><input class=\"sk-toggleable__control sk-hidden--visually\" id=\"4da54c7f-f041-4d1a-9e29-fd937b806f1a\" type=\"checkbox\" ><label class=\"sk-toggleable__label\" for=\"4da54c7f-f041-4d1a-9e29-fd937b806f1a\">SelectPercentile</label><div class=\"sk-toggleable__content\"><pre>SelectPercentile(percentile=90,\n",
       "                 score_func=<function mutual_info_classif at 0x7f91bccf5950>)</pre></div></div></div></div></div></div></div></div></div></div><div class=\"sk-item\"><div class=\"sk-estimator sk-toggleable\"><input class=\"sk-toggleable__control sk-hidden--visually\" id=\"2ee6180b-090b-47b7-ba88-15c0c99966d3\" type=\"checkbox\" ><label class=\"sk-toggleable__label\" for=\"2ee6180b-090b-47b7-ba88-15c0c99966d3\">LGBMClassifier</label><div class=\"sk-toggleable__content\"><pre>LGBMClassifier(device_type='gpu', learning_rate=0.0018069834369607075,\n",
       "               max_depth=8, metric='auc', min_samples_leaf=47,\n",
       "               n_estimators=5000, random_state=42, subsample=0.8573598985000007,\n",
       "               verbose=-1)</pre></div></div></div></div></div></div></div>"
      ],
      "text/plain": [
       "Pipeline(steps=[('preprocessor',\n",
       "                 ColumnTransformer(transformers=[('numerical',\n",
       "                                                  Pipeline(steps=[('imputer',\n",
       "                                                                   SimpleImputer(add_indicator=True,\n",
       "                                                                                 strategy='median')),\n",
       "                                                                  ('scaler',\n",
       "                                                                   QuantileTransformer()),\n",
       "                                                                  ('reducedim',\n",
       "                                                                   SelectPercentile(percentile=90))]),\n",
       "                                                  Index(['RevolvingUtilizationOfUnsecuredLines', 'DebtRatio',\n",
       "       'NumberOfTime60-89DaysPastDueNotWorse', 'NumberRealEsta...\n",
       "       'cat_NumberRealEstateLoansOrLines', 'cat_NumberOfTimes90DaysLate',\n",
       "       'cat_NumberOfOpenCreditLinesAndLoans',\n",
       "       'cat_NumberOfTime30-59DaysPastDueNotWorse', 'cat_age'],\n",
       "      dtype='object'))])),\n",
       "                ('classifier',\n",
       "                 LGBMClassifier(device_type='gpu',\n",
       "                                learning_rate=0.0018069834369607075,\n",
       "                                max_depth=8, metric='auc', min_samples_leaf=47,\n",
       "                                n_estimators=5000, random_state=42,\n",
       "                                subsample=0.8573598985000007, verbose=-1))])"
      ]
     },
     "execution_count": 43,
     "metadata": {},
     "output_type": "execute_result"
    }
   ],
   "source": [
    "preprocessor_catboost_qauntile_new_without_missing = ColumnTransformer(\n",
    "            transformers=[\n",
    "                ('numerical', numeric_transformer_quantile, num_columns_new_without_missing),\n",
    "                ('categorical', categorical_transformer_catboost, cat_columns_new_without_missing)\n",
    "            ]\n",
    "            )\n",
    "\n",
    "pipe_lgbm_catboost_qauntile_new_without_missing = Pipeline(\n",
    "    steps=[\n",
    "        ('preprocessor', preprocessor_catboost_qauntile_new_without_missing),\n",
    "        ('classifier', lgbm.LGBMClassifier( \n",
    "            #n_jobs=-1,\n",
    "                                           verbose=-1,\n",
    "                                           **lgbm_param))\n",
    "    ]\n",
    ")\n",
    "pipe_lgbm_catboost_qauntile_new_without_missing"
   ]
  },
  {
   "cell_type": "code",
   "execution_count": 44,
   "id": "1e36e189",
   "metadata": {
    "execution": {
     "iopub.execute_input": "2021-12-23T18:03:01.493769Z",
     "iopub.status.busy": "2021-12-23T18:03:01.493027Z",
     "iopub.status.idle": "2021-12-23T18:03:01.495535Z",
     "shell.execute_reply": "2021-12-23T18:03:01.495939Z"
    },
    "papermill": {
     "duration": 0.068973,
     "end_time": "2021-12-23T18:03:01.496064",
     "exception": false,
     "start_time": "2021-12-23T18:03:01.427091",
     "status": "completed"
    },
    "tags": []
   },
   "outputs": [],
   "source": [
    "def plot_roc(y,y_pred):\n",
    "    from sklearn.metrics import auc\n",
    "    fpr, tpr, thresholds = roc_curve(y_true=y, y_score=y_pred)\n",
    "    auc = auc(fpr, tpr)\n",
    "    plt.figure(1)\n",
    "    plt.plot([0, 1], [0, 1], 'k--')\n",
    "    plt.plot(fpr, tpr, label='Model(area = {:.3f})'.format(auc))\n",
    "    plt.xlabel('False positive rate')\n",
    "    plt.ylabel('True positive rate')\n",
    "    plt.title('ROC curve')\n",
    "    plt.legend(loc='best')\n",
    "    plt.show()"
   ]
  },
  {
   "cell_type": "markdown",
   "id": "f7b21cb3",
   "metadata": {
    "papermill": {
     "duration": 0.059962,
     "end_time": "2021-12-23T18:03:01.615880",
     "exception": false,
     "start_time": "2021-12-23T18:03:01.555918",
     "status": "completed"
    },
    "tags": []
   },
   "source": [
    "# Test Pipes with CV "
   ]
  },
  {
   "cell_type": "code",
   "execution_count": 45,
   "id": "f95fbc9a",
   "metadata": {
    "execution": {
     "iopub.execute_input": "2021-12-23T18:03:01.745546Z",
     "iopub.status.busy": "2021-12-23T18:03:01.743897Z",
     "iopub.status.idle": "2021-12-23T18:03:01.746113Z",
     "shell.execute_reply": "2021-12-23T18:03:01.746539Z"
    },
    "papermill": {
     "duration": 0.070031,
     "end_time": "2021-12-23T18:03:01.746672",
     "exception": false,
     "start_time": "2021-12-23T18:03:01.676641",
     "status": "completed"
    },
    "tags": []
   },
   "outputs": [],
   "source": [
    "def plot_roc(y,y_pred):\n",
    "    from sklearn.metrics import auc\n",
    "    fpr, tpr, thresholds = roc_curve(y_true=y, y_score=y_pred)\n",
    "    auc = auc(fpr, tpr)\n",
    "    plt.figure(1)\n",
    "    plt.plot([0, 1], [0, 1], 'k--')\n",
    "    plt.plot(fpr, tpr, label='Model(area = {:.3f})'.format(auc))\n",
    "    plt.xlabel('False positive rate')\n",
    "    plt.ylabel('True positive rate')\n",
    "    plt.title('ROC curve')\n",
    "    plt.legend(loc='best')\n",
    "    plt.show()"
   ]
  },
  {
   "cell_type": "code",
   "execution_count": 46,
   "id": "d89a53bb",
   "metadata": {
    "execution": {
     "iopub.execute_input": "2021-12-23T18:03:01.878125Z",
     "iopub.status.busy": "2021-12-23T18:03:01.877257Z",
     "iopub.status.idle": "2021-12-23T18:19:38.598520Z",
     "shell.execute_reply": "2021-12-23T18:19:38.599085Z"
    },
    "papermill": {
     "duration": 996.792148,
     "end_time": "2021-12-23T18:19:38.599272",
     "exception": false,
     "start_time": "2021-12-23T18:03:01.807124",
     "status": "completed"
    },
    "tags": []
   },
   "outputs": [
    {
     "name": "stdout",
     "output_type": "stream",
     "text": [
      "[LightGBM] [Warning] min_data_in_leaf is set with min_child_samples=20, will be overridden by min_samples_leaf=47. Current value: min_data_in_leaf=47\n",
      "Fold 0 | AUC: 0.8663772204142022\n",
      "Fold 0 | AP: 0.40601316381648944\n"
     ]
    },
    {
     "data": {
      "image/png": "[encoded data removed]",
      "text/plain": [
       "<Figure size 432x288 with 1 Axes>"
      ]
     },
     "metadata": {
      "needs_background": "light"
     },
     "output_type": "display_data"
    },
    {
     "name": "stdout",
     "output_type": "stream",
     "text": [
      "[LightGBM] [Warning] min_data_in_leaf is set with min_child_samples=20, will be overridden by min_samples_leaf=47. Current value: min_data_in_leaf=47\n",
      "Fold 1 | AUC: 0.8625786212128776\n",
      "Fold 1 | AP: 0.3828626723573538\n"
     ]
    },
    {
     "data": {
      "image/png": "[encoded data removed]",
      "text/plain": [
       "<Figure size 432x288 with 1 Axes>"
      ]
     },
     "metadata": {
      "needs_background": "light"
     },
     "output_type": "display_data"
    },
    {
     "name": "stdout",
     "output_type": "stream",
     "text": [
      "[LightGBM] [Warning] min_data_in_leaf is set with min_child_samples=20, will be overridden by min_samples_leaf=47. Current value: min_data_in_leaf=47\n",
      "Fold 2 | AUC: 0.8672325525388542\n",
      "Fold 2 | AP: 0.39954612328775224\n"
     ]
    },
    {
     "data": {
      "image/png": "[encoded data removed]",
      "text/plain": [
       "<Figure size 432x288 with 1 Axes>"
      ]
     },
     "metadata": {
      "needs_background": "light"
     },
     "output_type": "display_data"
    },
    {
     "name": "stdout",
     "output_type": "stream",
     "text": [
      "[LightGBM] [Warning] min_data_in_leaf is set with min_child_samples=20, will be overridden by min_samples_leaf=47. Current value: min_data_in_leaf=47\n",
      "Fold 3 | AUC: 0.8647082614412959\n",
      "Fold 3 | AP: 0.3950370704196987\n"
     ]
    },
    {
     "data": {
      "image/png": "[encoded data removed]",
      "text/plain": [
       "<Figure size 432x288 with 1 Axes>"
      ]
     },
     "metadata": {
      "needs_background": "light"
     },
     "output_type": "display_data"
    },
    {
     "name": "stdout",
     "output_type": "stream",
     "text": [
      "[LightGBM] [Warning] min_data_in_leaf is set with min_child_samples=20, will be overridden by min_samples_leaf=47. Current value: min_data_in_leaf=47\n",
      "Fold 4 | AUC: 0.866986238540932\n",
      "Fold 4 | AP: 0.4085608387873734\n"
     ]
    },
    {
     "data": {
      "image/png": "[encoded data removed]",
      "text/plain": [
       "<Figure size 432x288 with 1 Axes>"
      ]
     },
     "metadata": {
      "needs_background": "light"
     },
     "output_type": "display_data"
    },
    {
     "name": "stdout",
     "output_type": "stream",
     "text": [
      "[LightGBM] [Warning] min_data_in_leaf is set with min_child_samples=20, will be overridden by min_samples_leaf=47. Current value: min_data_in_leaf=47\n",
      "Fold 5 | AUC: 0.8732856584921238\n",
      "Fold 5 | AP: 0.43635267767531744\n"
     ]
    },
    {
     "data": {
      "image/png": "[encoded data removed]",
      "text/plain": [
       "<Figure size 432x288 with 1 Axes>"
      ]
     },
     "metadata": {
      "needs_background": "light"
     },
     "output_type": "display_data"
    },
    {
     "name": "stdout",
     "output_type": "stream",
     "text": [
      "[LightGBM] [Warning] min_data_in_leaf is set with min_child_samples=20, will be overridden by min_samples_leaf=47. Current value: min_data_in_leaf=47\n",
      "Fold 6 | AUC: 0.8596104333695803\n",
      "Fold 6 | AP: 0.37234727686531016\n"
     ]
    },
    {
     "data": {
      "image/png": "[encoded data removed]",
      "text/plain": [
       "<Figure size 432x288 with 1 Axes>"
      ]
     },
     "metadata": {
      "needs_background": "light"
     },
     "output_type": "display_data"
    },
    {
     "name": "stdout",
     "output_type": "stream",
     "text": [
      "[LightGBM] [Warning] min_data_in_leaf is set with min_child_samples=20, will be overridden by min_samples_leaf=47. Current value: min_data_in_leaf=47\n",
      "Fold 7 | AUC: 0.8593841392796634\n",
      "Fold 7 | AP: 0.40436674743512213\n"
     ]
    },
    {
     "data": {
      "image/png": "[encoded data removed]",
      "text/plain": [
       "<Figure size 432x288 with 1 Axes>"
      ]
     },
     "metadata": {
      "needs_background": "light"
     },
     "output_type": "display_data"
    },
    {
     "name": "stdout",
     "output_type": "stream",
     "text": [
      "[LightGBM] [Warning] min_data_in_leaf is set with min_child_samples=20, will be overridden by min_samples_leaf=47. Current value: min_data_in_leaf=47\n",
      "Fold 8 | AUC: 0.8738457860675278\n",
      "Fold 8 | AP: 0.43830041864759073\n"
     ]
    },
    {
     "data": {
      "image/png": "[encoded data removed]",
      "text/plain": [
       "<Figure size 432x288 with 1 Axes>"
      ]
     },
     "metadata": {
      "needs_background": "light"
     },
     "output_type": "display_data"
    },
    {
     "name": "stdout",
     "output_type": "stream",
     "text": [
      "[LightGBM] [Warning] min_data_in_leaf is set with min_child_samples=20, will be overridden by min_samples_leaf=47. Current value: min_data_in_leaf=47\n",
      "Fold 9 | AUC: 0.8646682560012138\n",
      "Fold 9 | AP: 0.3782278676616758\n"
     ]
    },
    {
     "data": {
      "image/png": "[encoded data removed]",
      "text/plain": [
       "<Figure size 432x288 with 1 Axes>"
      ]
     },
     "metadata": {
      "needs_background": "light"
     },
     "output_type": "display_data"
    },
    {
     "name": "stdout",
     "output_type": "stream",
     "text": [
      "\n",
      "Overall mean auc : 0.8658677167358272\n",
      "\n",
      "Overall mean mean average : 0.40216148569536836\n",
      "CPU times: user 28min 38s, sys: 27.2 s, total: 29min 6s\n",
      "Wall time: 16min 36s\n"
     ]
    }
   ],
   "source": [
    "%%time \n",
    "# evaluate each strategy on the dataset\n",
    "results = list()\n",
    "# Setting a 10-fold stratified cross-validation (note: shuffle=True)\n",
    "SEED = 42\n",
    "FOLDS = 10\n",
    "skf = StratifiedKFold(n_splits=FOLDS, shuffle=True, random_state=SEED)\n",
    "# CV interations\n",
    "# Create arrays for the features and the response variable\n",
    "roc_auc = list()\n",
    "average_precision = list()\n",
    "#X1=X.iloc[0:2000,:].copy()\n",
    "#y1=y[0:2000].copy()\n",
    "oof = np.empty((X.shape[0],))\n",
    "#oof_bin = np.empty((X.shape[0],))\n",
    "predictions=[]\n",
    "mean_auc = 0\n",
    "mean_ap=0\n",
    "best_iteration = list()\n",
    "for fold, (train_idx, test_idx) in enumerate(skf.split(X, y)):    \n",
    "    X_train, y_train = X_new.iloc[list(train_idx), :], y.iloc[list(train_idx)]\n",
    "    X_test, y_test = X_new.iloc[list(test_idx), :],y.iloc[list(test_idx)]\n",
    "    pipe_lgbm_woe_powertransformer.fit(X_train,y_train)\n",
    "    preds = pipe_lgbm_woe_powertransformer.predict_proba(X_test)[:,1]\n",
    "    oof[test_idx] = preds\n",
    "    auc_score= roc_auc_score(y_true=y_test, y_score=preds)\n",
    "    roc_auc.append(auc_score)\n",
    "    print(f\"Fold {fold} | AUC: {auc_score}\")\n",
    "    ap=average_precision_score(y_true=y_test, y_score=preds)\n",
    "    average_precision.append(ap)\n",
    "    print(f\"Fold {fold} | AP: {ap}\")\n",
    "    plot_roc(y_test,preds)\n",
    "    mean_auc += auc_score / FOLDS\n",
    "    mean_ap+=ap/FOLDS\n",
    "    predictions.append(pipe_lgbm_woe_powertransformer.predict_proba(X_test_final)[:,1]) \n",
    "    #Mean of the predictions\n",
    "print(f\"\\nOverall mean auc : {mean_auc}\")\n",
    "print(f\"\\nOverall mean mean average : {mean_ap}\")"
   ]
  },
  {
   "cell_type": "code",
   "execution_count": 47,
   "id": "42a560b2",
   "metadata": {
    "execution": {
     "iopub.execute_input": "2021-12-23T18:19:38.751172Z",
     "iopub.status.busy": "2021-12-23T18:19:38.750210Z",
     "iopub.status.idle": "2021-12-23T18:19:38.752571Z",
     "shell.execute_reply": "2021-12-23T18:19:38.752037Z"
    },
    "papermill": {
     "duration": 0.079808,
     "end_time": "2021-12-23T18:19:38.752682",
     "exception": false,
     "start_time": "2021-12-23T18:19:38.672874",
     "status": "completed"
    },
    "tags": []
   },
   "outputs": [],
   "source": [
    "#pipe_lgbm_woe_powertransformer.fit(X,y)\n",
    "#predictions =pipe_lgbm_woe_powertransformer.predict_proba(X_test_final)[:,1]"
   ]
  },
  {
   "cell_type": "code",
   "execution_count": 48,
   "id": "e270b3aa",
   "metadata": {
    "execution": {
     "iopub.execute_input": "2021-12-23T18:19:38.907962Z",
     "iopub.status.busy": "2021-12-23T18:19:38.906935Z",
     "iopub.status.idle": "2021-12-23T18:19:38.914507Z",
     "shell.execute_reply": "2021-12-23T18:19:38.914068Z"
    },
    "papermill": {
     "duration": 0.088274,
     "end_time": "2021-12-23T18:19:38.914626",
     "exception": false,
     "start_time": "2021-12-23T18:19:38.826352",
     "status": "completed"
    },
    "tags": []
   },
   "outputs": [],
   "source": [
    "predictions = np.mean(np.column_stack(predictions), axis=1)"
   ]
  },
  {
   "cell_type": "code",
   "execution_count": 49,
   "id": "a0f96ba3",
   "metadata": {
    "execution": {
     "iopub.execute_input": "2021-12-23T18:19:39.068453Z",
     "iopub.status.busy": "2021-12-23T18:19:39.067839Z",
     "iopub.status.idle": "2021-12-23T18:19:39.448077Z",
     "shell.execute_reply": "2021-12-23T18:19:39.447249Z"
    },
    "papermill": {
     "duration": 0.459691,
     "end_time": "2021-12-23T18:19:39.448221",
     "exception": false,
     "start_time": "2021-12-23T18:19:38.988530",
     "status": "completed"
    },
    "tags": []
   },
   "outputs": [
    {
     "data": {
      "text/html": [
       "<div>\n",
       "<style scoped>\n",
       "    .dataframe tbody tr th:only-of-type {\n",
       "        vertical-align: middle;\n",
       "    }\n",
       "\n",
       "    .dataframe tbody tr th {\n",
       "        vertical-align: top;\n",
       "    }\n",
       "\n",
       "    .dataframe thead th {\n",
       "        text-align: right;\n",
       "    }\n",
       "</style>\n",
       "<table border=\"1\" class=\"dataframe\">\n",
       "  <thead>\n",
       "    <tr style=\"text-align: right;\">\n",
       "      <th></th>\n",
       "      <th>Id</th>\n",
       "      <th>Probability</th>\n",
       "    </tr>\n",
       "  </thead>\n",
       "  <tbody>\n",
       "    <tr>\n",
       "      <th>0</th>\n",
       "      <td>1</td>\n",
       "      <td>0.066718</td>\n",
       "    </tr>\n",
       "    <tr>\n",
       "      <th>1</th>\n",
       "      <td>2</td>\n",
       "      <td>0.046862</td>\n",
       "    </tr>\n",
       "    <tr>\n",
       "      <th>2</th>\n",
       "      <td>3</td>\n",
       "      <td>0.012745</td>\n",
       "    </tr>\n",
       "    <tr>\n",
       "      <th>3</th>\n",
       "      <td>4</td>\n",
       "      <td>0.077023</td>\n",
       "    </tr>\n",
       "    <tr>\n",
       "      <th>4</th>\n",
       "      <td>5</td>\n",
       "      <td>0.111543</td>\n",
       "    </tr>\n",
       "    <tr>\n",
       "      <th>...</th>\n",
       "      <td>...</td>\n",
       "      <td>...</td>\n",
       "    </tr>\n",
       "    <tr>\n",
       "      <th>101498</th>\n",
       "      <td>101499</td>\n",
       "      <td>0.033823</td>\n",
       "    </tr>\n",
       "    <tr>\n",
       "      <th>101499</th>\n",
       "      <td>101500</td>\n",
       "      <td>0.411222</td>\n",
       "    </tr>\n",
       "    <tr>\n",
       "      <th>101500</th>\n",
       "      <td>101501</td>\n",
       "      <td>0.004230</td>\n",
       "    </tr>\n",
       "    <tr>\n",
       "      <th>101501</th>\n",
       "      <td>101502</td>\n",
       "      <td>0.064482</td>\n",
       "    </tr>\n",
       "    <tr>\n",
       "      <th>101502</th>\n",
       "      <td>101503</td>\n",
       "      <td>0.036014</td>\n",
       "    </tr>\n",
       "  </tbody>\n",
       "</table>\n",
       "<p>101503 rows × 2 columns</p>\n",
       "</div>"
      ],
      "text/plain": [
       "            Id  Probability\n",
       "0            1     0.066718\n",
       "1            2     0.046862\n",
       "2            3     0.012745\n",
       "3            4     0.077023\n",
       "4            5     0.111543\n",
       "...        ...          ...\n",
       "101498  101499     0.033823\n",
       "101499  101500     0.411222\n",
       "101500  101501     0.004230\n",
       "101501  101502     0.064482\n",
       "101502  101503     0.036014\n",
       "\n",
       "[101503 rows x 2 columns]"
      ]
     },
     "execution_count": 49,
     "metadata": {},
     "output_type": "execute_result"
    }
   ],
   "source": [
    "# Save the predictions to a CSV file\n",
    "sub = pd.read_csv('../input/GiveMeSomeCredit/sampleEntry.csv')\n",
    "sub['Probability']=predictions\n",
    "sub.to_csv('pipe_lgbm_woe_powertransformer_estimator_XGB_CV.csv', index=False)\n",
    "sub"
   ]
  }
 ],
 "metadata": {
  "kernelspec": {
   "display_name": "Python 3",
   "language": "python",
   "name": "python3"
  },
  "language_info": {
   "codemirror_mode": {
    "name": "ipython",
    "version": 3
   },
   "file_extension": ".py",
   "mimetype": "text/x-python",
   "name": "python",
   "nbconvert_exporter": "python",
   "pygments_lexer": "ipython3",
   "version": "3.7.12"
  },
  "papermill": {
   "default_parameters": {},
   "duration": 1320.20213,
   "end_time": "2021-12-23T18:19:41.900974",
   "environment_variables": {},
   "exception": null,
   "input_path": "__notebook__.ipynb",
   "output_path": "__notebook__.ipynb",
   "parameters": {},
   "start_time": "2021-12-23T17:57:41.698844",
   "version": "2.3.3"
  }
 },
 "nbformat": 4,
 "nbformat_minor": 5
}
