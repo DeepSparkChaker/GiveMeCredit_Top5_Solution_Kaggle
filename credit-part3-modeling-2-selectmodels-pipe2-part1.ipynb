{
 "cells": [
  {
   "cell_type": "markdown",
   "id": "b80914e0",
   "metadata": {
    "papermill": {
     "duration": 0.042231,
     "end_time": "2021-12-28T15:12:06.052125",
     "exception": false,
     "start_time": "2021-12-28T15:12:06.009894",
     "status": "completed"
    },
    "tags": []
   },
   "source": [
    "Feature engineering and feature selection is an iterative process that starts with engineering new features, training a model, and then testing the model predictions against the target labels. The goal is to determine which features improve the model’s prediction accuracy. You repeat this process, along with hyperparameter tuning, until you are satisfied with the model’s accuracy. \n",
    "\n",
    "# Load Lib "
   ]
  },
  {
   "cell_type": "code",
   "execution_count": 1,
   "id": "c3c7f02b",
   "metadata": {
    "_cell_guid": "ddedf45c-cdd2-4013-973f-6ccf6c78347a",
    "_uuid": "20c9b28e-4c93-447d-8210-cad89f404354",
    "collapsed": false,
    "execution": {
     "iopub.execute_input": "2021-12-28T15:12:06.139593Z",
     "iopub.status.busy": "2021-12-28T15:12:06.138681Z",
     "iopub.status.idle": "2021-12-28T15:12:09.223525Z",
     "shell.execute_reply": "2021-12-28T15:12:09.224055Z",
     "shell.execute_reply.started": "2021-12-28T14:59:53.656747Z"
    },
    "jupyter": {
     "outputs_hidden": false
    },
    "papermill": {
     "duration": 3.133341,
     "end_time": "2021-12-28T15:12:09.224379",
     "exception": false,
     "start_time": "2021-12-28T15:12:06.091038",
     "status": "completed"
    },
    "tags": []
   },
   "outputs": [
    {
     "data": {
      "text/html": [
       "<style type='text/css'>\n",
       ".datatable table.frame { margin-bottom: 0; }\n",
       ".datatable table.frame thead { border-bottom: none; }\n",
       ".datatable table.frame tr.coltypes td {  color: #FFFFFF;  line-height: 6px;  padding: 0 0.5em;}\n",
       ".datatable .bool    { background: #DDDD99; }\n",
       ".datatable .object  { background: #565656; }\n",
       ".datatable .int     { background: #5D9E5D; }\n",
       ".datatable .float   { background: #4040CC; }\n",
       ".datatable .str     { background: #CC4040; }\n",
       ".datatable .time    { background: #40CC40; }\n",
       ".datatable .row_index {  background: var(--jp-border-color3);  border-right: 1px solid var(--jp-border-color0);  color: var(--jp-ui-font-color3);  font-size: 9px;}\n",
       ".datatable .frame tbody td { text-align: left; }\n",
       ".datatable .frame tr.coltypes .row_index {  background: var(--jp-border-color0);}\n",
       ".datatable th:nth-child(2) { padding-left: 12px; }\n",
       ".datatable .hellipsis {  color: var(--jp-cell-editor-border-color);}\n",
       ".datatable .vellipsis {  background: var(--jp-layout-color0);  color: var(--jp-cell-editor-border-color);}\n",
       ".datatable .na {  color: var(--jp-cell-editor-border-color);  font-size: 80%;}\n",
       ".datatable .sp {  opacity: 0.25;}\n",
       ".datatable .footer { font-size: 9px; }\n",
       ".datatable .frame_dimensions {  background: var(--jp-border-color3);  border-top: 1px solid var(--jp-border-color0);  color: var(--jp-ui-font-color3);  display: inline-block;  opacity: 0.6;  padding: 1px 10px 1px 5px;}\n",
       ".datatable .frame thead tr.colnames {  background-image: url('data:image/png;base64,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');  background-repeat: repeat-x;  background-size: 14px;  height: 28px;}\n",
       "</style>\n"
      ],
      "text/plain": [
       "<IPython.core.display.HTML object>"
      ]
     },
     "metadata": {},
     "output_type": "display_data"
    }
   ],
   "source": [
    "#Load the librarys\n",
    "import pandas as pd #To work with dataset\n",
    "import numpy as np #Math library\n",
    "import matplotlib.gridspec as gridspec\n",
    "import seaborn as sns #Graph library that use matplot in background\n",
    "import matplotlib.pyplot as plt #to plot some parameters in seaborn\n",
    "import warnings\n",
    "# Preparation  \n",
    "from sklearn.preprocessing import LabelEncoder, OrdinalEncoder\n",
    "from sklearn.preprocessing import OneHotEncoder\n",
    "from sklearn.preprocessing import PowerTransformer, StandardScaler,Normalizer,RobustScaler,MaxAbsScaler,MinMaxScaler,QuantileTransformer\n",
    "from sklearn.preprocessing import FunctionTransformer\n",
    "from sklearn.preprocessing import PolynomialFeatures\n",
    "from sklearn.neighbors import KNeighborsClassifier\n",
    "from sklearn.preprocessing import KBinsDiscretizer\n",
    "# Import StandardScaler from scikit-learn\n",
    "from sklearn.experimental import enable_iterative_imputer\n",
    "from sklearn.impute import SimpleImputer\n",
    "from sklearn.impute import KNNImputer,IterativeImputer\n",
    "from sklearn.feature_extraction.text import CountVectorizer\n",
    "from sklearn.compose import make_column_transformer,ColumnTransformer\n",
    "from sklearn.pipeline import make_pipeline, Pipeline,FeatureUnion\n",
    "from sklearn.manifold import TSNE\n",
    "# Import train_test_split()\n",
    "# Metrics\n",
    "from sklearn.metrics import roc_auc_score, average_precision_score,recall_score\n",
    "from sklearn.metrics import make_scorer,mean_absolute_error\n",
    "from sklearn.metrics import mean_squared_error,classification_report,f1_score\n",
    "from sklearn.metrics import roc_curve,confusion_matrix\n",
    "from datetime import datetime, date\n",
    "from sklearn.linear_model import ElasticNet, Lasso,  BayesianRidge, LassoLarsIC\n",
    "from sklearn.linear_model import LinearRegression, RidgeCV\n",
    "from sklearn.linear_model import LogisticRegression\n",
    "\n",
    "#import tensorflow as tf \n",
    "#from tensorflow.keras import layers\n",
    "#from tensorflow.keras.callbacks import EarlyStopping\n",
    "#from tensorflow.keras.callbacks import LearningRateScheduler\n",
    "#import smogn\n",
    "from sklearn.experimental import enable_hist_gradient_boosting\n",
    "from sklearn.base import BaseEstimator, TransformerMixin, RegressorMixin, clone\n",
    "from sklearn.kernel_ridge import KernelRidge\n",
    "from sklearn.ensemble import GradientBoostingRegressor,RandomForestRegressor\n",
    "from sklearn.ensemble import RandomForestClassifier\n",
    "from sklearn.ensemble import HistGradientBoostingClassifier\n",
    "# For training random forest model\n",
    "import lightgbm as lgb\n",
    "from scipy import sparse\n",
    "from sklearn.neighbors import KNeighborsRegressor \n",
    "from sklearn.decomposition import PCA\n",
    "from sklearn.cluster import KMeans\n",
    "from yellowbrick.cluster import KElbowVisualizer\n",
    "# Model selection\n",
    "from sklearn.model_selection import StratifiedKFold\n",
    "from sklearn.feature_selection import SelectKBest\n",
    "from sklearn.feature_selection import f_regression,f_classif,chi2\n",
    "from sklearn.feature_selection import mutual_info_regression\n",
    "from sklearn.feature_selection import SelectPercentile\n",
    "from sklearn.feature_selection import mutual_info_classif,VarianceThreshold\n",
    "\n",
    "from sklearn.model_selection import train_test_split\n",
    "from sklearn.model_selection import KFold\n",
    "from sklearn.model_selection import GridSearchCV\n",
    "from sklearn.model_selection import cross_val_score\n",
    "from lightgbm import LGBMClassifier\n",
    "import lightgbm as lgbm\n",
    "from catboost import CatBoostRegressor, CatBoostClassifier\n",
    "from sklearn.naive_bayes import GaussianNB\n",
    "from sklearn import svm\n",
    "from xgboost import XGBClassifier,XGBRegressor\n",
    "from sklearn import set_config\n",
    "from itertools import combinations\n",
    "# Cluster :\n",
    "from sklearn.cluster import MiniBatchKMeans\n",
    "#from yellowbrick.cluster import KElbowVisualizer\n",
    "#import smong \n",
    "import category_encoders as ce\n",
    "import warnings\n",
    "#import optuna \n",
    "from joblib import Parallel, delayed\n",
    "import joblib \n",
    "from sklearn import set_config\n",
    "from typing import List, Optional, Union\n",
    "set_config(display='diagram')\n",
    "warnings.filterwarnings('ignore')"
   ]
  },
  {
   "cell_type": "markdown",
   "id": "fd4d09a2",
   "metadata": {
    "_cell_guid": "38c6befb-892d-4ef3-9c63-13be5959b671",
    "_uuid": "2953f9f3-02f8-4fa9-a7fc-cb93565c2183",
    "papermill": {
     "duration": 0.038746,
     "end_time": "2021-12-28T15:12:09.303548",
     "exception": false,
     "start_time": "2021-12-28T15:12:09.264802",
     "status": "completed"
    },
    "tags": []
   },
   "source": [
    "\n",
    "# Load the data"
   ]
  },
  {
   "cell_type": "code",
   "execution_count": 2,
   "id": "1e136735",
   "metadata": {
    "_cell_guid": "98a5b4a6-90e9-449d-96cc-0d85c9ff1c77",
    "_uuid": "e086592f-9f6a-4592-80b5-c1e7ad227e02",
    "collapsed": false,
    "execution": {
     "iopub.execute_input": "2021-12-28T15:12:09.390346Z",
     "iopub.status.busy": "2021-12-28T15:12:09.389726Z",
     "iopub.status.idle": "2021-12-28T15:12:09.845389Z",
     "shell.execute_reply": "2021-12-28T15:12:09.845900Z",
     "shell.execute_reply.started": "2021-12-28T14:59:56.628207Z"
    },
    "jupyter": {
     "outputs_hidden": false
    },
    "papermill": {
     "duration": 0.501189,
     "end_time": "2021-12-28T15:12:09.846067",
     "exception": false,
     "start_time": "2021-12-28T15:12:09.344878",
     "status": "completed"
    },
    "tags": []
   },
   "outputs": [
    {
     "name": "stdout",
     "output_type": "stream",
     "text": [
      "CPU times: user 251 ms, sys: 71.5 ms, total: 323 ms\n",
      "Wall time: 433 ms\n"
     ]
    },
    {
     "data": {
      "text/html": [
       "<div>\n",
       "<style scoped>\n",
       "    .dataframe tbody tr th:only-of-type {\n",
       "        vertical-align: middle;\n",
       "    }\n",
       "\n",
       "    .dataframe tbody tr th {\n",
       "        vertical-align: top;\n",
       "    }\n",
       "\n",
       "    .dataframe thead th {\n",
       "        text-align: right;\n",
       "    }\n",
       "</style>\n",
       "<table border=\"1\" class=\"dataframe\">\n",
       "  <thead>\n",
       "    <tr style=\"text-align: right;\">\n",
       "      <th></th>\n",
       "      <th>Unnamed: 0</th>\n",
       "      <th>SeriousDlqin2yrs</th>\n",
       "      <th>RevolvingUtilizationOfUnsecuredLines</th>\n",
       "      <th>age</th>\n",
       "      <th>NumberOfTime30-59DaysPastDueNotWorse</th>\n",
       "      <th>DebtRatio</th>\n",
       "      <th>MonthlyIncome</th>\n",
       "      <th>NumberOfOpenCreditLinesAndLoans</th>\n",
       "      <th>NumberOfTimes90DaysLate</th>\n",
       "      <th>NumberRealEstateLoansOrLines</th>\n",
       "      <th>NumberOfTime60-89DaysPastDueNotWorse</th>\n",
       "      <th>NumberOfDependents</th>\n",
       "    </tr>\n",
       "  </thead>\n",
       "  <tbody>\n",
       "    <tr>\n",
       "      <th>0</th>\n",
       "      <td>1</td>\n",
       "      <td>1</td>\n",
       "      <td>0.766127</td>\n",
       "      <td>45</td>\n",
       "      <td>2</td>\n",
       "      <td>0.802982</td>\n",
       "      <td>9120.0</td>\n",
       "      <td>13</td>\n",
       "      <td>0</td>\n",
       "      <td>6</td>\n",
       "      <td>0</td>\n",
       "      <td>2.0</td>\n",
       "    </tr>\n",
       "    <tr>\n",
       "      <th>1</th>\n",
       "      <td>2</td>\n",
       "      <td>0</td>\n",
       "      <td>0.957151</td>\n",
       "      <td>40</td>\n",
       "      <td>0</td>\n",
       "      <td>0.121876</td>\n",
       "      <td>2600.0</td>\n",
       "      <td>4</td>\n",
       "      <td>0</td>\n",
       "      <td>0</td>\n",
       "      <td>0</td>\n",
       "      <td>1.0</td>\n",
       "    </tr>\n",
       "    <tr>\n",
       "      <th>2</th>\n",
       "      <td>3</td>\n",
       "      <td>0</td>\n",
       "      <td>0.658180</td>\n",
       "      <td>38</td>\n",
       "      <td>1</td>\n",
       "      <td>0.085113</td>\n",
       "      <td>3042.0</td>\n",
       "      <td>2</td>\n",
       "      <td>1</td>\n",
       "      <td>0</td>\n",
       "      <td>0</td>\n",
       "      <td>0.0</td>\n",
       "    </tr>\n",
       "  </tbody>\n",
       "</table>\n",
       "</div>"
      ],
      "text/plain": [
       "   Unnamed: 0  SeriousDlqin2yrs  RevolvingUtilizationOfUnsecuredLines  age  \\\n",
       "0           1                 1                              0.766127   45   \n",
       "1           2                 0                              0.957151   40   \n",
       "2           3                 0                              0.658180   38   \n",
       "\n",
       "   NumberOfTime30-59DaysPastDueNotWorse  DebtRatio  MonthlyIncome  \\\n",
       "0                                     2   0.802982         9120.0   \n",
       "1                                     0   0.121876         2600.0   \n",
       "2                                     1   0.085113         3042.0   \n",
       "\n",
       "   NumberOfOpenCreditLinesAndLoans  NumberOfTimes90DaysLate  \\\n",
       "0                               13                        0   \n",
       "1                                4                        0   \n",
       "2                                2                        1   \n",
       "\n",
       "   NumberRealEstateLoansOrLines  NumberOfTime60-89DaysPastDueNotWorse  \\\n",
       "0                             6                                     0   \n",
       "1                             0                                     0   \n",
       "2                             0                                     0   \n",
       "\n",
       "   NumberOfDependents  \n",
       "0                 2.0  \n",
       "1                 1.0  \n",
       "2                 0.0  "
      ]
     },
     "execution_count": 2,
     "metadata": {},
     "output_type": "execute_result"
    }
   ],
   "source": [
    "%%time \n",
    "train = pd.read_csv('../input/GiveMeSomeCredit/cs-training.csv')\n",
    "test = pd.read_csv('../input/GiveMeSomeCredit/cs-test.csv')\n",
    "train.head(3)"
   ]
  },
  {
   "cell_type": "markdown",
   "id": "ad06f1a3",
   "metadata": {
    "papermill": {
     "duration": 0.040098,
     "end_time": "2021-12-28T15:12:09.926391",
     "exception": false,
     "start_time": "2021-12-28T15:12:09.886293",
     "status": "completed"
    },
    "tags": []
   },
   "source": [
    "# 1-Preprocessing"
   ]
  },
  {
   "cell_type": "markdown",
   "id": "59984444",
   "metadata": {
    "papermill": {
     "duration": 0.040521,
     "end_time": "2021-12-28T15:12:10.007399",
     "exception": false,
     "start_time": "2021-12-28T15:12:09.966878",
     "status": "completed"
    },
    "tags": []
   },
   "source": [
    "## Convert Dtypes :"
   ]
  },
  {
   "cell_type": "code",
   "execution_count": 3,
   "id": "54e33b2b",
   "metadata": {
    "execution": {
     "iopub.execute_input": "2021-12-28T15:12:10.093306Z",
     "iopub.status.busy": "2021-12-28T15:12:10.092280Z",
     "iopub.status.idle": "2021-12-28T15:12:10.184928Z",
     "shell.execute_reply": "2021-12-28T15:12:10.183819Z",
     "shell.execute_reply.started": "2021-12-28T14:59:57.057430Z"
    },
    "papermill": {
     "duration": 0.137012,
     "end_time": "2021-12-28T15:12:10.185080",
     "exception": false,
     "start_time": "2021-12-28T15:12:10.048068",
     "status": "completed"
    },
    "tags": []
   },
   "outputs": [],
   "source": [
    "# Convert Dtypes :\n",
    "train[train.select_dtypes(['int64','int16','float16','float32','float64','int8']).columns] = train[train.select_dtypes(['int64','int16','float16','float32','float64','int8']).columns].apply(pd.to_numeric)\n",
    "train[train.select_dtypes(['object','category']).columns] = train.select_dtypes(['object','category']).apply(lambda x: x.astype('category'))\n",
    "# Convert Dtypes :\n",
    "test[test.select_dtypes(['int64','int16','float16','float32','float64','int8']).columns] = test[test.select_dtypes(['int64','int16','float16','float32','float64','int8']).columns].apply(pd.to_numeric)\n",
    "test[test.select_dtypes(['object','category']).columns] = test.select_dtypes(['object','category']).apply(lambda x: x.astype('category'))"
   ]
  },
  {
   "cell_type": "markdown",
   "id": "3e8cba46",
   "metadata": {
    "papermill": {
     "duration": 0.039317,
     "end_time": "2021-12-28T15:12:10.264683",
     "exception": false,
     "start_time": "2021-12-28T15:12:10.225366",
     "status": "completed"
    },
    "tags": []
   },
   "source": [
    "## Reduce Memory"
   ]
  },
  {
   "cell_type": "code",
   "execution_count": 4,
   "id": "755a2d54",
   "metadata": {
    "execution": {
     "iopub.execute_input": "2021-12-28T15:12:10.364089Z",
     "iopub.status.busy": "2021-12-28T15:12:10.362905Z",
     "iopub.status.idle": "2021-12-28T15:12:10.415805Z",
     "shell.execute_reply": "2021-12-28T15:12:10.416416Z",
     "shell.execute_reply.started": "2021-12-28T14:59:57.152803Z"
    },
    "papermill": {
     "duration": 0.111662,
     "end_time": "2021-12-28T15:12:10.416598",
     "exception": false,
     "start_time": "2021-12-28T15:12:10.304936",
     "status": "completed"
    },
    "tags": []
   },
   "outputs": [
    {
     "name": "stdout",
     "output_type": "stream",
     "text": [
      "Memory usage of dataframe is 13.73 MB\n",
      "Memory usage after optimization is: 3.29 MB\n",
      "Decreased by 76.0%\n",
      "Memory usage of dataframe is 9.29 MB\n",
      "Memory usage after optimization is: 2.90 MB\n",
      "Decreased by 68.7%\n"
     ]
    }
   ],
   "source": [
    "# Author : https://www.kaggle.com/gemartin/load-data-reduce-memory-usage\n",
    "def reduce_mem_usage(df):\n",
    "    \"\"\" iterate through all the columns of a dataframe and modify the data type\n",
    "        to reduce memory usage.        \n",
    "    \"\"\"\n",
    "    start_mem = df.memory_usage().sum() / 1024**2\n",
    "    print('Memory usage of dataframe is {:.2f} MB'.format(start_mem))\n",
    "    \n",
    "    for col in df.columns:\n",
    "        col_type = df[col].dtype\n",
    "        name =df[col].dtype.name \n",
    "        \n",
    "        if col_type != object and col_type.name != 'category':\n",
    "        #if name != \"category\":    \n",
    "            c_min = df[col].min()\n",
    "            c_max = df[col].max()\n",
    "            if str(col_type)[:3] == 'int':\n",
    "                if c_min > np.iinfo(np.int8).min and c_max < np.iinfo(np.int8).max:\n",
    "                    df[col] = df[col].astype(np.int8)\n",
    "                elif c_min > np.iinfo(np.int16).min and c_max < np.iinfo(np.int16).max:\n",
    "                    df[col] = df[col].astype(np.int16)\n",
    "                elif c_min > np.iinfo(np.int32).min and c_max < np.iinfo(np.int32).max:\n",
    "                    df[col] = df[col].astype(np.int32)\n",
    "                elif c_min > np.iinfo(np.int64).min and c_max < np.iinfo(np.int64).max:\n",
    "                    df[col] = df[col].astype(np.int64)  \n",
    "            else:\n",
    "                if c_min > np.finfo(np.float16).min and c_max < np.finfo(np.float16).max:\n",
    "                    df[col] = df[col].astype(np.float16)\n",
    "                elif c_min > np.finfo(np.float32).min and c_max < np.finfo(np.float32).max:\n",
    "                    df[col] = df[col].astype(np.float32)\n",
    "                else:\n",
    "                    df[col] = df[col].astype(np.float64)\n",
    "        else:\n",
    "            df[col] = df[col].astype('category')\n",
    "\n",
    "    end_mem = df.memory_usage().sum() / 1024**2\n",
    "    print('Memory usage after optimization is: {:.2f} MB'.format(end_mem))\n",
    "    print('Decreased by {:.1f}%'.format(100 * (start_mem - end_mem) / start_mem))\n",
    "    \n",
    "    return df\n",
    "train= reduce_mem_usage(train)\n",
    "test= reduce_mem_usage(test)"
   ]
  },
  {
   "cell_type": "markdown",
   "id": "0e9c168f",
   "metadata": {
    "papermill": {
     "duration": 0.040163,
     "end_time": "2021-12-28T15:12:10.497300",
     "exception": false,
     "start_time": "2021-12-28T15:12:10.457137",
     "status": "completed"
    },
    "tags": []
   },
   "source": [
    "## X and Y"
   ]
  },
  {
   "cell_type": "code",
   "execution_count": 5,
   "id": "4365a2ea",
   "metadata": {
    "execution": {
     "iopub.execute_input": "2021-12-28T15:12:10.586901Z",
     "iopub.status.busy": "2021-12-28T15:12:10.585814Z",
     "iopub.status.idle": "2021-12-28T15:12:10.587760Z",
     "shell.execute_reply": "2021-12-28T15:12:10.588392Z",
     "shell.execute_reply.started": "2021-12-28T14:59:57.218053Z"
    },
    "papermill": {
     "duration": 0.050508,
     "end_time": "2021-12-28T15:12:10.588581",
     "exception": false,
     "start_time": "2021-12-28T15:12:10.538073",
     "status": "completed"
    },
    "tags": []
   },
   "outputs": [],
   "source": [
    "# Cardinality : \n",
    "# - RevolvingUtilizationOfUnsecuredLines :125728, high Outlier\n",
    "# - DebtRatio :114194 , high Outlier \n",
    "# deal with outlier + bin \n",
    "PERCENTAGE = [\"RevolvingUtilizationOfUnsecuredLines\", \"DebtRatio\"]\n",
    "# MonthlyIncome:13594 , high outlier +bin \n",
    "REAL= [\"MonthlyIncome\"]\n",
    "# Can be considred as cat \n",
    "NUMERIC_DISCRET_low = [\"NumberOfDependents\",\n",
    "                       \"NumberOfTime60-89DaysPastDueNotWorse\",\n",
    "                       \"NumberRealEstateLoansOrLines\",\n",
    "                       \"NumberOfTimes90DaysLate\",\n",
    "                       \"NumberOfOpenCreditLinesAndLoans\",\n",
    "                       \"NumberOfTime30-59DaysPastDueNotWorse\",\n",
    "                       \"age\"]\n",
    "Late_Pay_Cols = ['NumberOfTime30-59DaysPastDueNotWorse',\n",
    "                 'NumberOfTimes90DaysLate',\n",
    "                 'NumberOfTime60-89DaysPastDueNotWorse']\n",
    "TARGET = [\"SeriousDlqin2yrs\"]\n",
    "\n",
    "#also change the type for TARGET to categorical\n",
    "#df[TARGET] = df[TARGET].astype('category')"
   ]
  },
  {
   "cell_type": "code",
   "execution_count": 6,
   "id": "4826d8d1",
   "metadata": {
    "execution": {
     "iopub.execute_input": "2021-12-28T15:12:10.674735Z",
     "iopub.status.busy": "2021-12-28T15:12:10.673764Z",
     "iopub.status.idle": "2021-12-28T15:12:10.677597Z",
     "shell.execute_reply": "2021-12-28T15:12:10.678189Z",
     "shell.execute_reply.started": "2021-12-28T14:59:57.224732Z"
    },
    "papermill": {
     "duration": 0.048451,
     "end_time": "2021-12-28T15:12:10.678376",
     "exception": false,
     "start_time": "2021-12-28T15:12:10.629925",
     "status": "completed"
    },
    "tags": []
   },
   "outputs": [],
   "source": [
    "y = train['SeriousDlqin2yrs']"
   ]
  },
  {
   "cell_type": "markdown",
   "id": "269cf4d4",
   "metadata": {
    "papermill": {
     "duration": 0.040392,
     "end_time": "2021-12-28T15:12:10.760163",
     "exception": false,
     "start_time": "2021-12-28T15:12:10.719771",
     "status": "completed"
    },
    "tags": []
   },
   "source": [
    "## Imput before Descritaziation : \n",
    "\n",
    "### IterativeImputer\n"
   ]
  },
  {
   "cell_type": "code",
   "execution_count": 7,
   "id": "8f95b6ec",
   "metadata": {
    "execution": {
     "iopub.execute_input": "2021-12-28T15:12:10.845838Z",
     "iopub.status.busy": "2021-12-28T15:12:10.844805Z",
     "iopub.status.idle": "2021-12-28T15:12:10.856575Z",
     "shell.execute_reply": "2021-12-28T15:12:10.857352Z",
     "shell.execute_reply.started": "2021-12-28T14:59:57.242566Z"
    },
    "papermill": {
     "duration": 0.056462,
     "end_time": "2021-12-28T15:12:10.857573",
     "exception": false,
     "start_time": "2021-12-28T15:12:10.801111",
     "status": "completed"
    },
    "tags": []
   },
   "outputs": [
    {
     "name": "stdout",
     "output_type": "stream",
     "text": [
      "CPU times: user 361 µs, sys: 0 ns, total: 361 µs\n",
      "Wall time: 367 µs\n"
     ]
    }
   ],
   "source": [
    "%%time \n",
    "param =  {   \"verbosity\": 0,\n",
    "            #\"objective\": \"binary:logistic\",\n",
    "            #\"eval_metric\": \"auc\",\n",
    "            'random_state': 42,\n",
    "            # regression\n",
    "            'objective':'reg:squarederror', \n",
    "             'eval_metric': 'mae',\n",
    "            #early_stopping_rounds=100 ,\n",
    "            #'gpu_id':0, \n",
    "            #'predictor':\"gpu_predictor\",\n",
    "            # use exact for small dataset.\n",
    "            #\"tree_method\": \"exact\",\n",
    "            # big data :\n",
    "            # 'tree_method': 'gpu_hist',\n",
    "            # defines booster, gblinear for linear functions.\n",
    "             'booster': 'gbtree', \n",
    "            'lambda': 8.544792472633987e-07,\n",
    "            'alpha': 0.31141671752487043,\n",
    "            'subsample': 0.8779467596981366, \n",
    "            'colsample_bytree': 0.9759532762677546,\n",
    "            'learning_rate': 0.008686087328805853, \n",
    "            'n_estimators': 6988,\n",
    "            'max_depth': 9,\n",
    "            'min_child_weight': 2, \n",
    "            'eta': 3.7603213457541647e-06,\n",
    "            'gamma': 2.1478058456847449e-07,\n",
    "            'grow_policy': 'lossguide'}\n",
    "                \n",
    "\n",
    "#model_xgb = XGBRegressor(\n",
    "       #objective=\"mae\",\n",
    " #   **xgb_params2)\n",
    "\n",
    "numeric_transformer1 = Pipeline(\n",
    "                            steps=[\n",
    "                            ('imputer', SimpleImputer(strategy='median'\n",
    "                                                      ,add_indicator=True)),\n",
    "                            ('scaler', PowerTransformer()),#(Numerical Input, Numerical Output)\n",
    "                            # Create an SelectKBest object to select features with two best ANOVA F-Values\n",
    "                            #The F-value scores examine if, when we group the numerical feature by the target vector, the means for each group are significantly different\n",
    "                           # ('reducedim',  SelectPercentile(f_classif,percentile=90))\n",
    "                            ]\n",
    "                            )\n",
    "numeric_transformer2 = Pipeline(\n",
    "                            steps=[\n",
    "                            #('imputer', SimpleImputer(strategy='median'\n",
    "                             #                         ,add_indicator=True)),\n",
    "                            ('scaler', PowerTransformer()),#(Numerical Input, Numerical Output)\n",
    "                            # Create an SelectKBest object to select features with two best ANOVA F-Values\n",
    "                            #The F-value scores examine if, when we group the numerical feature by the target vector, the means for each group are significantly different\n",
    "                           # ('reducedim',  SelectPercentile(f_classif,percentile=90))\n",
    "                            ]\n",
    "                            )\n",
    "\n",
    "pipe_xgbr1 = Pipeline(\n",
    "                    steps=[\n",
    "                        ('preprocessor', numeric_transformer1),\n",
    "                        ('classifier', XGBRegressor(\n",
    "                      #objective=\"mae\",\n",
    "                       **param))\n",
    "                    ]\n",
    "                )\n",
    "pipe_xgbr2 = Pipeline(\n",
    "                    steps=[\n",
    "                        ('preprocessor', numeric_transformer2),\n",
    "                        ('classifier', XGBRegressor(\n",
    "                      #objective=\"mae\",\n",
    "                       **param))\n",
    "                    ]\n",
    "                )\n",
    "\n",
    "#imputer=IterativeImputer(estimator=XGBRegressor(\n",
    "#                      #objective=\"mae\",\n",
    " #                     **param),max_iter=2,\n",
    "  #                       add_indicator=True,\n",
    "   #                      random_state=42)\n",
    "#train=train.drop(['Unnamed: 0','SeriousDlqin2yrs'], axis=1)\n",
    "#test=test.drop(['Unnamed: 0','SeriousDlqin2yrs'], axis=1)\n",
    "#imputer.fit(train)\n",
    "#train = imputer.transform(train)\n",
    "#test = imputer.transform(test)\n",
    "#features=['RevolvingUtilizationOfUnsecuredLines', 'age',\n",
    "#      'NumberOfTime30-59DaysPastDueNotWorse', 'DebtRatio', 'MonthlyIncome',\n",
    " #      'NumberOfOpenCreditLinesAndLoans', 'NumberOfTimes90DaysLate',\n",
    " #     'NumberRealEstateLoansOrLines', 'NumberOfTime60-89DaysPastDueNotWorse',\n",
    " #     'NumberOfDependents']\n",
    "#train=pd.DataFrame(train,columns=features)\n",
    "#test=pd.DataFrame(test,columns=features)\n",
    "#train= reduce_mem_usage(train)\n",
    "#test= reduce_mem_usage(test)"
   ]
  },
  {
   "cell_type": "markdown",
   "id": "c1bb4dbc",
   "metadata": {
    "papermill": {
     "duration": 0.040526,
     "end_time": "2021-12-28T15:12:10.939891",
     "exception": false,
     "start_time": "2021-12-28T15:12:10.899365",
     "status": "completed"
    },
    "tags": []
   },
   "source": [
    "### Rgression Imputer "
   ]
  },
  {
   "cell_type": "code",
   "execution_count": 8,
   "id": "c73732ef",
   "metadata": {
    "execution": {
     "iopub.execute_input": "2021-12-28T15:12:11.026234Z",
     "iopub.status.busy": "2021-12-28T15:12:11.025192Z",
     "iopub.status.idle": "2021-12-28T15:30:57.885289Z",
     "shell.execute_reply": "2021-12-28T15:30:57.885854Z"
    },
    "papermill": {
     "duration": 1126.905259,
     "end_time": "2021-12-28T15:30:57.886039",
     "exception": false,
     "start_time": "2021-12-28T15:12:10.980780",
     "status": "completed"
    },
    "tags": []
   },
   "outputs": [
    {
     "name": "stdout",
     "output_type": "stream",
     "text": [
      "CPU times: user 1h 13min 18s, sys: 5.95 s, total: 1h 13min 24s\n",
      "Wall time: 18min 46s\n"
     ]
    }
   ],
   "source": [
    "%%time \n",
    "train=train.drop(['Unnamed: 0','SeriousDlqin2yrs'], axis=1)\n",
    "test=test.drop(['Unnamed: 0','SeriousDlqin2yrs'], axis=1)\n",
    "train_final= pd.concat( [train, test], axis=0) \n",
    "#testdf_income= train_final[train_final['MonthlyIncome'].isnull()==True]\n",
    "traindf_income = train_final[train_final['MonthlyIncome'].isnull()==False]\n",
    "y_income = traindf_income['MonthlyIncome']\n",
    "X_income=traindf_income.drop([\"MonthlyIncome\"],axis=1)\n",
    "pipe_xgbr1.fit(X_income, y_income)\n",
    "train_income_missing=train[train['MonthlyIncome'].isnull()==True].drop([\"MonthlyIncome\"],axis=1)\n",
    "test_income_missing=test[test['MonthlyIncome'].isnull()==True].drop([\"MonthlyIncome\"],axis=1)\n",
    "train_predicted = pipe_xgbr1.predict(train_income_missing)\n",
    "test_predicted = pipe_xgbr1.predict(test_income_missing)\n",
    "train.loc[(train.MonthlyIncome.isnull()), 'MonthlyIncome'] = train_predicted\n",
    "test.loc[(test.MonthlyIncome.isnull()), 'MonthlyIncome'] = test_predicted"
   ]
  },
  {
   "cell_type": "code",
   "execution_count": 9,
   "id": "ad7dffc3",
   "metadata": {
    "execution": {
     "iopub.execute_input": "2021-12-28T15:30:57.978396Z",
     "iopub.status.busy": "2021-12-28T15:30:57.977237Z",
     "iopub.status.idle": "2021-12-28T15:53:35.727528Z",
     "shell.execute_reply": "2021-12-28T15:53:35.728032Z"
    },
    "papermill": {
     "duration": 1357.800078,
     "end_time": "2021-12-28T15:53:35.728221",
     "exception": false,
     "start_time": "2021-12-28T15:30:57.928143",
     "status": "completed"
    },
    "tags": []
   },
   "outputs": [
    {
     "name": "stdout",
     "output_type": "stream",
     "text": [
      "CPU times: user 1h 28min 31s, sys: 4.98 s, total: 1h 28min 36s\n",
      "Wall time: 22min 37s\n"
     ]
    }
   ],
   "source": [
    "%%time \n",
    "traindf_NumberOfDependents = train_final[train_final['NumberOfDependents'].isnull()==False]\n",
    "y_NumberOfDependents = traindf_NumberOfDependents['NumberOfDependents']\n",
    "X_NumberOfDependents=traindf_NumberOfDependents.drop([\"NumberOfDependents\"],axis=1)\n",
    "pipe_xgbr2.fit(X_NumberOfDependents, y_NumberOfDependents)\n",
    "train_NumberOfDependents_missing=train[train['NumberOfDependents'].isnull()==True].drop([\"NumberOfDependents\"],axis=1)\n",
    "test_NumberOfDependents_missing=test[test['NumberOfDependents'].isnull()==True].drop([\"NumberOfDependents\"],axis=1)\n",
    "train_predicted = pipe_xgbr2.predict(train_NumberOfDependents_missing)\n",
    "test_predicted = pipe_xgbr2.predict(test_NumberOfDependents_missing)\n",
    "train.loc[(train.NumberOfDependents.isnull()), 'NumberOfDependents'] = train_predicted\n",
    "test.loc[(test.NumberOfDependents.isnull()), 'NumberOfDependents'] = test_predicted"
   ]
  },
  {
   "cell_type": "markdown",
   "id": "5f87fc8d",
   "metadata": {
    "papermill": {
     "duration": 0.041325,
     "end_time": "2021-12-28T15:53:35.811241",
     "exception": false,
     "start_time": "2021-12-28T15:53:35.769916",
     "status": "completed"
    },
    "tags": []
   },
   "source": [
    "## Features Engineer\n",
    "### Add Bin \n",
    "It's always good to bin data when we have lot of outlier and skweness "
   ]
  },
  {
   "cell_type": "code",
   "execution_count": 10,
   "id": "f3369636",
   "metadata": {
    "execution": {
     "iopub.execute_input": "2021-12-28T15:53:35.913245Z",
     "iopub.status.busy": "2021-12-28T15:53:35.910453Z",
     "iopub.status.idle": "2021-12-28T15:53:36.579886Z",
     "shell.execute_reply": "2021-12-28T15:53:36.579153Z"
    },
    "papermill": {
     "duration": 0.726766,
     "end_time": "2021-12-28T15:53:36.580026",
     "exception": false,
     "start_time": "2021-12-28T15:53:35.853260",
     "status": "completed"
    },
    "tags": []
   },
   "outputs": [],
   "source": [
    "# Add bin data \n",
    "# initializing append_str\n",
    "append_str = 'cat_'\n",
    "# Append suffix / prefix to strings in list\n",
    "num_features1=[\"RevolvingUtilizationOfUnsecuredLines\", \"DebtRatio\",\"MonthlyIncome\"]\n",
    "num_features2=[\"NumberOfDependents\",\n",
    "                       \"NumberOfTime60-89DaysPastDueNotWorse\",\n",
    "                       \"NumberRealEstateLoansOrLines\",\n",
    "                       \"NumberOfTimes90DaysLate\",\n",
    "                       \"NumberOfOpenCreditLinesAndLoans\",\n",
    "                       \"NumberOfTime30-59DaysPastDueNotWorse\",\n",
    "                       \"age\"]\n",
    "cat_features1 = [append_str + sub for sub in num_features1]\n",
    "cat_features2 = [append_str + sub for sub in num_features2]\n",
    "\n",
    "# create the discretizer object with strategy quantile and 1000 bins\n",
    "discretizer1 = KBinsDiscretizer(n_bins=40, encode='ordinal',strategy='quantile')\n",
    "discretizer2 = KBinsDiscretizer(n_bins=4, encode='ordinal',strategy='quantile')\n",
    "\n",
    "pipeline1 = Pipeline([\n",
    "        ('imputer', SimpleImputer( strategy='median')),\n",
    "        ('bin', discretizer1)\n",
    "    ])\n",
    "# fit the discretizer to the train set\n",
    "pipeline1.fit(train.loc[:,num_features1])\n",
    "# apply the discretisation\n",
    "train_cat1 = pipeline1.transform(train.loc[:,num_features1])\n",
    "test_cat1 = pipeline1.transform(test.loc[:,num_features1])\n",
    "train_df1=pd.DataFrame(train_cat1,columns=cat_features1).astype('category')\n",
    "test_df1=pd.DataFrame(test_cat1,columns=cat_features1).astype('category')\n",
    "train_final1= pd.concat( [train.loc[:,num_features1], train_df1], axis=1) \n",
    "test_final1= pd.concat( [test.loc[:,num_features1], test_df1], axis=1) \n",
    "\n",
    "pipeline2 = Pipeline([\n",
    "        ('imputer', SimpleImputer( strategy='median')),\n",
    "        ('bin', discretizer2)\n",
    "    ])\n",
    "# fit the discretizer to the train set\n",
    "pipeline2.fit(train.loc[:,num_features2])\n",
    "# apply the discretisation\n",
    "train_cat2 = pipeline2.transform(train.loc[:,num_features2])\n",
    "test_cat2 = pipeline2.transform(test.loc[:,num_features2])\n",
    "train_df2=pd.DataFrame(train_cat2,columns=cat_features2).astype('category')\n",
    "test_df2=pd.DataFrame(test_cat2,columns=cat_features2).astype('category')\n",
    "train_final2= pd.concat( [train.loc[:,num_features2], train_df2], axis=1) \n",
    "test_final2= pd.concat( [test.loc[:,num_features2], test_df2], axis=1) "
   ]
  },
  {
   "cell_type": "code",
   "execution_count": 11,
   "id": "c6cfbc0f",
   "metadata": {
    "execution": {
     "iopub.execute_input": "2021-12-28T15:53:36.670140Z",
     "iopub.status.busy": "2021-12-28T15:53:36.669523Z",
     "iopub.status.idle": "2021-12-28T15:53:36.674855Z",
     "shell.execute_reply": "2021-12-28T15:53:36.675326Z"
    },
    "papermill": {
     "duration": 0.052821,
     "end_time": "2021-12-28T15:53:36.675480",
     "exception": false,
     "start_time": "2021-12-28T15:53:36.622659",
     "status": "completed"
    },
    "tags": []
   },
   "outputs": [],
   "source": [
    "train_final= pd.concat( [train_final1, train_final2], axis=1) \n",
    "test_final= pd.concat( [test_final1, test_final2], axis=1) "
   ]
  },
  {
   "cell_type": "markdown",
   "id": "bc43298d",
   "metadata": {
    "papermill": {
     "duration": 0.041593,
     "end_time": "2021-12-28T15:53:36.759073",
     "exception": false,
     "start_time": "2021-12-28T15:53:36.717480",
     "status": "completed"
    },
    "tags": []
   },
   "source": [
    "## Final X and y"
   ]
  },
  {
   "cell_type": "code",
   "execution_count": 12,
   "id": "0fd7a115",
   "metadata": {
    "execution": {
     "iopub.execute_input": "2021-12-28T15:53:36.846557Z",
     "iopub.status.busy": "2021-12-28T15:53:36.845936Z",
     "iopub.status.idle": "2021-12-28T15:53:36.850188Z",
     "shell.execute_reply": "2021-12-28T15:53:36.849676Z"
    },
    "papermill": {
     "duration": 0.048807,
     "end_time": "2021-12-28T15:53:36.850371",
     "exception": false,
     "start_time": "2021-12-28T15:53:36.801564",
     "status": "completed"
    },
    "tags": []
   },
   "outputs": [],
   "source": [
    "# Pour le train test\n",
    "target= \"SeriousDlqin2yrs\"\n",
    "X = train_final# axis=1\n",
    "X_test_final =test_final# axis=1"
   ]
  },
  {
   "cell_type": "code",
   "execution_count": 13,
   "id": "41a75837",
   "metadata": {
    "execution": {
     "iopub.execute_input": "2021-12-28T15:53:36.939393Z",
     "iopub.status.busy": "2021-12-28T15:53:36.938708Z",
     "iopub.status.idle": "2021-12-28T15:53:36.960610Z",
     "shell.execute_reply": "2021-12-28T15:53:36.961197Z"
    },
    "papermill": {
     "duration": 0.068598,
     "end_time": "2021-12-28T15:53:36.961383",
     "exception": false,
     "start_time": "2021-12-28T15:53:36.892785",
     "status": "completed"
    },
    "tags": []
   },
   "outputs": [
    {
     "name": "stdout",
     "output_type": "stream",
     "text": [
      "<class 'pandas.core.frame.DataFrame'>\n",
      "RangeIndex: 101503 entries, 0 to 101502\n",
      "Data columns (total 20 columns):\n",
      " #   Column                                    Non-Null Count   Dtype   \n",
      "---  ------                                    --------------   -----   \n",
      " 0   RevolvingUtilizationOfUnsecuredLines      101503 non-null  float16 \n",
      " 1   DebtRatio                                 101503 non-null  float32 \n",
      " 2   MonthlyIncome                             101503 non-null  float32 \n",
      " 3   cat_RevolvingUtilizationOfUnsecuredLines  101503 non-null  category\n",
      " 4   cat_DebtRatio                             101503 non-null  category\n",
      " 5   cat_MonthlyIncome                         101503 non-null  category\n",
      " 6   NumberOfDependents                        101503 non-null  float16 \n",
      " 7   NumberOfTime60-89DaysPastDueNotWorse      101503 non-null  int8    \n",
      " 8   NumberRealEstateLoansOrLines              101503 non-null  int8    \n",
      " 9   NumberOfTimes90DaysLate                   101503 non-null  int8    \n",
      " 10  NumberOfOpenCreditLinesAndLoans           101503 non-null  int8    \n",
      " 11  NumberOfTime30-59DaysPastDueNotWorse      101503 non-null  int8    \n",
      " 12  age                                       101503 non-null  int8    \n",
      " 13  cat_NumberOfDependents                    101503 non-null  category\n",
      " 14  cat_NumberOfTime60-89DaysPastDueNotWorse  101503 non-null  category\n",
      " 15  cat_NumberRealEstateLoansOrLines          101503 non-null  category\n",
      " 16  cat_NumberOfTimes90DaysLate               101503 non-null  category\n",
      " 17  cat_NumberOfOpenCreditLinesAndLoans       101503 non-null  category\n",
      " 18  cat_NumberOfTime30-59DaysPastDueNotWorse  101503 non-null  category\n",
      " 19  cat_age                                   101503 non-null  category\n",
      "dtypes: category(10), float16(2), float32(2), int8(6)\n",
      "memory usage: 2.7 MB\n"
     ]
    }
   ],
   "source": [
    "X_test_final.info()"
   ]
  },
  {
   "cell_type": "code",
   "execution_count": 14,
   "id": "ef0d38dd",
   "metadata": {
    "execution": {
     "iopub.execute_input": "2021-12-28T15:53:37.051422Z",
     "iopub.status.busy": "2021-12-28T15:53:37.049516Z",
     "iopub.status.idle": "2021-12-28T15:53:37.072361Z",
     "shell.execute_reply": "2021-12-28T15:53:37.073038Z"
    },
    "papermill": {
     "duration": 0.069056,
     "end_time": "2021-12-28T15:53:37.073283",
     "exception": false,
     "start_time": "2021-12-28T15:53:37.004227",
     "status": "completed"
    },
    "tags": []
   },
   "outputs": [
    {
     "name": "stdout",
     "output_type": "stream",
     "text": [
      "<class 'pandas.core.frame.DataFrame'>\n",
      "RangeIndex: 150000 entries, 0 to 149999\n",
      "Data columns (total 20 columns):\n",
      " #   Column                                    Non-Null Count   Dtype   \n",
      "---  ------                                    --------------   -----   \n",
      " 0   RevolvingUtilizationOfUnsecuredLines      150000 non-null  float16 \n",
      " 1   DebtRatio                                 150000 non-null  float32 \n",
      " 2   MonthlyIncome                             150000 non-null  float32 \n",
      " 3   cat_RevolvingUtilizationOfUnsecuredLines  150000 non-null  category\n",
      " 4   cat_DebtRatio                             150000 non-null  category\n",
      " 5   cat_MonthlyIncome                         150000 non-null  category\n",
      " 6   NumberOfDependents                        150000 non-null  float16 \n",
      " 7   NumberOfTime60-89DaysPastDueNotWorse      150000 non-null  int8    \n",
      " 8   NumberRealEstateLoansOrLines              150000 non-null  int8    \n",
      " 9   NumberOfTimes90DaysLate                   150000 non-null  int8    \n",
      " 10  NumberOfOpenCreditLinesAndLoans           150000 non-null  int8    \n",
      " 11  NumberOfTime30-59DaysPastDueNotWorse      150000 non-null  int8    \n",
      " 12  age                                       150000 non-null  int8    \n",
      " 13  cat_NumberOfDependents                    150000 non-null  category\n",
      " 14  cat_NumberOfTime60-89DaysPastDueNotWorse  150000 non-null  category\n",
      " 15  cat_NumberRealEstateLoansOrLines          150000 non-null  category\n",
      " 16  cat_NumberOfTimes90DaysLate               150000 non-null  category\n",
      " 17  cat_NumberOfOpenCreditLinesAndLoans       150000 non-null  category\n",
      " 18  cat_NumberOfTime30-59DaysPastDueNotWorse  150000 non-null  category\n",
      " 19  cat_age                                   150000 non-null  category\n",
      "dtypes: category(10), float16(2), float32(2), int8(6)\n",
      "memory usage: 4.0 MB\n"
     ]
    }
   ],
   "source": [
    "X.info()"
   ]
  },
  {
   "cell_type": "code",
   "execution_count": 15,
   "id": "6c920a24",
   "metadata": {
    "execution": {
     "iopub.execute_input": "2021-12-28T15:53:37.165410Z",
     "iopub.status.busy": "2021-12-28T15:53:37.164766Z",
     "iopub.status.idle": "2021-12-28T15:53:37.166991Z",
     "shell.execute_reply": "2021-12-28T15:53:37.167572Z"
    },
    "papermill": {
     "duration": 0.050363,
     "end_time": "2021-12-28T15:53:37.167731",
     "exception": false,
     "start_time": "2021-12-28T15:53:37.117368",
     "status": "completed"
    },
    "tags": []
   },
   "outputs": [],
   "source": [
    "del train\n",
    "del test \n",
    "del train_final\n",
    "del test_final"
   ]
  },
  {
   "cell_type": "markdown",
   "id": "a406834d",
   "metadata": {
    "papermill": {
     "duration": 0.042616,
     "end_time": "2021-12-28T15:53:37.253451",
     "exception": false,
     "start_time": "2021-12-28T15:53:37.210835",
     "status": "completed"
    },
    "tags": []
   },
   "source": [
    "## Extract final cat  and num Features \n",
    "**What should we do for each colmun**\n",
    "\n",
    "Separate features by dtype:\n",
    "\n",
    "Next we’ll separate the features in the dataframe by their datatype. There are a few different ways to achieve this. I’ve used the select_dtypes() function to obtain specific data types by passing in np.number to obtain the numeric data and exclude=['np.number'] to return the categorical data. Appending .columns to the end returns an Index list containing the column names. For the categorical features, we don’t want to include the target  column, so I’ve dropped that.\n",
    "### Cat Features "
   ]
  },
  {
   "cell_type": "code",
   "execution_count": 16,
   "id": "98996b03",
   "metadata": {
    "execution": {
     "iopub.execute_input": "2021-12-28T15:53:37.343444Z",
     "iopub.status.busy": "2021-12-28T15:53:37.342741Z",
     "iopub.status.idle": "2021-12-28T15:53:37.352349Z",
     "shell.execute_reply": "2021-12-28T15:53:37.352861Z"
    },
    "papermill": {
     "duration": 0.056032,
     "end_time": "2021-12-28T15:53:37.353016",
     "exception": false,
     "start_time": "2021-12-28T15:53:37.296984",
     "status": "completed"
    },
    "tags": []
   },
   "outputs": [
    {
     "data": {
      "text/plain": [
       "Index(['cat_RevolvingUtilizationOfUnsecuredLines', 'cat_DebtRatio',\n",
       "       'cat_MonthlyIncome', 'cat_NumberOfDependents',\n",
       "       'cat_NumberOfTime60-89DaysPastDueNotWorse',\n",
       "       'cat_NumberRealEstateLoansOrLines', 'cat_NumberOfTimes90DaysLate',\n",
       "       'cat_NumberOfOpenCreditLinesAndLoans',\n",
       "       'cat_NumberOfTime30-59DaysPastDueNotWorse', 'cat_age'],\n",
       "      dtype='object')"
      ]
     },
     "execution_count": 16,
     "metadata": {},
     "output_type": "execute_result"
    }
   ],
   "source": [
    "# select non-numeric columns\n",
    "cat_columns = X.select_dtypes(exclude=['int64','int16','float16','float32','float64','int8']).columns\n",
    "cat_columns"
   ]
  },
  {
   "cell_type": "markdown",
   "id": "cc65fe52",
   "metadata": {
    "papermill": {
     "duration": 0.043065,
     "end_time": "2021-12-28T15:53:37.439763",
     "exception": false,
     "start_time": "2021-12-28T15:53:37.396698",
     "status": "completed"
    },
    "tags": []
   },
   "source": [
    "### Num Features\n",
    "\n"
   ]
  },
  {
   "cell_type": "code",
   "execution_count": 17,
   "id": "7d79a539",
   "metadata": {
    "execution": {
     "iopub.execute_input": "2021-12-28T15:53:37.529831Z",
     "iopub.status.busy": "2021-12-28T15:53:37.529242Z",
     "iopub.status.idle": "2021-12-28T15:53:37.540554Z",
     "shell.execute_reply": "2021-12-28T15:53:37.540066Z"
    },
    "papermill": {
     "duration": 0.057184,
     "end_time": "2021-12-28T15:53:37.540685",
     "exception": false,
     "start_time": "2021-12-28T15:53:37.483501",
     "status": "completed"
    },
    "tags": []
   },
   "outputs": [
    {
     "data": {
      "text/plain": [
       "Index(['RevolvingUtilizationOfUnsecuredLines', 'DebtRatio', 'MonthlyIncome',\n",
       "       'NumberOfDependents', 'NumberOfTime60-89DaysPastDueNotWorse',\n",
       "       'NumberRealEstateLoansOrLines', 'NumberOfTimes90DaysLate',\n",
       "       'NumberOfOpenCreditLinesAndLoans',\n",
       "       'NumberOfTime30-59DaysPastDueNotWorse', 'age'],\n",
       "      dtype='object')"
      ]
     },
     "execution_count": 17,
     "metadata": {},
     "output_type": "execute_result"
    }
   ],
   "source": [
    "# select the float columns\n",
    "num_columns = X.select_dtypes(include=['int64','int16','float16','float32','float64','int8']).columns\n",
    "num_columns"
   ]
  },
  {
   "cell_type": "markdown",
   "id": "c412d814",
   "metadata": {
    "papermill": {
     "duration": 0.044232,
     "end_time": "2021-12-28T15:53:37.629670",
     "exception": false,
     "start_time": "2021-12-28T15:53:37.585438",
     "status": "completed"
    },
    "tags": []
   },
   "source": [
    "## Extracted features "
   ]
  },
  {
   "cell_type": "code",
   "execution_count": 18,
   "id": "bd3da54c",
   "metadata": {
    "execution": {
     "iopub.execute_input": "2021-12-28T15:53:37.726315Z",
     "iopub.status.busy": "2021-12-28T15:53:37.725644Z",
     "iopub.status.idle": "2021-12-28T15:53:37.734061Z",
     "shell.execute_reply": "2021-12-28T15:53:37.733316Z"
    },
    "papermill": {
     "duration": 0.060646,
     "end_time": "2021-12-28T15:53:37.734268",
     "exception": false,
     "start_time": "2021-12-28T15:53:37.673622",
     "status": "completed"
    },
    "tags": []
   },
   "outputs": [],
   "source": [
    "class FeaturesEngineer(BaseEstimator, TransformerMixin):\n",
    "    def fit(self, X, y=None):\n",
    "        return self\n",
    "    def transform(self, X, y=None):\n",
    "        X=X.copy()\n",
    "        # Calculate some metrics across rows\n",
    "        X[\"num_missing\"]  = X.isnull().sum(axis=1)\n",
    "        X[\"std_row\"] = X.std(axis=1)\n",
    "        X[\"sem_row\"] = X.sem(axis=1)\n",
    "        X[\"abs_sum_row\"] = X.abs().sum(axis=1)\n",
    "        X[\"mean_row\"] = X.mean(axis=1)\n",
    "        X[\"max_row\"]= X.max(axis=1)\n",
    "        X[\"min_row\"]= X.min(axis=1)\n",
    "        X['Weighted_Sum_PastDue'] = 2 * X['NumberOfTime30-59DaysPastDueNotWorse'] + 3 * X['NumberOfTime60-89DaysPastDueNotWorse'] + 6 * X['NumberOfTimes90DaysLate']\n",
    "        X['90days_out_of_TotalPastDue'] = X['NumberOfTimes90DaysLate'] / (X['Weighted_Sum_PastDue'])\n",
    "        X.loc[X['Weighted_Sum_PastDue']==0, '90days_out_of_TotalPastDue'] = 0\n",
    "        X['RemainingLines'] = X['NumberOfOpenCreditLinesAndLoans'] - X['NumberRealEstateLoansOrLines']\n",
    "        X['Loans_vs_Other_Lines'] = X['RemainingLines'] / (1 + X['NumberRealEstateLoansOrLines'])\n",
    "        X['Debt_per_Real_Estate_Loan'] = X['DebtRatio'] / X['NumberRealEstateLoansOrLines']\n",
    "        X.loc[X['NumberRealEstateLoansOrLines']==0, 'Debt_per_Real_Estate_Loan'] = 0\n",
    "        X['Disposable_Income_per_person'] = (X['MonthlyIncome'] - X['DebtRatio']) / (X['NumberOfDependents'] + 1)\n",
    "        X.loc[X['NumberOfDependents']==0, 'Disposable_Income_per_person'] = 0\n",
    "        X['RemainingLines_per_person'] = X['RemainingLines'] / (X['NumberOfDependents'] + 1)\n",
    "        X['NumberRE_X_DebtRatio_X_age'] = X['NumberRealEstateLoansOrLines'] * X['DebtRatio'] / X['age']\n",
    "        X['RevolvingUtilization_per_age'] = X['RevolvingUtilizationOfUnsecuredLines'] / X['age']\n",
    "        X[X==np.inf]=np.nan\n",
    "        X=reduce_mem_usage(X)\n",
    "        return X  \n"
   ]
  },
  {
   "cell_type": "markdown",
   "id": "3d4a192e",
   "metadata": {
    "papermill": {
     "duration": 0.046834,
     "end_time": "2021-12-28T15:53:37.826683",
     "exception": false,
     "start_time": "2021-12-28T15:53:37.779849",
     "status": "completed"
    },
    "tags": []
   },
   "source": [
    "## Kmeans + encoder "
   ]
  },
  {
   "cell_type": "code",
   "execution_count": 19,
   "id": "218e4279",
   "metadata": {
    "execution": {
     "iopub.execute_input": "2021-12-28T15:53:37.926554Z",
     "iopub.status.busy": "2021-12-28T15:53:37.925547Z",
     "iopub.status.idle": "2021-12-28T15:53:37.928070Z",
     "shell.execute_reply": "2021-12-28T15:53:37.927589Z"
    },
    "papermill": {
     "duration": 0.05686,
     "end_time": "2021-12-28T15:53:37.928225",
     "exception": false,
     "start_time": "2021-12-28T15:53:37.871365",
     "status": "completed"
    },
    "tags": []
   },
   "outputs": [],
   "source": [
    "class MiniKmeansTransformerEncoder(BaseEstimator, TransformerMixin):\n",
    "    def __init__(self, num_clusters = 11, encoder=ce.woe.WOEEncoder()):\n",
    "        self.num_clusters = num_clusters\n",
    "        self.encoder= encoder\n",
    "        if self.num_clusters > 0:\n",
    "            self.kmeans = MiniBatchKMeans(n_clusters=self.num_clusters, random_state=0)\n",
    "    \n",
    "    def fit(self, X, y=None):\n",
    "        if self.num_clusters > 0:\n",
    "            self.kmeans.fit(X)\n",
    "            preds=self.kmeans.predict(X)\n",
    "            preds=pd.DataFrame(preds, columns=['kmeans']).astype('category')\n",
    "            self.encoder.fit(preds,y)\n",
    "        return self\n",
    "    \n",
    "    def transform(self, X, y=None):\n",
    "        pred_classes = self.kmeans.predict(X)\n",
    "        pred_classes=pd.DataFrame(pred_classes, columns=['kmeans']).astype('category')\n",
    "        pred_encoded = self.encoder.transform(pred_classes)\n",
    "        return np.hstack((X, pred_encoded))\n",
    "        #return pred_encoded"
   ]
  },
  {
   "cell_type": "code",
   "execution_count": 20,
   "id": "b97b1232",
   "metadata": {
    "execution": {
     "iopub.execute_input": "2021-12-28T15:53:38.026968Z",
     "iopub.status.busy": "2021-12-28T15:53:38.026338Z",
     "iopub.status.idle": "2021-12-28T15:53:38.031302Z",
     "shell.execute_reply": "2021-12-28T15:53:38.031745Z"
    },
    "papermill": {
     "duration": 0.058614,
     "end_time": "2021-12-28T15:53:38.031909",
     "exception": false,
     "start_time": "2021-12-28T15:53:37.973295",
     "status": "completed"
    },
    "tags": []
   },
   "outputs": [],
   "source": [
    "class SparseInteractions(BaseEstimator, TransformerMixin):\n",
    "    def __init__(self, degree=2, feature_name_separator=\"_\"):\n",
    "        self.degree = degree\n",
    "        self.feature_name_separator = feature_name_separator\n",
    "    \n",
    "    def fit(self, X, y=None):\n",
    "        return self\n",
    "        \n",
    "    def transform(self, X):\n",
    "        if not sparse.isspmatrix_csc(X):\n",
    "            X = sparse.csc_matrix(X)\n",
    "            \n",
    "        if hasattr(X, \"columns\"):\n",
    "            self.orig_col_names = X.columns\n",
    "        else:\n",
    "            self.orig_col_names = np.array([str(i) for i in range(X.shape[1])])\n",
    "            \n",
    "        spi = self._create_sparse_interactions(X)\n",
    "        return spi\n",
    "    \n",
    "    \n",
    "    def get_feature_names(self):\n",
    "        return self.feature_names\n",
    "    \n",
    "    def _create_sparse_interactions(self, X):\n",
    "        out_mat = []\n",
    "        self.feature_names = self.orig_col_names.tolist()\n",
    "        \n",
    "        for sub_degree in range(2, self.degree + 1):\n",
    "            for col_ixs in combinations(range(X.shape[1]), sub_degree):\n",
    "                # add name for new column\n",
    "                name = self.feature_name_separator.join(self.orig_col_names[list(col_ixs)])\n",
    "                self.feature_names.append(name)\n",
    "                \n",
    "                # get column multiplications value\n",
    "                out = X[:, col_ixs[0]]    \n",
    "                for j in col_ixs[1:]:\n",
    "                    out = out.multiply(X[:, j])\n",
    "\n",
    "                out_mat.append(out)\n",
    "\n",
    "        return sparse.hstack([X] + out_mat)"
   ]
  },
  {
   "cell_type": "markdown",
   "id": "f0bbd200",
   "metadata": {
    "papermill": {
     "duration": 0.043554,
     "end_time": "2021-12-28T15:53:38.121139",
     "exception": false,
     "start_time": "2021-12-28T15:53:38.077585",
     "status": "completed"
    },
    "tags": []
   },
   "source": [
    "# Complete Pipe2\n",
    "\n",
    "1. Features Engineer\n",
    "\n",
    "1. Kmeans\n",
    "\n",
    "1. Sparse\n",
    "\n",
    "1. Poly\n",
    "\n",
    "1. Scaler/Transformer\n",
    "\n",
    "1. imput\n",
    "\n",
    "1. Binning"
   ]
  },
  {
   "cell_type": "code",
   "execution_count": 21,
   "id": "4b9f034b",
   "metadata": {
    "execution": {
     "iopub.execute_input": "2021-12-28T15:53:38.217837Z",
     "iopub.status.busy": "2021-12-28T15:53:38.217131Z",
     "iopub.status.idle": "2021-12-28T15:53:38.219874Z",
     "shell.execute_reply": "2021-12-28T15:53:38.219358Z"
    },
    "papermill": {
     "duration": 0.054622,
     "end_time": "2021-12-28T15:53:38.220011",
     "exception": false,
     "start_time": "2021-12-28T15:53:38.165389",
     "status": "completed"
    },
    "tags": []
   },
   "outputs": [],
   "source": [
    "# Cat pipeline\n",
    "categorical_transformer = Pipeline(\n",
    "                    steps=[\n",
    "                        ('imputer', SimpleImputer(strategy='most_frequent',\n",
    "                                                  fill_value='missing',\n",
    "                                                  add_indicator=True)),\n",
    "                        ('encoder',  ce.woe.WOEEncoder()),#(Numerical Input, Categorical Output)\n",
    "                        #('sparse_features', SparseInteractions(degree=2)),\n",
    "                        #('reducedim',  SelectPercentile( mutual_info_classif, percentile=90))\n",
    "\n",
    "                    ]\n",
    "                    ) \n",
    "#Define vnum pipeline\n",
    "numeric_transformer = Pipeline(\n",
    "                            steps=[\n",
    "                            ('imputer', SimpleImputer(strategy='median'\n",
    "                                                      ,add_indicator=True)),\n",
    "                            #('general_features',FeaturesEngineer()),\n",
    "                            ('scaler', PowerTransformer()),#(Numerical Input, Numerical Output)\n",
    "                            # Create an SelectKBest object to select features with two best ANOVA F-Values\n",
    "                            #The F-value scores examine if, when we group the numerical feature by the target vector, the means for each group are significantly different\n",
    "                            ('polynominal_features', PolynomialFeatures(degree=2)),\n",
    "                            ('kmeans',MiniKmeansTransformerEncoder()),\n",
    "                            #('reducedim',  SelectPercentile(f_classif,percentile=90))\n",
    "                            ]\n",
    "                            )\n",
    "# Features union cat + num \n",
    "# WOE+PowerTransformer\n",
    "preprocessor_woe_powertransformer = ColumnTransformer(\n",
    "            transformers=[\n",
    "                ('numerical', numeric_transformer, num_columns),\n",
    "                ('categorical', categorical_transformer, cat_columns)\n",
    "            ])"
   ]
  },
  {
   "cell_type": "code",
   "execution_count": 22,
   "id": "b2fda3c6",
   "metadata": {
    "execution": {
     "iopub.execute_input": "2021-12-28T15:53:38.313434Z",
     "iopub.status.busy": "2021-12-28T15:53:38.312783Z",
     "iopub.status.idle": "2021-12-28T15:53:38.427545Z",
     "shell.execute_reply": "2021-12-28T15:53:38.427028Z"
    },
    "papermill": {
     "duration": 0.162898,
     "end_time": "2021-12-28T15:53:38.427682",
     "exception": false,
     "start_time": "2021-12-28T15:53:38.264784",
     "status": "completed"
    },
    "tags": []
   },
   "outputs": [
    {
     "data": {
      "text/html": [
       "<style>div.sk-top-container {color: black;background-color: white;}div.sk-toggleable {background-color: white;}label.sk-toggleable__label {cursor: pointer;display: block;width: 100%;margin-bottom: 0;padding: 0.2em 0.3em;box-sizing: border-box;text-align: center;}div.sk-toggleable__content {max-height: 0;max-width: 0;overflow: hidden;text-align: left;background-color: #f0f8ff;}div.sk-toggleable__content pre {margin: 0.2em;color: black;border-radius: 0.25em;background-color: #f0f8ff;}input.sk-toggleable__control:checked~div.sk-toggleable__content {max-height: 200px;max-width: 100%;overflow: auto;}div.sk-estimator input.sk-toggleable__control:checked~label.sk-toggleable__label {background-color: #d4ebff;}div.sk-label input.sk-toggleable__control:checked~label.sk-toggleable__label {background-color: #d4ebff;}input.sk-hidden--visually {border: 0;clip: rect(1px 1px 1px 1px);clip: rect(1px, 1px, 1px, 1px);height: 1px;margin: -1px;overflow: hidden;padding: 0;position: absolute;width: 1px;}div.sk-estimator {font-family: monospace;background-color: #f0f8ff;margin: 0.25em 0.25em;border: 1px dotted black;border-radius: 0.25em;box-sizing: border-box;}div.sk-estimator:hover {background-color: #d4ebff;}div.sk-parallel-item::after {content: \"\";width: 100%;border-bottom: 1px solid gray;flex-grow: 1;}div.sk-label:hover label.sk-toggleable__label {background-color: #d4ebff;}div.sk-serial::before {content: \"\";position: absolute;border-left: 1px solid gray;box-sizing: border-box;top: 2em;bottom: 0;left: 50%;}div.sk-serial {display: flex;flex-direction: column;align-items: center;background-color: white;}div.sk-item {z-index: 1;}div.sk-parallel {display: flex;align-items: stretch;justify-content: center;background-color: white;}div.sk-parallel-item {display: flex;flex-direction: column;position: relative;background-color: white;}div.sk-parallel-item:first-child::after {align-self: flex-end;width: 50%;}div.sk-parallel-item:last-child::after {align-self: flex-start;width: 50%;}div.sk-parallel-item:only-child::after {width: 0;}div.sk-dashed-wrapped {border: 1px dashed gray;margin: 0.2em;box-sizing: border-box;padding-bottom: 0.1em;background-color: white;position: relative;}div.sk-label label {font-family: monospace;font-weight: bold;background-color: white;display: inline-block;line-height: 1.2em;}div.sk-label-container {position: relative;z-index: 2;text-align: center;}div.sk-container {display: inline-block;position: relative;}</style><div class=\"sk-top-container\"><div class=\"sk-container\"><div class=\"sk-item sk-dashed-wrapped\"><div class=\"sk-label-container\"><div class=\"sk-label sk-toggleable\"><input class=\"sk-toggleable__control sk-hidden--visually\" id=\"c279bce1-b5b4-4e82-bd9d-efdf76f6de09\" type=\"checkbox\" ><label class=\"sk-toggleable__label\" for=\"c279bce1-b5b4-4e82-bd9d-efdf76f6de09\">ColumnTransformer</label><div class=\"sk-toggleable__content\"><pre>ColumnTransformer(transformers=[('numerical',\n",
       "                                 Pipeline(steps=[('imputer',\n",
       "                                                  SimpleImputer(add_indicator=True,\n",
       "                                                                strategy='median')),\n",
       "                                                 ('scaler', PowerTransformer()),\n",
       "                                                 ('polynominal_features',\n",
       "                                                  PolynomialFeatures()),\n",
       "                                                 ('kmeans',\n",
       "                                                  MiniKmeansTransformerEncoder())]),\n",
       "                                 Index(['RevolvingUtilizationOfUnsecuredLines', 'DebtRatio', 'MonthlyIncome',\n",
       "       'NumberOfDependents', 'NumberOfT...\n",
       "                                                 ('encoder', WOEEncoder())]),\n",
       "                                 Index(['cat_RevolvingUtilizationOfUnsecuredLines', 'cat_DebtRatio',\n",
       "       'cat_MonthlyIncome', 'cat_NumberOfDependents',\n",
       "       'cat_NumberOfTime60-89DaysPastDueNotWorse',\n",
       "       'cat_NumberRealEstateLoansOrLines', 'cat_NumberOfTimes90DaysLate',\n",
       "       'cat_NumberOfOpenCreditLinesAndLoans',\n",
       "       'cat_NumberOfTime30-59DaysPastDueNotWorse', 'cat_age'],\n",
       "      dtype='object'))])</pre></div></div></div><div class=\"sk-parallel\"><div class=\"sk-parallel-item\"><div class=\"sk-item\"><div class=\"sk-label-container\"><div class=\"sk-label sk-toggleable\"><input class=\"sk-toggleable__control sk-hidden--visually\" id=\"ff63715c-d278-449f-91bb-b26d5510d216\" type=\"checkbox\" ><label class=\"sk-toggleable__label\" for=\"ff63715c-d278-449f-91bb-b26d5510d216\">numerical</label><div class=\"sk-toggleable__content\"><pre>Index(['RevolvingUtilizationOfUnsecuredLines', 'DebtRatio', 'MonthlyIncome',\n",
       "       'NumberOfDependents', 'NumberOfTime60-89DaysPastDueNotWorse',\n",
       "       'NumberRealEstateLoansOrLines', 'NumberOfTimes90DaysLate',\n",
       "       'NumberOfOpenCreditLinesAndLoans',\n",
       "       'NumberOfTime30-59DaysPastDueNotWorse', 'age'],\n",
       "      dtype='object')</pre></div></div></div><div class=\"sk-serial\"><div class=\"sk-item\"><div class=\"sk-serial\"><div class=\"sk-item\"><div class=\"sk-estimator sk-toggleable\"><input class=\"sk-toggleable__control sk-hidden--visually\" id=\"be3300dc-8f91-4579-afb5-77faabb6aaec\" type=\"checkbox\" ><label class=\"sk-toggleable__label\" for=\"be3300dc-8f91-4579-afb5-77faabb6aaec\">SimpleImputer</label><div class=\"sk-toggleable__content\"><pre>SimpleImputer(add_indicator=True, strategy='median')</pre></div></div></div><div class=\"sk-item\"><div class=\"sk-estimator sk-toggleable\"><input class=\"sk-toggleable__control sk-hidden--visually\" id=\"9447c0c6-0d61-4edb-81dd-68108993f172\" type=\"checkbox\" ><label class=\"sk-toggleable__label\" for=\"9447c0c6-0d61-4edb-81dd-68108993f172\">PowerTransformer</label><div class=\"sk-toggleable__content\"><pre>PowerTransformer()</pre></div></div></div><div class=\"sk-item\"><div class=\"sk-estimator sk-toggleable\"><input class=\"sk-toggleable__control sk-hidden--visually\" id=\"0d72e10d-e39e-4c9a-8088-962db5034c22\" type=\"checkbox\" ><label class=\"sk-toggleable__label\" for=\"0d72e10d-e39e-4c9a-8088-962db5034c22\">PolynomialFeatures</label><div class=\"sk-toggleable__content\"><pre>PolynomialFeatures()</pre></div></div></div><div class=\"sk-item sk-dashed-wrapped\"><div class=\"sk-label-container\"><div class=\"sk-label sk-toggleable\"><input class=\"sk-toggleable__control sk-hidden--visually\" id=\"f6c11b86-86a5-4019-9913-43c4068a620f\" type=\"checkbox\" ><label class=\"sk-toggleable__label\" for=\"f6c11b86-86a5-4019-9913-43c4068a620f\">kmeans: MiniKmeansTransformerEncoder</label><div class=\"sk-toggleable__content\"><pre>MiniKmeansTransformerEncoder()</pre></div></div></div><div class=\"sk-parallel\"><div class=\"sk-parallel-item\"><div class=\"sk-item\"><div class=\"sk-serial\"><div class=\"sk-item\"><div class=\"sk-estimator sk-toggleable\"><input class=\"sk-toggleable__control sk-hidden--visually\" id=\"1c2f30b1-3b5d-4fbf-96aa-675497eb711f\" type=\"checkbox\" ><label class=\"sk-toggleable__label\" for=\"1c2f30b1-3b5d-4fbf-96aa-675497eb711f\">WOEEncoder</label><div class=\"sk-toggleable__content\"><pre>WOEEncoder()</pre></div></div></div></div></div></div></div></div></div></div></div></div></div><div class=\"sk-parallel-item\"><div class=\"sk-item\"><div class=\"sk-label-container\"><div class=\"sk-label sk-toggleable\"><input class=\"sk-toggleable__control sk-hidden--visually\" id=\"1342e7ed-6448-46a2-b6ce-56cf464e9eeb\" type=\"checkbox\" ><label class=\"sk-toggleable__label\" for=\"1342e7ed-6448-46a2-b6ce-56cf464e9eeb\">categorical</label><div class=\"sk-toggleable__content\"><pre>Index(['cat_RevolvingUtilizationOfUnsecuredLines', 'cat_DebtRatio',\n",
       "       'cat_MonthlyIncome', 'cat_NumberOfDependents',\n",
       "       'cat_NumberOfTime60-89DaysPastDueNotWorse',\n",
       "       'cat_NumberRealEstateLoansOrLines', 'cat_NumberOfTimes90DaysLate',\n",
       "       'cat_NumberOfOpenCreditLinesAndLoans',\n",
       "       'cat_NumberOfTime30-59DaysPastDueNotWorse', 'cat_age'],\n",
       "      dtype='object')</pre></div></div></div><div class=\"sk-serial\"><div class=\"sk-item\"><div class=\"sk-serial\"><div class=\"sk-item\"><div class=\"sk-estimator sk-toggleable\"><input class=\"sk-toggleable__control sk-hidden--visually\" id=\"35498bec-478e-4a77-8676-6c1f502316a5\" type=\"checkbox\" ><label class=\"sk-toggleable__label\" for=\"35498bec-478e-4a77-8676-6c1f502316a5\">SimpleImputer</label><div class=\"sk-toggleable__content\"><pre>SimpleImputer(add_indicator=True, fill_value='missing',\n",
       "              strategy='most_frequent')</pre></div></div></div><div class=\"sk-item\"><div class=\"sk-estimator sk-toggleable\"><input class=\"sk-toggleable__control sk-hidden--visually\" id=\"0f53a165-4717-4b25-8619-db5043cee387\" type=\"checkbox\" ><label class=\"sk-toggleable__label\" for=\"0f53a165-4717-4b25-8619-db5043cee387\">WOEEncoder</label><div class=\"sk-toggleable__content\"><pre>WOEEncoder()</pre></div></div></div></div></div></div></div></div></div></div></div></div>"
      ],
      "text/plain": [
       "ColumnTransformer(transformers=[('numerical',\n",
       "                                 Pipeline(steps=[('imputer',\n",
       "                                                  SimpleImputer(add_indicator=True,\n",
       "                                                                strategy='median')),\n",
       "                                                 ('scaler', PowerTransformer()),\n",
       "                                                 ('polynominal_features',\n",
       "                                                  PolynomialFeatures()),\n",
       "                                                 ('kmeans',\n",
       "                                                  MiniKmeansTransformerEncoder())]),\n",
       "                                 Index(['RevolvingUtilizationOfUnsecuredLines', 'DebtRatio', 'MonthlyIncome',\n",
       "       'NumberOfDependents', 'NumberOfT...\n",
       "                                                 ('encoder', WOEEncoder())]),\n",
       "                                 Index(['cat_RevolvingUtilizationOfUnsecuredLines', 'cat_DebtRatio',\n",
       "       'cat_MonthlyIncome', 'cat_NumberOfDependents',\n",
       "       'cat_NumberOfTime60-89DaysPastDueNotWorse',\n",
       "       'cat_NumberRealEstateLoansOrLines', 'cat_NumberOfTimes90DaysLate',\n",
       "       'cat_NumberOfOpenCreditLinesAndLoans',\n",
       "       'cat_NumberOfTime30-59DaysPastDueNotWorse', 'cat_age'],\n",
       "      dtype='object'))])"
      ]
     },
     "execution_count": 22,
     "metadata": {},
     "output_type": "execute_result"
    }
   ],
   "source": [
    "preprocessor_woe_powertransformer"
   ]
  },
  {
   "cell_type": "markdown",
   "id": "99676582",
   "metadata": {
    "papermill": {
     "duration": 0.046515,
     "end_time": "2021-12-28T15:53:38.519915",
     "exception": false,
     "start_time": "2021-12-28T15:53:38.473400",
     "status": "completed"
    },
    "tags": []
   },
   "source": [
    "# Modeling\n",
    "Modeling is the part of the Cross-Industry Standard Process for Data Mining (CRISP-DM) process model that i like best. Our data is already in good shape, and now we can search for useful patterns in our data.\n",
    "\n",
    "Tasks\n",
    "\n",
    "    Select modeling technique Select technique\n",
    "\n",
    "    Generate test design\n",
    "\n",
    "    Build model\n",
    "\n",
    "    Assess model\n",
    "\n",
    "Define CrossValidation Strategie :\n",
    "\n",
    "                skf = StratifiedKFold(n_splits=FOLDS, \n",
    "                shuffle=True, \n",
    "                random_state=SEED)\n",
    "\n",
    "We will use StratifiedCV in order to keep track of our imblanced data .\n",
    "\n",
    "\n",
    "\n",
    "## Chose Best model\n",
    "\n",
    "We can combine CV and hyper param tuning like this :\n",
    "\n",
    "    RF_MODEL = {}\n",
    "    # Définir la pipe\n",
    "    RF_MODEL['pipeline']=Pipeline([\n",
    "                                   ('data_cleaning', data_cleaning),\n",
    "                                   ('rf', RandomForest(random_state=7))])\n",
    "    # Définir la grille d'hyperparams\n",
    "    RF_MODEL['hyperparams'] = {}\n",
    "    RF_MODEL['hyperparams']['rf__n_estimators'] = [10, 30, 50, 100, 150]\n",
    "    RF_MODEL['hyperparams']['rf__max_features'] = [None, 'sqrt', 'log2', .1, .25, .50, .75, .85]\n",
    "    RF_MODEL['hyperparams']['rf__max_depth'] = [None, 4, 7, 10, 20]\n",
    "    # Recherche d'HP\n",
    "    RF_MODEL['gridsearch'] = GridSearchCV(\n",
    "        estimator=RF_MODEL['pipeline'],\n",
    "        param_grid=RF_MODEL['hyperparams'],\n",
    "        scoring='accuracy',\n",
    "        cv=cross_validation_design\n",
    "    )\n",
    "    RF_MODEL['gridsearch'].fit(X, Y)\n",
    "\n",
    "\n",
    "But this is so computing expensive.\n",
    "\n",
    "For this reason i used optuna to tune param and CV separatly .\n",
    "\n",
    "## List of models tuned for pipe2:\n",
    "**1-HGBC:**"
   ]
  },
  {
   "cell_type": "code",
   "execution_count": 23,
   "id": "802c95b6",
   "metadata": {
    "execution": {
     "iopub.execute_input": "2021-12-28T15:53:38.644508Z",
     "iopub.status.busy": "2021-12-28T15:53:38.639363Z",
     "iopub.status.idle": "2021-12-28T15:53:39.230308Z",
     "shell.execute_reply": "2021-12-28T15:53:39.229748Z"
    },
    "papermill": {
     "duration": 0.664793,
     "end_time": "2021-12-28T15:53:39.230445",
     "exception": false,
     "start_time": "2021-12-28T15:53:38.565652",
     "status": "completed"
    },
    "tags": []
   },
   "outputs": [
    {
     "data": {
      "text/html": [
       "<style>div.sk-top-container {color: black;background-color: white;}div.sk-toggleable {background-color: white;}label.sk-toggleable__label {cursor: pointer;display: block;width: 100%;margin-bottom: 0;padding: 0.2em 0.3em;box-sizing: border-box;text-align: center;}div.sk-toggleable__content {max-height: 0;max-width: 0;overflow: hidden;text-align: left;background-color: #f0f8ff;}div.sk-toggleable__content pre {margin: 0.2em;color: black;border-radius: 0.25em;background-color: #f0f8ff;}input.sk-toggleable__control:checked~div.sk-toggleable__content {max-height: 200px;max-width: 100%;overflow: auto;}div.sk-estimator input.sk-toggleable__control:checked~label.sk-toggleable__label {background-color: #d4ebff;}div.sk-label input.sk-toggleable__control:checked~label.sk-toggleable__label {background-color: #d4ebff;}input.sk-hidden--visually {border: 0;clip: rect(1px 1px 1px 1px);clip: rect(1px, 1px, 1px, 1px);height: 1px;margin: -1px;overflow: hidden;padding: 0;position: absolute;width: 1px;}div.sk-estimator {font-family: monospace;background-color: #f0f8ff;margin: 0.25em 0.25em;border: 1px dotted black;border-radius: 0.25em;box-sizing: border-box;}div.sk-estimator:hover {background-color: #d4ebff;}div.sk-parallel-item::after {content: \"\";width: 100%;border-bottom: 1px solid gray;flex-grow: 1;}div.sk-label:hover label.sk-toggleable__label {background-color: #d4ebff;}div.sk-serial::before {content: \"\";position: absolute;border-left: 1px solid gray;box-sizing: border-box;top: 2em;bottom: 0;left: 50%;}div.sk-serial {display: flex;flex-direction: column;align-items: center;background-color: white;}div.sk-item {z-index: 1;}div.sk-parallel {display: flex;align-items: stretch;justify-content: center;background-color: white;}div.sk-parallel-item {display: flex;flex-direction: column;position: relative;background-color: white;}div.sk-parallel-item:first-child::after {align-self: flex-end;width: 50%;}div.sk-parallel-item:last-child::after {align-self: flex-start;width: 50%;}div.sk-parallel-item:only-child::after {width: 0;}div.sk-dashed-wrapped {border: 1px dashed gray;margin: 0.2em;box-sizing: border-box;padding-bottom: 0.1em;background-color: white;position: relative;}div.sk-label label {font-family: monospace;font-weight: bold;background-color: white;display: inline-block;line-height: 1.2em;}div.sk-label-container {position: relative;z-index: 2;text-align: center;}div.sk-container {display: inline-block;position: relative;}</style><div class=\"sk-top-container\"><div class=\"sk-container\"><div class=\"sk-item sk-dashed-wrapped\"><div class=\"sk-label-container\"><div class=\"sk-label sk-toggleable\"><input class=\"sk-toggleable__control sk-hidden--visually\" id=\"f3797440-416f-4923-8aeb-487f210d9534\" type=\"checkbox\" ><label class=\"sk-toggleable__label\" for=\"f3797440-416f-4923-8aeb-487f210d9534\">Pipeline</label><div class=\"sk-toggleable__content\"><pre>Pipeline(steps=[('preprocessor',\n",
       "                 ColumnTransformer(transformers=[('numerical',\n",
       "                                                  Pipeline(steps=[('imputer',\n",
       "                                                                   SimpleImputer(add_indicator=True,\n",
       "                                                                                 strategy='median')),\n",
       "                                                                  ('scaler',\n",
       "                                                                   PowerTransformer()),\n",
       "                                                                  ('polynominal_features',\n",
       "                                                                   PolynomialFeatures()),\n",
       "                                                                  ('kmeans',\n",
       "                                                                   MiniKmeansTransformerEncoder())]),\n",
       "                                                  Index(['RevolvingUtilizationOfUnsecuredLines', 'DebtRatio', 'MonthlyIncome'...\n",
       "       'cat_NumberRealEstateLoansOrLines', 'cat_NumberOfTimes90DaysLate',\n",
       "       'cat_NumberOfOpenCreditLinesAndLoans',\n",
       "       'cat_NumberOfTime30-59DaysPastDueNotWorse', 'cat_age'],\n",
       "      dtype='object'))])),\n",
       "                ('classifier',\n",
       "                 HistGradientBoostingClassifier(early_stopping='False',\n",
       "                                                l2_regularization=2.940296779699346e-10,\n",
       "                                                learning_rate=0.015318591316397998,\n",
       "                                                max_bins=137, max_depth=19,\n",
       "                                                max_iter=1537,\n",
       "                                                max_leaf_nodes=23,\n",
       "                                                min_samples_leaf=140))])</pre></div></div></div><div class=\"sk-serial\"><div class=\"sk-item sk-dashed-wrapped\"><div class=\"sk-label-container\"><div class=\"sk-label sk-toggleable\"><input class=\"sk-toggleable__control sk-hidden--visually\" id=\"17b0b01a-3da3-46d1-aa9f-b882782804c3\" type=\"checkbox\" ><label class=\"sk-toggleable__label\" for=\"17b0b01a-3da3-46d1-aa9f-b882782804c3\">preprocessor: ColumnTransformer</label><div class=\"sk-toggleable__content\"><pre>ColumnTransformer(transformers=[('numerical',\n",
       "                                 Pipeline(steps=[('imputer',\n",
       "                                                  SimpleImputer(add_indicator=True,\n",
       "                                                                strategy='median')),\n",
       "                                                 ('scaler', PowerTransformer()),\n",
       "                                                 ('polynominal_features',\n",
       "                                                  PolynomialFeatures()),\n",
       "                                                 ('kmeans',\n",
       "                                                  MiniKmeansTransformerEncoder())]),\n",
       "                                 Index(['RevolvingUtilizationOfUnsecuredLines', 'DebtRatio', 'MonthlyIncome',\n",
       "       'NumberOfDependents', 'NumberOfT...\n",
       "                                                 ('encoder', WOEEncoder())]),\n",
       "                                 Index(['cat_RevolvingUtilizationOfUnsecuredLines', 'cat_DebtRatio',\n",
       "       'cat_MonthlyIncome', 'cat_NumberOfDependents',\n",
       "       'cat_NumberOfTime60-89DaysPastDueNotWorse',\n",
       "       'cat_NumberRealEstateLoansOrLines', 'cat_NumberOfTimes90DaysLate',\n",
       "       'cat_NumberOfOpenCreditLinesAndLoans',\n",
       "       'cat_NumberOfTime30-59DaysPastDueNotWorse', 'cat_age'],\n",
       "      dtype='object'))])</pre></div></div></div><div class=\"sk-parallel\"><div class=\"sk-parallel-item\"><div class=\"sk-item\"><div class=\"sk-label-container\"><div class=\"sk-label sk-toggleable\"><input class=\"sk-toggleable__control sk-hidden--visually\" id=\"b3b69f74-29d5-4203-8d99-71b0a273456d\" type=\"checkbox\" ><label class=\"sk-toggleable__label\" for=\"b3b69f74-29d5-4203-8d99-71b0a273456d\">numerical</label><div class=\"sk-toggleable__content\"><pre>Index(['RevolvingUtilizationOfUnsecuredLines', 'DebtRatio', 'MonthlyIncome',\n",
       "       'NumberOfDependents', 'NumberOfTime60-89DaysPastDueNotWorse',\n",
       "       'NumberRealEstateLoansOrLines', 'NumberOfTimes90DaysLate',\n",
       "       'NumberOfOpenCreditLinesAndLoans',\n",
       "       'NumberOfTime30-59DaysPastDueNotWorse', 'age'],\n",
       "      dtype='object')</pre></div></div></div><div class=\"sk-serial\"><div class=\"sk-item\"><div class=\"sk-serial\"><div class=\"sk-item\"><div class=\"sk-estimator sk-toggleable\"><input class=\"sk-toggleable__control sk-hidden--visually\" id=\"659e3169-6995-4f9c-9567-f620d62ec62a\" type=\"checkbox\" ><label class=\"sk-toggleable__label\" for=\"659e3169-6995-4f9c-9567-f620d62ec62a\">SimpleImputer</label><div class=\"sk-toggleable__content\"><pre>SimpleImputer(add_indicator=True, strategy='median')</pre></div></div></div><div class=\"sk-item\"><div class=\"sk-estimator sk-toggleable\"><input class=\"sk-toggleable__control sk-hidden--visually\" id=\"e959d237-6c66-4ab0-9444-d31176f08f30\" type=\"checkbox\" ><label class=\"sk-toggleable__label\" for=\"e959d237-6c66-4ab0-9444-d31176f08f30\">PowerTransformer</label><div class=\"sk-toggleable__content\"><pre>PowerTransformer()</pre></div></div></div><div class=\"sk-item\"><div class=\"sk-estimator sk-toggleable\"><input class=\"sk-toggleable__control sk-hidden--visually\" id=\"07ed789e-5795-4413-9612-5509f91bb80b\" type=\"checkbox\" ><label class=\"sk-toggleable__label\" for=\"07ed789e-5795-4413-9612-5509f91bb80b\">PolynomialFeatures</label><div class=\"sk-toggleable__content\"><pre>PolynomialFeatures()</pre></div></div></div><div class=\"sk-item sk-dashed-wrapped\"><div class=\"sk-label-container\"><div class=\"sk-label sk-toggleable\"><input class=\"sk-toggleable__control sk-hidden--visually\" id=\"f9c99ee9-3c3e-4510-859b-953d991ce217\" type=\"checkbox\" ><label class=\"sk-toggleable__label\" for=\"f9c99ee9-3c3e-4510-859b-953d991ce217\">kmeans: MiniKmeansTransformerEncoder</label><div class=\"sk-toggleable__content\"><pre>MiniKmeansTransformerEncoder()</pre></div></div></div><div class=\"sk-parallel\"><div class=\"sk-parallel-item\"><div class=\"sk-item\"><div class=\"sk-serial\"><div class=\"sk-item\"><div class=\"sk-estimator sk-toggleable\"><input class=\"sk-toggleable__control sk-hidden--visually\" id=\"0a14abf3-f1dc-4df9-bbf6-77e5555e9806\" type=\"checkbox\" ><label class=\"sk-toggleable__label\" for=\"0a14abf3-f1dc-4df9-bbf6-77e5555e9806\">WOEEncoder</label><div class=\"sk-toggleable__content\"><pre>WOEEncoder()</pre></div></div></div></div></div></div></div></div></div></div></div></div></div><div class=\"sk-parallel-item\"><div class=\"sk-item\"><div class=\"sk-label-container\"><div class=\"sk-label sk-toggleable\"><input class=\"sk-toggleable__control sk-hidden--visually\" id=\"530b6e8c-6e0d-4a96-988a-daf45db26c17\" type=\"checkbox\" ><label class=\"sk-toggleable__label\" for=\"530b6e8c-6e0d-4a96-988a-daf45db26c17\">categorical</label><div class=\"sk-toggleable__content\"><pre>Index(['cat_RevolvingUtilizationOfUnsecuredLines', 'cat_DebtRatio',\n",
       "       'cat_MonthlyIncome', 'cat_NumberOfDependents',\n",
       "       'cat_NumberOfTime60-89DaysPastDueNotWorse',\n",
       "       'cat_NumberRealEstateLoansOrLines', 'cat_NumberOfTimes90DaysLate',\n",
       "       'cat_NumberOfOpenCreditLinesAndLoans',\n",
       "       'cat_NumberOfTime30-59DaysPastDueNotWorse', 'cat_age'],\n",
       "      dtype='object')</pre></div></div></div><div class=\"sk-serial\"><div class=\"sk-item\"><div class=\"sk-serial\"><div class=\"sk-item\"><div class=\"sk-estimator sk-toggleable\"><input class=\"sk-toggleable__control sk-hidden--visually\" id=\"68f19a0c-cb18-4c0f-8d4a-da31fc40a282\" type=\"checkbox\" ><label class=\"sk-toggleable__label\" for=\"68f19a0c-cb18-4c0f-8d4a-da31fc40a282\">SimpleImputer</label><div class=\"sk-toggleable__content\"><pre>SimpleImputer(add_indicator=True, fill_value='missing',\n",
       "              strategy='most_frequent')</pre></div></div></div><div class=\"sk-item\"><div class=\"sk-estimator sk-toggleable\"><input class=\"sk-toggleable__control sk-hidden--visually\" id=\"6d7dd4e6-b69e-4d59-afab-22d7bf079cc1\" type=\"checkbox\" ><label class=\"sk-toggleable__label\" for=\"6d7dd4e6-b69e-4d59-afab-22d7bf079cc1\">WOEEncoder</label><div class=\"sk-toggleable__content\"><pre>WOEEncoder()</pre></div></div></div></div></div></div></div></div></div></div><div class=\"sk-item\"><div class=\"sk-estimator sk-toggleable\"><input class=\"sk-toggleable__control sk-hidden--visually\" id=\"81ffebe8-bb09-4bfa-8460-cd0b9e125753\" type=\"checkbox\" ><label class=\"sk-toggleable__label\" for=\"81ffebe8-bb09-4bfa-8460-cd0b9e125753\">HistGradientBoostingClassifier</label><div class=\"sk-toggleable__content\"><pre>HistGradientBoostingClassifier(early_stopping='False',\n",
       "                               l2_regularization=2.940296779699346e-10,\n",
       "                               learning_rate=0.015318591316397998, max_bins=137,\n",
       "                               max_depth=19, max_iter=1537, max_leaf_nodes=23,\n",
       "                               min_samples_leaf=140)</pre></div></div></div></div></div></div></div>"
      ],
      "text/plain": [
       "Pipeline(steps=[('preprocessor',\n",
       "                 ColumnTransformer(transformers=[('numerical',\n",
       "                                                  Pipeline(steps=[('imputer',\n",
       "                                                                   SimpleImputer(add_indicator=True,\n",
       "                                                                                 strategy='median')),\n",
       "                                                                  ('scaler',\n",
       "                                                                   PowerTransformer()),\n",
       "                                                                  ('polynominal_features',\n",
       "                                                                   PolynomialFeatures()),\n",
       "                                                                  ('kmeans',\n",
       "                                                                   MiniKmeansTransformerEncoder())]),\n",
       "                                                  Index(['RevolvingUtilizationOfUnsecuredLines', 'DebtRatio', 'MonthlyIncome'...\n",
       "       'cat_NumberRealEstateLoansOrLines', 'cat_NumberOfTimes90DaysLate',\n",
       "       'cat_NumberOfOpenCreditLinesAndLoans',\n",
       "       'cat_NumberOfTime30-59DaysPastDueNotWorse', 'cat_age'],\n",
       "      dtype='object'))])),\n",
       "                ('classifier',\n",
       "                 HistGradientBoostingClassifier(early_stopping='False',\n",
       "                                                l2_regularization=2.940296779699346e-10,\n",
       "                                                learning_rate=0.015318591316397998,\n",
       "                                                max_bins=137, max_depth=19,\n",
       "                                                max_iter=1537,\n",
       "                                                max_leaf_nodes=23,\n",
       "                                                min_samples_leaf=140))])"
      ]
     },
     "execution_count": 23,
     "metadata": {},
     "output_type": "execute_result"
    }
   ],
   "source": [
    "params_hgbc = {'l2_regularization': 2.940296779699346e-10, \n",
    "         'early_stopping': 'False',\n",
    "         'learning_rate': 0.015318591316397998, \n",
    "         'max_iter': 1537, \n",
    "         'max_depth': 19, \n",
    "         'max_bins': 137, \n",
    "         'min_samples_leaf': 140,\n",
    "         'max_leaf_nodes': 23}\n",
    "model_hgbc = HistGradientBoostingClassifier(**params_hgbc)\n",
    "pipe1_model_hgbc_woe_powertransformer = Pipeline(\n",
    "    steps=[\n",
    "        ('preprocessor', preprocessor_woe_powertransformer),\n",
    "       #  ('reducedim',  SelectPercentile( f_classif, percentile=95)),\n",
    "        #('dim_red', SelectKBest(f_regression, k=20)),\n",
    "        #('Sparseinteractions', SparseInteractions(degree=2)),\n",
    "        #('PolynomialFeatures', PolynomialFeatures(degree=2)),\n",
    "        #('PCAreducer', PCA(n_components=0.8)),\n",
    "        ('classifier',model_hgbc)\n",
    "    ]\n",
    ")\n",
    "pipe1_model_hgbc_woe_powertransformer"
   ]
  },
  {
   "cell_type": "markdown",
   "id": "9590fe30",
   "metadata": {
    "papermill": {
     "duration": 0.045513,
     "end_time": "2021-12-28T15:53:39.321996",
     "exception": false,
     "start_time": "2021-12-28T15:53:39.276483",
     "status": "completed"
    },
    "tags": []
   },
   "source": [
    "**2-CatBoost**"
   ]
  },
  {
   "cell_type": "code",
   "execution_count": 24,
   "id": "667a9558",
   "metadata": {
    "execution": {
     "iopub.execute_input": "2021-12-28T15:53:39.426358Z",
     "iopub.status.busy": "2021-12-28T15:53:39.425654Z",
     "iopub.status.idle": "2021-12-28T15:53:40.021634Z",
     "shell.execute_reply": "2021-12-28T15:53:40.020980Z"
    },
    "papermill": {
     "duration": 0.654074,
     "end_time": "2021-12-28T15:53:40.021767",
     "exception": false,
     "start_time": "2021-12-28T15:53:39.367693",
     "status": "completed"
    },
    "tags": []
   },
   "outputs": [
    {
     "data": {
      "text/html": [
       "<style>div.sk-top-container {color: black;background-color: white;}div.sk-toggleable {background-color: white;}label.sk-toggleable__label {cursor: pointer;display: block;width: 100%;margin-bottom: 0;padding: 0.2em 0.3em;box-sizing: border-box;text-align: center;}div.sk-toggleable__content {max-height: 0;max-width: 0;overflow: hidden;text-align: left;background-color: #f0f8ff;}div.sk-toggleable__content pre {margin: 0.2em;color: black;border-radius: 0.25em;background-color: #f0f8ff;}input.sk-toggleable__control:checked~div.sk-toggleable__content {max-height: 200px;max-width: 100%;overflow: auto;}div.sk-estimator input.sk-toggleable__control:checked~label.sk-toggleable__label {background-color: #d4ebff;}div.sk-label input.sk-toggleable__control:checked~label.sk-toggleable__label {background-color: #d4ebff;}input.sk-hidden--visually {border: 0;clip: rect(1px 1px 1px 1px);clip: rect(1px, 1px, 1px, 1px);height: 1px;margin: -1px;overflow: hidden;padding: 0;position: absolute;width: 1px;}div.sk-estimator {font-family: monospace;background-color: #f0f8ff;margin: 0.25em 0.25em;border: 1px dotted black;border-radius: 0.25em;box-sizing: border-box;}div.sk-estimator:hover {background-color: #d4ebff;}div.sk-parallel-item::after {content: \"\";width: 100%;border-bottom: 1px solid gray;flex-grow: 1;}div.sk-label:hover label.sk-toggleable__label {background-color: #d4ebff;}div.sk-serial::before {content: \"\";position: absolute;border-left: 1px solid gray;box-sizing: border-box;top: 2em;bottom: 0;left: 50%;}div.sk-serial {display: flex;flex-direction: column;align-items: center;background-color: white;}div.sk-item {z-index: 1;}div.sk-parallel {display: flex;align-items: stretch;justify-content: center;background-color: white;}div.sk-parallel-item {display: flex;flex-direction: column;position: relative;background-color: white;}div.sk-parallel-item:first-child::after {align-self: flex-end;width: 50%;}div.sk-parallel-item:last-child::after {align-self: flex-start;width: 50%;}div.sk-parallel-item:only-child::after {width: 0;}div.sk-dashed-wrapped {border: 1px dashed gray;margin: 0.2em;box-sizing: border-box;padding-bottom: 0.1em;background-color: white;position: relative;}div.sk-label label {font-family: monospace;font-weight: bold;background-color: white;display: inline-block;line-height: 1.2em;}div.sk-label-container {position: relative;z-index: 2;text-align: center;}div.sk-container {display: inline-block;position: relative;}</style><div class=\"sk-top-container\"><div class=\"sk-container\"><div class=\"sk-item sk-dashed-wrapped\"><div class=\"sk-label-container\"><div class=\"sk-label sk-toggleable\"><input class=\"sk-toggleable__control sk-hidden--visually\" id=\"d59e265b-36e7-4169-b067-894b87942c91\" type=\"checkbox\" ><label class=\"sk-toggleable__label\" for=\"d59e265b-36e7-4169-b067-894b87942c91\">Pipeline</label><div class=\"sk-toggleable__content\"><pre>Pipeline(steps=[('preprocessor',\n",
       "                 ColumnTransformer(transformers=[('numerical',\n",
       "                                                  Pipeline(steps=[('imputer',\n",
       "                                                                   SimpleImputer(add_indicator=True,\n",
       "                                                                                 strategy='median')),\n",
       "                                                                  ('scaler',\n",
       "                                                                   PowerTransformer()),\n",
       "                                                                  ('polynominal_features',\n",
       "                                                                   PolynomialFeatures()),\n",
       "                                                                  ('kmeans',\n",
       "                                                                   MiniKmeansTransformerEncoder())]),\n",
       "                                                  Index(['RevolvingUtilizationOfUnsecuredLines', 'DebtRatio', 'MonthlyIncome'...\n",
       "       'cat_MonthlyIncome', 'cat_NumberOfDependents',\n",
       "       'cat_NumberOfTime60-89DaysPastDueNotWorse',\n",
       "       'cat_NumberRealEstateLoansOrLines', 'cat_NumberOfTimes90DaysLate',\n",
       "       'cat_NumberOfOpenCreditLinesAndLoans',\n",
       "       'cat_NumberOfTime30-59DaysPastDueNotWorse', 'cat_age'],\n",
       "      dtype='object'))])),\n",
       "                ('reducedim', SelectPercentile(percentile=60)),\n",
       "                ('classifier',\n",
       "                 <catboost.core.CatBoostClassifier object at 0x7f8813ca9650>)])</pre></div></div></div><div class=\"sk-serial\"><div class=\"sk-item sk-dashed-wrapped\"><div class=\"sk-label-container\"><div class=\"sk-label sk-toggleable\"><input class=\"sk-toggleable__control sk-hidden--visually\" id=\"8f69f4ce-6d29-4636-a551-68021116d757\" type=\"checkbox\" ><label class=\"sk-toggleable__label\" for=\"8f69f4ce-6d29-4636-a551-68021116d757\">preprocessor: ColumnTransformer</label><div class=\"sk-toggleable__content\"><pre>ColumnTransformer(transformers=[('numerical',\n",
       "                                 Pipeline(steps=[('imputer',\n",
       "                                                  SimpleImputer(add_indicator=True,\n",
       "                                                                strategy='median')),\n",
       "                                                 ('scaler', PowerTransformer()),\n",
       "                                                 ('polynominal_features',\n",
       "                                                  PolynomialFeatures()),\n",
       "                                                 ('kmeans',\n",
       "                                                  MiniKmeansTransformerEncoder())]),\n",
       "                                 Index(['RevolvingUtilizationOfUnsecuredLines', 'DebtRatio', 'MonthlyIncome',\n",
       "       'NumberOfDependents', 'NumberOfT...\n",
       "                                                 ('encoder', WOEEncoder())]),\n",
       "                                 Index(['cat_RevolvingUtilizationOfUnsecuredLines', 'cat_DebtRatio',\n",
       "       'cat_MonthlyIncome', 'cat_NumberOfDependents',\n",
       "       'cat_NumberOfTime60-89DaysPastDueNotWorse',\n",
       "       'cat_NumberRealEstateLoansOrLines', 'cat_NumberOfTimes90DaysLate',\n",
       "       'cat_NumberOfOpenCreditLinesAndLoans',\n",
       "       'cat_NumberOfTime30-59DaysPastDueNotWorse', 'cat_age'],\n",
       "      dtype='object'))])</pre></div></div></div><div class=\"sk-parallel\"><div class=\"sk-parallel-item\"><div class=\"sk-item\"><div class=\"sk-label-container\"><div class=\"sk-label sk-toggleable\"><input class=\"sk-toggleable__control sk-hidden--visually\" id=\"5f320043-a43e-43ae-8a72-44850194a36e\" type=\"checkbox\" ><label class=\"sk-toggleable__label\" for=\"5f320043-a43e-43ae-8a72-44850194a36e\">numerical</label><div class=\"sk-toggleable__content\"><pre>Index(['RevolvingUtilizationOfUnsecuredLines', 'DebtRatio', 'MonthlyIncome',\n",
       "       'NumberOfDependents', 'NumberOfTime60-89DaysPastDueNotWorse',\n",
       "       'NumberRealEstateLoansOrLines', 'NumberOfTimes90DaysLate',\n",
       "       'NumberOfOpenCreditLinesAndLoans',\n",
       "       'NumberOfTime30-59DaysPastDueNotWorse', 'age'],\n",
       "      dtype='object')</pre></div></div></div><div class=\"sk-serial\"><div class=\"sk-item\"><div class=\"sk-serial\"><div class=\"sk-item\"><div class=\"sk-estimator sk-toggleable\"><input class=\"sk-toggleable__control sk-hidden--visually\" id=\"0543de24-57c8-43f5-9b07-46ba2284c3d4\" type=\"checkbox\" ><label class=\"sk-toggleable__label\" for=\"0543de24-57c8-43f5-9b07-46ba2284c3d4\">SimpleImputer</label><div class=\"sk-toggleable__content\"><pre>SimpleImputer(add_indicator=True, strategy='median')</pre></div></div></div><div class=\"sk-item\"><div class=\"sk-estimator sk-toggleable\"><input class=\"sk-toggleable__control sk-hidden--visually\" id=\"e023fcaa-d306-4f34-89b2-c7aafc5f54b7\" type=\"checkbox\" ><label class=\"sk-toggleable__label\" for=\"e023fcaa-d306-4f34-89b2-c7aafc5f54b7\">PowerTransformer</label><div class=\"sk-toggleable__content\"><pre>PowerTransformer()</pre></div></div></div><div class=\"sk-item\"><div class=\"sk-estimator sk-toggleable\"><input class=\"sk-toggleable__control sk-hidden--visually\" id=\"4e81d626-4d87-45b8-8728-97f58217aef2\" type=\"checkbox\" ><label class=\"sk-toggleable__label\" for=\"4e81d626-4d87-45b8-8728-97f58217aef2\">PolynomialFeatures</label><div class=\"sk-toggleable__content\"><pre>PolynomialFeatures()</pre></div></div></div><div class=\"sk-item sk-dashed-wrapped\"><div class=\"sk-label-container\"><div class=\"sk-label sk-toggleable\"><input class=\"sk-toggleable__control sk-hidden--visually\" id=\"ce598301-3b78-4dd2-8c64-74e243362d89\" type=\"checkbox\" ><label class=\"sk-toggleable__label\" for=\"ce598301-3b78-4dd2-8c64-74e243362d89\">kmeans: MiniKmeansTransformerEncoder</label><div class=\"sk-toggleable__content\"><pre>MiniKmeansTransformerEncoder()</pre></div></div></div><div class=\"sk-parallel\"><div class=\"sk-parallel-item\"><div class=\"sk-item\"><div class=\"sk-serial\"><div class=\"sk-item\"><div class=\"sk-estimator sk-toggleable\"><input class=\"sk-toggleable__control sk-hidden--visually\" id=\"72450f59-6270-4f79-853d-3e23bf993dec\" type=\"checkbox\" ><label class=\"sk-toggleable__label\" for=\"72450f59-6270-4f79-853d-3e23bf993dec\">WOEEncoder</label><div class=\"sk-toggleable__content\"><pre>WOEEncoder()</pre></div></div></div></div></div></div></div></div></div></div></div></div></div><div class=\"sk-parallel-item\"><div class=\"sk-item\"><div class=\"sk-label-container\"><div class=\"sk-label sk-toggleable\"><input class=\"sk-toggleable__control sk-hidden--visually\" id=\"c7ccf38f-9ea7-4275-9b86-85c4b913f35e\" type=\"checkbox\" ><label class=\"sk-toggleable__label\" for=\"c7ccf38f-9ea7-4275-9b86-85c4b913f35e\">categorical</label><div class=\"sk-toggleable__content\"><pre>Index(['cat_RevolvingUtilizationOfUnsecuredLines', 'cat_DebtRatio',\n",
       "       'cat_MonthlyIncome', 'cat_NumberOfDependents',\n",
       "       'cat_NumberOfTime60-89DaysPastDueNotWorse',\n",
       "       'cat_NumberRealEstateLoansOrLines', 'cat_NumberOfTimes90DaysLate',\n",
       "       'cat_NumberOfOpenCreditLinesAndLoans',\n",
       "       'cat_NumberOfTime30-59DaysPastDueNotWorse', 'cat_age'],\n",
       "      dtype='object')</pre></div></div></div><div class=\"sk-serial\"><div class=\"sk-item\"><div class=\"sk-serial\"><div class=\"sk-item\"><div class=\"sk-estimator sk-toggleable\"><input class=\"sk-toggleable__control sk-hidden--visually\" id=\"a389512e-79f6-4f49-8a54-646336a94487\" type=\"checkbox\" ><label class=\"sk-toggleable__label\" for=\"a389512e-79f6-4f49-8a54-646336a94487\">SimpleImputer</label><div class=\"sk-toggleable__content\"><pre>SimpleImputer(add_indicator=True, fill_value='missing',\n",
       "              strategy='most_frequent')</pre></div></div></div><div class=\"sk-item\"><div class=\"sk-estimator sk-toggleable\"><input class=\"sk-toggleable__control sk-hidden--visually\" id=\"d0b48200-0f55-4eea-a407-daa03fcec138\" type=\"checkbox\" ><label class=\"sk-toggleable__label\" for=\"d0b48200-0f55-4eea-a407-daa03fcec138\">WOEEncoder</label><div class=\"sk-toggleable__content\"><pre>WOEEncoder()</pre></div></div></div></div></div></div></div></div></div></div><div class=\"sk-item\"><div class=\"sk-estimator sk-toggleable\"><input class=\"sk-toggleable__control sk-hidden--visually\" id=\"98a43a56-d68e-4d8b-8b95-cf6c05dd5137\" type=\"checkbox\" ><label class=\"sk-toggleable__label\" for=\"98a43a56-d68e-4d8b-8b95-cf6c05dd5137\">SelectPercentile</label><div class=\"sk-toggleable__content\"><pre>SelectPercentile(percentile=60)</pre></div></div></div><div class=\"sk-item\"><div class=\"sk-estimator sk-toggleable\"><input class=\"sk-toggleable__control sk-hidden--visually\" id=\"80e2bd3c-eff6-4260-a198-34a01f23c9f0\" type=\"checkbox\" ><label class=\"sk-toggleable__label\" for=\"80e2bd3c-eff6-4260-a198-34a01f23c9f0\">CatBoostClassifier</label><div class=\"sk-toggleable__content\"><pre><catboost.core.CatBoostClassifier object at 0x7f8813ca9650></pre></div></div></div></div></div></div></div>"
      ],
      "text/plain": [
       "Pipeline(steps=[('preprocessor',\n",
       "                 ColumnTransformer(transformers=[('numerical',\n",
       "                                                  Pipeline(steps=[('imputer',\n",
       "                                                                   SimpleImputer(add_indicator=True,\n",
       "                                                                                 strategy='median')),\n",
       "                                                                  ('scaler',\n",
       "                                                                   PowerTransformer()),\n",
       "                                                                  ('polynominal_features',\n",
       "                                                                   PolynomialFeatures()),\n",
       "                                                                  ('kmeans',\n",
       "                                                                   MiniKmeansTransformerEncoder())]),\n",
       "                                                  Index(['RevolvingUtilizationOfUnsecuredLines', 'DebtRatio', 'MonthlyIncome'...\n",
       "       'cat_MonthlyIncome', 'cat_NumberOfDependents',\n",
       "       'cat_NumberOfTime60-89DaysPastDueNotWorse',\n",
       "       'cat_NumberRealEstateLoansOrLines', 'cat_NumberOfTimes90DaysLate',\n",
       "       'cat_NumberOfOpenCreditLinesAndLoans',\n",
       "       'cat_NumberOfTime30-59DaysPastDueNotWorse', 'cat_age'],\n",
       "      dtype='object'))])),\n",
       "                ('reducedim', SelectPercentile(percentile=60)),\n",
       "                ('classifier',\n",
       "                 <catboost.core.CatBoostClassifier object at 0x7f8813ca9650>)])"
      ]
     },
     "execution_count": 24,
     "metadata": {},
     "output_type": "execute_result"
    }
   ],
   "source": [
    "params_catboost = { \"random_state\": 42,\n",
    "                    \"loss_function\":\"Logloss\",\n",
    "                    \"eval_metric\":\"AUC\",\n",
    "                    #\"task_type\" : \"GPU\",\n",
    "                   'learning_rate': 0.03174251209279996,\n",
    "                   'iterations': 1957,\n",
    "                   'objective': 'CrossEntropy',\n",
    "                   'colsample_bylevel': 0.05457006237382004,\n",
    "                   'depth': 4,\n",
    "                   'boosting_type': 'Ordered',\n",
    "                   'bootstrap_type': 'MVS',\n",
    "                  'verbose':False}\n",
    "model_catboost = CatBoostClassifier(\n",
    "                              # use it  only on gpu\n",
    "                            # rsm=np.nan\n",
    "                              #cat_features=cat_features\n",
    "                             **params_catboost)\n",
    "pipe1_model_catboost_woe_powertransformer = Pipeline(\n",
    "    steps=[\n",
    "        ('preprocessor', preprocessor_woe_powertransformer),\n",
    "        ('reducedim',  SelectPercentile( f_classif, percentile=60)),\n",
    "        # ('dim_red', SelectKBest(f_regression, k=20)),\n",
    "        #('Sparseinteractions', SparseInteractions(degree=2)),\n",
    "         #('PolynomialFeatures', PolynomialFeatures(degree=2)),\n",
    "        #('PCAreducer', PCA(n_components=0.8)),\n",
    "        ('classifier',model_catboost)\n",
    "    ]\n",
    ")\n",
    "pipe1_model_catboost_woe_powertransformer"
   ]
  },
  {
   "cell_type": "markdown",
   "id": "91b6e6e5",
   "metadata": {
    "papermill": {
     "duration": 0.046253,
     "end_time": "2021-12-28T15:53:40.114983",
     "exception": false,
     "start_time": "2021-12-28T15:53:40.068730",
     "status": "completed"
    },
    "tags": []
   },
   "source": [
    "**-3 XGBR**"
   ]
  },
  {
   "cell_type": "code",
   "execution_count": 25,
   "id": "d14791af",
   "metadata": {
    "execution": {
     "iopub.execute_input": "2021-12-28T15:53:40.223174Z",
     "iopub.status.busy": "2021-12-28T15:53:40.217782Z",
     "iopub.status.idle": "2021-12-28T15:53:40.833749Z",
     "shell.execute_reply": "2021-12-28T15:53:40.834208Z"
    },
    "papermill": {
     "duration": 0.672073,
     "end_time": "2021-12-28T15:53:40.834406",
     "exception": false,
     "start_time": "2021-12-28T15:53:40.162333",
     "status": "completed"
    },
    "tags": []
   },
   "outputs": [
    {
     "data": {
      "text/html": [
       "<style>div.sk-top-container {color: black;background-color: white;}div.sk-toggleable {background-color: white;}label.sk-toggleable__label {cursor: pointer;display: block;width: 100%;margin-bottom: 0;padding: 0.2em 0.3em;box-sizing: border-box;text-align: center;}div.sk-toggleable__content {max-height: 0;max-width: 0;overflow: hidden;text-align: left;background-color: #f0f8ff;}div.sk-toggleable__content pre {margin: 0.2em;color: black;border-radius: 0.25em;background-color: #f0f8ff;}input.sk-toggleable__control:checked~div.sk-toggleable__content {max-height: 200px;max-width: 100%;overflow: auto;}div.sk-estimator input.sk-toggleable__control:checked~label.sk-toggleable__label {background-color: #d4ebff;}div.sk-label input.sk-toggleable__control:checked~label.sk-toggleable__label {background-color: #d4ebff;}input.sk-hidden--visually {border: 0;clip: rect(1px 1px 1px 1px);clip: rect(1px, 1px, 1px, 1px);height: 1px;margin: -1px;overflow: hidden;padding: 0;position: absolute;width: 1px;}div.sk-estimator {font-family: monospace;background-color: #f0f8ff;margin: 0.25em 0.25em;border: 1px dotted black;border-radius: 0.25em;box-sizing: border-box;}div.sk-estimator:hover {background-color: #d4ebff;}div.sk-parallel-item::after {content: \"\";width: 100%;border-bottom: 1px solid gray;flex-grow: 1;}div.sk-label:hover label.sk-toggleable__label {background-color: #d4ebff;}div.sk-serial::before {content: \"\";position: absolute;border-left: 1px solid gray;box-sizing: border-box;top: 2em;bottom: 0;left: 50%;}div.sk-serial {display: flex;flex-direction: column;align-items: center;background-color: white;}div.sk-item {z-index: 1;}div.sk-parallel {display: flex;align-items: stretch;justify-content: center;background-color: white;}div.sk-parallel-item {display: flex;flex-direction: column;position: relative;background-color: white;}div.sk-parallel-item:first-child::after {align-self: flex-end;width: 50%;}div.sk-parallel-item:last-child::after {align-self: flex-start;width: 50%;}div.sk-parallel-item:only-child::after {width: 0;}div.sk-dashed-wrapped {border: 1px dashed gray;margin: 0.2em;box-sizing: border-box;padding-bottom: 0.1em;background-color: white;position: relative;}div.sk-label label {font-family: monospace;font-weight: bold;background-color: white;display: inline-block;line-height: 1.2em;}div.sk-label-container {position: relative;z-index: 2;text-align: center;}div.sk-container {display: inline-block;position: relative;}</style><div class=\"sk-top-container\"><div class=\"sk-container\"><div class=\"sk-item sk-dashed-wrapped\"><div class=\"sk-label-container\"><div class=\"sk-label sk-toggleable\"><input class=\"sk-toggleable__control sk-hidden--visually\" id=\"3076ee06-6e67-43c9-b2ab-5ba04f3ff987\" type=\"checkbox\" ><label class=\"sk-toggleable__label\" for=\"3076ee06-6e67-43c9-b2ab-5ba04f3ff987\">Pipeline</label><div class=\"sk-toggleable__content\"><pre>Pipeline(steps=[('preprocessor',\n",
       "                 ColumnTransformer(transformers=[('numerical',\n",
       "                                                  Pipeline(steps=[('imputer',\n",
       "                                                                   SimpleImputer(add_indicator=True,\n",
       "                                                                                 strategy='median')),\n",
       "                                                                  ('scaler',\n",
       "                                                                   PowerTransformer()),\n",
       "                                                                  ('polynominal_features',\n",
       "                                                                   PolynomialFeatures()),\n",
       "                                                                  ('kmeans',\n",
       "                                                                   MiniKmeansTransformerEncoder())]),\n",
       "                                                  Index(['RevolvingUtilizationOfUnsecuredLines', 'DebtRatio', 'MonthlyIncome'...\n",
       "                               interaction_constraints=None,\n",
       "                               lambda=0.6020191889129249,\n",
       "                               learning_rate=0.028813202438396926,\n",
       "                               max_delta_step=None, max_depth=3,\n",
       "                               min_child_weight=6, missing=nan,\n",
       "                               monotone_constraints=None, n_estimators=1214,\n",
       "                               n_jobs=None, num_parallel_tree=None,\n",
       "                               predictor=None, random_state=42, reg_alpha=None,\n",
       "                               reg_lambda=None, scale_pos_weight=None,\n",
       "                               subsample=0.5072579113321862, ...))])</pre></div></div></div><div class=\"sk-serial\"><div class=\"sk-item sk-dashed-wrapped\"><div class=\"sk-label-container\"><div class=\"sk-label sk-toggleable\"><input class=\"sk-toggleable__control sk-hidden--visually\" id=\"5aecb58a-5296-49fc-8545-26b7f32969a4\" type=\"checkbox\" ><label class=\"sk-toggleable__label\" for=\"5aecb58a-5296-49fc-8545-26b7f32969a4\">preprocessor: ColumnTransformer</label><div class=\"sk-toggleable__content\"><pre>ColumnTransformer(transformers=[('numerical',\n",
       "                                 Pipeline(steps=[('imputer',\n",
       "                                                  SimpleImputer(add_indicator=True,\n",
       "                                                                strategy='median')),\n",
       "                                                 ('scaler', PowerTransformer()),\n",
       "                                                 ('polynominal_features',\n",
       "                                                  PolynomialFeatures()),\n",
       "                                                 ('kmeans',\n",
       "                                                  MiniKmeansTransformerEncoder())]),\n",
       "                                 Index(['RevolvingUtilizationOfUnsecuredLines', 'DebtRatio', 'MonthlyIncome',\n",
       "       'NumberOfDependents', 'NumberOfT...\n",
       "                                                 ('encoder', WOEEncoder())]),\n",
       "                                 Index(['cat_RevolvingUtilizationOfUnsecuredLines', 'cat_DebtRatio',\n",
       "       'cat_MonthlyIncome', 'cat_NumberOfDependents',\n",
       "       'cat_NumberOfTime60-89DaysPastDueNotWorse',\n",
       "       'cat_NumberRealEstateLoansOrLines', 'cat_NumberOfTimes90DaysLate',\n",
       "       'cat_NumberOfOpenCreditLinesAndLoans',\n",
       "       'cat_NumberOfTime30-59DaysPastDueNotWorse', 'cat_age'],\n",
       "      dtype='object'))])</pre></div></div></div><div class=\"sk-parallel\"><div class=\"sk-parallel-item\"><div class=\"sk-item\"><div class=\"sk-label-container\"><div class=\"sk-label sk-toggleable\"><input class=\"sk-toggleable__control sk-hidden--visually\" id=\"308fa523-3a10-49f8-abff-3c76026fc494\" type=\"checkbox\" ><label class=\"sk-toggleable__label\" for=\"308fa523-3a10-49f8-abff-3c76026fc494\">numerical</label><div class=\"sk-toggleable__content\"><pre>Index(['RevolvingUtilizationOfUnsecuredLines', 'DebtRatio', 'MonthlyIncome',\n",
       "       'NumberOfDependents', 'NumberOfTime60-89DaysPastDueNotWorse',\n",
       "       'NumberRealEstateLoansOrLines', 'NumberOfTimes90DaysLate',\n",
       "       'NumberOfOpenCreditLinesAndLoans',\n",
       "       'NumberOfTime30-59DaysPastDueNotWorse', 'age'],\n",
       "      dtype='object')</pre></div></div></div><div class=\"sk-serial\"><div class=\"sk-item\"><div class=\"sk-serial\"><div class=\"sk-item\"><div class=\"sk-estimator sk-toggleable\"><input class=\"sk-toggleable__control sk-hidden--visually\" id=\"ab065fcd-8e39-4d9c-b220-a9dcb9855b95\" type=\"checkbox\" ><label class=\"sk-toggleable__label\" for=\"ab065fcd-8e39-4d9c-b220-a9dcb9855b95\">SimpleImputer</label><div class=\"sk-toggleable__content\"><pre>SimpleImputer(add_indicator=True, strategy='median')</pre></div></div></div><div class=\"sk-item\"><div class=\"sk-estimator sk-toggleable\"><input class=\"sk-toggleable__control sk-hidden--visually\" id=\"3c03d87c-7871-4823-996f-74923a0f91ea\" type=\"checkbox\" ><label class=\"sk-toggleable__label\" for=\"3c03d87c-7871-4823-996f-74923a0f91ea\">PowerTransformer</label><div class=\"sk-toggleable__content\"><pre>PowerTransformer()</pre></div></div></div><div class=\"sk-item\"><div class=\"sk-estimator sk-toggleable\"><input class=\"sk-toggleable__control sk-hidden--visually\" id=\"94fa8a84-ca01-457c-84bb-1203187a6599\" type=\"checkbox\" ><label class=\"sk-toggleable__label\" for=\"94fa8a84-ca01-457c-84bb-1203187a6599\">PolynomialFeatures</label><div class=\"sk-toggleable__content\"><pre>PolynomialFeatures()</pre></div></div></div><div class=\"sk-item sk-dashed-wrapped\"><div class=\"sk-label-container\"><div class=\"sk-label sk-toggleable\"><input class=\"sk-toggleable__control sk-hidden--visually\" id=\"31f2fbbb-46fb-4f52-8f48-ad2aeead4305\" type=\"checkbox\" ><label class=\"sk-toggleable__label\" for=\"31f2fbbb-46fb-4f52-8f48-ad2aeead4305\">kmeans: MiniKmeansTransformerEncoder</label><div class=\"sk-toggleable__content\"><pre>MiniKmeansTransformerEncoder()</pre></div></div></div><div class=\"sk-parallel\"><div class=\"sk-parallel-item\"><div class=\"sk-item\"><div class=\"sk-serial\"><div class=\"sk-item\"><div class=\"sk-estimator sk-toggleable\"><input class=\"sk-toggleable__control sk-hidden--visually\" id=\"6c3778f2-3b9b-4bdf-9a80-ce9baaf0a095\" type=\"checkbox\" ><label class=\"sk-toggleable__label\" for=\"6c3778f2-3b9b-4bdf-9a80-ce9baaf0a095\">WOEEncoder</label><div class=\"sk-toggleable__content\"><pre>WOEEncoder()</pre></div></div></div></div></div></div></div></div></div></div></div></div></div><div class=\"sk-parallel-item\"><div class=\"sk-item\"><div class=\"sk-label-container\"><div class=\"sk-label sk-toggleable\"><input class=\"sk-toggleable__control sk-hidden--visually\" id=\"cc80380e-0ce0-4fa0-9232-ec493efe7116\" type=\"checkbox\" ><label class=\"sk-toggleable__label\" for=\"cc80380e-0ce0-4fa0-9232-ec493efe7116\">categorical</label><div class=\"sk-toggleable__content\"><pre>Index(['cat_RevolvingUtilizationOfUnsecuredLines', 'cat_DebtRatio',\n",
       "       'cat_MonthlyIncome', 'cat_NumberOfDependents',\n",
       "       'cat_NumberOfTime60-89DaysPastDueNotWorse',\n",
       "       'cat_NumberRealEstateLoansOrLines', 'cat_NumberOfTimes90DaysLate',\n",
       "       'cat_NumberOfOpenCreditLinesAndLoans',\n",
       "       'cat_NumberOfTime30-59DaysPastDueNotWorse', 'cat_age'],\n",
       "      dtype='object')</pre></div></div></div><div class=\"sk-serial\"><div class=\"sk-item\"><div class=\"sk-serial\"><div class=\"sk-item\"><div class=\"sk-estimator sk-toggleable\"><input class=\"sk-toggleable__control sk-hidden--visually\" id=\"388e53eb-a5ae-4737-877c-8399b54322c3\" type=\"checkbox\" ><label class=\"sk-toggleable__label\" for=\"388e53eb-a5ae-4737-877c-8399b54322c3\">SimpleImputer</label><div class=\"sk-toggleable__content\"><pre>SimpleImputer(add_indicator=True, fill_value='missing',\n",
       "              strategy='most_frequent')</pre></div></div></div><div class=\"sk-item\"><div class=\"sk-estimator sk-toggleable\"><input class=\"sk-toggleable__control sk-hidden--visually\" id=\"05711571-5945-4602-b540-98c0f910e16f\" type=\"checkbox\" ><label class=\"sk-toggleable__label\" for=\"05711571-5945-4602-b540-98c0f910e16f\">WOEEncoder</label><div class=\"sk-toggleable__content\"><pre>WOEEncoder()</pre></div></div></div></div></div></div></div></div></div></div><div class=\"sk-item\"><div class=\"sk-estimator sk-toggleable\"><input class=\"sk-toggleable__control sk-hidden--visually\" id=\"d5cf18f8-6e42-448e-8940-a1223a0f2735\" type=\"checkbox\" ><label class=\"sk-toggleable__label\" for=\"d5cf18f8-6e42-448e-8940-a1223a0f2735\">XGBClassifier</label><div class=\"sk-toggleable__content\"><pre>XGBClassifier(alpha=2.295266577898865e-05, base_score=None, booster='gbtree',\n",
       "              colsample_bylevel=None, colsample_bynode=None,\n",
       "              colsample_bytree=0.22889265127357977, enable_categorical=False,\n",
       "              eta=7.622523447708319e-05, eval_metric='auc',\n",
       "              gamma=1.2551784676334475e-08, gpu_id=None,\n",
       "              grow_policy='lossguide', importance_type=None,\n",
       "              interaction_constraints=None, lambda=0.6020191889129249,\n",
       "              learning_rate=0.028813202438396926, max_delta_step=None,\n",
       "              max_depth=3, min_child_weight=6, missing=nan,\n",
       "              monotone_constraints=None, n_estimators=1214, n_jobs=None,\n",
       "              num_parallel_tree=None, predictor=None, random_state=42,\n",
       "              reg_alpha=None, reg_lambda=None, scale_pos_weight=None,\n",
       "              subsample=0.5072579113321862, ...)</pre></div></div></div></div></div></div></div>"
      ],
      "text/plain": [
       "Pipeline(steps=[('preprocessor',\n",
       "                 ColumnTransformer(transformers=[('numerical',\n",
       "                                                  Pipeline(steps=[('imputer',\n",
       "                                                                   SimpleImputer(add_indicator=True,\n",
       "                                                                                 strategy='median')),\n",
       "                                                                  ('scaler',\n",
       "                                                                   PowerTransformer()),\n",
       "                                                                  ('polynominal_features',\n",
       "                                                                   PolynomialFeatures()),\n",
       "                                                                  ('kmeans',\n",
       "                                                                   MiniKmeansTransformerEncoder())]),\n",
       "                                                  Index(['RevolvingUtilizationOfUnsecuredLines', 'DebtRatio', 'MonthlyIncome'...\n",
       "                               interaction_constraints=None,\n",
       "                               lambda=0.6020191889129249,\n",
       "                               learning_rate=0.028813202438396926,\n",
       "                               max_delta_step=None, max_depth=3,\n",
       "                               min_child_weight=6, missing=nan,\n",
       "                               monotone_constraints=None, n_estimators=1214,\n",
       "                               n_jobs=None, num_parallel_tree=None,\n",
       "                               predictor=None, random_state=42, reg_alpha=None,\n",
       "                               reg_lambda=None, scale_pos_weight=None,\n",
       "                               subsample=0.5072579113321862, ...))])"
      ]
     },
     "execution_count": 25,
     "metadata": {},
     "output_type": "execute_result"
    }
   ],
   "source": [
    "params_xgbr = { \"verbosity\": 0,\n",
    "                \"objective\": \"binary:logistic\",\n",
    "                \"eval_metric\": \"auc\",\n",
    "                'random_state': 42,\n",
    "                # regression\n",
    "                #'objective':'reg:squarederror', \n",
    "                # 'eval_metric': 'mae',\n",
    "                #early_stopping_rounds=100 ,\n",
    "               # 'gpu_id':0, \n",
    "               # 'predictor':\"gpu_predictor\",\n",
    "                # use exact for small dataset.\n",
    "                #\"tree_method\": \"exact\",\n",
    "                # big data :\n",
    "                # 'tree_method': 'gpu_hist',\n",
    "                # defines booster, gblinear for linear functions.\n",
    "               'booster': 'gbtree',\n",
    "               'lambda': 0.05718879852112006,\n",
    "               'alpha': 0.3744455966091751, \n",
    "               'subsample': 0.4600950043573827, \n",
    "               'colsample_bytree': 0.4826795171274075, \n",
    "               'learning_rate': 0.04028462871213848, \n",
    "               'n_estimators': 6258, \n",
    "               'max_depth': 3,\n",
    "               'min_child_weight': 9,\n",
    "               'eta': 1.0243140309668855e-07,\n",
    "               'gamma': 0.0002882867942209271, \n",
    "               'grow_policy': 'lossguide'\n",
    "              }\n",
    "parmas_xgbr_pipe2={\"verbosity\": 0,\n",
    "                    \"objective\": \"binary:logistic\",\n",
    "                    \"eval_metric\": \"auc\",\n",
    "                    'random_state': 42,\n",
    "                    # regression\n",
    "                    #'objective':'reg:squarederror', \n",
    "                    # 'eval_metric': 'mae',\n",
    "                    #early_stopping_rounds=100 ,\n",
    "                   # 'gpu_id':0, \n",
    "                   # 'predictor':\"gpu_predictor\",\n",
    "                    # use exact for small dataset.\n",
    "                    #\"tree_method\": \"exact\",\n",
    "                    # big data :\n",
    "                    # 'tree_method': 'gpu_hist',\n",
    "                    # defines booster, gblinear for linear functions.\n",
    "                   'booster': 'gbtree',\n",
    "                   'lambda': 0.6020191889129249,\n",
    "                   'alpha': 2.295266577898865e-05, \n",
    "                   'subsample': 0.5072579113321862, \n",
    "                   'colsample_bytree': 0.22889265127357977,\n",
    "                   'learning_rate': 0.028813202438396926,\n",
    "                   'n_estimators': 1214,\n",
    "                   'max_depth': 3,\n",
    "                   'min_child_weight': 6,\n",
    "                   'eta': 7.622523447708319e-05,\n",
    "                   'gamma': 1.2551784676334475e-08, \n",
    "                   'grow_policy': 'lossguide'}\n",
    "\n",
    "model_xgbr = XGBClassifier(\n",
    "                              # use it  only on gpu\n",
    "                            # rsm=np.nan\n",
    "                              #cat_features=cat_features\n",
    "                             **parmas_xgbr_pipe2)\n",
    "pipe1_model_xgbr_woe_powertransformer = Pipeline(\n",
    "    steps=[\n",
    "        ('preprocessor', preprocessor_woe_powertransformer),\n",
    "         #('reducedim',  SelectPercentile( f_classif, percentile=95)),\n",
    "        # ('dim_red', SelectKBest(f_regression, k=20)),\n",
    "        #('Sparseinteractions', SparseInteractions(degree=2)),\n",
    "         #('PolynomialFeatures', PolynomialFeatures(degree=2)),\n",
    "        #('PCAreducer', PCA(n_components=0.8)),\n",
    "        ('classifier',model_xgbr)\n",
    "    ]\n",
    ")\n",
    "pipe1_model_xgbr_woe_powertransformer"
   ]
  },
  {
   "cell_type": "markdown",
   "id": "9b55c57e",
   "metadata": {
    "papermill": {
     "duration": 0.04815,
     "end_time": "2021-12-28T15:53:40.931189",
     "exception": false,
     "start_time": "2021-12-28T15:53:40.883039",
     "status": "completed"
    },
    "tags": []
   },
   "source": [
    "**4-LR:**"
   ]
  },
  {
   "cell_type": "code",
   "execution_count": 26,
   "id": "2f8af6b8",
   "metadata": {
    "execution": {
     "iopub.execute_input": "2021-12-28T15:53:41.030900Z",
     "iopub.status.busy": "2021-12-28T15:53:41.030271Z",
     "iopub.status.idle": "2021-12-28T15:53:41.727018Z",
     "shell.execute_reply": "2021-12-28T15:53:41.727760Z"
    },
    "papermill": {
     "duration": 0.748498,
     "end_time": "2021-12-28T15:53:41.728007",
     "exception": false,
     "start_time": "2021-12-28T15:53:40.979509",
     "status": "completed"
    },
    "tags": []
   },
   "outputs": [
    {
     "data": {
      "text/html": [
       "<style>div.sk-top-container {color: black;background-color: white;}div.sk-toggleable {background-color: white;}label.sk-toggleable__label {cursor: pointer;display: block;width: 100%;margin-bottom: 0;padding: 0.2em 0.3em;box-sizing: border-box;text-align: center;}div.sk-toggleable__content {max-height: 0;max-width: 0;overflow: hidden;text-align: left;background-color: #f0f8ff;}div.sk-toggleable__content pre {margin: 0.2em;color: black;border-radius: 0.25em;background-color: #f0f8ff;}input.sk-toggleable__control:checked~div.sk-toggleable__content {max-height: 200px;max-width: 100%;overflow: auto;}div.sk-estimator input.sk-toggleable__control:checked~label.sk-toggleable__label {background-color: #d4ebff;}div.sk-label input.sk-toggleable__control:checked~label.sk-toggleable__label {background-color: #d4ebff;}input.sk-hidden--visually {border: 0;clip: rect(1px 1px 1px 1px);clip: rect(1px, 1px, 1px, 1px);height: 1px;margin: -1px;overflow: hidden;padding: 0;position: absolute;width: 1px;}div.sk-estimator {font-family: monospace;background-color: #f0f8ff;margin: 0.25em 0.25em;border: 1px dotted black;border-radius: 0.25em;box-sizing: border-box;}div.sk-estimator:hover {background-color: #d4ebff;}div.sk-parallel-item::after {content: \"\";width: 100%;border-bottom: 1px solid gray;flex-grow: 1;}div.sk-label:hover label.sk-toggleable__label {background-color: #d4ebff;}div.sk-serial::before {content: \"\";position: absolute;border-left: 1px solid gray;box-sizing: border-box;top: 2em;bottom: 0;left: 50%;}div.sk-serial {display: flex;flex-direction: column;align-items: center;background-color: white;}div.sk-item {z-index: 1;}div.sk-parallel {display: flex;align-items: stretch;justify-content: center;background-color: white;}div.sk-parallel-item {display: flex;flex-direction: column;position: relative;background-color: white;}div.sk-parallel-item:first-child::after {align-self: flex-end;width: 50%;}div.sk-parallel-item:last-child::after {align-self: flex-start;width: 50%;}div.sk-parallel-item:only-child::after {width: 0;}div.sk-dashed-wrapped {border: 1px dashed gray;margin: 0.2em;box-sizing: border-box;padding-bottom: 0.1em;background-color: white;position: relative;}div.sk-label label {font-family: monospace;font-weight: bold;background-color: white;display: inline-block;line-height: 1.2em;}div.sk-label-container {position: relative;z-index: 2;text-align: center;}div.sk-container {display: inline-block;position: relative;}</style><div class=\"sk-top-container\"><div class=\"sk-container\"><div class=\"sk-item sk-dashed-wrapped\"><div class=\"sk-label-container\"><div class=\"sk-label sk-toggleable\"><input class=\"sk-toggleable__control sk-hidden--visually\" id=\"ff7776ac-69a1-41ab-b400-57a6271490f1\" type=\"checkbox\" ><label class=\"sk-toggleable__label\" for=\"ff7776ac-69a1-41ab-b400-57a6271490f1\">Pipeline</label><div class=\"sk-toggleable__content\"><pre>Pipeline(steps=[('preprocessor',\n",
       "                 ColumnTransformer(transformers=[('numerical',\n",
       "                                                  Pipeline(steps=[('imputer',\n",
       "                                                                   SimpleImputer(add_indicator=True,\n",
       "                                                                                 strategy='median')),\n",
       "                                                                  ('scaler',\n",
       "                                                                   PowerTransformer()),\n",
       "                                                                  ('polynominal_features',\n",
       "                                                                   PolynomialFeatures()),\n",
       "                                                                  ('kmeans',\n",
       "                                                                   MiniKmeansTransformerEncoder())]),\n",
       "                                                  Index(['RevolvingUtilizationOfUnsecuredLines', 'DebtRatio', 'MonthlyIncome'...\n",
       "       'cat_MonthlyIncome', 'cat_NumberOfDependents',\n",
       "       'cat_NumberOfTime60-89DaysPastDueNotWorse',\n",
       "       'cat_NumberRealEstateLoansOrLines', 'cat_NumberOfTimes90DaysLate',\n",
       "       'cat_NumberOfOpenCreditLinesAndLoans',\n",
       "       'cat_NumberOfTime30-59DaysPastDueNotWorse', 'cat_age'],\n",
       "      dtype='object'))])),\n",
       "                ('classifier',\n",
       "                 LogisticRegression(C=6805.270095210636, random_state=42,\n",
       "                                    solver='liblinear'))])</pre></div></div></div><div class=\"sk-serial\"><div class=\"sk-item sk-dashed-wrapped\"><div class=\"sk-label-container\"><div class=\"sk-label sk-toggleable\"><input class=\"sk-toggleable__control sk-hidden--visually\" id=\"7976032f-47d9-4561-b7b5-c9f3bef8f327\" type=\"checkbox\" ><label class=\"sk-toggleable__label\" for=\"7976032f-47d9-4561-b7b5-c9f3bef8f327\">preprocessor: ColumnTransformer</label><div class=\"sk-toggleable__content\"><pre>ColumnTransformer(transformers=[('numerical',\n",
       "                                 Pipeline(steps=[('imputer',\n",
       "                                                  SimpleImputer(add_indicator=True,\n",
       "                                                                strategy='median')),\n",
       "                                                 ('scaler', PowerTransformer()),\n",
       "                                                 ('polynominal_features',\n",
       "                                                  PolynomialFeatures()),\n",
       "                                                 ('kmeans',\n",
       "                                                  MiniKmeansTransformerEncoder())]),\n",
       "                                 Index(['RevolvingUtilizationOfUnsecuredLines', 'DebtRatio', 'MonthlyIncome',\n",
       "       'NumberOfDependents', 'NumberOfT...\n",
       "                                                 ('encoder', WOEEncoder())]),\n",
       "                                 Index(['cat_RevolvingUtilizationOfUnsecuredLines', 'cat_DebtRatio',\n",
       "       'cat_MonthlyIncome', 'cat_NumberOfDependents',\n",
       "       'cat_NumberOfTime60-89DaysPastDueNotWorse',\n",
       "       'cat_NumberRealEstateLoansOrLines', 'cat_NumberOfTimes90DaysLate',\n",
       "       'cat_NumberOfOpenCreditLinesAndLoans',\n",
       "       'cat_NumberOfTime30-59DaysPastDueNotWorse', 'cat_age'],\n",
       "      dtype='object'))])</pre></div></div></div><div class=\"sk-parallel\"><div class=\"sk-parallel-item\"><div class=\"sk-item\"><div class=\"sk-label-container\"><div class=\"sk-label sk-toggleable\"><input class=\"sk-toggleable__control sk-hidden--visually\" id=\"8e38ccf1-4322-443d-be9e-c0fd4acfe24f\" type=\"checkbox\" ><label class=\"sk-toggleable__label\" for=\"8e38ccf1-4322-443d-be9e-c0fd4acfe24f\">numerical</label><div class=\"sk-toggleable__content\"><pre>Index(['RevolvingUtilizationOfUnsecuredLines', 'DebtRatio', 'MonthlyIncome',\n",
       "       'NumberOfDependents', 'NumberOfTime60-89DaysPastDueNotWorse',\n",
       "       'NumberRealEstateLoansOrLines', 'NumberOfTimes90DaysLate',\n",
       "       'NumberOfOpenCreditLinesAndLoans',\n",
       "       'NumberOfTime30-59DaysPastDueNotWorse', 'age'],\n",
       "      dtype='object')</pre></div></div></div><div class=\"sk-serial\"><div class=\"sk-item\"><div class=\"sk-serial\"><div class=\"sk-item\"><div class=\"sk-estimator sk-toggleable\"><input class=\"sk-toggleable__control sk-hidden--visually\" id=\"e04a1fac-3d3a-4729-9482-0dfa646f9f1b\" type=\"checkbox\" ><label class=\"sk-toggleable__label\" for=\"e04a1fac-3d3a-4729-9482-0dfa646f9f1b\">SimpleImputer</label><div class=\"sk-toggleable__content\"><pre>SimpleImputer(add_indicator=True, strategy='median')</pre></div></div></div><div class=\"sk-item\"><div class=\"sk-estimator sk-toggleable\"><input class=\"sk-toggleable__control sk-hidden--visually\" id=\"c0d9a88b-938f-47be-80c2-03d7199c8812\" type=\"checkbox\" ><label class=\"sk-toggleable__label\" for=\"c0d9a88b-938f-47be-80c2-03d7199c8812\">PowerTransformer</label><div class=\"sk-toggleable__content\"><pre>PowerTransformer()</pre></div></div></div><div class=\"sk-item\"><div class=\"sk-estimator sk-toggleable\"><input class=\"sk-toggleable__control sk-hidden--visually\" id=\"9d0bb500-cf46-4216-8942-9837cea9e989\" type=\"checkbox\" ><label class=\"sk-toggleable__label\" for=\"9d0bb500-cf46-4216-8942-9837cea9e989\">PolynomialFeatures</label><div class=\"sk-toggleable__content\"><pre>PolynomialFeatures()</pre></div></div></div><div class=\"sk-item sk-dashed-wrapped\"><div class=\"sk-label-container\"><div class=\"sk-label sk-toggleable\"><input class=\"sk-toggleable__control sk-hidden--visually\" id=\"ab9b4cef-ca2a-4624-aeb1-644249ac1031\" type=\"checkbox\" ><label class=\"sk-toggleable__label\" for=\"ab9b4cef-ca2a-4624-aeb1-644249ac1031\">kmeans: MiniKmeansTransformerEncoder</label><div class=\"sk-toggleable__content\"><pre>MiniKmeansTransformerEncoder()</pre></div></div></div><div class=\"sk-parallel\"><div class=\"sk-parallel-item\"><div class=\"sk-item\"><div class=\"sk-serial\"><div class=\"sk-item\"><div class=\"sk-estimator sk-toggleable\"><input class=\"sk-toggleable__control sk-hidden--visually\" id=\"569a240e-8707-426b-8630-64a6daed7328\" type=\"checkbox\" ><label class=\"sk-toggleable__label\" for=\"569a240e-8707-426b-8630-64a6daed7328\">WOEEncoder</label><div class=\"sk-toggleable__content\"><pre>WOEEncoder()</pre></div></div></div></div></div></div></div></div></div></div></div></div></div><div class=\"sk-parallel-item\"><div class=\"sk-item\"><div class=\"sk-label-container\"><div class=\"sk-label sk-toggleable\"><input class=\"sk-toggleable__control sk-hidden--visually\" id=\"7ae60345-1bc1-4794-8957-55b991d5631c\" type=\"checkbox\" ><label class=\"sk-toggleable__label\" for=\"7ae60345-1bc1-4794-8957-55b991d5631c\">categorical</label><div class=\"sk-toggleable__content\"><pre>Index(['cat_RevolvingUtilizationOfUnsecuredLines', 'cat_DebtRatio',\n",
       "       'cat_MonthlyIncome', 'cat_NumberOfDependents',\n",
       "       'cat_NumberOfTime60-89DaysPastDueNotWorse',\n",
       "       'cat_NumberRealEstateLoansOrLines', 'cat_NumberOfTimes90DaysLate',\n",
       "       'cat_NumberOfOpenCreditLinesAndLoans',\n",
       "       'cat_NumberOfTime30-59DaysPastDueNotWorse', 'cat_age'],\n",
       "      dtype='object')</pre></div></div></div><div class=\"sk-serial\"><div class=\"sk-item\"><div class=\"sk-serial\"><div class=\"sk-item\"><div class=\"sk-estimator sk-toggleable\"><input class=\"sk-toggleable__control sk-hidden--visually\" id=\"e018a8cc-67a6-4504-9eb1-98cc5a7c639f\" type=\"checkbox\" ><label class=\"sk-toggleable__label\" for=\"e018a8cc-67a6-4504-9eb1-98cc5a7c639f\">SimpleImputer</label><div class=\"sk-toggleable__content\"><pre>SimpleImputer(add_indicator=True, fill_value='missing',\n",
       "              strategy='most_frequent')</pre></div></div></div><div class=\"sk-item\"><div class=\"sk-estimator sk-toggleable\"><input class=\"sk-toggleable__control sk-hidden--visually\" id=\"196fb17f-b699-4b33-b2d0-b89edeace7d1\" type=\"checkbox\" ><label class=\"sk-toggleable__label\" for=\"196fb17f-b699-4b33-b2d0-b89edeace7d1\">WOEEncoder</label><div class=\"sk-toggleable__content\"><pre>WOEEncoder()</pre></div></div></div></div></div></div></div></div></div></div><div class=\"sk-item\"><div class=\"sk-estimator sk-toggleable\"><input class=\"sk-toggleable__control sk-hidden--visually\" id=\"29a4655d-deb7-4cde-933e-e85da882b3e8\" type=\"checkbox\" ><label class=\"sk-toggleable__label\" for=\"29a4655d-deb7-4cde-933e-e85da882b3e8\">LogisticRegression</label><div class=\"sk-toggleable__content\"><pre>LogisticRegression(C=6805.270095210636, random_state=42, solver='liblinear')</pre></div></div></div></div></div></div></div>"
      ],
      "text/plain": [
       "Pipeline(steps=[('preprocessor',\n",
       "                 ColumnTransformer(transformers=[('numerical',\n",
       "                                                  Pipeline(steps=[('imputer',\n",
       "                                                                   SimpleImputer(add_indicator=True,\n",
       "                                                                                 strategy='median')),\n",
       "                                                                  ('scaler',\n",
       "                                                                   PowerTransformer()),\n",
       "                                                                  ('polynominal_features',\n",
       "                                                                   PolynomialFeatures()),\n",
       "                                                                  ('kmeans',\n",
       "                                                                   MiniKmeansTransformerEncoder())]),\n",
       "                                                  Index(['RevolvingUtilizationOfUnsecuredLines', 'DebtRatio', 'MonthlyIncome'...\n",
       "       'cat_MonthlyIncome', 'cat_NumberOfDependents',\n",
       "       'cat_NumberOfTime60-89DaysPastDueNotWorse',\n",
       "       'cat_NumberRealEstateLoansOrLines', 'cat_NumberOfTimes90DaysLate',\n",
       "       'cat_NumberOfOpenCreditLinesAndLoans',\n",
       "       'cat_NumberOfTime30-59DaysPastDueNotWorse', 'cat_age'],\n",
       "      dtype='object'))])),\n",
       "                ('classifier',\n",
       "                 LogisticRegression(C=6805.270095210636, random_state=42,\n",
       "                                    solver='liblinear'))])"
      ]
     },
     "execution_count": 26,
     "metadata": {},
     "output_type": "execute_result"
    }
   ],
   "source": [
    "params_lr = {\n",
    "             \"random_state\": 42,\n",
    "             'solver':'liblinear',\n",
    "             'C': 6805.270095210636,\n",
    "             'penalty': 'l2'\n",
    "             }\n",
    "model_lr = LogisticRegression(**params_lr,\n",
    "                              # use it  only on gpu\n",
    "                            # rsm=np.nan\n",
    "                              #cat_features=cat_features\n",
    "                             )\n",
    "pipe1_model_lr_woe_powertransformer = Pipeline(\n",
    "    steps=[\n",
    "        ('preprocessor', preprocessor_woe_powertransformer),\n",
    "        # ('reducedim',  SelectPercentile( f_classif, percentile=95)),\n",
    "        # ('dim_red', SelectKBest(f_regression, k=20)),\n",
    "        #('Sparseinteractions', SparseInteractions(degree=2)),\n",
    "         #('PolynomialFeatures', PolynomialFeatures(degree=2)),\n",
    "        #('PCAreducer', PCA(n_components=0.8)),\n",
    "        ('classifier',model_lr)\n",
    "    ]\n",
    ")\n",
    "pipe1_model_lr_woe_powertransformer"
   ]
  },
  {
   "cell_type": "markdown",
   "id": "bd86e88f",
   "metadata": {
    "papermill": {
     "duration": 0.053057,
     "end_time": "2021-12-28T15:53:41.841080",
     "exception": false,
     "start_time": "2021-12-28T15:53:41.788023",
     "status": "completed"
    },
    "tags": []
   },
   "source": [
    "**5-RF:**"
   ]
  },
  {
   "cell_type": "code",
   "execution_count": 27,
   "id": "93b708a6",
   "metadata": {
    "execution": {
     "iopub.execute_input": "2021-12-28T15:53:41.966401Z",
     "iopub.status.busy": "2021-12-28T15:53:41.943455Z",
     "iopub.status.idle": "2021-12-28T15:53:42.561952Z",
     "shell.execute_reply": "2021-12-28T15:53:42.562433Z"
    },
    "papermill": {
     "duration": 0.672662,
     "end_time": "2021-12-28T15:53:42.562608",
     "exception": false,
     "start_time": "2021-12-28T15:53:41.889946",
     "status": "completed"
    },
    "tags": []
   },
   "outputs": [
    {
     "data": {
      "text/html": [
       "<style>div.sk-top-container {color: black;background-color: white;}div.sk-toggleable {background-color: white;}label.sk-toggleable__label {cursor: pointer;display: block;width: 100%;margin-bottom: 0;padding: 0.2em 0.3em;box-sizing: border-box;text-align: center;}div.sk-toggleable__content {max-height: 0;max-width: 0;overflow: hidden;text-align: left;background-color: #f0f8ff;}div.sk-toggleable__content pre {margin: 0.2em;color: black;border-radius: 0.25em;background-color: #f0f8ff;}input.sk-toggleable__control:checked~div.sk-toggleable__content {max-height: 200px;max-width: 100%;overflow: auto;}div.sk-estimator input.sk-toggleable__control:checked~label.sk-toggleable__label {background-color: #d4ebff;}div.sk-label input.sk-toggleable__control:checked~label.sk-toggleable__label {background-color: #d4ebff;}input.sk-hidden--visually {border: 0;clip: rect(1px 1px 1px 1px);clip: rect(1px, 1px, 1px, 1px);height: 1px;margin: -1px;overflow: hidden;padding: 0;position: absolute;width: 1px;}div.sk-estimator {font-family: monospace;background-color: #f0f8ff;margin: 0.25em 0.25em;border: 1px dotted black;border-radius: 0.25em;box-sizing: border-box;}div.sk-estimator:hover {background-color: #d4ebff;}div.sk-parallel-item::after {content: \"\";width: 100%;border-bottom: 1px solid gray;flex-grow: 1;}div.sk-label:hover label.sk-toggleable__label {background-color: #d4ebff;}div.sk-serial::before {content: \"\";position: absolute;border-left: 1px solid gray;box-sizing: border-box;top: 2em;bottom: 0;left: 50%;}div.sk-serial {display: flex;flex-direction: column;align-items: center;background-color: white;}div.sk-item {z-index: 1;}div.sk-parallel {display: flex;align-items: stretch;justify-content: center;background-color: white;}div.sk-parallel-item {display: flex;flex-direction: column;position: relative;background-color: white;}div.sk-parallel-item:first-child::after {align-self: flex-end;width: 50%;}div.sk-parallel-item:last-child::after {align-self: flex-start;width: 50%;}div.sk-parallel-item:only-child::after {width: 0;}div.sk-dashed-wrapped {border: 1px dashed gray;margin: 0.2em;box-sizing: border-box;padding-bottom: 0.1em;background-color: white;position: relative;}div.sk-label label {font-family: monospace;font-weight: bold;background-color: white;display: inline-block;line-height: 1.2em;}div.sk-label-container {position: relative;z-index: 2;text-align: center;}div.sk-container {display: inline-block;position: relative;}</style><div class=\"sk-top-container\"><div class=\"sk-container\"><div class=\"sk-item sk-dashed-wrapped\"><div class=\"sk-label-container\"><div class=\"sk-label sk-toggleable\"><input class=\"sk-toggleable__control sk-hidden--visually\" id=\"bb979aaa-158c-4c91-8250-ec5c754cc35a\" type=\"checkbox\" ><label class=\"sk-toggleable__label\" for=\"bb979aaa-158c-4c91-8250-ec5c754cc35a\">Pipeline</label><div class=\"sk-toggleable__content\"><pre>Pipeline(steps=[('preprocessor',\n",
       "                 ColumnTransformer(transformers=[('numerical',\n",
       "                                                  Pipeline(steps=[('imputer',\n",
       "                                                                   SimpleImputer(add_indicator=True,\n",
       "                                                                                 strategy='median')),\n",
       "                                                                  ('scaler',\n",
       "                                                                   PowerTransformer()),\n",
       "                                                                  ('polynominal_features',\n",
       "                                                                   PolynomialFeatures()),\n",
       "                                                                  ('kmeans',\n",
       "                                                                   MiniKmeansTransformerEncoder())]),\n",
       "                                                  Index(['RevolvingUtilizationOfUnsecuredLines', 'DebtRatio', 'MonthlyIncome'...\n",
       "       'cat_MonthlyIncome', 'cat_NumberOfDependents',\n",
       "       'cat_NumberOfTime60-89DaysPastDueNotWorse',\n",
       "       'cat_NumberRealEstateLoansOrLines', 'cat_NumberOfTimes90DaysLate',\n",
       "       'cat_NumberOfOpenCreditLinesAndLoans',\n",
       "       'cat_NumberOfTime30-59DaysPastDueNotWorse', 'cat_age'],\n",
       "      dtype='object'))])),\n",
       "                ('classifier',\n",
       "                 RandomForestClassifier(max_depth=12, min_samples_leaf=4,\n",
       "                                        min_samples_split=3, n_estimators=2975,\n",
       "                                        random_state=42))])</pre></div></div></div><div class=\"sk-serial\"><div class=\"sk-item sk-dashed-wrapped\"><div class=\"sk-label-container\"><div class=\"sk-label sk-toggleable\"><input class=\"sk-toggleable__control sk-hidden--visually\" id=\"644f6fc5-75a8-473c-913b-e6bcdfa26671\" type=\"checkbox\" ><label class=\"sk-toggleable__label\" for=\"644f6fc5-75a8-473c-913b-e6bcdfa26671\">preprocessor: ColumnTransformer</label><div class=\"sk-toggleable__content\"><pre>ColumnTransformer(transformers=[('numerical',\n",
       "                                 Pipeline(steps=[('imputer',\n",
       "                                                  SimpleImputer(add_indicator=True,\n",
       "                                                                strategy='median')),\n",
       "                                                 ('scaler', PowerTransformer()),\n",
       "                                                 ('polynominal_features',\n",
       "                                                  PolynomialFeatures()),\n",
       "                                                 ('kmeans',\n",
       "                                                  MiniKmeansTransformerEncoder())]),\n",
       "                                 Index(['RevolvingUtilizationOfUnsecuredLines', 'DebtRatio', 'MonthlyIncome',\n",
       "       'NumberOfDependents', 'NumberOfT...\n",
       "                                                 ('encoder', WOEEncoder())]),\n",
       "                                 Index(['cat_RevolvingUtilizationOfUnsecuredLines', 'cat_DebtRatio',\n",
       "       'cat_MonthlyIncome', 'cat_NumberOfDependents',\n",
       "       'cat_NumberOfTime60-89DaysPastDueNotWorse',\n",
       "       'cat_NumberRealEstateLoansOrLines', 'cat_NumberOfTimes90DaysLate',\n",
       "       'cat_NumberOfOpenCreditLinesAndLoans',\n",
       "       'cat_NumberOfTime30-59DaysPastDueNotWorse', 'cat_age'],\n",
       "      dtype='object'))])</pre></div></div></div><div class=\"sk-parallel\"><div class=\"sk-parallel-item\"><div class=\"sk-item\"><div class=\"sk-label-container\"><div class=\"sk-label sk-toggleable\"><input class=\"sk-toggleable__control sk-hidden--visually\" id=\"11be6383-f77e-4cfb-a39c-91697aca48c0\" type=\"checkbox\" ><label class=\"sk-toggleable__label\" for=\"11be6383-f77e-4cfb-a39c-91697aca48c0\">numerical</label><div class=\"sk-toggleable__content\"><pre>Index(['RevolvingUtilizationOfUnsecuredLines', 'DebtRatio', 'MonthlyIncome',\n",
       "       'NumberOfDependents', 'NumberOfTime60-89DaysPastDueNotWorse',\n",
       "       'NumberRealEstateLoansOrLines', 'NumberOfTimes90DaysLate',\n",
       "       'NumberOfOpenCreditLinesAndLoans',\n",
       "       'NumberOfTime30-59DaysPastDueNotWorse', 'age'],\n",
       "      dtype='object')</pre></div></div></div><div class=\"sk-serial\"><div class=\"sk-item\"><div class=\"sk-serial\"><div class=\"sk-item\"><div class=\"sk-estimator sk-toggleable\"><input class=\"sk-toggleable__control sk-hidden--visually\" id=\"eaf5be4d-c2ba-46bb-8bc8-80121b80516d\" type=\"checkbox\" ><label class=\"sk-toggleable__label\" for=\"eaf5be4d-c2ba-46bb-8bc8-80121b80516d\">SimpleImputer</label><div class=\"sk-toggleable__content\"><pre>SimpleImputer(add_indicator=True, strategy='median')</pre></div></div></div><div class=\"sk-item\"><div class=\"sk-estimator sk-toggleable\"><input class=\"sk-toggleable__control sk-hidden--visually\" id=\"3b5a432a-4bf9-45e7-9ed3-f98a95f30bfa\" type=\"checkbox\" ><label class=\"sk-toggleable__label\" for=\"3b5a432a-4bf9-45e7-9ed3-f98a95f30bfa\">PowerTransformer</label><div class=\"sk-toggleable__content\"><pre>PowerTransformer()</pre></div></div></div><div class=\"sk-item\"><div class=\"sk-estimator sk-toggleable\"><input class=\"sk-toggleable__control sk-hidden--visually\" id=\"2e3f93fd-b59d-46dc-b592-ef425e391638\" type=\"checkbox\" ><label class=\"sk-toggleable__label\" for=\"2e3f93fd-b59d-46dc-b592-ef425e391638\">PolynomialFeatures</label><div class=\"sk-toggleable__content\"><pre>PolynomialFeatures()</pre></div></div></div><div class=\"sk-item sk-dashed-wrapped\"><div class=\"sk-label-container\"><div class=\"sk-label sk-toggleable\"><input class=\"sk-toggleable__control sk-hidden--visually\" id=\"fd6b19be-edf4-4bdd-ae91-11d058d0aecd\" type=\"checkbox\" ><label class=\"sk-toggleable__label\" for=\"fd6b19be-edf4-4bdd-ae91-11d058d0aecd\">kmeans: MiniKmeansTransformerEncoder</label><div class=\"sk-toggleable__content\"><pre>MiniKmeansTransformerEncoder()</pre></div></div></div><div class=\"sk-parallel\"><div class=\"sk-parallel-item\"><div class=\"sk-item\"><div class=\"sk-serial\"><div class=\"sk-item\"><div class=\"sk-estimator sk-toggleable\"><input class=\"sk-toggleable__control sk-hidden--visually\" id=\"b30e6347-e1e9-4a6f-9566-079d18df5074\" type=\"checkbox\" ><label class=\"sk-toggleable__label\" for=\"b30e6347-e1e9-4a6f-9566-079d18df5074\">WOEEncoder</label><div class=\"sk-toggleable__content\"><pre>WOEEncoder()</pre></div></div></div></div></div></div></div></div></div></div></div></div></div><div class=\"sk-parallel-item\"><div class=\"sk-item\"><div class=\"sk-label-container\"><div class=\"sk-label sk-toggleable\"><input class=\"sk-toggleable__control sk-hidden--visually\" id=\"82a8f5b8-d835-45c3-b7bc-b5b3c72869f2\" type=\"checkbox\" ><label class=\"sk-toggleable__label\" for=\"82a8f5b8-d835-45c3-b7bc-b5b3c72869f2\">categorical</label><div class=\"sk-toggleable__content\"><pre>Index(['cat_RevolvingUtilizationOfUnsecuredLines', 'cat_DebtRatio',\n",
       "       'cat_MonthlyIncome', 'cat_NumberOfDependents',\n",
       "       'cat_NumberOfTime60-89DaysPastDueNotWorse',\n",
       "       'cat_NumberRealEstateLoansOrLines', 'cat_NumberOfTimes90DaysLate',\n",
       "       'cat_NumberOfOpenCreditLinesAndLoans',\n",
       "       'cat_NumberOfTime30-59DaysPastDueNotWorse', 'cat_age'],\n",
       "      dtype='object')</pre></div></div></div><div class=\"sk-serial\"><div class=\"sk-item\"><div class=\"sk-serial\"><div class=\"sk-item\"><div class=\"sk-estimator sk-toggleable\"><input class=\"sk-toggleable__control sk-hidden--visually\" id=\"2dcc6cd9-b15b-45ea-9e80-886c33fa4f93\" type=\"checkbox\" ><label class=\"sk-toggleable__label\" for=\"2dcc6cd9-b15b-45ea-9e80-886c33fa4f93\">SimpleImputer</label><div class=\"sk-toggleable__content\"><pre>SimpleImputer(add_indicator=True, fill_value='missing',\n",
       "              strategy='most_frequent')</pre></div></div></div><div class=\"sk-item\"><div class=\"sk-estimator sk-toggleable\"><input class=\"sk-toggleable__control sk-hidden--visually\" id=\"7012292b-0c24-4126-a201-d3c988e58e83\" type=\"checkbox\" ><label class=\"sk-toggleable__label\" for=\"7012292b-0c24-4126-a201-d3c988e58e83\">WOEEncoder</label><div class=\"sk-toggleable__content\"><pre>WOEEncoder()</pre></div></div></div></div></div></div></div></div></div></div><div class=\"sk-item\"><div class=\"sk-estimator sk-toggleable\"><input class=\"sk-toggleable__control sk-hidden--visually\" id=\"37f6ad65-34cd-4144-88df-4ca8cbda5810\" type=\"checkbox\" ><label class=\"sk-toggleable__label\" for=\"37f6ad65-34cd-4144-88df-4ca8cbda5810\">RandomForestClassifier</label><div class=\"sk-toggleable__content\"><pre>RandomForestClassifier(max_depth=12, min_samples_leaf=4, min_samples_split=3,\n",
       "                       n_estimators=2975, random_state=42)</pre></div></div></div></div></div></div></div>"
      ],
      "text/plain": [
       "Pipeline(steps=[('preprocessor',\n",
       "                 ColumnTransformer(transformers=[('numerical',\n",
       "                                                  Pipeline(steps=[('imputer',\n",
       "                                                                   SimpleImputer(add_indicator=True,\n",
       "                                                                                 strategy='median')),\n",
       "                                                                  ('scaler',\n",
       "                                                                   PowerTransformer()),\n",
       "                                                                  ('polynominal_features',\n",
       "                                                                   PolynomialFeatures()),\n",
       "                                                                  ('kmeans',\n",
       "                                                                   MiniKmeansTransformerEncoder())]),\n",
       "                                                  Index(['RevolvingUtilizationOfUnsecuredLines', 'DebtRatio', 'MonthlyIncome'...\n",
       "       'cat_MonthlyIncome', 'cat_NumberOfDependents',\n",
       "       'cat_NumberOfTime60-89DaysPastDueNotWorse',\n",
       "       'cat_NumberRealEstateLoansOrLines', 'cat_NumberOfTimes90DaysLate',\n",
       "       'cat_NumberOfOpenCreditLinesAndLoans',\n",
       "       'cat_NumberOfTime30-59DaysPastDueNotWorse', 'cat_age'],\n",
       "      dtype='object'))])),\n",
       "                ('classifier',\n",
       "                 RandomForestClassifier(max_depth=12, min_samples_leaf=4,\n",
       "                                        min_samples_split=3, n_estimators=2975,\n",
       "                                        random_state=42))])"
      ]
     },
     "execution_count": 27,
     "metadata": {},
     "output_type": "execute_result"
    }
   ],
   "source": [
    "params_rf =  {\"random_state\": 42,\n",
    "              'n_estimators': 2975,\n",
    "              'max_features': 'auto', \n",
    "              'max_depth': 12,\n",
    "              'min_samples_split': 3, \n",
    "              'min_samples_leaf': 4, \n",
    "              'bootstrap': True\n",
    "             }\n",
    "model_rf = RandomForestClassifier(**params_rf,\n",
    "                              # use it  only on gpu\n",
    "                            # rsm=np.nan\n",
    "                              #cat_features=cat_features\n",
    "                             )\n",
    "pipe1_model_rf_woe_powertransformer = Pipeline(\n",
    "    steps=[\n",
    "        ('preprocessor', preprocessor_woe_powertransformer),\n",
    "         #('reducedim',  SelectPercentile( f_classif, percentile=95)),\n",
    "        # ('dim_red', SelectKBest(f_regression, k=20)),\n",
    "        #('Sparseinteractions', SparseInteractions(degree=2)),\n",
    "         #('PolynomialFeatures', PolynomialFeatures(degree=2)),\n",
    "        #('PCAreducer', PCA(n_components=0.8)),\n",
    "        ('classifier',model_rf)\n",
    "    ]\n",
    ")\n",
    "pipe1_model_rf_woe_powertransformer"
   ]
  },
  {
   "cell_type": "markdown",
   "id": "183bc79f",
   "metadata": {
    "papermill": {
     "duration": 0.05436,
     "end_time": "2021-12-28T15:53:42.667494",
     "exception": false,
     "start_time": "2021-12-28T15:53:42.613134",
     "status": "completed"
    },
    "tags": []
   },
   "source": [
    "**7-lgbm:**"
   ]
  },
  {
   "cell_type": "code",
   "execution_count": 28,
   "id": "a7c29a26",
   "metadata": {
    "execution": {
     "iopub.execute_input": "2021-12-28T15:53:42.772514Z",
     "iopub.status.busy": "2021-12-28T15:53:42.771845Z",
     "iopub.status.idle": "2021-12-28T15:53:43.389304Z",
     "shell.execute_reply": "2021-12-28T15:53:43.389837Z"
    },
    "papermill": {
     "duration": 0.671058,
     "end_time": "2021-12-28T15:53:43.390001",
     "exception": false,
     "start_time": "2021-12-28T15:53:42.718943",
     "status": "completed"
    },
    "tags": []
   },
   "outputs": [
    {
     "data": {
      "text/html": [
       "<style>div.sk-top-container {color: black;background-color: white;}div.sk-toggleable {background-color: white;}label.sk-toggleable__label {cursor: pointer;display: block;width: 100%;margin-bottom: 0;padding: 0.2em 0.3em;box-sizing: border-box;text-align: center;}div.sk-toggleable__content {max-height: 0;max-width: 0;overflow: hidden;text-align: left;background-color: #f0f8ff;}div.sk-toggleable__content pre {margin: 0.2em;color: black;border-radius: 0.25em;background-color: #f0f8ff;}input.sk-toggleable__control:checked~div.sk-toggleable__content {max-height: 200px;max-width: 100%;overflow: auto;}div.sk-estimator input.sk-toggleable__control:checked~label.sk-toggleable__label {background-color: #d4ebff;}div.sk-label input.sk-toggleable__control:checked~label.sk-toggleable__label {background-color: #d4ebff;}input.sk-hidden--visually {border: 0;clip: rect(1px 1px 1px 1px);clip: rect(1px, 1px, 1px, 1px);height: 1px;margin: -1px;overflow: hidden;padding: 0;position: absolute;width: 1px;}div.sk-estimator {font-family: monospace;background-color: #f0f8ff;margin: 0.25em 0.25em;border: 1px dotted black;border-radius: 0.25em;box-sizing: border-box;}div.sk-estimator:hover {background-color: #d4ebff;}div.sk-parallel-item::after {content: \"\";width: 100%;border-bottom: 1px solid gray;flex-grow: 1;}div.sk-label:hover label.sk-toggleable__label {background-color: #d4ebff;}div.sk-serial::before {content: \"\";position: absolute;border-left: 1px solid gray;box-sizing: border-box;top: 2em;bottom: 0;left: 50%;}div.sk-serial {display: flex;flex-direction: column;align-items: center;background-color: white;}div.sk-item {z-index: 1;}div.sk-parallel {display: flex;align-items: stretch;justify-content: center;background-color: white;}div.sk-parallel-item {display: flex;flex-direction: column;position: relative;background-color: white;}div.sk-parallel-item:first-child::after {align-self: flex-end;width: 50%;}div.sk-parallel-item:last-child::after {align-self: flex-start;width: 50%;}div.sk-parallel-item:only-child::after {width: 0;}div.sk-dashed-wrapped {border: 1px dashed gray;margin: 0.2em;box-sizing: border-box;padding-bottom: 0.1em;background-color: white;position: relative;}div.sk-label label {font-family: monospace;font-weight: bold;background-color: white;display: inline-block;line-height: 1.2em;}div.sk-label-container {position: relative;z-index: 2;text-align: center;}div.sk-container {display: inline-block;position: relative;}</style><div class=\"sk-top-container\"><div class=\"sk-container\"><div class=\"sk-item sk-dashed-wrapped\"><div class=\"sk-label-container\"><div class=\"sk-label sk-toggleable\"><input class=\"sk-toggleable__control sk-hidden--visually\" id=\"28cc652d-ba43-4501-8456-40795ea25fe1\" type=\"checkbox\" ><label class=\"sk-toggleable__label\" for=\"28cc652d-ba43-4501-8456-40795ea25fe1\">Pipeline</label><div class=\"sk-toggleable__content\"><pre>Pipeline(steps=[('preprocessor',\n",
       "                 ColumnTransformer(transformers=[('numerical',\n",
       "                                                  Pipeline(steps=[('imputer',\n",
       "                                                                   SimpleImputer(add_indicator=True,\n",
       "                                                                                 strategy='median')),\n",
       "                                                                  ('scaler',\n",
       "                                                                   PowerTransformer()),\n",
       "                                                                  ('polynominal_features',\n",
       "                                                                   PolynomialFeatures()),\n",
       "                                                                  ('kmeans',\n",
       "                                                                   MiniKmeansTransformerEncoder())]),\n",
       "                                                  Index(['RevolvingUtilizationOfUnsecuredLines', 'DebtRatio', 'MonthlyIncome'...\n",
       "       'cat_NumberOfTime30-59DaysPastDueNotWorse', 'cat_age'],\n",
       "      dtype='object'))])),\n",
       "                ('classifier',\n",
       "                 LGBMClassifier(bagging_fraction=0.8225459856082522,\n",
       "                                bagging_freq=3,\n",
       "                                feature_fraction=0.7099515479738928,\n",
       "                                lambda_l1=2.5825901359648176e-05,\n",
       "                                lambda_l2=4.490094872871969,\n",
       "                                learning_rate=0.005282912028625591,\n",
       "                                metric='auc', min_child_samples=35,\n",
       "                                n_estimators=1491, num_leaves=76,\n",
       "                                objective='binary', random_state=42,\n",
       "                                verbosity=-1))])</pre></div></div></div><div class=\"sk-serial\"><div class=\"sk-item sk-dashed-wrapped\"><div class=\"sk-label-container\"><div class=\"sk-label sk-toggleable\"><input class=\"sk-toggleable__control sk-hidden--visually\" id=\"dd49ddfb-f7eb-4002-9cd3-daef3420fc0c\" type=\"checkbox\" ><label class=\"sk-toggleable__label\" for=\"dd49ddfb-f7eb-4002-9cd3-daef3420fc0c\">preprocessor: ColumnTransformer</label><div class=\"sk-toggleable__content\"><pre>ColumnTransformer(transformers=[('numerical',\n",
       "                                 Pipeline(steps=[('imputer',\n",
       "                                                  SimpleImputer(add_indicator=True,\n",
       "                                                                strategy='median')),\n",
       "                                                 ('scaler', PowerTransformer()),\n",
       "                                                 ('polynominal_features',\n",
       "                                                  PolynomialFeatures()),\n",
       "                                                 ('kmeans',\n",
       "                                                  MiniKmeansTransformerEncoder())]),\n",
       "                                 Index(['RevolvingUtilizationOfUnsecuredLines', 'DebtRatio', 'MonthlyIncome',\n",
       "       'NumberOfDependents', 'NumberOfT...\n",
       "                                                 ('encoder', WOEEncoder())]),\n",
       "                                 Index(['cat_RevolvingUtilizationOfUnsecuredLines', 'cat_DebtRatio',\n",
       "       'cat_MonthlyIncome', 'cat_NumberOfDependents',\n",
       "       'cat_NumberOfTime60-89DaysPastDueNotWorse',\n",
       "       'cat_NumberRealEstateLoansOrLines', 'cat_NumberOfTimes90DaysLate',\n",
       "       'cat_NumberOfOpenCreditLinesAndLoans',\n",
       "       'cat_NumberOfTime30-59DaysPastDueNotWorse', 'cat_age'],\n",
       "      dtype='object'))])</pre></div></div></div><div class=\"sk-parallel\"><div class=\"sk-parallel-item\"><div class=\"sk-item\"><div class=\"sk-label-container\"><div class=\"sk-label sk-toggleable\"><input class=\"sk-toggleable__control sk-hidden--visually\" id=\"07b10672-268b-48a4-a903-c57bb394a556\" type=\"checkbox\" ><label class=\"sk-toggleable__label\" for=\"07b10672-268b-48a4-a903-c57bb394a556\">numerical</label><div class=\"sk-toggleable__content\"><pre>Index(['RevolvingUtilizationOfUnsecuredLines', 'DebtRatio', 'MonthlyIncome',\n",
       "       'NumberOfDependents', 'NumberOfTime60-89DaysPastDueNotWorse',\n",
       "       'NumberRealEstateLoansOrLines', 'NumberOfTimes90DaysLate',\n",
       "       'NumberOfOpenCreditLinesAndLoans',\n",
       "       'NumberOfTime30-59DaysPastDueNotWorse', 'age'],\n",
       "      dtype='object')</pre></div></div></div><div class=\"sk-serial\"><div class=\"sk-item\"><div class=\"sk-serial\"><div class=\"sk-item\"><div class=\"sk-estimator sk-toggleable\"><input class=\"sk-toggleable__control sk-hidden--visually\" id=\"85ee982e-a3dd-42a6-9fb7-6baf0b88e5c0\" type=\"checkbox\" ><label class=\"sk-toggleable__label\" for=\"85ee982e-a3dd-42a6-9fb7-6baf0b88e5c0\">SimpleImputer</label><div class=\"sk-toggleable__content\"><pre>SimpleImputer(add_indicator=True, strategy='median')</pre></div></div></div><div class=\"sk-item\"><div class=\"sk-estimator sk-toggleable\"><input class=\"sk-toggleable__control sk-hidden--visually\" id=\"5ef3702a-26f0-4346-be7d-6f87fc29ef55\" type=\"checkbox\" ><label class=\"sk-toggleable__label\" for=\"5ef3702a-26f0-4346-be7d-6f87fc29ef55\">PowerTransformer</label><div class=\"sk-toggleable__content\"><pre>PowerTransformer()</pre></div></div></div><div class=\"sk-item\"><div class=\"sk-estimator sk-toggleable\"><input class=\"sk-toggleable__control sk-hidden--visually\" id=\"34c04901-e014-4714-86a2-65c06c88890e\" type=\"checkbox\" ><label class=\"sk-toggleable__label\" for=\"34c04901-e014-4714-86a2-65c06c88890e\">PolynomialFeatures</label><div class=\"sk-toggleable__content\"><pre>PolynomialFeatures()</pre></div></div></div><div class=\"sk-item sk-dashed-wrapped\"><div class=\"sk-label-container\"><div class=\"sk-label sk-toggleable\"><input class=\"sk-toggleable__control sk-hidden--visually\" id=\"2e27dd75-c038-4205-98ca-32301bd14c60\" type=\"checkbox\" ><label class=\"sk-toggleable__label\" for=\"2e27dd75-c038-4205-98ca-32301bd14c60\">kmeans: MiniKmeansTransformerEncoder</label><div class=\"sk-toggleable__content\"><pre>MiniKmeansTransformerEncoder()</pre></div></div></div><div class=\"sk-parallel\"><div class=\"sk-parallel-item\"><div class=\"sk-item\"><div class=\"sk-serial\"><div class=\"sk-item\"><div class=\"sk-estimator sk-toggleable\"><input class=\"sk-toggleable__control sk-hidden--visually\" id=\"2cbf1b87-0f3b-43a7-8631-82d4cebb6457\" type=\"checkbox\" ><label class=\"sk-toggleable__label\" for=\"2cbf1b87-0f3b-43a7-8631-82d4cebb6457\">WOEEncoder</label><div class=\"sk-toggleable__content\"><pre>WOEEncoder()</pre></div></div></div></div></div></div></div></div></div></div></div></div></div><div class=\"sk-parallel-item\"><div class=\"sk-item\"><div class=\"sk-label-container\"><div class=\"sk-label sk-toggleable\"><input class=\"sk-toggleable__control sk-hidden--visually\" id=\"2ec42e1e-9eb1-494f-8709-f64ed65dcb5b\" type=\"checkbox\" ><label class=\"sk-toggleable__label\" for=\"2ec42e1e-9eb1-494f-8709-f64ed65dcb5b\">categorical</label><div class=\"sk-toggleable__content\"><pre>Index(['cat_RevolvingUtilizationOfUnsecuredLines', 'cat_DebtRatio',\n",
       "       'cat_MonthlyIncome', 'cat_NumberOfDependents',\n",
       "       'cat_NumberOfTime60-89DaysPastDueNotWorse',\n",
       "       'cat_NumberRealEstateLoansOrLines', 'cat_NumberOfTimes90DaysLate',\n",
       "       'cat_NumberOfOpenCreditLinesAndLoans',\n",
       "       'cat_NumberOfTime30-59DaysPastDueNotWorse', 'cat_age'],\n",
       "      dtype='object')</pre></div></div></div><div class=\"sk-serial\"><div class=\"sk-item\"><div class=\"sk-serial\"><div class=\"sk-item\"><div class=\"sk-estimator sk-toggleable\"><input class=\"sk-toggleable__control sk-hidden--visually\" id=\"627bc949-ee6e-453d-ab76-dd0a234c0833\" type=\"checkbox\" ><label class=\"sk-toggleable__label\" for=\"627bc949-ee6e-453d-ab76-dd0a234c0833\">SimpleImputer</label><div class=\"sk-toggleable__content\"><pre>SimpleImputer(add_indicator=True, fill_value='missing',\n",
       "              strategy='most_frequent')</pre></div></div></div><div class=\"sk-item\"><div class=\"sk-estimator sk-toggleable\"><input class=\"sk-toggleable__control sk-hidden--visually\" id=\"bc7a7ec0-4051-4a3b-85d7-98f8f415fd61\" type=\"checkbox\" ><label class=\"sk-toggleable__label\" for=\"bc7a7ec0-4051-4a3b-85d7-98f8f415fd61\">WOEEncoder</label><div class=\"sk-toggleable__content\"><pre>WOEEncoder()</pre></div></div></div></div></div></div></div></div></div></div><div class=\"sk-item\"><div class=\"sk-estimator sk-toggleable\"><input class=\"sk-toggleable__control sk-hidden--visually\" id=\"f2f0f622-8b00-42e2-ab0d-f6619d1495c9\" type=\"checkbox\" ><label class=\"sk-toggleable__label\" for=\"f2f0f622-8b00-42e2-ab0d-f6619d1495c9\">LGBMClassifier</label><div class=\"sk-toggleable__content\"><pre>LGBMClassifier(bagging_fraction=0.8225459856082522, bagging_freq=3,\n",
       "               feature_fraction=0.7099515479738928,\n",
       "               lambda_l1=2.5825901359648176e-05, lambda_l2=4.490094872871969,\n",
       "               learning_rate=0.005282912028625591, metric='auc',\n",
       "               min_child_samples=35, n_estimators=1491, num_leaves=76,\n",
       "               objective='binary', random_state=42, verbosity=-1)</pre></div></div></div></div></div></div></div>"
      ],
      "text/plain": [
       "Pipeline(steps=[('preprocessor',\n",
       "                 ColumnTransformer(transformers=[('numerical',\n",
       "                                                  Pipeline(steps=[('imputer',\n",
       "                                                                   SimpleImputer(add_indicator=True,\n",
       "                                                                                 strategy='median')),\n",
       "                                                                  ('scaler',\n",
       "                                                                   PowerTransformer()),\n",
       "                                                                  ('polynominal_features',\n",
       "                                                                   PolynomialFeatures()),\n",
       "                                                                  ('kmeans',\n",
       "                                                                   MiniKmeansTransformerEncoder())]),\n",
       "                                                  Index(['RevolvingUtilizationOfUnsecuredLines', 'DebtRatio', 'MonthlyIncome'...\n",
       "       'cat_NumberOfTime30-59DaysPastDueNotWorse', 'cat_age'],\n",
       "      dtype='object'))])),\n",
       "                ('classifier',\n",
       "                 LGBMClassifier(bagging_fraction=0.8225459856082522,\n",
       "                                bagging_freq=3,\n",
       "                                feature_fraction=0.7099515479738928,\n",
       "                                lambda_l1=2.5825901359648176e-05,\n",
       "                                lambda_l2=4.490094872871969,\n",
       "                                learning_rate=0.005282912028625591,\n",
       "                                metric='auc', min_child_samples=35,\n",
       "                                n_estimators=1491, num_leaves=76,\n",
       "                                objective='binary', random_state=42,\n",
       "                                verbosity=-1))])"
      ]
     },
     "execution_count": 28,
     "metadata": {},
     "output_type": "execute_result"
    }
   ],
   "source": [
    "params_lgbm =  {\n",
    "               \"objective\": \"binary\",\n",
    "                'random_state': 42,\n",
    "                'metric': 'auc',\n",
    "                \"verbosity\": -1,\n",
    "                \"boosting_type\": \"gbdt\",\n",
    "                #\"device\": \"gpu\",\n",
    "                #\"early_stopping_rounds\":100,\n",
    "                'learning_rate': 0.005282912028625591, \n",
    "                'n_estimators': 1491,\n",
    "                'lambda_l1': 2.5825901359648176e-05, \n",
    "                'lambda_l2': 4.490094872871969,\n",
    "                'num_leaves': 76,\n",
    "                'feature_fraction': 0.7099515479738928,\n",
    "                'bagging_fraction': 0.8225459856082522,\n",
    "                'bagging_freq': 3,\n",
    "                'min_child_samples': 35\n",
    "               }\n",
    "model_lgbm = lgbm.LGBMClassifier(**params_lgbm,\n",
    "                              # use it  only on gpu\n",
    "                            # rsm=np.nan\n",
    "                              #cat_features=cat_features\n",
    "                             )\n",
    "pipe1_model_lgbm_woe_powertransformer = Pipeline(\n",
    "    steps=[\n",
    "        ('preprocessor', preprocessor_woe_powertransformer),\n",
    "        # ('reducedim',  SelectPercentile( f_classif, percentile=95)),\n",
    "        # ('dim_red', SelectKBest(f_regression, k=20)),\n",
    "        #('Sparseinteractions', SparseInteractions(degree=2)),\n",
    "         #('PolynomialFeatures', PolynomialFeatures(degree=2)),\n",
    "        #('PCAreducer', PCA(n_components=0.8)),\n",
    "        ('classifier',model_lgbm)\n",
    "    ]\n",
    ")\n",
    "pipe1_model_lgbm_woe_powertransformer"
   ]
  },
  {
   "cell_type": "code",
   "execution_count": 29,
   "id": "f4f7644a",
   "metadata": {
    "execution": {
     "iopub.execute_input": "2021-12-28T15:53:43.493714Z",
     "iopub.status.busy": "2021-12-28T15:53:43.493067Z",
     "iopub.status.idle": "2021-12-28T15:53:44.119224Z",
     "shell.execute_reply": "2021-12-28T15:53:44.119751Z"
    },
    "papermill": {
     "duration": 0.679535,
     "end_time": "2021-12-28T15:53:44.119912",
     "exception": false,
     "start_time": "2021-12-28T15:53:43.440377",
     "status": "completed"
    },
    "tags": []
   },
   "outputs": [
    {
     "data": {
      "text/html": [
       "<style>div.sk-top-container {color: black;background-color: white;}div.sk-toggleable {background-color: white;}label.sk-toggleable__label {cursor: pointer;display: block;width: 100%;margin-bottom: 0;padding: 0.2em 0.3em;box-sizing: border-box;text-align: center;}div.sk-toggleable__content {max-height: 0;max-width: 0;overflow: hidden;text-align: left;background-color: #f0f8ff;}div.sk-toggleable__content pre {margin: 0.2em;color: black;border-radius: 0.25em;background-color: #f0f8ff;}input.sk-toggleable__control:checked~div.sk-toggleable__content {max-height: 200px;max-width: 100%;overflow: auto;}div.sk-estimator input.sk-toggleable__control:checked~label.sk-toggleable__label {background-color: #d4ebff;}div.sk-label input.sk-toggleable__control:checked~label.sk-toggleable__label {background-color: #d4ebff;}input.sk-hidden--visually {border: 0;clip: rect(1px 1px 1px 1px);clip: rect(1px, 1px, 1px, 1px);height: 1px;margin: -1px;overflow: hidden;padding: 0;position: absolute;width: 1px;}div.sk-estimator {font-family: monospace;background-color: #f0f8ff;margin: 0.25em 0.25em;border: 1px dotted black;border-radius: 0.25em;box-sizing: border-box;}div.sk-estimator:hover {background-color: #d4ebff;}div.sk-parallel-item::after {content: \"\";width: 100%;border-bottom: 1px solid gray;flex-grow: 1;}div.sk-label:hover label.sk-toggleable__label {background-color: #d4ebff;}div.sk-serial::before {content: \"\";position: absolute;border-left: 1px solid gray;box-sizing: border-box;top: 2em;bottom: 0;left: 50%;}div.sk-serial {display: flex;flex-direction: column;align-items: center;background-color: white;}div.sk-item {z-index: 1;}div.sk-parallel {display: flex;align-items: stretch;justify-content: center;background-color: white;}div.sk-parallel-item {display: flex;flex-direction: column;position: relative;background-color: white;}div.sk-parallel-item:first-child::after {align-self: flex-end;width: 50%;}div.sk-parallel-item:last-child::after {align-self: flex-start;width: 50%;}div.sk-parallel-item:only-child::after {width: 0;}div.sk-dashed-wrapped {border: 1px dashed gray;margin: 0.2em;box-sizing: border-box;padding-bottom: 0.1em;background-color: white;position: relative;}div.sk-label label {font-family: monospace;font-weight: bold;background-color: white;display: inline-block;line-height: 1.2em;}div.sk-label-container {position: relative;z-index: 2;text-align: center;}div.sk-container {display: inline-block;position: relative;}</style><div class=\"sk-top-container\"><div class=\"sk-container\"><div class=\"sk-item sk-dashed-wrapped\"><div class=\"sk-label-container\"><div class=\"sk-label sk-toggleable\"><input class=\"sk-toggleable__control sk-hidden--visually\" id=\"8a464035-1550-44aa-afe9-96b65124c8d1\" type=\"checkbox\" ><label class=\"sk-toggleable__label\" for=\"8a464035-1550-44aa-afe9-96b65124c8d1\">Pipeline</label><div class=\"sk-toggleable__content\"><pre>Pipeline(steps=[('preprocessor',\n",
       "                 ColumnTransformer(transformers=[('numerical',\n",
       "                                                  Pipeline(steps=[('imputer',\n",
       "                                                                   SimpleImputer(add_indicator=True,\n",
       "                                                                                 strategy='median')),\n",
       "                                                                  ('scaler',\n",
       "                                                                   PowerTransformer()),\n",
       "                                                                  ('polynominal_features',\n",
       "                                                                   PolynomialFeatures()),\n",
       "                                                                  ('kmeans',\n",
       "                                                                   MiniKmeansTransformerEncoder())]),\n",
       "                                                  Index(['RevolvingUtilizationOfUnsecuredLines', 'DebtRatio', 'MonthlyIncome'...\n",
       "       'cat_NumberRealEstateLoansOrLines', 'cat_NumberOfTimes90DaysLate',\n",
       "       'cat_NumberOfOpenCreditLinesAndLoans',\n",
       "       'cat_NumberOfTime30-59DaysPastDueNotWorse', 'cat_age'],\n",
       "      dtype='object'))])),\n",
       "                ('reducedim', SelectPercentile(percentile=80)),\n",
       "                ('classifier',\n",
       "                 LGBMClassifier(learning_rate=0.0018069834369607075,\n",
       "                                max_depth=8, metric='auc', min_samples_leaf=47,\n",
       "                                n_estimators=5000, random_state=42,\n",
       "                                subsample=0.8573598985000007))])</pre></div></div></div><div class=\"sk-serial\"><div class=\"sk-item sk-dashed-wrapped\"><div class=\"sk-label-container\"><div class=\"sk-label sk-toggleable\"><input class=\"sk-toggleable__control sk-hidden--visually\" id=\"7938f315-f353-41ab-9c9a-bfd489bf0b72\" type=\"checkbox\" ><label class=\"sk-toggleable__label\" for=\"7938f315-f353-41ab-9c9a-bfd489bf0b72\">preprocessor: ColumnTransformer</label><div class=\"sk-toggleable__content\"><pre>ColumnTransformer(transformers=[('numerical',\n",
       "                                 Pipeline(steps=[('imputer',\n",
       "                                                  SimpleImputer(add_indicator=True,\n",
       "                                                                strategy='median')),\n",
       "                                                 ('scaler', PowerTransformer()),\n",
       "                                                 ('polynominal_features',\n",
       "                                                  PolynomialFeatures()),\n",
       "                                                 ('kmeans',\n",
       "                                                  MiniKmeansTransformerEncoder())]),\n",
       "                                 Index(['RevolvingUtilizationOfUnsecuredLines', 'DebtRatio', 'MonthlyIncome',\n",
       "       'NumberOfDependents', 'NumberOfT...\n",
       "                                                 ('encoder', WOEEncoder())]),\n",
       "                                 Index(['cat_RevolvingUtilizationOfUnsecuredLines', 'cat_DebtRatio',\n",
       "       'cat_MonthlyIncome', 'cat_NumberOfDependents',\n",
       "       'cat_NumberOfTime60-89DaysPastDueNotWorse',\n",
       "       'cat_NumberRealEstateLoansOrLines', 'cat_NumberOfTimes90DaysLate',\n",
       "       'cat_NumberOfOpenCreditLinesAndLoans',\n",
       "       'cat_NumberOfTime30-59DaysPastDueNotWorse', 'cat_age'],\n",
       "      dtype='object'))])</pre></div></div></div><div class=\"sk-parallel\"><div class=\"sk-parallel-item\"><div class=\"sk-item\"><div class=\"sk-label-container\"><div class=\"sk-label sk-toggleable\"><input class=\"sk-toggleable__control sk-hidden--visually\" id=\"3550b925-fb40-4d09-a217-0cf8072ee435\" type=\"checkbox\" ><label class=\"sk-toggleable__label\" for=\"3550b925-fb40-4d09-a217-0cf8072ee435\">numerical</label><div class=\"sk-toggleable__content\"><pre>Index(['RevolvingUtilizationOfUnsecuredLines', 'DebtRatio', 'MonthlyIncome',\n",
       "       'NumberOfDependents', 'NumberOfTime60-89DaysPastDueNotWorse',\n",
       "       'NumberRealEstateLoansOrLines', 'NumberOfTimes90DaysLate',\n",
       "       'NumberOfOpenCreditLinesAndLoans',\n",
       "       'NumberOfTime30-59DaysPastDueNotWorse', 'age'],\n",
       "      dtype='object')</pre></div></div></div><div class=\"sk-serial\"><div class=\"sk-item\"><div class=\"sk-serial\"><div class=\"sk-item\"><div class=\"sk-estimator sk-toggleable\"><input class=\"sk-toggleable__control sk-hidden--visually\" id=\"fc08fba6-98da-462a-b6b3-b891938efefa\" type=\"checkbox\" ><label class=\"sk-toggleable__label\" for=\"fc08fba6-98da-462a-b6b3-b891938efefa\">SimpleImputer</label><div class=\"sk-toggleable__content\"><pre>SimpleImputer(add_indicator=True, strategy='median')</pre></div></div></div><div class=\"sk-item\"><div class=\"sk-estimator sk-toggleable\"><input class=\"sk-toggleable__control sk-hidden--visually\" id=\"ed9fa2aa-4ec9-428b-adde-30adb0617448\" type=\"checkbox\" ><label class=\"sk-toggleable__label\" for=\"ed9fa2aa-4ec9-428b-adde-30adb0617448\">PowerTransformer</label><div class=\"sk-toggleable__content\"><pre>PowerTransformer()</pre></div></div></div><div class=\"sk-item\"><div class=\"sk-estimator sk-toggleable\"><input class=\"sk-toggleable__control sk-hidden--visually\" id=\"27129b88-841a-492b-9084-453df41c9584\" type=\"checkbox\" ><label class=\"sk-toggleable__label\" for=\"27129b88-841a-492b-9084-453df41c9584\">PolynomialFeatures</label><div class=\"sk-toggleable__content\"><pre>PolynomialFeatures()</pre></div></div></div><div class=\"sk-item sk-dashed-wrapped\"><div class=\"sk-label-container\"><div class=\"sk-label sk-toggleable\"><input class=\"sk-toggleable__control sk-hidden--visually\" id=\"9bd734f1-2695-4be2-a3e0-3e171841a710\" type=\"checkbox\" ><label class=\"sk-toggleable__label\" for=\"9bd734f1-2695-4be2-a3e0-3e171841a710\">kmeans: MiniKmeansTransformerEncoder</label><div class=\"sk-toggleable__content\"><pre>MiniKmeansTransformerEncoder()</pre></div></div></div><div class=\"sk-parallel\"><div class=\"sk-parallel-item\"><div class=\"sk-item\"><div class=\"sk-serial\"><div class=\"sk-item\"><div class=\"sk-estimator sk-toggleable\"><input class=\"sk-toggleable__control sk-hidden--visually\" id=\"74901582-4c11-4336-a8d5-dba071732617\" type=\"checkbox\" ><label class=\"sk-toggleable__label\" for=\"74901582-4c11-4336-a8d5-dba071732617\">WOEEncoder</label><div class=\"sk-toggleable__content\"><pre>WOEEncoder()</pre></div></div></div></div></div></div></div></div></div></div></div></div></div><div class=\"sk-parallel-item\"><div class=\"sk-item\"><div class=\"sk-label-container\"><div class=\"sk-label sk-toggleable\"><input class=\"sk-toggleable__control sk-hidden--visually\" id=\"c8086a12-e57f-483b-9f74-159d334df818\" type=\"checkbox\" ><label class=\"sk-toggleable__label\" for=\"c8086a12-e57f-483b-9f74-159d334df818\">categorical</label><div class=\"sk-toggleable__content\"><pre>Index(['cat_RevolvingUtilizationOfUnsecuredLines', 'cat_DebtRatio',\n",
       "       'cat_MonthlyIncome', 'cat_NumberOfDependents',\n",
       "       'cat_NumberOfTime60-89DaysPastDueNotWorse',\n",
       "       'cat_NumberRealEstateLoansOrLines', 'cat_NumberOfTimes90DaysLate',\n",
       "       'cat_NumberOfOpenCreditLinesAndLoans',\n",
       "       'cat_NumberOfTime30-59DaysPastDueNotWorse', 'cat_age'],\n",
       "      dtype='object')</pre></div></div></div><div class=\"sk-serial\"><div class=\"sk-item\"><div class=\"sk-serial\"><div class=\"sk-item\"><div class=\"sk-estimator sk-toggleable\"><input class=\"sk-toggleable__control sk-hidden--visually\" id=\"e6108614-6ad6-4c61-b564-081a39ca7446\" type=\"checkbox\" ><label class=\"sk-toggleable__label\" for=\"e6108614-6ad6-4c61-b564-081a39ca7446\">SimpleImputer</label><div class=\"sk-toggleable__content\"><pre>SimpleImputer(add_indicator=True, fill_value='missing',\n",
       "              strategy='most_frequent')</pre></div></div></div><div class=\"sk-item\"><div class=\"sk-estimator sk-toggleable\"><input class=\"sk-toggleable__control sk-hidden--visually\" id=\"2b1d2cf9-7165-40f3-96d6-39ecab26309e\" type=\"checkbox\" ><label class=\"sk-toggleable__label\" for=\"2b1d2cf9-7165-40f3-96d6-39ecab26309e\">WOEEncoder</label><div class=\"sk-toggleable__content\"><pre>WOEEncoder()</pre></div></div></div></div></div></div></div></div></div></div><div class=\"sk-item\"><div class=\"sk-estimator sk-toggleable\"><input class=\"sk-toggleable__control sk-hidden--visually\" id=\"e5f1e5f1-6714-4590-affa-0b553862bc5b\" type=\"checkbox\" ><label class=\"sk-toggleable__label\" for=\"e5f1e5f1-6714-4590-affa-0b553862bc5b\">SelectPercentile</label><div class=\"sk-toggleable__content\"><pre>SelectPercentile(percentile=80)</pre></div></div></div><div class=\"sk-item\"><div class=\"sk-estimator sk-toggleable\"><input class=\"sk-toggleable__control sk-hidden--visually\" id=\"bb3adb55-bbad-4c46-966e-11f03cb037d6\" type=\"checkbox\" ><label class=\"sk-toggleable__label\" for=\"bb3adb55-bbad-4c46-966e-11f03cb037d6\">LGBMClassifier</label><div class=\"sk-toggleable__content\"><pre>LGBMClassifier(learning_rate=0.0018069834369607075, max_depth=8, metric='auc',\n",
       "               min_samples_leaf=47, n_estimators=5000, random_state=42,\n",
       "               subsample=0.8573598985000007)</pre></div></div></div></div></div></div></div>"
      ],
      "text/plain": [
       "Pipeline(steps=[('preprocessor',\n",
       "                 ColumnTransformer(transformers=[('numerical',\n",
       "                                                  Pipeline(steps=[('imputer',\n",
       "                                                                   SimpleImputer(add_indicator=True,\n",
       "                                                                                 strategy='median')),\n",
       "                                                                  ('scaler',\n",
       "                                                                   PowerTransformer()),\n",
       "                                                                  ('polynominal_features',\n",
       "                                                                   PolynomialFeatures()),\n",
       "                                                                  ('kmeans',\n",
       "                                                                   MiniKmeansTransformerEncoder())]),\n",
       "                                                  Index(['RevolvingUtilizationOfUnsecuredLines', 'DebtRatio', 'MonthlyIncome'...\n",
       "       'cat_NumberRealEstateLoansOrLines', 'cat_NumberOfTimes90DaysLate',\n",
       "       'cat_NumberOfOpenCreditLinesAndLoans',\n",
       "       'cat_NumberOfTime30-59DaysPastDueNotWorse', 'cat_age'],\n",
       "      dtype='object'))])),\n",
       "                ('reducedim', SelectPercentile(percentile=80)),\n",
       "                ('classifier',\n",
       "                 LGBMClassifier(learning_rate=0.0018069834369607075,\n",
       "                                max_depth=8, metric='auc', min_samples_leaf=47,\n",
       "                                n_estimators=5000, random_state=42,\n",
       "                                subsample=0.8573598985000007))])"
      ]
     },
     "execution_count": 29,
     "metadata": {},
     "output_type": "execute_result"
    }
   ],
   "source": [
    "lgbm_param2={'learning_rate': 0.0018069834369607075,\n",
    "                             'max_depth': 8,\n",
    "                             #'max_features': 4,\n",
    "                             'min_samples_leaf': 47,\n",
    "                             #'min_samples_split': 389,\n",
    "                             'subsample': 0.8573598985000007,\n",
    "                             #'n_iter_no_change': 300,\n",
    "                             'n_estimators': 5000,\n",
    "                            # 'verbose': 0,\n",
    "                             'random_state': 42,\n",
    "                             'metric': 'auc',\n",
    "                            #\"device_type\" : \"gpu\",\n",
    "                            'boosting_type': 'gbdt',\n",
    "                           # 'tree_method': \"gpu_hist\"\n",
    "                           }\n",
    "model_lgbm2 = lgbm.LGBMClassifier(**lgbm_param2,\n",
    "                              # use it  only on gpu\n",
    "                            # rsm=np.nan\n",
    "                              #cat_features=cat_features\n",
    "                             )\n",
    "pipe1_model_lgbm_woe_powertransformer2 = Pipeline(\n",
    "    steps=[\n",
    "        ('preprocessor', preprocessor_woe_powertransformer),\n",
    "         ('reducedim',  SelectPercentile( f_classif, percentile=80)),\n",
    "        # ('dim_red', SelectKBest(f_regression, k=20)),\n",
    "        #('Sparseinteractions', SparseInteractions(degree=2)),\n",
    "         #('PolynomialFeatures', PolynomialFeatures(degree=2)),\n",
    "        #('PCAreducer', PCA(n_components=0.8)),\n",
    "        ('classifier',model_lgbm2)\n",
    "    ]\n",
    ")\n",
    "pipe1_model_lgbm_woe_powertransformer2"
   ]
  },
  {
   "cell_type": "markdown",
   "id": "f74ddeed",
   "metadata": {
    "papermill": {
     "duration": 0.051216,
     "end_time": "2021-12-28T15:53:44.222695",
     "exception": false,
     "start_time": "2021-12-28T15:53:44.171479",
     "status": "completed"
    },
    "tags": []
   },
   "source": [
    "# Test models pipe1  with CV "
   ]
  },
  {
   "cell_type": "code",
   "execution_count": 30,
   "id": "4c474282",
   "metadata": {
    "execution": {
     "iopub.execute_input": "2021-12-28T15:53:44.329802Z",
     "iopub.status.busy": "2021-12-28T15:53:44.329191Z",
     "iopub.status.idle": "2021-12-28T15:53:44.335445Z",
     "shell.execute_reply": "2021-12-28T15:53:44.335921Z"
    },
    "papermill": {
     "duration": 0.061341,
     "end_time": "2021-12-28T15:53:44.336098",
     "exception": false,
     "start_time": "2021-12-28T15:53:44.274757",
     "status": "completed"
    },
    "tags": []
   },
   "outputs": [],
   "source": [
    "def plot_roc(y,y_pred):\n",
    "    from sklearn.metrics import auc\n",
    "    fpr, tpr, thresholds = roc_curve(y_true=y, y_score=y_pred)\n",
    "    auc = auc(fpr, tpr)\n",
    "    plt.figure(1)\n",
    "    plt.plot([0, 1], [0, 1], 'k--')\n",
    "    plt.plot(fpr, tpr, label='Model(area = {:.3f})'.format(auc))\n",
    "    plt.xlabel('False positive rate')\n",
    "    plt.ylabel('True positive rate')\n",
    "    plt.title('ROC curve')\n",
    "    plt.legend(loc='best')\n",
    "    plt.show()"
   ]
  },
  {
   "cell_type": "code",
   "execution_count": 31,
   "id": "daf41fb5",
   "metadata": {
    "execution": {
     "iopub.execute_input": "2021-12-28T15:53:44.443041Z",
     "iopub.status.busy": "2021-12-28T15:53:44.442398Z",
     "iopub.status.idle": "2021-12-28T16:11:50.301994Z",
     "shell.execute_reply": "2021-12-28T16:11:50.301353Z"
    },
    "papermill": {
     "duration": 1085.914108,
     "end_time": "2021-12-28T16:11:50.302135",
     "exception": false,
     "start_time": "2021-12-28T15:53:44.388027",
     "status": "completed"
    },
    "tags": []
   },
   "outputs": [
    {
     "data": {
      "image/png": "[encoded data removed]",
      "text/plain": [
       "<Figure size 576x396 with 1 Axes>"
      ]
     },
     "metadata": {},
     "output_type": "display_data"
    },
    {
     "name": "stdout",
     "output_type": "stream",
     "text": [
      "Fold 0 | AUC: 0.8651773478592585\n",
      "Fold 0 | Avergae_precesion: 0.3997310269638928\n",
      "Fold 0 | recall: 0.18045862412761715\n",
      "Fold 0 | F1: 0.2776073619631902\n",
      "Classification report:\n",
      "               precision    recall  f1-score   support\n",
      "\n",
      "           0       0.94      0.99      0.97     13997\n",
      "           1       0.60      0.18      0.28      1003\n",
      "\n",
      "    accuracy                           0.94     15000\n",
      "   macro avg       0.77      0.59      0.62     15000\n",
      "weighted avg       0.92      0.94      0.92     15000\n",
      "\n",
      "Confusion_matrix:\n",
      " [[13877   120]\n",
      " [  822   181]]\n"
     ]
    },
    {
     "data": {
      "image/png": "[encoded data removed]",
      "text/plain": [
       "<Figure size 576x396 with 1 Axes>"
      ]
     },
     "metadata": {},
     "output_type": "display_data"
    },
    {
     "name": "stdout",
     "output_type": "stream",
     "text": [
      "Fold 1 | AUC: 0.8613730858578085\n",
      "Fold 1 | Avergae_precesion: 0.38619241788068465\n",
      "Fold 1 | recall: 0.193419740777667\n",
      "Fold 1 | F1: 0.28998505231689087\n",
      "Classification report:\n",
      "               precision    recall  f1-score   support\n",
      "\n",
      "           0       0.94      0.99      0.97     13997\n",
      "           1       0.58      0.19      0.29      1003\n",
      "\n",
      "    accuracy                           0.94     15000\n",
      "   macro avg       0.76      0.59      0.63     15000\n",
      "weighted avg       0.92      0.94      0.92     15000\n",
      "\n",
      "Confusion_matrix:\n",
      " [[13856   141]\n",
      " [  809   194]]\n"
     ]
    },
    {
     "data": {
      "image/png": "[encoded data removed]",
      "text/plain": [
       "<Figure size 576x396 with 1 Axes>"
      ]
     },
     "metadata": {},
     "output_type": "display_data"
    },
    {
     "name": "stdout",
     "output_type": "stream",
     "text": [
      "Fold 2 | AUC: 0.8665260915118472\n",
      "Fold 2 | Avergae_precesion: 0.4004482912091185\n",
      "Fold 2 | recall: 0.19441674975074777\n",
      "Fold 2 | F1: 0.2893175074183976\n",
      "Classification report:\n",
      "               precision    recall  f1-score   support\n",
      "\n",
      "           0       0.94      0.99      0.97     13997\n",
      "           1       0.57      0.19      0.29      1003\n",
      "\n",
      "    accuracy                           0.94     15000\n",
      "   macro avg       0.76      0.59      0.63     15000\n",
      "weighted avg       0.92      0.94      0.92     15000\n",
      "\n",
      "Confusion_matrix:\n",
      " [[13847   150]\n",
      " [  808   195]]\n"
     ]
    },
    {
     "data": {
      "image/png": "[encoded data removed]",
      "text/plain": [
       "<Figure size 576x396 with 1 Axes>"
      ]
     },
     "metadata": {},
     "output_type": "display_data"
    },
    {
     "name": "stdout",
     "output_type": "stream",
     "text": [
      "Fold 3 | AUC: 0.8625105607660836\n",
      "Fold 3 | Avergae_precesion: 0.39509823647467956\n",
      "Fold 3 | recall: 0.19242273180458624\n",
      "Fold 3 | F1: 0.2908816880180859\n",
      "Classification report:\n",
      "               precision    recall  f1-score   support\n",
      "\n",
      "           0       0.94      0.99      0.97     13997\n",
      "           1       0.60      0.19      0.29      1003\n",
      "\n",
      "    accuracy                           0.94     15000\n",
      "   macro avg       0.77      0.59      0.63     15000\n",
      "weighted avg       0.92      0.94      0.92     15000\n",
      "\n",
      "Confusion_matrix:\n",
      " [[13866   131]\n",
      " [  810   193]]\n"
     ]
    },
    {
     "data": {
      "image/png": "[encoded data removed]",
      "text/plain": [
       "<Figure size 576x396 with 1 Axes>"
      ]
     },
     "metadata": {},
     "output_type": "display_data"
    },
    {
     "name": "stdout",
     "output_type": "stream",
     "text": [
      "Fold 4 | AUC: 0.866050024535239\n",
      "Fold 4 | Avergae_precesion: 0.39376716400872347\n",
      "Fold 4 | recall: 0.19940179461615154\n",
      "Fold 4 | F1: 0.2971768202080238\n",
      "Classification report:\n",
      "               precision    recall  f1-score   support\n",
      "\n",
      "           0       0.95      0.99      0.97     13997\n",
      "           1       0.58      0.20      0.30      1003\n",
      "\n",
      "    accuracy                           0.94     15000\n",
      "   macro avg       0.76      0.59      0.63     15000\n",
      "weighted avg       0.92      0.94      0.92     15000\n",
      "\n",
      "Confusion_matrix:\n",
      " [[13854   143]\n",
      " [  803   200]]\n"
     ]
    },
    {
     "data": {
      "image/png": "[encoded data removed]",
      "text/plain": [
       "<Figure size 576x396 with 1 Axes>"
      ]
     },
     "metadata": {},
     "output_type": "display_data"
    },
    {
     "name": "stdout",
     "output_type": "stream",
     "text": [
      "Fold 5 | AUC: 0.87168016561874\n",
      "Fold 5 | Avergae_precesion: 0.44171746320709343\n",
      "Fold 5 | recall: 0.20139581256231306\n",
      "Fold 5 | F1: 0.31124807395993837\n",
      "Classification report:\n",
      "               precision    recall  f1-score   support\n",
      "\n",
      "           0       0.95      0.99      0.97     13997\n",
      "           1       0.68      0.20      0.31      1003\n",
      "\n",
      "    accuracy                           0.94     15000\n",
      "   macro avg       0.82      0.60      0.64     15000\n",
      "weighted avg       0.93      0.94      0.92     15000\n",
      "\n",
      "Confusion_matrix:\n",
      " [[13904    93]\n",
      " [  801   202]]\n"
     ]
    },
    {
     "data": {
      "image/png": "[encoded data removed]",
      "text/plain": [
       "<Figure size 576x396 with 1 Axes>"
      ]
     },
     "metadata": {},
     "output_type": "display_data"
    },
    {
     "name": "stdout",
     "output_type": "stream",
     "text": [
      "Fold 6 | AUC: 0.8566785203703181\n",
      "Fold 6 | Avergae_precesion: 0.3604687902895399\n",
      "Fold 6 | recall: 0.1596806387225549\n",
      "Fold 6 | F1: 0.2450229709035222\n",
      "Classification report:\n",
      "               precision    recall  f1-score   support\n",
      "\n",
      "           0       0.94      0.99      0.97     13998\n",
      "           1       0.53      0.16      0.25      1002\n",
      "\n",
      "    accuracy                           0.93     15000\n",
      "   macro avg       0.73      0.57      0.61     15000\n",
      "weighted avg       0.91      0.93      0.92     15000\n",
      "\n",
      "Confusion_matrix:\n",
      " [[13854   144]\n",
      " [  842   160]]\n"
     ]
    },
    {
     "data": {
      "image/png": "[encoded data removed]",
      "text/plain": [
       "<Figure size 576x396 with 1 Axes>"
      ]
     },
     "metadata": {},
     "output_type": "display_data"
    },
    {
     "name": "stdout",
     "output_type": "stream",
     "text": [
      "Fold 7 | AUC: 0.8598476001276487\n",
      "Fold 7 | Avergae_precesion: 0.3936631956139593\n",
      "Fold 7 | recall: 0.20059880239520958\n",
      "Fold 7 | F1: 0.3008982035928144\n",
      "Classification report:\n",
      "               precision    recall  f1-score   support\n",
      "\n",
      "           0       0.95      0.99      0.97     13998\n",
      "           1       0.60      0.20      0.30      1002\n",
      "\n",
      "    accuracy                           0.94     15000\n",
      "   macro avg       0.77      0.60      0.63     15000\n",
      "weighted avg       0.92      0.94      0.92     15000\n",
      "\n",
      "Confusion_matrix:\n",
      " [[13865   133]\n",
      " [  801   201]]\n"
     ]
    },
    {
     "data": {
      "image/png": "[encoded data removed]",
      "text/plain": [
       "<Figure size 576x396 with 1 Axes>"
      ]
     },
     "metadata": {},
     "output_type": "display_data"
    },
    {
     "name": "stdout",
     "output_type": "stream",
     "text": [
      "Fold 8 | AUC: 0.8739850275160496\n",
      "Fold 8 | Avergae_precesion: 0.4470454178040641\n",
      "Fold 8 | recall: 0.1996007984031936\n",
      "Fold 8 | F1: 0.3062787136294028\n",
      "Classification report:\n",
      "               precision    recall  f1-score   support\n",
      "\n",
      "           0       0.95      0.99      0.97     13998\n",
      "           1       0.66      0.20      0.31      1002\n",
      "\n",
      "    accuracy                           0.94     15000\n",
      "   macro avg       0.80      0.60      0.64     15000\n",
      "weighted avg       0.93      0.94      0.92     15000\n",
      "\n",
      "Confusion_matrix:\n",
      " [[13894   104]\n",
      " [  802   200]]\n"
     ]
    },
    {
     "data": {
      "image/png": "[encoded data removed]",
      "text/plain": [
       "<Figure size 576x396 with 1 Axes>"
      ]
     },
     "metadata": {},
     "output_type": "display_data"
    },
    {
     "name": "stdout",
     "output_type": "stream",
     "text": [
      "Fold 9 | AUC: 0.8633975441031068\n",
      "Fold 9 | Avergae_precesion: 0.3777899595311466\n",
      "Fold 9 | recall: 0.16367265469061876\n",
      "Fold 9 | F1: 0.24905087319665906\n",
      "Classification report:\n",
      "               precision    recall  f1-score   support\n",
      "\n",
      "           0       0.94      0.99      0.97     13998\n",
      "           1       0.52      0.16      0.25      1002\n",
      "\n",
      "    accuracy                           0.93     15000\n",
      "   macro avg       0.73      0.58      0.61     15000\n",
      "weighted avg       0.91      0.93      0.92     15000\n",
      "\n",
      "Confusion_matrix:\n",
      " [[13847   151]\n",
      " [  838   164]]\n",
      "--------------------------------------------------------------------------------\n",
      "\n",
      "Overall mean AUC score : 0.86472259682661\n",
      "\n",
      "Overall mean F1 score : 0.28574672652069255\n",
      "\n",
      "Overall mean average precision score : 0.3995921962982902\n",
      "\n",
      "Overall mean recall score : 0.18850683478506594\n",
      "CPU times: user 1h 3min 7s, sys: 1min 51s, total: 1h 4min 58s\n",
      "Wall time: 18min 5s\n"
     ]
    }
   ],
   "source": [
    "%%time \n",
    "# evaluate each strategy on the dataset\n",
    "results = list()\n",
    "# Setting a 10-fold stratified cross-validation (note: shuffle=True)\n",
    "SEED = 42\n",
    "FOLDS = 10\n",
    "skf = StratifiedKFold(n_splits=FOLDS, shuffle=True, random_state=SEED)\n",
    "# CV interations\n",
    "# Create arrays for the features and the response variable\n",
    "roc_auc = list()\n",
    "average_precision = list()\n",
    "#X1=X.iloc[0:2000,:].copy()\n",
    "#y1=y[0:2000].copy()\n",
    "oof = np.empty((X.shape[0],))\n",
    "#oof_bin = np.empty((X.shape[0],))\n",
    "predictions=[]\n",
    "mean_auc = 0\n",
    "mean_ap=0\n",
    "F1 = list()\n",
    "Recall=list()\n",
    "best_iteration = list()\n",
    "for fold, (train_idx, test_idx) in enumerate(skf.split(X, y)):    \n",
    "    X_train, y_train = X.iloc[list(train_idx), :], y.iloc[list(train_idx)]\n",
    "    X_test, y_test = X.iloc[list(test_idx), :],y.iloc[list(test_idx)]\n",
    "    pipe1_model_catboost_woe_powertransformer.fit(X_train,y_train,\n",
    "                                                  #classifier__verbose=False\n",
    "                                                  #,verbose=False\n",
    "                                                 )\n",
    "    preds = pipe1_model_catboost_woe_powertransformer.predict_proba(X_test)[:,1]\n",
    "    oof[test_idx] = preds\n",
    "    auc_score= roc_auc_score(y_true=y_test, y_score=preds)\n",
    "    roc_auc.append(auc_score)\n",
    "    ap=average_precision_score(y_true=y_test, y_score=preds)\n",
    "    plot_roc(y_test,preds)\n",
    "    mean_auc += auc_score / FOLDS\n",
    "    mean_ap+=ap/FOLDS\n",
    "    predictions.append(pipe1_model_catboost_woe_powertransformer.predict_proba(X_test_final)[:,1]) \n",
    "    y_predicted = pipe1_model_catboost_woe_powertransformer.predict(X_test)\n",
    "    recall = recall_score(y_test, y_predicted)\n",
    "    f1= f1_score(y_test, y_predicted)\n",
    "    print(f\"Fold {fold} | AUC: {auc_score}\")\n",
    "    print(f\"Fold {fold} | Avergae_precesion: {ap}\")\n",
    "    print(f\"Fold {fold} | recall: {recall}\")\n",
    "    print(f\"Fold {fold} | F1: {f1}\")\n",
    "    print('Classification report:\\n',classification_report(y_test,y_predicted))\n",
    "    print('Confusion_matrix:\\n',confusion_matrix(y_test,y_predicted))\n",
    "    roc_auc.append(auc_score)\n",
    "    F1.append(f1)\n",
    "    Recall.append(recall)\n",
    "    #Mean of the predictions\n",
    "print('-' * 80)  \n",
    "print(f\"\\nOverall mean AUC score : {mean_auc}\")\n",
    "print(f\"\\nOverall mean F1 score : {np.mean(F1)}\")\n",
    "print(f\"\\nOverall mean average precision score : {mean_ap}\")\n",
    "print(f\"\\nOverall mean recall score : {np.mean(Recall)}\")"
   ]
  },
  {
   "cell_type": "code",
   "execution_count": 32,
   "id": "59e2d164",
   "metadata": {
    "execution": {
     "iopub.execute_input": "2021-12-28T16:11:50.449858Z",
     "iopub.status.busy": "2021-12-28T16:11:50.449025Z",
     "iopub.status.idle": "2021-12-28T16:11:50.452265Z",
     "shell.execute_reply": "2021-12-28T16:11:50.452744Z"
    },
    "papermill": {
     "duration": 0.082349,
     "end_time": "2021-12-28T16:11:50.452908",
     "exception": false,
     "start_time": "2021-12-28T16:11:50.370559",
     "status": "completed"
    },
    "tags": []
   },
   "outputs": [
    {
     "name": "stdout",
     "output_type": "stream",
     "text": [
      "\n",
      "Modified Stlying DataFrame:\n"
     ]
    }
   ],
   "source": [
    "data_results={'model':['m1_hgbc','m2_catboost',\n",
    "               'm3_xgbr','m4_LR',\n",
    "               'm5_RF','m6_lgbm1',\n",
    "              'm7_lgbm2'],\n",
    "'auc' :[ 0.865434044881213,0.8662925048383615, \n",
    "        0.8552429800216585,0.8620132487013733,\n",
    "        0.8638723261807801,0.8649350128689158,\n",
    "       0.8648040512360318],\n",
    "\n",
    "'f1_score' : [0.27931324050967715,0.28917295975957824,\n",
    "              0.2944488401724624,0.25948063132387106,\n",
    "              0.2767006882442805,0.2925125077182382,\n",
    "             0.2944832224347166],\n",
    "\n",
    "'average_precision_score' :[0.4032613815557755,0.4007558117925276,\n",
    "                            0.3727962618723695,0.3818703865043032,\n",
    "                            0.3960003199342976,0.40000554322071746,\n",
    "                           0.40050455934231144]    \n",
    "     }\n",
    "\n",
    "df_results= pd.DataFrame.from_dict(data=data_results\n",
    "                         #,columns=['model','auc','f1_score', 'average_precision_score']\n",
    "                       )\n",
    "# Highlight the Min values in each column\n",
    "print(\"\\nModified Stlying DataFrame:\")\n",
    "#df_results.style.highlight_min(axis=0)"
   ]
  },
  {
   "cell_type": "code",
   "execution_count": 33,
   "id": "cb45e55b",
   "metadata": {
    "execution": {
     "iopub.execute_input": "2021-12-28T16:11:50.597802Z",
     "iopub.status.busy": "2021-12-28T16:11:50.596811Z",
     "iopub.status.idle": "2021-12-28T16:11:50.600176Z",
     "shell.execute_reply": "2021-12-28T16:11:50.599272Z"
    },
    "papermill": {
     "duration": 0.07794,
     "end_time": "2021-12-28T16:11:50.600365",
     "exception": false,
     "start_time": "2021-12-28T16:11:50.522425",
     "status": "completed"
    },
    "tags": []
   },
   "outputs": [],
   "source": [
    "#df_results.style.highlight_max(axis=0)"
   ]
  },
  {
   "cell_type": "code",
   "execution_count": 34,
   "id": "ae18eb72",
   "metadata": {
    "execution": {
     "iopub.execute_input": "2021-12-28T16:11:50.784269Z",
     "iopub.status.busy": "2021-12-28T16:11:50.783454Z",
     "iopub.status.idle": "2021-12-28T16:11:50.788967Z",
     "shell.execute_reply": "2021-12-28T16:11:50.788145Z"
    },
    "papermill": {
     "duration": 0.096728,
     "end_time": "2021-12-28T16:11:50.789122",
     "exception": false,
     "start_time": "2021-12-28T16:11:50.692394",
     "status": "completed"
    },
    "tags": []
   },
   "outputs": [],
   "source": [
    "cm = sns.light_palette(\"blue\", as_cmap=True)\n",
    "\n",
    "#df_results.sort_values(by='auc',ascending=False).style.background_gradient(cmap=cm).highlight_max(axis=0, color='red')"
   ]
  },
  {
   "cell_type": "code",
   "execution_count": 35,
   "id": "9a00fc2e",
   "metadata": {
    "execution": {
     "iopub.execute_input": "2021-12-28T16:11:50.945637Z",
     "iopub.status.busy": "2021-12-28T16:11:50.944758Z",
     "iopub.status.idle": "2021-12-28T16:11:50.947500Z",
     "shell.execute_reply": "2021-12-28T16:11:50.946929Z"
    },
    "papermill": {
     "duration": 0.081292,
     "end_time": "2021-12-28T16:11:50.947663",
     "exception": false,
     "start_time": "2021-12-28T16:11:50.866371",
     "status": "completed"
    },
    "tags": []
   },
   "outputs": [],
   "source": [
    "#df_results.sort_values(by='f1_score',ascending=False).style.background_gradient(cmap=cm).highlight_max(axis=0, color='red')"
   ]
  },
  {
   "cell_type": "code",
   "execution_count": 36,
   "id": "962990ed",
   "metadata": {
    "execution": {
     "iopub.execute_input": "2021-12-28T16:11:51.102789Z",
     "iopub.status.busy": "2021-12-28T16:11:51.102031Z",
     "iopub.status.idle": "2021-12-28T16:11:51.104496Z",
     "shell.execute_reply": "2021-12-28T16:11:51.103910Z"
    },
    "papermill": {
     "duration": 0.081918,
     "end_time": "2021-12-28T16:11:51.104637",
     "exception": false,
     "start_time": "2021-12-28T16:11:51.022719",
     "status": "completed"
    },
    "tags": []
   },
   "outputs": [],
   "source": [
    "#df_results.sort_values(by='average_precision_score',ascending=False).style.background_gradient(cmap=cm)"
   ]
  },
  {
   "cell_type": "code",
   "execution_count": 37,
   "id": "ac2d3bdb",
   "metadata": {
    "execution": {
     "iopub.execute_input": "2021-12-28T16:11:51.251545Z",
     "iopub.status.busy": "2021-12-28T16:11:51.250455Z",
     "iopub.status.idle": "2021-12-28T16:11:51.252450Z",
     "shell.execute_reply": "2021-12-28T16:11:51.253032Z"
    },
    "papermill": {
     "duration": 0.076806,
     "end_time": "2021-12-28T16:11:51.253188",
     "exception": false,
     "start_time": "2021-12-28T16:11:51.176382",
     "status": "completed"
    },
    "tags": []
   },
   "outputs": [],
   "source": [
    "#pipe_lgbm_woe_powertransformer.fit(X,y)\n",
    "#predictions =pipe_lgbm_woe_powertransformer.predict_proba(X_test_final)[:,1]"
   ]
  },
  {
   "cell_type": "code",
   "execution_count": 38,
   "id": "26152984",
   "metadata": {
    "execution": {
     "iopub.execute_input": "2021-12-28T16:11:51.401534Z",
     "iopub.status.busy": "2021-12-28T16:11:51.400682Z",
     "iopub.status.idle": "2021-12-28T16:11:51.412932Z",
     "shell.execute_reply": "2021-12-28T16:11:51.413546Z"
    },
    "papermill": {
     "duration": 0.088697,
     "end_time": "2021-12-28T16:11:51.413729",
     "exception": false,
     "start_time": "2021-12-28T16:11:51.325032",
     "status": "completed"
    },
    "tags": []
   },
   "outputs": [],
   "source": [
    "predictions = np.mean(np.column_stack(predictions), axis=1)"
   ]
  },
  {
   "cell_type": "code",
   "execution_count": 39,
   "id": "8fb453c7",
   "metadata": {
    "execution": {
     "iopub.execute_input": "2021-12-28T16:11:51.567864Z",
     "iopub.status.busy": "2021-12-28T16:11:51.566904Z",
     "iopub.status.idle": "2021-12-28T16:11:52.042632Z",
     "shell.execute_reply": "2021-12-28T16:11:52.041817Z"
    },
    "papermill": {
     "duration": 0.556281,
     "end_time": "2021-12-28T16:11:52.042784",
     "exception": false,
     "start_time": "2021-12-28T16:11:51.486503",
     "status": "completed"
    },
    "tags": []
   },
   "outputs": [
    {
     "data": {
      "text/html": [
       "<div>\n",
       "<style scoped>\n",
       "    .dataframe tbody tr th:only-of-type {\n",
       "        vertical-align: middle;\n",
       "    }\n",
       "\n",
       "    .dataframe tbody tr th {\n",
       "        vertical-align: top;\n",
       "    }\n",
       "\n",
       "    .dataframe thead th {\n",
       "        text-align: right;\n",
       "    }\n",
       "</style>\n",
       "<table border=\"1\" class=\"dataframe\">\n",
       "  <thead>\n",
       "    <tr style=\"text-align: right;\">\n",
       "      <th></th>\n",
       "      <th>Id</th>\n",
       "      <th>Probability</th>\n",
       "    </tr>\n",
       "  </thead>\n",
       "  <tbody>\n",
       "    <tr>\n",
       "      <th>0</th>\n",
       "      <td>1</td>\n",
       "      <td>0.066594</td>\n",
       "    </tr>\n",
       "    <tr>\n",
       "      <th>1</th>\n",
       "      <td>2</td>\n",
       "      <td>0.054134</td>\n",
       "    </tr>\n",
       "    <tr>\n",
       "      <th>2</th>\n",
       "      <td>3</td>\n",
       "      <td>0.012671</td>\n",
       "    </tr>\n",
       "    <tr>\n",
       "      <th>3</th>\n",
       "      <td>4</td>\n",
       "      <td>0.062328</td>\n",
       "    </tr>\n",
       "    <tr>\n",
       "      <th>4</th>\n",
       "      <td>5</td>\n",
       "      <td>0.092330</td>\n",
       "    </tr>\n",
       "    <tr>\n",
       "      <th>...</th>\n",
       "      <td>...</td>\n",
       "      <td>...</td>\n",
       "    </tr>\n",
       "    <tr>\n",
       "      <th>101498</th>\n",
       "      <td>101499</td>\n",
       "      <td>0.031646</td>\n",
       "    </tr>\n",
       "    <tr>\n",
       "      <th>101499</th>\n",
       "      <td>101500</td>\n",
       "      <td>0.294056</td>\n",
       "    </tr>\n",
       "    <tr>\n",
       "      <th>101500</th>\n",
       "      <td>101501</td>\n",
       "      <td>0.007302</td>\n",
       "    </tr>\n",
       "    <tr>\n",
       "      <th>101501</th>\n",
       "      <td>101502</td>\n",
       "      <td>0.098168</td>\n",
       "    </tr>\n",
       "    <tr>\n",
       "      <th>101502</th>\n",
       "      <td>101503</td>\n",
       "      <td>0.049559</td>\n",
       "    </tr>\n",
       "  </tbody>\n",
       "</table>\n",
       "<p>101503 rows × 2 columns</p>\n",
       "</div>"
      ],
      "text/plain": [
       "            Id  Probability\n",
       "0            1     0.066594\n",
       "1            2     0.054134\n",
       "2            3     0.012671\n",
       "3            4     0.062328\n",
       "4            5     0.092330\n",
       "...        ...          ...\n",
       "101498  101499     0.031646\n",
       "101499  101500     0.294056\n",
       "101500  101501     0.007302\n",
       "101501  101502     0.098168\n",
       "101502  101503     0.049559\n",
       "\n",
       "[101503 rows x 2 columns]"
      ]
     },
     "execution_count": 39,
     "metadata": {},
     "output_type": "execute_result"
    }
   ],
   "source": [
    "# Save the predictions to a CSV file\n",
    "sub = pd.read_csv('../input/GiveMeSomeCredit/sampleEntry.csv')\n",
    "sub['Probability']=predictions\n",
    "sub.to_csv('pipe_lgbm_woe_powertransformer_estimator_XGB_CV_onlynum_fe_V3.csv', index=False)\n",
    "sub"
   ]
  },
  {
   "cell_type": "markdown",
   "id": "d5f6dbe2",
   "metadata": {
    "papermill": {
     "duration": 0.070717,
     "end_time": "2021-12-28T16:11:52.257499",
     "exception": false,
     "start_time": "2021-12-28T16:11:52.186782",
     "status": "completed"
    },
    "tags": []
   },
   "source": [
    "# Conclusion: \n",
    "\n",
    "1. A model that meets the requirements and constraints of project stakeholders.\n",
    "1. A model that is sufficiently skillful given the time and resources available.\n",
    "1. A model that is skillful as compared to naive models.\n",
    "1. A model that is skillful relative to other tested models.\n",
    "1. A model that is skillful relative to the state-of-the-art."
   ]
  }
 ],
 "metadata": {
  "kernelspec": {
   "display_name": "Python 3",
   "language": "python",
   "name": "python3"
  },
  "language_info": {
   "codemirror_mode": {
    "name": "ipython",
    "version": 3
   },
   "file_extension": ".py",
   "mimetype": "text/x-python",
   "name": "python",
   "nbconvert_exporter": "python",
   "pygments_lexer": "ipython3",
   "version": "3.7.12"
  },
  "papermill": {
   "default_parameters": {},
   "duration": 3598.381193,
   "end_time": "2021-12-28T16:11:53.245540",
   "environment_variables": {},
   "exception": null,
   "input_path": "__notebook__.ipynb",
   "output_path": "__notebook__.ipynb",
   "parameters": {},
   "start_time": "2021-12-28T15:11:54.864347",
   "version": "2.3.3"
  }
 },
 "nbformat": 4,
 "nbformat_minor": 5
}
